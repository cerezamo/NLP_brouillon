{
  "nbformat": 4,
  "nbformat_minor": 0,
  "metadata": {
    "colab": {
      "name": "Untitled6.ipynb",
      "provenance": [],
      "collapsed_sections": [],
      "toc_visible": true,
      "machine_shape": "hm",
      "authorship_tag": "ABX9TyNzEJC1yEFqLR0LXwl8pkAN",
      "include_colab_link": true
    },
    "kernelspec": {
      "name": "python3",
      "display_name": "Python 3"
    },
    "accelerator": "GPU"
  },
  "cells": [
    {
      "cell_type": "markdown",
      "metadata": {
        "id": "view-in-github",
        "colab_type": "text"
      },
      "source": [
        "<a href=\"https://colab.research.google.com/github/cerezamo/NLP_brouillon/blob/master/Camembert_clean.ipynb\" target=\"_parent\"><img src=\"https://colab.research.google.com/assets/colab-badge.svg\" alt=\"Open In Colab\"/></a>"
      ]
    },
    {
      "cell_type": "markdown",
      "metadata": {
        "id": "kcxLW3uyHTSN",
        "colab_type": "text"
      },
      "source": [
        "# BERT classification model "
      ]
    },
    {
      "cell_type": "code",
      "metadata": {
        "id": "H1JD-Tb0HdvN",
        "colab_type": "code",
        "outputId": "58a4c9c9-20b8-4982-b6ff-b33e6cab8e62",
        "colab": {
          "base_uri": "https://localhost:8080/",
          "height": 34
        }
      },
      "source": [
        "import spacy \n",
        "import numpy as np \n",
        "import pandas as pd \n",
        "import os \n",
        "os.getcwd()\n",
        "from google.colab import drive \n",
        "drive.mount('/content/gdrive')"
      ],
      "execution_count": 293,
      "outputs": [
        {
          "output_type": "stream",
          "text": [
            "Drive already mounted at /content/gdrive; to attempt to forcibly remount, call drive.mount(\"/content/gdrive\", force_remount=True).\n"
          ],
          "name": "stdout"
        }
      ]
    },
    {
      "cell_type": "markdown",
      "metadata": {
        "id": "8bxA1IEgH-GI",
        "colab_type": "text"
      },
      "source": [
        "### Set up Colab GPU "
      ]
    },
    {
      "cell_type": "code",
      "metadata": {
        "id": "2mF6Hs6yH2A5",
        "colab_type": "code",
        "outputId": "15f3209a-f65b-4461-ba6c-eae88d9b5498",
        "colab": {
          "base_uri": "https://localhost:8080/",
          "height": 34
        }
      },
      "source": [
        "# First you should go in 'Edit' -> 'Notebook settings' -> Add device GPU\n",
        "import tensorflow as tf\n",
        "\n",
        "# GPU device name.\n",
        "device_name = tf.test.gpu_device_name()\n",
        "device_name"
      ],
      "execution_count": 294,
      "outputs": [
        {
          "output_type": "execute_result",
          "data": {
            "text/plain": [
              "'/device:GPU:0'"
            ]
          },
          "metadata": {
            "tags": []
          },
          "execution_count": 294
        }
      ]
    },
    {
      "cell_type": "markdown",
      "metadata": {
        "id": "VZ_F6NV3IaCY",
        "colab_type": "text"
      },
      "source": [
        "Let's now tell torch that one GPU is available "
      ]
    },
    {
      "cell_type": "code",
      "metadata": {
        "id": "wr4fjemjIVoQ",
        "colab_type": "code",
        "outputId": "e2b73099-364e-4740-fe75-1c5a61b324c6",
        "colab": {
          "base_uri": "https://localhost:8080/",
          "height": 51
        }
      },
      "source": [
        "import torch\n",
        "\n",
        "if torch.cuda.is_available():  \n",
        "        \n",
        "    device = torch.device(\"cuda\")\n",
        "\n",
        "    print('There are %d GPU(s) available.' % torch.cuda.device_count())\n",
        "\n",
        "    print('We will use the GPU:', torch.cuda.get_device_name(0))\n",
        "\n",
        "# If not...\n",
        "else:\n",
        "    print('No GPU available, using the CPU instead.')\n",
        "    device = torch.device(\"cpu\")"
      ],
      "execution_count": 295,
      "outputs": [
        {
          "output_type": "stream",
          "text": [
            "There are 1 GPU(s) available.\n",
            "We will use the GPU: Tesla P100-PCIE-16GB\n"
          ],
          "name": "stdout"
        }
      ]
    },
    {
      "cell_type": "markdown",
      "metadata": {
        "id": "ZGwjFzizIsMI",
        "colab_type": "text"
      },
      "source": [
        "Let's install the Hugging Face Library transformer package "
      ]
    },
    {
      "cell_type": "code",
      "metadata": {
        "id": "--g7cokfIrpT",
        "colab_type": "code",
        "outputId": "d6df388f-ce3e-4c5b-be85-c1df4f7bb76b",
        "colab": {
          "base_uri": "https://localhost:8080/",
          "height": 391
        }
      },
      "source": [
        "! pip install transformers "
      ],
      "execution_count": 296,
      "outputs": [
        {
          "output_type": "stream",
          "text": [
            "Requirement already satisfied: transformers in /usr/local/lib/python3.6/dist-packages (2.6.0)\n",
            "Requirement already satisfied: requests in /usr/local/lib/python3.6/dist-packages (from transformers) (2.21.0)\n",
            "Requirement already satisfied: regex!=2019.12.17 in /usr/local/lib/python3.6/dist-packages (from transformers) (2019.12.20)\n",
            "Requirement already satisfied: sentencepiece in /usr/local/lib/python3.6/dist-packages (from transformers) (0.1.85)\n",
            "Requirement already satisfied: numpy in /usr/local/lib/python3.6/dist-packages (from transformers) (1.18.2)\n",
            "Requirement already satisfied: filelock in /usr/local/lib/python3.6/dist-packages (from transformers) (3.0.12)\n",
            "Requirement already satisfied: tokenizers==0.5.2 in /usr/local/lib/python3.6/dist-packages (from transformers) (0.5.2)\n",
            "Requirement already satisfied: sacremoses in /usr/local/lib/python3.6/dist-packages (from transformers) (0.0.38)\n",
            "Requirement already satisfied: tqdm>=4.27 in /usr/local/lib/python3.6/dist-packages (from transformers) (4.38.0)\n",
            "Requirement already satisfied: boto3 in /usr/local/lib/python3.6/dist-packages (from transformers) (1.12.27)\n",
            "Requirement already satisfied: urllib3<1.25,>=1.21.1 in /usr/local/lib/python3.6/dist-packages (from requests->transformers) (1.24.3)\n",
            "Requirement already satisfied: idna<2.9,>=2.5 in /usr/local/lib/python3.6/dist-packages (from requests->transformers) (2.8)\n",
            "Requirement already satisfied: chardet<3.1.0,>=3.0.2 in /usr/local/lib/python3.6/dist-packages (from requests->transformers) (3.0.4)\n",
            "Requirement already satisfied: certifi>=2017.4.17 in /usr/local/lib/python3.6/dist-packages (from requests->transformers) (2019.11.28)\n",
            "Requirement already satisfied: joblib in /usr/local/lib/python3.6/dist-packages (from sacremoses->transformers) (0.14.1)\n",
            "Requirement already satisfied: six in /usr/local/lib/python3.6/dist-packages (from sacremoses->transformers) (1.12.0)\n",
            "Requirement already satisfied: click in /usr/local/lib/python3.6/dist-packages (from sacremoses->transformers) (7.1.1)\n",
            "Requirement already satisfied: botocore<1.16.0,>=1.15.27 in /usr/local/lib/python3.6/dist-packages (from boto3->transformers) (1.15.27)\n",
            "Requirement already satisfied: jmespath<1.0.0,>=0.7.1 in /usr/local/lib/python3.6/dist-packages (from boto3->transformers) (0.9.5)\n",
            "Requirement already satisfied: s3transfer<0.4.0,>=0.3.0 in /usr/local/lib/python3.6/dist-packages (from boto3->transformers) (0.3.3)\n",
            "Requirement already satisfied: python-dateutil<3.0.0,>=2.1 in /usr/local/lib/python3.6/dist-packages (from botocore<1.16.0,>=1.15.27->boto3->transformers) (2.8.1)\n",
            "Requirement already satisfied: docutils<0.16,>=0.10 in /usr/local/lib/python3.6/dist-packages (from botocore<1.16.0,>=1.15.27->boto3->transformers) (0.15.2)\n"
          ],
          "name": "stdout"
        }
      ]
    },
    {
      "cell_type": "markdown",
      "metadata": {
        "id": "W4OKq8Z4JId9",
        "colab_type": "text"
      },
      "source": [
        "### Loading our corpus and preprocessing "
      ]
    },
    {
      "cell_type": "code",
      "metadata": {
        "id": "aOCVLtje9_Rs",
        "colab_type": "code",
        "colab": {}
      },
      "source": [
        "import pandas as pd\n",
        "# Import medium_df_desq in \"files\"\n",
        "# Load the dataset into a pandas dataframe.\n",
        "df=pd.read_csv('medium_df_deseq.csv',encoding='utf-8')\n",
        "\n",
        "# We replace the labels in a more normalized way : 0=men, 1=women \n",
        "df.sexe=df.sexe.replace(1,0)\n",
        "df.sexe=df.sexe.replace(2,1)"
      ],
      "execution_count": 0,
      "outputs": []
    },
    {
      "cell_type": "markdown",
      "metadata": {
        "id": "N0FNej5emFx8",
        "colab_type": "text"
      },
      "source": [
        "**CHOOSE ONE OF THE OPTIONS BELOW**\n",
        "\n"
      ]
    },
    {
      "cell_type": "markdown",
      "metadata": {
        "id": "BGRDpDKe9_j-",
        "colab_type": "text"
      },
      "source": [
        "1. Unbalanced sample \n"
      ]
    },
    {
      "cell_type": "code",
      "metadata": {
        "id": "V3Gl1QBWAlTn",
        "colab_type": "code",
        "colab": {
          "base_uri": "https://localhost:8080/",
          "height": 238
        },
        "outputId": "b5fe9123-dc32-4643-9d83-87db5e4d2d2b"
      },
      "source": [
        "\n",
        "#Shuffle the data \n",
        "df=df.sample(frac=1).reset_index()\n",
        "\n",
        "# Reduce to the variables we are interested in \n",
        "df=df[['Texte','sexe']]\n",
        "\n",
        "# Report the number of speeches in the corpus.\n",
        "print('Number of text in this corpus : {:,}\\n'.format(df.shape[0]))\n",
        "\n",
        "df.head(5)"
      ],
      "execution_count": 290,
      "outputs": [
        {
          "output_type": "stream",
          "text": [
            "Number of text in this corpus : 5,000\n",
            "\n"
          ],
          "name": "stdout"
        },
        {
          "output_type": "execute_result",
          "data": {
            "text/html": [
              "<div>\n",
              "<style scoped>\n",
              "    .dataframe tbody tr th:only-of-type {\n",
              "        vertical-align: middle;\n",
              "    }\n",
              "\n",
              "    .dataframe tbody tr th {\n",
              "        vertical-align: top;\n",
              "    }\n",
              "\n",
              "    .dataframe thead th {\n",
              "        text-align: right;\n",
              "    }\n",
              "</style>\n",
              "<table border=\"1\" class=\"dataframe\">\n",
              "  <thead>\n",
              "    <tr style=\"text-align: right;\">\n",
              "      <th></th>\n",
              "      <th>Texte</th>\n",
              "      <th>sexe</th>\n",
              "    </tr>\n",
              "  </thead>\n",
              "  <tbody>\n",
              "    <tr>\n",
              "      <th>0</th>\n",
              "      <td>Mesdames et Messieurs les parlementaires, Mesd...</td>\n",
              "      <td>0</td>\n",
              "    </tr>\n",
              "    <tr>\n",
              "      <th>1</th>\n",
              "      <td>Mes amis, vous êtes une foule immense sur la p...</td>\n",
              "      <td>0</td>\n",
              "    </tr>\n",
              "    <tr>\n",
              "      <th>2</th>\n",
              "      <td>Ce n'est pas nouveau : la droite accorde, en p...</td>\n",
              "      <td>0</td>\n",
              "    </tr>\n",
              "    <tr>\n",
              "      <th>3</th>\n",
              "      <td>Madame la Ministre, Mon Général, Monsieur le D...</td>\n",
              "      <td>0</td>\n",
              "    </tr>\n",
              "    <tr>\n",
              "      <th>4</th>\n",
              "      <td>Mesdames, Messieurs,Chers amis,Si la professio...</td>\n",
              "      <td>0</td>\n",
              "    </tr>\n",
              "  </tbody>\n",
              "</table>\n",
              "</div>"
            ],
            "text/plain": [
              "                                               Texte  sexe\n",
              "0  Mesdames et Messieurs les parlementaires, Mesd...     0\n",
              "1  Mes amis, vous êtes une foule immense sur la p...     0\n",
              "2  Ce n'est pas nouveau : la droite accorde, en p...     0\n",
              "3  Madame la Ministre, Mon Général, Monsieur le D...     0\n",
              "4  Mesdames, Messieurs,Chers amis,Si la professio...     0"
            ]
          },
          "metadata": {
            "tags": []
          },
          "execution_count": 290
        }
      ]
    },
    {
      "cell_type": "markdown",
      "metadata": {
        "id": "xrqgCPYFApFQ",
        "colab_type": "text"
      },
      "source": [
        "2. Balanced sample"
      ]
    },
    {
      "cell_type": "code",
      "metadata": {
        "id": "eOIKxWaXHPVB",
        "colab_type": "code",
        "outputId": "81da67e7-3136-4a74-e894-25623a0a54ac",
        "colab": {
          "base_uri": "https://localhost:8080/",
          "height": 238
        }
      },
      "source": [
        "# Let's take a balanced sample (model classifying all in men otherwise)\n",
        "df_m = df.loc[df['sexe'] == 0]\n",
        "df_f = df.loc[df['sexe'] == 1] \n",
        "df_m = df_m[0:len(df_f)]\n",
        "df = df_f.append(df_m)\n",
        "\n",
        "#Shuffle the data \n",
        "df=df.sample(frac=1).reset_index()\n",
        "\n",
        "# Reduce to the variables we are interested in \n",
        "df=df[['Texte','sexe']]\n",
        "\n",
        "# Report the number of speeches in the corpus.\n",
        "print('Number of text in this corpus : {:,}\\n'.format(df.shape[0]))\n",
        "\n",
        "df.head(5)"
      ],
      "execution_count": 291,
      "outputs": [
        {
          "output_type": "stream",
          "text": [
            "Number of text in this corpus : 2,500\n",
            "\n"
          ],
          "name": "stdout"
        },
        {
          "output_type": "execute_result",
          "data": {
            "text/html": [
              "<div>\n",
              "<style scoped>\n",
              "    .dataframe tbody tr th:only-of-type {\n",
              "        vertical-align: middle;\n",
              "    }\n",
              "\n",
              "    .dataframe tbody tr th {\n",
              "        vertical-align: top;\n",
              "    }\n",
              "\n",
              "    .dataframe thead th {\n",
              "        text-align: right;\n",
              "    }\n",
              "</style>\n",
              "<table border=\"1\" class=\"dataframe\">\n",
              "  <thead>\n",
              "    <tr style=\"text-align: right;\">\n",
              "      <th></th>\n",
              "      <th>Texte</th>\n",
              "      <th>sexe</th>\n",
              "    </tr>\n",
              "  </thead>\n",
              "  <tbody>\n",
              "    <tr>\n",
              "      <th>0</th>\n",
              "      <td>Monsieur le Président,Madame,C'est un honneur ...</td>\n",
              "      <td>0</td>\n",
              "    </tr>\n",
              "    <tr>\n",
              "      <th>1</th>\n",
              "      <td>Messieurs les élus,Monsieur le président du co...</td>\n",
              "      <td>0</td>\n",
              "    </tr>\n",
              "    <tr>\n",
              "      <th>2</th>\n",
              "      <td>Madame l'Ambassadeur,Monsieur le Consul généra...</td>\n",
              "      <td>1</td>\n",
              "    </tr>\n",
              "    <tr>\n",
              "      <th>3</th>\n",
              "      <td>Madame la ministre, chère Ericka BAREIGTS, Mad...</td>\n",
              "      <td>0</td>\n",
              "    </tr>\n",
              "    <tr>\n",
              "      <th>4</th>\n",
              "      <td>Je voulais d'abord remercier Angela MERKEL et ...</td>\n",
              "      <td>0</td>\n",
              "    </tr>\n",
              "  </tbody>\n",
              "</table>\n",
              "</div>"
            ],
            "text/plain": [
              "                                               Texte  sexe\n",
              "0  Monsieur le Président,Madame,C'est un honneur ...     0\n",
              "1  Messieurs les élus,Monsieur le président du co...     0\n",
              "2  Madame l'Ambassadeur,Monsieur le Consul généra...     1\n",
              "3  Madame la ministre, chère Ericka BAREIGTS, Mad...     0\n",
              "4  Je voulais d'abord remercier Angela MERKEL et ...     0"
            ]
          },
          "metadata": {
            "tags": []
          },
          "execution_count": 291
        }
      ]
    },
    {
      "cell_type": "markdown",
      "metadata": {
        "id": "0lNHgnNbAsoq",
        "colab_type": "text"
      },
      "source": [
        "3. Spliting texts in order to feed the model with all parts "
      ]
    },
    {
      "cell_type": "code",
      "metadata": {
        "id": "x2JmisLKH2L8",
        "colab_type": "code",
        "colab": {
          "base_uri": "https://localhost:8080/",
          "height": 238
        },
        "outputId": "39ad5e0e-c4d2-4728-b60c-90f639798d61"
      },
      "source": [
        "from itertools import repeat\n",
        "n=2500\n",
        "chunks, label_split=[],[]\n",
        "j=0\n",
        "for text in df.Texte :\n",
        "    txt=[text[i:i+n] for i in range(0, len(text), n)]\n",
        "    chunks.append(txt)\n",
        "    label_split.extend(repeat(df.sexe[j], len(txt)))\n",
        "    j+=1\n",
        "\n",
        "chunks = [item for sublist in chunks for item in sublist]\n",
        "df=pd.DataFrame([chunks,label_split]).transpose()\n",
        "df.columns=['Texte','sexe']\n",
        "len(df)\n",
        "\n",
        "# Let's take a balanced sample (model classifying all in men otherwise)\n",
        "df_m = df.loc[df['sexe'] == 0]\n",
        "df_f = df.loc[df['sexe'] == 1] \n",
        "df_m = df_m[0:len(df_f)]\n",
        "df = df_f.append(df_m)\n",
        "\n",
        "#Shuffle the data \n",
        "df=df.sample(frac=0.5).reset_index()\n",
        "\n",
        "# Reduce to the variables we are interested in \n",
        "df=df[['Texte','sexe']]\n",
        "\n",
        "# Put as integer \n",
        "df['sexe'] = df['sexe'].astype(int)\n",
        "\n",
        "# Report the number of speeches in the corpus.\n",
        "print('Number of text in this corpus : {:,}\\n'.format(df.shape[0]))\n",
        "\n",
        "df.head(5)\n",
        "\n",
        "# In this case we will cut the sample \n"
      ],
      "execution_count": 298,
      "outputs": [
        {
          "output_type": "stream",
          "text": [
            "Number of text in this corpus : 6,500\n",
            "\n"
          ],
          "name": "stdout"
        },
        {
          "output_type": "execute_result",
          "data": {
            "text/html": [
              "<div>\n",
              "<style scoped>\n",
              "    .dataframe tbody tr th:only-of-type {\n",
              "        vertical-align: middle;\n",
              "    }\n",
              "\n",
              "    .dataframe tbody tr th {\n",
              "        vertical-align: top;\n",
              "    }\n",
              "\n",
              "    .dataframe thead th {\n",
              "        text-align: right;\n",
              "    }\n",
              "</style>\n",
              "<table border=\"1\" class=\"dataframe\">\n",
              "  <thead>\n",
              "    <tr style=\"text-align: right;\">\n",
              "      <th></th>\n",
              "      <th>Texte</th>\n",
              "      <th>sexe</th>\n",
              "    </tr>\n",
              "  </thead>\n",
              "  <tbody>\n",
              "    <tr>\n",
              "      <th>0</th>\n",
              "      <td>t celui du changement. François l'a dit, Marti...</td>\n",
              "      <td>1</td>\n",
              "    </tr>\n",
              "    <tr>\n",
              "      <th>1</th>\n",
              "      <td>r les territoires et leur mise en synergie par...</td>\n",
              "      <td>1</td>\n",
              "    </tr>\n",
              "    <tr>\n",
              "      <th>2</th>\n",
              "      <td>in du mois se limite à hauteur d'un loyer clas...</td>\n",
              "      <td>1</td>\n",
              "    </tr>\n",
              "    <tr>\n",
              "      <th>3</th>\n",
              "      <td>urité, - après rapport du ministre de l'intéri...</td>\n",
              "      <td>0</td>\n",
              "    </tr>\n",
              "    <tr>\n",
              "      <th>4</th>\n",
              "      <td>Monsieur le Vice-Président,Mesdames et Messieu...</td>\n",
              "      <td>0</td>\n",
              "    </tr>\n",
              "  </tbody>\n",
              "</table>\n",
              "</div>"
            ],
            "text/plain": [
              "                                               Texte  sexe\n",
              "0  t celui du changement. François l'a dit, Marti...     1\n",
              "1  r les territoires et leur mise en synergie par...     1\n",
              "2  in du mois se limite à hauteur d'un loyer clas...     1\n",
              "3  urité, - après rapport du ministre de l'intéri...     0\n",
              "4  Monsieur le Vice-Président,Mesdames et Messieu...     0"
            ]
          },
          "metadata": {
            "tags": []
          },
          "execution_count": 298
        }
      ]
    },
    {
      "cell_type": "markdown",
      "metadata": {
        "id": "ressz8h6OHxn",
        "colab_type": "text"
      },
      "source": [
        "#### Tokenization of our text and preparing to feed CamemBERT"
      ]
    },
    {
      "cell_type": "markdown",
      "metadata": {
        "id": "ntpzo9X5SSjA",
        "colab_type": "text"
      },
      "source": [
        "#### Loading the Camembert Tokenizer"
      ]
    },
    {
      "cell_type": "code",
      "metadata": {
        "id": "cDafeOtBg9T5",
        "colab_type": "code",
        "colab": {}
      },
      "source": [
        "from sklearn.model_selection import train_test_split\n",
        "\n",
        "model, dev = train_test_split(df, test_size=0.02)\n",
        "\n",
        "df= model\n",
        "df_dev= dev"
      ],
      "execution_count": 0,
      "outputs": []
    },
    {
      "cell_type": "code",
      "metadata": {
        "id": "_gXJZbQHl9Is",
        "colab_type": "code",
        "colab": {
          "base_uri": "https://localhost:8080/",
          "height": 34
        },
        "outputId": "5fb54245-75fa-4c5b-f318-e159a38bde50"
      },
      "source": [
        "len(df_dev)"
      ],
      "execution_count": 300,
      "outputs": [
        {
          "output_type": "execute_result",
          "data": {
            "text/plain": [
              "130"
            ]
          },
          "metadata": {
            "tags": []
          },
          "execution_count": 300
        }
      ]
    },
    {
      "cell_type": "code",
      "metadata": {
        "id": "Zbgs39TYNqRh",
        "colab_type": "code",
        "colab": {}
      },
      "source": [
        "# Import Camembert tokenizer\n",
        "from transformers import CamembertTokenizer\n",
        "# We choose a right padding side for the moment and we will test for a left padding side on a second stage\n",
        "tokenizer = CamembertTokenizer.from_pretrained('camembert-base', do_lower_case=False,padding_side='right') #left\n"
      ],
      "execution_count": 0,
      "outputs": []
    },
    {
      "cell_type": "code",
      "metadata": {
        "id": "08yLt5edOhL3",
        "colab_type": "code",
        "outputId": "3b92e5e3-b57f-434e-d6d2-78a0208f1691",
        "colab": {
          "base_uri": "https://localhost:8080/",
          "height": 88
        }
      },
      "source": [
        "# Print the original text.\n",
        "print(' Original: ', df.Texte[0])\n",
        "\n",
        "# Print the text split into tokens.\n",
        "print('Tokenized: ', tokenizer.tokenize(df.Texte[0]))\n",
        "\n",
        "# Print the text mapped to token ids.\n",
        "print('Token IDs: ', tokenizer.convert_tokens_to_ids(tokenizer.tokenize(df.Texte[0])))"
      ],
      "execution_count": 302,
      "outputs": [
        {
          "output_type": "stream",
          "text": [
            " Original:  t celui du changement. François l'a dit, Martin et Henri également...Ceux qui me questionnent me disent : vous faites du 7 juin une sanction contre Nicolas Sarkozy.Nous faisons une sanction contre le libéralisme de Nicolas Sarkozy.Il proposait que les Français s'endettent plus avec des crédits hypothécaires, et nous traitait d'archaïques.Il n'a eu de cesse de nous dire que toutes les protections empêchaient l'initiative. Et nous disait qu'il allait arracher la croissance avec les dents. C'est l'inverse qu'il a fait car il a apporté à ceux qui avaient déjà tout, mais ne crée pas une société qui crée de la croissance et du développement.Nous voulons effectivement sanctionner cette crise financière.C'est dès le début de l'année dernière que nous étions déjà en récession, que le pouvoir d'achat baissait et que le chômage commençait à augmenter. On peut dire que Nicolas Sarkozy avait réussi à anticiper la crise par la politique libérale qu'il a menée dans notre pays. C'est cela qu'il faut changer.La situation est grave. Nous sentons monter dans notre pays une colère. Une colère contre un homme qui a fait tant de promesse et n'a rien respecté. Rappelez-vous comment il a réussi à faire croire aux classes populaires qu'il serait le président du pouvoir d'achat. Comment il a dit que les personnes pourraient gagner plus en faisant des heures supplémentaires.Et la France des propriétaires, où il n'a donné des avantages qu'à ceux qui étaient déjà propriétaires.La France des droits de l'homme. Quand on voit M. Besson nous donner des leçons sur l'immigration. Nous ne sommes pas d'accord pour que des personnes soient poursuivies pour délit de solidarité.Alors, la colère monte aussi parce que l'impression qu'ont les Français aujourd'hui, c'est que le président de la République a décidé de continuer sur sa ligne. Nous étions 1 million en janvier dans les rues, 3 millions en mars, et au 1er mai, 5 fois plus que les autres années, et une unité syndicale qu'il n'y avait pas eue depuis 1947.Malgré tout ça, Nicolas Sarkozy persiste et signe.C'est vrai qu'il ne reste pas sans parler, il s'agite beaucoup, il parle surtout beaucoup. Ceux qui se souviendront du discours de Toulon, celui qu'il a fait quand la crise a commencé, où il disait qu'on allait dénoncer les patrons voyous !Puis depuis, nous en avons su beaucoup plus. Il nous a dit, à quatre reprises au moins, et je crois même que les banquiers ont fini par le croire. Il a dit : je vais faire voter une loi (il aime beaucoup f\n",
            "Tokenized:  ['▁t', '▁celui', '▁du', '▁changement', '.', '▁François', '▁l', \"'\", 'a', '▁dit', ',', '▁Martin', '▁et', '▁Henri', '▁également', '...', 'C', 'eux', '▁qui', '▁me', '▁question', 'nent', '▁me', '▁disent', '▁:', '▁vous', '▁faites', '▁du', '▁7', '▁juin', '▁une', '▁sanction', '▁contre', '▁Nicolas', '▁Sarkozy', '.', 'Nous', '▁faisons', '▁une', '▁sanction', '▁contre', '▁le', '▁libéralisme', '▁de', '▁Nicolas', '▁Sarkozy', '.', 'Il', '▁proposait', '▁que', '▁les', '▁Français', '▁s', \"'\", 'end', 'ette', 'nt', '▁plus', '▁avec', '▁des', '▁crédits', '▁hypothécaire', 's', ',', '▁et', '▁nous', '▁trait', 'ait', '▁d', \"'\", 'arch', 'aï', 'ques', '.', 'Il', '▁n', \"'\", 'a', '▁eu', '▁de', '▁cesse', '▁de', '▁nous', '▁dire', '▁que', '▁toutes', '▁les', '▁protection', 's', '▁emp', 'êch', 'aient', '▁l', \"'\", 'initiative', '.', '▁Et', '▁nous', '▁disait', '▁qu', \"'\", 'il', '▁allait', '▁arracher', '▁la', '▁croissance', '▁avec', '▁les', '▁dents', '.', '▁C', \"'\", 'est', '▁l', \"'\", 'inverse', '▁qu', \"'\", 'il', '▁a', '▁fait', '▁car', '▁il', '▁a', '▁apporté', '▁à', '▁ceux', '▁qui', '▁avaient', '▁déjà', '▁tout', ',', '▁mais', '▁ne', '▁crée', '▁pas', '▁une', '▁société', '▁qui', '▁crée', '▁de', '▁la', '▁croissance', '▁et', '▁du', '▁développement', '.', 'Nous', '▁voulons', '▁effectivement', '▁sanctionner', '▁cette', '▁crise', '▁financière', '.', 'C', \"'\", 'est', '▁dès', '▁le', '▁début', '▁de', '▁l', \"'\", 'année', '▁dernière', '▁que', '▁nous', '▁étions', '▁déjà', '▁en', '▁récession', ',', '▁que', '▁le', '▁pouvoir', '▁d', \"'\", 'achat', '▁baissa', 'it', '▁et', '▁que', '▁le', '▁chômage', '▁commençait', '▁à', '▁augmenter', '.', '▁On', '▁peut', '▁dire', '▁que', '▁Nicolas', '▁Sarkozy', '▁avait', '▁réussi', '▁à', '▁anticiper', '▁la', '▁crise', '▁par', '▁la', '▁politique', '▁libérale', '▁qu', \"'\", 'il', '▁a', '▁menée', '▁dans', '▁notre', '▁pays', '.', '▁C', \"'\", 'est', '▁cela', '▁qu', \"'\", 'il', '▁faut', '▁changer', '.', 'La', '▁situation', '▁est', '▁grave', '.', '▁Nous', '▁sent', 'ons', '▁monter', '▁dans', '▁notre', '▁pays', '▁une', '▁colère', '.', '▁Une', '▁colère', '▁contre', '▁un', '▁homme', '▁qui', '▁a', '▁fait', '▁tant', '▁de', '▁promesse', '▁et', '▁n', \"'\", 'a', '▁rien', '▁respecté', '.', '▁Rappelez', '-', 'vous', '▁comment', '▁il', '▁a', '▁réussi', '▁à', '▁faire', '▁croire', '▁aux', '▁classes', '▁populaires', '▁qu', \"'\", 'il', '▁serait', '▁le', '▁président', '▁du', '▁pouvoir', '▁d', \"'\", 'achat', '.', '▁Comment', '▁il', '▁a', '▁dit', '▁que', '▁les', '▁personnes', '▁pourraient', '▁gagner', '▁plus', '▁en', '▁faisant', '▁des', '▁heures', '▁supplémentaires', '.', 'Et', '▁la', '▁France', '▁des', '▁propriétaires', ',', '▁où', '▁il', '▁n', \"'\", 'a', '▁donné', '▁des', '▁avantages', '▁qu', \"'\", 'à', '▁ceux', '▁qui', '▁étaient', '▁déjà', '▁propriétaires', '.', 'La', '▁France', '▁des', '▁droits', '▁de', '▁l', \"'\", 'homme', '.', '▁Quand', '▁on', '▁voit', '▁M', '.', '▁Besson', '▁nous', '▁donner', '▁des', '▁leçons', '▁sur', '▁l', \"'\", 'immigration', '.', '▁Nous', '▁ne', '▁sommes', '▁pas', '▁d', \"'\", 'accord', '▁pour', '▁que', '▁des', '▁personnes', '▁soient', '▁poursuivie', 's', '▁pour', '▁délit', '▁de', '▁solidarité', '.', 'Alors', ',', '▁la', '▁colère', '▁monte', '▁aussi', '▁parce', '▁que', '▁l', \"'\", 'impression', '▁qu', \"'\", 'ont', '▁les', '▁Français', '▁aujourd', \"'\", 'hui', ',', '▁c', \"'\", 'est', '▁que', '▁le', '▁président', '▁de', '▁la', '▁République', '▁a', '▁décidé', '▁de', '▁continuer', '▁sur', '▁sa', '▁ligne', '.', '▁Nous', '▁étions', '▁1', '▁million', '▁en', '▁janvier', '▁dans', '▁les', '▁rues', ',', '▁3', '▁millions', '▁en', '▁mars', ',', '▁et', '▁au', '▁1', 'er', '▁mai', ',', '▁5', '▁fois', '▁plus', '▁que', '▁les', '▁autres', '▁années', ',', '▁et', '▁une', '▁unité', '▁syndicale', '▁qu', \"'\", 'il', '▁n', \"'\", 'y', '▁avait', '▁pas', '▁eu', 'e', '▁depuis', '▁1947', '.', 'Mal', 'gré', '▁tout', '▁ça', ',', '▁Nicolas', '▁Sarkozy', '▁persiste', '▁et', '▁signe', '.', 'C', \"'\", 'est', '▁vrai', '▁qu', \"'\", 'il', '▁ne', '▁reste', '▁pas', '▁sans', '▁parler', ',', '▁il', '▁s', \"'\", 'agit', 'e', '▁beaucoup', ',', '▁il', '▁parle', '▁surtout', '▁beaucoup', '.', '▁Ceux', '▁qui', '▁se', '▁sou', 'viendront', '▁du', '▁discours', '▁de', '▁Toulon', ',', '▁celui', '▁qu', \"'\", 'il', '▁a', '▁fait', '▁quand', '▁la', '▁crise', '▁a', '▁commencé', ',', '▁où', '▁il', '▁disait', '▁qu', \"'\", 'on', '▁allait', '▁dénoncer', '▁les', '▁patrons', '▁voy', 'ous', '▁!', 'Pu', 'is', '▁depuis', ',', '▁nous', '▁en', '▁avons', '▁su', '▁beaucoup', '▁plus', '.', '▁Il', '▁nous', '▁a', '▁dit', ',', '▁à', '▁quatre', '▁reprises', '▁au', '▁moins', ',', '▁et', '▁je', '▁crois', '▁même', '▁que', '▁les', '▁banquier', 's', '▁ont', '▁fini', '▁par', '▁le', '▁croire', '.', '▁Il', '▁a', '▁dit', '▁:', '▁je', '▁vais', '▁faire', '▁voter', '▁une', '▁loi', '▁(', 'il', '▁aime', '▁beaucoup', '▁f']\n",
            "Token IDs:  [271, 330, 25, 1306, 9, 1543, 17, 11, 55, 227, 7, 2928, 14, 4934, 200, 57, 228, 914, 31, 103, 397, 4443, 103, 3313, 43, 39, 1126, 25, 333, 522, 28, 12510, 192, 2289, 5868, 9, 3975, 5475, 28, 12510, 192, 16, 24937, 8, 2289, 5868, 9, 1799, 19013, 27, 19, 1455, 52, 11, 904, 1606, 113, 40, 42, 20, 7168, 30562, 10, 7, 14, 63, 4680, 199, 18, 11, 13595, 1790, 2145, 9, 1799, 49, 11, 55, 331, 8, 2923, 8, 63, 248, 27, 208, 19, 872, 10, 6994, 15029, 488, 17, 11, 4406, 9, 139, 63, 3515, 46, 11, 62, 1937, 23898, 13, 1618, 42, 19, 4111, 9, 84, 11, 41, 17, 11, 5837, 46, 11, 62, 33, 82, 173, 51, 33, 5569, 15, 320, 31, 917, 235, 66, 7, 65, 45, 2750, 34, 28, 426, 31, 2750, 8, 13, 1618, 14, 25, 499, 9, 3975, 6385, 2579, 29725, 78, 1662, 2903, 9, 228, 11, 41, 564, 16, 479, 8, 17, 11, 520, 576, 27, 63, 4707, 235, 22, 26969, 7, 27, 16, 351, 18, 11, 1550, 24879, 312, 14, 27, 16, 4103, 12119, 15, 3138, 9, 201, 104, 248, 27, 2289, 5868, 171, 1522, 15, 21016, 13, 1662, 37, 13, 462, 11754, 46, 11, 62, 33, 5894, 29, 127, 256, 9, 84, 11, 41, 207, 46, 11, 62, 213, 999, 9, 1003, 595, 30, 2252, 9, 170, 2517, 273, 2570, 29, 127, 256, 28, 3597, 9, 180, 3597, 192, 23, 421, 31, 33, 82, 376, 8, 8052, 14, 49, 11, 55, 254, 10817, 9, 28057, 26, 315, 404, 51, 33, 1522, 15, 85, 1757, 68, 3539, 4980, 46, 11, 62, 448, 16, 668, 25, 351, 18, 11, 1550, 9, 841, 51, 33, 227, 27, 19, 242, 2424, 1481, 40, 22, 1208, 20, 511, 3465, 9, 4407, 13, 184, 20, 3984, 7, 147, 51, 49, 11, 55, 804, 20, 2854, 46, 11, 169, 320, 31, 530, 235, 3984, 9, 1003, 184, 20, 873, 8, 17, 11, 698, 9, 877, 91, 1037, 188, 9, 29601, 63, 509, 20, 9959, 32, 17, 11, 7529, 9, 170, 45, 464, 34, 18, 11, 1311, 24, 27, 20, 242, 1053, 24189, 10, 24, 10554, 8, 3834, 9, 20900, 7, 13, 3597, 4621, 99, 398, 27, 17, 11, 1464, 46, 11, 263, 19, 1455, 405, 11, 265, 7, 60, 11, 41, 27, 16, 668, 8, 13, 1547, 33, 1258, 8, 1760, 32, 77, 284, 9, 170, 4707, 124, 5429, 22, 695, 29, 19, 3602, 7, 135, 713, 22, 697, 7, 14, 36, 124, 108, 667, 7, 205, 151, 40, 27, 19, 214, 318, 7, 14, 28, 6167, 18088, 46, 11, 62, 49, 11, 105, 171, 34, 331, 35, 176, 18582, 9, 18488, 7702, 66, 136, 7, 2289, 5868, 13384, 14, 1700, 9, 228, 11, 41, 600, 46, 11, 62, 45, 353, 34, 112, 639, 7, 51, 52, 11, 567, 35, 217, 7, 51, 921, 381, 217, 9, 4499, 31, 48, 3438, 14553, 25, 2081, 8, 13317, 7, 330, 46, 11, 62, 33, 82, 206, 13, 1662, 33, 1592, 7, 147, 51, 3515, 46, 11, 88, 1937, 11344, 19, 13577, 14639, 7215, 83, 18496, 418, 176, 7, 63, 22, 296, 1548, 217, 40, 9, 69, 63, 33, 227, 7, 15, 700, 4315, 36, 175, 7, 14, 50, 1115, 93, 27, 19, 17978, 10, 96, 1856, 37, 16, 1757, 9, 69, 33, 227, 43, 50, 676, 85, 6170, 28, 589, 38, 62, 1473, 217, 906]\n"
          ],
          "name": "stdout"
        }
      ]
    },
    {
      "cell_type": "markdown",
      "metadata": {
        "id": "t8yAtMsdR9HB",
        "colab_type": "text"
      },
      "source": [
        "#### Adding special tokens to the start and end of the text\n"
      ]
    },
    {
      "cell_type": "markdown",
      "metadata": {
        "id": "uXlKcUdlYetx",
        "colab_type": "text"
      },
      "source": [
        "Preprocessing steps : \n",
        "\n",
        "\n",
        "1.   **Add special tokens [CLS] [SEP]** \n",
        "\n",
        "According to the documentation we need to add special tokens to the start and end of the text Moreover, for camembert we should add a space between CLS and the first token (not sure here, we have to ask benjamin). \n",
        "\n",
        "2.   **Pad and truncate all texts to a single number**\n",
        "\n",
        "Pretrained transformes like Camembert only accept input of the same length. Our corpus contains large texts and we have to pad them in order to be able to feed Camembert. We will set the max length to a large number in order to get all information possible in the text. We choose a max length of 500 which is almost the maximum (512) \"sentence\" length  accepted. We are aware that this choice will impact a lot training speed.\n",
        "\n",
        "3.   **Construct an attention mask**\n",
        "\n",
        "Attention masks are just set to 1 when the token have to be analyzed and 0 otherwise (padded tokens). All our attention mask should be 1 with this corpus. \n",
        "\n",
        "\n",
        "\n",
        "For sake of simplicity and to avoid errors we will use the function encode_plus of the library which is really convenient. \n",
        "\n"
      ]
    },
    {
      "cell_type": "markdown",
      "metadata": {
        "id": "5XKNZMJvSb2w",
        "colab_type": "text"
      },
      "source": [
        "#### Length and attention mask "
      ]
    },
    {
      "cell_type": "code",
      "metadata": {
        "id": "4HF89V-xSgGF",
        "colab_type": "code",
        "colab": {}
      },
      "source": [
        "texts = df.Texte.values\n",
        "labels = df.sexe.values\n",
        "# Tokenize all of the sentences and map the tokens to thier word IDs.\n",
        "input_ids = []\n",
        "attention_masks = []\n",
        "num_truncated_tokens =[]\n",
        "# Apply function to our corpus\n",
        "for text in texts:\n",
        "    encoded_dict = tokenizer.encode_plus(\n",
        "                        text,                      # text\n",
        "                        add_special_tokens = True, # Add '[CLS]' and '[SEP]'\n",
        "                        max_length = 500,           # We choose for now a max length of 500.\n",
        "                        pad_to_max_length = True,    # Pad text to max (marche pas en pad left ?)\n",
        "                        return_attention_mask = True,   # Construct attention masks\n",
        "                        return_tensors = 'pt',     # Return pytorch tensors.\n",
        "                        return_overflowing_tokens =True, # return overflowing token information\n",
        "                   )\n",
        "    \n",
        "    # Map tokens to their id in the dictionnary \n",
        "    # We add this to our list    \n",
        "    input_ids.append(encoded_dict['input_ids'])\n",
        " \n",
        "    #num_truncated_tokens.append(encoded_dict['num_truncated_tokens'])\n",
        "    \n",
        "    # 3. Attention masks\n",
        "    attention_masks.append(encoded_dict['attention_mask'])"
      ],
      "execution_count": 0,
      "outputs": []
    },
    {
      "cell_type": "code",
      "metadata": {
        "id": "BIQMcNAgekhx",
        "colab_type": "code",
        "outputId": "3bf85386-6d70-41c0-d040-a10c1ec9c7a8",
        "colab": {
          "base_uri": "https://localhost:8080/",
          "height": 904
        }
      },
      "source": [
        "# We convert all this into tensors in order to be able to make it work on GPU \n",
        "input_ids = torch.cat(input_ids, dim=0)\n",
        "attention_masks = torch.cat(attention_masks, dim=0)\n",
        "labels = torch.tensor(labels)\n",
        "\n",
        "# Original text and transformed tensor print \n",
        "print('Original: ', texts[0])\n",
        "print('IDs:', input_ids[0])"
      ],
      "execution_count": 304,
      "outputs": [
        {
          "output_type": "stream",
          "text": [
            "Original:   de notre Défense qui sont mieux adaptés aux besoins de notre époque, un fonds souverain à la française qui se tient désormais aux côtés de nos entreprises pour les aider à se développer et pour les protéger.Grâce à un plan d'investissement sans précédent nous allons pouvoir accomplir la révolution numérique, donner à tous l'accès au haut débit, numériser nos livres pour que notre langue, notre culture puissent continuer à rayonner, mais aussi créer 20 000 places d'internats d'excellence pour rétablir une réelle égalité des chances, et doter notre enseignement supérieur et notre recherche de moyens considérables pour réussir le pari de l'intelligence.Grâce à la loi Hadopi qui sera mise en oeuvre en 2010, nos créateurs et nos artistes vont être protégés.Grâce au Grenelle de l'Environnement nous allons pouvoir relever le défi de la protection de notre environnement. C'est un domaine où il est bien difficile de faire évoluer les mentalités et les comportements. Mais je ne suis pas un homme qui renonce à la première difficulté, et la fiscalité écologique qui permet de taxer la pollution et d'exonérer le travail est un enjeu majeur. Dès le 20 janvier, le gouvernement présentera un nouveau dispositif afin que les consommateurs soient incités à consommer mieux et les producteurs à produire propre.Beaucoup de réformes ont été accomplies. Je sais qu'elles ont bouleversé des habitudes et qu'avant de produire leurs effets elles ont pu provoquer des inquiétudes. Mais qui peut croire que dans ce monde qui bouge l'immobilisme soit une alternative ? Il nous reste encore bien du travail. Je le conduirai avec le Premier Ministre et le Gouvernement dans le dialogue et avec un esprit de justice. En 2010, il va nous falloir : faire reculer le chômage et l'exclusion, réduire nos dépenses courantes pour nous permettre d'accroître nos dépenses d'avenir, simplifier notre organisation territoriale trop lourde, trop compliquée, trop onéreuse, consolider notre système de retraites dont j'ai le devoir d'assurer la pérennité financière, relever le défi de la dépendance qui sera dans les décennies à venir l'un des problèmes les plus douloureux auxquels nos familles seront confrontées. En 2010, nous réformerons notre Justice pour qu'elle protège davantage les libertés et qu'elle soit plus attentive aux victimes.Mes chers compatriotes, même si les épreuves ne sont pas terminées, 2010 sera une année de renouveau. Les efforts que nous faisons depuis deux ans et demi vont porter leurs fruit\n",
            "IDs: tensor([    5,     8,   127,  7682,    31,    56,   334,  5159,    68,   979,\n",
            "            8,   127,  2246,     7,    23,  1751,  8146,    15,    13,   781,\n",
            "           31,    48,  1866,  1085,    68,  2641,     8,   166,   699,    24,\n",
            "           19,   987,    15,    48,  1523,    14,    24,    19,  1948,     9,\n",
            "          546, 23558,   291,    15,    23,   379,    18,    11,  3407,   112,\n",
            "         2501,    63,  2545,   351, 11182,    13,  3177,  1495,     7,   509,\n",
            "           15,   117,    17,    11,  1288,    36,   540,  4779,     7, 23492,\n",
            "         1864,   166,  1320,    24,    27,   127,  1209,     7,   127,  1030,\n",
            "         4601,  1760,    15,  4356,   944,     7,    65,    99,   739,   325,\n",
            "          624,  2637,    18,    11, 26470,    10,    18,    11, 10640,    24,\n",
            "         8362,    28,  3351, 15882,    20,  4295,     7,    14, 21224,   127,\n",
            "         8010,  2062,    14,   127,   332,     8,  1149,  6063,    10,    24,\n",
            "         3333,    16, 10242,     8,    17,    11,  6031,     9,   546, 23558,\n",
            "          291,    15,    13,   589, 17074, 18545,    31,   210,   375,    22,\n",
            "         2893,    22,  5257,   166,  8339,    14,   166,  2099,   774,    98,\n",
            "        11535,     9,   546, 23558,   291,    36, 13139,   144,     8,    17,\n",
            "           11, 16481,    63,  2545,   351,  5536,    16,  2280,     8,    13,\n",
            "          872,     8,   127,  1898,     9,    84,    11,    41,    23,   813,\n",
            "          147,    51,    30,    72,   863,     8,    85,  5120,    19, 13055,\n",
            "           10,    14,    19,  6266,     9,   159,    50,    45,   146,    34,\n",
            "           23,   421,    31, 19007,    15,    13,   272,  2691,     7,    14,\n",
            "           13, 13508,  5001,    31,   288,     8,  5478,    81,    13,  6504,\n",
            "           14,    18,    11,   850,    88,  6078,    16,   225,    30,    23,\n",
            "        12124,  4329,     9,  2335,    16,   325,   695,     7,    16,   754,\n",
            "        15759,    23,   281,  2507,   289,    27,    19,  3697,  1053, 28687,\n",
            "           10,    15,  7567,   334,    14,    19,  5069,    15,  2983,   627,\n",
            "            9, 22054,  7829,     8,  9795,    96,   101, 23508,    10,     9,\n",
            "          100,   555,    46,    11,   734,    96, 19028,    20,  6255,    14,\n",
            "           46,    11,  1949,     8,  2983,   187,  1804,   582,    96,   456,\n",
            "         6545,    20, 21749,     9,   159,    31,   104,  1757,    27,    29,\n",
            "           44,   164,    31,  6337,    17,    11,  1225, 10710,   884,   191,\n",
            "           28,  5608,   106,    69,    63,   353,   143,    72,    25,   225,\n",
            "            9,   100,    16, 23390,   233,    42,    16,  2616,  6375,    14,\n",
            "           16,  6518,    29,    16,  3036,    14,    42,    23,  2132,     8,\n",
            "         1746,     9,   107,  5257,    51,   198,    63,  7190,    43,    85,\n",
            "        19645,    16,  4103,    14,    17,    11,  8660,     7,  2020,   166,\n",
            "         3857, 17873,    24,    63,  1027,    18,    11, 22653,   166,  3857,\n",
            "           18,    11,  2128,     7, 15584,   127,  2413,  9321,   237,  7542,\n",
            "            7,   237, 11716,     7,   237, 31410,     7, 18403,   127,   439,\n",
            "            8, 16358,   174,    76,    11,    73,    16,  2308,    18,    11,\n",
            "         2688,    13, 21501,  2903,     7,  5536,    16,  2280,     8,    13,\n",
            "         7113,    31,   210,    29,    19,  6768,    15,   894,    17,    11,\n",
            "           59,    20,  1014,    19,    40, 12695,  6233,   166,  1641,   519,\n",
            "        18049,    10,     9,   107,  5257,    63,  3145,  1628,   127,  8371,\n",
            "           24,    46,    11,   144,  6962,  1921,    19,  8922,    14,    46,\n",
            "           11,   144,   191,    40, 21654,    68,  2525,     9,  6684,    10,\n",
            "         6175, 16681,    10,     7,    93,    86,    19,  6787,    45,    56,\n",
            "           34,  7726,    10,     7,  1793,   210,    28,   433,     8, 16601,\n",
            "            9,    74,  2943,    27,    63,  5475,   176,   116,   134,    14,\n",
            "         1644,   774,  1499,   187,  3735,     6,     1,     1,     1,     1])\n"
          ],
          "name": "stdout"
        }
      ]
    },
    {
      "cell_type": "code",
      "metadata": {
        "id": "1OPWOx2-FG7g",
        "colab_type": "code",
        "outputId": "d08b14b9-ad6e-45fb-ced3-54be91f7cac7",
        "colab": {
          "base_uri": "https://localhost:8080/",
          "height": 34
        }
      },
      "source": [
        "labels"
      ],
      "execution_count": 305,
      "outputs": [
        {
          "output_type": "execute_result",
          "data": {
            "text/plain": [
              "tensor([0, 0, 1,  ..., 1, 0, 1])"
            ]
          },
          "metadata": {
            "tags": []
          },
          "execution_count": 305
        }
      ]
    },
    {
      "cell_type": "markdown",
      "metadata": {
        "id": "vs6YDmQsgljf",
        "colab_type": "text"
      },
      "source": [
        "5 and 6 seem to be the [CLS] and [SEP] special tokens \n"
      ]
    },
    {
      "cell_type": "markdown",
      "metadata": {
        "id": "cFc6MW5df566",
        "colab_type": "text"
      },
      "source": [
        "#### Train and validation dataset construction \n"
      ]
    },
    {
      "cell_type": "code",
      "metadata": {
        "id": "3Y3MT9B-gAHU",
        "colab_type": "code",
        "outputId": "baac414d-9f7a-40c5-afcb-2d5265e1bc9c",
        "colab": {
          "base_uri": "https://localhost:8080/",
          "height": 51
        }
      },
      "source": [
        "from torch.utils.data import TensorDataset, random_split\n",
        "\n",
        "# Combine all above\n",
        "dataset = TensorDataset(input_ids, attention_masks, labels)\n",
        "\n",
        "# Let's create a 80-20 train / validation dataset \n",
        "train_size = int(0.8 * len(dataset))\n",
        "val_size = len(dataset) - train_size\n",
        "\n",
        "train_set, val_set = random_split(dataset, [train_size, val_size])\n",
        "\n",
        "print('We have {} training samples'.format(train_size))\n",
        "print('We have {} validation samples'.format(val_size))"
      ],
      "execution_count": 306,
      "outputs": [
        {
          "output_type": "stream",
          "text": [
            "We have 5096 training samples\n",
            "We have 1274 validation samples\n"
          ],
          "name": "stdout"
        }
      ]
    },
    {
      "cell_type": "markdown",
      "metadata": {
        "id": "JF9rj3AWgynY",
        "colab_type": "text"
      },
      "source": [
        "In order to save on memory we use the convenient DataLoader of pytorch.utils "
      ]
    },
    {
      "cell_type": "code",
      "metadata": {
        "id": "dr-fhDIQgAFW",
        "colab_type": "code",
        "colab": {}
      },
      "source": [
        "from torch.utils.data import DataLoader, RandomSampler, SequentialSampler\n",
        "\n",
        "# We set the size of the batch lower than what is usually set (16 of 32)\n",
        "batch_size = 4\n",
        "\n",
        "# We create data loaders for the train and validation dataset. \n",
        "train_dataloader = DataLoader(\n",
        "            train_set,  # The training samples.\n",
        "            sampler = RandomSampler(train_set), # Select batches randomly\n",
        "            batch_size = batch_size # Trains with this batch size.\n",
        "        )\n",
        "\n",
        "val_dataloader = DataLoader(\n",
        "            val_set, # The validation samples.\n",
        "            sampler = SequentialSampler(val_set), # Pull out batches sequentially.\n",
        "            batch_size = batch_size # Evaluate with this batch size.\n",
        "        )"
      ],
      "execution_count": 0,
      "outputs": []
    },
    {
      "cell_type": "markdown",
      "metadata": {
        "id": "poTTEJX1hoUK",
        "colab_type": "text"
      },
      "source": [
        "### CamemBERT Sequence Classification model tuning\n"
      ]
    },
    {
      "cell_type": "markdown",
      "metadata": {
        "id": "NN1VeJI0lDwf",
        "colab_type": "text"
      },
      "source": [
        "#### Loading the model\n"
      ]
    },
    {
      "cell_type": "markdown",
      "metadata": {
        "id": "99MPOVB7iRcl",
        "colab_type": "text"
      },
      "source": [
        "We will finally build up our model. We will use the  CamemBERT model for sequence classification which includes a special top layer designed for this task. "
      ]
    },
    {
      "cell_type": "code",
      "metadata": {
        "id": "XRHhHzjKgAC6",
        "colab_type": "code",
        "colab": {}
      },
      "source": [
        "# Importing from transformers\n",
        "from transformers import CamembertForSequenceClassification, CamembertConfig"
      ],
      "execution_count": 0,
      "outputs": []
    },
    {
      "cell_type": "code",
      "metadata": {
        "id": "FHMdM-QqgAAX",
        "colab_type": "code",
        "colab": {}
      },
      "source": [
        "# Loading the model\n",
        "# Ici je ne suis pas sure pour le 'cased' ou pas (je crois que oui)\n",
        "gender_model1 = CamembertForSequenceClassification.from_pretrained(\n",
        "    \"camembert-base\", \n",
        "    num_labels = 2, # We have two different labels Women = 1 and Men =0   \n",
        "    output_attentions = False, \n",
        "    output_hidden_states = False, \n",
        ")"
      ],
      "execution_count": 0,
      "outputs": []
    },
    {
      "cell_type": "code",
      "metadata": {
        "id": "vUKynoykf_9y",
        "colab_type": "code",
        "outputId": "67b47169-91cf-4176-98c2-363f47361081",
        "colab": {
          "base_uri": "https://localhost:8080/",
          "height": 1000
        }
      },
      "source": [
        "# We run the model on the colab GPU \n",
        "gender_model1.cuda()"
      ],
      "execution_count": 310,
      "outputs": [
        {
          "output_type": "execute_result",
          "data": {
            "text/plain": [
              "CamembertForSequenceClassification(\n",
              "  (roberta): RobertaModel(\n",
              "    (embeddings): RobertaEmbeddings(\n",
              "      (word_embeddings): Embedding(32005, 768, padding_idx=1)\n",
              "      (position_embeddings): Embedding(514, 768, padding_idx=1)\n",
              "      (token_type_embeddings): Embedding(1, 768)\n",
              "      (LayerNorm): LayerNorm((768,), eps=1e-05, elementwise_affine=True)\n",
              "      (dropout): Dropout(p=0.1, inplace=False)\n",
              "    )\n",
              "    (encoder): BertEncoder(\n",
              "      (layer): ModuleList(\n",
              "        (0): BertLayer(\n",
              "          (attention): BertAttention(\n",
              "            (self): BertSelfAttention(\n",
              "              (query): Linear(in_features=768, out_features=768, bias=True)\n",
              "              (key): Linear(in_features=768, out_features=768, bias=True)\n",
              "              (value): Linear(in_features=768, out_features=768, bias=True)\n",
              "              (dropout): Dropout(p=0.1, inplace=False)\n",
              "            )\n",
              "            (output): BertSelfOutput(\n",
              "              (dense): Linear(in_features=768, out_features=768, bias=True)\n",
              "              (LayerNorm): LayerNorm((768,), eps=1e-05, elementwise_affine=True)\n",
              "              (dropout): Dropout(p=0.1, inplace=False)\n",
              "            )\n",
              "          )\n",
              "          (intermediate): BertIntermediate(\n",
              "            (dense): Linear(in_features=768, out_features=3072, bias=True)\n",
              "          )\n",
              "          (output): BertOutput(\n",
              "            (dense): Linear(in_features=3072, out_features=768, bias=True)\n",
              "            (LayerNorm): LayerNorm((768,), eps=1e-05, elementwise_affine=True)\n",
              "            (dropout): Dropout(p=0.1, inplace=False)\n",
              "          )\n",
              "        )\n",
              "        (1): BertLayer(\n",
              "          (attention): BertAttention(\n",
              "            (self): BertSelfAttention(\n",
              "              (query): Linear(in_features=768, out_features=768, bias=True)\n",
              "              (key): Linear(in_features=768, out_features=768, bias=True)\n",
              "              (value): Linear(in_features=768, out_features=768, bias=True)\n",
              "              (dropout): Dropout(p=0.1, inplace=False)\n",
              "            )\n",
              "            (output): BertSelfOutput(\n",
              "              (dense): Linear(in_features=768, out_features=768, bias=True)\n",
              "              (LayerNorm): LayerNorm((768,), eps=1e-05, elementwise_affine=True)\n",
              "              (dropout): Dropout(p=0.1, inplace=False)\n",
              "            )\n",
              "          )\n",
              "          (intermediate): BertIntermediate(\n",
              "            (dense): Linear(in_features=768, out_features=3072, bias=True)\n",
              "          )\n",
              "          (output): BertOutput(\n",
              "            (dense): Linear(in_features=3072, out_features=768, bias=True)\n",
              "            (LayerNorm): LayerNorm((768,), eps=1e-05, elementwise_affine=True)\n",
              "            (dropout): Dropout(p=0.1, inplace=False)\n",
              "          )\n",
              "        )\n",
              "        (2): BertLayer(\n",
              "          (attention): BertAttention(\n",
              "            (self): BertSelfAttention(\n",
              "              (query): Linear(in_features=768, out_features=768, bias=True)\n",
              "              (key): Linear(in_features=768, out_features=768, bias=True)\n",
              "              (value): Linear(in_features=768, out_features=768, bias=True)\n",
              "              (dropout): Dropout(p=0.1, inplace=False)\n",
              "            )\n",
              "            (output): BertSelfOutput(\n",
              "              (dense): Linear(in_features=768, out_features=768, bias=True)\n",
              "              (LayerNorm): LayerNorm((768,), eps=1e-05, elementwise_affine=True)\n",
              "              (dropout): Dropout(p=0.1, inplace=False)\n",
              "            )\n",
              "          )\n",
              "          (intermediate): BertIntermediate(\n",
              "            (dense): Linear(in_features=768, out_features=3072, bias=True)\n",
              "          )\n",
              "          (output): BertOutput(\n",
              "            (dense): Linear(in_features=3072, out_features=768, bias=True)\n",
              "            (LayerNorm): LayerNorm((768,), eps=1e-05, elementwise_affine=True)\n",
              "            (dropout): Dropout(p=0.1, inplace=False)\n",
              "          )\n",
              "        )\n",
              "        (3): BertLayer(\n",
              "          (attention): BertAttention(\n",
              "            (self): BertSelfAttention(\n",
              "              (query): Linear(in_features=768, out_features=768, bias=True)\n",
              "              (key): Linear(in_features=768, out_features=768, bias=True)\n",
              "              (value): Linear(in_features=768, out_features=768, bias=True)\n",
              "              (dropout): Dropout(p=0.1, inplace=False)\n",
              "            )\n",
              "            (output): BertSelfOutput(\n",
              "              (dense): Linear(in_features=768, out_features=768, bias=True)\n",
              "              (LayerNorm): LayerNorm((768,), eps=1e-05, elementwise_affine=True)\n",
              "              (dropout): Dropout(p=0.1, inplace=False)\n",
              "            )\n",
              "          )\n",
              "          (intermediate): BertIntermediate(\n",
              "            (dense): Linear(in_features=768, out_features=3072, bias=True)\n",
              "          )\n",
              "          (output): BertOutput(\n",
              "            (dense): Linear(in_features=3072, out_features=768, bias=True)\n",
              "            (LayerNorm): LayerNorm((768,), eps=1e-05, elementwise_affine=True)\n",
              "            (dropout): Dropout(p=0.1, inplace=False)\n",
              "          )\n",
              "        )\n",
              "        (4): BertLayer(\n",
              "          (attention): BertAttention(\n",
              "            (self): BertSelfAttention(\n",
              "              (query): Linear(in_features=768, out_features=768, bias=True)\n",
              "              (key): Linear(in_features=768, out_features=768, bias=True)\n",
              "              (value): Linear(in_features=768, out_features=768, bias=True)\n",
              "              (dropout): Dropout(p=0.1, inplace=False)\n",
              "            )\n",
              "            (output): BertSelfOutput(\n",
              "              (dense): Linear(in_features=768, out_features=768, bias=True)\n",
              "              (LayerNorm): LayerNorm((768,), eps=1e-05, elementwise_affine=True)\n",
              "              (dropout): Dropout(p=0.1, inplace=False)\n",
              "            )\n",
              "          )\n",
              "          (intermediate): BertIntermediate(\n",
              "            (dense): Linear(in_features=768, out_features=3072, bias=True)\n",
              "          )\n",
              "          (output): BertOutput(\n",
              "            (dense): Linear(in_features=3072, out_features=768, bias=True)\n",
              "            (LayerNorm): LayerNorm((768,), eps=1e-05, elementwise_affine=True)\n",
              "            (dropout): Dropout(p=0.1, inplace=False)\n",
              "          )\n",
              "        )\n",
              "        (5): BertLayer(\n",
              "          (attention): BertAttention(\n",
              "            (self): BertSelfAttention(\n",
              "              (query): Linear(in_features=768, out_features=768, bias=True)\n",
              "              (key): Linear(in_features=768, out_features=768, bias=True)\n",
              "              (value): Linear(in_features=768, out_features=768, bias=True)\n",
              "              (dropout): Dropout(p=0.1, inplace=False)\n",
              "            )\n",
              "            (output): BertSelfOutput(\n",
              "              (dense): Linear(in_features=768, out_features=768, bias=True)\n",
              "              (LayerNorm): LayerNorm((768,), eps=1e-05, elementwise_affine=True)\n",
              "              (dropout): Dropout(p=0.1, inplace=False)\n",
              "            )\n",
              "          )\n",
              "          (intermediate): BertIntermediate(\n",
              "            (dense): Linear(in_features=768, out_features=3072, bias=True)\n",
              "          )\n",
              "          (output): BertOutput(\n",
              "            (dense): Linear(in_features=3072, out_features=768, bias=True)\n",
              "            (LayerNorm): LayerNorm((768,), eps=1e-05, elementwise_affine=True)\n",
              "            (dropout): Dropout(p=0.1, inplace=False)\n",
              "          )\n",
              "        )\n",
              "        (6): BertLayer(\n",
              "          (attention): BertAttention(\n",
              "            (self): BertSelfAttention(\n",
              "              (query): Linear(in_features=768, out_features=768, bias=True)\n",
              "              (key): Linear(in_features=768, out_features=768, bias=True)\n",
              "              (value): Linear(in_features=768, out_features=768, bias=True)\n",
              "              (dropout): Dropout(p=0.1, inplace=False)\n",
              "            )\n",
              "            (output): BertSelfOutput(\n",
              "              (dense): Linear(in_features=768, out_features=768, bias=True)\n",
              "              (LayerNorm): LayerNorm((768,), eps=1e-05, elementwise_affine=True)\n",
              "              (dropout): Dropout(p=0.1, inplace=False)\n",
              "            )\n",
              "          )\n",
              "          (intermediate): BertIntermediate(\n",
              "            (dense): Linear(in_features=768, out_features=3072, bias=True)\n",
              "          )\n",
              "          (output): BertOutput(\n",
              "            (dense): Linear(in_features=3072, out_features=768, bias=True)\n",
              "            (LayerNorm): LayerNorm((768,), eps=1e-05, elementwise_affine=True)\n",
              "            (dropout): Dropout(p=0.1, inplace=False)\n",
              "          )\n",
              "        )\n",
              "        (7): BertLayer(\n",
              "          (attention): BertAttention(\n",
              "            (self): BertSelfAttention(\n",
              "              (query): Linear(in_features=768, out_features=768, bias=True)\n",
              "              (key): Linear(in_features=768, out_features=768, bias=True)\n",
              "              (value): Linear(in_features=768, out_features=768, bias=True)\n",
              "              (dropout): Dropout(p=0.1, inplace=False)\n",
              "            )\n",
              "            (output): BertSelfOutput(\n",
              "              (dense): Linear(in_features=768, out_features=768, bias=True)\n",
              "              (LayerNorm): LayerNorm((768,), eps=1e-05, elementwise_affine=True)\n",
              "              (dropout): Dropout(p=0.1, inplace=False)\n",
              "            )\n",
              "          )\n",
              "          (intermediate): BertIntermediate(\n",
              "            (dense): Linear(in_features=768, out_features=3072, bias=True)\n",
              "          )\n",
              "          (output): BertOutput(\n",
              "            (dense): Linear(in_features=3072, out_features=768, bias=True)\n",
              "            (LayerNorm): LayerNorm((768,), eps=1e-05, elementwise_affine=True)\n",
              "            (dropout): Dropout(p=0.1, inplace=False)\n",
              "          )\n",
              "        )\n",
              "        (8): BertLayer(\n",
              "          (attention): BertAttention(\n",
              "            (self): BertSelfAttention(\n",
              "              (query): Linear(in_features=768, out_features=768, bias=True)\n",
              "              (key): Linear(in_features=768, out_features=768, bias=True)\n",
              "              (value): Linear(in_features=768, out_features=768, bias=True)\n",
              "              (dropout): Dropout(p=0.1, inplace=False)\n",
              "            )\n",
              "            (output): BertSelfOutput(\n",
              "              (dense): Linear(in_features=768, out_features=768, bias=True)\n",
              "              (LayerNorm): LayerNorm((768,), eps=1e-05, elementwise_affine=True)\n",
              "              (dropout): Dropout(p=0.1, inplace=False)\n",
              "            )\n",
              "          )\n",
              "          (intermediate): BertIntermediate(\n",
              "            (dense): Linear(in_features=768, out_features=3072, bias=True)\n",
              "          )\n",
              "          (output): BertOutput(\n",
              "            (dense): Linear(in_features=3072, out_features=768, bias=True)\n",
              "            (LayerNorm): LayerNorm((768,), eps=1e-05, elementwise_affine=True)\n",
              "            (dropout): Dropout(p=0.1, inplace=False)\n",
              "          )\n",
              "        )\n",
              "        (9): BertLayer(\n",
              "          (attention): BertAttention(\n",
              "            (self): BertSelfAttention(\n",
              "              (query): Linear(in_features=768, out_features=768, bias=True)\n",
              "              (key): Linear(in_features=768, out_features=768, bias=True)\n",
              "              (value): Linear(in_features=768, out_features=768, bias=True)\n",
              "              (dropout): Dropout(p=0.1, inplace=False)\n",
              "            )\n",
              "            (output): BertSelfOutput(\n",
              "              (dense): Linear(in_features=768, out_features=768, bias=True)\n",
              "              (LayerNorm): LayerNorm((768,), eps=1e-05, elementwise_affine=True)\n",
              "              (dropout): Dropout(p=0.1, inplace=False)\n",
              "            )\n",
              "          )\n",
              "          (intermediate): BertIntermediate(\n",
              "            (dense): Linear(in_features=768, out_features=3072, bias=True)\n",
              "          )\n",
              "          (output): BertOutput(\n",
              "            (dense): Linear(in_features=3072, out_features=768, bias=True)\n",
              "            (LayerNorm): LayerNorm((768,), eps=1e-05, elementwise_affine=True)\n",
              "            (dropout): Dropout(p=0.1, inplace=False)\n",
              "          )\n",
              "        )\n",
              "        (10): BertLayer(\n",
              "          (attention): BertAttention(\n",
              "            (self): BertSelfAttention(\n",
              "              (query): Linear(in_features=768, out_features=768, bias=True)\n",
              "              (key): Linear(in_features=768, out_features=768, bias=True)\n",
              "              (value): Linear(in_features=768, out_features=768, bias=True)\n",
              "              (dropout): Dropout(p=0.1, inplace=False)\n",
              "            )\n",
              "            (output): BertSelfOutput(\n",
              "              (dense): Linear(in_features=768, out_features=768, bias=True)\n",
              "              (LayerNorm): LayerNorm((768,), eps=1e-05, elementwise_affine=True)\n",
              "              (dropout): Dropout(p=0.1, inplace=False)\n",
              "            )\n",
              "          )\n",
              "          (intermediate): BertIntermediate(\n",
              "            (dense): Linear(in_features=768, out_features=3072, bias=True)\n",
              "          )\n",
              "          (output): BertOutput(\n",
              "            (dense): Linear(in_features=3072, out_features=768, bias=True)\n",
              "            (LayerNorm): LayerNorm((768,), eps=1e-05, elementwise_affine=True)\n",
              "            (dropout): Dropout(p=0.1, inplace=False)\n",
              "          )\n",
              "        )\n",
              "        (11): BertLayer(\n",
              "          (attention): BertAttention(\n",
              "            (self): BertSelfAttention(\n",
              "              (query): Linear(in_features=768, out_features=768, bias=True)\n",
              "              (key): Linear(in_features=768, out_features=768, bias=True)\n",
              "              (value): Linear(in_features=768, out_features=768, bias=True)\n",
              "              (dropout): Dropout(p=0.1, inplace=False)\n",
              "            )\n",
              "            (output): BertSelfOutput(\n",
              "              (dense): Linear(in_features=768, out_features=768, bias=True)\n",
              "              (LayerNorm): LayerNorm((768,), eps=1e-05, elementwise_affine=True)\n",
              "              (dropout): Dropout(p=0.1, inplace=False)\n",
              "            )\n",
              "          )\n",
              "          (intermediate): BertIntermediate(\n",
              "            (dense): Linear(in_features=768, out_features=3072, bias=True)\n",
              "          )\n",
              "          (output): BertOutput(\n",
              "            (dense): Linear(in_features=3072, out_features=768, bias=True)\n",
              "            (LayerNorm): LayerNorm((768,), eps=1e-05, elementwise_affine=True)\n",
              "            (dropout): Dropout(p=0.1, inplace=False)\n",
              "          )\n",
              "        )\n",
              "      )\n",
              "    )\n",
              "    (pooler): BertPooler(\n",
              "      (dense): Linear(in_features=768, out_features=768, bias=True)\n",
              "      (activation): Tanh()\n",
              "    )\n",
              "  )\n",
              "  (classifier): RobertaClassificationHead(\n",
              "    (dense): Linear(in_features=768, out_features=768, bias=True)\n",
              "    (dropout): Dropout(p=0.1, inplace=False)\n",
              "    (out_proj): Linear(in_features=768, out_features=2, bias=True)\n",
              "  )\n",
              ")"
            ]
          },
          "metadata": {
            "tags": []
          },
          "execution_count": 310
        }
      ]
    },
    {
      "cell_type": "markdown",
      "metadata": {
        "id": "uWyHWg5xlBck",
        "colab_type": "text"
      },
      "source": [
        "Optimizers and Loss"
      ]
    },
    {
      "cell_type": "markdown",
      "metadata": {
        "id": "go-uY70Mloqv",
        "colab_type": "text"
      },
      "source": [
        "We will choose the AdamW optimizer and set for this first model the learning rate and the epsilon to default. At the batch is little we might want to increase the learning rate a bit from what is usually used. "
      ]
    },
    {
      "cell_type": "code",
      "metadata": {
        "id": "gLyP0__vf_7d",
        "colab_type": "code",
        "colab": {}
      },
      "source": [
        "import torch.nn as nn\n",
        "import torch.optim as optim\n",
        "from transformers import AdamW\n",
        "\n",
        "criterion = nn.BCEWithLogitsLoss()\n",
        "#Implements Adam algorithm with weight decay fix.\n",
        "optimizer = AdamW(gender_model1.parameters(),\n",
        "                  lr = 5e-5, # Adaptative (yes i think)\n",
        "                  eps = 1e-8 # prevent division by 0 \n",
        "                )"
      ],
      "execution_count": 0,
      "outputs": []
    },
    {
      "cell_type": "markdown",
      "metadata": {
        "id": "UYr-iTzVmXZu",
        "colab_type": "text"
      },
      "source": [
        "We fiw the number of epochs to 4\n",
        "We also configure the learning rate "
      ]
    },
    {
      "cell_type": "code",
      "metadata": {
        "id": "HQ1ymlmqf_4y",
        "colab_type": "code",
        "colab": {}
      },
      "source": [
        "from transformers import get_linear_schedule_with_warmup\n",
        "\n",
        "# set number of epochs\n",
        "epochs = 2\n",
        "total_steps = len(train_dataloader) * epochs\n",
        "# Create a schedule with a learning rate that decreases linearly after linearly increasing during a warmup period (0 here)\n",
        "scheduler = get_linear_schedule_with_warmup(optimizer, \n",
        "                                            num_warmup_steps = 0,\n",
        "                                            num_training_steps = total_steps)"
      ],
      "execution_count": 0,
      "outputs": []
    },
    {
      "cell_type": "markdown",
      "metadata": {
        "id": "sgwmHirxnEie",
        "colab_type": "text"
      },
      "source": [
        "### Constructing the training and validation loop \n"
      ]
    },
    {
      "cell_type": "markdown",
      "metadata": {
        "id": "7J6rIz4UnLwq",
        "colab_type": "text"
      },
      "source": [
        ""
      ]
    },
    {
      "cell_type": "code",
      "metadata": {
        "id": "pZDt2ZElwcJh",
        "colab_type": "code",
        "colab": {}
      },
      "source": [
        "import numpy as np\n",
        "\n",
        "from sklearn.metrics import f1_score \n",
        "\n",
        "# Function to calculate the accuracy of our predictions vs labels\n",
        "def flat_accuracy(preds, labels):\n",
        "    pred_flat = np.argmax(preds, axis=1).flatten()\n",
        "    labels_flat = labels.flatten()\n",
        "    return np.sum(pred_flat == labels_flat) / len(labels_flat)\n"
      ],
      "execution_count": 0,
      "outputs": []
    },
    {
      "cell_type": "code",
      "metadata": {
        "id": "rbZt12wxqh7S",
        "colab_type": "code",
        "colab": {}
      },
      "source": [
        "from sklearn.metrics import confusion_matrix"
      ],
      "execution_count": 0,
      "outputs": []
    },
    {
      "cell_type": "code",
      "metadata": {
        "id": "MQxSQsQxm6mv",
        "colab_type": "code",
        "outputId": "9260bb6f-7d75-47d9-feae-6045f7ba6b4e",
        "colab": {
          "base_uri": "https://localhost:8080/",
          "height": 323
        }
      },
      "source": [
        "# https://github.com/huggingface/transformers \n",
        "# https://github.com/chambliss/Multilingual_NER/blob/master/python/utils/main_utils.py#L404  \n",
        "# https://mccormickml.com/2019/07/22/BERT-fine-tuning/#4-train-our-classification-model\n",
        "\n",
        "import random\n",
        "# Let's put a seed to make this result reproducible \n",
        "seed=2020\n",
        "random.seed(seed)\n",
        "np.random.seed(seed)\n",
        "torch.manual_seed(seed)\n",
        "torch.cuda.manual_seed_all(seed)\n",
        "\n",
        "# We want to evaluate the training phase \n",
        "training_stats = []\n",
        "\n",
        "for ep in range(0, epochs):\n",
        "  print('===========Starting Epoch {} / {} =============='.format(ep+1,epochs))\n",
        "  print('Training starts')\n",
        "\n",
        "  \n",
        "\n",
        "  ################################### TRAINING ################################\n",
        "\n",
        "  # Set the train loss for the epoch to 0 \n",
        "  total_train_loss = 0\n",
        "\n",
        "  #Put the model in training \n",
        "  gender_model1.train()\n",
        "\n",
        "  for step, batch in enumerate(train_dataloader):\n",
        "    # Cpy the 3 batch to GPU \n",
        "    b_input_ids = batch[0].to(device)\n",
        "    b_input_mask = batch[1].to(device)\n",
        "    b_labels = batch[2].to(device)\n",
        "\n",
        "    # Clear gradients \n",
        "    gender_model1.zero_grad() \n",
        "    \n",
        "    #return loss and logits\n",
        "    loss, logits = gender_model1(b_input_ids, \n",
        "                         token_type_ids=None, \n",
        "                         attention_mask=b_input_mask, \n",
        "                         labels=b_labels) \n",
        "    \n",
        "    # Accumulate training loss for all batches \n",
        "    total_train_loss += loss.item()\n",
        "\n",
        "    # Backward to calculate gradients \n",
        "    loss.backward()\n",
        "\n",
        "    # Prevent exploding gradients problem \n",
        "    torch.nn.utils.clip_grad_norm_(gender_model1.parameters(), 1.0)\n",
        "\n",
        "    # Update parameters \n",
        "    optimizer.step()\n",
        "\n",
        "    # Update learning rate schedule\n",
        "    scheduler.step()\n",
        "\n",
        "  #Calculate the average training loss over all batches  \n",
        "  avg_train_loss = total_train_loss / len(train_dataloader)\n",
        "  print(\"\")\n",
        "  print(\"  Average training loss: {0:.2f}\".format(avg_train_loss))\n",
        "  print('')\n",
        "  print('And now, validation STARTS')\n",
        "\n",
        "  ###################### VALIDATION #############################\n",
        "\n",
        "  # Put model in evaluation mode \n",
        "  gender_model1.eval()\n",
        "\n",
        "  # Set statistics to 0\n",
        "  total_eval_accuracy = 0\n",
        "  total_eval_loss = 0\n",
        "  nb_eval_steps = 0\n",
        "\n",
        "  # Confusion matrix ?\n",
        "  predictions, true_labels = [], []\n",
        "\n",
        "  for batch in val_dataloader:\n",
        "    b_input_ids = batch[0].to(device)\n",
        "    b_input_mask = batch[1].to(device)\n",
        "    b_labels = batch[2].to(device)\n",
        "     \n",
        "     # We don't care about gradients for eval\n",
        "    with torch.no_grad(): \n",
        "      (loss, logits) = gender_model1(b_input_ids, \n",
        "                                   token_type_ids=None, \n",
        "                                   attention_mask=b_input_mask,\n",
        "                                   labels=b_labels)\n",
        "    total_eval_loss += loss.item()\n",
        "\n",
        "      # Move logits and labels to CPU \n",
        "    logits = logits.detach().cpu().numpy()\n",
        "    label_ids = b_labels.to('cpu').numpy()\n",
        "\n",
        "    # Confusion matrix ?\n",
        "    val_batch_preds = np.argmax(logits, axis=1)\n",
        "    val_batch_labels = label_ids\n",
        "    predictions.extend(val_batch_preds)\n",
        "    true_labels.extend(val_batch_labels)\n",
        "\n",
        "    # Accumulation accuracy for all batch\n",
        "    total_eval_accuracy += flat_accuracy(logits, label_ids)\n",
        "    \n",
        "    #Final accuracy on all batch\n",
        "  avg_val_accuracy = total_eval_accuracy / len(val_dataloader)\n",
        "  print(\"  Accuracy: {0:.2f}\".format(avg_val_accuracy))\n",
        "\n",
        "    #Final loss over all batch\n",
        "  avg_val_loss = total_eval_loss / len(val_dataloader)\n",
        "  print(\"  Validation Loss: {0:.2f}\".format(avg_val_loss))\n",
        "\n",
        "  # confusion matrix ? \n",
        "  pred_tags = [i for i in predictions]\n",
        "  valid_tags = [i for i in true_labels]\n",
        "\n",
        "  # f1 score \n",
        "  F1_score_val = f1_score(valid_tags,pred_tags)\n",
        "\n",
        "\n",
        "  training_stats.append(\n",
        "        {\n",
        "            'epoch': ep + 1,\n",
        "            'Training Loss': avg_train_loss,\n",
        "            'Valid. Loss': avg_val_loss,\n",
        "            'Valid. Accur.': avg_val_accuracy,\n",
        "            'Valid F1_score' : F1_score_val\n",
        "        }\n",
        "    )\n",
        "\n",
        "print(\"\")\n",
        "print(\"Done !\")"
      ],
      "execution_count": 315,
      "outputs": [
        {
          "output_type": "stream",
          "text": [
            "===========Starting Epoch 1 / 2 ==============\n",
            "Training starts\n",
            "\n",
            "  Average training loss: 0.60\n",
            "\n",
            "And now, validation STARTS\n",
            "  Accuracy: 0.78\n",
            "  Validation Loss: 0.52\n",
            "===========Starting Epoch 2 / 2 ==============\n",
            "Training starts\n",
            "\n",
            "  Average training loss: 0.46\n",
            "\n",
            "And now, validation STARTS\n",
            "  Accuracy: 0.79\n",
            "  Validation Loss: 0.64\n",
            "\n",
            "Done !\n"
          ],
          "name": "stdout"
        }
      ]
    },
    {
      "cell_type": "code",
      "metadata": {
        "id": "rnqfBkNDKVxW",
        "colab_type": "code",
        "outputId": "18d0a200-2fc7-4ec1-dba2-a696c8cdddca",
        "colab": {
          "base_uri": "https://localhost:8080/",
          "height": 51
        }
      },
      "source": [
        "# Confusion matrix sur le dernier epoch (à insérer pour avoir les trois ? )\n",
        "confusion_matrix(valid_tags, pred_tags)"
      ],
      "execution_count": 316,
      "outputs": [
        {
          "output_type": "execute_result",
          "data": {
            "text/plain": [
              "array([[530, 107],\n",
              "       [156, 481]])"
            ]
          },
          "metadata": {
            "tags": []
          },
          "execution_count": 316
        }
      ]
    },
    {
      "cell_type": "code",
      "metadata": {
        "id": "gKUBFeBAJTOK",
        "colab_type": "code",
        "outputId": "cad17c10-b8ec-4ed6-9874-8fbc23adb7c6",
        "colab": {
          "base_uri": "https://localhost:8080/",
          "height": 439
        }
      },
      "source": [
        "import seaborn as sn\n",
        "import pandas as pd\n",
        "import matplotlib.pyplot as plt\n",
        "\n",
        "conf_mat = confusion_matrix(valid_tags, pred_tags)\n",
        "\n",
        "df_cm = pd.DataFrame(conf_mat)\n",
        "plt.figure(figsize = (10,7))\n",
        "sn.heatmap(df_cm, annot=True)\n",
        "plt.show()"
      ],
      "execution_count": 317,
      "outputs": [
        {
          "output_type": "display_data",
          "data": {
            "image/png": "[encoded data removed]",
            "text/plain": [
              "<Figure size 720x504 with 2 Axes>"
            ]
          },
          "metadata": {
            "tags": []
          }
        }
      ]
    },
    {
      "cell_type": "markdown",
      "metadata": {
        "id": "KceMm2E-0dF1",
        "colab_type": "text"
      },
      "source": [
        "\n",
        "We can't look at accuracy with confidence. Indeed, our sample is really unbalanced and thus classifying all text as male would already give a 0.75 accuracy. This is exactly what happens here\n",
        "\n"
      ]
    },
    {
      "cell_type": "code",
      "metadata": {
        "id": "PviHO7vHm65o",
        "colab_type": "code",
        "outputId": "00032d11-3495-4d1b-b6b8-286956797b56",
        "colab": {
          "base_uri": "https://localhost:8080/",
          "height": 142
        }
      },
      "source": [
        "import pandas as pd\n",
        "\n",
        "df_stats = pd.DataFrame(data=training_stats)\n",
        "df_stats = df_stats.set_index('epoch')\n",
        "df_stats"
      ],
      "execution_count": 318,
      "outputs": [
        {
          "output_type": "execute_result",
          "data": {
            "text/html": [
              "<div>\n",
              "<style scoped>\n",
              "    .dataframe tbody tr th:only-of-type {\n",
              "        vertical-align: middle;\n",
              "    }\n",
              "\n",
              "    .dataframe tbody tr th {\n",
              "        vertical-align: top;\n",
              "    }\n",
              "\n",
              "    .dataframe thead th {\n",
              "        text-align: right;\n",
              "    }\n",
              "</style>\n",
              "<table border=\"1\" class=\"dataframe\">\n",
              "  <thead>\n",
              "    <tr style=\"text-align: right;\">\n",
              "      <th></th>\n",
              "      <th>Training Loss</th>\n",
              "      <th>Valid. Loss</th>\n",
              "      <th>Valid. Accur.</th>\n",
              "      <th>Valid F1_score</th>\n",
              "    </tr>\n",
              "    <tr>\n",
              "      <th>epoch</th>\n",
              "      <th></th>\n",
              "      <th></th>\n",
              "      <th></th>\n",
              "      <th></th>\n",
              "    </tr>\n",
              "  </thead>\n",
              "  <tbody>\n",
              "    <tr>\n",
              "      <th>1</th>\n",
              "      <td>0.604016</td>\n",
              "      <td>0.519108</td>\n",
              "      <td>0.781348</td>\n",
              "      <td>0.766779</td>\n",
              "    </tr>\n",
              "    <tr>\n",
              "      <th>2</th>\n",
              "      <td>0.464184</td>\n",
              "      <td>0.637196</td>\n",
              "      <td>0.793887</td>\n",
              "      <td>0.785306</td>\n",
              "    </tr>\n",
              "  </tbody>\n",
              "</table>\n",
              "</div>"
            ],
            "text/plain": [
              "       Training Loss  Valid. Loss  Valid. Accur.  Valid F1_score\n",
              "epoch                                                           \n",
              "1           0.604016     0.519108       0.781348        0.766779\n",
              "2           0.464184     0.637196       0.793887        0.785306"
            ]
          },
          "metadata": {
            "tags": []
          },
          "execution_count": 318
        }
      ]
    },
    {
      "cell_type": "code",
      "metadata": {
        "id": "ZhJY9ZzP2JwK",
        "colab_type": "code",
        "outputId": "5a63a311-8ea1-482f-9152-7ce0c46b723d",
        "colab": {
          "base_uri": "https://localhost:8080/",
          "height": 427
        }
      },
      "source": [
        "import matplotlib.pyplot as plt\n",
        "% matplotlib inline\n",
        "\n",
        "import seaborn as sns\n",
        "\n",
        "# Increase the plot size and font size.\n",
        "sns.set(font_scale=1.5)\n",
        "plt.rcParams[\"figure.figsize\"] = (12,6)\n",
        "\n",
        "# Plot the learning curve.\n",
        "plt.plot(df_stats['Training Loss'], 'b-o', label=\"Training\")\n",
        "plt.plot(df_stats['Valid. Loss'], 'g-o', label=\"Validation\")\n",
        "\n",
        "# Label the plot.\n",
        "plt.title(\"Training & Validation Loss\")\n",
        "plt.xlabel(\"Epoch\")\n",
        "plt.ylabel(\"Loss\")\n",
        "plt.legend()\n",
        "plt.xticks([1, 2, 3, 4, 5])\n",
        "\n",
        "plt.show()"
      ],
      "execution_count": 319,
      "outputs": [
        {
          "output_type": "display_data",
          "data": {
            "image/png": "[encoded data removed]",
            "text/plain": [
              "<Figure size 864x432 with 1 Axes>"
            ]
          },
          "metadata": {
            "tags": []
          }
        }
      ]
    },
    {
      "cell_type": "markdown",
      "metadata": {
        "id": "mCuM7GlhsZyg",
        "colab_type": "text"
      },
      "source": [
        "Our model is completely over fitting after 2 epochs !"
      ]
    },
    {
      "cell_type": "markdown",
      "metadata": {
        "id": "1QXyz5wUidkY",
        "colab_type": "text"
      },
      "source": [
        "## Evaluation "
      ]
    },
    {
      "cell_type": "code",
      "metadata": {
        "id": "DNnQ2WrXicsx",
        "colab_type": "code",
        "colab": {
          "base_uri": "https://localhost:8080/",
          "height": 51
        },
        "outputId": "f0e97454-d670-4cc4-838f-580d789034f9"
      },
      "source": [
        "\n",
        "# Report the number of sentences.\n",
        "print('Number of test sentences: {:,}\\n'.format(df_dev.shape[0]))\n",
        "\n",
        "# Create sentence and label lists\n",
        "texts = df_dev.Texte.values\n",
        "labels = df_dev.sexe.values\n",
        "# Tokenize all of the sentences and map the tokens to thier word IDs.\n",
        "input_ids = []\n",
        "attention_masks = []\n",
        "num_truncated_tokens =[]\n",
        "# Apply function to our corpus\n",
        "for text in texts:\n",
        "    encoded_dict = tokenizer.encode_plus(\n",
        "                        text,                      # text\n",
        "                        add_special_tokens = True, # Add '[CLS]' and '[SEP]'\n",
        "                        max_length = 500,           # We choose for now a max length of 500.\n",
        "                        pad_to_max_length = True,    # Pad text to max (marche pas en pad left ?)\n",
        "                        return_attention_mask = True,   # Construct attention masks\n",
        "                        return_tensors = 'pt',     # Return pytorch tensors.\n",
        "                        return_overflowing_tokens =True, # return overflowing token information\n",
        "                   )\n",
        "    \n",
        "    # Map tokens to their id in the dictionnary \n",
        "    # We add this to our list    \n",
        "    input_ids.append(encoded_dict['input_ids'])\n",
        " \n",
        "    #num_truncated_tokens.append(encoded_dict['num_truncated_tokens'])\n",
        "    \n",
        "    # 3. Attention masks\n",
        "    attention_masks.append(encoded_dict['attention_mask'])\n",
        "\n",
        "# Convert the lists into tensors.\n",
        "input_ids = torch.cat(input_ids, dim=0)\n",
        "attention_masks = torch.cat(attention_masks, dim=0)\n",
        "labels = torch.tensor(labels)\n",
        "\n",
        "# Set the batch size.  \n",
        "batch_size = 8  \n",
        "\n",
        "# Create the DataLoader.\n",
        "prediction_data = TensorDataset(input_ids, attention_masks, labels)\n",
        "prediction_sampler = SequentialSampler(prediction_data)\n",
        "prediction_dataloader = DataLoader(prediction_data, sampler=prediction_sampler, batch_size=batch_size)"
      ],
      "execution_count": 320,
      "outputs": [
        {
          "output_type": "stream",
          "text": [
            "Number of test sentences: 130\n",
            "\n"
          ],
          "name": "stdout"
        }
      ]
    },
    {
      "cell_type": "code",
      "metadata": {
        "id": "lXSH_9xVjA6H",
        "colab_type": "code",
        "colab": {
          "base_uri": "https://localhost:8080/",
          "height": 51
        },
        "outputId": "990416d3-f141-44b1-a9a2-802de94403ce"
      },
      "source": [
        "# Prediction on test set\n",
        "\n",
        "print('Predicting labels for {:,} test sentences...'.format(len(input_ids)))\n",
        "\n",
        "# Put model in evaluation mode\n",
        "gender_model1.eval()\n",
        "\n",
        "# Tracking variables \n",
        "predictions , true_labels = [], []\n",
        "\n",
        "# Predict \n",
        "for batch in prediction_dataloader:\n",
        "  # Add batch to GPU\n",
        "  batch = tuple(t.to(device) for t in batch)\n",
        "  \n",
        "  # Unpack the inputs from our dataloader\n",
        "  b_input_ids, b_input_mask, b_labels = batch\n",
        "  \n",
        "  # Telling the model not to compute or store gradients, saving memory and \n",
        "  # speeding up prediction\n",
        "  with torch.no_grad():\n",
        "      # Forward pass, calculate logit predictions\n",
        "      outputs = gender_model1(b_input_ids, token_type_ids=None, attention_mask=b_input_mask)\n",
        "\n",
        "  logits = outputs[0]\n",
        "\n",
        "  # Move logits and labels to CPU\n",
        "  logits = logits.detach().cpu().numpy()\n",
        "  label_ids = b_labels.to('cpu').numpy()\n",
        "  \n",
        "  # Store predictions and true labels\n",
        "  #predictions.append(logits)\n",
        "  #true_labels.append(label_ids)\n",
        "  val_batch_preds = np.argmax(logits, axis=1)\n",
        "  val_batch_labels = label_ids\n",
        "  predictions.extend(val_batch_preds)\n",
        "  true_labels.extend(val_batch_labels)\n",
        "\n",
        "\n",
        "print('    DONE.')"
      ],
      "execution_count": 321,
      "outputs": [
        {
          "output_type": "stream",
          "text": [
            "Predicting labels for 130 test sentences...\n",
            "    DONE.\n"
          ],
          "name": "stdout"
        }
      ]
    },
    {
      "cell_type": "code",
      "metadata": {
        "id": "fhpJRYTPjJ-i",
        "colab_type": "code",
        "colab": {}
      },
      "source": [
        "from sklearn.metrics import f1_score\n",
        "from sklearn.metrics import accuracy_score"
      ],
      "execution_count": 0,
      "outputs": []
    },
    {
      "cell_type": "code",
      "metadata": {
        "id": "XP9p0dsbptCx",
        "colab_type": "code",
        "colab": {}
      },
      "source": [
        "pred_tags = [i for i in predictions]\n",
        "true_tags = [i for i in true_labels]"
      ],
      "execution_count": 0,
      "outputs": []
    },
    {
      "cell_type": "code",
      "metadata": {
        "id": "jrjnt2WUqaDT",
        "colab_type": "code",
        "colab": {}
      },
      "source": [
        ""
      ],
      "execution_count": 0,
      "outputs": []
    },
    {
      "cell_type": "code",
      "metadata": {
        "id": "vZW4IKLjjMMC",
        "colab_type": "code",
        "colab": {
          "base_uri": "https://localhost:8080/",
          "height": 34
        },
        "outputId": "c312cc06-e0f6-401a-8eb8-f18f512ee92b"
      },
      "source": [
        "f1_score(true_tags,pred_tags)"
      ],
      "execution_count": 324,
      "outputs": [
        {
          "output_type": "execute_result",
          "data": {
            "text/plain": [
              "0.732824427480916"
            ]
          },
          "metadata": {
            "tags": []
          },
          "execution_count": 324
        }
      ]
    },
    {
      "cell_type": "code",
      "metadata": {
        "id": "Q4crdydWqx6A",
        "colab_type": "code",
        "colab": {
          "base_uri": "https://localhost:8080/",
          "height": 34
        },
        "outputId": "c5a00999-fa0f-41be-af6a-9ef02a00179f"
      },
      "source": [
        "accuracy_score(true_tags, pred_tags)"
      ],
      "execution_count": 325,
      "outputs": [
        {
          "output_type": "execute_result",
          "data": {
            "text/plain": [
              "0.7307692307692307"
            ]
          },
          "metadata": {
            "tags": []
          },
          "execution_count": 325
        }
      ]
    },
    {
      "cell_type": "code",
      "metadata": {
        "id": "CrKoHdGWrXtJ",
        "colab_type": "code",
        "colab": {}
      },
      "source": [
        "df_true_pred=pd.DataFrame([true_tags,pred_tags]).transpose()"
      ],
      "execution_count": 0,
      "outputs": []
    },
    {
      "cell_type": "code",
      "metadata": {
        "id": "qBpl6xQtrvQj",
        "colab_type": "code",
        "colab": {}
      },
      "source": [
        "df_true_pred.columns=['true_tags','pred_tags']"
      ],
      "execution_count": 0,
      "outputs": []
    },
    {
      "cell_type": "code",
      "metadata": {
        "id": "j8G2vJn0ryWV",
        "colab_type": "code",
        "colab": {
          "base_uri": "https://localhost:8080/",
          "height": 1000
        },
        "outputId": "56a10572-5330-48dd-f5d6-9f30503368a3"
      },
      "source": [
        "df_true_pred[df_true_pred['true_tags']!=df_true_pred['pred_tags']]"
      ],
      "execution_count": 328,
      "outputs": [
        {
          "output_type": "execute_result",
          "data": {
            "text/html": [
              "<div>\n",
              "<style scoped>\n",
              "    .dataframe tbody tr th:only-of-type {\n",
              "        vertical-align: middle;\n",
              "    }\n",
              "\n",
              "    .dataframe tbody tr th {\n",
              "        vertical-align: top;\n",
              "    }\n",
              "\n",
              "    .dataframe thead th {\n",
              "        text-align: right;\n",
              "    }\n",
              "</style>\n",
              "<table border=\"1\" class=\"dataframe\">\n",
              "  <thead>\n",
              "    <tr style=\"text-align: right;\">\n",
              "      <th></th>\n",
              "      <th>true_tags</th>\n",
              "      <th>pred_tags</th>\n",
              "    </tr>\n",
              "  </thead>\n",
              "  <tbody>\n",
              "    <tr>\n",
              "      <th>2</th>\n",
              "      <td>1</td>\n",
              "      <td>0</td>\n",
              "    </tr>\n",
              "    <tr>\n",
              "      <th>12</th>\n",
              "      <td>0</td>\n",
              "      <td>1</td>\n",
              "    </tr>\n",
              "    <tr>\n",
              "      <th>16</th>\n",
              "      <td>1</td>\n",
              "      <td>0</td>\n",
              "    </tr>\n",
              "    <tr>\n",
              "      <th>25</th>\n",
              "      <td>1</td>\n",
              "      <td>0</td>\n",
              "    </tr>\n",
              "    <tr>\n",
              "      <th>28</th>\n",
              "      <td>0</td>\n",
              "      <td>1</td>\n",
              "    </tr>\n",
              "    <tr>\n",
              "      <th>30</th>\n",
              "      <td>0</td>\n",
              "      <td>1</td>\n",
              "    </tr>\n",
              "    <tr>\n",
              "      <th>32</th>\n",
              "      <td>1</td>\n",
              "      <td>0</td>\n",
              "    </tr>\n",
              "    <tr>\n",
              "      <th>33</th>\n",
              "      <td>1</td>\n",
              "      <td>0</td>\n",
              "    </tr>\n",
              "    <tr>\n",
              "      <th>35</th>\n",
              "      <td>1</td>\n",
              "      <td>0</td>\n",
              "    </tr>\n",
              "    <tr>\n",
              "      <th>37</th>\n",
              "      <td>0</td>\n",
              "      <td>1</td>\n",
              "    </tr>\n",
              "    <tr>\n",
              "      <th>39</th>\n",
              "      <td>1</td>\n",
              "      <td>0</td>\n",
              "    </tr>\n",
              "    <tr>\n",
              "      <th>44</th>\n",
              "      <td>1</td>\n",
              "      <td>0</td>\n",
              "    </tr>\n",
              "    <tr>\n",
              "      <th>45</th>\n",
              "      <td>0</td>\n",
              "      <td>1</td>\n",
              "    </tr>\n",
              "    <tr>\n",
              "      <th>46</th>\n",
              "      <td>1</td>\n",
              "      <td>0</td>\n",
              "    </tr>\n",
              "    <tr>\n",
              "      <th>49</th>\n",
              "      <td>1</td>\n",
              "      <td>0</td>\n",
              "    </tr>\n",
              "    <tr>\n",
              "      <th>53</th>\n",
              "      <td>1</td>\n",
              "      <td>0</td>\n",
              "    </tr>\n",
              "    <tr>\n",
              "      <th>60</th>\n",
              "      <td>0</td>\n",
              "      <td>1</td>\n",
              "    </tr>\n",
              "    <tr>\n",
              "      <th>62</th>\n",
              "      <td>0</td>\n",
              "      <td>1</td>\n",
              "    </tr>\n",
              "    <tr>\n",
              "      <th>65</th>\n",
              "      <td>1</td>\n",
              "      <td>0</td>\n",
              "    </tr>\n",
              "    <tr>\n",
              "      <th>72</th>\n",
              "      <td>1</td>\n",
              "      <td>0</td>\n",
              "    </tr>\n",
              "    <tr>\n",
              "      <th>79</th>\n",
              "      <td>1</td>\n",
              "      <td>0</td>\n",
              "    </tr>\n",
              "    <tr>\n",
              "      <th>86</th>\n",
              "      <td>1</td>\n",
              "      <td>0</td>\n",
              "    </tr>\n",
              "    <tr>\n",
              "      <th>87</th>\n",
              "      <td>1</td>\n",
              "      <td>0</td>\n",
              "    </tr>\n",
              "    <tr>\n",
              "      <th>94</th>\n",
              "      <td>1</td>\n",
              "      <td>0</td>\n",
              "    </tr>\n",
              "    <tr>\n",
              "      <th>95</th>\n",
              "      <td>1</td>\n",
              "      <td>0</td>\n",
              "    </tr>\n",
              "    <tr>\n",
              "      <th>96</th>\n",
              "      <td>1</td>\n",
              "      <td>0</td>\n",
              "    </tr>\n",
              "    <tr>\n",
              "      <th>97</th>\n",
              "      <td>1</td>\n",
              "      <td>0</td>\n",
              "    </tr>\n",
              "    <tr>\n",
              "      <th>115</th>\n",
              "      <td>1</td>\n",
              "      <td>0</td>\n",
              "    </tr>\n",
              "    <tr>\n",
              "      <th>116</th>\n",
              "      <td>0</td>\n",
              "      <td>1</td>\n",
              "    </tr>\n",
              "    <tr>\n",
              "      <th>117</th>\n",
              "      <td>0</td>\n",
              "      <td>1</td>\n",
              "    </tr>\n",
              "    <tr>\n",
              "      <th>118</th>\n",
              "      <td>0</td>\n",
              "      <td>1</td>\n",
              "    </tr>\n",
              "    <tr>\n",
              "      <th>122</th>\n",
              "      <td>0</td>\n",
              "      <td>1</td>\n",
              "    </tr>\n",
              "    <tr>\n",
              "      <th>125</th>\n",
              "      <td>1</td>\n",
              "      <td>0</td>\n",
              "    </tr>\n",
              "    <tr>\n",
              "      <th>128</th>\n",
              "      <td>1</td>\n",
              "      <td>0</td>\n",
              "    </tr>\n",
              "    <tr>\n",
              "      <th>129</th>\n",
              "      <td>1</td>\n",
              "      <td>0</td>\n",
              "    </tr>\n",
              "  </tbody>\n",
              "</table>\n",
              "</div>"
            ],
            "text/plain": [
              "     true_tags  pred_tags\n",
              "2            1          0\n",
              "12           0          1\n",
              "16           1          0\n",
              "25           1          0\n",
              "28           0          1\n",
              "30           0          1\n",
              "32           1          0\n",
              "33           1          0\n",
              "35           1          0\n",
              "37           0          1\n",
              "39           1          0\n",
              "44           1          0\n",
              "45           0          1\n",
              "46           1          0\n",
              "49           1          0\n",
              "53           1          0\n",
              "60           0          1\n",
              "62           0          1\n",
              "65           1          0\n",
              "72           1          0\n",
              "79           1          0\n",
              "86           1          0\n",
              "87           1          0\n",
              "94           1          0\n",
              "95           1          0\n",
              "96           1          0\n",
              "97           1          0\n",
              "115          1          0\n",
              "116          0          1\n",
              "117          0          1\n",
              "118          0          1\n",
              "122          0          1\n",
              "125          1          0\n",
              "128          1          0\n",
              "129          1          0"
            ]
          },
          "metadata": {
            "tags": []
          },
          "execution_count": 328
        }
      ]
    },
    {
      "cell_type": "markdown",
      "metadata": {
        "id": "RcGOO8vm3jwL",
        "colab_type": "text"
      },
      "source": [
        ""
      ]
    },
    {
      "cell_type": "markdown",
      "metadata": {
        "id": "sdmReVji0KF5",
        "colab_type": "text"
      },
      "source": [
        "RESTE A FAIRE A VOIR AVEC MELCHIOR \n",
        "A discuter : \n",
        "- Texte preprocessing ? ENlever monsieur, madame ? \n",
        "- quel autre modèle réaliser (type de texte qu'on prend...etc) \n",
        "- optimizer\n",
        "- number of batch / sample / epochs (low) \n",
        "- change criterion \n",
        "- More analysis ? what to add ? \n",
        "\n",
        "A demander : \n",
        "- Comment je split le texte en plusieurs \n",
        "\n",
        "\n",
        "RESTE A FAIRE MORGANE : \n",
        "- improve loop ? \n",
        "- Analyse dernière partie \n",
        "- Analyse test set (which one were not well predicted)\n",
        "- Enregistrer les modèles ? (A voir pour montrer les résultats un a un avec les différentes données de base A DISCUTER) \n",
        "\n",
        "\n",
        "TRUC QUE J'AIMERAIS FAIRE : \n",
        "Analyser une phrase avec le score. \n",
        "\n",
        "INTERVIEW TEST ???? Si base de données déjà prête ca run sur ce code sans soucis \n",
        "\n"
      ]
    },
    {
      "cell_type": "code",
      "metadata": {
        "id": "b2heoobpm69S",
        "colab_type": "code",
        "colab": {}
      },
      "source": [
        ""
      ],
      "execution_count": 0,
      "outputs": []
    },
    {
      "cell_type": "code",
      "metadata": {
        "id": "u5oSWe6nm63Q",
        "colab_type": "code",
        "colab": {}
      },
      "source": [
        ""
      ],
      "execution_count": 0,
      "outputs": []
    },
    {
      "cell_type": "code",
      "metadata": {
        "id": "KqcRkgeSm60n",
        "colab_type": "code",
        "outputId": "103fcb28-f464-4e65-8b5f-41bb710cac79",
        "colab": {
          "base_uri": "https://localhost:8080/",
          "height": 129
        }
      },
      "source": [
        "@article{Wolf2019HuggingFacesTS,\n",
        "  title={HuggingFace's Transformers: State-of-the-art Natural Language Processing},\n",
        "  author={Thomas Wolf and Lysandre Debut and Victor Sanh and Julien Chaumond and Clement Delangue and Anthony Moi and Pierric Cistac and Tim Rault and R'emi Louf and Morgan Funtowicz and Jamie Brew},\n",
        "  journal={ArXiv},\n",
        "  year={2019},\n",
        "  volume={abs/1910.03771}\n",
        "}"
      ],
      "execution_count": 0,
      "outputs": [
        {
          "output_type": "error",
          "ename": "SyntaxError",
          "evalue": "ignored",
          "traceback": [
            "\u001b[0;36m  File \u001b[0;32m\"<ipython-input-26-c848a20e4352>\"\u001b[0;36m, line \u001b[0;32m1\u001b[0m\n\u001b[0;31m    @article{Wolf2019HuggingFacesTS,\u001b[0m\n\u001b[0m            ^\u001b[0m\n\u001b[0;31mSyntaxError\u001b[0m\u001b[0;31m:\u001b[0m invalid syntax\n"
          ]
        }
      ]
    },
    {
      "cell_type": "code",
      "metadata": {
        "id": "Z2xLw0mY6tzP",
        "colab_type": "code",
        "colab": {}
      },
      "source": [
        ""
      ],
      "execution_count": 0,
      "outputs": []
    }
  ]
}