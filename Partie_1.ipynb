{
  "nbformat": 4,
  "nbformat_minor": 0,
  "metadata": {
    "accelerator": "GPU",
    "colab": {
      "name": "Partie 1.ipynb",
      "provenance": [],
      "collapsed_sections": [],
      "toc_visible": true,
      "include_colab_link": true
    },
    "kernelspec": {
      "display_name": "Python 3",
      "language": "python",
      "name": "python3"
    },
    "language_info": {
      "codemirror_mode": {
        "name": "ipython",
        "version": 3
      },
      "file_extension": ".py",
      "mimetype": "text/x-python",
      "name": "python",
      "nbconvert_exporter": "python",
      "pygments_lexer": "ipython3",
      "version": "3.7.6"
    }
  },
  "cells": [
    {
      "cell_type": "markdown",
      "metadata": {
        "id": "view-in-github",
        "colab_type": "text"
      },
      "source": [
        "<a href=\"https://colab.research.google.com/github/cerezamo/NLP_brouillon/blob/master/Partie_1.ipynb\" target=\"_parent\"><img src=\"https://colab.research.google.com/assets/colab-badge.svg\" alt=\"Open In Colab\"/></a>"
      ]
    },
    {
      "cell_type": "markdown",
      "metadata": {
        "id": "8DeV23INw1no",
        "colab_type": "text"
      },
      "source": [
        "# Are men and women politician speaking the same language ? \n",
        "\n",
        "This projects aims at building a gender classifier for text from a corpus of French political speeches \n",
        "\n",
        "We use for that purpose a NLP toolbox and we proceed in three different steps. \n",
        "\n",
        "\n",
        "1.   Explore the corpus and extract relevant features\n",
        "2.   Create a baseline model\n",
        "3.   Compare the baseline model with a CamemBERT \n",
        "\n",
        "[texte du lien](https://)"
      ]
    },
    {
      "cell_type": "markdown",
      "metadata": {
        "id": "BSeLd-XCw1nq",
        "colab_type": "text"
      },
      "source": [
        "## Part I : Corpus analysis"
      ]
    },
    {
      "cell_type": "markdown",
      "metadata": {
        "id": "PhmaAKgiw1ns",
        "colab_type": "text"
      },
      "source": [
        "### Downloading packages"
      ]
    },
    {
      "cell_type": "code",
      "metadata": {
        "colab_type": "code",
        "id": "UJX0SjOhXujH",
        "colab": {}
      },
      "source": [
        "!python -m spacy download fr_core_news_md\n",
        "import nltk\n",
        "nltk.download('punkt')"
      ],
      "execution_count": 0,
      "outputs": []
    },
    {
      "cell_type": "code",
      "metadata": {
        "colab_type": "code",
        "id": "DIfjgsnUXYYn",
        "outputId": "b9f362db-3980-4ec8-c2e3-c89d703cd63d",
        "colab": {
          "base_uri": "https://localhost:8080/",
          "height": 71
        }
      },
      "source": [
        "import spacy\n",
        "from funct import *\n",
        "import nltk\n",
        "import matplotlib.pyplot as plt\n",
        "import numpy as np\n",
        "from functools import reduce\n",
        "from operator import add\n",
        "from spacy.lang.fr.stop_words import STOP_WORDS as fr_stop\n",
        "from spacy.tokenizer import Tokenizer\n",
        "from nltk.corpus import stopwords\n",
        "from nltk.tokenize import word_tokenize\n",
        "from nltk import RegexpTokenizer\n",
        "from os import path\n",
        "from PIL import Image\n",
        "import funct\n",
        "sent_detector = nltk.data.load('tokenizers/punkt/french.pickle')\n",
        "nlp = spacy.load('fr_core_news_md') \n",
        "import multiprocessing as mp\n",
        "from collections import Counter\n",
        "import pandas as pd\n",
        "import matplotlib.pyplot as plt\n",
        "import seaborn as sns \n",
        "import numpy as np\n",
        "from gensim.test.utils import common_texts\n",
        "from gensim.models.doc2vec import Doc2Vec, TaggedDocument\n",
        "from tqdm import tqdm\n",
        "from sklearn import utils\n",
        "from sklearn.metrics import (\n",
        "    recall_score,\n",
        "    accuracy_score,\n",
        "    precision_score,\n",
        "    roc_auc_score,\n",
        "    f1_score,\n",
        "    classification_report,\n",
        "    confusion_matrix,\n",
        "    roc_curve,\n",
        "    scorer)\n",
        "#from wordcloud import WordCloud, STOPWORDS, ImageColorGenerator"
      ],
      "execution_count": 0,
      "outputs": [
        {
          "output_type": "stream",
          "text": [
            "/usr/local/lib/python3.6/dist-packages/sklearn/utils/deprecation.py:144: FutureWarning: The sklearn.metrics.scorer module is  deprecated in version 0.22 and will be removed in version 0.24. The corresponding classes / functions should instead be imported from sklearn.metrics. Anything that cannot be imported from sklearn.metrics is now part of the private API.\n",
            "  warnings.warn(message, FutureWarning)\n"
          ],
          "name": "stderr"
        }
      ]
    },
    {
      "cell_type": "code",
      "metadata": {
        "colab_type": "code",
        "id": "-Bf4EAi3TCY3",
        "colab": {}
      },
      "source": [
        "import numpy as np\n",
        "import pandas as pd\n",
        "import matplotlib.pyplot as plt\n",
        "import seaborn as sns \n",
        "sns.set_palette(\"husl\")"
      ],
      "execution_count": 0,
      "outputs": []
    },
    {
      "cell_type": "markdown",
      "metadata": {
        "colab_type": "text",
        "id": "fds26RJOZd4W"
      },
      "source": [
        "We import our corpus in the notebook. \n",
        "This corpus has been scrapped from : https://www.vie-publique.fr/discours.\n",
        "Because of the very large size of the corpus, we decide to only use 'déclarations' and 'discours' (interviews are deleted). Moreover, we choose to select two subdataframe from this large one. Both have a shape of 5000 documents but one respect the repartition of male/female of our full corpus and the other is a balanced dataset with 2500/2500.\n",
        "\n",
        "\n",
        "In this part we will first do some processing and extract features which seems to be important to discriminize women and men (based on literature borrowed from psychology and language analysis)."
      ]
    },
    {
      "cell_type": "code",
      "metadata": {
        "colab_type": "code",
        "id": "UGM08frcZgBr",
        "outputId": "7f8b2da0-943d-4c50-980a-152065ff52d4",
        "colab": {}
      },
      "source": [
        "df = pd.read_csv('medium_df_deseq.csv')\n",
        "df.head()"
      ],
      "execution_count": 0,
      "outputs": [
        {
          "output_type": "execute_result",
          "data": {
            "text/html": [
              "<div>\n",
              "<style scoped>\n",
              "    .dataframe tbody tr th:only-of-type {\n",
              "        vertical-align: middle;\n",
              "    }\n",
              "\n",
              "    .dataframe tbody tr th {\n",
              "        vertical-align: top;\n",
              "    }\n",
              "\n",
              "    .dataframe thead th {\n",
              "        text-align: right;\n",
              "    }\n",
              "</style>\n",
              "<table border=\"1\" class=\"dataframe\">\n",
              "  <thead>\n",
              "    <tr style=\"text-align: right;\">\n",
              "      <th></th>\n",
              "      <th>Unnamed: 0</th>\n",
              "      <th>Id</th>\n",
              "      <th>Titre</th>\n",
              "      <th>Type</th>\n",
              "      <th>Theme</th>\n",
              "      <th>Prenom</th>\n",
              "      <th>Nom</th>\n",
              "      <th>Fonction</th>\n",
              "      <th>Date</th>\n",
              "      <th>Tags</th>\n",
              "      <th>Texte</th>\n",
              "      <th>Lien</th>\n",
              "      <th>PRENOM</th>\n",
              "      <th>preusuel</th>\n",
              "      <th>sexe</th>\n",
              "    </tr>\n",
              "  </thead>\n",
              "  <tbody>\n",
              "    <tr>\n",
              "      <th>0</th>\n",
              "      <td>10504</td>\n",
              "      <td>144565</td>\n",
              "      <td>Déclaration de M. Jacques Chirac, Président de...</td>\n",
              "      <td>déclaration</td>\n",
              "      <td>International</td>\n",
              "      <td>Jacques</td>\n",
              "      <td>Chirac</td>\n",
              "      <td>NaN</td>\n",
              "      <td>1998-10-03T12:00:00Z</td>\n",
              "      <td>Défense,Politique de la défense</td>\n",
              "      <td>Messieurs,Je suis heureux de vous saluer. Quan...</td>\n",
              "      <td>https://www.vie-publique.fr/discours/144565-de...</td>\n",
              "      <td>JACQUES</td>\n",
              "      <td>JACQUES</td>\n",
              "      <td>1</td>\n",
              "    </tr>\n",
              "    <tr>\n",
              "      <th>1</th>\n",
              "      <td>3304</td>\n",
              "      <td>196091</td>\n",
              "      <td>Déclaration de M. Laurent Fabius, ministre des...</td>\n",
              "      <td>déclaration</td>\n",
              "      <td>Société</td>\n",
              "      <td>Laurent</td>\n",
              "      <td>Fabius</td>\n",
              "      <td>NaN</td>\n",
              "      <td>2015-08-26T12:00:00Z</td>\n",
              "      <td>Environnement,Climat</td>\n",
              "      <td>Tout ce que nous avons entendu au cours de cet...</td>\n",
              "      <td>https://www.vie-publique.fr/discours/196091-de...</td>\n",
              "      <td>LAURENT</td>\n",
              "      <td>LAURENT</td>\n",
              "      <td>1</td>\n",
              "    </tr>\n",
              "    <tr>\n",
              "      <th>2</th>\n",
              "      <td>8816</td>\n",
              "      <td>128510</td>\n",
              "      <td>Déclaration de M. François Hollande, premier s...</td>\n",
              "      <td>déclaration</td>\n",
              "      <td>Institutions</td>\n",
              "      <td>François</td>\n",
              "      <td>Hollande</td>\n",
              "      <td>NaN</td>\n",
              "      <td>2002-03-14T12:00:00Z</td>\n",
              "      <td>Citoyenneté - Elections,Personnalité politique</td>\n",
              "      <td>Cher(e)s Ami(e)s, Cher(e)s Camarades, C'est av...</td>\n",
              "      <td>https://www.vie-publique.fr/discours/128510-de...</td>\n",
              "      <td>FRANÇOIS</td>\n",
              "      <td>FRANÇOIS</td>\n",
              "      <td>1</td>\n",
              "    </tr>\n",
              "    <tr>\n",
              "      <th>3</th>\n",
              "      <td>19491</td>\n",
              "      <td>140697</td>\n",
              "      <td>Déclaration de M. Alain Lambert, ministre délé...</td>\n",
              "      <td>déclaration</td>\n",
              "      <td>International</td>\n",
              "      <td>Alain</td>\n",
              "      <td>Lambert</td>\n",
              "      <td>NaN</td>\n",
              "      <td>2003-06-11T12:00:00Z</td>\n",
              "      <td>Relations internationales,Frontière</td>\n",
              "      <td>Mesdames,messieurs, C'est avec grand plaisir q...</td>\n",
              "      <td>https://www.vie-publique.fr/discours/140697-de...</td>\n",
              "      <td>ALAIN</td>\n",
              "      <td>ALAIN</td>\n",
              "      <td>1</td>\n",
              "    </tr>\n",
              "    <tr>\n",
              "      <th>4</th>\n",
              "      <td>6289</td>\n",
              "      <td>195589</td>\n",
              "      <td>Déclaration de M. François Hollande, Président...</td>\n",
              "      <td>déclaration</td>\n",
              "      <td>International</td>\n",
              "      <td>François</td>\n",
              "      <td>Hollande</td>\n",
              "      <td>NaN</td>\n",
              "      <td>2015-07-03T12:00:00Z</td>\n",
              "      <td>Relations internationales,Relations bilatérale...</td>\n",
              "      <td>Mesdames, Messieurs, bonsoir - j'allais dire b...</td>\n",
              "      <td>https://www.vie-publique.fr/discours/195589-de...</td>\n",
              "      <td>FRANÇOIS</td>\n",
              "      <td>FRANÇOIS</td>\n",
              "      <td>1</td>\n",
              "    </tr>\n",
              "  </tbody>\n",
              "</table>\n",
              "</div>"
            ],
            "text/plain": [
              "   Unnamed: 0      Id                                              Titre  \\\n",
              "0       10504  144565  Déclaration de M. Jacques Chirac, Président de...   \n",
              "1        3304  196091  Déclaration de M. Laurent Fabius, ministre des...   \n",
              "2        8816  128510  Déclaration de M. François Hollande, premier s...   \n",
              "3       19491  140697  Déclaration de M. Alain Lambert, ministre délé...   \n",
              "4        6289  195589  Déclaration de M. François Hollande, Président...   \n",
              "\n",
              "          Type          Theme    Prenom       Nom Fonction  \\\n",
              "0  déclaration  International   Jacques    Chirac      NaN   \n",
              "1  déclaration        Société   Laurent    Fabius      NaN   \n",
              "2  déclaration   Institutions  François  Hollande      NaN   \n",
              "3  déclaration  International     Alain   Lambert      NaN   \n",
              "4  déclaration  International  François  Hollande      NaN   \n",
              "\n",
              "                   Date                                               Tags  \\\n",
              "0  1998-10-03T12:00:00Z                    Défense,Politique de la défense   \n",
              "1  2015-08-26T12:00:00Z                               Environnement,Climat   \n",
              "2  2002-03-14T12:00:00Z     Citoyenneté - Elections,Personnalité politique   \n",
              "3  2003-06-11T12:00:00Z                Relations internationales,Frontière   \n",
              "4  2015-07-03T12:00:00Z  Relations internationales,Relations bilatérale...   \n",
              "\n",
              "                                               Texte  \\\n",
              "0  Messieurs,Je suis heureux de vous saluer. Quan...   \n",
              "1  Tout ce que nous avons entendu au cours de cet...   \n",
              "2  Cher(e)s Ami(e)s, Cher(e)s Camarades, C'est av...   \n",
              "3  Mesdames,messieurs, C'est avec grand plaisir q...   \n",
              "4  Mesdames, Messieurs, bonsoir - j'allais dire b...   \n",
              "\n",
              "                                                Lien    PRENOM  preusuel  sexe  \n",
              "0  https://www.vie-publique.fr/discours/144565-de...   JACQUES   JACQUES     1  \n",
              "1  https://www.vie-publique.fr/discours/196091-de...   LAURENT   LAURENT     1  \n",
              "2  https://www.vie-publique.fr/discours/128510-de...  FRANÇOIS  FRANÇOIS     1  \n",
              "3  https://www.vie-publique.fr/discours/140697-de...     ALAIN     ALAIN     1  \n",
              "4  https://www.vie-publique.fr/discours/195589-de...  FRANÇOIS  FRANÇOIS     1  "
            ]
          },
          "metadata": {
            "tags": []
          },
          "execution_count": 4
        }
      ]
    },
    {
      "cell_type": "markdown",
      "metadata": {
        "id": "u2uTZeEVw1n_",
        "colab_type": "text"
      },
      "source": [
        "### Some basic external statistics"
      ]
    },
    {
      "cell_type": "markdown",
      "metadata": {
        "colab_type": "text",
        "id": "lKraQH83ZqaW"
      },
      "source": [
        "We clean the encoding of the text as a first treatment. "
      ]
    },
    {
      "cell_type": "code",
      "metadata": {
        "colab_type": "code",
        "id": "kwKVV3x2qXVl",
        "colab": {}
      },
      "source": [
        "df.Texte = df.Texte.apply(lambda x : x.replace('\\xa0','').replace('\\x85','').replace('\\x96','').replace('\\x92',\"'\").replace('\\x80',''))\n",
        "df.Texte = df.Texte.apply(remove_source)"
      ],
      "execution_count": 0,
      "outputs": []
    },
    {
      "cell_type": "code",
      "metadata": {
        "id": "2TKH7330w1oD",
        "colab_type": "code",
        "outputId": "d438fc28-76f8-4bb1-f8b4-cf7db585b70f",
        "colab": {}
      },
      "source": [
        "print('On average, text length is {}'.format(round(df.Texte.apply(len).mean())))"
      ],
      "execution_count": 0,
      "outputs": [
        {
          "output_type": "stream",
          "text": [
            "On average, text length is 11571\n"
          ],
          "name": "stdout"
        }
      ]
    },
    {
      "cell_type": "code",
      "metadata": {
        "id": "5SWb7l1Vw1oH",
        "colab_type": "code",
        "outputId": "17897410-d1ff-407e-b037-a88942fb86d6",
        "colab": {}
      },
      "source": [
        "%matplotlib inline\n",
        "df.Texte.apply(len).hist(bins=100)\n",
        "plt.show()"
      ],
      "execution_count": 0,
      "outputs": [
        {
          "output_type": "display_data",
          "data": {
            "image/png": "[encoded data removed]",
            "text/plain": [
              "<Figure size 432x288 with 1 Axes>"
            ]
          },
          "metadata": {
            "tags": [],
            "needs_background": "light"
          }
        }
      ]
    },
    {
      "cell_type": "markdown",
      "metadata": {
        "id": "CfwsIsgaw1oU",
        "colab_type": "text"
      },
      "source": [
        "#### Speakers gender proportions"
      ]
    },
    {
      "cell_type": "code",
      "metadata": {
        "id": "1zUad_q4w1oV",
        "colab_type": "code",
        "outputId": "3ee2eb22-727c-4bbd-b5f2-e527a7963c75",
        "colab": {}
      },
      "source": [
        "print('The corpus gathers {} political speeches' .format(len(df)))\n",
        "print('There are {} male speakers and {} female speakers'.format(df.sexe.map(str).value_counts()[0],df.sexe.map(str).value_counts()[1]))"
      ],
      "execution_count": 0,
      "outputs": [
        {
          "output_type": "stream",
          "text": [
            "The corpus gathers 5000 political speeches\n",
            "There are 3750 male speakers and 1250 female speakers\n"
          ],
          "name": "stdout"
        }
      ]
    },
    {
      "cell_type": "code",
      "metadata": {
        "colab_type": "code",
        "id": "VB9UnirIZz9g",
        "outputId": "a881ef1a-d175-45e6-8a53-f40e70b4a2d4",
        "colab": {
          "base_uri": "https://localhost:8080/",
          "height": 313
        }
      },
      "source": [
        "labels = ['Male','Female']\n",
        "#colors = ['#ffcc99','#ff9999']\n",
        "sizes = [ len(df[df.sexe ==1]),len(df[df.sexe ==2])]\n",
        "fig, ax1 = plt.subplots()\n",
        "plt.pie(sizes, labels=labels, autopct='%1.1f%%', startangle=90, pctdistance=0.85)\n",
        "centre_circle = plt.Circle((0,0),0.70,fc='white')\n",
        "fig = plt.gcf()\n",
        "fig.gca().add_artist(centre_circle)\n",
        "ax1.axis('equal')  \n",
        "plt.tight_layout()\n",
        "plt.title(\"Speakers gender proportions\")\n",
        "plt.show()"
      ],
      "execution_count": 0,
      "outputs": [
        {
          "output_type": "display_data",
          "data": {
            "image/png": "[encoded data removed]",
            "text/plain": [
              "<Figure size 432x288 with 1 Axes>"
            ]
          },
          "metadata": {
            "tags": []
          }
        }
      ]
    },
    {
      "cell_type": "markdown",
      "metadata": {
        "id": "4LVgR0Diw1ob",
        "colab_type": "text"
      },
      "source": [
        "Without surprise we have an unbalanced corpus with men being much more represented than women."
      ]
    },
    {
      "cell_type": "markdown",
      "metadata": {
        "colab_type": "text",
        "id": "-k0uRRqqaLFA"
      },
      "source": [
        "#### Speakers gender through time "
      ]
    },
    {
      "cell_type": "markdown",
      "metadata": {
        "id": "f3AOVnLgw1oc",
        "colab_type": "text"
      },
      "source": [
        "One of the very nice feature of our corpus is that we have access to almot all government speeches and interview from 1990. Let's see how the proportion of women and men in the corpus changed through years. "
      ]
    },
    {
      "cell_type": "code",
      "metadata": {
        "colab_type": "code",
        "id": "TYfmQbryaBXg",
        "outputId": "9cb495b1-e7a9-4bea-ccb8-93506d03c80c",
        "colab": {
          "base_uri": "https://localhost:8080/",
          "height": 436
        }
      },
      "source": [
        "df['Annee']= df.Date.map(str).apply(lambda x:x[:4])\n",
        "lst=[]\n",
        "for an in df.Annee.unique():\n",
        "    for s in df.sexe.unique():\n",
        "        if s == 1:\n",
        "            sexe= 'Male'\n",
        "        else:\n",
        "            sexe='Female'\n",
        "        lst+=[(an,len(df[(df.Annee == an) & (df.sexe == s)]),sexe)]\n",
        "data = pd.DataFrame(lst,columns=['Annee','Nb','Sexe'])\n",
        "data=data[data['Annee']>='1990']\n",
        "plt.figure(figsize=(10,6))\n",
        "sns.barplot(data = data,\n",
        "            x='Annee',\n",
        "            y='Nb',\n",
        "           hue='Sexe')\n",
        "plt.xticks(rotation = 45)\n",
        "plt.title(\"Evolution of the number of speeches and the balance between men and women speakers from 1980 to the beginning of 2020\")\n",
        "plt.show()"
      ],
      "execution_count": 0,
      "outputs": [
        {
          "output_type": "display_data",
          "data": {
            "image/png": "[encoded data removed]",
            "text/plain": [
              "<Figure size 720x432 with 1 Axes>"
            ]
          },
          "metadata": {
            "tags": [],
            "needs_background": "light"
          }
        }
      ]
    },
    {
      "cell_type": "markdown",
      "metadata": {
        "id": "FJiDmIA8w1of",
        "colab_type": "text"
      },
      "source": [
        "We definitely see an increase in the absolute number of female speakers. However the gap is still important. \n",
        "In 2019 we see that eventually the number of male and female speakers are really close. "
      ]
    },
    {
      "cell_type": "markdown",
      "metadata": {
        "id": "E4sAeHgPw1og",
        "colab_type": "text"
      },
      "source": [
        "####  Speaker's gender and speeches general theme"
      ]
    },
    {
      "cell_type": "code",
      "metadata": {
        "colab_type": "code",
        "id": "iUlHnqHRaZEN",
        "outputId": "6f64a85e-0605-47c1-becc-b6c222823334",
        "colab": {
          "base_uri": "https://localhost:8080/",
          "height": 419
        }
      },
      "source": [
        "df.Tags.fillna('',inplace=True)\n",
        "arr =df[df.sexe == 2].Tags.apply(lambda x: str(x).split(',')).array\n",
        "arr = reduce(add,arr)\n",
        "c = Counter(arr)\n",
        "d_f = pd.DataFrame(c, index=['occurrences']).transpose().reset_index()\n",
        "d_f.columns=['Themes', 'occurences']\n",
        "d_f.occurences = d_f.occurences.apply(lambda x:(x/d_f.occurences.sum())*100)\n",
        "d_f['sexe'] = 'Female'\n",
        "arr =df[df.sexe == 1].Tags.apply(lambda x: str(x).split(',')).array\n",
        "arr = reduce(add,arr)\n",
        "c = Counter(arr)\n",
        "d_m = pd.DataFrame(c, index=['occurrences']).transpose().reset_index()\n",
        "d_m.columns=['Themes', 'occurences']\n",
        "d_m.occurences = d_m.occurences.apply(lambda x:(x/d_m.occurences.sum())*100)\n",
        "d_m['sexe'] = 'Male'\n",
        "d = pd.concat([d_f,d_m])\n",
        "plt.figure(figsize=(13,13))\n",
        "plt.subplot(221)\n",
        "sns.barplot(data = d[(d.occurences >= 0.5) & (d.Themes.apply(len) >0) & (d.sexe == 'Male')].sort_values('occurences',ascending=False).head(15),\n",
        "            y='Themes',\n",
        "            x='occurences',\n",
        "           color='pink')\n",
        "plt.title(\"Tags for mens\")\n",
        "plt.subplot(222)\n",
        "sns.barplot(data = d[(d.occurences >= 0.6) & (d.Themes.apply(len) >0) & (d.sexe == 'Female')].sort_values('occurences',ascending=False).head(15),\n",
        "            y='Themes',\n",
        "            x='occurences',\n",
        "           color = 'brown')\n",
        "plt.title(\"Tags for women\")\n",
        "plt.subplots_adjust(wspace = 1.5)"
      ],
      "execution_count": 0,
      "outputs": [
        {
          "output_type": "display_data",
          "data": {
            "image/png": "[encoded data removed]",
            "text/plain": [
              "<Figure size 936x936 with 2 Axes>"
            ]
          },
          "metadata": {
            "tags": [],
            "needs_background": "light"
          }
        }
      ]
    },
    {
      "cell_type": "markdown",
      "metadata": {
        "id": "178NORd2w1oj",
        "colab_type": "text"
      },
      "source": [
        "Men and women are not talking about the same subjects. If women are more likely to speak about Society and Health, men are more likely to speak about international relations and economics. "
      ]
    },
    {
      "cell_type": "code",
      "metadata": {
        "colab_type": "code",
        "id": "1mXbfcADbHIi",
        "outputId": "52e65616-3a34-44fd-8630-bc9cee8e0272",
        "colab": {
          "base_uri": "https://localhost:8080/",
          "height": 404
        }
      },
      "source": [
        "df.Theme.fillna('',inplace=True)\n",
        "arr =df[df.sexe == 1].Theme.apply(lambda x: str(x).split(',')).array\n",
        "arr = reduce(add,arr)\n",
        "c = Counter(arr)\n",
        "d_m = pd.DataFrame(c, index=['occurrences']).transpose().reset_index()\n",
        "d_m.columns=['Themes', 'occurences']\n",
        "d_m.occurences = d_m.occurences.apply(lambda x:(x/d_m.occurences.sum())*100)\n",
        "d_m['sexe'] = 'Male'\n",
        "arr =df[df.sexe == 2].Theme.apply(lambda x: str(x).split(',')).array\n",
        "arr = reduce(add,arr)\n",
        "c = Counter(arr)\n",
        "d_f = pd.DataFrame(c, index=['occurrences']).transpose().reset_index()\n",
        "d_f.columns=['Themes', 'occurences']\n",
        "d_f.occurences = d_f.occurences.apply(lambda x:(x/d_f.occurences.sum())*100)\n",
        "d_f['sexe'] = 'Female'\n",
        "d = pd.concat([d_m,d_f])\n",
        "plt.figure(figsize=(10,6))\n",
        "sns.barplot(data = d[d.Themes != ''],hue = 'sexe',x='Themes',y='occurences')\n",
        "plt.title('Répartition des thèmes des élocutions en fonction du sexe')\n",
        "plt.xticks(rotation=0)\n",
        "plt.show()"
      ],
      "execution_count": 0,
      "outputs": [
        {
          "output_type": "display_data",
          "data": {
            "image/png": "[encoded data removed]",
            "text/plain": [
              "<Figure size 720x432 with 1 Axes>"
            ]
          },
          "metadata": {
            "tags": [],
            "needs_background": "light"
          }
        }
      ]
    },
    {
      "cell_type": "markdown",
      "metadata": {
        "id": "UiU-tBaVw1on",
        "colab_type": "text"
      },
      "source": [
        "We represent the same chart but with a lower level of granularity in themes. The same conclustion can be drawn. "
      ]
    },
    {
      "cell_type": "markdown",
      "metadata": {
        "id": "lrCOKWHTw1on",
        "colab_type": "text"
      },
      "source": [
        "After this brief introduction we will dive into our texts. The next section focuses on cleaning and preprocessing our texts. We will try to construct some quantitative metrics that could be , in our opinion, explanatory features to differenciate female and male speakers. \n"
      ]
    },
    {
      "cell_type": "markdown",
      "metadata": {
        "colab_type": "text",
        "id": "tcGyTSDxbZC4"
      },
      "source": [
        "### Word-level preprocessing"
      ]
    },
    {
      "cell_type": "markdown",
      "metadata": {
        "id": "C0OW7SHLw1op",
        "colab_type": "text"
      },
      "source": [
        "Let's try different tokenizers ! "
      ]
    },
    {
      "cell_type": "code",
      "metadata": {
        "colab_type": "code",
        "id": "M2KhPmY9bJr6",
        "colab": {}
      },
      "source": [
        "tokenizer = Tokenizer(nlp.vocab)\n",
        "toknizer = RegexpTokenizer(r'''\\w'|\\w+|[^\\w\\s]''')"
      ],
      "execution_count": 0,
      "outputs": []
    },
    {
      "cell_type": "code",
      "metadata": {
        "id": "-UMiYbPAw1os",
        "colab_type": "code",
        "outputId": "fbe44bab-da5b-448d-bc03-2d9d2deb8a19",
        "colab": {}
      },
      "source": [
        "print(len([w for w in tokenizer(df.Texte[0])]))"
      ],
      "execution_count": 0,
      "outputs": [
        {
          "output_type": "stream",
          "text": [
            "1702\n"
          ],
          "name": "stdout"
        }
      ]
    },
    {
      "cell_type": "code",
      "metadata": {
        "id": "Rf0vpVUxw1ou",
        "colab_type": "code",
        "outputId": "2cdddbf1-9c54-4ebb-a7c6-41d365c3bc63",
        "colab": {}
      },
      "source": [
        "([w for w in tokenizer(df.Texte[0])])[0:10]"
      ],
      "execution_count": 0,
      "outputs": [
        {
          "output_type": "execute_result",
          "data": {
            "text/plain": [
              "[Messieurs,Je, suis, heureux, de, vous, saluer., Quand, je, dis, que]"
            ]
          },
          "metadata": {
            "tags": []
          },
          "execution_count": 18
        }
      ]
    },
    {
      "cell_type": "code",
      "metadata": {
        "id": "DsFuxRJ0w1o1",
        "colab_type": "code",
        "outputId": "e64ef5dc-3955-42b9-d812-3d2f26313251",
        "colab": {}
      },
      "source": [
        "print(len(word_tokenize(df.Texte[0], language='french')))"
      ],
      "execution_count": 0,
      "outputs": [
        {
          "output_type": "stream",
          "text": [
            "1932\n"
          ],
          "name": "stdout"
        }
      ]
    },
    {
      "cell_type": "code",
      "metadata": {
        "id": "Bu-u3GqSw1o7",
        "colab_type": "code",
        "outputId": "88d2a2cc-fafe-4675-acf6-a8b294430307",
        "colab": {}
      },
      "source": [
        "word_tokenize(df.Texte[0], language='french')[0:10]"
      ],
      "execution_count": 0,
      "outputs": [
        {
          "output_type": "execute_result",
          "data": {
            "text/plain": [
              "['Messieurs',\n",
              " ',',\n",
              " 'Je',\n",
              " 'suis',\n",
              " 'heureux',\n",
              " 'de',\n",
              " 'vous',\n",
              " 'saluer',\n",
              " '.',\n",
              " 'Quand']"
            ]
          },
          "metadata": {
            "tags": []
          },
          "execution_count": 20
        }
      ]
    },
    {
      "cell_type": "code",
      "metadata": {
        "colab_type": "code",
        "id": "B9kMs_kHbg3n",
        "outputId": "86e02a8d-4d9c-4ca9-cfc9-9134f36350c8",
        "colab": {
          "base_uri": "https://localhost:8080/",
          "height": 68
        }
      },
      "source": [
        "print(len(toknizer.tokenize(df.Texte[0])))"
      ],
      "execution_count": 0,
      "outputs": [
        {
          "output_type": "stream",
          "text": [
            "2135\n"
          ],
          "name": "stdout"
        }
      ]
    },
    {
      "cell_type": "code",
      "metadata": {
        "id": "qgCeSmN4w1pK",
        "colab_type": "code",
        "outputId": "99ec48c0-1d3c-4ade-a562-c9e408979420",
        "colab": {}
      },
      "source": [
        "toknizer.tokenize(df.Texte[0])[0:10]"
      ],
      "execution_count": 0,
      "outputs": [
        {
          "output_type": "execute_result",
          "data": {
            "text/plain": [
              "['Messieurs',\n",
              " ',',\n",
              " 'Je',\n",
              " 'suis',\n",
              " 'heureux',\n",
              " 'de',\n",
              " 'vous',\n",
              " 'saluer',\n",
              " '.',\n",
              " 'Quand']"
            ]
          },
          "metadata": {
            "tags": []
          },
          "execution_count": 22
        }
      ]
    },
    {
      "cell_type": "code",
      "metadata": {
        "id": "1TJi1t7hw1pO",
        "colab_type": "code",
        "outputId": "5eaa689a-b596-40ee-807f-c600ceb250c5",
        "colab": {}
      },
      "source": [
        "toknizer.tokenize(df.Texte[0])[0:10]"
      ],
      "execution_count": 0,
      "outputs": [
        {
          "output_type": "execute_result",
          "data": {
            "text/plain": [
              "['Messieurs',\n",
              " ',',\n",
              " 'Je',\n",
              " 'suis',\n",
              " 'heureux',\n",
              " 'de',\n",
              " 'vous',\n",
              " 'saluer',\n",
              " '.',\n",
              " 'Quand']"
            ]
          },
          "metadata": {
            "tags": []
          },
          "execution_count": 23
        }
      ]
    },
    {
      "cell_type": "markdown",
      "metadata": {
        "colab_type": "text",
        "id": "zuD_cLJHcCGe"
      },
      "source": [
        "The NLTK tokenizer tokenizes punctuation whereas the spacy one does not. We decide to switch to the NLTK tokenizer."
      ]
    },
    {
      "cell_type": "code",
      "metadata": {
        "id": "-CA2jsoMw1pR",
        "colab_type": "code",
        "outputId": "2c3fec11-a65b-4457-9ac8-bab8accf5943",
        "colab": {}
      },
      "source": [
        "print('Length of spacy stopwords list is {} and length of NLTK stopwords list is {} '.format(len(list(fr_stop)),len(stopwords.words('french'))))"
      ],
      "execution_count": 0,
      "outputs": [
        {
          "output_type": "stream",
          "text": [
            "Length of spacy stopwords list is 602 and length of NLTK stopwords list is 157 \n"
          ],
          "name": "stdout"
        }
      ]
    },
    {
      "cell_type": "code",
      "metadata": {
        "colab_type": "code",
        "id": "fR4HOCkDbla4",
        "colab": {}
      },
      "source": [
        "As the NLTK sent detector is far from being optimal we tried to detect sentences with the 'sent_detector_mano' function which seems to work much better on our corpus."
      ],
      "execution_count": 0,
      "outputs": []
    },
    {
      "cell_type": "markdown",
      "metadata": {
        "id": "WDB37cC0BhSJ",
        "colab_type": "text"
      },
      "source": [
        "We also added a way to clean the \n",
        "politeness formulation like 'Madame' or 'Monsieur' because they always occur at the beggining of our document."
      ]
    },
    {
      "cell_type": "code",
      "metadata": {
        "id": "3cP_apjJw1pW",
        "colab_type": "code",
        "colab": {}
      },
      "source": [
        "df['NbToken'] = df.Texte.apply(lambda x : len(word_tokenize(x,language='french')))\n",
        "df['Token'] = df.Texte.apply(lambda x : word_tokenize(x,language='french'))"
      ],
      "execution_count": 0,
      "outputs": []
    },
    {
      "cell_type": "code",
      "metadata": {
        "colab_type": "code",
        "id": "ga5ub5wQrpu5",
        "colab": {}
      },
      "source": [
        "lst_nom = [nom for nom in set(df.Nom+ ' ' +df.Prenom) if nom not in 'ministère'] + [nom for nom in set(df.Prenom+ ' ' +df.Nom) if nom not in 'ministère']+ [nom for nom in set(df.Prenom) if nom != 'ministère'] + [nom for nom in set(df.Nom) if nom != 'ministère']\n",
        "cleanFast = lst_nom + ['Mr','M','Mme','Madame','Monsieur','monsieur','madame','mme','mr','mesdames','messieurs']"
      ],
      "execution_count": 0,
      "outputs": []
    },
    {
      "cell_type": "code",
      "metadata": {
        "colab_type": "code",
        "id": "wwsQNFwNT2Sf",
        "outputId": "39203272-e060-4ffd-ba0a-7158f1b2f110",
        "colab": {
          "base_uri": "https://localhost:8080/",
          "height": 34
        }
      },
      "source": [
        "import multiprocessing as mp\n",
        "print(\"Number of processors: \", mp.cpu_count())"
      ],
      "execution_count": 0,
      "outputs": [
        {
          "output_type": "stream",
          "text": [
            "Number of processors:  8\n"
          ],
          "name": "stdout"
        }
      ]
    },
    {
      "cell_type": "markdown",
      "metadata": {
        "id": "VlbEd-L3w1pe",
        "colab_type": "text"
      },
      "source": [
        "We are trying now with the help of Spacy (fr_core_news_md) to extract the POS Tagging in order to quantify the grammatical structure of our text. Unfortunately, the POS tagging extraction is **very slow**. "
      ]
    },
    {
      "cell_type": "code",
      "metadata": {
        "id": "8vpUrfFxw1pg",
        "colab_type": "code",
        "colab": {}
      },
      "source": [
        "df['NbNom'],df['NbDet'],df['NbPunct'],df['NbAdj'],df['NbAdp'],df['NbPron'],df['NbVerb'],df['NbCconj'],df['NbNum'],df['NbPropn'],df['NbAdv'],df['NbSCONJ'],df['NbAUX'],df['NbIntj']=zip(*df.Texte.apply(extractPos))\n",
        " "
      ],
      "execution_count": 0,
      "outputs": []
    },
    {
      "cell_type": "code",
      "metadata": {
        "id": "P8VY-sf2w1pl",
        "colab_type": "code",
        "colab": {}
      },
      "source": [
        "df['NbMot'] = df.Texte.apply(extraire_nb_mot)\n",
        "df['PronJe']=df.apply(lambda row : Pron_Type(row.Texte,nlp),axis=1)\n",
        "df['PronNous']=df.apply(lambda row : Pron_Type_Plur(row.Texte,nlp),axis=1)\n",
        "df['NbPres'],df['NbPast'],df['NbFut'],df['NbImp']  = zip(*df.apply(lambda row : Verb_Tens(row.Texte,nlp),axis=1))\n",
        "df['NbQuest']= df.apply(lambda row : Quest(row.Texte,nlp),axis=1)\n",
        "df['NbExcl']= df.apply(lambda row  : Excl(row.Texte,nlp),axis=1)\n",
        "df['NbArt']= df.Texte.apply(nbArt)\n",
        "df['F_mesure'] = df.apply(lambda row: f_mesure(row.NbToken,row.NbNom,row.NbAdj,row.NbAdp,row.NbArt,row.NbPron,row.NbVerb,row.NbAdv,row.NbIntj),axis=1)\n",
        "df['CleanToken'] = df.Texte.apply(cleanToken)\n",
        "df['Hapaxlegomena']=df.CleanToken.apply(Hapaxlegomena)\n",
        "df['Hapaxdislegomena']= df.CleanToken.apply(Hapaxdislegomena)\n",
        "df['UniqueWordTx']= df.CleanToken.apply(lambda x:len(set(x))/len(x))"
      ],
      "execution_count": 0,
      "outputs": []
    },
    {
      "cell_type": "markdown",
      "metadata": {
        "id": "yA2Sad5l0hJs",
        "colab_type": "text"
      },
      "source": [
        "Now we calculating Hapaxlegomena it is the number of words which appear only once while Hapaxdislegomena is the number of words which appear twice. \n",
        "\n",
        "We are also calculating the F_mesure ([source](https://www.cs.uic.edu/~liub/publications/EMNLP-2010-blog-gender.pdf)) which is based on the frequency of the POS usage in a text and explores the notion of implicitness\n",
        "of text and is a unitary measure of text’s relative\n",
        "contextuality (implicitness), as opposed to its\n",
        "formality (explicitness)."
      ]
    },
    {
      "cell_type": "code",
      "metadata": {
        "id": "Ri5c-y_mw1py",
        "colab_type": "code",
        "colab": {}
      },
      "source": [
        "plt.figure(figsize=(14,14))\n",
        "plt.subplot(2, 2, 1)\n",
        "sns.distplot(df[df.sexe == 2]['Hapaxlegomena'])\n",
        "sns.distplot(df[df.sexe == 1]['Hapaxlegomena'])\n",
        "plt.subplot(2, 2, 2)\n",
        "sns.distplot(df[df.sexe == 2]['Hapaxdislegomena'])\n",
        "sns.distplot(df[df.sexe == 1]['Hapaxdislegomena'])\n",
        "plt.subplot(2, 2, 3)\n",
        "sns.distplot(df[df.sexe == 2]['UniqueWordTx'])\n",
        "sns.distplot(df[df.sexe == 1]['UniqueWordTx'])\n",
        "plt.subplot(2, 2, 4)\n",
        "sns.distplot(df[df.sexe == 2]['F_mesure'])\n",
        "sns.distplot(df[df.sexe == 1]['F_mesure'])\n",
        "plt.show()"
      ],
      "execution_count": 0,
      "outputs": []
    },
    {
      "cell_type": "code",
      "metadata": {
        "colab_type": "code",
        "id": "z0yxJg_Cxe4O",
        "colab": {}
      },
      "source": [
        "df[['NbNom_prec']]=df[['NbNom']].div(df.NbMot,axis=0)\n",
        "df[['NbDet_prec']]=df[['NbDet']].div(df.NbMot,axis=0)\n",
        "df[['NbAdj_prec']]=df[['NbAdj']].div(df.NbMot,axis=0)\n",
        "df[['NbPron_prec','NbVerb_perc','NbAUX_perc']]=df[['NbPron','NbVerb','NbAUX']].div(df.NbMot,axis=0)"
      ],
      "execution_count": 0,
      "outputs": []
    },
    {
      "cell_type": "code",
      "metadata": {
        "colab_type": "code",
        "id": "4HWSCj0-x-JH",
        "colab": {}
      },
      "source": [
        "plt.figure(figsize=(14,14))\n",
        "plt.subplot(2, 2, 1)\n",
        "sns.distplot(df[df.sexe == 2]['NbNom_prec'])\n",
        "sns.distplot(df[df.sexe == 1]['NbNom_prec'])\n",
        "plt.subplot(2, 2, 2)\n",
        "sns.distplot(df[df.sexe == 2]['NbAdj_prec'])\n",
        "sns.distplot(df[df.sexe == 1]['NbAdj_prec'])\n",
        "plt.subplot(2, 2, 3)\n",
        "sns.distplot(df[df.sexe == 2]['NbPron_prec'])\n",
        "sns.distplot(df[df.sexe == 1]['NbPron_prec'])\n",
        "plt.subplot(2, 2, 4)\n",
        "sns.distplot(df[df.sexe == 2]['NbVerb_perc'])\n",
        "sns.distplot(df[df.sexe == 1]['NbVerb_perc'])\n",
        "plt.show()"
      ],
      "execution_count": 0,
      "outputs": []
    },
    {
      "cell_type": "markdown",
      "metadata": {
        "colab_type": "text",
        "id": "VDlaoX0hyFPR"
      },
      "source": [
        "\n",
        "\n",
        "```\n",
        "# `Ce texte est au format code`\n",
        "```\n",
        "\n",
        "More over, what is intresting to observe is what type of pronoum women and men use.\n"
      ]
    },
    {
      "cell_type": "code",
      "metadata": {
        "colab_type": "code",
        "id": "PjPE7npPyBj0",
        "colab": {}
      },
      "source": [
        "lst=[ 'NbSyllables','NbPhrases','NbMot','NbToken','NbCleanToken', 'NbPonct', 'NbSw','Hapaxlegomena', 'Hapaxdislegomena', \n",
        "       'UniqueWordTx', 'RateCleanRaw','NbNom', 'NbDet', 'NbPunct', 'NbAdj', 'NbAdp', 'NbPron', 'NbVerb',\n",
        "        'NbCconj', 'NbNum', 'NbPropn', 'NbAdv', 'NbSCONJ', 'NbAUX', 'NbIntj','NbArt', 'F_mesure'\n",
        "        ]\n",
        "lst = lst + ['NbNom_prec','NbDet_prec','NbAdj_prec',\n",
        "    'NbPron_prec','NbVerb_perc','NbAUX_perc']\n",
        "df[['PronJe_perc','PronNous_perc']]=df[['PronJe','PronNous']].div(df.NbMot,axis=0)\n",
        "lst = lst + ['PronJe_perc','PronNous_perc']\n",
        "plt.figure(figsize=(14,14))\n",
        "plt.subplot(2, 2, 1)\n",
        "sns.distplot(df[df.sexe == 2]['PronJe_perc'])\n",
        "sns.distplot(df[df.sexe == 1]['PronJe_perc'])\n",
        "plt.subplot(2, 2, 2)\n",
        "sns.distplot(df[df.sexe == 2]['PronNous_perc'] )\n",
        "sns.distplot(df[df.sexe == 1]['PronNous_perc'])\n",
        "plt.show()"
      ],
      "execution_count": 0,
      "outputs": []
    },
    {
      "cell_type": "code",
      "metadata": {
        "colab_type": "code",
        "id": "zJpzzspoKTrP",
        "colab": {}
      },
      "source": [
        "df[['NbQuest_perc','NbExcl_perc']]=df[['NbQuest','NbExcl']].div(df.NbToken,axis=0)\n",
        "plt.figure(figsize=(14,14))\n",
        "plt.subplot(2, 2, 1)\n",
        "sns.distplot(df[df.sexe == 2]['NbQuest_perc'])\n",
        "sns.distplot(df[df.sexe == 1]['NbQuest_perc'])\n",
        "plt.subplot(2, 2, 2)\n",
        "sns.distplot(df[df.sexe == 2]['NbExcl_perc'])\n",
        "sns.distplot(df[df.sexe == 1]['NbExcl_perc'])\n",
        "plt.show()"
      ],
      "execution_count": 0,
      "outputs": []
    },
    {
      "cell_type": "markdown",
      "metadata": {
        "colab_type": "text",
        "id": "rxiSTXIreBIp"
      },
      "source": [
        "### Sentiment extraction using [FEEL](http://advanse.lirmm.fr/feel.php) (French Expanded Emotion Lexicon)\n",
        "\n"
      ]
    },
    {
      "cell_type": "markdown",
      "metadata": {
        "id": "axfJU4PDifpt",
        "colab_type": "text"
      },
      "source": [
        "We are using a sentiment extraction based on a french lexicon with 14 000 distinct words expressing emotions and sentiments.\n",
        "\n",
        "Inside this lexicon we can extract the polarity of sentiment but also six different emotions : joy, fear, sad,surprise, disgust and angry. With all of this, we calculate the frequency of each emotion.\n",
        "\n",
        "Once again this procedure is very long and that is a reason why we only use 5000 documents in our analysis (and even with this number it takes hour to compute)."
      ]
    },
    {
      "cell_type": "code",
      "metadata": {
        "colab_type": "code",
        "id": "Dmkgn8wtd4Ai",
        "colab": {}
      },
      "source": [
        "feel = pd.read_csv('FEEL.csv',sep=';')\n",
        "feel.set_index('id',inplace=True)\n",
        "feel.sample(10)"
      ],
      "execution_count": 0,
      "outputs": []
    },
    {
      "cell_type": "code",
      "metadata": {
        "colab_type": "code",
        "id": "rzWfRRKYewtZ",
        "colab": {}
      },
      "source": [
        "extraction_emotion(cleanTokenLemme(df.Texte[0],cleanFast))"
      ],
      "execution_count": 0,
      "outputs": []
    },
    {
      "cell_type": "code",
      "metadata": {
        "colab_type": "code",
        "id": "D31ZMkbTfGyv",
        "colab": {}
      },
      "source": [
        "check_polarity(cleanTokenLemme(df.Texte[0],cleanFast))"
      ],
      "execution_count": 0,
      "outputs": []
    },
    {
      "cell_type": "code",
      "metadata": {
        "id": "11mYFtZ0w1qj",
        "colab_type": "code",
        "colab": {}
      },
      "source": [
        "df['CleanTokensLemme'] = df.apply(lambda row : cleanTokenLemme(row.Texte,cleanFast),axis=1)\n",
        "df['PolPos'],df['PolNeg'],df['PolUnk'] = zip(*df.CleanTokensLemme.apply(check_polarity))\n",
        "df['FreqJoie'],df['FreqPeur'],df['FreqSad'],df['FreqColere'],df['FreqSurprise'],df['FreqDegout'] = zip(*df.CleanTokensLemme.apply(extraction_emotion))\n"
      ],
      "execution_count": 0,
      "outputs": []
    },
    {
      "cell_type": "code",
      "metadata": {
        "colab_type": "code",
        "id": "qaKhdblngtWi",
        "colab": {}
      },
      "source": [
        "plt.figure(figsize=(14,14))\n",
        "plt.subplot(2, 2, 1)\n",
        "sns.distplot(df[df.sexe == 2]['FreqJoie'])\n",
        "sns.distplot(df[df.sexe == 1]['FreqJoie'])\n",
        "plt.subplot(2, 2, 2)\n",
        "sns.distplot(df[df.sexe == 2]['FreqPeur'])\n",
        "sns.distplot(df[df.sexe == 1]['FreqPeur'])\n",
        "plt.subplot(2, 2, 3)\n",
        "sns.distplot(df[df.sexe == 2]['FreqSad'])\n",
        "sns.distplot(df[df.sexe == 1]['FreqSad'])\n",
        "plt.subplot(2, 2, 4)\n",
        "sns.distplot(df[df.sexe == 2]['FreqColere'])\n",
        "sns.distplot(df[df.sexe == 1]['FreqColere'])\n",
        "plt.show()"
      ],
      "execution_count": 0,
      "outputs": []
    },
    {
      "cell_type": "markdown",
      "metadata": {
        "id": "27mi-mPsRafO",
        "colab_type": "text"
      },
      "source": [
        "### Visualize the most common word by gender\n",
        "\n",
        "We will now draw two wordcloud, one for each sexe with our cleaned data."
      ]
    },
    {
      "cell_type": "code",
      "metadata": {
        "id": "JgASnLAuw1rD",
        "colab_type": "code",
        "colab": {}
      },
      "source": [
        "import numpy as np\n",
        "woman = np.array(Image.open(\"femme2.png\"))\n",
        "wc = WordCloud(background_color=\"white\", max_words=100, mask=woman,\n",
        "               stopwords=list(fr_stop)+[\"c'est\",\"d'un\",\"d'une\",\"qu'il\",\"n'est\",\"j'ai\",\"qu'elle\"], contour_width=0.5, contour_color='black')\n",
        "arr = reduce(add,df[df.sexe == 2].CleanToken.array)\n",
        "corpus_f = ' '.join(arr)\n",
        "wc.generate(corpus_f)\n",
        "man = np.array(Image.open(\"homme.png\"))\n",
        "wc2 = WordCloud(background_color=\"white\", max_words=100, mask=man,\n",
        "               stopwords=list(fr_stop)+[\"c'est\",\"d'un\",\"d'une\",\"qu'il\",\"n'est\",\"j'ai\",\"qu'elle\"], contour_width=1, contour_color='black')\n",
        "arr = reduce(add,df[df.sexe == 1].CleanToken.array)\n",
        "corpus_m = ' '.join(arr)\n",
        "wc2.generate(corpus_m)\n",
        "\n",
        "plt.figure(figsize=[10,10])\n",
        "plt.subplot(121)\n",
        "plt.imshow(wc, interpolation='bilinear')\n",
        "plt.axis(\"off\")\n",
        "plt.subplot(122)\n",
        "plt.imshow(wc2, interpolation='bilinear')\n",
        "plt.axis(\"off\")\n",
        "\n",
        "plt.show()"
      ],
      "execution_count": 0,
      "outputs": []
    },
    {
      "cell_type": "code",
      "metadata": {
        "colab_type": "code",
        "id": "00WEtsQJ9a4P",
        "colab": {}
      },
      "source": [
        "df.to_csv('minimal_df_var.csv')"
      ],
      "execution_count": 0,
      "outputs": []
    },
    {
      "cell_type": "markdown",
      "metadata": {
        "id": "TrVn_Mcq5Frw",
        "colab_type": "text"
      },
      "source": [
        "## Part II : Baseline models\n",
        "\n",
        "\n",
        "\n",
        "\n",
        "\n",
        "\n",
        "\n"
      ]
    },
    {
      "cell_type": "markdown",
      "metadata": {
        "id": "dzkPwq9miuF_",
        "colab_type": "text"
      },
      "source": [
        "In order to make some modelization we only take a substract of the data.\n",
        "We select two dataframes:\n",
        "\n",
        "\n",
        "1.   One with balanced labelling of women and men\n",
        "2.   Another unbalanced data which respect the proportion of men/women\n",
        "\n",
        "Both have same shapes (variable and length). \n",
        "We split our dataset in two parts : \n",
        "\n",
        "*   Train : 80 %\n",
        "*   Test : 20 %\n",
        "\n",
        "\n",
        "We try different methods. The first is using features we extracted before from each document. Then, we try other methods of word embedding which are TF-IDF,   DBOW and DMM (different approch of Doc2Vec from the gensim package). Finally, we try to combine word embeding and our extracted features.\n",
        "\n",
        "Let's first import all the material from sklearn we need. We will use six classifier : Logistic Regression,Naive Bayes, Support Vector, Decision Tree, random Forest and XGBOOST.\n"
      ]
    },
    {
      "cell_type": "code",
      "metadata": {
        "id": "l2CS2Mz9iOtu",
        "colab_type": "code",
        "colab": {}
      },
      "source": [
        "from xgboost import XGBClassifier\n",
        "from sklearn.naive_bayes import GaussianNB\n",
        "from sklearn.linear_model import LogisticRegression\n",
        "from sklearn.ensemble import RandomForestClassifier\n",
        "from sklearn.tree import DecisionTreeClassifier\n",
        "from sklearn.svm import SVC\n",
        "from gensim.test.utils import common_texts\n",
        "from gensim.models.doc2vec import Doc2Vec, TaggedDocument\n",
        "from tqdm import tqdm\n",
        "from sklearn import utils\n",
        "from sklearn.model_selection import train_test_split\n",
        "from sklearn.feature_extraction.text import CountVectorizer\n",
        "from sklearn.feature_extraction.text import TfidfVectorizer"
      ],
      "execution_count": 0,
      "outputs": []
    },
    {
      "cell_type": "markdown",
      "metadata": {
        "id": "2Qh2KtzXDMIF",
        "colab_type": "text"
      },
      "source": [
        "### Unbalanced dataset\n",
        "\n",
        "We first work on a unbalanced dataset with 75 % of men and 25% of women (the same proportion of what we observe in the full dataframe)."
      ]
    },
    {
      "cell_type": "code",
      "metadata": {
        "id": "YtYF01Qjw1rY",
        "colab_type": "code",
        "colab": {}
      },
      "source": [
        "df_deq = pd.read_csv('df_medium_deseq_var_5000.csv')"
      ],
      "execution_count": 0,
      "outputs": []
    },
    {
      "cell_type": "markdown",
      "metadata": {
        "id": "egIXZXTBiZgc",
        "colab_type": "text"
      },
      "source": [
        "#### Feature engineering\n",
        "\n",
        "We are just using our calculated features to predict the sexe. We will just launch our algorithm with a seed set but no other option."
      ]
    },
    {
      "cell_type": "code",
      "metadata": {
        "id": "4jX9OpKS7HUz",
        "colab_type": "code",
        "colab": {}
      },
      "source": [
        "X = df_deq[['UniqueWordTx', 'RateCleanRaw',\n",
        "        'NbPunct', 'NbAdp','NbCconj', 'NbNum', 'NbPropn', 'NbAdv', 'NbSCONJ', 'NbIntj', 'NbPres', 'NbPast', 'NbFut', 'NbImp',\n",
        "        'NbArt', 'F_mesure', 'NbNom_prec', 'NbDet_prec', 'NbAdj_prec','NbPron_prec', 'NbVerb_perc', 'NbAUX_perc', 'PronJe_perc','PronNous_perc', 'NbQuest_perc', 'NbExcl_perc',\n",
        "       'PolPos', 'PolNeg', 'PolUnk', 'FreqJoie', 'FreqPeur', 'FreqSad','FreqColere', 'FreqSurprise', 'FreqDegout']]\n",
        "y = df_deq.sexe.apply(lambda x : 1 if x == 2 else 0)\n"
      ],
      "execution_count": 0,
      "outputs": []
    },
    {
      "cell_type": "code",
      "metadata": {
        "id": "1IH9LF1v7ypc",
        "colab_type": "code",
        "colab": {}
      },
      "source": [
        "X_train,X_test,y_train,y_test = train_test_split(X,y,random_state = 42 ,test_size =0.2)"
      ],
      "execution_count": 0,
      "outputs": []
    },
    {
      "cell_type": "code",
      "metadata": {
        "id": "clzv8cpX9kEu",
        "colab_type": "code",
        "colab": {}
      },
      "source": [
        "models  = [GaussianNB(),RandomForestClassifier(random_state=42),DecisionTreeClassifier(random_state=42),\n",
        "          XGBClassifier(random_state = 42),LogisticRegression(random_state = 42,max_iter=1000),SVC(random_state = 42,probability=True)]"
      ],
      "execution_count": 0,
      "outputs": []
    },
    {
      "cell_type": "markdown",
      "metadata": {
        "id": "AeMao5ZtjJmS",
        "colab_type": "text"
      },
      "source": [
        "To evaluate our model, we create a function to extract metrics. With this help we can easely extract them and make a quantitative analysis."
      ]
    },
    {
      "cell_type": "code",
      "metadata": {
        "id": "WkEh8IPf-ayU",
        "colab_type": "code",
        "outputId": "0b720fbe-8517-4278-dd7f-827066b7dad8",
        "colab": {
          "base_uri": "https://localhost:8080/",
          "height": 320
        }
      },
      "source": [
        "modeldf = pd.DataFrame(columns = [ 'Accuracy_score', 'Recall_score', 'Precision', 'f1_score',\n",
        "       'Area_under_curve'])\n",
        "for model in models:\n",
        "    modeldf = pd.concat([modeldf,model_report(model,X_train,X_test,y_train,y_test)])\n",
        "modeldf['nom']=['GaussianNB','RFC','DTC','XGBOOST','RegLog','SVC_rbf']\n",
        "modeldf.set_index(['nom'])"
      ],
      "execution_count": 0,
      "outputs": [
        {
          "output_type": "stream",
          "text": [
            "/usr/local/lib/python3.6/dist-packages/sklearn/metrics/_classification.py:1272: UndefinedMetricWarning: Precision is ill-defined and being set to 0.0 due to no predicted samples. Use `zero_division` parameter to control this behavior.\n",
            "  _warn_prf(average, modifier, msg_start, len(result))\n"
          ],
          "name": "stderr"
        },
        {
          "output_type": "execute_result",
          "data": {
            "text/html": [
              "<div>\n",
              "<style scoped>\n",
              "    .dataframe tbody tr th:only-of-type {\n",
              "        vertical-align: middle;\n",
              "    }\n",
              "\n",
              "    .dataframe tbody tr th {\n",
              "        vertical-align: top;\n",
              "    }\n",
              "\n",
              "    .dataframe thead th {\n",
              "        text-align: right;\n",
              "    }\n",
              "</style>\n",
              "<table border=\"1\" class=\"dataframe\">\n",
              "  <thead>\n",
              "    <tr style=\"text-align: right;\">\n",
              "      <th></th>\n",
              "      <th>Accuracy_score</th>\n",
              "      <th>Recall_score</th>\n",
              "      <th>Precision</th>\n",
              "      <th>f1_score</th>\n",
              "      <th>Area_under_curve</th>\n",
              "    </tr>\n",
              "    <tr>\n",
              "      <th>nom</th>\n",
              "      <th></th>\n",
              "      <th></th>\n",
              "      <th></th>\n",
              "      <th></th>\n",
              "      <th></th>\n",
              "    </tr>\n",
              "  </thead>\n",
              "  <tbody>\n",
              "    <tr>\n",
              "      <th>GaussianNB</th>\n",
              "      <td>0.720000</td>\n",
              "      <td>0.067265</td>\n",
              "      <td>0.254237</td>\n",
              "      <td>0.106383</td>\n",
              "      <td>0.501136</td>\n",
              "    </tr>\n",
              "    <tr>\n",
              "      <th>RFC</th>\n",
              "      <td>0.763333</td>\n",
              "      <td>0.089686</td>\n",
              "      <td>0.666667</td>\n",
              "      <td>0.158103</td>\n",
              "      <td>0.537458</td>\n",
              "    </tr>\n",
              "    <tr>\n",
              "      <th>DTC</th>\n",
              "      <td>0.667778</td>\n",
              "      <td>0.372197</td>\n",
              "      <td>0.342975</td>\n",
              "      <td>0.356989</td>\n",
              "      <td>0.568669</td>\n",
              "    </tr>\n",
              "    <tr>\n",
              "      <th>XGBOOST</th>\n",
              "      <td>0.747778</td>\n",
              "      <td>0.080717</td>\n",
              "      <td>0.450000</td>\n",
              "      <td>0.136882</td>\n",
              "      <td>0.524111</td>\n",
              "    </tr>\n",
              "    <tr>\n",
              "      <th>SVC_linear</th>\n",
              "      <td>0.738889</td>\n",
              "      <td>0.049327</td>\n",
              "      <td>0.323529</td>\n",
              "      <td>0.085603</td>\n",
              "      <td>0.507677</td>\n",
              "    </tr>\n",
              "    <tr>\n",
              "      <th>SVC_rbf</th>\n",
              "      <td>0.752222</td>\n",
              "      <td>0.000000</td>\n",
              "      <td>0.000000</td>\n",
              "      <td>0.000000</td>\n",
              "      <td>0.500000</td>\n",
              "    </tr>\n",
              "  </tbody>\n",
              "</table>\n",
              "</div>"
            ],
            "text/plain": [
              "            Accuracy_score  Recall_score  Precision  f1_score  Area_under_curve\n",
              "nom                                                                            \n",
              "GaussianNB        0.720000      0.067265   0.254237  0.106383          0.501136\n",
              "RFC               0.763333      0.089686   0.666667  0.158103          0.537458\n",
              "DTC               0.667778      0.372197   0.342975  0.356989          0.568669\n",
              "XGBOOST           0.747778      0.080717   0.450000  0.136882          0.524111\n",
              "SVC_linear        0.738889      0.049327   0.323529  0.085603          0.507677\n",
              "SVC_rbf           0.752222      0.000000   0.000000  0.000000          0.500000"
            ]
          },
          "metadata": {
            "tags": []
          },
          "execution_count": 26
        }
      ]
    },
    {
      "cell_type": "code",
      "metadata": {
        "id": "Z-VcEbLiBWyq",
        "colab_type": "code",
        "outputId": "9848bed3-f866-47ad-ed5c-c961cadb4d3f",
        "colab": {
          "base_uri": "https://localhost:8080/",
          "height": 600
        }
      },
      "source": [
        "predictions(DecisionTreeClassifier(random_state=42),X_train,X_test,y_train,y_test)"
      ],
      "execution_count": 0,
      "outputs": [
        {
          "output_type": "stream",
          "text": [
            "DecisionTreeClassifier(ccp_alpha=0.0, class_weight=None, criterion='gini',\n",
            "                       max_depth=None, max_features=None, max_leaf_nodes=None,\n",
            "                       min_impurity_decrease=0.0, min_impurity_split=None,\n",
            "                       min_samples_leaf=1, min_samples_split=2,\n",
            "                       min_weight_fraction_leaf=0.0, presort='deprecated',\n",
            "                       random_state=42, splitter='best')\n",
            "Classification report :               precision    recall  f1-score   support\n",
            "\n",
            "           0       0.79      0.77      0.78       677\n",
            "           1       0.34      0.37      0.36       223\n",
            "\n",
            "    accuracy                           0.67       900\n",
            "   macro avg       0.57      0.57      0.57       900\n",
            "weighted avg       0.68      0.67      0.67       900\n",
            "\n",
            "Accuracy :  0.6677777777777778\n",
            "AUC :  0.5686688171900564\n"
          ],
          "name": "stdout"
        },
        {
          "output_type": "display_data",
          "data": {
            "image/png": "[encoded data removed]",
            "text/plain": [
              "<Figure size 864x720 with 3 Axes>"
            ]
          },
          "metadata": {
            "tags": []
          }
        }
      ]
    },
    {
      "cell_type": "markdown",
      "metadata": {
        "id": "MqqKJRzljeN-",
        "colab_type": "text"
      },
      "source": [
        "As we can observe, we can't take the accuracy as a good metric in an unbalanced classification problem. Because 66.7 % of accuracy seems to be a good start but when you look deeper in the result with a classification report or a confusion matrix, you can see that the best clasifier for this feature is clearly not working well. We only got a 0.356 f1 score and most of the inputs are just classified as the majority class."
      ]
    },
    {
      "cell_type": "markdown",
      "metadata": {
        "id": "Bbt2YAZ9i8dJ",
        "colab_type": "text"
      },
      "source": [
        "#### TF-IDF\n",
        "\n",
        "This time, we use a TF-IDF on our text to see if there is an improvment compare to our feature extraction. After some test, we saw that if we use cleaned document it always end with lower prediction. So we choose to only use our raw text. \n",
        "\n",
        "In this approch we first use only unigram and then trigram."
      ]
    },
    {
      "cell_type": "code",
      "metadata": {
        "id": "TiJv0BGtkpj5",
        "colab_type": "code",
        "outputId": "40686c4b-d522-4869-f34f-1e0b662b5386",
        "colab": {
          "base_uri": "https://localhost:8080/",
          "height": 71
        }
      },
      "source": [
        "from sklearn.feature_extraction.text import TfidfVectorizer\n",
        "tfidfconverter = TfidfVectorizer(max_features=1500, min_df=5, max_df=0.7, stop_words=fr_stop)\n",
        "X = tfidfconverter.fit_transform(df_deq['Texte']).toarray()\n",
        "X_train,X_test,y_train,y_test = train_test_split(X,y,random_state = 42 ,test_size =0.2)"
      ],
      "execution_count": 0,
      "outputs": [
        {
          "output_type": "stream",
          "text": [
            "/usr/local/lib/python3.6/dist-packages/sklearn/feature_extraction/text.py:385: UserWarning: Your stop_words may be inconsistent with your preprocessing. Tokenizing the stop words generated tokens ['qu', 'quelqu'] not in stop_words.\n",
            "  'stop_words.' % sorted(inconsistent))\n"
          ],
          "name": "stderr"
        }
      ]
    },
    {
      "cell_type": "code",
      "metadata": {
        "id": "V9EninFziDY3",
        "colab_type": "code",
        "outputId": "619883a6-293b-44d4-936d-e02c5f473084",
        "colab": {
          "base_uri": "https://localhost:8080/",
          "height": 266
        }
      },
      "source": [
        "modeldf = pd.DataFrame(columns = [ 'Accuracy_score', 'Recall_score', 'Precision', 'f1_score',\n",
        "       'Area_under_curve'])\n",
        "for model in models:\n",
        "    modeldf = pd.concat([modeldf,model_report(model,X_train,X_test,y_train,y_test)])\n",
        "modeldf['nom']=['GaussianNB','RFC','DTC','XGBOOST','RegLog','SVC_rbf']\n",
        "modeldf.set_index(['nom'])"
      ],
      "execution_count": 0,
      "outputs": [
        {
          "output_type": "execute_result",
          "data": {
            "text/html": [
              "<div>\n",
              "<style scoped>\n",
              "    .dataframe tbody tr th:only-of-type {\n",
              "        vertical-align: middle;\n",
              "    }\n",
              "\n",
              "    .dataframe tbody tr th {\n",
              "        vertical-align: top;\n",
              "    }\n",
              "\n",
              "    .dataframe thead th {\n",
              "        text-align: right;\n",
              "    }\n",
              "</style>\n",
              "<table border=\"1\" class=\"dataframe\">\n",
              "  <thead>\n",
              "    <tr style=\"text-align: right;\">\n",
              "      <th></th>\n",
              "      <th>Accuracy_score</th>\n",
              "      <th>Recall_score</th>\n",
              "      <th>Precision</th>\n",
              "      <th>f1_score</th>\n",
              "      <th>Area_under_curve</th>\n",
              "    </tr>\n",
              "    <tr>\n",
              "      <th>nom</th>\n",
              "      <th></th>\n",
              "      <th></th>\n",
              "      <th></th>\n",
              "      <th></th>\n",
              "      <th></th>\n",
              "    </tr>\n",
              "  </thead>\n",
              "  <tbody>\n",
              "    <tr>\n",
              "      <th>GaussianNB</th>\n",
              "      <td>0.741111</td>\n",
              "      <td>0.663677</td>\n",
              "      <td>0.483660</td>\n",
              "      <td>0.559546</td>\n",
              "      <td>0.715147</td>\n",
              "    </tr>\n",
              "    <tr>\n",
              "      <th>RFC</th>\n",
              "      <td>0.788889</td>\n",
              "      <td>0.170404</td>\n",
              "      <td>0.883721</td>\n",
              "      <td>0.285714</td>\n",
              "      <td>0.581509</td>\n",
              "    </tr>\n",
              "    <tr>\n",
              "      <th>DTC</th>\n",
              "      <td>0.730000</td>\n",
              "      <td>0.457399</td>\n",
              "      <td>0.455357</td>\n",
              "      <td>0.456376</td>\n",
              "      <td>0.638596</td>\n",
              "    </tr>\n",
              "    <tr>\n",
              "      <th>XGBOOST</th>\n",
              "      <td>0.830000</td>\n",
              "      <td>0.394619</td>\n",
              "      <td>0.830189</td>\n",
              "      <td>0.534954</td>\n",
              "      <td>0.684015</td>\n",
              "    </tr>\n",
              "    <tr>\n",
              "      <th>RegLog</th>\n",
              "      <td>0.812222</td>\n",
              "      <td>0.349776</td>\n",
              "      <td>0.764706</td>\n",
              "      <td>0.480000</td>\n",
              "      <td>0.657163</td>\n",
              "    </tr>\n",
              "    <tr>\n",
              "      <th>SVC_rbf</th>\n",
              "      <td>0.810000</td>\n",
              "      <td>0.340807</td>\n",
              "      <td>0.760000</td>\n",
              "      <td>0.470588</td>\n",
              "      <td>0.652678</td>\n",
              "    </tr>\n",
              "  </tbody>\n",
              "</table>\n",
              "</div>"
            ],
            "text/plain": [
              "            Accuracy_score  Recall_score  Precision  f1_score  Area_under_curve\n",
              "nom                                                                            \n",
              "GaussianNB        0.741111      0.663677   0.483660  0.559546          0.715147\n",
              "RFC               0.788889      0.170404   0.883721  0.285714          0.581509\n",
              "DTC               0.730000      0.457399   0.455357  0.456376          0.638596\n",
              "XGBOOST           0.830000      0.394619   0.830189  0.534954          0.684015\n",
              "RegLog            0.812222      0.349776   0.764706  0.480000          0.657163\n",
              "SVC_rbf           0.810000      0.340807   0.760000  0.470588          0.652678"
            ]
          },
          "metadata": {
            "tags": []
          },
          "execution_count": 128
        }
      ]
    },
    {
      "cell_type": "code",
      "metadata": {
        "id": "jUjt18ZNKpgx",
        "colab_type": "code",
        "outputId": "89162f63-7afc-46b8-dd59-74253120c41b",
        "colab": {
          "base_uri": "https://localhost:8080/",
          "height": 515
        }
      },
      "source": [
        "predictions(GaussianNB(),X_train,X_test,y_train,y_test)"
      ],
      "execution_count": 0,
      "outputs": [
        {
          "output_type": "stream",
          "text": [
            "GaussianNB(priors=None, var_smoothing=1e-09)\n",
            "Classification report :               precision    recall  f1-score   support\n",
            "\n",
            "           0       0.87      0.77      0.82       677\n",
            "           1       0.48      0.66      0.56       223\n",
            "\n",
            "    accuracy                           0.74       900\n",
            "   macro avg       0.68      0.72      0.69       900\n",
            "weighted avg       0.78      0.74      0.75       900\n",
            "\n",
            "Accuracy :  0.7411111111111112\n",
            "AUC :  0.7151472799411809\n"
          ],
          "name": "stdout"
        },
        {
          "output_type": "display_data",
          "data": {
            "image/png": "[encoded data removed]",
            "text/plain": [
              "<Figure size 864x720 with 3 Axes>"
            ]
          },
          "metadata": {
            "tags": []
          }
        }
      ]
    },
    {
      "cell_type": "code",
      "metadata": {
        "id": "lbtObLIJs3wZ",
        "colab_type": "code",
        "outputId": "15cd3567-c02c-4ff3-c3ae-1317e69beab2",
        "colab": {
          "base_uri": "https://localhost:8080/",
          "height": 71
        }
      },
      "source": [
        "tfidfconverter = TfidfVectorizer(max_features=1500, min_df=5, max_df=0.7, stop_words=fr_stop, ngram_range=(2,3))\n",
        "X = tfidfconverter.fit_transform(df_deq['Texte']).toarray()\n",
        "X_train,X_test,y_train,y_test = train_test_split(X,y,random_state = 42 ,test_size =0.2)"
      ],
      "execution_count": 0,
      "outputs": [
        {
          "output_type": "stream",
          "text": [
            "/usr/local/lib/python3.6/dist-packages/sklearn/feature_extraction/text.py:385: UserWarning: Your stop_words may be inconsistent with your preprocessing. Tokenizing the stop words generated tokens ['qu', 'quelqu'] not in stop_words.\n",
            "  'stop_words.' % sorted(inconsistent))\n"
          ],
          "name": "stderr"
        }
      ]
    },
    {
      "cell_type": "code",
      "metadata": {
        "id": "yf9qF0xrtatR",
        "colab_type": "code",
        "outputId": "31c0fedc-f1a1-43f4-cd0e-63a026942495",
        "colab": {
          "base_uri": "https://localhost:8080/",
          "height": 266
        }
      },
      "source": [
        "modeldf = pd.DataFrame(columns = [ 'Accuracy_score', 'Recall_score', 'Precision', 'f1_score',\n",
        "       'Area_under_curve'])\n",
        "for model in models:\n",
        "    modeldf = pd.concat([modeldf,model_report(model,X_train,X_test,y_train,y_test)])\n",
        "modeldf['nom']=['GaussianNB','RFC','DTC','XGBOOST','RegLog','SVC_rbf']\n",
        "modeldf.set_index(['nom'])"
      ],
      "execution_count": 0,
      "outputs": [
        {
          "output_type": "execute_result",
          "data": {
            "text/html": [
              "<div>\n",
              "<style scoped>\n",
              "    .dataframe tbody tr th:only-of-type {\n",
              "        vertical-align: middle;\n",
              "    }\n",
              "\n",
              "    .dataframe tbody tr th {\n",
              "        vertical-align: top;\n",
              "    }\n",
              "\n",
              "    .dataframe thead th {\n",
              "        text-align: right;\n",
              "    }\n",
              "</style>\n",
              "<table border=\"1\" class=\"dataframe\">\n",
              "  <thead>\n",
              "    <tr style=\"text-align: right;\">\n",
              "      <th></th>\n",
              "      <th>Accuracy_score</th>\n",
              "      <th>Recall_score</th>\n",
              "      <th>Precision</th>\n",
              "      <th>f1_score</th>\n",
              "      <th>Area_under_curve</th>\n",
              "    </tr>\n",
              "    <tr>\n",
              "      <th>nom</th>\n",
              "      <th></th>\n",
              "      <th></th>\n",
              "      <th></th>\n",
              "      <th></th>\n",
              "      <th></th>\n",
              "    </tr>\n",
              "  </thead>\n",
              "  <tbody>\n",
              "    <tr>\n",
              "      <th>GaussianNB</th>\n",
              "      <td>0.731111</td>\n",
              "      <td>0.704036</td>\n",
              "      <td>0.471471</td>\n",
              "      <td>0.564748</td>\n",
              "      <td>0.722033</td>\n",
              "    </tr>\n",
              "    <tr>\n",
              "      <th>RFC</th>\n",
              "      <td>0.785556</td>\n",
              "      <td>0.273543</td>\n",
              "      <td>0.663043</td>\n",
              "      <td>0.387302</td>\n",
              "      <td>0.613876</td>\n",
              "    </tr>\n",
              "    <tr>\n",
              "      <th>DTC</th>\n",
              "      <td>0.674444</td>\n",
              "      <td>0.309417</td>\n",
              "      <td>0.331731</td>\n",
              "      <td>0.320186</td>\n",
              "      <td>0.552050</td>\n",
              "    </tr>\n",
              "    <tr>\n",
              "      <th>XGBOOST</th>\n",
              "      <td>0.782222</td>\n",
              "      <td>0.161435</td>\n",
              "      <td>0.800000</td>\n",
              "      <td>0.268657</td>\n",
              "      <td>0.574071</td>\n",
              "    </tr>\n",
              "    <tr>\n",
              "      <th>RegLog</th>\n",
              "      <td>0.800000</td>\n",
              "      <td>0.278027</td>\n",
              "      <td>0.765432</td>\n",
              "      <td>0.407895</td>\n",
              "      <td>0.624981</td>\n",
              "    </tr>\n",
              "    <tr>\n",
              "      <th>SVC_rbf</th>\n",
              "      <td>0.796667</td>\n",
              "      <td>0.264574</td>\n",
              "      <td>0.756410</td>\n",
              "      <td>0.392027</td>\n",
              "      <td>0.618254</td>\n",
              "    </tr>\n",
              "  </tbody>\n",
              "</table>\n",
              "</div>"
            ],
            "text/plain": [
              "            Accuracy_score  Recall_score  Precision  f1_score  Area_under_curve\n",
              "nom                                                                            \n",
              "GaussianNB        0.731111      0.704036   0.471471  0.564748          0.722033\n",
              "RFC               0.785556      0.273543   0.663043  0.387302          0.613876\n",
              "DTC               0.674444      0.309417   0.331731  0.320186          0.552050\n",
              "XGBOOST           0.782222      0.161435   0.800000  0.268657          0.574071\n",
              "RegLog            0.800000      0.278027   0.765432  0.407895          0.624981\n",
              "SVC_rbf           0.796667      0.264574   0.756410  0.392027          0.618254"
            ]
          },
          "metadata": {
            "tags": []
          },
          "execution_count": 131
        }
      ]
    },
    {
      "cell_type": "code",
      "metadata": {
        "id": "yCM-dpA7uTlX",
        "colab_type": "code",
        "outputId": "5db74af6-e7ad-47c7-aa99-3a10e42c7628",
        "colab": {
          "base_uri": "https://localhost:8080/",
          "height": 515
        }
      },
      "source": [
        "predictions(GaussianNB(),X_train,X_test,y_train,y_test)"
      ],
      "execution_count": 0,
      "outputs": [
        {
          "output_type": "stream",
          "text": [
            "GaussianNB(priors=None, var_smoothing=1e-09)\n",
            "Classification report :               precision    recall  f1-score   support\n",
            "\n",
            "           0       0.88      0.74      0.81       677\n",
            "           1       0.47      0.70      0.56       223\n",
            "\n",
            "    accuracy                           0.73       900\n",
            "   macro avg       0.68      0.72      0.69       900\n",
            "weighted avg       0.78      0.73      0.75       900\n",
            "\n",
            "Accuracy :  0.7311111111111112\n",
            "AUC :  0.7220327082684754\n"
          ],
          "name": "stdout"
        },
        {
          "output_type": "display_data",
          "data": {
            "image/png": "[encoded data removed]",
            "text/plain": [
              "<Figure size 864x720 with 3 Axes>"
            ]
          },
          "metadata": {
            "tags": []
          }
        }
      ]
    },
    {
      "cell_type": "markdown",
      "metadata": {
        "id": "gHO6rj2BQmgS",
        "colab_type": "text"
      },
      "source": [
        "The best classifier is a Naive Bayes with unigram as TF-IDF. We achieve an AUC of 0.72 and if we take a look at our confusion matrix we can see that most of the women of the corpus are correctly classified but there are too much men who are classified as women. We are improving our f1 score of more than 0.2 points. \n",
        "\n",
        "#### Word embeddings (TF-IDF/DBOW/DMM)\n",
        "\n",
        "We will now use a Distributed Bag of Words (DBOW) and a Distributed Memory (DMM) with some classical initialisation parameters. \n",
        "This time we use the cleaned tokens lemme we obtain with our function.\n",
        "\n"
      ]
    },
    {
      "cell_type": "code",
      "metadata": {
        "id": "_7US1FbLLNbg",
        "colab_type": "code",
        "colab": {}
      },
      "source": [
        "train,test = train_test_split(df_deq[['CleanTokensLemme','sexe']],random_state = 42 ,test_size =0.2)\n",
        "train_tagged = train.apply(lambda r: TaggedDocument(words=r.CleanTokensLemme, tags=[r.sexe]), axis=1)\n",
        "test_tagged = test.apply(lambda r: TaggedDocument(words=r.CleanTokensLemme, tags=[r.sexe]), axis=1)"
      ],
      "execution_count": 0,
      "outputs": []
    },
    {
      "cell_type": "code",
      "metadata": {
        "id": "tJbW66cnNk8A",
        "colab_type": "code",
        "outputId": "0c7674e8-6afc-4e10-a238-ba99acf761ce",
        "colab": {
          "base_uri": "https://localhost:8080/",
          "height": 34
        }
      },
      "source": [
        "model_dbow = Doc2Vec(dm=0, vector_size=300, negative=5, hs=0, min_count=2, sample = 0, workers=2)\n",
        "model_dbow.build_vocab([x for x in tqdm(train_tagged.values)])"
      ],
      "execution_count": 0,
      "outputs": [
        {
          "output_type": "stream",
          "text": [
            "100%|██████████| 4000/4000 [00:00<00:00, 2931030.05it/s]\n"
          ],
          "name": "stderr"
        }
      ]
    },
    {
      "cell_type": "code",
      "metadata": {
        "id": "zDktSRnfN7rV",
        "colab_type": "code",
        "colab": {}
      },
      "source": [
        "%%time\n",
        "for epoch in range(30):\n",
        "    model_dbow.train(utils.shuffle([x for x in tqdm(train_tagged.values)]), total_examples=len(train_tagged.values), epochs=1)\n",
        "    model_dbow.alpha -= 0.002\n",
        "    model_dbow.min_alpha = model_dbow.alpha"
      ],
      "execution_count": 0,
      "outputs": []
    },
    {
      "cell_type": "code",
      "metadata": {
        "id": "_wL8sJ--SS-I",
        "colab_type": "code",
        "colab": {}
      },
      "source": [
        "y_train_dbow, X_train_dbow = vec_for_learning(model_dbow, train_tagged)\n",
        "y_test_dbow, X_test_dbow = vec_for_learning(model_dbow, test_tagged)\n",
        "y_train_dbow = pd.DataFrame(y_train_dbow,columns=['sexe']).sexe.apply(lambda x: 1 if x == 2 else 0)\n",
        "y_test_dbow = pd.DataFrame(y_test_dbow,columns=['sexe']).sexe.apply(lambda x: 1 if x == 2 else 0)\n",
        "X_train_dbow =  pd.DataFrame(X_train_dbow)\n",
        "X_test_dbow =  pd.DataFrame(X_test_dbow)"
      ],
      "execution_count": 0,
      "outputs": []
    },
    {
      "cell_type": "code",
      "metadata": {
        "id": "jd6T9OiVYNWA",
        "colab_type": "code",
        "outputId": "a90c9b3c-9214-463d-a783-3a5496bbfa13",
        "colab": {
          "base_uri": "https://localhost:8080/",
          "height": 354
        }
      },
      "source": [
        "modeldf = pd.DataFrame(columns = [ 'Accuracy_score', 'Recall_score', 'Precision', 'f1_score',\n",
        "       'Area_under_curve'])\n",
        "for model in models:\n",
        "    modeldf = pd.concat([modeldf,model_report(model,X_train_dbow,X_test_dbow,y_train_dbow,y_test_dbow)])\n",
        "modeldf['nom']=['GaussianNB','RFC','DTC','XGBOOST','RegLog','SVC_rbf']\n",
        "modeldf.set_index(['nom'])"
      ],
      "execution_count": 0,
      "outputs": [
        {
          "output_type": "stream",
          "text": [
            "/usr/local/lib/python3.6/dist-packages/sklearn/metrics/_classification.py:1272: UndefinedMetricWarning: Precision is ill-defined and being set to 0.0 due to no predicted samples. Use `zero_division` parameter to control this behavior.\n",
            "  _warn_prf(average, modifier, msg_start, len(result))\n",
            "/usr/local/lib/python3.6/dist-packages/sklearn/metrics/_classification.py:1272: UndefinedMetricWarning: Precision is ill-defined and being set to 0.0 due to no predicted samples. Use `zero_division` parameter to control this behavior.\n",
            "  _warn_prf(average, modifier, msg_start, len(result))\n"
          ],
          "name": "stderr"
        },
        {
          "output_type": "execute_result",
          "data": {
            "text/html": [
              "<div>\n",
              "<style scoped>\n",
              "    .dataframe tbody tr th:only-of-type {\n",
              "        vertical-align: middle;\n",
              "    }\n",
              "\n",
              "    .dataframe tbody tr th {\n",
              "        vertical-align: top;\n",
              "    }\n",
              "\n",
              "    .dataframe thead th {\n",
              "        text-align: right;\n",
              "    }\n",
              "</style>\n",
              "<table border=\"1\" class=\"dataframe\">\n",
              "  <thead>\n",
              "    <tr style=\"text-align: right;\">\n",
              "      <th></th>\n",
              "      <th>Accuracy_score</th>\n",
              "      <th>Recall_score</th>\n",
              "      <th>Precision</th>\n",
              "      <th>f1_score</th>\n",
              "      <th>Area_under_curve</th>\n",
              "    </tr>\n",
              "    <tr>\n",
              "      <th>nom</th>\n",
              "      <th></th>\n",
              "      <th></th>\n",
              "      <th></th>\n",
              "      <th></th>\n",
              "      <th></th>\n",
              "    </tr>\n",
              "  </thead>\n",
              "  <tbody>\n",
              "    <tr>\n",
              "      <th>GaussianNB</th>\n",
              "      <td>0.672222</td>\n",
              "      <td>0.192825</td>\n",
              "      <td>0.272152</td>\n",
              "      <td>0.225722</td>\n",
              "      <td>0.511479</td>\n",
              "    </tr>\n",
              "    <tr>\n",
              "      <th>RFC</th>\n",
              "      <td>0.748889</td>\n",
              "      <td>0.008969</td>\n",
              "      <td>0.285714</td>\n",
              "      <td>0.017391</td>\n",
              "      <td>0.500792</td>\n",
              "    </tr>\n",
              "    <tr>\n",
              "      <th>DTC</th>\n",
              "      <td>0.612222</td>\n",
              "      <td>0.251121</td>\n",
              "      <td>0.235294</td>\n",
              "      <td>0.242950</td>\n",
              "      <td>0.491144</td>\n",
              "    </tr>\n",
              "    <tr>\n",
              "      <th>XGBOOST</th>\n",
              "      <td>0.752222</td>\n",
              "      <td>0.008969</td>\n",
              "      <td>0.500000</td>\n",
              "      <td>0.017621</td>\n",
              "      <td>0.503007</td>\n",
              "    </tr>\n",
              "    <tr>\n",
              "      <th>SVC_linear</th>\n",
              "      <td>0.752222</td>\n",
              "      <td>0.000000</td>\n",
              "      <td>0.000000</td>\n",
              "      <td>0.000000</td>\n",
              "      <td>0.500000</td>\n",
              "    </tr>\n",
              "    <tr>\n",
              "      <th>SVC_rbf</th>\n",
              "      <td>0.752222</td>\n",
              "      <td>0.000000</td>\n",
              "      <td>0.000000</td>\n",
              "      <td>0.000000</td>\n",
              "      <td>0.500000</td>\n",
              "    </tr>\n",
              "  </tbody>\n",
              "</table>\n",
              "</div>"
            ],
            "text/plain": [
              "            Accuracy_score  Recall_score  Precision  f1_score  Area_under_curve\n",
              "nom                                                                            \n",
              "GaussianNB        0.672222      0.192825   0.272152  0.225722          0.511479\n",
              "RFC               0.748889      0.008969   0.285714  0.017391          0.500792\n",
              "DTC               0.612222      0.251121   0.235294  0.242950          0.491144\n",
              "XGBOOST           0.752222      0.008969   0.500000  0.017621          0.503007\n",
              "SVC_linear        0.752222      0.000000   0.000000  0.000000          0.500000\n",
              "SVC_rbf           0.752222      0.000000   0.000000  0.000000          0.500000"
            ]
          },
          "metadata": {
            "tags": []
          },
          "execution_count": 87
        }
      ]
    },
    {
      "cell_type": "markdown",
      "metadata": {
        "id": "dzf_nzpKMq-s",
        "colab_type": "text"
      },
      "source": [
        "The metrics are clearly droping with this method. This is clearly not a good way to classify our problem. Moreover, we can observe that for two classifiers we got 75% accuracy. Not bad ! But this is because they always predict men whatever we feed them.\n",
        "\n",
        "Let's now try a distrubed memory model."
      ]
    },
    {
      "cell_type": "code",
      "metadata": {
        "id": "Zpb7LrskXEqv",
        "colab_type": "code",
        "outputId": "64d48a76-7e11-4075-c062-8af5cb739c08",
        "colab": {
          "base_uri": "https://localhost:8080/",
          "height": 34
        }
      },
      "source": [
        "model_dmm = Doc2Vec(dm=1, dm_mean=1, vector_size=300, window=10, negative=5, min_count=1, workers=2, alpha=0.065, min_alpha=0.065)\n",
        "model_dmm.build_vocab([x for x in tqdm(train_tagged.values)])"
      ],
      "execution_count": 0,
      "outputs": [
        {
          "output_type": "stream",
          "text": [
            "100%|██████████| 4000/4000 [00:00<00:00, 744991.83it/s]\n"
          ],
          "name": "stderr"
        }
      ]
    },
    {
      "cell_type": "code",
      "metadata": {
        "id": "k4lK-dB2ZBOu",
        "colab_type": "code",
        "colab": {}
      },
      "source": [
        "%%time\n",
        "for epoch in range(30):\n",
        "    model_dmm.train(utils.shuffle([x for x in tqdm(train_tagged.values)]), total_examples=len(train_tagged.values), epochs=1)\n",
        "    model_dmm.alpha -= 0.002\n",
        "    model_dmm.min_alpha = model_dmm.alpha"
      ],
      "execution_count": 0,
      "outputs": []
    },
    {
      "cell_type": "code",
      "metadata": {
        "id": "VnFkuZcba3RH",
        "colab_type": "code",
        "colab": {}
      },
      "source": [
        "y_train_dmm, X_train_dmm = vec_for_learning(model_dmm, train_tagged)\n",
        "y_test_dmm, X_test_dmm = vec_for_learning(model_dmm, test_tagged)\n",
        "y_train_dmm = pd.DataFrame(y_train_dmm,columns=['sexe']).sexe.apply(lambda x: 1 if x == 2 else 0)\n",
        "y_test_dmm = pd.DataFrame(y_test_dmm,columns=['sexe']).sexe.apply(lambda x: 1 if x == 2 else 0)\n",
        "X_train_dmm =  pd.DataFrame(X_train_dmm)\n",
        "X_test_dmm =  pd.DataFrame(X_test_dmm)"
      ],
      "execution_count": 0,
      "outputs": []
    },
    {
      "cell_type": "code",
      "metadata": {
        "id": "i59L5Vn6a_V6",
        "colab_type": "code",
        "outputId": "ec2a44a3-f85d-4d9d-9210-ee2e814229b8",
        "colab": {
          "base_uri": "https://localhost:8080/",
          "height": 266
        }
      },
      "source": [
        "modeldf = pd.DataFrame(columns = [ 'Accuracy_score', 'Recall_score', 'Precision', 'f1_score',\n",
        "       'Area_under_curve'])\n",
        "for model in models:\n",
        "    modeldf = pd.concat([modeldf,model_report(model,X_train_dmm,X_test_dmm,y_train_dmm,y_test_dmm)])\n",
        "modeldf['nom']=['GaussianNB','RFC','DTC','XGBOOST','RegLog','SVC_rbf']\n",
        "modeldf.set_index(['nom'])"
      ],
      "execution_count": 0,
      "outputs": [
        {
          "output_type": "execute_result",
          "data": {
            "text/html": [
              "<div>\n",
              "<style scoped>\n",
              "    .dataframe tbody tr th:only-of-type {\n",
              "        vertical-align: middle;\n",
              "    }\n",
              "\n",
              "    .dataframe tbody tr th {\n",
              "        vertical-align: top;\n",
              "    }\n",
              "\n",
              "    .dataframe thead th {\n",
              "        text-align: right;\n",
              "    }\n",
              "</style>\n",
              "<table border=\"1\" class=\"dataframe\">\n",
              "  <thead>\n",
              "    <tr style=\"text-align: right;\">\n",
              "      <th></th>\n",
              "      <th>Accuracy_score</th>\n",
              "      <th>Recall_score</th>\n",
              "      <th>Precision</th>\n",
              "      <th>f1_score</th>\n",
              "      <th>Area_under_curve</th>\n",
              "    </tr>\n",
              "    <tr>\n",
              "      <th>nom</th>\n",
              "      <th></th>\n",
              "      <th></th>\n",
              "      <th></th>\n",
              "      <th></th>\n",
              "      <th></th>\n",
              "    </tr>\n",
              "  </thead>\n",
              "  <tbody>\n",
              "    <tr>\n",
              "      <th>GaussianNB</th>\n",
              "      <td>0.650000</td>\n",
              "      <td>0.515695</td>\n",
              "      <td>0.357143</td>\n",
              "      <td>0.422018</td>\n",
              "      <td>0.604967</td>\n",
              "    </tr>\n",
              "    <tr>\n",
              "      <th>RFC</th>\n",
              "      <td>0.771111</td>\n",
              "      <td>0.107623</td>\n",
              "      <td>0.774194</td>\n",
              "      <td>0.188976</td>\n",
              "      <td>0.548642</td>\n",
              "    </tr>\n",
              "    <tr>\n",
              "      <th>DTC</th>\n",
              "      <td>0.634444</td>\n",
              "      <td>0.345291</td>\n",
              "      <td>0.296154</td>\n",
              "      <td>0.318841</td>\n",
              "      <td>0.537491</td>\n",
              "    </tr>\n",
              "    <tr>\n",
              "      <th>XGBOOST</th>\n",
              "      <td>0.770000</td>\n",
              "      <td>0.152466</td>\n",
              "      <td>0.653846</td>\n",
              "      <td>0.247273</td>\n",
              "      <td>0.562939</td>\n",
              "    </tr>\n",
              "    <tr>\n",
              "      <th>SVC_linear</th>\n",
              "      <td>0.764444</td>\n",
              "      <td>0.098655</td>\n",
              "      <td>0.666667</td>\n",
              "      <td>0.171875</td>\n",
              "      <td>0.541203</td>\n",
              "    </tr>\n",
              "    <tr>\n",
              "      <th>SVC_rbf</th>\n",
              "      <td>0.757778</td>\n",
              "      <td>0.035874</td>\n",
              "      <td>0.727273</td>\n",
              "      <td>0.068376</td>\n",
              "      <td>0.515722</td>\n",
              "    </tr>\n",
              "  </tbody>\n",
              "</table>\n",
              "</div>"
            ],
            "text/plain": [
              "            Accuracy_score  Recall_score  Precision  f1_score  Area_under_curve\n",
              "nom                                                                            \n",
              "GaussianNB        0.650000      0.515695   0.357143  0.422018          0.604967\n",
              "RFC               0.771111      0.107623   0.774194  0.188976          0.548642\n",
              "DTC               0.634444      0.345291   0.296154  0.318841          0.537491\n",
              "XGBOOST           0.770000      0.152466   0.653846  0.247273          0.562939\n",
              "SVC_linear        0.764444      0.098655   0.666667  0.171875          0.541203\n",
              "SVC_rbf           0.757778      0.035874   0.727273  0.068376          0.515722"
            ]
          },
          "metadata": {
            "tags": []
          },
          "execution_count": 80
        }
      ]
    },
    {
      "cell_type": "code",
      "metadata": {
        "id": "sSRNywHUcThW",
        "colab_type": "code",
        "outputId": "1ed2290d-afaf-43af-ae3a-7b6079597a14",
        "colab": {
          "base_uri": "https://localhost:8080/",
          "height": 515
        }
      },
      "source": [
        "predictions(GaussianNB(),X_train_dmm,X_test_dmm,y_train_dmm,y_test_dmm)"
      ],
      "execution_count": 0,
      "outputs": [
        {
          "output_type": "stream",
          "text": [
            "GaussianNB(priors=None, var_smoothing=1e-09)\n",
            "Classification report :               precision    recall  f1-score   support\n",
            "\n",
            "           0       0.81      0.69      0.75       677\n",
            "           1       0.36      0.52      0.42       223\n",
            "\n",
            "    accuracy                           0.65       900\n",
            "   macro avg       0.59      0.60      0.59       900\n",
            "weighted avg       0.70      0.65      0.67       900\n",
            "\n",
            "Accuracy :  0.65\n",
            "AUC :  0.6049671791271171\n"
          ],
          "name": "stdout"
        },
        {
          "output_type": "display_data",
          "data": {
            "image/png": "[encoded data removed]",
            "text/plain": [
              "<Figure size 864x720 with 3 Axes>"
            ]
          },
          "metadata": {
            "tags": []
          }
        }
      ]
    },
    {
      "cell_type": "markdown",
      "metadata": {
        "id": "bJE-gHbrvh3c",
        "colab_type": "text"
      },
      "source": [
        "The results are a little bit better but their are still under our previous try with others methods. So we will not keep them and we will proceed in the next part with the TF-IDF approach plus our features.\n",
        "\n",
        "#### Embeddings + features\n",
        "\n",
        "The best embedding method that we used is the TF-IDF with a f1 score of 0.56. We want to see if we can improve it when using our features.\n"
      ]
    },
    {
      "cell_type": "code",
      "metadata": {
        "id": "Z8hZDIxRvhLu",
        "colab_type": "code",
        "colab": {}
      },
      "source": [
        "X_train_idf_tri,X_test_idf_tri = pd.DataFrame(X_train),pd.DataFrame(X_test)\n",
        "X = df_deq[['UniqueWordTx', 'RateCleanRaw',\n",
        "        'NbPunct', 'NbAdp','NbCconj', 'NbNum', 'NbPropn', 'NbAdv', 'NbSCONJ', 'NbIntj', 'NbPres', 'NbPast', 'NbFut', 'NbImp',\n",
        "        'NbArt', 'F_mesure', 'NbNom_prec', 'NbDet_prec', 'NbAdj_prec','NbPron_prec', 'NbVerb_perc', 'NbAUX_perc', 'PronJe_perc','PronNous_perc', 'NbQuest_perc', 'NbExcl_perc',\n",
        "       'PolPos', 'PolNeg', 'PolUnk', 'FreqJoie', 'FreqPeur', 'FreqSad','FreqColere', 'FreqSurprise', 'FreqDegout']]"
      ],
      "execution_count": 0,
      "outputs": []
    },
    {
      "cell_type": "code",
      "metadata": {
        "id": "OUFJGOyexD6B",
        "colab_type": "code",
        "colab": {}
      },
      "source": [
        "X_train,X_test=train_test_split(X,random_state=42,test_size=0.2)"
      ],
      "execution_count": 0,
      "outputs": []
    },
    {
      "cell_type": "code",
      "metadata": {
        "id": "5_2JUjn3xP2B",
        "colab_type": "code",
        "colab": {}
      },
      "source": [
        "idx = X_train.index\n",
        "X_train_idf_tri = X_train_idf_tri.set_index(idx)\n",
        "X_train_combine = pd.concat([X_train_idf_tri, X_train], axis=1)\n",
        "idx=  X_test.index\n",
        "X_test_idf_tri = X_test_idf_tri.set_index(idx)\n",
        "X_test_combine = pd.concat([X_test_idf_tri, X_test], axis=1)"
      ],
      "execution_count": 0,
      "outputs": []
    },
    {
      "cell_type": "code",
      "metadata": {
        "id": "YVsmc79A9bhw",
        "colab_type": "code",
        "outputId": "2d31ac21-50a9-47b2-ee3b-7f41a7838c75",
        "colab": {
          "base_uri": "https://localhost:8080/",
          "height": 456
        }
      },
      "source": [
        "modeldf = pd.DataFrame(columns = [ 'Accuracy_score', 'Recall_score', 'Precision', 'f1_score',\n",
        "       'Area_under_curve'])\n",
        "for model in models:\n",
        "    modeldf = pd.concat([modeldf,model_report(model,X_train_combine,X_test_combine,y_train,y_test)])\n",
        "modeldf['nom']=['GaussianNB','RFC','DTC','XGBOOST','RegLog','SVC_rbf']\n",
        "modeldf.set_index(['nom'])"
      ],
      "execution_count": 0,
      "outputs": [
        {
          "output_type": "stream",
          "text": [
            "/usr/local/lib/python3.6/dist-packages/sklearn/linear_model/_logistic.py:940: ConvergenceWarning: lbfgs failed to converge (status=1):\n",
            "STOP: TOTAL NO. of ITERATIONS REACHED LIMIT.\n",
            "\n",
            "Increase the number of iterations (max_iter) or scale the data as shown in:\n",
            "    https://scikit-learn.org/stable/modules/preprocessing.html\n",
            "Please also refer to the documentation for alternative solver options:\n",
            "    https://scikit-learn.org/stable/modules/linear_model.html#logistic-regression\n",
            "  extra_warning_msg=_LOGISTIC_SOLVER_CONVERGENCE_MSG)\n",
            "/usr/local/lib/python3.6/dist-packages/sklearn/metrics/_classification.py:1272: UndefinedMetricWarning: Precision is ill-defined and being set to 0.0 due to no predicted samples. Use `zero_division` parameter to control this behavior.\n",
            "  _warn_prf(average, modifier, msg_start, len(result))\n"
          ],
          "name": "stderr"
        },
        {
          "output_type": "execute_result",
          "data": {
            "text/html": [
              "<div>\n",
              "<style scoped>\n",
              "    .dataframe tbody tr th:only-of-type {\n",
              "        vertical-align: middle;\n",
              "    }\n",
              "\n",
              "    .dataframe tbody tr th {\n",
              "        vertical-align: top;\n",
              "    }\n",
              "\n",
              "    .dataframe thead th {\n",
              "        text-align: right;\n",
              "    }\n",
              "</style>\n",
              "<table border=\"1\" class=\"dataframe\">\n",
              "  <thead>\n",
              "    <tr style=\"text-align: right;\">\n",
              "      <th></th>\n",
              "      <th>Accuracy_score</th>\n",
              "      <th>Recall_score</th>\n",
              "      <th>Precision</th>\n",
              "      <th>f1_score</th>\n",
              "      <th>Area_under_curve</th>\n",
              "    </tr>\n",
              "    <tr>\n",
              "      <th>nom</th>\n",
              "      <th></th>\n",
              "      <th></th>\n",
              "      <th></th>\n",
              "      <th></th>\n",
              "      <th></th>\n",
              "    </tr>\n",
              "  </thead>\n",
              "  <tbody>\n",
              "    <tr>\n",
              "      <th>GaussianNB</th>\n",
              "      <td>0.740000</td>\n",
              "      <td>0.354260</td>\n",
              "      <td>0.467456</td>\n",
              "      <td>0.403061</td>\n",
              "      <td>0.610660</td>\n",
              "    </tr>\n",
              "    <tr>\n",
              "      <th>RFC</th>\n",
              "      <td>0.776667</td>\n",
              "      <td>0.152466</td>\n",
              "      <td>0.739130</td>\n",
              "      <td>0.252788</td>\n",
              "      <td>0.567371</td>\n",
              "    </tr>\n",
              "    <tr>\n",
              "      <th>DTC</th>\n",
              "      <td>0.690000</td>\n",
              "      <td>0.390135</td>\n",
              "      <td>0.378261</td>\n",
              "      <td>0.384106</td>\n",
              "      <td>0.589454</td>\n",
              "    </tr>\n",
              "    <tr>\n",
              "      <th>XGBOOST</th>\n",
              "      <td>0.773333</td>\n",
              "      <td>0.130045</td>\n",
              "      <td>0.743590</td>\n",
              "      <td>0.221374</td>\n",
              "      <td>0.557637</td>\n",
              "    </tr>\n",
              "    <tr>\n",
              "      <th>RegLog</th>\n",
              "      <td>0.741111</td>\n",
              "      <td>0.067265</td>\n",
              "      <td>0.375000</td>\n",
              "      <td>0.114068</td>\n",
              "      <td>0.515168</td>\n",
              "    </tr>\n",
              "    <tr>\n",
              "      <th>SVC_rbf</th>\n",
              "      <td>0.752222</td>\n",
              "      <td>0.000000</td>\n",
              "      <td>0.000000</td>\n",
              "      <td>0.000000</td>\n",
              "      <td>0.500000</td>\n",
              "    </tr>\n",
              "  </tbody>\n",
              "</table>\n",
              "</div>"
            ],
            "text/plain": [
              "            Accuracy_score  Recall_score  Precision  f1_score  Area_under_curve\n",
              "nom                                                                            \n",
              "GaussianNB        0.740000      0.354260   0.467456  0.403061          0.610660\n",
              "RFC               0.776667      0.152466   0.739130  0.252788          0.567371\n",
              "DTC               0.690000      0.390135   0.378261  0.384106          0.589454\n",
              "XGBOOST           0.773333      0.130045   0.743590  0.221374          0.557637\n",
              "RegLog            0.741111      0.067265   0.375000  0.114068          0.515168\n",
              "SVC_rbf           0.752222      0.000000   0.000000  0.000000          0.500000"
            ]
          },
          "metadata": {
            "tags": []
          },
          "execution_count": 167
        }
      ]
    },
    {
      "cell_type": "code",
      "metadata": {
        "id": "A6CvFosFA6jG",
        "colab_type": "code",
        "outputId": "5ee74f08-fa1e-4895-bed9-90e465328872",
        "colab": {
          "base_uri": "https://localhost:8080/",
          "height": 515
        }
      },
      "source": [
        "predictions(GaussianNB(),X_train_combine,X_test_combine,y_train,y_test)"
      ],
      "execution_count": 0,
      "outputs": [
        {
          "output_type": "stream",
          "text": [
            "GaussianNB(priors=None, var_smoothing=1e-09)\n",
            "Classification report :               precision    recall  f1-score   support\n",
            "\n",
            "           0       0.80      0.87      0.83       677\n",
            "           1       0.47      0.35      0.40       223\n",
            "\n",
            "    accuracy                           0.74       900\n",
            "   macro avg       0.64      0.61      0.62       900\n",
            "weighted avg       0.72      0.74      0.73       900\n",
            "\n",
            "Accuracy :  0.74\n",
            "AUC :  0.6106603254929754\n"
          ],
          "name": "stdout"
        },
        {
          "output_type": "display_data",
          "data": {
            "image/png": "[encoded data removed]",
            "text/plain": [
              "<Figure size 864x720 with 3 Axes>"
            ]
          },
          "metadata": {
            "tags": []
          }
        }
      ]
    },
    {
      "cell_type": "markdown",
      "metadata": {
        "id": "k-uxyE49lpoi",
        "colab_type": "text"
      },
      "source": [
        "Unfortunately, when we combine both method we are not getting any improvement on the unbalanced dataset. "
      ]
    },
    {
      "cell_type": "markdown",
      "metadata": {
        "id": "yDuSEkKBDbFT",
        "colab_type": "text"
      },
      "source": [
        "#### Conclusion on the umbalanced dataset\n",
        "\n",
        "As we can see, the best method seem to be the TF-Idf tri-gram with a Naive Bayes model (with 0.5647 f1_score and a AUC of 0.72).\n",
        "Moreover with the confusion matrix we find that the model is almost classying all women correctly.\n",
        "We will now try the same approch with a balanced dataset and after that we will try to tune the best model to extract some gender marker.\n"
      ]
    },
    {
      "cell_type": "markdown",
      "metadata": {
        "id": "qU-9xwduD1O4",
        "colab_type": "text"
      },
      "source": [
        "\n",
        "### Balanced dataset\n",
        "\n",
        "When working with unbalanced labels you have several choice to balance them in order to train models in more efficient way. We choose to down-sample the majority class in order to have 2500 documents for each gender. \n",
        "\n",
        "We are just doing the same previous operations but with our balanced dataset.\n",
        "\n",
        "After that we will choose the best model, fine tune it and then try to extract some feature importance.\n",
        "We will not explain anything except our best result in this part because it is same processing as previously presented\n"
      ]
    },
    {
      "cell_type": "code",
      "metadata": {
        "id": "fZWxmKxWntfO",
        "colab_type": "code",
        "colab": {}
      },
      "source": [
        "df_eq = pd.read_csv('df_medium_eq_var_5000.csv')"
      ],
      "execution_count": 0,
      "outputs": []
    },
    {
      "cell_type": "markdown",
      "metadata": {
        "id": "TbHro8LcOh1v",
        "colab_type": "text"
      },
      "source": [
        "#### Feature engineering"
      ]
    },
    {
      "cell_type": "code",
      "metadata": {
        "id": "c65L4r0t6Uas",
        "colab_type": "code",
        "colab": {}
      },
      "source": [
        "X = df_eq[['UniqueWordTx', 'RateCleanRaw',\n",
        "        'NbPunct', 'NbAdp','NbCconj', 'NbNum', 'NbPropn', 'NbAdv', 'NbSCONJ', 'NbIntj', 'NbPres', 'NbPast', 'NbFut', 'NbImp',\n",
        "        'NbArt', 'F_mesure', 'NbNom_prec', 'NbDet_prec', 'NbAdj_prec','NbPron_prec', 'NbVerb_perc', 'NbAUX_perc', 'PronJe_perc','PronNous_perc', 'NbQuest_perc', 'NbExcl_perc',\n",
        "       'PolPos', 'PolNeg', 'PolUnk', 'FreqJoie', 'FreqPeur', 'FreqSad','FreqColere', 'FreqSurprise', 'FreqDegout']]\n",
        "y = df_eq.sexe.apply(lambda x : 1 if x == 2 else 0)\n"
      ],
      "execution_count": 0,
      "outputs": []
    },
    {
      "cell_type": "code",
      "metadata": {
        "id": "XooTOOhf6dYp",
        "colab_type": "code",
        "colab": {}
      },
      "source": [
        "X_train,X_test,y_train,y_test = train_test_split(X,y,random_state = 42 ,test_size =0.2)"
      ],
      "execution_count": 0,
      "outputs": []
    },
    {
      "cell_type": "code",
      "metadata": {
        "id": "XBO4btbh6qGX",
        "colab_type": "code",
        "outputId": "bb490928-ab75-4eae-9dd7-bce036b1acc5",
        "colab": {
          "base_uri": "https://localhost:8080/",
          "height": 266
        }
      },
      "source": [
        "models  = [GaussianNB(),RandomForestClassifier(random_state=42),DecisionTreeClassifier(random_state=42),\n",
        "          XGBClassifier(random_state = 42),LogisticRegression(random_state = 42,max_iter=1000),SVC(random_state = 42,probability=True)]\n",
        "modeldf = pd.DataFrame(columns = [ 'Accuracy_score', 'Recall_score', 'Precision', 'f1_score',\n",
        "       'Area_under_curve'])\n",
        "for model in models:\n",
        "    modeldf = pd.concat([modeldf,model_report(model,X_train,X_test,y_train,y_test)])\n",
        "modeldf['nom']=['GaussianNB','RFC','DTC','XGBOOST','RegLog','SVC_rbf']\n",
        "modeldf.set_index(['nom'])"
      ],
      "execution_count": 0,
      "outputs": [
        {
          "output_type": "execute_result",
          "data": {
            "text/html": [
              "<div>\n",
              "<style scoped>\n",
              "    .dataframe tbody tr th:only-of-type {\n",
              "        vertical-align: middle;\n",
              "    }\n",
              "\n",
              "    .dataframe tbody tr th {\n",
              "        vertical-align: top;\n",
              "    }\n",
              "\n",
              "    .dataframe thead th {\n",
              "        text-align: right;\n",
              "    }\n",
              "</style>\n",
              "<table border=\"1\" class=\"dataframe\">\n",
              "  <thead>\n",
              "    <tr style=\"text-align: right;\">\n",
              "      <th></th>\n",
              "      <th>Accuracy_score</th>\n",
              "      <th>Recall_score</th>\n",
              "      <th>Precision</th>\n",
              "      <th>f1_score</th>\n",
              "      <th>Area_under_curve</th>\n",
              "    </tr>\n",
              "    <tr>\n",
              "      <th>nom</th>\n",
              "      <th></th>\n",
              "      <th></th>\n",
              "      <th></th>\n",
              "      <th></th>\n",
              "      <th></th>\n",
              "    </tr>\n",
              "  </thead>\n",
              "  <tbody>\n",
              "    <tr>\n",
              "      <th>GaussianNB</th>\n",
              "      <td>0.519</td>\n",
              "      <td>0.884</td>\n",
              "      <td>0.510983</td>\n",
              "      <td>0.647619</td>\n",
              "      <td>0.519</td>\n",
              "    </tr>\n",
              "    <tr>\n",
              "      <th>RFC</th>\n",
              "      <td>0.652</td>\n",
              "      <td>0.714</td>\n",
              "      <td>0.635231</td>\n",
              "      <td>0.672316</td>\n",
              "      <td>0.652</td>\n",
              "    </tr>\n",
              "    <tr>\n",
              "      <th>DTC</th>\n",
              "      <td>0.572</td>\n",
              "      <td>0.574</td>\n",
              "      <td>0.571713</td>\n",
              "      <td>0.572854</td>\n",
              "      <td>0.572</td>\n",
              "    </tr>\n",
              "    <tr>\n",
              "      <th>XGBOOST</th>\n",
              "      <td>0.653</td>\n",
              "      <td>0.748</td>\n",
              "      <td>0.628571</td>\n",
              "      <td>0.683105</td>\n",
              "      <td>0.653</td>\n",
              "    </tr>\n",
              "    <tr>\n",
              "      <th>RegLog</th>\n",
              "      <td>0.632</td>\n",
              "      <td>0.658</td>\n",
              "      <td>0.625475</td>\n",
              "      <td>0.641326</td>\n",
              "      <td>0.632</td>\n",
              "    </tr>\n",
              "    <tr>\n",
              "      <th>SVC_rbf</th>\n",
              "      <td>0.567</td>\n",
              "      <td>0.696</td>\n",
              "      <td>0.553259</td>\n",
              "      <td>0.616475</td>\n",
              "      <td>0.567</td>\n",
              "    </tr>\n",
              "  </tbody>\n",
              "</table>\n",
              "</div>"
            ],
            "text/plain": [
              "            Accuracy_score  Recall_score  Precision  f1_score  Area_under_curve\n",
              "nom                                                                            \n",
              "GaussianNB           0.519         0.884   0.510983  0.647619             0.519\n",
              "RFC                  0.652         0.714   0.635231  0.672316             0.652\n",
              "DTC                  0.572         0.574   0.571713  0.572854             0.572\n",
              "XGBOOST              0.653         0.748   0.628571  0.683105             0.653\n",
              "RegLog               0.632         0.658   0.625475  0.641326             0.632\n",
              "SVC_rbf              0.567         0.696   0.553259  0.616475             0.567"
            ]
          },
          "metadata": {
            "tags": []
          },
          "execution_count": 42
        }
      ]
    },
    {
      "cell_type": "code",
      "metadata": {
        "id": "GC7mdjSA7SR7",
        "colab_type": "code",
        "outputId": "645e19e6-bd2a-4a0d-bef0-6f6178f1e7dc",
        "colab": {
          "base_uri": "https://localhost:8080/",
          "height": 617
        }
      },
      "source": [
        "predictions(XGBClassifier(random_state = 42),X_train,X_test,y_train,y_test)"
      ],
      "execution_count": 0,
      "outputs": [
        {
          "output_type": "stream",
          "text": [
            "XGBClassifier(base_score=0.5, booster='gbtree', colsample_bylevel=1,\n",
            "              colsample_bynode=1, colsample_bytree=1, gamma=0,\n",
            "              learning_rate=0.1, max_delta_step=0, max_depth=3,\n",
            "              min_child_weight=1, missing=None, n_estimators=100, n_jobs=1,\n",
            "              nthread=None, objective='binary:logistic', random_state=42,\n",
            "              reg_alpha=0, reg_lambda=1, scale_pos_weight=1, seed=None,\n",
            "              silent=None, subsample=1, verbosity=1)\n",
            "Classification report :               precision    recall  f1-score   support\n",
            "\n",
            "           0       0.69      0.56      0.62       500\n",
            "           1       0.63      0.75      0.68       500\n",
            "\n",
            "    accuracy                           0.65      1000\n",
            "   macro avg       0.66      0.65      0.65      1000\n",
            "weighted avg       0.66      0.65      0.65      1000\n",
            "\n",
            "Accuracy :  0.653\n",
            "AUC :  0.653\n"
          ],
          "name": "stdout"
        },
        {
          "output_type": "display_data",
          "data": {
            "image/png": "[encoded data removed]",
            "text/plain": [
              "<Figure size 864x720 with 3 Axes>"
            ]
          },
          "metadata": {
            "tags": []
          }
        }
      ]
    },
    {
      "cell_type": "markdown",
      "metadata": {
        "id": "yUclLqj5mDLP",
        "colab_type": "text"
      },
      "source": [
        "Our best model for our features is now a XGBOOST. The confusion matrix show that most of the women are correctly classified but too many men are classified as women. For the balanced dataset, we have a 0.68 f1 score to bit"
      ]
    },
    {
      "cell_type": "markdown",
      "metadata": {
        "id": "MjnGA3BLOlom",
        "colab_type": "text"
      },
      "source": [
        "#### Word embeddings (TF-IDF/DBOW/DMM)"
      ]
    },
    {
      "cell_type": "code",
      "metadata": {
        "id": "fH4xY7QZ7n6g",
        "colab_type": "code",
        "outputId": "953ccdc2-0c5a-4c0c-cd0a-f3e9bc57a058",
        "colab": {
          "base_uri": "https://localhost:8080/",
          "height": 71
        }
      },
      "source": [
        "from sklearn.feature_extraction.text import TfidfVectorizer\n",
        "tfidfconverter = TfidfVectorizer(max_features=1500, min_df=5, max_df=0.7, stop_words=fr_stop)\n",
        "X = tfidfconverter.fit_transform(df_eq['Texte']).toarray()\n",
        "X_train,X_test,y_train,y_test = train_test_split(X,y,random_state = 42 ,test_size =0.2)"
      ],
      "execution_count": 0,
      "outputs": [
        {
          "output_type": "stream",
          "text": [
            "/usr/local/lib/python3.6/dist-packages/sklearn/feature_extraction/text.py:385: UserWarning: Your stop_words may be inconsistent with your preprocessing. Tokenizing the stop words generated tokens ['qu', 'quelqu'] not in stop_words.\n",
            "  'stop_words.' % sorted(inconsistent))\n"
          ],
          "name": "stderr"
        }
      ]
    },
    {
      "cell_type": "code",
      "metadata": {
        "id": "7k1HR5Fq7wYL",
        "colab_type": "code",
        "outputId": "5ac5c145-6342-42e4-87e1-fa0c85c4541e",
        "colab": {
          "base_uri": "https://localhost:8080/",
          "height": 266
        }
      },
      "source": [
        "modeldf = pd.DataFrame(columns = [ 'Accuracy_score', 'Recall_score', 'Precision', 'f1_score',\n",
        "       'Area_under_curve'])\n",
        "for model in models:\n",
        "    modeldf = pd.concat([modeldf,model_report(model,X_train,X_test,y_train,y_test)])\n",
        "modeldf['nom']=['GaussianNB','RFC','DTC','XGBOOST','RegLog','SVC_rbf']\n",
        "modeldf.set_index(['nom'])"
      ],
      "execution_count": 0,
      "outputs": [
        {
          "output_type": "execute_result",
          "data": {
            "text/html": [
              "<div>\n",
              "<style scoped>\n",
              "    .dataframe tbody tr th:only-of-type {\n",
              "        vertical-align: middle;\n",
              "    }\n",
              "\n",
              "    .dataframe tbody tr th {\n",
              "        vertical-align: top;\n",
              "    }\n",
              "\n",
              "    .dataframe thead th {\n",
              "        text-align: right;\n",
              "    }\n",
              "</style>\n",
              "<table border=\"1\" class=\"dataframe\">\n",
              "  <thead>\n",
              "    <tr style=\"text-align: right;\">\n",
              "      <th></th>\n",
              "      <th>Accuracy_score</th>\n",
              "      <th>Recall_score</th>\n",
              "      <th>Precision</th>\n",
              "      <th>f1_score</th>\n",
              "      <th>Area_under_curve</th>\n",
              "    </tr>\n",
              "    <tr>\n",
              "      <th>nom</th>\n",
              "      <th></th>\n",
              "      <th></th>\n",
              "      <th></th>\n",
              "      <th></th>\n",
              "      <th></th>\n",
              "    </tr>\n",
              "  </thead>\n",
              "  <tbody>\n",
              "    <tr>\n",
              "      <th>GaussianNB</th>\n",
              "      <td>0.717</td>\n",
              "      <td>0.700</td>\n",
              "      <td>0.724638</td>\n",
              "      <td>0.712106</td>\n",
              "      <td>0.717</td>\n",
              "    </tr>\n",
              "    <tr>\n",
              "      <th>RFC</th>\n",
              "      <td>0.765</td>\n",
              "      <td>0.754</td>\n",
              "      <td>0.770961</td>\n",
              "      <td>0.762386</td>\n",
              "      <td>0.765</td>\n",
              "    </tr>\n",
              "    <tr>\n",
              "      <th>DTC</th>\n",
              "      <td>0.673</td>\n",
              "      <td>0.688</td>\n",
              "      <td>0.667961</td>\n",
              "      <td>0.677833</td>\n",
              "      <td>0.673</td>\n",
              "    </tr>\n",
              "    <tr>\n",
              "      <th>XGBOOST</th>\n",
              "      <td>0.765</td>\n",
              "      <td>0.766</td>\n",
              "      <td>0.764471</td>\n",
              "      <td>0.765235</td>\n",
              "      <td>0.765</td>\n",
              "    </tr>\n",
              "    <tr>\n",
              "      <th>RegLog</th>\n",
              "      <td>0.769</td>\n",
              "      <td>0.766</td>\n",
              "      <td>0.770624</td>\n",
              "      <td>0.768305</td>\n",
              "      <td>0.769</td>\n",
              "    </tr>\n",
              "    <tr>\n",
              "      <th>SVC_rbf</th>\n",
              "      <td>0.768</td>\n",
              "      <td>0.778</td>\n",
              "      <td>0.762745</td>\n",
              "      <td>0.770297</td>\n",
              "      <td>0.768</td>\n",
              "    </tr>\n",
              "  </tbody>\n",
              "</table>\n",
              "</div>"
            ],
            "text/plain": [
              "            Accuracy_score  Recall_score  Precision  f1_score  Area_under_curve\n",
              "nom                                                                            \n",
              "GaussianNB           0.717         0.700   0.724638  0.712106             0.717\n",
              "RFC                  0.765         0.754   0.770961  0.762386             0.765\n",
              "DTC                  0.673         0.688   0.667961  0.677833             0.673\n",
              "XGBOOST              0.765         0.766   0.764471  0.765235             0.765\n",
              "RegLog               0.769         0.766   0.770624  0.768305             0.769\n",
              "SVC_rbf              0.768         0.778   0.762745  0.770297             0.768"
            ]
          },
          "metadata": {
            "tags": []
          },
          "execution_count": 45
        }
      ]
    },
    {
      "cell_type": "code",
      "metadata": {
        "id": "8WTdT6Vh74l6",
        "colab_type": "code",
        "outputId": "889b13f2-88fc-4048-d355-bd0b784857fa",
        "colab": {
          "base_uri": "https://localhost:8080/",
          "height": 566
        }
      },
      "source": [
        "predictions(SVC(random_state = 42,probability=True),X_train,X_test,y_train,y_test)"
      ],
      "execution_count": 0,
      "outputs": [
        {
          "output_type": "stream",
          "text": [
            "SVC(C=1.0, break_ties=False, cache_size=200, class_weight=None, coef0=0.0,\n",
            "    decision_function_shape='ovr', degree=3, gamma='scale', kernel='rbf',\n",
            "    max_iter=-1, probability=True, random_state=42, shrinking=True, tol=0.001,\n",
            "    verbose=False)\n",
            "Classification report :               precision    recall  f1-score   support\n",
            "\n",
            "           0       0.77      0.76      0.77       500\n",
            "           1       0.76      0.78      0.77       500\n",
            "\n",
            "    accuracy                           0.77      1000\n",
            "   macro avg       0.77      0.77      0.77      1000\n",
            "weighted avg       0.77      0.77      0.77      1000\n",
            "\n",
            "Accuracy :  0.768\n",
            "AUC :  0.768\n"
          ],
          "name": "stdout"
        },
        {
          "output_type": "display_data",
          "data": {
            "image/png": "[encoded data removed]",
            "text/plain": [
              "<Figure size 864x720 with 3 Axes>"
            ]
          },
          "metadata": {
            "tags": []
          }
        }
      ]
    },
    {
      "cell_type": "code",
      "metadata": {
        "id": "fI8vnd8e74wO",
        "colab_type": "code",
        "outputId": "da79b9c2-dfe4-431d-d1c7-5bbfe12956c8",
        "colab": {
          "base_uri": "https://localhost:8080/",
          "height": 71
        }
      },
      "source": [
        "tfidfconverter = TfidfVectorizer(max_features=1500, min_df=5, max_df=0.7, stop_words=fr_stop, ngram_range=(2,3))\n",
        "X = tfidfconverter.fit_transform(df_eq['Texte']).toarray()\n",
        "X_train,X_test,y_train,y_test = train_test_split(X,y,random_state = 42 ,test_size =0.2)"
      ],
      "execution_count": 0,
      "outputs": [
        {
          "output_type": "stream",
          "text": [
            "/usr/local/lib/python3.6/dist-packages/sklearn/feature_extraction/text.py:385: UserWarning: Your stop_words may be inconsistent with your preprocessing. Tokenizing the stop words generated tokens ['qu', 'quelqu'] not in stop_words.\n",
            "  'stop_words.' % sorted(inconsistent))\n"
          ],
          "name": "stderr"
        }
      ]
    },
    {
      "cell_type": "code",
      "metadata": {
        "id": "ogLu7ng47-c1",
        "colab_type": "code",
        "outputId": "4d566aa7-6db5-48af-aa5d-f425ee12de2d",
        "colab": {
          "base_uri": "https://localhost:8080/",
          "height": 266
        }
      },
      "source": [
        "modeldf = pd.DataFrame(columns = [ 'Accuracy_score', 'Recall_score', 'Precision', 'f1_score',\n",
        "       'Area_under_curve'])\n",
        "for model in models:\n",
        "    modeldf = pd.concat([modeldf,model_report(model,X_train,X_test,y_train,y_test)])\n",
        "modeldf['nom']=['GaussianNB','RFC','DTC','XGBOOST','RegLog','SVC_rbf']\n",
        "modeldf.set_index(['nom'])"
      ],
      "execution_count": 0,
      "outputs": [
        {
          "output_type": "execute_result",
          "data": {
            "text/html": [
              "<div>\n",
              "<style scoped>\n",
              "    .dataframe tbody tr th:only-of-type {\n",
              "        vertical-align: middle;\n",
              "    }\n",
              "\n",
              "    .dataframe tbody tr th {\n",
              "        vertical-align: top;\n",
              "    }\n",
              "\n",
              "    .dataframe thead th {\n",
              "        text-align: right;\n",
              "    }\n",
              "</style>\n",
              "<table border=\"1\" class=\"dataframe\">\n",
              "  <thead>\n",
              "    <tr style=\"text-align: right;\">\n",
              "      <th></th>\n",
              "      <th>Accuracy_score</th>\n",
              "      <th>Recall_score</th>\n",
              "      <th>Precision</th>\n",
              "      <th>f1_score</th>\n",
              "      <th>Area_under_curve</th>\n",
              "    </tr>\n",
              "    <tr>\n",
              "      <th>nom</th>\n",
              "      <th></th>\n",
              "      <th></th>\n",
              "      <th></th>\n",
              "      <th></th>\n",
              "      <th></th>\n",
              "    </tr>\n",
              "  </thead>\n",
              "  <tbody>\n",
              "    <tr>\n",
              "      <th>GaussianNB</th>\n",
              "      <td>0.721</td>\n",
              "      <td>0.668</td>\n",
              "      <td>0.747204</td>\n",
              "      <td>0.705385</td>\n",
              "      <td>0.721</td>\n",
              "    </tr>\n",
              "    <tr>\n",
              "      <th>RFC</th>\n",
              "      <td>0.713</td>\n",
              "      <td>0.704</td>\n",
              "      <td>0.716904</td>\n",
              "      <td>0.710394</td>\n",
              "      <td>0.713</td>\n",
              "    </tr>\n",
              "    <tr>\n",
              "      <th>DTC</th>\n",
              "      <td>0.639</td>\n",
              "      <td>0.652</td>\n",
              "      <td>0.635478</td>\n",
              "      <td>0.643633</td>\n",
              "      <td>0.639</td>\n",
              "    </tr>\n",
              "    <tr>\n",
              "      <th>XGBOOST</th>\n",
              "      <td>0.706</td>\n",
              "      <td>0.658</td>\n",
              "      <td>0.727876</td>\n",
              "      <td>0.691176</td>\n",
              "      <td>0.706</td>\n",
              "    </tr>\n",
              "    <tr>\n",
              "      <th>RegLog</th>\n",
              "      <td>0.739</td>\n",
              "      <td>0.736</td>\n",
              "      <td>0.740443</td>\n",
              "      <td>0.738215</td>\n",
              "      <td>0.739</td>\n",
              "    </tr>\n",
              "    <tr>\n",
              "      <th>SVC_rbf</th>\n",
              "      <td>0.739</td>\n",
              "      <td>0.740</td>\n",
              "      <td>0.738523</td>\n",
              "      <td>0.739261</td>\n",
              "      <td>0.739</td>\n",
              "    </tr>\n",
              "  </tbody>\n",
              "</table>\n",
              "</div>"
            ],
            "text/plain": [
              "            Accuracy_score  Recall_score  Precision  f1_score  Area_under_curve\n",
              "nom                                                                            \n",
              "GaussianNB           0.721         0.668   0.747204  0.705385             0.721\n",
              "RFC                  0.713         0.704   0.716904  0.710394             0.713\n",
              "DTC                  0.639         0.652   0.635478  0.643633             0.639\n",
              "XGBOOST              0.706         0.658   0.727876  0.691176             0.706\n",
              "RegLog               0.739         0.736   0.740443  0.738215             0.739\n",
              "SVC_rbf              0.739         0.740   0.738523  0.739261             0.739"
            ]
          },
          "metadata": {
            "tags": []
          },
          "execution_count": 48
        }
      ]
    },
    {
      "cell_type": "code",
      "metadata": {
        "id": "z9ony2Jb8I3R",
        "colab_type": "code",
        "outputId": "fc861a72-df96-4772-c3ba-d9a096223b74",
        "colab": {
          "base_uri": "https://localhost:8080/",
          "height": 566
        }
      },
      "source": [
        "predictions(SVC(random_state = 42,probability=True),X_train,X_test,y_train,y_test)"
      ],
      "execution_count": 0,
      "outputs": [
        {
          "output_type": "stream",
          "text": [
            "SVC(C=1.0, break_ties=False, cache_size=200, class_weight=None, coef0=0.0,\n",
            "    decision_function_shape='ovr', degree=3, gamma='scale', kernel='rbf',\n",
            "    max_iter=-1, probability=True, random_state=42, shrinking=True, tol=0.001,\n",
            "    verbose=False)\n",
            "Classification report :               precision    recall  f1-score   support\n",
            "\n",
            "           0       0.74      0.74      0.74       500\n",
            "           1       0.74      0.74      0.74       500\n",
            "\n",
            "    accuracy                           0.74      1000\n",
            "   macro avg       0.74      0.74      0.74      1000\n",
            "weighted avg       0.74      0.74      0.74      1000\n",
            "\n",
            "Accuracy :  0.739\n",
            "AUC :  0.739\n"
          ],
          "name": "stdout"
        },
        {
          "output_type": "display_data",
          "data": {
            "image/png": "[encoded data removed]",
            "text/plain": [
              "<Figure size 864x720 with 3 Axes>"
            ]
          },
          "metadata": {
            "tags": []
          }
        }
      ]
    },
    {
      "cell_type": "code",
      "metadata": {
        "id": "j20g0Qwg-Ces",
        "colab_type": "code",
        "colab": {}
      },
      "source": [
        "train,test = train_test_split(df_eq[['CleanTokensLemme','sexe']],random_state = 42 ,test_size =0.2)\n",
        "train_tagged = train.apply(lambda r: TaggedDocument(words=r.CleanTokensLemme, tags=[r.sexe]), axis=1)\n",
        "test_tagged = test.apply(lambda r: TaggedDocument(words=r.CleanTokensLemme, tags=[r.sexe]), axis=1)\n",
        "model_dbow = Doc2Vec(dm=0, vector_size=300, negative=5, hs=0, min_count=2, sample = 0, workers=2)\n",
        "model_dbow.build_vocab([x for x in tqdm(train_tagged.values)])\n",
        "for epoch in range(30):\n",
        "    model_dbow.train(utils.shuffle([x for x in tqdm(train_tagged.values)]), total_examples=len(train_tagged.values), epochs=1)\n",
        "    model_dbow.alpha -= 0.002\n",
        "    model_dbow.min_alpha = model_dbow.alpha"
      ],
      "execution_count": 0,
      "outputs": []
    },
    {
      "cell_type": "code",
      "metadata": {
        "id": "93K41aRD-CnD",
        "colab_type": "code",
        "colab": {}
      },
      "source": [
        "def vec_for_learning(model, tagged_docs):\n",
        "    sents = tagged_docs.values\n",
        "    targets, regressors = zip(*[(doc.tags[0], model.infer_vector(doc.words, steps=20)) for doc in sents])\n",
        "    return targets, regressors\n",
        "y_train_dbow, X_train_dbow = vec_for_learning(model_dbow, train_tagged)\n",
        "y_test_dbow, X_test_dbow = vec_for_learning(model_dbow, test_tagged)\n",
        "y_train_dbow = pd.DataFrame(y_train_dbow,columns=['sexe']).sexe.apply(lambda x: 1 if x == 2 else 0)\n",
        "y_test_dbow = pd.DataFrame(y_test_dbow,columns=['sexe']).sexe.apply(lambda x: 1 if x == 2 else 0)\n",
        "X_train_dbow =  pd.DataFrame(X_train_dbow)\n",
        "X_test_dbow =  pd.DataFrame(X_test_dbow)"
      ],
      "execution_count": 0,
      "outputs": []
    },
    {
      "cell_type": "code",
      "metadata": {
        "id": "tlQTEGIF-apu",
        "colab_type": "code",
        "outputId": "c8baa1f6-00f3-4627-c299-eb9fd20b8ea4",
        "colab": {
          "base_uri": "https://localhost:8080/",
          "height": 266
        }
      },
      "source": [
        "modeldf = pd.DataFrame(columns = [ 'Accuracy_score', 'Recall_score', 'Precision', 'f1_score',\n",
        "       'Area_under_curve'])\n",
        "for model in models:\n",
        "    modeldf = pd.concat([modeldf,model_report(model,X_train_dbow,X_test_dbow,y_train_dbow,y_test_dbow)])\n",
        "modeldf['nom']=['GaussianNB','RFC','DTC','XGBOOST','RegLog','SVC_rbf']\n",
        "modeldf.set_index(['nom'])"
      ],
      "execution_count": 0,
      "outputs": [
        {
          "output_type": "execute_result",
          "data": {
            "text/html": [
              "<div>\n",
              "<style scoped>\n",
              "    .dataframe tbody tr th:only-of-type {\n",
              "        vertical-align: middle;\n",
              "    }\n",
              "\n",
              "    .dataframe tbody tr th {\n",
              "        vertical-align: top;\n",
              "    }\n",
              "\n",
              "    .dataframe thead th {\n",
              "        text-align: right;\n",
              "    }\n",
              "</style>\n",
              "<table border=\"1\" class=\"dataframe\">\n",
              "  <thead>\n",
              "    <tr style=\"text-align: right;\">\n",
              "      <th></th>\n",
              "      <th>Accuracy_score</th>\n",
              "      <th>Recall_score</th>\n",
              "      <th>Precision</th>\n",
              "      <th>f1_score</th>\n",
              "      <th>Area_under_curve</th>\n",
              "    </tr>\n",
              "    <tr>\n",
              "      <th>nom</th>\n",
              "      <th></th>\n",
              "      <th></th>\n",
              "      <th></th>\n",
              "      <th></th>\n",
              "      <th></th>\n",
              "    </tr>\n",
              "  </thead>\n",
              "  <tbody>\n",
              "    <tr>\n",
              "      <th>GaussianNB</th>\n",
              "      <td>0.483</td>\n",
              "      <td>0.262</td>\n",
              "      <td>0.469534</td>\n",
              "      <td>0.336329</td>\n",
              "      <td>0.483</td>\n",
              "    </tr>\n",
              "    <tr>\n",
              "      <th>RFC</th>\n",
              "      <td>0.516</td>\n",
              "      <td>0.456</td>\n",
              "      <td>0.518182</td>\n",
              "      <td>0.485106</td>\n",
              "      <td>0.516</td>\n",
              "    </tr>\n",
              "    <tr>\n",
              "      <th>DTC</th>\n",
              "      <td>0.483</td>\n",
              "      <td>0.490</td>\n",
              "      <td>0.483235</td>\n",
              "      <td>0.486594</td>\n",
              "      <td>0.483</td>\n",
              "    </tr>\n",
              "    <tr>\n",
              "      <th>XGBOOST</th>\n",
              "      <td>0.501</td>\n",
              "      <td>0.488</td>\n",
              "      <td>0.501027</td>\n",
              "      <td>0.494428</td>\n",
              "      <td>0.501</td>\n",
              "    </tr>\n",
              "    <tr>\n",
              "      <th>RegLog</th>\n",
              "      <td>0.486</td>\n",
              "      <td>0.516</td>\n",
              "      <td>0.486792</td>\n",
              "      <td>0.500971</td>\n",
              "      <td>0.486</td>\n",
              "    </tr>\n",
              "    <tr>\n",
              "      <th>SVC_rbf</th>\n",
              "      <td>0.482</td>\n",
              "      <td>0.662</td>\n",
              "      <td>0.486765</td>\n",
              "      <td>0.561017</td>\n",
              "      <td>0.482</td>\n",
              "    </tr>\n",
              "  </tbody>\n",
              "</table>\n",
              "</div>"
            ],
            "text/plain": [
              "            Accuracy_score  Recall_score  Precision  f1_score  Area_under_curve\n",
              "nom                                                                            \n",
              "GaussianNB           0.483         0.262   0.469534  0.336329             0.483\n",
              "RFC                  0.516         0.456   0.518182  0.485106             0.516\n",
              "DTC                  0.483         0.490   0.483235  0.486594             0.483\n",
              "XGBOOST              0.501         0.488   0.501027  0.494428             0.501\n",
              "RegLog               0.486         0.516   0.486792  0.500971             0.486\n",
              "SVC_rbf              0.482         0.662   0.486765  0.561017             0.482"
            ]
          },
          "metadata": {
            "tags": []
          },
          "execution_count": 52
        }
      ]
    },
    {
      "cell_type": "code",
      "metadata": {
        "id": "tLOBZzBqEgXi",
        "colab_type": "code",
        "colab": {}
      },
      "source": [
        "model_dmm = Doc2Vec(dm=1, dm_mean=1, vector_size=300, window=10, negative=5, min_count=1, workers=2, alpha=0.065, min_alpha=0.065)\n",
        "model_dmm.build_vocab([x for x in tqdm(train_tagged.values)])\n",
        "for epoch in range(30):\n",
        "    model_dmm.train(utils.shuffle([x for x in tqdm(train_tagged.values)]), total_examples=len(train_tagged.values), epochs=1)\n",
        "    model_dmm.alpha -= 0.002\n",
        "    model_dmm.min_alpha = model_dmm.alpha"
      ],
      "execution_count": 0,
      "outputs": []
    },
    {
      "cell_type": "code",
      "metadata": {
        "id": "FpSBsyg9Egkn",
        "colab_type": "code",
        "colab": {}
      },
      "source": [
        "y_train_dmm, X_train_dmm = vec_for_learning(model_dmm, train_tagged)\n",
        "y_test_dmm, X_test_dmm = vec_for_learning(model_dmm, test_tagged)\n",
        "y_train_dmm = pd.DataFrame(y_train_dmm,columns=['sexe']).sexe.apply(lambda x: 1 if x == 2 else 0)\n",
        "y_test_dmm = pd.DataFrame(y_test_dmm,columns=['sexe']).sexe.apply(lambda x: 1 if x == 2 else 0)\n",
        "\n",
        "X_train_dmm =  pd.DataFrame(X_train_dmm)\n",
        "X_test_dmm =  pd.DataFrame(X_test_dmm)"
      ],
      "execution_count": 0,
      "outputs": []
    },
    {
      "cell_type": "code",
      "metadata": {
        "id": "LoZFTTpbEsGm",
        "colab_type": "code",
        "outputId": "7607d71c-0d89-46e2-aad2-1780827357b2",
        "colab": {
          "base_uri": "https://localhost:8080/",
          "height": 266
        }
      },
      "source": [
        "modeldf = pd.DataFrame(columns = [ 'Accuracy_score', 'Recall_score', 'Precision', 'f1_score',\n",
        "       'Area_under_curve'])\n",
        "for model in models:\n",
        "    modeldf = pd.concat([modeldf,model_report(model,X_train_dmm,X_test_dmm,y_train_dmm,y_test_dmm)])\n",
        "modeldf['nom']=['GaussianNB','RFC','DTC','XGBOOST','RegLog','SVC_rbf']\n",
        "modeldf.set_index(['nom'])"
      ],
      "execution_count": 0,
      "outputs": [
        {
          "output_type": "execute_result",
          "data": {
            "text/html": [
              "<div>\n",
              "<style scoped>\n",
              "    .dataframe tbody tr th:only-of-type {\n",
              "        vertical-align: middle;\n",
              "    }\n",
              "\n",
              "    .dataframe tbody tr th {\n",
              "        vertical-align: top;\n",
              "    }\n",
              "\n",
              "    .dataframe thead th {\n",
              "        text-align: right;\n",
              "    }\n",
              "</style>\n",
              "<table border=\"1\" class=\"dataframe\">\n",
              "  <thead>\n",
              "    <tr style=\"text-align: right;\">\n",
              "      <th></th>\n",
              "      <th>Accuracy_score</th>\n",
              "      <th>Recall_score</th>\n",
              "      <th>Precision</th>\n",
              "      <th>f1_score</th>\n",
              "      <th>Area_under_curve</th>\n",
              "    </tr>\n",
              "    <tr>\n",
              "      <th>nom</th>\n",
              "      <th></th>\n",
              "      <th></th>\n",
              "      <th></th>\n",
              "      <th></th>\n",
              "      <th></th>\n",
              "    </tr>\n",
              "  </thead>\n",
              "  <tbody>\n",
              "    <tr>\n",
              "      <th>GaussianNB</th>\n",
              "      <td>0.600</td>\n",
              "      <td>0.502</td>\n",
              "      <td>0.624378</td>\n",
              "      <td>0.556541</td>\n",
              "      <td>0.600</td>\n",
              "    </tr>\n",
              "    <tr>\n",
              "      <th>RFC</th>\n",
              "      <td>0.655</td>\n",
              "      <td>0.620</td>\n",
              "      <td>0.666667</td>\n",
              "      <td>0.642487</td>\n",
              "      <td>0.655</td>\n",
              "    </tr>\n",
              "    <tr>\n",
              "      <th>DTC</th>\n",
              "      <td>0.561</td>\n",
              "      <td>0.572</td>\n",
              "      <td>0.559687</td>\n",
              "      <td>0.565776</td>\n",
              "      <td>0.561</td>\n",
              "    </tr>\n",
              "    <tr>\n",
              "      <th>XGBOOST</th>\n",
              "      <td>0.645</td>\n",
              "      <td>0.612</td>\n",
              "      <td>0.655246</td>\n",
              "      <td>0.632885</td>\n",
              "      <td>0.645</td>\n",
              "    </tr>\n",
              "    <tr>\n",
              "      <th>RegLog</th>\n",
              "      <td>0.644</td>\n",
              "      <td>0.604</td>\n",
              "      <td>0.656522</td>\n",
              "      <td>0.629167</td>\n",
              "      <td>0.644</td>\n",
              "    </tr>\n",
              "    <tr>\n",
              "      <th>SVC_rbf</th>\n",
              "      <td>0.668</td>\n",
              "      <td>0.616</td>\n",
              "      <td>0.687500</td>\n",
              "      <td>0.649789</td>\n",
              "      <td>0.668</td>\n",
              "    </tr>\n",
              "  </tbody>\n",
              "</table>\n",
              "</div>"
            ],
            "text/plain": [
              "            Accuracy_score  Recall_score  Precision  f1_score  Area_under_curve\n",
              "nom                                                                            \n",
              "GaussianNB           0.600         0.502   0.624378  0.556541             0.600\n",
              "RFC                  0.655         0.620   0.666667  0.642487             0.655\n",
              "DTC                  0.561         0.572   0.559687  0.565776             0.561\n",
              "XGBOOST              0.645         0.612   0.655246  0.632885             0.645\n",
              "RegLog               0.644         0.604   0.656522  0.629167             0.644\n",
              "SVC_rbf              0.668         0.616   0.687500  0.649789             0.668"
            ]
          },
          "metadata": {
            "tags": []
          },
          "execution_count": 55
        }
      ]
    },
    {
      "cell_type": "markdown",
      "metadata": {
        "id": "cIAdzJb1ndcH",
        "colab_type": "text"
      },
      "source": [
        "The best embedding method is once again the TF-IDF with now a SVC. We got a improvment of 0.03 points in our f1 score."
      ]
    },
    {
      "cell_type": "markdown",
      "metadata": {
        "id": "qnJT1-veOxbK",
        "colab_type": "text"
      },
      "source": [
        "#### Embeddings + features"
      ]
    },
    {
      "cell_type": "code",
      "metadata": {
        "id": "LxkCBHnZI5yf",
        "colab_type": "code",
        "outputId": "a589390f-d454-437f-8124-f81223ac0fb0",
        "colab": {
          "base_uri": "https://localhost:8080/",
          "height": 71
        }
      },
      "source": [
        "tfidfconverter = TfidfVectorizer(max_features=1500, min_df=5, max_df=0.7, stop_words=fr_stop)\n",
        "X = tfidfconverter.fit_transform(df_eq['Texte']).toarray()\n",
        "X_train_idf,X_test_idf,y_train_idf,y_test_idf = train_test_split(X,y,random_state = 42 ,test_size =0.2)"
      ],
      "execution_count": 0,
      "outputs": [
        {
          "output_type": "stream",
          "text": [
            "/usr/local/lib/python3.6/dist-packages/sklearn/feature_extraction/text.py:385: UserWarning: Your stop_words may be inconsistent with your preprocessing. Tokenizing the stop words generated tokens ['qu', 'quelqu'] not in stop_words.\n",
            "  'stop_words.' % sorted(inconsistent))\n"
          ],
          "name": "stderr"
        }
      ]
    },
    {
      "cell_type": "code",
      "metadata": {
        "id": "rHev7_x8IXi8",
        "colab_type": "code",
        "colab": {}
      },
      "source": [
        "X_train_idf,X_test_idf = pd.DataFrame(X_train_idf),pd.DataFrame(X_test_idf)\n",
        "X = df_eq[['NbToken', 'NbSyllables', 'NbMot', 'NbPhrases','NbCleanToken', 'NbPonct', 'NbSw','Hapaxlegomena', 'Hapaxdislegomena', 'UniqueWordTx', 'RateCleanRaw',\n",
        "       'NbNom', 'NbDet', 'NbPunct', 'NbAdj', 'NbAdp', 'NbPron', 'NbVerb','NbCconj', 'NbNum', 'NbPropn', 'NbAdv', 'NbSCONJ', 'NbAUX', 'NbIntj','PronJe', 'PronNous', 'NbPres', 'NbPast', 'NbFut', 'NbImp', 'NbQuest',\n",
        "       'NbExcl', 'NbArt', 'F_mesure', 'NbNom_prec', 'NbDet_prec', 'NbAdj_prec','NbPron_prec', 'NbVerb_perc', 'NbAUX_perc', 'PronJe_perc','PronNous_perc', 'NbQuest_perc', 'NbExcl_perc',\n",
        "       'PolPos', 'PolNeg', 'PolUnk', 'FreqJoie', 'FreqPeur', 'FreqSad','FreqColere', 'FreqSurprise', 'FreqDegout']]\n",
        "X_train,X_test=train_test_split(X,random_state=42,test_size=0.2)"
      ],
      "execution_count": 0,
      "outputs": []
    },
    {
      "cell_type": "code",
      "metadata": {
        "id": "i7QgyeO4IXwo",
        "colab_type": "code",
        "colab": {}
      },
      "source": [
        "idx = X_train.index\n",
        "X_train_idf = X_train_idf.set_index(idx)\n",
        "X_train_combine = pd.concat([X_train_idf, X_train], axis=1)\n",
        "idx=  X_test.index\n",
        "X_test_idf = X_test_idf.set_index(idx)\n",
        "X_test_combine = pd.concat([X_test_idf, X_test], axis=1)"
      ],
      "execution_count": 0,
      "outputs": []
    },
    {
      "cell_type": "code",
      "metadata": {
        "id": "OjRa5adMIXsd",
        "colab_type": "code",
        "outputId": "92c06e7b-e338-4163-a561-e4302cc8fa13",
        "colab": {
          "base_uri": "https://localhost:8080/",
          "height": 422
        }
      },
      "source": [
        "modeldf = pd.DataFrame(columns = [ 'Accuracy_score', 'Recall_score', 'Precision', 'f1_score',\n",
        "       'Area_under_curve'])\n",
        "for model in models:\n",
        "    modeldf = pd.concat([modeldf,model_report(model,X_train_combine,X_test_combine,y_train,y_test)])\n",
        "modeldf['nom']=['GaussianNB','RFC','DTC','XGBOOST','RegLog','SVC_rbf']\n",
        "modeldf.set_index(['nom'])"
      ],
      "execution_count": 0,
      "outputs": [
        {
          "output_type": "stream",
          "text": [
            "/usr/local/lib/python3.6/dist-packages/sklearn/linear_model/_logistic.py:940: ConvergenceWarning: lbfgs failed to converge (status=1):\n",
            "STOP: TOTAL NO. of ITERATIONS REACHED LIMIT.\n",
            "\n",
            "Increase the number of iterations (max_iter) or scale the data as shown in:\n",
            "    https://scikit-learn.org/stable/modules/preprocessing.html\n",
            "Please also refer to the documentation for alternative solver options:\n",
            "    https://scikit-learn.org/stable/modules/linear_model.html#logistic-regression\n",
            "  extra_warning_msg=_LOGISTIC_SOLVER_CONVERGENCE_MSG)\n"
          ],
          "name": "stderr"
        },
        {
          "output_type": "execute_result",
          "data": {
            "text/html": [
              "<div>\n",
              "<style scoped>\n",
              "    .dataframe tbody tr th:only-of-type {\n",
              "        vertical-align: middle;\n",
              "    }\n",
              "\n",
              "    .dataframe tbody tr th {\n",
              "        vertical-align: top;\n",
              "    }\n",
              "\n",
              "    .dataframe thead th {\n",
              "        text-align: right;\n",
              "    }\n",
              "</style>\n",
              "<table border=\"1\" class=\"dataframe\">\n",
              "  <thead>\n",
              "    <tr style=\"text-align: right;\">\n",
              "      <th></th>\n",
              "      <th>Accuracy_score</th>\n",
              "      <th>Recall_score</th>\n",
              "      <th>Precision</th>\n",
              "      <th>f1_score</th>\n",
              "      <th>Area_under_curve</th>\n",
              "    </tr>\n",
              "    <tr>\n",
              "      <th>nom</th>\n",
              "      <th></th>\n",
              "      <th></th>\n",
              "      <th></th>\n",
              "      <th></th>\n",
              "      <th></th>\n",
              "    </tr>\n",
              "  </thead>\n",
              "  <tbody>\n",
              "    <tr>\n",
              "      <th>GaussianNB</th>\n",
              "      <td>0.560</td>\n",
              "      <td>0.900</td>\n",
              "      <td>0.535714</td>\n",
              "      <td>0.671642</td>\n",
              "      <td>0.560</td>\n",
              "    </tr>\n",
              "    <tr>\n",
              "      <th>RFC</th>\n",
              "      <td>0.771</td>\n",
              "      <td>0.758</td>\n",
              "      <td>0.778234</td>\n",
              "      <td>0.767984</td>\n",
              "      <td>0.771</td>\n",
              "    </tr>\n",
              "    <tr>\n",
              "      <th>DTC</th>\n",
              "      <td>0.681</td>\n",
              "      <td>0.704</td>\n",
              "      <td>0.673040</td>\n",
              "      <td>0.688172</td>\n",
              "      <td>0.681</td>\n",
              "    </tr>\n",
              "    <tr>\n",
              "      <th>XGBOOST</th>\n",
              "      <td>0.764</td>\n",
              "      <td>0.790</td>\n",
              "      <td>0.750951</td>\n",
              "      <td>0.769981</td>\n",
              "      <td>0.764</td>\n",
              "    </tr>\n",
              "    <tr>\n",
              "      <th>RegLog</th>\n",
              "      <td>0.639</td>\n",
              "      <td>0.670</td>\n",
              "      <td>0.630885</td>\n",
              "      <td>0.649855</td>\n",
              "      <td>0.639</td>\n",
              "    </tr>\n",
              "    <tr>\n",
              "      <th>SVC_rbf</th>\n",
              "      <td>0.563</td>\n",
              "      <td>0.696</td>\n",
              "      <td>0.549763</td>\n",
              "      <td>0.614298</td>\n",
              "      <td>0.563</td>\n",
              "    </tr>\n",
              "  </tbody>\n",
              "</table>\n",
              "</div>"
            ],
            "text/plain": [
              "            Accuracy_score  Recall_score  Precision  f1_score  Area_under_curve\n",
              "nom                                                                            \n",
              "GaussianNB           0.560         0.900   0.535714  0.671642             0.560\n",
              "RFC                  0.771         0.758   0.778234  0.767984             0.771\n",
              "DTC                  0.681         0.704   0.673040  0.688172             0.681\n",
              "XGBOOST              0.764         0.790   0.750951  0.769981             0.764\n",
              "RegLog               0.639         0.670   0.630885  0.649855             0.639\n",
              "SVC_rbf              0.563         0.696   0.549763  0.614298             0.563"
            ]
          },
          "metadata": {
            "tags": []
          },
          "execution_count": 59
        }
      ]
    },
    {
      "cell_type": "code",
      "metadata": {
        "id": "ohPB8zF6IXqM",
        "colab_type": "code",
        "outputId": "d5b1d6eb-23b3-4898-f82e-2bf7aebd6e60",
        "colab": {
          "base_uri": "https://localhost:8080/",
          "height": 617
        }
      },
      "source": [
        "predictions(XGBClassifier(random_state = 42),X_train_combine,X_test_combine,y_train,y_test)"
      ],
      "execution_count": 0,
      "outputs": [
        {
          "output_type": "stream",
          "text": [
            "XGBClassifier(base_score=0.5, booster='gbtree', colsample_bylevel=1,\n",
            "              colsample_bynode=1, colsample_bytree=1, gamma=0,\n",
            "              learning_rate=0.1, max_delta_step=0, max_depth=3,\n",
            "              min_child_weight=1, missing=None, n_estimators=100, n_jobs=1,\n",
            "              nthread=None, objective='binary:logistic', random_state=42,\n",
            "              reg_alpha=0, reg_lambda=1, scale_pos_weight=1, seed=None,\n",
            "              silent=None, subsample=1, verbosity=1)\n",
            "Classification report :               precision    recall  f1-score   support\n",
            "\n",
            "           0       0.78      0.74      0.76       500\n",
            "           1       0.75      0.79      0.77       500\n",
            "\n",
            "    accuracy                           0.76      1000\n",
            "   macro avg       0.76      0.76      0.76      1000\n",
            "weighted avg       0.76      0.76      0.76      1000\n",
            "\n",
            "Accuracy :  0.764\n",
            "AUC :  0.764\n"
          ],
          "name": "stdout"
        },
        {
          "output_type": "display_data",
          "data": {
            "image/png": "[encoded data removed]",
            "text/plain": [
              "<Figure size 864x720 with 3 Axes>"
            ]
          },
          "metadata": {
            "tags": []
          }
        }
      ]
    },
    {
      "cell_type": "markdown",
      "metadata": {
        "id": "pyW7PGgJEWSm",
        "colab_type": "text"
      },
      "source": [
        "#### Conclusion on the balanced dataset\n",
        "\n",
        "We obtain the best results when using our homemade features and a non-optimised  classical TF-IDF. We obtain a f1_score of 0.77. We increased our results by 0.2 compared to the best classifier for the unbalanced dataset. \n",
        "\n",
        "We will now tune the TF IDF."
      ]
    },
    {
      "cell_type": "markdown",
      "metadata": {
        "id": "6u-xE5Aqbtrc",
        "colab_type": "text"
      },
      "source": [
        "\n",
        "### Tunning the best classifier\n",
        "\n",
        "Our best classifier seems to be a XGBOOST with featured variables plus a TF-IDF.\n",
        "\n",
        "We will make a classical GridSearch CV tune our TF-IDF and then run the XGBOOST on this optimal TF-IDF"
      ]
    },
    {
      "cell_type": "markdown",
      "metadata": {
        "id": "G0P0r2adEe0C",
        "colab_type": "text"
      },
      "source": [
        "#### GridSearchCV\n",
        "\n",
        "First, we tune our TF-IDF"
      ]
    },
    {
      "cell_type": "code",
      "metadata": {
        "id": "JnoSdmqF2zc1",
        "colab_type": "code",
        "colab": {}
      },
      "source": [
        "from sklearn.pipeline import Pipeline\n",
        "from sklearn.model_selection import GridSearchCV"
      ],
      "execution_count": 0,
      "outputs": []
    },
    {
      "cell_type": "code",
      "metadata": {
        "id": "zPKDXoEucM7f",
        "colab_type": "code",
        "colab": {}
      },
      "source": [
        "X = df_eq['Texte']\n",
        "X_train,X_test,y_train,y_test = train_test_split(X,y,random_state = 42 ,test_size =0.2)\n",
        "xgb_pipe = Pipeline([\n",
        " ('tvec', TfidfVectorizer()),\n",
        " ('xgb', XGBClassifier(random_state = 42))\n",
        "])\n",
        "xgb_pipe.fit(X_train, y_train)\n",
        "tf_params = {\n",
        " \"tvec__max_features\":[100, 500,1000,1500,2000,2500,3000,3500,4000,5000],\n",
        " \"tvec__ngram_range\": [(1, 1), (1, 2), (2, 2),(3,3),(4,4)],\n",
        " \"tvec__stop_words\": [fr_stop],\n",
        " \"tvec__max_df\":[0.7],\n",
        " \"tvec__min_df\":[0.2,0.3,0.1],\n",
        " \"tvec__norm\":['l2']}\n",
        "xgb_gs = GridSearchCV(xgb_pipe, param_grid=tf_params, cv = 5, verbose = 1, n_jobs = 1)\n",
        "xgb_gs.fit(X_train, y_train)"
      ],
      "execution_count": 0,
      "outputs": []
    },
    {
      "cell_type": "code",
      "metadata": {
        "id": "SueSMbWBdriT",
        "colab_type": "code",
        "colab": {}
      },
      "source": [
        "xgb_gs.best_params_"
      ],
      "execution_count": 0,
      "outputs": []
    },
    {
      "cell_type": "markdown",
      "metadata": {
        "id": "gNKkYZ1-3-_I",
        "colab_type": "text"
      },
      "source": [
        "After a lot of computation time, we finally come with an optimal TF-IDF with 1000 features and a range (1,2). We are now launching our classifier to observe the best results.\n",
        "#### Results of the tuned classifier"
      ]
    },
    {
      "cell_type": "code",
      "metadata": {
        "id": "7LaoYFs_knAU",
        "colab_type": "code",
        "outputId": "ee8ca51d-4762-460d-d39e-b7b99a61d7a0",
        "colab": {
          "base_uri": "https://localhost:8080/",
          "height": 71
        }
      },
      "source": [
        "tfidfconverter = TfidfVectorizer(max_features=1000, min_df=0.1, max_df=0.7, stop_words=fr_stop,ngram_range= (1, 2))\n",
        "X = tfidfconverter.fit_transform(df_eq['Texte']).toarray()\n",
        "X_train_idf,X_test_idf,y_train_idf,y_test_idf = train_test_split(X,y,random_state = 42 ,test_size =0.2)"
      ],
      "execution_count": 0,
      "outputs": [
        {
          "output_type": "stream",
          "text": [
            "/usr/local/lib/python3.6/dist-packages/sklearn/feature_extraction/text.py:385: UserWarning: Your stop_words may be inconsistent with your preprocessing. Tokenizing the stop words generated tokens ['qu', 'quelqu'] not in stop_words.\n",
            "  'stop_words.' % sorted(inconsistent))\n"
          ],
          "name": "stderr"
        }
      ]
    },
    {
      "cell_type": "code",
      "metadata": {
        "id": "gWZ8nmW5k9VV",
        "colab_type": "code",
        "colab": {}
      },
      "source": [
        "X_train_idf,X_test_idf = pd.DataFrame(X_train_idf),pd.DataFrame(X_test_idf)\n",
        "X = df_eq[['UniqueWordTx', 'RateCleanRaw',\n",
        "        'NbPunct', 'NbAdp','NbCconj', 'NbNum', 'NbPropn', 'NbAdv', 'NbSCONJ', 'NbIntj', 'NbPres', 'NbPast', 'NbFut', 'NbImp',\n",
        "        'NbArt', 'F_mesure', 'NbNom_prec', 'NbDet_prec', 'NbAdj_prec','NbPron_prec', 'NbVerb_perc', 'NbAUX_perc', 'PronJe_perc','PronNous_perc', 'NbQuest_perc', 'NbExcl_perc',\n",
        "       'PolPos', 'PolNeg', 'PolUnk', 'FreqJoie', 'FreqPeur', 'FreqSad','FreqColere', 'FreqSurprise', 'FreqDegout']]\n",
        "X_train,X_test=train_test_split(X,random_state=42,test_size=0.2)\n",
        "idx = X_train.index\n",
        "X_train_idf = X_train_idf.set_index(idx)\n",
        "X_train_combine = pd.concat([X_train_idf, X_train], axis=1)\n",
        "idx=  X_test.index\n",
        "X_test_idf = X_test_idf.set_index(idx)\n",
        "X_test_combine = pd.concat([X_test_idf, X_test], axis=1)"
      ],
      "execution_count": 0,
      "outputs": []
    },
    {
      "cell_type": "code",
      "metadata": {
        "id": "G8xuYUlllEwe",
        "colab_type": "code",
        "outputId": "a06cebc1-9611-43af-d647-7a3f337cfaab",
        "colab": {
          "base_uri": "https://localhost:8080/",
          "height": 617
        }
      },
      "source": [
        "predictions(XGBClassifier(random_state = 42),X_train_combine,X_test_combine,y_train,y_test)"
      ],
      "execution_count": 0,
      "outputs": [
        {
          "output_type": "stream",
          "text": [
            "XGBClassifier(base_score=0.5, booster='gbtree', colsample_bylevel=1,\n",
            "              colsample_bynode=1, colsample_bytree=1, gamma=0,\n",
            "              learning_rate=0.1, max_delta_step=0, max_depth=3,\n",
            "              min_child_weight=1, missing=None, n_estimators=100, n_jobs=1,\n",
            "              nthread=None, objective='binary:logistic', random_state=42,\n",
            "              reg_alpha=0, reg_lambda=1, scale_pos_weight=1, seed=None,\n",
            "              silent=None, subsample=1, verbosity=1)\n",
            "Classification report :               precision    recall  f1-score   support\n",
            "\n",
            "           0       0.79      0.75      0.77       500\n",
            "           1       0.76      0.80      0.78       500\n",
            "\n",
            "    accuracy                           0.78      1000\n",
            "   macro avg       0.78      0.78      0.78      1000\n",
            "weighted avg       0.78      0.78      0.78      1000\n",
            "\n",
            "Accuracy :  0.776\n",
            "AUC :  0.776\n"
          ],
          "name": "stdout"
        },
        {
          "output_type": "display_data",
          "data": {
            "image/png": "[encoded data removed]",
            "text/plain": [
              "<Figure size 864x720 with 3 Axes>"
            ]
          },
          "metadata": {
            "tags": []
          }
        }
      ]
    },
    {
      "cell_type": "markdown",
      "metadata": {
        "id": "hU3Jhi2ulkR9",
        "colab_type": "text"
      },
      "source": [
        "Finaly we obtain a model with an AUC of 0.776 which results in a pretty good ROC curve. Plus, we obtain now an accuracy of 77.6% which is beyond our first assumption which was a rate between 60% and 70%. \n",
        "Concerning our f1 score we are getting a final score of 0.78 which is closer than ever to 1.\n",
        "\n",
        "Compare to our non tuned TF-IDF model we obtain a gain of 1% of accuracy. The model has just improved a bit in the classification of both class.\n",
        "\n",
        "There is still 20% of our test set which is not correctly classified. After looking at feature importance we will try to understand briefly why they are incorrectly classified."
      ]
    },
    {
      "cell_type": "markdown",
      "metadata": {
        "id": "HG87ssCHGThK",
        "colab_type": "text"
      },
      "source": [
        "#### Going deeper in results"
      ]
    },
    {
      "cell_type": "markdown",
      "metadata": {
        "id": "m_BD0RRMq8cI",
        "colab_type": "text"
      },
      "source": [
        "Let's make a quick qualitative analysis and try to understand what we can extract from these results. \n",
        "First, we are trying to extract the most important score on the TF-IDF for each gender. "
      ]
    },
    {
      "cell_type": "code",
      "metadata": {
        "id": "22_-ap4uVkBL",
        "colab_type": "code",
        "outputId": "38abef43-d408-4df7-b603-fbc9b3f14d6f",
        "colab": {
          "base_uri": "https://localhost:8080/",
          "height": 653
        }
      },
      "source": [
        "features=tfidfconverter.get_feature_names()\n",
        "plot_tfidf_classfeats_h(top_feats_by_class(X_train_idf, y_train_idf, features, min_tfidf=0.1, top_n=50))"
      ],
      "execution_count": 0,
      "outputs": [
        {
          "output_type": "display_data",
          "data": {
            "image/png": "[encoded data removed]",
            "text/plain": [
              "<Figure size 864x648 with 2 Axes>"
            ]
          },
          "metadata": {
            "tags": []
          }
        }
      ]
    },
    {
      "cell_type": "markdown",
      "metadata": {
        "id": "oKukyuzqrS2i",
        "colab_type": "text"
      },
      "source": [
        "We observe that some words do not have the same importance. For instance, women display a high mean TF-IDF score for 'santé' when 'europe' is the highiest for men(5th in the women list). Moreover, we observe that some thematics are dividing gender. Men most important mean TF-IDF scores concern Europe, republic, economics or defence. While women most important mean TF-IDF scores are society, people, justice and familly.\n",
        "\n",
        "This is certainly correlated with women positions at the government."
      ]
    },
    {
      "cell_type": "code",
      "metadata": {
        "id": "Y8i-7YvVETMC",
        "colab_type": "code",
        "outputId": "fafa7ea3-f679-434c-e2e3-654e4c471497",
        "colab": {
          "base_uri": "https://localhost:8080/",
          "height": 136
        }
      },
      "source": [
        "model = XGBClassifier(random_state = 42)\n",
        "X_train_combine.columns=features+list(X.columns)\n",
        "model.fit(X_train_combine,y_train_idf)"
      ],
      "execution_count": 0,
      "outputs": [
        {
          "output_type": "execute_result",
          "data": {
            "text/plain": [
              "XGBClassifier(base_score=0.5, booster='gbtree', colsample_bylevel=1,\n",
              "              colsample_bynode=1, colsample_bytree=1, gamma=0,\n",
              "              learning_rate=0.1, max_delta_step=0, max_depth=3,\n",
              "              min_child_weight=1, missing=None, n_estimators=100, n_jobs=1,\n",
              "              nthread=None, objective='binary:logistic', random_state=42,\n",
              "              reg_alpha=0, reg_lambda=1, scale_pos_weight=1, seed=None,\n",
              "              silent=None, subsample=1, verbosity=1)"
            ]
          },
          "metadata": {
            "tags": []
          },
          "execution_count": 78
        }
      ]
    },
    {
      "cell_type": "markdown",
      "metadata": {
        "id": "zs6N2vRauSvu",
        "colab_type": "text"
      },
      "source": [
        "We want now to see if our homemade features have an importance in the model. "
      ]
    },
    {
      "cell_type": "code",
      "metadata": {
        "id": "DVw_er8zZznU",
        "colab_type": "code",
        "colab": {}
      },
      "source": [
        "df_imp = pd.DataFrame(model.feature_importances_[1000:],columns=['Imp']).set_index(X.columns)\n",
        "df_imp.sort_values('Imp',ascending=False,inplace=True)"
      ],
      "execution_count": 0,
      "outputs": []
    },
    {
      "cell_type": "code",
      "metadata": {
        "id": "6QiNNWvIZksf",
        "colab_type": "code",
        "outputId": "a9c61e17-3c00-4711-f506-8ce0955d37a8",
        "colab": {
          "base_uri": "https://localhost:8080/",
          "height": 623
        }
      },
      "source": [
        "plt.figure(figsize=(10,10))\n",
        "sns.barplot(x = df_imp.Imp,y = df_imp.index)"
      ],
      "execution_count": 0,
      "outputs": [
        {
          "output_type": "execute_result",
          "data": {
            "text/plain": [
              "<matplotlib.axes._subplots.AxesSubplot at 0x7f80ba026b70>"
            ]
          },
          "metadata": {
            "tags": []
          },
          "execution_count": 94
        },
        {
          "output_type": "display_data",
          "data": {
            "image/png": "[encoded data removed]",
            "text/plain": [
              "<Figure size 720x720 with 1 Axes>"
            ]
          },
          "metadata": {
            "tags": []
          }
        }
      ]
    },
    {
      "cell_type": "markdown",
      "metadata": {
        "id": "PgVmE3KnuZk_",
        "colab_type": "text"
      },
      "source": [
        "We can observe that some of the variables are clearly pennalized by the XGBOOST l2 penalty. For example, variables such as the number of articles or the number of questions marks are clearly not helping to dicriminize gender. On the other hand, the number of pronoum or the positive polarity of the text is helping to classify gender. We retrieve a result that has been observed in previous studies."
      ]
    },
    {
      "cell_type": "code",
      "metadata": {
        "id": "PcHYsZNxWoXM",
        "colab_type": "code",
        "colab": {}
      },
      "source": [
        "from xgboost import plot_importance"
      ],
      "execution_count": 0,
      "outputs": []
    },
    {
      "cell_type": "code",
      "metadata": {
        "id": "8kgbePKuPNs-",
        "colab_type": "code",
        "outputId": "9281c471-d2d5-4cf1-f3e3-c65cc4721c17",
        "colab": {
          "base_uri": "https://localhost:8080/",
          "height": 638
        }
      },
      "source": [
        "plt.figure(figsize=(10,10))\n",
        "ax = plot_importance(model,max_num_features=50)\n",
        "fig = ax.figure\n",
        "fig.set_size_inches(10, 10)"
      ],
      "execution_count": 0,
      "outputs": [
        {
          "output_type": "display_data",
          "data": {
            "text/plain": [
              "<Figure size 720x720 with 0 Axes>"
            ]
          },
          "metadata": {
            "tags": []
          }
        },
        {
          "output_type": "display_data",
          "data": {
            "image/png": "[encoded data removed]",
            "text/plain": [
              "<Figure size 720x720 with 1 Axes>"
            ]
          },
          "metadata": {
            "tags": []
          }
        }
      ]
    },
    {
      "cell_type": "markdown",
      "metadata": {
        "colab_type": "text",
        "id": "iSKvGk7LAeP6"
      },
      "source": [
        "This time, we are observing the top 50 of our feature importance. Here we can see that some words have a big score. For example, the two most important feature are 'heureux' and 'heureuse'. "
      ]
    },
    {
      "cell_type": "code",
      "metadata": {
        "id": "r_GQikt2QFF_",
        "colab_type": "code",
        "colab": {}
      },
      "source": [
        ""
      ],
      "execution_count": 0,
      "outputs": []
    },
    {
      "cell_type": "markdown",
      "metadata": {
        "id": "v1rUDl4ow1rZ",
        "colab_type": "text"
      },
      "source": [
        "References "
      ]
    },
    {
      "cell_type": "markdown",
      "metadata": {
        "id": "xOSpI3yxw1rZ",
        "colab_type": "text"
      },
      "source": [
        "https://bib.irb.hr/datoteka/861053.Gender_differences_in_the_personal_pronouns_usage_of_the_corpus_of_congressional_speeches.pdf"
      ]
    },
    {
      "cell_type": "markdown",
      "metadata": {
        "id": "wt414dLUw1ra",
        "colab_type": "text"
      },
      "source": [
        "https://www.researchgate.net/publication/253291274_Gender_Differences_in_Language_Use_An_Analysis_of_14000_Text_Samples/link/571e3c1b08aeaced7889ddce/download\n",
        "https://buhrmann.github.io/tfidf-analysis.html\n",
        "https://towardsdatascience.com/multi-class-text-classification-with-doc2vec-logistic-regression-9da9947b43f4"
      ]
    }
  ]
}