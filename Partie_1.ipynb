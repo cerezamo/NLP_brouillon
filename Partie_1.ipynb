{
 "cells": [
  {
   "cell_type": "markdown",
   "metadata": {
    "colab_type": "text",
    "id": "view-in-github"
   },
   "source": [
    "<a href=\"https://colab.research.google.com/github/cerezamo/NLP_brouillon/blob/master/Partie_1.ipynb\" target=\"_parent\"><img src=\"https://colab.research.google.com/assets/colab-badge.svg\" alt=\"Open In Colab\"/></a>"
   ]
  },
  {
   "cell_type": "markdown",
   "metadata": {},
   "source": [
    "# Are female, politicians like any other ? "
   ]
  },
  {
   "cell_type": "markdown",
   "metadata": {},
   "source": [
    "## Part I : Corpus analysis"
   ]
  },
  {
   "cell_type": "markdown",
   "metadata": {},
   "source": [
    "### Downloading packages"
   ]
  },
  {
   "cell_type": "code",
   "execution_count": 1,
   "metadata": {
    "colab": {
     "base_uri": "https://localhost:8080/",
     "height": 632
    },
    "colab_type": "code",
    "id": "UJX0SjOhXujH",
    "outputId": "0bb2bc52-02f6-4768-cb20-0dfa9d3f3bd1"
   },
   "outputs": [
    {
     "name": "stdout",
     "output_type": "stream",
     "text": [
      "Requirement already satisfied: fr_core_news_md==2.0.0 from https://github.com/explosion/spacy-models/releases/download/fr_core_news_md-2.0.0/fr_core_news_md-2.0.0.tar.gz#egg=fr_core_news_md==2.0.0 in c:\\users\\morga\\anaconda3\\lib\\site-packages (2.0.0)\n",
      "\n",
      "\u001b[93m    Error: Couldn't link model to 'fr_core_news_md'\u001b[0m\n",
      "    Creating a symlink in spacy/data failed. Make sure you have the required\n",
      "    permissions and try re-running the command as admin, or use a\n",
      "    virtualenv. You can still import the model as a module and call its\n",
      "    load() method, or create the symlink manually.\n",
      "\n",
      "    C:\\Users\\morga\\Anaconda3\\lib\\site-packages\\fr_core_news_md -->\n",
      "    C:\\Users\\morga\\Anaconda3\\lib\\site-packages\\spacy\\data\\fr_core_news_md\n",
      "\n",
      "\n",
      "\u001b[93m    Creating a shortcut link for 'en' didn't work (maybe you don't have\n",
      "    admin permissions?), but you can still load the model via its full\n",
      "    package name: nlp = spacy.load('{name}')\u001b[0m\n",
      "    Download successful but linking failed\n",
      "\n"
     ]
    },
    {
     "name": "stderr",
     "output_type": "stream",
     "text": [
      "[nltk_data] Downloading package punkt to\n",
      "[nltk_data]     C:\\Users\\morga\\AppData\\Roaming\\nltk_data...\n",
      "[nltk_data]   Package punkt is already up-to-date!\n"
     ]
    },
    {
     "data": {
      "text/plain": [
       "True"
      ]
     },
     "execution_count": 1,
     "metadata": {},
     "output_type": "execute_result"
    }
   ],
   "source": [
    "!python -m spacy download fr_core_news_md\n",
    "import nltk\n",
    "nltk.download('punkt')"
   ]
  },
  {
   "cell_type": "code",
   "execution_count": 2,
   "metadata": {
    "colab": {},
    "colab_type": "code",
    "id": "DIfjgsnUXYYn"
   },
   "outputs": [],
   "source": [
    "import spacy\n",
    "from funct import *\n",
    "import matplotlib.pyplot as plt\n",
    "import numpy as np\n",
    "from functools import reduce\n",
    "from operator import add\n",
    "from spacy.lang.fr.stop_words import STOP_WORDS as fr_stop\n",
    "from spacy.tokenizer import Tokenizer\n",
    "from nltk.corpus import stopwords\n",
    "from nltk.tokenize import word_tokenize\n",
    "from nltk import RegexpTokenizer\n",
    "from os import path\n",
    "from PIL import Image\n",
    "import funct\n",
    "sent_detector = nltk.data.load('tokenizers/punkt/french.pickle')\n",
    "nlp = spacy.load('fr_core_news_md') \n",
    "import multiprocessing as mp\n",
    "from collections import Counter\n",
    "#from wordcloud import WordCloud, STOPWORDS, ImageColorGenerator"
   ]
  },
  {
   "cell_type": "code",
   "execution_count": 3,
   "metadata": {
    "colab": {},
    "colab_type": "code",
    "id": "-Bf4EAi3TCY3"
   },
   "outputs": [],
   "source": [
    "import numpy as np\n",
    "import pandas as pd\n",
    "import matplotlib.pyplot as plt\n",
    "import seaborn as sns \n",
    "sns.set_palette(\"husl\")"
   ]
  },
  {
   "cell_type": "markdown",
   "metadata": {
    "colab_type": "text",
    "id": "fds26RJOZd4W"
   },
   "source": [
    "We import our corpus in the notebook. This corpus has been scrapped from : https://www.vie-publique.fr/discours."
   ]
  },
  {
   "cell_type": "code",
   "execution_count": 4,
   "metadata": {
    "colab": {},
    "colab_type": "code",
    "id": "UGM08frcZgBr"
   },
   "outputs": [
    {
     "data": {
      "text/html": [
       "<div>\n",
       "<style scoped>\n",
       "    .dataframe tbody tr th:only-of-type {\n",
       "        vertical-align: middle;\n",
       "    }\n",
       "\n",
       "    .dataframe tbody tr th {\n",
       "        vertical-align: top;\n",
       "    }\n",
       "\n",
       "    .dataframe thead th {\n",
       "        text-align: right;\n",
       "    }\n",
       "</style>\n",
       "<table border=\"1\" class=\"dataframe\">\n",
       "  <thead>\n",
       "    <tr style=\"text-align: right;\">\n",
       "      <th></th>\n",
       "      <th>Unnamed: 0</th>\n",
       "      <th>Id</th>\n",
       "      <th>Titre</th>\n",
       "      <th>Type</th>\n",
       "      <th>Theme</th>\n",
       "      <th>Prenom</th>\n",
       "      <th>Nom</th>\n",
       "      <th>Fonction</th>\n",
       "      <th>Date</th>\n",
       "      <th>Tags</th>\n",
       "      <th>Texte</th>\n",
       "      <th>Lien</th>\n",
       "      <th>PRENOM</th>\n",
       "      <th>preusuel</th>\n",
       "      <th>sexe</th>\n",
       "    </tr>\n",
       "  </thead>\n",
       "  <tbody>\n",
       "    <tr>\n",
       "      <th>0</th>\n",
       "      <td>10504</td>\n",
       "      <td>144565</td>\n",
       "      <td>Déclaration de M. Jacques Chirac, Président de...</td>\n",
       "      <td>déclaration</td>\n",
       "      <td>International</td>\n",
       "      <td>Jacques</td>\n",
       "      <td>Chirac</td>\n",
       "      <td>NaN</td>\n",
       "      <td>1998-10-03T12:00:00Z</td>\n",
       "      <td>Défense,Politique de la défense</td>\n",
       "      <td>Messieurs,Je suis heureux de vous saluer. Quan...</td>\n",
       "      <td>https://www.vie-publique.fr/discours/144565-de...</td>\n",
       "      <td>JACQUES</td>\n",
       "      <td>JACQUES</td>\n",
       "      <td>1</td>\n",
       "    </tr>\n",
       "    <tr>\n",
       "      <th>1</th>\n",
       "      <td>3304</td>\n",
       "      <td>196091</td>\n",
       "      <td>Déclaration de M. Laurent Fabius, ministre des...</td>\n",
       "      <td>déclaration</td>\n",
       "      <td>Société</td>\n",
       "      <td>Laurent</td>\n",
       "      <td>Fabius</td>\n",
       "      <td>NaN</td>\n",
       "      <td>2015-08-26T12:00:00Z</td>\n",
       "      <td>Environnement,Climat</td>\n",
       "      <td>Tout ce que nous avons entendu au cours de cet...</td>\n",
       "      <td>https://www.vie-publique.fr/discours/196091-de...</td>\n",
       "      <td>LAURENT</td>\n",
       "      <td>LAURENT</td>\n",
       "      <td>1</td>\n",
       "    </tr>\n",
       "    <tr>\n",
       "      <th>2</th>\n",
       "      <td>8816</td>\n",
       "      <td>128510</td>\n",
       "      <td>Déclaration de M. François Hollande, premier s...</td>\n",
       "      <td>déclaration</td>\n",
       "      <td>Institutions</td>\n",
       "      <td>François</td>\n",
       "      <td>Hollande</td>\n",
       "      <td>NaN</td>\n",
       "      <td>2002-03-14T12:00:00Z</td>\n",
       "      <td>Citoyenneté - Elections,Personnalité politique</td>\n",
       "      <td>Cher(e)s Ami(e)s, Cher(e)s Camarades, C'est av...</td>\n",
       "      <td>https://www.vie-publique.fr/discours/128510-de...</td>\n",
       "      <td>FRANÇOIS</td>\n",
       "      <td>FRANÇOIS</td>\n",
       "      <td>1</td>\n",
       "    </tr>\n",
       "    <tr>\n",
       "      <th>3</th>\n",
       "      <td>19491</td>\n",
       "      <td>140697</td>\n",
       "      <td>Déclaration de M. Alain Lambert, ministre délé...</td>\n",
       "      <td>déclaration</td>\n",
       "      <td>International</td>\n",
       "      <td>Alain</td>\n",
       "      <td>Lambert</td>\n",
       "      <td>NaN</td>\n",
       "      <td>2003-06-11T12:00:00Z</td>\n",
       "      <td>Relations internationales,Frontière</td>\n",
       "      <td>Mesdames,messieurs, C'est avec grand plaisir q...</td>\n",
       "      <td>https://www.vie-publique.fr/discours/140697-de...</td>\n",
       "      <td>ALAIN</td>\n",
       "      <td>ALAIN</td>\n",
       "      <td>1</td>\n",
       "    </tr>\n",
       "    <tr>\n",
       "      <th>4</th>\n",
       "      <td>6289</td>\n",
       "      <td>195589</td>\n",
       "      <td>Déclaration de M. François Hollande, Président...</td>\n",
       "      <td>déclaration</td>\n",
       "      <td>International</td>\n",
       "      <td>François</td>\n",
       "      <td>Hollande</td>\n",
       "      <td>NaN</td>\n",
       "      <td>2015-07-03T12:00:00Z</td>\n",
       "      <td>Relations internationales,Relations bilatérale...</td>\n",
       "      <td>Mesdames, Messieurs, bonsoir - j'allais dire b...</td>\n",
       "      <td>https://www.vie-publique.fr/discours/195589-de...</td>\n",
       "      <td>FRANÇOIS</td>\n",
       "      <td>FRANÇOIS</td>\n",
       "      <td>1</td>\n",
       "    </tr>\n",
       "  </tbody>\n",
       "</table>\n",
       "</div>"
      ],
      "text/plain": [
       "   Unnamed: 0      Id                                              Titre  \\\n",
       "0       10504  144565  Déclaration de M. Jacques Chirac, Président de...   \n",
       "1        3304  196091  Déclaration de M. Laurent Fabius, ministre des...   \n",
       "2        8816  128510  Déclaration de M. François Hollande, premier s...   \n",
       "3       19491  140697  Déclaration de M. Alain Lambert, ministre délé...   \n",
       "4        6289  195589  Déclaration de M. François Hollande, Président...   \n",
       "\n",
       "          Type          Theme    Prenom       Nom Fonction  \\\n",
       "0  déclaration  International   Jacques    Chirac      NaN   \n",
       "1  déclaration        Société   Laurent    Fabius      NaN   \n",
       "2  déclaration   Institutions  François  Hollande      NaN   \n",
       "3  déclaration  International     Alain   Lambert      NaN   \n",
       "4  déclaration  International  François  Hollande      NaN   \n",
       "\n",
       "                   Date                                               Tags  \\\n",
       "0  1998-10-03T12:00:00Z                    Défense,Politique de la défense   \n",
       "1  2015-08-26T12:00:00Z                               Environnement,Climat   \n",
       "2  2002-03-14T12:00:00Z     Citoyenneté - Elections,Personnalité politique   \n",
       "3  2003-06-11T12:00:00Z                Relations internationales,Frontière   \n",
       "4  2015-07-03T12:00:00Z  Relations internationales,Relations bilatérale...   \n",
       "\n",
       "                                               Texte  \\\n",
       "0  Messieurs,Je suis heureux de vous saluer. Quan...   \n",
       "1  Tout ce que nous avons entendu au cours de cet...   \n",
       "2  Cher(e)s Ami(e)s, Cher(e)s Camarades, C'est av...   \n",
       "3  Mesdames,messieurs, C'est avec grand plaisir q...   \n",
       "4  Mesdames, Messieurs, bonsoir - j'allais dire b...   \n",
       "\n",
       "                                                Lien    PRENOM  preusuel  sexe  \n",
       "0  https://www.vie-publique.fr/discours/144565-de...   JACQUES   JACQUES     1  \n",
       "1  https://www.vie-publique.fr/discours/196091-de...   LAURENT   LAURENT     1  \n",
       "2  https://www.vie-publique.fr/discours/128510-de...  FRANÇOIS  FRANÇOIS     1  \n",
       "3  https://www.vie-publique.fr/discours/140697-de...     ALAIN     ALAIN     1  \n",
       "4  https://www.vie-publique.fr/discours/195589-de...  FRANÇOIS  FRANÇOIS     1  "
      ]
     },
     "execution_count": 4,
     "metadata": {},
     "output_type": "execute_result"
    }
   ],
   "source": [
    "df = pd.read_csv('medium_df_deseq.csv')\n",
    "df.head()"
   ]
  },
  {
   "cell_type": "markdown",
   "metadata": {},
   "source": [
    "### Some basic external statistics"
   ]
  },
  {
   "cell_type": "markdown",
   "metadata": {
    "colab_type": "text",
    "id": "lKraQH83ZqaW"
   },
   "source": [
    "We clean the encoding of the text as a first treatment. "
   ]
  },
  {
   "cell_type": "code",
   "execution_count": 5,
   "metadata": {
    "colab": {},
    "colab_type": "code",
    "id": "kwKVV3x2qXVl"
   },
   "outputs": [],
   "source": [
    "df.Texte = df.Texte.apply(lambda x : x.replace('\\xa0','').replace('\\x85','').replace('\\x96','').replace('\\x92',\"'\").replace('\\x80',''))\n",
    "df.Texte = df.Texte.apply(remove_source)"
   ]
  },
  {
   "cell_type": "code",
   "execution_count": 6,
   "metadata": {},
   "outputs": [
    {
     "name": "stdout",
     "output_type": "stream",
     "text": [
      "On average, text length is 11571\n"
     ]
    }
   ],
   "source": [
    "print('On average, text length is {}'.format(round(df.Texte.apply(len).mean())))"
   ]
  },
  {
   "cell_type": "code",
   "execution_count": 7,
   "metadata": {},
   "outputs": [
    {
     "data": {
      "image/png": "[encoded data removed]",
      "text/plain": [
       "<Figure size 432x288 with 1 Axes>"
      ]
     },
     "metadata": {
      "needs_background": "light"
     },
     "output_type": "display_data"
    }
   ],
   "source": [
    "%matplotlib inline\n",
    "df.Texte.apply(len).hist(bins=100)\n",
    "plt.show()"
   ]
  },
  {
   "cell_type": "code",
   "execution_count": 8,
   "metadata": {},
   "outputs": [],
   "source": [
    "# POru l'instant drop quand trop long \n",
    "#df_small = df[df.Texte.apply(len)<5000]"
   ]
  },
  {
   "cell_type": "code",
   "execution_count": 9,
   "metadata": {},
   "outputs": [],
   "source": [
    "#len(df_small)"
   ]
  },
  {
   "cell_type": "code",
   "execution_count": 10,
   "metadata": {},
   "outputs": [],
   "source": [
    "#df=df_small.reset_index()"
   ]
  },
  {
   "cell_type": "markdown",
   "metadata": {},
   "source": [
    "#### Speakers gender proportions"
   ]
  },
  {
   "cell_type": "code",
   "execution_count": 11,
   "metadata": {},
   "outputs": [
    {
     "name": "stdout",
     "output_type": "stream",
     "text": [
      "The corpus gathers 5000 political speeches\n",
      "There are 3750 male speakers and 1250 female speakers\n"
     ]
    }
   ],
   "source": [
    "print('The corpus gathers {} political speeches' .format(len(df)))\n",
    "print('There are {} male speakers and {} female speakers'.format(df.sexe.map(str).value_counts()[0],df.sexe.map(str).value_counts()[1]))"
   ]
  },
  {
   "cell_type": "code",
   "execution_count": 12,
   "metadata": {
    "colab": {
     "base_uri": "https://localhost:8080/",
     "height": 313
    },
    "colab_type": "code",
    "id": "VB9UnirIZz9g",
    "outputId": "a881ef1a-d175-45e6-8a53-f40e70b4a2d4"
   },
   "outputs": [
    {
     "data": {
      "image/png": "[encoded data removed]",
      "text/plain": [
       "<Figure size 432x288 with 1 Axes>"
      ]
     },
     "metadata": {},
     "output_type": "display_data"
    }
   ],
   "source": [
    "labels = ['Male','Female']\n",
    "#colors = ['#ffcc99','#ff9999']\n",
    "sizes = [ len(df[df.sexe ==1]),len(df[df.sexe ==2])]\n",
    "fig, ax1 = plt.subplots()\n",
    "plt.pie(sizes, labels=labels, autopct='%1.1f%%', startangle=90, pctdistance=0.85)\n",
    "centre_circle = plt.Circle((0,0),0.70,fc='white')\n",
    "fig = plt.gcf()\n",
    "fig.gca().add_artist(centre_circle)\n",
    "ax1.axis('equal')  \n",
    "plt.tight_layout()\n",
    "plt.title(\"Speakers gender proportions\")\n",
    "plt.show()"
   ]
  },
  {
   "cell_type": "markdown",
   "metadata": {},
   "source": [
    "Without surprise we have an unbalanced corpus with men being much more represented than women."
   ]
  },
  {
   "cell_type": "markdown",
   "metadata": {
    "colab_type": "text",
    "id": "-k0uRRqqaLFA"
   },
   "source": [
    "#### Speakers gender through time "
   ]
  },
  {
   "cell_type": "markdown",
   "metadata": {},
   "source": [
    "One of the very nice feature of our corpus is that we have access to almot all government speeches and interview from 1990. Let's see how the proportion of women and men in the corpus changed through years. "
   ]
  },
  {
   "cell_type": "code",
   "execution_count": 13,
   "metadata": {
    "colab": {
     "base_uri": "https://localhost:8080/",
     "height": 436
    },
    "colab_type": "code",
    "id": "TYfmQbryaBXg",
    "outputId": "9cb495b1-e7a9-4bea-ccb8-93506d03c80c"
   },
   "outputs": [
    {
     "data": {
      "image/png": "[encoded data removed]",
      "text/plain": [
       "<Figure size 720x432 with 1 Axes>"
      ]
     },
     "metadata": {
      "needs_background": "light"
     },
     "output_type": "display_data"
    }
   ],
   "source": [
    "df['Annee']= df.Date.map(str).apply(lambda x:x[:4])\n",
    "lst=[]\n",
    "for an in df.Annee.unique():\n",
    "    for s in df.sexe.unique():\n",
    "        if s == 1:\n",
    "            sexe= 'Male'\n",
    "        else:\n",
    "            sexe='Female'\n",
    "        lst+=[(an,len(df[(df.Annee == an) & (df.sexe == s)]),sexe)]\n",
    "data = pd.DataFrame(lst,columns=['Annee','Nb','Sexe'])\n",
    "data=data[data['Annee']>='1990']\n",
    "plt.figure(figsize=(10,6))\n",
    "sns.barplot(data = data,\n",
    "            x='Annee',\n",
    "            y='Nb',\n",
    "           hue='Sexe')\n",
    "plt.xticks(rotation = 45)\n",
    "plt.title(\"Evolution of the number of speeches and the balance between men and women speakers from 1980 to the beginning of 2020\")\n",
    "plt.show()"
   ]
  },
  {
   "cell_type": "markdown",
   "metadata": {},
   "source": [
    "We definitely see an increase in the absolute number of female speakers. However the gap is still important. \n",
    "In 2019 we see that eventually the number of male and female speakers are really close. "
   ]
  },
  {
   "cell_type": "markdown",
   "metadata": {},
   "source": [
    "####  Speaker's gender and speeches general theme"
   ]
  },
  {
   "cell_type": "code",
   "execution_count": 14,
   "metadata": {
    "colab": {
     "base_uri": "https://localhost:8080/",
     "height": 419
    },
    "colab_type": "code",
    "id": "iUlHnqHRaZEN",
    "outputId": "6f64a85e-0605-47c1-becc-b6c222823334"
   },
   "outputs": [
    {
     "data": {
      "image/png": "[encoded data removed]",
      "text/plain": [
       "<Figure size 936x936 with 2 Axes>"
      ]
     },
     "metadata": {
      "needs_background": "light"
     },
     "output_type": "display_data"
    }
   ],
   "source": [
    "df.Tags.fillna('',inplace=True)\n",
    "arr =df[df.sexe == 2].Tags.apply(lambda x: str(x).split(',')).array\n",
    "arr = reduce(add,arr)\n",
    "c = Counter(arr)\n",
    "d_f = pd.DataFrame(c, index=['occurrences']).transpose().reset_index()\n",
    "d_f.columns=['Themes', 'occurences']\n",
    "d_f.occurences = d_f.occurences.apply(lambda x:(x/d_f.occurences.sum())*100)\n",
    "d_f['sexe'] = 'Female'\n",
    "arr =df[df.sexe == 1].Tags.apply(lambda x: str(x).split(',')).array\n",
    "arr = reduce(add,arr)\n",
    "c = Counter(arr)\n",
    "d_m = pd.DataFrame(c, index=['occurrences']).transpose().reset_index()\n",
    "d_m.columns=['Themes', 'occurences']\n",
    "d_m.occurences = d_m.occurences.apply(lambda x:(x/d_m.occurences.sum())*100)\n",
    "d_m['sexe'] = 'Male'\n",
    "d = pd.concat([d_f,d_m])\n",
    "plt.figure(figsize=(13,13))\n",
    "plt.subplot(221)\n",
    "sns.barplot(data = d[(d.occurences >= 0.5) & (d.Themes.apply(len) >0) & (d.sexe == 'Male')].sort_values('occurences',ascending=False).head(15),\n",
    "            y='Themes',\n",
    "            x='occurences',\n",
    "           color='pink')\n",
    "plt.title(\"Tags for mens\")\n",
    "plt.subplot(222)\n",
    "sns.barplot(data = d[(d.occurences >= 0.6) & (d.Themes.apply(len) >0) & (d.sexe == 'Female')].sort_values('occurences',ascending=False).head(15),\n",
    "            y='Themes',\n",
    "            x='occurences',\n",
    "           color = 'brown')\n",
    "plt.title(\"Tags for women\")\n",
    "plt.subplots_adjust(wspace = 1.5)"
   ]
  },
  {
   "cell_type": "markdown",
   "metadata": {},
   "source": [
    "Men and women are not talking about the same subjects. If women are more likely to speak about Society and Health, men are more likely to speak about international relations and economics. "
   ]
  },
  {
   "cell_type": "code",
   "execution_count": 15,
   "metadata": {
    "colab": {
     "base_uri": "https://localhost:8080/",
     "height": 404
    },
    "colab_type": "code",
    "id": "1mXbfcADbHIi",
    "outputId": "52e65616-3a34-44fd-8630-bc9cee8e0272"
   },
   "outputs": [
    {
     "data": {
      "image/png": "[encoded data removed]",
      "text/plain": [
       "<Figure size 720x432 with 1 Axes>"
      ]
     },
     "metadata": {
      "needs_background": "light"
     },
     "output_type": "display_data"
    }
   ],
   "source": [
    "df.Theme.fillna('',inplace=True)\n",
    "arr =df[df.sexe == 1].Theme.apply(lambda x: str(x).split(',')).array\n",
    "arr = reduce(add,arr)\n",
    "c = Counter(arr)\n",
    "d_m = pd.DataFrame(c, index=['occurrences']).transpose().reset_index()\n",
    "d_m.columns=['Themes', 'occurences']\n",
    "d_m.occurences = d_m.occurences.apply(lambda x:(x/d_m.occurences.sum())*100)\n",
    "d_m['sexe'] = 'Male'\n",
    "arr =df[df.sexe == 2].Theme.apply(lambda x: str(x).split(',')).array\n",
    "arr = reduce(add,arr)\n",
    "c = Counter(arr)\n",
    "d_f = pd.DataFrame(c, index=['occurrences']).transpose().reset_index()\n",
    "d_f.columns=['Themes', 'occurences']\n",
    "d_f.occurences = d_f.occurences.apply(lambda x:(x/d_f.occurences.sum())*100)\n",
    "d_f['sexe'] = 'Female'\n",
    "d = pd.concat([d_m,d_f])\n",
    "plt.figure(figsize=(10,6))\n",
    "sns.barplot(data = d[d.Themes != ''],hue = 'sexe',x='Themes',y='occurences')\n",
    "plt.title('Répartition des thèmes des élocutions en fonction du sexe')\n",
    "plt.xticks(rotation=0)\n",
    "plt.show()"
   ]
  },
  {
   "cell_type": "markdown",
   "metadata": {},
   "source": [
    "We represent the same chart but with a lower level of granularity in themes. The same conclustion can be drawn. "
   ]
  },
  {
   "cell_type": "markdown",
   "metadata": {},
   "source": [
    "After this brief introduction we will dive into our texts. The next section focuses on cleaning and preprocessing our texts. We will try to construct some quantitative metrics that could be , in our opinion, explanatory features to differenciate female and male speakers. \n"
   ]
  },
  {
   "cell_type": "markdown",
   "metadata": {
    "colab_type": "text",
    "id": "tcGyTSDxbZC4"
   },
   "source": [
    "### Word-level preprocessing"
   ]
  },
  {
   "cell_type": "markdown",
   "metadata": {},
   "source": [
    "Let's try different tokenizers ! "
   ]
  },
  {
   "cell_type": "code",
   "execution_count": 16,
   "metadata": {
    "colab": {},
    "colab_type": "code",
    "id": "M2KhPmY9bJr6"
   },
   "outputs": [],
   "source": [
    "tokenizer = Tokenizer(nlp.vocab)\n",
    "toknizer = RegexpTokenizer(r'''\\w'|\\w+|[^\\w\\s]''')"
   ]
  },
  {
   "cell_type": "code",
   "execution_count": 17,
   "metadata": {},
   "outputs": [
    {
     "name": "stdout",
     "output_type": "stream",
     "text": [
      "1702\n"
     ]
    }
   ],
   "source": [
    "print(len([w for w in tokenizer(df.Texte[0])]))"
   ]
  },
  {
   "cell_type": "code",
   "execution_count": 18,
   "metadata": {},
   "outputs": [
    {
     "data": {
      "text/plain": [
       "[Messieurs,Je, suis, heureux, de, vous, saluer., Quand, je, dis, que]"
      ]
     },
     "execution_count": 18,
     "metadata": {},
     "output_type": "execute_result"
    }
   ],
   "source": [
    "([w for w in tokenizer(df.Texte[0])])[0:10]"
   ]
  },
  {
   "cell_type": "code",
   "execution_count": 19,
   "metadata": {},
   "outputs": [
    {
     "name": "stdout",
     "output_type": "stream",
     "text": [
      "1932\n"
     ]
    }
   ],
   "source": [
    "print(len(word_tokenize(df.Texte[0], language='french')))"
   ]
  },
  {
   "cell_type": "code",
   "execution_count": 20,
   "metadata": {},
   "outputs": [
    {
     "data": {
      "text/plain": [
       "['Messieurs',\n",
       " ',',\n",
       " 'Je',\n",
       " 'suis',\n",
       " 'heureux',\n",
       " 'de',\n",
       " 'vous',\n",
       " 'saluer',\n",
       " '.',\n",
       " 'Quand']"
      ]
     },
     "execution_count": 20,
     "metadata": {},
     "output_type": "execute_result"
    }
   ],
   "source": [
    "word_tokenize(df.Texte[0], language='french')[0:10]"
   ]
  },
  {
   "cell_type": "code",
   "execution_count": 21,
   "metadata": {
    "colab": {
     "base_uri": "https://localhost:8080/",
     "height": 68
    },
    "colab_type": "code",
    "id": "B9kMs_kHbg3n",
    "outputId": "86e02a8d-4d9c-4ca9-cfc9-9134f36350c8"
   },
   "outputs": [
    {
     "name": "stdout",
     "output_type": "stream",
     "text": [
      "2135\n"
     ]
    }
   ],
   "source": [
    "print(len(toknizer.tokenize(df.Texte[0])))"
   ]
  },
  {
   "cell_type": "code",
   "execution_count": 22,
   "metadata": {},
   "outputs": [
    {
     "data": {
      "text/plain": [
       "['Messieurs',\n",
       " ',',\n",
       " 'Je',\n",
       " 'suis',\n",
       " 'heureux',\n",
       " 'de',\n",
       " 'vous',\n",
       " 'saluer',\n",
       " '.',\n",
       " 'Quand']"
      ]
     },
     "execution_count": 22,
     "metadata": {},
     "output_type": "execute_result"
    }
   ],
   "source": [
    "toknizer.tokenize(df.Texte[0])[0:10]"
   ]
  },
  {
   "cell_type": "code",
   "execution_count": 23,
   "metadata": {},
   "outputs": [
    {
     "data": {
      "text/plain": [
       "['Messieurs',\n",
       " ',',\n",
       " 'Je',\n",
       " 'suis',\n",
       " 'heureux',\n",
       " 'de',\n",
       " 'vous',\n",
       " 'saluer',\n",
       " '.',\n",
       " 'Quand']"
      ]
     },
     "execution_count": 23,
     "metadata": {},
     "output_type": "execute_result"
    }
   ],
   "source": [
    "toknizer.tokenize(df.Texte[0])[0:10]"
   ]
  },
  {
   "cell_type": "markdown",
   "metadata": {
    "colab_type": "text",
    "id": "zuD_cLJHcCGe"
   },
   "source": [
    "The NLTK tokenizer tokenizes punctuation whereas the spacy one does not. We decide to switch to the NLTK tokenizer."
   ]
  },
  {
   "cell_type": "code",
   "execution_count": 24,
   "metadata": {},
   "outputs": [
    {
     "name": "stdout",
     "output_type": "stream",
     "text": [
      "Length of spacy stopwords list is 602 and length of NLTK stopwords list is 157 \n"
     ]
    }
   ],
   "source": [
    "print('Length of spacy stopwords list is {} and length of NLTK stopwords list is {} '.format(len(list(fr_stop)),len(stopwords.words('french'))))"
   ]
  },
  {
   "cell_type": "markdown",
   "metadata": {
    "colab": {
     "base_uri": "https://localhost:8080/",
     "height": 34
    },
    "colab_type": "code",
    "id": "fR4HOCkDbla4",
    "outputId": "0c074f71-70e2-4fa0-b3d1-254770b271a4"
   },
   "source": [
    "As the NLTK sent detector is far from being optimal we tried to detect sentences with the 'sent_detector_mano' function which seems to work much better on our corpus."
   ]
  },
  {
   "cell_type": "markdown",
   "metadata": {
    "colab_type": "text",
    "id": "BobYhnuVylBs"
   },
   "source": [
    "J'ai ajouté un cleaner pour les Noms/Prénoms des politiques basés sur les noms/prénoms des personnalités politiques présentes dans la base. \n",
    "\n",
    "J'ajoute également un cleaner pour Mr, Mme , M , Madame et Monsieur, Mesdames, Messieurs.\n",
    "\n",
    "Voir si président et ministre sont à ajouter."
   ]
  },
  {
   "cell_type": "code",
   "execution_count": 25,
   "metadata": {},
   "outputs": [],
   "source": [
    "df['NbToken'] = df.Texte.apply(lambda x : len(word_tokenize(x,language='french')))\n",
    "df['Token'] = df.Texte.apply(lambda x : word_tokenize(x,language='french'))"
   ]
  },
  {
   "cell_type": "code",
   "execution_count": 26,
   "metadata": {
    "colab": {},
    "colab_type": "code",
    "id": "ga5ub5wQrpu5"
   },
   "outputs": [],
   "source": [
    "lst_nom = [nom for nom in set(df.Nom+ ' ' +df.Prenom) if nom not in 'ministère'] + [nom for nom in set(df.Prenom+ ' ' +df.Nom) if nom not in 'ministère']+ [nom for nom in set(df.Prenom) if nom != 'ministère'] + [nom for nom in set(df.Nom) if nom != 'ministère']\n",
    "cleanFast = lst_nom + ['Mr','M','Mme','Madame','Monsieur','monsieur','madame','mme','mr','mesdames','messieurs']"
   ]
  },
  {
   "cell_type": "code",
   "execution_count": 27,
   "metadata": {
    "colab": {
     "base_uri": "https://localhost:8080/",
     "height": 34
    },
    "colab_type": "code",
    "id": "wwsQNFwNT2Sf",
    "outputId": "39203272-e060-4ffd-ba0a-7158f1b2f110"
   },
   "outputs": [
    {
     "name": "stdout",
     "output_type": "stream",
     "text": [
      "Number of processors:  8\n"
     ]
    }
   ],
   "source": [
    "import multiprocessing as mp\n",
    "print(\"Number of processors: \", mp.cpu_count())"
   ]
  },
  {
   "cell_type": "markdown",
   "metadata": {},
   "source": [
    "add_features()\n",
    "Sert pour la parallélisation\n",
    "Input : DataFrame\n",
    "Output : DataFrame with new columns created\n",
    "\n",
    "para_df()\n",
    "Parralelisation\n",
    "Input : \n",
    "      df : DataFrame\n",
    "      func : function to return data\n",
    "      n_cores : number of cores\n",
    "Output : \n",
    "      df with new columns\n",
    "  \"\"\""
   ]
  },
  {
   "cell_type": "code",
   "execution_count": 28,
   "metadata": {
    "colab": {},
    "colab_type": "code",
    "id": "Fa7VMJ7LVVyS"
   },
   "outputs": [],
   "source": [
    "def add_features(df):\n",
    "    from multiprocessing import Pool\n",
    "    nlp = spacy.load('fr_core_news_md') \n",
    "    df['NbCleanToken'] = df.Texte.apply(lambda x : len(cleanToken(x)))\n",
    "    df['NbSyllables'] = df.Texte.apply(NbSyllables)\n",
    "    df['NbMot'] = df.Texte.apply(extraire_nb_mot)\n",
    "    df['Phrases'] = df.Texte.apply(sent_detector_mano)\n",
    "    df['NbPhrases'] = df.Texte.apply(lambda x:len(sent_detector_mano(x)))\n",
    "    df['CleanToken'] = df.Texte.apply(cleanToken)\n",
    "    df.CleanToken = df.apply(lambda row : FastCleaner(row.CleanToken,cleanFast),axis=1)\n",
    "    df['NbCleanToken']=df.CleanToken.apply(len)\n",
    "    df['NbPonct'] = df.Texte.apply(count_punct)\n",
    "    df['NbSw'] = df.Token.apply(count_stopwords)\n",
    "    df['Hapaxlegomena']=df.CleanToken.apply(Hapaxlegomena)\n",
    "    df['Hapaxdislegomena']= df.CleanToken.apply(Hapaxdislegomena)\n",
    "    df['UniqueWordTx']= df.CleanToken.apply(lambda x:len(set(x))/len(x))\n",
    "    #df['RateCleanRaw'] = df.NbCleanToken/df.NbToken\n",
    "    df['NbNom'],df['NbDet'],df['NbPunct'],df['NbAdj'],df['NbAdp'],df['NbPron'],df['NbVerb'],df['NbCconj'],df['NbNum'],df['NbPropn'],df['NbAdv'],df['NbSCONJ'],df['NbAUX'],df['NbIntj']=zip(*df.Texte.apply(extractPos))\n",
    "    df['NbArt']= df.Texte.apply(nbArt)\n",
    "    df['F_mesure'] = df.apply(lambda row: f_mesure(row.NbToken,row.NbNom,row.NbAdj,row.NbAdp,row.NbArt,row.NbPron,row.NbVerb,row.NbAdv,row.NbIntj),axis=1)\n",
    "    df['PronJe']=df.apply(lambda row : Pron_Type(row.Texte,nlp),axis=1)\n",
    "    df['PronNous']=df.apply(lambda row : Pron_Type_Plur(row.Texte,nlp),axis=1)\n",
    "    df['NbPres'],df['NbPast'],df['NbFut'],df['NbImp']  = zip(*df.apply(lambda row : Verb_Tens(row.Texte,nlp),axis=1))\n",
    "    df['NbQuest']= df.apply(lambda row : Quest(row.Texte,nlp),axis=1)\n",
    "    df['NbExcl']= df.apply(lambda row  : Excl(row.Texte,nlp),axis=1)\n",
    "    return df\n",
    "def para_df(df,func,n_cores = mp.cpu_count()):\n",
    "    from multiprocessing import Pool\n",
    "    df_split = np.array_split(df,n_cores)\n",
    "    pool = Pool(n_cores)\n",
    "    df = pd.concat(pool.map(func,df_split))\n",
    "    pool.close()\n",
    "    pool.join()\n",
    "    return df"
   ]
  },
  {
   "cell_type": "code",
   "execution_count": 29,
   "metadata": {},
   "outputs": [],
   "source": [
    "df['NbNom'],df['NbDet'],df['NbPunct'],df['NbAdj'],df['NbAdp'],df['NbPron'],df['NbVerb'],df['NbCconj'],df['NbNum'],df['NbPropn'],df['NbAdv'],df['NbSCONJ'],df['NbAUX'],df['NbIntj']=zip(*df.Texte.apply(extractPos))\n",
    " "
   ]
  },
  {
   "cell_type": "code",
   "execution_count": 30,
   "metadata": {},
   "outputs": [],
   "source": [
    "df['NbMot'] = df.Texte.apply(extraire_nb_mot)"
   ]
  },
  {
   "cell_type": "code",
   "execution_count": 31,
   "metadata": {},
   "outputs": [],
   "source": [
    "df['PronJe']=df.apply(lambda row : Pron_Type(row.Texte,nlp),axis=1)\n",
    "df['PronNous']=df.apply(lambda row : Pron_Type_Plur(row.Texte,nlp),axis=1)\n",
    "#Mettre tout en meme temps "
   ]
  },
  {
   "cell_type": "code",
   "execution_count": null,
   "metadata": {},
   "outputs": [],
   "source": [
    "df['NbPres'],df['NbPast'],df['NbFut'],df['NbImp']  = zip(*df.apply(lambda row : Verb_Tens(row.Texte,nlp),axis=1))\n",
    "df['NbQuest']= df.apply(lambda row : Quest(row.Texte,nlp),axis=1)\n",
    "df['NbExcl']= df.apply(lambda row  : Excl(row.Texte,nlp),axis=1)"
   ]
  },
  {
   "cell_type": "code",
   "execution_count": null,
   "metadata": {},
   "outputs": [],
   "source": [
    "df['NbArt']= df.Texte.apply(nbArt)\n",
    "df['F_mesure'] = df.apply(lambda row: f_mesure(row.NbToken,row.NbNom,row.NbAdj,row.NbAdp,row.NbArt,row.NbPron,row.NbVerb,row.NbAdv,row.NbIntj),axis=1)"
   ]
  },
  {
   "cell_type": "code",
   "execution_count": null,
   "metadata": {},
   "outputs": [],
   "source": [
    "df['CleanToken'] = df.Texte.apply(cleanToken)\n",
    "df['Hapaxlegomena']=df.CleanToken.apply(Hapaxlegomena)\n",
    "df['Hapaxdislegomena']= df.CleanToken.apply(Hapaxdislegomena)\n",
    "df['UniqueWordTx']= df.CleanToken.apply(lambda x:len(set(x))/len(x))"
   ]
  },
  {
   "cell_type": "code",
   "execution_count": null,
   "metadata": {},
   "outputs": [],
   "source": [
    "plt.figure(figsize=(14,14))\n",
    "plt.subplot(2, 2, 1)\n",
    "sns.distplot(df[df.sexe == 2]['Hapaxlegomena'])\n",
    "sns.distplot(df[df.sexe == 1]['Hapaxlegomena'])\n",
    "plt.subplot(2, 2, 2)\n",
    "sns.distplot(df[df.sexe == 2]['Hapaxdislegomena'])\n",
    "sns.distplot(df[df.sexe == 1]['Hapaxdislegomena'])\n",
    "plt.subplot(2, 2, 3)\n",
    "sns.distplot(df[df.sexe == 2]['UniqueWordTx'])\n",
    "sns.distplot(df[df.sexe == 1]['UniqueWordTx'])\n",
    "plt.subplot(2, 2, 4)\n",
    "sns.distplot(df[df.sexe == 2]['F_mesure'])\n",
    "sns.distplot(df[df.sexe == 1]['F_mesure'])\n",
    "plt.show()"
   ]
  },
  {
   "cell_type": "code",
   "execution_count": null,
   "metadata": {
    "colab": {},
    "colab_type": "code",
    "id": "VnXnxkAfWjfX"
   },
   "outputs": [],
   "source": [
    "#df = para_df(df,add_features)"
   ]
  },
  {
   "cell_type": "code",
   "execution_count": null,
   "metadata": {
    "colab": {},
    "colab_type": "code",
    "id": "z0yxJg_Cxe4O"
   },
   "outputs": [],
   "source": [
    "df[['NbNom_prec']]=df[['NbNom']].div(df.NbMot,axis=0)\n",
    "\n",
    "df[['NbDet_prec']]=df[['NbDet']].div(df.NbMot,axis=0)\n",
    "\n",
    "df[['NbAdj_prec']]=df[['NbAdj']].div(df.NbMot,axis=0)\n",
    "\n",
    "df[['NbPron_prec','NbVerb_perc','NbAUX_perc']]=df[['NbPron','NbVerb','NbAUX']].div(df.NbMot,axis=0)"
   ]
  },
  {
   "cell_type": "code",
   "execution_count": null,
   "metadata": {
    "colab": {
     "base_uri": "https://localhost:8080/",
     "height": 824
    },
    "colab_type": "code",
    "id": "4HWSCj0-x-JH",
    "outputId": "e1a8a631-5512-4fb2-ca5d-3bd52533572c"
   },
   "outputs": [],
   "source": [
    "plt.figure(figsize=(14,14))\n",
    "plt.subplot(2, 2, 1)\n",
    "sns.distplot(df[df.sexe == 2]['NbNom_prec'])\n",
    "sns.distplot(df[df.sexe == 1]['NbNom_prec'])\n",
    "plt.subplot(2, 2, 2)\n",
    "sns.distplot(df[df.sexe == 2]['NbAdj_prec'])\n",
    "sns.distplot(df[df.sexe == 1]['NbAdj_prec'])\n",
    "plt.subplot(2, 2, 3)\n",
    "sns.distplot(df[df.sexe == 2]['NbPron_prec'])\n",
    "sns.distplot(df[df.sexe == 1]['NbPron_prec'])\n",
    "plt.subplot(2, 2, 4)\n",
    "sns.distplot(df[df.sexe == 2]['NbVerb_perc'])\n",
    "sns.distplot(df[df.sexe == 1]['NbVerb_perc'])\n",
    "plt.show()"
   ]
  },
  {
   "cell_type": "markdown",
   "metadata": {
    "colab_type": "text",
    "id": "VDlaoX0hyFPR"
   },
   "source": [
    "Au dela du nombre ce qui est interessant d'observer c'est quel type de pronom, nom, verbes les hommes et les femmes utilisent. "
   ]
  },
  {
   "cell_type": "code",
   "execution_count": null,
   "metadata": {
    "colab": {
     "base_uri": "https://localhost:8080/",
     "height": 409
    },
    "colab_type": "code",
    "id": "PjPE7npPyBj0",
    "outputId": "d1f846be-f63b-4875-b052-504285f30ad5"
   },
   "outputs": [],
   "source": [
    "lst=[ 'NbSyllables','NbPhrases','NbMot','NbToken','NbCleanToken', 'NbPonct', 'NbSw','Hapaxlegomena', 'Hapaxdislegomena', \n",
    "       'UniqueWordTx', 'RateCleanRaw','NbNom', 'NbDet', 'NbPunct', 'NbAdj', 'NbAdp', 'NbPron', 'NbVerb',\n",
    "        'NbCconj', 'NbNum', 'NbPropn', 'NbAdv', 'NbSCONJ', 'NbAUX', 'NbIntj','NbArt', 'F_mesure'\n",
    "        ]\n",
    "lst = lst + ['NbNom_prec','NbDet_prec','NbAdj_prec',\n",
    "    'NbPron_prec','NbVerb_perc','NbAUX_perc']\n",
    "df[['PronJe_perc','PronNous_perc']]=df[['PronJe','PronNous']].div(df.NbMot,axis=0)\n",
    "lst = lst + ['PronJe_perc','PronNous_perc']\n",
    "plt.figure(figsize=(14,14))\n",
    "plt.subplot(2, 2, 1)\n",
    "sns.distplot(df[df.sexe == 2]['PronJe_perc'])\n",
    "sns.distplot(df[df.sexe == 1]['PronJe_perc'])\n",
    "plt.subplot(2, 2, 2)\n",
    "sns.distplot(df[df.sexe == 2]['PronNous_perc'] )\n",
    "sns.distplot(df[df.sexe == 1]['PronNous_perc'])\n",
    "plt.show()"
   ]
  },
  {
   "cell_type": "markdown",
   "metadata": {
    "colab_type": "text",
    "id": "VtC1QWlwyjc5"
   },
   "source": [
    "De plus grosses différences sur le j en terme de distr mais une queue de distribution plus importante pour les nous en bas ( à voir finalement si je divise par le nombre de pronom pas vraiment. "
   ]
  },
  {
   "cell_type": "code",
   "execution_count": null,
   "metadata": {
    "colab": {
     "base_uri": "https://localhost:8080/",
     "height": 409
    },
    "colab_type": "code",
    "id": "zJpzzspoKTrP",
    "outputId": "524c6dd4-711e-4d58-ba51-0471ec7393ee"
   },
   "outputs": [],
   "source": [
    "df[['NbQuest_perc','NbExcl_perc']]=df[['NbQuest','NbExcl']].div(df.NbToken,axis=0)\n",
    "plt.figure(figsize=(14,14))\n",
    "plt.subplot(2, 2, 1)\n",
    "sns.distplot(df[df.sexe == 2]['NbQuest_perc'])\n",
    "sns.distplot(df[df.sexe == 1]['NbQuest_perc'])\n",
    "plt.subplot(2, 2, 2)\n",
    "sns.distplot(df[df.sexe == 2]['NbExcl_perc'])\n",
    "sns.distplot(df[df.sexe == 1]['NbExcl_perc'])\n",
    "plt.show()"
   ]
  },
  {
   "cell_type": "markdown",
   "metadata": {
    "colab_type": "text",
    "id": "rxiSTXIreBIp"
   },
   "source": [
    "### Sentiment extraction using FEEL (French Expanded Emotion Lexicon)\n",
    "\n",
    "http://advanse.lirmm.fr/feel.php"
   ]
  },
  {
   "cell_type": "code",
   "execution_count": null,
   "metadata": {
    "colab": {
     "base_uri": "https://localhost:8080/",
     "height": 390
    },
    "colab_type": "code",
    "id": "Dmkgn8wtd4Ai",
    "outputId": "b07042fe-d3d7-4f76-a121-3d621661035c"
   },
   "outputs": [],
   "source": [
    "feel = pd.read_csv('FEEL.csv',sep=';')\n",
    "feel.set_index('id',inplace=True)\n",
    "feel.sample(10)"
   ]
  },
  {
   "cell_type": "markdown",
   "metadata": {},
   "source": []
  },
  {
   "cell_type": "code",
   "execution_count": null,
   "metadata": {},
   "outputs": [],
   "source": [
    "def extraction_emotion(tokens):\n",
    "    \"\"\"\n",
    "        Permet d'extraire le nombre de mot classé dans 6 émotions différentes.\n",
    "        Input : Tokens\n",
    "        Output : (Joie,peur,tristesse,colère,surprise,dégoût) en fréquence\n",
    "    \"\"\"\n",
    "    joie = [w for w in tokens if w in feel[feel.joy == 1].word.values]\n",
    "    peur = [w for w in tokens if w in feel[feel.fear == 1].word.values]\n",
    "    tristesse = [w for w in tokens if w in feel[feel.sadness == 1].word.values]\n",
    "    colere = [w for w in tokens if w in feel[feel.anger == 1].word.values]\n",
    "    surprise = [w for w in tokens if w in feel[feel.surprise == 1].word.values]\n",
    "    degout = [w for w in tokens if w in feel[feel.disgust == 1].word.values]\n",
    "    return [len(joie)/len(tokens),len(peur)/len(tokens),len(tristesse)/len(tokens),len(colere)/len(tokens),len(surprise)/len(tokens),len(degout)/len(tokens)]"
   ]
  },
  {
   "cell_type": "code",
   "execution_count": null,
   "metadata": {},
   "outputs": [],
   "source": [
    "def check_polarity(tokens):\n",
    "    \"\"\"\n",
    "        Analyse de sentiment de chaque mots\n",
    "        Input : Tokens\n",
    "        Output :  (%positive,%negative,%non trouvé) en fréquen\n",
    "    \"\"\"\n",
    "    pos = feel[feel.polarity == 'positive'].word.values\n",
    "    neg = feel[feel.polarity == 'negative'].word.values\n",
    "    nb_pos = [word for word in tokens if word in pos]\n",
    "    nb_neg = [word for word in tokens if word in neg]\n",
    "    return [len(nb_pos)/len(tokens),len(nb_neg)/len(tokens),1 - (len(nb_pos) + len(nb_neg))/len(tokens)]"
   ]
  },
  {
   "cell_type": "code",
   "execution_count": null,
   "metadata": {
    "colab": {
     "base_uri": "https://localhost:8080/",
     "height": 119
    },
    "colab_type": "code",
    "id": "rzWfRRKYewtZ",
    "outputId": "980a3fa9-a754-47eb-8188-80422121c7ce"
   },
   "outputs": [],
   "source": [
    "extraction_emotion(cleanTokenLemme(df.Texte[0],cleanFast))"
   ]
  },
  {
   "cell_type": "code",
   "execution_count": null,
   "metadata": {
    "colab": {
     "base_uri": "https://localhost:8080/",
     "height": 34
    },
    "colab_type": "code",
    "id": "D31ZMkbTfGyv",
    "outputId": "9df1c543-74b0-482a-8ba5-ae05d9f9a14b"
   },
   "outputs": [],
   "source": [
    "check_polarity(cleanTokenLemme(df.Texte[0],cleanFast))"
   ]
  },
  {
   "cell_type": "code",
   "execution_count": null,
   "metadata": {
    "colab": {},
    "colab_type": "code",
    "id": "eScsPiY6fVPi"
   },
   "outputs": [],
   "source": [
    "def add_features2(df):\n",
    "    \"\"\"\n",
    "    Sert pour la parallélisation\n",
    "    Input : DataFrame\n",
    "    Output : DataFrame avec les nouvelles colonnes crée\n",
    "  \"\"\"\n",
    "    df['CleanTokensLemme'] = df.apply(lambda row : cleanTokenLemme(row.Texte,cleanFast),axis=1)\n",
    "    df['PolPos'],df['PolNeg'],df['PolUnk'] = zip(*df.CleanTokensLemme.apply(check_polarity))\n",
    "    df['FreqJoie'],df['FreqPeur'],df['FreqSad'],df['FreqColere'],df['FreqSurprise'],df['FreqDegout'] = zip(*df.CleanTokensLemme.apply(extraction_emotion))\n",
    "    return df"
   ]
  },
  {
   "cell_type": "code",
   "execution_count": null,
   "metadata": {},
   "outputs": [],
   "source": [
    "df['CleanTokensLemme'] = df.apply(lambda row : cleanTokenLemme(row.Texte,cleanFast),axis=1)\n",
    "df['PolPos'],df['PolNeg'],df['PolUnk'] = zip(*df.CleanTokensLemme.apply(check_polarity))\n",
    "df['FreqJoie'],df['FreqPeur'],df['FreqSad'],df['FreqColere'],df['FreqSurprise'],df['FreqDegout'] = zip(*df.CleanTokensLemme.apply(extraction_emotion))\n"
   ]
  },
  {
   "cell_type": "code",
   "execution_count": null,
   "metadata": {
    "colab": {},
    "colab_type": "code",
    "id": "qW00vTx7gFLO"
   },
   "outputs": [],
   "source": [
    "#df = para_df(df,add_features2)"
   ]
  },
  {
   "cell_type": "code",
   "execution_count": null,
   "metadata": {
    "colab": {
     "base_uri": "https://localhost:8080/",
     "height": 823
    },
    "colab_type": "code",
    "id": "qaKhdblngtWi",
    "outputId": "42d2698f-9208-4f24-8f69-9bf26dbb4e4e"
   },
   "outputs": [],
   "source": [
    "plt.figure(figsize=(14,14))\n",
    "plt.subplot(2, 2, 1)\n",
    "sns.distplot(df[df.sexe == 2]['FreqJoie'])\n",
    "sns.distplot(df[df.sexe == 1]['FreqJoie'])\n",
    "plt.subplot(2, 2, 2)\n",
    "sns.distplot(df[df.sexe == 2]['FreqPeur'])\n",
    "sns.distplot(df[df.sexe == 1]['FreqPeur'])\n",
    "plt.subplot(2, 2, 3)\n",
    "sns.distplot(df[df.sexe == 2]['FreqSad'])\n",
    "sns.distplot(df[df.sexe == 1]['FreqSad'])\n",
    "plt.subplot(2, 2, 4)\n",
    "sns.distplot(df[df.sexe == 2]['FreqColere'])\n",
    "sns.distplot(df[df.sexe == 1]['FreqColere'])\n",
    "plt.show()"
   ]
  },
  {
   "cell_type": "markdown",
   "metadata": {
    "colab_type": "text",
    "id": "r2Qk2_3mdUzB"
   },
   "source": [
    "\n",
    "## Passons désormais au n-grams\n",
    "\n",
    "Utilisation des tokens cleané et lemmatizer pour obtenir le n-gram\n",
    "Il est possible de voir que le bi-gram ne semble par très pertinant au regard des mots qui ressortent et qui semble ne pas trop varier en fonction du sexe. \n",
    "\n",
    "Mo : Faudrait peut être même faire ca avant ? "
   ]
  },
  {
   "cell_type": "code",
   "execution_count": null,
   "metadata": {},
   "outputs": [],
   "source": [
    "df.Texte = df.Texte.apply(lambda x : x.replace('\\xa0','').replace('\\x85','').replace('\\x96','').replace('\\x92',\"'\").replace('\\x80','').replace('\\xc3',''))\n",
    "df.Texte = df.Texte.apply(remove_source)"
   ]
  },
  {
   "cell_type": "code",
   "execution_count": null,
   "metadata": {},
   "outputs": [],
   "source": []
  },
  {
   "cell_type": "code",
   "execution_count": null,
   "metadata": {},
   "outputs": [],
   "source": [
    "from tqdm import tqdm\n",
    "def tokenize_sent(corpus):\n",
    "    tokenizer = Tokenizer(nlp.vocab)\n",
    "    tokenized_sentences = []\n",
    "    for sample in tqdm(corpus):\n",
    "        for sentence in sent_detector.tokenize(sample):\n",
    "            tokens = toknizer.tokenize(sentence)\n",
    "            tokens = list(map(lambda x: x.lower(), tokens))\n",
    "            tokenized_sentences.append(tokens)\n",
    "    return tokenized_sentences"
   ]
  },
  {
   "cell_type": "code",
   "execution_count": null,
   "metadata": {},
   "outputs": [],
   "source": [
    "#toknizer.tokenize(sent_detector.tokenize(df.Texte[0])[0])"
   ]
  },
  {
   "cell_type": "code",
   "execution_count": null,
   "metadata": {},
   "outputs": [],
   "source": [
    "cleaned_corp = tokenize_sent(df.Texte.array)"
   ]
  },
  {
   "cell_type": "code",
   "execution_count": null,
   "metadata": {},
   "outputs": [],
   "source": [
    "from gensim.models.phrases import Phrases, Phraser\n",
    "\n",
    "def show_phrases(tokenized_sentences, threshold=100, shown=15):\n",
    "    phrases = Phrases(tokenized_sentences, threshold=threshold)\n",
    "    i = 0\n",
    "    for phrase, score in phrases.export_phrases(tokenized_sentences):\n",
    "        if i>shown:\n",
    "            break\n",
    "        else:\n",
    "            print(\"Expression : {0}, score = {1}\".format(phrase, score))\n",
    "    i=i+1"
   ]
  },
  {
   "cell_type": "code",
   "execution_count": null,
   "metadata": {},
   "outputs": [],
   "source": [
    "show_phrases(cleaned_corp)"
   ]
  },
  {
   "cell_type": "code",
   "execution_count": null,
   "metadata": {},
   "outputs": [],
   "source": [
    "def clean_corpus(corpus, threshold=100):\n",
    "    tokenized_sentences = tokenize_sent(corpus)\n",
    "    phrases = Phrases(tokenized_sentences, threshold=threshold)\n",
    "    phraser = Phraser(phrases)\n",
    "    \n",
    "    clean_corpus = []\n",
    "    for sample in corpus:\n",
    "        clean_corpus.append(phraser[sample])\n",
    "    return clean_corpus"
   ]
  },
  {
   "cell_type": "code",
   "execution_count": null,
   "metadata": {},
   "outputs": [],
   "source": [
    "clean_corpus_gensim =clean_corpus(df.Token.array)"
   ]
  },
  {
   "cell_type": "code",
   "execution_count": null,
   "metadata": {},
   "outputs": [],
   "source": [
    "df['gensim']=pd.DataFrame([clean_corpus_gensim]).transpose()"
   ]
  },
  {
   "cell_type": "code",
   "execution_count": null,
   "metadata": {},
   "outputs": [],
   "source": [
    "# Metre le wordcloud après gensim "
   ]
  },
  {
   "cell_type": "code",
   "execution_count": null,
   "metadata": {},
   "outputs": [],
   "source": [
    "import numpy as np\n",
    "woman = np.array(Image.open(\"femme2.png\"))\n",
    "wc = WordCloud(background_color=\"white\", max_words=100, mask=woman,\n",
    "               stopwords=list(fr_stop)+[\"c'est\",\"d'un\",\"d'une\",\"qu'il\",\"n'est\",\"j'ai\",\"qu'elle\"], contour_width=0.5, contour_color='black')\n",
    "arr = reduce(add,df[df.sexe == 2].CleanToken.array)\n",
    "corpus_f = ' '.join(arr)\n",
    "wc.generate(corpus_f)\n",
    "man = np.array(Image.open(\"homme.png\"))\n",
    "wc2 = WordCloud(background_color=\"white\", max_words=100, mask=man,\n",
    "               stopwords=list(fr_stop)+[\"c'est\",\"d'un\",\"d'une\",\"qu'il\",\"n'est\",\"j'ai\",\"qu'elle\"], contour_width=1, contour_color='black')\n",
    "arr = reduce(add,df[df.sexe == 1].CleanToken.array)\n",
    "corpus_m = ' '.join(arr)\n",
    "wc2.generate(corpus_m)\n",
    "\n",
    "plt.figure(figsize=[10,10])\n",
    "plt.subplot(121)\n",
    "plt.imshow(wc, interpolation='bilinear')\n",
    "plt.axis(\"off\")\n",
    "plt.subplot(122)\n",
    "plt.imshow(wc2, interpolation='bilinear')\n",
    "plt.axis(\"off\")\n",
    "\n",
    "plt.show()\n",
    "\n",
    "#Je veux pas faire la féministe mais ces dessins ? hahaha \n",
    "# Le truc c'est qu'il faut une silhouette en noir et blanc sinon c'est relou à corriger ! "
   ]
  },
  {
   "cell_type": "code",
   "execution_count": null,
   "metadata": {
    "colab": {},
    "colab_type": "code",
    "id": "GL2ycv52dVee"
   },
   "outputs": [],
   "source": [
    "from nltk import ngrams\n",
    "arr = df[df.sexe == 1].CleanTokensLemme.array\n",
    "arr = reduce(add,arr)\n",
    "arr = ' '.join(arr)\n",
    "arr = arr.split()\n",
    "bigram_count = Counter(ngrams(arr, 2))"
   ]
  },
  {
   "cell_type": "code",
   "execution_count": null,
   "metadata": {
    "colab": {
     "base_uri": "https://localhost:8080/",
     "height": 867
    },
    "colab_type": "code",
    "id": "t5KxKMoOg1HV",
    "outputId": "f208bff2-cd45-4cf8-d41a-ec77d3b45dab"
   },
   "outputs": [],
   "source": [
    "bigram_count.most_common(50)"
   ]
  },
  {
   "cell_type": "code",
   "execution_count": null,
   "metadata": {
    "colab": {},
    "colab_type": "code",
    "id": "ckYCOnXTg1us"
   },
   "outputs": [],
   "source": [
    "arr = df[df.sexe == 2].CleanTokensLemme.array\n",
    "arr = reduce(add,arr)\n",
    "arr = ' '.join(arr)\n",
    "arr = arr.split()\n",
    "bigram_count = Counter(ngrams(arr, 2))"
   ]
  },
  {
   "cell_type": "code",
   "execution_count": null,
   "metadata": {
    "colab": {
     "base_uri": "https://localhost:8080/",
     "height": 867
    },
    "colab_type": "code",
    "id": "fc_iCldLg7Pi",
    "outputId": "bc29e996-9500-4b50-eaf1-cc577d2b7232"
   },
   "outputs": [],
   "source": [
    "bigram_count.most_common(50)"
   ]
  },
  {
   "cell_type": "markdown",
   "metadata": {
    "colab_type": "text",
    "id": "U6hxAIqnhPAs"
   },
   "source": [
    "Passons aux tri-grams, on remarque déjà la présence toujours de personnes politiques (certains textes sont topés discours ou déclarations mais sont en réalité des interviews). Ensuite, on a énormément de (madame, monsieur + un titre), on supprime?\n",
    "\n",
    "Mo : Pour l'analyse des features comme on le fait la oui on va enlever. Pour les N-grams il faudrait que trier avant et ne prend que les types de mots qui ne sont pas de sprénoms.\n",
    "\n",
    "Mel : Update du 17/03, noramlement c'est bon"
   ]
  },
  {
   "cell_type": "code",
   "execution_count": null,
   "metadata": {
    "colab": {},
    "colab_type": "code",
    "id": "Hj9avA2dg9av"
   },
   "outputs": [],
   "source": [
    "arr = df[df.sexe == 1].CleanTokensLemme.array\n",
    "arr = reduce(add,arr)\n",
    "arr = ' '.join(arr)\n",
    "arr = arr.split()\n",
    "trigram_count = Counter(ngrams(arr, 3))"
   ]
  },
  {
   "cell_type": "code",
   "execution_count": null,
   "metadata": {
    "colab": {
     "base_uri": "https://localhost:8080/",
     "height": 867
    },
    "colab_type": "code",
    "id": "RGPkFAEmhZp9",
    "outputId": "e3f3c370-7960-4a7d-f030-0d254e75c2dd"
   },
   "outputs": [],
   "source": [
    "trigram_count.most_common(50)"
   ]
  },
  {
   "cell_type": "code",
   "execution_count": null,
   "metadata": {
    "colab": {},
    "colab_type": "code",
    "id": "yEPmfaaYhba4"
   },
   "outputs": [],
   "source": [
    "arr = df[df.sexe == 2].CleanTokensLemme.array\n",
    "arr = reduce(add,arr)\n",
    "arr = ' '.join(arr)\n",
    "arr = arr.split()\n",
    "trigram_count = Counter(ngrams(arr, 3))"
   ]
  },
  {
   "cell_type": "code",
   "execution_count": null,
   "metadata": {
    "colab": {
     "base_uri": "https://localhost:8080/",
     "height": 867
    },
    "colab_type": "code",
    "id": "PPa5K81Rhbd0",
    "outputId": "341ed730-f6f9-41a1-8d61-f4cba04e5fba"
   },
   "outputs": [],
   "source": [
    "trigram_count.most_common(50)"
   ]
  },
  {
   "cell_type": "code",
   "execution_count": null,
   "metadata": {
    "colab": {
     "base_uri": "https://localhost:8080/",
     "height": 575
    },
    "colab_type": "code",
    "id": "U5NXtgK8KZB8",
    "outputId": "2791025e-902f-422d-ecb5-0b273775b06d"
   },
   "outputs": [],
   "source": [
    "import numpy as np\n",
    "woman = np.array(Image.open(\"femme2.png\"))\n",
    "wc = WordCloud(background_color=\"white\", max_words=100, mask=woman,\n",
    "               stopwords=list(fr_stop)+[\"c'est\",\"d'un\",\"d'une\",\"qu'il\",\"n'est\",\"j'ai\",\"qu'elle\"], contour_width=0.5, contour_color='black')\n",
    "arr = reduce(add,df[df.sexe == 2].CleanToken.array)\n",
    "corpus_f = ' '.join(arr)\n",
    "wc.generate(corpus_f)\n",
    "man = np.array(Image.open(\"homme.png\"))\n",
    "wc2 = WordCloud(background_color=\"white\", max_words=100, mask=man,\n",
    "               stopwords=list(fr_stop)+[\"c'est\",\"d'un\",\"d'une\",\"qu'il\",\"n'est\",\"j'ai\",\"qu'elle\"], contour_width=1, contour_color='black')\n",
    "arr = reduce(add,df[df.sexe == 1].CleanToken.array)\n",
    "corpus_m = ' '.join(arr)\n",
    "wc2.generate(corpus_m)\n",
    "\n",
    "plt.figure(figsize=[10,10])\n",
    "plt.subplot(121)\n",
    "plt.imshow(wc, interpolation='bilinear')\n",
    "plt.axis(\"off\")\n",
    "plt.subplot(122)\n",
    "plt.imshow(wc2, interpolation='bilinear')\n",
    "plt.axis(\"off\")\n",
    "\n",
    "plt.show()\n",
    "\n",
    "#Je veux pas faire la féministe mais ces dessins ? hahaha \n",
    "# Le truc c'est qu'il faut une silhouette en noir et blanc sinon c'est relou à corriger ! "
   ]
  },
  {
   "cell_type": "code",
   "execution_count": null,
   "metadata": {
    "colab": {},
    "colab_type": "code",
    "id": "00WEtsQJ9a4P"
   },
   "outputs": [],
   "source": [
    "df.to_csv('minimal_df_var.csv')"
   ]
  },
  {
   "cell_type": "code",
   "execution_count": null,
   "metadata": {},
   "outputs": [],
   "source": []
  },
  {
   "cell_type": "markdown",
   "metadata": {},
   "source": [
    "References "
   ]
  },
  {
   "cell_type": "markdown",
   "metadata": {},
   "source": [
    "https://bib.irb.hr/datoteka/861053.Gender_differences_in_the_personal_pronouns_usage_of_the_corpus_of_congressional_speeches.pdf"
   ]
  },
  {
   "cell_type": "markdown",
   "metadata": {},
   "source": [
    "https://www.researchgate.net/publication/253291274_Gender_Differences_in_Language_Use_An_Analysis_of_14000_Text_Samples/link/571e3c1b08aeaced7889ddce/download"
   ]
  }
 ],
 "metadata": {
  "accelerator": "GPU",
  "colab": {
   "authorship_tag": "ABX9TyM9IQFk15uESb3ewCRGuD4q",
   "collapsed_sections": [],
   "include_colab_link": true,
   "name": "Partie 1.ipynb",
   "provenance": [],
   "toc_visible": true
  },
  "kernelspec": {
   "display_name": "Python 3",
   "language": "python",
   "name": "python3"
  },
  "language_info": {
   "codemirror_mode": {
    "name": "ipython",
    "version": 3
   },
   "file_extension": ".py",
   "mimetype": "text/x-python",
   "name": "python",
   "nbconvert_exporter": "python",
   "pygments_lexer": "ipython3",
   "version": "3.7.6"
  }
 },
 "nbformat": 4,
 "nbformat_minor": 1
}
