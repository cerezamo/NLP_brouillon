{
  "nbformat": 4,
  "nbformat_minor": 0,
  "metadata": {
    "accelerator": "GPU",
    "colab": {
      "name": "Partie 1.ipynb",
      "provenance": [],
      "collapsed_sections": [],
      "toc_visible": true,
      "include_colab_link": true
    },
    "kernelspec": {
      "display_name": "Python 3",
      "language": "python",
      "name": "python3"
    },
    "language_info": {
      "codemirror_mode": {
        "name": "ipython",
        "version": 3
      },
      "file_extension": ".py",
      "mimetype": "text/x-python",
      "name": "python",
      "nbconvert_exporter": "python",
      "pygments_lexer": "ipython3",
      "version": "3.7.6"
    }
  },
  "cells": [
    {
      "cell_type": "markdown",
      "metadata": {
        "id": "view-in-github",
        "colab_type": "text"
      },
      "source": [
        "<a href=\"https://colab.research.google.com/github/cerezamo/NLP_brouillon/blob/master/Partie_1.ipynb\" target=\"_parent\"><img src=\"https://colab.research.google.com/assets/colab-badge.svg\" alt=\"Open In Colab\"/></a>"
      ]
    },
    {
      "cell_type": "markdown",
      "metadata": {
        "id": "8DeV23INw1no",
        "colab_type": "text"
      },
      "source": [
        "# Are female, politicians like any other ? "
      ]
    },
    {
      "cell_type": "markdown",
      "metadata": {
        "id": "BSeLd-XCw1nq",
        "colab_type": "text"
      },
      "source": [
        "## Part I : Corpus analysis"
      ]
    },
    {
      "cell_type": "markdown",
      "metadata": {
        "id": "PhmaAKgiw1ns",
        "colab_type": "text"
      },
      "source": [
        "### Downloading packages"
      ]
    },
    {
      "cell_type": "code",
      "metadata": {
        "colab_type": "code",
        "id": "UJX0SjOhXujH",
        "colab": {}
      },
      "source": [
        "!python -m spacy download fr_core_news_md\n",
        "import nltk\n",
        "nltk.download('punkt')"
      ],
      "execution_count": 0,
      "outputs": []
    },
    {
      "cell_type": "code",
      "metadata": {
        "colab_type": "code",
        "id": "DIfjgsnUXYYn",
        "colab": {}
      },
      "source": [
        "import spacy\n",
        "from funct import *\n",
        "import nltk\n",
        "import matplotlib.pyplot as plt\n",
        "import numpy as np\n",
        "from functools import reduce\n",
        "from operator import add\n",
        "from spacy.lang.fr.stop_words import STOP_WORDS as fr_stop\n",
        "from spacy.tokenizer import Tokenizer\n",
        "from nltk.corpus import stopwords\n",
        "from nltk.tokenize import word_tokenize\n",
        "from nltk import RegexpTokenizer\n",
        "from os import path\n",
        "from PIL import Image\n",
        "import funct\n",
        "sent_detector = nltk.data.load('tokenizers/punkt/french.pickle')\n",
        "nlp = spacy.load('fr_core_news_md') \n",
        "import multiprocessing as mp\n",
        "from collections import Counter\n",
        "import pandas as pd\n",
        "import matplotlib.pyplot as plt\n",
        "import seaborn as sns \n",
        "import numpy as np\n",
        "from gensim.test.utils import common_texts\n",
        "from gensim.models.doc2vec import Doc2Vec, TaggedDocument\n",
        "from tqdm import tqdm\n",
        "from sklearn import utils\n",
        "from sklearn.metrics import (\n",
        "    recall_score,\n",
        "    accuracy_score,\n",
        "    precision_score,\n",
        "    roc_auc_score,\n",
        "    f1_score,\n",
        "    classification_report,\n",
        "    confusion_matrix,\n",
        "    roc_curve,\n",
        "    scorer)\n",
        "#from wordcloud import WordCloud, STOPWORDS, ImageColorGenerator"
      ],
      "execution_count": 0,
      "outputs": []
    },
    {
      "cell_type": "code",
      "metadata": {
        "colab_type": "code",
        "id": "-Bf4EAi3TCY3",
        "colab": {}
      },
      "source": [
        "import numpy as np\n",
        "import pandas as pd\n",
        "import matplotlib.pyplot as plt\n",
        "import seaborn as sns \n",
        "sns.set_palette(\"husl\")"
      ],
      "execution_count": 0,
      "outputs": []
    },
    {
      "cell_type": "markdown",
      "metadata": {
        "colab_type": "text",
        "id": "fds26RJOZd4W"
      },
      "source": [
        "We import our corpus in the notebook. This corpus has been scrapped from : https://www.vie-publique.fr/discours."
      ]
    },
    {
      "cell_type": "code",
      "metadata": {
        "colab_type": "code",
        "id": "UGM08frcZgBr",
        "colab": {},
        "outputId": "7f8b2da0-943d-4c50-980a-152065ff52d4"
      },
      "source": [
        "df = pd.read_csv('medium_df_deseq.csv')\n",
        "df.head()"
      ],
      "execution_count": 0,
      "outputs": [
        {
          "output_type": "execute_result",
          "data": {
            "text/html": [
              "<div>\n",
              "<style scoped>\n",
              "    .dataframe tbody tr th:only-of-type {\n",
              "        vertical-align: middle;\n",
              "    }\n",
              "\n",
              "    .dataframe tbody tr th {\n",
              "        vertical-align: top;\n",
              "    }\n",
              "\n",
              "    .dataframe thead th {\n",
              "        text-align: right;\n",
              "    }\n",
              "</style>\n",
              "<table border=\"1\" class=\"dataframe\">\n",
              "  <thead>\n",
              "    <tr style=\"text-align: right;\">\n",
              "      <th></th>\n",
              "      <th>Unnamed: 0</th>\n",
              "      <th>Id</th>\n",
              "      <th>Titre</th>\n",
              "      <th>Type</th>\n",
              "      <th>Theme</th>\n",
              "      <th>Prenom</th>\n",
              "      <th>Nom</th>\n",
              "      <th>Fonction</th>\n",
              "      <th>Date</th>\n",
              "      <th>Tags</th>\n",
              "      <th>Texte</th>\n",
              "      <th>Lien</th>\n",
              "      <th>PRENOM</th>\n",
              "      <th>preusuel</th>\n",
              "      <th>sexe</th>\n",
              "    </tr>\n",
              "  </thead>\n",
              "  <tbody>\n",
              "    <tr>\n",
              "      <th>0</th>\n",
              "      <td>10504</td>\n",
              "      <td>144565</td>\n",
              "      <td>Déclaration de M. Jacques Chirac, Président de...</td>\n",
              "      <td>déclaration</td>\n",
              "      <td>International</td>\n",
              "      <td>Jacques</td>\n",
              "      <td>Chirac</td>\n",
              "      <td>NaN</td>\n",
              "      <td>1998-10-03T12:00:00Z</td>\n",
              "      <td>Défense,Politique de la défense</td>\n",
              "      <td>Messieurs,Je suis heureux de vous saluer. Quan...</td>\n",
              "      <td>https://www.vie-publique.fr/discours/144565-de...</td>\n",
              "      <td>JACQUES</td>\n",
              "      <td>JACQUES</td>\n",
              "      <td>1</td>\n",
              "    </tr>\n",
              "    <tr>\n",
              "      <th>1</th>\n",
              "      <td>3304</td>\n",
              "      <td>196091</td>\n",
              "      <td>Déclaration de M. Laurent Fabius, ministre des...</td>\n",
              "      <td>déclaration</td>\n",
              "      <td>Société</td>\n",
              "      <td>Laurent</td>\n",
              "      <td>Fabius</td>\n",
              "      <td>NaN</td>\n",
              "      <td>2015-08-26T12:00:00Z</td>\n",
              "      <td>Environnement,Climat</td>\n",
              "      <td>Tout ce que nous avons entendu au cours de cet...</td>\n",
              "      <td>https://www.vie-publique.fr/discours/196091-de...</td>\n",
              "      <td>LAURENT</td>\n",
              "      <td>LAURENT</td>\n",
              "      <td>1</td>\n",
              "    </tr>\n",
              "    <tr>\n",
              "      <th>2</th>\n",
              "      <td>8816</td>\n",
              "      <td>128510</td>\n",
              "      <td>Déclaration de M. François Hollande, premier s...</td>\n",
              "      <td>déclaration</td>\n",
              "      <td>Institutions</td>\n",
              "      <td>François</td>\n",
              "      <td>Hollande</td>\n",
              "      <td>NaN</td>\n",
              "      <td>2002-03-14T12:00:00Z</td>\n",
              "      <td>Citoyenneté - Elections,Personnalité politique</td>\n",
              "      <td>Cher(e)s Ami(e)s, Cher(e)s Camarades, C'est av...</td>\n",
              "      <td>https://www.vie-publique.fr/discours/128510-de...</td>\n",
              "      <td>FRANÇOIS</td>\n",
              "      <td>FRANÇOIS</td>\n",
              "      <td>1</td>\n",
              "    </tr>\n",
              "    <tr>\n",
              "      <th>3</th>\n",
              "      <td>19491</td>\n",
              "      <td>140697</td>\n",
              "      <td>Déclaration de M. Alain Lambert, ministre délé...</td>\n",
              "      <td>déclaration</td>\n",
              "      <td>International</td>\n",
              "      <td>Alain</td>\n",
              "      <td>Lambert</td>\n",
              "      <td>NaN</td>\n",
              "      <td>2003-06-11T12:00:00Z</td>\n",
              "      <td>Relations internationales,Frontière</td>\n",
              "      <td>Mesdames,messieurs, C'est avec grand plaisir q...</td>\n",
              "      <td>https://www.vie-publique.fr/discours/140697-de...</td>\n",
              "      <td>ALAIN</td>\n",
              "      <td>ALAIN</td>\n",
              "      <td>1</td>\n",
              "    </tr>\n",
              "    <tr>\n",
              "      <th>4</th>\n",
              "      <td>6289</td>\n",
              "      <td>195589</td>\n",
              "      <td>Déclaration de M. François Hollande, Président...</td>\n",
              "      <td>déclaration</td>\n",
              "      <td>International</td>\n",
              "      <td>François</td>\n",
              "      <td>Hollande</td>\n",
              "      <td>NaN</td>\n",
              "      <td>2015-07-03T12:00:00Z</td>\n",
              "      <td>Relations internationales,Relations bilatérale...</td>\n",
              "      <td>Mesdames, Messieurs, bonsoir - j'allais dire b...</td>\n",
              "      <td>https://www.vie-publique.fr/discours/195589-de...</td>\n",
              "      <td>FRANÇOIS</td>\n",
              "      <td>FRANÇOIS</td>\n",
              "      <td>1</td>\n",
              "    </tr>\n",
              "  </tbody>\n",
              "</table>\n",
              "</div>"
            ],
            "text/plain": [
              "   Unnamed: 0      Id                                              Titre  \\\n",
              "0       10504  144565  Déclaration de M. Jacques Chirac, Président de...   \n",
              "1        3304  196091  Déclaration de M. Laurent Fabius, ministre des...   \n",
              "2        8816  128510  Déclaration de M. François Hollande, premier s...   \n",
              "3       19491  140697  Déclaration de M. Alain Lambert, ministre délé...   \n",
              "4        6289  195589  Déclaration de M. François Hollande, Président...   \n",
              "\n",
              "          Type          Theme    Prenom       Nom Fonction  \\\n",
              "0  déclaration  International   Jacques    Chirac      NaN   \n",
              "1  déclaration        Société   Laurent    Fabius      NaN   \n",
              "2  déclaration   Institutions  François  Hollande      NaN   \n",
              "3  déclaration  International     Alain   Lambert      NaN   \n",
              "4  déclaration  International  François  Hollande      NaN   \n",
              "\n",
              "                   Date                                               Tags  \\\n",
              "0  1998-10-03T12:00:00Z                    Défense,Politique de la défense   \n",
              "1  2015-08-26T12:00:00Z                               Environnement,Climat   \n",
              "2  2002-03-14T12:00:00Z     Citoyenneté - Elections,Personnalité politique   \n",
              "3  2003-06-11T12:00:00Z                Relations internationales,Frontière   \n",
              "4  2015-07-03T12:00:00Z  Relations internationales,Relations bilatérale...   \n",
              "\n",
              "                                               Texte  \\\n",
              "0  Messieurs,Je suis heureux de vous saluer. Quan...   \n",
              "1  Tout ce que nous avons entendu au cours de cet...   \n",
              "2  Cher(e)s Ami(e)s, Cher(e)s Camarades, C'est av...   \n",
              "3  Mesdames,messieurs, C'est avec grand plaisir q...   \n",
              "4  Mesdames, Messieurs, bonsoir - j'allais dire b...   \n",
              "\n",
              "                                                Lien    PRENOM  preusuel  sexe  \n",
              "0  https://www.vie-publique.fr/discours/144565-de...   JACQUES   JACQUES     1  \n",
              "1  https://www.vie-publique.fr/discours/196091-de...   LAURENT   LAURENT     1  \n",
              "2  https://www.vie-publique.fr/discours/128510-de...  FRANÇOIS  FRANÇOIS     1  \n",
              "3  https://www.vie-publique.fr/discours/140697-de...     ALAIN     ALAIN     1  \n",
              "4  https://www.vie-publique.fr/discours/195589-de...  FRANÇOIS  FRANÇOIS     1  "
            ]
          },
          "metadata": {
            "tags": []
          },
          "execution_count": 4
        }
      ]
    },
    {
      "cell_type": "markdown",
      "metadata": {
        "id": "u2uTZeEVw1n_",
        "colab_type": "text"
      },
      "source": [
        "### Some basic external statistics"
      ]
    },
    {
      "cell_type": "markdown",
      "metadata": {
        "colab_type": "text",
        "id": "lKraQH83ZqaW"
      },
      "source": [
        "We clean the encoding of the text as a first treatment. "
      ]
    },
    {
      "cell_type": "code",
      "metadata": {
        "colab_type": "code",
        "id": "kwKVV3x2qXVl",
        "colab": {}
      },
      "source": [
        "df.Texte = df.Texte.apply(lambda x : x.replace('\\xa0','').replace('\\x85','').replace('\\x96','').replace('\\x92',\"'\").replace('\\x80',''))\n",
        "df.Texte = df.Texte.apply(remove_source)"
      ],
      "execution_count": 0,
      "outputs": []
    },
    {
      "cell_type": "code",
      "metadata": {
        "id": "2TKH7330w1oD",
        "colab_type": "code",
        "colab": {},
        "outputId": "d438fc28-76f8-4bb1-f8b4-cf7db585b70f"
      },
      "source": [
        "print('On average, text length is {}'.format(round(df.Texte.apply(len).mean())))"
      ],
      "execution_count": 0,
      "outputs": [
        {
          "output_type": "stream",
          "text": [
            "On average, text length is 11571\n"
          ],
          "name": "stdout"
        }
      ]
    },
    {
      "cell_type": "code",
      "metadata": {
        "id": "5SWb7l1Vw1oH",
        "colab_type": "code",
        "colab": {},
        "outputId": "17897410-d1ff-407e-b037-a88942fb86d6"
      },
      "source": [
        "%matplotlib inline\n",
        "df.Texte.apply(len).hist(bins=100)\n",
        "plt.show()"
      ],
      "execution_count": 0,
      "outputs": [
        {
          "output_type": "display_data",
          "data": {
            "image/png": "[encoded data removed]",
            "text/plain": [
              "<Figure size 432x288 with 1 Axes>"
            ]
          },
          "metadata": {
            "tags": [],
            "needs_background": "light"
          }
        }
      ]
    },
    {
      "cell_type": "markdown",
      "metadata": {
        "id": "CfwsIsgaw1oU",
        "colab_type": "text"
      },
      "source": [
        "#### Speakers gender proportions"
      ]
    },
    {
      "cell_type": "code",
      "metadata": {
        "id": "1zUad_q4w1oV",
        "colab_type": "code",
        "colab": {},
        "outputId": "3ee2eb22-727c-4bbd-b5f2-e527a7963c75"
      },
      "source": [
        "print('The corpus gathers {} political speeches' .format(len(df)))\n",
        "print('There are {} male speakers and {} female speakers'.format(df.sexe.map(str).value_counts()[0],df.sexe.map(str).value_counts()[1]))"
      ],
      "execution_count": 0,
      "outputs": [
        {
          "output_type": "stream",
          "text": [
            "The corpus gathers 5000 political speeches\n",
            "There are 3750 male speakers and 1250 female speakers\n"
          ],
          "name": "stdout"
        }
      ]
    },
    {
      "cell_type": "code",
      "metadata": {
        "colab_type": "code",
        "id": "VB9UnirIZz9g",
        "outputId": "a881ef1a-d175-45e6-8a53-f40e70b4a2d4",
        "colab": {
          "base_uri": "https://localhost:8080/",
          "height": 313
        }
      },
      "source": [
        "labels = ['Male','Female']\n",
        "#colors = ['#ffcc99','#ff9999']\n",
        "sizes = [ len(df[df.sexe ==1]),len(df[df.sexe ==2])]\n",
        "fig, ax1 = plt.subplots()\n",
        "plt.pie(sizes, labels=labels, autopct='%1.1f%%', startangle=90, pctdistance=0.85)\n",
        "centre_circle = plt.Circle((0,0),0.70,fc='white')\n",
        "fig = plt.gcf()\n",
        "fig.gca().add_artist(centre_circle)\n",
        "ax1.axis('equal')  \n",
        "plt.tight_layout()\n",
        "plt.title(\"Speakers gender proportions\")\n",
        "plt.show()"
      ],
      "execution_count": 0,
      "outputs": [
        {
          "output_type": "display_data",
          "data": {
            "image/png": "[encoded data removed]",
            "text/plain": [
              "<Figure size 432x288 with 1 Axes>"
            ]
          },
          "metadata": {
            "tags": []
          }
        }
      ]
    },
    {
      "cell_type": "markdown",
      "metadata": {
        "id": "4LVgR0Diw1ob",
        "colab_type": "text"
      },
      "source": [
        "Without surprise we have an unbalanced corpus with men being much more represented than women."
      ]
    },
    {
      "cell_type": "markdown",
      "metadata": {
        "colab_type": "text",
        "id": "-k0uRRqqaLFA"
      },
      "source": [
        "#### Speakers gender through time "
      ]
    },
    {
      "cell_type": "markdown",
      "metadata": {
        "id": "f3AOVnLgw1oc",
        "colab_type": "text"
      },
      "source": [
        "One of the very nice feature of our corpus is that we have access to almot all government speeches and interview from 1990. Let's see how the proportion of women and men in the corpus changed through years. "
      ]
    },
    {
      "cell_type": "code",
      "metadata": {
        "colab_type": "code",
        "id": "TYfmQbryaBXg",
        "outputId": "9cb495b1-e7a9-4bea-ccb8-93506d03c80c",
        "colab": {
          "base_uri": "https://localhost:8080/",
          "height": 436
        }
      },
      "source": [
        "df['Annee']= df.Date.map(str).apply(lambda x:x[:4])\n",
        "lst=[]\n",
        "for an in df.Annee.unique():\n",
        "    for s in df.sexe.unique():\n",
        "        if s == 1:\n",
        "            sexe= 'Male'\n",
        "        else:\n",
        "            sexe='Female'\n",
        "        lst+=[(an,len(df[(df.Annee == an) & (df.sexe == s)]),sexe)]\n",
        "data = pd.DataFrame(lst,columns=['Annee','Nb','Sexe'])\n",
        "data=data[data['Annee']>='1990']\n",
        "plt.figure(figsize=(10,6))\n",
        "sns.barplot(data = data,\n",
        "            x='Annee',\n",
        "            y='Nb',\n",
        "           hue='Sexe')\n",
        "plt.xticks(rotation = 45)\n",
        "plt.title(\"Evolution of the number of speeches and the balance between men and women speakers from 1980 to the beginning of 2020\")\n",
        "plt.show()"
      ],
      "execution_count": 0,
      "outputs": [
        {
          "output_type": "display_data",
          "data": {
            "image/png": "[encoded data removed]",
            "text/plain": [
              "<Figure size 720x432 with 1 Axes>"
            ]
          },
          "metadata": {
            "tags": [],
            "needs_background": "light"
          }
        }
      ]
    },
    {
      "cell_type": "markdown",
      "metadata": {
        "id": "FJiDmIA8w1of",
        "colab_type": "text"
      },
      "source": [
        "We definitely see an increase in the absolute number of female speakers. However the gap is still important. \n",
        "In 2019 we see that eventually the number of male and female speakers are really close. "
      ]
    },
    {
      "cell_type": "markdown",
      "metadata": {
        "id": "E4sAeHgPw1og",
        "colab_type": "text"
      },
      "source": [
        "####  Speaker's gender and speeches general theme"
      ]
    },
    {
      "cell_type": "code",
      "metadata": {
        "colab_type": "code",
        "id": "iUlHnqHRaZEN",
        "outputId": "6f64a85e-0605-47c1-becc-b6c222823334",
        "colab": {
          "base_uri": "https://localhost:8080/",
          "height": 419
        }
      },
      "source": [
        "df.Tags.fillna('',inplace=True)\n",
        "arr =df[df.sexe == 2].Tags.apply(lambda x: str(x).split(',')).array\n",
        "arr = reduce(add,arr)\n",
        "c = Counter(arr)\n",
        "d_f = pd.DataFrame(c, index=['occurrences']).transpose().reset_index()\n",
        "d_f.columns=['Themes', 'occurences']\n",
        "d_f.occurences = d_f.occurences.apply(lambda x:(x/d_f.occurences.sum())*100)\n",
        "d_f['sexe'] = 'Female'\n",
        "arr =df[df.sexe == 1].Tags.apply(lambda x: str(x).split(',')).array\n",
        "arr = reduce(add,arr)\n",
        "c = Counter(arr)\n",
        "d_m = pd.DataFrame(c, index=['occurrences']).transpose().reset_index()\n",
        "d_m.columns=['Themes', 'occurences']\n",
        "d_m.occurences = d_m.occurences.apply(lambda x:(x/d_m.occurences.sum())*100)\n",
        "d_m['sexe'] = 'Male'\n",
        "d = pd.concat([d_f,d_m])\n",
        "plt.figure(figsize=(13,13))\n",
        "plt.subplot(221)\n",
        "sns.barplot(data = d[(d.occurences >= 0.5) & (d.Themes.apply(len) >0) & (d.sexe == 'Male')].sort_values('occurences',ascending=False).head(15),\n",
        "            y='Themes',\n",
        "            x='occurences',\n",
        "           color='pink')\n",
        "plt.title(\"Tags for mens\")\n",
        "plt.subplot(222)\n",
        "sns.barplot(data = d[(d.occurences >= 0.6) & (d.Themes.apply(len) >0) & (d.sexe == 'Female')].sort_values('occurences',ascending=False).head(15),\n",
        "            y='Themes',\n",
        "            x='occurences',\n",
        "           color = 'brown')\n",
        "plt.title(\"Tags for women\")\n",
        "plt.subplots_adjust(wspace = 1.5)"
      ],
      "execution_count": 0,
      "outputs": [
        {
          "output_type": "display_data",
          "data": {
            "image/png": "[encoded data removed]",
            "text/plain": [
              "<Figure size 936x936 with 2 Axes>"
            ]
          },
          "metadata": {
            "tags": [],
            "needs_background": "light"
          }
        }
      ]
    },
    {
      "cell_type": "markdown",
      "metadata": {
        "id": "178NORd2w1oj",
        "colab_type": "text"
      },
      "source": [
        "Men and women are not talking about the same subjects. If women are more likely to speak about Society and Health, men are more likely to speak about international relations and economics. "
      ]
    },
    {
      "cell_type": "code",
      "metadata": {
        "colab_type": "code",
        "id": "1mXbfcADbHIi",
        "outputId": "52e65616-3a34-44fd-8630-bc9cee8e0272",
        "colab": {
          "base_uri": "https://localhost:8080/",
          "height": 404
        }
      },
      "source": [
        "df.Theme.fillna('',inplace=True)\n",
        "arr =df[df.sexe == 1].Theme.apply(lambda x: str(x).split(',')).array\n",
        "arr = reduce(add,arr)\n",
        "c = Counter(arr)\n",
        "d_m = pd.DataFrame(c, index=['occurrences']).transpose().reset_index()\n",
        "d_m.columns=['Themes', 'occurences']\n",
        "d_m.occurences = d_m.occurences.apply(lambda x:(x/d_m.occurences.sum())*100)\n",
        "d_m['sexe'] = 'Male'\n",
        "arr =df[df.sexe == 2].Theme.apply(lambda x: str(x).split(',')).array\n",
        "arr = reduce(add,arr)\n",
        "c = Counter(arr)\n",
        "d_f = pd.DataFrame(c, index=['occurrences']).transpose().reset_index()\n",
        "d_f.columns=['Themes', 'occurences']\n",
        "d_f.occurences = d_f.occurences.apply(lambda x:(x/d_f.occurences.sum())*100)\n",
        "d_f['sexe'] = 'Female'\n",
        "d = pd.concat([d_m,d_f])\n",
        "plt.figure(figsize=(10,6))\n",
        "sns.barplot(data = d[d.Themes != ''],hue = 'sexe',x='Themes',y='occurences')\n",
        "plt.title('Répartition des thèmes des élocutions en fonction du sexe')\n",
        "plt.xticks(rotation=0)\n",
        "plt.show()"
      ],
      "execution_count": 0,
      "outputs": [
        {
          "output_type": "display_data",
          "data": {
            "image/png": "[encoded data removed]",
            "text/plain": [
              "<Figure size 720x432 with 1 Axes>"
            ]
          },
          "metadata": {
            "tags": [],
            "needs_background": "light"
          }
        }
      ]
    },
    {
      "cell_type": "markdown",
      "metadata": {
        "id": "UiU-tBaVw1on",
        "colab_type": "text"
      },
      "source": [
        "We represent the same chart but with a lower level of granularity in themes. The same conclustion can be drawn. "
      ]
    },
    {
      "cell_type": "markdown",
      "metadata": {
        "id": "lrCOKWHTw1on",
        "colab_type": "text"
      },
      "source": [
        "After this brief introduction we will dive into our texts. The next section focuses on cleaning and preprocessing our texts. We will try to construct some quantitative metrics that could be , in our opinion, explanatory features to differenciate female and male speakers. \n"
      ]
    },
    {
      "cell_type": "markdown",
      "metadata": {
        "colab_type": "text",
        "id": "tcGyTSDxbZC4"
      },
      "source": [
        "### Word-level preprocessing"
      ]
    },
    {
      "cell_type": "markdown",
      "metadata": {
        "id": "C0OW7SHLw1op",
        "colab_type": "text"
      },
      "source": [
        "Let's try different tokenizers ! "
      ]
    },
    {
      "cell_type": "code",
      "metadata": {
        "colab_type": "code",
        "id": "M2KhPmY9bJr6",
        "colab": {}
      },
      "source": [
        "tokenizer = Tokenizer(nlp.vocab)\n",
        "toknizer = RegexpTokenizer(r'''\\w'|\\w+|[^\\w\\s]''')"
      ],
      "execution_count": 0,
      "outputs": []
    },
    {
      "cell_type": "code",
      "metadata": {
        "id": "-UMiYbPAw1os",
        "colab_type": "code",
        "colab": {},
        "outputId": "fbe44bab-da5b-448d-bc03-2d9d2deb8a19"
      },
      "source": [
        "print(len([w for w in tokenizer(df.Texte[0])]))"
      ],
      "execution_count": 0,
      "outputs": [
        {
          "output_type": "stream",
          "text": [
            "1702\n"
          ],
          "name": "stdout"
        }
      ]
    },
    {
      "cell_type": "code",
      "metadata": {
        "id": "Rf0vpVUxw1ou",
        "colab_type": "code",
        "colab": {},
        "outputId": "2cdddbf1-9c54-4ebb-a7c6-41d365c3bc63"
      },
      "source": [
        "([w for w in tokenizer(df.Texte[0])])[0:10]"
      ],
      "execution_count": 0,
      "outputs": [
        {
          "output_type": "execute_result",
          "data": {
            "text/plain": [
              "[Messieurs,Je, suis, heureux, de, vous, saluer., Quand, je, dis, que]"
            ]
          },
          "metadata": {
            "tags": []
          },
          "execution_count": 18
        }
      ]
    },
    {
      "cell_type": "code",
      "metadata": {
        "id": "DsFuxRJ0w1o1",
        "colab_type": "code",
        "colab": {},
        "outputId": "e64ef5dc-3955-42b9-d812-3d2f26313251"
      },
      "source": [
        "print(len(word_tokenize(df.Texte[0], language='french')))"
      ],
      "execution_count": 0,
      "outputs": [
        {
          "output_type": "stream",
          "text": [
            "1932\n"
          ],
          "name": "stdout"
        }
      ]
    },
    {
      "cell_type": "code",
      "metadata": {
        "id": "Bu-u3GqSw1o7",
        "colab_type": "code",
        "colab": {},
        "outputId": "88d2a2cc-fafe-4675-acf6-a8b294430307"
      },
      "source": [
        "word_tokenize(df.Texte[0], language='french')[0:10]"
      ],
      "execution_count": 0,
      "outputs": [
        {
          "output_type": "execute_result",
          "data": {
            "text/plain": [
              "['Messieurs',\n",
              " ',',\n",
              " 'Je',\n",
              " 'suis',\n",
              " 'heureux',\n",
              " 'de',\n",
              " 'vous',\n",
              " 'saluer',\n",
              " '.',\n",
              " 'Quand']"
            ]
          },
          "metadata": {
            "tags": []
          },
          "execution_count": 20
        }
      ]
    },
    {
      "cell_type": "code",
      "metadata": {
        "colab_type": "code",
        "id": "B9kMs_kHbg3n",
        "outputId": "86e02a8d-4d9c-4ca9-cfc9-9134f36350c8",
        "colab": {
          "base_uri": "https://localhost:8080/",
          "height": 68
        }
      },
      "source": [
        "print(len(toknizer.tokenize(df.Texte[0])))"
      ],
      "execution_count": 0,
      "outputs": [
        {
          "output_type": "stream",
          "text": [
            "2135\n"
          ],
          "name": "stdout"
        }
      ]
    },
    {
      "cell_type": "code",
      "metadata": {
        "id": "qgCeSmN4w1pK",
        "colab_type": "code",
        "colab": {},
        "outputId": "99ec48c0-1d3c-4ade-a562-c9e408979420"
      },
      "source": [
        "toknizer.tokenize(df.Texte[0])[0:10]"
      ],
      "execution_count": 0,
      "outputs": [
        {
          "output_type": "execute_result",
          "data": {
            "text/plain": [
              "['Messieurs',\n",
              " ',',\n",
              " 'Je',\n",
              " 'suis',\n",
              " 'heureux',\n",
              " 'de',\n",
              " 'vous',\n",
              " 'saluer',\n",
              " '.',\n",
              " 'Quand']"
            ]
          },
          "metadata": {
            "tags": []
          },
          "execution_count": 22
        }
      ]
    },
    {
      "cell_type": "code",
      "metadata": {
        "id": "1TJi1t7hw1pO",
        "colab_type": "code",
        "colab": {},
        "outputId": "5eaa689a-b596-40ee-807f-c600ceb250c5"
      },
      "source": [
        "toknizer.tokenize(df.Texte[0])[0:10]"
      ],
      "execution_count": 0,
      "outputs": [
        {
          "output_type": "execute_result",
          "data": {
            "text/plain": [
              "['Messieurs',\n",
              " ',',\n",
              " 'Je',\n",
              " 'suis',\n",
              " 'heureux',\n",
              " 'de',\n",
              " 'vous',\n",
              " 'saluer',\n",
              " '.',\n",
              " 'Quand']"
            ]
          },
          "metadata": {
            "tags": []
          },
          "execution_count": 23
        }
      ]
    },
    {
      "cell_type": "markdown",
      "metadata": {
        "colab_type": "text",
        "id": "zuD_cLJHcCGe"
      },
      "source": [
        "The NLTK tokenizer tokenizes punctuation whereas the spacy one does not. We decide to switch to the NLTK tokenizer."
      ]
    },
    {
      "cell_type": "code",
      "metadata": {
        "id": "-CA2jsoMw1pR",
        "colab_type": "code",
        "colab": {},
        "outputId": "2c3fec11-a65b-4457-9ac8-bab8accf5943"
      },
      "source": [
        "print('Length of spacy stopwords list is {} and length of NLTK stopwords list is {} '.format(len(list(fr_stop)),len(stopwords.words('french'))))"
      ],
      "execution_count": 0,
      "outputs": [
        {
          "output_type": "stream",
          "text": [
            "Length of spacy stopwords list is 602 and length of NLTK stopwords list is 157 \n"
          ],
          "name": "stdout"
        }
      ]
    },
    {
      "cell_type": "code",
      "metadata": {
        "colab_type": "code",
        "id": "fR4HOCkDbla4",
        "colab": {}
      },
      "source": [
        "As the NLTK sent detector is far from being optimal we tried to detect sentences with the 'sent_detector_mano' function which seems to work much better on our corpus."
      ],
      "execution_count": 0,
      "outputs": []
    },
    {
      "cell_type": "markdown",
      "metadata": {
        "id": "WDB37cC0BhSJ",
        "colab_type": "text"
      },
      "source": [
        "We also added a way to clean the \n",
        "politeness formulation like 'Madame' or 'Monsieur' because they always occur in the beggining of our document."
      ]
    },
    {
      "cell_type": "code",
      "metadata": {
        "id": "3cP_apjJw1pW",
        "colab_type": "code",
        "colab": {}
      },
      "source": [
        "df['NbToken'] = df.Texte.apply(lambda x : len(word_tokenize(x,language='french')))\n",
        "df['Token'] = df.Texte.apply(lambda x : word_tokenize(x,language='french'))"
      ],
      "execution_count": 0,
      "outputs": []
    },
    {
      "cell_type": "code",
      "metadata": {
        "colab_type": "code",
        "id": "ga5ub5wQrpu5",
        "colab": {}
      },
      "source": [
        "lst_nom = [nom for nom in set(df.Nom+ ' ' +df.Prenom) if nom not in 'ministère'] + [nom for nom in set(df.Prenom+ ' ' +df.Nom) if nom not in 'ministère']+ [nom for nom in set(df.Prenom) if nom != 'ministère'] + [nom for nom in set(df.Nom) if nom != 'ministère']\n",
        "cleanFast = lst_nom + ['Mr','M','Mme','Madame','Monsieur','monsieur','madame','mme','mr','mesdames','messieurs']"
      ],
      "execution_count": 0,
      "outputs": []
    },
    {
      "cell_type": "code",
      "metadata": {
        "colab_type": "code",
        "id": "wwsQNFwNT2Sf",
        "outputId": "39203272-e060-4ffd-ba0a-7158f1b2f110",
        "colab": {
          "base_uri": "https://localhost:8080/",
          "height": 34
        }
      },
      "source": [
        "import multiprocessing as mp\n",
        "print(\"Number of processors: \", mp.cpu_count())"
      ],
      "execution_count": 0,
      "outputs": [
        {
          "output_type": "stream",
          "text": [
            "Number of processors:  8\n"
          ],
          "name": "stdout"
        }
      ]
    },
    {
      "cell_type": "markdown",
      "metadata": {
        "id": "VlbEd-L3w1pe",
        "colab_type": "text"
      },
      "source": [
        "add_features()\n",
        "Usefull for parallel processing\n",
        "Input : DataFrame\n",
        "Output : DataFrame with new columns created\n",
        "\n",
        "para_df()\n",
        "Parralelisation\n",
        "Input : \n",
        "      df : DataFrame\n",
        "      func : function to return data\n",
        "      n_cores : number of cores\n",
        "Output : \n",
        "      df with new columns\n",
        "  \"\"\""
      ]
    },
    {
      "cell_type": "code",
      "metadata": {
        "colab_type": "code",
        "id": "Fa7VMJ7LVVyS",
        "colab": {}
      },
      "source": [
        "def add_features(df):\n",
        "    from multiprocessing import Pool\n",
        "    nlp = spacy.load('fr_core_news_md') \n",
        "    df['NbCleanToken'] = df.Texte.apply(lambda x : len(cleanToken(x)))\n",
        "    df['NbSyllables'] = df.Texte.apply(NbSyllables)\n",
        "    df['NbMot'] = df.Texte.apply(extraire_nb_mot)\n",
        "    df['Phrases'] = df.Texte.apply(sent_detector_mano)\n",
        "    df['NbPhrases'] = df.Texte.apply(lambda x:len(sent_detector_mano(x)))\n",
        "    df['CleanToken'] = df.Texte.apply(cleanToken)\n",
        "    df.CleanToken = df.apply(lambda row : FastCleaner(row.CleanToken,cleanFast),axis=1)\n",
        "    df['NbCleanToken']=df.CleanToken.apply(len)\n",
        "    df['NbPonct'] = df.Texte.apply(count_punct)\n",
        "    df['NbSw'] = df.Token.apply(count_stopwords)\n",
        "    df['Hapaxlegomena']=df.CleanToken.apply(Hapaxlegomena)\n",
        "    df['Hapaxdislegomena']= df.CleanToken.apply(Hapaxdislegomena)\n",
        "    df['UniqueWordTx']= df.CleanToken.apply(lambda x:len(set(x))/len(x))\n",
        "    #df['RateCleanRaw'] = df.NbCleanToken/df.NbToken\n",
        "    df['NbNom'],df['NbDet'],df['NbPunct'],df['NbAdj'],df['NbAdp'],df['NbPron'],df['NbVerb'],df['NbCconj'],df['NbNum'],df['NbPropn'],df['NbAdv'],df['NbSCONJ'],df['NbAUX'],df['NbIntj']=zip(*df.Texte.apply(extractPos))\n",
        "    df['NbArt']= df.Texte.apply(nbArt)\n",
        "    df['F_mesure'] = df.apply(lambda row: f_mesure(row.NbToken,row.NbNom,row.NbAdj,row.NbAdp,row.NbArt,row.NbPron,row.NbVerb,row.NbAdv,row.NbIntj),axis=1)\n",
        "    df['PronJe']=df.apply(lambda row : Pron_Type(row.Texte,nlp),axis=1)\n",
        "    df['PronNous']=df.apply(lambda row : Pron_Type_Plur(row.Texte,nlp),axis=1)\n",
        "    df['NbPres'],df['NbPast'],df['NbFut'],df['NbImp']  = zip(*df.apply(lambda row : Verb_Tens(row.Texte,nlp),axis=1))\n",
        "    df['NbQuest']= df.apply(lambda row : Quest(row.Texte,nlp),axis=1)\n",
        "    df['NbExcl']= df.apply(lambda row  : Excl(row.Texte,nlp),axis=1)\n",
        "    return df\n",
        "def para_df(df,func,n_cores = mp.cpu_count()):\n",
        "    from multiprocessing import Pool\n",
        "    df_split = np.array_split(df,n_cores)\n",
        "    pool = Pool(n_cores)\n",
        "    df = pd.concat(pool.map(func,df_split))\n",
        "    pool.close()\n",
        "    pool.join()\n",
        "    return df"
      ],
      "execution_count": 0,
      "outputs": []
    },
    {
      "cell_type": "code",
      "metadata": {
        "id": "8vpUrfFxw1pg",
        "colab_type": "code",
        "colab": {}
      },
      "source": [
        "df['NbNom'],df['NbDet'],df['NbPunct'],df['NbAdj'],df['NbAdp'],df['NbPron'],df['NbVerb'],df['NbCconj'],df['NbNum'],df['NbPropn'],df['NbAdv'],df['NbSCONJ'],df['NbAUX'],df['NbIntj']=zip(*df.Texte.apply(extractPos))\n",
        " "
      ],
      "execution_count": 0,
      "outputs": []
    },
    {
      "cell_type": "code",
      "metadata": {
        "id": "J4e0KxuKw1pj",
        "colab_type": "code",
        "colab": {}
      },
      "source": [
        "df['NbMot'] = df.Texte.apply(extraire_nb_mot)"
      ],
      "execution_count": 0,
      "outputs": []
    },
    {
      "cell_type": "code",
      "metadata": {
        "id": "P8VY-sf2w1pl",
        "colab_type": "code",
        "colab": {}
      },
      "source": [
        "df['PronJe']=df.apply(lambda row : Pron_Type(row.Texte,nlp),axis=1)\n",
        "df['PronNous']=df.apply(lambda row : Pron_Type_Plur(row.Texte,nlp),axis=1)\n",
        "#Mettre tout en meme temps "
      ],
      "execution_count": 0,
      "outputs": []
    },
    {
      "cell_type": "code",
      "metadata": {
        "id": "A-AtkBNCw1po",
        "colab_type": "code",
        "colab": {}
      },
      "source": [
        "df['NbPres'],df['NbPast'],df['NbFut'],df['NbImp']  = zip(*df.apply(lambda row : Verb_Tens(row.Texte,nlp),axis=1))\n",
        "df['NbQuest']= df.apply(lambda row : Quest(row.Texte,nlp),axis=1)\n",
        "df['NbExcl']= df.apply(lambda row  : Excl(row.Texte,nlp),axis=1)"
      ],
      "execution_count": 0,
      "outputs": []
    },
    {
      "cell_type": "code",
      "metadata": {
        "id": "I_myCPSdw1pr",
        "colab_type": "code",
        "colab": {}
      },
      "source": [
        "df['NbArt']= df.Texte.apply(nbArt)\n",
        "df['F_mesure'] = df.apply(lambda row: f_mesure(row.NbToken,row.NbNom,row.NbAdj,row.NbAdp,row.NbArt,row.NbPron,row.NbVerb,row.NbAdv,row.NbIntj),axis=1)"
      ],
      "execution_count": 0,
      "outputs": []
    },
    {
      "cell_type": "code",
      "metadata": {
        "id": "2QfUl5Wnw1pt",
        "colab_type": "code",
        "colab": {}
      },
      "source": [
        "df['CleanToken'] = df.Texte.apply(cleanToken)\n",
        "df['Hapaxlegomena']=df.CleanToken.apply(Hapaxlegomena)\n",
        "df['Hapaxdislegomena']= df.CleanToken.apply(Hapaxdislegomena)\n",
        "df['UniqueWordTx']= df.CleanToken.apply(lambda x:len(set(x))/len(x))"
      ],
      "execution_count": 0,
      "outputs": []
    },
    {
      "cell_type": "code",
      "metadata": {
        "id": "Ri5c-y_mw1py",
        "colab_type": "code",
        "colab": {}
      },
      "source": [
        "plt.figure(figsize=(14,14))\n",
        "plt.subplot(2, 2, 1)\n",
        "sns.distplot(df[df.sexe == 2]['Hapaxlegomena'])\n",
        "sns.distplot(df[df.sexe == 1]['Hapaxlegomena'])\n",
        "plt.subplot(2, 2, 2)\n",
        "sns.distplot(df[df.sexe == 2]['Hapaxdislegomena'])\n",
        "sns.distplot(df[df.sexe == 1]['Hapaxdislegomena'])\n",
        "plt.subplot(2, 2, 3)\n",
        "sns.distplot(df[df.sexe == 2]['UniqueWordTx'])\n",
        "sns.distplot(df[df.sexe == 1]['UniqueWordTx'])\n",
        "plt.subplot(2, 2, 4)\n",
        "sns.distplot(df[df.sexe == 2]['F_mesure'])\n",
        "sns.distplot(df[df.sexe == 1]['F_mesure'])\n",
        "plt.show()"
      ],
      "execution_count": 0,
      "outputs": []
    },
    {
      "cell_type": "code",
      "metadata": {
        "colab_type": "code",
        "id": "VnXnxkAfWjfX",
        "colab": {}
      },
      "source": [
        "#df = para_df(df,add_features)"
      ],
      "execution_count": 0,
      "outputs": []
    },
    {
      "cell_type": "code",
      "metadata": {
        "colab_type": "code",
        "id": "z0yxJg_Cxe4O",
        "colab": {}
      },
      "source": [
        "df[['NbNom_prec']]=df[['NbNom']].div(df.NbMot,axis=0)\n",
        "\n",
        "df[['NbDet_prec']]=df[['NbDet']].div(df.NbMot,axis=0)\n",
        "\n",
        "df[['NbAdj_prec']]=df[['NbAdj']].div(df.NbMot,axis=0)\n",
        "\n",
        "df[['NbPron_prec','NbVerb_perc','NbAUX_perc']]=df[['NbPron','NbVerb','NbAUX']].div(df.NbMot,axis=0)"
      ],
      "execution_count": 0,
      "outputs": []
    },
    {
      "cell_type": "code",
      "metadata": {
        "colab_type": "code",
        "id": "4HWSCj0-x-JH",
        "colab": {}
      },
      "source": [
        "plt.figure(figsize=(14,14))\n",
        "plt.subplot(2, 2, 1)\n",
        "sns.distplot(df[df.sexe == 2]['NbNom_prec'])\n",
        "sns.distplot(df[df.sexe == 1]['NbNom_prec'])\n",
        "plt.subplot(2, 2, 2)\n",
        "sns.distplot(df[df.sexe == 2]['NbAdj_prec'])\n",
        "sns.distplot(df[df.sexe == 1]['NbAdj_prec'])\n",
        "plt.subplot(2, 2, 3)\n",
        "sns.distplot(df[df.sexe == 2]['NbPron_prec'])\n",
        "sns.distplot(df[df.sexe == 1]['NbPron_prec'])\n",
        "plt.subplot(2, 2, 4)\n",
        "sns.distplot(df[df.sexe == 2]['NbVerb_perc'])\n",
        "sns.distplot(df[df.sexe == 1]['NbVerb_perc'])\n",
        "plt.show()"
      ],
      "execution_count": 0,
      "outputs": []
    },
    {
      "cell_type": "markdown",
      "metadata": {
        "colab_type": "text",
        "id": "VDlaoX0hyFPR"
      },
      "source": [
        "More over, what is interresting to observe is what type of pronoum women and men use.\n"
      ]
    },
    {
      "cell_type": "code",
      "metadata": {
        "colab_type": "code",
        "id": "PjPE7npPyBj0",
        "colab": {}
      },
      "source": [
        "lst=[ 'NbSyllables','NbPhrases','NbMot','NbToken','NbCleanToken', 'NbPonct', 'NbSw','Hapaxlegomena', 'Hapaxdislegomena', \n",
        "       'UniqueWordTx', 'RateCleanRaw','NbNom', 'NbDet', 'NbPunct', 'NbAdj', 'NbAdp', 'NbPron', 'NbVerb',\n",
        "        'NbCconj', 'NbNum', 'NbPropn', 'NbAdv', 'NbSCONJ', 'NbAUX', 'NbIntj','NbArt', 'F_mesure'\n",
        "        ]\n",
        "lst = lst + ['NbNom_prec','NbDet_prec','NbAdj_prec',\n",
        "    'NbPron_prec','NbVerb_perc','NbAUX_perc']\n",
        "df[['PronJe_perc','PronNous_perc']]=df[['PronJe','PronNous']].div(df.NbMot,axis=0)\n",
        "lst = lst + ['PronJe_perc','PronNous_perc']\n",
        "plt.figure(figsize=(14,14))\n",
        "plt.subplot(2, 2, 1)\n",
        "sns.distplot(df[df.sexe == 2]['PronJe_perc'])\n",
        "sns.distplot(df[df.sexe == 1]['PronJe_perc'])\n",
        "plt.subplot(2, 2, 2)\n",
        "sns.distplot(df[df.sexe == 2]['PronNous_perc'] )\n",
        "sns.distplot(df[df.sexe == 1]['PronNous_perc'])\n",
        "plt.show()"
      ],
      "execution_count": 0,
      "outputs": []
    },
    {
      "cell_type": "markdown",
      "metadata": {
        "colab_type": "text",
        "id": "VtC1QWlwyjc5"
      },
      "source": [
        "De plus grosses différences sur le j en terme de distr mais une queue de distribution plus importante pour les nous en bas ( à voir finalement si je divise par le nombre de pronom pas vraiment. "
      ]
    },
    {
      "cell_type": "code",
      "metadata": {
        "colab_type": "code",
        "id": "zJpzzspoKTrP",
        "colab": {}
      },
      "source": [
        "df[['NbQuest_perc','NbExcl_perc']]=df[['NbQuest','NbExcl']].div(df.NbToken,axis=0)\n",
        "plt.figure(figsize=(14,14))\n",
        "plt.subplot(2, 2, 1)\n",
        "sns.distplot(df[df.sexe == 2]['NbQuest_perc'])\n",
        "sns.distplot(df[df.sexe == 1]['NbQuest_perc'])\n",
        "plt.subplot(2, 2, 2)\n",
        "sns.distplot(df[df.sexe == 2]['NbExcl_perc'])\n",
        "sns.distplot(df[df.sexe == 1]['NbExcl_perc'])\n",
        "plt.show()"
      ],
      "execution_count": 0,
      "outputs": []
    },
    {
      "cell_type": "markdown",
      "metadata": {
        "colab_type": "text",
        "id": "rxiSTXIreBIp"
      },
      "source": [
        "### Sentiment extraction using FEEL (French Expanded Emotion Lexicon)\n",
        "\n",
        "http://advanse.lirmm.fr/feel.php"
      ]
    },
    {
      "cell_type": "code",
      "metadata": {
        "colab_type": "code",
        "id": "Dmkgn8wtd4Ai",
        "colab": {}
      },
      "source": [
        "feel = pd.read_csv('FEEL.csv',sep=';')\n",
        "feel.set_index('id',inplace=True)\n",
        "feel.sample(10)"
      ],
      "execution_count": 0,
      "outputs": []
    },
    {
      "cell_type": "code",
      "metadata": {
        "colab_type": "code",
        "id": "rzWfRRKYewtZ",
        "colab": {}
      },
      "source": [
        "extraction_emotion(cleanTokenLemme(df.Texte[0],cleanFast))"
      ],
      "execution_count": 0,
      "outputs": []
    },
    {
      "cell_type": "code",
      "metadata": {
        "colab_type": "code",
        "id": "D31ZMkbTfGyv",
        "colab": {}
      },
      "source": [
        "check_polarity(cleanTokenLemme(df.Texte[0],cleanFast))"
      ],
      "execution_count": 0,
      "outputs": []
    },
    {
      "cell_type": "code",
      "metadata": {
        "colab_type": "code",
        "id": "eScsPiY6fVPi",
        "colab": {}
      },
      "source": [
        "def add_features2(df):\n",
        "    \"\"\"\n",
        "    Sert pour la parallélisation\n",
        "    Input : DataFrame\n",
        "    Output : DataFrame avec les nouvelles colonnes crée\n",
        "  \"\"\"\n",
        "    df['CleanTokensLemme'] = df.apply(lambda row : cleanTokenLemme(row.Texte,cleanFast),axis=1)\n",
        "    df['PolPos'],df['PolNeg'],df['PolUnk'] = zip(*df.CleanTokensLemme.apply(check_polarity))\n",
        "    df['FreqJoie'],df['FreqPeur'],df['FreqSad'],df['FreqColere'],df['FreqSurprise'],df['FreqDegout'] = zip(*df.CleanTokensLemme.apply(extraction_emotion))\n",
        "    return df"
      ],
      "execution_count": 0,
      "outputs": []
    },
    {
      "cell_type": "code",
      "metadata": {
        "id": "11mYFtZ0w1qj",
        "colab_type": "code",
        "colab": {}
      },
      "source": [
        "df['CleanTokensLemme'] = df.apply(lambda row : cleanTokenLemme(row.Texte,cleanFast),axis=1)\n",
        "df['PolPos'],df['PolNeg'],df['PolUnk'] = zip(*df.CleanTokensLemme.apply(check_polarity))\n",
        "df['FreqJoie'],df['FreqPeur'],df['FreqSad'],df['FreqColere'],df['FreqSurprise'],df['FreqDegout'] = zip(*df.CleanTokensLemme.apply(extraction_emotion))\n"
      ],
      "execution_count": 0,
      "outputs": []
    },
    {
      "cell_type": "code",
      "metadata": {
        "colab_type": "code",
        "id": "qW00vTx7gFLO",
        "colab": {}
      },
      "source": [
        "#df = para_df(df,add_features2)"
      ],
      "execution_count": 0,
      "outputs": []
    },
    {
      "cell_type": "code",
      "metadata": {
        "colab_type": "code",
        "id": "qaKhdblngtWi",
        "colab": {}
      },
      "source": [
        "plt.figure(figsize=(14,14))\n",
        "plt.subplot(2, 2, 1)\n",
        "sns.distplot(df[df.sexe == 2]['FreqJoie'])\n",
        "sns.distplot(df[df.sexe == 1]['FreqJoie'])\n",
        "plt.subplot(2, 2, 2)\n",
        "sns.distplot(df[df.sexe == 2]['FreqPeur'])\n",
        "sns.distplot(df[df.sexe == 1]['FreqPeur'])\n",
        "plt.subplot(2, 2, 3)\n",
        "sns.distplot(df[df.sexe == 2]['FreqSad'])\n",
        "sns.distplot(df[df.sexe == 1]['FreqSad'])\n",
        "plt.subplot(2, 2, 4)\n",
        "sns.distplot(df[df.sexe == 2]['FreqColere'])\n",
        "sns.distplot(df[df.sexe == 1]['FreqColere'])\n",
        "plt.show()"
      ],
      "execution_count": 0,
      "outputs": []
    },
    {
      "cell_type": "markdown",
      "metadata": {
        "colab_type": "text",
        "id": "r2Qk2_3mdUzB"
      },
      "source": [
        "\n",
        "## Passons désormais au n-grams\n",
        "\n",
        "Utilisation des tokens cleané et lemmatizer pour obtenir le n-gram\n",
        "Il est possible de voir que le bi-gram ne semble par très pertinant au regard des mots qui ressortent et qui semble ne pas trop varier en fonction du sexe. \n",
        "\n",
        "Mo : Faudrait peut être même faire ca avant ? "
      ]
    },
    {
      "cell_type": "code",
      "metadata": {
        "id": "ToyKcNMww1qv",
        "colab_type": "code",
        "colab": {}
      },
      "source": [
        "df.Texte = df.Texte.apply(lambda x : x.replace('\\xa0','').replace('\\x85','').replace('\\x96','').replace('\\x92',\"'\").replace('\\x80','').replace('\\xc3',''))\n",
        "df.Texte = df.Texte.apply(remove_source)"
      ],
      "execution_count": 0,
      "outputs": []
    },
    {
      "cell_type": "code",
      "metadata": {
        "id": "Kh2fxY3Iw1qx",
        "colab_type": "code",
        "colab": {}
      },
      "source": [
        ""
      ],
      "execution_count": 0,
      "outputs": []
    },
    {
      "cell_type": "code",
      "metadata": {
        "id": "HbA0ULVSw1qy",
        "colab_type": "code",
        "colab": {}
      },
      "source": [
        "from tqdm import tqdm\n",
        "def tokenize_sent(corpus):\n",
        "    tokenizer = Tokenizer(nlp.vocab)\n",
        "    tokenized_sentences = []\n",
        "    for sample in tqdm(corpus):\n",
        "        for sentence in sent_detector.tokenize(sample):\n",
        "            tokens = toknizer.tokenize(sentence)\n",
        "            tokens = list(map(lambda x: x.lower(), tokens))\n",
        "            tokenized_sentences.append(tokens)\n",
        "    return tokenized_sentences"
      ],
      "execution_count": 0,
      "outputs": []
    },
    {
      "cell_type": "code",
      "metadata": {
        "id": "nGYtfJjsw1q0",
        "colab_type": "code",
        "colab": {}
      },
      "source": [
        "#toknizer.tokenize(sent_detector.tokenize(df.Texte[0])[0])"
      ],
      "execution_count": 0,
      "outputs": []
    },
    {
      "cell_type": "code",
      "metadata": {
        "id": "ahNvTOi_w1q2",
        "colab_type": "code",
        "colab": {}
      },
      "source": [
        "cleaned_corp = tokenize_sent(df.Texte.array)"
      ],
      "execution_count": 0,
      "outputs": []
    },
    {
      "cell_type": "code",
      "metadata": {
        "id": "0HbWRQFzw1q4",
        "colab_type": "code",
        "colab": {}
      },
      "source": [
        "from gensim.models.phrases import Phrases, Phraser\n",
        "\n",
        "def show_phrases(tokenized_sentences, threshold=100, shown=15):\n",
        "    phrases = Phrases(tokenized_sentences, threshold=threshold)\n",
        "    i = 0\n",
        "    for phrase, score in phrases.export_phrases(tokenized_sentences):\n",
        "        if i>shown:\n",
        "            break\n",
        "        else:\n",
        "            print(\"Expression : {0}, score = {1}\".format(phrase, score))\n",
        "    i=i+1"
      ],
      "execution_count": 0,
      "outputs": []
    },
    {
      "cell_type": "code",
      "metadata": {
        "id": "Z-iI0_LLw1q7",
        "colab_type": "code",
        "colab": {}
      },
      "source": [
        "show_phrases(cleaned_corp)"
      ],
      "execution_count": 0,
      "outputs": []
    },
    {
      "cell_type": "code",
      "metadata": {
        "id": "Xr2SUtD5w1q9",
        "colab_type": "code",
        "colab": {}
      },
      "source": [
        "def clean_corpus(corpus, threshold=100):\n",
        "    tokenized_sentences = tokenize_sent(corpus)\n",
        "    phrases = Phrases(tokenized_sentences, threshold=threshold)\n",
        "    phraser = Phraser(phrases)\n",
        "    \n",
        "    clean_corpus = []\n",
        "    for sample in corpus:\n",
        "        clean_corpus.append(phraser[sample])\n",
        "    return clean_corpus"
      ],
      "execution_count": 0,
      "outputs": []
    },
    {
      "cell_type": "code",
      "metadata": {
        "id": "fW6_0_lDw1q-",
        "colab_type": "code",
        "colab": {}
      },
      "source": [
        "clean_corpus_gensim =clean_corpus(df.Token.array)"
      ],
      "execution_count": 0,
      "outputs": []
    },
    {
      "cell_type": "code",
      "metadata": {
        "id": "AWXMfJn7w1rA",
        "colab_type": "code",
        "colab": {}
      },
      "source": [
        "df['gensim']=pd.DataFrame([clean_corpus_gensim]).transpose()"
      ],
      "execution_count": 0,
      "outputs": []
    },
    {
      "cell_type": "code",
      "metadata": {
        "id": "6quVxHcBw1rB",
        "colab_type": "code",
        "colab": {}
      },
      "source": [
        "# Metre le wordcloud après gensim "
      ],
      "execution_count": 0,
      "outputs": []
    },
    {
      "cell_type": "code",
      "metadata": {
        "id": "JgASnLAuw1rD",
        "colab_type": "code",
        "colab": {}
      },
      "source": [
        "import numpy as np\n",
        "woman = np.array(Image.open(\"femme2.png\"))\n",
        "wc = WordCloud(background_color=\"white\", max_words=100, mask=woman,\n",
        "               stopwords=list(fr_stop)+[\"c'est\",\"d'un\",\"d'une\",\"qu'il\",\"n'est\",\"j'ai\",\"qu'elle\"], contour_width=0.5, contour_color='black')\n",
        "arr = reduce(add,df[df.sexe == 2].CleanToken.array)\n",
        "corpus_f = ' '.join(arr)\n",
        "wc.generate(corpus_f)\n",
        "man = np.array(Image.open(\"homme.png\"))\n",
        "wc2 = WordCloud(background_color=\"white\", max_words=100, mask=man,\n",
        "               stopwords=list(fr_stop)+[\"c'est\",\"d'un\",\"d'une\",\"qu'il\",\"n'est\",\"j'ai\",\"qu'elle\"], contour_width=1, contour_color='black')\n",
        "arr = reduce(add,df[df.sexe == 1].CleanToken.array)\n",
        "corpus_m = ' '.join(arr)\n",
        "wc2.generate(corpus_m)\n",
        "\n",
        "plt.figure(figsize=[10,10])\n",
        "plt.subplot(121)\n",
        "plt.imshow(wc, interpolation='bilinear')\n",
        "plt.axis(\"off\")\n",
        "plt.subplot(122)\n",
        "plt.imshow(wc2, interpolation='bilinear')\n",
        "plt.axis(\"off\")\n",
        "\n",
        "plt.show()\n",
        "\n",
        "#Je veux pas faire la féministe mais ces dessins ? hahaha \n",
        "# Le truc c'est qu'il faut une silhouette en noir et blanc sinon c'est relou à corriger ! "
      ],
      "execution_count": 0,
      "outputs": []
    },
    {
      "cell_type": "code",
      "metadata": {
        "colab_type": "code",
        "id": "GL2ycv52dVee",
        "colab": {}
      },
      "source": [
        "from nltk import ngrams\n",
        "arr = df[df.sexe == 1].CleanTokensLemme.array\n",
        "arr = reduce(add,arr)\n",
        "arr = ' '.join(arr)\n",
        "arr = arr.split()\n",
        "bigram_count = Counter(ngrams(arr, 2))"
      ],
      "execution_count": 0,
      "outputs": []
    },
    {
      "cell_type": "code",
      "metadata": {
        "colab_type": "code",
        "id": "t5KxKMoOg1HV",
        "colab": {}
      },
      "source": [
        "bigram_count.most_common(50)"
      ],
      "execution_count": 0,
      "outputs": []
    },
    {
      "cell_type": "code",
      "metadata": {
        "colab_type": "code",
        "id": "ckYCOnXTg1us",
        "colab": {}
      },
      "source": [
        "arr = df[df.sexe == 2].CleanTokensLemme.array\n",
        "arr = reduce(add,arr)\n",
        "arr = ' '.join(arr)\n",
        "arr = arr.split()\n",
        "bigram_count = Counter(ngrams(arr, 2))"
      ],
      "execution_count": 0,
      "outputs": []
    },
    {
      "cell_type": "code",
      "metadata": {
        "colab_type": "code",
        "id": "fc_iCldLg7Pi",
        "colab": {}
      },
      "source": [
        "bigram_count.most_common(50)"
      ],
      "execution_count": 0,
      "outputs": []
    },
    {
      "cell_type": "markdown",
      "metadata": {
        "colab_type": "text",
        "id": "U6hxAIqnhPAs"
      },
      "source": [
        "Passons aux tri-grams, on remarque déjà la présence toujours de personnes politiques (certains textes sont topés discours ou déclarations mais sont en réalité des interviews). Ensuite, on a énormément de (madame, monsieur + un titre), on supprime?\n",
        "\n",
        "Mo : Pour l'analyse des features comme on le fait la oui on va enlever. Pour les N-grams il faudrait que trier avant et ne prend que les types de mots qui ne sont pas de sprénoms.\n",
        "\n",
        "Mel : Update du 17/03, noramlement c'est bon"
      ]
    },
    {
      "cell_type": "code",
      "metadata": {
        "colab_type": "code",
        "id": "Hj9avA2dg9av",
        "colab": {}
      },
      "source": [
        "arr = df[df.sexe == 1].CleanTokensLemme.array\n",
        "arr = reduce(add,arr)\n",
        "arr = ' '.join(arr)\n",
        "arr = arr.split()\n",
        "trigram_count = Counter(ngrams(arr, 3))"
      ],
      "execution_count": 0,
      "outputs": []
    },
    {
      "cell_type": "code",
      "metadata": {
        "colab_type": "code",
        "id": "RGPkFAEmhZp9",
        "colab": {}
      },
      "source": [
        "trigram_count.most_common(50)"
      ],
      "execution_count": 0,
      "outputs": []
    },
    {
      "cell_type": "code",
      "metadata": {
        "colab_type": "code",
        "id": "yEPmfaaYhba4",
        "colab": {}
      },
      "source": [
        "arr = df[df.sexe == 2].CleanTokensLemme.array\n",
        "arr = reduce(add,arr)\n",
        "arr = ' '.join(arr)\n",
        "arr = arr.split()\n",
        "trigram_count = Counter(ngrams(arr, 3))"
      ],
      "execution_count": 0,
      "outputs": []
    },
    {
      "cell_type": "code",
      "metadata": {
        "colab_type": "code",
        "id": "PPa5K81Rhbd0",
        "colab": {}
      },
      "source": [
        "trigram_count.most_common(50)"
      ],
      "execution_count": 0,
      "outputs": []
    },
    {
      "cell_type": "code",
      "metadata": {
        "colab_type": "code",
        "id": "U5NXtgK8KZB8",
        "colab": {}
      },
      "source": [
        "import numpy as np\n",
        "woman = np.array(Image.open(\"femme2.png\"))\n",
        "wc = WordCloud(background_color=\"white\", max_words=100, mask=woman,\n",
        "               stopwords=list(fr_stop)+[\"c'est\",\"d'un\",\"d'une\",\"qu'il\",\"n'est\",\"j'ai\",\"qu'elle\"], contour_width=0.5, contour_color='black')\n",
        "arr = reduce(add,df[df.sexe == 2].CleanToken.array)\n",
        "corpus_f = ' '.join(arr)\n",
        "wc.generate(corpus_f)\n",
        "man = np.array(Image.open(\"homme.png\"))\n",
        "wc2 = WordCloud(background_color=\"white\", max_words=100, mask=man,\n",
        "               stopwords=list(fr_stop)+[\"c'est\",\"d'un\",\"d'une\",\"qu'il\",\"n'est\",\"j'ai\",\"qu'elle\"], contour_width=1, contour_color='black')\n",
        "arr = reduce(add,df[df.sexe == 1].CleanToken.array)\n",
        "corpus_m = ' '.join(arr)\n",
        "wc2.generate(corpus_m)\n",
        "\n",
        "plt.figure(figsize=[10,10])\n",
        "plt.subplot(121)\n",
        "plt.imshow(wc, interpolation='bilinear')\n",
        "plt.axis(\"off\")\n",
        "plt.subplot(122)\n",
        "plt.imshow(wc2, interpolation='bilinear')\n",
        "plt.axis(\"off\")\n",
        "\n",
        "plt.show()\n",
        "\n",
        "#Je veux pas faire la féministe mais ces dessins ? hahaha \n",
        "# Le truc c'est qu'il faut une silhouette en noir et blanc sinon c'est relou à corriger ! "
      ],
      "execution_count": 0,
      "outputs": []
    },
    {
      "cell_type": "code",
      "metadata": {
        "colab_type": "code",
        "id": "00WEtsQJ9a4P",
        "colab": {}
      },
      "source": [
        "df.to_csv('minimal_df_var.csv')"
      ],
      "execution_count": 0,
      "outputs": []
    },
    {
      "cell_type": "markdown",
      "metadata": {
        "id": "TrVn_Mcq5Frw",
        "colab_type": "text"
      },
      "source": [
        "# Baseline models: \n",
        "\n",
        "In order to make some modelization we only take a substract of the data.\n",
        "We select two dataframes:\n",
        "\n",
        "\n",
        "1.   One with balanced number of women and men\n",
        "2.   Another umbalanced data witch respect the proportion of men/women\n",
        "\n",
        "Both have same shapes (variable and length). \n",
        "We split our dataset in three part : \n",
        "\n",
        "*   Train : 80 %\n",
        "*   Test : 20 %\n",
        "*   Val :  10% of Test\n",
        "\n",
        "\n",
        "We try different methods. The first is using features we extracted before from each document. Then, we try different form of word embedding which are TF-IDF,DBOW and DMM (different approch of Doc2Vec from the gensim package). \n",
        "Finally, we will try to combine word embeding and our extracted features.\n",
        "\n",
        "\n",
        "\n",
        "\n",
        "\n",
        "\n"
      ]
    },
    {
      "cell_type": "code",
      "metadata": {
        "id": "l2CS2Mz9iOtu",
        "colab_type": "code",
        "colab": {}
      },
      "source": [
        "from xgboost import XGBClassifier\n",
        "from sklearn.naive_bayes import GaussianNB\n",
        "from sklearn.linear_model import LogisticRegression\n",
        "from sklearn.ensemble import RandomForestClassifier\n",
        "from sklearn.tree import DecisionTreeClassifier\n",
        "from sklearn.svm import SVC\n",
        "from gensim.test.utils import common_texts\n",
        "from gensim.models.doc2vec import Doc2Vec, TaggedDocument\n",
        "from tqdm import tqdm\n",
        "from sklearn import utils\n",
        "from sklearn.model_selection import train_test_split\n",
        "from sklearn.feature_extraction.text import CountVectorizer\n",
        "from sklearn.feature_extraction.text import TfidfVectorizer"
      ],
      "execution_count": 0,
      "outputs": []
    },
    {
      "cell_type": "code",
      "metadata": {
        "id": "YtYF01Qjw1rY",
        "colab_type": "code",
        "colab": {}
      },
      "source": [
        "df_deq = pd.read_csv('df_medium_deseq_var_5000.csv')"
      ],
      "execution_count": 0,
      "outputs": []
    },
    {
      "cell_type": "markdown",
      "metadata": {
        "id": "egIXZXTBiZgc",
        "colab_type": "text"
      },
      "source": [
        "### First approch : Feature engineering"
      ]
    },
    {
      "cell_type": "code",
      "metadata": {
        "id": "4jX9OpKS7HUz",
        "colab_type": "code",
        "colab": {}
      },
      "source": [
        "X = df_deq[['NbToken', 'NbSyllables', 'NbMot', 'NbPhrases','NbCleanToken', 'NbPonct', 'NbSw','Hapaxlegomena', 'Hapaxdislegomena', 'UniqueWordTx', 'RateCleanRaw',\n",
        "       'NbNom', 'NbDet', 'NbPunct', 'NbAdj', 'NbAdp', 'NbPron', 'NbVerb','NbCconj', 'NbNum', 'NbPropn', 'NbAdv', 'NbSCONJ', 'NbAUX', 'NbIntj','PronJe', 'PronNous', 'NbPres', 'NbPast', 'NbFut', 'NbImp', 'NbQuest',\n",
        "       'NbExcl', 'NbArt', 'F_mesure', 'NbNom_prec', 'NbDet_prec', 'NbAdj_prec','NbPron_prec', 'NbVerb_perc', 'NbAUX_perc', 'PronJe_perc','PronNous_perc', 'NbQuest_perc', 'NbExcl_perc',\n",
        "       'PolPos', 'PolNeg', 'PolUnk', 'FreqJoie', 'FreqPeur', 'FreqSad','FreqColere', 'FreqSurprise', 'FreqDegout']]\n",
        "y = df_deq.sexe.apply(lambda x : 1 if x == 2 else 0)\n"
      ],
      "execution_count": 0,
      "outputs": []
    },
    {
      "cell_type": "code",
      "metadata": {
        "id": "9AXyxj5xU0p2",
        "colab_type": "code",
        "colab": {}
      },
      "source": [
        "d=GaussianNB().fit(X_train,y_train)\n",
        "pred = d.predict(X_test)\n",
        "pred_prob = d.predict_proba(X_test)"
      ],
      "execution_count": 0,
      "outputs": []
    },
    {
      "cell_type": "code",
      "metadata": {
        "id": "1IH9LF1v7ypc",
        "colab_type": "code",
        "colab": {}
      },
      "source": [
        "X_train,X_test,y_train,y_test = train_test_split(X,y,random_state = 42 ,test_size =0.2)\n",
        "X_test,X_val,y_test,y_val = train_test_split(X_test,y_test,random_state = 42, test_size=0.1)"
      ],
      "execution_count": 0,
      "outputs": []
    },
    {
      "cell_type": "code",
      "metadata": {
        "id": "fG5AVZKR9Ute",
        "colab_type": "code",
        "colab": {
          "base_uri": "https://localhost:8080/",
          "height": 34
        },
        "outputId": "01a45953-7dfc-4264-fddc-7ccf3ce0aa37"
      },
      "source": [
        "print(len(X_train),len(X_test),len(X_val))"
      ],
      "execution_count": 7,
      "outputs": [
        {
          "output_type": "stream",
          "text": [
            "4000 900 100\n"
          ],
          "name": "stdout"
        }
      ]
    },
    {
      "cell_type": "code",
      "metadata": {
        "id": "clzv8cpX9kEu",
        "colab_type": "code",
        "colab": {}
      },
      "source": [
        "models  = [GaussianNB(),RandomForestClassifier(random_state=42),DecisionTreeClassifier(random_state=42),\n",
        "          XGBClassifier(random_state = 42),LogisticRegression(random_state = 42,max_iter=1000),SVC(random_state = 42,probability=True)]"
      ],
      "execution_count": 0,
      "outputs": []
    },
    {
      "cell_type": "code",
      "metadata": {
        "id": "WkEh8IPf-ayU",
        "colab_type": "code",
        "colab": {
          "base_uri": "https://localhost:8080/",
          "height": 320
        },
        "outputId": "0b720fbe-8517-4278-dd7f-827066b7dad8"
      },
      "source": [
        "modeldf = pd.DataFrame(columns = [ 'Accuracy_score', 'Recall_score', 'Precision', 'f1_score',\n",
        "       'Area_under_curve'])\n",
        "for model in models:\n",
        "    modeldf = pd.concat([modeldf,model_report(model,X_train,X_test,y_train,y_test)])\n",
        "modeldf['nom']=['GaussianNB','RFC','DTC','XGBOOST','RegLog','SVC_rbf']\n",
        "modeldf.set_index(['nom'])"
      ],
      "execution_count": 26,
      "outputs": [
        {
          "output_type": "stream",
          "text": [
            "/usr/local/lib/python3.6/dist-packages/sklearn/metrics/_classification.py:1272: UndefinedMetricWarning: Precision is ill-defined and being set to 0.0 due to no predicted samples. Use `zero_division` parameter to control this behavior.\n",
            "  _warn_prf(average, modifier, msg_start, len(result))\n"
          ],
          "name": "stderr"
        },
        {
          "output_type": "execute_result",
          "data": {
            "text/html": [
              "<div>\n",
              "<style scoped>\n",
              "    .dataframe tbody tr th:only-of-type {\n",
              "        vertical-align: middle;\n",
              "    }\n",
              "\n",
              "    .dataframe tbody tr th {\n",
              "        vertical-align: top;\n",
              "    }\n",
              "\n",
              "    .dataframe thead th {\n",
              "        text-align: right;\n",
              "    }\n",
              "</style>\n",
              "<table border=\"1\" class=\"dataframe\">\n",
              "  <thead>\n",
              "    <tr style=\"text-align: right;\">\n",
              "      <th></th>\n",
              "      <th>Accuracy_score</th>\n",
              "      <th>Recall_score</th>\n",
              "      <th>Precision</th>\n",
              "      <th>f1_score</th>\n",
              "      <th>Area_under_curve</th>\n",
              "    </tr>\n",
              "    <tr>\n",
              "      <th>nom</th>\n",
              "      <th></th>\n",
              "      <th></th>\n",
              "      <th></th>\n",
              "      <th></th>\n",
              "      <th></th>\n",
              "    </tr>\n",
              "  </thead>\n",
              "  <tbody>\n",
              "    <tr>\n",
              "      <th>GaussianNB</th>\n",
              "      <td>0.720000</td>\n",
              "      <td>0.067265</td>\n",
              "      <td>0.254237</td>\n",
              "      <td>0.106383</td>\n",
              "      <td>0.501136</td>\n",
              "    </tr>\n",
              "    <tr>\n",
              "      <th>RFC</th>\n",
              "      <td>0.763333</td>\n",
              "      <td>0.089686</td>\n",
              "      <td>0.666667</td>\n",
              "      <td>0.158103</td>\n",
              "      <td>0.537458</td>\n",
              "    </tr>\n",
              "    <tr>\n",
              "      <th>DTC</th>\n",
              "      <td>0.667778</td>\n",
              "      <td>0.372197</td>\n",
              "      <td>0.342975</td>\n",
              "      <td>0.356989</td>\n",
              "      <td>0.568669</td>\n",
              "    </tr>\n",
              "    <tr>\n",
              "      <th>XGBOOST</th>\n",
              "      <td>0.747778</td>\n",
              "      <td>0.080717</td>\n",
              "      <td>0.450000</td>\n",
              "      <td>0.136882</td>\n",
              "      <td>0.524111</td>\n",
              "    </tr>\n",
              "    <tr>\n",
              "      <th>SVC_linear</th>\n",
              "      <td>0.738889</td>\n",
              "      <td>0.049327</td>\n",
              "      <td>0.323529</td>\n",
              "      <td>0.085603</td>\n",
              "      <td>0.507677</td>\n",
              "    </tr>\n",
              "    <tr>\n",
              "      <th>SVC_rbf</th>\n",
              "      <td>0.752222</td>\n",
              "      <td>0.000000</td>\n",
              "      <td>0.000000</td>\n",
              "      <td>0.000000</td>\n",
              "      <td>0.500000</td>\n",
              "    </tr>\n",
              "  </tbody>\n",
              "</table>\n",
              "</div>"
            ],
            "text/plain": [
              "            Accuracy_score  Recall_score  Precision  f1_score  Area_under_curve\n",
              "nom                                                                            \n",
              "GaussianNB        0.720000      0.067265   0.254237  0.106383          0.501136\n",
              "RFC               0.763333      0.089686   0.666667  0.158103          0.537458\n",
              "DTC               0.667778      0.372197   0.342975  0.356989          0.568669\n",
              "XGBOOST           0.747778      0.080717   0.450000  0.136882          0.524111\n",
              "SVC_linear        0.738889      0.049327   0.323529  0.085603          0.507677\n",
              "SVC_rbf           0.752222      0.000000   0.000000  0.000000          0.500000"
            ]
          },
          "metadata": {
            "tags": []
          },
          "execution_count": 26
        }
      ]
    },
    {
      "cell_type": "code",
      "metadata": {
        "id": "Z-VcEbLiBWyq",
        "colab_type": "code",
        "colab": {
          "base_uri": "https://localhost:8080/",
          "height": 600
        },
        "outputId": "9848bed3-f866-47ad-ed5c-c961cadb4d3f"
      },
      "source": [
        "predictions(DecisionTreeClassifier(random_state=42),X_train,X_test,y_train,y_test)"
      ],
      "execution_count": 94,
      "outputs": [
        {
          "output_type": "stream",
          "text": [
            "DecisionTreeClassifier(ccp_alpha=0.0, class_weight=None, criterion='gini',\n",
            "                       max_depth=None, max_features=None, max_leaf_nodes=None,\n",
            "                       min_impurity_decrease=0.0, min_impurity_split=None,\n",
            "                       min_samples_leaf=1, min_samples_split=2,\n",
            "                       min_weight_fraction_leaf=0.0, presort='deprecated',\n",
            "                       random_state=42, splitter='best')\n",
            "Classification report :               precision    recall  f1-score   support\n",
            "\n",
            "           0       0.79      0.77      0.78       677\n",
            "           1       0.34      0.37      0.36       223\n",
            "\n",
            "    accuracy                           0.67       900\n",
            "   macro avg       0.57      0.57      0.57       900\n",
            "weighted avg       0.68      0.67      0.67       900\n",
            "\n",
            "Accuracy :  0.6677777777777778\n",
            "AUC :  0.5686688171900564\n"
          ],
          "name": "stdout"
        },
        {
          "output_type": "display_data",
          "data": {
            "image/png": "[encoded data removed]",
            "text/plain": [
              "<Figure size 864x720 with 3 Axes>"
            ]
          },
          "metadata": {
            "tags": []
          }
        }
      ]
    },
    {
      "cell_type": "markdown",
      "metadata": {
        "id": "Bbt2YAZ9i8dJ",
        "colab_type": "text"
      },
      "source": [
        "### Second approch : TF-IDF"
      ]
    },
    {
      "cell_type": "code",
      "metadata": {
        "id": "26ClAFPJjgZY",
        "colab_type": "code",
        "colab": {}
      },
      "source": [
        "X_train,X_test,y_train,y_test = train_test_split(X,y,random_state = 42 ,test_size =0.2)\n",
        "X_test,X_val,y_test,y_val = train_test_split(X_test,y_test,random_state = 42, test_size=0.1)"
      ],
      "execution_count": 0,
      "outputs": []
    },
    {
      "cell_type": "code",
      "metadata": {
        "id": "TiJv0BGtkpj5",
        "colab_type": "code",
        "colab": {
          "base_uri": "https://localhost:8080/",
          "height": 71
        },
        "outputId": "40686c4b-d522-4869-f34f-1e0b662b5386"
      },
      "source": [
        "from sklearn.feature_extraction.text import TfidfVectorizer\n",
        "tfidfconverter = TfidfVectorizer(max_features=1500, min_df=5, max_df=0.7, stop_words=fr_stop)\n",
        "X = tfidfconverter.fit_transform(df_deq['Texte']).toarray()\n",
        "X_train,X_test,y_train,y_test = train_test_split(X,y,random_state = 42 ,test_size =0.2)\n",
        "X_test,X_val,y_test,y_val = train_test_split(X_test,y_test,random_state = 42, test_size=0.1)"
      ],
      "execution_count": 125,
      "outputs": [
        {
          "output_type": "stream",
          "text": [
            "/usr/local/lib/python3.6/dist-packages/sklearn/feature_extraction/text.py:385: UserWarning: Your stop_words may be inconsistent with your preprocessing. Tokenizing the stop words generated tokens ['qu', 'quelqu'] not in stop_words.\n",
            "  'stop_words.' % sorted(inconsistent))\n"
          ],
          "name": "stderr"
        }
      ]
    },
    {
      "cell_type": "code",
      "metadata": {
        "id": "V9EninFziDY3",
        "colab_type": "code",
        "colab": {
          "base_uri": "https://localhost:8080/",
          "height": 266
        },
        "outputId": "619883a6-293b-44d4-936d-e02c5f473084"
      },
      "source": [
        "modeldf = pd.DataFrame(columns = [ 'Accuracy_score', 'Recall_score', 'Precision', 'f1_score',\n",
        "       'Area_under_curve'])\n",
        "for model in models:\n",
        "    modeldf = pd.concat([modeldf,model_report(model,X_train,X_test,y_train,y_test)])\n",
        "modeldf['nom']=['GaussianNB','RFC','DTC','XGBOOST','RegLog','SVC_rbf']\n",
        "modeldf.set_index(['nom'])"
      ],
      "execution_count": 128,
      "outputs": [
        {
          "output_type": "execute_result",
          "data": {
            "text/html": [
              "<div>\n",
              "<style scoped>\n",
              "    .dataframe tbody tr th:only-of-type {\n",
              "        vertical-align: middle;\n",
              "    }\n",
              "\n",
              "    .dataframe tbody tr th {\n",
              "        vertical-align: top;\n",
              "    }\n",
              "\n",
              "    .dataframe thead th {\n",
              "        text-align: right;\n",
              "    }\n",
              "</style>\n",
              "<table border=\"1\" class=\"dataframe\">\n",
              "  <thead>\n",
              "    <tr style=\"text-align: right;\">\n",
              "      <th></th>\n",
              "      <th>Accuracy_score</th>\n",
              "      <th>Recall_score</th>\n",
              "      <th>Precision</th>\n",
              "      <th>f1_score</th>\n",
              "      <th>Area_under_curve</th>\n",
              "    </tr>\n",
              "    <tr>\n",
              "      <th>nom</th>\n",
              "      <th></th>\n",
              "      <th></th>\n",
              "      <th></th>\n",
              "      <th></th>\n",
              "      <th></th>\n",
              "    </tr>\n",
              "  </thead>\n",
              "  <tbody>\n",
              "    <tr>\n",
              "      <th>GaussianNB</th>\n",
              "      <td>0.741111</td>\n",
              "      <td>0.663677</td>\n",
              "      <td>0.483660</td>\n",
              "      <td>0.559546</td>\n",
              "      <td>0.715147</td>\n",
              "    </tr>\n",
              "    <tr>\n",
              "      <th>RFC</th>\n",
              "      <td>0.788889</td>\n",
              "      <td>0.170404</td>\n",
              "      <td>0.883721</td>\n",
              "      <td>0.285714</td>\n",
              "      <td>0.581509</td>\n",
              "    </tr>\n",
              "    <tr>\n",
              "      <th>DTC</th>\n",
              "      <td>0.730000</td>\n",
              "      <td>0.457399</td>\n",
              "      <td>0.455357</td>\n",
              "      <td>0.456376</td>\n",
              "      <td>0.638596</td>\n",
              "    </tr>\n",
              "    <tr>\n",
              "      <th>XGBOOST</th>\n",
              "      <td>0.830000</td>\n",
              "      <td>0.394619</td>\n",
              "      <td>0.830189</td>\n",
              "      <td>0.534954</td>\n",
              "      <td>0.684015</td>\n",
              "    </tr>\n",
              "    <tr>\n",
              "      <th>RegLog</th>\n",
              "      <td>0.812222</td>\n",
              "      <td>0.349776</td>\n",
              "      <td>0.764706</td>\n",
              "      <td>0.480000</td>\n",
              "      <td>0.657163</td>\n",
              "    </tr>\n",
              "    <tr>\n",
              "      <th>SVC_rbf</th>\n",
              "      <td>0.810000</td>\n",
              "      <td>0.340807</td>\n",
              "      <td>0.760000</td>\n",
              "      <td>0.470588</td>\n",
              "      <td>0.652678</td>\n",
              "    </tr>\n",
              "  </tbody>\n",
              "</table>\n",
              "</div>"
            ],
            "text/plain": [
              "            Accuracy_score  Recall_score  Precision  f1_score  Area_under_curve\n",
              "nom                                                                            \n",
              "GaussianNB        0.741111      0.663677   0.483660  0.559546          0.715147\n",
              "RFC               0.788889      0.170404   0.883721  0.285714          0.581509\n",
              "DTC               0.730000      0.457399   0.455357  0.456376          0.638596\n",
              "XGBOOST           0.830000      0.394619   0.830189  0.534954          0.684015\n",
              "RegLog            0.812222      0.349776   0.764706  0.480000          0.657163\n",
              "SVC_rbf           0.810000      0.340807   0.760000  0.470588          0.652678"
            ]
          },
          "metadata": {
            "tags": []
          },
          "execution_count": 128
        }
      ]
    },
    {
      "cell_type": "code",
      "metadata": {
        "id": "jUjt18ZNKpgx",
        "colab_type": "code",
        "colab": {
          "base_uri": "https://localhost:8080/",
          "height": 515
        },
        "outputId": "89162f63-7afc-46b8-dd59-74253120c41b"
      },
      "source": [
        "predictions(GaussianNB(),X_train,X_test,y_train,y_test)"
      ],
      "execution_count": 129,
      "outputs": [
        {
          "output_type": "stream",
          "text": [
            "GaussianNB(priors=None, var_smoothing=1e-09)\n",
            "Classification report :               precision    recall  f1-score   support\n",
            "\n",
            "           0       0.87      0.77      0.82       677\n",
            "           1       0.48      0.66      0.56       223\n",
            "\n",
            "    accuracy                           0.74       900\n",
            "   macro avg       0.68      0.72      0.69       900\n",
            "weighted avg       0.78      0.74      0.75       900\n",
            "\n",
            "Accuracy :  0.7411111111111112\n",
            "AUC :  0.7151472799411809\n"
          ],
          "name": "stdout"
        },
        {
          "output_type": "display_data",
          "data": {
            "image/png": "[encoded data removed]",
            "text/plain": [
              "<Figure size 864x720 with 3 Axes>"
            ]
          },
          "metadata": {
            "tags": []
          }
        }
      ]
    },
    {
      "cell_type": "code",
      "metadata": {
        "id": "lbtObLIJs3wZ",
        "colab_type": "code",
        "colab": {
          "base_uri": "https://localhost:8080/",
          "height": 71
        },
        "outputId": "15cd3567-c02c-4ff3-c3ae-1317e69beab2"
      },
      "source": [
        "tfidfconverter = TfidfVectorizer(max_features=1500, min_df=5, max_df=0.7, stop_words=fr_stop, ngram_range=(2,3))\n",
        "X = tfidfconverter.fit_transform(df_deq['Texte']).toarray()\n",
        "X_train,X_test,y_train,y_test = train_test_split(X,y,random_state = 42 ,test_size =0.2)\n",
        "X_test,X_val,y_test,y_val = train_test_split(X_test,y_test,random_state = 42, test_size=0.1)"
      ],
      "execution_count": 161,
      "outputs": [
        {
          "output_type": "stream",
          "text": [
            "/usr/local/lib/python3.6/dist-packages/sklearn/feature_extraction/text.py:385: UserWarning: Your stop_words may be inconsistent with your preprocessing. Tokenizing the stop words generated tokens ['qu', 'quelqu'] not in stop_words.\n",
            "  'stop_words.' % sorted(inconsistent))\n"
          ],
          "name": "stderr"
        }
      ]
    },
    {
      "cell_type": "code",
      "metadata": {
        "id": "yf9qF0xrtatR",
        "colab_type": "code",
        "colab": {
          "base_uri": "https://localhost:8080/",
          "height": 266
        },
        "outputId": "31c0fedc-f1a1-43f4-cd0e-63a026942495"
      },
      "source": [
        "modeldf = pd.DataFrame(columns = [ 'Accuracy_score', 'Recall_score', 'Precision', 'f1_score',\n",
        "       'Area_under_curve'])\n",
        "for model in models:\n",
        "    modeldf = pd.concat([modeldf,model_report(model,X_train,X_test,y_train,y_test)])\n",
        "modeldf['nom']=['GaussianNB','RFC','DTC','XGBOOST','RegLog','SVC_rbf']\n",
        "modeldf.set_index(['nom'])"
      ],
      "execution_count": 131,
      "outputs": [
        {
          "output_type": "execute_result",
          "data": {
            "text/html": [
              "<div>\n",
              "<style scoped>\n",
              "    .dataframe tbody tr th:only-of-type {\n",
              "        vertical-align: middle;\n",
              "    }\n",
              "\n",
              "    .dataframe tbody tr th {\n",
              "        vertical-align: top;\n",
              "    }\n",
              "\n",
              "    .dataframe thead th {\n",
              "        text-align: right;\n",
              "    }\n",
              "</style>\n",
              "<table border=\"1\" class=\"dataframe\">\n",
              "  <thead>\n",
              "    <tr style=\"text-align: right;\">\n",
              "      <th></th>\n",
              "      <th>Accuracy_score</th>\n",
              "      <th>Recall_score</th>\n",
              "      <th>Precision</th>\n",
              "      <th>f1_score</th>\n",
              "      <th>Area_under_curve</th>\n",
              "    </tr>\n",
              "    <tr>\n",
              "      <th>nom</th>\n",
              "      <th></th>\n",
              "      <th></th>\n",
              "      <th></th>\n",
              "      <th></th>\n",
              "      <th></th>\n",
              "    </tr>\n",
              "  </thead>\n",
              "  <tbody>\n",
              "    <tr>\n",
              "      <th>GaussianNB</th>\n",
              "      <td>0.731111</td>\n",
              "      <td>0.704036</td>\n",
              "      <td>0.471471</td>\n",
              "      <td>0.564748</td>\n",
              "      <td>0.722033</td>\n",
              "    </tr>\n",
              "    <tr>\n",
              "      <th>RFC</th>\n",
              "      <td>0.785556</td>\n",
              "      <td>0.273543</td>\n",
              "      <td>0.663043</td>\n",
              "      <td>0.387302</td>\n",
              "      <td>0.613876</td>\n",
              "    </tr>\n",
              "    <tr>\n",
              "      <th>DTC</th>\n",
              "      <td>0.674444</td>\n",
              "      <td>0.309417</td>\n",
              "      <td>0.331731</td>\n",
              "      <td>0.320186</td>\n",
              "      <td>0.552050</td>\n",
              "    </tr>\n",
              "    <tr>\n",
              "      <th>XGBOOST</th>\n",
              "      <td>0.782222</td>\n",
              "      <td>0.161435</td>\n",
              "      <td>0.800000</td>\n",
              "      <td>0.268657</td>\n",
              "      <td>0.574071</td>\n",
              "    </tr>\n",
              "    <tr>\n",
              "      <th>RegLog</th>\n",
              "      <td>0.800000</td>\n",
              "      <td>0.278027</td>\n",
              "      <td>0.765432</td>\n",
              "      <td>0.407895</td>\n",
              "      <td>0.624981</td>\n",
              "    </tr>\n",
              "    <tr>\n",
              "      <th>SVC_rbf</th>\n",
              "      <td>0.796667</td>\n",
              "      <td>0.264574</td>\n",
              "      <td>0.756410</td>\n",
              "      <td>0.392027</td>\n",
              "      <td>0.618254</td>\n",
              "    </tr>\n",
              "  </tbody>\n",
              "</table>\n",
              "</div>"
            ],
            "text/plain": [
              "            Accuracy_score  Recall_score  Precision  f1_score  Area_under_curve\n",
              "nom                                                                            \n",
              "GaussianNB        0.731111      0.704036   0.471471  0.564748          0.722033\n",
              "RFC               0.785556      0.273543   0.663043  0.387302          0.613876\n",
              "DTC               0.674444      0.309417   0.331731  0.320186          0.552050\n",
              "XGBOOST           0.782222      0.161435   0.800000  0.268657          0.574071\n",
              "RegLog            0.800000      0.278027   0.765432  0.407895          0.624981\n",
              "SVC_rbf           0.796667      0.264574   0.756410  0.392027          0.618254"
            ]
          },
          "metadata": {
            "tags": []
          },
          "execution_count": 131
        }
      ]
    },
    {
      "cell_type": "code",
      "metadata": {
        "id": "yCM-dpA7uTlX",
        "colab_type": "code",
        "colab": {
          "base_uri": "https://localhost:8080/",
          "height": 515
        },
        "outputId": "5db74af6-e7ad-47c7-aa99-3a10e42c7628"
      },
      "source": [
        "predictions(GaussianNB(),X_train,X_test,y_train,y_test)"
      ],
      "execution_count": 132,
      "outputs": [
        {
          "output_type": "stream",
          "text": [
            "GaussianNB(priors=None, var_smoothing=1e-09)\n",
            "Classification report :               precision    recall  f1-score   support\n",
            "\n",
            "           0       0.88      0.74      0.81       677\n",
            "           1       0.47      0.70      0.56       223\n",
            "\n",
            "    accuracy                           0.73       900\n",
            "   macro avg       0.68      0.72      0.69       900\n",
            "weighted avg       0.78      0.73      0.75       900\n",
            "\n",
            "Accuracy :  0.7311111111111112\n",
            "AUC :  0.7220327082684754\n"
          ],
          "name": "stdout"
        },
        {
          "output_type": "display_data",
          "data": {
            "image/png": "[encoded data removed]",
            "text/plain": [
              "<Figure size 864x720 with 3 Axes>"
            ]
          },
          "metadata": {
            "tags": []
          }
        }
      ]
    },
    {
      "cell_type": "markdown",
      "metadata": {
        "id": "gHO6rj2BQmgS",
        "colab_type": "text"
      },
      "source": [
        "### Third approch : \n",
        "\n",
        "We will now use a Distributed Bag of Words (DBOW) and a Distributed Memory (DMM) with some classical initialisation parameters. And we will tune them if the baseline model appear to be way better than others.\n"
      ]
    },
    {
      "cell_type": "code",
      "metadata": {
        "id": "_7US1FbLLNbg",
        "colab_type": "code",
        "colab": {}
      },
      "source": [
        "train,test = train_test_split(df_deq[['CleanTokensLemme','sexe']],random_state = 42 ,test_size =0.2)\n",
        "test,val = train_test_split(test,random_state = 42, test_size=0.1)\n",
        "train_tagged = train.apply(lambda r: TaggedDocument(words=r.CleanTokensLemme, tags=[r.sexe]), axis=1)\n",
        "test_tagged = test.apply(lambda r: TaggedDocument(words=r.CleanTokensLemme, tags=[r.sexe]), axis=1)"
      ],
      "execution_count": 0,
      "outputs": []
    },
    {
      "cell_type": "code",
      "metadata": {
        "id": "tJbW66cnNk8A",
        "colab_type": "code",
        "colab": {
          "base_uri": "https://localhost:8080/",
          "height": 34
        },
        "outputId": "0c7674e8-6afc-4e10-a238-ba99acf761ce"
      },
      "source": [
        "model_dbow = Doc2Vec(dm=0, vector_size=300, negative=5, hs=0, min_count=2, sample = 0, workers=2)\n",
        "model_dbow.build_vocab([x for x in tqdm(train_tagged.values)])"
      ],
      "execution_count": 83,
      "outputs": [
        {
          "output_type": "stream",
          "text": [
            "100%|██████████| 4000/4000 [00:00<00:00, 2931030.05it/s]\n"
          ],
          "name": "stderr"
        }
      ]
    },
    {
      "cell_type": "code",
      "metadata": {
        "id": "zDktSRnfN7rV",
        "colab_type": "code",
        "colab": {
          "base_uri": "https://localhost:8080/",
          "height": 561
        },
        "outputId": "c7e6bc0e-5204-488e-c79c-674bd002dd9b"
      },
      "source": [
        "%%time\n",
        "for epoch in range(30):\n",
        "    model_dbow.train(utils.shuffle([x for x in tqdm(train_tagged.values)]), total_examples=len(train_tagged.values), epochs=1)\n",
        "    model_dbow.alpha -= 0.002\n",
        "    model_dbow.min_alpha = model_dbow.alpha"
      ],
      "execution_count": 84,
      "outputs": [
        {
          "output_type": "stream",
          "text": [
            "100%|██████████| 4000/4000 [00:00<00:00, 1513506.18it/s]\n",
            "100%|██████████| 4000/4000 [00:00<00:00, 1112105.00it/s]\n",
            "100%|██████████| 4000/4000 [00:00<00:00, 975986.97it/s]\n",
            "100%|██████████| 4000/4000 [00:00<00:00, 778525.10it/s]\n",
            "100%|██████████| 4000/4000 [00:00<00:00, 950765.95it/s]\n",
            "100%|██████████| 4000/4000 [00:00<00:00, 1049100.55it/s]\n",
            "100%|██████████| 4000/4000 [00:00<00:00, 2110607.12it/s]\n",
            "100%|██████████| 4000/4000 [00:00<00:00, 1072300.65it/s]\n",
            "100%|██████████| 4000/4000 [00:00<00:00, 1653416.38it/s]\n",
            "100%|██████████| 4000/4000 [00:00<00:00, 1830974.14it/s]\n",
            "100%|██████████| 4000/4000 [00:00<00:00, 2678782.69it/s]\n",
            "100%|██████████| 4000/4000 [00:00<00:00, 1920249.06it/s]\n",
            "100%|██████████| 4000/4000 [00:00<00:00, 2890629.91it/s]\n",
            "100%|██████████| 4000/4000 [00:00<00:00, 3052623.00it/s]\n",
            "100%|██████████| 4000/4000 [00:00<00:00, 997219.21it/s]\n",
            "100%|██████████| 4000/4000 [00:00<00:00, 1813557.02it/s]\n",
            "100%|██████████| 4000/4000 [00:00<00:00, 1158967.67it/s]\n",
            "100%|██████████| 4000/4000 [00:00<00:00, 3209107.88it/s]\n",
            "100%|██████████| 4000/4000 [00:00<00:00, 1330996.91it/s]\n",
            "100%|██████████| 4000/4000 [00:00<00:00, 969445.05it/s]\n",
            "100%|██████████| 4000/4000 [00:00<00:00, 3107467.31it/s]\n",
            "100%|██████████| 4000/4000 [00:00<00:00, 1153707.61it/s]\n",
            "100%|██████████| 4000/4000 [00:00<00:00, 2547406.01it/s]\n",
            "100%|██████████| 4000/4000 [00:00<00:00, 3126577.71it/s]\n",
            "100%|██████████| 4000/4000 [00:00<00:00, 2922350.81it/s]\n",
            "100%|██████████| 4000/4000 [00:00<00:00, 2579126.21it/s]\n",
            "100%|██████████| 4000/4000 [00:00<00:00, 1114765.18it/s]\n",
            "100%|██████████| 4000/4000 [00:00<00:00, 2762136.32it/s]\n",
            "100%|██████████| 4000/4000 [00:00<00:00, 1931523.83it/s]\n",
            "100%|██████████| 4000/4000 [00:00<00:00, 2745861.87it/s]\n"
          ],
          "name": "stderr"
        },
        {
          "output_type": "stream",
          "text": [
            "CPU times: user 15min, sys: 4.05 s, total: 15min 4s\n",
            "Wall time: 7min 43s\n"
          ],
          "name": "stdout"
        }
      ]
    },
    {
      "cell_type": "code",
      "metadata": {
        "id": "L8x_nTmeP4on",
        "colab_type": "code",
        "colab": {}
      },
      "source": [
        "def vec_for_learning(model, tagged_docs):\n",
        "    sents = tagged_docs.values\n",
        "    targets, regressors = zip(*[(doc.tags[0], model.infer_vector(doc.words, steps=20)) for doc in sents])\n",
        "    return targets, regressors"
      ],
      "execution_count": 0,
      "outputs": []
    },
    {
      "cell_type": "code",
      "metadata": {
        "id": "_wL8sJ--SS-I",
        "colab_type": "code",
        "colab": {}
      },
      "source": [
        "y_train_dbow, X_train_dbow = vec_for_learning(model_dbow, train_tagged)\n",
        "y_test_dbow, X_test_dbow = vec_for_learning(model_dbow, test_tagged)\n",
        "y_train_dbow = pd.DataFrame(y_train_dbow,columns=['sexe']).sexe.apply(lambda x: 1 if x == 2 else 0)\n",
        "y_test_dbow = pd.DataFrame(y_test_dbow,columns=['sexe']).sexe.apply(lambda x: 1 if x == 2 else 0)\n"
      ],
      "execution_count": 0,
      "outputs": []
    },
    {
      "cell_type": "code",
      "metadata": {
        "id": "bmCc2PbiXamB",
        "colab_type": "code",
        "colab": {}
      },
      "source": [
        "\n",
        "X_train_dbow =  pd.DataFrame(X_train_dbow)\n",
        "X_test_dbow =  pd.DataFrame(X_test_dbow)"
      ],
      "execution_count": 0,
      "outputs": []
    },
    {
      "cell_type": "code",
      "metadata": {
        "id": "jd6T9OiVYNWA",
        "colab_type": "code",
        "colab": {
          "base_uri": "https://localhost:8080/",
          "height": 354
        },
        "outputId": "a90c9b3c-9214-463d-a783-3a5496bbfa13"
      },
      "source": [
        "modeldf = pd.DataFrame(columns = [ 'Accuracy_score', 'Recall_score', 'Precision', 'f1_score',\n",
        "       'Area_under_curve'])\n",
        "for model in models:\n",
        "    modeldf = pd.concat([modeldf,model_report(model,X_train_dbow,X_test_dbow,y_train_dbow,y_test_dbow)])\n",
        "modeldf['nom']=['GaussianNB','RFC','DTC','XGBOOST','RegLog','SVC_rbf']\n",
        "modeldf.set_index(['nom'])"
      ],
      "execution_count": 87,
      "outputs": [
        {
          "output_type": "stream",
          "text": [
            "/usr/local/lib/python3.6/dist-packages/sklearn/metrics/_classification.py:1272: UndefinedMetricWarning: Precision is ill-defined and being set to 0.0 due to no predicted samples. Use `zero_division` parameter to control this behavior.\n",
            "  _warn_prf(average, modifier, msg_start, len(result))\n",
            "/usr/local/lib/python3.6/dist-packages/sklearn/metrics/_classification.py:1272: UndefinedMetricWarning: Precision is ill-defined and being set to 0.0 due to no predicted samples. Use `zero_division` parameter to control this behavior.\n",
            "  _warn_prf(average, modifier, msg_start, len(result))\n"
          ],
          "name": "stderr"
        },
        {
          "output_type": "execute_result",
          "data": {
            "text/html": [
              "<div>\n",
              "<style scoped>\n",
              "    .dataframe tbody tr th:only-of-type {\n",
              "        vertical-align: middle;\n",
              "    }\n",
              "\n",
              "    .dataframe tbody tr th {\n",
              "        vertical-align: top;\n",
              "    }\n",
              "\n",
              "    .dataframe thead th {\n",
              "        text-align: right;\n",
              "    }\n",
              "</style>\n",
              "<table border=\"1\" class=\"dataframe\">\n",
              "  <thead>\n",
              "    <tr style=\"text-align: right;\">\n",
              "      <th></th>\n",
              "      <th>Accuracy_score</th>\n",
              "      <th>Recall_score</th>\n",
              "      <th>Precision</th>\n",
              "      <th>f1_score</th>\n",
              "      <th>Area_under_curve</th>\n",
              "    </tr>\n",
              "    <tr>\n",
              "      <th>nom</th>\n",
              "      <th></th>\n",
              "      <th></th>\n",
              "      <th></th>\n",
              "      <th></th>\n",
              "      <th></th>\n",
              "    </tr>\n",
              "  </thead>\n",
              "  <tbody>\n",
              "    <tr>\n",
              "      <th>GaussianNB</th>\n",
              "      <td>0.672222</td>\n",
              "      <td>0.192825</td>\n",
              "      <td>0.272152</td>\n",
              "      <td>0.225722</td>\n",
              "      <td>0.511479</td>\n",
              "    </tr>\n",
              "    <tr>\n",
              "      <th>RFC</th>\n",
              "      <td>0.748889</td>\n",
              "      <td>0.008969</td>\n",
              "      <td>0.285714</td>\n",
              "      <td>0.017391</td>\n",
              "      <td>0.500792</td>\n",
              "    </tr>\n",
              "    <tr>\n",
              "      <th>DTC</th>\n",
              "      <td>0.612222</td>\n",
              "      <td>0.251121</td>\n",
              "      <td>0.235294</td>\n",
              "      <td>0.242950</td>\n",
              "      <td>0.491144</td>\n",
              "    </tr>\n",
              "    <tr>\n",
              "      <th>XGBOOST</th>\n",
              "      <td>0.752222</td>\n",
              "      <td>0.008969</td>\n",
              "      <td>0.500000</td>\n",
              "      <td>0.017621</td>\n",
              "      <td>0.503007</td>\n",
              "    </tr>\n",
              "    <tr>\n",
              "      <th>SVC_linear</th>\n",
              "      <td>0.752222</td>\n",
              "      <td>0.000000</td>\n",
              "      <td>0.000000</td>\n",
              "      <td>0.000000</td>\n",
              "      <td>0.500000</td>\n",
              "    </tr>\n",
              "    <tr>\n",
              "      <th>SVC_rbf</th>\n",
              "      <td>0.752222</td>\n",
              "      <td>0.000000</td>\n",
              "      <td>0.000000</td>\n",
              "      <td>0.000000</td>\n",
              "      <td>0.500000</td>\n",
              "    </tr>\n",
              "  </tbody>\n",
              "</table>\n",
              "</div>"
            ],
            "text/plain": [
              "            Accuracy_score  Recall_score  Precision  f1_score  Area_under_curve\n",
              "nom                                                                            \n",
              "GaussianNB        0.672222      0.192825   0.272152  0.225722          0.511479\n",
              "RFC               0.748889      0.008969   0.285714  0.017391          0.500792\n",
              "DTC               0.612222      0.251121   0.235294  0.242950          0.491144\n",
              "XGBOOST           0.752222      0.008969   0.500000  0.017621          0.503007\n",
              "SVC_linear        0.752222      0.000000   0.000000  0.000000          0.500000\n",
              "SVC_rbf           0.752222      0.000000   0.000000  0.000000          0.500000"
            ]
          },
          "metadata": {
            "tags": []
          },
          "execution_count": 87
        }
      ]
    },
    {
      "cell_type": "code",
      "metadata": {
        "id": "RfG_LJusV35_",
        "colab_type": "code",
        "colab": {}
      },
      "source": [
        "for model in models:\n",
        "  predictions(model,X_train_dbow,X_test_dbow,y_train_dbow,y_test_dbow)"
      ],
      "execution_count": 0,
      "outputs": []
    },
    {
      "cell_type": "code",
      "metadata": {
        "id": "Zpb7LrskXEqv",
        "colab_type": "code",
        "colab": {
          "base_uri": "https://localhost:8080/",
          "height": 34
        },
        "outputId": "64d48a76-7e11-4075-c062-8af5cb739c08"
      },
      "source": [
        "model_dmm = Doc2Vec(dm=1, dm_mean=1, vector_size=300, window=10, negative=5, min_count=1, workers=2, alpha=0.065, min_alpha=0.065)\n",
        "model_dmm.build_vocab([x for x in tqdm(train_tagged.values)])"
      ],
      "execution_count": 75,
      "outputs": [
        {
          "output_type": "stream",
          "text": [
            "100%|██████████| 4000/4000 [00:00<00:00, 744991.83it/s]\n"
          ],
          "name": "stderr"
        }
      ]
    },
    {
      "cell_type": "code",
      "metadata": {
        "id": "k4lK-dB2ZBOu",
        "colab_type": "code",
        "colab": {
          "base_uri": "https://localhost:8080/",
          "height": 561
        },
        "outputId": "cd8a81fb-5056-470f-82f0-3c32921cba95"
      },
      "source": [
        "%%time\n",
        "for epoch in range(30):\n",
        "    model_dmm.train(utils.shuffle([x for x in tqdm(train_tagged.values)]), total_examples=len(train_tagged.values), epochs=1)\n",
        "    model_dmm.alpha -= 0.002\n",
        "    model_dmm.min_alpha = model_dmm.alpha"
      ],
      "execution_count": 76,
      "outputs": [
        {
          "output_type": "stream",
          "text": [
            "100%|██████████| 4000/4000 [00:00<00:00, 1595550.74it/s]\n",
            "100%|██████████| 4000/4000 [00:00<00:00, 1493831.00it/s]\n",
            "100%|██████████| 4000/4000 [00:00<00:00, 1516104.83it/s]\n",
            "100%|██████████| 4000/4000 [00:00<00:00, 662371.83it/s]\n",
            "100%|██████████| 4000/4000 [00:00<00:00, 3007747.58it/s]\n",
            "100%|██████████| 4000/4000 [00:00<00:00, 2020620.98it/s]\n",
            "100%|██████████| 4000/4000 [00:00<00:00, 3120181.51it/s]\n",
            "100%|██████████| 4000/4000 [00:00<00:00, 2893122.26it/s]\n",
            "100%|██████████| 4000/4000 [00:00<00:00, 3140036.68it/s]\n",
            "100%|██████████| 4000/4000 [00:00<00:00, 2433949.80it/s]\n",
            "100%|██████████| 4000/4000 [00:00<00:00, 1218920.08it/s]\n",
            "100%|██████████| 4000/4000 [00:00<00:00, 3053178.53it/s]\n",
            "100%|██████████| 4000/4000 [00:00<00:00, 3116124.81it/s]\n",
            "100%|██████████| 4000/4000 [00:00<00:00, 1099496.43it/s]\n",
            "100%|██████████| 4000/4000 [00:00<00:00, 1053514.35it/s]\n",
            "100%|██████████| 4000/4000 [00:00<00:00, 1465899.17it/s]\n",
            "100%|██████████| 4000/4000 [00:00<00:00, 2067177.92it/s]\n",
            "100%|██████████| 4000/4000 [00:00<00:00, 2063872.06it/s]\n",
            "100%|██████████| 4000/4000 [00:00<00:00, 1852812.37it/s]\n",
            "100%|██████████| 4000/4000 [00:00<00:00, 1932858.99it/s]\n",
            "100%|██████████| 4000/4000 [00:00<00:00, 1424816.65it/s]\n",
            "100%|██████████| 4000/4000 [00:00<00:00, 987069.25it/s]\n",
            "100%|██████████| 4000/4000 [00:00<00:00, 920308.06it/s]\n",
            "100%|██████████| 4000/4000 [00:00<00:00, 873494.87it/s]\n",
            "100%|██████████| 4000/4000 [00:00<00:00, 3073876.15it/s]\n",
            "100%|██████████| 4000/4000 [00:00<00:00, 2548954.12it/s]\n",
            "100%|██████████| 4000/4000 [00:00<00:00, 2836384.78it/s]\n",
            "100%|██████████| 4000/4000 [00:00<00:00, 2701210.11it/s]\n",
            "100%|██████████| 4000/4000 [00:00<00:00, 2981026.30it/s]\n",
            "100%|██████████| 4000/4000 [00:00<00:00, 2974156.36it/s]\n"
          ],
          "name": "stderr"
        },
        {
          "output_type": "stream",
          "text": [
            "CPU times: user 13min 8s, sys: 4.68 s, total: 13min 12s\n",
            "Wall time: 6min 57s\n"
          ],
          "name": "stdout"
        }
      ]
    },
    {
      "cell_type": "code",
      "metadata": {
        "id": "k07BVPA-arb6",
        "colab_type": "code",
        "colab": {}
      },
      "source": [
        "y_train_dmm, X_train_dmm = vec_for_learning(model_dmm, train_tagged)\n",
        "y_test_dmm, X_test_dmm = vec_for_learning(model_dmm, test_tagged)"
      ],
      "execution_count": 0,
      "outputs": []
    },
    {
      "cell_type": "code",
      "metadata": {
        "id": "VnFkuZcba3RH",
        "colab_type": "code",
        "colab": {}
      },
      "source": [
        "y_train_dmm = pd.DataFrame(y_train_dmm,columns=['sexe']).sexe.apply(lambda x: 1 if x == 2 else 0)\n",
        "y_test_dmm = pd.DataFrame(y_test_dmm,columns=['sexe']).sexe.apply(lambda x: 1 if x == 2 else 0)\n",
        "\n",
        "X_train_dmm =  pd.DataFrame(X_train_dmm)\n",
        "X_test_dmm =  pd.DataFrame(X_test_dmm)"
      ],
      "execution_count": 0,
      "outputs": []
    },
    {
      "cell_type": "code",
      "metadata": {
        "id": "i59L5Vn6a_V6",
        "colab_type": "code",
        "colab": {
          "base_uri": "https://localhost:8080/",
          "height": 266
        },
        "outputId": "ec2a44a3-f85d-4d9d-9210-ee2e814229b8"
      },
      "source": [
        "modeldf = pd.DataFrame(columns = [ 'Accuracy_score', 'Recall_score', 'Precision', 'f1_score',\n",
        "       'Area_under_curve'])\n",
        "for model in models:\n",
        "    modeldf = pd.concat([modeldf,model_report(model,X_train_dmm,X_test_dmm,y_train_dmm,y_test_dmm)])\n",
        "modeldf['nom']=['GaussianNB','RFC','DTC','XGBOOST','RegLog','SVC_rbf']\n",
        "modeldf.set_index(['nom'])"
      ],
      "execution_count": 80,
      "outputs": [
        {
          "output_type": "execute_result",
          "data": {
            "text/html": [
              "<div>\n",
              "<style scoped>\n",
              "    .dataframe tbody tr th:only-of-type {\n",
              "        vertical-align: middle;\n",
              "    }\n",
              "\n",
              "    .dataframe tbody tr th {\n",
              "        vertical-align: top;\n",
              "    }\n",
              "\n",
              "    .dataframe thead th {\n",
              "        text-align: right;\n",
              "    }\n",
              "</style>\n",
              "<table border=\"1\" class=\"dataframe\">\n",
              "  <thead>\n",
              "    <tr style=\"text-align: right;\">\n",
              "      <th></th>\n",
              "      <th>Accuracy_score</th>\n",
              "      <th>Recall_score</th>\n",
              "      <th>Precision</th>\n",
              "      <th>f1_score</th>\n",
              "      <th>Area_under_curve</th>\n",
              "    </tr>\n",
              "    <tr>\n",
              "      <th>nom</th>\n",
              "      <th></th>\n",
              "      <th></th>\n",
              "      <th></th>\n",
              "      <th></th>\n",
              "      <th></th>\n",
              "    </tr>\n",
              "  </thead>\n",
              "  <tbody>\n",
              "    <tr>\n",
              "      <th>GaussianNB</th>\n",
              "      <td>0.650000</td>\n",
              "      <td>0.515695</td>\n",
              "      <td>0.357143</td>\n",
              "      <td>0.422018</td>\n",
              "      <td>0.604967</td>\n",
              "    </tr>\n",
              "    <tr>\n",
              "      <th>RFC</th>\n",
              "      <td>0.771111</td>\n",
              "      <td>0.107623</td>\n",
              "      <td>0.774194</td>\n",
              "      <td>0.188976</td>\n",
              "      <td>0.548642</td>\n",
              "    </tr>\n",
              "    <tr>\n",
              "      <th>DTC</th>\n",
              "      <td>0.634444</td>\n",
              "      <td>0.345291</td>\n",
              "      <td>0.296154</td>\n",
              "      <td>0.318841</td>\n",
              "      <td>0.537491</td>\n",
              "    </tr>\n",
              "    <tr>\n",
              "      <th>XGBOOST</th>\n",
              "      <td>0.770000</td>\n",
              "      <td>0.152466</td>\n",
              "      <td>0.653846</td>\n",
              "      <td>0.247273</td>\n",
              "      <td>0.562939</td>\n",
              "    </tr>\n",
              "    <tr>\n",
              "      <th>SVC_linear</th>\n",
              "      <td>0.764444</td>\n",
              "      <td>0.098655</td>\n",
              "      <td>0.666667</td>\n",
              "      <td>0.171875</td>\n",
              "      <td>0.541203</td>\n",
              "    </tr>\n",
              "    <tr>\n",
              "      <th>SVC_rbf</th>\n",
              "      <td>0.757778</td>\n",
              "      <td>0.035874</td>\n",
              "      <td>0.727273</td>\n",
              "      <td>0.068376</td>\n",
              "      <td>0.515722</td>\n",
              "    </tr>\n",
              "  </tbody>\n",
              "</table>\n",
              "</div>"
            ],
            "text/plain": [
              "            Accuracy_score  Recall_score  Precision  f1_score  Area_under_curve\n",
              "nom                                                                            \n",
              "GaussianNB        0.650000      0.515695   0.357143  0.422018          0.604967\n",
              "RFC               0.771111      0.107623   0.774194  0.188976          0.548642\n",
              "DTC               0.634444      0.345291   0.296154  0.318841          0.537491\n",
              "XGBOOST           0.770000      0.152466   0.653846  0.247273          0.562939\n",
              "SVC_linear        0.764444      0.098655   0.666667  0.171875          0.541203\n",
              "SVC_rbf           0.757778      0.035874   0.727273  0.068376          0.515722"
            ]
          },
          "metadata": {
            "tags": []
          },
          "execution_count": 80
        }
      ]
    },
    {
      "cell_type": "code",
      "metadata": {
        "id": "sSRNywHUcThW",
        "colab_type": "code",
        "colab": {
          "base_uri": "https://localhost:8080/",
          "height": 515
        },
        "outputId": "1ed2290d-afaf-43af-ae3a-7b6079597a14"
      },
      "source": [
        "predictions(GaussianNB(),X_train_dmm,X_test_dmm,y_train_dmm,y_test_dmm)"
      ],
      "execution_count": 133,
      "outputs": [
        {
          "output_type": "stream",
          "text": [
            "GaussianNB(priors=None, var_smoothing=1e-09)\n",
            "Classification report :               precision    recall  f1-score   support\n",
            "\n",
            "           0       0.81      0.69      0.75       677\n",
            "           1       0.36      0.52      0.42       223\n",
            "\n",
            "    accuracy                           0.65       900\n",
            "   macro avg       0.59      0.60      0.59       900\n",
            "weighted avg       0.70      0.65      0.67       900\n",
            "\n",
            "Accuracy :  0.65\n",
            "AUC :  0.6049671791271171\n"
          ],
          "name": "stdout"
        },
        {
          "output_type": "display_data",
          "data": {
            "image/png": "[encoded data removed]",
            "text/plain": [
              "<Figure size 864x720 with 3 Axes>"
            ]
          },
          "metadata": {
            "tags": []
          }
        }
      ]
    },
    {
      "cell_type": "markdown",
      "metadata": {
        "id": "bJE-gHbrvh3c",
        "colab_type": "text"
      },
      "source": [
        "### Combining two methods : Embeddings + features\n",
        "\n"
      ]
    },
    {
      "cell_type": "code",
      "metadata": {
        "id": "Z8hZDIxRvhLu",
        "colab_type": "code",
        "colab": {}
      },
      "source": [
        "X_train_idf_tri,X_test_idf_tri = pd.DataFrame(X_train),pd.DataFrame(X_test)\n",
        "X = df_deq[['NbToken', 'NbSyllables', 'NbMot', 'NbPhrases','NbCleanToken', 'NbPonct', 'NbSw','Hapaxlegomena', 'Hapaxdislegomena', 'UniqueWordTx', 'RateCleanRaw',\n",
        "       'NbNom', 'NbDet', 'NbPunct', 'NbAdj', 'NbAdp', 'NbPron', 'NbVerb','NbCconj', 'NbNum', 'NbPropn', 'NbAdv', 'NbSCONJ', 'NbAUX', 'NbIntj','PronJe', 'PronNous', 'NbPres', 'NbPast', 'NbFut', 'NbImp', 'NbQuest',\n",
        "       'NbExcl', 'NbArt', 'F_mesure', 'NbNom_prec', 'NbDet_prec', 'NbAdj_prec','NbPron_prec', 'NbVerb_perc', 'NbAUX_perc', 'PronJe_perc','PronNous_perc', 'NbQuest_perc', 'NbExcl_perc',\n",
        "       'PolPos', 'PolNeg', 'PolUnk', 'FreqJoie', 'FreqPeur', 'FreqSad','FreqColere', 'FreqSurprise', 'FreqDegout']]"
      ],
      "execution_count": 0,
      "outputs": []
    },
    {
      "cell_type": "code",
      "metadata": {
        "id": "OUFJGOyexD6B",
        "colab_type": "code",
        "colab": {}
      },
      "source": [
        "X_train,X_test=train_test_split(X,random_state=42,test_size=0.2)\n",
        "X_test,X_val=train_test_split(X_test,random_state=42,test_size=0.1)"
      ],
      "execution_count": 0,
      "outputs": []
    },
    {
      "cell_type": "code",
      "metadata": {
        "id": "5_2JUjn3xP2B",
        "colab_type": "code",
        "colab": {}
      },
      "source": [
        "idx = X_train.index\n",
        "X_train_idf_tri = X_train_idf_tri.set_index(idx)\n",
        "X_train_combine = pd.concat([X_train_idf_tri, X_train], axis=1)\n",
        "idx=  X_test.index\n",
        "X_test_idf_tri = X_test_idf_tri.set_index(idx)\n",
        "X_test_combine = pd.concat([X_test_idf_tri, X_test], axis=1)"
      ],
      "execution_count": 0,
      "outputs": []
    },
    {
      "cell_type": "code",
      "metadata": {
        "id": "YVsmc79A9bhw",
        "colab_type": "code",
        "colab": {
          "base_uri": "https://localhost:8080/",
          "height": 456
        },
        "outputId": "2d31ac21-50a9-47b2-ee3b-7f41a7838c75"
      },
      "source": [
        "modeldf = pd.DataFrame(columns = [ 'Accuracy_score', 'Recall_score', 'Precision', 'f1_score',\n",
        "       'Area_under_curve'])\n",
        "for model in models:\n",
        "    modeldf = pd.concat([modeldf,model_report(model,X_train_combine,X_test_combine,y_train,y_test)])\n",
        "modeldf['nom']=['GaussianNB','RFC','DTC','XGBOOST','RegLog','SVC_rbf']\n",
        "modeldf.set_index(['nom'])"
      ],
      "execution_count": 167,
      "outputs": [
        {
          "output_type": "stream",
          "text": [
            "/usr/local/lib/python3.6/dist-packages/sklearn/linear_model/_logistic.py:940: ConvergenceWarning: lbfgs failed to converge (status=1):\n",
            "STOP: TOTAL NO. of ITERATIONS REACHED LIMIT.\n",
            "\n",
            "Increase the number of iterations (max_iter) or scale the data as shown in:\n",
            "    https://scikit-learn.org/stable/modules/preprocessing.html\n",
            "Please also refer to the documentation for alternative solver options:\n",
            "    https://scikit-learn.org/stable/modules/linear_model.html#logistic-regression\n",
            "  extra_warning_msg=_LOGISTIC_SOLVER_CONVERGENCE_MSG)\n",
            "/usr/local/lib/python3.6/dist-packages/sklearn/metrics/_classification.py:1272: UndefinedMetricWarning: Precision is ill-defined and being set to 0.0 due to no predicted samples. Use `zero_division` parameter to control this behavior.\n",
            "  _warn_prf(average, modifier, msg_start, len(result))\n"
          ],
          "name": "stderr"
        },
        {
          "output_type": "execute_result",
          "data": {
            "text/html": [
              "<div>\n",
              "<style scoped>\n",
              "    .dataframe tbody tr th:only-of-type {\n",
              "        vertical-align: middle;\n",
              "    }\n",
              "\n",
              "    .dataframe tbody tr th {\n",
              "        vertical-align: top;\n",
              "    }\n",
              "\n",
              "    .dataframe thead th {\n",
              "        text-align: right;\n",
              "    }\n",
              "</style>\n",
              "<table border=\"1\" class=\"dataframe\">\n",
              "  <thead>\n",
              "    <tr style=\"text-align: right;\">\n",
              "      <th></th>\n",
              "      <th>Accuracy_score</th>\n",
              "      <th>Recall_score</th>\n",
              "      <th>Precision</th>\n",
              "      <th>f1_score</th>\n",
              "      <th>Area_under_curve</th>\n",
              "    </tr>\n",
              "    <tr>\n",
              "      <th>nom</th>\n",
              "      <th></th>\n",
              "      <th></th>\n",
              "      <th></th>\n",
              "      <th></th>\n",
              "      <th></th>\n",
              "    </tr>\n",
              "  </thead>\n",
              "  <tbody>\n",
              "    <tr>\n",
              "      <th>GaussianNB</th>\n",
              "      <td>0.740000</td>\n",
              "      <td>0.354260</td>\n",
              "      <td>0.467456</td>\n",
              "      <td>0.403061</td>\n",
              "      <td>0.610660</td>\n",
              "    </tr>\n",
              "    <tr>\n",
              "      <th>RFC</th>\n",
              "      <td>0.776667</td>\n",
              "      <td>0.152466</td>\n",
              "      <td>0.739130</td>\n",
              "      <td>0.252788</td>\n",
              "      <td>0.567371</td>\n",
              "    </tr>\n",
              "    <tr>\n",
              "      <th>DTC</th>\n",
              "      <td>0.690000</td>\n",
              "      <td>0.390135</td>\n",
              "      <td>0.378261</td>\n",
              "      <td>0.384106</td>\n",
              "      <td>0.589454</td>\n",
              "    </tr>\n",
              "    <tr>\n",
              "      <th>XGBOOST</th>\n",
              "      <td>0.773333</td>\n",
              "      <td>0.130045</td>\n",
              "      <td>0.743590</td>\n",
              "      <td>0.221374</td>\n",
              "      <td>0.557637</td>\n",
              "    </tr>\n",
              "    <tr>\n",
              "      <th>RegLog</th>\n",
              "      <td>0.741111</td>\n",
              "      <td>0.067265</td>\n",
              "      <td>0.375000</td>\n",
              "      <td>0.114068</td>\n",
              "      <td>0.515168</td>\n",
              "    </tr>\n",
              "    <tr>\n",
              "      <th>SVC_rbf</th>\n",
              "      <td>0.752222</td>\n",
              "      <td>0.000000</td>\n",
              "      <td>0.000000</td>\n",
              "      <td>0.000000</td>\n",
              "      <td>0.500000</td>\n",
              "    </tr>\n",
              "  </tbody>\n",
              "</table>\n",
              "</div>"
            ],
            "text/plain": [
              "            Accuracy_score  Recall_score  Precision  f1_score  Area_under_curve\n",
              "nom                                                                            \n",
              "GaussianNB        0.740000      0.354260   0.467456  0.403061          0.610660\n",
              "RFC               0.776667      0.152466   0.739130  0.252788          0.567371\n",
              "DTC               0.690000      0.390135   0.378261  0.384106          0.589454\n",
              "XGBOOST           0.773333      0.130045   0.743590  0.221374          0.557637\n",
              "RegLog            0.741111      0.067265   0.375000  0.114068          0.515168\n",
              "SVC_rbf           0.752222      0.000000   0.000000  0.000000          0.500000"
            ]
          },
          "metadata": {
            "tags": []
          },
          "execution_count": 167
        }
      ]
    },
    {
      "cell_type": "code",
      "metadata": {
        "id": "A6CvFosFA6jG",
        "colab_type": "code",
        "colab": {
          "base_uri": "https://localhost:8080/",
          "height": 515
        },
        "outputId": "5ee74f08-fa1e-4895-bed9-90e465328872"
      },
      "source": [
        "predictions(GaussianNB(),X_train_combine,X_test_combine,y_train,y_test)"
      ],
      "execution_count": 168,
      "outputs": [
        {
          "output_type": "stream",
          "text": [
            "GaussianNB(priors=None, var_smoothing=1e-09)\n",
            "Classification report :               precision    recall  f1-score   support\n",
            "\n",
            "           0       0.80      0.87      0.83       677\n",
            "           1       0.47      0.35      0.40       223\n",
            "\n",
            "    accuracy                           0.74       900\n",
            "   macro avg       0.64      0.61      0.62       900\n",
            "weighted avg       0.72      0.74      0.73       900\n",
            "\n",
            "Accuracy :  0.74\n",
            "AUC :  0.6106603254929754\n"
          ],
          "name": "stdout"
        },
        {
          "output_type": "display_data",
          "data": {
            "image/png": "[encoded data removed]",
            "text/plain": [
              "<Figure size 864x720 with 3 Axes>"
            ]
          },
          "metadata": {
            "tags": []
          }
        }
      ]
    },
    {
      "cell_type": "markdown",
      "metadata": {
        "id": "yDuSEkKBDbFT",
        "colab_type": "text"
      },
      "source": [
        "## Conclusion on the umbalanced dataset\n",
        "\n",
        "As we can see, the best method seem to be the TF-Idf tri-gram with a Naive Bayes model (with 0.5647 f1_score and a AUC of 0.72).\n",
        "Moreover as we can see with the confusion matrix, the model is almost classying all the women correctly.\n",
        "We will now try the same approch with a balanced dataset and after that we will try to tune the best model to extract some gender marker."
      ]
    },
    {
      "cell_type": "markdown",
      "metadata": {
        "id": "v1rUDl4ow1rZ",
        "colab_type": "text"
      },
      "source": [
        "References "
      ]
    },
    {
      "cell_type": "markdown",
      "metadata": {
        "id": "xOSpI3yxw1rZ",
        "colab_type": "text"
      },
      "source": [
        "https://bib.irb.hr/datoteka/861053.Gender_differences_in_the_personal_pronouns_usage_of_the_corpus_of_congressional_speeches.pdf"
      ]
    },
    {
      "cell_type": "markdown",
      "metadata": {
        "id": "wt414dLUw1ra",
        "colab_type": "text"
      },
      "source": [
        "https://www.researchgate.net/publication/253291274_Gender_Differences_in_Language_Use_An_Analysis_of_14000_Text_Samples/link/571e3c1b08aeaced7889ddce/download\n",
        "\n",
        "\n",
        "https://towardsdatascience.com/multi-class-text-classification-with-doc2vec-logistic-regression-9da9947b43f4"
      ]
    }
  ]
}