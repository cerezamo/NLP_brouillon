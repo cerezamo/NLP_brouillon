{
  "nbformat": 4,
  "nbformat_minor": 0,
  "metadata": {
    "colab": {
      "name": "Camembert_v2.ipynb",
      "provenance": [],
      "toc_visible": true,
      "authorship_tag": "ABX9TyPHCcWbIkXIlhk2GwWBXYPo",
      "include_colab_link": true
    },
    "kernelspec": {
      "name": "python3",
      "display_name": "Python 3"
    },
    "accelerator": "GPU"
  },
  "cells": [
    {
      "cell_type": "markdown",
      "metadata": {
        "id": "view-in-github",
        "colab_type": "text"
      },
      "source": [
        "<a href=\"https://colab.research.google.com/github/cerezamo/NLP_brouillon/blob/master/Camembert_v2.ipynb\" target=\"_parent\"><img src=\"https://colab.research.google.com/assets/colab-badge.svg\" alt=\"Open In Colab\"/></a>"
      ]
    },
    {
      "cell_type": "markdown",
      "metadata": {
        "id": "kcxLW3uyHTSN",
        "colab_type": "text"
      },
      "source": [
        "# CamemBERT classification model \n"
      ]
    },
    {
      "cell_type": "code",
      "metadata": {
        "id": "H1JD-Tb0HdvN",
        "colab_type": "code",
        "outputId": "1b67f067-afef-4a30-b17c-6e2fff71a851",
        "colab": {
          "base_uri": "https://localhost:8080/",
          "height": 34
        }
      },
      "source": [
        "import spacy \n",
        "import numpy as np \n",
        "import pandas as pd \n",
        "import os \n",
        "os.getcwd()\n",
        "from google.colab import drive \n",
        "drive.mount('/content/gdrive')"
      ],
      "execution_count": 53,
      "outputs": [
        {
          "output_type": "stream",
          "text": [
            "Drive already mounted at /content/gdrive; to attempt to forcibly remount, call drive.mount(\"/content/gdrive\", force_remount=True).\n"
          ],
          "name": "stdout"
        }
      ]
    },
    {
      "cell_type": "markdown",
      "metadata": {
        "id": "8bxA1IEgH-GI",
        "colab_type": "text"
      },
      "source": [
        "### Set up Colab GPU "
      ]
    },
    {
      "cell_type": "code",
      "metadata": {
        "id": "2mF6Hs6yH2A5",
        "colab_type": "code",
        "outputId": "29847e89-1c01-402f-e162-d333820c75f2",
        "colab": {
          "base_uri": "https://localhost:8080/",
          "height": 34
        }
      },
      "source": [
        "#%tensorflow_version 1.x\n",
        "# First you should go in 'Edit' -> 'Notebook settings' -> Add device GPU\n",
        "import tensorflow as tf\n",
        "\n",
        "\n",
        "# GPU device name.\n",
        "device_name = tf.test.gpu_device_name()\n",
        "device_name"
      ],
      "execution_count": 54,
      "outputs": [
        {
          "output_type": "execute_result",
          "data": {
            "text/plain": [
              "'/device:GPU:0'"
            ]
          },
          "metadata": {
            "tags": []
          },
          "execution_count": 54
        }
      ]
    },
    {
      "cell_type": "markdown",
      "metadata": {
        "id": "VZ_F6NV3IaCY",
        "colab_type": "text"
      },
      "source": [
        "Let's now tell torch that one GPU is available "
      ]
    },
    {
      "cell_type": "code",
      "metadata": {
        "id": "wr4fjemjIVoQ",
        "colab_type": "code",
        "outputId": "4cb81605-bdf6-41e6-e290-c767d74ce537",
        "colab": {
          "base_uri": "https://localhost:8080/",
          "height": 51
        }
      },
      "source": [
        "import torch\n",
        "\n",
        "if torch.cuda.is_available():  \n",
        "        \n",
        "    device = torch.device(\"cuda\")\n",
        "\n",
        "    print('There are %d GPU(s) available.' % torch.cuda.device_count())\n",
        "\n",
        "    print('We will use the GPU:', torch.cuda.get_device_name(0))\n",
        "\n",
        "# If not...\n",
        "else:\n",
        "    print('No GPU available, using the CPU instead.')\n",
        "    device = torch.device(\"cpu\")"
      ],
      "execution_count": 55,
      "outputs": [
        {
          "output_type": "stream",
          "text": [
            "There are 1 GPU(s) available.\n",
            "We will use the GPU: Tesla P4\n"
          ],
          "name": "stdout"
        }
      ]
    },
    {
      "cell_type": "markdown",
      "metadata": {
        "id": "6LcRSHffJyZm",
        "colab_type": "text"
      },
      "source": [
        "Please check GPU capacity that you were given. You might want to reduce the batch size further in the code. "
      ]
    },
    {
      "cell_type": "markdown",
      "metadata": {
        "id": "ZGwjFzizIsMI",
        "colab_type": "text"
      },
      "source": [
        "Let's install the Hugging Face Library transformer package "
      ]
    },
    {
      "cell_type": "code",
      "metadata": {
        "id": "--g7cokfIrpT",
        "colab_type": "code",
        "outputId": "a1ecffeb-68c6-4db7-e602-a6777437d6ad",
        "colab": {
          "base_uri": "https://localhost:8080/",
          "height": 391
        }
      },
      "source": [
        "! pip install transformers "
      ],
      "execution_count": 56,
      "outputs": [
        {
          "output_type": "stream",
          "text": [
            "Requirement already satisfied: transformers in /usr/local/lib/python3.6/dist-packages (2.6.0)\n",
            "Requirement already satisfied: filelock in /usr/local/lib/python3.6/dist-packages (from transformers) (3.0.12)\n",
            "Requirement already satisfied: sacremoses in /usr/local/lib/python3.6/dist-packages (from transformers) (0.0.38)\n",
            "Requirement already satisfied: tokenizers==0.5.2 in /usr/local/lib/python3.6/dist-packages (from transformers) (0.5.2)\n",
            "Requirement already satisfied: numpy in /usr/local/lib/python3.6/dist-packages (from transformers) (1.18.2)\n",
            "Requirement already satisfied: regex!=2019.12.17 in /usr/local/lib/python3.6/dist-packages (from transformers) (2019.12.20)\n",
            "Requirement already satisfied: boto3 in /usr/local/lib/python3.6/dist-packages (from transformers) (1.12.27)\n",
            "Requirement already satisfied: sentencepiece in /usr/local/lib/python3.6/dist-packages (from transformers) (0.1.85)\n",
            "Requirement already satisfied: tqdm>=4.27 in /usr/local/lib/python3.6/dist-packages (from transformers) (4.38.0)\n",
            "Requirement already satisfied: requests in /usr/local/lib/python3.6/dist-packages (from transformers) (2.21.0)\n",
            "Requirement already satisfied: six in /usr/local/lib/python3.6/dist-packages (from sacremoses->transformers) (1.12.0)\n",
            "Requirement already satisfied: joblib in /usr/local/lib/python3.6/dist-packages (from sacremoses->transformers) (0.14.1)\n",
            "Requirement already satisfied: click in /usr/local/lib/python3.6/dist-packages (from sacremoses->transformers) (7.1.1)\n",
            "Requirement already satisfied: s3transfer<0.4.0,>=0.3.0 in /usr/local/lib/python3.6/dist-packages (from boto3->transformers) (0.3.3)\n",
            "Requirement already satisfied: jmespath<1.0.0,>=0.7.1 in /usr/local/lib/python3.6/dist-packages (from boto3->transformers) (0.9.5)\n",
            "Requirement already satisfied: botocore<1.16.0,>=1.15.27 in /usr/local/lib/python3.6/dist-packages (from boto3->transformers) (1.15.27)\n",
            "Requirement already satisfied: idna<2.9,>=2.5 in /usr/local/lib/python3.6/dist-packages (from requests->transformers) (2.8)\n",
            "Requirement already satisfied: certifi>=2017.4.17 in /usr/local/lib/python3.6/dist-packages (from requests->transformers) (2019.11.28)\n",
            "Requirement already satisfied: chardet<3.1.0,>=3.0.2 in /usr/local/lib/python3.6/dist-packages (from requests->transformers) (3.0.4)\n",
            "Requirement already satisfied: urllib3<1.25,>=1.21.1 in /usr/local/lib/python3.6/dist-packages (from requests->transformers) (1.24.3)\n",
            "Requirement already satisfied: python-dateutil<3.0.0,>=2.1 in /usr/local/lib/python3.6/dist-packages (from botocore<1.16.0,>=1.15.27->boto3->transformers) (2.8.1)\n",
            "Requirement already satisfied: docutils<0.16,>=0.10 in /usr/local/lib/python3.6/dist-packages (from botocore<1.16.0,>=1.15.27->boto3->transformers) (0.15.2)\n"
          ],
          "name": "stdout"
        }
      ]
    },
    {
      "cell_type": "markdown",
      "metadata": {
        "id": "W4OKq8Z4JId9",
        "colab_type": "text"
      },
      "source": [
        "### Loading our corpus and preprocessing "
      ]
    },
    {
      "cell_type": "code",
      "metadata": {
        "id": "aOCVLtje9_Rs",
        "colab_type": "code",
        "colab": {}
      },
      "source": [
        "import pandas as pd\n",
        "# Import medium_df_desq in \"files\"\n",
        "# Load the dataset into a pandas dataframe.\n",
        "#df=pd.read_csv('medium_df_deseq.csv',encoding='utf-8')\n",
        "df=pd.read_csv('medium_df_deseq.csv',encoding='utf-8')\n",
        "\n",
        "# We replace the labels in a more normalized way : 0=men, 1=women \n",
        "df.sexe=df.sexe.replace(1,0)\n",
        "df.sexe=df.sexe.replace(2,1)\n"
      ],
      "execution_count": 0,
      "outputs": []
    },
    {
      "cell_type": "code",
      "metadata": {
        "id": "HgllpcqJevp4",
        "colab_type": "code",
        "colab": {}
      },
      "source": [
        "# Make results reproducible \n",
        "seed_val = 2020"
      ],
      "execution_count": 0,
      "outputs": []
    },
    {
      "cell_type": "code",
      "metadata": {
        "id": "Ae8ICVGvUBLv",
        "colab_type": "code",
        "colab": {}
      },
      "source": [
        "def unbalanced_preprocess(df,seed_val,frac_val):\n",
        "\n",
        "  from sklearn.model_selection import train_test_split\n",
        "\n",
        "  #Shuffle the data \n",
        "  df_unbalanced=df.sample(frac=frac_val).reset_index()\n",
        "\n",
        "  # Reduce to the variables we are interested in \n",
        "  df_unbalanced=df_unbalanced[['Texte','sexe']]\n",
        "\n",
        "  # Report the number of speeches in the corpus.\n",
        "  print('Number of text in the unbalanced corpus : {:,}\\n'.format(df_unbalanced.shape[0]))\n",
        "  prop = (len(df_unbalanced[df_unbalanced.sexe==1])/len(df_unbalanced))*100\n",
        "  print('Proportions of women in the unbalanced corpus : {}\\n'.format(prop))\n",
        "\n",
        "  # We keep one little sample for evaluation \n",
        "  model_unbalanced, dev_unbalanced = train_test_split(df_unbalanced, test_size=0.02,random_state=seed_val)\n",
        "\n",
        "  return model_unbalanced, dev_unbalanced"
      ],
      "execution_count": 0,
      "outputs": []
    },
    {
      "cell_type": "code",
      "metadata": {
        "id": "3IdYJSSRUdD0",
        "colab_type": "code",
        "outputId": "aab37df9-b463-4c08-aae3-8e08efa81dd7",
        "colab": {
          "base_uri": "https://localhost:8080/",
          "height": 85
        }
      },
      "source": [
        "df_unbalanced = unbalanced_preprocess(df,seed_val,frac_val=0.5)[0]"
      ],
      "execution_count": 60,
      "outputs": [
        {
          "output_type": "stream",
          "text": [
            "Number of text in the unbalanced corpus : 2,500\n",
            "\n",
            "Proportions of women in the unbalanced corpus : 25.28\n",
            "\n"
          ],
          "name": "stdout"
        }
      ]
    },
    {
      "cell_type": "code",
      "metadata": {
        "id": "bd4SCY6LUuwY",
        "colab_type": "code",
        "colab": {}
      },
      "source": [
        "def balanced_preprocess(df,seed_val,frac_val):\n",
        "  from sklearn.model_selection import train_test_split\n",
        "\n",
        "  # Let's take a balanced sample \n",
        "  df_m = df.loc[df['sexe'] == 0]\n",
        "  df_f = df.loc[df['sexe'] == 1] \n",
        "  df_m = df_m[0:len(df_f)]\n",
        "  df = df_f.append(df_m)\n",
        "\n",
        "  #Shuffle the data and taking half of the sample in order not to have to many data compared to the other samples \n",
        "  df_balanced=df.sample(frac=1).reset_index()\n",
        "\n",
        "  # Reduce to the variables we are interested in \n",
        "  df_balanced=df_balanced[['Texte','sexe']]\n",
        "\n",
        "  # Report the number of speeches in the corpus.\n",
        "  print('Number of text in this corpus : {:,}\\n'.format(df_balanced.shape[0]))\n",
        "  prop = (len(df_balanced[df_balanced.sexe==1])/len(df_balanced))*100\n",
        "  print('Proportions of women in the balanced corpus : {}\\n'.format(prop))\n",
        "\n",
        "  # Keep one little sample for evaluation \n",
        "  model_balanced, dev_balanced = train_test_split(df_balanced, test_size=0.02,random_state=seed_val)\n",
        "\n",
        "  return model_balanced, dev_balanced\n",
        "\n"
      ],
      "execution_count": 0,
      "outputs": []
    },
    {
      "cell_type": "code",
      "metadata": {
        "id": "UeQif_N0X4uW",
        "colab_type": "code",
        "outputId": "54202fba-a9d5-4631-ae68-82c2588b7936",
        "colab": {
          "base_uri": "https://localhost:8080/",
          "height": 85
        }
      },
      "source": [
        "df_balanced = balanced_preprocess(df,seed_val,frac_val=1)[0]"
      ],
      "execution_count": 62,
      "outputs": [
        {
          "output_type": "stream",
          "text": [
            "Number of text in this corpus : 2,500\n",
            "\n",
            "Proportions of women in the balanced corpus : 50.0\n",
            "\n"
          ],
          "name": "stdout"
        }
      ]
    },
    {
      "cell_type": "code",
      "metadata": {
        "id": "E85CuAStX_qR",
        "colab_type": "code",
        "colab": {}
      },
      "source": [
        "def balanced_splitted(df,seed_val,frac_val):\n",
        "  from sklearn.model_selection import train_test_split\n",
        "    # Reduce to the variables we are interested in \n",
        "  df=df[['Texte','sexe']]\n",
        "\n",
        "    # Let's take a balanced sample \n",
        "  df_m = df.loc[df['sexe'] == 0]\n",
        "  df_f = df.loc[df['sexe'] == 1] \n",
        "  df_m = df_m[0:len(df_f)]\n",
        "  df = df_f.append(df_m)\n",
        "\n",
        "   #Shuffle the data\n",
        "  df=df.sample(frac=frac_val).reset_index()\n",
        "\n",
        "  from itertools import repeat\n",
        "\n",
        "  n=2500\n",
        "  chunks, label_split=[],[]\n",
        "  j=0\n",
        "  for text in df.Texte :\n",
        "      txt=[text[i:i+n] for i in range(0, len(text), n)]\n",
        "      chunks.append(txt)\n",
        "      label_split.extend(repeat(df.sexe[j], len(txt)))\n",
        "      j+=1\n",
        "\n",
        "  chunks = [item for sublist in chunks for item in sublist]\n",
        "  df=pd.DataFrame([chunks,label_split]).transpose()\n",
        "  df.columns=['Texte','sexe']\n",
        "\n",
        "  # Put as integer \n",
        "  df['sexe'] = df['sexe'].astype(int)\n",
        "\n",
        "  df_balanced_split= df\n",
        "\n",
        "  # Report the number of speeches in the corpus.\n",
        "  print('Number of text in this balanced splitted corpus : {:,}\\n'.format(df_balanced_split.shape[0]))\n",
        "  prop = (len(df_balanced_split[df_balanced_split.sexe==1])/len(df_balanced_split))*100\n",
        "  print('Proportions of women in the balanced splitted corpus : {}\\n'.format(prop))\n",
        "\n",
        "  # Keep one little sample for evaluation \n",
        "  model_balanced_split, dev_balance_split = train_test_split(df_balanced_split, test_size=0.02,random_state=seed_val)\n",
        "  \n",
        "  return model_balanced_split, dev_balance_split"
      ],
      "execution_count": 0,
      "outputs": []
    },
    {
      "cell_type": "code",
      "metadata": {
        "id": "LmEpbT1JYf5-",
        "colab_type": "code",
        "outputId": "c83acb70-a822-4499-bcee-b90b950f1c0c",
        "colab": {
          "base_uri": "https://localhost:8080/",
          "height": 85
        }
      },
      "source": [
        "df_balanced_split = balanced_splitted(df,seed_val,0.2)[0]"
      ],
      "execution_count": 64,
      "outputs": [
        {
          "output_type": "stream",
          "text": [
            "Number of text in this balanced splitted corpus : 2,531\n",
            "\n",
            "Proportions of women in the balanced splitted corpus : 53.299091268273415\n",
            "\n"
          ],
          "name": "stdout"
        }
      ]
    },
    {
      "cell_type": "markdown",
      "metadata": {
        "id": "WTKQ0QnAZ_wu",
        "colab_type": "text"
      },
      "source": [
        "**We propose 3 samples to train our model :**\n",
        "\n",
        "\n",
        "1.   **Unbalanced sample**\n",
        "\n",
        "We take the raw data without any further treatment.\n",
        "\n",
        "2.   **Balanced sample**\n",
        "\n",
        "The second option consist in deleting randomly part of male speeches in order to get a balanced sample. Indeed, in the case of unbalanced sample our model could decide to classify all speakers in the male category which would lead to a 0.75 accuracy in our case study. In order to avoid this we feed the model with the same proportions of male and female speakers. Other kind of treatments exist to deal with unbalanced sample. This one is the simpliest one and we could argue that there is a possibility that the deleted sample contains important information that we therefore miss. However we believe that in our case this is not a big issue. Our unbalanced sample is quite large for both female and male.\n",
        "\n",
        "3. **Balanced and splitted sample**\n",
        "\n",
        "The third option is a response to the max length constraint of BERT models. Our text samples are big and contain much more tokens than the 512 limit. In the first two options we decide to just feed the model with the 512 first tokens and thus delete the rest of them. In this third option we cut the text into x parts containing 500 tokens each. All parts of the speech will serve to feed the model. By this technique we do not loose potential important informations at the end of the text. A lot of other techniques have been employed (see ref !!! PUT). We decide to stick to this one in this project. \n",
        "\n"
      ]
    },
    {
      "cell_type": "markdown",
      "metadata": {
        "id": "ressz8h6OHxn",
        "colab_type": "text"
      },
      "source": [
        "#### Tokenization of our text and preparing to feed CamemBERT"
      ]
    },
    {
      "cell_type": "markdown",
      "metadata": {
        "id": "ntpzo9X5SSjA",
        "colab_type": "text"
      },
      "source": [
        "#### Loading the Camembert Tokenizer"
      ]
    },
    {
      "cell_type": "code",
      "metadata": {
        "id": "mggkz5R9g8dD",
        "colab_type": "code",
        "colab": {}
      },
      "source": [
        "# Import Camembert tokenizer\n",
        "from transformers import CamembertTokenizer\n",
        "# We choose a right padding side for the moment and we will test for a left padding side on a second stage\n",
        "tokenizer = CamembertTokenizer.from_pretrained('camembert-base', do_lower_case=False,padding_side='right') #left"
      ],
      "execution_count": 0,
      "outputs": []
    },
    {
      "cell_type": "code",
      "metadata": {
        "id": "JoaZUUBChM_J",
        "colab_type": "code",
        "outputId": "4960d53e-4583-4149-ab90-36882dfe6d70",
        "colab": {
          "base_uri": "https://localhost:8080/",
          "height": 88
        }
      },
      "source": [
        "# Print the original text.\n",
        "print(' Original: ', df.Texte[0])\n",
        "\n",
        "# Print the text split into tokens.\n",
        "print('Tokenized: ', tokenizer.tokenize(df.Texte[0]))\n",
        "\n",
        "# Print the text mapped to token ids.\n",
        "print('Token IDs: ', tokenizer.convert_tokens_to_ids(tokenizer.tokenize(df.Texte[0])))"
      ],
      "execution_count": 66,
      "outputs": [
        {
          "output_type": "stream",
          "text": [
            " Original:  Messieurs,Je suis heureux de vous saluer. Quand je dis que je suis heureux de vous saluer, ce n'est pas une simple affirmation de politesse. Je le disais à l'instant à Monsieur le Ministre de la Défense, M. Richard, c'est pour moi un instant où il y a un peu d'émotion; je vais vous dire pourquoi.Vous êtes la première classe d'âge qui ne fera pas de service militaire. C'est une décision que j'ai prise, il y a deux ans, après une vraie réflexion et un vrai débat. Après tout, le service militaire c'est une vieille tradition nationale, il était plus que centenaire. Il y avait toutes sortes de raisons à cela, notamment la nécessité d'avoir une armée nombreuse et donc d'avoir des jeunes formés aux combats, à l'utilisation des armes de l'époque.On pouvait s'interroger sur la nécessité de poursuivre dans cette voie. Il y avait naturellement des critiques, il y avait beaucoup de jeunes qui se disaient qu'ils perdaient un peu leur temps, d'autres qui étaient satisfaits. Mais il y avait surtout ceux qui, dans notre pays, disaient: le service militaire c'est nécessaire pour la cohésion nationale, c'est un moyen de mettre ensemble les garçons issus de milieux et d'origines géographiques, culturelles, sociales, différents et de faire en sorte qu'ils se connaissent, qu'ils soient ensemble, et ce que l'on appelait la fraternité des casernes était considérée par beaucoup comme un élément important de la cohésion nationale. Cet argument était celui de beaucoup de conservateurs. Les conservateurs ont toujours des arguments forts, il faut en tenir compte. D'autre part, il m'était apparu que tout cela, au fond, appartenait un peu à une conception dépassée de la défense, et faisait peser au total sur les jeunes une contrainte obligatoire et excessive qui n'était pas justifiée, ou qui ne l'était plus.L'armée moderne n'est naturellement pas celle dont on avait besoin en 1914 ou 1939, ou même après, au moment des guerres de décolonisation en Algérie ou autres. Tout cela justifiait que l'on passe 1 an ou 2, voire plus, de service militaire, - parfois 3 ans au début du siècle, 2 ans et demi pendant la période de la guerre d'Algérie pour certains -.L'évolution des choses mettait cela en cause. L'évolution, c'était d'abord l'installation de la paix en Europe. Et cela a été une grande réforme, à partir du moment ou l'on a lancé la construction européenne: nous n'avons plus été menacés sur nos frontières. Il fut un temps où nous devions pouvoir opposer un barrage de poitrines aux poitrines allemandes qui risquaient de s'avancer chez nous, il fallait encore beaucoup d'hommes. La construction européenne a fait disparaître cette menace. Nous ne sommes plus menacés à nos frontières: on n'imagine pas l'Allemagne attaquant la France, on ne l'image plus. Donc, en toute hypothèse, la menace s'était éloignée. Il y avait aussi, naturellement, l'armement qui avait beaucoup changé, les techniques militaires qui s'étaient profondément transformées. Aujourd'hui, une opération militaire, la guerre le cas échéant, mobilise des hommes et des femmes qui ont une très haute compétence, qui sont aptes à utiliser des moyens extraordinairement sophistiqués, qui sont totalement disponibles et prêts à faire mouvement immédiatement, et qui n'ont besoin d'aucune formation préalable pour le faire.C'est donc un autre type de besoin que nous avons et qui ne correspond plus au service militaire tel qu'on le concevait avant. C'est donc une armée professionnelle qu'il nous faut, c'est une armée de métier, ce sont des vrais professionnels.A partir de cette réflexion, j'ai pensé que finalement, quels que soient les arguments, de nature sociale ou nationale qui plaidaient en faveur du service militaire, ce n'était plus adapté, et j'ai décidé de le supprimer. Mais la suppression du service militaire, cela ne veut pas dire la suppression de tout lien entre la jeunesse et l'armée. Il faut que les jeunes sachent ce que c'est que leur armée. Il faut que vous le sachiez, parce que vous êtes dépositaires de l'avenir. On s'imagine que tout va bien, qu'il n'y a plus de problème. Quand on est né dans les années 1980, on a toujours connu la liberté, la démocratie, les embêtements de la vie, les problèmes, le chômage, ou d'autres choses, mais on a pas connu la guerre naturellement. Vos grands-pères l'ont connue, pas vous. Cela ne vous dit rien, et pourtant c'est en permanence une menace. La France a des intérêts dans le monde, elle doit le cas échéant les défendre, et il faut que la France puisse apporter sa contribution militaire pour permettre de maintenir la paix ici où là, ou pour permettre de sauver des vies quand c'est nécessaire. Lorsque la Bosnie s'engage dans une opération suicidaire, qui fait des quantités de morts, il faut que la France, comme d'autres, puisse aller maintenir un peu l'ordre pour éviter les carnages. C'est la même chose aujourd'hui, peut-être -on ne sait pas, j'espère que non- dans le Kosovo. Et tout cela, c'est aux portes de l'Europe, c'est à moins de deux heures de chez nous en avion.Lorsqu'il y a des problèmes, hélas, en Afrique et cela arrive même si l'Afrique est sur la bonne voie, il faut que nous ayons la possibilité, en quelques heures, d'aller récupérer des Français ou des ressortissants d'autres pays qui sont là-bas et qui sont menacés dans leur vie, et qu'il faut extraire très rapidement. Cela demande une armée qui soit non seulement capable et équipée, mais qui soit aussi connue, respectée et aimée. D'où, naturellement, l'idée que les jeunes doivent connaître leur armée, doivent savoir ce qu'elle est, et quand je dis les jeunes c'est en réalité aujourd'hui les garçons comme les filles. Alors pour le moment et pour des raisons matérielles, techniques, les filles ne sont pas soumises à la même obligation que les garçons, mais dès 2000, le temps de mettre les choses en place, les garçons et les filles seront sur le même pied, auront les mêmes droits et devoirs, les mêmes obligations. Ce sera de ce point de vue une bonne chose, parce qu'il n'y a aucune raison que la prise de conscience des problèmes de la Défense, notamment de la défense de nos intérêts, de nos valeurs, de la liberté, de la dignité de l'homme, de l'égalité, il n'y a aucune raison qu'elle ne soit pas défendue de la même façon par les filles et par les garçons.Cette nouvelle armée, il faut en gros que vous sachiez ce que c'est. Elle ne vous demande pas d'obligation, ou très peu. Elle vous demande de venir passer une journée. C'est une journée d'information, de mobilisation, qui est de nature à vous permettre d'apprécier le cas échéant les choses et, pour ceux que cela intéresse, de les approfondir. Alors elle ne vous demande pas d'obligation, mais en revanche elle vous ouvre des possibilités importantes, et ne les sous-estimez pas, et pour en profiter il faut les connaître.Il y en a probablement parmi vous, ou parmi tous ceux qui se présenteront aujourd'hui pour la journée d'information, qui voudront être militaires. C'est un superbe métier, noble s'il en est. Ceux-là par conséquent ont besoin de savoir comment l'on fait si l'on veut s'engager dans cette voie. Il y a aussi ceux qui, pour des raisons personnelles, ou parce qu'ils ont le coeur à cela, veulent se consacrer pendant quelques temps - un an, un an et demi - à des tâches, je dirais généralement humanitaires au sens large du terme, qu'elles soient militaires ou qu'elles soient civiles, à apporter leur concours à l'éducation nationale pour apprendre à des gamins défavorisés à lire ou à écrire, pour faciliter la préservation de l'environnement, pour lutter contre les incendies, pour servir dans des unités chargées de maintenir la sécurité des personnes et des biens, je pense à la gendarmerie ou à d'autres domaines. Bref, il y en a certainement qui seront intéressés par l'idée de consacrer un an, un an et demi de leur coeur, de leur générosité à d'autres, dans ces domaines civils ou militaires, qui très largement peuvent être appelés des domaines humanitaires. J'ajoute que pour eux, ce sera aussi la possibilité d'acquérir une expérience, et parfois un métier, et de sortir de cette période avec la possibilité ou la capacité d'exercer un métier qu'ils auront appris. Il y aura ceux qui s'intéressent à l'armée, sans vouloir en faire leur métier. L'armée aura besoin de réservistes, beaucoup moins qu'avant, alors il y en a peut-être qui veulent ou qui voudront, parce que cela les intéresse, acquérir le minimum de connaissances leur permettant d'être versé dans ce que l'on appelle \"les réserves\" et le cas échéant d'être réservistes.Je ne veux pas entrer dans le détail, vous aurez toute la journée pour en entendre parler, mais l'objectif de cette journée est de vous faire comprendre que l'armée est l'une des institutions les plus nobles et les plus nécessaires de la nation et qu'il faut la connaître. Parfois on a un peu tendance à la critiquer, sans savoir. Il faut la connaître parce qu'elle fait des choses formidables, notamment, je le répète, dans le monde moderne sur le plan humanitaire et enfin, parce que c'est le dernier rempart de notre sécurité, de nos libertés, de nos intérêts, si par hasard les choses vont mal. Alors elle mérite d'être respectée, elle a droit au respect. Mais encore faut-il savoir pourquoi et c'est cela que l'on va vous dire.D'autre part, on veut vous ouvrir les voies et les possibilités que, directement ou indirectement, cette armée peut vous donner et enfin vous rappeler quels sont les principes que nous avons en commun, les principes de solidarité, les principes de respect de l'homme, de sa dignité, de l'égalité des uns et des autres, et tout cela est également important.Voilà. J'ai dû certainement oublier des choses importantes, mais on veut vous dire quels sont vos droits et aussi quels sont vos devoirs à l'égard de la Nation, et cette journée est consacrée à cela. Je souhaite qu'elle soit pour vous intéressante, qu'elle vous apprenne des choses, qu'elle vous ouvre des perspectives, qu'elle vous donne davantage conscience de vos droits mais aussi de vos devoirs.Je termine en souhaitant surtout, quelle que soit la voie que vous emprunterez et les conclusions que vous tirerez de cette journée, je vous souhaite surtout bonne chance et bon vent\n",
            "Tokenized:  ['▁Messieurs', ',', 'Je', '▁suis', '▁heureux', '▁de', '▁vous', '▁saluer', '.', '▁Quand', '▁je', '▁dis', '▁que', '▁je', '▁suis', '▁heureux', '▁de', '▁vous', '▁saluer', ',', '▁ce', '▁n', \"'\", 'est', '▁pas', '▁une', '▁simple', '▁affirmation', '▁de', '▁politesse', '.', '▁Je', '▁le', '▁disais', '▁à', '▁l', \"'\", 'instant', '▁à', '▁Monsieur', '▁le', '▁Ministre', '▁de', '▁la', '▁Défense', ',', '▁M', '.', '▁Richard', ',', '▁c', \"'\", 'est', '▁pour', '▁moi', '▁un', '▁instant', '▁où', '▁il', '▁y', '▁a', '▁un', '▁peu', '▁d', \"'\", 'émotion', ';', '▁je', '▁vais', '▁vous', '▁dire', '▁pourquoi', '.', 'Vous', '▁êtes', '▁la', '▁première', '▁classe', '▁d', \"'\", 'âge', '▁qui', '▁ne', '▁fera', '▁pas', '▁de', '▁service', '▁militaire', '.', '▁C', \"'\", 'est', '▁une', '▁décision', '▁que', '▁j', \"'\", 'ai', '▁prise', ',', '▁il', '▁y', '▁a', '▁deux', '▁ans', ',', '▁après', '▁une', '▁vraie', '▁réflexion', '▁et', '▁un', '▁vrai', '▁débat', '.', '▁Après', '▁tout', ',', '▁le', '▁service', '▁militaire', '▁c', \"'\", 'est', '▁une', '▁vieille', '▁tradition', '▁nationale', ',', '▁il', '▁était', '▁plus', '▁que', '▁centenaire', '.', '▁Il', '▁y', '▁avait', '▁toutes', '▁sortes', '▁de', '▁raisons', '▁à', '▁cela', ',', '▁notamment', '▁la', '▁nécessité', '▁d', \"'\", 'avoir', '▁une', '▁armée', '▁nombreuse', '▁et', '▁donc', '▁d', \"'\", 'avoir', '▁des', '▁jeunes', '▁formés', '▁aux', '▁combats', ',', '▁à', '▁l', \"'\", 'utilisation', '▁des', '▁armes', '▁de', '▁l', \"'\", 'époque', '.', 'On', '▁pouvait', '▁s', \"'\", 'interroger', '▁sur', '▁la', '▁nécessité', '▁de', '▁poursuivre', '▁dans', '▁cette', '▁voie', '.', '▁Il', '▁y', '▁avait', '▁naturellement', '▁des', '▁critiques', ',', '▁il', '▁y', '▁avait', '▁beaucoup', '▁de', '▁jeunes', '▁qui', '▁se', '▁disaient', '▁qu', \"'\", 'ils', '▁perd', 'aient', '▁un', '▁peu', '▁leur', '▁temps', ',', '▁d', \"'\", 'autres', '▁qui', '▁étaient', '▁satisfaits', '.', '▁Mais', '▁il', '▁y', '▁avait', '▁surtout', '▁ceux', '▁qui', ',', '▁dans', '▁notre', '▁pays', ',', '▁disaient', ':', '▁le', '▁service', '▁militaire', '▁c', \"'\", 'est', '▁nécessaire', '▁pour', '▁la', '▁cohésion', '▁nationale', ',', '▁c', \"'\", 'est', '▁un', '▁moyen', '▁de', '▁mettre', '▁ensemble', '▁les', '▁garçons', '▁issus', '▁de', '▁milieux', '▁et', '▁d', \"'\", 'origine', 's', '▁géographiques', ',', '▁culturelles', ',', '▁sociales', ',', '▁différents', '▁et', '▁de', '▁faire', '▁en', '▁sorte', '▁qu', \"'\", 'ils', '▁se', '▁connaissent', ',', '▁qu', \"'\", 'ils', '▁soient', '▁ensemble', ',', '▁et', '▁ce', '▁que', '▁l', \"'\", 'on', '▁appelait', '▁la', '▁fraternité', '▁des', '▁caserne', 's', '▁était', '▁considérée', '▁par', '▁beaucoup', '▁comme', '▁un', '▁élément', '▁important', '▁de', '▁la', '▁cohésion', '▁nationale', '.', '▁Cet', '▁argument', '▁était', '▁celui', '▁de', '▁beaucoup', '▁de', '▁conservateurs', '.', '▁Les', '▁conservateurs', '▁ont', '▁toujours', '▁des', '▁arguments', '▁forts', ',', '▁il', '▁faut', '▁en', '▁tenir', '▁compte', '.', '▁D', \"'\", 'autre', '▁part', ',', '▁il', '▁m', \"'\", 'était', '▁apparu', '▁que', '▁tout', '▁cela', ',', '▁au', '▁fond', ',', '▁appartenait', '▁un', '▁peu', '▁à', '▁une', '▁conception', '▁dépassé', 'e', '▁de', '▁la', '▁défense', ',', '▁et', '▁faisait', '▁peser', '▁au', '▁total', '▁sur', '▁les', '▁jeunes', '▁une', '▁contrainte', '▁obligatoire', '▁et', '▁excessive', '▁qui', '▁n', \"'\", 'était', '▁pas', '▁justifiée', ',', '▁ou', '▁qui', '▁ne', '▁l', \"'\", 'était', '▁plus', '.', 'L', \"'\", 'armée', '▁moderne', '▁n', \"'\", 'est', '▁naturellement', '▁pas', '▁celle', '▁dont', '▁on', '▁avait', '▁besoin', '▁en', '▁1914', '▁ou', '▁1939', ',', '▁ou', '▁même', '▁après', ',', '▁au', '▁moment', '▁des', '▁guerres', '▁de', '▁déco', 'lon', 'isation', '▁en', '▁Algérie', '▁ou', '▁autres', '.', '▁Tout', '▁cela', '▁just', 'ifi', 'ait', '▁que', '▁l', \"'\", 'on', '▁passe', '▁1', '▁an', '▁ou', '▁2', ',', '▁voire', '▁plus', ',', '▁de', '▁service', '▁militaire', ',', '▁-', '▁parfois', '▁3', '▁ans', '▁au', '▁début', '▁du', '▁siècle', ',', '▁2', '▁ans', '▁et', '▁demi', '▁pendant', '▁la', '▁période', '▁de', '▁la', '▁guerre', '▁d', \"'\", 'Algérie', '▁pour', '▁certains', '▁-', '.', 'L', \"'\", 'évolution', '▁des', '▁choses', '▁mettait', '▁cela', '▁en', '▁cause', '.', '▁L', \"'\", 'évolution', ',', '▁c', \"'\", 'était', '▁d', \"'\", 'abord', '▁l', \"'\", 'installation', '▁de', '▁la', '▁paix', '▁en', '▁Europe', '.', '▁Et', '▁cela', '▁a', '▁été', '▁une', '▁grande', '▁réforme', ',', '▁à', '▁partir', '▁du', '▁moment', '▁ou', '▁l', \"'\", 'on', '▁a', '▁lancé', '▁la', '▁construction', '▁européenne', ':', '▁nous', '▁n', \"'\", 'avons', '▁plus', '▁été', '▁menacé', 's', '▁sur', '▁nos', '▁frontières', '.', '▁Il', '▁fut', '▁un', '▁temps', '▁où', '▁nous', '▁devions', '▁pouvoir', '▁opposer', '▁un', '▁barrage', '▁de', '▁poitrine', 's', '▁aux', '▁poitrine', 's', '▁allemandes', '▁qui', '▁risqu', 'aient', '▁de', '▁s', \"'\", 'avancer', '▁chez', '▁nous', ',', '▁il', '▁fallait', '▁encore', '▁beaucoup', '▁d', \"'\", 'hommes', '.', '▁La', '▁construction', '▁européenne', '▁a', '▁fait', '▁disparaître', '▁cette', '▁menace', '.', '▁Nous', '▁ne', '▁sommes', '▁plus', '▁menacé', 's', '▁à', '▁nos', '▁frontières', ':', '▁on', '▁n', \"'\", 'imagine', '▁pas', '▁l', \"'\", 'Allemagne', '▁attaquant', '▁la', '▁France', ',', '▁on', '▁ne', '▁l', \"'\", 'image', '▁plus', '.', '▁Donc', ',', '▁en', '▁toute', '▁hypothèse', ',', '▁la', '▁menace', '▁s', \"'\", 'était', '▁éloignée', '.', '▁Il', '▁y', '▁avait', '▁aussi', ',', '▁naturellement', ',', '▁l', \"'\", 'armement', '▁qui', '▁avait', '▁beaucoup', '▁changé', ',', '▁les', '▁techniques', '▁militaires', '▁qui', '▁s', \"'\", 'étaient', '▁profondément', '▁transformée', 's', '.', '▁Aujourd', \"'\", 'hui', ',', '▁une', '▁opération', '▁militaire', ',', '▁la', '▁guerre', '▁le', '▁cas', '▁échéant', ',', '▁mobilise', '▁des', '▁hommes', '▁et', '▁des', '▁femmes', '▁qui', '▁ont', '▁une', '▁très', '▁haute', '▁compétence', ',', '▁qui', '▁sont', '▁apte', 's', '▁à', '▁utiliser', '▁des', '▁moyens', '▁extraordinaire', 'ment', '▁sophistiqué', 's', ',', '▁qui', '▁sont', '▁totalement', '▁disponibles', '▁et', '▁prêts', '▁à', '▁faire', '▁mouvement', '▁immédiatement', ',', '▁et', '▁qui', '▁n', \"'\", 'ont', '▁besoin', '▁d', \"'\", 'aucune', '▁formation', '▁préalable', '▁pour', '▁le', '▁faire', '.', 'C', \"'\", 'est', '▁donc', '▁un', '▁autre', '▁type', '▁de', '▁besoin', '▁que', '▁nous', '▁avons', '▁et', '▁qui', '▁ne', '▁correspond', '▁plus', '▁au', '▁service', '▁militaire', '▁tel', '▁qu', \"'\", 'on', '▁le', '▁concev', 'ait', '▁avant', '.', '▁C', \"'\", 'est', '▁donc', '▁une', '▁armée', '▁professionnelle', '▁qu', \"'\", 'il', '▁nous', '▁faut', ',', '▁c', \"'\", 'est', '▁une', '▁armée', '▁de', '▁métier', ',', '▁ce', '▁sont', '▁des', '▁vrais', '▁professionnels', '.', 'A', '▁partir', '▁de', '▁cette', '▁réflexion', ',', '▁j', \"'\", 'ai', '▁pensé', '▁que', '▁finalement', ',', '▁quels', '▁que', '▁soient', '▁les', '▁arguments', ',', '▁de', '▁nature', '▁sociale', '▁ou', '▁nationale', '▁qui', '▁plaid', 'aient', '▁en', '▁faveur', '▁du', '▁service', '▁militaire', ',', '▁ce', '▁n', \"'\", 'était', '▁plus', '▁adapté', ',', '▁et', '▁j', \"'\", 'ai', '▁décidé', '▁de', '▁le', '▁supprimer', '.', '▁Mais', '▁la', '▁suppression', '▁du', '▁service', '▁militaire', ',', '▁cela', '▁ne', '▁veut', '▁pas', '▁dire', '▁la', '▁suppression', '▁de', '▁tout', '▁lien', '▁entre', '▁la', '▁jeunesse', '▁et', '▁l', \"'\", 'armée', '.', '▁Il', '▁faut', '▁que', '▁les', '▁jeunes', '▁sache', 'nt', '▁ce', '▁que', '▁c', \"'\", 'est', '▁que', '▁leur', '▁armée', '.', '▁Il', '▁faut', '▁que', '▁vous', '▁le', '▁sa', 'chi', 'ez', ',', '▁parce', '▁que', '▁vous', '▁êtes', '▁dépositaire', 's', '▁de', '▁l', \"'\", 'avenir', '.', '▁On', '▁s', \"'\", 'imagine', '▁que', '▁tout', '▁va', '▁bien', ',', '▁qu', \"'\", 'il', '▁n', \"'\", 'y', '▁a', '▁plus', '▁de', '▁problème', '.', '▁Quand', '▁on', '▁est', '▁né', '▁dans', '▁les', '▁années', '▁1980', ',', '▁on', '▁a', '▁toujours', '▁connu', '▁la', '▁liberté', ',', '▁la', '▁démocratie', ',', '▁les', '▁emb', 'ête', 'ments', '▁de', '▁la', '▁vie', ',', '▁les', '▁problèmes', ',', '▁le', '▁chômage', ',', '▁ou', '▁d', \"'\", 'autres', '▁choses', ',', '▁mais', '▁on', '▁a', '▁pas', '▁connu', '▁la', '▁guerre', '▁naturellement', '.', '▁Vos', '▁grands', '-', 'père', 's', '▁l', \"'\", 'ont', '▁connue', ',', '▁pas', '▁vous', '.', '▁Cela', '▁ne', '▁vous', '▁dit', '▁rien', ',', '▁et', '▁pourtant', '▁c', \"'\", 'est', '▁en', '▁permanence', '▁une', '▁menace', '.', '▁La', '▁France', '▁a', '▁des', '▁intérêts', '▁dans', '▁le', '▁monde', ',', '▁elle', '▁doit', '▁le', '▁cas', '▁échéant', '▁les', '▁défendre', ',', '▁et', '▁il', '▁faut', '▁que', '▁la', '▁France', '▁puisse', '▁apporter', '▁sa', '▁contribution', '▁militaire', '▁pour', '▁permettre', '▁de', '▁maintenir', '▁la', '▁paix', '▁ici', '▁où', '▁là', ',', '▁ou', '▁pour', '▁permettre', '▁de', '▁sauver', '▁des', '▁vie', 's', '▁quand', '▁c', \"'\", 'est', '▁nécessaire', '.', '▁Lorsque', '▁la', '▁Bosnie', '▁s', \"'\", 'engage', '▁dans', '▁une', '▁opération', '▁suicidaire', ',', '▁qui', '▁fait', '▁des', '▁quantités', '▁de', '▁morts', ',', '▁il', '▁faut', '▁que', '▁la', '▁France', ',', '▁comme', '▁d', \"'\", 'autres', ',', '▁puisse', '▁aller', '▁maintenir', '▁un', '▁peu', '▁l', \"'\", 'ordre', '▁pour', '▁éviter', '▁les', '▁car', 'nage', 's', '.', '▁C', \"'\", 'est', '▁la', '▁même', '▁chose', '▁aujourd', \"'\", 'hui', ',', '▁peut', '-', 'être', '▁-', 'on', '▁ne', '▁sait', '▁pas', ',', '▁j', \"'\", 'espère', '▁que', '▁non', '-', '▁dans', '▁le', '▁Kosovo', '.', '▁Et', '▁tout', '▁cela', ',', '▁c', \"'\", 'est', '▁aux', '▁portes', '▁de', '▁l', \"'\", 'Europe', ',', '▁c', \"'\", 'est', '▁à', '▁moins', '▁de', '▁deux', '▁heures', '▁de', '▁chez', '▁nous', '▁en', '▁avion', '.', 'L', 'ors', 'qu', \"'\", 'il', '▁y', '▁a', '▁des', '▁problèmes', ',', '▁hélas', ',', '▁en', '▁Afrique', '▁et', '▁cela', '▁arrive', '▁même', '▁si', '▁l', \"'\", 'Afrique', '▁est', '▁sur', '▁la', '▁bonne', '▁voie', ',', '▁il', '▁faut', '▁que', '▁nous', '▁ayons', '▁la', '▁possibilité', ',', '▁en', '▁quelques', '▁heures', ',', '▁d', \"'\", 'aller', '▁récupérer', '▁des', '▁Français', '▁ou', '▁des', '▁ressortissants', '▁d', \"'\", 'autres', '▁pays', '▁qui', '▁sont', '▁là', '-', 'bas', '▁et', '▁qui', '▁sont', '▁menacé', 's', '▁dans', '▁leur', '▁vie', ',', '▁et', '▁qu', \"'\", 'il', '▁faut', '▁extraire', '▁très', '▁rapidement', '.', '▁Cela', '▁demande', '▁une', '▁armée', '▁qui', '▁soit', '▁non', '▁seulement', '▁capable', '▁et', '▁équipée', ',', '▁mais', '▁qui', '▁soit', '▁aussi', '▁connue', ',', '▁respectée', '▁et', '▁aimé', 'e', '.', '▁D', \"'\", 'où', ',', '▁naturellement', ',', '▁l', \"'\", 'idée', '▁que', '▁les', '▁jeunes', '▁doivent', '▁connaître', '▁leur', '▁armée', ',', '▁doivent', '▁savoir', '▁ce', '▁qu', \"'\", 'elle', '▁est', ',', '▁et', '▁quand', '▁je', '▁dis', '▁les', '▁jeunes', '▁c', \"'\", 'est', '▁en', '▁réalité', '▁aujourd', \"'\", 'hui', '▁les', '▁garçons', '▁comme', '▁les', '▁filles', '.', '▁Alors', '▁pour', '▁le', '▁moment', '▁et', '▁pour', '▁des', '▁raisons', '▁matérielles', ',', '▁techniques', ',', '▁les', '▁filles', '▁ne', '▁sont', '▁pas', '▁soumises', '▁à', '▁la', '▁même', '▁obligation', '▁que', '▁les', '▁garçons', ',', '▁mais', '▁dès', '▁2000,', '▁le', '▁temps', '▁de', '▁mettre', '▁les', '▁choses', '▁en', '▁place', ',', '▁les', '▁garçons', '▁et', '▁les', '▁filles', '▁seront', '▁sur', '▁le', '▁même', '▁pied', ',', '▁auront', '▁les', '▁mêmes', '▁droits', '▁et', '▁devoirs', ',', '▁les', '▁mêmes', '▁obligations', '.', '▁Ce', '▁sera', '▁de', '▁ce', '▁point', '▁de', '▁vue', '▁une', '▁bonne', '▁chose', ',', '▁parce', '▁qu', \"'\", 'il', '▁n', \"'\", 'y', '▁a', '▁aucune', '▁raison', '▁que', '▁la', '▁prise', '▁de', '▁conscience', '▁des', '▁problèmes', '▁de', '▁la', '▁Défense', ',', '▁notamment', '▁de', '▁la', '▁défense', '▁de', '▁nos', '▁intérêts', ',', '▁de', '▁nos', '▁valeurs', ',', '▁de', '▁la', '▁liberté', ',', '▁de', '▁la', '▁dignité', '▁de', '▁l', \"'\", 'homme', ',', '▁de', '▁l', \"'\", 'égalité', ',', '▁il', '▁n', \"'\", 'y', '▁a', '▁aucune', '▁raison', '▁qu', \"'\", 'elle', '▁ne', '▁soit', '▁pas', '▁défendu', 'e', '▁de', '▁la', '▁même', '▁façon', '▁par', '▁les', '▁filles', '▁et', '▁par', '▁les', '▁garçons', '.', 'Cette', '▁nouvelle', '▁armée', ',', '▁il', '▁faut', '▁en', '▁gros', '▁que', '▁vous', '▁sa', 'chi', 'ez', '▁ce', '▁que', '▁c', \"'\", 'est', '.', '▁Elle', '▁ne', '▁vous', '▁demande', '▁pas', '▁d', \"'\", 'obligation', ',', '▁ou', '▁très', '▁peu', '.', '▁Elle', '▁vous', '▁demande', '▁de', '▁venir', '▁passer', '▁une', '▁journée', '.', '▁C', \"'\", 'est', '▁une', '▁journée', '▁d', \"'\", 'information', ',', '▁de', '▁mobilisation', ',', '▁qui', '▁est', '▁de', '▁nature', '▁à', '▁vous', '▁permettre', '▁d', \"'\", 'apprécier', '▁le', '▁cas', '▁échéant', '▁les', '▁choses', '▁et', ',', '▁pour', '▁ceux', '▁que', '▁cela', '▁intéresse', ',', '▁de', '▁les', '▁approfondir', '.', '▁Alors', '▁elle', '▁ne', '▁vous', '▁demande', '▁pas', '▁d', \"'\", 'obligation', ',', '▁mais', '▁en', '▁revanche', '▁elle', '▁vous', '▁ouvre', '▁des', '▁possibilités', '▁importantes', ',', '▁et', '▁ne', '▁les', '▁sous', '-', 'estime', 'z', '▁pas', ',', '▁et', '▁pour', '▁en', '▁profiter', '▁il', '▁faut', '▁les', '▁connaître', '.', 'Il', '▁y', '▁en', '▁a', '▁probablement', '▁parmi', '▁vous', ',', '▁ou', '▁parmi', '▁tous', '▁ceux', '▁qui', '▁se', '▁présenter', 'ont', '▁aujourd', \"'\", 'hui', '▁pour', '▁la', '▁journée', '▁d', \"'\", 'information', ',', '▁qui', '▁voudront', '▁être', '▁militaires', '.', '▁C', \"'\", 'est', '▁un', '▁superbe', '▁métier', ',', '▁noble', '▁s', \"'\", 'il', '▁en', '▁est', '.', '▁Ceux', '-', 'là', '▁par', '▁conséquent', '▁ont', '▁besoin', '▁de', '▁savoir', '▁comment', '▁l', \"'\", 'on', '▁fait', '▁si', '▁l', \"'\", 'on', '▁veut', '▁s', \"'\", 'engager', '▁dans', '▁cette', '▁voie', '.', '▁Il', '▁y', '▁a', '▁aussi', '▁ceux', '▁qui', ',', '▁pour', '▁des', '▁raisons', '▁personnelles', ',', '▁ou', '▁parce', '▁qu', \"'\", 'ils', '▁ont', '▁le', '▁coeur', '▁à', '▁cela', ',', '▁veulent', '▁se', '▁consacrer', '▁pendant', '▁quelques', '▁temps', '▁-', '▁un', '▁an', ',', '▁un', '▁an', '▁et', '▁demi', '▁-', '▁à', '▁des', '▁tâches', ',', '▁je', '▁dirais', '▁généralement', '▁humanitaire', 's', '▁au', '▁sens', '▁large', '▁du', '▁terme', ',', '▁qu', \"'\", 'elles', '▁soient', '▁militaires', '▁ou', '▁qu', \"'\", 'elles', '▁soient', '▁civiles', ',', '▁à', '▁apporter', '▁leur', '▁concours', '▁à', '▁l', \"'\", 'éducation', '▁nationale', '▁pour', '▁apprendre', '▁à', '▁des', '▁gamin', 's', '▁dé', 'favoris', 'és', '▁à', '▁lire', '▁ou', '▁à', '▁écrire', ',', '▁pour', '▁faciliter', '▁la', '▁préservation', '▁de', '▁l', \"'\", 'environnement', ',', '▁pour', '▁lutter', '▁contre', '▁les', '▁incendie', 's', ',', '▁pour', '▁servir', '▁dans', '▁des', '▁unités', '▁chargée', 's', '▁de', '▁maintenir', '▁la', '▁sécurité', '▁des', '▁personnes', '▁et', '▁des', '▁bien', 's', ',', '▁je', '▁pense', '▁à', '▁la', '▁gendarmerie', '▁ou', '▁à', '▁d', \"'\", 'autres', '▁domaines', '.', '▁Bref', ',', '▁il', '▁y', '▁en', '▁a', '▁certainement', '▁qui', '▁seront', '▁intéressés', '▁par', '▁l', \"'\", 'idée', '▁de', '▁consacrer', '▁un', '▁an', ',', '▁un', '▁an', '▁et', '▁demi', '▁de', '▁leur', '▁coeur', ',', '▁de', '▁leur', '▁générosité', '▁à', '▁d', \"'\", 'autres', ',', '▁dans', '▁ces', '▁domaines', '▁civils', '▁ou', '▁militaires', ',', '▁qui', '▁très', '▁largement', '▁peuvent', '▁être', '▁appelés', '▁des', '▁domaines', '▁humanitaire', 's', '.', '▁J', \"'\", 'ajoute', '▁que', '▁pour', '▁eux', ',', '▁ce', '▁sera', '▁aussi', '▁la', '▁possibilité', '▁d', \"'\", 'acquérir', '▁une', '▁expérience', ',', '▁et', '▁parfois', '▁un', '▁métier', ',', '▁et', '▁de', '▁sortir', '▁de', '▁cette', '▁période', '▁avec', '▁la', '▁possibilité', '▁ou', '▁la', '▁capacité', '▁d', \"'\", 'exercer', '▁un', '▁métier', '▁qu', \"'\", 'ils', '▁auront', '▁appris', '.', '▁Il', '▁y', '▁aura', '▁ceux', '▁qui', '▁s', \"'\", 'intéressent', '▁à', '▁l', \"'\", 'armée', ',', '▁sans', '▁vouloir', '▁en', '▁faire', '▁leur', '▁métier', '.', '▁L', \"'\", 'armée', '▁aura', '▁besoin', '▁de', '▁réserv', 'istes', ',', '▁beaucoup', '▁moins', '▁qu', \"'\", 'avant', ',', '▁alors', '▁il', '▁y', '▁en', '▁a', '▁peut', '-', 'être', '▁qui', '▁veulent', '▁ou', '▁qui', '▁voudront', ',', '▁parce', '▁que', '▁cela', '▁les', '▁intéresse', ',', '▁acquérir', '▁le', '▁minimum', '▁de', '▁connaissances', '▁leur', '▁permettant', '▁d', \"'\", 'être', '▁versé', '▁dans', '▁ce', '▁que', '▁l', \"'\", 'on', '▁appelle', '▁\"', 'les', '▁réserves', '\"', '▁et', '▁le', '▁cas', '▁échéant', '▁d', \"'\", 'être', '▁réserv', 'istes', '.', 'Je', '▁ne', '▁veux', '▁pas', '▁entrer', '▁dans', '▁le', '▁détail', ',', '▁vous', '▁aurez', '▁toute', '▁la', '▁journée', '▁pour', '▁en', '▁entendre', '▁parler', ',', '▁mais', '▁l', \"'\", 'objectif', '▁de', '▁cette', '▁journée', '▁est', '▁de', '▁vous', '▁faire', '▁comprendre', '▁que', '▁l', \"'\", 'armée', '▁est', '▁l', \"'\", 'une', '▁des', '▁institutions', '▁les', '▁plus', '▁nobles', '▁et', '▁les', '▁plus', '▁nécessaires', '▁de', '▁la', '▁nation', '▁et', '▁qu', \"'\", 'il', '▁faut', '▁la', '▁connaître', '.', '▁Parfois', '▁on', '▁a', '▁un', '▁peu', '▁tendance', '▁à', '▁la', '▁critiquer', ',', '▁sans', '▁savoir', '.', '▁Il', '▁faut', '▁la', '▁connaître', '▁parce', '▁qu', \"'\", 'elle', '▁fait', '▁des', '▁choses', '▁formidable', 's', ',', '▁notamment', ',', '▁je', '▁le', '▁répète', ',', '▁dans', '▁le', '▁monde', '▁moderne', '▁sur', '▁le', '▁plan', '▁humanitaire', '▁et', '▁enfin', ',', '▁parce', '▁que', '▁c', \"'\", 'est', '▁le', '▁dernier', '▁rempart', '▁de', '▁notre', '▁sécurité', ',', '▁de', '▁nos', '▁libertés', ',', '▁de', '▁nos', '▁intérêts', ',', '▁si', '▁par', '▁hasard', '▁les', '▁choses', '▁vont', '▁mal', '.', '▁Alors', '▁elle', '▁mérite', '▁d', \"'\", 'être', '▁respectée', ',', '▁elle', '▁a', '▁droit', '▁au', '▁respect', '.', '▁Mais', '▁encore', '▁faut', '-', 'il', '▁savoir', '▁pourquoi', '▁et', '▁c', \"'\", 'est', '▁cela', '▁que', '▁l', \"'\", 'on', '▁va', '▁vous', '▁dire', '.', 'D', \"'\", 'autre', '▁part', ',', '▁on', '▁veut', '▁vous', '▁ouvrir', '▁les', '▁voies', '▁et', '▁les', '▁possibilités', '▁que', ',', '▁directement', '▁ou', '▁indirectement', ',', '▁cette', '▁armée', '▁peut', '▁vous', '▁donner', '▁et', '▁enfin', '▁vous', '▁rappeler', '▁quels', '▁sont', '▁les', '▁principes', '▁que', '▁nous', '▁avons', '▁en', '▁commun', ',', '▁les', '▁principes', '▁de', '▁solidarité', ',', '▁les', '▁principes', '▁de', '▁respect', '▁de', '▁l', \"'\", 'homme', ',', '▁de', '▁sa', '▁dignité', ',', '▁de', '▁l', \"'\", 'égalité', '▁des', '▁un', 's', '▁et', '▁des', '▁autres', ',', '▁et', '▁tout', '▁cela', '▁est', '▁également', '▁important', '.', 'Voi', 'là', '.', '▁J', \"'\", 'ai', '▁dû', '▁certainement', '▁oublier', '▁des', '▁choses', '▁importantes', ',', '▁mais', '▁on', '▁veut', '▁vous', '▁dire', '▁quels', '▁sont', '▁vos', '▁droits', '▁et', '▁aussi', '▁quels', '▁sont', '▁vos', '▁devoirs', '▁à', '▁l', \"'\", 'égard', '▁de', '▁la', '▁Nation', ',', '▁et', '▁cette', '▁journée', '▁est', '▁consacrée', '▁à', '▁cela', '.', '▁Je', '▁souhaite', '▁qu', \"'\", 'elle', '▁soit', '▁pour', '▁vous', '▁intéressante', ',', '▁qu', \"'\", 'elle', '▁vous', '▁', 'apprenne', '▁des', '▁choses', ',', '▁qu', \"'\", 'elle', '▁vous', '▁ouvre', '▁des', '▁perspectives', ',', '▁qu', \"'\", 'elle', '▁vous', '▁donne', '▁davantage', '▁conscience', '▁de', '▁vos', '▁droits', '▁mais', '▁aussi', '▁de', '▁vos', '▁devoirs', '.', 'Je', '▁termine', '▁en', '▁souhaitant', '▁surtout', ',', '▁quelle', '▁que', '▁soit', '▁la', '▁voie', '▁que', '▁vous', '▁emprunter', 'ez', '▁et', '▁les', '▁conclusions', '▁que', '▁vous', '▁tirer', 'ez', '▁de', '▁cette', '▁journée', ',', '▁je', '▁vous', '▁souhaite', '▁surtout', '▁bonne', '▁chance', '▁et', '▁bon', '▁vent']\n",
            "Token IDs:  [19923, 7, 1684, 146, 1941, 8, 39, 14778, 9, 877, 50, 701, 27, 50, 146, 1941, 8, 39, 14778, 7, 44, 49, 11, 41, 34, 28, 445, 14521, 8, 22897, 9, 100, 16, 9349, 15, 17, 11, 2337, 15, 2445, 16, 6375, 8, 13, 7682, 7, 188, 9, 5048, 7, 60, 11, 41, 24, 202, 23, 3334, 147, 51, 102, 33, 23, 126, 18, 11, 7972, 154, 50, 676, 39, 248, 590, 9, 5510, 495, 13, 272, 1010, 18, 11, 1445, 31, 45, 1438, 34, 8, 366, 2330, 9, 84, 11, 41, 28, 1141, 27, 76, 11, 73, 722, 7, 51, 102, 33, 116, 134, 7, 182, 28, 2278, 2284, 14, 23, 600, 2159, 9, 407, 66, 7, 16, 366, 2330, 60, 11, 41, 28, 3244, 2920, 945, 7, 51, 149, 40, 27, 16880, 9, 69, 102, 171, 208, 5032, 8, 1819, 15, 207, 7, 410, 13, 2966, 18, 11, 443, 28, 6841, 23960, 14, 145, 18, 11, 443, 20, 538, 11785, 68, 5892, 7, 15, 17, 11, 817, 20, 3072, 8, 17, 11, 1475, 9, 3317, 1189, 52, 11, 12944, 32, 13, 2966, 8, 3757, 29, 78, 1454, 9, 69, 102, 171, 3522, 20, 4528, 7, 51, 102, 171, 217, 8, 538, 31, 48, 21860, 46, 11, 240, 2639, 488, 23, 126, 97, 125, 7, 18, 11, 266, 31, 530, 18593, 9, 159, 51, 102, 171, 381, 320, 31, 7, 29, 127, 256, 7, 21860, 92, 16, 366, 2330, 60, 11, 41, 885, 24, 13, 13652, 945, 7, 60, 11, 41, 23, 694, 8, 328, 760, 19, 5024, 4434, 8, 6687, 14, 18, 11, 870, 10, 17414, 7, 5993, 7, 2201, 7, 579, 14, 8, 85, 22, 1055, 46, 11, 240, 48, 4688, 7, 46, 11, 240, 1053, 760, 7, 14, 44, 27, 17, 11, 88, 23308, 13, 18465, 20, 22204, 10, 149, 7538, 37, 217, 79, 23, 3228, 693, 8, 13, 13652, 945, 9, 1223, 6729, 149, 330, 8, 217, 8, 19827, 9, 74, 19827, 96, 179, 20, 8778, 5646, 7, 51, 213, 22, 1852, 287, 9, 160, 11, 369, 292, 7, 51, 115, 11, 230, 8448, 27, 66, 207, 7, 36, 729, 7, 24439, 23, 126, 15, 28, 1465, 7675, 35, 8, 13, 1923, 7, 14, 1321, 17197, 36, 1458, 32, 19, 538, 28, 9052, 3329, 14, 10930, 31, 49, 11, 230, 34, 21638, 7, 47, 31, 45, 17, 11, 230, 40, 9, 370, 11, 2677, 1558, 49, 11, 41, 3522, 34, 386, 174, 91, 171, 394, 22, 13906, 47, 18180, 7, 47, 93, 182, 7, 36, 262, 20, 9100, 8, 2341, 3190, 1385, 22, 6278, 47, 214, 9, 543, 207, 18340, 6126, 199, 27, 17, 11, 88, 507, 124, 674, 47, 118, 7, 1786, 40, 7, 8, 366, 2330, 7, 67, 610, 135, 134, 36, 479, 25, 740, 7, 118, 134, 14, 1644, 339, 13, 782, 8, 13, 775, 18, 11, 6108, 24, 420, 67, 9, 370, 11, 2010, 20, 541, 13079, 207, 22, 625, 9, 71, 11, 2010, 7, 60, 11, 230, 18, 11, 803, 17, 11, 2165, 8, 13, 1931, 22, 1532, 9, 139, 207, 33, 101, 28, 293, 3145, 7, 15, 350, 25, 262, 47, 17, 11, 88, 33, 2244, 13, 1015, 1467, 92, 63, 49, 11, 2200, 40, 101, 12319, 10, 32, 166, 5039, 9, 69, 547, 23, 125, 147, 63, 28196, 351, 19145, 23, 10230, 8, 4417, 10, 68, 4417, 10, 19912, 31, 27318, 488, 8, 52, 11, 13693, 222, 63, 7, 51, 2032, 143, 217, 18, 11, 5474, 9, 61, 1015, 1467, 33, 82, 8048, 78, 3456, 9, 170, 45, 464, 40, 12319, 10, 15, 166, 5039, 92, 91, 49, 11, 6305, 34, 17, 11, 3930, 17444, 13, 184, 7, 91, 45, 17, 11, 1106, 40, 9, 1416, 7, 22, 194, 13985, 7, 13, 3456, 52, 11, 230, 16391, 9, 69, 102, 171, 99, 7, 3522, 7, 17, 11, 15199, 31, 171, 217, 2548, 7, 19, 1054, 3788, 31, 52, 11, 2611, 5588, 14854, 10, 9, 1301, 11, 265, 7, 28, 3475, 2330, 7, 13, 775, 16, 203, 8540, 7, 24962, 20, 529, 14, 20, 389, 31, 96, 28, 95, 1118, 4956, 7, 31, 56, 15223, 10, 15, 881, 20, 1149, 4969, 131, 20656, 10, 7, 31, 56, 1366, 1339, 14, 4248, 15, 85, 1018, 2323, 7, 14, 31, 49, 11, 263, 394, 18, 11, 8855, 513, 3538, 24, 16, 85, 9, 228, 11, 41, 145, 23, 238, 460, 8, 394, 27, 63, 296, 14, 31, 45, 2174, 40, 36, 366, 2330, 861, 46, 11, 88, 16, 22984, 199, 178, 9, 84, 11, 41, 145, 28, 6841, 1050, 46, 11, 62, 63, 213, 7, 60, 11, 41, 28, 6841, 8, 2056, 7, 44, 56, 20, 6394, 941, 9, 243, 350, 8, 78, 2284, 7, 76, 11, 73, 3237, 27, 1360, 7, 4880, 27, 1053, 19, 8778, 7, 8, 696, 1039, 47, 945, 31, 10700, 488, 22, 2558, 25, 366, 2330, 7, 44, 49, 11, 230, 40, 2740, 7, 14, 76, 11, 73, 1258, 8, 16, 4446, 9, 159, 13, 5801, 25, 366, 2330, 7, 207, 45, 604, 34, 248, 13, 5801, 8, 66, 818, 128, 13, 2426, 14, 17, 11, 2677, 9, 69, 213, 27, 19, 538, 8679, 113, 44, 27, 60, 11, 41, 27, 97, 6841, 9, 69, 213, 27, 39, 16, 77, 2338, 267, 7, 398, 27, 39, 495, 30099, 10, 8, 17, 11, 2128, 9, 201, 52, 11, 6305, 27, 66, 198, 72, 7, 46, 11, 62, 49, 11, 105, 33, 40, 8, 577, 9, 877, 91, 30, 1776, 29, 19, 318, 6721, 7, 91, 33, 179, 1182, 13, 1297, 7, 13, 3543, 7, 19, 8640, 10058, 2299, 8, 13, 157, 7, 19, 1014, 7, 16, 4103, 7, 47, 18, 11, 266, 541, 7, 65, 91, 33, 34, 1182, 13, 775, 3522, 9, 4481, 726, 26, 6773, 10, 17, 11, 263, 3611, 7, 34, 39, 9, 683, 45, 39, 227, 254, 7, 14, 997, 60, 11, 41, 22, 5184, 28, 3456, 9, 61, 184, 33, 20, 2922, 29, 16, 164, 7, 109, 279, 16, 203, 8540, 19, 3773, 7, 14, 51, 213, 27, 13, 184, 1516, 2091, 77, 5109, 2330, 24, 1027, 8, 3450, 13, 1931, 323, 147, 241, 7, 47, 24, 1027, 8, 3900, 20, 157, 10, 206, 60, 11, 41, 885, 9, 1696, 13, 29045, 52, 11, 4308, 29, 28, 3475, 25934, 7, 31, 82, 20, 10355, 8, 2879, 7, 51, 213, 27, 13, 184, 7, 79, 18, 11, 266, 7, 1516, 632, 3450, 23, 126, 17, 11, 1243, 24, 1351, 19, 173, 2860, 10, 9, 84, 11, 41, 13, 93, 337, 405, 11, 265, 7, 104, 26, 177, 67, 88, 45, 900, 34, 7, 76, 11, 1612, 27, 165, 26, 29, 16, 29821, 9, 139, 66, 207, 7, 60, 11, 41, 68, 1905, 8, 17, 11, 1354, 7, 60, 11, 41, 15, 175, 8, 116, 511, 8, 222, 63, 22, 6439, 9, 370, 4605, 1358, 11, 62, 102, 33, 20, 1014, 7, 11253, 7, 22, 2971, 14, 207, 1242, 93, 86, 17, 11, 2582, 30, 32, 13, 317, 1454, 7, 51, 213, 27, 63, 25066, 13, 1088, 7, 22, 193, 511, 7, 18, 11, 1655, 3528, 20, 1455, 47, 20, 21507, 18, 11, 266, 256, 31, 56, 241, 26, 2787, 14, 31, 56, 12319, 10, 29, 97, 157, 7, 14, 46, 11, 62, 213, 17510, 95, 736, 9, 683, 400, 28, 6841, 31, 191, 165, 446, 1811, 14, 3899, 7, 65, 31, 191, 99, 3611, 7, 17686, 14, 2041, 35, 9, 160, 11, 2047, 7, 3522, 7, 17, 11, 1139, 27, 19, 538, 750, 1218, 97, 6841, 7, 750, 319, 44, 46, 11, 144, 30, 7, 14, 206, 50, 701, 19, 538, 60, 11, 41, 22, 1033, 405, 11, 265, 19, 5024, 79, 19, 1134, 9, 574, 24, 16, 262, 14, 24, 20, 1819, 21512, 7, 1054, 7, 19, 1134, 45, 56, 34, 13447, 15, 13, 93, 6178, 27, 19, 5024, 7, 65, 564, 9474, 16, 125, 8, 328, 19, 541, 22, 218, 7, 19, 5024, 14, 19, 1134, 519, 32, 16, 93, 942, 7, 2890, 19, 1952, 873, 14, 10735, 7, 19, 1952, 5641, 9, 148, 210, 8, 44, 299, 8, 477, 28, 317, 337, 7, 398, 46, 11, 62, 49, 11, 105, 33, 771, 539, 27, 13, 722, 8, 1582, 20, 1014, 8, 13, 7682, 7, 410, 8, 13, 1923, 8, 166, 2922, 7, 8, 166, 1784, 7, 8, 13, 1297, 7, 8, 13, 9352, 8, 17, 11, 698, 7, 8, 17, 11, 4293, 7, 51, 49, 11, 105, 33, 771, 539, 46, 11, 144, 45, 191, 34, 12138, 35, 8, 13, 93, 429, 37, 19, 1134, 14, 37, 19, 5024, 9, 11823, 304, 6841, 7, 51, 213, 22, 602, 27, 39, 77, 2338, 267, 44, 27, 60, 11, 41, 9, 195, 45, 39, 400, 34, 18, 11, 6604, 7, 47, 95, 126, 9, 195, 39, 400, 8, 894, 444, 28, 553, 9, 84, 11, 41, 28, 553, 18, 11, 1070, 7, 8, 6324, 7, 31, 30, 8, 696, 15, 39, 1027, 18, 11, 12882, 16, 203, 8540, 19, 541, 14, 7, 24, 320, 27, 207, 7255, 7, 8, 19, 19859, 9, 574, 109, 45, 39, 400, 34, 18, 11, 6604, 7, 65, 22, 2447, 109, 39, 3402, 20, 3349, 3830, 7, 14, 45, 19, 161, 26, 12444, 138, 34, 7, 14, 24, 22, 1153, 51, 213, 19, 1218, 9, 1799, 102, 22, 33, 2154, 865, 39, 7, 47, 865, 117, 320, 31, 48, 1442, 263, 405, 11, 265, 24, 13, 553, 18, 11, 1070, 7, 31, 30036, 98, 3788, 9, 84, 11, 41, 23, 2400, 2056, 7, 8708, 52, 11, 62, 22, 30, 9, 4499, 26, 1188, 37, 2962, 96, 394, 8, 319, 404, 17, 11, 88, 82, 86, 17, 11, 88, 604, 52, 11, 7376, 29, 78, 1454, 9, 69, 102, 33, 99, 320, 31, 7, 24, 20, 1819, 2681, 7, 47, 398, 46, 11, 240, 96, 16, 1016, 15, 207, 7, 1882, 48, 8977, 339, 193, 125, 67, 23, 674, 7, 23, 674, 14, 1644, 67, 15, 20, 4338, 7, 50, 7216, 1536, 8975, 10, 36, 437, 1071, 25, 788, 7, 46, 11, 734, 1053, 3788, 47, 46, 11, 734, 1053, 17660, 7, 15, 2091, 97, 1477, 15, 17, 11, 1997, 945, 24, 1891, 15, 20, 10090, 10, 570, 19754, 566, 15, 831, 47, 15, 2748, 7, 24, 3039, 13, 13995, 8, 17, 11, 1623, 7, 24, 4357, 192, 19, 9308, 10, 7, 24, 1950, 29, 20, 5240, 5808, 10, 8, 3450, 13, 548, 20, 242, 14, 20, 72, 10, 7, 50, 500, 15, 13, 12839, 47, 15, 18, 11, 266, 2380, 9, 2425, 7, 51, 102, 22, 33, 1975, 31, 519, 9532, 37, 17, 11, 1139, 8, 8977, 23, 674, 7, 23, 674, 14, 1644, 8, 97, 1016, 7, 8, 97, 11567, 15, 18, 11, 266, 7, 29, 119, 2380, 9356, 47, 3788, 7, 31, 95, 2170, 316, 98, 9690, 20, 2380, 8975, 10, 9, 121, 11, 10634, 27, 24, 474, 7, 44, 210, 99, 13, 1088, 18, 11, 10899, 28, 1005, 7, 14, 610, 23, 2056, 7, 14, 8, 1077, 8, 78, 782, 42, 13, 1088, 47, 13, 1381, 18, 11, 12337, 23, 2056, 46, 11, 240, 2890, 2714, 9, 69, 102, 711, 320, 31, 52, 11, 17815, 15, 17, 11, 2677, 7, 112, 2375, 22, 85, 97, 2056, 9, 71, 11, 2677, 711, 394, 8, 19566, 1350, 7, 217, 175, 46, 11, 1949, 7, 183, 51, 102, 22, 33, 104, 26, 177, 31, 1882, 47, 31, 30036, 7, 398, 27, 207, 19, 7255, 7, 8192, 16, 1858, 8, 2107, 97, 1177, 18, 11, 177, 13476, 29, 44, 27, 17, 11, 88, 2668, 87, 408, 8612, 130, 14, 16, 203, 8540, 18, 11, 177, 19566, 1350, 9, 1684, 45, 920, 34, 3305, 29, 16, 2636, 7, 39, 2222, 194, 13, 553, 24, 22, 3002, 639, 7, 65, 17, 11, 1960, 8, 78, 553, 30, 8, 39, 85, 822, 27, 17, 11, 2677, 30, 17, 11, 70, 20, 3847, 19, 40, 16833, 14, 19, 40, 1840, 8, 13, 6622, 14, 46, 11, 62, 213, 13, 1218, 9, 7242, 91, 33, 23, 126, 1367, 15, 13, 16245, 7, 112, 319, 9, 69, 213, 13, 1218, 398, 46, 11, 144, 82, 20, 541, 5823, 10, 7, 410, 7, 50, 16, 10726, 7, 29, 16, 164, 1558, 32, 16, 379, 8975, 14, 743, 7, 398, 27, 60, 11, 41, 16, 348, 18078, 8, 127, 548, 7, 8, 166, 8922, 7, 8, 166, 2922, 7, 86, 37, 2829, 19, 541, 774, 295, 9, 574, 109, 2705, 18, 11, 177, 17686, 7, 109, 33, 347, 36, 1346, 9, 159, 143, 213, 26, 62, 319, 590, 14, 60, 11, 41, 207, 27, 17, 11, 88, 198, 39, 248, 9, 342, 11, 369, 292, 7, 91, 604, 39, 2913, 19, 4723, 14, 19, 3349, 27, 7, 902, 47, 16765, 7, 78, 6841, 104, 39, 509, 14, 743, 39, 3318, 4880, 56, 19, 3189, 27, 63, 296, 22, 1330, 7, 19, 3189, 8, 3834, 7, 19, 3189, 8, 1346, 8, 17, 11, 698, 7, 8, 77, 9352, 7, 8, 17, 11, 4293, 20, 23, 10, 14, 20, 214, 7, 14, 66, 207, 30, 200, 693, 9, 17125, 1188, 9, 121, 11, 73, 1556, 1975, 2078, 20, 541, 3830, 7, 65, 91, 604, 39, 248, 4880, 56, 140, 873, 14, 99, 4880, 56, 140, 10735, 15, 17, 11, 5764, 8, 13, 15734, 7, 14, 78, 553, 30, 5670, 15, 207, 9, 100, 1282, 46, 11, 144, 191, 24, 39, 4659, 7, 46, 11, 144, 39, 21, 29732, 20, 541, 7, 46, 11, 144, 39, 3402, 20, 7699, 7, 46, 11, 144, 39, 556, 1921, 1582, 8, 140, 873, 65, 99, 8, 140, 10735, 9, 1684, 4592, 22, 10006, 381, 7, 1262, 27, 191, 13, 1454, 27, 39, 15980, 267, 14, 19, 9351, 27, 39, 2912, 267, 8, 78, 553, 7, 50, 39, 1282, 381, 317, 1073, 14, 212, 1601]\n"
          ],
          "name": "stdout"
        }
      ]
    },
    {
      "cell_type": "markdown",
      "metadata": {
        "id": "t8yAtMsdR9HB",
        "colab_type": "text"
      },
      "source": [
        "#### Adding special tokens to the start and end of the text\n"
      ]
    },
    {
      "cell_type": "markdown",
      "metadata": {
        "id": "uXlKcUdlYetx",
        "colab_type": "text"
      },
      "source": [
        "Preprocessing steps : \n",
        "\n",
        "\n",
        "1.   **Add special tokens [CLS] [SEP]** \n",
        "\n",
        "According to the documentation we need to add special tokens to the start and end of the text Moreover, for camembert we should add a space between CLS and the first token (not sure here, we have to ask benjamin). \n",
        "\n",
        "2.   **Pad and truncate all texts to a single number**\n",
        "\n",
        "Pretrained transformes like Camembert only accept input of the same length. Our corpus contains large texts and we have to pad them in order to be able to feed Camembert. We will set the max length to a large number in order to get all information possible in the text. We choose a max length of 500 which is almost the maximum (512) \"sentence\" length  accepted. We are aware that this choice will impact a lot training speed.\n",
        "\n",
        "3.   **Construct an attention mask**\n",
        "\n",
        "Attention masks are just set to 1 when the token have to be analyzed and 0 otherwise (padded tokens). All our attention mask should be 1 with this corpus. \n",
        "\n",
        "\n",
        "\n",
        "For sake of simplicity and to avoid errors we will use the function encode_plus of the library which is really convenient. \n",
        "\n"
      ]
    },
    {
      "cell_type": "markdown",
      "metadata": {
        "id": "5XKNZMJvSb2w",
        "colab_type": "text"
      },
      "source": [
        "#### Length and attention mask "
      ]
    },
    {
      "cell_type": "code",
      "metadata": {
        "id": "4HF89V-xSgGF",
        "colab_type": "code",
        "colab": {}
      },
      "source": [
        "def prepare_to_feed(df,length,batch_size_value):\n",
        "  from torch.utils.data import TensorDataset, random_split\n",
        "  from torch.utils.data import DataLoader, RandomSampler, SequentialSampler\n",
        "\n",
        "  texts = df.Texte.values\n",
        "  labels = df.sexe.values\n",
        "\n",
        "  # Tokenize all of the sentences and map the tokens to thier word IDs.\n",
        "  input_ids = []\n",
        "  attention_masks = []\n",
        "  num_truncated_tokens =[]\n",
        "  # Apply function to our corpus\n",
        "  for text in texts:\n",
        "      encoded_dict = tokenizer.encode_plus(\n",
        "                          text,                      # text\n",
        "                          add_special_tokens = True, # Add '[CLS]' and '[SEP]'\n",
        "                          max_length = length,           # We choose for now a max length of 500.\n",
        "                          pad_to_max_length = True,    # Pad text to max (marche pas en pad left ?)\n",
        "                          return_attention_mask = True,   # Construct attention masks\n",
        "                          return_tensors = 'pt',     # Return pytorch tensors.\n",
        "                          return_overflowing_tokens =True, # return overflowing token information\n",
        "                    )\n",
        "      \n",
        "      # Map tokens to their id in the dictionnary \n",
        "      # We add this to our list    \n",
        "      input_ids.append(encoded_dict['input_ids'])\n",
        "  \n",
        "      #num_truncated_tokens.append(encoded_dict['num_truncated_tokens'])\n",
        "      \n",
        "      # 3. Attention masks\n",
        "      attention_masks.append(encoded_dict['attention_mask'])\n",
        "\n",
        "  # We convert all this into tensors in order to be able to make it work on GPU \n",
        "  input_ids = torch.cat(input_ids, dim=0)\n",
        "  attention_masks = torch.cat(attention_masks, dim=0)\n",
        "  labels = torch.tensor(labels)\n",
        "\n",
        "  # Original text and transformed tensor print \n",
        "  print(\"Let's check for the first text indexes, attention masks and labels\")\n",
        "  print(\" \")\n",
        "  print('Original: ', texts[0][0:100])\n",
        "  print('IDs:', input_ids[0][0:100])\n",
        "  print('Attention masks:', attention_masks[0][0:100])\n",
        "  print('labels',labels[0])\n",
        "\n",
        "\n",
        "  # Combine all above\n",
        "  dataset = TensorDataset(input_ids, attention_masks, labels)\n",
        "\n",
        "  # Let's create a 80-20 train / validation dataset \n",
        "  train_size = int(0.8 * len(dataset))\n",
        "  val_size = len(dataset) - train_size\n",
        "\n",
        "  train_set, val_set = random_split(dataset, [train_size, val_size])\n",
        "\n",
        "\n",
        "  print(\"-------------------------------------------------\")\n",
        "  print(\" \")\n",
        "  print(\"How many texts do we have in the train and validation sample ? \")\n",
        "  print(\" \")\n",
        "  print('We have {} training texts'.format(train_size))\n",
        "  print('We have {} validation texts'.format(val_size))\n",
        "  print(\" \")\n",
        "  print(\"-------------------------------------------------\")\n",
        "\n",
        "  # We set the size of the batch ( usually set around 16 or 32), we will take the lower bound because of the large text length\n",
        "  batch_size = batch_size_value\n",
        "\n",
        "  # We create data loaders for the train and validation dataset. \n",
        "  train_dataloader = DataLoader(\n",
        "              train_set,  # The training samples.\n",
        "              sampler = RandomSampler(train_set), # Select batches randomly\n",
        "              batch_size = batch_size # Trains with this batch size.\n",
        "          )\n",
        "\n",
        "  val_dataloader = DataLoader(\n",
        "              val_set, # The validation samples.\n",
        "              sampler = SequentialSampler(val_set), # Pull out batches sequentially.\n",
        "              batch_size = batch_size # Evaluate with this batch size.\n",
        "          )\n",
        "  \n",
        "  print('Data loaders created for train [0] and val [1]')\n",
        "\n",
        "  return train_dataloader, val_dataloader "
      ],
      "execution_count": 0,
      "outputs": []
    },
    {
      "cell_type": "code",
      "metadata": {
        "id": "0b_OFrL3mIBU",
        "colab_type": "code",
        "outputId": "ed2fed94-ea81-42c7-b663-ba59c9abf1d9",
        "colab": {
          "base_uri": "https://localhost:8080/",
          "height": 510
        }
      },
      "source": [
        "print('############### Unbalanced sample ################')\n",
        "train_loader_unbalanced, val_loader_unbalanced = prepare_to_feed(df_unbalanced,length=500,batch_size_value=2)"
      ],
      "execution_count": 17,
      "outputs": [
        {
          "output_type": "stream",
          "text": [
            "############### Unbalanced sample ################\n",
            "Let's check for the first text indexes, attention masks and labels\n",
            " \n",
            "Original:  Monsieur le Préfet, Monsieur le Président du Conseil régional, Monsieur le Président de l'Associatio\n",
            "IDs: tensor([    5,  2445,    16, 25230,     7,  2445,    16,  1850,    25,   960,\n",
            "         4124,     7,  2445,    16,  1850,     8,    17,    11,  3969,    20,\n",
            "         4678,    10,     8,   184,     7, 19923,    19,  1850,    10,     8,\n",
            "         4678,    10,     7,  4348,    13, 28499,    35,     8,    13, 19641,\n",
            "         1467,     7, 23605,    14, 15867,    19, 12680,     7, 23605,    14,\n",
            "        15867,    19,  6664,  3980,     7,  6684,    10,  9402,    80,    14,\n",
            "        15867,    19,  3454,     7, 23605,    14, 19923,     7,   228,    11,\n",
            "           41,    42,   217,     8,   593,    27,    50,   146,   405,    11,\n",
            "          265,    42,    39,    15,  5155,     7,    24,    16,  9280,     8,\n",
            "         3864,     8,    13,  4732,  1230,  8820,  1461,    20,  1751,  3980])\n",
            "Attention masks: tensor([1, 1, 1, 1, 1, 1, 1, 1, 1, 1, 1, 1, 1, 1, 1, 1, 1, 1, 1, 1, 1, 1, 1, 1,\n",
            "        1, 1, 1, 1, 1, 1, 1, 1, 1, 1, 1, 1, 1, 1, 1, 1, 1, 1, 1, 1, 1, 1, 1, 1,\n",
            "        1, 1, 1, 1, 1, 1, 1, 1, 1, 1, 1, 1, 1, 1, 1, 1, 1, 1, 1, 1, 1, 1, 1, 1,\n",
            "        1, 1, 1, 1, 1, 1, 1, 1, 1, 1, 1, 1, 1, 1, 1, 1, 1, 1, 1, 1, 1, 1, 1, 1,\n",
            "        1, 1, 1, 1])\n",
            "labels tensor(1)\n",
            "-------------------------------------------------\n",
            " \n",
            "How many texts do we have in the train and validation sample ? \n",
            " \n",
            "We have 1960 training texts\n",
            "We have 490 validation texts\n",
            " \n",
            "-------------------------------------------------\n",
            "Data loaders created for train [0] and val [1]\n"
          ],
          "name": "stdout"
        }
      ]
    },
    {
      "cell_type": "code",
      "metadata": {
        "id": "BIQMcNAgekhx",
        "colab_type": "code",
        "outputId": "7716756e-a587-45f4-eaa0-6d26ff6987d7",
        "colab": {
          "base_uri": "https://localhost:8080/",
          "height": 510
        }
      },
      "source": [
        "print('############### Balanced sample ################')\n",
        "train_loader_balanced, val_loader_balanced = prepare_to_feed(df_balanced,length=500,batch_size_value=2)"
      ],
      "execution_count": 18,
      "outputs": [
        {
          "output_type": "stream",
          "text": [
            "############### Balanced sample ################\n",
            "Let's check for the first text indexes, attention masks and labels\n",
            " \n",
            "Original:  Mesdames et Messieurs les Ministres,Monsieur le Chef de l'opposition,Mesdames et Messieurs les Secré\n",
            "IDs: tensor([    5, 23605,    14, 19923,    19,  6375,    10,     7, 31609,    16,\n",
            "         6238,     8,    17,    11,  4244,     7,  6684,    10,  9402,    80,\n",
            "           14, 19923,    19, 11907,    10,  2348,     7, 31609,    16,  4860,\n",
            "           26,  7383,  4975,    10,  1114,  4681,     7,  3181,  9402,    35,\n",
            "           13,  6238,     8,  9013,     8,    13,  6854,     8,    13,  2358,\n",
            "         1467,     7, 31609,    16,  1850,    25,   960,  4124,     8,    13,\n",
            "         6873,     7,    14,  4348,  3181,  9402,    35,    14,  2445,    19,\n",
            "        15538,    26, 22778,    10,    25,   960,  4124,     7, 31609,    17,\n",
            "           11, 16336,   297,     7,  4212,  2242,  2650, 20112,  4613,    10,\n",
            "            7,  3696,    10, 12784,     7,  1684,    45,    52,  2009,    39])\n",
            "Attention masks: tensor([1, 1, 1, 1, 1, 1, 1, 1, 1, 1, 1, 1, 1, 1, 1, 1, 1, 1, 1, 1, 1, 1, 1, 1,\n",
            "        1, 1, 1, 1, 1, 1, 1, 1, 1, 1, 1, 1, 1, 1, 1, 1, 1, 1, 1, 1, 1, 1, 1, 1,\n",
            "        1, 1, 1, 1, 1, 1, 1, 1, 1, 1, 1, 1, 1, 1, 1, 1, 1, 1, 1, 1, 1, 1, 1, 1,\n",
            "        1, 1, 1, 1, 1, 1, 1, 1, 1, 1, 1, 1, 1, 1, 1, 1, 1, 1, 1, 1, 1, 1, 1, 1,\n",
            "        1, 1, 1, 1])\n",
            "labels tensor(0)\n",
            "-------------------------------------------------\n",
            " \n",
            "How many texts do we have in the train and validation sample ? \n",
            " \n",
            "We have 1960 training texts\n",
            "We have 490 validation texts\n",
            " \n",
            "-------------------------------------------------\n",
            "Data loaders created for train [0] and val [1]\n"
          ],
          "name": "stdout"
        }
      ]
    },
    {
      "cell_type": "code",
      "metadata": {
        "id": "6sxjN5O5mMe5",
        "colab_type": "code",
        "outputId": "030c56e7-bfc9-4aaf-c8f4-d2b43f062cb9",
        "colab": {
          "base_uri": "https://localhost:8080/",
          "height": 510
        }
      },
      "source": [
        "print('############### Balanced sample split ################')\n",
        "train_loader_balanced_split, val_loader_balanced_split = prepare_to_feed(df_balanced_split,length=500,batch_size_value=2)"
      ],
      "execution_count": 19,
      "outputs": [
        {
          "output_type": "stream",
          "text": [
            "############### Balanced sample split ################\n",
            "Let's check for the first text indexes, attention masks and labels\n",
            " \n",
            "Original:  tions un dispositif permettant l'équilibre entre des exigences de sûreté particulièrement élevées et\n",
            "IDs: tensor([    5,    21,  6279,    23,  2507,  1177,    17,    11,  4786,   128,\n",
            "           20,  3768,     8, 15850,    21,   937, 12187,    14,    19,   979,\n",
            "           20,   699,     9,   228,    11,    41,   590,     7,    50,   441,\n",
            "           27,    19, 27696,    10,    31,    56,  5989,     8,  1222,    29,\n",
            "           19,  2001,  6793, 16671,   245,     8,   242, 12117, 15910,    80,\n",
            "            9,  5076,  2170,    50,   920,    27,    17,    11,    88,   218,\n",
            "          119,   756,    36,   533,     8,    13, 15850, 14248, 13895,     9,\n",
            "          100,   555,    27,    50,   672,  1733,    32,    39,    14,    27,\n",
            "           39,   978,   138,  5205,   131,    15,   129,  7030,    24,    22,\n",
            "        15881,     7,    29,    19,  6511,   274,     7,   218,  3091,   526])\n",
            "Attention masks: tensor([1, 1, 1, 1, 1, 1, 1, 1, 1, 1, 1, 1, 1, 1, 1, 1, 1, 1, 1, 1, 1, 1, 1, 1,\n",
            "        1, 1, 1, 1, 1, 1, 1, 1, 1, 1, 1, 1, 1, 1, 1, 1, 1, 1, 1, 1, 1, 1, 1, 1,\n",
            "        1, 1, 1, 1, 1, 1, 1, 1, 1, 1, 1, 1, 1, 1, 1, 1, 1, 1, 1, 1, 1, 1, 1, 1,\n",
            "        1, 1, 1, 1, 1, 1, 1, 1, 1, 1, 1, 1, 1, 1, 1, 1, 1, 1, 1, 1, 1, 1, 1, 1,\n",
            "        1, 1, 1, 1])\n",
            "labels tensor(0)\n",
            "-------------------------------------------------\n",
            " \n",
            "How many texts do we have in the train and validation sample ? \n",
            " \n",
            "We have 1980 training texts\n",
            "We have 495 validation texts\n",
            " \n",
            "-------------------------------------------------\n",
            "Data loaders created for train [0] and val [1]\n"
          ],
          "name": "stdout"
        }
      ]
    },
    {
      "cell_type": "markdown",
      "metadata": {
        "id": "vs6YDmQsgljf",
        "colab_type": "text"
      },
      "source": [
        "5 and 6 seem to be the [CLS] and [SEP] special tokens \n"
      ]
    },
    {
      "cell_type": "markdown",
      "metadata": {
        "id": "poTTEJX1hoUK",
        "colab_type": "text"
      },
      "source": [
        "### CamemBERT Sequence Classification model tuning\n"
      ]
    },
    {
      "cell_type": "markdown",
      "metadata": {
        "id": "NN1VeJI0lDwf",
        "colab_type": "text"
      },
      "source": [
        "#### Loading the model\n"
      ]
    },
    {
      "cell_type": "markdown",
      "metadata": {
        "id": "99MPOVB7iRcl",
        "colab_type": "text"
      },
      "source": [
        "We will finally build up our model. We will use the  CamemBERT model for sequence classification which includes a special top layer designed for this task. "
      ]
    },
    {
      "cell_type": "code",
      "metadata": {
        "id": "XRHhHzjKgAC6",
        "colab_type": "code",
        "colab": {}
      },
      "source": [
        "# Importing from transformers\n",
        "from transformers import CamembertForSequenceClassification, CamembertConfig"
      ],
      "execution_count": 0,
      "outputs": []
    },
    {
      "cell_type": "code",
      "metadata": {
        "id": "FHMdM-QqgAAX",
        "colab_type": "code",
        "colab": {}
      },
      "source": [
        "# Loading the model\n",
        "gender_model = CamembertForSequenceClassification.from_pretrained(\n",
        "    \"camembert-base\", \n",
        "    num_labels = 2, # We have two different labels Women = 1 and Men =0   \n",
        "    output_attentions = False, \n",
        "    output_hidden_states = False, \n",
        ")"
      ],
      "execution_count": 0,
      "outputs": []
    },
    {
      "cell_type": "code",
      "metadata": {
        "id": "vUKynoykf_9y",
        "colab_type": "code",
        "outputId": "0b6e0e17-54d7-4405-aa92-bd328ddb8e52",
        "colab": {
          "base_uri": "https://localhost:8080/",
          "height": 306
        }
      },
      "source": [
        "# We run the model on the colab GPU \n",
        "gender_model.cuda()"
      ],
      "execution_count": 70,
      "outputs": [
        {
          "output_type": "error",
          "ename": "RuntimeError",
          "evalue": "ignored",
          "traceback": [
            "\u001b[0;31m---------------------------------------------------------------------------\u001b[0m",
            "\u001b[0;31mRuntimeError\u001b[0m                              Traceback (most recent call last)",
            "\u001b[0;32m<ipython-input-70-7f4b1af32b44>\u001b[0m in \u001b[0;36m<module>\u001b[0;34m()\u001b[0m\n\u001b[0;32m----> 1\u001b[0;31m \u001b[0mgender_model\u001b[0m\u001b[0;34m.\u001b[0m\u001b[0mcuda\u001b[0m\u001b[0;34m(\u001b[0m\u001b[0;34m)\u001b[0m\u001b[0;34m\u001b[0m\u001b[0;34m\u001b[0m\u001b[0m\n\u001b[0m",
            "\u001b[0;32m/usr/local/lib/python3.6/dist-packages/torch/nn/modules/module.py\u001b[0m in \u001b[0;36mcuda\u001b[0;34m(self, device)\u001b[0m\n\u001b[1;32m    302\u001b[0m             \u001b[0mModule\u001b[0m\u001b[0;34m:\u001b[0m \u001b[0mself\u001b[0m\u001b[0;34m\u001b[0m\u001b[0;34m\u001b[0m\u001b[0m\n\u001b[1;32m    303\u001b[0m         \"\"\"\n\u001b[0;32m--> 304\u001b[0;31m         \u001b[0;32mreturn\u001b[0m \u001b[0mself\u001b[0m\u001b[0;34m.\u001b[0m\u001b[0m_apply\u001b[0m\u001b[0;34m(\u001b[0m\u001b[0;32mlambda\u001b[0m \u001b[0mt\u001b[0m\u001b[0;34m:\u001b[0m \u001b[0mt\u001b[0m\u001b[0;34m.\u001b[0m\u001b[0mcuda\u001b[0m\u001b[0;34m(\u001b[0m\u001b[0mdevice\u001b[0m\u001b[0;34m)\u001b[0m\u001b[0;34m)\u001b[0m\u001b[0;34m\u001b[0m\u001b[0;34m\u001b[0m\u001b[0m\n\u001b[0m\u001b[1;32m    305\u001b[0m \u001b[0;34m\u001b[0m\u001b[0m\n\u001b[1;32m    306\u001b[0m     \u001b[0;32mdef\u001b[0m \u001b[0mcpu\u001b[0m\u001b[0;34m(\u001b[0m\u001b[0mself\u001b[0m\u001b[0;34m)\u001b[0m\u001b[0;34m:\u001b[0m\u001b[0;34m\u001b[0m\u001b[0;34m\u001b[0m\u001b[0m\n",
            "\u001b[0;32m/usr/local/lib/python3.6/dist-packages/torch/nn/modules/module.py\u001b[0m in \u001b[0;36m_apply\u001b[0;34m(self, fn)\u001b[0m\n\u001b[1;32m    199\u001b[0m     \u001b[0;32mdef\u001b[0m \u001b[0m_apply\u001b[0m\u001b[0;34m(\u001b[0m\u001b[0mself\u001b[0m\u001b[0;34m,\u001b[0m \u001b[0mfn\u001b[0m\u001b[0;34m)\u001b[0m\u001b[0;34m:\u001b[0m\u001b[0;34m\u001b[0m\u001b[0;34m\u001b[0m\u001b[0m\n\u001b[1;32m    200\u001b[0m         \u001b[0;32mfor\u001b[0m \u001b[0mmodule\u001b[0m \u001b[0;32min\u001b[0m \u001b[0mself\u001b[0m\u001b[0;34m.\u001b[0m\u001b[0mchildren\u001b[0m\u001b[0;34m(\u001b[0m\u001b[0;34m)\u001b[0m\u001b[0;34m:\u001b[0m\u001b[0;34m\u001b[0m\u001b[0;34m\u001b[0m\u001b[0m\n\u001b[0;32m--> 201\u001b[0;31m             \u001b[0mmodule\u001b[0m\u001b[0;34m.\u001b[0m\u001b[0m_apply\u001b[0m\u001b[0;34m(\u001b[0m\u001b[0mfn\u001b[0m\u001b[0;34m)\u001b[0m\u001b[0;34m\u001b[0m\u001b[0;34m\u001b[0m\u001b[0m\n\u001b[0m\u001b[1;32m    202\u001b[0m \u001b[0;34m\u001b[0m\u001b[0m\n\u001b[1;32m    203\u001b[0m         \u001b[0;32mdef\u001b[0m \u001b[0mcompute_should_use_set_data\u001b[0m\u001b[0;34m(\u001b[0m\u001b[0mtensor\u001b[0m\u001b[0;34m,\u001b[0m \u001b[0mtensor_applied\u001b[0m\u001b[0;34m)\u001b[0m\u001b[0;34m:\u001b[0m\u001b[0;34m\u001b[0m\u001b[0;34m\u001b[0m\u001b[0m\n",
            "\u001b[0;32m/usr/local/lib/python3.6/dist-packages/torch/nn/modules/module.py\u001b[0m in \u001b[0;36m_apply\u001b[0;34m(self, fn)\u001b[0m\n\u001b[1;32m    199\u001b[0m     \u001b[0;32mdef\u001b[0m \u001b[0m_apply\u001b[0m\u001b[0;34m(\u001b[0m\u001b[0mself\u001b[0m\u001b[0;34m,\u001b[0m \u001b[0mfn\u001b[0m\u001b[0;34m)\u001b[0m\u001b[0;34m:\u001b[0m\u001b[0;34m\u001b[0m\u001b[0;34m\u001b[0m\u001b[0m\n\u001b[1;32m    200\u001b[0m         \u001b[0;32mfor\u001b[0m \u001b[0mmodule\u001b[0m \u001b[0;32min\u001b[0m \u001b[0mself\u001b[0m\u001b[0;34m.\u001b[0m\u001b[0mchildren\u001b[0m\u001b[0;34m(\u001b[0m\u001b[0;34m)\u001b[0m\u001b[0;34m:\u001b[0m\u001b[0;34m\u001b[0m\u001b[0;34m\u001b[0m\u001b[0m\n\u001b[0;32m--> 201\u001b[0;31m             \u001b[0mmodule\u001b[0m\u001b[0;34m.\u001b[0m\u001b[0m_apply\u001b[0m\u001b[0;34m(\u001b[0m\u001b[0mfn\u001b[0m\u001b[0;34m)\u001b[0m\u001b[0;34m\u001b[0m\u001b[0;34m\u001b[0m\u001b[0m\n\u001b[0m\u001b[1;32m    202\u001b[0m \u001b[0;34m\u001b[0m\u001b[0m\n\u001b[1;32m    203\u001b[0m         \u001b[0;32mdef\u001b[0m \u001b[0mcompute_should_use_set_data\u001b[0m\u001b[0;34m(\u001b[0m\u001b[0mtensor\u001b[0m\u001b[0;34m,\u001b[0m \u001b[0mtensor_applied\u001b[0m\u001b[0;34m)\u001b[0m\u001b[0;34m:\u001b[0m\u001b[0;34m\u001b[0m\u001b[0;34m\u001b[0m\u001b[0m\n",
            "\u001b[0;32m/usr/local/lib/python3.6/dist-packages/torch/nn/modules/module.py\u001b[0m in \u001b[0;36m_apply\u001b[0;34m(self, fn)\u001b[0m\n\u001b[1;32m    199\u001b[0m     \u001b[0;32mdef\u001b[0m \u001b[0m_apply\u001b[0m\u001b[0;34m(\u001b[0m\u001b[0mself\u001b[0m\u001b[0;34m,\u001b[0m \u001b[0mfn\u001b[0m\u001b[0;34m)\u001b[0m\u001b[0;34m:\u001b[0m\u001b[0;34m\u001b[0m\u001b[0;34m\u001b[0m\u001b[0m\n\u001b[1;32m    200\u001b[0m         \u001b[0;32mfor\u001b[0m \u001b[0mmodule\u001b[0m \u001b[0;32min\u001b[0m \u001b[0mself\u001b[0m\u001b[0;34m.\u001b[0m\u001b[0mchildren\u001b[0m\u001b[0;34m(\u001b[0m\u001b[0;34m)\u001b[0m\u001b[0;34m:\u001b[0m\u001b[0;34m\u001b[0m\u001b[0;34m\u001b[0m\u001b[0m\n\u001b[0;32m--> 201\u001b[0;31m             \u001b[0mmodule\u001b[0m\u001b[0;34m.\u001b[0m\u001b[0m_apply\u001b[0m\u001b[0;34m(\u001b[0m\u001b[0mfn\u001b[0m\u001b[0;34m)\u001b[0m\u001b[0;34m\u001b[0m\u001b[0;34m\u001b[0m\u001b[0m\n\u001b[0m\u001b[1;32m    202\u001b[0m \u001b[0;34m\u001b[0m\u001b[0m\n\u001b[1;32m    203\u001b[0m         \u001b[0;32mdef\u001b[0m \u001b[0mcompute_should_use_set_data\u001b[0m\u001b[0;34m(\u001b[0m\u001b[0mtensor\u001b[0m\u001b[0;34m,\u001b[0m \u001b[0mtensor_applied\u001b[0m\u001b[0;34m)\u001b[0m\u001b[0;34m:\u001b[0m\u001b[0;34m\u001b[0m\u001b[0;34m\u001b[0m\u001b[0m\n",
            "\u001b[0;32m/usr/local/lib/python3.6/dist-packages/torch/nn/modules/module.py\u001b[0m in \u001b[0;36m_apply\u001b[0;34m(self, fn)\u001b[0m\n\u001b[1;32m    221\u001b[0m                 \u001b[0;31m# `with torch.no_grad():`\u001b[0m\u001b[0;34m\u001b[0m\u001b[0;34m\u001b[0m\u001b[0;34m\u001b[0m\u001b[0m\n\u001b[1;32m    222\u001b[0m                 \u001b[0;32mwith\u001b[0m \u001b[0mtorch\u001b[0m\u001b[0;34m.\u001b[0m\u001b[0mno_grad\u001b[0m\u001b[0;34m(\u001b[0m\u001b[0;34m)\u001b[0m\u001b[0;34m:\u001b[0m\u001b[0;34m\u001b[0m\u001b[0;34m\u001b[0m\u001b[0m\n\u001b[0;32m--> 223\u001b[0;31m                     \u001b[0mparam_applied\u001b[0m \u001b[0;34m=\u001b[0m \u001b[0mfn\u001b[0m\u001b[0;34m(\u001b[0m\u001b[0mparam\u001b[0m\u001b[0;34m)\u001b[0m\u001b[0;34m\u001b[0m\u001b[0;34m\u001b[0m\u001b[0m\n\u001b[0m\u001b[1;32m    224\u001b[0m                 \u001b[0mshould_use_set_data\u001b[0m \u001b[0;34m=\u001b[0m \u001b[0mcompute_should_use_set_data\u001b[0m\u001b[0;34m(\u001b[0m\u001b[0mparam\u001b[0m\u001b[0;34m,\u001b[0m \u001b[0mparam_applied\u001b[0m\u001b[0;34m)\u001b[0m\u001b[0;34m\u001b[0m\u001b[0;34m\u001b[0m\u001b[0m\n\u001b[1;32m    225\u001b[0m                 \u001b[0;32mif\u001b[0m \u001b[0mshould_use_set_data\u001b[0m\u001b[0;34m:\u001b[0m\u001b[0;34m\u001b[0m\u001b[0;34m\u001b[0m\u001b[0m\n",
            "\u001b[0;32m/usr/local/lib/python3.6/dist-packages/torch/nn/modules/module.py\u001b[0m in \u001b[0;36m<lambda>\u001b[0;34m(t)\u001b[0m\n\u001b[1;32m    302\u001b[0m             \u001b[0mModule\u001b[0m\u001b[0;34m:\u001b[0m \u001b[0mself\u001b[0m\u001b[0;34m\u001b[0m\u001b[0;34m\u001b[0m\u001b[0m\n\u001b[1;32m    303\u001b[0m         \"\"\"\n\u001b[0;32m--> 304\u001b[0;31m         \u001b[0;32mreturn\u001b[0m \u001b[0mself\u001b[0m\u001b[0;34m.\u001b[0m\u001b[0m_apply\u001b[0m\u001b[0;34m(\u001b[0m\u001b[0;32mlambda\u001b[0m \u001b[0mt\u001b[0m\u001b[0;34m:\u001b[0m \u001b[0mt\u001b[0m\u001b[0;34m.\u001b[0m\u001b[0mcuda\u001b[0m\u001b[0;34m(\u001b[0m\u001b[0mdevice\u001b[0m\u001b[0;34m)\u001b[0m\u001b[0;34m)\u001b[0m\u001b[0;34m\u001b[0m\u001b[0;34m\u001b[0m\u001b[0m\n\u001b[0m\u001b[1;32m    305\u001b[0m \u001b[0;34m\u001b[0m\u001b[0m\n\u001b[1;32m    306\u001b[0m     \u001b[0;32mdef\u001b[0m \u001b[0mcpu\u001b[0m\u001b[0;34m(\u001b[0m\u001b[0mself\u001b[0m\u001b[0;34m)\u001b[0m\u001b[0;34m:\u001b[0m\u001b[0;34m\u001b[0m\u001b[0;34m\u001b[0m\u001b[0m\n",
            "\u001b[0;31mRuntimeError\u001b[0m: CUDA out of memory. Tried to allocate 94.00 MiB (GPU 0; 7.43 GiB total capacity; 6.46 GiB already allocated; 2.94 MiB free; 6.81 GiB reserved in total by PyTorch)"
          ]
        }
      ]
    },
    {
      "cell_type": "markdown",
      "metadata": {
        "id": "uWyHWg5xlBck",
        "colab_type": "text"
      },
      "source": [
        "Optimizers and Loss"
      ]
    },
    {
      "cell_type": "markdown",
      "metadata": {
        "id": "sgwmHirxnEie",
        "colab_type": "text"
      },
      "source": [
        "#### Constructing the training and validation loop \n"
      ]
    },
    {
      "cell_type": "markdown",
      "metadata": {
        "id": "7J6rIz4UnLwq",
        "colab_type": "text"
      },
      "source": [
        ""
      ]
    },
    {
      "cell_type": "code",
      "metadata": {
        "id": "pZDt2ZElwcJh",
        "colab_type": "code",
        "colab": {}
      },
      "source": [
        "import numpy as np\n",
        "\n",
        "from sklearn.metrics import f1_score \n",
        "\n",
        "from sklearn.metrics import roc_auc_score \n",
        "\n",
        "from sklearn.metrics import confusion_matrix\n",
        "\n",
        "from sklearn.metrics import classification_report\n",
        "\n",
        "# Function to calculate the accuracy of our predictions vs labels\n",
        "def flat_accuracy(preds, labels):\n",
        "    pred_flat = np.argmax(preds, axis=1).flatten()\n",
        "    labels_flat = labels.flatten()\n",
        "    return np.sum(pred_flat == labels_flat) / len(labels_flat)\n",
        "\n",
        "\n",
        "def flat_f1_score(labels,preds):\n",
        "    pred_flat = np.argmax(preds, axis=1).flatten()\n",
        "    labels_flat = labels.flatten()\n",
        "    return f1_score(labels_flat,pred_flat,zero_division=1)\n",
        "\n",
        "def flat_roc_auc(labels,preds):\n",
        "    pred_flat = np.argmax(preds, axis=1).flatten()\n",
        "    labels_flat = labels.flatten()\n",
        "    return roc_auc_score(labels_flat,pred_flat,zero_division=0.5)\n"
      ],
      "execution_count": 0,
      "outputs": []
    },
    {
      "cell_type": "code",
      "metadata": {
        "id": "gLN5mzc2ilxU",
        "colab_type": "code",
        "colab": {}
      },
      "source": [
        "\n",
        "gender_model = CamembertForSequenceClassification.from_pretrained(\n",
        "    \"camembert-base\", \n",
        "    num_labels = 2, # We have two different labels Women = 1 and Men =0   \n",
        "    output_attentions = False, \n",
        "    output_hidden_states = False, \n",
        ")"
      ],
      "execution_count": 0,
      "outputs": []
    },
    {
      "cell_type": "code",
      "metadata": {
        "id": "WUB8c4k_t1UJ",
        "colab_type": "code",
        "colab": {}
      },
      "source": [
        "def train_val_gendermodel(train_loader, val_loader, epochs_val,seed_val,device,lr_value):\n",
        "\n",
        "  ############################  IMPORT MODEL ################################################\n",
        "  gender_model = CamembertForSequenceClassification.from_pretrained(\n",
        "    \"camembert-base\", \n",
        "    num_labels = 2, # We have two different labels Women = 1 and Men =0   \n",
        "    output_attentions = False, \n",
        "    output_hidden_states = False, )\n",
        "\n",
        "  model = gender_model\n",
        "  model.cuda()\n",
        "  \n",
        "  ############################## RANDOM SEED ##################################################\n",
        "\n",
        "  import random\n",
        " # Let's put a seed to make this result reproducible \n",
        "  seed=seed_val\n",
        "  random.seed(seed)\n",
        "  np.random.seed(seed)\n",
        "  torch.manual_seed(seed)\n",
        "  torch.cuda.manual_seed_all(seed)\n",
        "\n",
        "  ############################### LEARNING RATE SCHEDULER #######################################\n",
        "\n",
        "  # https://huggingface.co/transformers/migration.html \n",
        "  # https://pytorch.org/docs/stable/optim.html (default values)\n",
        "\n",
        "  import torch.nn as nn\n",
        "  import torch.optim as optim\n",
        "  from transformers import AdamW\n",
        "  from transformers import get_linear_schedule_with_warmup\n",
        "\n",
        "  epochs = epochs_val # In order to fine tune our model we will first set the number of epochs to 4.\n",
        "\n",
        "  # We choose Binary cross enthropy with logits loss for the loss computation. It seems to be the most adapted loss to our problem. \n",
        "  criterion = nn.BCEWithLogitsLoss()\n",
        "  #Implements Adam algorithm with weight decay fix.\n",
        "  opti = AdamW(model.parameters(),\n",
        "                    lr =lr_value, # learning rate (default = 1e-3)\n",
        "                    eps = 1e-8 # prevents division by 0 (default = 1e-8)\n",
        "                  )\n",
        "\n",
        "  num_training_steps = len(train_loader) * epochs\n",
        "  # Create a schedule with a learning rate that decreases linearly after linearly increasing during a warmup period (0 here)\n",
        "  scheduler = get_linear_schedule_with_warmup(opti, \n",
        "                                              num_warmup_steps = 0,\n",
        "                                              num_training_steps = num_training_steps)\n",
        "    \n",
        "\n",
        "  # We want to evaluate the training phase \n",
        "  training_stats = []\n",
        "\n",
        "  for ep in range(0, epochs):\n",
        "    print('===========Starting Epoch {} / {} =============='.format(ep+1,epochs))\n",
        "    print('Training starts')\n",
        "\n",
        "    ################################### TRAINING ################################\n",
        "\n",
        "    #Put the model in training mode\n",
        "    model.train()\n",
        "\n",
        "    # Set the train loss for the epoch to 0 \n",
        "    total_train_loss = 0\n",
        "\n",
        "    for step, batch in enumerate(train_loader):\n",
        "      # Clear gradients \n",
        "      model.zero_grad() # (opti.zerograd ? )\n",
        "\n",
        "      # Cpy the 3 batch to GPU \n",
        "      b_input_ids = batch[0].to(device)\n",
        "      b_input_mask = batch[1].to(device)\n",
        "      b_labels = batch[2].to(device)\n",
        "      \n",
        "      #return loss and logits\n",
        "      loss, logits = model(b_input_ids, \n",
        "                          token_type_ids=None, \n",
        "                          attention_mask=b_input_mask, \n",
        "                          labels=b_labels) \n",
        "      \n",
        "      # Accumulate training loss for all batches \n",
        "      total_train_loss += loss.item()\n",
        "\n",
        "      #Backpropagating the gradients \n",
        "      loss.backward()\n",
        "\n",
        "      # Prevent exploding gradients problem  (forcing the gradients to be small, the parameter updates will not push the parameters too far from their previous values)\n",
        "      torch.nn.utils.clip_grad_norm_(model.parameters(), 1.0)\n",
        "\n",
        "      # Update parameters \n",
        "      opti.step()\n",
        "\n",
        "      # Update learning rate schedule\n",
        "      scheduler.step()\n",
        "\n",
        "    #Calculate the average training loss over all batches  \n",
        "    avg_train_loss = total_train_loss / len(train_loader)\n",
        "    print(\"\")\n",
        "    print(\"  Average training loss: {0:.2f}\".format(avg_train_loss))\n",
        "    print('')\n",
        "    print('And now, validation STARTS')\n",
        "\n",
        "    ###################### VALIDATION #############################\n",
        "\n",
        "    # Put model in evaluation mode \n",
        "    model.eval()\n",
        "\n",
        "    # Set statistics to 0\n",
        "    total_eval_accuracy = 0\n",
        "    total_eval_loss = 0\n",
        "    nb_eval_steps = 0\n",
        "    total_eval_f1=0\n",
        "    total_roc_auc = 0 \n",
        "\n",
        "    # Confusion matrix ?\n",
        "    predictions, true_labels = [], []\n",
        "\n",
        "    for batch in val_loader:\n",
        "      b_input_ids = batch[0].to(device)\n",
        "      b_input_mask = batch[1].to(device)\n",
        "      b_labels = batch[2].to(device)\n",
        "      \n",
        "      # We don't care about gradients for eval\n",
        "\n",
        "      with torch.no_grad(): \n",
        "        (loss, logits) = model(b_input_ids, \n",
        "                                   token_type_ids=None, \n",
        "                                   attention_mask=b_input_mask,\n",
        "                                   labels=b_labels)\n",
        "      total_eval_loss += loss.item()\n",
        "\n",
        "        # Move logits and labels to CPU \n",
        "      logits = logits.detach().cpu().numpy()\n",
        "      label_ids = b_labels.to('cpu').numpy()\n",
        "\n",
        "      pred_flat = np.argmax(logits, axis=1).flatten()\n",
        "      labels_flat = label_ids.flatten()\n",
        "\n",
        "      # Confusion matrix ?\n",
        "      #val_batch_preds = np.argmax(logits, axis=1)\n",
        "      #val_batch_labels = label_ids\n",
        "      #predictions.extend(val_batch_preds)\n",
        "      #true_labels.extend(val_batch_labels)\n",
        "\n",
        "      # Accumulation accuracy for all batch\n",
        "      total_eval_accuracy += flat_accuracy(logits, label_ids)\n",
        "\n",
        "      # Accumulation f1 for all batch\n",
        "      total_eval_f1 += f1_score(labels_flat,pred_flat,zero_division=1)\n",
        "\n",
        "      # Accumulation roc_auc for all batch\n",
        "      #total_roc_auc += flat_roc_auc(label_ids,logits)\n",
        "      \n",
        "      #Final accuracy on all batch\n",
        "    avg_val_accuracy = total_eval_accuracy / len(val_loader)\n",
        "    print(\"  Accuracy: {0:.2f}\".format(avg_val_accuracy))\n",
        "\n",
        "      #Final f1 on all batch\n",
        "    avg_val_f1 = total_eval_f1 / len(val_loader)\n",
        "    print(\"  Accuracy: {0:.2f}\".format(avg_val_f1))\n",
        "\n",
        "     #Final roc_auc over all batch\n",
        "    #avg_val_roc_auc = total_roc_auc / len(val_loader)\n",
        "    #print(\"  Validation Loss: {0:.2f}\".format(avg_val_loss))\n",
        "\n",
        "      #Final loss over all batch\n",
        "    avg_val_loss = total_eval_loss / len(val_loader)\n",
        "    print(\"  Validation Loss: {0:.2f}\".format(avg_val_loss))\n",
        "\n",
        "    # confusion matrix ? \n",
        "    pred_tags = [i for i in predictions]\n",
        "    valid_tags = [i for i in true_labels]\n",
        "\n",
        "\n",
        "\n",
        "    training_stats.append(\n",
        "          {\n",
        "              'epoch': ep + 1,\n",
        "              'Training Loss': avg_train_loss,\n",
        "              'Valid. Loss': avg_val_loss,\n",
        "              'Valid. Accur.': avg_val_accuracy,\n",
        "              'Valid F1' : avg_val_f1,\n",
        "             # 'Valid ROC AUC' : avg_val_roc_auc,\n",
        "          }\n",
        "      )\n",
        "\n",
        "  print(\"\")\n",
        "  print(\"Done !\")\n",
        "\n",
        "  return  training_stats"
      ],
      "execution_count": 0,
      "outputs": []
    },
    {
      "cell_type": "code",
      "metadata": {
        "id": "WqNRTJME5oHs",
        "colab_type": "code",
        "outputId": "2166a7a3-4ebd-4d14-d793-f5a3de50b82a",
        "colab": {
          "base_uri": "https://localhost:8080/",
          "height": 663
        }
      },
      "source": [
        "results_unbalanced = train_val_gendermodel(train_loader=train_loader_unbalanced, val_loader=val_loader_unbalanced, epochs_val=4,seed_val=2020,device=device,lr_value=5e-5)"
      ],
      "execution_count": 26,
      "outputs": [
        {
          "output_type": "stream",
          "text": [
            "===========Starting Epoch 1 / 4 ==============\n",
            "Training starts\n",
            "\n",
            "  Average training loss: 0.59\n",
            "\n",
            "And now, validation STARTS\n",
            "  Accuracy: 0.79\n",
            "  Accuracy: 0.67\n",
            "  Validation Loss: 0.61\n",
            "===========Starting Epoch 2 / 4 ==============\n",
            "Training starts\n",
            "\n",
            "  Average training loss: 0.53\n",
            "\n",
            "And now, validation STARTS\n",
            "  Accuracy: 0.81\n",
            "  Accuracy: 0.69\n",
            "  Validation Loss: 0.64\n",
            "===========Starting Epoch 3 / 4 ==============\n",
            "Training starts\n",
            "\n",
            "  Average training loss: 0.45\n",
            "\n",
            "And now, validation STARTS\n",
            "  Accuracy: 0.83\n",
            "  Accuracy: 0.72\n",
            "  Validation Loss: 0.62\n",
            "===========Starting Epoch 4 / 4 ==============\n",
            "Training starts\n",
            "\n",
            "  Average training loss: 0.32\n",
            "\n",
            "And now, validation STARTS\n",
            "  Accuracy: 0.82\n",
            "  Accuracy: 0.71\n",
            "  Validation Loss: 0.77\n",
            "\n",
            "Done !\n"
          ],
          "name": "stdout"
        }
      ]
    },
    {
      "cell_type": "code",
      "metadata": {
        "id": "yK0Ohghwa8Hx",
        "colab_type": "code",
        "colab": {}
      },
      "source": [
        "import pandas as pd"
      ],
      "execution_count": 0,
      "outputs": []
    },
    {
      "cell_type": "code",
      "metadata": {
        "id": "omPiofn4gDZc",
        "colab_type": "code",
        "outputId": "f06babfd-ad46-4725-ae60-a9cfb4cf04a2",
        "colab": {
          "base_uri": "https://localhost:8080/",
          "height": 204
        }
      },
      "source": [
        "df_stats = pd.DataFrame(data=results_unbalanced)\n",
        "df_stats = df_stats.set_index('epoch')\n",
        "df_stats"
      ],
      "execution_count": 28,
      "outputs": [
        {
          "output_type": "execute_result",
          "data": {
            "text/html": [
              "<div>\n",
              "<style scoped>\n",
              "    .dataframe tbody tr th:only-of-type {\n",
              "        vertical-align: middle;\n",
              "    }\n",
              "\n",
              "    .dataframe tbody tr th {\n",
              "        vertical-align: top;\n",
              "    }\n",
              "\n",
              "    .dataframe thead th {\n",
              "        text-align: right;\n",
              "    }\n",
              "</style>\n",
              "<table border=\"1\" class=\"dataframe\">\n",
              "  <thead>\n",
              "    <tr style=\"text-align: right;\">\n",
              "      <th></th>\n",
              "      <th>Training Loss</th>\n",
              "      <th>Valid. Loss</th>\n",
              "      <th>Valid. Accur.</th>\n",
              "      <th>Valid F1</th>\n",
              "    </tr>\n",
              "    <tr>\n",
              "      <th>epoch</th>\n",
              "      <th></th>\n",
              "      <th></th>\n",
              "      <th></th>\n",
              "      <th></th>\n",
              "    </tr>\n",
              "  </thead>\n",
              "  <tbody>\n",
              "    <tr>\n",
              "      <th>1</th>\n",
              "      <td>0.593989</td>\n",
              "      <td>0.608205</td>\n",
              "      <td>0.787755</td>\n",
              "      <td>0.670748</td>\n",
              "    </tr>\n",
              "    <tr>\n",
              "      <th>2</th>\n",
              "      <td>0.525662</td>\n",
              "      <td>0.642845</td>\n",
              "      <td>0.812245</td>\n",
              "      <td>0.691156</td>\n",
              "    </tr>\n",
              "    <tr>\n",
              "      <th>3</th>\n",
              "      <td>0.452452</td>\n",
              "      <td>0.616325</td>\n",
              "      <td>0.830612</td>\n",
              "      <td>0.717007</td>\n",
              "    </tr>\n",
              "    <tr>\n",
              "      <th>4</th>\n",
              "      <td>0.318853</td>\n",
              "      <td>0.771008</td>\n",
              "      <td>0.824490</td>\n",
              "      <td>0.710204</td>\n",
              "    </tr>\n",
              "  </tbody>\n",
              "</table>\n",
              "</div>"
            ],
            "text/plain": [
              "       Training Loss  Valid. Loss  Valid. Accur.  Valid F1\n",
              "epoch                                                     \n",
              "1           0.593989     0.608205       0.787755  0.670748\n",
              "2           0.525662     0.642845       0.812245  0.691156\n",
              "3           0.452452     0.616325       0.830612  0.717007\n",
              "4           0.318853     0.771008       0.824490  0.710204"
            ]
          },
          "metadata": {
            "tags": []
          },
          "execution_count": 28
        }
      ]
    },
    {
      "cell_type": "code",
      "metadata": {
        "id": "DH9QNCMXR0zc",
        "colab_type": "code",
        "outputId": "b3322886-537c-45ec-a79e-54915f4e67a2",
        "colab": {
          "base_uri": "https://localhost:8080/",
          "height": 663
        }
      },
      "source": [
        "results_balanced = train_val_gendermodel(train_loader=train_loader_balanced, val_loader=val_loader_balanced, epochs_val=4,seed_val=2020,device=device,lr_value=5e-5)"
      ],
      "execution_count": 29,
      "outputs": [
        {
          "output_type": "stream",
          "text": [
            "===========Starting Epoch 1 / 4 ==============\n",
            "Training starts\n",
            "\n",
            "  Average training loss: 0.69\n",
            "\n",
            "And now, validation STARTS\n",
            "  Accuracy: 0.68\n",
            "  Accuracy: 0.59\n",
            "  Validation Loss: 0.89\n",
            "===========Starting Epoch 2 / 4 ==============\n",
            "Training starts\n",
            "\n",
            "  Average training loss: 0.66\n",
            "\n",
            "And now, validation STARTS\n",
            "  Accuracy: 0.77\n",
            "  Accuracy: 0.69\n",
            "  Validation Loss: 0.52\n",
            "===========Starting Epoch 3 / 4 ==============\n",
            "Training starts\n",
            "\n",
            "  Average training loss: 0.54\n",
            "\n",
            "And now, validation STARTS\n",
            "  Accuracy: 0.74\n",
            "  Accuracy: 0.67\n",
            "  Validation Loss: 0.74\n",
            "===========Starting Epoch 4 / 4 ==============\n",
            "Training starts\n",
            "\n",
            "  Average training loss: 0.35\n",
            "\n",
            "And now, validation STARTS\n",
            "  Accuracy: 0.76\n",
            "  Accuracy: 0.67\n",
            "  Validation Loss: 1.10\n",
            "\n",
            "Done !\n"
          ],
          "name": "stdout"
        }
      ]
    },
    {
      "cell_type": "code",
      "metadata": {
        "id": "IcHp2OKhdRPd",
        "colab_type": "code",
        "outputId": "aa7df9f8-9326-47bc-c6b2-242a07404fc7",
        "colab": {
          "base_uri": "https://localhost:8080/",
          "height": 204
        }
      },
      "source": [
        "df_stats = pd.DataFrame(data=results_balanced)\n",
        "df_stats = df_stats.set_index('epoch')\n",
        "df_stats"
      ],
      "execution_count": 30,
      "outputs": [
        {
          "output_type": "execute_result",
          "data": {
            "text/html": [
              "<div>\n",
              "<style scoped>\n",
              "    .dataframe tbody tr th:only-of-type {\n",
              "        vertical-align: middle;\n",
              "    }\n",
              "\n",
              "    .dataframe tbody tr th {\n",
              "        vertical-align: top;\n",
              "    }\n",
              "\n",
              "    .dataframe thead th {\n",
              "        text-align: right;\n",
              "    }\n",
              "</style>\n",
              "<table border=\"1\" class=\"dataframe\">\n",
              "  <thead>\n",
              "    <tr style=\"text-align: right;\">\n",
              "      <th></th>\n",
              "      <th>Training Loss</th>\n",
              "      <th>Valid. Loss</th>\n",
              "      <th>Valid. Accur.</th>\n",
              "      <th>Valid F1</th>\n",
              "    </tr>\n",
              "    <tr>\n",
              "      <th>epoch</th>\n",
              "      <th></th>\n",
              "      <th></th>\n",
              "      <th></th>\n",
              "      <th></th>\n",
              "    </tr>\n",
              "  </thead>\n",
              "  <tbody>\n",
              "    <tr>\n",
              "      <th>1</th>\n",
              "      <td>0.690740</td>\n",
              "      <td>0.886900</td>\n",
              "      <td>0.681633</td>\n",
              "      <td>0.585034</td>\n",
              "    </tr>\n",
              "    <tr>\n",
              "      <th>2</th>\n",
              "      <td>0.659529</td>\n",
              "      <td>0.520504</td>\n",
              "      <td>0.771429</td>\n",
              "      <td>0.688435</td>\n",
              "    </tr>\n",
              "    <tr>\n",
              "      <th>3</th>\n",
              "      <td>0.541589</td>\n",
              "      <td>0.739033</td>\n",
              "      <td>0.744898</td>\n",
              "      <td>0.672109</td>\n",
              "    </tr>\n",
              "    <tr>\n",
              "      <th>4</th>\n",
              "      <td>0.353204</td>\n",
              "      <td>1.095774</td>\n",
              "      <td>0.755102</td>\n",
              "      <td>0.670748</td>\n",
              "    </tr>\n",
              "  </tbody>\n",
              "</table>\n",
              "</div>"
            ],
            "text/plain": [
              "       Training Loss  Valid. Loss  Valid. Accur.  Valid F1\n",
              "epoch                                                     \n",
              "1           0.690740     0.886900       0.681633  0.585034\n",
              "2           0.659529     0.520504       0.771429  0.688435\n",
              "3           0.541589     0.739033       0.744898  0.672109\n",
              "4           0.353204     1.095774       0.755102  0.670748"
            ]
          },
          "metadata": {
            "tags": []
          },
          "execution_count": 30
        }
      ]
    },
    {
      "cell_type": "code",
      "metadata": {
        "id": "Hb6Ca8qmdT74",
        "colab_type": "code",
        "outputId": "e63a7afc-a018-465a-8823-cff3594948c1",
        "colab": {
          "base_uri": "https://localhost:8080/",
          "height": 663
        }
      },
      "source": [
        "results_balanced_split = train_val_gendermodel(train_loader=train_loader_balanced_split, val_loader=val_loader_balanced_split, epochs_val=4,seed_val=2020,device=device,lr_value=5e-5)"
      ],
      "execution_count": 31,
      "outputs": [
        {
          "output_type": "stream",
          "text": [
            "===========Starting Epoch 1 / 4 ==============\n",
            "Training starts\n",
            "\n",
            "  Average training loss: 0.70\n",
            "\n",
            "And now, validation STARTS\n",
            "  Accuracy: 0.74\n",
            "  Accuracy: 0.68\n",
            "  Validation Loss: 0.69\n",
            "===========Starting Epoch 2 / 4 ==============\n",
            "Training starts\n",
            "\n",
            "  Average training loss: 0.56\n",
            "\n",
            "And now, validation STARTS\n",
            "  Accuracy: 0.77\n",
            "  Accuracy: 0.73\n",
            "  Validation Loss: 0.85\n",
            "===========Starting Epoch 3 / 4 ==============\n",
            "Training starts\n",
            "\n",
            "  Average training loss: 0.41\n",
            "\n",
            "And now, validation STARTS\n",
            "  Accuracy: 0.80\n",
            "  Accuracy: 0.74\n",
            "  Validation Loss: 0.85\n",
            "===========Starting Epoch 4 / 4 ==============\n",
            "Training starts\n",
            "\n",
            "  Average training loss: 0.20\n",
            "\n",
            "And now, validation STARTS\n",
            "  Accuracy: 0.81\n",
            "  Accuracy: 0.75\n",
            "  Validation Loss: 1.00\n",
            "\n",
            "Done !\n"
          ],
          "name": "stdout"
        }
      ]
    },
    {
      "cell_type": "code",
      "metadata": {
        "id": "6p6WloNvdb41",
        "colab_type": "code",
        "outputId": "33e84266-6dd7-43a3-a273-506b5c857c0a",
        "colab": {
          "base_uri": "https://localhost:8080/",
          "height": 204
        }
      },
      "source": [
        "df_stats = pd.DataFrame(data=results_balanced_split)\n",
        "df_stats = df_stats.set_index('epoch')\n",
        "df_stats"
      ],
      "execution_count": 32,
      "outputs": [
        {
          "output_type": "execute_result",
          "data": {
            "text/html": [
              "<div>\n",
              "<style scoped>\n",
              "    .dataframe tbody tr th:only-of-type {\n",
              "        vertical-align: middle;\n",
              "    }\n",
              "\n",
              "    .dataframe tbody tr th {\n",
              "        vertical-align: top;\n",
              "    }\n",
              "\n",
              "    .dataframe thead th {\n",
              "        text-align: right;\n",
              "    }\n",
              "</style>\n",
              "<table border=\"1\" class=\"dataframe\">\n",
              "  <thead>\n",
              "    <tr style=\"text-align: right;\">\n",
              "      <th></th>\n",
              "      <th>Training Loss</th>\n",
              "      <th>Valid. Loss</th>\n",
              "      <th>Valid. Accur.</th>\n",
              "      <th>Valid F1</th>\n",
              "    </tr>\n",
              "    <tr>\n",
              "      <th>epoch</th>\n",
              "      <th></th>\n",
              "      <th></th>\n",
              "      <th></th>\n",
              "      <th></th>\n",
              "    </tr>\n",
              "  </thead>\n",
              "  <tbody>\n",
              "    <tr>\n",
              "      <th>1</th>\n",
              "      <td>0.695822</td>\n",
              "      <td>0.690138</td>\n",
              "      <td>0.737903</td>\n",
              "      <td>0.677419</td>\n",
              "    </tr>\n",
              "    <tr>\n",
              "      <th>2</th>\n",
              "      <td>0.556895</td>\n",
              "      <td>0.851728</td>\n",
              "      <td>0.768145</td>\n",
              "      <td>0.729839</td>\n",
              "    </tr>\n",
              "    <tr>\n",
              "      <th>3</th>\n",
              "      <td>0.412280</td>\n",
              "      <td>0.850640</td>\n",
              "      <td>0.796371</td>\n",
              "      <td>0.736559</td>\n",
              "    </tr>\n",
              "    <tr>\n",
              "      <th>4</th>\n",
              "      <td>0.201848</td>\n",
              "      <td>1.000318</td>\n",
              "      <td>0.808468</td>\n",
              "      <td>0.752688</td>\n",
              "    </tr>\n",
              "  </tbody>\n",
              "</table>\n",
              "</div>"
            ],
            "text/plain": [
              "       Training Loss  Valid. Loss  Valid. Accur.  Valid F1\n",
              "epoch                                                     \n",
              "1           0.695822     0.690138       0.737903  0.677419\n",
              "2           0.556895     0.851728       0.768145  0.729839\n",
              "3           0.412280     0.850640       0.796371  0.736559\n",
              "4           0.201848     1.000318       0.808468  0.752688"
            ]
          },
          "metadata": {
            "tags": []
          },
          "execution_count": 32
        }
      ]
    },
    {
      "cell_type": "markdown",
      "metadata": {
        "id": "aLxa4te3gzi-",
        "colab_type": "text"
      },
      "source": [
        "Analyse"
      ]
    },
    {
      "cell_type": "markdown",
      "metadata": {
        "id": "kKXUkXjfg0s2",
        "colab_type": "text"
      },
      "source": [
        "#### Saving the model ?"
      ]
    },
    {
      "cell_type": "code",
      "metadata": {
        "id": "R1LLOEa3g2wL",
        "colab_type": "code",
        "colab": {}
      },
      "source": [
        "\n"
      ],
      "execution_count": 0,
      "outputs": []
    },
    {
      "cell_type": "markdown",
      "metadata": {
        "id": "60t946KwdjJh",
        "colab_type": "text"
      },
      "source": [
        "## Evaluation and qualitative analysis "
      ]
    },
    {
      "cell_type": "markdown",
      "metadata": {
        "id": "be83uYVShfmX",
        "colab_type": "text"
      },
      "source": [
        "We train the model just as before with the attributes and samples we have chosen. In order to increase as much as possible the performance of the model we decide to train on both train and test data in this case. We will keep our development sample in order to make our qualitative analysis. "
      ]
    },
    {
      "cell_type": "code",
      "metadata": {
        "id": "VwLjFoTq8n5X",
        "colab_type": "code",
        "colab": {}
      },
      "source": [
        "# Let's take a balanced sample \n",
        "df_m = df.loc[df['sexe'] == 0]\n",
        "df_f = df.loc[df['sexe'] == 1] \n",
        "df_m = df_m[0:len(df_f)]\n",
        "df_eval = df_f.append(df_m)"
      ],
      "execution_count": 0,
      "outputs": []
    },
    {
      "cell_type": "code",
      "metadata": {
        "id": "HgSsrz3h9IOv",
        "colab_type": "code",
        "colab": {}
      },
      "source": [
        "#Shuffle the data\n",
        "df_eval=df_eval.sample(frac=1).reset_index()"
      ],
      "execution_count": 0,
      "outputs": []
    },
    {
      "cell_type": "code",
      "metadata": {
        "id": "gUU-zURR9M01",
        "colab_type": "code",
        "colab": {}
      },
      "source": [
        "from itertools import repeat\n",
        "n=2500\n",
        "chunks, label_split,index_df=[],[],[]\n",
        "j=0\n",
        "for text in df_eval.Texte :\n",
        "    txt=[text[i:i+n] for i in range(0, len(text), n)]\n",
        "    chunks.append(txt)\n",
        "    label_split.extend(repeat(df_eval.sexe[j], len(txt)))\n",
        "    index_df.extend(repeat(df_eval.index[j], len(txt)))\n",
        "    j+=1\n",
        "\n",
        "chunks = [item for sublist in chunks for item in sublist]\n",
        "df_eval=pd.DataFrame([chunks,label_split,index_df]).transpose()\n",
        "df_eval.columns=['Texte','sexe','index']\n",
        "df_eval['sexe'] = df_eval['sexe'].astype(int)\n"
      ],
      "execution_count": 0,
      "outputs": []
    },
    {
      "cell_type": "code",
      "metadata": {
        "id": "_fm0K4oPC8S7",
        "colab_type": "code",
        "colab": {}
      },
      "source": [
        "# Shuffle this again \n",
        "df_eval=df_eval.sample(frac=1).reset_index()"
      ],
      "execution_count": 0,
      "outputs": []
    },
    {
      "cell_type": "code",
      "metadata": {
        "id": "pE_kgUi8-Znc",
        "colab_type": "code",
        "colab": {
          "base_uri": "https://localhost:8080/",
          "height": 34
        },
        "outputId": "642380b4-2337-4d34-fc60-a74373024e16"
      },
      "source": [
        "len_train = round(0.98*len(df_eval))\n",
        "len_dev = len(df_eval) - len_train\n",
        "len_train, len_dev"
      ],
      "execution_count": 84,
      "outputs": [
        {
          "output_type": "execute_result",
          "data": {
            "text/plain": [
              "(12388, 253)"
            ]
          },
          "metadata": {
            "tags": []
          },
          "execution_count": 84
        }
      ]
    },
    {
      "cell_type": "code",
      "metadata": {
        "id": "vmMk8Je9-KgD",
        "colab_type": "code",
        "colab": {
          "base_uri": "https://localhost:8080/",
          "height": 85
        },
        "outputId": "25572fe1-33ce-4ffb-bdd3-441c482fcac3"
      },
      "source": [
        "df_balanced_split= df_eval[0:len_train]\n",
        "dev_balanced_split=df_eval[len_train:len(df_eval)]\n",
        "\n",
        "# Report the number of speeches in the corpus.\n",
        "print('Number of text in this balanced splitted corpus : {:,}\\n'.format(df_balanced_split.shape[0]))\n",
        "print('Number of text in the development sample : {:,}\\n'.format(dev_balance_split.shape[0]))"
      ],
      "execution_count": 85,
      "outputs": [
        {
          "output_type": "stream",
          "text": [
            "Number of text in this balanced splitted corpus : 12,388\n",
            "\n",
            "Number of text in the development sample : 253\n",
            "\n"
          ],
          "name": "stdout"
        }
      ]
    },
    {
      "cell_type": "code",
      "metadata": {
        "id": "IUocVU2qC1H0",
        "colab_type": "code",
        "colab": {
          "base_uri": "https://localhost:8080/",
          "height": 357
        },
        "outputId": "7a61ce9f-7764-4d00-f230-bfb9f7f411eb"
      },
      "source": [
        "from torch.utils.data import TensorDataset, random_split\n",
        "from torch.utils.data import DataLoader, RandomSampler, SequentialSampler\n",
        "\n",
        "texts = df_eval.Texte.values\n",
        "labels = df_eval.sexe.values\n",
        "\n",
        "# Tokenize all of the sentences and map the tokens to thier word IDs.\n",
        "input_ids = []\n",
        "attention_masks = []\n",
        "num_truncated_tokens =[]\n",
        "# Apply function to our corpus\n",
        "for text in texts:\n",
        "    encoded_dict = tokenizer.encode_plus(\n",
        "                        text,                      # text\n",
        "                        add_special_tokens = True, # Add '[CLS]' and '[SEP]'\n",
        "                        max_length = 500,           # We choose for now a max length of 500.\n",
        "                        pad_to_max_length = True,    # Pad text to max (marche pas en pad left ?)\n",
        "                        return_attention_mask = True,   # Construct attention masks\n",
        "                        return_tensors = 'pt',     # Return pytorch tensors.\n",
        "                        return_overflowing_tokens =True, # return overflowing token information\n",
        "                  )\n",
        "    \n",
        "    # Map tokens to their id in the dictionnary \n",
        "    # We add this to our list    \n",
        "    input_ids.append(encoded_dict['input_ids'])\n",
        "\n",
        "    #num_truncated_tokens.append(encoded_dict['num_truncated_tokens'])\n",
        "    \n",
        "    # 3. Attention masks\n",
        "    attention_masks.append(encoded_dict['attention_mask'])\n",
        "\n",
        "# We convert all this into tensors in order to be able to make it work on GPU \n",
        "input_ids = torch.cat(input_ids, dim=0)\n",
        "attention_masks = torch.cat(attention_masks, dim=0)\n",
        "labels = torch.tensor(labels)\n",
        "\n",
        "# Original text and transformed tensor print \n",
        "print(\"Let's check for the first text indexes, attention masks and labels\")\n",
        "print(\" \")\n",
        "print('Original: ', texts[0][0:100])\n",
        "print('IDs:', input_ids[0][0:100])\n",
        "print('Attention masks:', attention_masks[0][0:100])\n",
        "print('labels',labels[0])\n",
        "\n",
        "\n",
        "# Combine all above\n",
        "dataset = TensorDataset(input_ids, attention_masks, labels)\n",
        "\n",
        "# We set the size of the batch ( usually set around 16 or 32), we will take the lower bound because of the large text length\n",
        "batch_size = 10\n",
        "\n",
        "# We create data loaders for the train and validation dataset. \n",
        "train_dataloader = DataLoader(\n",
        "            dataset,  # The training samples.\n",
        "            sampler = SequentialSampler(dataset), \n",
        "            batch_size = 10 # Trains with this batch size.\n",
        "        )\n",
        "\n",
        "print('Data loaders created for train [0]')"
      ],
      "execution_count": 86,
      "outputs": [
        {
          "output_type": "stream",
          "text": [
            "Let's check for the first text indexes, attention masks and labels\n",
            " \n",
            "Original:  membres dans ce domaine et que ce critère soit mieux pondéré dans la répartition proposée.Le disposi\n",
            "IDs: tensor([    5,   580,    29,    44,   813,    14,    27,    44, 11094,   191,\n",
            "          334, 31308,    29,    13,  5443,  6012,     9,   990,  2507,   279,\n",
            "           98, 11439,    37,    19,   214,  9099,     8,    17,    11,   974,\n",
            "         1467,     7,    22,   770,    13,  1671,   192,    16,  3893,     8,\n",
            "         7809,     7,    42,    17,    11,  3275,   360,  4749,  7633,   449,\n",
            "         3701, 10669,     7,    24,   745,    63, 15022,    23,  3429,    25,\n",
            "          960,     8,   548,    20,  5542, 14784,     7,   289,     8,   351,\n",
            "         6442,    22,  1118,   806,    14,     7,    36,   394,     7,    29,\n",
            "           19,  2775,  9965, 23459,  1727,     9,  1855,  1817,     7,    14,\n",
            "           50,    17,    11,    73,  2410,     7,    13,  3599,   279,    98])\n",
            "Attention masks: tensor([1, 1, 1, 1, 1, 1, 1, 1, 1, 1, 1, 1, 1, 1, 1, 1, 1, 1, 1, 1, 1, 1, 1, 1,\n",
            "        1, 1, 1, 1, 1, 1, 1, 1, 1, 1, 1, 1, 1, 1, 1, 1, 1, 1, 1, 1, 1, 1, 1, 1,\n",
            "        1, 1, 1, 1, 1, 1, 1, 1, 1, 1, 1, 1, 1, 1, 1, 1, 1, 1, 1, 1, 1, 1, 1, 1,\n",
            "        1, 1, 1, 1, 1, 1, 1, 1, 1, 1, 1, 1, 1, 1, 1, 1, 1, 1, 1, 1, 1, 1, 1, 1,\n",
            "        1, 1, 1, 1])\n",
            "labels tensor(0)\n",
            "Data loaders created for train [0]\n"
          ],
          "name": "stdout"
        }
      ]
    },
    {
      "cell_type": "code",
      "metadata": {
        "id": "GFNQB5W_DJg0",
        "colab_type": "code",
        "colab": {}
      },
      "source": [
        "def prepare_to_feed_train(df,length,batch_size_value):\n",
        "  from torch.utils.data import TensorDataset, random_split\n",
        "  from torch.utils.data import DataLoader, RandomSampler, SequentialSampler\n",
        "\n",
        "  texts = df_eval.Texte.values\n",
        "  labels = df_eval.sexe.values\n",
        "\n",
        "  # Tokenize all of the sentences and map the tokens to thier word IDs.\n",
        "  input_ids = []\n",
        "  attention_masks = []\n",
        "  num_truncated_tokens =[]\n",
        "  # Apply function to our corpus\n",
        "  for text in texts:\n",
        "      encoded_dict = tokenizer.encode_plus(\n",
        "                          text,                      # text\n",
        "                          add_special_tokens = True, # Add '[CLS]' and '[SEP]'\n",
        "                          max_length = length,           # We choose for now a max length of 500.\n",
        "                          pad_to_max_length = True,    # Pad text to max (marche pas en pad left ?)\n",
        "                          return_attention_mask = True,   # Construct attention masks\n",
        "                          return_tensors = 'pt',     # Return pytorch tensors.\n",
        "                          return_overflowing_tokens =True, # return overflowing token information\n",
        "                    )\n",
        "      \n",
        "      # Map tokens to their id in the dictionnary \n",
        "      # We add this to our list    \n",
        "      input_ids.append(encoded_dict['input_ids'])\n",
        "  \n",
        "      #num_truncated_tokens.append(encoded_dict['num_truncated_tokens'])\n",
        "      \n",
        "      # 3. Attention masks\n",
        "      attention_masks.append(encoded_dict['attention_mask'])\n",
        "\n",
        "  # We convert all this into tensors in order to be able to make it work on GPU \n",
        "  input_ids = torch.cat(input_ids, dim=0)\n",
        "  attention_masks = torch.cat(attention_masks, dim=0)\n",
        "  labels = torch.tensor(labels)\n",
        "\n",
        "  # Original text and transformed tensor print \n",
        "  print(\"Let's check for the first text indexes, attention masks and labels\")\n",
        "  print(\" \")\n",
        "  print('Original: ', texts[0][0:100])\n",
        "  print('IDs:', input_ids[0][0:100])\n",
        "  print('Attention masks:', attention_masks[0][0:100])\n",
        "  print('labels',labels[0])\n",
        "\n",
        "\n",
        "  # Combine all above\n",
        "  dataset = TensorDataset(input_ids, attention_masks, labels)\n",
        "\n",
        "  # We create data loaders for the train and validation dataset. \n",
        "  train_dataloader = DataLoader(\n",
        "              dataset,  # The training samples.\n",
        "              sampler = SequentialSampler(dataset), \n",
        "              batch_size = batch_size_value # Trains with this batch size.\n",
        "          )\n",
        "  \n",
        "  print('Data loaders created for train [0]')\n",
        "\n",
        "  return train_dataloader"
      ],
      "execution_count": 0,
      "outputs": []
    },
    {
      "cell_type": "markdown",
      "metadata": {
        "id": "eKnR6TV2m0jR",
        "colab_type": "text"
      },
      "source": [
        ""
      ]
    },
    {
      "cell_type": "markdown",
      "metadata": {
        "id": "FkLjCVBIm0Os",
        "colab_type": "text"
      },
      "source": [
        ""
      ]
    },
    {
      "cell_type": "code",
      "metadata": {
        "id": "l9tLM3cTDeQz",
        "colab_type": "code",
        "outputId": "c134557b-4da5-4e84-9db0-e1df8104c1e0",
        "colab": {
          "base_uri": "https://localhost:8080/",
          "height": 357
        }
      },
      "source": [
        "train_loader_balanced_split= prepare_to_feed_train(df_balanced_split,length=500,batch_size_value=1)"
      ],
      "execution_count": 79,
      "outputs": [
        {
          "output_type": "stream",
          "text": [
            "Let's check for the first text indexes, attention masks and labels\n",
            " \n",
            "Original:  mptueux, mais l'enjeu qui sous-tend notre action est de ce niveau et nous devons en être conscients.\n",
            "IDs: tensor([    5, 13393,   744,   914,     7,    65,    17,    11, 12854,    31,\n",
            "          161,    26, 13721,   127,  1703,    30,     8,    44,   359,    14,\n",
            "           63,  4092,    22,    98, 19531,     9,  1855,  3606,    63,   296,\n",
            "         9009,    28,  2131,    29,    13,  1671,   192,    13,  1596,    15,\n",
            "         5360,   360,  9249,    55,     7,   182,    40,     8,   301,   250,\n",
            "            8,  1671, 17175,    35,     9,   232,  1662,   711, 10013,   194,\n",
            "           13, 11908,     8,   127, 28651,    24,    17,    11,  4378,     8,\n",
            "           13,  2695,  6901,  7305,    29,    17,    11, 15184,    25,   499,\n",
            "         2028,     9, 28148,     7,    15,   300,     7,   298,     8,    13,\n",
            "        20253,  2139,     7,    63,   296,   523,    23, 11263,    29,    13])\n",
            "Attention masks: tensor([1, 1, 1, 1, 1, 1, 1, 1, 1, 1, 1, 1, 1, 1, 1, 1, 1, 1, 1, 1, 1, 1, 1, 1,\n",
            "        1, 1, 1, 1, 1, 1, 1, 1, 1, 1, 1, 1, 1, 1, 1, 1, 1, 1, 1, 1, 1, 1, 1, 1,\n",
            "        1, 1, 1, 1, 1, 1, 1, 1, 1, 1, 1, 1, 1, 1, 1, 1, 1, 1, 1, 1, 1, 1, 1, 1,\n",
            "        1, 1, 1, 1, 1, 1, 1, 1, 1, 1, 1, 1, 1, 1, 1, 1, 1, 1, 1, 1, 1, 1, 1, 1,\n",
            "        1, 1, 1, 1])\n",
            "labels tensor(1)\n",
            "Data loaders created for train [0]\n"
          ],
          "name": "stdout"
        }
      ]
    },
    {
      "cell_type": "code",
      "metadata": {
        "id": "YY9uXaDehe5v",
        "colab_type": "code",
        "outputId": "19c984de-39ce-4755-8733-98b6e89e21f4",
        "colab": {
          "base_uri": "https://localhost:8080/",
          "height": 102
        }
      },
      "source": [
        "############################  IMPORT MODEL ################################################\n",
        "gender_model = CamembertForSequenceClassification.from_pretrained(\n",
        "\"camembert-base\", \n",
        "num_labels = 2, # We have two different labels Women = 1 and Men =0   \n",
        "output_attentions = False, \n",
        "output_hidden_states = False, )\n",
        "\n",
        "gender_model.cuda()\n",
        "\n",
        "############################## RANDOM SEED ##################################################\n",
        "\n",
        "import random\n",
        "# Let's put a seed to make this result reproducible \n",
        "seed=2020\n",
        "random.seed(seed)\n",
        "np.random.seed(seed)\n",
        "torch.manual_seed(seed)\n",
        "torch.cuda.manual_seed_all(seed)\n",
        "\n",
        "############################### LEARNING RATE SCHEDULER #######################################\n",
        "\n",
        "# https://huggingface.co/transformers/migration.html \n",
        "# https://pytorch.org/docs/stable/optim.html (default values)\n",
        "\n",
        "import torch.nn as nn\n",
        "import torch.optim as optim\n",
        "from transformers import AdamW\n",
        "from transformers import get_linear_schedule_with_warmup\n",
        "\n",
        "epochs = 1  # In order to fine tune our model we will first set the number of epochs to 4.\n",
        "\n",
        "# We choose Binary cross enthropy with logits loss for the loss computation. It seems to be the most adapted loss to our problem. \n",
        "criterion = nn.BCEWithLogitsLoss()\n",
        "#Implements Adam algorithm with weight decay fix.\n",
        "opti = AdamW(gender_model.parameters(),\n",
        "                lr =5e-5, # learning rate (default = 1e-3)\n",
        "                eps = 1e-8 # prevents division by 0 (default = 1e-8)\n",
        "              )\n",
        "\n",
        "num_training_steps = len(train_loader_balanced_split) * epochs\n",
        "# Create a schedule with a learning rate that decreases linearly after linearly increasing during a warmup period (0 here)\n",
        "scheduler = get_linear_schedule_with_warmup(opti, \n",
        "                                          num_warmup_steps = 0,\n",
        "                                          num_training_steps = num_training_steps)\n",
        "\n",
        "\n",
        "# We want to evaluate the training phase \n",
        "training_stats = []\n",
        "\n",
        "for ep in range(0, epochs):\n",
        "  print('===========Starting Epoch {} / {} =============='.format(ep+1,epochs))\n",
        "  print('Training starts')\n",
        "\n",
        "  ################################### TRAINING ################################\n",
        "\n",
        "  #Put the model in training mode\n",
        "  gender_model.train()\n",
        "\n",
        "  # Set the train loss for the epoch to 0 \n",
        "  total_train_loss = 0\n",
        "\n",
        "  for step, batch in enumerate(train_loader_balanced_split):\n",
        "    # Clear gradients \n",
        "    gender_model.zero_grad() # (opti.zerograd ? )\n",
        "\n",
        "    # Cpy the 3 batch to GPU \n",
        "    b_input_ids = batch[0].to(device)\n",
        "    b_input_mask = batch[1].to(device)\n",
        "    b_labels = batch[2].to(device)\n",
        "    \n",
        "    #return loss and logits\n",
        "    loss, logits = gender_model(b_input_ids, \n",
        "                        token_type_ids=None, \n",
        "                        attention_mask=b_input_mask, \n",
        "                        labels=b_labels) \n",
        "    \n",
        "    # Accumulate training loss for all batches \n",
        "    total_train_loss += loss.item()\n",
        "\n",
        "    #Backpropagating the gradients \n",
        "    loss.backward()\n",
        "\n",
        "    # Prevent exploding gradients problem  (forcing the gradients to be small, the parameter updates will not push the parameters too far from their previous values)\n",
        "    torch.nn.utils.clip_grad_norm_(gender_model.parameters(), 1.0)\n",
        "\n",
        "    # Update parameters \n",
        "    opti.step()\n",
        "\n",
        "    # Update learning rate schedule\n",
        "    scheduler.step()\n",
        "\n",
        "#Calculate the average training loss over all batches  \n",
        "avg_train_loss = total_train_loss / len(train_loader_balanced_split)\n",
        "print(\"\")\n",
        "print(\"  Average training loss: {0:.2f}\".format(avg_train_loss))\n",
        "print('')  "
      ],
      "execution_count": 88,
      "outputs": [
        {
          "output_type": "stream",
          "text": [
            "===========Starting Epoch 1 / 1 ==============\n",
            "Training starts\n",
            "\n",
            "  Average training loss: 0.70\n",
            "\n"
          ],
          "name": "stdout"
        }
      ]
    },
    {
      "cell_type": "markdown",
      "metadata": {
        "id": "syd2rBrsSLro",
        "colab_type": "text"
      },
      "source": [
        "Preparing development sequence "
      ]
    },
    {
      "cell_type": "code",
      "metadata": {
        "id": "Q1GKZZKlSOZo",
        "colab_type": "code",
        "colab": {}
      },
      "source": [
        "from torch.utils.data import TensorDataset, random_split\n",
        "from torch.utils.data import DataLoader, RandomSampler, SequentialSampler\n",
        "\n",
        "\n",
        "texts = dev_balanced_split.Texte.values\n",
        "labels = dev_balanced_split.sexe.values"
      ],
      "execution_count": 0,
      "outputs": []
    },
    {
      "cell_type": "code",
      "metadata": {
        "id": "qEVkqRfJSKxx",
        "colab_type": "code",
        "colab": {}
      },
      "source": [
        "\n",
        "# Tokenize all of the sentences and map the tokens to thier word IDs.\n",
        "input_ids = []\n",
        "attention_masks = []\n",
        "num_truncated_tokens =[]\n",
        "original_text =[]\n",
        "tokenized_text=[]\n",
        "\n",
        "for text in texts:\n",
        "  original_text.append(text)\n",
        "  tokenized_text.append(tokenizer.tokenize(text))\n",
        "  encoded_dict = tokenizer.encode_plus(\n",
        "                        text,                      # text\n",
        "                        add_special_tokens = True, # Add '[CLS]' and '[SEP]'\n",
        "                        max_length = 500,           # We choose for now a max length of 500.\n",
        "                        pad_to_max_length = True,    # Pad text to max (marche pas en pad left ?)\n",
        "                        return_attention_mask = True,   # Construct attention masks\n",
        "                        return_tensors = 'pt',     # Return pytorch tensors.\n",
        "                        return_overflowing_tokens =True, # return overflowing token information\n",
        "                  )\n",
        "    \n",
        "    # Map tokens to their id in the dictionnary \n",
        "    # We add this to our list    \n",
        "  input_ids.append(encoded_dict['input_ids'])\n",
        "\n",
        "    #num_truncated_tokens.append(encoded_dict['num_truncated_tokens'])\n",
        "    \n",
        "    # 3. Attention masks\n",
        "  attention_masks.append(encoded_dict['attention_mask'])"
      ],
      "execution_count": 0,
      "outputs": []
    },
    {
      "cell_type": "code",
      "metadata": {
        "id": "BI75VHrKWp9V",
        "colab_type": "code",
        "colab": {}
      },
      "source": [
        "\n",
        "# We convert all this into tensors in order to be able to make it work on GPU \n",
        "input_ids = torch.cat(input_ids, dim=0)\n",
        "attention_masks = torch.cat(attention_masks, dim=0)\n",
        "labels = torch.tensor(labels)"
      ],
      "execution_count": 0,
      "outputs": []
    },
    {
      "cell_type": "code",
      "metadata": {
        "id": "zuCDzV7BVJc_",
        "colab_type": "code",
        "colab": {
          "base_uri": "https://localhost:8080/",
          "height": 377
        },
        "outputId": "0916dbf6-d416-4de1-ab38-25f257319609"
      },
      "source": [
        "# Original text and transformed tensor print \n",
        "print(\"Let's check for the first text indexes, attention masks and labels\")\n",
        "print(\" \")\n",
        "print('Original: ', texts[0][0:100])\n",
        "print('Tokenized: ', tokenized_text[0])\n",
        "print('IDs:', input_ids[0][0:100])\n",
        "print('Attention masks:', attention_masks[0][0:100])\n",
        "print('labels',labels[0])"
      ],
      "execution_count": 95,
      "outputs": [
        {
          "output_type": "stream",
          "text": [
            "Let's check for the first text indexes, attention masks and labels\n",
            " \n",
            "Original:  amitié et un profond respect celles et ceux qui sont présents dans cette salle. Mes chers amis, vous\n",
            "Tokenized:  ['▁amitié', '▁et', '▁un', '▁profond', '▁respect', '▁celles', '▁et', '▁ceux', '▁qui', '▁sont', '▁présents', '▁dans', '▁cette', '▁salle', '.', '▁Mes', '▁chers', '▁amis', ',', '▁vous', '▁le', '▁verrez', ',', '▁ce', '▁film', '▁vous', '▁donne', '▁la', '▁parole', '▁pour', '▁aborder', '▁la', '▁fin', '▁des', '▁camps', ',', '▁la', '▁libération', '▁et', '▁les', '▁conditions', '▁peu', '▁connues', ',', '▁souvent', '▁tu', 'es', ',', '▁de', '▁votre', '▁ré', 'adaptation', '▁à', '▁la', '▁vie', '▁hors', '▁des', '▁camps', ',', '▁vous', '▁que', '▁la', '▁barbarie', '▁na', 'zie', '▁avait', '▁condamné', '▁à', '▁la', '▁disparition', ',', '▁dans', '▁la', '▁nuit', '▁et', '▁le', '▁brouillard', ',', '▁vous', '▁dont', '▁l', \"'\", 'extermination', '▁avait', '▁été', '▁méthodique', 'ment', '▁planifié', 'e', ',', '▁vous', '▁qui', '▁étiez', '▁presque', ',', '▁déjà', ',', '▁hors', '▁du', '▁monde', '▁des', '▁vivants', '.\"', '▁Personne', '▁n', \"'\", 'avait', '▁envie', '▁de', '▁nous', '▁entendre', '▁\"', '.\"', '▁Durant', '▁les', '▁premiers', '▁jours', '▁qui', '▁ont', '▁suivi', '▁notre', '▁retour', ',', '▁nous', '▁voulions', '▁parler', ',', '▁être', '▁entendu', 's', '▁[', '].', '▁Nous', '▁ramen', 'ions', '▁avec', '▁nous', '▁notre', '▁mémoire', ',', '▁notre', '▁expérience', '▁toute', '▁vivante', '.', '▁Nous', '▁éprouv', 'ions', '▁un', '▁désir', '▁frénétique', '▁de', '▁la', '▁dire', '▁telle', '▁quelle', '▁[', '].', '▁Et', '▁cependant', '▁c', \"'\", 'était', '▁impossible', '▁[', ']', '▁\"', '\"', '▁A', '▁nous', '-', 'mêmes', ',', '▁ce', '▁que', '▁nous', '▁avions', '▁à', '▁dire', ',', '▁commençait', '▁à', '▁nous', '▁paraître', '▁inimaginable', '▁\"', 'Me', 's', 'dam', 'es', '▁et', '▁Messieurs', ',', '▁ces', '▁témoignages', ',', '▁cette', '▁', 'incompréhension', '▁bouleversant', 'e', ',', '▁cette', '▁\"', '▁mémoire', '▁blessée', '▁\"', ',', '▁vont', '▁nous', '▁aider', '▁à', '▁approcher', ',', '▁de', '▁façon', '▁originale', '▁et', '▁convaincant', 'e', ',', '▁l', \"'\", 'enfer', '▁des', '▁camps', '▁de', '▁la', '▁mort', '.', 'Ce', '▁film', '▁l', \"'\", 'approche', '▁aussi', ',', '▁bien', '▁sûr', ',', '▁avec', '▁l', \"'\", 'évocation', '▁de', '▁lieux', '▁qui', '▁sont', '▁autant', '▁de', '▁symboles', '▁tragique', 's', '▁ou', '▁douloureux', '.', 'Auschwitz', ',', '▁d', \"'\", 'abord', '.', '▁A', '▁la', '▁fois', '▁camp', '▁de', '▁concentration', ',', '▁comme', '▁Rav', 'ens', 'br', 'ü', 'ck', ',', '▁le', '▁St', 'r', 'ut', 'hof', ',', '▁Buch', 'en', 'wald', ',', '▁D', 'ach', 'au', '▁et', '▁tant', '▁d', \"'\", 'autres', ',', '▁symbole', '▁eff', 'ar', 'ant', '▁de', '▁l', \"'\", 'oppression', '▁na', 'zie', '.', '▁', 'Auschwitz', '-', 'B', 'ir', 'ken', 'au', ',', '▁camp', '▁d', \"'\", 'extermination', ',', '▁le', '▁plus', '▁grand', '▁des', '▁cimetière', 's', ',', '▁symbole', '▁tragique', '▁et', '▁éternel', '▁de', '▁la', '▁folie', '▁de', '▁la', '▁Shoah', '.', 'Avec', '▁la', '▁gare', '▁d', \"'\", 'Orsay', ',', '▁le', '▁L', 'uté', 'tia', ',', '▁la', '▁Sal', 'pé', 't', 'rière', ',', '▁Bi', 'chat', ',', '▁apparaissent', '▁les', '▁difficultés', '▁du', '▁rapatriement', '▁et', '▁le', '▁début', '▁du', '▁temps', '▁de', '▁la', '▁mémoire', '.', 'Une', '▁mémoire', '▁qui', '▁n', \"'\", 'a', '▁cessé', '▁d', \"'\", 'évoluer', ',', '▁ré', 'par', 'ant', ',', '▁ici', ',', '▁des', '▁oubli', 's', '▁injuste', 's', ',', '▁suscita', 'nt', ',', '▁là', ',', '▁de', '▁nouvelles', '▁blessures', '.', 'Une', '▁mémoire', '▁que', '▁nous', '▁avons', '▁le', '▁devoir', '▁imp', 'é', 'rieux', '▁de', '▁transmettre', '.', 'Une', '▁mémoire', '▁qui', '▁nous', '▁oblige', '▁à', '▁l', \"'\", 'action', '.', 'Ne', '▁doute', 'z', '▁pas', '▁de', '▁la', '▁détermination', '▁de', '▁l', \"'\", 'Etat', '▁à', '▁agir', ',', '▁avec', '▁le', '▁concours', '▁des', '▁fondations', '▁et', '▁des', '▁associations', ',', '▁avec', '▁le', '▁concours', '▁des', '▁hommes', '▁et', '▁des', '▁femmes', '▁de', '▁communication', '.', 'Ré', 's', 'istant', 's', '-', 'Dé', 'porté', 's', ',', '▁politiques', ',', '▁victimes', '▁de', '▁la', '▁déportation', '▁de', '▁répression', 'Ju', 'ifs', ',', '▁T', 's', 'igan', 'es', '▁et', '▁victimes', '▁de', '▁la', '▁déportation', '▁d', \"'\", 'extermination', '▁vos', '▁sacrifices', ',', '▁votre', '▁martyr', 'e', ',', '▁ne', '▁seront', '▁jamais', '▁oublié', 's', '.', 'Votre', '▁message', '▁de', '▁courage', ',', '▁de', '▁dignité', '▁et', '▁de', '▁vigilance', '▁nous', '▁inspirer', 'a', '▁toujours', '.', 'C', \"'\", 'est', '▁dans', '▁cet', '▁esprit', '▁que', '▁nous', '▁sommes', '▁réunis', ',', '▁ce', '▁soir', ',', '▁pour', '▁voir', '▁le', '▁film', '▁de', '▁Patrick', '▁R', 'OT', 'MAN', '.', 'Me', 's', 'dam', 'es', '▁et', '▁Messieurs', ',', '▁je', '▁vous', '▁remercie', '.', '(']\n",
            "IDs: tensor([    5,  6885,    14,    23,  3705,  1346,   989,    14,   320,    31,\n",
            "           56,  2559,    29,    78,   447,     9,  2658,  6175,   784,     7,\n",
            "           39,    16,  8496,     7,    44,   492,    39,   556,    13,  2171,\n",
            "           24,  9513,    13,   259,    20,  9669,     7,    13,  6544,    14,\n",
            "           19,   643,   126,  8973,     7,   355,   150,    80,     7,     8,\n",
            "           75,   425,  6025,    15,    13,   157,  1152,    20,  9669,     7,\n",
            "           39,    27,    13, 26499,  3650, 12179,   171,  6706,    15,    13,\n",
            "         5374,     7,    29,    13,   656,    14,    16, 17859,     7,    39,\n",
            "          174,    17,    11, 30108,   171,   101, 26624,   131, 23369,    35,\n",
            "            7,    39,    31, 17131,   838,     7,   235,     7,  1152,    25])\n",
            "Attention masks: tensor([1, 1, 1, 1, 1, 1, 1, 1, 1, 1, 1, 1, 1, 1, 1, 1, 1, 1, 1, 1, 1, 1, 1, 1,\n",
            "        1, 1, 1, 1, 1, 1, 1, 1, 1, 1, 1, 1, 1, 1, 1, 1, 1, 1, 1, 1, 1, 1, 1, 1,\n",
            "        1, 1, 1, 1, 1, 1, 1, 1, 1, 1, 1, 1, 1, 1, 1, 1, 1, 1, 1, 1, 1, 1, 1, 1,\n",
            "        1, 1, 1, 1, 1, 1, 1, 1, 1, 1, 1, 1, 1, 1, 1, 1, 1, 1, 1, 1, 1, 1, 1, 1,\n",
            "        1, 1, 1, 1])\n",
            "labels tensor(0)\n"
          ],
          "name": "stdout"
        }
      ]
    },
    {
      "cell_type": "code",
      "metadata": {
        "id": "1YJH_svQUMvp",
        "colab_type": "code",
        "colab": {}
      },
      "source": [
        "# Combine all above\n",
        "dataset = TensorDataset(input_ids, attention_masks, labels)\n",
        "batch_size = 1\n",
        "# We create data loaders for the train and validation dataset. \n",
        "dev_dataloader = DataLoader(\n",
        "            dataset,  # The training samples.\n",
        "            sampler = SequentialSampler(dataset), # We set to sequential and we keep track \n",
        "            batch_size = batch_size # Trains with this batch size.\n",
        "        )"
      ],
      "execution_count": 0,
      "outputs": []
    },
    {
      "cell_type": "code",
      "metadata": {
        "id": "LXVKl1flXbkz",
        "colab_type": "code",
        "colab": {}
      },
      "source": [
        "# Put model in evaluation mode \n",
        "gender_model.eval()\n",
        "\n",
        "total_pred,total_labels, total_eval_loss,scores_max,scores_min=[],[], [],[],[]\n",
        "for batch in dev_dataloader:\n",
        "  b_input_ids = batch[0].to(device)\n",
        "  b_input_mask = batch[1].to(device)\n",
        "  b_labels = batch[2].to(device)\n",
        "  \n",
        "  # We don't care about gradients for eval\n",
        "\n",
        "  with torch.no_grad(): \n",
        "    (loss, logits) = gender_model(b_input_ids, \n",
        "                                token_type_ids=None, \n",
        "                                attention_mask=b_input_mask,\n",
        "                                labels=b_labels)\n",
        "  total_eval_loss.append(loss.item())\n",
        "\n",
        "    # Move logits and labels to CPU \n",
        "  logits = logits.detach().cpu().numpy()\n",
        "  label_ids = b_labels.to('cpu').numpy()\n",
        "\n",
        "  score_max = np.amax(logits, axis=1).flatten().item()\n",
        "  score_min = np.amin(logits, axis=1).flatten().item()\n",
        "  pred_flat = np.argmax(logits, axis=1).flatten().item()\n",
        "  labels_flat = label_ids.flatten().item()\n",
        "\n",
        "  total_pred.append(pred_flat)\n",
        "  total_labels.append(labels_flat)\n",
        "  scores_max.append(score_max)\n",
        "  scores_min.append(score_min)\n"
      ],
      "execution_count": 0,
      "outputs": []
    },
    {
      "cell_type": "code",
      "metadata": {
        "id": "TvgZXct7YSpk",
        "colab_type": "code",
        "colab": {}
      },
      "source": [
        "results_dev=pd.DataFrame([total_labels,total_pred,scores_max,scores_min]).transpose()\n",
        "results_dev.columns=['returned_labels','model_pred','scores_max','score_min']"
      ],
      "execution_count": 0,
      "outputs": []
    },
    {
      "cell_type": "code",
      "metadata": {
        "id": "TBhJ624rzOWG",
        "colab_type": "code",
        "colab": {
          "base_uri": "https://localhost:8080/",
          "height": 419
        },
        "outputId": "45a4412d-3c6e-4979-aec6-fce30735cb10"
      },
      "source": [
        ""
      ],
      "execution_count": 101,
      "outputs": [
        {
          "output_type": "execute_result",
          "data": {
            "text/html": [
              "<div>\n",
              "<style scoped>\n",
              "    .dataframe tbody tr th:only-of-type {\n",
              "        vertical-align: middle;\n",
              "    }\n",
              "\n",
              "    .dataframe tbody tr th {\n",
              "        vertical-align: top;\n",
              "    }\n",
              "\n",
              "    .dataframe thead th {\n",
              "        text-align: right;\n",
              "    }\n",
              "</style>\n",
              "<table border=\"1\" class=\"dataframe\">\n",
              "  <thead>\n",
              "    <tr style=\"text-align: right;\">\n",
              "      <th></th>\n",
              "      <th>level_0</th>\n",
              "      <th>Texte</th>\n",
              "      <th>sexe</th>\n",
              "      <th>index</th>\n",
              "    </tr>\n",
              "  </thead>\n",
              "  <tbody>\n",
              "    <tr>\n",
              "      <th>12388</th>\n",
              "      <td>2457</td>\n",
              "      <td>amitié et un profond respect celles et ceux qu...</td>\n",
              "      <td>0</td>\n",
              "      <td>499</td>\n",
              "    </tr>\n",
              "    <tr>\n",
              "      <th>12389</th>\n",
              "      <td>11792</td>\n",
              "      <td>américains prônent la liberté, mais cela ne l...</td>\n",
              "      <td>0</td>\n",
              "      <td>2323</td>\n",
              "    </tr>\n",
              "    <tr>\n",
              "      <th>12390</th>\n",
              "      <td>4140</td>\n",
              "      <td>doit donc être accepté socialement. Nous voyo...</td>\n",
              "      <td>1</td>\n",
              "      <td>838</td>\n",
              "    </tr>\n",
              "    <tr>\n",
              "      <th>12391</th>\n",
              "      <td>3018</td>\n",
              "      <td>Mesdames, Messieurs,Le sujet que vous avez abo...</td>\n",
              "      <td>1</td>\n",
              "      <td>612</td>\n",
              "    </tr>\n",
              "    <tr>\n",
              "      <th>12392</th>\n",
              "      <td>252</td>\n",
              "      <td>Ce n'est pas sur des déclarations d'intention ...</td>\n",
              "      <td>0</td>\n",
              "      <td>54</td>\n",
              "    </tr>\n",
              "    <tr>\n",
              "      <th>...</th>\n",
              "      <td>...</td>\n",
              "      <td>...</td>\n",
              "      <td>...</td>\n",
              "      <td>...</td>\n",
              "    </tr>\n",
              "    <tr>\n",
              "      <th>12636</th>\n",
              "      <td>1152</td>\n",
              "      <td>nt à travers moi vous le confirme, l'Accord de...</td>\n",
              "      <td>1</td>\n",
              "      <td>242</td>\n",
              "    </tr>\n",
              "    <tr>\n",
              "      <th>12637</th>\n",
              "      <td>10108</td>\n",
              "      <td>Monsieur le Préfet,  Mesdames et messieurs les...</td>\n",
              "      <td>1</td>\n",
              "      <td>1993</td>\n",
              "    </tr>\n",
              "    <tr>\n",
              "      <th>12638</th>\n",
              "      <td>1363</td>\n",
              "      <td>ance contribue à la construction des deux cent...</td>\n",
              "      <td>0</td>\n",
              "      <td>275</td>\n",
              "    </tr>\n",
              "    <tr>\n",
              "      <th>12639</th>\n",
              "      <td>5755</td>\n",
              "      <td>gagement financier de l'Etat, un engagement de...</td>\n",
              "      <td>0</td>\n",
              "      <td>1159</td>\n",
              "    </tr>\n",
              "    <tr>\n",
              "      <th>12640</th>\n",
              "      <td>12487</td>\n",
              "      <td>, que se joue cette mise en commun.  Nos U.M.R...</td>\n",
              "      <td>1</td>\n",
              "      <td>2470</td>\n",
              "    </tr>\n",
              "  </tbody>\n",
              "</table>\n",
              "<p>253 rows × 4 columns</p>\n",
              "</div>"
            ],
            "text/plain": [
              "       level_0                                              Texte  sexe index\n",
              "12388     2457  amitié et un profond respect celles et ceux qu...     0   499\n",
              "12389    11792   américains prônent la liberté, mais cela ne l...     0  2323\n",
              "12390     4140   doit donc être accepté socialement. Nous voyo...     1   838\n",
              "12391     3018  Mesdames, Messieurs,Le sujet que vous avez abo...     1   612\n",
              "12392      252  Ce n'est pas sur des déclarations d'intention ...     0    54\n",
              "...        ...                                                ...   ...   ...\n",
              "12636     1152  nt à travers moi vous le confirme, l'Accord de...     1   242\n",
              "12637    10108  Monsieur le Préfet,  Mesdames et messieurs les...     1  1993\n",
              "12638     1363  ance contribue à la construction des deux cent...     0   275\n",
              "12639     5755  gagement financier de l'Etat, un engagement de...     0  1159\n",
              "12640    12487  , que se joue cette mise en commun.  Nos U.M.R...     1  2470\n",
              "\n",
              "[253 rows x 4 columns]"
            ]
          },
          "metadata": {
            "tags": []
          },
          "execution_count": 101
        }
      ]
    },
    {
      "cell_type": "code",
      "metadata": {
        "id": "R8hE01QQcz8a",
        "colab_type": "code",
        "colab": {}
      },
      "source": [
        "frames = [dev_balanced_split[['Texte','sexe','index']].reset_index(), results_dev]\n",
        "result = pd.concat(frames,axis=1)"
      ],
      "execution_count": 0,
      "outputs": []
    },
    {
      "cell_type": "code",
      "metadata": {
        "id": "psePogRcfctx",
        "colab_type": "code",
        "colab": {
          "base_uri": "https://localhost:8080/",
          "height": 111
        },
        "outputId": "8ee879da-2c4f-4dc6-be82-4b30f906d08c"
      },
      "source": [
        "result.head(2)"
      ],
      "execution_count": 111,
      "outputs": [
        {
          "output_type": "execute_result",
          "data": {
            "text/html": [
              "<div>\n",
              "<style scoped>\n",
              "    .dataframe tbody tr th:only-of-type {\n",
              "        vertical-align: middle;\n",
              "    }\n",
              "\n",
              "    .dataframe tbody tr th {\n",
              "        vertical-align: top;\n",
              "    }\n",
              "\n",
              "    .dataframe thead th {\n",
              "        text-align: right;\n",
              "    }\n",
              "</style>\n",
              "<table border=\"1\" class=\"dataframe\">\n",
              "  <thead>\n",
              "    <tr style=\"text-align: right;\">\n",
              "      <th></th>\n",
              "      <th>level_0</th>\n",
              "      <th>Texte</th>\n",
              "      <th>sexe</th>\n",
              "      <th>index</th>\n",
              "      <th>returned_labels</th>\n",
              "      <th>model_pred</th>\n",
              "      <th>scores_max</th>\n",
              "      <th>score_min</th>\n",
              "    </tr>\n",
              "  </thead>\n",
              "  <tbody>\n",
              "    <tr>\n",
              "      <th>0</th>\n",
              "      <td>12388</td>\n",
              "      <td>amitié et un profond respect celles et ceux qu...</td>\n",
              "      <td>0</td>\n",
              "      <td>499</td>\n",
              "      <td>0.0</td>\n",
              "      <td>0.0</td>\n",
              "      <td>1.863802</td>\n",
              "      <td>-1.760256</td>\n",
              "    </tr>\n",
              "    <tr>\n",
              "      <th>1</th>\n",
              "      <td>12389</td>\n",
              "      <td>américains prônent la liberté, mais cela ne l...</td>\n",
              "      <td>0</td>\n",
              "      <td>2323</td>\n",
              "      <td>0.0</td>\n",
              "      <td>0.0</td>\n",
              "      <td>2.099839</td>\n",
              "      <td>-2.016395</td>\n",
              "    </tr>\n",
              "  </tbody>\n",
              "</table>\n",
              "</div>"
            ],
            "text/plain": [
              "   level_0  ... score_min\n",
              "0    12388  ... -1.760256\n",
              "1    12389  ... -2.016395\n",
              "\n",
              "[2 rows x 8 columns]"
            ]
          },
          "metadata": {
            "tags": []
          },
          "execution_count": 111
        }
      ]
    },
    {
      "cell_type": "code",
      "metadata": {
        "id": "VLF9aS31dH7M",
        "colab_type": "code",
        "colab": {
          "base_uri": "https://localhost:8080/",
          "height": 111
        },
        "outputId": "a34014be-91f6-4587-e021-8f5fd243330d"
      },
      "source": [
        "result[result.model_pred!=result.sexe].head(2)"
      ],
      "execution_count": 112,
      "outputs": [
        {
          "output_type": "execute_result",
          "data": {
            "text/html": [
              "<div>\n",
              "<style scoped>\n",
              "    .dataframe tbody tr th:only-of-type {\n",
              "        vertical-align: middle;\n",
              "    }\n",
              "\n",
              "    .dataframe tbody tr th {\n",
              "        vertical-align: top;\n",
              "    }\n",
              "\n",
              "    .dataframe thead th {\n",
              "        text-align: right;\n",
              "    }\n",
              "</style>\n",
              "<table border=\"1\" class=\"dataframe\">\n",
              "  <thead>\n",
              "    <tr style=\"text-align: right;\">\n",
              "      <th></th>\n",
              "      <th>level_0</th>\n",
              "      <th>Texte</th>\n",
              "      <th>sexe</th>\n",
              "      <th>index</th>\n",
              "      <th>returned_labels</th>\n",
              "      <th>model_pred</th>\n",
              "      <th>scores_max</th>\n",
              "      <th>score_min</th>\n",
              "    </tr>\n",
              "  </thead>\n",
              "  <tbody>\n",
              "    <tr>\n",
              "      <th>2</th>\n",
              "      <td>12390</td>\n",
              "      <td>doit donc être accepté socialement. Nous voyo...</td>\n",
              "      <td>1</td>\n",
              "      <td>838</td>\n",
              "      <td>1.0</td>\n",
              "      <td>0.0</td>\n",
              "      <td>1.387547</td>\n",
              "      <td>-1.239461</td>\n",
              "    </tr>\n",
              "    <tr>\n",
              "      <th>10</th>\n",
              "      <td>12398</td>\n",
              "      <td>êtres humains que comme des variables d'ajuste...</td>\n",
              "      <td>1</td>\n",
              "      <td>1749</td>\n",
              "      <td>1.0</td>\n",
              "      <td>0.0</td>\n",
              "      <td>1.835730</td>\n",
              "      <td>-1.751564</td>\n",
              "    </tr>\n",
              "  </tbody>\n",
              "</table>\n",
              "</div>"
            ],
            "text/plain": [
              "    level_0  ... score_min\n",
              "2     12390  ... -1.239461\n",
              "10    12398  ... -1.751564\n",
              "\n",
              "[2 rows x 8 columns]"
            ]
          },
          "metadata": {
            "tags": []
          },
          "execution_count": 112
        }
      ]
    },
    {
      "cell_type": "markdown",
      "metadata": {
        "id": "NjJlGCVmhlsW",
        "colab_type": "text"
      },
      "source": [
        "We want to dive a bit into the model and see how it makes a choice and why it fails on thos 38 sentences. Let's take one of them. We will redo point 4 of TD4 to see the score reached by each word. "
      ]
    },
    {
      "cell_type": "code",
      "metadata": {
        "id": "22UuylghdiGf",
        "colab_type": "code",
        "colab": {}
      },
      "source": [
        "max_score_fail = result[result.model_pred!=result.sexe].scores_max.max()\n",
        "sentence_to_analyse = result[result.scores_max==max_score_fail]\n",
        "sentence_to_analyse = sentence_to_analyse[['Texte','sexe']]"
      ],
      "execution_count": 0,
      "outputs": []
    },
    {
      "cell_type": "code",
      "metadata": {
        "id": "70o0twGrkVG7",
        "colab_type": "code",
        "colab": {
          "base_uri": "https://localhost:8080/",
          "height": 51
        },
        "outputId": "2a4bc160-3b29-490a-c60d-ead2a6d13ca4"
      },
      "source": [
        "sentence_to_analyse['Texte']"
      ],
      "execution_count": 114,
      "outputs": [
        {
          "output_type": "execute_result",
          "data": {
            "text/plain": [
              "167    coup plus grave.Je ne parlerai pas du bilan de...\n",
              "Name: Texte, dtype: object"
            ]
          },
          "metadata": {
            "tags": []
          },
          "execution_count": 114
        }
      ]
    },
    {
      "cell_type": "code",
      "metadata": {
        "id": "3XKOwjLLh7u4",
        "colab_type": "code",
        "colab": {}
      },
      "source": [
        "for text in sentence_to_analyse['Texte']:\n",
        "  tokens = text.split('.')"
      ],
      "execution_count": 0,
      "outputs": []
    },
    {
      "cell_type": "code",
      "metadata": {
        "id": "l8P-mscmiWp5",
        "colab_type": "code",
        "colab": {}
      },
      "source": [
        "sentences_to_analyse =pd.DataFrame(tokens)\n",
        "sentences_to_analyse=sentences_to_analyse.assign(sexe=1)\n",
        "sentences_to_analyse.columns=['Texte','sexe']\n"
      ],
      "execution_count": 0,
      "outputs": []
    },
    {
      "cell_type": "code",
      "metadata": {
        "id": "sUmY_MIZl89j",
        "colab_type": "code",
        "colab": {
          "base_uri": "https://localhost:8080/",
          "height": 1000
        },
        "outputId": "67611833-3187-462c-88e9-7263ec5e6df4"
      },
      "source": [
        "texts"
      ],
      "execution_count": 117,
      "outputs": [
        {
          "output_type": "execute_result",
          "data": {
            "text/plain": [
              "array(['amitié et un profond respect celles et ceux qui sont présents dans cette salle. Mes chers amis, vous le verrez, ce film vous donne la parole pour aborder la fin des camps, la libération et les conditions peu connues, souvent tues, de votre réadaptation à la vie hors des camps, vous que la barbarie nazie avait condamné à la disparition, dans la nuit et le brouillard, vous dont l\\'extermination avait été méthodiquement planifiée, vous qui étiez presque, déjà, hors du monde des vivants.\" Personne n\\'avait envie de nous entendre \".\" Durant les premiers jours qui ont suivi notre retour, nous voulions parler, être entendus []. Nous ramenions avec nous notre mémoire, notre expérience toute vivante. Nous éprouvions un désir frénétique de la dire telle quelle []. Et cependant c\\'était impossible [] \"\" A nous-mêmes, ce que nous avions à dire, commençait à nous paraître inimaginable \"Mesdames et Messieurs, ces témoignages, cette incompréhension bouleversante, cette \" mémoire blessée \", vont nous aider à approcher, de façon originale et convaincante, l\\'enfer des camps de la mort.Ce film l\\'approche aussi, bien sûr, avec l\\'évocation de lieux qui sont autant de symboles tragiques ou douloureux.Auschwitz, d\\'abord. A la fois camp de concentration, comme Ravensbrück, le Struthof, Buchenwald, Dachau et tant d\\'autres, symbole effarant de l\\'oppression nazie. Auschwitz-Birkenau, camp d\\'extermination, le plus grand des cimetières, symbole tragique et éternel de la folie de la Shoah.Avec la gare d\\'Orsay, le Lutétia, la Salpétrière, Bichat, apparaissent les difficultés du rapatriement et le début du temps de la mémoire.Une mémoire qui n\\'a cessé d\\'évoluer, réparant, ici, des oublis injustes, suscitant, là, de nouvelles blessures.Une mémoire que nous avons le devoir impérieux de transmettre.Une mémoire qui nous oblige à l\\'action.Ne doutez pas de la détermination de l\\'Etat à agir, avec le concours des fondations et des associations, avec le concours des hommes et des femmes de communication.Résistants-Déportés, politiques, victimes de la déportation de répressionJuifs, Tsiganes et victimes de la déportation d\\'extermination vos sacrifices, votre martyre, ne seront jamais oubliés.Votre message de courage, de dignité et de vigilance nous inspirera toujours.C\\'est dans cet esprit que nous sommes réunis, ce soir, pour voir le film de Patrick ROTMAN.Mesdames et Messieurs, je vous remercie.(',\n",
              "       \" américains prônent la liberté, mais cela ne les empêche pas et ils ont raison de mon point de vue, de défendre les petites et moyennes entreprises et de leur réserver une part des marché publics. Moi je ne dis pas que vous avez tort, je dis que vous avez raison. Qu'est ce que je souhaite pour l'Europe Jean-François ? Que l'on fasse la même chose ! Parce qu'un pays a besoin de grands groupes, mais aussi d'un tissu de PME. Vous êtes un grand pays libéral, mais enfin, vous avez adopté une législation fiscale différente pour les produits fabriqués sur votre territoire et ceux qui ne le sont pas ! Moi je pense que vous avez raison ! Parce que c'est quand même le rôle d'un Etat de soutenir ses entreprises. Quand je vois qu'on met sur nos entreprises des règles sociales plus difficiles que les autres, des règles fiscales plus lourdes, des règles environnementales plus contraignantes, et que pour investir dans certains pays, je pense à la Chine, il faut s'associer, et dans quelles conditions, à un certain nombre d'opérateurs... Si nous ne défendons pas l'emploi de nos propres concitoyens, nos concitoyens nous le reprocheront. Ce n'est pas être réservé sur le libéralisme que de dire cela ! C'est vouloir une concurrence loyale. Après, ce que je dis sur l'euro, on me l'a souvent reproché. Je vois la politique de la Federal Reserve Bank : chaque fois qu'il y a un petit coup de mou sur la croissance, on baisse les taux. Jusqu'à présent, cela a bien réussi. Simplement, je ne peux pas oublier que Boeing est une très belle entreprise, Airbus est une très belle entreprise, mais chaque fois que l'euro prends dix centimes, Airbus perd un milliard. Si Boeing gagne contre Airbus, sur une meilleure technologie, une meilleure organisation, une meilleure agressivité commerciale, je n'ai rien à dire. Je vous le dis très librement. Mais je ne suis pas pour le dumping environnemental, pas pour le dumping social, pas pour le dumping fiscal donc je suis réservé sur le dumping monétaire. Les Américains et nous, on a un problème avec la valeur du Yuan. J'imagine que vous devez l'avoir aussi. On serait quand même plus fort ensemble pour peser sur une réévaluation du Yuan. Je ne plaide pas du tout pour un dollar fort, c'est l'affaire des Etats-Unis pas la mienne. Je dis simplement qu'une grande économie doit avoir une monnaie qui a une certaine valeur. Et ce sont des sujets dont on doit pouvoir parler. Pareil pour l'agriculture, j'ai dit au Président Bush, quand je l'ai vu : je comprends\",\n",
              "       \" doit donc être accepté socialement. Nous voyons aujourd'hui que ces conditions ne sont pas remplies en ce qui concerne les ondes radioélectriques.Nos concitoyens veulent certes disposer de nouveaux services : plus de 56 millions de personnes utilisent quotidiennement les réseaux de téléphonie mobile, sans parler de la télévision et de la radio qui sont développées depuis plusieurs dizaines d'années. Mais nos concitoyens expriment leur inquiétude quant à ce développement. Les élus souhaitent disposer d'une bonne couverture afin de ne pas rester enclavés, mais ils sont à leur tour confrontés à ces inquiétudes.Pour leur part, les opérateurs ont accepté des objectifs de couverture de la population mais ils se retrouvent confrontés à des décisions de justices leur enjoignant de démonter leurs antennes ou leur interdisant de nouvelles implantations.C'est le paradoxe - ou plutôt la série de paradoxes - dont je parlais au tout début de mon intervention. Nous devons donc trouver des réponses collectives afin de répondre à ces inquiétudes, rendre socialement acceptable ce développement et offrir un cadre clair et prédictif aux acteurs économiques.Nous allons dans quelques instants commencer les débats en faisant le point sur les technologies qui utilisent les ondes électromagnétiques ainsi que sur les réglementations française et européenne. Sur ce dernier point des leçons que nous apportent les autres pays, permettez-moi de tirer quelques leçons des expériences étrangères.En matière de limite d'exposition aux ondes radioélectriques, la majorité des Etats membres de l'Union européenne, comme la France, suivent strictement la recommandation européenne. Cette recommandation est basée sur les travaux de la Commission internationale de protection contre les rayonnements non ionisants (ICNIRP) qui a proposé des valeurs limites d'exposition des personnes aux champs électromagnétiques en 1998. C'est le cas de l'Allemagne, de l'Espagne, de l'Estonie, de la Finlande, de la Hongrie, du Portugal, de la République Tchèque par voie réglementaire et de l'Autriche, du Danemark, des Pays-Bas, du Royaume-Uni et de la Suède sous forme de recommandations.Certains pays imposent des restrictions parfois multiples :? un abattement général pour les radiofréquences (Belgique, Grèce, Italie, Lituanie, Pologne) ;? un abattement sur un type d'installation radioélectrique en ciblant les antennes de téléphonie mobile (Luxembourg, Liechtenstein) ;? des restrictions sur une zone géographique en \",\n",
              "       'Mesdames, Messieurs,Le sujet que vous avez abordé dans ce colloque est essentiel pour notre avenir.Notre pays vit actuellement des mutations économiques profondes. Nous sommes au cur d\\'une nouvelle révolution, celle de l\\'information. C\\'est l\\'une des plus rapides de l\\'histoire de l\\'humanité. Elle tend même à s\\'accélérer en raison de l\\'évolution toujours plus rapide des sciences et des techniques et du renforcement de la compétition internationale avec l\\'arrivée de nouveaux pays très concurrentiels. Si tout va si vite, c\\'est que la nouveauté, le changement, et donc les mutations, sont le moteur de cette nouvelle économie. Dans cette \" économie de la connaissance \", comme on l\\'appelle, le savoir n\\'y est plus un simple facteur de production mais une production à part entière. L\\'innovation est au cur de la croissance.La maîtrise de ces mutations économiques est donc un enjeu crucial pour chaque pays. C\\'est pourquoi, en l\\'an 2000, le Conseil européen de Lisbonne s\\'est fixé comme objectif stratégique de \" devenir d\\'ici 2010 l\\'économie de la connaissance la plus compétitive et la plus dynamique au monde. \" Et le Premier Ministre a rappelé, dans sa déclaration de politique générale, que \" la France doit atteindre les objectifs qu\\'elle s\\'est fixée dans le cadre de la stratégie de Lisbonne. \"L\\'enjeu est, bien sûr, économique : si l\\'on ne s\\'adapte pas rapidement, le décrochement et la marginalisation de notre économie sont inéluctables. Mais l\\'enjeu est aussi social parce que ces mutations provoquent des bouleversements majeurs dans le monde des entreprises. Elles se traduisent par des restructurations importantes et continues, facteurs de créations d\\'emplois mais aussi de licenciements et de chômage.Il faut bien prendre la mesure de ces enjeux : c\\'est l\\'un des plus grands défis que la France ait eu à relever au cours de son histoire. Pour réussir, nous devons impérativement adapter notre organisation économique et sociale. Un des traits essentiels d\\'une organisation efficace, c\\'est la participation de tous, femmes et hommes, à l\\'activité, sans discrimination aucune. La problématique du rapport des femmes aux mutations économiques est avant tout une problématique d\\'égalité.L\\'égalité que nous voulons pour les femmes, c\\'est non seulement un impératif démocratique, \" une exigence de justice \" comme l\\'a dit à plusieurs reprises le Président de la République, c\\'est aussi un impératif absolu d\\'efficacité économique. Le facteur humain est la principale richesse d\\'une nation.',\n",
              "       \"Ce n'est pas sur des déclarations d'intention que j'essaie de faire progresser cette notion de transparence, d'information, de citoyenneté. L'an dernier je vous avais dit que nous organiserions un colloque dans six villes permettant de mieux entendre ce que souhaitent nous dire les experts de terrain, les élus, les associations, les citoyens sur cette affaire majeure du début du 21ème siècle : quel visage, quel avenir, quel projet, quelle échelle pour l'urbanisme, l'habitat, les déplacements. C'est ce que nous avons fait et c'est à partir de ce vaste débat national que nous avons élaboré le projet de loi qui sera discuté en mars au Parlement. Son ambition est de redonner de la cohérence au développement des villes et de renverser les tendances actuelles à la ségrégation sociale et spatiale, au tout automobile, à l'empilement des règles, des codes au sein d'un maquis juridique impraticable pour les élus et à plus forte raison pour les citoyens. Et quelque soit sa qualité, son intérêt, je ne vous expliquerais pas aujourd'hui que par la seule vertu de cette nouvelle loi, les inégalités sociales vont disparaître, la mixité sociale s'épanouir dans les quartiers, les transports collectifs se développer. Non ! mais je crois qu'en simplifiant les règles, en donnant de nouveaux droits d'intervention aux élus, aux collectivités, en permettant une plus grande cohérence et des moyens aux autorités organisatrices des transports, le processus de dégradation de la vie urbaine peut commencer à s'inverser.Encore deux points sur lesquels je concluerais.Les contrats de plan. J'avais annoncé que le Gouvernement mettrait tout son poids pour favoriser une politique de transport multimodale.C'est ainsi qu'en comparaison avec l'exécution du 11ème plan les enveloppes consacrées aux infrastructures ferroviaires sont multipliées par 10, pour la voie d'eau par 8, pour les ports maritimes par 4. Si nous y sommes parvenus je crois que l'information et le poids de l'opinion publique ont beaucoup contribué à ce changement d'attitude de nos partenaires régionaux. Cette contractualisation démocratique, c'est ma conviction est la seule manière d'atteindre nos objectifs.Enfin, l'Europe sera en 2000 avec la présidence française une dimension essentielle de notre action. Je sais que vous y serez très attentifs; Le moins qu'on puisse dire c'est que beaucoup de dossiers nous attendent.Mais l'expérience montre, je pense au dossier ferroviaire où nous avons pu, malgré des options libérales qui se \",\n",
              "       \" réforme de la PAC que vous avez signée à Luxembourg en juin dernier, juste après le congrès mondial.Aux baisses de prix et à la dérégulation des marchés, est venu s'ajouter le découplage, qui est la négation même de l'acte de production, la négation du métier, la négation du renouvellement des générations en agriculture.Monsieur le ministre, vous vous étiez fixés une ligne rouge, et vous l'avez franchie, ne serait-ce qu'en acceptant une baisse de prix complémentaire sur le beurre.Quant au découplage, que vous rejetiez au début, force est de constater qu'il est bien là, partiel ou total, dans la plupart des productions.Tout ceci n'est pas très reluisant, Monsieur le ministre.Après le coup de massue de Luxembourg et le rejet de cette réforme d'inspiration ultra-libérale, nous avons décidé de continuer à nous battre pour obtenir une mise en oeuvre en France qui pénalise le moins possible l'installation des jeunes en évitant les dérives spéculatives sur les droits à paiement.Après quelques revirements de votre part sur le caractère marchand ou non de ces droits à paiement, et un peu de pression, le bon sens à repris le dessus, et nous nous en félicitons.Même si nous pensons que les niveaux maximums de taxation des transferts devraient être revus à la hausse, le dispositif retenu, qui prévoit des droits gratuits pour les jeunes et une taxation différente selon que l'on respecte ou non le schéma des structures, va dans la bonne direction.En revanche, permettez-moi de vous dire que s'agissant de la conditionnalité, et plus particulièrement des bandes enherbées, on marche sur la tête.Je connais en effet des agriculteurs dont l'exploitation, parfaitement plate, n'est traversée par aucune rivière, des agriculteurs qui ont fait le choix de développer des jachères industrielles, et qui vont devoir implanter des bandes enherbées.Vous m'obligez, Monsieur le ministre, à plagier Jean-Michel Lemétayer pour vous dire que décidément, ça ne tourne pas très rond au ministère de l'agriculture.Un jour, vous comprendrez que la politique du bâton est beaucoup moins productive que celle de la carotte, surtout en agriculture.Et faites attention avec la mise en oeuvre de la conditionnalité, car je suis sûr que vous n'êtes pas loin de ressusciter Kafka.Monsieur le ministre,Les jeunes agriculteurs savent que la construction européenne est l'avenir de notre continent. C'est pourquoi, malgré ses imperfections, je pense que la Constitution qui a été adoptée lors du dernier Conseil europé\",\n",
              "       \" mieux l'insertion du logement dans son environnement.Par ailleurs, une large concertation sera prochainement lancée, conjointement avec le secrétariat d'Etat au logement, sur des propositions d'évolution de la réglementation technique de la construction dans les DOM. Cette concertation associera l'ensemble des acteurs locaux et notamment les collectivités, les maîtres d'ouvrage et les architectes.Je forme donc des vux de succès à EUROPAN DOM, et notamment aux jeunes architectes qui se porteront candidats et dont les idées et projets permettront, j'en suis sûr, une amélioration de la qualité de l'habitat et de son insertion urbaine dans les DOM, pour le plus grand bien de tous les habitants des DOM.(source http://www.outre-mer.gouv.fr, le 23 juin 1999\",\n",
              "       \"fres de novembre 2015, j'en annoncerai de nouveaux le mois prochain.Mme Vivette Lopez. Ça, c'est sûr !Mme Najat Vallaud-Belkacem, ministre. Ces chiffres concernent le flux. Quant au stock, c'est-à-dire le nombre de jeunes de moins de vingt-cinq ans sortis du système scolaire sans aucune solution, il est passé de 620 000  chiffre cité précédemment  à 492 000. Ce résultat n'est pas encore idéal, mais il est source d'espoir.M. Jacques-Bernard Magner. Encore cinq ans ! (Sourires.)Mme Najat Vallaud-Belkacem, ministre. Je suis très heureuse, monsieur le président de la mission d'information, monsieur le rapporteur, qu'un travail aussi considérable ait pu être mené dans votre Haute Assemblée. En effet, comme je l'ai dit dans mon propos introductif, la question de l'orientation et de l'insertion professionnelle des jeunes ne relève pas uniquement de la responsabilité de l'école, elle relève de toute la société et c'est bien le message que vous avez fait passer ce soir. (Applaudissements sur les travées du groupe socialiste et républicain.  Mme Françoise Laborde et M. Claude Kern applaudissent également.)M. le président. Nous en avons terminé avec le débat sur les conclusions de la mission d'information de la commission de la culture, de l'éducation et de la communication sur l'orientation scolaire.\",\n",
              "       \"oute tentative de déstabilisation mais surtout contre vous-même, contre vos élans, contre vos sympathies, contre vos aversions, contre vos scepticismes.Le meilleur socle, c'est bien cette éthique et cette déontologie qui font sans doute la beauté et la noblesse de cette très belle mission.Je vous en remercie.\",\n",
              "       'l en appliquant des cautères sur des jambes de bois.L\\'école doit donc donner toute sa place à l\\'instruction civique, formation du citoyen et de l\\'homme libre. Elle doit faire toute sa place aux règles essentielles du jeu social, en encourageant le travail, l\\'effort, l\\'émulation, le mérite, au travers de la revalorisation des examens et des concours, mais aussi en rétablissant les classements qui permettent à l\\'élève de se situer par rapport à lui-même comme par rapport à ses condisciples. Comme l\\'affirment l\\'écrasante majorité des enseignants, il est indispensable de relever les niveaux d\\'exigence, notamment de passage dans la classe supérieure - l\\'élève doit être en état de suivre le cours de la classe dans laquelle il est - et en adjoignant aux bourses sur critères sociaux des aides au mérite sur la base de concours. Dans le contenu des enseignements eux-mêmes, je crois indispensable de rétablir la fierté d\\'être français. Il faut cesser de culpabiliser nos jeunes par un enseignement partial de l\\'Histoire ou de la colonisation, lequel fait \" germer la haine dans les caboches creuses des crétins programmés \", selon le mot de Jean-Paul Brighelli, professeur de lettres à Montpellier et essayiste à succès. Oui, mesdames et messieurs, je crois qu\\'il ne peut pas y avoir de société vivante sans éducation du patriotisme, sentiment de l\\'âme tourné vers la communauté à laquelle on appartient, et qui scelle le lien entre les générations de Français, entre nos compatriotes du passé, du présent et de l\\'avenir. C\\'est une des raisons pour lesquelles la suppression de la conscription par Chirac en 1995 fut une véritable catastrophe, pour la sécurité de la France, et aussi du point de vue de la transmission des valeurs patriotiques, des valeurs de don de soi et de partage, que l\\'on apprenait au cours du service militaire et qui sont indispensables au bon fonctionnement de la collectivité. Je propose donc de rétablir notre système de défense et :D\\'abord, de porter le budget de la Défense Nationale de 1,6 à 2,6% du PIB, soit revenir à ce qu\\'il était en 1995, pour moderniser nos matériels, renforcer nos effectifs opérationnels et garantir notre sécurité nationale. Il faut aussi remettre sur pied une véritable défense opérationnelle du territoire, ce qui suppose d\\'abord l\\'établissement d\\'un service volontaire de 6 mois, assorti de droits spécifiques dans les carrières de la fonction publique, mais aussi la création de corps de garde frontières, d\\'une garde nationale et le dév',\n",
              "       \"êtres humains que comme des variables d'ajustement pour leurs profits. De leur côté, les services publics sont démantelés partout sous les coups de boutoir du FMI, de l'OMC, de l'Union européenne? Les hommes et les femmes de notre pays savent dans leur grande majorité qu'on ne peut rien attendre de bon de cette logique à l'oeuvre. Mais ce sentiment est aussi partagé par beaucoup de par le monde. Un mouvement populaire se développe en Amérique Latine. Une conscience européenne nouvelle est en train de voir le jour. En France, comme aux Pays-Bas, notre peuple s'est prononcé en toute conscience contre la Constitution libérale qui lui était proposée. Notre peuple a produit un geste fort : il a dit « non » ! Il a appelé de ses voeux une autre Europe. Je le dis solennellement au Président de la République, qui a demandé l'avis du peuple : le verdict populaire doit être respecté. Aucun geste n'a été produit en ce sens. On nous parle maintenant d'un plan D, visant à faire revenir la Constitution, en petits bouts, par la fenêtre. La droite au pouvoir en France, et les dirigeants européens refusent d'entendre le message, ils accélèrent la cadence. Ils plongent l'Europe dans la crise. La directive Bolkestein revient au mois de février. Le chef de l'Etat, en ne s'y opposant pas, trahit la souveraineté populaire. Nous allons être de toutes les mobilisations pour son retrait. Le PCF veut contribuer à un rassemblement fort à Strasbourg et je propose qu'une grande manifestation soit organisée en France. J'agirai pour que toute la gauche en soit. Tout doit être fait pour mettre cette directive en échec. Nous ne lâcherons pas l'affaire. En somme, tout appelle un autre ordre européen et un autre ordre mondial. Et dans cette perspective, je veux souligner combien il est urgent de produire tous les gestes nécessaires pour la paix. La France et l'Europe paraissent ternes sur ce terrain, préoccupées qu'elles sont par la progression des marchés financiers ! Je voudrais, à ce moment, exprimer une pensée pour les peuples palestiniens et israéliens, dont la situation connaît un regain d'incertitude. Dans notre pays, la situation est extrêmement grave. Le résultat de la politique de la droite depuis plus de trois ans est une ruine démocratique, économique et sociale. Ainsi, les émeutes qui ont secoué un certain nombre de nos quartiers en fin d'année dernière ont été la manifestation brutale de la crise profonde qui affecte toute la société. Je demande que la situation des jeunes cond\",\n",
              "       \"droits que nous avons d'ailleurs élargit, il doit s'acquitter d'un certain nombre de devoirs : exemplarité, probité, neutralité, respect de la laïcité. Des devoirs qui constituent les fondements de son engagement.Le courage managérial, c'est n'accepter aucun compromis sur ces fondamentaux. C'est être intransigeant quant à l'exemplarité de chacun et chacune des agents qui composent la Fonction publique, quel que soit son versant, son niveau de compétence, son grade ou son échelon.Mesdames et messieurs, nous faisons face à un changement de paradigme en matière de management. La fonction publique, loin d'être recroquevillée sur des modes d'organisation anachroniques, est en train de se transformer.Nous sommes en train de la transformer ensemble. Merci pour votre engagement et ensemble, libérons notre créativité, favorisons les initiatives qui fonctionnent et redonnons du sens à l'action publique.Nous allons donc favoriser ces initiatives, en les distinguant par la remise du label de l'Ecole du management et des ressources humaines aux trois lauréats.\",\n",
              "       \"ndépendamment de leurs différences, de leurs oppositions peuvent construire, dans l'intérêt de l'enfant, des alliances très positives pour lui.Il arrive cependant, pour diverses raisons que les parents, détenteurs de l'autorité parentale, ne parviennent pas, ou ne parviennent plus à répondre aux besoins fondamentaux de leur enfant et ce plus ou moins durablement. D'emblée des mesures de soutien doivent être mises en \\x9cuvre pour les soutenir dans leurs responsabilités éducatives. C'est la part de la prévention sociale des conflits familiaux.Mais le temps de l'accompagnement parental n'est pas toujours celui de l'enfant, en particulier du jeune enfant dont la construction ne peut attendre, et dont il faut pouvoir continuer de soutenir le développement. Y compris par des mécanismes de substitution parentale, quand c'est nécessaire. Les mêmes questions se posent évidemment dans les situations de maltraitance.J'ai observé sur ces sujets très complexes de forts clivages, souvent idéologiques et beaucoup de confusion entre des notions pourtant bien différentes : filiation, autorité parentale et maintien du lien. La réponse aux besoins de l'enfant, le soutien de son développement imposent parfois des aménagements de l'autorité parentale, qui ne préjugent en rien de la mise en cause de la filiation de l'enfant. Je suis d'ailleurs pour ma part très réservée quant aux pratiques d'adoptions plénières pour des enfants qui ont une filiation établie et parfois un vécu familial. Les délégations d'autorité parentales sont possibles. De même la sécurisation de l'adoption simple dans la proposition de loi relative à la protection de l'enfant ouvre de nouvelles perspectives pour les enfants pupilles notamment. J'ai demandé qu'un travail soit conduit avec la chancellerie sur ces questions de statut tant il me semblait nécessaire de clarifier ces notions et d'accompagner leur mobilisation.J'ai par ailleurs été frappée à de nombreuses reprises d'une volonté forte de prescrire le maintien des liens parents enfants dans des situations de violences intrafamiliales. L'inflation des visites en présence d'un tiers illustre parfaitement cette dérive à laquelle participe l'ensemble des acteurs, les juges des enfants qui les décident, mais aussi les services qui les proposent, le plus souvent par défaut.Dans le cadre de la réforme de la protection de l'enfance nous avons indiqué que les visites en présence d'un tiers devaient désormais faire l'objet d'une motivation spéciale, pour que les\",\n",
              "       'fs urbains et l\\'utilisation des modes de transport propres, Développer le fret ferroviaire en vue du doublement du trafic, Encourager à l\\'achat de véhicules propres. Bien entendu, la relance et le soutier direct aux Plans de Déplacements Urbains en font partie.Les soutiens associés au PNAEE sont financés par le Ministère de l\\'Equipement, du Logement et des Transports (MELT) et I\\'ADEME. Parmi ceux-ci, les aides aux véhicules alternatifs ont été accrues. Elles visent essentiellement à l\\'utilisation du GNV pour les bus urbains et les bennes à ordures ménagères, l\\'acquisition de véhicules électriques par les particuliers et les collectivités locales, l\\' acha de scooters électriques, et le passage des flottes de taxis au GPL. En effet, si on assiste au décollage des commandes de bus au GNV (subventionnées à 50.000 F par bus), la diffusion des véhicules électriques marque encore le pas, compte tenu de la faiblesse de leur autonomie par rapport à leur prix. L\\'aide de l\\'Ademe porte aussi sur l\\'élaboration du volet \"énergie et environnement\" des Plans d Déplacements Urbains. Dans le même esprit, l\\' ADEME soutient des d\\'études diverses comme les plans de déplacement dans une entreprise ou l\\'amélioration de l\\'organisation de la desserte des marchandises en ville. Ces soutiens sont importants, et la circulaire régissant .les aides du Ministère de l\\'Équipement, du Logement et des Transports aux collectivités locales ayant adopté un PDU en élargit le bénéfice au-delà du seul financement des infrastructures de transport collectif.(La mise en uvre des outils: Nouvelles procédures et procédures revitalisées)J\\'ai déjà évoqué à plusieurs reprises le Plan de Déplacement Urbain. Il reste un élément clé de la maîtrise de la mobilité. La loi LAURE prévoit leur mise en uvre pour les villes de plus de 100 000 habitants, afin de limiter la circulation automobile et développer les transports collectifs et les transports peu polluants, en prenant en compte les objectifs de qualité de l\\'air. La moitié d\\'entre eux sont approuvés, malgré l\\'échéance du 30 juin 2000 fixée par la loi. Leur succès et leurs limitations sont identifiées. Il faut maintenant les mettre en uvre.Les nouvelles dispositions législatives devraient dynamiser les PDU, par exemple grâce à leur articulation avec les SCOT (Schémas de Cohérence Territoriale). Elles font en effet évoluer des outil de programmation et de planification existants en même temps qu\\'elles en créent de nouveaux. Ainsi une quatrième génération de ',\n",
              "       \"contre le terrorisme, la maîtrise de l'immigration ?Comment l'Etat pourrait-il avoir encore une autorité s'il n'est pas respecté ?Comment l'Etat pourrait-il être respecté s'il ne respecte pas ses engagements, s'il ne fait pas respecter ses fonctionnaires, quand un fonctionnaire est insulté, frappé, bousculé alors qu'il sert l'intérêt général. La sanction doit être implacable car en bafouant cet homme ou cette femme, c'est la société toute entière qui est piétinée. Comment l'Etat pourrait-il être respecté s'il n'est capable de tirer aucune conclusion d'une affaire comme celle d'Outreau, ni de prendre aucune sanction quand la faute est aussi lourde et aussi avérée ? Le seul fait d'être un magistrat ne vous exonère pas de votre responsabilité, il la renforce !L'autorité ça se mérite.Comment l'école aurait-elle une autorité si elle n'est plus capable d'apprendre à lire, à écrire, à compter aux enfants ?Comment l'instituteur, le professeur pourraient-ils encore avoir une autorité si personne ne fait seulement respecter la politesse dans les écoles ? Si l'école cesse d'être un lieu de transmission du savoir pour devenir un simple lieu de « découverte » où l'enfant n'apprend que ce qu'il a envie d'apprendre ? Si l'instituteur, le professeur supprime toute distance avec les élèves ? Si l'élève ne se lève pas quand le professeur entre dans la classe ? Si personne n'oblige l'élève à enlever sa casquette en classe, ou à éteindre son portable ? Si personne ne lui apprend à admirer les chefs-d'oeuvre ?L'autorité ça se mérite.Comment certains intellectuels pourraient-ils avoir encore une autorité après toutes les erreurs commises, après que certains d'entre eux aient fait l'apologie de régimes totalitaires ? Après avoir fermé les yeux sur tant de crimes contre l'humanité ? Après avoir tant fait pour saper les fondements de la société et de ce qu'ils appelaient avec mépris la morale bourgeoise ?L'autorité ça se mérite.Comment les patrons pourraient-ils avoir une autorité s'ils n'acceptent pas de mettre les patrons voyous à l'index ? S'ils n'acceptent pas de remettre en cause certaines pratiques choquantes et déraisonnables ? Les salaires exorbitants, les parachutes en or abusifs, les retraites chapeaux ?Comment les patrons pourraient-ils avoir une autorité s'ils gagnent autant quand ils échouent que quand ils réussissent, s'ils s'octroient toutes les stock options sans jamais en donner à leurs salariés qui ont pourtant contribué au succès de leur entreprise, s'ils licenc\",\n",
              "       'morand : La question est bien quand même...R- Non, mais la question est formidable, elle est meilleure celle-là...Q- N. Demorand : Alors répondez-y, répondez-y !R- Je suis un passionné d\\'histoire. Pour moi il y a une seule histoire de France, parce qu\\'il n\\'y a qu\\'une France : il n\\'y a pas une histoire de France de gauche et une histoire de France de droite. Je n\\'aime pas la repentance, celle qui demande au fils de s\\'excuser des fautes présumées du père ; celle qui consister à juger le passé avec les préjugés du présent. Jaurès fait partie de l\\'histoire de France, J. Ferry...Q- H. Jouan : Oui, mais le combat idéologique ce ne sont pas des valeurs précises...R- Jaurès n\\'appartient pas à la gauche ; de Gaulle n\\'appartient pas à la droite. L\\'histoire de France... Enfin, écoutez, Marc Bloch, ce grand historien républicain, extraordinaire, a décrit des pages magnifiques. Il a dit quoi ? \"Ne comprend rien à la France celui qui ne vibre pas au sacre de Reims, et qui n\\'est pas ému devant la Fête de la Fédération\". C\\'est Napoléon, de Clovis au Comité de Salut public. J\\'assume tout. La France c\\'est une synthèse. Pour prendre un dernier exemple : les Rois de France ont rêvé l\\'unité de la France, c\\'est la République qui l\\'a faite. Ce que les Rois ont rêvé, la République l\\'a fait. Eh bien, c\\'est une synthèse. Mes valeurs : il y a Jean Paul II, il y a le général de Gaulle. Mais moi je me reconnais dans Blum.Q- N. Demorand : Une synthèse ou une \"marketterie\" ?R- C\\'est une synthèse ! Ecoutez, Blum, le Blum de 1920, c\\'est un géant ! Il n\\'y a pas la télévision, la radio n\\'est pas ce qu\\'elle en est. Et le Blum du Congrès de Tours comprend, mais c\\'est un visionnaire, que le communisme va virer au stalinisme. Tous ceux qui se sont trimballés en Union Soviétique dans les années 60 et qui n\\'ont rien vu, pardon, excusez-moi, ce sont des tout petits intellectuellement par rapport à Blum ! Blum fait partie de l\\'histoire de France. Et je me sens aussi l\\'héritier de cette tradition-là. Il faut parler de l\\'histoire de France quand on aime la France.Q- B. Guetta : Vous réclamez les débats de fond. Allons-y. Les libéraux considèrent que trop d\\'impôts tuent l\\'impôt, que l\\'Etat n\\'est pas la solution mais le problème, que la protection sociale enferme les plus faibles dans l\\'assistanat. Etes-vous un libéral ?R- Si c\\'est ça, pas tout à fait. Je m\\'en explique.Q- B. Guetta : Alors, allez-y.R- Le marché dit la vérité à court terme, ne dit pas la vérité à long terme. Le marché condamnait Alsthom',\n",
              "       ' juridictions à la géographie du crime et éviter que plusieurs tribunaux se saisissent d\\'une même affaire sans le savoir ;- par ailleurs, et cela me paraît un argument de poids en faveur de ces juridictions, elles permettront de concentrer au niveau d\\'un petit nombre de plates-formes techniques les moyens logistiques et humains requis pour saisir les affaires de criminalité organisée dans toute leur complexité.Adapter la géographie de la justice à celle du crime, c\\'est cette même logique qui exige, au plan international cette fois, de favoriser autant que possible l\\'entraide pénale entre États.Nombre d\\'affaires de criminalité organisée, je l\\'ai dit, présentent un fort caractère transnational. Le projet de loi améliore les dispositions relatives à l\\'entraide internationale, en modifiant par exemple le code de procédure pénale de manière à simplifier la transmission et l\\'exécution de commissions rogatoires internationales, ce qui est réclamé depuis bien longtemps par les juges et par les policiers.Au sein de l\\'Union Européenne, nous nous sommes donné avec Eurojust les moyens de faciliter la coordination des enquêtes et de renforcer la coopération judiciaire entre États de l\\'Union. Le projet de loi introduit dans le code de procédure pénale les dispositions nécessaires à sa mise en oeuvre concrète. L\\'Europe de la Justice est, je crois, une aspiration profonde des Français. Elle est une priorité de mon action.Et le mandat d\\'arrêt européen en sera un pilier, qui permettra l\\'arrestation et la remise par un État membre d\\'une personne recherchée par un autre État membre pour être poursuivie ou pour exécuter une peine.Comme l\\'a dit le Président de la République : il \" permettra à l\\'Europe de lutter plus efficacement contre la délinquance organisée et le terrorisme, en adaptant nos moyens d\\'action à l\\'ouverture des frontières de l\\'Union Européenne \".Le mandat d\\'arrêt européen, c\\'est l\\'application concrète du principe de reconnaissance mutuelle des décisions de justice, pierre angulaire de la coopération judiciaire au sein de l\\'Union Européenne.Réunis en Congrès, vous avez adopté en mars dernier la loi constitutionnelle relative au mandat d\\'arrêt européen.Il s\\'agit maintenant de l\\'introduire effectivement dans notre code de procédure pénale, pour qu\\'il puisse entrer en vigueur le 1er janvier 2004.Le gouvernement approuve donc tout à fait l\\'initiative du sénateur Fauchon et se félicite de la proposition d\\'amendement qu\\'il a déposée, qui permettrait d\\'intégrer dans le ',\n",
              "       \"lace dans la mondialisation, en affirmant les valeurs de notre pays et de notre culture, en mettant en avant nos modèles alimentaires, de santé, de conception et d'organisation de la ville autour de biens collectifs, et de partenariats entre acteurs publics et acteurs privés, ce que j'ai appelé les familles du « mieux vivre ». Et nous affirmerons également ces valeurs, nos valeurs, dans le projet de la marque « France » que je porte avec Arnaud Montebourg.Oui dans une monde ouvert, il y a de la place pour une vision et des projets collectifs, au niveau de notre pays comme ils pourraient l'être encore beaucoup plus au niveau de l'Europe. Avec la mondialisation, certains avaient cru pouvoir annoncer « la mort de la distance », la banalisation des liens de proximité au profit d'un principe d'indifférence généralisée en termes de localisation. La réalité n'a pas vraiment confirmé cette prédiction. Bien au contraire c'est au niveau des territoires, des écosystèmes que se situent une grande partie des enjeux d'une insertion réussie dans la mondialisation. L'export se joue en effet d'abord chez nous, dans nos territoires, dans leur capacité à mettre en mouvement, autour de projets collectifs, les acteurs économiques et à mobiliser à leur profit les ressources financières, de connaissance, d'accompagnement ou d'ingénierie stratégique, nécessaires à leur développement. Voilà pourquoi, j'ai décidé de faire des Régions les chefs de file du développement international dans leur territoire, pas pour faire à la place mais pour inciter à travailler ensemble, dans un cadre défini en commun. Voilà pourquoi j'ai placé auprès de la BPI, en région, des chargés d'affaires internationaux d'Ubifrance, afin que le binôme gagnant « financement-accompagnement » joue à plein. Voilà pourquoi les futurs schémas de développement économique régionaux seront des schémas de développement économique, d'innovation et d'internationalisation. Le développement économique des entreprises ne se traite pas en effet en tranches ou en « silos », dans une cohérence où investissement, innovation, internationalisation interagissent et se renforcent mutuellement.C'est pour toutes ces raisons que je veux mettre l'accent sur les entreprises qui sont au coeur des dynamiques économiques territoriales. Vous venez d'en parler : ce sont les Entreprises de taille intermédiaire, « les champions cachés de l'industrie » pour parler comme le blog que l'Usine nouvelle entend désormais leur consacrer. Pourquoi caché\",\n",
              "       \"Monsieur le Député, chaque jour, des images nous parviennent de la tragédie humanitaire qui se joue en Syrie, des images des massacres, des tortures, des exactions qui sont le fait d'un régime qui a fait le choix, délibérément, de massacrer son propre peuple. À l'initiative de la France - vous l'avez rappelé dans votre question -, une résolution a été adoptée qui vise à déployer un dispositif humanitaire permettant l'accès à l'aide humanitaire pour les populations, la protection des hôpitaux, la mise en place d'observateurs indépendants : il s'agit de la résolution 2328 du conseil de sécurité des Nations unies.L'impulsion donnée par notre pays au moment de l'adoption de cette résolution a eu un impact incontestable sur la prise en compte, par la communauté internationale, de la gravité de la situation, et un accord russo-turc de cessez-le-feu - vous l'avez également rappelé - a été trouvé à la fin du mois de décembre. Le conseil de sécurité des Nations unies a adopté une nouvelle résolution qui prend note des efforts russo-turcs et les salue, sans pour autant - il faut également avoir cela à l'esprit - les endosser totalement.Des négociations intersyriennes doivent se tenir à Astana à la fin du mois, mais le format de cette réunion et son articulation avec le cadre onusien demeurent, à ce stade, très ambigus. Vous m'avez demandé d'être clair sur la position de la France : je veux rappeler que, pour nous, la résolution qui fait référence est la résolution 2254, qui doit permettre, dans le cadre d'une démarche inclusive, de dégager une solution politique durable qui mette fin à la fois aux massacres et au terrorisme qui sévit dans cette zone, avec toutes les conséquences que l'on sait pour l'Europe et pour notre pays.Je veux toutefois insister sur la fragilité de cette résolution, qui est d'ailleurs reconnue par l'Organisation des Nations unies elle-même. Fragilité, d'abord, parce que le texte de l'accord russo-turc comporte des zones d'ombre : nous ne sommes pas encore certains, en particulier, de l'adhésion réelle de ceux qui ont proposé cette résolution à sa mise en oeuvre. Or, il n'y a pas de résolution qui puisse aboutir à un résultat si les parties à celle-ci ne sont pas elles-mêmes décidées à la mettre en oeuvre.Fragilité aussi, il faut le dire très clairement, car le cessez-le-feu préconisé par cette résolution a déjà été violé par le régime de Bachar al-Assad, qui mène de façon incessante des bombardements et poursuit son offensive, notamment dans l\",\n",
              "       \"noritaire dans l'ensemble des allégements. Et que ces allégements ont un effet bénéfique sur l'emploi alors que ceux du précédent gouvernement ont été accordés sans contrepartie. Les allégements liés aux 35 heures sont financés dans le cadre du FOREC par des ressources de nature fiscale qui préservent les ressources de la sécurité sociale. Le décret installant l'établissement public est paru au journal officiel le 26 octobre 2001. Le FOREC pourra ainsi assurer en toute transparence le financement des allégements de charges dès l'exercice 2001. Nos résultats en matière d'emploi ont permis à la Sécurité sociale de bénéficier d'un financement stable et durable. Le dynamisme des recettes de la sécurité sociale au cours de la présente législature a permis de financer les avancées essentielles de la protection sociale des Français, et de dégager au cours des dernières années des excédents significatifs.Le rétablissement des comptes est assuré. Il permet de poursuivre la construction de nouveaux droits et d'ouvrir l'avenir. La discussion du projet de loi de financement de la Sécurité sociale est l'occasion de présenter les nouveaux progrès qui contribuent encore à l'amélioration de la protection sociale de nos concitoyens.1. En matière de politique familiale.Notre projet comporte des avancées significatives issues de la conférence de la famille du 11 juin 2001 :Nous créons un congé paternel de deux semaines que l'Assemblée nationale améliore encore pour tenir compte des naissances multiples et élargir l'accès aux naissances prématurées.Nous dotons de 229 millions d'euros supplémentaires (1.5 milliards de francs) le Fonds d'investissement de la petite enfance créé l'année dernière pour permettre la création de 20 000 nouvelles places en 2002 s'ajoutant aux 20 000 places créées en 2001.Les moyens Fonds national d'action sociale de la CNAF connaissent une croissance sans précédent de 6 milliards de francs sur 4 ans (dont 1.6 milliard pour 2002) pour développer les autres modes d'accueil du petit enfant et les loisirs des jeunes.Le débat à l'Assemblée a permis en outre de majorer de façon significative le montant de l'allocation de présence parentale en le portant au niveau du SMIC et de réformer l'allocation de rentrée scolaire pour en faire bénéficier les familles dont le revenu se situe juste au-dessus du seuil de ressources.2. Nous faisons progresser la prise en charge des accidents du travail et des maladies professionnelles.[dans le contexte actuel de Toulouse \",\n",
              "       \"nt c'est que l'intelligence individuelle ajoutée à une autre intelligence individuelle ne fait pas l'intelligence collective, parce qu'il doit y avoir un intérêt supérieur pour que nous puissions arriver à des solutions. L'intérêt supérieur, c'est : « quelles sont les valeurs que nous portons, qu'est-ce qui justifie que nous nous engagions au-delà de toutes les sensibilités qui sont représentées ici ? Qu'est-ce qui compte pour nous tous alors même que nous ne pensons pas la même chose ? » Ce qui compte, ce sont les valeurs de liberté, de démocratie et de paix. C'est d'empêcher qu'il puisse y avoir le retour aux tragédies que nous avons connues dans le passé parce que c'est pour cela que le Conseil de l'Europe s'est créé.Or ces tragédies, on pensait qu'elles pouvaient se passer à l'extérieur, loin de nous. Il y en a à l'extérieur, pas loin de nous. J'ai évoqué la Syrie mais il y a aussi des tragédies qui peuvent revenir chez nous, avec des menaces qui viennent directement, quand on voit un certain nombre de comportements extrémistes. Alors il faut faire preuve d'intelligence, de lucidité et de volonté et je suis sûr que c'est la position de l'ensemble de cette assemblée\",\n",
              "       \"ieux connaître ces métiers, mieux organiser l'orientation des actifs vers ces métiers et en tirer les conséquences sur l'appareil de formation.Les comités de filières estiment que la croissance verte va impacter près de 12 millions d'actifs, soit un Français sur deux et que l'on peut s'attendre à la création de plus de 600 000 emplois d'ici 2020. Nous en avons fait le constat qui converge notamment avec le rapport du Conseil d'orientation pour l'emploi, l'étude du Conseil d'analyse stratégique et dans une large mesure, avec les premières conclusions des études des cabinets Syndex et Alpha. Ce constat, c'est celui d'une progression du nombre d'emplois grâce à la croissance verte pour un certain nombre de filières. J'en citerai quatre exemples : nous attendons 225 000 nouveaux emplois dans les industries électriques, 200 000 dans les énergies renouvelables, 67 000 pour la réalisation de nouvelles infrastructures - la création notamment des nouvelles lignes à grande vitesse -, entre 39 et 43 000 dans le secteur de l'eau.Et pour toutes, il y aura au minimum un maintien de l'emploi : ce sera le cas notamment dans les secteurs du bâtiment, de l'automobile et de la chimie verte. Je crois que ce premier constat est important car pour la première fois une évolution économique majeure ne devrait pas se traduire par des restrictions d'emploi. Dans la période de crise que nous traversons, c'est un message d'espoir en particulier pour tous nos jeunes.Il est donc important de mieux identifier ces métiers, de connaître plus précisément leur nombre et de pouvoir définir en vis à vis quelles compétences et quel niveau de qualification seront nécessaires pour occuper ces emplois.C'est pourquoi nous avons retenu l'idée de constituer un observatoire national des métiers de la croissance verte. Celui-ci sera placé sous l'autorité du Ministre d'Etat et aura vocation à conduire des études prospectives et à travailler en lien avec les observatoires existants dans les branches professionnelles ou en région.Chacun s'accorde également à reconnaître que, si la croissance verte ne créera que peu de métiers vraiment nouveaux, par contre elle implique la transformation et la valorisation de très nombreux métiers existants. Cela va nécessiter de faire évoluer de manière conséquente la définition et même pour certains, la dénomination de certains métiers, de créer un répertoire unique des compétences et des certifications des métiers de la croissance verte. Pour certains d'entre eux, il f\",\n",
              "       \"Madame la ministre des Armées,Madame la secrétaire d'Etat,Messieurs les parlementaires,Monsieur le chef d'état-major des armées,Monsieur l'ambassadeur,Messieurs les officiers généraux,Officiers, sous-officiers et militaires du rang de l'opération Barkhane,Vous retrouver en cette veille de Noël, ici à N'Djamena, dans ce camp « Sergent-chef Kosseï », sur cette BA 172, chargée pour les armées françaises, de tant d'histoire, de souvenirs, cette base qui est aujourd'hui le siège du poste de commandement interarmées de l'opération Barkhane et notre principale base au Sahel est pour moi, à la fois, un honneur et un bonheur.Notre pays est présent ici même depuis 1960, presque sans interruption sur cette base. Et je veux ici avant tout rendre hommage au président Déby que j'ai salué à mon arrivée tout à l'heure et le remercier de m'accueillir ces deux jours dans son pays. La France et le Tchad sont liés par cette histoire commune, qui a fondé une relation de proximité, de confiance, d'estime mutuelle. Sur cette relation, nous avons bâti un partenariat stratégique fort qui nous permet aujourd'hui de lutter avec efficacité contre le terrorisme ensemble. C'est pourquoi je remercie très chaleureusement tous les militaires tchadiens qui nous font l\\x91amitié d'être présents ce soir, et je salue leur engagement. Nous serons dans la durée aux côtés du Tchad.Il y a un an jour pour jour, j'étais au Niger, autre partenaire de la France, autre pays membre du G5, autre allié dans notre action contre le terrorisme. Peut-être certains, ici ce soir, étaient à Niamey il y a un an déjà.Nous y avions partagé des instants forts et chaleureux comme à chaque fois lorsque nous nous rendons parmi les armées, à chaque fois que je vais à votre rencontre. Ces moments sur le terrain sont pour moi extrêmement importants, d'abord parce qu'ils permettent de pleinement se rendre compte sur le théâtre d'opération comme ici à Barkhane, d'éprouver concrètement la réalité des décisions que je suis amené à prendre depuis Paris, conseillé et entouré de vos chefs militaires parce que tout cela ici s'incarne, se matérialise et se décide in fine au plus près du terrain, du concret, de cette réalité.Oui, lorsqu'on se rend sur un théâtre d'opération, on se trouve ainsi confronté à la vérité et à ses responsabilités. A chaque fois que je suis avec vous sur ces théâtres, ce qui me frappe, je dois dire, c'est la concentration extrême, la vigilance de tous les instants qui se lisent sur les visages. Engagés en op\",\n",
              "       \"fs. De leur côté, les collectivités locales -régions et départements- ont, mis en uvre des politiques de développement des territoires ruraux, mais sans toujours trouver les dispositifs nationaux et européens d'accompagnement souhaitables. Ainsi, l'ensemble de ces outils se sont sédimentés au fil du temps et manquent désormais singulièrement de lisibilité. Plusieurs raisons sont fréquemment invoquées pour expliquer cette dérive : - une coordination insuffisante entre les Administrations ; - l'existence d'échelons de conception et de mise en oeuvre multiples ; - la superposition des territoires et des périmètres d'intervention ; - la multiplication de zonages qui ne se recouvrent qu'imparfaitement et de critères de définition parfois obsolètes ou inappliqués ; - des sources de financements abondantes, mais dispersées et aux effets parfois très relatifs sur les territoires d'application ; - enfin, une articulation rural-urbain qui paraît insuffisante dans le cadre de l'intercommunalité. Dernier texte majeur en faveur des zones rurales, la Loi d'Orientation pour l'Aménagement et le Développement du Territoire du 4 février 1995 a institué des dispositifs d'exonération fiscale pour les activités exercées dans ces zones délimitées : les Territoires Ruraux de Développement Prioritaires (TRDP) et les Zones de Revitalisation Rurale (ZRR). Je dois souligner qu'aucune étude n'avait été conduite jusqu'ici sur l'efficacité de ces dispositifs. C'est pourquoi, avec mon collègue Jean-Paul DELEVOYE, Ministre de la Fonction Publique, de la Réforme de l'Etat et de l'Aménagement du Territoire, j'ai décidé de confier au Conseil Général du Génie Rural et des Eaux et Forêts, à l'Inspection Générale des Finances et à l'Inspection Générale des Affaires Sociales la conduite d'une mission d'étude dans trois départements : la Haute-Marne, le Tarn et la Creuse. Il ressort du rapport d'étape qui vient de m'être remis ces jours-ci que ces zonages reposent sur des données démographiques, parfois obsolètes et n'intégrant pas suffisamment la nouvelle réalité des pays et des regroupements communaux. La sédimentation progressive des dispositifs les prive, par ailleurs, d'une bonne lisibilité.  Ce rapport, dont les conclusions sont encore provisoires, suggère enfin plusieurs orientations pour la réforme de ces dispositifs : - à court terme, il recommande de simplifier, d'actualiser les zonages, et d'étendre les dispositifs d'aide à la création d'activités à la reprise d'activités et à la plur\",\n",
              "       \" pluridisciplinaire dans le champ de la « Rééducation  Réadaptation- Réinsertion » (filière 3 R) ; et cette nouvelle filière comprendra des métiers de la rééducation.Par ailleurs, vous avez su démontrer que les dispositifs de conventionnement avec l'université sont souvent une réussite. Vous avez mis en place des partenariats avec les UFRs certes de médecine mais aussi de droit, de sociologie, de sciences de l'éducation Ils représentent une vraie richesse pour les étudiants.Mesdames et messieurs,Nous devons offrir les meilleures conditions de formation à celles et ceux qui auront, demain, la grande responsabilité de soigner nos concitoyens, de les accompagner, d'être à leurs côtés au quotidien dans des moments souvent difficiles.Je me félicite d'avoir soutenu, comme élue d'Indre et Loire, ce beau projet et d'avoir l'opportunité, cette fois comme ministre, de poser sa première pierre.Je vous remercie.\",\n",
              "       \"Mesdames, Messieurs,C'est avec un grand plaisir que je vous retrouve ici au ministère de l'enseignement supérieur et de la recherche. Cette réunion marque l'aboutissement d'un long processus.La première année de médecine change.Ce qui nous conduit aujourd'hui à la mise en place pour la rentrée prochaine de la première année commune aux études de santé.Je veux d'abord vous adresser mes remerciements pour le travail considérable que vous avez réalisé dans l'élaboration de cette année commune aux études de santé.L'objectif premier est la lutte contre le gâchis humain que représentait pour une majorité d'étudiants la première année de médecine ou de pharmacie.Ce gâchis se traduit par des chiffres sans appel, que vous connaissez tous : chaque année ce sont plus de 60 000 jeunes qui s'engouffrent en première année de médecine et de pharmacie, avec une très faible chance de « décrocher » un concours. Au final c'est donc l'échec pour 80 % d'entre eux en médecine et pour 70 % en pharmacie sans aucune perspective de rebond.Cette première année était synonyme d'échec voire de vocation brisée. Pour la majorité elle signifiait une nouvelle année de travail, de sacrifices et d'efforts qui les conduisait à nouveau à l'échec.Prenons un cas extrême, où un bon étudiant pouvait, à l'aube de sa vie professionnelle, perdre deux ans en première année de pharmacie, puis perdre deux nouvelles années en première année de médecine, ou l'inverse, et perdre en tout quatre ans d'études supérieures pour aboutir à un échec, sans équivalence et sans voie de réorientation.Ce gâchis de temps, d'énergie, d'espoirs et de rêves n'était acceptable ni pour l'étudiant, ni pour sa famille, ni pour la société.Vous savez combien je suis attachée à donner à nos enfants les mêmes chances de réussite, ceux-là même qui deviendront peut-être vos futurs étudiants et nos futurs professionnels de santé.La lutte contre l'échec c'est tout le sens de l'action que je mène depuis trois ans au sein de ce ministère.Alors que toutes les composantes de l'Université - je dis bien « toutes » - ont pris le chemin de la réforme de leur première année de licence et bénéficient à ce titre du plan « réussir en licence », il était impossible de laisser les formations en santé de côté.Voilà dans quel contexte, vous vous en souvenez, j'ai confié à Jean-François Bach, Secrétaire Perpétuel de l'Académie des sciences, ici présent (que je salue), une mission chargée de réfléchir à ce sujet et d'élaborer un certain nombre de prop\",\n",
              "       \"ns la durée, une usine à produits et services, c'est-à-dire une usine à activité économique !Mais ne nous méprenons pas. La recherche restera un ingrédient nécessaire, essentiel, vital de l'innovation. Je l'affirme sans ambiguïté : la recherche, c'est aussi le carburant de l'innovation, et je tiens à rappeler le travail des chercheurs et des laboratoires de la recherche publique. C'est pourquoi nous avons voulu, avec Arnaud Montebourg, que le ministère de l'enseignement supérieur et de la recherche, emmené avec conviction par notre collègue Geneviève Fioraso, joue un rôle croissant dans la gouvernance des pôles. Le choc d'innovation doit être aussi un choc de simplification. La France possède un mille-feuilles de structures et de dispositifs, qui n'est pas lisible pour les entreprises, notamment les PME : vous, les pôles, pouvez être un facteur de simplification et de structuration en construisant les articulations et les partenariats avec d'autres acteurs. Ce n'est qu'ainsi que vous pourrez remplir toutes vos missions, car il ne serait pas réaliste de vous demander de vous transformer en couteau suisse de l'innovation ! Tous ces sujets ont été décrits dans le rapport sur l'innovation que Pierre Tambourin et Jean-Luc Beylat ont remis au gouvernement en avril. Ce travail joue un rôle fondateur dans le plan innovation que le Premier ministre m'a demandé de lui remettre dans les jours qui viennent et au sein duquel le rôle des pôles sera conforté.Soyez assurés de mon soutien !\",\n",
              "       \"de faire l'objet d'une négociation et qui présentent un caractère général et non pas seulement sectoriel. Il respecte en outre les équilibres institutionnels. Le projet donne une portée normative aux principes fixés dans l'exposé des motifs de la loi du 4 mai 2004, sans pour autant modifier les équilibres institutionnels. Il n'affecte donc pas les attributions constitutionnelles du Gouvernement et du Parlement en matière d'initiative des lois et de procédure législative. Il appartient en effet au seul Parlement de voter la loi. Le projet de loi ne vise pas le dépôt des projets et propositions de loi et les actes qui leur sont postérieurs. Le projet n'affecte pas davantage les règles résultant des règlements des deux assemblées quant aux moyens d'instaurer un dialogue entre les parlementaires et les partenaires sociaux à l'occasion d'une loi transposant un accord interprofessionnel. Enfin, pour le Gouvernement, se pose la question liée à la réserve que fait le texte en cas d'urgence. Je sais que ce point a suscité des interrogations. Je voudrais être clair : la mention de l'urgence procède non pas de la volonté de réduire la portée du texte mais, au contraire, de prendre en compte le principe de réalité. Ce principe implique la nécessité de dérogations dans des cas où l'urgence déclarée interdit de respecter la procédure de concertation préalable. En cela, le texte s'est inspiré d'un principe constant et habituel de notre droit public. D'ailleurs, la plupart des textes de procédure font une dérogation en faveur de l'urgence. A titre d'exemple, la loi du 12 avril 2000 relative aux droits des citoyens dans leurs relations avec l'administration réserve les cas d'urgence, de même que la loi du 11 juillet 1979 sur la motivation des actes administratifs. La référence à l'urgence n'est en rien exceptionnelle. En réalité, ce n'est pas tant le principe de l'urgence qui est directement en cause mais les risques d'une utilisation abusive qui priverait de toute portée la réforme. A cet égard, les garanties contre les possibilités de dérive sont prévues par le texte lui-même et le rapporteur proposera de les renforcer, comme il nous l'a annoncé lors de mon audition devant la commission. Je voudrais enfin rappeler que le dialogue social est par nature dynamique et vivant, et que ce projet n'a donc pas la prétention d'être un texte exhaustif. D'autres questions devront être traitées dans un avenir proche. Je pense évidemment aux sujets soulevés par le rapport du président\",\n",
              "       \"ment. Cette trajectoire sera financée. Comme toute loi de programmation, son financement sera inscrit en loi finances, qui est le cadre approprié pour traiter des ressources. Pour 2019, nous sommes au rendez-vous, en dépit d'un contexte particulièrement difficile que vous connaissez. L'AFITF a un budget en hausse de 10% à 2,5 milliards d'euros. Dans le cadre de ce projet de loi, nous avons déjà acté plusieurs dispositions importantes pour sécuriser son financement. Je pense à l'affectation d'une part plancher de TICPE, conformément aux engagements pris par l'Etat en 2014. Au-delà, il ne me parait pas impossible de viser le maintien de la somme affectée en 2019 pour les années à venir. Vous avez également introduit en commission l'affectation du surplus de la taxe « chirac » à l'AFITF. Pour la 1ère fois, le transport aérien contribue au développement des modes de transport plus propres. A l'heure où la France entend porter un message fort au niveau européen pour une taxation du transport aérien, cette contribution est un symbole important, qui témoigne de notre volontarisme. Ce débat sur la contribution des activités et modes les plus polluants au financement de nos infrastructures est un beau débat, un débat légitime, que nous aurons dans cet hémicycle. Il nous faut l'avoir, j'y suis prête, pour qu'il éclaire les décisions qui devront être transcrites en loi de finances. Notre objectif est clair : nous doter d'une politique au service du report vers des modes plus propres, pour les voyageurs comme pour les marchandises. C'est ce que nous faisons notamment en favorisant un grand projet fluvial avec la régionalisation de la société du canal seine nord, attendue par les collectivités. C'est ce que nous faisons au travers de nos choix d'investissements. Un seul chiffre, Mesdames et messieurs les députés dont vous pourrez être fiers : durant le quinquennat, les 3/4 de nos investissements iront au ferroviaire. Pour 1€ dépensé pour nos routes, nous investirons 3€ pour nos trains : c'est aussi ça la réorientation de notre politique d'investissement. * A ce titre, la loi mobilités poursuit le mouvement que nous avons engagé ici même, il y a un an, avec le nouveau pacte ferroviaire. Déjà, nous portions l'ambition de redonner à nos concitoyens un service public des transports qui fonctionne mieux. Déjà nous placions les besoins des usagers au centre, en faisant des transports du quotidien, du développement de l'offre et de la qualité de service les priorités. Et nous\",\n",
              "       \"en est un pas de plus vers une Europe durablement ancrée dans la paix et la stabilité.Mais de grâce, faites en sorte que les citoyens de cette Europe ne soient pas déboussolés par des décisions qui ne sont pas comprises.Je pense notamment à l'amende exorbitante que nous a infligée la Commission européenne pour avoir défendu le revenu des producteurs de viande bovine en pleine crise de l'ESB. En tant que président des Jeunes agriculteurs, mais aussi en tant que citoyen de cette Europe, cela me fait mal au ventre.Et c'est sans parler de la situation financière que provoque une telle décision pour une structure comme la notre.Je crois qu'il est urgent et vital que nous nous penchions sur ce droit de la concurrence, car la reconquête de la valeur ajoutée par les agriculteurs passe par le renforcement des interprofessions, qui doivent être pérennisées.Aujourd'hui, nous partons d'une situation où les prix agricoles sont anormalement bas, tandis que les prix à la consommation sont à la hausse.Ce qui démontre au moins que la politique agricole actuelle n'est ni au service des paysans, ni au service des consommateurs.Dès lors, il n'est pas étonnant de voir l'étau se resserrer quelque peu ces derniers jours sur les industriels et distributeurs.Et je peux vous dire que nous y sommes pour quelque chose. Cela fait des années que nous dénonçons les pratiques commerciales illicites de la grande distribution, qui met en coupe réglée les acteurs économiques les plus faibles, notamment les PME et les agriculteurs.En novembre 2002, nous avions d'ailleurs bloqué les plate-formes d'approvisionnement pour dénoncer ces comportements, avant de nous mobiliser à nouveau pour sensibiliser l'opinion publique.Et si nous avons tenu à avoir des garanties importantes avant de signer un nouvel engagement sous l'égide de Nicolas Sarkozy, c'est bien parce que la grande distribution n'avait pas respectée ses précédentes signatures.En premier lieu, je tiens à dire que nous sommes satisfaits de la reprise en main du dossier de la distribution par les pouvoirs publics.Le maintien de la Loi Galland est aussi un élément de satisfaction, de même que la reconnaissance de la spécificité de la formation des prix agricoles.L'instauration de systèmes de suivi des prix, notamment grâce à des mesures de l'INSEE et des contrôles de la DGCCRF, doit garantir que la baisse des prix à la consommation n'est pas répercutée sur les prix des produits agricoles.Mais ce n'est pas tout, puisque nous avons aussi obte\",\n",
              "       \"hir avec les principaux intéressés, des personnes en situation de pauvreté sont d'ailleurs présentes dans chacun des groupes de travail préparatoires.* Questionner notre modèle socialPlus profondément, la question que vous posez est celle de notre modèle social. Ce modèle est généreux et j'y suis évidement très attaché, mais je constate qu'il souffre aujourd'hui d'une forme de dualité à l'intérieur de laquelle tout le monde ne trouve pas sa place :\\x95 d'un côté, un versant assurantiel, assez consensuel, dans lequel le fait d'être en emploi et d'avoir déjà des droits génère d'autres droits : droit à une indemnisation du chômage, droit à la retraite.\\x95 De l'autre côté, un versant plus universel qui couvre ceux qui n'ont aucun de ces droits, je pense à la couverture maladie universelle, je pense à la mise en place du RMI, de belles et grandes réformes de la gauche.\\x95 Mais restent encore aujourd'hui des personnes en zone grise qui peinent à faire valoir leurs droits : c'est le cas de tous les travailleurs pauvres, frappés par le développement de l'emploi précaire, c'est aussi le cas des jeunes, qui sont la catégorie de la population la plus touchée par la pauvreté.Pour réconcilier ces logiques,\\x95 nous avons besoin de remettre le travail au coeur de notre modèle social, un travail de qualité, s'appuyant sur les capacités d'innovation des personnes et sur leur autonomie.\\x95 Nous avons besoin de casser les logiques institutionnelles pour partir des personnes.\\x95 Nous avons besoin d'innovateurs et d'entrepreneurs sociaux,\\x95 Nous avons besoin des partenaires sociaux. La négociation actuelle sur la sécurisation de l'emploi permettra, je l'espère, de faire reculer la précarité qui n'est pas étrangère à notre sujet\\x95 Nous avons besoin de toutes les parties prenantes dont vous êtes au premier chefJe vous redis, avec Benoît Hamon, que nous faisons confiance au travail que vous menez au quotidien sur les territoires. Vous savez notre exigence, mais aussi notre volonté de faire le maximum pour faciliter votre action et le développement de vos structures. Nous resterons à votre écoute et attentifs aux projets que vous pourrez porter.Je vous remercie.\",\n",
              "       \"aisance ainsi que Maurice-Accueil. Je vous encourage, si vous ne le faites déjà, à soutenir les actions menées par ces associations. La France à l'étranger c'est aussi le secteur privé. Or, je sais que les entrepreneurs français à Maurice s'illustrent par leur dynamisme et leur esprit d'initiative. Ils permettent à la France d'être le premier investisseur étranger à Maurice. Je ne citerai pas toutes les entreprises françaises, associées ou non à des intérêts mauriciens, présentes à Maurice car la liste en serait trop longue et je risquerais d'en oublier. Son dynamisme, le secteur privé français le doit bien sûr à des grands groupes que vous connaissez tous et qui interviennent dans des secteurs aussi divers que les télécommunications, le transport aérien, la construction, les produits pétroliers, le tourisme, la construction navale ou encore la valorisation des produits de la mer. Mais ce dynamisme français, ce sont aussi des PME qui ont décidé de se lancer dans des secteurs innovants en s'appuyant sur une main d'\\x9cuvre mauricienne qualifiée, voire à des entrepreneurs individuels qui font preuve d'une grande créativité.Mes chers compatriotes, le Président de la République et le Premier ministre ont conscience que vous êtes les vecteurs de l'image de la France à l'étranger. C'est la raison pour laquelle ils ont créé le Secrétariat d'Etat chargé des Français de l'étranger. C'est aussi la raison pour laquelle le Président de la République a souhaité que vous puissiez désigner l'an prochain un député qui vous représentera à l'Assemblée nationale.Les élections législatives de 2012, avec l'élection de 11 députés par les Français établis hors de France, constitueront, de ce point de vue, une première et une avancée démocratique. C'est également un défi administratif et technique puisqu'un effort considérable a été entrepris et va se poursuivre pour consolider les listes électorales consulaires d'ici à la fin de l'année. Au niveau international, une première campagne d'information audiovisuelle se déroulera durant tout le mois d'octobre et du 15 novembre au 15 décembre (sur TV5, France24, RFI et sur les sites internet de grands journaux).A Maurice, l'Ambassade va également, dans les tout prochains jours, faire des annonces dans la presse et inviter par SMS et courriels les Français à s'inscrire ou à actualiser leurs coordonnées.De même, le gouvernement a souhaité « rapprocher l'urne de l'électeur ». C'est la raison pour laquelle il a été demandé aux Ambassades et C\",\n",
              "       'point de vue pratique, elle a pris une toute autre ampleur.Quatorze sites se sont engagés dans une même logique d\\'offre de séjours adaptés à la spécificité et à la diversité des handicaps.Parallèlement, la sensibilisation à l\\'accueil des handicapés a été renforcée par la distribution de 100 000 plaquettes d\\'information aux professionnels, au grand public et aux personnes handicapées elles-mêmes.En particulier, afin de sensibiliser les professionnels du tourisme aux exigences de l\\'accueil des clients à besoins spécifiques, le \"guide de l\\'accueil et accessibilité\" a été distribué à 15 000 exemplaires. Ce guide a été réédité en 1999 et reste consultable sur le site Internet du secrétariat d\\'État au Tourisme.L\\'année 2000 verra se dérouler la troisième génération de ces campagnes d\\'information et de sensibilisation. Elle sera relayée par l\\'organisation de forums régionaux associant les professionnels du tourisme, les associations de handicapés et les opérateurs locaux du tourisme.Ces forums, nous en avons fait l\\'expérience, permettent souvent à deux mondes qui ne se connaissaient pas de se découvrir et, en dépassant les caricatures et les a priori, de devenir des partenaires actifs et efficaces.Chacun se rend compte qu\\'il ne suffit pas de beaucoup - et c\\'est vrai tant humainement que financièrement - pour que cela aille mieux pour tout le monde.L\\'Alsace en a déjà fait l\\'intéressante expérience. Le second forum aura lieu dès vendredi prochain en Ile-de-France et d\\'autres régions comme le Centre, le Nord-Pas-de-Calais, la région Rhône-Alpes et la Corse se préparent à tenir le leur.On le voit, le formidable phénomène d\\'entraînement qu\\'ont suscité les deux premières campagnes ne cesse de grandir.Au bout de ces trois années, l\\'expérience du dialogue et des réalisations qu\\'il a entraîné, nous permet d\\'aborder l\\'avenir avec d\\'autres ambitions.Sur la base des propositions faites par Monsieur Michel Gagneux, membre de l\\'inspection générale des affaires sociales, dans le rapport qu\\'il m\\'a remis sur \"Tourisme et handicap\", d\\'autres actions structurantes sont en chantier.Il s\\'agit notamment de la mise en place d\\'études prospectives pour mieux appréhender, de manière qualitative, les attentes des personnes handicapées en matière de vacances et de loisirs.En parallèle, il s\\'agit aussi de dresser d\\'un inventaire précis de l\\'offre touristique accessible aux handicapés et d\\'en assurer la promotion.Il s\\'agit enfin d\\'aider à mieux identifier cette offre, en particulier par la cré',\n",
              "       \"e qu'il y a un lien entre ces trafics et le terrorisme et avec des groupes rebelles qui déstabilisent des Etats. C'est pourquoi je plaiderai au nom de la France, au G8, pour qu'une réunion des chefs d'Etats, soit consacrée spécifiquement à la lutte contre le trafic de drogue.Enfin, il y a un autre danger. On le voit monter ces dernières années, c'est la piraterie. Elle est présente à l'Ouest comme à l'Est de l'Afrique. L'Union africaine, je le sais, a décidé de définir une stratégie maritime intégrée. C'est une bonne approche et elle complète les plans d'actions qui ont été élaborés par des organisations régionales, comme la CEDEAO et le CEEAC. C'était en juin dernier. Là aussi, je vous l'annonce, la France soutiendra tous vos efforts et elle est prête à constituer une structure commune pour coordonner vos actions en mer.Mais au-delà de ces réponses, aussi nécessaires soient-elles, nous sommes conscients qu'elles ne pourront pas suffire. Quel est l'objectif que nous devons porter, porter ensemble ? C'est la constitution d'une force de réaction rapide, sous l'égide de l'Union africaine. Ce projet, exige des moyens de commandement et de renseignement, il suppose que les unités de diverses nationalités qui composeront cette force, puissent intervenir ensemble.C'est la responsabilité des Africains. Mais j'annonce là-encore que la France est disposée à apporter tout son concours à cette force par la mise à disposition de cadres militaires, auprès de ses Etats-majors, et par les actions de formation. La France peut entraîner chaque année, si vous en décidez, 20 000 soldats africains.La sécurité, c'est donc une organisation, c'est une force. Mais notre Sommet ne peut pas se limiter à cette conception-là de la sécurité, car nous le savons, la sécurité, c'est aussi le développement  ou plutôt, le développement, c'est la sécurité. Les deux ambitions et exigences se rejoignent.La France veut être, sur cette question du développement, partenaire de l'Afrique. Je rappelle que la France est le pays qui investit le plus, par ses entreprises, en Afrique ; que la France est l'un des principaux pourvoyeurs d'aide publique au développement en Afrique ; que la France est la première terre d'accueil des étudiants africains.Mais la France, avec l'Europe, souhaite être davantage encore associée au destin de votre continent. C'est pourquoi, j'ai facilité la mobilité des talents et des entrepreneurs africains pour qu'ils puissent venir en France et que les visas ne soient pas qu'u\",\n",
              "       \"Je ne vais pas revenir sur les propos initiaux concernant le bouleversement majeur qu'a entraîné Internet, et en même temps la face sombre de cette révolution, si ce n'est que cette face sombre de cette révolution me préoccupe beaucoup, que ce soit sur les enjeux de terrorisme, de cybercriminalité, de harcèlement, de désinformation.Ce qui montre que le concept d'évidence menacée évoqué par le président de la République est tout à fait d'actualité. Et je sais que cela fait partie de vos préoccupations et que, donc, il importe aujourd'hui d'aborder, vous l'avez évoqué, la question des normes, puisque le plus grand défi que nous avons devant nous n'est pas un défi d'ordre technique mais un défi d'ordre politique.Ce que nous avons à inventer maintenant par rapport à l'ensemble de ces enjeux, c'est la norme, les normes et peut-être, au-delà même des normes, je pense aux principes qui les fondent, qui ont été en partie évoqués par le président Macron tout à l'heure.Je vois bien que tout cela n'est pas simple, c'est une tâche très délicate, que le premier risque lorsque l'on fixe des principes et des normes, c'est que nos actions soient en retard par rapport à nos capacités d'innovation. Le second risque, c'est que nos concitoyens, qui avec raison n'entendent pas renoncer aux acquis du numérique, estiment que nous ne sommes pas collectivement en mesure de résoudre le problème qui se pose à nous, c'est-à-dire de lutter contre les menaces nouvelles, sans nuire au dynamisme de l'économie numérique.Je voudrais d'ailleurs dire ici, en reprenant les propos du président de la République, que nous ne devons rien céder sur le terrain des libertés fondamentales et de l'Etat de droit, et que les Etats peuvent jouer un rôle positif pour éviter que la loi du plus fort ne devienne la norme dans le cyberespace.C'est le sens des principes évoqués dans l'Appel de Paris relatifs au comportement des acteurs privés qui ne sauraient, sur cette question de l'usage de la force, user de la force dans l'espace numérique, pas plus que les acteurs privés n'usent de la force dans l'espace physique. Il y a aussi ce risque de privatisation de l'usage de la violence numérique et de la riposte privatisée par rapport à des actions d'intrusion qui pourraient être menées. Il faut, là, respecter les responsabilités des uns et des autres, et donc se préparer ensemble à agir pour des normes qui, aujourd'hui, n'existent pas. Il faut donc les produire ensemble, il faut les produire dans des lieux oppor\",\n",
              "       \"er le rôle que doivent jouer les entreprises dans notre effort national de recherche.Si nous n'atteignons pas aujourd'hui les fameux 3% du PIB investis dans la recherche, c'est parce que l'investissement du secteur privé n'est pas encore suffisant.C'est pour cela que nous avons simplifié et renforcé le crédit impôt-recherche (CIR). Ce sont maintenant 30% des dépenses de recherche des entreprises qui sont remboursées par l'Etat. Et si ces dépenses sont effectuées dans les laboratoires publics de recherche, ce qui vous intéresse tout particulièrement aujourd'hui, elles comptent double et le taux de prise en charge est alors de 60%.C'est pour cela que le CIR français est un dispositif observé par d'autres grands pays de recherche, comme l'Allemagne, qui a lancé une nouvelle stratégie d'innovation, ou les Etats-Unis, qui réfléchissent pour créer le même dispositif de défiscalisation. Aujourd'hui, le CIR crée un avantage comparatif en faveur de la France et on sait que l'outil fiscal est plus efficace que les subventions.J'aurai l'occasion de faire dans les prochains jours un premier bilan de la réforme du CIR engagée à l'automne 2008, mais je peux vous dire que les résultats sont à la hauteur de nos attentes. Nos enquêtes montrent que le CIR bénéficie largement à nos PME, cher Philippe Pouletty, et qu'il a conduit à relocaliser en France des centres de R&D. Le doublement du bonus fiscal en cas de recherche partenariale avec un laboratoire public, n'est malheureusement pas encore suffisamment connu, mais il a eu également un effet très positif.Je profite de l'occasion qui m'est donnée ce soir pour vous dire que c'est aussi à vous tous, ici dans cette salle, de faire la promotion du CIR. Pour tous ceux d'entre vous qui proposent des contrats de recherche partenariale avec des entreprises privées, il faut leur rappeler qu'elles n'auront à payer que 40% de la facture!Bien sûr, la recherche partenariale n'est pas qu'une affaire de fiscalité. C'est aussi une affaire de confiance et de connaissance réciproques.Cette confiance, elle passe par un renforcement des liens entre formation, recherche et entreprises. C'est tout l'enjeu de la réforme de l'université que je mène aujourd'hui : avec la nouvelle mission qui lui a été confiée, à savoir l'insertion professionnelle des étudiants ; avec le stage obligatoire pendant la licence ; avec la présence de chefs d'entreprises au conseil d'administration des établissements ou encore avec la facilité de créer des fondations, da\",\n",
              "       \" Le rapport qui résultera de vos travaux nous permettra de soumettre la nouvelle loi sur l'enseignement supérieur et la recherche dès le printemps 2013.Je vous remercie chaleureusement de vos encouragements et de votre coopération constructive.\",\n",
              "       \"Monsieur le Président de la FEGAPEI, Guy HagègeMesdames, Messieurs,Que serons-nous dans 10 ans ? En lisant le programme des deux journées que vous organisez  et auxquelles je vous remercie de m'inviter  je crois que nous pouvons nous rejoindre sur un certain nombre de réponses. Ou plus exactement nous rejoindre autour d'une volonté commune car, chacun à sa place, nous sommes moins là pour décrire une situation que pour la faire advenir.Dans dix ans, nous serons plus vieux. Enfin, nous vivrons plus vieux. Et parmi nous, les personnes handicapées vivront également plus longtemps. C'est une excellente nouvelle qui n'est pas sans conséquence.D'une part, les effets du vieillissement se manifestent chez les personnes handicapées de manière précoce, parfois dès la quarantaine.D'autre part, le vieillissement a tendance chez la personne handicapée à aggraver les déficiences existantes, en plus de charrier son lot habituel de désagréments, comme une plus grande fatigue, une plus grande vulnérabilité à la maladie, des difficultés fonctionnelles...C'est pourquoi, avec Michèle Delaunay, nous avons jugé qu'il était utile et important de mettre en place un groupe de travail dédié au vieillissement des personnes handicapées. Des réflexions et des actions ont déjà été menées sur ce sujet. Désormais, l'enjeu est de fédérer les énergies, de rassembler les connaissances, et de diffuser les bonnes pratiques, dans le cadre d'un plan cohérent. Un plan pour adapter l'accueil en établissement et la prise en charge à domicile, pour soutenir les professionnels et les aidants, pour mieux repérer et anticiper les risques induits par ce vieillissement. Avec pour ambition de permettre à la personne handicapée de rester dans son milieu de vie aussi longtemps qu'elle le peut, si elle le veut.Patrick Gohet interviendra cet après-midi ; il vous parlera certainement de la mission qui lui a été confiée. Je le salue.Dans dix ans, les personnes handicapées seront mieux soignées.Actuellement, elles sont trop souvent oubliées des actions de prévention et de santé publique. Elles ont par ailleurs plus de difficultés que les autres à bénéficier de soins courants : soins bucco-dentaires, la gynécologie, l'ophtalmologie, l'orthodontie, etc Bien souvent, c'est à l'hôpital que ces soins, pourtant simples, doivent être réalisés. Et parfois en urgence, avec toutes les difficultés que cela engendre, pour les personnes handicapées, leur entourage et aussi le personnel soignant.Et au final, les personnes ha\",\n",
              "       \"toires d'outre mer ont aussi pleinement vocation à participer à la politique maritime de l'Europe. Au plan fonctionnel, la politique maritime doit être inter-piliers et des passerelles doivent être lancées, par exemple, entre l'action communautaire et le second pilier. Cela s'inscrit d'ailleurs dans l'esprit du Traité de Lisbonne qui fera largement disparaître le compartimentage de l'Union européenne par piliers.Dans ce contexte, les thèmes d'une gouvernance adaptée pour la politique maritime européenne, de la surveillance maritime, de la protection de l'environnement marin, et celui de la recherche marine et maritime, tous fortement intégrateurs, seront au centre des objectifs de la Présidence française de l'Union européenne.Premier axe, il ne pourra y avoir de politique maritime intégrée sans une gouvernance maritime. Une telle gouvernance a vocation à être promue au sein du groupe des points focaux nationaux de haut niveau. Après une première réunion que la Présidence slovène a bien voulu organiser, ce dont je la remercie, il me semble important de poursuivre sa mission et sa consolidation. Durant sa Présidence, la France organisera une deuxième réunion destinée à adopter des termes de référence, à mettre au point ses modalités de fonctionnement, à fixer les modalités permettant une régularité des rencontres, en le calant sur des ordres du jour du niveau souhaité. Le but recherché est la création d'un espace informel d'échanges, d'information et de discussions distinct des réunions que la Commission organise autour de son plan d'action. Je sais qu'une telle consolidation du groupe de haut niveau est souhaitée par l'ensemble des Etats membres.Deuxième axe, la surveillance maritime est naturellement l'une des grandes priorités de cette politique. Il s'agit tant d'avoir une bonne connaissance du milieu marin que d'améliorer les modalités et les moyens de la coordination de l'action dont la responsabilité revient aux Etats membres, permettant de créer et de garantir les conditions propices à l'exercice de toutes les activités maritimes, en particulier en matière de sûreté et de sécurité ou de protection de l'environnement. L'objectif à terme est la constitution d'un réseau européen de surveillance maritime, par grand bassin maritime, dont la préfiguration pourrait être le projet pilote de la Commission qui devrait se développer sur la Méditerranée et ses approches atlantiques.Les récents événements de piraterie survenus au large de la Somalie viennent nous \",\n",
              "       \"de ces arts sur le plan international. Nous devons les poursuivre.Il s'agit notamment de compléter le réseau des Centres Nationaux des Arts de la Rue (CNAR). C'est ainsi par exemple que sont étudiées actuellement les conditions de labellisation du Boulon au Vieux Condé dans le Nord tandis que deux dossiers sont en instances d'arbitrage en Rhône Alpes : les Ateliers Frappaz à Villeurbanne et l'Apsoar à Annonay.Il s'agit aussi de repenser les dispositifs d'accompagnement spécifiques pour la création : les aides attribuées par la commission nationale et au niveau des DRAC, pour mieux accompagner les équipes artistiques, toute discipline confondues.Enfin, il faut conforter la transmission des savoirs, en faisant avancer la reconnaissance de la formation, et par les croisements avec d'autres établissements d'enseignements supérieurs dans les domaines du spectacle vivant, comme de l'architecture, des beaux arts ou des écoles du paysage.La FAIAR (formation artistique et itinérante des arts de la rue) inventée par Michel Crespin est à cet égard une initiative originale de transmission par l'expérience et l'échange qui verra bientôt son cursus reconnu au niveau Master par l \\x91Université et entrera ainsi dans le processus de Bologne.Au-delà de ces efforts, qui expriment la volonté de continuité de l'Etat, d'autres pistes doivent être explorées.Pour poursuivre et conforter notre action il m'apparaît en effet souhaitable de poser de nouveaux jalons très concrets.Les arts de la rue sont au carrefour d'enjeux multiples qui traversent d'autres expressions disciplinaires. L'organisation actuelle des services du ministère de la Culture et de la Communication permet difficilement d'appréhender cette multiplicité d'approches. Nous l'avons dit, l'Etat doit jouer son rôle pour que les initiatives d'action artistiques puissent prendre corps dans l'espace public de façon construite et pour le développement des territoires.L'opportunité de la création d'un Conseil National des Arts et de la Culture dans l'Espace Public (CNACEP), a été évoquée et souhaitée par plusieurs d'entre vous. Elle exprime la nécessité, que je partage, d'un groupe de travail entre le Ministère, et d'autres composantes de l'Etat, les professionnels des arts de la rue et de la Ville et les collectivités, qui soit à la fois instance de réflexion et de propositions, pour promouvoir l'art dans l'espace public et favoriser une mise en relation des habitants à l'art. Je demanderai au nouveau Directeur Général de la\",\n",
              "       'ones où ils étaient menacés. Sa part aussi de protection et de revalorisation d\\'un patrimoine architectural traditionnel en voie de disparition. Sa part enfin de \"mise en désir\" culturelle et paysagée des territoires qui a permis de répondre aux aspirations nouvelles des populations locales et en cette fin de crise, à la relance des investissements. Les derniers chiffres de la saison publiés par mon ministère en lien avec l\\'observatoire régional du Comité Régional du Tourisme, témoignent de cette nouvelle dynamique et de ce renouveau. Je n\\'en veux pour preuve que les taux d\\'occupation des gîtes de France qui oscillent dans cette région entre 85 et 92 % et le succès tout à fait significatif des activités de pleine nature. Je suis convaincue que beaucoup d\\'entre vous pourraient eux aussi dans leur propre région témoigner de ces effets extrêmement positifs qu\\'engendrent l\\'activité et l\\'économie touristique sur le développement local de leur terroir. L\\'espace rural représente désormais un potentiel extraordinaire dans notre pays, puisqu\\'il couvre 80 % du territoire national, et constitue le deuxième espace le plus fréquenté par nos concitoyens et par nos visiteurs étrangers. A elle seule, la campagne demeure même la première destination touristique des Français, qui, de plus en plus, aspirent à un tourisme vert, synonyme de repos et de calme, mais également de découverte de nos terroirs et d\\'activités sportives en pleine nature. Dès lors, il n\\'est pas besoin d\\'être particulièrement volontariste pour constater que le développement du tourisme rural correspond à une demande de plus en plus forte, à laquelle les professionnels de ce secteur se doivent de répondre. De la même manière, reconnaître que l\\'activité touristique en milieu rural est très souvent - pour ne pas dire quasiment toujours - un moyen d\\'apporter également une réponse aux difficultés économiques et sociales auxquelles certaines régions se trouvent confrontées (je pense notamment à la désindustrialisation qui, ici même, dans le Nord a eu des conséquences humaines dramatiques) est aussi une réalité. Car cette forme de tourisme favorise les loisirs de proximité, incite à la promenade, à s\\'intéresser au patrimoine architectural, ou encore à goûter les spécialités locales... Chacun, ici, le sait bien : c\\'est un tourisme qui favorise le maintien et le développement d\\'activités plurisaisonnières ; un secteur créateur d\\'emplois ; mais aussi une forme de tourisme qui assure également la préservation de l\\'',\n",
              "       \"ssent représenter leurs clients devant cette juridiction.En conséquence, les offices d'avoués seront supprimés.Les avoués deviendront automatiquement avocats, sauf s'ils y renoncent. Ils seront inscrits d'office au tableau du barreau établi auprès du tribunal de grande instance dans lequel se situe leur office.Ils pourront toutefois choisir, s'ils le veulent, une inscription auprès de n'importe quel autre barreau de France.B) Diminuer les coûts pour le justiciable.Le tarif de postulation sera supprimé en appel. Cette suppression représente une diminution réelle du coût de la justice pour le justiciable.Les honoraires de l'avocat seront donc librement fixés en accord avec le justiciable. Bien entendu, je compte sur le sens de la responsabilité des avocats pour ne pas galvauder la réforme.La partie perdante doit participer davantage aux coûts de la procédure. Une fraction des honoraires d'avocat sera désormais mise à la charge de la partie perdante, au titre des dépens prévus par l'article 695 du code de procédure civile.C) Troisième finalité, développer les nouvelles technologies.La dématérialisation est un atout pour l'efficacité des procédures et la rationalisation des dossiers. C'est d'autant plus vrai à l'heure où les avocats seront appelés à exercer dans les cours d'appel, parfois éloignées de leur cabinet.L'obligation d'introduire l'instance par voie électronique, à peine d'irrecevabilité, est prévue par un décret en cours d'examen au Conseil d'Etat. D'abord applicable à la seule déclaration d'appel à compter du 1er janvier 2011, cette obligation sera progressivement étendue à toute la procédure.Pour favoriser le dialogue entre chefs de cour et avocats, le projet de loi prévoit qu'un avocat, désigné parmi les bâtonniers du ressort, sera chargé de traiter des questions relatives à la communication électronique.Mesdames et Messieurs les Députés,Le gouvernement mesure l'ampleur de la réforme. A ce titre, je suis particulièrement attachée à en limiter les conséquences négatives pour les avoués et leurs salariés.II. Des mesures d'accompagnement sont donc prévues par le projet de loi.Elles répondent à une triple exigence :- favoriser le libre choix en prévoyant des passerelles vers d'autres professions du droit,- prévoir une juste indemnité pour le préjudice subi,- éviter les ruptures brutales en aménageant une période transitoire.A) Des passerelles vers les autres professions judiciaires et juridiques sont prévues.L'accès à la profession d'avocat sera auto\",\n",
              "       \" dont la variabilité me semble relever davantage de l'absence d'ambition d'agir que d'une réelle impossibilité à le faire. Alors que beaucoup des questions posées ce soir ont concerné les personnels et les financements, j'aborde donc celle de la simplification, qui renvoie, plus globalement, à la nécessité de réduire la charge normative qui pèse sur les établissements accueillant nos parents et grands-parents en situation de dépendance. La simplification de la procédure de valorisation des chèques énergie est, comme du reste d'autres simplifications, attendue par les gestionnaires des EHPAD. Avec l'aide de la Fédération nationale des associations de directeurs d'établissements et services pour personnes âgées, j'ai interrogé sur ce sujet, en décembre dernier, 1 400 directeurs : 256 d'entre eux, dont les établissements regroupent plus de 19 000 résidents, se sont prêtés au jeu de cette enquête. Les résultats sont les suivants : premièrement, 83 % des établissements accueillent des bénéficiaires de chèques énergie ; deuxièmement, les chèques énergie ne sont valorisés que dans 32 % des établissements ; enfin, 70 % des directeurs jugent positivement la perspective d'une simplification de la procédure. Ils sont même jusqu'à 80 % à le penser parmi les directeurs d'établissements non conventionnés. Il s'agit là d'une nouvelle démonstration de la nécessité de ne pas pénaliser certains détenteurs de chèques énergie à cause d'une procédure administrative contre-productive. Madame la ministre, partagez-vous cette vision de la question ? Que comptez-vous faire pour aider cette simplification qui permettra l'accès aux droits acquis, l'équité de traitement entre établissements et la diminution du reste à charge pour nos aînés aux revenus modestes ? M. le président. La parole est à Mme la ministre. Mme Agnès Buzyn, ministre. Vous avez raison de rappeler que le chèque énergie, qui se substitue aux tarifs sociaux de l'énergie, a été généralisé depuis le 1er janvier 2018. Il touche 3,7 millions de bénéficiaires en situation de précarité énergétique et est une aide réelle pour les personnes à faibles revenus, puisqu'il permet d'alléger les frais d'énergie, qui constituent une dépense non négligeable. Les résidents d'EHPAD, qui supportent des coûts d'hébergement importants, sont donc particulièrement concernés par ce chèque énergie. Vous soulignez à juste titre que, dans certains cas spécifiques, les bénéficiaires du chèque énergie ne sont pas en mesure de l'utiliser, car ils\",\n",
              "       \"ducteur d'énergie. Nous pesons ainsi sur les grands équilibres du monde. Là où une politique de laisser-faire nous aurait conduits à accroître notre ponction sur les ressources épuisables du monde, nous l'avons au contraire réduite. Nous avons réduit nos émissions de soufre et de gaz carbonique. Ce faisant, nous avons le sentiment de contribuer à la correction du déséquilibré entre le Nord et le Sud pour l'accès aux ressources, ou des déséquilibres écologiques de la planète. Seconde remarque - et j'exprime là une conviction personnelle très forte - l'intervention de la puissance publique est au coeur de notre politique énergétique. La tradition est ancienne : sans la loi de 1928, qui est tout sauf libérale, aurions-nous construit notre industrie pétrolière ? Plus récemment le programme nucléaire et les programmes d'économies d'énergie ont reposé sur une implication de l'Etat et d'opérateurs publics ; elle a, je crois, prouvé son efficacité.Je tiens enfin à remercier les élus de votre assemblée qui ont consacré à la préparation de ce débat un important travail ; je citerai notamment les membres de la mission d'information, son président, M. Bockel, ' et son rapporteur, Mme Bouchardeau, ainsi que ceux de l'office parlementaire d'évaluation des choix technologiques. J'espère que ce débat ne sera qu'une première étape ; nous n'épuiserons pas tous les sujets aujourd'hui, et je forme le vu que le dialogue entre l'Assemblée et le Gouvernement sur ce sujet soit intensifié à l'avenir : il ne faut pas que le prochain débat ait lieu dans huit ans ! Nous devrons également prolonger cette réflexion au niveau régional ; je souhaite que les assemblées régionales puissent se saisir prochainement de ces questions. (Applaudissements sur les bancs du groupe socialiste et sur quelques bancs du .groupe du Rassemblement pour la République.)\",\n",
              "       \"re oublier leur redoutable efficacité. Ces munitions ont permis de détruire, avec une précision impitoyable, les blindés djihadistes. Or, chaque position ennemie détruite, chaque terroriste mis hors de combat est un pas de plus pour la paix au Levant, un pas de plus pour la sécurité de la France et de l'Europe.  1500 frappes aériennes. 2400 missions de tir d'artillerie réalisées. Ces chiffres témoignent de l'intensité du combat que vous menez chaque jour. Et pour cela, je veux vous remercier.  Aujourd'hui, nous sommes parvenus à un tournant. La destruction du califat physique est presque consommée. Il y a des à-coups ; mais la fin est proche. Avec votre aide, les contre-attaques ont été systématiquement neutralisées. Les terroristes sont sans chefs, sans communication, dans le désordre de la déroute. Achevez ce combat ! Les Français l'attendent de vous ; leur reconnaissance est immense.  Mais je veux avoir un mot aussi pour nos partenaires sur le terrain, les Forces Démocratiques Syriennes. Lorsqu'elles sont entrées dans Hajin, c'était l'aboutissement d'une longue campagne, qui les a emmenées de Kobané à l'extrême recoin de la Syrie, au prix de lourdes pertes.  Sans leur soutien, rien n'aurait été possible. Nous leur devons beaucoup. Le Président de la République et moi-même n'avons eu de cesse, dans nos discussions avec les Américains, d'insister sur ce point. Leur sacrifice nous oblige ; notre départ ne doit pas les placer en situation de vulnérabilité.  Dès la semaine prochaine, ce sont les Bigors, vos frères d'armes du 11ème régiment d'artillerie de marine qui poursuivront votre combat. Vous partez, mais les opérations se poursuivent.  Alors, avant la relève, permettez-moi de rendre hommage, encore une fois à votre dévouement. Chammal, c'est chacune et chacun d'entre vous ; c'est un mot qui doit être synonyme d'orgueil et de gratitude dans le coeur des Français. La nation est fière de vous.  Vive la République ! Vive la France !\",\n",
              "       \"itions de chacun.J'en reviens à la question foncière qui a été longuement abordée lors des Etats généraux de l'outre-mer. La politique du logement a suscité des propositions lors de cette vaste consultation des populations, des propositions de nature diverse selon les territoires, mais qui rejoignent les propos que j'ai entendus ce soir. Par exemple, il y a incontestablement un besoin d'établissements publics fonciers dans les territoires qui en sont dépourvus. Il y a également une attente pour faciliter l'emploi du foncier disponible de l'Etat pour produire du logement social. Soyez assurés, mesdames et messieurs, que, pour ce qui le concerne, l'Etat sera au rendez-vous.Devant les opérateurs du logement social, devant les fédérations nationales, en particulier celle des entreprises sociales pour l'habitat, vous comprendrez que je ne peux pas ne pas évoquer la grande détresse de la société anonyme de HLM de la Guyane. Le Gouvernement a procédé dans la plus grande transparence depuis de longs mois et a tenté de concilier les points de vue pour qu'un plan de redressement, viable sur le moyen terme, crédible pour les actionnaires, soit mis en oeuvre. Les conditions n'ont malheureusement pas pu être réunies pour atteindre cet objectif. Et je remercie très sincèrement tous ceux qui ont appuyé nos réflexions, qui nous ont aidé à bâtir des scénarios de relance.Depuis fin juillet, mon collègue Benoist Apparu a engagé une procédure de liquidation administrative de la société. Devant la menace imminente d'une procédure devant le tribunal de commerce, face au risque d'appel des garanties accordées par les collectivités, alors que les chantiers - y compris l'entretien - sont au point mort depuis plusieurs mois, l'urgence désormais commande.Il est de la responsabilité du Gouvernement d'assurer des perspectives aux locataires, qui vivent dans des logements de plus en plus dégradés, aux salariés, qui ont perdu confiance dans leur entreprise. Il est de la responsabilité du gouvernement de rassurer les collectivités, qui attendent depuis trop longtemps que des logements soient construits ou réhabilités et qui craignent de devoir couvrir plus de 160 Meuros de prêts qu'elles ont garantis.C'est pour cela que cette procédure a été engagée, je dis engagée, parce que - et nous sommes pleinement en phase avec Benoist Apparu - nous sommes disposés à examiner toute autre solution crédible qui permettrait d'assurer le redressement de la société. Mais, à ce stade, ni le Secrétariat d\",\n",
              "       \"u terrain aussi. Le Conseil National des Victimes doit se moderniser pour refléter la diversité et les compétences de vos associations.Ce nouveau Conseil inclura davantage d'associations de victimes, de personnes qualifiées et d'autorités indépendantes. Je connais la valeur de vos propositions. Je ne veux pas qu'elles restent sans écho. Le Conseil National d'Aide aux Victimes aura aussi plus de responsabilités dans l'aide aux victimes. Ses propositions devront figurer dans un rapport qui sera remis au Garde des Sceaux chaque année. Il aura en outre une fonction de consultation plus affirmée. Il sera consulté sur les projets de modifications législatives et réglementaires concernant l'aide aux victimes. Il pourra émettre des avis et des recommandations qui seront transmis aux autorités compétentes. Je veux que le CNAV soit un espace de parole privilégié pour les associations de victimes et d'aide aux victimes. Il m'importe que ce dialogue entre nous soit régulier et continu. Nous avons engagé une réflexion avec les fédérations Citoyens et justice et l'INAVEM afin de rationaliser les dispositifs qui existent déjà. Où organiser les permanences d'aide aux victimes ? Comment faire pour que les associations qui souhaitent se présenter aux audiences le fassent dans de bonnes conditions? Je souhaite que nous puissions rapidement trouver des réponses. Cette réflexion doit s'ouvrir aux associations spécialisées. Je pense à celles qui s'occupent d'un secteur géographique, d'un drame précis, ou d'un type de crime particulier. Je souhaite reconnaître le rôle essentiel qu'elles jouent dans notre combat commun pour les victimes en créant un label. Les associations labellisées, qui répondront à une charte d'engagement nationale, seront conventionnées par les cours d'appel. Ce label sera un gage de sécurité pour les familles de victimes. Nous avons vu trop de mouvements sectaires chercher à profiter de leur détresse. Ce label garantira également une meilleure visibilité pour les associations. Il témoignera de leurs liens avec le monde judiciaire. Je vous remercie d'avoir répondu présent aujourd'hui. Je sais que beaucoup d'entre vous sont bénévoles. Vous êtes venus, souvent de loin, en prenant sur votre temps de travail ou de congé. Vous vous dépensez sans compter au service d'une cause qui nous concerne tous. Je veux rendre hommage à votre dévouement exemplaire. Je veux vous dire mon respect et mon admiration. Nous allons travailler dans un esprit de dialogue et de concert\",\n",
              "       \"séparées ou les étudiants qui ont dû interrompre leurs études.Comme vous, Cher Ami je voudrais aussi insister sur la lutte contre les groupes terroristes, singulièrement la lutte contre les groupes terroristes reconnus comme tels par les Nations unies. C'est évidemment l'un des défis majeurs auquel nous sommes confrontés, l'un des fléaux majeurs auxquels nous sommes tous confrontés et nous devons tous faire face à cette menace. Nous devons agir fermement, agir avec unité et détermination, c'est une exigence à laquelle nous devons tous répondre.Nous appelons tous nos partenaires à faire le maximum dans ce domaine. Nous avons noté singulièrement la volonté de votre pays d'agir de manière très ferme dans cette direction et nous comptons, en ce qui concerne la relation entre la France et le Qatar, renforcer cette coopération dans le domaine de la lutte contre le terrorisme. En particulier dans le domaine des financements du terrorisme, sur lesquels une relation beaucoup plus forte encore qu'auparavant va se mettre en place entre nos deux pays.Nous avons aussi abordé d'autres questions, mais l'essentiel des sujets dont nous avons parlé portait sur la tension dans le Golfe. C'était d'ailleurs l'objectif primordial de ma mission.\",\n",
              "       \"A la suite d'une demande exprimée par la profession de lancer un Grenelle de la culture, j'ai pris l'initiative d'organiser les Entretiens de Valois, réflexion sur l'avenir du spectacle vivant.C'est ainsi la première fois depuis la création du MCC, qu'une telle concertation a lieu dans une configuration associant étroitement l'ensemble des partenaires : les collectivités à travers les associations d'élus (AMF, AMGVF, ADF, ARF et FNCC), les organisations professionnelles et syndicales du spectacle vivant , les artistes représentés par les sociétés civiles, les autres ministères concernés (Affaires Etrangères, Education Nationale, Enseignement Supérieur et Recherche, Budget...), l'Assemblée Nationale et le Sénat, des établissements publics et opérateurs de l'Etat. Nous sommes aujourd'hui réunis en séance plénière pour la troisième fois depuis le 11 février dernier, après 5 mois d'un travail intensif.Il faut bien reconnaître que notre calendrier était très contraint : pour les collectivités territoriales, la tenue d'élections municipales et cantonales ne leur a pas rendu la tâche facile ; pour les représentants des employeurs comme des salariés, le rythme soutenu les a contraints à une mobilisation permanente et intense, ce dont je les remercie sincèrement.J'avais 2 raisons de vous faire tant travailler en si peu de temps : il fallait avant la fin du mois de juin que je puisse disposer d'arguments solides dans le cadre de la négociation budgétaire qui cette année, comme vous le savez, portera sur 2009 et 2010. A ce titre, j'ai toujours affirmé et notamment lors de la précédente séance plénière, qu'un budget du spectacle vivant en reconduction serait un minima. C'est pourquoi je souhaite couper court à des rumeurs infondées sur une supposée baisse du budget du spectacle vivant. Je tiens à rappeler très solennellement qu'aucune décision de quelque nature que ce soit n'a été prise sur mon budget à ce jour, Matignon et l'Elysée n'ayant pas encore rendu leurs arbitrages. Je vous demande en conséquence de ne pas confondre rumeur et information.La seconde raison pour laquelle le délai de juin était impératif, a trait à la RGPP. Comme vous le savez, le MCC a été l'un de premiers ministères à faire l'objet d'un audit, suivi de préconisations sur son organisation. La suite du processus devait concerner le spectacle vivant entre mars et juin. Afin de ne pas anticiper ni interférer avec nos travaux, j'ai obtenu que le CMPP présidé par le PR, repousse l'examen des mesures\",\n",
              "       \"opre entreprise. Le rapport de force global et le rapport de force singulier dans une certaine situation, dans une localité, dans une profession s'en ressentent. Pour gagner cet engagement le plus large possible des forces, peut-être faut-il encore prendre le temps de convaincre du sens et de la portée de notre objectif collectif.S'il y a encore des camarades qui doutent sur l'importance de cette organisation, il nous faut continuer notre débat. Nous n'avons pas de résultats durables si la mobilisation dans certains endroits ne se compte qu'à l'intérieur d'une entreprise ou d'une profession sans travailler en permanence à la convergence, à la dimension interprofessionnelle de nos objectifs revendicatifs de notre vision de la transformation de la société et sur l'incidence sur l'évolution des droits sociaux pour l'ensemble dans son entreprise, dans sa profession, dans sa localité et sur une dimension interprofessionnelle.Dans les UL, vous êtes bien placés pour témoigner :- des limites actuelles que nous pouvons rencontrer compte tenu de notre implantation professionnelle et géographique- des possibilités qui s'offrent à nous et des évolutions envisageables et possibles.A ce titre, je retiens que la conférence a été l'occasion d'évoquer un grand nombre d'expérimentations.Peut-être pourrions nous prendre du temps - au niveau de la direction confédérale - pour regarder comment parvenir à ce que l'ensemble des militants de la CGT et des organisations ait connaissance des expérimentations et des enseignements qui en sont tirés ?Quels sont les traits positifs détectés par certains camarades ? Qu'est ce que cela donne ? Qu'est-ce qui a mal été perçu ? Quels sont les problèmes soulevés par telle ou telle évolution ?Il faut que nous sachions au sein de la confédération faire circuler cette information qui peut aider chacune des organisations et ce pas uniquement au niveau des UL. Nous sommes donc engagés sur une vraie réflexion stratégique, sur nos modes de fonctionnement et d'organisation qui doit intégrer toutes les questions qu'elle peut soulever :Les moyens: nous avons déjà traité cette question même si certains considèrent que ce n'est que partiellement y compris au dernier congrès. Nous avons pris des décisions s'agissant du système de cotisation. Nous pouvons continuer à réfléchir sur une bonne répartition de nos moyens (moyens militants, moyens financiers, moyens matériels...). Toute réflexion stratégique a aussi besoin d'intégrer la dimension des moyens.Sur\",\n",
              "       \"oyant des missions de l'Office français de protection des réfugiés et apatrides au Niger et au Tchad pour identifier, avec le Haut-Commissariat des Nations unies pour les réfugiés et l'Organisation internationale des migrations, les personnes qui peuvent bénéficier d'une protection internationale et accéder en sécurité au territoire européen. Cela permet aussi de faire réfléchir ceux qui ne remplissent pas les conditions, mais qui peuvent être aidés pour rentrer chez eux. Cet effort porte ses fruits.Nous devons mobiliser l'ensemble de l'Union et voir comment travailler dans cet esprit avec les pays du Maghreb.Il faut bien entendu une coopération spécifique avec les autorités libyennes, notamment les gardes-côtes, pour les aider à mieux gérer leurs eaux territoriales et à combattre les passeurs et les trafiquants. Parallèlement, les moyens de FRONTEX doivent être renforcés, comme le propose la Commission, pour passer à 10 000 gardes-côtes et gardes-frontières européens.En Europe même, il est nécessaire d'améliorer profondément le fonctionnement des hotspots, notamment en Italie, avec une expertise et des financements européens adéquats.Les autres États membres doivent en contrepartie procéder plus largement à des relocalisations depuis ces centres, sur une base volontaire, des personnes qui peuvent bénéficier de l'asile.Au-delà, il nous faut bien sûr réformer le régime de Dublin en réaffirmant la responsabilité des pays de première entrée, mais en l'accompagnant de mécanismes de solidarité à la hauteur en cas d'afflux massifs de migrants et en faisant en sorte que les règles qui prévoient le renvoi dans un autre pays européen lorsqu'une demande d'asile y a été déposée soient pleinement appliquées.Vous le voyez, tout cela suppose une approche plus européenne. Il n'est possible ni de fermer purement et simplement ses frontières nationales, au risque de détruire Schengen, ni de compter sur des pays tiers pour y déporter et y retenir des personnes qui, je le rappelle, ont le droit de déposer une demande d'asile.C'est ce que nous défendons, et ce à quoi nous avons travaillé avec le Président du Conseil italien, M. Conte, le 16 juin, avec la Chancelière Merkel, le 19, à Meseberg, avec le Président du Gouvernement de l'Espagne, Pedro Sanchez, le 23, puis en sommet informel à Bruxelles, le 24.C'est dans cet esprit que nous aborderons le Conseil européen.La France et l'Allemagne s'étaient engagées en décembre dernier à présenter une approche commune pour l'Union éco\",\n",
              "       \"La prorogation du mandat des membres du Conseil s'articulera avec les dispositions transitoires inclues dans le projet de loi organique relatif à l'application de l'article 65.Celles-ci prévoient le maintien des compétences antérieures du Conseil Supérieur de la magistrature jusqu'à la première réunion du Conseil dans sa nouvelle composition.Monsieur le Président,Mesdames et Messieurs les Députés,Le Conseil Supérieur de la Magistrature doit être à l'image de la Justice du XXIe siècle.Une justice plus que jamais indépendante, fière de ses missions et de ses valeurs.Une justice irréprochable, consciente de la nécessaire exemplarité des magistrats.Une justice proche du justiciable, en phase avec la société, au coeur de la démocratie.Tels sont, Mesdames et Messieurs les Députés, les enjeux des deux projets de loi organique que j'ai l'honneur de vous soumettre.\",\n",
              "       \"fin apprendre que dans notre société ils ont des devoirs. Que leur honneur et que la grandeur d'être citoyen, c'est aussi de se dire que l'on a des devoirs et qu'on vous a donné les moyens de remplir ces devoirs. C'est cela aussi le rôle de la JIAPD. Je pense aussi que, au-delà de cette JAPD, le monde de la défense a un rôle à jouer dans notre société, qui est pour certains trop une société de renoncement ou de passivité. Ce rôle, c'est celui de l'intégration et de la promotion sociale. Les armées représentent pour les jeunes volontaires un formidable moyen d'intégration et de promotion sociale, parce qu'elles proposent, y compris à ceux qui ont eu le plus de difficultés scolaires et qui ont le plus de difficultés à s'intégrer de la société, de véritables qualifications professionnelles, et une expérience sociale, et une expérience humaine gratifiante. Le Maréchal LYAUTEY disait que les armées sont un merveilleux agent d'action sociale. Je crois que ses propos sont encore plus vrais aujourd'hui. Quand j'entends un chef d'état major d'une armée disant au moment où il quitte le service actif tout ce qu'il doit dans sa vie personnelle à l'institution militaire, je me dis que chacun des jeunes devrait pouvoir se dire la même chose aujourd'hui, ou avoir cette perspective. La marine nationale, pour ne citer qu'un exemple, recrute depuis des années des jeunes en réinsertion dans les métiers de la sécurité, de la maintenance ou de la restauration. L'armée de l'air fait exactement la même chose, et l'armée de terre encore plus, compte tenu de son volume. Cette capacité d'intégration, oui, est partagée par toutes les armées. Elle n'est pas assez connue et elle n'est pas assez valorisée, et c'est à nous tous de le faire. Ce qui est important, et j'en parlais avec des jeunes issus de l'immigration, c'est que les différences y sont transcendées par la culture de l'engagement au service de la nation. Et cette transcendance, c'est ce que les jeunes, qui sont en situation difficile, recherchent. L'épanouissement social et personnel des jeunes est porté par des valeurs, des valeurs qu'ils découvrent souvent à travers l'armée, qui sont les valeurs de la solidarité, les valeurs de la discipline, les valeurs du courage. Oui, les armées montrent le courage de l'engagement et elles prouvent que ceux qui ont des talents peuvent réussir d'où qu'ils viennent et quels que soient, au départ, les handicaps dont ils souffrent. Je crois qu'il y a là une matière à réflexion pour l'ensem\",\n",
              "       \"e, qui reste très élevé dans nombre d'États membres.Par ailleurs, des fragilités demeurent, notamment en raison de la situation du secteur bancaire dans plusieurs pays, dont l'Italie, le Portugal et l'Espagne. Sans oublier que la Grèce continue d'avoir besoin de soutien dans le cadre du troisième programme d'assistance financière. D'une façon générale, les leçons de la crise et des fragilités de la zone euro doivent être tirées. C'est la raison pour laquelle le fonctionnement de cette zone doit, en effet, être encore amélioré, comme ce débat l'a mis en évidence.De fait, des déséquilibres macroéconomiques importants persistent au sein de l'Union économique et monétaire depuis sa création, en particulier entre les pays du sud et ceux du nord de l'Europe. Si nous partageons depuis maintenant près de dix-huit ans la même monnaie, nos économies ont continué de diverger, comme Jean Bizet l'a souligné. C'est ainsi que les niveaux de dette et de déficit, les balances commerciales et les niveaux des salaires restent très différents d'un pays à un autre, de même que les taux de chômage.Beaucoup reste donc à faire pour réaliser une réelle convergence des économies des États membres de la zone euro.La France est convaincue que, pour assurer la solidité de la zone euro, il est nécessaire de mettre en \\x9cuvre une véritable stratégie économique de convergence économique et sociale. En effet, la coordination économique au sein de la zone euro ne peut se limiter aux seules règles budgétaires ni à la seule application du pacte de stabilité et de croissance. La gouvernance de la zone euro doit obéir à des objectifs politiques, ainsi qu'à un objectif structurel de convergence des niveaux économiques et sociaux.C'est notamment pour cela que, en octobre 2015, à la demande de plusieurs États membres, dont la France, la Commission européenne a décidé une réforme du semestre européen, qui représente la phase I de la mise en \\x9cuvre du rapport dit « des cinq présidents », les présidents de la Banque centrale européenne, du Parlement européen, du Conseil européen, de l'Eurogroupe et de la Commission européenne.Il a ainsi été décidé, notamment, de mieux prendre en compte les situations nationales différenciées, et non pas seulement les critères habituels du pacte de stabilité et de croissance, qui reprennent en partie les critères de convergence dits « de Maastricht ». Il a également été décidé de mieux prendre en compte la situation de la zone euro dans son ensemble, d'accorder une plus\",\n",
              "       \"M. le président. L'ordre du jour appelle la discussion du projet de loi ratifiant l'ordonnance n° 201731 du 12 janvier 2017 de mise en cohérence des textes au regard des dispositions de la loi n° 2016-41 du 26 janvier 2016 de modernisation de notre système de santé (projet n° 670 [2016-2017], texte de la commission n° 12, rapport n° 10), du projet de loi ratifiant l'ordonnance n° 2017-48 du 19 janvier 2017 relative à la profession de physicien médical et l'ordonnance n° 2017-50 du 19 janvier 2017 relative à la reconnaissance des qualifications professionnelles dans le domaine de la santé (projet n° 670 [2016-2017], texte de la commission n° 11, rapport n° 10) et du projet de loi ratifiant l'ordonnance n° 2017-644 du 27 avril 2017 relative à l'adaptation des dispositions législatives relatives au fonctionnement des ordres des professions de santé (projet n° 670 [2016-2017], texte de la commission n° 13, rapport n° 10).La procédure accélérée a été engagée sur ces trois textes adoptés par l'Assemblée nationale.Dans la discussion générale commune, la parole est à Mme la secrétaire d'État.Mme Marlène Schiappa, secrétaire d'État auprès du Premier ministre, chargée de l'égalité entre les femmes et les hommes. Monsieur le président, monsieur le président de la commission des affaires sociales, madame la rapporteure, mesdames les sénatrices, messieurs les sénateurs, je viens présenter aujourd'hui devant votre assemblée, au nom de Mme la ministre des solidarités et de la santé, Agnès Buzyn, trois projets de loi de ratification d'ordonnances rédigées en application de la loi du 26 janvier 2016 de modernisation de notre système de santé.Contrairement à une majorité d'entre vous, je n'ai pas été directement impliquée dans les débats parlementaires ayant conduit à habiliter le précédent gouvernement à agir par voie d'ordonnances dans des délais limités et dans les domaines qui nous occupent aujourd'hui. Il me paraît néanmoins important, afin d'éclairer nos débats, de replacer dans leur contexte chacune des ordonnances faisant l'objet d'un projet de loi de ratification.Je m'efforcerai d'être aussi claire que possible dans la présentation de chacun de ces textes, dans la description des objectifs qui leur sont associés, des conditions dans lesquelles ils ont été élaborés, ainsi que de leur contenu et de leurs enjeux propres.L'ordonnance relative à la profession de physicien médical reconnaît cette dernière comme profession de santé, conformément à l'un des objectifs du pl\",\n",
              "       \"nette.Ce faisant, la Haute assemblée apporte une nouvelle preuve de la très grande qualité du travail législatif qui s'y accomplit, même lorsque des délais exceptionnellement brefs lui sont imposés. Je tiens à préciser que ceux-ci nous ont été dictés par la proximité de la suspension des travaux en séance publique au cours du mois de février : je tenais, Monsieur le Président, à remercier le Sénat d'avoir bien voulu s'en accommoder.Mais si cela a été possible, Mesdames et Messieurs les sénateurs, c'est que la nécessité de clarifier le cadre normatif des opérations spatiales réunit autour d'elle un large consensus: c'est en effet un rapport du Conseil d'Etat, rendu public en avril 2006, qui a souligné l'absence d'un cadre juridique national clair en la matière.Or cette absence est d'autant plus préjudiciable que la France est, conformément à ses engagements internationaux, financièrement responsable des dommages causés par des objets spatiaux lancés depuis son territoire ou par des opérateurs français, y compris lorsqu'ils sont envoyés dans l'espace depuis l'étranger.Si nous avons pu longtemps nous satisfaire des seules normes internationales en ce domaine, c'est que l'immense majorité des opérations spatiales étaient menées par l'Etat ou par des organismes qui entretenaient avec lui des relations particulièrement étroites. Dès lors, rien n'était plus normal que de voir notre pays se porter garant d'activités qu'il organisait et menait lui-même.Tel n'est plus le cas aujourd'hui, car la puissance étatique n'a plus de fait le monopole des opérations spatiales. Partant, sa responsabilité peut être engagée alors même qu'elle n'a été associée en rien aux activités dont pourrait découler un dommage.A l'évidence, cela n'est pas satisfaisant : la garantie de la France ne peut aller qu'à des opérations qu'elle a autorisées et dont elle a pu s'assurer qu'elles se déroulaient dans le plein respect de l'ensemble des normes qui régissent des activités aussi délicates.Il fallait donc clarifier les responsabilités de l'Etat et des opérateurs, afin que l'un et l'autre ne puissent céder à une double tentation :- la tentation, pour les opérateurs, de s'affranchir des normes de sécurité, de santé publique ou de respect de l'environnement, au motif que la garantie de l'Etat pourrait toujours être invoquée en dernier recours ;- la tentation, pour l'Etat de ne considérer d'un oeil favorable que les seules opérations organisées ou supervisées par lui, au détriment du développemen\",\n",
              "       \"es pour affirmer que le chômage baisse. Dans le monde du travail, tout le monde sait que ce sont des mensonges, des manipulations statistiques. Mais les ministres mentent sans honte, ils sont payés pour cela. Ils sont payés pour faire croire que ça va de mieux en mieux pour l'économie et que, si on en licencie certains, c'est pour sauvegarder l'emploi des autres.Assurer à chacun de ses membres un travail et un revenu permettant de vivre devrait être le devoir élémentaire de toute société.Le fait que l'organisation actuelle de l'économie n'en soit pas capable, qu'elle laisse sur le bord du chemin trois millions, voire six millions de travailleurs potentiels, suivant que l'on compte les chômeurs complets ou ces chômeurs partiels que sont les précaires, est une des preuves les plus démonstratives de la faillite de l'organisation sociale actuelle.Qui, parmi les travailleurs, ignore que, lorsqu'on a perdu un emploi stable, on a peu de chances de trouver autre chose qu'un emploi précaire mal payé ? Qui, parmi les travailleurs, ne voit la pauvreté qui monte ?Les Restos du Coeur sont à peine ouverts que déjà ils débordent. Leurs usagers ne sont plus, depuis longtemps, des marginaux, des malheureux dans une situation dramatique exceptionnelle. Même plus seulement des chômeurs : de plus en plus nombreux sont ceux qui ne peuvent plus se passer des Restos du Coeur alors, pourtant, qu'ils ont un travail.Un grand quotidien a consacré hier sa Une et une double page à ce qu'il appelle « les damnés du périph' ». C'est-à-dire à ces femmes et à ces hommes, qui vivent sous des tentes ou dans des cabanes le long des talus bordant le périphérique parisien. Le journaliste souligne « sur le périph', il y a aussi des familles avec des enfants, scolarisés ou non, des travailleurs pauvres (...) qui se sont installés dans une caravane ou une tente avec un réchaud, de l'électricité ». Le journaliste remarque comment, au petit matin, ils sont des dizaines et des dizaines à émerger du périph' pour se rendre à leur travail.Il y a parmi eux des intérimaires, y compris de grandes entreprises, des travailleurs de la ville de Paris et même, triste ironie du sort dans cette société capitaliste, des travailleurs du bâtiment qui construisent des logements et qui, eux, chaque soir après le travail, rentrent sous une tente au bord du périphérique !Voilà où on en est au XXI-ème siècle dans un des pays les plus riches de la planète ! Et je répète qu'il ne s'agit pas seulement de cas sociaux, il ne \",\n",
              "       'le, entrent dans le vif du sujet.De ce point de vue, quelques avancées récentes doivent être saluées, comme les propositions européennes pour mettre fin au blocus de Gaza ou encore les sanctions adoptées par l\\'Union européenne le 26 juillet contre l\\'Iran. Ces orientations restent à consolider dans la pratique : la reprise du dialogue entre les Israéliens et les Palestiniens doit se faire avec les Européens, qui ne doivent plus se retrouver, une fois encore, réduits au rôle de pompe à finances. De même, il faut s\\'assurer de la pleine application des sanctions contre l\\'Iran, y compris dans le droit interne des Etats membres.Au-delà de ces deux dossiers, bien sûr, beaucoup reste à faire :- Le Conseil européen du 16 septembre doit marquer une nouvelle étape, car pour la première fois, l\\'Union européenne va se saisir de ses relations avec les grands pays émergents, la Chine, l\\'Inde et les autres grands du XXIe siècle. Il doit, à cette occasion, se doter d\\'une stratégie d\\'ensemble au lieu du \"saucissonnage bureaucratique\" habituel. Ainsi, l\\'Union européenne a plusieurs dizaines d\\'accords avec la Chine, sans aucune vision globale.- De même, le service doit être pleinement impliqué dans la politique de voisinage, à l\\'Est, à travers le partenariat oriental qui mérite d\\'être renforcé, et au Sud, à travers l\\'Union pour la Méditerranée, dont le président de la République a annoncé le deuxième sommet en novembre.- Reste le volet de l\\'aide d\\'urgence et des crises humanitaires, très sollicité cette année, avec le séisme en Haïti, les incendies en Russie et les inondations au Pakistan. Comment ne pas regretter que, sept ans après les propositions de Michel Barnier, la France, par la voix du président de la République et de ses ministres, en soit toujours à réclamer une capacité commune d\\'intervention humanitaire, seule capable de donner plus de visibilité à l\\'Europe. Hélas, comme d\\'habitude, l\\'Union européenne est, le plus souvent, à la fois le premier bailleur de fonds mais aussi l\\'acteur le moins visible sur le terrain des crises, situation à laquelle il serait grand temps de remédier.Mesdames et Messieurs les Ambassadeurs, vous savez mieux que personne qu\\'une politique étrangère qui ne s\\'appuierait sur aucun système de sécurité et de défense digne de ce nom serait condamnée au seul registre déclamatoire. C\\'est pourquoi la France a toujours été - et demeure - le premier avocat d\\'une défense européenne digne de ce nom.Je vous avais dit l\\'an dernier que je ne serai pas le',\n",
              "       \"Messieurs les officiers généraux,Mesdames et messieurs les auditeurs, Mesdames et messieurs, Chers amis, Le rendez-vous avec les anciens auditeurs de l'IHEDN constitue toujours une rencontre stimulante pour un ministre de la Défense. Stimulante parce que, en connaisseurs des choses de la Défense, vous êtes exigeants, ce qui est normal, vous êtes parfois critiques, ce qui l'est aussi, et vous êtes surtout porteurs du dynamisme de l'esprit de défense dans la nation. Vos réflexions ont nourri les différentes sessions de l'IHEDN, votre engagement associatif, les fonctions professionnelles que vous occupez vous confèrent une responsabilité toute particulière. Plus que des spectateurs, plus que des témoins, vous êtes des acteurs. Mais dès lors se pose une question, les acteurs de quelle défense et avec quel rôle ? Ce sont les questions que je voudrais aborder avec vous, ce soir, en vous présentant, parce que je me suis aperçue que cela n'était peut-être pas suffisamment précis dans l'esprit de nos concitoyens, le sens de la défense tel que je le conçois, la politique de défense tel que le gouvernement la conçoit pour la France, avant d'évoquer devant vous le défi que nous avons à relever pour faire en sorte que l'esprit de défense soit aussi celui de nos concitoyens. Car je suis persuadée que nous avons à créer ensemble un nouvel esprit de défense. La défense a d'abord pour rôle d'assurer la sécurité des Français et la protection de nos intérêts et de nos valeurs. C'est peut-être une évidence, c'est surtout une exigence. C'est une évidence parce que nous vivons dans un monde dangereux, qui vient succéder à l'utopie d'une période de paix que nous aurions acquise avec la chute du mur de Berlin et la disparition du communisme. En fait, nous le voyons aujourd'hui, au-delà des risques classiques liés aux guerres ou aux crises, auxquels nous-mêmes ou nos concitoyens pouvons être exposés lorsque nous vivons ou lorsque nous voyageons à l'étranger, existe un risque terroriste qui, lui, concerne chacun d'entre nous. Et la France, comme toutes les démocraties occidentales, peut-être plus que d'autres démocraties occidentales parce qu'elle s'est élevée dès le départ contre le terrorisme, y est exposée. La tragédie du 11 septembre a créé dans l'esprit de l'ensemble des populations du monde une nouvelle ère du terrorisme. En fait, nous le savons bien parce que, malheureusement, nous l'avions expérimenté sur notre territoire dès 1986, cette ère du terrorisme de masse est plus \",\n",
              "       ' Monsieur l\\'Ambassadeur, cher Jacques Viot,Mesdames et Messieurs les membres du Conseil d\\'administration,Mesdames et Messieurs les Présidents de Comités d\\'Alliances françaises à l\\'étranger,Monsieur le Secrétaire général,Mesdames et Messieurs les Délégués généraux ou Directeurs,Mesdames et Messieurs,Chers amis, Vous avez décidé de tenir désormais votre colloque annuel en hiver, ce qui me permet de m\\'adresser à l\\'ensemble de votre réseau, agents du siège parisien ou Français expatriés, mais aussi administrateurs étrangers, pour la seconde fois en six mois. S\\'agirait-il d\\'une manifestation d\\'identitarisme, les alliances se préservant de la réunion annuelle du \"réseau\" ? J\\'y vois bien plutôt un juste retour des choses, car l\\'hiver au Nord, c\\'est l\\'été au Sud - ce Sud où je me rends dès ce soir, au Brésil, qui est l\\'une de vos terres d\\'élection. Et je crois pouvoir dire que nous éprouvons une commune affection pour cet hémisphère, non pas parce que nous négligeons le Nord ou l\\'Est (l\\'ampleur de votre réseau le prouve), mais bien au contraire parce que l\\'universel et la diversité sont pour nous les deux faces d\\'un même Janus. Vous recevoir n\\'est pas seulement un devoir pour le ministre en charge de la Coopération internationale et de la Francophonie, c\\'est un honneur et un plaisir : celui tout d\\'abord de rencontrer des partenaires, des amis étrangers, venus ce soir de soixante-douze pays différents, et qui ont choisi de s\\'investir dans les conseils d\\'administration d\\'Alliances françaises ; celui aussi de saluer votre rôle, votre travail, qui ne sont pas précieux, mais irremplaçables.Mais comment vous saluer, sans me répéter, alors que ces retrouvailles sont si proches de notre dernière rencontre ? Peut-être en rappelant le travail réalisé au cours de ces six derniers mois, sous les auspices - que je sais dynamiques - de votre nouveau Secrétaire général, Jean-Claude Jacq, avec peut-être aussi l\\'esquisse d\\'un bilan, puisque ce travail s\\'inscrit dans le grand mouvement impulsé à notre coopération internationale depuis déjà maintenant presque cinq ans. Nous ne sommes pas restés inactifs en ce dernier automne de la législature : comme je l\\'annonçais lors de notre dernière rencontre, la nouvelle convention-cadre entre l\\'Alliance française de Paris et le ministère des Affaires étrangères a été signée en novembre dernier. Elle affirme un partenariat responsable, équilibré, et respectueux des règles et orientations stratégiques de chacune des deux parties. Elle renforce ',\n",
              "       \" création d'entreprise et de valorisation de brevet.Devant tant d'atouts, nul ne peut donc s'étonner que l'Institut ait pu rassembler autour de lui tant de partenaires, dont je voudrais enfin saluer l'engagement aux côtés de l'État : je pense en particulier à la région, ainsi qu'à la ville de Paris. Tout ensemble, nous allons en effet unir nos forces pour offrir à l'Institut les nouvelles installations dont il a besoin pour nous étonner encore.Je sais que nous ne serons pas déçus. En ces temps d'incertitude, nous savons, en effet, Madame la Présidente, que nous nous investissons dans une valeur sûre !Permettez-moi donc, Mesdames et Messieurs, de ne former qu'un seul voeu : celui voir se multiplier encore les prouesses scientifiques et technologiques dont l'Institut a le secret depuis maintenant 120 années. Je vous remercie.\",\n",
              "       \"s accueilli, de manière très positive, la décision prise par le président Poutine de nommer M. Kozak pour une réflexion sur le développement socio-économique dans le Nord-Caucase. Nous sommes convaincus, je l'ai dit à la tribune des Nations unies, qu'un monde plus sûr, un monde plus libre, sera d'abord un monde plus juste.Q - Il y a beaucoup de rapports américains ces derniers jours sur le fait que les Américains ont déjà des forces spéciales, des agents sur le terrain iranien pour effectuer une reconnaissance sur les cibles potentielles pour des raids aériens éventuels. Est-ce que premièrement, vous avez des inquiétudes là-dessus, et deuxièmement, est-ce que vous avez consulté les Américains et quelle a été leur réponse ?R - Ne me demandez pas de faire des commentaires sur les activités de renseignement de tel ou tel pays. Les Américains sont informés régulièrement, je l'ai fait moi-même à Washington il y a quelques semaines en allant voir et Colin Powell et Condoleezza Rice, de l'état de la négociation que nous avons engagée en toute transparence depuis 15 mois. Je parle de l'Allemagne, de la Grande-Bretagne et de la France, qui agissent en bonne intelligence avec nos vingt-deux partenaires européens, en bonne intelligence avec la Russie, qui je l'ai dit tout à l'heure, agit dans le même sens.Nous avons informé nos amis américains des résultats concrets, positifs, acquis à la mi-novembre dans cette négociation avec l'Iran. C'est une négociation qui est fragile et nous avançons les yeux ouverts, - nos yeux sont ouverts -, avec ce grand pays. Nous voulons aboutir à un accord politique, parce qu'il n'y a pas d'alternative, de notre point de vue, à cet accord politique, qui prévoit à la fois l'arrêt de toutes les activités d'enrichissement et de retraitement à des fins militaires, - il faut que l'Iran renonce à l'arme nucléaire - et naturellement que, dans le même temps, nous puissions aider ce pays à se développer, y compris pour la production d'énergie, dans les domaines du commerce, de l'industrie et dans son rôle politique. Voilà l'économie générale de ce dialogue que nous avons engagé et que nous poursuivons actuellement. Et, encore une fois, nous informons les Américains, qui ont marqué du scepticisme sur cette négociation. Nous voulons nous donner les moyens de réussir et nous sommes sur ce chemin-là.(\",\n",
              "       \" propos étaient prononcés. Aucun propos contraire aux lois de la République ne peut être toléré.La France est un pays laïc. C'est une évidence qu'il faut répéter, toujours expliquer. Faisons en sorte que l'égalité dans le choix, la liberté de parole et de conscience soient préservées pour chacune d'entre nous. C'est le gage de notre liberté, de notre égalité, de notre sororité et de notre fraternité.\",\n",
              "       \"chniques pour finaliser le texte. Je vais continuer à mobiliser mes homologues d'ici là. Le secteur de la création a été un soutien considérable dans l'aboutissement de cette réforme. J'aurai encore besoin de vous.Ce combat pour la régulation, je le porte également au niveau national. Et là aussi, l'enjeu, c'est de franchir le cap du numérique. L'enjeu numéro 1 : la lutte contre le piratage. La France est le pays du droit d'auteur. Elle ne peut tolérer que ce droit soit contourné, bafoué sur internet. Nous devons bâtir un cadre de régulation qui protège les créateurs du piratage. C'est un fléau. Il détruit la valeur que vous créez. Il détruit notre modèle à petit feu.La lutte contre le piratage est un vrai défi parce que les technologies évoluent constamment. La France a bâti un arsenal de lutte contre le téléchargement pair-à-pair, alors que le piratage se fait aujourd'hui en streaming ou en téléchargement direct dans 80% des cas.Nous allons agir sur toutes les formes de piratage :- en faisant évoluer le mécanisme de riposte graduée pour le téléchargement pair-à-pair ;- et, surtout, en créant des moyens de lutte contre les sites pirates. Je serai clair là-dessus : nous devons inlassablement lutter contre les sites pirate, les faire disparaître de l'internet, et les faire disparaître durablement. Et pour cela nous renforcerons les compétences de l'autorité en charge de la lutte contre le piratage, la Hadopi.Des « listes noires » vont être établies, pour permettre aux annonceurs, aux services de paiement et aux moteurs de recherche de connaître les sites illicites et de cesser leurs relations avec eux ; c'est inédit : jamais nous n'avons confié à une autorité publique la mission d'établir une liste noire, une liste « officielle » des sites et de l'actualiser très régulièrement.Ces listes noires serviront ensuite à la HADOPI pour prononcer des injonctions, directement ou sur décision d'un juge, afin d'empêcher l'accès aux sites pirates et d'assécher leurs ressources (publicité ou abonnements).C'est particulièrement important de confier ce pouvoir à la HADOPI pour les « sites miroirs », qui réapparaissent très vite même quand un juge a prononcé une décision de blocage. Je souhaite que le rôle et les pouvoirs de la HADOPI soient renforcés, et symboliquement, son nom modifié. Car nous entrons dans une nouvelle ère.La réforme sera intégrée dans la grande loi audiovisuelle, qui sera présentée d'ici la fin de l'année. Mais mon objectif est que, sur la lutte contre\",\n",
              "       \"s croyants de toutes obédiences comme des non croyants. Au fil des ans et de la jurisprudence, la laïcité s'est affermie comme principe et s'est affinée dans ses modalités. Nos concitoyens, de toutes opinions politiques y sont aujourd'hui fermement attachés et c'est une excellente chose.Aussi la diplomatie française, dont l'un des objectifs est de faire rayonner la pensée française, j'appelle cela la diplomatie d'influence, est-elle attachée à promouvoir la laïcité à la française à l'étranger. Entendons-nous sur le sens du mot «promouvoir». La laïcité à la française, inscrite dans notre constitution et définie par les grandes lois du début du XXème siècle et par la jurisprudence, est le fruit de notre histoire. Compromis entre des traditions différentes voire opposées mais qui, toutes, participent à notre identité, elle correspond à notre génie national et aux données particulières sur lesquelles notre pays a scellé son pacte national. Comme telle, elle ne peut pas être «un article d'exportation» et ne peut pas être transposée telle quelle dans d'autres contextes nationaux. Qu'il suffise de relever la très grande diversité des situations existant dans les pays de l'Union européenne, pourtant tous incontestablement démocratiques, depuis le Royaume-Uni où la reine est chef de l'Église anglicane, à la Belgique qui applique une laïcité ressemblant beaucoup à la nôtre, des pays concordataires comme l'Espagne et l'Italie à l'Allemagne où les citoyens payent l'impôt cultuel à l'Église de leur choix, de la Grèce où l'orthodoxie est religion de l'État à la Pologne où l'Église catholique conserve une très grande influence.Il n'en reste pas moins que, quel que soit le dispositif juridique retenu, les principes de la laïcité sont de portée universelle et nous paraissent indispensables à la paix civile, à l'intérieur de la Nation comme entre les nations. C'est pourquoi, la diplomatie française considère que l'une de ses missions est d'en faire la «défense et l'illustration».Ceci est d'autant plus nécessaire qu'il faut bien reconnaître que la laïcité française est souvent totalement incomprise par un public étranger qui n'en a qu'une connaissance superficielle et parfois biaisée au point qu'elle est parfois critiquée comme contraire au principe de la liberté religieuse. J'ai eu l'occasion de m'en rendre compte lorsque je donnais des cours à l'université de Chicago. Qu'on se souvienne, à cet égard, des polémiques, souvent très vives et pas toujours éteintes, suscitées pa\",\n",
              "       \"Mesdames et Messieurs les Présidents des Pays et Territoires d'outre-mer,Mesdames et Messieurs les députés,Mesdames et Messieurs les représentants des Etats,Mesdames et Messieurs les représentants de l'Union européenne,Mesdames et Messieurs,Nous sommes aujourd'hui réunis pour sceller les termes de l'association qui liera à compter de 2014 l'Union européenne et les pays et territoires d'outre-mer.Des pays qui constituent un ensemble d'une très grande diversité, mais des pays qui sont unis par leur volonté commune de renforcer leurs liens institutionnels et politiques avec l'Union européenne.Des liens dans la durée et dans le respect des spécificités de leurs territoires, pour former une véritable communauté de destin.Depuis 1957, c'est la 9ème décision d'association qui lie les PTOM et l'Union européenne.Elle est celle de la maturité de notre relation.Elle est aussi celle de la confiance renouvelée.Confiance, parce que nous avons su faire évoluer cette association vers une logique de partenariat renforcé, plus conforme aux liens historiques qui unissent ces territoires à l'Union et mieux à même de répondre aux défis globaux auxquels ils sont confrontés.Une association désormais orientée vers 3 objectifs prioritaires :- la promotion de la coopération ;- la lutte contre les vulnérabilités ;- et la compétitivité.Cette évolution était nécessaire pour contribuer à une meilleure insertion régionale et internationale des PTOM et pour leur donner les moyens de relever les défis économiques et environnementaux à venir.Parce que l'éloignement de l'Europe continentale ne signifie pas être préservé de la crise mondiale. Bien au contraire !Parce que même sur de petits territoires insulaires, la crise frappe violemment et ses effets y sont ressentis avec la même brutalité : chômage, récession et son lot de conséquences sociales insoutenables.Oui, cette nouvelle décision traduit notre volonté commune d'accompagner les PTOM sur la voie d'une meilleure insertion régionale, vers une compétitivité renforcée pour permettre à ces territoires de construire leur avenir, en s'appuyant aussi sur la solidarité européenne.Cette avancée, la France s'enorgueillit d'y avoir contribué avec l'appui actif et constructif de l'ensemble des PTOM français qu'elle a souhaité associer tout au long du processus de révision de la décision.Nous avons la conviction profonde qu'on ne construit un avenir solide qu'en facilitant les synergies des intelligences communes.Parce que nous sommes convaincus \",\n",
              "       \"e européenne sur la sécurité alimentaire devrait voir le jour prochainement ;troisième défi : la menace bioterroriste, qui concerne l'ensemble des pays européens. Le dernier Conseil des ministres de la santé (le 15 novembre) est ainsi parvenu à un accord sur quelques grandes orientations : mise en place d'un système concerté de surveillance épidémiologique, mise en place d'une équipe d'experts en charge de la synthèse des stratégies nationales de réponse à la menace bioterroriste, information mutuelle sur les capacités disponibles en matière de vaccins, sérums et antibiotiques et cartographie des capacités des laboratoires européens ;enfin, il y a les questions d'éthique qui ne peuvent se résoudre dans un cadre uniquement national : il est intolérable que des projets de clonage d'humains puissent être en cours dans des pays qui n'interdisent pas ce genre de pratiques. La France a demandé à l'ONU d'étudier la façon de mettre hors la loi ce genre d'expériences. A terme, il faudra qu'une cour pénale internationale dispose des moyens de sanctions nécessaires pour faire appliquer cette interdiction ;Notre conception de la santé porte un certain nombre de valeurs. Nous sommes également attachés à des modes de gestion qui permettent de garantir ces valeurs :l'organisation et la régulation publique du système de soins - qui est la seule à permettre de garantir les valeurs auxquelles nous sommes attachés. Elle ne s'oppose pas à la complémentarité entre secteurs privé et public ou à la possibilité de choix des usagers. En revanche, cette organisation publique s'oppose totalement - je l'ai déjà évoqué - à la conception du système de santé que propose le MEDEF ; la gestion des grands équilibres, et en particulier le niveau de prélèvements et la structure de ces prélèvements. Des réformes importantes ont été réalisées dans ce domaine, qu'il s'agisse de la création de la CSG ou des exonérations de cotisations sociales. Ces réformes ont contribué à baisser la part des salaires dans le financement de la sécurité sociale, avec un double bénéfice : d'abord, favoriser l'emploi et le pouvoir d'achat des revenus les plus modestes et ensuite, asseoir le financement de la sécurité sociale sur des bases qui n'oblige pas à arbitrer entre l'emploi et la santé ; Etre attaché à des valeurs ne signifie pas refuser le progrès : au contraire, la santé se modernise pour mieux répondre aux objectifs qui lui sont fixés. Les pratiques ou les équipements médicaux sont en perpétuelle évolutio\",\n",
              "       \"Messieurs les ministres,Madame et messieurs les parlementaires,Madame la vice présidente du Conseil régional,Messieurs les présidents des Conseils généraux,Mesdames et messieurs les élus,Mesdames et messieurs,Je voudrais vous dire d'emblée que je suis très heureux d'être ici avec vous, car je n'oublie pas que j'ai été un élu d'un de ces deux départements, si concernés par les projets de la Plaine de France.Pardonnez moi d'y insister un peu. Mais il y a moins de deux décennies, qui aurait parié sur les chances de ce territoire, de la Plaine St Denis à la Plaine de France? Ravagé par une désindustrialisation massive, appauvri par un chômage insupportable, ravalé injustement au rang le plus dégradé de la banlieue sans avenir, on mesure ce qu'il a fallu d'énergie, de volonté, de luttes pour redonner sa chance au nord- est de l'Île-de-France.Je veux rendre hommage, au nom du gouvernement, à celles et ceux qui ont été les rebâtisseurs d'espoirs de ce coin de l'Île-de-France, à tous ces élus, tous ces industriels, tous ces entrepreneurs, qui n'ont pas abandonné ces villes au triste destin apparemment programmé par la crise, la mauvaise réputation, voire la discrimination politique.Aujourd'hui, avec le retour de la croissance, avec le recul du chômage, peut s'amplifier le travail de correction, nécessairement inégalitaire, des inégalités accumulées. Pour chacun des territoires qui composent la Plaine de France, quel que soit le département concerné. Je vous le dis sincèrement, j'y compte et dans toute la mesure de mes moyens, j'y veillerai.Louis BESSON vient de rappeler tous les espoirs qui sont portés par la démarche lancée depuis maintenant deux ans sur la Plaine de France. C'est en effet en avril 1998 que nous avons signé, tous les deux, la lettre de mission qui chargeait Robert SAMMUT d'engager avec vous tous, sous l'autorité du préfet de région et en liaison étroite avec les préfets de départements, les échanges conduisant à un partenariat de projet entre l'État et les élus.Et ce partenariat pour un projet ambitieux en faveur de la Plaine de France, nous l'avons voulu parce que nous croyons en ce territoire, son dynamisme et ses potentialités, et aussi parce que nous refusons une lle de France à plusieurs vitesses. Nous devons mettre le retour de la croissance, que j'ai déjà évoqué, et les mutations économiques récentes, au service de l'évolution de territoires comme la Plaine de France, pour qu'ils aillent dans le bon sens, celui du développement et de la so\",\n",
              "       \"éplacée au Qatar le mois dernier. Je me rendrai prochainement dans les pays du Maghreb et du Machrek.Dans le cadre de l'Union pour la Méditerranée, j'ai souhaité l'élaboration d'un programme centré sur l'apport du droit aux politiques de croissance. Je réunirai au second semestre mes homologues des Etats membres de l'Union pour la Méditerranée sur ce sujet.Mesdames et Messieurs,Ces perspectives dessinent nos ambitions partagées pour la Justice. Leur mise en oeuvre nous occupera pour l'année 2010, et bien au-delà.Toutes visent un seul et même objectif : conforter la confiance des Français dans la justice rendue en leur nom.La confiance est la clé du bon fonctionnement de l'institution judiciaire. Elle contribue à l'unité de tous les Français.Je veux que les victimes puissent trouver écoute et protection auprès de l'institution judiciaire. Je veux que les Français connaissent, comprennent et mesurent ce qu'ils doivent à la justice de leur pays. Je veux qu'ils sachent pourquoi ils peuvent en être fiers, comme nous le sommes tous.Je veux ouvrir les portes de la justice. Je vous proposerai des actions dans ce sens dès le premier semestre.Soyons dignes de ce que nous sommes.Soyons fiers de ce que nous pouvons apporter à notre pays.Soyons assurés, Mesdames et Messieurs, que l'honneur de la Justice fait la grandeur de la France.A chacune et chacun d'entre vous, ainsi qu'à toutes celles et tous ceux qui font vivre la justice française, j'adresse mes voeux les plus sincères et les plus chaleureux pour l'année 2010.source http://www.justice.gouv.fr, le 22 janvier 201\",\n",
              "       \"traité que d'autres ministères, nous avons encore des besoins. Et j'ai compris assez tôt qu'il me serait possible de dépasser mes propres contraintes budgétaires en amplifiant mes capacités d'action et d'intervention par une inscription d'une partie de mes actions, des actions du ministère, dans des programmes transversaux. C'est ainsi que depuis un an, j'ai fortement mobilisé aussi bien le cabinet que l'administration dans des programmes interministériels et que nous avons pu engranger quelques acquis. Nous en avons engrangés dans la prise en charge en matière d'hébergement d'urgence, donc nous avons fait acter la prise en charge de personnes placées sous main de justice dans le contingent de cinq mille places d'urgence. Nous avons des partenariats sur le logement, donc nous avons dans le programme de la ministre du Logement aussi un dispositif qui permet l'accès à ces logements pour ces personnes placées sous main de justice. Nous avons un partenariat sur l'emploi, donc avec le ministère de l'Emploi ; une expérimentation sur sept départements de l'insertion par l'économie, donc d'expérience d'insertion par l'économie. Nous en avons aussi sur la santé, donc des partenariats que je développe sur la santé ; nous avons des groupes de travail avec la ministre de la Santé mais nous avons déjà ouvert des permanences d'addictologie. Nous travaillons à installer des référents justice dans les centres hospitaliers. Donc voilà, en mobilisant et en inscrivant les personnels passés sous main de justice dans les dispositifs gouvernementaux, et singulièrement dans le programme de lutte contre l'exclusion et la pauvreté, nous arrivons à amplifier les capacités d'action du ministère en dehors de mon propre budget. Pour les jeunes de dix huit à vingt-cinq ans par exemple, nous avons pu inscrire nos publics dans le programme garanti qui est un programme dont l'expérimentation va commencer en septembre, qui va concerner dix départements et qui permettra d'assurer un revenu du niveau du RSA à ces publics de dix huit/vingt-cinq ans et nous envisageons à terme de monter en charge et d'atteindre un nombre assez important de jeunes concernés par cela. Par ailleurs, nous avons en matière de formation professionnelle  parce que quand je dis qu'il faut vraiment préparer la réinsertion, c'est aussi par la formation professionnelle. Il y a une expérimentation qui a été conduite par deux régions  l'Aquitaine et le Pays de la Loire. C'est une expérimentation que nous avons évaluée, qui\",\n",
              "       \"Monsieur le président,Mesdames et Messieurs les sénateurs,Monsieur le sénateur, Je remercie monsieur Mer de me laisser la possibilité de vous répondre. Puisque vous m'avez mis en cause, il est normal que je m'adresse [à vous], et le respect que je dois à la Haute assemblée mérite que je vienne moi-même apporter les réponses que vous attendez. Et donc, comme il s'agit d'un sujet d'une extrême clarté, je n'ai vraiment aucune difficulté à m'exprimer devant vous. Vous avez dit qu'il ne fallait pas faire référence aux gouvernements du passé. Je suis bien d'accord avec vous, nous ne regardons d'ailleurs que l'avenir. Sur ces sujets-là, je voudrais vous dire que nous sommes dans une situation particulièrement préoccupante. Vous savez comme moi, qu'en 2006, les classes nées après la guerre vont partir à la retraite, et que donc on va avoir un gonflement statistique très important des retraités, à un moment où la population active, elle, va aller vers un rétrécissement de ses effectifs particulièrement important. Donc, nous sommes devant une vraie équation nationale difficile qu'il faut regarder en face. Je dois dire qu'il est très important que, dans le pays, on prenne conscience de cette réalité : aujourd'hui, l'avenir de notre système de retraites par répartition n'est pas assuré. Le Gouvernement que j'ai l'honneur de diriger entend bien assurer un avenir au système de retraites par répartition. C'est un engagement que nous avons pris, mais je dois vous dire qu'aujourd'hui, les éléments statistiques et financiers qui sont en ma possession ne me permettent pas de dire que cet avenir est assuré. Et j'entends bien faire en sorte que l'action que nous engagerons nous permette d'assurer cet avenir. Alors, qu'allons-nous faire ? Nous allons faire en sorte que, d'abord, sur ces sujets, une information nationale soit particulièrement diffusée et répartie pour que les Françaises et les Français participent à ce débat. Je vois, ici ou là, quelquefois, des tentations d'opposer le privé au public. Je ne souhaite pas qu'on oppose les Français les uns aux autres. Notre Gouvernement n'oppose pas les Français. Il cherche, au contraire, à les rassembler. Et donc, nous expliquerons. Nous expliquerons le statut des uns et des autres, l'histoire de ces statuts, pourquoi nous en sommes là, et donc les Français ont droit à l'explication, à l'information, sur le système de retraites tel qu'il a été, par l'histoire, construit. Donc, nous ferons ce travail d'information pour les uns et \",\n",
              "       \"été et les forces armées. Et je me réjouis de ce point de vue de tout ce qui peut se créer sur l'ensemble du territoire national, et notamment grâce à vous, pour attirer vers nous, pour montrer à la fois la simplicité et l'engagement de ce lien. Je me réjouis également de voir que les réservistes citoyens sont désormais épaulés dans leurs démarches par les réservistes locaux à la jeunesse. C'est là où l'on fait le lien avec ce dont je vous parlais tout à l'heure. Les réservistes locaux à la jeunesse et à la citoyenneté sont aujourd'hui de véritables relais de terrain, dont la fonction se précise jour après jour, notamment dans l'action qu'ils mènent auprès des jeunes et en particulier les jeunes des cités. Car c'est à eux, qui sont souvent dans les situations psychologiquement les plus fragiles ou les plus dramatiques, qu'ils peuvent offrir l'information et la perspective d'autre chose, de cette intégration, de cette promotion sociale dont je vous parlais tout à l'heure. Au-delà de ces actions, il y a - et c'est le deuxième point dont je voulais vous parler sur ces relations humaines à créer - une nouvelle relation à inventer avec la société civile au travers du monde l'entreprise. Je voudrais rappeler, au moment où parfois on critique le budget de la Défense, un certain nombre de vérités sur la place et le rôle que joue la défense dans la vie économique de notre pays. Car l'argent qui vient à la Défense n'est pas, comme le disait le Premier ministre ce matin, simplement de la dépense, c'est d'abord et avant tout de l'investissement.Parce que la moitié du budget accordé au ministère de la Défense repart vers l'investissement, vers les matériels.Nous sommes aujourd'hui le premier investisseur public, le premier passeur de commandes, si je puis dire, public de ce pays, avant même le ministère de l'Equipement et du Logement. La défense participe aussi à la formation de milliers de militaires qui, chaque année après cette formation, vont retourner à la vie civile et être insérés dans les entreprises à l'issue de leur contrat. La défense intéresse les entreprises parce qu'elle véhicule des valeurs qui lui sont indispensables. Je citerais simplement le sens de la mission ou l'esprit d'équipe. Les réservistes qui sont ici savent que ce sont des points sur lesquels je mets l'accent lorsque je parle aux chefs d'entreprise, en leur vantant la valeur ajoutée, si je puis dire, des réservistes au sein de l'entreprise. La réflexion sur l'entreprise au sein de la nation \",\n",
              "       \"e a pour contrepartie le respect des règles sociales du pays dans lequel un citoyen européen travaille. (M. Daniel Raoul opine.) Des dispositions extrêmement claires doivent être prises à cet égard, s'agissant des horaires de travail, du salaire minimum et de la protection sociale, ainsi que des mécanismes de contrôle et de la responsabilité des donneurs d'ordres.Ensuite, nous voulons promouvoir l'idée d'un salaire minimum dans tous les pays de l'Union européenne. Si l'Allemagne a adopté le sien, ce qui contribuera à assurer un meilleur équilibre au sein de la zone euro, d'autres pays ne disposent pas encore d'un tel dispositif. Nous souhaitons qu'une convergence se réalise sur ce plan, même si les niveaux des salaires dépendront évidemment des niveaux de développement des différents États membres.Enfin, nous considérons qu'une coopération et des orientations communes sont nécessaires en matière de politiques actives vis-à-vis du marché du travail, de régime de protection sociale et de droits à la formation tout au long de la vie. Tous nos pays réforment leur marché du travail en s'efforçant de le rendre plus fluide et plus favorable aux embauches, mais cette évolution doit avoir pour contrepartie des droits à la formation plus étendus et une protection renforcée pour les personnes privées d'emploi ; certains pays, en particulier dans le nord de l'Europe, ont montré la voie dans ce domaine.Tels sont, mesdames, messieurs les sénateurs, les objectifs qui nous guident en ce qui concerne le « triple A social » qui doit accompagner la réforme de la gouvernance et de la coordination des politiques économiques au sein de l'Union économique et monétaire.La stratégie numérique, qu'a évoquée André Gattolin, est tout à fait essentielle et doit évidemment comporter un aspect relatif à la cybersécurité.André Gattolin a également abordé la question de l'Arctique, sur laquelle il travaille beaucoup, nous le savons. La France a, avec l'Union européenne, trois objectifs dans ce domaine : protéger et préserver l'Arctique, en coopération avec les populations qui y vivent ; promouvoir l'utilisation durable des ressources ; renforcer la coopération internationale.En tant qu'observateur au sein du Conseil de l'Arctique depuis 2000, la France participe activement aux travaux des différentes tables rondes qui sont organisées. Nous connaissons, monsieur le sénateur, l'importance du travail que vous accomplissez pour assurer la cohérence entre la politique de protection de l'Arctiq\",\n",
              "       \"n gouvernement assume cette discipline budgétaire.Nous avons gelé les dépenses de l'Etat pour les 3 prochaines années. Nous avons depuis 2007 cessé de remplacer un départ de fonctionnaire à la retraite sur deux.Nous nous sommes engagés à réduire de 10% en trois ans les moyens de fonctionnement des administrations, dont 5% dès cette année.Nous avons gelé tous les transferts aux collectivités territoriales, c'est une première dans l'histoire récente de notre pays.En juin, le parlement va débattre d'une réforme constitutionnelle sur l'équilibre global de nos finances publiques.Si l'Allemagne a contribué à réinstaurer en Europe plus de responsabilité financière, de son côté, la France a toujours milité pour une coordination plus étroite entre les économies de la zone Euro et je me réjouis de voir que votre pays partage désormais cet impératif.Plus de rigueur économique, plus de coordination politique, mais aussi plus de compétitivité: c'est le cap que l'Union européenne doit se fixer.La France a fait de l'innovation l'un des axes stratégiques de sa compétitivité.Nous avons développé 71 pôles de compétitivité qui facilitent le travail en réseau entre grandes entreprises, PME et laboratoires de recherche.En 2008, nous avons triplé le crédit d'impôt-recherche.Les investisseurs étrangers ont plébiscité cette mesure qui allège de 30% les dépenses de R&D. Et la France est désormais le premier pays européen pour l'implantation de centres de recherche.Enfin, nous avons lancé un programme exceptionnel «d'investissements d'avenir» qui consacre 35 milliards d'euros à l'économie de la connaissance.L'université, la recherche, l'industrie et les nouvelles technologies, le numérique, les biotechnologies, le développement durable, en seront les grands bénéficiaires. En comptant les participations des entreprises, nous allons mobiliser sur ces investissements d'avenir 60 à 65 milliards d'euros.Cette stratégie en faveur de l'innovation s'inscrit dans un grand mouvement de réformes comme notre pays n'en n'avait pas connu depuis longtemps.C'est la réforme des universités, qui ont gagné leur autonomie et ont vu leurs moyens financiers très largement renforcés.C'est la réforme des retraites, avec le report de l'âge légal de départ à la retraite à 62 ans et à 67 ans pour une retraite à taux plein.C'est la réforme du droit du travail, pour que les entreprises puissent adapter leur production sans être pénalisées par la durée légale du travail.C'est la réforme de la fiscalité des entr\",\n",
              "       \"Monsieur le Sénateur, mon gouvernement a un cap, et il s'y tient fermement. Il fallait redresser le pays, rétablir nos comptes publics et restaurer la compétitivité de nos entreprises. Progressivement, en faisant preuve à la fois de lucidité, de modestie bien sûr, et de détermination, nous sommes en train d'y parvenir.(...)Mon gouvernement a en effet présenté hier matin son programme de stabilité. Christian Eckert l'a soumis, avec talent je suppose, à la commission des finances du Sénat. Ce programme dessine la stratégie des finances publiques de la France pour les trois prochaines années et fixe des objectifs clairs, que vous avez rappelés : le redressement de l'économie française et la poursuite de l'assainissement de nos comptes publics.Oui, les comptes publics étaient dégradés. Nous les remettons à flot en réalisant des économies sur les dépenses publiques (...) : ces économies atteindront 50 milliards d'euros sur la période 2015-2017.(...)Le déficit public pour 2014 s'établit à 4 %. C'est mieux que prévu et, dans un contexte difficile, c'est mieux que les années précédentes ! En outre, pour la première fois depuis 2009, les prélèvements obligatoires se sont stabilisés (...). Cette dynamique de redressement des comptes publics va se poursuivre, à un rythme ne remettant pas en cause la reprise de la croissance, car nos priorités sont de préparer l'avenir, de lutter contre les inégalités et de tout faire pour la croissance et pour l'emploi. C'est pour cela que nous avons décidé de conforter le pouvoir d'achat des ménages. Ainsi la baisse de l'impôt sur le revenu que nous avons décidée l'année dernière concernera-t-elle 9 millions de ménages à la rentrée.(...)Nous avons mis en oeuvre des politiques de soutien aux entreprises, qu'il s'agisse du CICE, le crédit d'impôt pour la compétitivité et l'emploi, ou du pacte de responsabilité et de solidarité, pour un montant de 40 milliards d'euros sur quatre ans.Ces politiques ont permis de diminuer le coût du travail, certes dans un contexte européen et international qui s'améliore, du fait, bien sûr, de la baisse du prix du carburant et du pétrole. Si ce dernier coût avait augmenté, on nous aurait demandé de prendre un certain nombre de mesures, mais tel n'est pas le cas, et c'est tant mieux pour nos entreprises et pour les ménages.La France a obtenu une baisse des taux d'intérêt et de l'euro, comme elle le réclamait depuis trois ans et comme je l'avais appelé de mes voeux dans mon discours de politique générale.\",\n",
              "       \"manité et l'idéal inachevé de notre République.N'y a-t-il plus dans le monde d'injustices, d'atteintes à la dignité humaine, de nouvelles formes de servitude et d'esclavage qui nous révoltent ?Le racisme, l'antisémitisme, la ségrégation, la discrimination, la marchandisation de l'Homme, ont-ils à ce point disparu que notre conscience puisse rester en paix ?Avons-nous assez lutté contre la misère qui dégrade l'Homme et qui le pousse à subir la loi du plus offrant que nous puissions dormir tranquille ?Avons-nous assez fait pour la liberté, l'égalité et la fraternité que nous puissions nous tenir quitte de tout ?Un poète africain a écrit :« Ma mémoire n'est pas courteJ'ai une mémoire longue, longue, infinie (...)Ma mémoire est celle de mes frères et de mes s\\x9cursCelle de mes pères et mèresCelle de toutes les générationsDe mon peupleQui a souffertTout le temps.Affamés exsanguesCriblés de blessuresDes centainesDes millionsDe travailleurs forcés déplacésOnt souffert leur martyre.Ma mémoireQui jugeQui condamneNe pardonne pas ».Comment pardonner ce qui est impardonnable ?Il ne faut pas pardonner. Il ne faut pas oublier. Pour rester éveillé, vigilant, attentif, la conscience en alerte.Car si nous ne sommes pas responsables des fautes de nos aïeux, nous ne pouvons pas nous exonérer de la responsabilité de celles que nous pourrions commettre en invoquant la terrible excuse des lâches : « nous ne savions pas ! ».Car c'est à nous de savoir et c'est à nous d'agir.Toussaint et Sch\\x9clcher firent ce qu'ils avaient à faire.Les Justes firent ce qu'ils avaient à faire.Permettez-moi de finir sur cette question qui devrait sans cesse tourmenter notre âme :« Et nous ? ».Vive la République !Vive la France !\",\n",
              "       \"porté d'importants succès : nous avons neutralisé de nombreux chefs terroristes et plus de 200 combattants. Les opérations les plus récentes, menées dans la région de Mopti en liaison avec les forces maliennes, ont porté un très rude coup à la Katiba Macina. Pour panser les plaies de cette région, de grands moyens sont nécessaires. Barkhane est une chose, le G5 Sahel en est une autre. C'est parce que nous n'avons pas vocation à rester indéfiniment au Sahel que nous réalisons des efforts importants pour soutenir et former les forces armées des cinq pays concernés ainsi que la force conjointe. Nous ne menons pas Barkhane en solitaire : si nous sommes partis seuls au Mali, nous bénéficions aujourd'hui du soutien des Américains dans de très nombreux domaines, mais aussi de celui des Britanniques, des Estoniens, des Espagnols et des Allemands. Nous pouvons également compter sur nos partenaires de la Minusma. Au-delà de l'aspect militaire, nous intervenons pour porter secours aux femmes, aux hommes et aux enfants qui vivent sur place, par des actions civilo-militaires. En 2018, nous avons prodigué en moyenne 300 soins médicaux par jour aux populations maliennes, tchadiennes et nigériennes. Je suis la première convaincue que la solution au Sahel n'est pas militaire, mais politique. Elle passe par des progrès attendus de l'Etat malien pour réinvestir certaines zones du territoire. C'est l'Etat malien qui peut restaurer la stabilité à long terme du pays. Le Premier ministre s'entretiendra prochainement avec son homologue malien, qui a pris des engagements importants en matière de rétablissement de l'autorité de l'Etat dans certaines zones que celui-ci avait désertées. À ce stade, ces engagements semblent être tenus. Je reviendrai certainement devant votre commission pour vous en dire davantage. Quelques mots des autres opérations extérieures en cours. En Centrafrique, où l'actualité est brûlante, la France est intervenue, dans le cadre de l'opération Sangaris, entre 2014 et 2016. Nous sommes parvenus à stabiliser le pays et à accompagner le déploiement de la communauté internationale à travers les missions des Nations unies et de l'Union européenne. Notre engagement au sein de ces missions vise aujourd'hui à former l'armée centrafricaine. Il sera renforcé au second semestre de cette année, puisque nous prendrons le commandement de la Mission de formation de l'Union européenne en République centrafricaine (EUTM RCA). Comme au Sahel, notre intervention a vocation à r\",\n",
              "       \"Monsieur le Sénateur, président du Conseil général du Vaucluse,(Claude HAUT)Monsieur le Député,Cher Thierry MARIANI,Monsieur le Conseiller général,(Jacques BOMPARD)Monsieur le Maire,Cher Jean-Pierre BOISSON,Monsieur le Préfet,(Jean-Michel DREVET)Général Georges CHARIGLIONE,Commandant la région de gendarmerie de Provence Alpes Côte d'Azuret la gendarmerie pour la zone de défense-Sud,Mesdames et messieurs les officiers, sous-officiers et gendarmesadjoints volontaires,Mesdames et messieurs,Cher(e)s ami(e)s,Je suis très heureux de me retrouver parmi vous, ce matin, à l'occasion de la pose de la première pierre de la future gendarmerie de CHATEAUNEUF-DU-PAPE.Cette visite, qui intervient quelques jours après que la France a rendu, de manière unanime, un hommage à tous ses soldats lors de la fête nationale du 14 juillet, est également pour moi l'occasion de vous exprimer ma confiance, celle du Gouvernement et celle de la Nationtoute entière.En effet, hier au ministère de la Défense, aujourd'hui au ministère de l'Intérieur, comme l'ensemble de nos concitoyens dans leur vie quotidienne, je sais combien les conditions dans lesquelles vousintervenez sont complexes et dangereuses.Je sais tout autant avec quels discernement, courage et efficacité vous accomplissez l'ensemble de vos missions.Mesdames et messieurs,Ces missions, vous les conduirez dans un cadre nouveau qui sera, au 1er janvier 2009, celui du ministère de l'Intérieur.Il ne s'agit pas de vous demander de renoncer à votre culture, à votre histoire, à votre identité.Chacune, police et gendarmerie, a la sienne propre.Il s'agit en revanche de renforcer les coopérations, de développer les mutualisations?et donc tout simplement de vous faire mieux travailler ensemble pour être plus efficaces.Il faut donc trouver ce juste point d'équilibre entre le statut militaire et la mission de sécurité qui est principale et qui doit s'exercer en totale cohérence et sans redondance avec la police nationale.C'est tout le sens de la future loi relative à la gendarmerie nationale redéfinissant son fonctionnement.Le ministre de l'Intérieur définira désormais l'emploi, l'organisation, les objectifs, les moyens d'investissement et de fonctionnement des deux forces toutes deux placées formellement sous l'autorité des préfets.Ce rattachement unique permettra de mieux identifier les axes de mutualisation et de complémentarité.Par ailleurs, s'il existe un important espace de mutualisation avec la police dans les domaines opérationnels e\",\n",
              "       \" sur le nouveau projet de décret. Ces travaux montrent une réelle volonté de renforcer l'organisation économique des producteurs, partagée par votre organisation et ses partenaires dans la filière. Dans cet objectif, nous amplifierons la dynamique lancée en 2005 sur les projets filières. Je souhaite, par ailleurs, un soutien spécifique à l'engraissement dès cette année. Enfin, avec le nouveau système de signes de qualité plus clair et plus lisible, les éleveurs peuvent positionner leurs productions dans une logique de démarche commerciale.La loi d'orientation agricole définit trois types de signe : - les signes liées à une qualité supérieure, à l'origine, à la tradition ou à la qualité environnementale - les mentions valorisantes (fermier, montagne par exemple) qui font l'objet d'un étiquetage particulier ; - la certification des produits (CCP) permettant d'identifier une ou plusieurs caractéristiques spécifiques des produits et de la reproduire tout au long de la chaîne de production et de transformation. Un nouvel institut de l'origine et de la qualité est créé. Une ordonnance, dont le contenu sera établi en étroite concertation avec les professionnels concernés, précisera les modalités d'application de ce nouveau dispositif. Nos races sont connues et réputées en France et à l'international. Valorisons les, avec le concours du Centre d'Information des Viandes (CIV). CONCLUSION Messieurs les Présidents,Mesdames, Messieurs, En venant ici à votre assemblée générale, Monsieur le Président, j'ai pu constater la détermination des acteurs de votre fédération à franchir les obstacles, à définir des perspectives claires. C'est une motivation sans faille que je partage. Je la retrouve dans votre opération de soutien de la charte des bonnes pratiques d'élevage sous la Tour Eiffel, à l'occasion du 120 000ème éleveur ayant adhéré à la charte. Je suis à vos côtés pour réussir les évolutions engagées dans le cadre de la PAC et au niveau international. La présence du Premier Ministre, trois mois après sa prise de fonction, au SPACE à Rennes, témoigne de son intérêt fort pour votre filière. Ensemble, nous relèverons le défi de 2013, sans renoncer à notre vision d'une agriculture dynamique et présente sur tous les territoires. Nous nous y préparons dès maintenant. Je vous remercie de votre attention.\",\n",
              "       \"mission. Il vous sera demandé :- de supprimer les dispositions relatives au Président de la République et au Conseil constitutionnel, qui ne relèvent pas de la loi ordinaire ;- de fixer vous-mêmes les obligations déontologiques auxquelles les représentants d'intérêts seront soumis, conformément à l'article 34 de la Constitution ;- de substituer à la sanction pénale, sans doute excessive, que la commission a prévue, en cas de méconnaissance par un représentant d'intérêts de ses obligations déclaratives, une sanction administrative, mieux adaptée à la nature des manquements en cause, qui pourra être prononcée par la HATVP.Je dois enfin ajouter que je ne vois qu'avantage à ce qu'un registre unique, commun au Gouvernement et au Parlement soit adopté et à ce que les représentants d'intérêts soient tous soumis aux mêmes obligations déclaratives et déontologiques. De telles mesures seraient des simplifications appréciées.Dans ces conditions, le répertoire des représentants d'intérêts sera un outil au service de nos concitoyens, qui participera utilement à l'entreprise de re-légitimation de l'action publique, engagée par ce Gouvernement et profitable à tous.Faire plus de transparence sur les relations entre les représentants d'intérêts, dont l'activité sera bien encadrée, et les pouvoirs publics constituera, je le répète, une avancée pour l'intérêt général.3EME AXE : LA LUTTE CONTRE LA CORRUPTIONVous le savez, la France est encore mal notée par des organisations internationales, comme l'OCDE ou des organisations non gouvernementales, comme Transparency International France. Il lui est reproché de manquer encore des dispositifs suffisamment puissants pour prévenir la corruption transnationale.Et il est à noter que la justice française n'a condamné définitivement aucune société française pour corruption active d'agent public étranger depuis 2000, date de la création de cette infraction. En revanche, certaines de ces sociétés françaises ont été sanctionnées, parfois lourdement par des justices étrangères.C'est de toute évidence une situation inacceptable, in fine nuisible à notre image et à la souveraineté de la France mais également à nos entreprises. C'est ce retard que nous avons voulu combler pour mettre notre pays au niveau des grandes démocraties modernes.Il s'agit d'abord de mieux prévenir et détecter la corruption. Le projet de loi prévoit à ce titre la création de l'Agence nationale de prévention de la corruption, qui remplacera le Service central de prévent\",\n",
              "       \"e ces travaux progresseront rapidement. Je ne doute pas, non plus, que la SLN et l'économie du nickel calédonien aient un bel avenir devant eux. Et je sais que la question du nickel est indissociable de l'avenir politique de ce territoire.L'Etat a toujours été aux cotés de la Nouvelle Calédonie. Ensemble, nous avons traversé déjà bien des crises. Unis, il sera non seulement possible de surmonter celle-ci, mais aussi de préparer les années qui viennent.Je vous remercie.\",\n",
              "       'r bénéficier d\\'une formation agricole, - que dans les zones de déprise, conciliant à la fois prévention des risques naturels (incendies, avalanches, inondations), et redynamisation sociale des territoires.Cette redynamisation des territoires fera partie des enjeux de la nouvelle étape de la décentralisation dont le Premier Ministre a donné récemment le signal du départ à la demande du Président de la République. Nous aurons certainement l\\'occasion d\\'en reparler ensemble très prochainement. La réflexion est lancée. Mais pour ce qui concerne spécifiquement le patrimoine naturel, il m\\'apparaît que cela mérite une réflexion et un débat approfondis.L\\'année 2003 doit permettre ce travail de concertation et d\\'approfondissement en vue de proposer les bases d\\'une nouvelle politique publique en faveur de la nature, de la biodiversité et des paysages, qui pourrait se traduire à partir de 2004 par des avancées réglementaires, voire législatives, par exemple une loi pour le \" Patrimoine naturel \".La protection et la gestion de la nature est assurément une politique complexe, par l\\'étendue géographique couverte et la multiplicité des enjeux. Elle intéresse nécessairement tous les niveaux d\\'administration territoriale, et soulève la difficulté de définition du bon niveau de cohérence locale parce que, en matière de biodiversité comme d\\'ailleurs en matière d\\'eau -, la réalité biogéographique l\\'emporte sur l\\'organisation administrative.L\\'année 2003 sera aussi celle de l\\'élaboration du plan d\\'action biodiversité, qui est la déclinaison nationale de la convention sur la diversité biologique.C\\'est également en 2003 que la France défendra auprès de ses collègues paneuropéens à Kiev, le projet d\\'une conférence conjointe ministres de l\\'agriculture et ministres de l\\'environnement en 2005 à l\\'échelle des 55 pays du Conseil de l\\'Europe.Je voudrais maintenant aborder quelques chantiers sur lesquels je souhaite que nous avancions ensemble dans les mois qui viennent. 1er chantier : la Charte de l\\'Environnement : la biodiversité doit être un paramètre important à prendre en compte : la contribution de la LPO est donc très attendue aux travaux de préparation de la charte pour l\\'environnement que le Président de la République a souhaité adosser à la Constitution. 2ème chantier : vers un développement agricole plus durable :- des travaux en commun, ministère de l\\'agriculture et ministère de l\\'écologie et du développement durable, s\\'organisent pour réfléchir à l\\'élaboration de la stratégie',\n",
              "       \"tte contre l'insécurité doit se poursuivre sur trois fronts.Premier front, celui de la lutte contre la délinquance.Je veux rendre hommage à votre mobilisation : elle a permis des résultats exceptionnels qui n'ont cessé de s'amplifier. Depuis le début de l'année c'est une baisse de 4,2% ; La délinquance de voie publique recule de près de 9% : concrètement, cela signifie plus de 150 000 victimes épargnées.  Pour la première fois depuis 1997 les violences physiques contre les personnes sont stabilisées. Nous avons inversé la tendance. Il faut maintenant accentuer cet effort, en particulier pour les violences aux personnes et les violences urbaines. Je m'engage à donner aux forces de sécurité en 2005 des moyens supplémentaires tant en effectifs, qu'en matériel et moyens de communication.  J'ai donné instruction aux Préfets de région de procéder à des réunions au moins trois fois par an, afin d'évaluer les résultats et d'adapter les pratiques. Deuxième front : répondre aux nouvelles formes de violence et de criminalité. Dans la lutte contre le terrorisme, nous devons avancer dans deux domaines.  Premièrement, dans le domaine du renseignement j'ai décidé la constitution de pôles de lutte contre l'islamisme radical au niveau de chaque région. Vous pourrez vous inspirer du travail remarquable fait par la préfecture de police de Paris : en 2003 il y avait 30 lieux liés à l'islamisme radical en Ile-de-France ; il y en 20 aujourd'hui. Jean-Paul Proust, qui a accepté de continuer à servir auprès de moi, reste à votre disposition pour vous aider à mettre en place ces structures. Deuxièmement, vous devez décloisonner davantage les services. Je pense aux services de la réglementation des préfectures pour lutter contre la fraude documentaire ; aux services de l'aviation civile, aux douanes, à la gendarmerie et à la police aux frontières, afin de renforcer la sécurité des aéroports de province ; je pense aux services de la protection civile et des SDIS, pour vérifier la capacité de réponse aux menaces NRBC ou pour renforcer la protection des Etablissements recevant du public, notamment autour des sites nucléaires. Troisièmement, dans le domaine de la sécurisation des titres d'identité, vous serez aidés à partir de 2006 par l'introduction des procédures biométriques, notamment pour les passeports, mais aussi pour la carte nationale d'identité, les titres de séjours et les visas.  Dans la lutte contre la drogue, la clé pour démanteler la criminalité organisée, c'est la traça\",\n",
              "       \"ant la fin de l'année 2018, et le nombre de décisions au bénéfice des victimes progressera de façon très significative en 2019.Les crédits inscrits à ce budget et les reports d'un exercice sur l'autre qui interviendront à hauteur de plus de 30 millions d'euros garantiront un financement de l'ONIAM cohérent avec les demandes d'indemnisation.Le Gouvernement soutiendra l'amendement des sénateurs du groupe La République En Marche, qui ont par ailleurs souhaité vous proposer d'améliorer le dispositif d'indemnisation en permettant le réexamen des demandes d'indemnisation ayant fait l'objet d'un rejet lorsque l'évolution des connaissances scientifiques le justifie.Le deuxième programme de la mission, le programme 183, est consacré pour l'essentiel à l'aide médicale de l'État, l'AME.Je suis, vous le savez, très attachée à la préservation de ce dispositif, qui est à la fois un dispositif humanitaire, conforme à nos valeurs républicaines, et un dispositif sanitaire nécessaire, répondant à un intérêt de santé publique pour tous nos concitoyens. Les crédits qui y sont consacrés augmentent ; ils s'élèveront, en ce qui concerne l'AME de droit commun, à 893 millions d'euros en 2019, en ligne avec la progression attendue des effectifs, même si, en la matière, la prévision demeure très complexe.Il n'est pas inutile de le préciser une nouvelle fois, ces crédits servent à financer des prestations de santé dispensées, pour l'essentiel, par les hôpitaux de notre pays et permettent donc d'éviter que les établissements de santé ne supportent seuls la charge correspondante. Toute diminution de ces crédits, comme proposée par votre commission des finances à travers un amendement, se traduirait par un report de charge sur les hôpitaux.Comme j'ai eu l'occasion de l'indiquer lors de l'examen du projet de loi de règlement de 2017, nous devons encore progresser en matière de connaissance des dépenses et des bénéficiaires de l'AME. C'est une de mes priorités. J'ai ainsi demandé à la CNAM de développer la qualité des remontées d'information. Ces données nous permettront de mieux analyser les flux et d'améliorer la prévision. La centralisation, en 2019, de l'instruction des demandes d'AME dans trois caisses  celles de Bobigny, de Paris et de Marseille  contribuera aussi à la connaissance plus fine du dispositif.Je souhaite, pour terminer, évoquer le Fonds d'indemnisation des victimes de l'amiante, le FIVA, qui relève également du programme 183.Les crédits du budget de l'État destinés à do\",\n",
              "       \" les institutions. 3. L'évaluation de l'action publique est votre troisième mission. . Evaluer, c'est accepter de se remettre en question. Pour les pouvoirs publics, c'est une exigence. La mission d'évaluation de l'Observatoire vous donne à cet égard une obligation particulière.. La première évaluation concerne notre façon de réglementer. La surabondance des réglementations bride les initiatives, leur instabilité fragilise les politiques durables. C'est en amont qu'il faut évaluer son utilité et son insertion dans les règles existantes.Moderniser notre façon de réglementer exige aussi que le pouvoir central donne aux collectivités territoriales la liberté d'exercer pleinement leurs compétences. C'est pourquoi le Gouvernement a pris l'engagement de ne plus intervenir dans la mise en oeuvre des politiques publiques relevant des décideurs locaux.La Conférence nationale des exécutifs permettra d'associer en amont les collectivités territoriales pour évaluer les conséquences qu'auront pour elles les évolutions législatives et réglementaires. Sur ma proposition, une Commission consultative sur l'évaluation des normes (CCEN) sera mise en place au sein du Comité des finances locales. . Evaluer l'action publique, c'est aussi prendre le temps de juger ses propres résultats.L'Etat a systématisé cette démarche d'évaluation à travers la loi organique relative aux lois de finances (LOLF). La revue générale des politiques publiques procède de la même ambition, de la même exigence de qualité.Nombreuses sont les collectivités territoriales qui se sont engagées dans des démarches comparables. Certaines ont recours à des cabinets d'experts, d'autres adaptent la LOLF à leurs budgets.Dans un temps où le changement, l'adaptation, l'innovation sont nécessaires au développement de notre pays, les collectivités territoriales constituent pour nos concitoyens un appui et un repère. Elles sont aussi une force pour l'Etat, dans le cadre d'un partenariat réel et sincère. Cet équilibre entre l'Etat et les collectivités territoriales est un des fondements de notre pacte républicain.Nous devons moderniser cet équilibre et libérer les initiatives des collectivités.Notre démocratie des territoires, démocratie de proximité, d'engagement et d'action, en sortira renforcée.Je vous remercie.\",\n",
              "       \"énergie est un défi pour la Chine, comme pour le reste du monde. Avec le nucléaire, la France, dans le contexte des chocs pétroliers des années 70 et 80, a développé des réponses éprouvées à ce problème majeur. Les propositions que nous formulons à la Chine en matière d'énergie électronucléaire, nous nous les sommes appliqués à nous-mêmes sur l'ensemble de la filière avec les meilleures conditions de sécurité que nous trouvons dans le monde. De même, en matière de transport ferroviaire, la France a une expérience de 25 ans dans la grande vitesse et la SNCF gère l'un des réseaux ferroviaires les plus performants et les plus sûrs du monde. L'année de la France en Chine est un moment privilégié pour mettre en valeur nos filières d'excellence. Ce fut le cas de l'aéronautique, du ferroviaire, du nucléaire et de ceux que je viens de citer. Permettez-moi de remercier tous ceux qui ont participé, côté français comme côté chinois, à cette dynamique de l'année de la France en Chine. Merci à Henri PROGLIO, merci à tous les entrepreneurs qui se sont engagés dans cette proximité entre nos deux pays, à la fois proximité politique, proximité culturelle et proximité industrielle. Ces filières d'excellence qui sont apparues ainsi dans nos échanges sont évidemment, pour nous, l'occasion de développer la recherche et d'associer toutes les entreprises qui participent à l'innovation et au développement de l'emploi dans notre pays. La Chine est en train de réaliser un programme de développement de ces infrastructures collectives à un rythme particulièrement rapide, fulgurant. La France est disposée à prendre toute sa place dans ce développement et nous avons bien reçu le message des autorités chinoises qui nous demandent de ne pas nous contenter d'exporter mais aussi de réaliser des transferts de technologies. Quand la Chine se développe, elle s'équipe, elle investit dans des machines, dans des technologies, elle consomme nos produits. L'intérêt du développement de la Chine est évident pour l'ensemble du monde, et notamment pour l'Union européenne. L'Union européenne et la Chine constituent, en effet, deux pôles majeurs de l'économie mondiale et elles ont, toutes les deux, intérêt à des échanges loyaux et équilibrés. La Chine est appelée à jouer un rôle croissant dans le monde. Elle participera de plus en plus au dialogue économique international. J'ai pu noter le sens des responsabilités des responsables chinois, mesurant les conséquences de la croissance chinoise sur l'ensemb\",\n",
              "       \" c'est le gouvernement de la gauche plurielle qui lui a servi de tremplin pour revenir au pouvoir et partir de plus haut à l'attaque des classes populaires. Bien des mesures anti-ouvrières décidées par le gouvernement de droite ont été préparées dans les ministères de la gauche. La liste des médicaments à dérembourser présentée par Mattéi, a été élaborée par les services de Martine Aubry. Et chaque travailleur peut faire le constat à partir de sa propre vie, celle de sa famille, de son entourage, de son atelier ou de son bureau, que la situation des travailleurs se dégrade sans discontinuité depuis 25 ans, quel que soit le gouvernement. La gauche peut relayer la droite, puis la droite relayer la gauche, l'évolution générale va toujours dans le même sens. La vie devient sans cesse plus difficile, la menace du chômage permanente, le pouvoir d'achat stagnant ou en diminution, même pour ceux qui ont du travail. L'avenir est de plus en plus bouché pour les jeunes. Les élections régionales constitueront une occasion de condamner cette politique. Il ne faut pas la laisser passer.  Le Parti socialiste voudrait que l'écoeurement devant la politique de la droite s'exprime par un vote en faveur de ses listes. Mais ce serait une démarche de dupes car le Parti socialiste, lorsqu'il était au gouvernement, a mené lui aussi une politique en faveur des possédants. La gauche et la droite n'ont pas le même langage car elles ne s'adressent pas au même électorat. Mais, une fois au gouvernement, elles gèrent les affaires du pays dans l'intérêt du grand patronat. Les listes LCR-LO sont les seules qui permettent d'exprimer le rejet non seulement de la droite et de ses hommes, mais aussi de sa politique. Elles sont les seules à offrir aux électeurs un véritable choix social et politique. Un vote, même massif, en faveur de ces listes ne suffira pas en lui-même pour changer le rapport des forces entre les travailleurs et le patronat. Mais il permettra aux électeurs des classes populaires de se prononcer sur une politique qui soit à l'opposé de celle qui est mené depuis 25 ans. Le fil conducteur de la politique de tous les gouvernements depuis 25 ans consiste à prendre aux travailleurs, aux classes populaires, pour redistribuer au grand patronat et à la bourgeoisie.  Il faut une politique qui, au contraire, prenne aux riches pour réduire les inégalités, mettre fin au chômage, à la précarité, pour assurer aux travailleurs et aux retraités des revenus qui permettent de vivre convenable\",\n",
              "       \"Monsieur le Président du MEDEF Guyane (Adrien AUBIN), Mesdames et Messieurs, Chers Amis, Je suis heureux d'être parmi vous aujourd'hui pour l'ouverture de l'Assemblée générale du MEDEF de Guyane. « L'entreprise, c'est la vie », « L'entreprise, c'est ma vie », ces deux thèmes de l'Assemblée générale du MEDEF national, qui se s'est tenue à ARC et SENAN début janvier, illustrent parfaitement la nouvelle ambition que s'est fixée votre nouvelle présidente : réconcilier les Français avec l'entreprise. Une ambition qui me paraît légitime et qui prend, ici en Guyane, une dimension particulière. Notre département représente en effet un véritable challenge pour les entrepreneurs car les contraintes -éloignement, isolement, enclavement, étroitesse du marché local - y sont nombreuses. La situation économique guyanaise reflète ces conditions particulières : le taux de chômage reste très supérieur à celui de la métropole. Parallèlement, de nombreuses offres d'emplois ne trouvent pas preneur en raison d'une faible adéquation entre les besoins des employeurs et les qualifications recherchées malgré le talent des jeunes guyanais, toujours plus nombreux sur le marché du travail. Une autre évolution me préoccupe : alors que l'emploi public représente déjà 40% du total, on assiste, dans le même temps, à une diminution du nombre d'emplois marchands. Or, la Guyane recherche toujours son autonomie de développement. Et nous devons malgré tout nous souvenir qu'à chaque opportunité tournée vers le secteur marchand, des voix, toujours les mêmes, se sont élevées pour condamner ces projets. Quelques exemples : que serait aujourd'hui la Guyane sans le centre spatial ou sans les cultures maraîchères des M'hongs. Ne reproduisons pas les mêmes erreurs avec CAMBIOR, qui pourrait générer près de 400 emplois directs. Dans cette affaire, votre responsabilité est déterminante : vous ne devez pas vous contenter de votre rôle de chef d'entreprise. Vous devez militer activement en faveur de l'emploi marchand, conformément à votre engagement au sein du mouvement patronal. Car la Guyane recèle une source extraordinaire de richesses.Richesse d'appartenir à une région en devenir avec l'émergence d'une grande puissance mondiale comme le Brésil tout proche.Richesse issue de la formidable biodiversité, dont le potentiel est encore largement sous-exploité sur le plan technologique, médical, touristique.Sans parler du secteur minier, forestier et agricole.Richesse aussi que cette population composée à 53%\",\n",
              "       'rnot, je l\\'ai déjà dit en d\\'autres occasions, sont la meilleure passerelle entre la recherche et le monde économique, à l\\'image des Fraunhofer en Allemagne.Le réseau Carnot, les présentations précédentes l\\'ont montré, mobilise une part importante de la recherche publique française : 20 000 professionnels de la recherche et 7 500 doctorants au c\\x9cur des enjeux de compétitivité par l\\'innovation de notre pays. Les 34 instituts Carnot sont répartis sur l\\'ensemble du territoire français, ils participent à la plupart des pôles de compétitivité, sont initiateurs ou acteurs d\\'un grand nombre de plateformes technologiques. C\\'est une force de frappe exceptionnelle.En 2012, le réseau Carnot a établi des contrats de recherche avec plus de 5 000 entreprises, pour un montant total de 420 millions d\\'euros. Ces chiffres démontrent l\\'appétence de notre économie pour un accès privilégié aux compétences et aux technologies présentes dans ces instituts.Plus encore, la croissance du montant total de contrats de recherche est remarquable : 17 % par an depuis 2010 ! Et même deux fois plus pour les contrats auprès des P.M.E. ! Ce rythme de croissance de la recherche contractuelle témoigne d\\'une véritable dynamique globale de rapprochement entre recherche et industrie.Mais bien sûr, nous ne pouvons pas nous arrêter à ces quelques éléments. Nous devons être conscients aussi bien de nos forces que de nos faiblesses.Lorsque nous regardons notre système d\\'innovation dans son ensemble, le constat n\\'est pas satisfaisant, il faut le dire sans aucune ambiguïté : notre système d\\'innovation est classé au 15e rang mondial si l\\'on en croit la méthodologie retenue pour le tableau de bord européen de l\\'innovation, qui qualifie la France de \"suiveuse\", et même au 20e rang mondial selon le classement établi par l\\'Organisation mondiale de la propriété intellectuelle et l\\'INSEAD, alors que nous sommes au 6e rang mondial pour la recherche scientifique.Nous devons donc nous interroger sur l\\'avenir à construire pour notre système de recherche et d\\'innovation.* Renforcer la compétitivité de l\\'économie françaiseL\\'enjeu est majeur. Pour un nombre croissant d\\'entreprises, la capacité à créer des produits et services innovants, à développer des innovations de processus et d\\'organisation, n\\'est pas seulement un moyen de développement, mais une condition de survie.L\\'enjeu, c\\'est bien celui de redresser la compétitivité de l\\'économie française, dont la dégradation transparaît dans nos pertes de parts de marché',\n",
              "       \"age le sport lorsque l'on vient de devenir maman ? Le sport doit aussi contribuer à la santé. C'est pourquoi la labellisation de 100 maisons sport-santé est en cours, notre objectif étant qu'il en existe 500 en 2022. Vous avez évoqué, enfin, le bénévolat. Nous sommes tous d'accord pour considérer que, sans les bénévoles, le mouvement sportif et l'activité sportive pour tous ne sauraient exister. Nous en avons parlé lors du comité interministériel. Nous voulons ouvrir le compte d'engagement citoyen aux bénévoles qui participent aux grands événements sportifs internationaux, comme les prochains Jeux olympiques d'été ; nous voulons permettre à davantage d'associations sportives d'accueillir des volontaires du service civique, car elles sont encore trop rares à pouvoir en bénéficier. Enfin, Gabriel Attal, Jean-Michel Blanquer et moi promouvons l'organisation du parcours sportif dans le cadre du cursus scolaire. Cela permettra que les compétences sportives, aujourd'hui informelles, soient inscrites dans le parcours de l'enfant à l'école et à l'université et puissent ensuite être mieux valorisées.   \",\n",
              "       'M. Hervé MorinNous avons une décision historique à prendre : l\\'adhésion de la Turquie à l\\'Union européenne va changer la nature du projet européen, et donc la vie des Français. Aussi nous avions-vous demandé au préalable, monsieur le Premier ministre, un débat et un vote à l\\'Assemblée nationale pour que chacun puisse assumer ses responsabilités devant la nation, devant les Français. (Applaudissements sur les bancs du groupe Union pour la démocratie française.) Vous nous avez d\\'abord refusé ce débat, puis vous y avez consenti, mais dans quelles conditions ! Trois ou quatre heures jeudi après-midi, et toujours sans vote. Vous invoquez la lettre et l\\'esprit de la Constitution qui conférerait tout pouvoir au Président de la République en matière de politique étrangère. Mais, monsieur le Premier ministre, la lettre et l\\'esprit de la Constitution, c\\'est aussi son article 88, alinéa 4 (Applaudissements sur plusieurs bancs du groupe Union pour la démocratie française) , adopté en 1999, qui oblige le Gouvernement à transmettre au Parlement tous les documents communautaires. La lettre et l\\'esprit de la Constitution, monsieur le Premier ministre, c\\'est aussi que les députés votent ! (Applaudissements sur quelques bancs du groupe Union pour la démocratie française.) Je voudrais, pour essayer de vous convaincre, faire une citation. La voici : \" Permettez-moi, madame le garde des sceaux, monsieur le ministre, de vous poser une question. Sincèrement, en conscience, les propositions que nous soutenons vous choquent-elles vraiment ? Êtes-vous donc à ce point attachés, cramponnés à la Ve République qu\\'il vous faille refuser de l\\'adapter à la réalité ? Ou seriez-vous victimes, vous aussi, de cet archaïsme - et je pèse mes mots - qui fait croire que la politique européenne de la France serait toujours de la politique étrangère et que sa conduite appartiendrait exclusivement et pour l\\'éternité au chef de l\\'État, au gouvernement, le Parlement faisant figure de simple témoin ? Tout cela ne peut pas durer. \" Monsieur le Premier ministre, c\\'est Michel Barnier (Applaudissements sur plusieurs bancs du groupe Union pour la démocratie française) - ancien ministre des affaires européennes -, qui, au nom du groupe RPR, fit cette déclaration lors de la révision constitutionnelle de 1999. C\\'est pourquoi, monsieur le Premier ministre, solennellement, au nom de la démocratie française, nous vous demandons un vote ! (Applaudissements sur les bancs du groupe Union pour la démocratie française',\n",
              "       \"uros. Il passe cette année la barre des 8 milliards, pour atteindre 8,43 milliards d'euros.Le ministère de la justice est surtout créateur d'emplois : au cours du quinquennat, nous aurons créé près de 5 000 emplois. Je rappelle que le Président de la République s'était engagé à créer 3 000 emplois pour la police et la justice. Arrivés aux responsabilités, nous avons pu nous rendre compte très précisément des besoins, qui se sont avérés beaucoup plus importants. Le Président de la République a donc donné son feu vert à une augmentation des créations d'emplois. C'est ainsi que le ministère de l'intérieur aura créé un peu plus de 5 000 emplois durant le quinquennat, soit beaucoup plus que les 1 500 qui étaient prévus. Idem au ministère de la justice, puisque nous aurons créé près de 5 000 emplois, au lieu des 1 500 prévus.M. Hubert Falco. Tout va bien, alors !Mme Christiane Taubira, garde des sceaux. Ces 5 000 emplois permettent de couvrir les besoins dans la magistrature. Il faut préciser que ces besoins n'avaient pas été estimés ou, en tout cas, il n'y avait pas eu la volonté politique de remplacer les magistrats, les greffiers et les autres fonctionnaires partant à la retraite. Nous avons estimé à 1 400 le nombre de magistrats devant partir à la retraite au cours du quinquennat. Il aurait donc fallu, sous le précédent quinquennat, que des promotions d'au moins 300 élèves magistrats puissent permettre le remplacement des magistrats quittant leurs fonctions. Or, à cette époque, les promotions d'élèves magistrats ont varié de 80 à 144 personnes. Nous avons décidé, dès 2013, que les promotions devaient permettre non seulement de remplacer les départs à la retraite, mais aussi d'augmenter les effectifs de la magistrature. C'est ainsi que les promotions d'élèves magistrats ont été au nombre de 358 en 2013, de 364 en 2014 et de 382 en 2015. Nous aurons une promotion record l'année prochaine, avec 482 élèves magistrats.Par ailleurs, nous faisons des promotions annuelles d'un millier de greffiers et fonctionnaires, ce qui nous permet de remplacer ceux qui partent, mais surtout de donner à nos juridictions les moyens d'affronter les nécessités quotidiennes, c'est-à-dire les demandes de justice exprimées par nos concitoyens.Bien entendu, nous avons également veillé à rétablir le service public de la justice de proximité. C'est ainsi que nous veillons à corriger les injustices flagrantes de la carte judiciaire de 2008, et notamment des déserts judiciaires créés à cett\",\n",
              "       \"nviction profonde, mais sans doute pour toute une génération et donc il ne faut pas se tromper. Arlette ChabotAlors il y a des gens qui disent, on ne la reconnaît pas bien Ségolène Royal depuis quelque temps, parce qu'on la voyait libre, elle disait des choses qui pouvaient paraître extrêmement audacieuses pendant justement cette campagne au parti Socialiste, et puis depuis quelques semaines on dirait que vous êtes un peu plus cadenassée. Alors est-ce que c'est le poids du parti Socialiste, est-ce que c'est la peur du dérapage, est-ce que vous êtes, allez je ne vais pas dire, non pas sous contrôle, je ne me permettrais pas mais un peu coincée, beaucoup plus et vous avez perdu cette liberté ?Ségolène RoyalC'est un peu vrai, je crois que j'ai eu beaucoup de libertés dans le débat interne du parti Socialiste, j'ai été désignée par 60 % des militants, notamment par tous les nouveaux adhérents qui m'ont porté, par l'opinion publique aussi qui m'a porté et puis j'ai eu cette phase d'écoute, parce que je veux répondre à la crise démocratique et je crois qu'aujourd'hui on ne peut plus faire de la politique comme avant. La France a changé, le monde a changé, la politique donc doit changer, les citoyens sont devenus exigeants, ils se sont souvent détournés des urnes et ce cri, cette attente, ces colères j'ai voulu les entendre avant de proposer ce pacte présidentiel.Arlette ChabotMais vous êtes moins libre maintenant ou pas alors ?Ségolène RoyalJ'ai été moins libre c'est vrai parce que je crois que je suis appuyée par une organisation politique...Arlette ChabotCe n'est pas un poids quand même, ça vous aide quand même aussi.Ségolène RoyalC'est une chance, c'est une chance parce que ça prépare aussi la stabilité du pouvoir pour après dans le cadre d'une majorité parlementaire, mais en même temps il a fallu que je compose dans cette phase mais aujourd'hui, je suis dans la dernière ligne droite et je reprends Arlette Chabot, je reprends toute ma liberté.Arlette ChabotAlors vous dites ce matin dans une interview à notre confrère les Echos, justement que la ligne, c'est vous qui la définissez donc je cite, c'est moi qui la trace, je regarde la réalité de la France, telle qu'elle est et je propose des solutions efficaces sans être prisonnière d'aucun dogme. Donc ça c'est la liberté de Ségolène Royal qui s'affranchit à nouveau de tout ?Ségolène RoyalOui parce que je crois que c'est ce que les Français veulent, une élection présidentielle par nature est un lien direct entre \",\n",
              "       ' (OQALI).Cet observatoire aura pour mission d\\'évaluer le rapport qualité-prix des aliments en tenant compte de leur valeur nutritionnelle. Ce nouvel outil permettra aux français de mieux gérer leur alimentation.Aujourd\\'hui, ce sont les enfants qui retiennent d\\'abord notre attention.Ainsi, un texte encadrant la qualité nutritionnelle des repas servis à la cantine sera publié dès cet automne.Mes services travaillent sur ce sujet en concertation avec le ministère de l\\'agriculture, l\\'éducation nationale, le ministère de l\\'intérieur et les collectivités territoriales concernées. Ces dernières commencent ainsi à s\\'engager dans des chartes \"villes actives PNNS\". Plus de 120 villes ont d\\'ores et déjà signé ces contrats. Depuis le début de l\\'année, les départements peuvent s\\'engager dans cette démarche qui vise à développer des actions d\\'information, à diffuser les bonnes pratiques alimentaires et à favoriser une activité physique régulière.Le ministre de l\\'agriculture et de la pêche s\\'est engagé à rendre plus abordable la consommation des fruits et des légumes. Je me félicite, Cher Michel, de cet engagement.Ainsi, avec l\\'appui des collectivités territoriales volontaires, il apportera son soutien financier à la distribution gratuite des fruits dans plus de 1000 écoles, dans des zones urbaines et rurales défavorisées dès la rentrée 2008. A terme, cette distribution sera généralisée grâce à un financement communautaire.Mon ministère participe naturellement à l\\'expérimentation menée par le ministère de l\\'agriculture, consistant à installer des distributeurs de fruits dans les établissements agricoles. Cette expérience, si elle se montre à la hauteur de ses promesses, pourrait à terme être généralisée.Pour relever le défi de la malnutrition, agriculture et santé, vous le voyez, travaillent main dans la main.Les politiques que nous menons, en raison de la progressivité de leurs effets, suppose une forte détermination.Quand il s\\'agit de modifier des habitudes, d\\'en donner à chacun les moyens, tout en accompagnant l\\'évolution des mentalités, il faut agir avec constance et opiniâtreté.Michel et moi-même, sommes tous les deux bien convaincus de la nécessité de poursuivre, en ce sens, notre fructueuse collaboration.Je vous remercie.',\n",
              "       \"Mesdames et Messieurs les élus,Monsieur le Président, cher Jacques Biot,Mesdames et Messieurs,Mesdames et Messieurs, chers élèves de l'École Polytechnique,C'est un grand plaisir pour moi d'être avec vous aujourd'hui. C'est d'ailleurs une date symbolique, puisque cette cérémonie de passation de drapeau, qui rappelle l'attachement de votre École à son histoire, à ses traditions militaires, se tient le jour où nous commémorons le Débarquement de Normandie.En ce jour solennel, cette belle cérémonie porte un message très fort. Lorsqu'une garde prend son tour auprès du drapeau de son régiment ou de son école, cela veut dire que s'il revient à ces soldats ou ces élèves de partir demain au combat, au nom de la Nation, ils auront alors à défendre toutes les valeurs de France, celles qui font la gloire de son drapeau.Partir au combat. Cette expression, au premier abord, sonne étrangement aux oreilles des polytechniciens d'aujourd'hui. Je veux cependant m'y attarder.En ce jour de commémorations, je tiens d'abord à saluer la mémoire de leurs aînés qui ont pris toute leur part dans les grands engagements militaires de notre pays. Durant la Seconde Guerre mondiale, élèves et anciens élèves de l'X ont été de tous les combats de la France libre et de la Résistance intérieure, avec de grandes figures, comme Raoul Dautry, qui fait partie des premiers Français opposés à l'Armistice de Vichy, et d'autres, restés plus anonymes, mais qui ont \\x9cuvré avec ardeur pour la libération de notre pays. Parmi eux, d'ailleurs, de nombreux industriels, qui ont fait acte de résistance, notamment au sein de la SNCF et des PTT. Ce sont ainsi 378 polytechniciens qui sont morts pour la France entre 1940 et 1945. 33 ont par ailleurs été faits Compagnons de la Libération.Ces combats-là appartiennent à l'Histoire. Mais il en est d'autres qui conservent une pleine actualité, et qui mobilisent les polytechniciens au premier chef. Je veux bien sûr parler de la grande compétition économique, industrielle, technologique, dans laquelle la France est engagée. Aujourd'hui, la « guerre » économique, dans toutes ses formes, a pris une dimension mondiale. Dans ce contexte, où les acquis d'hier seront peut-être les handicaps de demain, seule l'innovation peut créer les conditions de la prospérité.Partir au combat, pour relever tous les défis du monde contemporain. C'est plus que jamais la mission de l'École Polytechnique, qui produit et partage des connaissances scientifiques pluridisciplinaires au plus haut n\",\n",
              "       \"t, j'en suis convaincu, une réelle impulsion à la prévention en France. Pour trouver de nouvelles thématiques, avec de nouveaux acteurs, de nouvelles actions, avec des moyens nouveaux que je serai toujours prêt à consacrer à la prévention. Je remercie le Docteur Toussaint et l'ensemble des membres du Comité d'orientation de la qualité des travaux qui sont au fondement de ces journées.Vous vous dîtes peut-être, il s'agit d'un n-ième discours. Non : ces Etats Généraux n'auraient en ce cas aucun intérêt. Ce que je veux, au contraire, c'est que sans tabou, sans auto-censure, vous puissiez avancer des propositions novatrices et tirer un bilan constructif de ce qui a été fait, ou de ce qui n'a pas été fait. I- Vous le savez, la politique de santé que nous menons est d'ores et déjà résolument tournée vers la prévention. L'OCDE vient de présenter une comparaison internationale des dépenses des programmes de prévention. Selon l'OCDE, notre pays se classe en 6ème position. Le total des dépenses de prévention, y compris celles incluses dans la consommation de soins, atteint en 2005, 12 Milliards d'Euros, soit 0,7 % du PIB, pour 10,5 Md d'Euros en 2002.Je ne laisserai donc personne dire que rien n'est fait en matière de prévention. Mais ce que je veux ; c'est que nous puissions faire plus et mieux.Les lois promulguées en 2004 (santé publique, assurance maladie), en jetant les bases de la réforme de notre système de santé, permettent de renforcer concrètement la prévention. A la suite, cinq plans stratégiques de santé publique ont été décidés. Le Plan cancer, le plan santé-environnement et le plan maladies rares ont été d'ores et déjà mis en oeuvre ; le plan violence, comportements à risques et conduites addictives et le plan maladies chroniques et qualité de vie seront lancé d'ici la fin de l'année.De plus, 100 objectifs, comprenant 415 propositions d'actions de prévention, ont été définis, ciblant les grandes pathologies (cancers, maladies infectieuses...) les principaux déterminants de la santé (alcool, tabac, environnement...) ou des population cibles (périnatalité, jeunes...). Les trois chantiers présidentiels (sécurité routière, cancer, handicap) font également appel à des démarches ambitieuses de prévention.Une des innovations majeures de la loi de Santé Publique est que chaque objectif est assorti d'indicateurs mesurables et évaluables. Je me félicite que le premier rapport de suivi de ces indicateurs vienne d'être transmis au Parlement et fasse partie des docu\",\n",
              "       \"'est du bon sens, prétendre travailler à l'émergence d'une solution syrienne à la crise, tout en bombardant les Syriens. C'est le constat qu'a tiré Staffan de Mistura en annonçant la suspension des discussions et nous demandons que le conseil de sécurité et la Cour pénale internationale établissent la responsabilité de ces crimes.Notre solution est celle-ci : la reprise des discussions doit être accompagnée du respect du droit humanitaire international et de la résolution 2254 qui prévoit la levée de tous les sièges en Syrie, sans exception, un accès humanitaire sans restrictions et l'arrêt de toutes les attaques contre les civils, à commencer par les bombardements indiscriminés. Ce n'est pas une concession à négocier; c'est une obligation.Monsieur le Premier Ministre, Mesdames et Messieurs,Nous avons besoin d'une transition effective en Syrie. Pour le peuple syrien, pour le Moyen-Orient, mais aussi pour l'Europe, bouleversée par la crise des réfugiés et par la menace sécuritaire née en Syrie. La France continuera d'aider à l'émergence de cette solution politique. Nous attendons de nos partenaires un semblable engagement. Merci.\",\n",
              "       's outils.- Vous avez créé un observatoire du risque routier en entreprise avec mise en place d\\'un comité de pilotage.- Vous avez également prévu de travailler avec la sécurité routière et la Caisse nationale d\\'assurance maladie (CNAM) pour réaliser des études et des analyses afin de comprendre comment l\\'activité de conduite s\\'inscrit dans la déroulement du travail. Après analyse des risques, vous engagerez les actions de formation appropriées en coordination avec celles engagées par l\\'Etat. EN CONCLUSIONDepuis le comité interministériel du 18 décembre 2002, une dizaine de chartes ont été signées, en collaboration étroite avec la Caisse nationale d\\'assurance maladie (CNAM). Mes services n\\'ont pas ménagé leur peine pour prendre en compte les différentes demandes de partenariat. A chaque fois, l\\'exercice est mené \" sur mesure \" en respectant les spécificités de l\\'activité de chaque entreprise. Chacun d\\'entre vous a pu apprécier, mois après mois, les premiers résultats de notre mobilisation collective.Nous avons franchi symboliquement la barre des moins de 6000 tués sur une période d\\'un an : 1695 vies ont ainsi été épargnées et 27240 blessés évités, ce qui représente une baisse de l\\'ordre de 21 %.Et maintenant, je m\\'adresse aux compagnies d\\'assurances que vous représentez, Mesdames et Messieurs : le conducteur-citoyen français est prêt à faire des efforts, même si c\\'est difficile, pour respecter la règle, si les résultats sont avérés. Il attend aussi des retours, et en particulier, au niveau du montant de sa prime d\\'assurance. Ce dernier aura en effet beaucoup de difficulté à comprendre que celle-ci reste au même niveau ou augmente devant une baisse aussi significative de la sinistralité automobile.Je sais que d\\'autres critères économiques entrent en ligne de compte dans la détermination de cette prime.Je vous laisse cependant le soin d\\'apprécier cette remarque et je ne doute pas que vous saurez y répondre avec l\\'esprit de responsabilité dont vous avez toujours su faire preuve. Je vous remercie.(',\n",
              "       'remier janvier 1998, dans une ère nouvelle, concurrentielle, mais en même temps, une ère concurrentielle où s\\'est imposée la notion de service universel. C\\'est le cas aussi de la Poste, de l\\'électricité, du gaz, des chemins de fer, où l\\'introduction de la concurrence est plus restreinte, où nous avons conservé ce qui est au coeur du service public ; nous avons pu aussi maintenir des entreprises publiques de service public, qui font la force de ce pays, le nôtre, là où certains pensaient que les directives en discussion aboutiraient à un vaste mouvement de privatisation. Nous avons préservé en quelque sorte l\\'équilibre. Nous allons ainsi pouvoir, dans les mois qui viennent, transposer la directive électricité, conclue par le précédent gouvernement et que nous prenons donc telle que nous la trouvons. Ce sera ensuite le tour de la directive \"Poste\", puis de la directive \"Gaz\" qui a été définitivement adoptée il y a quelques jours, sans que cela n\\'entraîne de bouleversements majeurs, ni pour les entreprises concernées, ni pour leurs personnels. Pour autant, je le disais, rien n\\'est acquis. Les directives sur l\\'électricité et sur le gaz comportent, c\\'est clair, des \"clauses de rendez-vous\". Des possibilités d\\'évolution sont prévues pour la Poste à partir de 2003. Puis pour les Télécommunications, le cadre issu de la libéralisation ayant pris effet en début d\\'année, sera réexaminé dès l\\'année prochaine. Enfin, pour les chemins de fer, la Commission souhaite aller plus loin dans la voie de la libéralisation du trafic. Mais quelle que soit la position que nous prendrons, qui ne doit pas être idéologique, une chose est claire : nous n\\'échapperons pas à ces discussions, et, compte tenu des positions de nombre de nos partenaires au sein de l\\'Union, elles ne seront pas faciles. Or, il ne faut jamais oublier que ces textes sont négociés, à Quinze, à la majorité qualifiée. Cela veut dire qu\\'il est essentiel, dans notre façon de nous préparer à ces clauses de rendez-vous de regarder comment nos partenaires évoluent eux-mêmes sur ces sujets. Depuis un an, une des choses principales que j\\'ai apprises, les deux principales, c\\'est qu\\'en Europe, les choses vont assez lentement, d\\'une part, et d\\'autre part, qu\\'on n\\'est pas tout seul, et donc, il faut tenir compte de ce que pensent les autres dans des pays à la fois étrangers, voisins, et amis. Etudions comment ils transposent, pour commencer, les directives déjà adoptées, et notamment voyons dans quel sens ils utilisent les ma',\n",
              "       \"s pour cette transposition répondent très largement à vos demandes : les contraintes d'exploitation de vos entreprises, souvent soumises à des rythmes de production irréguliers, ont été prises en compte, puisque vous pouvez désormais calculer la durée du travail sur trois mois, et que le régime des repos compensateurs est simplifié.Ces nouvelles règles réduisent les écarts de compétitivité avec les pays voisins, même s'il est exact que des écarts demeurent encore, tout au moins tant que ces pays n'ont pas encore transposé la directive 2002-15.Bien entendu, je serai attentif aux difficultés particulières d'application du nouveau dispositif que votre fédération pourrait me faire connaître, avec la volonté de rechercher les solutions les plus satisfaisantes.le deuxième dossier concerne le cabotage :Il fallait absolument régler ce dossier, qui est en souffrance depuis trop longtemps.C'est ce que le Gouvernement a fait le 2 août dernier, avec la loi sur les PME.Cette loi encadre strictement la durée du cabotage sur notre territoire national : au maximum 30 jours consécutifs, et au maximum 45 jours sur l'année. La sanction prévue est lourde, c'est une immobilisation systématique du véhicule, et le juge peut prononcer une peine complémentaire d'interdiction temporaire d'exercer sur notre territoire.La loi précise également que le régime du détachement, c'est-à-dire l'application des dispositions d'ordre public du droit du travail français, est applicable aux conducteurs. Cette décision a été confortée par la Commission européenne, puisque Jacques BARROT, interrogé par votre Fédération, a confirmé explicitement que les règles du détachement s'appliquaient au cabotage.Le Gouvernement fera preuve de toute la détermination politique nécessaire pour mettre en uvre, concrètement sur le terrain, les mesures d'encadrement qui ont été prises. Légiférer ne suffit pas, il importe aussi d'appliquer la règle et de la contrôler, si nous voulons effectivement mettre fin à ces pratiques de cabotage qui ne respectent, ni les règles de la concurrence, ni les règles sociales et fiscales, qui pourtant s'imposent.Le troisième dossier concerne la répercussion de la hausse du gazole dans vos prix :L'étude menée par mon Ministère a montré que la répercussion de la hausse du gazole dans les prix du transport se faisait dans de très mauvaises conditions : cette répercussion est toujours partielle (elle joue seulement à 30 %), très longue à obtenir (environ 5 mois), et d'autant plus diffic\",\n",
              "       \"Monsieur le président,Mesdames et Messieurs les sénateurs,Le projet de loi portant statut général des militaires est un de ces textes fondateurs qui déterminent le caractère et le fonctionnement des institutions de notre pays.Le statut général des militaires actuellement en vigueur date de 1972. Trente ans, durant lesquels la société française a changé. Les armées aussi.La société a profondément évolué : modification du rapport à l'autorité, développement de la société de l'information, entrée massive des femmes dans le monde du travail, multiplication des mouvements associatifs, etc. Ces évolutions sociales ont conduit naturellement, et légitimement, les militaires à souhaiter à la fois plus de responsabilisation et plus de dialogue.La professionnalisation a fait apparaître de nouveaux enjeux:- l'attractivité : pour constituer une armée professionnelle de qualité, il faut recruter des personnels qui sont aussi recherchés par le secteur privé.- la fidélisation: il faut conserver dans les rangs des armées ceux dont les compétences sont indispensables.- la cohésion entre militaires de carrière et contractuels. Ces derniers constituent désormais plus de la moitié du personnel.Les militaires sont aujourd'hui confrontés à des engagements de plus en plus complexes.Les règles de droit encadrant leurs activités se sont multipliées.Les situations sont juridiquement floues, entre le temps de paix et le temps de guerre, notamment en opérations extérieures.La suspension du service national, enfin, a profondément modifié la nature du lien armées-Nation.Les armées doivent tisser, avec la communauté des citoyens, des liens nouveaux et s'insérer dans la société par d'autres moyens que ceux liés à la conscription.Je commencerai par vous présenter les réponses qu'apporte le nouveau statut général des militaires à ces évolutions. Il garantit à la fois l'efficacité du métier militaire et l'épanouissement des hommes et des femmes qui l'ont choisi (1).Je vous ferai ensuite part de quelques remarques sur l'examen du projet de loi en première lecture par l'Assemblée nationale (2).1. Les réponses apportées par le statut.Les crises sont aussi nombreuses, et peut-être plus exigeantes à l'égard des hommes que dans le passé. Les événements de l'actualité récente sont venus nous le rappeler. Il s'agissait donc d'inscrire dans le statut des transformations prenant en compte les changements, sans mettre en cause les éléments fondamentaux du métier des armes.Les caractéristiques des confl\",\n",
              "       'collectivement plus loin pour réduire ces inégalités territoriales.  Rendu en novembre 2019, il contient plusieurs mesures sur lesquelles j\\'aurai le plaisir de travailler dans les prochains mois avec Jean-Michel Blanquer. Certaines mesures ont retenu mon attention :  - Les propositions en matière d\\'appui aux écoles des petites villes et bourgs en difficulté sociale et scolaire qui me semblent intéressantes dans le cadre du programme \"Petites Villes de Demain\", que le Premier ministre m\\'a chargée d\\'élaborer, et qui sera déployé après les élections municipales pour permettre que « le village redevienne le centre de la vie » (comme l\\'a exprimé le Premier ministre) ;  - Ou encore la proposition relative aux \"agendas académiques territoriaux\" pour encourager la planification stratégique territoriale ;  Nous allons articuler ce travail avec les mesures figurant dans l\\'Agenda rural en matière de politique éducative, notamment :  - Mieux prendre en compte les contraintes territoriales – à commencer par l\\'éloignement et l\\'isolement - dans l\\'allocation des moyens de l\\'Education nationale, avec la mise en place par le ministère de l\\'Education nationale d\\'un « indice d\\'éloignement ». Cette mesure était très attendue et nous sommes en train de la déployer ;  - Atteindre l\\'objectif fixé par le ministre de l\\'Agriculture de 200.000 élèves au sein de l\\'enseignement agricole ;  - Ouvrir 33 campus connectés dans les territoires ruraux, pour permettre aux étudiants de mener leurs études à distance tout en bénéficiant d\\'un accompagnement renforcé. C\\'est un pas immense en faveur de la confiance en soi et de l\\'émancipation, qui sont les clés de l\\'avenir pour les jeunes !  2- Au-delà des politiques éducatives, nous allons agir sur tous les leviers pour permettre à chaque jeune des territoires ruraux de pouvoir réaliser ses projets et ses rêves  Là encore, le Président de la République l\\'a exprimé clairement lors de la Conférence des territoires de juillet 2017 : \"ce que demande la ruralité, c\\'est d\\'avoir les mêmes chances de réussir\".  Nous sommes ici au coeur du pacte républicain. Chacun, où qu\\'il soit, doit :  - pouvoir choisir de grandir et vivre dans le territoire qu\\'il souhaite ;  - ne pas se sentir assigné à résidence, situation source de tant de malaise et de ressentiment.  Outre les mesures éducatives déjà évoquées, l\\'Agenda rural comprend également de très nombreuses mesures visant à améliorer concrètement la vie quotidienne des jeunes dans les territoires ruraux.  Je ve',\n",
              "       \"landestins qui s'y trouvaient. Or, qu'a fait M. Sarkozy ? Il leur a donné satisfaction. Il a même été jusqu'à aller négocier pour eux avec son homologue britannique les fameux visas qu'ils réclamaient. Résultat : le centre est fermé, le coup médiatique a été réussi, mais les clandestins reviennent maintenant beaucoup plus nombreux et ils investissent d'autres centres quand ils n'investissent pas purement et simplement les rues des communes côtières du Pas-de-Calais. Sarkozy, ou l'art d'aggraver les problèmes en faisant semblant de les résoudre !Et il en va de même de l'expulsion des clandestins par charters. Quelle énergie ! Quelle audace ! Oui, mais pendant que l'on expulse spectaculairement quelques dizaines de clandestins, les préfets sur ordre du ministre de l'Intérieur régularisent par milliers les fameux sans-papiers. Et ça n'est pas tout. Sarkozy, pour obtenir l'onction des médias et de la gauche, s'est déclaré opposé au maintien de la double peine. Ce qui est tout de même ahurissant pour quelqu'un qui prétend se battre contre l'insécurité. Car supprimer la double peine, c'est accepter que les criminels et les délinquants étrangers puissent rester sur notre sol après avoir commis leurs forfaits. M. Sarkozy a même autorisé récemment un terroriste étranger qui achevait de purger sa peine à rester chez nous. On croit rêver Et on comprend mieux pourquoi le ministre de l'Intérieur est aujourd'hui la coqueluche des médias. Ceux-ci savent parfaitement qu'il n'y a rien à redouter de lui. Il fait ce qu'il faut pour calmer et rassurer le peuple. Mais sur le fond, les initiés savent qu'il ne changera rien d'essentiel. D'ailleurs Sarkozy a annoncé qu'il serait, le moment venu, pour le droit de vote des immigrés aux élections locales. Et d'ailleurs on peut compter sur lui pour installer l'islam en France. C'est lui, en effet, qui met en place, pour la première fois dans l'histoire de la République, un Conseil représentatif des musulmans de France.Sur le plan des principes, pourquoi pas ? Il y a toujours eu des musulmans en France, pourquoi n'y aurait-il donc pas une telle instance comme il y a par exemple le CRIF pour les Français juifs ? Et bien tout simplement parce que la question de l'islam est toute différente aujourd'hui. Et cela au moins pour quatre raisons. L'islam est en pleine expansion sur notre sol, il est en train de briser les équilibres de notre société et de menacer notre identité nationale. L'islam ne connaît par ailleurs pas la distinction entr\",\n",
              "       'es majeures du phénomène réside incontestablement dans la suspension de l\\'application de la peine de mort à partir du milieu des années 70, prélude à sa suppression par les socialistes en 1981. Un seul exemple le prouve absolument. Pour la période décennale qui a précédé l\\'abolition de la peine de mort soit de 1971 à 1980, le nombre de crimes sur mineurs recensés s\\'est élevé à 39 dont 13 crimes sexuels. Pour la période décennale qui a suivi l\\'abolition de la peine de mort soit de 1982 à 1991, le nombre des crimes recensés s\\'est élevé à 124 dont 53 crimes de nature sexuelle. Autrement dit, durant la période de dix ans qui a suivi l\\'abolition, le nombre global de crimes sur mineurs a augmenté de 218 % par rapport à la période de dix ans ayant précédé l\\'abolition, et le nombre de crimes sexuels de 307 %...S\\'il ne s\\'agissait que de la suppression de la peine de mort, on pourrait encore croire que son simple rétablissement suffirait à rétablir la situation. Mais en réalité, c\\'est sur l\\'ensemble de sa politique pénale que l\\'Etat a abdiqué. Il y a quarante ans, les délinquants étaient poursuivis et condamnés par la justice. Aujourd\\'hui, le malfrat est passé de la quasi-certitude de la peine à la quasi-certitude de l\\'impunité: le taux d\\'élucidation des infractions est à peine de 30%! Cela veut dire que près des deux tiers des infractions n\\'ont pas d\\'auteur connu et donc pas de sanction. Et l\\'on voudrait que les victimes actuelles ou potentielles soient rassurées et ne connaissent pas ce que les \"belles âmes\" appellent un \"sentiment d\\'insécurité\" !De même, il y a 40 ans, le particulier victime d\\'une agression qui se défendait n\\'était pas poursuivi. Aujourd\\'hui, la légitime défense a été réduite à des cas tellement restrictifs qu\\'elle est devenue quasiment illégale. Enfin, au début des années 70, les policiers n\\'étaient pas traduits en justice à la demande des délinquants qu\\'ils essaient de mettre hors d\\'état de nuire. Aujourd\\'hui le fait est là: l\\'explosion de la délinquance et de la criminalité consacrent un formidable recul de civilisation. Par leur ampleur, leur impact social et économique, la criminalité et la délinquance d\\'aujourd\\'hui portent atteinte à la dignité de chacun et aux libertés de tous : la liberté d\\'aller et venir, la faculté de jouir de ses biens. Elles remettent en cause la \"sûreté\", dont la Déclaration de 1789 fait une des bases du pacte social.II- Il n\\'y a, dans cette régression, aucune cause conjoncturelle: c\\'est là le résultat d\\'une politiqu',\n",
              "       \"cynique que les près de trois millions de chômeurs complets n'ont pas de travail du tout. Leur proposer de « travailler plus » est une sinistre plaisanterie. Quant aux trois autres millions qui n'ont qu'un emploi précaire intermittent ou un temps partiel non choisi, combien d'entre eux voudraient pouvoir travailler même les 35 heures hebdomadaires contre lesquelles Sarkozy est en guerre ? Et puis, quelle est l'entreprise, l'usine, la banque ou la grande surface, où ce sont les ouvriers et les employés qui choisissent librement la durée de leur temps de travail ?Exonérer les patrons de charges sociales et fiscales sur les heures supplémentaires, comme le promet Sarkozy, c'est non seulement leur faire un beau cadeau, mais c'est une façon de les pousser à faire crever au travail leurs travailleurs et de ne pas embaucher.Il est criminel d'imposer des heures supplémentaires à ceux qui ont du travail. Ce qu'il faut faire, c'est empêcher le patronat de licencier ou de recourir aux contrats précaires. Il faut remplacer les heures supplémentaires par des emplois supplémentaires.Quant à Ségolène Royal, si certaines de ses propositions peuvent, si elles ne restent pas à l'état de promesses, apparaître comme des améliorations dans certains domaines, elle ne propose rien non plus qui puisse éliminer le chômage, assurer la hausse générale du niveau de vie et résoudre le problème du logement pour ceux dont les revenus sont faibles.Contre le chômage ? En plus du Contrat Première Chance, elle propose aux jeunes « les emplois-tremplins que les Régions ont mis en place avec un objectif de 500 000 emplois-tremplins ». Cela ressemble aux emplois-jeunes qui ont, certes, dépanné des jeunes, mais qui n'ont jamais été pérennisés. « Emplois-tremplins » dit bien ce que cela veut dire : que c'est provisoire.Pour la majorité des cinq ou six millions de chômeurs et de demi-chômeurs, de précaires, il n'y a aucun engagement, ni même aucune proposition.Contre la baisse du pouvoir d'achat, Ségolène Royal propose 1500 euros brut comme salaire minimum, mais seulement pour la fin de son mandat, c'est-à-dire dans cinq ans ! Et rien pour les salaires autres que le Smic, si ce n'est une promesse de « négociations entre partenaires sociaux ». Mais on sait que, dans ce genre de rencontres, réunissant patrons et syndicats, il n'y a rien à négocier,et que quand les patrons disent non, les syndicats n'ont qu'à s'incliner.Pour le logement, Ségolène Royal propose la construction de 120.000 logements so\",\n",
              "       \"ront été mises à la disposition de nos étudiants depuis 2007. Et permettez-moi de vous le dire : jamais depuis plus de 30 ans notre pays n'avait autant investi dans le logement étudiant.Pour assumer un tel effort, il fallait des moyens financiers puissants. Et là encore, l'Etat a été au rendez-vous de ses engagements. En 3 ans à peine nous avons multiplié par 2 ou presque le budget consacré au logement étudiant : de 64 millions d'euros en 2007 à 110 millions en 2010, sans compter naturellement les 47 millions d'euros supplémentaires apportés par le Plan de relance, ni les crédits exceptionnels du Plan Campus que nous lançons cette année.Mais je veux dire aussi que ces moyens, aussi nécessaires et massifs soient-ils, n'auraient pas suffi sans une mobilisation générale de tous : je pense aux collectivités territoriales bien sûr dont je tiens à saluer l'engagement constant et décisif aux côtés de l'Etat, mais aussi aux acteurs du logement, bailleurs privés et organismes HLM inclus, qui ont mis toutes leurs forces pour accélérer les chantiers et construire dans les meilleurs délais ces logements dont nous avions besoin.Aux uns et aux autres, je tenais aujourd'hui à adresser mes remerciements les plus sincères et les plus appuyés.A la CPU qui a participé très activement à la préparation de cette conférence, démontrant une nouvelle fois, très cher Louis Vogel, combien le logement est au c\\x9cur des préoccupations des universités, au même titre que la réussite de leurs étudiants.Aux maires et aux Présidents de Région que je salue au travers des membres de leurs associations respectives : l'Association des régions de France qui sous l'impulsion de son Président, Alain Rousset, s'est fortement mobilisée pour la réussite de cette journée, mais aussi l'Association des villes universitaires de France et l'Association des maires des grandes villes universitaires.Aux membres de la Fédération des promoteurs immobiliers et de l'Association interprofessionnelle des résidences étudiantes et services dont je remercie très chaleureusement les deux Présidents, Marc Pigeon et Philippe Nicolet d'être présents parmi nous ce matin comme ils le sont sur le terrain tout au long de l'année.Et bien entendu, je n'oublie pas les CROUS, ni les représentants de l'ensemble des associations étudiantes présentes parmi nous.Mesdames et messieurs, ensemble nous pouvons être fiers, très fiers même des progrès que nous avons accomplis, mais nous devons garder pleine conscience du chemin qu'il reste\",\n",
              "       \" en phase avec le protocole de Kyoto. Mais, vous le savez aussi, il nous faudra aller plus loin. Notre objectif est de diviser par 4 les émissions de gaz à effet de serre d'ici 2050. Cet objectif ne suppose pas de simples évolutions. Il suppose de véritables ruptures technologiques. Je sais pouvoir compter sur le savoir-faire et l'engagement de notre recherche et de notre industrie pour y parvenir. 2ème priorité : la santé environnementale. Vous connaissez l'engagement de la France sur le sujet, avec le Plan National Santé Environnement, et la création de l'Agence Française de Sécurité Sanitaire de l'Environnement et du Travail. Surtout, le projet de règlement européen REACH franchit actuellement des étapes déterminantes. Par son vote, le Parlement a envoyé un signal clair pour qu'une position commune du Conseil soit adoptée dans les meilleurs délais. Le Gouvernement approuve cette intention, et apporte tout son soutien à la Présidence britannique pour qu'une issue favorable sur ce dossier soit trouvée avant la fin de l'année. REACH vise à développer une meilleure connaissance des substances chimiques et de leurs effets. Il faut saisir cette opportunité de développement sur les métiers de la connaissance des substances et de leurs effets. Lors de mon parcours, j'ai pu constater le dynamisme de certaines entreprises sur le sujet. Mais s'est une aussi une opportunité en terme d'innovation pour produire des substances moins nocives pour l'environnement et la santé. Ce sont ces substances qui se développeront demain dans le monde. Là aussi, ne ratons pas cette opportunité. 3ème priorité : la prévention des risques technologiques. La prévention des risques naturels et technologiques est une priorité forte du Gouvernement. Je ferai d'ailleurs demain une communication en conseil des ministres sur ce sujet. Vous le savez, le cadre réglementaire pour la mise en place des Plans de Prévention des Risques Technologiques est désormais en place. Ces plans ne sont pas seulement des outils d'urbanisme visant à instaurer des servitudes ou des expropriations. La priorité est plus que jamais la prévention du risque à la source. La démarche des PPRT et la nouvelle méthodologie d'analyse des risques et d'études des dangers doit nous conduire à progresser. Là encore les éco-industries ont un rôle essentiel à jouer dans la démarche pour concevoir et proposer des solutions aux exploitants visant à réduire les risques à la source. 4ème priorité : l'eau. Le projet de loi sur l'eau \",\n",
              "       \" et des moyens techniques et financiers nécessaires. Je rappelle à cet égard que la France a versé récemment une contribution au Fonds pour la paix de l'IGAD.Il est clair que l'IGAD ne peut jouer pleinement et efficacement son rôle si elle n'est pas soutenue par une action cohérente de la communauté internationale. Une concertation renforcée au sein de notre Forum paraît à cet égard indispensable. La France est prête a y prendre toute sa place. Il s'agit de convaincre les Soudanais de l'urgence d'une paix négociée, non seulement respectueuse de la volonté des populations concernées mais aussi des préoccupations de stabilité et de sécurité des pays voisins du Soudan.****Messieurs les Ministres,Mesdames, Messieurs,Je souhaite également évoquer brièvement l'autre crise au centre de cette réunion, le conflit somalien.Comme vous le savez, la France a apporté son appui a l'initiative de paix du président Guelleh. Cette initiative a ranimé les espoirs des populations, ainsi que ceux d'une communauté internationale démobilisée par l'enlisement de tant de conférences de réconciliation depuis 1991.J'étais présent le 27 août dernier, à l'investiture du président Abdulkassim Salat Hassan au terme de la Conférence de paix d'Arta. Nous avons tous formé, à ce moment, le vu que cette cérémonie marque le début de la renaissance de la nation somalienne.Il faut se rendre à l'évidence : six mois après la constitution à Mogadiscio du gouvernement de transition, la dynamique de paix marque le pas.Nombre de mouvements armés contestent encore la légitimité des institutions que le peuple somalien s'est choisies à Arta ; les risques d'une reprise des violences demeurent ; la restauration d'une autorité étatique, que l'immense majorité des Somaliens appelle de leurs vux, piétine.Il est du devoir des acteurs somaliens, mais aussi des pays voisins, et de la communauté internationale, de conjuguer leurs efforts afin de préserver l'espérance collective née a Arta.Les autorités de transition sont investies d'une légitimité dont ne peuvent se prévaloir des chefs de guerre. Mais ces autorités doivent aussi tenter d'établir un dialogue sans exclusive avec les acteurs du conflit demeurant en marge du processus de paix. Une tentative d'imposer par la force l'autorité de l'Etat relancerait en effet selon nous la guerre civile et raviverait les clivages claniques. La voie de la négociation et de la recherche d'un consensus doit continuer à être privilégiée.Attelé à la pacification des régions q\",\n",
              "       \"re discours mais je veux dire, il y a déjà aussi une réforme à faire au niveau de ce système-la des Beaux Arts qui sont mis complètement à part par rapport à l'Education nationale. Arlette ChabotOn vous promet, on reparlera des Beaux Arts. Ségolène RoyalLa question est importante. Il faut de la cohérence aussi dans les structures de formation par rapport aux jeunes qui sont reçus. Il faut de la cohérence et il faut de la responsabilité. Aujourd'hui il y a un système d'irresponsabilité généralisé quand les jeunes sont formés. Personne ne s'en occupe. Les entreprises disent, nous on a peur de les recruter. Les organismes de formation disent, c'est plus notre problème. Moi je veux une société de la responsabilité et donc l'Etat assumera ses responsabilités en mettant le pied à l'étrier aux jeunes, en aidant les entreprises dans un premier temps, en contrôlant l'utilisation des fonds. Et les organismes de formation auront la responsabilité de suivre les jeunes qu'elle forme.Arlette ChabotEst-ce que vous êtes favorable à ce que certains évoquaient à gauche, une espèce de RMI jeune ?Ségolène RoyalJe suis pour qu'aucun jeune ne soit en situation de précarité. Arlette ChabotOui mais le RMI ou une allocation en échange de quelque chose ? Ségolène RoyalNon pas le RMI jeune. Je me suis engagé sur une allocation jeune adulte en contrepartie. C'est à dire au fond en soit, c'est un système de bourse amélioré parce qu'il y a 40% d'échec, 40% de jeunes qui sortent des deux premières années d'université sans diplôme. Arlette ChabotL'université on y reviendra tout à l'heure. Ségolène RoyalEcoutez c'est un gâchis effroyable, c'est une dépense d'abord publique qui ne conduit sur rien. Et c'est un gâchis pour les jeunes effroyable. Donc l'allocation jeune à condition qu'il y ait aussi une réforme de l'orientation, c'est à dire que l'on oriente les jeunes vraiment vers les besoins des entreprises, que l'on renforce le lien entre les entreprises et les universités et même au niveau du lycée et du collège. Je veux que l'on renforce le lien entre les entreprises et l'éducation pour que l'on apprenne très tôt l'esprit du risque et l'esprit d'entreprendre.Arlette ChabotAlors on va aller directement au lycée si j'ose dire Paul Bert, madame Khayat qui est proviseur du lycée donc Paul Bert dans le 14ème arrondissement. Madame Khayat allez-y. Monique KhayatBonsoir. Vous avez été ministre déléguée à l'enseignement scolaire et vous avez approché de près les enseignants. Vous connaissez do\",\n",
              "       \"alue aussi l'action de chacune et de chacun d'entre vous, pour ce que vous faites dans les pays du Sahel : lutter contre les groupements terroristes, appuyer les forces françaises déployées dans la région. Cette mission, vous la remplissez non seulement avec professionnalisme, non seulement avec rigueur, mais avec passion, avec amour pour votre pays, pour le rôle de la France, pour son rayonnement, pour la conception que vous avez de notre défense qui n'est pas pour écraser, qui n'est pas pour soumettre, qui au contraire est une force au service de la paix, au service de la dignité, au service de la liberté. Etre soldat français, c'est toujours servir la liberté et être toujours présent, même quand il faut faire la guerre et vous l'avez faite pour que la paix puisse revenir.C'est pourquoi, sachez bien que ce que vous faites, ce que vous êtes, dans vos différentes fonctions, que ce soit pour vous, soldats du Groupement désert, pour vous aviateurs du détachement de chasse, de transport, de ravitaillement, pour ceux qui servent les hélicoptères, pour les militaires de la logistique, pour les membres des service, oui tout ce que vous faites est au service de la France, au service des valeurs qui nous rassemblent, au service de la République. Vos familles peuvent être fières de vous, le Chef de l'Etat, le Chef des Armées vous exprime ici, avec le ministre de la Défense et vos chefs, toute notre reconnaissance.Vive la République et vive la France \",\n",
              "       \" d'Hisham Matar, un auteur libyen, qui est parue il y a quelques jours dans le New York Times.Nous sommes très attachés, donc, au Salon du Livre, qui réunit plus de 150 000 personnes, près de 3 000 auteurs, et qui met le livre au c\\x9cur de l'actualité  même si cette année il est en concurrence avec une actualité rebondissante de la campagne électorale. Mais ce soir, le Président de la République inaugurera ce Salon du Livre. C'est un moment auquel il est très attaché.Moi-même, je ne serai pas là ce soir, je serai dans l'avion, mais je vous retrouverai samedi matin.Recevoir cette année le Maroc comme invité d'honneur, à travers le livre, c'est une première, mais c'est aussi une évidence. Je voudrais remercier d'abord tous les professionnels qui l'ont organisé, marocains et français.C'est une évidence parce que, depuis plus de quinze ans, le Maroc connaît une effervescence créative, une Movida, une Naïda qui ne demande qu'à être mieux partagée et mieux connue en dehors des frontières du Royaume.Autour de la musique, autour de la peinture, autour de la poésie, de la littérature, des festivals, partout, ils prennent appui sur la richesse et la profondeur de cette civilisation multiséculaire pour s'affirmer dans la modernité.On connaît en France de grands auteurs  certains sont là  : Tahar Ben Jelloun, Driss Chraïbi, Fouad Laroui, et ils jouent ce rôle d'ambassadeurs. Mais derrière eux, avec eux, autour d'eux, il y a de très nombreux auteurs marocains à découvrir, quelles que soient leurs langues d'écriture, parce qu'elles sont plurielles.Elles sont plurielles, parce que le Maroc a cet atout exceptionnel dans le monde d'aujourd'hui  un atout qui est revendiqué jusqu'à son texte le plus important, son texte constitutionnel , d'être fondé sur des racines multiples. Le préambule de la Constitution affirme avec clarté l'attachement à la civilisation berbère, juive, arabo-musulmane, andalouse et africaine.C'est ce tissage très serré, si singulier au Maroc, qui permet aux générations actuelles d'avancer et qui donne aux artistes la capacité d'additionner là où tant d'autres fracturent. Et les artistes, les auteurs marocains, qu'ils soient à Casablanca, à Paris, à Montréal ou à New York, peuvent être à la fois pleinement de leur lieu et de leur temps, et rebondir sur cette toile solide qui est tissée par la profondeur et la densité de ce Maroc pluriel.C'est la promesse que nous fait cette année « Maroc à livre ouvert », c'est celle de nous faire découvrir la diversité d\",\n",
              "       \"-Brandt à Danone, en passant par Air Liberté, Delphi, Airbus, Valéo, Bosch, Philips, Bata, Alstom, Aventis, Dim, Alcatel, Péchiney, Gemplus, Atofina, branche chimique de TotalFinaElf, la liste est longue des grandes entreprises qui licencient et qui ferment des usines entières. Et, dans beaucoup d'entreprises, combien de licenciements dans la discrétion, qui visent les intérimaires ? Vous qui avez connu dans la région près de trois décennies pendant lesquelles les grandes usines, Manufrance, Creusot-Loire, diminuaient leurs effectifs, avant de fermer les unes après les autres, vous savez la catastrophe que cela représente pour ceux qui sont mis à la porte et leurs familles, bien sûr, mais aussi pour les jeunes qui trouvent de moins en moins d'emploi, et pour toute la région !Et cela continue, car GIAT Industries continue à diminuer ses effectifs. Même si cela ne se traduit pas par des licenciements secs, ce sont des emplois qui disparaissent.Ce n'est pas la production actuelle de GIAT Industries que je défends, ce sont ses travailleurs. Pour ma part, je lutte pour une société sans guerres et sans armes et, par conséquent, je ne défends certainement pas la fabrication des chars Leclerc. Mais les emplois peuvent être sauvegardés sans fabriquer des engins aussi coûteux qu'inutiles. La compétence des travailleurs de GIAT permet de produire autre chose que du matériel militaire. Une multitude de machines ou de produits industriels utiles manquent en France et, à infiniment plus forte raison, dans les pays sous-développés. Il y aurait du travail pour toutes les compétences, pour les ouvriers comme pour les ingénieurs. Et ils auraient, en plus, la satisfaction que leur travail est utile pour la société.Mais, en attendant que la classe ouvrière ait la force d'imposer une autre politique, ce n'est pas aux travailleurs de payer pour les choix de l'Etat en matière d'armement. Il n'y a pas de raison de supprimer un seul emploi, de diminuer un seul salaire, ni à GIAT Industries, ni chez les sous-traitants !Le chômage, c'est une catastrophe pour ceux qui en sont victimes, pour leurs familles et pour leurs enfants. Mais c'est aussi sur le chômage que s'appuie le patronat pour aggraver les conditions d'exploitation de ceux qui restent au travail ; pour rendre partout le rythme de travail inhumain, que ce soit sur les chaînes de production ou aux caisses de supermarché. Cette menace de perdre son emploi permet aux patrons de faire un chantage pour imposer des horaires flex\",\n",
              "       \"vant, l'Amérique nous rappelle à nos propres engagements, elle nous tend ce miroir exigeant d'une France courageuse, guidée par des principes de générosité et de solidarité.Mais la réciproque aussi est vraie. L'Amérique, comme la France, n'est jamais aussi grande que quand elle sait rallier sur son nom les défenseurs de la liberté.Fidèles au fils de Chavaniac, la France et l'Amérique resteront fidèles l'une à l'autre, fidèles surtout à leur histoire et à leur grandeur.\",\n",
              "       \" d'assister à l'arrivée du marathon de Bordeaux, cette fameuse course qui a lieu tous les ans à travers les vignes, et où les traditionnelles bouteilles d'eau en plastique se transforment en verres des plus grands crus : les noms des coureurs et leur ville d'origine, égrenés au micro, vous donnent une assez bonne indication du rayonnement mondial de nos vins. D'autres pays, notamment les pays émergents de l'Est, doivent attirer toute notre attention. Ils sont désormais des acteurs incontournables du marché mondial : la Chine est devenue en 2005 le dixième pays consommateur de vin tranquille, tandis que la barre du milliard de caisses de spiritueux consommés en Asie a été franchie la même année. Leur marge de progression est considérable : ainsi, Singapour a augmenté ses importations de vins français de 70% l'année dernière. Le dynamisme de nos exportations s'inscrit dans une conjoncture internationale particulièrement favorable : le nombre de consommateurs ne cesse d'augmenter. Le marché mondial des vins et spiritueux poursuit sa progression et devrait approcher les 300 milliards de dollars en 2010, soit six fois le chiffre d'affaires du « GYME » (Google, Yahoo, Microsoft et e-bay) ! A l'heure du tout-informatique, le vin reste finalement ce qui sépare le mieux le virtuel du réel, ou plutôt, devrais-je dire, le virtuel de l'imaginaire. Comme le disait Pierre Dac, mieux vaut boire le vin d'ici que l'eau-delà. Je vous l'avais déjà dit en tant que ministre du Commerce Extérieur, je vous le redis aujourd'hui en tant que ministre de l'Agriculture : l'Etat se doit d'encourager les exportations françaises et il ne relâchera pas son effort en ce domaine. Ce rôle, l'Etat le remplit d'abord dans les négociations internationales. A l'OMC, nous sommes attentifs non seulement à suivre les négociations en cours, mais aussi à veiller à la juste application des règles existantes par l'ensemble des membres. Ainsi, dans le cas du différend entre l'Union européenne et l'Inde sur les importations de vins et spiritueux, la mise en place d'un groupe spécial par l'Organe de Règlement des Différends (ORD) permettra d'amener les autorités indiennes à la révision de leur dispositif fiscal, comme leurs dernières annonces le laissent croire. Les accords commerciaux bilatéraux, quant à eux, concernent essentiellement l'Union européenne et les pays tiers. Sur ce terrain, la reconnaissance des Indications géographiques est primordiale et je me réjouis que des avancées concrètes aient pu\",\n",
              "       \"Monsieur le Président, Mesdames, Messieurs les Sénateurs,C'est la première fois que je participe à ce débat préalable à la réunion du Conseil européen. Je suis heureuse de pouvoir bénéficier de vos remarques, qui nous aideront à préparer au mieux cette échéance importante.Je commencerai par ce qui sera le dossier central de ces deux jours de Conseil européen : le Brexit.Les chefs d'État ou de gouvernement devront se prononcer sur la recommandation de la Commission européenne de passer à la deuxième phase des négociations avec le Royaume-Uni, de façon de commencer à négocier le cadre de nos relations futures.Les progrès effectués sont très significatifs. Nous serons extrêmement attentifs à ce que nos priorités politiques soient pleinement prises en compte dans les lignes directrices que le Conseil européen adoptera le 15 décembre, puis dans le mandat de négociation révisé qui sera confié à Michel Barnier, si possible en mars 2018.Sur les droits des citoyens, les négociateurs ont considérablement progressé. Tous les citoyens européens arrivés au Royaume-Uni - parmi lesquels 300.000 Français - ainsi que les citoyens britanniques arrivés dans l'Union européenne avant le retrait britannique pourront continuer à y résider, travailler et étudier comme aujourd'hui, notamment les infirmières et les médecins, dont les qualifications professionnelles resteront reconnues. Les membres de leurs familles conserveront leur droit à rejoindre leurs proches dans le futur, s'ils ne vivent pas aujourd'hui déjà au Royaume-Uni. Les citoyens européens conserveront leur droit aux soins de santé, à la retraite et aux prestations de sécurité sociale.Un des enjeux majeurs de la négociation est de s'assurer du plein respect de ces droits, ce qui suppose que la Cour de justice de l'Union européenne puisse jouer son rôle. Le recours à une question préjudicielle devant la Cour de justice de l'Union européenne sera possible pendant huit ans. D'ici à la transcription juridique du rapport conjoint dans l'accord de retrait, nous veillerons à maximiser les garanties dont pourront bénéficier les citoyens européens pour le plein respect de leurs droits.S'agissant de l'Irlande, la solution trouvée pose des principes, comme l'absence de frontière physique sur l'île d'Irlande et, le cas échéant, un « alignement » du Royaume-Uni sur le marché intérieur et l'union douanière dans les secteurs nécessaires à la bonne coopération entre l'Irlande du Nord et la République d'Irlande. Le fait que cela convi\",\n",
              "       'e de remettre en cause la solution obtenue à grand peine. Il nous faut trouver des moyens personnalisés dès la petite enfance, sans ruptures, sans effet de filières, sans céder à des stratégies figées. C\\'est dans cette optique que le ministre développe les UPI dont le nombre a doublé à cette rentrée pour permettre à davantage d\\'enfants venant de CLIS de poursuivre leur scolarité. D\\'autres réponses sont à construire, notamment pour faciliter les passerelles lors des apprentissages pré professionnels et professionnels. Dans la nouvelle loi et ses décrets d\\'application, des dispositions seront prises pour faciliter les études supérieures en France, voire à l\\'étranger. L\\'objectif est que beaucoup plus de jeunes handicapés qu\\'aujourd\\'hui puissent demain, au niveau qui est le leur, intégrer le monde du travail. Mesdames, Messieurs, apprendre ensemble, dès la petite enfance Donner toutes leurs chances à tous. Ici, à Marseille, vous avez en mars 1999, érigé l\\'arbre de l\\'espérance, à l\\'occasion du 26ème centenaire de votre ville, autour des valeurs fortes de tolérance et de solidarité. Qu\\'est ce que la solidarité ? C\\'est aller chercher cette parcelle d\\'humain dont parlait Jean-François Mattei ce matin, qui existe en toute personne et l\\'aider à s\\'épanouir. C\\'est un immense défi que nous ne pourrons relever que tous ensemble. \" L\\'avenir du monde est suspendu au souffle des enfants qui vont à l\\'école \" dit le Talmud ; grâce à vous, à votre action déterminée et opiniâtre , j\\'ose dire de tous les enfants. Contacts Presse :Catherine Denavarre : 01 40 56 65 28 (',\n",
              "       \"finir les voies d'une bonne gouvernance : c'est ainsi que le ministre  comme le chef d'entreprise  structure son action. Il lui reste encore à la conduire au quotidien, et je voudrais ici vous donner quelques exemples de la capacité d'adaptation et d'innovation qui me semble requise, d'un côté comme de l'autre.Conduire un ministère, c'est d'abord le défendre lorsque c'est nécessaire. Ma démarche, ici, n'a jamais été corporatiste. Lorsque j'explique dans les médias les opérations en cours, ou que je justifie devant le Parlement les choix que le Gouvernement a faits dans le cadre de la LPM par exemple, ce n'est pas d'abord un ministère que je défends  contre un autre , mais c'est la sécurité de la Nation, qui doit tous nous rassembler. Le Livre blanc et la loi de programmation militaire ont défini une voie étroite mais fiable, ambitieuse et réaliste, pour adapter nos armées aux nouvelles menaces dont j'ai parlé au début. Défendre cette voie, qui a été approuvée par le Président de la République, n'est pas toujours chose facile. Mais le ministre de la Défense est dans son rôle lorsqu'il rappelle, comme je l'ai fait récemment, le sacrifice de sept de nos soldats cette année, et le respect que nous devons avoir pour eux, y compris dans les débats budgétaires.C'est dans ce cadre qu'il faut parfois innover. Je crois que vous avez déjà parlé des ressources exceptionnelles, les REX comme on aime les appeler, qui complètent les ressources budgétaires et garantissent ainsi la trajectoire financière de la LPM. Ces REX sont difficiles à trouver. Elles s'élèvent pourtant à 5,6Md sur la période 2015-2017, soit près de 30 % des crédits des principaux programmes d'armement. Il a donc été décidé de mettre en \\x9cuvre dès 2015 des solutions innovantes d'acquisition de matériels militaires. C'est tout l'enjeu de la création de sociétés de projet, à laquelle je travaille en ce moment même en lien étroit avec le ministère de l'Économie et les industriels de la défense, pour garantir l'acquisition des matériels militaires prévus dans la LPM.Enfin, à côté de ces combats budgétaires, de ces défis d'organisation, et toujours pour illustrer les choix de défense auquel je suis confronté, j'aimerais insister sur un autre volet essentiel de mon action quotidienne, la gestion des ressources humaines. Ce n'est pas le moins difficile, lorsque les contraintes budgétaires nous conduisent à devoir réaliser 34 000 déflations d'emplois sur cinq ans, qui s'ajoutent aux 48 000 emplois déjà supprimé\",\n",
              "       \"s, leur santé et celle de leurs enfants. Il y a tant d'exemples de cette créativité au féminin...Les femmes portent le changement, il faut capitaliser sur cette force créative.Je souhaite que votre promotion soit l'amorce d'un large réseau de femmes d'avenir en Méditerranée : pour porter la voix de la tolérance, de la paix et de la stabilité, pour être des vecteurs de changement dans les sociétés que vous représentez et pour créer des ponts entre vos pays et entre les deux rives de la Méditerranée.Je vous souhaite à toutes un très bon séjour parmi nous et de fructueux échanges tout au long de ces deux semaines.\",\n",
              "       \"des Droits de l'Homme, qui affirme l'inviolable dignité des femmes et des hommes, soit mise en pratique très concrètement.\",\n",
              "       \"e début du mois de mai 2016 ;Les mesures de revalorisation des grilles seront complétées par un groupe de travail sur la question du déroulement de carrière sur deux grades, qui comprendra également la thématique de la prise en compte de la valeur professionnelle. Ce groupe de travail, qui verra dans un premier temps un état des lieux des déroulements de carrière se tiendra dans le courant du mois de mai.Comme je m'y suis engagée, les travaux sur les personnels sociaux débuteront au mois de novembre 2016 avec l'objectif d'une parution des textes début 2017.* Sur la déontologie et les droits et obligations des fonctionnairesSur le calendrier parlementaire, la commission mixte paritaire se réunit en ce moment même. Vous m'aviez fait part lors de nos rencontres bilatérales  et je m'adresse tant aux organisations syndicales qu'aux représentants des employeurs des fonctions publiques territoriale et hospitalière  de vos points d'alerte. J'ai eu des échanges avec les deux rapporteurs et un certain nombre de députés et de sénateurs et j'ai bon espoir que nous puissions arriver à un compromis satisfaisant. Un compromis qui préserve les ambitions et les avancées du projet de loi sans le dénaturer par des mesures régressives dont le Gouvernement ne veut pas. Il faut être très clair sur ce point. Si tel était le cas, le projet de loi pourrait être adopté le 5 avril. Nous serons alors occupés, dans les instances supérieures du dialogue social, par les projets de textes (plus de 20 !) d'application de la loi sur la déontologie et les droits et obligations des fonctionnaires.C'est un sujet essentiel puisque c'est le point de fixation de la légitimité de la fonction publique. Cette dernière, je l'ai rappelé tout à l'heure, doit être irréprochable et porter haut les valeurs qui sont les siennes. Ces valeurs fondent la spécificité des agents publics : impartialité, réserve, intégrité, probité, neutralité et respect du principe de laïcité. Cette loi a vocation à réaffirmer et à défendre ces principes.La remise prochaine du rapport Laurent sur le temps de travail dans la fonction publique éclairera la situation et nous permettra d'avancer pas à pas sur ces questions. L'objectif de ce rapport est de fois de tordre le cou à la vision véhiculée par certains  particulièrement dans cette période  d'une disparité entre le public et le privé sur le temps de travail. Il permettra également de pointer certaines situations qui pourraient être problématiques et qui nuisent à l'efficaci\",\n",
              "       \"Mesdames et Messieurs,Je suis heureux de vous accueillir aujourd'hui au palais des congrès de Lyon pour les assises nationales des préfectures. Permettez-moi d'abord, en votre nom à tous, de remercier M. Michel BESSE, préfet de la région Rhône-Alpes, préfet du Rhône et tous ses collaborateurs de la préfecture pour la part qu'ils ont prise à l'organisation de ces assises. Ces remerciements s'adressent bien entendu aussi à l'équipe du directeur général de l'administration qui s'est mobilisée tout au long de l'année 2000 pour concevoir, organiser et faire vivre ce moment exceptionnel de concertation et de travail en commun. Ces remerciements concernent enfin toutes celles et ceux qui ont participé à la préparation de ces Assises, et tout spécialement aux équipes du service d'information et des relations publiques.Vous êtes ce matin près d'un millier représentant toutes les préfectures et de nombreuses sous-préfectures, et vous êtes aussi représentatifs de tous les statuts, grades et fonctions qui y travaillent. Il y a ainsi parmi vous des standardistes, des directeurs, des agents administratifs en fonction à l'accueil du public, des chefs de bureaux, des secrétaires administratifs, des préfets et des sous-préfets, et cette liste n'est bien sûr pas exhaustive. Je veux aussi tout spécialement saluer vos collègues venus d'outre-mer à cette occasion.C'est la première fois qu'une rencontre de cette ampleur est organisée avec les préfectures et je suis particulièrement heureux de vous saluer dans votre diversité : car toutes et tous, par votre compétence, votre efficacité, votre dévouement et votre sens éminent du service public, vous êtes dans les préfectures et les sous-préfectures la première ligne de l'Etat de proximité au service des usagers et des citoyens.Je suis particulièrement attaché à ce service public et à ceux qui le représentent.Je souhaite, pour ouvrir nos travaux, rappeler quels en sont les enjeux, évoquer les attentes qu'ils suscitent et définir les objectifs de cette journée.L'enjeu que représentent pour les préfectures ces assises nationales justifie cette démarche inhabituelle.Il s'agit en effet de déterminer l'évolution de leurs missions, de leur organisation, de leur fonctionnement et de leurs moyens dans les prochaines années.Peu de temps après mon arrivée au ministère de l'intérieur, je me suis rendu, le 14 septembre dernier, à la préfecture de l'Oise. J'y ai rencontré vos collègues, et j'ai pris la mesure à cette occasion de l'importance d\",\n",
              "       \"charge de la délinquante, il traite de la protection des victimes, il traite des peines adaptées et des peines justes qui doivent être prononcées, mises en \\x9cuvre et suivies. Alors sur les victimes quelques mots, parce que souvent on fait procès à ce gouvernement d'être insensible aux victimes. Nous, nous avons des exigences éthiques : nous nous interdisons d'instrumentaliser les victimes. Les victimes sont pour nous des personnes, des personnes qui sont en souffrance et cela appelle le respect, et des personnes qui ont du courage parce qu'elles surmontent leur souffrance. Et notamment les victimes qui sont dans des associations de victimes ou des associations d'aide aux victimes sont des personnes qui arrivent à dépasser leurs souffrances personnelles, à dépasser leurs douleurs personnelles pour se poser en sujet de droit, pour se poser en acteur de la société et qui en plus sont souvent animées par une générosité qui les conduit comme le fait l'INAVEM par exemple, à concevoir aussi des opérations de rencontres avec des auteurs d'actes de délinquance d'abord pour permettre aux victimes d'exprimer verbalement leurs souffrances, de dire quel a été le préjudice subi mais pour permettre aux auteurs de prendre conscience du mal qu'ils ont infligé à des victimes. Il y a eu une expérience qui a été conduite à Poissy sur la base d'expériences qui sont conduites notamment au Canada et qui sont bien accompagnées, bien évaluées, et nous avons donc cette capacité des victimes à agir, à inventer, à s'impliquer et ça, ça appelle le respect. Donc nous n'allons jamais instrumentaliser les victimes. Par contre, alors que toutes ces dernières années on parlait des victimes à longueur de temps, les budgets pour les associations d'aide aux victimes n'avaient cessé de baisser. Dès l'année dernière, nous avons décidé de les remonter, nous avons remonté de 25,8 pourcents. Nous avons par ailleurs, en tous cas j'ai décidé d'ouvrir des bureaux d'aide aux victimes dans tous nos tribunaux de grande instance. Sur les trois dernières années, une expérimentation avait été conduite qui avait permis d'ouvrir cinquante bureaux d'aide aux victimes dans des tribunaux de grande instance. J'ai décidé budgétairement depuis l'an dernier d'en ouvrir dans tous nos tribunaux de grande instance et cela, sur l'année 2013. Ça veut dire une ouverture de cent bureaux supplémentaires d'aide aux victimes. Nous en sommes depuis le début de l'année à soixante-huit bureaux d'aide aux victimes ouverts dans no\",\n",
              "       \"Je suis très heureuse que nous puissions être ensemble à Avignon aujourd'hui. Nous avons travaillé  ministère, collectivités  autour de nombreux chantiers tout au long de l'année qui vient de s'écouler : je tenais à pouvoir vous réunir avant la trêve estivale pour vous dire un mot de leur avancement, et tracer quelques perspectives pour la rentrée.Il n'y avait pas de meilleur décor pour cela que ce festival d'Avignon, qui est à la fois un emblème du dynamisme artistique français ; un emblème de la vie culturelle des territoires ; un emblème de la coopération entre l'Etat et les collectivités territoriales que vous représentez.Cette coopération, vous le savez, j'y suis attachée plus que tout.C'est le sens du nouveau cadre de contractualisation que je vous ai proposé et sur lequel nous avons trouvé un accord : c'est l'une des grandes satisfactions de ma première année au ministère, et je veux encore vous en remercier.- Cet accord, c'est d'abord une forme de pacte de confiance que nous avons renoué. Pendant des années, la relation entre le ministère de la Culture et vos collectivités a été polluée par la peur  une sorte de peur du désengagement et de la défiance réciproques. Tout ceci est derrière nous désormais. Ce nouveau cadre de contractualisation, qui témoigne de notre volonté de coopération commune, est plus souple et il est plus à l'écoute de vos territoires ;- Il nous a permis d'entériner une priorité commune, par ailleurs : l'éducation artistique et culturelle ;- Et il nous a permis de nous engager ensemble autour d'un principe de solidarité, pour faire plus pour ceux qui ont moins et prévoir systématiquement des solutions adaptées pour les territoires et les populations les moins favorisés.Ce nouveau cadre de contractualisation va nous permettre d'approfondir encore notre coopération, de mener de nouveaux projets, et c'était fondamental parce que vous êtes pour mon ministère des partenaires privilégiés. Je voudrais revenir rapidement sur les chantiers engagés.Voilà un peu plus d'un an désormais que je m'applique à mettre en oeuvre une véritable politique territoriale de la culture, c'est-à-dire une politique qui s'appuie sur la richesse du tissu local d'acteurs, de lieux, d'initiatives ; et qui soit au service de tous les Français, où qu'ils vivent ;- Une politique qui renforce l'action là où les équipements du service public culturel sont moins nombreux, comme les villes moyennes, les zones rurales, les quartiers ; qui rééquilibre les moyens du min\",\n",
              "       \"Q - Concernant la succession pour la Direction générale de Renault : Le processus est-il lancé ? Où en est-on ? Thierry Bolloré va-t-il partir ?  R - C'est au président de Renault, Jean-Dominique Senard, et au Conseil de Renault de prendre des décisions sur la gouvernance, ce n'est pas le rôle de l'Etat actionnaire. Le rôle de l'Etat actionnaire est de définir une stratégie pour Renault et pour l'alliance. Nous avons défini la stratégie avec le président de la République, c'est de réussir la transformation technologique de Renault et de Nissan, avoir une stratégie industrielle pour l'alliance qui permette à Renault et à Nissan de réussir cette transformation technologique du véhicule autonome et du véhicule électrique. Voilà la feuille de route fixée à Jean-Dominique Senard, le président de Renault. Maintenant c'est à lui et au Conseil de Renault de définir quelles sont les personnes les mieux à même de mettre en oeuvre cette stratégie. Mais cela, c'est le rôle de la gouvernance de Renault, et ce n'est pas le rôle de l'Etat actionnaire. Nous faisons toute confiance à Jean-Dominique Senard pour choisir avec le Conseil la gouvernance qui sera la mieux à même de mettre en oeuvre cette stratégie industrielle que nous avons fixée avec le président de la République il y a maintenant plusieurs mois.  Q - Si M. Senard décidait de prendre quelqu'un d'autre que Thierry Bolloré, donneriez-vous votre feu vert ?  R - Nous avons toute confiance en Jean-Dominique Senard, je le redis. Nous faisons toute confiance à Jean-Dominique Senard, à la gouvernance, au Conseil de Renault, pour faire les meilleurs choix possibles et pour mettre en oeuvre la stratégie que l'Etat actionnaire a définie. Cette stratégie n'a pas varié depuis plusieurs mois, nous voulons que Renault réussisse sa transformation technologique, soit une belle entreprise industrielle capable de résister à cette transformation technologique majeure, la plus importante depuis le début du 20e siècle. Le véhicule autonome, le véhicule électrique : ce sont des défis considérables. Nous voulons une stratégie industrielle claire, visible, convaincante pour l'alliance. C'est la feuille de route que nous avons fixé à Jean-Dominique Senard et à la gouvernance de Renault. Ensuite le président de Renault et le Conseil d'administration décideront qui sont les mieux à même de mettre en oeuvre la stratégie. Ce n'est pas à l'Etat de s'immiscer dans le choix de la gouvernance de Renault. C'est au président de Renault et au con\",\n",
              "       'de potentialités que nous ne voulons leur en prêter. A nous de les découvrir, de les mettre en valeur. Je pense en disant cela à l\\'échange célèbre entre Jules II et Michel Ange.\" J\\'en ai assez de te voir cogner sur un caillou \" dit le pape et Michel Ange de répondre \" tu n\\'as rien compris, tu ne vois pas que je suis en train de libérer l\\'ange qui est prisonnier à l\\'intérieur \".C\\'est à nous maintenant de jouer, pardon de vivre et d\\'aider à vivre dignement.(source http://www.sante.gouv.fr, le 12 mai 2003',\n",
              "       \"Monsieur le Président de la Fondation de l'Alliance française,Mesdames et Messieurs les membres du Conseil d'administration,Mesdames les Présidentes, Messieurs les Présidents des comités,Mesdames et Messieurs,Je suis heureuse d'accueillir chacune et chacun d'entre vous, ici, au Quai d'Orsay - où je voudrais que vous vous sentiez chez vous -, à l'occasion de votre 33ème congrès annuel.Puisque nous sommes dans les périodes de voeux, je commencerai par m'adresser à chacune et à chacun d'entre vous pour vous adresser des voeux très chaleureux et très sincères, de santé, de réussite dans vos actions, et puis des voeux de bonheur. Je sais que tout ceci sera toujours au service de cette cause à laquelle vous êtes attachés : la cause de la langue française, de la France et de la Francophonie.Depuis près de 130 ans, les alliances françaises contribuent à faire connaître notre langue, notre culture dans le monde entier. Sur tous les continents, les alliances françaises portent l'image de la France telle que nous l'aimons, d'une France fière de ses valeurs, de son patrimoine intellectuel et artistique, riche de ses talents, forte de son inventivité.Partout, vous défendez «l'honneur de la pensée française», selon les termes du Général de Gaulle. L'honneur de partager un héritage culturel, forgé au fil des siècles, inscrit au plus profond de notre histoire. L'honneur de porter des valeurs universelles bien au-delà des frontières de l'hexagone. L'honneur de défendre, non pas une culture, mais des cultures, dans leur diversité, de défendre l'idée même du respect à l'égard des cultures, de défendre aussi l'éloge de la différence et de la fraternité dans la différence.Ces missions sont plus que jamais nécessaires, à la fois au monde qui est en train de se constituer, au rayonnement de la France. C'est bien la raison pour laquelle je souhaite placer les Alliances françaises au coeur de notre politique d'influence.Mesdames et Messieurs,Face aux défis de la mondialisation, la France sait pouvoir compter sur le réseau des Alliances françaises.Ces défis, quels sont-ils ? Si nous regardons bien ce qui est en train de se créer sous nos yeux, nous voyons se créer une sorte de monde multipolaire où, sur tous les continents, s'affirment des blocs démographiques, économiques, technologiques de près d'un milliard d'habitants, si nous regardons la Chine, l'Inde, l'ensemble de l'Afrique, l'Amérique du Sud.C'est également, par rapport à cette apparition de nouveaux pôles, le défi d'un mo\",\n",
              "       \"ustrielles et technologiques. Des secteurs et des pays cibles seront définis, au sein desquels les atouts de la France seront plus particulièrement mis en avant.Comme vous le voyez, nous connaissons nos atouts. Nos objectifs sont clairs et nos moyens en cours de modernisation. Il ne nous reste qu'à redoubler d'ardeur pour valoriser ensemble, avec les fédérations professionnelles et les entreprises, notre offre technologique et industrielle. Je m'y engage et je vous y engage. Je suis convaincu que nous y parviendrons !(\",\n",
              "       \"abilité modérée qui nécessite un financement de long terme que les marchés n'apportent plus. Dans le contexte actuel, quel établissement bancaire accepterait de prêter à des bailleurs sociaux sur des durées de plus de 40 ans à des taux raisonnables ? Seule la puissance publique est capable d'assumer ce risque et je tiens à profiter de l'occasion pour rendre hommage aux hommes et aux femmes qui travaillent aux Fonds d'Épargne et qui permettent à cette institution de jouer ce rôle si fondamental.Nous avons besoin que de l'argent soit investi intelligemment dans le logement. Car c'est un bon investissement. C'est un investissement dans l'épanouissement des ménages et de leurs enfants, c'est un investissement dans le pouvoir d'achat de nos concitoyens, c'est un investissement pour la compétitivité de notre économie.Alors que le coût du travail est au coeur des discussions, n'oublions pas la nécessité de réduire le coût du logement, qui bloque les parcours résidentiels, qui freine la mobilité, qui relègue les ménages modeste à la périphérie des villes, qui rétrécit le champ des emplois accessiblesCeux qui voient dans le logement une dépense stérile, inutile, incapable de répondre efficacement à la crise font erreur. Je crois au contraire que si nous agissons avec rigueur, si nous régulons les excès du marché, si nous ciblons les territoires à enjeux, si nous actionnons les leviers pour libérer le foncier, il n'y a peu d'investissements plus utiles pour notre société que celui en faveur de l'habitat de nos concitoyens. Permettre à chaque ménage d'utiliser son épargne pour participer à cet investissement national, voilà précisément la vocation des fonds d'épargne.Cette action des fonds d'épargne doit en premier lieu être consacrée à la construction de logements sociaux. C'est le coeur de leurs missions et je serai attentive à ce que cela reste ainsi.Le financement de 150 000 logements sociaux par an proviendra pour l'essentiel des prêts du fonds d'épargne, pour près de 15 milliards d'euros par an. C'est un montant considérable. En décidant de relever progressivement le plafond du livret A et du livret de développement durable dès le mois d'octobre 2012, le gouvernement s'est assuré que les moyens nécessaires seraient disponibles tout au long du quinquennat.Au-delà du volume des dépôts centralisés, une réflexion est également en cours sur le coût de la ressource. Le rapport remis récemment par monsieur Duquesne émet plusieurs propositions à ce sujet, dont, en part\",\n",
              "       \" des informations concernant les procédures d'insolvabilité.Mais la proposition de directive insolvabilité va encore plus loin, en modifiant le droit substantiel applicable.Au nom de la libre-circulation des capitaux et de la liberté d'établissement, qui seraient entravées par les différences existant entre les lois nationales sur l'insolvabilité et la seconde chance.Les objectifs alors poursuivis sont :- La prévention de l'insolvabilité par la restructuration précoce,- L'octroi d'une seconde chance aux entrepreneurs honnêtes,- Et une meilleure efficacité des procédures d'insolvabilité.Si l'on peut partager ces objectifs, je compte néanmoins me montrer très attentif à ce que les textes proposés respectent certaines considérations essentielles, qui sont au c\\x9cur du modèle français.Je citerai principalement deux points d'attention.Ä La proposition tend à réduire le rôle du tribunal et des praticiens de l'insolvabilitéLeur intervention est centrale dans le droit français.Elle garantit l'équilibre de la procédure entre débiteur et créanciers et protège l'ordre public économique.Ä Les mesures relatives à l'adoption des plans de restructuration, très précises, qui reflètent une orientation très favorable aux créanciers.Or, pour sa part, le droit français recherche un équilibre, délicat, entre trois considérations fondamentales : la poursuite de l'activité, la préservation de l'emploi, et les droits des créanciers.Cet équilibre n'est d'ailleurs pas forcément le même, selon le stade de la procédure.Mais à aucun moment, l'une de ces considérations ne doit être sacrifiée au profit des autres, ni inversement, l'emporter absolument sur les autres.Enfin, puisque vous l'avez citée, je ne peux manquer d'évoquer une réforme majeure que le ministère de la justice a réalisée.Je parle évidemment de l'ordonnance du 10 février 2016 qui rénove et modernise notre droit des contrats, du régime et de la preuve des obligations.Avec elle, les innombrables contrats conclus chaque jour : entre professionnels, entre professionnels et particuliers ou entre les particuliers eux-mêmes, sont soumis à des règles adaptées à notre temps et accessibles à tous.Même s'il a résisté à l'épreuve du temps, grâce à la jurisprudence qui lui a permis d'évoluer durant deux siècles, ce pan de notre droit civil avait vieilli.En outre, il était largement en-dehors du code civil, puisque façonné par la jurisprudence.Si bien que, pour le maîtriser, il fallait non seulement connaître les règles inscrites dans \",\n",
              "       'lle-même. En inscrivant ainsi l\\'ensemble d\\'un conflit dans un contexte d\\'inhumanité, les auteurs des actes en cause assombrissent à la fois l\\'horizon du vaincu, mais aussi - sans qu\\'ils s\\'en rendent bien compte - leur statut de vainqueur. Leur démarche fondamentalement nihiliste éteint tout espoir : les traumatismes qu\\'ils créent rendent leur victoire fugace et trompeuse. Seul le respect de règles de droit est de nature à permettre d\\'éviter que se produisent de tels phénomènes dans la conduite des opérations militaires. L\\'éthique plutôt que la morale. Pourtant, il est nécessaire que les militaires fassent appel à des considérations non-juridiques pour définir et mettre en oeuvre, dans l\\'emploi de la force, un comportement mesuré. Mais ces considérations relèvent du domaine de l\\'éthique, plutôt que de celui de la morale. La morale est connaissance a priori du bien et du mal. Elle revêt un caractère absolu, en principe indépendant des circonstances. Pour sa part, l\\'éthique ne relève pas de l\\'ordre de la connaissance : elle détermine des règles de comportement dans le domaine de l\\'action. Ces règles sont capitales dans les situations de plus en plus complexes qui caractérisent le déroulement des conflits modernes auxquels nous devons faire face. En effet, l\\'éthique définit en quelque sorte le juste comportement à la croisée de différentes normes morales, qui, face à une situation donnée, peuvent entrer en contradiction voire en conflit. La référence à l\\'éthique ne doit pas obscurcir la perception des exigences de l\\'analyse juridique, mais, au contraire, les éclairer lorsque cela est nécessaire. Ainsi, le comportement des militaires dans l\\'emploi de la force est étroitement guidé par les règles d\\'engagement forgés par les autorités politiques nationales et les instances onusiennes. Ces consignes militaires intègrent, sous la forme simple d\\'autorisations ou d\\'interdictions, le mandat politique donné à une force, ainsi que les règles juridiques qui lui sont applicables dans le cadre d\\'un plan d\\'opérations donné. Comment déterminer des règles d\\'engagement et de comportement qui permettent à la fois de remplir la mission, d\\'économiser hommes et moyens, et de respecter le principe juridique de mesure dans l\\'action ? Dans son célèbre manuel sur le rôle social de l\\'officier, le maréchal Lyautey évoque l\\'action d\\'un officier de l\\'infanterie de marine qui s\\'était fait une loi absolue d\\'épargner et de pacifier la population d\\'une région insurgée de Madagascar. \" Je le r',\n",
              "       \"s.Je crois qu'il serait regrettable que nous laissions passer la chance de multiplier et d'intensifier des liens qui sont des liens utiles pour la France comme pour le Vietnam. Toutes les pistes qui peuvent être améliorées, qui peuvent améliorer nos partenariats doivent être explorées, c'est le principal objectif de ma visite.Je crois en particulier qu'il nous faut une plus grande visibilité, il est nécessaire que les entreprises vietnamiennes et les entreprises françaises se connaissent mieux. Leur mise en relation doit être facilitée.Nous avions créé, Il y a quelques années, un Haut Conseil de la coopération économique, ce Haut Conseil a joué un rôle utile mais il n'a pas été à la hauteur des espérances que nous avions mises dans sa création. Eh bien ! Nous sommes en train de le rénover, nous voulons qu'il associe plus étroitement les entreprises et nous avons décidé du côté français d'en confier la présidence à un membre du gouvernement, Anne-Marie Idrac.Je crois aussi que nous devons favoriser ensemble la sécurité juridique, instaurer un environnement plus favorable aux affaires, écarter les obstacles qui peuvent entraver le commerce bilatéral.Nous avons tous les moyens de produire ensemble une réflexion exemplaire dans ce domaine, par exemple avec la Maison du Droit franco-vietnamienne que j'avais eu l'occasion de porter sur les fonts baptismaux en 1993, et qui va organiser la semaine prochaine la première conférence francophone régionale sur le droit des technologies de l'information et de la communication.Je crois enfin que nous pouvons nous appuyer sur les réussites que je suis heureux de saluer aujourd'hui devant vous : l'aéronautique d'abord, Vietnam Airlines est devenu un très important client d'Airbus. Et avec les contrats qui ont été conclus hier, cette relation reposera désormais sur plusieurs piliers : la formation des pilotes, la création d'un centre de maintenance et un véritable partenariat industriel.Je pense au domaine spatial, nous avons signé une convention de financement pour un microsatellite EADS-ASTRIUM, dont nous espérons qu'il pourra être lancé par ARIANESPACE, dont je veux souligner devant vous que cette entreprise européenne a bien plus de la moitié du marché des lancements de satellites civils dans le monde.Je pense aux transports et en particulier au projet de métro de Hanoï et de tramways à Hô-Chi-Minh-Ville, et je veux saluer les progrès décisifs qui ont été accomplis sur ces deux projets. Parce qu'ils nous indiquent au fo\",\n",
              "       \"onsieur le Président du comité national olympique et sportif français, Cher Jean-François, Mesdames et Messieurs les Présidents, Mesdames, Messieurs, Je suis honorée et heureuse de pouvoir intervenir pour la première fois en qualité de ministre chargée des sports devant vous qui représentez l'ensemble du mouvement sportif français. Je vous remercie, Monsieur le Président , cher Henri Serandour, de cet accueil chaleureux devant la famille du sport ici rassemblée. Je tiens à saluer la force de votre engagement au service du sport et des valeurs de l'olympisme. Je mesure la chance qui nous est donnée de commencer à travailler ensemble à un moment tout à fait privilégié que je n'hésiterai pas à qualifier de « tournant historique », puisque à l'occasion de la campagne présidentielle, le sport a enfin pris toute la place qu'il mérite dans le débat national. Je sais la part que vous y avez prise. Le Comité national olympique et sportif français a su interpeller directement les candidats sur le caractère essentiel des enjeux sportifs pour la société française du début du XXIe siècle. Je me souviens aussi qu'il y a presque un an jour pour jour, la famille politique à laquelle j'appartiens organisait une convention nationale consacrée au sport, à laquelle nous donnions la même importance que nos conventions sur l'économie, la justice ou l'éducation. Ceci n'a pas manqué de susciter la surprise, le dédain voire la raillerie de certains « beaux esprits ». Mais, avec Nicolas Sarkozy, nous sentions que le sport pouvait apporter une contribution forte à cette France, plus ambitieuse, plus dynamique et plus humaine que nous voulons construire. Nous sentions que les temps étaient mûrs pour faire du sport un élément à part entière de notre projet de société dans un pays en quête de valeurs. En effet, avant d'être un secteur économique, un phénomène culturel ou même un loisir, le sport c'est d'abord un ensemble de valeurs, exprimées depuis plus d'un siècle par l'esprit olympique moderne dont vous êtes les dépositaires. Valeurs individuelles de courage et de dépassement de soi, qui contribuent à forger les caractères, conjuguant à la fois respect des règles et épanouissement personnel. Valeurs collectives de cohésion, de solidarité de partenariat et de respect de l'autre, indispensables à notre « vivre ensemble », ce bien commun si précieux : le sport crée du lien. Comment oublier que le premier olympisme a, au travers des Jeux, assuré l'unité du monde grec par-delà les confli\",\n",
              "       \"Grèce mais il en va de la crédibilité du plan proposé. Les prêts sont effectués à des taux non concessionnels afin d'inciter la Grèce à retourner sur les marchés le plus rapidement possible. Nous avons décidé d'un plan et nous le mettrons en oeuvre : les prêts seront remboursés comme l'intégralité de la dette grecque. Et ensemble nous en tirerons toutes les conclusions afin d'éviter la survenance de nouvelles crises.II- Les leçons de la crisea. GouvernanceL'une des leçons de la crise grecque est la nécessité de poursuivre nos efforts en faveur de l'instauration d'une véritable gouvernance économique européenne.Au niveau de la zone euro, l'Eurogroupe a ainsi décidé dès le mois de janvier dernier - à l'initiative de la France et de l'Allemagne, qui avaient écrit en ce sens à Jean-Claude Juncker - de renforcer la gouvernance de la zone euro tant en terme de moyens que d'ambitions dans la coordination des politiques économiques. Assurément nous devons poursuivre nos efforts en ce sens.Plus largement, la Commission travaille actuellement à l'élaboration d'une Communication sur la gouvernance économique européenne, qui nous sera présentée au mois de mai. Autre enseignement, à l'origine de la crise grecque, se trouve la faillite de son système statistique. A nous d'en garantir désormais la fiabilité afin d'éviter qu'un État membre de transmette des données de finances publiques incorrectes ou imprécises à Eurostat dans le cadre du système de surveillance budgétaire. La Commission a déjà démontré sa volonté d'avancer sur ce sujet et je m'en félicite également.Il faudra aussi des disciplines nouvelles. Le Président du Conseil européen, Herman VAN ROMPUY doit animer un groupe de travail, auquel le Président de la République m'a demandé de participer, pour faire des propositions de réforme de la gouvernance avant la fin de l'année.Surtout cette crise financière ravive crûment l'urgence d'une régulation harmonisée.b. Régulation financièreLa régulation des agences de notation est d'abord une priorité que la France avait portée déjà lorsqu'elle assumait la présidence tournante du Conseil. Le 12 novembre 2008, l'Union européenne a adopté un règlement communautaire prévoyant pour la première fois un contrôle et un enregistrement des agences de notation en Europe. Il entrera en vigueur dans un mois, le 7 juin prochain. Il fixe des règles strictes de prévention des conflits d'intérêt, de transparence sur les méthodes de notation et les hypothèses utilisées et prévoit que le\",\n",
              "       \"associations. Je voudrais aborder plus particulièrement trois sujets qui vous sont soumis aujourd'hui. Les deux premiers sont relatifs aux dons des entreprises, le dernier aux dons des particuliers1- S'agissant des dons des entreprises, j'évoquerai tout d'abord l'amendement déposé par la gouvernement destiné à permettre aux organismes publics ou privés, à gestion désintéressée et assujettis à la TVA, de bénéficier du dispositif en faveur du mécénat des entreprises. Cet amendement concerne notamment les associations et les établissements publics qui exercent leur activité dans les domaines du spectacle vivant et du cinéma.Ces organismes n'atteignent leur équilibre que grâce aux concours de l'Etat et des collectivités locales. Ils sont, par ailleurs, assujettis à la TVA, et corrélativement aux autres impôts commerciaux. De ce fait, ils ne pourraient pas bénéficier des circuits de financement du mécénat, ce qui les handicaperait lourdement.C'est la raison pour laquelle je vous propose l'extension du régime prévu par le projet de loi à ces organismes, sous réserve que leur gestion soit désintéressée et que les dons effectués soient exclusivement affectés à l'objet social de l'organisme. Les sociétés commerciales seraient évidemment exclues du cadre de cet amendement. Cela concernerait donc les festivals, les orchestres, les théâtres, les ensembles musicaux et les compagnies. 2- Je souhaiterais ensuite développer l'amendement relatif aux biens culturels d'intérêt majeur, assimilables aux trésors nationaux.Vous le savez, les Trésors nationaux font l'objet d'un refus de certificat d'exportation d'une durée de validité limitée à trente mois pendant lesquels l'Etat peut s'en porter acquéreur. Le cas échéant, le refus de certificat n'est pas renouvelable et le bien peut sortir du territoire national. La loi musée du 4 janvier 2002 accorde aux entreprises une réduction d'impôt de 40 % à l'acquisition pour son propre compte d'un trésor national, et de 90 % aux dons à l'Etat ou à une personne publique pour lui permettre d'acquérir un trésor national destiné à une collection publique. Ce régime s'applique uniquement aux trésors nationaux ainsi entendus. Il représente une avancée importante vers une protection active de notre patrimoine. Votre Assemblée a apporté des améliorations supplémentaires au dispositif de la loi musée, en proposant son application à des oeuvres d'intérêt majeur qui présenteraient toutes les caractéristiques d'un trésor national, et ce, dans deux \",\n",
              "       'Afin de clarifier les conditions d\\'exploitation des données publiques culturelles numérisées ou numérisables, j\\'ai lancé sur ce thème une mission qui me rendra ses conclusions avant la fin de l\\'année.En d\\'autres termes, l\\'intervention de l\\'Etat, en s\\'adaptant aux différents supports et en veillant à toujours se projeter dans la réalité technologique et économique de ce puissant secteur audiovisuel, doit préserver les valeurs et les enjeux que la gauche a toujours défendus. C\\'est une politique cohérente pour l\\'ensemble des médias, qui va au-delà des modes et des engouements et qui contribue à dessiner une forme de vivre ensemble. Les valeurs nécessaires pour \" notre.vie \" ne sont pas différentes de celles qui inspirent notre projet global. (',\n",
              "       \"ris soit un succès pour le climat et faire que les Nations unies puissent être toujours fidèles au mandat qui leur a été donné au lendemain d'une guerre, une guerre terrible. Mais nous sommes encore devant des défis. Nous sommes sûrs de les relever si nous sommes unis pour nous rassembler et ainsi emporter cette victoire.Merc\",\n",
              "       \"fin, le dernier axe, c'est la modernisation de notre économie. Nous avons pris une série de mesures pour moderniser les marchés des biens et services et le marché du travail, c'est-à-dire leur donner plus de flexibilité et dans de nombreux cas aussi donner plus de visibilité aux acteurs, comme vous nous l'aviez demandé. Et qu'il s'agisse de la modification du régime des impatriés, des réformes en matière de pénalisation du droit du travail, des réformes en matière d'actions de performances ou de bons de souscription pour créateurs d'entreprise : ce sont autant de mesures que vous aviez suscitées, que nous avons reprises et qui font aujourd'hui partie de la modernisation de notre appareil productif et des différents marchés.Maintenant, nous devons aller plus loin  et c'est ce que vous m'invitez à faire  en modernisant encore davantage, c'est le deuxième point du triptyque : amplifier l'effort.Cette amplification, pour moi, elle passe par un constat lucide sur l'économie dans laquelle nous nous trouvons aujourd'hui. Parce que beaucoup de ce qui a été fait a été pour réparer, pour corriger, ce sont des mesures d'urgence, mais le monde dans lequel nous évoluons n'est plus celui des Trente Glorieuses, ni de l'économie du rattrapage que nous avons connue. C'est un monde où les choses vont plus vite, sont plus ouvertes, où l'innovation est beaucoup plus brutale et vient fracasser des secteurs d'activités entiers en même temps qu'elle crée des opportunités formidables pour de nouveaux acteurs ou pour les acteurs en place. Et donc ce que nous devons faire aujourd'hui, c'est prendre en compte cette grande transformation qui est à l'oeuvre, qui est une grande transformation technologique, une grande transformation en matière d'innovation, mais aussi en matière d'usage, qui vient bousculer beaucoup de nos représentations classiques ou de nos modes d'intervention. Et en la matière, je pense que nous raterions l'effort français si nous ne prenions en compte le fait qu'il y a trois batailles à livrer.D'abord une bataille culturelle. Dans le cadre de cette grande transformation, il faut que la France arrive  ce que nous sommes en train de commencer à faire, mais il faut aller plus ou moins  à changer de culture, à avoir moins peur du risque, à davantage valoriser l'effort et le travail, à célébrer le succès et à ne pas stigmatiser l'échec. Cette petite révolution culturelle, nous la commençons tous ensemble, mais elle est fondamentale parce que dans cette économie qui n'e\",\n",
              "       \"ant que dirigeant extérieur, je n'ai pas d'ingérence à avoir ou quelque expression que ce soit. J'ai même, sur la lutte contre le terrorisme, une communauté de vue, d'intérêt et une détermination que nous continuerons à avoir en commun.Nous avons ensuite des désaccords sur la vision qui est la nôtre des libertés individuelles dans ce contexte et nous l'avons abordé de manière très précise ensuite, et ça ne peut être abordé d'ailleurs que de manière précise. J'ai donc évoqué plusieurs cas au président ERDOGAN de manière extrêmement spécifique, sur lesquels nous continuerons à dialoguer et c'est comme ça que nous avons toujours fonctionné, avec un dialogue qui a été fructueux. Et je le dois dire, à deux reprises par le passé, lorsqu'un journaliste et un étudiant en journalisme ont été emprisonnés en Turquie, ce dialogue a permis de trouver une issue qui a été favorable.J'ai soulevé en particulier le cas de l'université de Galatasaray qui est pour moi un sujet de grande préoccupation puisque ce sont à la fois des universitaires et des étudiants qui sont sous le coup d'une procédure. Or, c'est un établissement créé par un accord franco-turc de 1992, un pilier essentiel de notre coopération bilatérale et j'ai mentionné le cas de plusieurs dirigeants d'ONG et des journalistes, en particulier dans le cadre des échanges que j'avais eus avec Reporters sans frontières et avec plusieurs journalistes français ou dirigeants de médias français qui m'avaient interpellé sur des journalistes qu'ils soutenaient.Ces cas ont été évoqués point à point et j'ai transmis la liste au président ERDOGAN et nous continuerons à en discuter, à échanger pour que tout ce qui peut être ainsi réglé le soit. De son côté, le président a indiqué plusieurs cas qu'il considère comme liés au terrorisme et qui seraient aujourd'hui en Europe en situation active et nous regarderons de la même façon s'il s'agit d'activité terroriste.Ce que je veux dire ici, c'est que je crois très profondément que nous avons un chemin de crête qui est un défi pour tous les dirigeants mais un défi pour la défense de l'État de droit et de la démocratie à l'époque contemporaine. Nos démocraties doivent être fortes contre le terrorisme parce que la légitimité même de l'État, c'est de protéger ses concitoyens et je m'emploie chaque jour à ce que ce soit le cas. Mais dans le même temps, nos démocraties doivent complètement respecter l'État de droit parce que ce que cherchent les terroristes, c'est de nous affaiblir dans n\",\n",
              "       \"ents tenus : en 2012, nous ramènerons notre déficit à 4,5 % du PIB et nous franchirons ainsi une nouvelle étape sur le chemin bien balisé qui nous conduit à 3 % en 2013 et à 2 % en 2014. Grâce aux mesures annoncées par le Premier Ministre le 24 août, nous avons en effet sécurisé notre trajectoire malgré le ralentissement de la croissance. Et cela démontre notre constance et notre réactivité, qui font aujourd'hui la crédibilité de la France.Ce projet de loi de finances, je veux le souligner devant vous, c'est aussi un budget historique. Car les réformes que nous conduisons depuis 4 ans pour maîtriser nos dépenses portent en effet tous leurs fruits : en 2011, les dépenses de l'Etat, hors pensions et dette, étaient gelées en valeur, eh bien, en 2012, ces dépenses vont même diminuer. C'est du jamais vu depuis la Seconde guerre mondiale.Cette baisse, elle s'explique notamment par nos efforts sur les dépenses de personnel. 5 ans d'application du principe de non-remplacement d'un départ à la retraite sur deux dans la fonction publique d'Etat, ce sont 150 000 postes supprimés. Et cette persévérance se traduira par une autre première en 2012 : la baisse de la masse salariale de l'Etat.Ces efforts, nous les faisons porter sur tous les postes du budget : les dépenses de fonctionnement et d'intervention baisseront ainsi de 10 % sur 3 ans. Nous appliquons aussi nos principes de bonne gestion aux opérateurs de l'Etat. Et en 2012 comme en 2011, nous continuerons à geler en valeur les dotations aux collectivités dans un esprit de coresponsabilité.Aucun acteur public ne peut être exempté de cet effort d'intérêt national. Nous sommes aujourd'hui à un tournant de notre histoire : l'endettement est longtemps apparu comme la solution de facilité offerte aux Etats pour éviter les réformes. Eh bien, cette facilité est arrivée à échéance ; si nous voulons préserver notre souveraineté et notre modèle social, nous devons continuer les réformes que nous avons engagées et ajuster nos dépenses à nos recettes, avec un objectif : cesser de vivre au-dessus de nos moyens.Et dans un pays qui a, vous le savez, l'un des niveaux de pression fiscale les plus élevés au monde, la seule voie durable, la seule manière crédible de réduire les déficits, c'est la maîtrise des dépenses. Il n'y a pas d'alternative : la croissance et le pouvoir d'achat seraient en effet les deux premières victimes du choc fiscal que certains appellent aujourd'hui de leurs voeux.Pour notre part, fidèle notre esprit de re\",\n",
              "       \"ction qui a, par exemple, permis d'identifier et d'interpeller, en octobre dernier, les trois auteurs présumés du viol d'une jeune fille de 18 ans, commis en réunion, le 18 avril 2009, dans le train entre Poissy et Les Mureaux (78). Des rapprochements ont pu être faits entre les enregistrements datant du jour du viol et ceux réalisés la veille à l'occasion d'un contrôle d'identité.Si notre pays compte, aujourd'hui, environ 22 000 caméras de protection sur la voie publique, j'entends tripler ce chiffre d'ici 2011, en lien étroit avec les collectivités locales. L'objectif est bien de 60 000 caméras.En 2009, nous avons d'ores et déjà financé 75 réseaux de vidéo-protection et j'ai mené une véritable démarche de sensibilisation auprès des maires tant et si bien que depuis la fin de l'année, j'ai pu observer une évolution des mentalités : les réfractaires d'hier sont devenus les convaincus d'aujourd'hui. Grâce à la police d'agglomération, nous avons fait tomber les frontières du périphérique et grâce à la vidéo-protection, nous faisons reculer les carcans idéologiques !(3) Mobilisation renforcée, organisation perfectionnée, mais aussi réactivité systématique. Dès qu'un problème apparaît, je le traite sans délai.Je prendrai 5 exemples.-> Premier exemple : chaque fois qu'il y a eu des événements dans des quartiers sensibles, nous avons apporté une réponse rapide et dépêché sur place suffisamment d'effectifs pour éviter toute violence urbaine.Cela a incontestablement permis d'éviter, au cours du second semestre 2009, que des incidents ou des violences n'embrasent durablement un quartier ou un territoire.-> Deuxième exemple : la lutte contre les violences dans et aux abords des stades. Alors que les premiers matches de football du championnat de France de Ligue 1 2009/2010 étaient émaillés d'incidents violents, symptôme d'une radicalisation de pseudo-supporteurs, j'ai décidé, sans attendre, de créer une division nationale de lutte contre le hooliganisme.De plus, nous avons établi un nouveau partenariat avec les clubs et la ligue professionnelle de football pour adapter notre dispositif. Désormais, tout est mis en oeuvre pour éloigner des stades, ceux qui, par des cris, des gestes ou des banderoles, se rendent coupables de violences ou de propos à caractère raciste ou antisémite.-> Troisième exemple : la lutte contre l'insécurité routière. En octobre, au vu des tendances, j'ai voulu donner un important coup de collier à la lutte contre la l'insécurité routière et un \",\n",
              "       \"au travers du Pavillon Bleu rencontre un succès de plus en plus important. C'est pour cette même raison que les touristes se rendant dans notre pays sont aussi attentifs à la campagne que vous menez, chers collègues, en faveur de l'information sur la qualité des eaux de baignade. La France a su globalement préserver ce potentiel naturel littoral et intérieur lié à l'eau. Cela lui permet aujourd'hui de se positionner au premier rang des destinations des clientèles d'Europe du Nord, je pense en particulier à l'Allemagne, à l'Angleterre, à la Scandinavie, dont chacun connaît les exigences en matière d'environnement. Aujourd'hui, plus de 50% des touristes séjournant dans notre pays le font en bord de mer. C'est pourquoi la campagne de communication menée par le Ministère chargé de l'environnement et celui de la santé contribue de façon efficace à la sécurisation de nos touristes français comme étrangers. Elle constitue également un encouragement pour les collectivités territoriales et locales à poursuivre leurs efforts en faveur de l'assainissement des communes littorales ou lacustres et de la propreté des plages. La prise en compte de l'environnement si essentielle au développement d'un tourisme de qualité est une uvre commune qui concerne chacun d'entre nous : l'Etat, les collectivités locales, les partenaires privés et les associations, sans oublier bien sûr les citoyens eux-mêmes. Je m'attacherai à promouvoir auprès de l'ensemble de nos touristes cette démarche conjointe entre nos ministères, les associations et les collectivités concernées qui favorisera j'en suis convaincue, le développement d'un tourisme de qualité pour tous, essentiel à notre économie nationale et à l'emploi. (\",\n",
              "       \"one, est encore possible, mais qu'elle nécessite un accord ambitieux entre tous les pays du monde.Pour lutter contre ces changements, nous savons également que les deux principaux leviers d'action sont l'atténuation des émissions de gaz à effets de serre et l'adaptation des comportements et des sociétés humaines aux effets du changement climatique.Nous savons tout cela et nous devons agir.Et c'est vous encore qui, aujourd'hui, rapportez du monde entier les connaissances scientifiques et les moyens techniques de répondre durablement à l'urgence.Vous prenez quelquefois tous les risques, y compris physiquement, pour faire avancer la cause du climat, notre cause commune. Je pense, parmi tant d'autres exemples, aux efforts des glaciologues, dont les investigations souterraines nous apportent la connaissance d'un passé nécessaire à la préparation de l'avenir. D'un passé « Elément essentiel du futur » pour citer le magnifique intitulé de l'une des sessions de votre conférence.Je pense au carottage, par moins 50° celsius, pour espérer découvrir une couche de glace toujours plus profonde et ancienne. Le froid, la solitude parfois. Le matériel qui se brise au milieu de nulle part, et qu'il faut réparer soi-même. La joie d'avoir fait une découverte inédite, susceptible de changer le cours des choses. Et puis, après de longs mois, l'arrivée de la relève, le retour dans son pays d'origine, au Laboratoire, en famille, le bonheur de retrouver ses collègues et ses proches, et en même temps la nostalgie de ces mois passés dans le grand froid au service du progrès commun. Comme Marie Curie donnant sa vie pour faire progresser la connaissance du radium, vous bravez les souffrances pour déposer au pied de l'Humanité les moyens de son salut. Et c'est vous encore qui, demain comme hier et comme aujourd'hui, continuerez de nous permettre d'ajuster en permanence notre action à la réalité mouvante de la Nature et de son climat. Pour tout cela, je voulais aujourd'hui vous dire ma gratitude. Car grâce à vous, plus personne aujourd'hui ne peut sérieusement questionner la part de l'homme dans le réchauffement climatique, ni sa capacité à le maîtriser. C'est là un immense changement, qui nous permet d'aborder la COP21 avec confiance.4. Je voulais vous dire également ma détermination et celle de la France au seuil de la difficile négociation qui s'annonce entre 196 pays.L'action politique doit transformer en décision vos découvertes.Nous savons tous que nous devons impérativement trouve\",\n",
              "       ' ou d\\'une autre - c\\'est une première constatation - la nouvelle configuration devra réaffirmer cet engagement central à toute défense européenne future.. Le développement des capacités opérationnelles de l\\'UEO, auquel nous avons travaillé ensemble depuis son transfert à Bruxelles, en 1992, est un autre acquis. Ces capacités d\\'analyse, de planification, de renseignement et de direction d\\'une opération à travers l\\'état-major militaire de l\\'UEO, sont les outils indispensables pour que les Européens puissent décider et conduire une opération militaire par eux-mêmes.. Le lien avec la PESC a été patiemment construit au fil des ans. Ce n\\'est que cette année que nous avons donné une signification concrète à l\\'article J4-2, prévu dans le Traité de Maastricht, par lequel l\\'Union européenne demande à l\\'UEO de mettre en oeuvre ses décisions qui ont des implications dans le domaine de la défense.Ce mécanisme commence à fonctionner, certes pour des opérations de modeste envergure encore : l\\'Union peut ainsi s\\'appuyer effectivement sur l\\'UEO, qui lui prête son concours ; c\\'est une bonne chose ; la reprise, dans le Traité d\\'Amsterdam, des missions de Petersberg devra conduire à recourir de plus en plus à ce mécanisme.Mais le Traité d\\'Amsterdam va un peu plus loin encore : d\\'abord, la création d\\'un Secrétaire général, Haut-Représentant pour la PESC ; ensuite, sous l\\'égide du Conseil européen qui \"définit les principes et orientations générales de la PESC, y compris pour les matières ayant des implications en matière de défense\", la \"définition progressive d\\'une politique de défense commune\", qui \"pourrait conduire à une défense commune, si le Conseil européen en décide ainsi\" ; enfin, si, là encore, le Conseil européen le décide, l\\'intégration de l\\'UEO dans l\\'Union, comme l\\'ont rappelé le président de la République française et le Premier ministre.. Enfin, ces dernières années, les relations toujours plus étroites entre l\\'UEO et l\\'OTAN ont permis de démontrer aux Européens, comme à nos alliés américains que chacun a sa place. Ce que l\\'Europe de la Défense gagne, en efficacité et en crédibilité, ne se fait pas au détriment de la cohésion de l\\'Alliance.A ce jeu d\\'une défense européenne renforcée, chacun est gagnant, qu\\'il s\\'agisse d\\'un fardeau mieux partagé ou d\\'un partenariat plus équilibré.L\\'UEO a joué un rôle majeur dans le développement d\\'une culture de confiance et de non-concurrence.Pour nous, c\\'est sur ces acquis que doit se développer la politique européenne de sécur',\n",
              "       '. J\\'ai sauvé Alsthom, en faisant racheter par l\\'Etat 22 % du capital d\\'Alsthom. Deux ans après, Alsthom est une des plus belles entreprises françaises. Je me suis battu contre la Commission, je me suis battu contre mes amis libéraux sur cette question-là.B. Guetta : C\\'est-à-dire que vous êtes partisan d\\'un rôle de l\\'Etat dans l\\'économie ?R- Je pense que le ministre des Finances sert à autre chose que rester assis sur sa chaise les bras croisés. Je n\\'ai pas apprécié la disparition de Péchiney, sans que l\\'on ne dise rien. Je n\\'ai pas apprécié ce qui s\\'est fait en Lorraine avec la sidérurgie.Q- B. Guetta : Et pourtant, vous vous êtes longtemps réclamé d\\'une rupture libérale.R- Juste un mot là-dessus : on a martyrisé la Lorraine, en disant que la sidérurgie ça ne servait à rien et qu\\'il y avait trop d\\'acier. Aujourd\\'hui, il n\\'y a pas assez d\\'acier, le prix de l\\'acier explose, on voit ce qu\\'il nous en a coûté. Deuxièmement, je refuse l\\'assistanat. Mais la protection sociale, le mot \"protéger\", je le fais mien. Le rôle de l\\'Etat c\\'est de protéger. Mais protéger cela veut dire quoi ? Cela veut dire quelqu\\'un qui est à un minima social doive exercer une activité en contrepartie.Q- B. Guetta : Et cela veut dire qu\\'à vos yeux il y a trop de protection sociale ?R- Il y a trop d\\'assistanat. Je prends un exemple, essayons d\\'être concret...Q- B. Guetta : Non, non, il y a trop de protection sociale ?R- Il y a trop d\\'assistanat !Q- B. Guetta : Vous ne me répondez pas là.R- Mais si, je vais vous répondre. Quand le Conseil régional socialiste d\\'Ile-de- France décide de la gratuité des transports pour les RMIstes, je pense qu\\'ils font une erreur, parce que celui qui est au RMI a les transports gratuits ; il reprend un emploi, comme récompense d\\'avoir repris un emploi, on lui dit : maintenant, tu paieras tes transports. Ce n\\'est pas comme cela qu\\'on encourage le travail. Je prends un autre exemple : je suis pour que les indemnités de chômage soient augmentées. Mais je demande qu\\'on ne puisse pas refuser plus deux offres d\\'emploi consécutives qui correspondent à vos qualifications, parce que l\\'assistanat enferme une personne dans une inutilité sociale. La protection sociale, c\\'est celle qui consistera à dire à tous les RMIstes : on va vous donner une formation qui vous permettra d\\'exercer un emploi. La crise morale française porte un nom : c\\'est la crise du travail.Q- B. Guetta : Donc, on a bien compris, sur ce point en tout cas, vous rejoignez les libéraux. Mais...R- Non, on ',\n",
              "       \"le, illusoire.Je crois, moi, que l'enseignement supérieur et la recherche sont des enjeux trop importants pour ne pas faire l'objet d'un véritable investissement.Je crois, moi, que le véritable courage, c'est d'aborder de front cette question de la démocratisation exigeante, qui est l'un des grands défis auxquels nos universités doivent faire face ! Economiquement, nous avons besoin d'individus mieux formés, plus qualifiés, parce que d'une façon générale le marché de l'emploi va de plus en plus exiger des niveaux de qualification supérieurs à ceux que nous avons aujourd'hui, et surtout il demandera de savoir s'adapter, d'être créatif, entreprenant, curieux, autant de qualités qui se travaillent au sein de nos universités et de nos grandes écoles.En tant que société, nous faisons face à une situation inédite. Avec internet, avec le numérique, nous nous trouvons à un moment charnière. Un moment où se pose la question de savoir si nous voulons une société de consommateurs passifs et ignorants, ou si nous voulons continuer à défendre une certaine conception de l'être humain, de la personne, de l'individu.La question peut paraître un peu brutale, mais les faits sont là. Avec internet, une quantité faramineuse d'informations est accessible ; mais aussi une quantité délirante de désinformations, de discours complotistes et fanatiques. Le meilleur comme le pire sont à portée de clic.Nous sommes devant un défi colossal. On peut l'appeler, celui de la société de la connaissance ; on peut l'appeler, celui de l'ère numérique ; mais quel que soit le nom qu'on lui donne, il ne sera relevé que par l'enseignement supérieur et la recherche.Ce que l'université, ce que nos grandes écoles, ont à apporter, à transmettre, à donner à notre pays, est trop précieux pour le réserver à quelques-uns.Oui, il y a un objectif de professionnalisation, bien sûr. Mais il y a aussi un enjeu plus vaste, qui concerne ce que l'on apprend à l'université, de façon plus générale. Une ouverture. Une méthodologie. On y apprend à apprendre.On y apprend non seulement des faits, des connaissances, mais aussi comment se fabriquent les savoirs.On y apprend que les savoirs sont vivants, qu'ils se vivent, et que l'on peut toujours travailler davantage, progresser davantage, et poser sur le monde qui nous entoure un regard qui sait unir la conscience du présent, l'attention à ce qui est, et la distance qu'offre l'esprit critique.C'est cela que met en jeu, aussi, l'Université. C'est cela qu'elle apporte à c\",\n",
              "       \"'activité à la main de l'administration lorsqu'une entreprise commet des infractions graves : cela permettra de réagir vite et donc de porter un coup d'arrêt réel à la fraude ;- la généralisation de la carte d'identification professionnelle du BTP, non seulement pour les salariés affiliés à une caisse de congés payés du BTP, mais également pour les intérimaires et les salariés détachés par une entreprise établie hors de France présents sur les chantiers. Cette mesure très forte et emblématique permettra de faciliter grandement les contrôles de l'inspection du travail.Plus d'efficacité, c'est aussi doter notre droit du travail, au-delà de la seule question du détachement, de sanctions qui soient crédibles, proportionnées, et dès lors effectives et efficaces : C'est l'objet de la réforme de l'inspection du travail et de celle du délit d'entrave, prévues par ordonnance.Il nous faut donner aux inspecteurs du travail le pouvoir d'intervenir efficacement, en temps utiles, avec des moyens appropriés. La réforme de l'organisation de l'inspection du travail menée l'an dernier par décret assurera un fonctionnement plus collectif et des priorités de contrôle mieux définies notamment en matière de travail illégal. Il nous faut désormais compléter cette réforme par un volet annoncé dès l'origine, le renforcement des pouvoirs de l'inspection, notamment à travers l'instauration d'une sanction administrative plus rapide et efficace que la voie pénale actuellement existante.La même nécessité de se doter de sanctions effectives se retrouve en matière de délit d'entrave.Aujourd'hui, la peine de prison pour entrave au fonctionnement des institutions représentatives du personnel n'a plus de sens : elle est disproportionnée par rapport à certains faits (délais de transmission de documents par exemple) et elle n'est quasiment jamais appliquée par les juges.Elle a donc pour principal effet de dissuader les investisseurs étrangers de venir en France, sans remplir sa finalité première.C'est pourquoi il sera proposé de supprimer cette peine de prison et, à la place, d'instaurer une amende qui soit applicable et réellement dissuasive, sans pour autant freiner l'investissement étranger. Car c'est aussi une des clés de l'attractivité de la France qui se joue là.Plus d'équité et d'efficacité, cela passe aussi par une justice prud'homale qui fonctionne. Le constat est aujourd'hui largement partagé : la justice prud'homale souffre de dysfonctionnements importants : la conciliation est réd\",\n",
              "       \"s la décision d'actionner le plus vite possible 3 leviers : - D'abord, les recettes de cessions d'actifs seront prioritairement affectées au désendettement. L'affectation du produit des cessions des concessions autoroutières représente déjà 10 Mdeuros. En outre, la vente des titres d'Alstom et d'ADP représente plus de 2 Mdeuros supplémentaires. Au total, entre le 1 er janvier et le 31 mai 2006, l'Agence France Trésor a déjà racheté 8,6 Mdeuros de dette, pour l'essentiel grâce aux recettes de cessions. - Ensuite, le pilotage de la trésorerie de l'État va être profondément infléchi.J'ai décidé dès cette année d'un principe très simple : pas 1 euro d'endettement de plus que le strict nécessaire pour faire face à la gestion courante! Par conséquent, tout en veillant bien entendu à ce que la capacité de l'Agence de disposer de la trésorerie dont l'État a besoin reste intacte, l'AFT va se doter de nouveaux outils tels qu'un BTF à très court terme pour limiter au minimum son matelas de sécurité ; elle bénéficiera également pour cela d'une amélioration radicale des remontées d'information de la part des administrations dépensières dans le cadre d'une opération exemplaire de réforme de l'État. J'ai demandé en particulier à l'AFT de limiter les émissions de dette à court terme aux stricts besoins de la gestion courante. Ainsi, l'encours de bons du Trésor à court terme (BTF) a été réduit de près de 11,3 Mdseuros entre le 31 décembre 2005 et le 31 mai 2006. La seule gestion de la trésorerie de l'État devrait donc permettre de dégager dès cette année plus de 20 Mdeuros de ressources qui contribueront au désendettement de l'État. - Enfin, cet effort d'optimisation de la trésorerie doit être partagé par l'ensemble des acteurs publics : État, organismes sociaux, collectivités locales, ou des structures comme la CADES , le FSV ou le FFIPSA par exemple. C'est dans cet esprit que j'ai annoncé avant-hier lors du Conseil d'Orientation des Finances publiques la création du Comité interministériel de la trésorerie des administrations publiques. Par ailleurs, si des surplus de recettes fiscales étaient constatés, ils ne seraient pas gaspillés comme ce fut le cas à la fin des années 90 : ils viendraient réduire encore notre déficit public et donc notre dette, conformément d'ailleurs à la disposition prise en Loi de Finances. 3. En même temps que nous réduirons de manière substantielle l'endettement, nous poursuivrons cette année nos efforts de réduction du déficit public, qui pass\",\n",
              "       \"du Règlement. Ce groupe pluraliste travaille avec pour ambition et objectif de réaffirmer la place du politique dans la procédure législative, c'est-à-dire la place de tous les groupes politiques, ceux de la majorité, mais aussi ceux de l'opposition et les groupes dits minoritaires. Nous approfondissons la démocratie sénatoriale dans le débat législatif pour garantir et approfondir les droits des groupes. Nous avons également modifié les règles de vote au sein de la Conférence des PrésidentsJ'ai exposé les nouvelles orientations décidées par le Bureau sur proposition des Questeurs. Nous avons encore trois réunions au minimum.Nous sommes maintenant, Messieurs les Questeurs et moi-même, à votre disposition pour répondre à vos questions.\",\n",
              "       \"Mesdames et Messieurs,Je voudrais remercier Vladimir POUTINE pour la qualité de l'accueil qu'il a réservé à la Délégation française qui m'accompagne, pour cette nouvelle réunion du Séminaire intergouvernemental franco-russe. Nous avons passé près de six heures ensemble en deux jours à débattre de tous les sujets qui concernent les relations franco-russes, mais aussi des sujets concernant les relations internationales. J'ai rencontré ce matin le président MEDVEDEV. De tous ces entretiens, je retire, au fond, un seul enseignement : l'excellence de la relation franco-russe qui, depuis plusieurs années, n'a cessé de progresser en diversité, en densité et j'ai envie de dire surtout en confiance mutuelle. Et nous avons pris ensemble l'engagement de continuer à oeuvrer à l'amélioration de cette relation dans le cadre d'un partenariat sincère, d'un partenariat confiant et d'un partenariat qui n'est pas pour nous seulement lié aux résultats de nos entreprises, qui n'est pas seulement lié aux contrats que nous signons, qui naturellement sont importants pour donner du travail aux salariés en France, pour répondre aux besoins de l'économie russe. Mais à travers ce partenariat, ce que nous sommes en train de faire, c'est construire un espace européen commun, un espace européen commun où demain, circuleront librement les marchandises, les personnes, la culture et un espace européen commun qui sera un espace de sécurité. Au fond, face aux grands défis de la mondialisation qui secouent nos modèles économiques, la France, l'Europe d'un côté, la Russie de l'autre, ont tout intérêt à se rassembler, à travailler ensemble, à construire un modèle économique et social qui ne nous conduise pas à nous laisser imposer un autre modèle dont nous ne voudrions pas.La Russie est un partenaire stratégique de premier ordre pour la France, et la France entend bien être aux côtés de la Russie dans son entreprise de modernisation comme la France attend, en retour, de la Russie, qu'elle nous soutienne sur la scène internationale. Et je pense en particulier à la présidence française du G20 et dans moins d'un mois, du G8, où nous allons porter des dossiers très importants, justement dans cette idée de régulation de la mondialisation pour lesquels nous comptons bien sur le soutien de la Russie.Ma visite s'est inscrite dans un double contexte, vous le savez ; la clôture de l'année croisée France-Russie hier soir au Théâtre du Bolchoï - malheureusement à laquelle nous n'avons pas pu assister en ra\",\n",
              "       \"oyeurs pour leur dire et pour rappeler effectivement cette règle des 35 heures et leur demander d'être vigilants, et que ces techniques managériales qui permettaient (parce qu'on a utilisé ces fameux horaires comme outil de négociation) eh bien il faut passer maintenant à d'autres méthodes de gestion RH.Ce gouvernement depuis quatre ans il travaille sur une fonction publique rénovée, ça a été le cas de PPCR, c'est-à-dire des rénovations des grilles de salaire et des parcours professionnels, ça a été le cas avec la loi déontologie, ça a été le cas avec la volonté de dégeler le point d'indice, et c'est le cas aujourd'hui de vouloir travailler sur tous les sujets de la fonction publique y compris cette question des 35 heures.Moi je travaille pour une fonction publique transparente, une fonction publique ouverte, une fonction publique exemplaire, voilà.Nous sommes, Monsieur LAURENT et moi, à votre disposition pour répondre à vos questions.\",\n",
              "       \"ation de l'amont des urgences l'est tout autant.2.1. A ce titre, le député Thomas Mesnier, médecin urgentiste de formation, m'a remis le 22 mai dernier son rapport sur l'organisation territoriale des soins non programmés.Trois axes d'amélioration ont été retenus par le rapporteur :* structurer sur les territoires la réponse à la demande de soins non programmés,- renforcer la régulation médicale dans l'orientation des patients,- et favoriser la fluidité du parcours de ces patients. Des propositions ont été mises sur la table et sont débattues dans le cadre des consultations de la stratégie de transformation du système de santé ou du plan d'accès aux soins.2.2. Le ministre de l'Intérieur et moi-même avons missionné les inspections générales de l'administration et des affaires sociales pour faire un bilan de la mise en oeuvre du référentiel du secours d'urgence à personne, et de l'aide médicale urgente.Ce bilan doit tenir compte, à la fois :- des évolutions d'organisation sur le terrain,et de l'objectif du président de la République, à savoir simplifier la prise en charge des appels d'urgence, et développer les plateformes d'appels.Mieux orienter nos patients est donc un enjeu crucial pour la qualité de la prise en charge mais aussi  ou plutôt, devrais-je, et aussi  pour l'efficacité de notre système de soins.2.3. Or, ces dernières semaines, l'actualité a été marquée par un drame qui remet en question le fonctionnement des SAMU.Comme vous, j'ai été très marquée par les circonstances du décès de Naomi Musenga, qui font l'objet d'une mission d'inspection à ma demande, afin que toute la clarté soit faite sur ce drame.Le 14 mai, j'ai demandé à vos représentants de remettre pour juillet des propositions, pour une meilleure prise en charge des appels :- en actualisant les procédures de traitement de ces appels, et en formant mieux les personnels qui répondent au téléphone. Nous avons l'obligation d'apporter aux Français l'assurance que cette qualité est au rendez-vous.2.4. Le projet de modernisation du système d'information et de télécommunication des Samu-Centres 15, dit programme SI SAMU, contribue déjà à la sécurisation de la prise d'appels.Depuis l'an dernier, le projet est entré dans sa phase de réalisation : dans quelques mois, un programme pilote sera mis en place à Mulhouse, avant que ne suivent d'autres pilotes.3. Quant aux catastrophes et aux attaques de ces derniers mois, elles nous ont rappelé que nous devons nous préparer aux situations de crise, à tou\",\n",
              "       'Allocution de Madame Michelle DEMESSINESecrétaire d\\'État au TourismeConférence de presse\"Stations Kid\"Paris, le jeudi 3 avril 2001Madame la Présidente,Mesdames, messieurs,Chers amis,Je souhaiterais en premier lieu, vous remercier, Madame la Présidente, de votre invitation à participer à cette conférence de presse qui témoigne du renouveau de votre association - vous venez de l\\'évoquer - mais surtout, d\\'une initiative à laquelle je suis depuis longtemps attentive : le Label Kid.Sans chauvinisme aucun pour une région à laquelle nous sommes , je le sais, toutes deux très attachées, je voudrais tout d\\'abord souligner que ce n\\'est sans doute pas par hasard que ce label de qualité a vu le jour, il y a presque dix ans, dans la région la plus jeune de France, le Nord Pas de Calais.En effet, confrontée depuis toujours à une demande croissante d\\'activités touristiques et de loisirs de proximité - formulée en particulier par la frange la plus jeune de sa population - cette région a pris en compte très tôt le problème spécifique de l\\'accueil de l\\'enfant, seul ou en famille, dans la politique d\\'aménagement et d\\'équipement touristique de son territoire.Le Label Kid est né de cette volonté d\\'offrir un accueil particulier et sécurisé à ce jeune public. Il est également le fruit, d\\'une réflexion plus large sur cet extraordinaire potentiel de développement touristique que constitue l\\'enfant, en tant que touriste lui-même.Je me souviens d\\'ailleurs qu\\'à l\\'époque de la naissance de votre label, diverses études de comportement avaient été menées à l\\'initiative du Comité Régional de Tourisme Nord Pas de Calais, créateur du label. Toutes démontraient le rôle primordial joué par l\\'enfant dans la consommation des familles et en particulier dans le choix du lieux et du mode de vacances, faisant ainsi de lui, un \"client\" potentiel très convoité et courtisé. Vous avez d\\'ailleurs, madame la Présidente, rappelé son rôle décisionnel dans le choix de la destination.Dépassant cette simple analyse économique et les tentations qu\\'elle engendre, le Comité Régional de Tourisme Nord Pas de Calais a, préféré initier à cette époque, une démarche de qualité.Celle-ci visait bien sûr à satisfaire au mieux les attentes spécifiques de cet \"enfant touriste\" et, à travers elles, celles de ses parents. Mais elle visait aussi à le faire dans le respect de l\\'enfant, de sa fragilité, de sa nécessaire sécurité physique et morale.Et c\\'est bien cette vision novatrice du tourisme, empreinte d\\'éthique, qui a san',\n",
              "       \"Mesdames, Messieurs,Sur mon impulsion et sous l'égide du Premier Ministre, s'est tenu le 25 septembre dernier un comité interministériel du Handicap. C'était la première fois depuis sa création en 2009.Cette mobilisation placée sous le signe de l'égalité a permis d'aborder ce défi dans toutes ses dimensions : égalité devant l'emploi, la santé, la citoyenneté et  c'est l'objet de notre rencontre de ce jour  la culture.Je me réjouis donc de pouvoir travailler main dans la main avec la Ministre de la Culture pour faire en sorte que les personnes handicapées puissent accéder tant que possible à l'ensemble des \\x9cuvres culturelles, quelle qu'en soit la forme, et être elles-mêmes créatrices. Les personnes handicapées sont actrices à part entière de la vie culturelle.La culture, parce qu'elle est une production de symboles, fait le lien entre nos imaginaires, nos représentations. Elle est fondamentalement ce qui nous permet d'éprouver la fraternité.Si les personnes handicapées subissent aujourd'hui toutes sortes de relégation, c'est peut-être avant tout dans l'accès à une culture commune que se niche la clé de l'égalité. Car pour être égaux, il faut déjà être convaincu que nous sommes des semblablesJe ne minimise pas la dimension objective du handicap mais j'ai de plus en plus la conviction que l'amélioration de la condition des personnes handicapées passe par une plus grande ouverture de la société sur cette forme d'altérité.Aujourd'hui, le handicap est absent du débat public, les personnes handicapées sont rendues invisibles. Pourtant, je pense que la culture est un vecteur privilégié de leur inclusion. Il est donc primordial que les pratiques culturelles puissent leur être accessibles.Le CIH a acté cette urgence et la feuille de route qui en est issue prévoit pour cela des actions immédiates et des chantiers de plus long terme.Nous avons missionné avec Aurélie Filippetti, le directeur de la Bibliothèque Nationale de France et la directrice de l'Institut National des Jeunes Aveugles pour mettre en \\x9cuvre une plus grande fluidité entre les services proposés par PLATON, la Plateforme de Transfert des Ouvrages Numériques et la Banque de Données de l'Edition Adaptée. Ces travaux, désormais engagés, sont attendus pour développer et faciliter l'accès des usagers aveugles ou malvoyants aux \\x9cuvres adaptées.Nous préparons également l'intervention législative nécessaire à l'élargissement de l'exception au droit d'auteur à toutes les formes de handicap. Cette évolution est e\",\n",
              "       \"Monsieur le Président, Mesdames et Messieurs, Chers Amis,Je tenais avant tout à vous remercier pour votre invitation et pour avoir également associé à ce dîner, l'essentiel de mes conseillers présents ce soir à Lyon.Comme vous le savez, depuis hier, et jusqu'au 28 septembre, nous sommes installés dans des algécos sur la place Bellecour. Stendhal trouvait cette place lugubre parce qu'habitée par une population, « fort dévote et peu gaie ». D'ailleurs, l'animation qui y règne depuis quelques heures autour de nous, en est en tout cas un désaveu flagrant. Je veux croire que, pour votre part, vous serez sensibles au fait que j'ai élu domicile dans la ville natale de son contemporain, Benjamin DELESSERT, le fondateur de la première caisse d'épargne en France.Depuis sa création en 1818, La Caisse d'épargne est devenue un groupe bancaire d'envergure international, multi-métiers et multi-enseignes et je suis heureuse de vous retrouver ce soir pour évoquer avec vous les grands défis qui attendent notre pays en matière de logement .Les objectifs fixés par le Président de la République et déclinés par le Premier ministre, lors de sa déclaration de politique générale, sont sans précédent : * Il s'agit de construire 500.000 logements nouveaux par an, dont 120.000 logements sociaux. * Il s'agit également de promouvoir une France de propriétaires : avec l'objectif d'atteindre rapidement le chiffre de 70% de propriétaires (avec un moyen parmi d'autres : 40 000 locataires de logement HLM doivent pouvoir devenir propriétaires de leur habitation).Derrière ces chiffres, il y a surtout les besoins des hommes et des femmes de ce pays qui sont gigantesques. Les problèmes de logement touchent en effet tous les Français. Nos compatriotes ne peuvent plus se loger que dans des conditions de confort et de coût inacceptables.Sans parler de ceux, de plus en plus nombreux, qui n'ont tout simplement plus de toit. Nous ne pouvons pas nous y résignerLa crise du logement - j'en suis convaincue - met en péril l'équilibre de notre République et la cohésion de notre société.Afin d'afficher ma totale détermination à relever le défi du logement, j'ai décidé de décentraliser une partie de mon ministère à Lyon, non pas pour en faire un gadget mais pour y rencontrer et y mobiliser tous les grands acteurs du Monde du Logement. A-delà des organismes HLM, des notaires ou des promoteurs constructeurs qui y tiennent leur congrès, ce sont pas moins d'une trentaine organismes, publics, privés ou associatif\",\n",
              "       \" à parcourir.Pour une raison simple : dans un futur proche et de manière durable, nous aurons toujours plus besoin de logements étudiants.A en croire une enquête menée par l'institut IPSOS en mars dernier, ce mouvement qui pousse les jeunes à quitter le domicile familial pour s'installer ailleurs, loin de s'essouffler, s'amplifie et même s'accélère, et ce dès leur entrée dans le Supérieur.Ils sont ainsi plus de 60 % à faire ce choix aujourd'hui, contre seulement 45 % il y a encore 3 ans.Ce mouvement que l'on dit de décohabitation, nous avons d'ailleurs ni à le craindre, ni à le regretter. Il traduit simplement une aspiration profonde de la jeunesse française à l'autonomie, sans doute plus forte ou plus précoce qu'autrefois. Une envie d'indépendance qui n'est pas immédiatement matérielle ou financière, mais qui participe tout autant à la construction d'une personnalité et à l'émancipation d'un individu. Et c'est la raison pour laquelle nous avons plus que jamais le devoir d'y répondre. Car ce désir d'indépendance est une étape décisive de la transition vers l'enseignement supérieur qui est un temps d'études bien évidemment, mais aussi un temps où l'on fait l'apprentissage des nouvelles libertés et des nouvelles responsabilités qui seront celles ensuite de la vie adulte et de la vie professionnelle.Vous l'aurez compris, c'est parce que je crois profondément que cette question du logement est intimement liée à la réussite de nos étudiants que je me refuserai à ce qu'à nouveau nous prenions du retard, faute d'avoir pris à temps l'exacte mesure de nos besoins.A l'évidence nous partageons tous cette ambition et c'est la raison pour laquelle, ensemble, nous devons nous poser les bonnes questions :Quel objectif ambitieux mais raisonnable pouvons-nous fixer en termes de construction de nouveaux logements ? Et par conséquent comment répondre aux demandes qui ne seront pas satisfaites ?Comment mieux faire connaitre aux jeunes les possibilités qui leur sont offertes et comment encourager sous toutes ses formes de nouvelles opportunités, dans l'habitat social comme dans le privé ?Quelle doit être enfin le rôle et la place de chacun dans cet effort général que nous devons mener ? Quels partenariats favoriser ? A quelle échelle doit-on les mettre en \\x9cuvreA toutes ces interrogations, c'est à vous qu'il revient maintenant de répondre. Mais je veux vous dire dès maintenant deux convictions auxquelles pour ma part je ne dérogerai pas.La première d'entre elles c'est que nous \",\n",
              "       \"audra également opérer « un renversement d'image » car les métiers, par exemple du recyclage ou de la déconstruction automobile, assimilés à l'heure actuelle à des métiers « vieux » et peu valorisants vont connaître un nouvel essor avec le besoin que nous aurons de recycler de manière systématique toutes les matières premières. Cela demandera d'inventer de nouveaux processus, de la recherche et de la créativité.Cela nous amènera à des actions de promotion, de sensibilisation et d'information en direction à la fois du grand public, mais aussi des prescripteurs de l'orientation et des professionnels. Le service public d'orientation devra prendre en compte, comme l'a précisé Martin Hirsch tout à l'heure, ces nouveaux métiers.Ensuite, évidemment il ne suffit pas d'identifier de nouveaux besoins : encore faut-il que notre dispositif de formation se mette en mouvement. Il doit le faire à deux niveaux :* au niveau de la formation initiale, nous travaillons en lien avec Luc Châtel pour adapter les programmes et les diplômes aux nouvelles réalités des métiers, à développer des socles communs de compétences pour les métiers qui seront appelés à travailler ensemble. Par exemple, lors d'une visite de terrain avec les professionnels, il m'a été souligné que le manque de référentiel de qualification était un obstacle à l'embauche de salariés par les entreprises pour la pose de panneaux photovoltaïques. Dès la prochaine rentrée scolaire, l'éducation nationale proposera une mention complémentaire « technicien en énergies renouvelables » au bac pro électrotechnique et énergétique. Dans l'enseignement supérieur, Valérie Pécresse souhaite que les exigences du développement durable soient intégrées dans les critères d'habilitation des formations supérieures.* Au niveau de la formation continue, il faut à la fois introduire des modules généraux de sensibilisation au développement durable dans toutes les formations et parallèlement compléter par des modules spécifiques des formations généralistes (je pense en particulier aux métiers du bâtiment par exemple) pour leur donner la spécialisation nécessaire pour exercer un métier « verdi ».Nous proposons également de donner de la visibilité aux organismes de formation qui intègrent dans leurs programmes et leurs pratiques le développement durable par la création d'un label.II. Deuxième axe, comment accompagner la mobilisation des filières ?Le plan de mobilisation des filières et des territoires, a vocation à accompagner les entrepri\",\n",
              "       \"ation. Ce sont eux qui sont en première ligne, confrontés à la détresse humaine, et qui quotidiennement participe à faire appliquer les principes de la République.Ce message de gratitude ne signifie pas que le travail social ne peut être repensé. Comme vous le pointez dans le rapport, de sérieuses difficultés sont posés à a profession qui se retrouve selon vos mots « entre le marteau et l'enclume ». Pour sortir de cette position particulièrement inconfortable, nous tiendrons en 2014 des Assises du Travail Social où tous les sujets sensibles seront traités.Je ne veux pas être plus longue. Je vous remercie une nouvelle fois pour ce rapport d'une grande exigence intellectuelle. Avec ce rapport, vous procédez en fait à la réhabilitation de la Solidarité et de l'Assistance comme fondements du lien social. Ce lien est fragile, ce lien est précieux ; il doit être préservé et nourri. Il est ce qui fonde notre appartenance à une même communauté, la communauté humaine, et plus spécifiquement, à celle de la République française, dont l'Assistance est l'un des socles.Je vous remercie.\",\n",
              "       \"Votre question nous reporte à 1973. La démocratie chilienne était alors citée en exemple. Rappelez-vous le renversement de cette démocratie, Salvador Allende acculé au suicide, l'arrivée en France et dans d'autres pays d'Europe de réfugiés, accueillis et aidés par les gouvernements tant conservateurs que sociaux-démocrates, car tous étaient révulsés par ces événements. Rappelez-vous ensuite la nuit des tortures, des assassinats, des disparitions.Certes, nous respectons le droit des Chiliens de discuter entre eux des moyens de dépasser les séquelles de leur histoire. Il n'empêche, comme l'a dit le Premier ministre dès hier, que nous ressentons tous un sentiment de soulagement et de justice à voir que l'impunité recule partout dans le monde.C'est pour cela que les autorités françaises ont eu lors des négociations de Rome, il y a quelques semaines, une attitude dynamique qui a contribué à l'adoption du statut de la Cour pénale internationale, dont l'objet est précisément de remédier aux défaillances des justices nationales et de juger les responsables de crimes particulièrement odieux et importants.Il reste maintenant à faire entrer cette Cour dans les faits : la France est au premier plan dans cette action. C'est un progrès sans précédent dans la lutte contre l'impunité.(source http://www.diplomatie.gouv.fr, le 11 octobre 2001\",\n",
              "       \"rès des personnes âgées et handicapées et des professionnels. Ce travail était indispensable, pour poser les fondations d'un renouveau des métiers du grand âge et de l'autonomie, car au-delà des personnes âgées, il faut aussi améliorer la prise en charge des personnes en situation de handicap qui, elles aussi, vieillissent. Il fallait dresser un portrait précis de ces métiers et identifier tous les leviers susceptibles de les rendre plus attractifs. 1) Des constats très forts sur les métiers du grand âge et de l'autonomie ont donc été faits et ces constats sont ceux de métiers sinistrés. Ils sont sinistrés parce que : - Les niveaux de rémunération y sont faibles. Non seulement ils sont faibles, mais ils s'accompagnent d'un taux de pauvreté élevé, avec, par exemple, 17,5% de ménages pauvres parmi les intervenants à domicile contre 6,5% en moyenne pour l'ensemble des salariés ; - Ces chiffres sont une réalité, inacceptable, et ils peuvent à eux seuls suffire à expliquer la baisse de 25% en six ans des candidatures aux concours d'accès d'aides-soignants; - L'un des facteurs de ce manque d'attractivité réside aussi dans les conditions d'exercice des missions, à domicile comme en établissements, qui sont des conditions difficiles et, puisque les mots ont un sens, pénibles. Le taux de sinistralité des métiers du grand âge est trois fois supérieur à la moyenne nationale. Face à ces constats, peut-on rigoureusement s'étonner de voir que les métiers du grand âge sont peu recherchés par les jeunes, alors que les besoins de recrutements sont élevés ? Non, et je ne m'en étonne pas, parce qu'il ne suffit pas de dire qu'un secteur ou qu'une filière recrute pour que les jeunes veuillent s'y engager. Beaucoup de jeunes veulent faire un métier qui a du sens, peut-être même plus aujourd'hui qu'hier. Mais force est de constater que l'engagement, la quête de sens et l'envie d'être utile ne sont pas suffisamment reconnus et trouvent leurs limites légitimes dans la peur de la précarité. Le sens, d'accord, évidemment même, mais pas à n'importe quel prix et pas dans n'importe quelles conditions. Des actions et des initiatives ont déjà eu lieu pour restaurer l'attractivité des métiers du grand âge et de l'autonomie, en actionnant les leviers de la formation et de la qualité de vie au travail. Sur la méthode, ces actions étaient pour la plupart dispersées et leur impact a été faible. A titre d'exemple, la réforme de l'apprentissage n'a eu jusqu'à présent qu'un effet très limité sur\",\n",
              "       \"mation. Et je sais à ce niveau la contribution que vos comités départementaux de tourisme et votre comité régional de tourisme ont apporté à la mise en place du serveur national Résinfrance et à la conception de Tourinfrance. Cet investissement en faveur d'une meilleure lisibilité de l'offre et d'une plus grande accessibilité, a contribué largement à l'objectif d'une meilleure répartition dans le temps et l'espace de votre fréquentation touristique que vous vous étiez fixé. Il a sans doute permis aussi de mieux répondre aux attentes de votre population en termes de tourisme et de loisirs de proximité, favorisant ainsi sur l'ensemble de la région l'indispensable plurisaisonnalité des hébergements et des activités. L'ensemble de la politique que vous venez de définir s'est donc articulé autour de ces notions qui vous sont chères, celles de la modernité, de l'innovation mais aussi de l'authenticité, de la tradition et de la qualité. Tout ceci contribuera, j'en suis convaincue, à conforter la place essentielle dont vous bénéficiez dans l'économie touristique de notre pays. Mais pour gagner le formidable pari que vous vous êtes lancé à vous-mêmes, il vous faudra en relever un autre, celui de l'emploi mais aussi et surtout celui de la qualité de l'emploi. Vous le savez tous, l'emploi est la priorité numéro un de ce gouvernement. Tous ces efforts convergent en faveur de la diminution du chômage par la création d'emplois durables et qualifiés. Le tourisme doit prendre toute sa place dans ce combat en faveur de l'emploi. Pourtant, il nous faut encore constater que trop souvent dans ce pays comme dans le monde, l'emploi touristique rime encore avec précarité. Or, nous n'avancerons durablement dans l'objectif de la qualité que si nous intégrons à celui-ci une véritable politique de l'emploi touristique. La France compte en effet plus de 420.000 travailleurs saisonniers dont les conditions de vie, de travail, de logement et de santé sont parfois extrêmement difficiles. C'est la raison pour laquelle, comme vous le savez, j'avais confié à Monsieur Anicet LE PORS, ancien ministre, conseiller d'Etat, un rapport qu'il m'a remis au début de cette année. C'est sur les bases de ce rapport que j'ai engagé une démarche qui s'appuie sur un important travail interministériel, une mobilisation des services de l'Etat sur le terrain pour aborder le mieux possible la diversité des situations et une sensibilisation et une concertation des partenaires sociaux. Un certain nombre d'actio\",\n",
              "       \"utre et je pense qu'il est plus vertueux  ce qui ne veut pas dire qu'il est sans difficulté.A la place qui est la mienne, je voudrais tenir ici un propos sur le travail et sur la dimension professionnelle qui est le c\\x9cur de votre sujet. Pour parcourir le monde du travail, je ressens un nouveau besoin. Les lois Auroux ont créé le droit d'expression dans les entreprises, avancée capitale qui concernait la marche de l'entreprise ou les conditions de travail. Aujourd'hui, je plaide pour une deuxième génération de lois Auroux, offrant un droit d'expression non pas dans l'absolu, mais sur ce qui fait le métier, l'acte lui-même de travailler, ce qui constitue le bon travail et le mauvais travail, les bonnes et les mauvaises méthode. L'enjeu est là. A travers lui, il s'agit de redonner aux travailleurs une prise sur leur travail et par la même du sens à celui-ci. La presse professionnelle a quelque chose de fondamental à apporter à cet échange sur le métier. Elle est, et peut-être encore davantage, le carrefour des expressions sur ce que c'est que travailler, innover dans son travail, initier de nouvelles méthodes ou de nouveaux procédés, faire retour sur une expérience (réussie ou non). La presse professionnelle, pour le dire d'une autre manière, doit être une forme d'agora de cette démocratie du travail qui se cherche.C'est un mouvement profond, qui va bien au-delà de la presse professionnelle, concerne l'organisation du travail, la place du dialogue social, la capacité de construire des actions collectives et des buts partagés, mais la presse professionnelle peut en être un ciment comme elle est déjà, aujourd'hui, un trait d'union entre les acteurs d'un même secteur. Son rôle est donc loin d'être marginal dans l'approche du travail qui est la mienne.J'ajoute que les formes du travail sont en évolution. En plus du savoir-faire et des compétences, travailler suppose un véritable savoir social et communicationnel, qui incorpore aujourd'hui plus qu'hier de l'information  tant celle que l'on reçoit que celle que l'on donne. Disposer ainsi de ressources informationnelles précises et fiables est de plus en plus décisif. J'entends, d'ailleurs, madame la présidente, que vous allez dans ce sens en disant vouloir assumer le caractère utilitaire de la presse professionnelle et contribuer de ce fait à rendre le lecteur plus opérationnel dans son travail. C'est un objectif judicieux et sans doute la condition pour maintenir un lien étroit avec les différents milieux professi\",\n",
              "       \"compagnateur de bénéficier de tarifs préférentiels, voire de la gratuité, dans les transports en commun. C'est une mesure de justice sociale. La justice sociale, Mesdames et Messieurs les députés, vaut aussi pour les travailleurs du secteur. Elle passe par la mise en place d'un cadre social adapté pour les salariés des transports, par car et autobus, dont les entreprises s'ouvrent à la concurrence. Il s'agit tout à la fois de garantir la continuité de service et le maintien de garanties sociales de haut niveau à l'occasion des transferts des contrats de travail. C'est ce à quoi ce texte répond dans les transports urbains et interurbains, en Ile-de-France et dans le reste du pays, à l'issue d'un vaste travail de concertation avec les partenaires sociaux. C'est cette même préoccupation de justice sociale qui nous conduit à proposer la mise en place d'un cadre pour réguler les relations entre les plateformes et les travailleurs indépendants qu'elles font intervenir. Il repose à la fois sur des obligations et des incitations fortes. Et, l'impératif de justice, Mesdames et Messieurs les députés, vaut aussi entre nos territoires. La politique d'infrastructures dont nous héritons a porté d'indéniables succès mais elle est devenue le symbole d'incontestables fractures. La programmation que nous proposons entend réparer ces liens qui doivent unir nos territoires. Réparer les liens entre nos territoires, c'est investir 13,4 milliards d'euros dans ce quinquennat. C'est considérable, 4 milliards de plus que lors du quinquennat précédent. Nous l'assumons. Nos territoires ont besoin d'investissements. Réparer les liens entre nos territoires, c'est donner la priorité à l'entretien des réseaux existants : routiers, ferroviaires, fluviaux. C'est moins spectaculaire que d'inaugurer de nouvelles infrastructures. Mais chacun le sait, c'est ce que nos concitoyens attendent de nous pour la sécurité et la qualité de leurs trajets du quotidien. Réparer les liens entre nos territoires, c'est mettre en oeuvre le plan de désenclavement routier de nos territoires ruraux et villes moyennes. Ces itinéraires indispensables qui, contrat de plan, après contrat de plan ont été repoussés. Réparer les liens entre nos territoires, c'est doter nos métropoles de véritables RER comme il en existe en Ile-de-France. 2,6 milliards d'euros y seront consacrés en dix ans. C'est enfin investir dans les transports en commun et les infrastructures de transport de demain. Qui dit programmation dit finance\",\n",
              "       \"né un avis favorable à ce texte le 24 septembre.Nous aurons également à discuter des conditions de mise en oeuvre d'un débat annuel sur les retraites au sein de ce conseil.Je conclurai mon propos par quelques mots sur les conditions dans lesquelles se déroulera cette nouvelle phase de concertation.Nous avons le plaisir d'avoir avec nous aujourd'hui quelqu'un qui ne vous est pas inconnue, Marie-Anne Lévêque, pour sa première réunion en tant que directrice générale.Je souhaite lui confier une très grande responsabilité dans la conduite de ce cycle. Il lui reviendra de tenir avec vous la plupart des réunions figurant sur l'agenda qui vous a été transmis. Elle sera donc votre interlocuteur de premier plan même si bien entendu, mon cabinet et moi-même continueront à vous rencontrez régulièrement sur chacune des grandes échéances des chantiers que je vous propose.Je vous remercie.\",\n",
              "       \"politiques agricoles durables, l'accès aux énergies renouvelables et aux réserves d'eau constituent de puissants moyens de prévention.La protection des populations vulnérables est un problème central. La France propose de prendre deux initiatives en liaison avec les Nations unies :- Pour les enfants, Conférence internationale en février 2017 à l'occasion du dixième anniversaire de l'adoption des Principes de Paris et 12 ans après la résolution 1612 du Conseil de sécurité sur les enfants dans les conflits armés. La dimension catastrophe climatique y sera intégrée. Les besoins en éducation sont considérables car les crises privent 75 millions d'enfants d'y accéder.- Un événement en marge de la semaine ministérielle de l'Assemblée générale des Nations unies en septembre, sur le thème « Femmes et sécurité », en référence à la résolution 1325 du Conseil de Sécurité. La catastrophe climatique y sera intégrée.Comme j'ai eu l'occasion de le dire dans le cadre d'un événement sur les femmes pendants la COP21 et lors d'un événement organisé la veille de la signature de l'Accord de Paris du 22 avril 2016 : les femmes sont plus durement victimes des catastrophes, mais si on leur donne les moyens et le pouvoir d'agir, alors elles en sont aussi la solution.Des projets régionaux efficaces sont attendus. Quelques exemples de situations critiques :- Dans les deltas, la seule augmentation de 50 cm du niveau de la mer va entraîner le déplacement de millions de personnes et la destruction de terres agricoles.- La disparition du lac Tchad a entraîné l'essor de Boko Haram par la destruction des communautés villageoises et des équilibres alimentaires.- Les sécheresses très dures en Afrique australe entraînent des famines et des déplacements massifs Sud-Sud, très déstabilisateurs pour ces pays.Plusieurs projets régionaux ont été lancés lors de la COP21 : sur le lac Tchad, la Grande muraille verte et aussi l'initiative Énergies renouvelables en Afrique pour laquelle je présenterai un rapport d'étape à l'occasion de la réunion de la Banque africaine de développement.On peut considérer que les 100 milliards de dollars annuels, prévus d'ici 2020 puis tous les ans, dans la décision de l'Accord de Paris contribuent à la prévention des conflits climatiques.L'initiative de la plateforme Nansen sur les déplacés climatiques qui est lancée à l'occasion de ce sommet humanitaire, suite à l'initiative de la Norvège et de la Suisse, vise à renforcer la coordination internationale, échanger sur l\",\n",
              "       't year, our social security system will be back on track.The third reform is even more difficult but just as vital. This is the State reform. Through the impetus of structural trends, such as budgetary accounting reform, the move towards decentralization and the European integration process, we have embarked on a strategic reform of the State\\'s role. This reform has too many ramifications to be completed in one year but it is well underway. C. Although the \"major reforms\" drain much of our energy, they are not enough by themselves. We must continue to boost our strengths and to remove rigidities.Our general goal is to rehabilitate work, in contrast with the past. It is also an input in the measures we take. To promote work, we have clearly chosen to make work pay. This goes for all job categories but especially for low wages: with our decision to relax the conditions of the too famous \"35-hours\", a worker can choose to earn more by working longer ; with our lower income tax and higher earned income tax credits policy, his take-home pay improves ; which, with the decrease of pay-roll taxes, is sustainable for his company.On top of this strategy, we are focusing on the following three priorities :fostering entrepreneurshippromoting innovationgearing public policies to France\\'s attractiveness1st priority: fostering entrepreneurshipBecause business creation is the backbone of the value-creation process, we have launched a plan to encourage the spirit of enterprise, thus to help the very many \"potential creators\" to be found in our country to \"take the plunge\" and develop their own businesses.In particular, this law: makes setting up a company a particularly simple matter (possible on the Internet with just 1 euro of capital); it enables new entrepreneurs to postpone the payment of social insurance contributions in the first year before the first euro of sales is earned;it also gives entrepreneurs the possibility of setting up their own firms while still remaining employed during the start-up phase. Lastly, I should add that entrepreneurship also concerns the State and clarification of the relations between the State and state-owned enterprises. Many state-owned enterprises with competition-driven businesses are to be privatized in the months ahead. We have changed the status of several enterprises to make sure they are immediately operational when market conditions are right (France Telecom, which has completed a brilliant takeover of Orange; Air France, which',\n",
              "       \" dans le secteur privé. Et lorsqu'il est dans le secteur public, c'est avec des procédures de recrutement. Mais nous avons besoin de contrats aidés à condition qu'ils soient utiles, pas simplement pour régler momentanément une difficulté, mais pour former, qualifier ceux qui en sont les bénéficiaires.Premier objectif, c'est d'atteindre 100 000 emplois d'avenir d'ici la fin de l'année. Ces emplois  vous le savez  sont destinés aux jeunes les moins qualifiés, à ceux qui n'ont aucune chance, dans l'état actuel de notre économie, d'accéder à un emploi dans le secteur privé. 33 000 à la fin du mois de juin sont déjà dans ce dispositif. Nous devons accélérer la montée en charge. Et, ici, je lance un appel, une fois de plus, aux collectivités locales et aux associations, je sais ce qui leur est demandé à travers ces emplois d'avenir, former des jeunes, c'est indispensable, c'est leur devoir. Mais je rappelle ce qui est l'ampleur de la participation de l'Etat, 75%. Et j'insiste sur les perspectives d'insertion que ces emplois représentent pour les moins de 25 ans.J'ai demandé au ministre du Travail de faire plein usage de toutes les souplesses prévues par la loi pour permettre l'embauche de jeunes non qualifiés, mais aussi de jeunes qualifiés, s'ils sont issus des quartiers les plus difficiles. J'ai également souhaité que ces emplois d'avenir soient élargis dans certaines conditions et dans certaines limites au secteur privé, parce qu'il y a des branches, comme le tourisme, les services à la personne et la santé, qui peuvent se montrer disponibles, ce qui suppose, bien sûr, une participation de l'Etat beaucoup plus faible, et un effort de formation pour ces jeunes.Deuxième dispositif, les contrats de génération : ils sont entrés en vigueur il y a à peine trois mois, ils connaissent un indéniable succès dans les petites entreprises. La procédure est simple, et aujourd'hui, il y a 1 000 contrats qui sont signés par semaine, avec la prime de 4 000 euros qui est attachée à chacun de ces contrats. Dans les autres entreprises, une négociation entre partenaires sociaux est nécessaire, ce qui peut entraîner du temps, et je le comprends. Il y a déjà eu un premier accord de branche dans le secteur de l'assurance, c'est bien, mais c'est beaucoup trop peu.L'occasion m'est donc, là encore, donnée. Je demande aux entreprises concernées, aux organisations professionnelles, aux acteurs sociaux, d'engager, au plus vite, toutes les discussions, branche par branche, entreprise par e\",\n",
              "       \"Je suis heureuse de partager aujourd'hui ce déjeuner avec vous au Salon du Bourget, pour discuter ensemble de notre politique spatiale. Mais avant d'en venir à un bilan de mon action dans le domaine et aux perspectives pour les prochaines années, permettez-moi de m'associer aux paroles de soutien qui ont été adressées aux familles et aux amis des disparus du vol AF447. Cet accident a endeuillé l'ensemble de la famille aéronautique et marque fortement ce centième anniversaire du Salon du Bourget.Certains esprits chagrins voulaient même voir cette belle fête placée sous le signe de la crise économique et du risque que peut représenter la grippe A pour le secteur des transports. Et pourtant, de nombreux contrats ont déjà été signés depuis le début de la semaine, ici, au Bourget.L'activité spatiale est aussi privilégiée. La demande commerciale en télécommunications est croissante, tirée par la télévision en très haute définition et en services spatiaux intégrés. Et le chiffre d'affaires du secteur spatial est assuré pour environ deux tiers par les programmes institutionnels, par définition très stables.En Europe, les Etats ont même choisi le secteur spatial comme un axe fort de la politique de relance. L'investissement record de 10 milliards d'euros à l'occasion de la dernière réunion au niveau ministériel du conseil de l'Agence spatiale européenne en est la démonstration.Dans son rapport publié la semaine dernière sur les perspectives du secteur à l'horizon 2018, Euroconsult prévoit même une augmentation de 50% de la demande de satellites, et donc aussi de lancement, entre la période 1999-2008 et la période 2009-2018. C'est une aubaine pour l'ensemble des industriels spatiaux européens.Mesdames et messieurs, je vois dans cet engouement spatial un des résultats de la présidence française de l'Union européenne. Avec la réunion des ministres européens chargés de l'espace à Kourou en juillet dernier, nous avons réussi à faire prendre conscience de l'intérêt de l'espace pour l'ensemble des pays de l'Union, même ceux qui n'ont pas encore d'industrie spatiale. Ce tour de force a été possible grâce à l'action de votre groupe parlementaire pour l'espace, Monsieur le Président (Pierre LASBORDES), auprès de ses homologues européens, et aussi grâce à l'action de l'ensemble des personnels du CNES, Monsieur le Président (Yannick d'ESCATHA).Je tiens aussi à saluer tout particulièrement votre présidence de l'Union, Madame la Ministre (Miroslava KOPICOVA), qui a su faire vivr\",\n",
              "       \"coup plus grave.Je ne parlerai pas du bilan de Nicolas Sarkozy. Juste un mot : il a dit quand on veut on peut, alors qu'il n'y a eu aucune relance européenne.Il n'y a rien eu de tout cela pendant la présidence de Nicolas Sarkozy. Et en tout cas, les autres pays ont pu lui dire : ne nous demandez pas de faire ce que vous ne faites pas vous-même dans votre pays.Puis il faut le dire, en rentrant dans l'OTAN comme il l'a fait, sans discussions, en décourageant même les derniers gaullistes qui existent dans notre pays, il a mis un coup d'arrêt à la défense européenne si nécessaire. Voilà ce bilan. Il a dit : je veux être jugé sur mes résultats. Et bien le 7 juin, on va le juger sur ses résultats, en France et en Europe, et sur les résultats du libéralisme. Alors oui, l'Europe mérite ce grand débat. Et aujourd'hui, comme d'habitude, quand on ne veut pas parler de son échec, on amène les grosses ficelles.J'aimerais rappeler que l'Europe est née des philosophes du 18e siècle qui ont dit clairement qu'il fallait s'adresser à la raison et au coeur des hommes. Or aujourd'hui, on s'adresse à leur moelle épinière quand on leur parle de sécurité. Mais aujourd'hui, ça ne marchera pas, car nous, les socialistes, dans nos villes, nous menons une action pour la sécurité. Et puis qu'il ne nous fasse pas des coups de menton : 24 textes depuis 2002, et une augmentation de 30 % des violences faites aux personnes.Et voyez, il y a quelques jours, des bandes qui tirent à l'arme de guerre sur des policiers. Un enfant qui donne un coup de poignard à un enseignant. Des prisonniers qui sont dans la nature : que dirait la droite si nous étions aujourd'hui au pouvoir et que la situation était celle-là dans notre pays ? La vérité, c'est que sur la sécurité comme sur le modèle social, par idéologie, la droite a cassé tout ce qui marche. Elle a cassé la police de proximité, et voudrait nous faire croire que la vidéosurveillance la remplacerait.On a supprimé les éducateurs, les accompagnateurs dans les écoles, et aujourd'hui, on voudrait mettre des portiques ! Quel aveu d'échec ! Des portiques alors que les enfants ont besoin d'éducation, que les enseignants ont besoin d'être formés. Qu'on ne nous donne pas de leçons, qu'on ne nous refasse pas le coup de la sécurité, les Français ont très bien compris aujourd'hui le schéma. Et puis alors, bien évidemment, on regarde celui qui est différent. Je crois qu'on aura droit à un discours sur l'immigration dans quelques jours, car c'est celui qu'on \",\n",
              "       \"ettement par rapport aux élections législatives précédentes. Les communistes vont déployer toute leur énergie, toutes leurs forces, toute leur capacité de conviction pour repousser l'extrême droite et contribuer à la défaite d'une droite menaçante. Elles, ils vont pour cela poursuivre et intensifier le dialogue engagé avec notre peuple depuis le 21 avril. Au plus près des femmes et des hommes qui, déçus par la politique menée par la gauche plurielle, l'ont durement sanctionnée, elles et ils feront tout pour montrer le danger terrible que représenterait une victoire de la droite le 16 juin, montrer que sa défaite est une condition incontournable pour que puisse s'ouvrir l'espoir d'une politique répondant réellement à leurs exigences. Il faut tout faire pour gagner cette bataille capitale qui décidera de la politique de la France pour cinq ans. Cela exige que, partout, les candidates et candidats de gauche se désistent s'il y a lieu, et appellent avec force et détermination à se rassembler au second tour autour du candidat ou de la candidate de gauche arrivé-e en tête au premier. J'appelle toutes les candidates et tous les candidats communistes à contribuer à cette bataille décisive en appelant dès ce soir à voter pour les candidats de gauche les mieux placés. Là où les électrices et les électeurs ont placé en tête un ou une candidate communiste, j'appelle toutes les autres forces politiques de gauche à prendre la même décision démocratique et responsable. Les communistes ont montré qu'ils étaient des adversaires résolus de l'extrême droite. Ils ont compris que la gauche ne retrouverait la confiance des milieux populaires qu'en se replaçant franchement à gauche, en étant attentive d'abord aux attentes des plus modestes, du monde du travail. Dimanche prochain ils porteront avec détermination les couleurs de la gauche et plus généralement celles de la démocratie. J'appelle ce soir toutes les électrices et électeurs de gauche à se mobiliser pour battre la droite et permettre l'élection du plus grand nombre possible de députés communistes qui seront dans tous les cas, à l'Assemblée nationale, une force indispensable de résistance et de proposition.(\",\n",
              "       \"Je tiens à vous dire ma satisfaction de présider aujourd'hui à Brest cette deuxième séance de la Commission Locale d'information et de concertation.Dans la perspective de la prochaine arrivée à Brest de l'ex-porte-avions Clemenceau, cette réunion est pour moi l'opportunité de faire un point sur les décisions à prendre rapidement, et, à plus long terme, sur les pistes que nous explorons pour la gestion des navires en fin de vie.Etre responsable, c'est savoir gérer le quotidien tout en préparant l'avenir. Ces deux actions sont indispensables et interdépendantes. L'action politique ne doit pas se contenter de répondre aux urgences du présent, mais s'inscrire dans l'ambition collective de l'avenir de la France. De la même manière, la préparation de l'avenir ne doit pas nous faire oublier les exigences du présent. C'est ce qui guide mon action pour l'ex-Clemenceau. La nécessité d'une filière de démantèlement des navires en fin de vie est clairement apparue aux yeux de tous. C'est un sujet d'envergure mondiale. Je suis donc toujours aussi décidée à créer cette filière, même si cela prend nécessairement du temps. Pour autant, l'enjeu de l'ex-Clemenceau est immédiat. Il exige une réponse rapide. Des pistes ont donc été explorées, et des décisions ont été prises pour son retour et la durée de son stationnement à Brest, mais aussi pour son démantèlement. C'est ce dont je veux vous faire part aujourd'hui.Le retour de la coque Q790 et son stationnement à Brest J'ai tenu à venir moi-même vous informer des mesures qui sont prises pour l'arrivée de la coque à Brest.Actuellement au large de Gibraltar, la coque arrivera probablement le 17 mai, sauf aléa météo.J'ai demandé que, dès son entrée dans le port, des dispositions soient prises pour garantir la sûreté d'une coque qui a parcouru plus de 18000 kilomètres depuis son appareillage de Toulon, le 31 décembre. Il importe d'abord de vérifier la bonne étanchéité de la coque, et d'en retirer les eaux de ruissellement, qu'elle a probablement emmagasinées au cours de son périple.Pour que l'accès à bord soit possible, des vérifications de l'atmosphère seront entreprises dans de nombreux locaux d'un navire qui en comporte quelques 1200. Lorsqu'un éclairage aura été disposé, et si ces contrôles s'avèrent positifs, un circuit de visite sera alors autorisé. Ces opérations dureront environ 15 jours, à la fin desquels des experts pourront se rendre à bord. Par la suite, les membres de cette commission qui le souhaitent pourront égalem\",\n",
              "       \"Two countries united forever.Deux pays unis à jamais.Unis comme l'étaient Maerten Soolmans et Oppjen Coppit.Unis par Rembrandt pour l'éternité.Aujourd'hui, la France acquiert le portrait d'Oopjen.Aujourd'hui, les Pays-Bas acquièrent le portrait de Maerten.Mais leur union reste indissoluble et inaliénable à la fois : ainsi l'avons-nous établi, par un accord entre nos deux gouvernements.Un accord qui n'a aucun précédent.Un accord qui avait tout, lorsque nous l'avons annoncé, d'un faire-part de mariage.Ce que certains d'entre vous n'ont pas manqué de souligner.C'est qu'on ne sépare pas ce que l'histoire de l'art n'a jamais séparé !Les mains entre lesquelles ces deux portraits sont passés  il y en eut peu ces quatre cents dernières années  ont toujours veillé à les tenir ensemble.Eric de Rothschild, en les proposant à la vente, n'a pas voulu déroger à ce principe, comme son ancêtre Gustave les a toujours ainsi conservés, lui qui les acquit en 1877 auprès de la veuve de Willem Van Loon, qui les tenait lui-même de Pieter Van Winter, lequel les avait achetés au marchand d'art Pruischenaar, qui se les était procurés auprès des héritiers lointains des commanditaires. Oopjen et Maerten partageront donc leur avenir, toujours ensemble et alternativement, entre deux prestigieuses résidences : le Louvre et le Rijksmuseum auront soin de leur destin. Je les en remercie et je leur dis ici toute ma confiance : les savoir-faire bien connus de nos conservateurs et de nos restaurateurs les préserveront de l'effet du temps et du mouvement.Chaque visiteur, à Paris ou à Amsterdam, pourra désormais contempler ces deux \\x9cuvres, longtemps tenues au secret des collections privées.Chaque jeune européen aura même désormais l'occasion de croiser, gratuitement, le regard d'Oopjen et celui de Maerten, au moins une fois dans sa vie.C'est bien ce que nous souhaitions rendre possible, car c'est la vocation même des musées de nos pays respectifs.Au Louvre, les portraits ne dépareront pas aux côtés de la fascinante Bethsabée au Bain, ni à proximité des autoportraits de Rembrandt qui figurent dans nos collections nationales. Ils contribueront même à les faire rayonner davantage. La famille royale des Pays-Bas sera bientôt en visite à Paris. Je souhaite que nous puissions, à cette occasion leur présenter les deux portraits.Dans l'histoire de ces toiles, tout fut au fond une affaire d'union.N'a-t-on pas cru un temps que le noir dont était revêtue Oopjen signifiait la douleur et le chagrin du deuil\",\n",
              "       \" fermeté.Rendre possible ce qui n'est aujourd'hui que souhaitable, c'est affronter la question de la préservation des terres naturelles et agricoles. On ne peut plus faire ou laisser faire le contraire de ce que chacun reconnaît comme une fuite en avant : on ne peut plus continuer à consommer des terres naturelles et agricoles de manière inconséquente au rythme où nous le faisons.Pour lutter efficacement contre l'étalement urbain, il faut non seulement une politique de maîtrise et d'anticipation foncière intelligente. Mais il faut aussi aux élus les moyens de cette politique.Les communes et les intercommunalités doivent disposer de l'ingénierie foncière la plus efficace pour répondre aux besoins spécifiques de chaque territoire, ce qui veut dire disposer des moyens qui leur permettront au mieux de concrétiser leurs stratégies de développement et mettre en oeuvre des projets de réhabilitation de leurs centres anciens, leurs projets d'aménagement résolument tournés vers l'avenir.C'est la raison pour laquelle je souhaite que les opérateurs fonciers se développent, qu'ils s'agissent d'établissements publics fonciers d'Etat ou locaux : les uns comme les autres sont au service des territoires. La différence entre les deux ? C'est que l'Etat, au nom de l'égalité des territoires et de l'intérêt général ait la capacité d'intervenir quand la volonté ou les moyens sont défaillants. L'Etat intervient pour garantir le respect des orientations stratégiques qu'il fixe et qui visent, par exemple, à ce que l'opérateur foncier dont il assure la tutelle permette aux collectivités qui sont en situation de carence d'optimiser la ressource foncière pour respecter la loi SRU. En revanche, là où des établissements fonciers publics locaux existent et remplissent déjà leur mission de façon satisfaisante, le projet de loi vient conforter leur mission et étayer leurs outils.En portant le projet de loi Alur, c'est un droit de l'urbanisme rénové que je vous présente aujourd'hui, un régime de planification réformé et résolument tourné vers la transition écologique des territoires.Je veux remettre au coeur de l'objectif de la construction de logements, la question de l'aménagement du territoire. Trop longtemps on a refusé de voir que l'urbanisme est un enjeu politique qui se trouve aux confluents de la question de la géographie sociale, de la question environnementale, des questions économiques et de la question sociale. L'urbanisme, c'est l'espace, vécu, ressenti, parfois subi.Ces derni\",\n",
              "       \"ui place la loi de dieu – ou celle de ceux qui la détournent à leur profit - au-dessus des lois de la République. C'est un contre- projet de société, communautaire, autoritaire, inégalitaire.  Je prends bien soin de le distinguer de l'Islam qui, comme les autres cultes qui acceptent nos lois et nos valeurs, a sa place en République.  Je veux même aller plus loin. L'islamisme est le pire ennemi de l'Islam. Il crée volontairement des confusions et des antagonismes. L'islamisme, n'est pas une religion, il l'utilise et la dévoie.  Et si je peux tenir des propos si fermes, c'est parce que l'islamisme et le communautarisme peuvent être plus aisément définis en listant les principes constitutionnels qu'ils remettent en cause.  C'est le cas de l'indivisibilité de la République, à l'article 1 de la Constitution ou de l'unicité du peuple français, reconnue dans la jurisprudence du Conseil constitutionnel.  C'est le cas de la laïcité, présente, elle aussi, à l'article 1er de la Constitution.  C'est le cas encore de l'égalité entre les femmes et les hommes, reconnue dans le préambule de la Constitution de 1946 et donc intégrée à notre bloc de constitutionnalité.  Vous le voyez, l'islamisme et le communautarisme sont des atteintes graves à notre pacte républicain, des atteintes considérables à nos valeurs les plus profondes.  Je ne peux pas accepter qu'il y ait des endroits en France où l'on combat la République.  Je ne peux pas accepter qu'il y ait des rues voire des quartiers, où notre devise « Liberté, égalité, fraternité » et j'y ajoute la laïcité, est regardée avec hostilité et défi.  Alors nous avons besoin d'agir pour que cela n'arrive plus, pour que cela n'arrive pas.  Cette mission, c'est d'abord le Président de la République qui nous l'a confiée. C'est lui qui, la semaine dernière encore, a appelé à refuser et à agir de toutes nos forces contre une « France archipel » où l'on ne se connaît plus, où on ne se parle plus, où chacun vit de son côté. Une France, où l'on rentrerait dans des cases et où la République ne compterait plus.  Ensuite, combattre l'islamisme et le communautarisme, c'est l'objectif de l'ensemble du Gouvernement, sous l'autorité du Premier ministre. De Laurent Nuñez et moi, bien sûr, mais aussi de tous les ministères qui participent aux quotidiens des Français.  Je peux vous l'assurer, nous avançons dans le même sens et nous sommes très déterminés. C'est la raison pour laquelle devant vous, 6 membres du Gouvernement vont s'exprimer.  3Enfin,\",\n",
              "       'ous a donné :- une légitimité plus forte- des moyens de fonctionnement- un vrai rôle de tête de réseauxUne légitimité basée sur la reconnaissance du caractère d\\'établissement d\\'utilité publique de la FNPF. Comme l\\'a dit Monsieur le député Flajolet, cette reconnaissance fait de vous l\\'un des piliers de la démocratie locale de l\\'eau.Elle vous a donné des moyens de fonctionnement nouveaux, mieux organisés, beaucoup plus forts, elle vous a donné aussi un rôle de tête de réseaux.Vous évoquiez la question de la représentativité, c\\'est un énorme débat. C\\'est une question qu\\'on a posée dans le cadre du Grenelle de l\\'Environnement, que le président de la République a posée parce qu\\'on veut que les acteurs de l\\'environnement trouvent leur place dans notre organisation administrative et politique. Une place qu\\'ils n\\'avaient pas jusqu\\'à présent. On ne peut pas calquer sur les acteurs de l\\'environnement les critères qui existent pour les syndicats ou pour le secteur social. Aujourd\\'hui, il n\\'y a pas de critères de représentativité - des propositions ont été faites pour essayer d\\'avoir une approche la plus large possible - peut-être sont-ils imparfaits mais toujours est-il que par rapport à l\\'existant c\\'est déjà beaucoup mieux.C\\'est un vrai sujet la représentativité je ne vous dis pas qu\\'on a une réponse absolument parfaite, mais ce qui est clair, c\\'est qu\\'il faut avancer et que c\\'est beaucoup mieux que l\\'existant où les acteurs de l\\'environnement au sens le plus large n\\'ont pas leur place dans la plupart des institutions, en tout cas n\\'avaient pas la place qu\\'ils méritaient dans la plupart des institutions.Donc c\\'est le message que je voudrais vous faire passer. Il n\\'est pas question pour moi de dire \"business as usual\". On fait comme avant, les acteurs de l\\'environnement que vous représentez n\\'auront pas la place avec nous. Non, il n\\'en est pas question parce que les enjeux qu\\'on doit relever, vous les connaissez, sont énormes.Vous avez cité la trame verte et d\\'ailleurs vous en avez parlé aujourd\\'hui, et la trame bleue. Vous êtes associés au comité opérationnel qui doit conclure d\\'ici la fin de l\\'année et demain, vous serez le relais de sa mise en oeuvre sur le terrain.Je vais vous citer un exemple : les bandes enherbées, auxquelles vous tenez tant, seront généralisées le long des cours d\\'eau au 1er janvier 2010. Elles vont, avec l\\'ensemble des cours d\\'eau concernés, servir de colonne vertébrale à cette fameuse trame bleue.Ces débats, on les a eus dans le cadre du Gre',\n",
              "       'la synthèse la plus large, et donc de l\\'intérêt général. La logique du droit de veto est une prime donnée aux intérêts particuliers. Et cela ne signifie pas que tout doit relever de politiques intégrées et centralisées. L\\'expérience des plans nationaux d\\'actions pour l\\'emploi montre comment, après la simple comparaison formelle des politiques nationales, on est passé à des désengagements d\\'objectifs communs dont la \" mise en musique \" est l\\'affaire de chacun. C\\'est ainsi que la RTT et d\\'autres politiques actives de l\\'emploi ont pu trouver leur place dans un pays sans compromettre le but commun . Au total, la question est bien de cerner, de repérer quelles politiques intégrées, fédératrices, il faut aujourd\\'hui mettre en place. La vraie question est celle des transferts de souveraineté que chacun est prêt à faire, parce qu\\'elle apporte à tous la valeur ajoutée européenne. En revanche, tout ne relève pas du champ européen. Je partage sur ce point, pour l\\'essentiel, la position de Jacques DELORS : l\\'éducation, la protection sociale, la culture relèvent des acteurs nationaux. A charge pour eux d\\'innover, d\\'expérimenter, de favoriser l\\'échange des bonnes pratiques au niveau européen.C\\'est dans ce cadre qu\\'il faut réfléchir à l\\'architecture institutionnelle nécessaire pour mener à bien ces missions.Laissez-moi vous dire, tout d\\'abord, que je suis un peu troublée par le consensus qui se dégage autour du concept d\\'Etat-nation. Le vocabulaire peut receler bien des pièges.Je ne peux m\\'empêcher de penser qu\\'ici il masque des ambiguités. Que les mêmes termes sont utilisés à des fins diamétralement opposées. Que les uns lisent fédération et les autres retiennent seulement Etat et Nation. C\\'est-à-dire plus de pouvoirs pour les Etats et les gouvernements, pour une défense d\\'intérêts particuliers plus que de l\\'intérêt général européen. J\\'ai du mal, aussi, à comprendre les réactions très négatives autour de la proposition allemande de l\\'existence de trois institutions : la Commission, le Parlement et une chambre représentant les Etats. Elle me paraît fort pertinente comme ligne d\\'horizon.Les institutions, dont l\\'Europe doit se doter, doivent obéir à 3 exigences : être légitimes et, donc, efficaces, démocratiques.Les citoyens doivent se reconnaître en elles. Certes, le chemin est encore long à parcourir. Mais l\\'Union peut inventer son propre modèle. Celui d\\'une Europe constituée autour d\\'une fédération. Une fédération nécessaire au développement de notre modèle économique e',\n",
              "       'Mesdames, messieurs,chères amies, chères camarades, Je veux d\\'abord vous dire le plaisir que j\\'éprouve à être parmi vous, ce soir, à Montluçon, à l\\'occasion de ce rassemblement régional organisé dans le cadre de la campagne pour l\\'élection présidentielle. Merci aux militantes et militants communistes qui en ont pris l\\'initiative, et merci à vous toutes et tous qui y participez, dans la diversité de vos sensibilités. Merci, en particulier, à mon ami André Lajoinie, pleinement engagé à mes côtés - vous venez de le constater - dans la campagne pour l\\'élection présidentielle. Je veux vous parler ce soir du premier tour de cette élection. Je dis bien : du premier tour, dont l\\'importance est considérable pour l\\'immédiat et pour l\\'avenir. Du premier tour, dont les résultats vont conditionner étroitement le second et, au-delà de l\\'élection présidentielle, le scrutin législatif qui la suivra immédiatement. Au fond, ce que je veux vous dire, c\\'est que le 21 avril est le plus important des rendez-vous politiques de ce printemps 2002. Et il est bien besoin de le répéter, d\\'en parler - et tout particulièrement dans nos initiatives militantes, tant on s\\'efforce de convaincre les Françaises et les Français que le premier tour ne serait qu\\'une formalité, un vote subalterne uniquement destiné à drainer des voix vers les \" présidentiables \", c\\'est-à-dire Jospin et Chirac. Et il est vrai que ces deux-là seront face à face le 5 mai, au second tour. C\\'est une évidence pour tout le monde. La question n\\'est donc pas là. Le plus important, c\\'est de savoir quelle politique suivra celui qui sera élu. Si Chirac \"rempile\" pour cinq ans, c\\'est sûr, il voudra poursuivre, en l\\'aggravant, la détestable politique suivie par la droite, sous la houlette de Juppé, de 1995 à 1997. Les intentions qu\\'il a déjà affichées le confirment : c\\'est le Medef qui inspire la démarche et les propositions du président-candidat. Ainsi il est, comme le baron Seillière, partisan des assurances privées plutôt que la défense et la promotion de la sécurité sociale. A la retraite par répartition, il préfère les fonds de pension, qui jouent à la loterie de la bourse les retraites de ceux qui y souscrivent. Et d\\'une manière générale, ce sont le secteur et les services publics qu\\'il a dans le collimateur, et tout ce qui dépend de leurs compétences : le logement et les transports, l\\'éducation et la santé. Il promet des baisses d\\'impôts faramineuses. Une fois n\\'est pas coutume : il tiendra cette promesse. Evidemment p',\n",
              "       \"monde de plus en plus interdépendant et toujours secoué par les crises, la concertation et la coopération franco-russe et russo-européenne sont indispensables.Nous devons mettre à profit notre mémoire commune pour tisser des liens pour l'avenir en soutenant l'idée que dans un monde que nous pourrions qualifier d'éclaté, où les formes de puissance sont multiples et de plus en plus diffuses à l'échelle planétaire, il faut développer des partenariats au niveau de notre continent. Cela passe par la création d'un espace économique et humain qui doit être commun à l'Union européenne et à la Russie.La Russie est une puissance qui doit être écoutée ; c'est une puissance qui doit être respectée et c'est une puissance avec laquelle nous devons développer des liens de franchise et d'amitié. Le dialogue entre nous est permanent ; nous travaillons à le renforcer davantage encore.Unis par un espace commun, nous partageons en réalité un même destin. Nous avons la volonté d'arrimer la Russie à l'espace européen en accroissant la vigueur de nos relations et nouant avec elle une série de partenariats privilégiés. La Russie est pour l'Union européenne un partenaire stratégique naturel. C'est pourquoi nous travaillons à l'approfondissement de la concertation et de la coopération politique et économique entre la Russie et l'Union européenne, sur les crises internationales et les grands enjeux globaux. Nous avons vocation à renforcer toujours plus étroitement nos relations dans tous les secteurs, afin de donner corps à ces espaces communs que nous nous sommes fixés pour horizon au début des années 2000.Mesdames, Messieurs,Comme chaque fois que je me déplace à l'étranger, j'ai naturellement à coeur d'aller à la rencontre de la communauté française, c'est-à-dire des citoyens, qui ont décidé par choix, par obligation et parfois par hasard, d'aller vivre dans un autre pays que le leur.Depuis l'élection du président de la République, le gouvernement, dans un contexte budgétaire contraint qui nous oblige à engager un certain nombre de réformes courageuses destinées à redresser la compétitivité et l'attractivité de notre pays. L'effort doit être collectif et chacun doit pouvoir, à sa mesure, y participer. Il s'agit, grâce en particulier au savoir, à l'innovation, à la recherche, à la qualité du travail, de relever les défis concernant en particulier la place de la France dans une économie globalisée.Pour réussir, nous devons nous rassembler, nous ouvrir au monde, construire en particu\",\n",
              "       \"igner l'attachement que je porte au maintien à l'étranger d'un enseignement français de qualité. Les écoles, collèges et lycées français constituent une référence internationalement reconnue. Elles contribuent à notre politique d'influence. J'ai visité, ce matin, le lycée Labourdonnais à Curepipe et j'ai pu m'entretenir avec les représentants des associations de parents d'élèves et les représentants des syndicats enseignants. Je ne peux que me réjouir de la qualité des infrastructures de ce lycée et de l'excellence de l'enseignement dans l'ensemble des établissements, qui ont permis d'approcher les 100% de réussite au baccalauréat cette année. J'ai également entendu les préoccupations de certains acteurs de la communauté éducative, au sujet, notamment, d'éventuelles restrictions budgétaires. Sur ce point, je tiens à les rassurer : la France maintiendra son engagement malgré le contexte budgétaire difficile. C'est dans cette optique que le Conseil des ministres a adopté le 15 juin dernier un plan de développement de l'enseignement français à l'étranger prévoyant notamment le maintien d'une dotation budgétaire de 420 M pour la période 2011-2013. Je voudrais aussi rappeler que l'effort de la collectivité nationale en matière d'aide à la scolarité à l'étranger est considérable : aucun autre pays ne peut s'enorgueillir d'un effort aussi important. A l'échelle mondiale, le dispositif de prise en charge de la scolarité voulue par le Président de la République et celui des bourses scolaires permettent de soutenir 31.000 élèves bénéficiaires pour un montant total de 120 millions d'euros. A Maurice, cela se traduit par 270 bourses pour un montant et 272 prises en charges (en Seconde, Première et Terminale), le tout pour un montant de plus d'1,1 million d'euros.Comme vous le voyez, la solidarité reste un axe majeur de la politique française malgré la crise budgétaire et financière que traverse actuellement l'Europe toute entière qui impose un assainissement de nos finances publiques. Je voudrais à ce titre rendre hommage à nos associations. Elles jouent un rôle important dans la préservation du lien social entre nos compatriotes. Je pense évidemment à Français du monde-ADFE et à l'UFE dont je tiens à saluer les représentants ici présents. Je pense également à toutes les associations d'Accueil ou les associations de d'entraide et de solidarité, dont le travail en faveur des plus démunis est remarquable. Je tiens à citer, pour Maurice, la Société d'Entraide et de Bienf\",\n",
              "       \"ebook, Twitter, Google, Youtube, Instagram, Snapchat sont des vecteurs de diffusion sans contrôle, sans responsabilité.Nous avons besoin de garde-fous. Notre meilleure protection, je vous le dis avec la force de ma conviction personnelle : c'est vous, les médias, les journalistes. C'est l'information que vous apportez : une information sourcée, vérifiée, hiérarchisée. Celle qui est reconnue et attendue par les Français : là encore, l'enquête est là pour en attester. Vous êtes les vigies de notre démocratie.Alors, quand vous êtes attaqués, qui doit vous défendre ? Et ici, mon message sera également très clair : Votre meilleure protection : c'est vous. C'est votre travail. Votre compétence. Votre éthique. Votre déontologie. Votre rigueur. Votre engagement. Ce n'est pas l'Etat.Ce sont vos savoir-faire. Ce sont les risques que vous prenez, ici parfois, et si souvent à l'étranger. C'est aussi le travail que vous êtes de plus en plus nombreux à faire pour détecter, décrypter, démonter les fausses nouvelles. Vous informez les citoyens. Ma responsabilité  la responsabilité de l'Etat  c'est de vous permettre de faire votre métier. Nous sommes les garants de votre indépendance. C'est une exigence non négociable. C'est la condition de notre combat commun : la défense de la démocratie. Nous devons joindre nos efforts pour le mener.Votre indépendance, d'abord. Celle de votre secteur. Celle du métier de journaliste. Garantir votre indépendance, c'est d'abord s'élever contre les menaces, les pressions, les tentatives d'intimidation qui pèsent sur les journalistes, dans le monde entier.Je souhaite ici rendre hommage à ceux qui ont été assassinés parce qu'ils informaient : au Brésil, au Mexique, au Yémen, en Slovaquie, 4 de vos confrères ont été assassinés depuis le début de l'année. 182 sont enfermés. Et combien sont menacés ?Je veux assurer tous ceux qui sont enfermés, empêchés, bâillonnés que chaque fois que l'occasion se présente, la France fait valoir leurs droits. Les actions diplomatiques, vous le savez, doivent rester sous le radar pour avoir des chances d'aboutir.Elles sont insuffisantes mais elles restent nécessaires. Soyez en sûrs, la France ne manque jamais à son devoir. A tous ceux qui informent, rétablissent la vérité au péril de leur vie, j'exprime mon admiration, ma gratitude.Garantir votre indépendance, c'est, par ailleurs vous donner les moyens de l'exercer. Dans l'audiovisuel, c'est un des rôles fondamentaux du CSA : veiller à l'honnêteté, l'indépendance\",\n",
              "       \"llence, novatrice chez elle et offensive à l'exportation ;- la sécurisation de nos approvisionnements, que le contexte géo-politique rend encore plus nécessaire, en diversifiant leurs sources, ce qui inclut la sécurisation de leurs routes ;- un marché européen plus intégré qui implique un renforcement de nos réseaux électriques et gaziers ainsi qu'une évolution du marché électrique permettant d'y intégrer une part croissante d'énergies renouvelables ainsi que des coopérations régionales accrues, via notamment des couplages de marchés régionaux.Dans cette perspective, le développement des interconnexions entre nos pays, comme cela est déjà le cas, par exemple, entre la France, l'Espagne et le Portugal, est une nécessité impérieuse que souligne l'objectif de 10% d'interconnexion à l'horizon 2020 retenu à l'échelle européenne.L'Europe ne peut s'engager de manière dispersée dans sa mutation énergétique et numérique.Elle doit pouvoir mettre en oeuvre des programmes prioritaires qui unissent nos efforts de recherche et développement.Elle doit aussi, comme le souligne le rapport « Energie, l'Europe en réseaux » remis en ma présence au Président de la République par Michel Derdevet, secrétaire général d'ERDF, renforcer la coordination des régulations et les leviers de financement qui lui permettront de maîtriser le coût des infrastructures à bâtir pour faire de l'Europe, qui offre la meilleure qualité de services énergétiques, le leader d'une transition énergétique réussie dans les meilleures conditions d'efficacité et de coût.Nous en avons les moyens et vous en témoignez : l'excellence de nos chercheurs, les compétences de nos ingénieurs, le dynamisme de nos entreprises, grands groupes et PME dont beaucoup sont ici présents, la capacité d'initiative de nos territoires et la sensibilisation croissante des citoyens aux enjeux climatiques qui ne sont pas une contrainte à subir mais une chance à saisir pour développer des activités et créer des emplois, pour entraîner les autres pays du monde et réussir le Sommet de Paris Climat que nous sommes fiers d'accueillir et qui confère à la France une responsabilité particulière.Je suis, aujourd'hui, venue vous dire 3 choses :- la France est désormais engagée de manière irréversible dans une transition énergétique qui réconcilie économie et écologie, électricité et climat : elle compte sur vous pour hâter le pas et apporter des réponses concrètes, efficaces, aux défis que notre pays a décidé de relever ;- l'Europe de l'Energ\",\n",
              "       \"a forme d'une plateforme commune d'action.Ce partenariat, il est maintenant nécessaire de le mettre en \\x9cuvre de façon concrète et rapide : la transition démocratique dans des pays comme la Tunisie et l'Égypte ne progressera réellement que si nous évitons l'effondrement économique de ces pays.C'est la raison pour laquelle je vous ai invité, Monsieur le Ministre, Cher Guido, avec nos homologues du G8 et des pays qui en sont membres, à une réunion à New York le 20 septembre 2011 en marge de l'Assemblée générale des Nations unies. Ce sera l'occasion d'adopter une déclaration fixant le cadre opérationnel, politique et économique, du Partenariat de Deauville : son périmètre, son organisation et son suivi.Pour agir sur le long terme, l'Union européenne a elle aussi un rôle essentiel à jouer en direction de pays et de peuples avec lesquels nous partageons une véritable communauté de destin et qui sont pour nous des voisins proches et des partenaires naturels.Face aux crises libyenne et syrienne, l'Union européenne a su se mobiliser rapidement en agissant sur le plan humanitaire, en adoptant des sanctions autonomes et, aujourd'hui, en contribuant à la stabilisation de la Libye. Dans le cadre du groupe de contact, nos deux pays doivent donner à la Libye les moyens de préparer l'avenir.Le rôle de l'Union européenne dans la région doit désormais s'inscrire dans le cadre d'un renforcement du volet méridional de sa politique de voisinage. Au-delà de l'aide massive qu'elle doit apporter pour accompagner les transitions sur le plan des réformes démocratiques, économiques et de la politique migratoire, l'Union européenne doit également se mobiliser davantage en direction des sociétés civiles. Avec ses fondations, l'Allemagne joue un rôle exemplaire dans ce domaine.Agir sur le long terme, c'est aussi relancer l'Union pour la Méditerranée, cette initiative prémonitoire du président Sarkozy, dont la dimension partenariale fait une instance privilégiée pour renforcer les solidarités et les réalisations concrètes entre pays des deux rives. Si cette démarche a un sens, c'est bien aujourd'hui, au moment où de nouveaux gouvernements incarnant une volonté de changement démocratique se mettent en place au sud de notre mer commune. Un nouveau Secrétaire général vient d'être nommé. Il est d'ores et déjà au travail. À nous de permettre le lancement rapide de projets mobilisateurs dans des domaines comme l'énergie, les transports, l'environnement ou l'enseignement supérieur, notamment e\",\n",
              "       'Europe pour navoir pas réussi en particulier à éviter ce qui apparaît à bien des égards, comme une marginalisation des nombreux pays en développement dans léconomie mondiale et en particulier ceux dAfrique. Laide quapporte lUnion européenne et ses pays membres ne parvient pas suffisamment à convaincre de son impact sur le développement des pays bénéficiaires. Son influence nest pas à la mesure de son effort financier en tant que premier contributeur mondial à lAPD avec plus de 50% de laide des pays de lOCDE. Il y a là un déficit didentité de laide européenne quil nous faut absolument combler.Cest pourquoi, il nous faut trouver les moyens de parler dune seule voix. Les débats sur les politiques économiques et de développement sont conduits trop souvent par le Fonds monétaire international, la Banque mondiale, voire lOMC. LEurope y accompagne davantage le mouvement quelle ne le détermine, en particulier face aux partisans du « tout-marché ». Nous pourrions parler ensemble dans les institutions de Bretton Woods tout comme nous le ferons pour la politique de leuro.Que déduire de ce constat ? Que lEurope a besoin de rassembler ses moyens et de les rendre plus performants plus lisibles, plus efficaces. La somme agrégée des aides européennes peut constituer un levier formidable. Encore faut-il savoir les valoriser au mieux.Comme faire jouer ces synergies à lavenir ? Cest là toute notre réflexion et notre action.Je voudrais dabord rappeler nos priorités et celles de lEurope.· Il nous faut répondre aux aspirations démocratiques, sattacher à veiller au respect des Droits de lHomme, contribuer à la sécurité régionale et encourager la prévention des conflits. Pour cela il est essentiel dinscrire notre dialogue politique avec les bénéficiaires de laide dans un cadre européen plus large. Laction extérieure de lUnion est en effet maintenant en mesure de mettre en oeuvre une politique densemble (Affaires étrangères, sécurité, politique de développement, humanitaire).· Nous souhaitons aussi pouvoir contribuer à mieux insérer dans léconomie mondiale les pays partenaires que nous aidons et promouvoir leur investissement, en particulier par le secteur privé. Notre aide doit jouer pour cela son rôle régulateur de mécanismes du marché. Nous voulons ainsi maintenir à tous prix le lien entre commerce et développement, par opposition au « Trade, not aid », trop souvent préconisée.Cest dans cet esprit donc, que le gouvernement français travaille. Nous avons engagé plusieurs démarch',\n",
              "       'écidé d\\'abaisser de 12 à 8 mn la durée horaire maximale de la publicité pour France 2 comme pour France 3. Une fois la réforme achevée, il restera 1 milliard de francs par an aux chaînes publiques pour financer l\\'amélioration de leurs programmes et les investissements nécessaires, notamment au passage à la télévision numérique de terre .En outre, des contrats pluriannuels, d\\'objectifs et de moyens seront signés entre l\\'Etat et les sociétés, novation par rapport aux aléas de court terme d\\'une gestion purement budgétaire, garantie d\\'indépendance pour les dirigeants dont le mandat est, par ailleurs porté à cinq ans, possibilité de contrôle intelligent et efficace pour la tutelle. Missions organisation, moyens : avec ces trois piliers, la réforme qui devrait permettre à tous, téléspectateurs et citoyens, de considérer la télévision publique comme \" notre \" télévision. Donner plus de moyens aux chaînes, c\\'est aussi renforcer l\\'exigence d\\'une bonne utilisation de ces sommes. Cet argent, c\\'est en quelque sorte un investissement collectif dont les dividendes seront une information plus exigeante, des programmes en constant renouvellement, un accès de l\\'usager à toutes les ressources nouvelles de la technique, y compris la diffusion numérique hertzienne terrestre bien sûr dont je vous parlerai dans un instant.2/ Ces moyens nouveaux, je souhaite que le service public les utilise pour remplir au mieux sa mission culturelle. Et j\\'en viens au second point essentiel de la réforme, le développement de la création et de la production.Si nous voulons que continuent à exister des oeuvres audiovisuelles et cinématographiques diversifiées, si nous voulons résister à l\\'américanisation totale, nous devons renforcer notre industrie des programmes. A l\\'heure d\\'Internet et des nouveaux services, c\\'est une condition plus que jamais indispensable du maintien de notre souveraineté culturelle.La réforme du financement du service public induira un effet sans précédent de relance économique pour l\\'ensemble des médias et pour l\\'industrie des programmes : par l\\'apport additionnel de ressources publiques, d\\'une part, mais aussi par le transfert d\\'une partie au moins des ressources libérées par la baisse de la publicité vers les autres médias comme la radio ou la presse écrite ou les chaînes thématiques.Ce double effet suffira à générer au total un accroissement d\\'au moins 500 millions des sommes mobilisées au bénéfice de la production de cinéma ou d\\'oeuvres audiovisuelles, par le jeu des o',\n",
              "       \"ifs en matière de santé publique. Je ne serai pas longue car nous allons en débattre. Deux priorités, toutefois, sont plus particulièrement réaffirmées : la lutte contre le tabagisme, avec la mise en place d'une aide renforcée au sevrage des jeunes de 20 à 25 ans puisque c'est l'âge où ils expriment le souhait et la volonté de pouvoir arrêter de fumer ; la garantie de l'accès de l'ensemble des femmes et des plus jeunes d'entre elles à la contraception. L'année dernière, ici même, vous avez voté la gratuité et la confidentialité de la contraception pour les mineures de 15 à 18 ans. Nous proposons de mettre en place cette année le tiers payant pour les consultations et les actes associés, par exemple les actes de biologie, pour les mineures qui veulent accéder à une contraception de qualité.Enfin, le quatrième axe de ce projet en matière de santé est la régulation de la consommation de médicaments, à travers plusieurs mesures. Nous aurons en particulier l'occasion d'évoquer la nécessité d'aller plus loin dans la voie des médicaments génériques et la mise en place, pour les médicaments issus des biotechnologies, d'un répertoire des médicaments biosimilaires. Nous proposons l'expérimentation de la dispensation à l'unité car la France est l'un des pays dans lesquels on consomme le plus de médicaments, situation qui ne peut pas perdurer.Nous vous proposons un projet de loi ambitieux (Exclamations sur les bancs du groupe UMP), volontariste et responsable, tant sur le plan des comptes sociaux que sur celui des protections que nous voulons apporter à l'ensemble de nos concitoyens.Ce projet de loi consacre les réformes de structure déjà engagées en matière de retraites et de politique familiale et il marque le chemin que nous voulons emprunter pour une réorganisation de fond de notre système de santé autour des principes de la stratégie nationale de santé.Mesdames et messieurs les députés, parce qu'il en va de l'avenir d'un système social solidaire, je ne doute pas que les débats seront à la fois responsables, engagés et protecteurs pour l'ensemble de nos concitoyens dans les jours à venir. (Applaudissements sur les bancs du groupe SRC.)source http://www.marisoltouraine.fr, le 19 novembre 2013\",\n",
              "       \"Le Président de la République s'est engagé de façon forte et explicite, le 3 mai 2001 à Orléans, puis le 18 mars 2002 à Avranches, à proposer aux Français une charte adossée à la Constitution. Elle sera le fondement d'une nouvelle relation entre l'homme, la nature et l'économie et permettra de conjuguer développement économique et respect d'un équilibre harmonieux. Cette volonté répond à une attente de nos compatriotes. Selon l'association WWF, 89 % des Français sont favorables à ce que la protection de l'environnement soit inscrite dans la Constitution et devienne un principe fondamental. Je vous indique d'ailleurs, au passage, que nos compatriotes expriment le souhait que les médias accordent davantage de place aux sujets de l'environnement : d'après un sondage CSA, 65 % des 18 - 49 ans trouvent que l'écologie n'est pas assez présente dans les thèmes traités par les médias. Enfin, nos concitoyens se sentent de plus en plus concernés, pour ce qui touche à leur environnement, par l'action et l'attitude des autres pays. Ce n'est pas seulement leur cadre de vie immédiat qui les intéresse, c'est aussi l'état de la planète, l'évolution du climat. Ils sont conscients des interdépendances. Conscients, surtout, qu'il faut situer l'homme au centre du développement et du progrès tout en le plaçant face à ses responsabilités. La vie contemporaine confronte l'homme à des pollutions de toutes sortes et à des atteintes à sa qualité de vie et même à sa santé. Les catastrophes industrielles et naturelles, les modifications climatiques, concourent à menacer notre patrimoine naturel et notre cadre de vie. Le droit de l'environnement joue un rôle essentiel pour préserver la santé et la vie harmonieuse de nos concitoyens. Pour obliger, aussi, à ce que les activités économiques s'exercent en limitant les pollutions et les nuisances de toutes sortes. L'écologie concerne chacun, dans sa vie quotidienne. Elle est la préoccupation d'un meilleur équilibre entre l'homme et son environnement, entre les légitimes préoccupations de croissance et la nécessité d'inscrire cette croissance sur le long terme. L'écologie engage la paix entre les peuples lorsqu'une ressource rare, comme l'eau, est en jeu. Elle peut comporter des conflits d'usages et des divergences d'intérêts, mais doit servir l'intérêt général. Elle contribue aussi à préserver notre sens du beau, devant la contemplation d'un paysage. La France a pris, tant au niveau international qu'au niveau européen, dans des nombreuses c\",\n",
              "       'loppe de 100 M euros issus de la réserve de performance des fonds européens. La mise en place de la dotation est en cours dans l\\'ensemble des régions. Parallèlement, la Caisse des dépôts et consignation mobilise dans le cadre des décisions du CIADT un fonds de 225 M euros pour soutenir les efforts des collectivités localités en matière de débit.3/ Enfin, nous devrons veiller à développer les technologies alternatives telles que l\\'association de fibres optiques avec la diffusion hertzienne par exemple. Encore faut-il pour cela informer les collectivités locales sur les choix offerts, simplifier les procédures administratives, et lancer des appels à projets. L\\'action publique en faveur du développement du haut débit ne doit en effet ni écarter ni privilégier une forme d\\'infrastructure particulière. L\\'expérience nous montre que les technologies dites \" alternatives \" peuvent apporter des réponses adaptées notamment dans des zones peu denses ou isolées.L\\' \"Internet partout \" n\\'a cependant de sens que si nous travaillons à développer l\\'\" Internet pour tous \". Beaucoup de français, nous le savons, n\\'y sont pas encore familiarisés. Et nous ne devons pas les laisser à l\\'écart de cet outil qui occupe chaque jour une place plus grande dans notre vie. C\\'est dans cet esprit qu\\'en collaboration avec François Fillon et Nicolas Forissier, nous avons demandé aux préfets de faciliter durant l\\'été l\\'accès aux salles informatiques des établissements scolaires pour accueillir des personnes qui ne se sont encore jamais connectées. Grâce à ce type d\\'opération, dont j\\'ai pu voir un exemple concret en Dordogne en compagnie de Nicolas Forissier au lycée agricole de Périgueux, nous voulons les familiariser aux différents services qui leur sont accessibles, notamment dans leurs démarches de la vie quotidienne.1.2 Des résultats très encourageants : la France du \"haut débit\" progresse très rapidementD\\'ores et déjà nous pouvons dresser un bilan très positif et très encourageant des efforts entrepris.Entre fin 2002 et fin 2003, la proportion de la population desservie par une offre d\\'accès à Internet haut et moyen débit est passé de 62% à 75%. Fin 2003 ce sont 45 millions de français qui ont accès au haut débit contre seulement 37 millions fin 2002.La couverture du territoire a également fortement progressé : le nombre de communes disposant d\\'un accès à haut et moyen débit a doublé pour atteindre 14 600 communes fin 2003.L\\'année 2003 a également été marquée par l\\'intensification de la c',\n",
              "       \"re et les défenseurs de l'environnement. Oui, l'heure est au rassemblement ! Mais qui passe par le dialogue, par l'écoute réciproque ! Et ici, en Bretagne, y compris sur des sujets sensibles, vous avez avancé ! Je pense à l'eau, je pense aux questions des algues vertes. C'est bien parce qu'il y a eu un dialogue entre les élus, gestionnaires et aussi les associations environnementales, mais aussi avec les services de l'Etat et les producteurs, la profession agricole, que nous avons pu, que vous avez pu avancer ! Je le dis à ceux qui pensent que ce n'est jamais assez, que ces progrès, c'est vous, grâce à cette méthode, qui avez pu les faire. Je tenais à le saluer parce que c'est la réalité. Et je pense que ça ne peut pas se faire autrement. On n'avance pas à coup de diktat et à coup de leçon de morale. On avance parce qu'on a un objectif qu'on peut partager et on voit comment on fait pour y arriver.Cela vaut pour toutes les priorités que nous avons sélectionnées dans ce Pacte. Je pense à l'économie de la connaissance, qui a été évoquée par le maire de Rennes, avec cette idée novatrice que la Bretagne puisse expérimenter le numérique à l'école. J'étais il y a peu de temps à Saint-Brieuc, j'ai pu voir le soutien du Conseil général à un collège où, justement, on est déjà en avance pour développer le campus numérique, pour développer les cours en ligne dans le supérieur, donner aux élèves les meilleures chances de réussite !Et puis je voudrais saluer, Monsieur le Président et l'ensemble des élus concernés, l'ambitieux Plan Breton pour le Très Haut Débit. Je relisais le discours du Général de Gaulle lorsqu'il était venu à Quimper. Il parlait d'équiper toute la région Bretagne du téléphone ! C'était une autre époque ! Mais aujourd'hui, l'objectif, c'est d'équiper tout le territoire de la Bretagne du Très Haut Débit ! Et avec un concours supplémentaire de l'Etat, dans le cadre du Pacte d'avenir, je souhaite aussi que ce même effort soit entrepris partout en France pour que tous les territoires soient couverts.Vingt milliards d'euros d'investissements vont être consacrés en dix ans à ce Plan de Très Haut Débit. Parce que c'est un enjeu considérable d'égalité entre les citoyens, pour l'éducation, pour l'information, mais c'est aussi un enjeu considérable pour l'innovation, pour la compétitivité, pour la création d'entreprises, et la création de valeurs. C'est un choix politique stratégique pour la France. Et vous avez anticipé.Je pense aussi à un autre secteur si imp\",\n",
              "       \"ais, qui est confronté - c'est là aussi une des rançons du succès ! - à un grave déficit de places. Un terrain avait été acquis, il y a quelques années, en vue de la construction d'un nouveau bâtiment. Aujourd'hui, je suis heureux de vous l'annoncer : un nouvel ensemble lycée-collège verra le jour prochainement, des consultations viennent d'être engagées à cet effet. Cette construction s'ajoutera aux trois sites existants qui deviendront des écoles primaires. Le Caire disposera ainsi d'un établissement français fonctionnel et moderne, à la mesure de la qualité de notre enseignement et des attentes des familles, en particulier des familles francophones. Je voudrais donc terminer en évoquant la mémoire des victimes françaises et égyptiennes de la catastrophe aérienne de Charm el-Cheikh. Nous avons tous une pensée pour elles ce soir. Je veux vous le confirmer, car c'est désormais chose acquise : un nouveau mémorial sera prochainement érigé sur place, en coopération avec les autorités égyptiennes. C'est pour nous une étape importante, pour le travail de deuil des familles, pour qu'elles puissent en un même lieu rendre hommage à la mémoire de leurs proches.J'ai terminé, en vous disant que j'aurais aimé rester plus longtemps en Egypte. Je reviendrai probablement avec le président.Je voudrais remercier l'ambassadeur qui a su préparer remarquablement cette visite.J'ai eu l'occasion de m'entretenir, ce matin, avec l'imam Tantawi et de parler de l'importance des dialogue des civilisations, du dialogue des cultures, du dialogue des religions. Et je pense que dans un pays comme celui-là, ami de la France, vu l'horreur de l'horreur, c'est-à-dire, ce dont je parlais tout à l'heure, le terrorisme, où des hommes et des femmes essaient de faire de la politique avec des religions, nous avons intérêt, nous la France, pays des Droits de l'Homme, à venir ici tendre la main pour regarder ce que sont les autres civilisations, les autres religions, à parler du dialogue des cultures et à ne pas croire au choc des civilisations, parce que nous pensons que les religions ne doivent pas être les unes contre les autres, les cultures ne doivent pas être les unes contre les autres, mais au contraire, afficher en face une ténacité, une détermination, une morale, une vérité, celle du respect mutuel des cultures.Je vous remercie.(\",\n",
              "       \"Depuis mon arrivée au Gouvernement, j'ai fait de la lutte contre la pédopornographie une de mes priorités.Mon action est triple :1) Je vise d'abord l'élimination des sites pédopornographiques des écrans français La France s'est dotée d'un arsenal répressif complet qui punit toute la chaine de la pédopornographie : du producteur jusqu'au consommateur habituel, tous sont passibles devant les tribunaux de peines d'emprisonnement.A côté de ce volet répressif, je mène une action ferme en matière de prévention.A ce titre, j'anime chaque trimestre un comité institué pour la protection de l'enfant sur Internet.Ce comité est chargé de contrôler les performances des logiciels de contrôle parental ; il a également pour mission d'établir les outils et protocoles d'amélioration du dispositif d'évaluation des logiciels de contrôle parental.L'objectif est de parvenir à des tests de plus en plus sophistiqués pour améliorer la qualité des logiciels de contrôle.La démarche est de travailler avec les professionnels du secteur : le comité rassemble les professionnels, tous les fournisseurs d'accès, les associations familiales et les parlementaires.Je souhaite aller plus loin : je réfléchis à mettre en place un blocage des sites pédopornographiques. A l'instar de plusieurs pays européens, j'ai constaté que le blocage des sites illégaux peut fonctionner avec un niveau de performance remarquable.2) le deuxième axe de mon action est la sensibilisation du grand public aux dérives de l'InternetIl me parait indispensable de sensibiliser le grand public, et notamment les parents, à la protection de l'enfant sur le numérique.La prévention doit être la plus large possible et je ne néglige aucun vecteur d'information :- avec les opérateurs du téléphone mobile, nous avons assuré la diffusion d une campagne de spots radiophoniques visant à une utilisation responsable des téléphones portables- avec le ministère de l'Education nationale, une information ciblée sur dix conseils à connaître pour sécuriser la navigation de l'enfant et de l'adolescent sur la Toile a été adressée aux parents d'élèves à la rentrée scolaire, sous forme d'un dépliant distribué à près de 3,5 millions d'exemplaires.- enfin, une campagne audiovisuelle nationale de sensibilisation du grand public sera diffusée à la fin de l'année.Je me réjouis de constater que les professionnels s'investissent pleinement dans ces actions de sensibilisation. Ils ont compris que la crédibilité de l'Internet était en jeu.3) Enfin, troisiè\",\n",
              "       \"ie des régions à forte croissance démographique.Pour autant, sa population vieillit et va continuer de vieillir.Elle est donc pleinement concernée par l'organisation du grand débat national sur la réforme de la dépendance que le Président de la République a voulu lancer et qu'il m'a chargée de conduire.Pour la région Provence-Alpes-Côte d'Azur, le débat interdépartemental en région aura lieu le 20 mai à Nice et le colloque interrégional se tiendra le 14 juin à Marseille.Je l'ai dit hier : au-delà du seul aspect organisationnel et sans préempter le contenu de la large consultation actuellement en cours et les pistes qui en ressortiront, on peut évoquer l'idée d'une plus grande implication des ARS dans les politiques dédiées aux personnes âgées dépendantes.Je souhaite donc que l'évolution de la place des ARS dans la prise en charge des personnes âgées soit au c\\x9cur de nos réflexions.Dans la synthèse que je proposerai au Président de la République durant l'été, je ferai figurer un volet sur la gouvernance, dans laquelle je veux que les ARS aient une place prépondérante.Le chantier ambitieux qui attend notre système de solidarité pourra s'appuyer sur les outils performants que constituent les ARS.Dans ce chantier comme dans tous les autres, l'ARS PACA jouera un rôle moteur.Je compte sur elle et je compte sur vous.\",\n",
              "       \"15 % sur les mers. La protection de la mer, et notamment de la haute mer, sera notre nouvelle frontière.Nous voulons la création d'une plate forme scientifique internationale sur la biodiversité pour avoir le même rôle que le GIEC : stimuler nos politiques, alerter, établir des consensus clairs. Nous le voulons le plus rapidement possible avant la fin de l'année. La France fera tout pour être un facilitateur sur ce dossier. Et dans le même esprit, nous sommes en train de créer une agence de la nature en France et de réaliser un TEEB à la Française, à l'instar de ce qu'a fait Pavan Sukdhev. Il faut objectiver le lien entre développement et biodiversité.Notre troisième objectif est de trouver ici un accord juridiquement contraignant sur le partage juste et équitable des ressources génétiques. Je sais qu'il reste des points à régler sur le champ de l'accord ou encore la définition des dérivés. Mais  ici - il n'y a que des femmes et des hommes de bonne volonté qui ont conscience que l'accord se trouvera ici. A défaut, dans dix ans, rien n'aura été fait et pas un centime n'aura été versé pour la biodiversité.D'ailleurs, nous pensons que la création d'un fonds multilatéral proposé par les Etats africains doit être soutenu. Et si nous parvenons à un accord sur le protocole ABS, nous sommes prêts, nous le gouvernement français, à verser un million d'euros pour initier ce fonds.Naturellement, l'enjeu fondamental de Nagoya est de consacrer plus de ressources publiques mais aussi et peut être surtout privées à la biodiversité. Je dis « peut être surtout » car l'enjeu de Nagoya est bien de reconnaître que l'environnement est le socle du développement économique ; et donc que le développement économique doit contribuer à l'environnement.Mais évidemment, nous ne serions être crédibles sans engagement public. Pour que Nagoya réussisse, la France est prête à doubler ses financements pour la biodiversité dans le cadre de l'aide publique au développement d'ici 2012 ; soit une enveloppe de plus de 200 millions d'euros au total.Progressivement la part de la biodiversité dans l'aide publique au développement sera portée à 10 %.Et à compter de 2014, les flux financiers pour la biodiversité seront portés à 500 millions d'euros par an. Ainsi, entre 2011 et 2020, la France consacrera à la biodiversité plus de 4 milliards d'euros via principalement l`APD et aussi les instruments innovants.Mesdames et Messieurs,C'est un choix politique qui s'offre à nous. L'accord ne sera jamais par\",\n",
              "       \"st aux alentours de 16%. Le plus important c'est que ce ne sont pas des feux d'artifices, c'est un travail pas à pas, très conséquent ».\",\n",
              "       \"Chers amis, [1]C'est avec un grand plaisir que je me trouve aujourd'hui parmi vous sur l'île aux fleurs pour l'inauguration tant attendue de cet ensemble médico-social regroupé sur un seul site, ici à Pelletier.Monsieur le Président, merci de cette invitation que la Secrétaire d'Etat à la solidarité n'a pas eu de mal à accepter et dont l'élue du département du Nord que je suis s'est réjoui car en en tant que présidente de la Communauté d'agglomération de Valenciennes Métropole, je comprends tout à fait ce que peut représenter l'aboutissement d'une telle restructuration, en investissement humain, financier et matériel.Je salue également les efforts particuliers de M. le Préfet, et de MM. les Présidents du Conseil régional et du Conseil général pour leur soutien à toutes les étapes du projet qui nous réunit aujourd'hui.Je voudrais également saluer l'implication toute particulière de M. URSULET, Directeur santé et du développement social de la Martinique et de son équipe dans ce projet.Monsieur le Directeur de la santé et du développement social, tout le travail que vous avez mené depuis plusieurs années en étroite collaboration avec l'ADAPEI porte désormais ses fruits.M. le Président [Jocelyn KECLARD], je sais que l'ADAPEI est un des acteurs les plus important de la prise en charge des personnes handicapées en Martinique. Ce sont 627 personnes handicapées qui sont accueillies au sein des 12 établissements et services pour enfants et adultes de l'association, avec le concours de 360 professionnels. Nous avons devant nous la réalisation concrète d'un projet ambitieux qui a eu pour objectif de reconstruire sur le même site trois établissements anciens : l'Institut médico-pédagogique de la Frégate construit en 1975, l'Institut médico-professionnel (IMPRO) du François, construit en 1979, et l'ESAT du Petit Morne, construit en 1986.Ce projet est d'abord ambitieux car il a nécessité un investissement considérable de 12,5 millions d'euros. Pour le soutenir, l'Etat y a consacré plus de 2 millions d'euros.Mais cette opération exceptionnelle à plus d'un titre a également été rendue possible par la mobilisation non seulement de l'Etat, mais aussi des acteurs locaux - conseil général et régional - et de l'Union européenne.En effet, le Fonds européen de développement régional (FEDER) participe à hauteur de 4,1 millions d'euros (33 %) à l'opération. C'est considérable !On voit avec cet exemple qu'il est possible de mobiliser toutes les synergies au service de la solidarité\",\n",
              "       \"l'amélioration de notre système de formation professionnelle. Sur ce dernier sujet, nous avons deux objectifs : la formation des demandeurs d'emploi car il y a un paradoxe dans notre pays, c'est que nous ne faisons pas suffisamment pour ceux qui sont privés d'emploi et parfois, nous en faisons beaucoup pour ceux qui ont un emploi depuis longtemps et à un niveau élevé de la hiérarchie sociale.Le deuxième objectif, c'est de permettre que cette formation professionnelle soit renforcée pour les jeunes sans qualification. Là encore, un accord a été trouvé entre l'État et les partenaires sociaux sur ce qu'on avait appelé le Fonds de sécurisation des parcours professionnels. Nous allons tâcher d'aller même au-delà en faisant que le système soit plus efficace - plus efficace en termes d'orientation, de qualité des formations et de développement de l'apprentissage avec une rationalisation des financements et une réduction du nombre d'organismes collecteurs- . Les fonds de l'apprentissage doivent aller dans des lieux où ce sont les apprentis qui sont formés et notamment ceux qui ont les plus basses qualifications.Ces évolutions s'appuieront sur une concertation qui associera aussi les collectivités locales et notamment les régions. D'autant qu'elles se verront confier de nouvelles responsabilités dans les lois de décentralisation sur ces sujets. Sur les lois de décentralisation  j'y insiste , elles devront clarifier les compétences et en aucune façon diluer des interventions qui sont aujourd'hui prévues.Cette méthode sera aussi celle qui nous permettra de préserver l'avenir de nos retraites et de notre protection sociale. D'ores et déjà, le Haut Conseil de financement de la protection sociale a été installé par le Premier ministre, c'était au mois de septembre. La conférence sociale a arrêté le principe d'un rendez-vous sur ce dossier en 2013. Nous y sommes. Le Conseil d'orientation des retraites a publié ses projections financière à moyen et long terme : elles sont plutôt rassurantes sur le moyen et le long terme mais plus inquiétantes sur le court terme. C'est d'ailleurs assez paradoxal puisqu'il nous avait été annoncé une réforme il y a trois ans qui devait garantir l'équilibre. Nous constatons un déficit de vingt milliards d'euros à l'échéance 2020 tout simplement parce que pour avoir un financement des retraites, il faut aller chercher de la croissance et de l'emploi. C'est la condition première et c'est pourquoi nous avons aussi lancé le pacte de compétitivité\",\n",
              "       \"Monsieur le Ministre, cher ami, Taro Kono,Madame,Messieurs les Ambassadeurs,Chers amis,C'est un grand honneur et une joie, pour mon épouse et moi-même, d'être parmi vous ce soir, pour le lancement du cent-soixantième anniversaire de nos relations diplomatiques. 160 ans, me direz-vous, c'est à l'échelle de l'histoire humaine, un lien encore jeune ; on peut donc se dire, il a de belles années devant lui !Mais c'est tout de même un âge respectable et la preuve d'une belle longévité. En 160 ans, nous avons acquis une somme d'expérience, nous avons forgé des liens exceptionnels, sur le plan politique, économique, sur le plan culturel.Le lien d'amitié profond qui unit nos deux pays s'est aussi nourri de toutes les histoires franco-japonaises que nos concitoyens ont écrites, au Japon et en France. Les témoignages que nous venons d'entendre en donnent un bel aperçu. Votre assemblée, vous tous ici ce soir, l'illustre également, vous qui êtes les architectes du lien d'amitié profond qui unit nos deux pays.Si vous le permettez, je voudrais également me compter parmi les membres de cette histoire. J'ai découvert votre pays il y a de nombreuses années et, dans chacune des responsabilités que j'ai exercées, j'ai eu la joie d'aller à votre rencontre, comme parlementaire, comme président de région, comme ministre de la défense et, aujourd'hui, comme ministre des affaires étrangères. Et je crois que j'exprime l'opinion des Français lorsque je vous dis que découvrir le Japon, se lier d'amitié avec des Japonais, travailler avec eux, c'est une expérience qui vous marque à jamais, une forme d'éblouissement. Le mot n'est pas trop fort.Ce que je retiens, c'est surtout le profond respect que se portent mutuellement nos deux pays. Il s'ancre notamment dans un attachement commun que nous portons à la culture, dans un équilibre entre le sens des traditions et le goût de la modernité. Il repose aussi sur cette idée que la vie humaine pour être pleinement elle-même demande l'invention d'un art de vivre. Nos civilisations respectives ont certes inventé des réponses différentes à ce besoin ; mais elles entretiennent aussi une parenté secrète dans cette volonté de styliser l'existence et de faire de la beauté un exercice quotidien.Notre histoire commune y renvoie sans cesse, à l'image de cette fascination des artistes et des écrivains français du 19ème siècle pour le «japonisme», auquel le gouvernement japonais consacrera, à partir de juillet prochain, une saison culturelle en France.Plu\",\n",
              "       \"ème autour du patient, c'est de lui garantir la qualité des soins, quel que soit l'endroit où il vit sur le territoire. Nous devons là-dessus sans tabou nous attaquer à la question de cette qualité des soins parce que c'est une hypocrisie de dire quelle est la même sur tout le territoire français. Une hypocrisie, on le sait bien, elle est liée à l'endroit où l'on vit, aux accidents qu'il y a pu avoir dans l'organisation de l'offre de soins, au réseau dont on dispose, aux passe-droits qu'on peut activer pour avoir accès le plus vite possible ou aux meilleurs professionnels et donc nous avons une manière bien française de traiter la problématique des files d'attente, c'est que nous avons organisé des passe-droits et des systèmes parallèles qui fonctionnent bien et pour celles et ceux qui sont les mieux placés dans le système, le rend viable mais qui pour le moins ne règle pas la situation d'une très large majorité de nos concitoyens.Et là-dessus nous devons remettre les choses à l'endroit. Les hôpitaux et les cliniques de proximité doivent faire bien davantage de soins de proximité. Les établissements de pointe doivent se concentrer sur les soins de pointe et je sais d'ailleurs qu'une réflexion est engagée au sein de vos conférences sur l'avenir du modèle hospitalo-universitaire, la performance de la recherche et l'innovation en santé pour aboutir à des propositions d'ici vos assises de décembre qui coïncideront avec l'anniversaire des 60 ans de l'acte constitutif des CHU par les ordonnances dites Debré de décembre 1958. Mais pour le dire de manière concrète, je préfère qu'un patient subissent une opération lourde à 50 kms de chez lui, avec le plus haut niveau de qualité, s'il peut ensuite faire sa rééducation, son suivi postopératoire au plus près de chez, entouré de ses proches dans un établissement de proximité. Lui faire croire qu'il pourra avoir cette chirurgie de pointe dans son établissement de proximité est faux, faire croire que cet établissement de proximité parce qu'il est de proximité doit être fermé est aussi faux, parce qu'on en a besoin pour organiser justement cette offre au plus près du terrain.Et donc à ce titre chaque hôpital devra se concentrer sur les soins pour lequel il est le plus pertinent. L'organisation des activités des établissements s'adaptera donc selon trois niveaux redéfinis, le soin de proximité avec la médecine, la gériatrie, la réadaptation, les soins non programmés ; les soins spécialisés avec la chirurgie, la maternité, \",\n",
              "       \"e l'homme et de la femme » nous ouvre de nouvelles perspectives pour l'accès des femmes aux responsabilités dans tous les domaines. Les propositions de Madame Simone VEIL qui a reçu mission de travailler sur ce sujet nous guideront à l'avenir. II. La deuxième priorité est l'égalité professionnelle et salarialeMalgré la croissance de l'activité féminine et la progression du niveau d'éducation des femmes qui a rejoint, voire dépassé, celui des hommes, des inégalités persistent entre hommes et femmes sur le marché du travail. Parce que les femmes accèdent moins que les hommes aux postes les plus élevés dans les secteurs les plus rémunérateurs, et parce qu'elles subissent, plus que les hommes, le temps partiel, l'écart entre les salaires mensuels moyens des femmes et des hommes reste de 19 % si l'on regarde le salaire horaire brut total. Le Gouvernement veut mettre un terme à cette situation. Le 26 novembre dernier, avec Xavier BERTRAND, nous avons réuni une Conférence sociale tripartite sur l'égalité salariale et professionnelle. En accord avec les partenaires sociaux, nous avons décidé qu'un plan de résorption des écarts salariaux entre les femmes et les hommes devra être mis en place, d'ici le 31 décembre 2009, dans toutes les entreprises où des écarts seront constatés. Passée la date du 31 décembre 2009, une sanction financière sera encourue par les entreprises qui n'auront pas établi ce plan. Le produit de cette sanction financera des aides pour l'égalité professionnelle dans certaines entreprises. Par ailleurs, une table ronde avec les branches professionnelles les plus concernées est prévue dans les prochains mois pour faire reculer le temps partiel subi et éclaté. Et en ce qui concerne plus précisément l'articulation entre les vies familiale et professionnelle, il a été proposé aux partenaires sociaux un assouplissement du temps partiel familial, ainsi que l'engagement d'une réflexion sur l'amélioration du congé parental. A l'avenir, ce congé devra mieux s'articuler avec les aides existantes, notamment le congé de paternité et la prestation d'accueil du jeune enfant. Il a été décidé en outre que les questions relatives à l'accueil des enfants seraient étudiées dans le cadre de la mise en oeuvre du droit opposable à la garde d'enfants que le Président de la République souhaite instaurer. Ce droit sera l'aboutissement des politiques menées depuis plusieurs années pour développer les capacités d'accueil en crèches et améliorer le statut des assistantes ma\",\n",
              "       \"Je tiens à vous remercier de votre présence et d'avoir accepté mon invitation. Cette conférence est l'occasion de faire un point détaillé sur la pilule. J'ai souhaité que soient présents, à mes côtés, Jean-Yves Grall, directeur général de la santé, Dominique Maraninchi, directeur général de l'Agence Nationale de Sécurité du Médicament et des Produits de Santé et Jean Luc Harousseau, président du collège de la Haute Autorité de Santé. Nous répondrons ensemble à toutes vos questions.Comme ministre des affaires sociales et de la santé, je mesure bien évidement les attentes des Français en matière de sécurité des médicaments. Permettez moi de vous dire, non pas comme ministre, mais comme mère de trois enfants dont deux jeunes femmes, que je mesure aussi les interrogations légitimes de nos concitoyens et de nos concitoyennes sur l'usage des pilules de 3ème et 4ème génération. Je comprends donc particulièrement la douleur des familles et de leurs proches, confrontés à un incident grave lié à la prise de la pilule. Je veux leur dire mon soutien dans l'épreuve qu'ils traversent et je vais d'ailleurs les recevoir très prochainement.Je voudrais commencer par un bref point sur la situation qui nous réunit aujourd'hui.Les pilules sont sur le marché depuis plus de 25 ans. En 2007, la Haute Autorité de Santé a rendu un avis qui concluait que « les contraceptifs oraux de 3ème génération sont des traitements de deuxième intention ». Certaines d'entre elles sont remboursables depuis 2009.Je voudrais tout d'abord revenir sur la décision que j'ai prise de dérembourser la pilule de troisième génération. Ce déremboursement n'a pas été et n'est en aucun cas une réponse à un risque sanitaire.En septembre dernier, il s'agissait de donner suite à l'avis de la Haute Autorité de Santé qui considérait, je cite, que « le service médical rendu par ces spécialités doit être qualifié d'insuffisant pour une prise en charge par la solidarité nationale ».J'ai donc pris cette décision de déremboursement à compter du 30 septembre 2013. Il s'agissait pour moi de laisser une période d'adaptation aux femmes, afin qu'elles puissent, avec leur médecin, et au moment du renouvellement de leur prescription, choisir un autre mode de contraception.Par ailleurs, indépendamment de l'avis de l'HAS et de la décision de déremboursement induite par cet avis et compte tenu des risques connus attachés à ces médicaments, j'ai souhaité un renforcement de l'information des médecins et des utilisatrices.J'ai, pour\",\n",
              "       \"Madame la déléguée,Mesdames et Messieurs les directeurs,Mesdames et Messieurs,Je tiens tout d'abord à vous féliciter pour l'organisation de cette journée de travail sur un sujet qui est au cur de la problématique urbaine.Il s'agit d'une approche encore récente, et complexe. Vous avez choisi de l'aborder en privilégiant les exemples et les confrontations de cas pratiques. Je crois que vous avez fait le bon choix.L'ampleur des chantiers à ouvrir mérite à la fois une grande ambition et beaucoup de modestie. Il faut à la fois traiter de questions de développement économique au sens strict, mais aussi d'aménagement de l'espace, de rentabilité financière des investissements ou encore de créations d'emplois. Il s'agit de penser au niveau d'un espace de développement pertinent, donc vaste, tout en cherchant à en mesurer les effets sur des micro territoires en voie de désintégration sociale.Combiner des territoires de dimensions différentes, mais aussi s'appuyer sur la mobilisation et les logiques d'acteurs, peu familiers de la politique de la ville : je veux parler des acteurs économiques. Tel est le défi à relever pour transformer la situation de nos quartiers.Aussi je me réjouis de cette initiative, Madame la déléguée, qui me permet de rencontrer cet après midi, un auditoire nombreux et diversifié représentant tous ceux qui veulent agir pour le développement économique des territoires prioritaires de la politique de la ville.La grande variété des thèmes que vous avez abordé, la précision, que vous avez apporté à présenter vos actions, montrent à quel point aujourd'hui la question du développement économique n'est pas une simple intention, mais une réalité.- si à ses débuts la politique de la ville s'est préoccupée de rénovation, de reconstruction, principalement pour les logements, et si cela demeure nécessaire ; - si l'amélioration du lien social demeure aussi notre préoccupation ;Nous savons pourtant qu'une ville équilibrée, une ville qui réussit, ne peut se faire sans développement de son économie c'est à dire de sa richesse.Les quartiers en difficulté, qui sont notre cur de métier, revendiquent plusque d'autres espaces encore, le besoin de s'inscrire dans un projet de développement de la richesse.Or force est de constater que 25 ans de crise économique et de chômage de masse ont entraîné des reconfigurations de notre territoire, où la ville des marges, celles des banlieues a fait les frais de ces grandes restructurations.La disparition des entreprises à fort\",\n",
              "       \"nes. Il y va du respect de la parole donnée.La survie du nickel calédonien sera collective ou, ce que je me refuse à envisager, l'échec sera collectif.La Nouvelle Calédonie vit sous les yeux des opérateurs du monde entier. Comme la France métropolitaine, elle a grandement besoin des investisseurs étrangers : Brésiliens, Coréens, Japonais, Suisses. La Nouvelle-Calédonie doit rester la terre attractive qu'elle a été.Or, comment imaginer qu'ils puissent durablement lui accorder la confiance qu'elle mérite, qui lui est indispensable sur les marchés mondiaux, si elle n'applique pas les décisions qu'elle a collectivement prises ?Le temps n'est donc plus à des pudeurs, ou à je ne sais quelles manoeuvres. Il est au passage à l'action. Chacun doit bien mesurer que les divergences doivent être surmontées, que les engagements pris doivent être tenus et que chacun sera responsable de ses choix.Le Comité des signataires a également débattu de la redéfinition d'une gouvernance de la filière nickel pour les prochaines décennies. Car en 20 ans, depuis les accords de Bercy, tout a changé en Nouvelle-Calédonie : le nombre d'industriels, les débouchés, l'adhésion des populations elle-mêmeEt c'est maintenant que se prépare le secteur d'après la crise. Cette préparation sera un signe tangible et fort de la volonté collective d'en sortir.Les réflexions doivent porter sur les modalités d'association et de contrôle des groupes métallurgiques par les pouvoirs publics calédoniens ; sur la politique de gestion des ressources ; sur le rôle et les moyens des maires des communes minières ; sur la politique de l'exportation ; et bien évidement sur la nécessité d'un Fonds Souverain pour les générations futures.Le besoin, dans tous ces domaines, de procédures plus claires et plus lisibles, plus favorables à l'économie calédonienne, a été souligné par tous.Pour parvenir à des réponses partagées, qui puissent être présentées au prochain Comité, comme les Partenaires s'y sont engagés, j'invite le groupe de travail des présidents et des signataires (GTPS) à accélérer ses travaux, toujours avec l'appui de l'Etat, pour avancer concrètement sur les points de convergences comme sur les sujets encore en débat.Là encore, l'urgence nous presse. Les sujets de fonds importent plus que les questions de format, alors que la gouvernance du nickel calédonien est un élément fondamental de sa crédibilité.Mesdames et messieurs,L'élan que nous avons trouvé sur ces sujets en février fait que je ne doute pas qu\",\n",
              "       \"tifiques par nature.Cela étant, la démonstration aurait été plus parlante encore si aviez voulu être, à l'origine, chanteur ou footballeur. Pas rugbyman en tout cas : étant franco-argentin, cela vous aurait exposé à des dilemmes insurmontables en début de Coupe du monde. Exemplaire donc aussi par votre ouverture aux dimensions internationales de la recherche : sans doute y étiez-vous préparé par votre double nationalité, mais cela vous a tout de même conduit à un post-doctorat aux Etats-Unis ainsi qu'à passer une année entière en Argentine pour y enseigner.Vous avez ainsi montré que les parcours internationaux des jeunes scientifiques français pouvaient être une chance pour notre recherche, pour peu que nous soyons capables de leur offrir à leur retour en France des responsabilités à la hauteur des qualifications qu'ils y ont acquises. Exemplaire également par l'intérêt qui est le vôtre pour la valorisation de vos recherches : non seulement vous avez déposé plusieurs brevets, mais vous avez aussi toujours attaché une grande importance au parcours qui mène des études fondamentales aux thérapies destinées aux malades. Vous avez ainsi récemment contribué à la réalisation d'essais cliniques de vaccination thérapeutique chez des patients atteints de cancers de la peau et du poumon. Vous n'avez donc jamais perdu de vue le but ultime de vos recherches qui, au-delà des défis scientifiques et intellectuels, étaient toujours orientées vers les soins à apporter aux malades. Conduire le corps à se défendre par lui-même des dégénérescences cancéreuses qu'il produit pour des raisons que nous connaissons de mieux en mieux : voilà en effet l'objectif même de vos travaux qui explorent la voie de l'immunothérapie. Ils autorisent, chacun le comprend, d'immenses espoirs. Et chacun de nous espère de tout coeur qu'ils aboutiront. Mais permettez-moi de vous dire une dernière chose, avant de vous remettre ce prix qui vient couronner une carrière exemplaire : Si jamais vos recherches venaient à buter sur d'autres obstacles insurmontables, si jamais vous deviez ouvrir d'autres voies pour atteindre votre but, vous pourriez compter sur une nouvelle génération, prête à vous épauler et à vous soutenir dans votre travail, comme ils sont aujourd'hui épaulés et soutenus par l'ARC. Et au travers de votre succès, c'est donc l'effort de toute une communauté, qui travaillera encore à vous aider de tout son possible, que nous honorons aujourd'hui. Vous le voyez, cher Sébastian AMIGORENA, le pr\",\n",
              "       \"Mesdames et messieurs, Chers camarades, Chers amis, Quand l'état déplorable du pays l'exige, quand les piliers moraux de la société s'effondrent, minés par la décadence et le laisser-aller, quand l'indépendance de la nation est mise à l'encan, il est du devoir des plus lucides et des plus courageux, s'élevant au-dessus de leurs certitudes et de leurs dilections, de sonner le rassemblement sans exclusive du peuple pour agir car la patrie est en danger.Les hommes d'Etat ne doivent pas garder le souvenir des faiblesses des hommes, car très souvent, ils devront se confier à eux comme s'ils croyaient en leur droiture. Ils ne doivent pas se souvenir des offenses de leurs ennemis, car il peut arriver qu'ils soient obligés de leur tendre la main pour qu'ils aident à construire ce qu'auparavant, dans leur passion aveugle, ils prétendaient détruire. Ils ne doivent pas garder le souvenir des désillusions, des nuits perdues, des efforts mal appréciés, des intentions travesties, de l'honneur injurié, du patriotisme taxé d'intérêt personnel, en un mot de l'ingratitude des hommes parce que, malgré tout et au dessus de tout, ce qu'ils font, c'est servir les peuples sans ressentiment et les gouverner avec abnégation.Non, les hommes d'Etat ne doivent garder le souvenir de rien qui puisse constituer un obstacle à la collaboration patriotique, qui puisse abattre leur ardeur au travail ou troubler dans leur conscience la source des intentions généreuses.Mais, pourtant, s'il est vrai que les hommes d'Etat doivent oublier beaucoup de choses, ils ne doivent pas tout oublier. Pour cela et dans l'intérêt du peuple, les hommes d'Etat doivent avoir de la mémoire.En vérité, deux sentiments devraient dominer entièrement nos attitudes et nos actions. Un sentiment de communauté (à l'intérieur) et la conscience de l'intérêt national (vis-à-vis des autres nations) comme une réaction contre la tendance morbide de notre temps à donner la préférence aux intérêts étrangers.Car la Patrie est Une et le bien général doit l'emporter sur tous les autres, aujourd'hui comme hier, mais aujourd'hui bien plus qu'hier. I- La France va mal, et si rien ne change, elle ira demain de plus en plus mal.Or, il est évident qu'il faut faire le diagnostic avec d'élaborer un traitement thérapeutique. Qui d'entre vous peut croire que les trois candidats qui représentent les partis qui ont conduit la France au désastre, oui, qui peut croire que ces gens feront demain ce qu'ils n'ont ni su, ni voulu, ni pu faire hier.\",\n",
              "       'e réussite seront aussi posées : celle de l\\'accompagnement, des relations « Ecole famille » ou encore des activités culturelles et sportives.Pour que cette journée impulse une dynamique et une cohérence nationale de la réussite éducative, qu\\'elle aide à mieux harmoniser les relations entre tous les acteurs, nous allons travailler sur les outils du partenariat de la réussite éducative : quelle communication commune ? Quelles conditions du partenariat ?Un autre atelier traitera de l\\'évaluation pour la réussite éducative. ?À ce jour, diverses démarches d\\'évaluation existent, et notamment cette enquête importante avec un suivi de cohortes auquel il est procédé par l\\'Onzus actuellement (et que vous trouverez explicitée dans vos dossiers), mais il serait souhaitable que les divers acteurs institutionnels puissent se fonder sur une évaluation partagée de la réussite éducative. Quelle mutualisation des enquêtes ? Au-delà des impacts sur les résultats scolaires, ce sont notamment les effets sur l\\'épanouissement de l\\'enfant, sur la relation de confiance avec les familles ou encore sur le climat scolaire que cette évaluation doit parvenir, in fine, à mesurer.Il est aussi important de définir les principes et méthodes partagées qui fondent les démarches justifiant d\\'être reconnues comme participant de la réussite éducative.Avant la réunion des ateliers, nous assisterons en plénière à deux tables rondes dont les thématiques conditionnent politiquement la réussite éducative. D\\'une part la réussite éducative et sa nécessaire mise en \\x9cuvre territoriale et locale. D\\'autre part, la seconde table ronde s\\'interrogera sur les relations \"Familles /Écoles\" notamment pour celles qui sont les plus éloignées de notre système éducatif.* La réussite éducative, les rythmes scolaires et les projets éducatifs de territoireLa réussite éducative, dans la mesure où elle valorise la continuité du temps de l\\'enfant, la mise en cohérence des actions de chacun s\\'inscrit en complémentarité avec l\\'action du ministre de l\\'éducation nationale, Vincent PEILLON.La loi de refondation, votée par l\\'Assemblée nationale en première lecture et qui sera discutée la semaine prochaine au Sénat, et spécifiquement les projets éducatifs de territoire qui y sont inscrits, visent à donner de la cohérence aux temps éducatifs, de l\\'harmonie entre les acteurs de l\\'éducation.Élaborer un projet éducatif de territoire, c\\'est mettre autour de la table pour échanger, pour construire un projet, tous les différents acteurs',\n",
              "       'iles ou que les services publics soient sans valeur ajoutée, bien au contraire. Mais la charge qu\\'ils représentent doit en permanence être surveillée. Depuis longtemps, nous l\\'avons oublié, en laissant nos finances publiques et nos prélèvements obligatoires dériver et en promouvant une société du non-travail, où l\\'activité est réduite et où l\\'inactivité bénéficie de transferts financiers équivalents aux revenus du travail.Le résultat le plus visible est que la richesse nationale ne s\\'est accrue en moyenne que de 1,7% par an depuis 10 ans, soit un point de moins que certains de nos partenaires sur la même période. Notre politique économique doit viser un objectif ambitieux : faire de la France l\\'un des pays les plus attractifs au monde pour la création de richesses. Donnons-nous quatre orientations claires.Tout d\\'abord, renforçons massivement la recherche et l\\'innovation.C\\'est dans cet esprit que j\\'ai voulu instituer, lorsque j\\'étais à Bercy, les pôles de compétitivité, à la suite d\\'un excellent travail de Christian Blanc. Après un appel à projet national, nous avons labellisé 67 pôles. L\\'Etat s\\'est engagé à leur apporter des aides sociales et fiscales aux entreprises, aux centres de formation et aux centres de recherche concernés. Sept pôles sont nés en Ile-de-France, dont deux mondiaux (Meditech et System@tic), dans des secteurs aussi variés que le médicament, les logiciels ou les cosmétiques. Certains d\\'entre vous y participent certainement.Afin de converger vers les meilleurs standards internationaux, la réforme de notre appareil de recherche et d\\'enseignement supérieur est elle aussi absolument cruciale. Et je souhaite que la France accroisse fortement son effort financier en la matière dans les années à venir.Deuxièmement, réformons profondément notre droit du travail.Dans notre pays, nous sommes les champions de la protection des emplois existants et du verrouillage des licenciements. Alors, certes nous en avons effectivement un peu moins que les autres, mais nous avons surtout beaucoup moins de créations d\\'emploi que les autres, les périodes au chômage sont plus longues et l\\'essentiel des offres de travail passe par des contrats précaires et l\\'intérim. Au final, c\\'est un équilibre \" perdant-perdant \", pour les entreprises et pour les salariés, avec pour résultat paradoxal que la France est l\\'un des pays où l\\'insécurité sociale est la plus durement ressentie.Il est possible d\\'offrir aux entreprises et aux salariés français un accord gagnant-gagnant o',\n",
              "       \" la plus forte augmentation jamais réalisée.Ma troisième priorité, c'est d'accompagner la modernisation des entreprises agricoles. C'est de préparer la France agricole des dix prochaines années. L'avenir, ce sont d'abord les jeunes agriculteurs. 6 000 jeunes bénéficient de ce que l'on appelle la politique d'installation. Nous devons aller au-delà. Je propose donc un nouveau dispositif de soutien. 1% du montant total des aides directes sera alloué spécifiquement aux jeunes agriculteurs. Soit 100 millions d'euros de plus chaque année au travers du premier et du deuxième piliers.L'avenir, ce sont aussi les moyens de se protéger contre les aléas climatiques, sanitaires, environnementaux, économiques. Dans ces conditions, les instruments de prévention et de gestion des risques seront améliorés. Cela nous permettra d'ailleurs d'anticiper sur les évolutions de la politique agricole commune et les crédits seront pris sur le premier pilier.J'ai conscience que nous devons continuer à moderniser les exploitations. Je vois bien les enjeux, les mises aux normes, l'amélioration des conditions de travail, la fin des quotas laitiers, la concurrence exacerbée par rapport à nos voisins européens, notamment ceux qui n'ont pas le SMIC ou qui ont des conditions de distorsion tout à fait inacceptables et qui ne sont pas parmi les pays les plus pauvres de l'Union européenne.Ainsi sera mis en place un nouveau plan pour la compétitivité et l'adaptation des exploitations. Ce plan concernera d'abord les bâtiments d'élevage. Il sera doté d'un fonds de modernisation. L'Etat l'alimentera. J'en prends ici l'engagement avec l'Europe. Pas à la place de l'Europe, pas l'Europe à la place de l'Etat. Non, l'Etat plus l'Europe.Je demande aux régions, aux collectivités locales de s'y associer. Nous pourrons mobiliser 200 millions d'euros par an, pour l'élevage, soit le double de l'enveloppe actuelle. Soutenir les bâtiments, c'est soutenir l'élevage français. C'est permettre encore l'amélioration des conditions de travail et la compétitivité. Les filières professionnelles seront les bienvenues pour abonder également ce fonds.Nous devons aussi favoriser la transition écologique. Les mesures environnementales seront donc amplifiées et les crédits inscrits dans la prochaine programmation seront doublés. Le programme « ambition bio » élaboré par le ministre de l'Agriculture prévoira de doubler les financements pour doubler les surfaces.Cessons d'opposer le bio et le reste de l'agriculture. Nous avon\",\n",
              "       \"nt être mobiles  on les incite à le faire , qu'ils puissent trouver dans de bonnes conditions un logement. Quand on sait que beaucoup de jeunes fonctionnaires ne peuvent pas parfois répondre ?? l'emploi qui leur est proposé faute de pouvoir trouver un logement - je pense aux enseignants -.Deuxième exemple, le numérique. La France devra être couverte en très haut débit dans les dix ans. C'est un champ d'action considérable. D'abord, pour les entreprises technologiques concernées. C'est un enjeu pour notre pays en termes d'égalité de tous sur le territoire et c'est aussi une obligation pour l'attractivité de notre pays.Enfin la mobilité, c'est une société où les transports sont facilités. Nous avons des infrastructures publiques, privées qui nous permettent d'améliorer les transports au quotidien  on peut parler de l'Île-de-France , mais également de fixer de grandes priorités pour des travaux publics avec des financements adaptés. C'est toujours ainsi que notre pays a avancé, par l'investissement, a progressé, par la mobilisation de ses acteurs et également en faisant de grands choix industriels qui ont pu paraître au départ risqués et qui se sont trouvés confortés par la réalité. Sauf que ce n'est plus l'État seul qui peut en décider, c'est l'ensemble des acteurs économiques.Voilà pourquoi, Mesdames et Messieurs, la France doit et peut réussir. Elle a besoin néanmoins d'une volonté  c'est la nôtre , d'un engagement, de la solidarité de tous. Je veux dire par là de toutes ses institutions, sûrement, de toutes ses entreprises, nécessairement, des organisations professionnelles, syndicales qui jouent leur rôle, de l'économie sociale et solidaire sur laquelle nous pouvons nous appuyer davantage. J'ai confiance dans les ressources de notre pays. Nous les citons souvent comme pour penser que nous avons des atouts. Nous en avons  les savoir-faire uniques au monde  et je les vérifie dans mes déplacements. Partout où je défends autant que je peux les entreprises françaises dans le cadre des grands contrats, même si je ne peux pas être un agent commercial, ce n'est pas mon rôle et ce n'est généralement pas le résultat qui est à la hauteur de l'agitation. Mais chaque fois que j'interviens sur ces sujets, on me parle toujours de l'excellence technologique française mais on me parle aussi du défaut de commercialisation, de présence, de soutien, de formation, de partage de la technologie. Donc nous devons faire un effort dans cette direction car nous avons des produits \",\n",
              "       \"s.3- Assurer une offre d'habitat diversifiée et de qualité :La loi conforte le statut des logements sociaux, renforce la solidarité entre bailleurs sociaux (financement de la CGLLS), et crée les conditions d'un dialogue régulier entre organismes HLM et locataires (plans de concertation locative).La qualité de l'habitat privé, essentielle pour le développement d'une offre de logement diversifiée, nécessite d'être souvent améliorée pour répondre pleinement à cet objectif. La loi a réformé les procédures de lutte contre l'insalubrité et le péril, renforcé les capacités d'intervention dans les copropriétés dégradées et unifié les modes d'interventions publiques en faveur de l'habitat privé (grande ANAH).III- Je souhaiterai maintenant aborder les principales questions que vous vous posez.1- Sur les schémas de cohérence territoriale (SCOT)La cohérence affichée par la présente loi entre les politiques d'urbanisme, d'habitat et de transport doit d'abord se manifester dans les agglomérations, où vivent 80 % de nos concitoyens.Pour respecter cette cohérence, il est indispensable que la discussion sur les projets importants (centre commercial, grand équipement, nouvelle zone d'habitat ou d'activités) ait lieu à l'échelle de l'agglomération, et non au niveau de la seule commune qui accueille le projet.C'est pourquoi la loi a voulu inciter fortement les communes des agglomérations et de leur proche périphérie à participer à un SCOT. C'est la distance de 15 km qui a été retenue pour qualifier la proche périphérie de l'agglomération.D'autre part, un an a été laissé aux communes, après la publication de la loi, pour délimiter un périmètre et constituer un EPCI compétent, d'où la date de 1er janvier 2002, tant contestée.Mais cette date ne constitue en aucune façon un couperet, au-delà duquel plus rien n'est possible si un SCOT n'a pas été approuvé.Comme vous avez dû l'évoquer en début de matinée, les zones constructibles au 1er janvier le demeurent après cette date.C'est seulement dans l'hypothèse où vous souhaitez ouvrir à l'urbanisation un nouveau secteur, en l'absence de SCOT, qu'il vous faudra au préalable recueillir l'avis de l'EPCI compétent pour élaborer le SCOT ou l'accord du Préfet, si l'EPCI n'est pas encore constitué.Les Préfets et les DDE ont reçu des instructions pour s'assurer de l'opportunité de l'urbanisation envisagée au regard de l'équilibre du développement de l'agglomération et ne pas bloquer les projets qui répondent aux seuls besoins de la commune.Je \",\n",
              "       \"les nouveaux modes de gestion des services publics locaux, le développement de l'intercommunalité, doivent entre autres, concourir à cet objectif.- Ensuite, je partage votre position qui veut que l'évolution de la fiscalité locale ne peut être appréhendée sur une période trop courte. Les cycles électoraux, les transferts de ressources fiscales entre l'État et les collectivités locales, peuvent modifier ponctuellement une analyse qui doit reposer sur le long terme. La pression fiscale locale s'était stabilisée pendant une longue période, depuis 1997, et les collectivités locales ont, depuis lors, globalement privilégié leur désendettement et la préservation d'un autofinancement solide comme préalable à leurs projets d'investissement. Elles assument aujourd'hui plus de 70 % de l'investissement public et ce pourcentage augmentera encore avec les nouveaux transferts de compétences. Or je suis inquiète de constater, comme vient de le dire Pierre MEHAIGNERIE, que la pression fiscale des régions connaît une hausse déraisonnable. Il faut que les citoyens, sachent qui est responsable de quoi ; c'est la démocratie ; elle ne peut reposer que sur la clarté. - C'est l'ensemble des données dont il faut s'inspirer pour aborder le financement actuel des compétences décentralisées.L'État transférera en effet une partie de ses ressources fiscales pour accompagner cette mutation qui abondera les ressources propres des collectivités locales. Ces impositions constituent des ressources réellement dynamiques sur le long terme et, là aussi, il ne faut pas uniquement se fixer sur l'analyse du dernier trimestre écoulé.Dans le même temps, le décroisement des financements publics grâce à la décentralisation permet une affectation plus efficace des ressources.- Je voudrais conclure sur un point d'actualité qui concerne l'année 2005. Votre projet de résolution part d'un débat qui s'est ouvert sur le financement de la décentralisation. Mais l'esprit de la commission d'enquête que vous avez souhaité créer est beaucoup plus large. Aussi, il faut bien la distinguer des instances de concertation, comme la commission consultative d'évaluation des charges, créée par la loi du 13 août 2004, qui a été installée le 8 février 2005 et qui commence son travail d'évaluation.Les questions qui ont nécessité la création d'une commission d'enquête sur la fiscalité locale, devraient faire l'objet d'un large consensus car il s'agit de : 1) Clarifier l'élément fiscal au sein des différents niveaux de colle\",\n",
              "       'ons ou fleurs jusqu\\'à certains félins. Dans le domaine de la prospective, parce qu\\'il ne faut pas oublier que la science est aussi une affaire d\\'avenir qui suppose de prendre un peu d\\'avance, je pense au projet mondial de système d\\'observation global de la planète réunissant les différentes approches du changement climatique, modélisation, observation par satellites, simulation, etc. Je pense aux travaux sur l\\'ADN, dont nous fêtons cette année le cinquantenaire de la découverte, et aux applications multiples, que cette découverte a rendues possibles. Je pense enfin au potentiel de recherche considérable qu\\'offre la numérisation des données, textes, manuscrits, archives aux étudiants et chercheurs en sciences humaines et sociales. A ceux qui sont désireux, comme on l\\'est souvent à cet âge, de partir, à ceux qui ont besoin ou envie d\\'ailleurs, j\\'aimerais dire que la science, la recherche offrent ces possibilités d\\'ouverture aux autres, de dépaysement, qu\\'elles permettent de partir à la rencontre d\\'autres pays, d\\'autres cultures, d\\'autres savoirs, d\\'autres besoins. Sont-ils nombreux à savoir qu\\'il existe en France un Institut de Recherche pour le Développement mobilisé au service du développement des pays du Sud, c\\'est-à-dire travaillant, de manière très concrète, pour l\\'amélioration de l\\'état économique, social, sanitaire, environnemental de ces pays ? Et sans aller si loin, ont-ils bien conscience des possibilités inouïes offertes par la construction de l\\'espace européen de la recherche ? De la chance qu\\'ils ont de grandir, d\\'étudier, de travailler au sein d\\'un tel espace - lieu de mobilité et d\\'échanges ? Si cette conscience n\\'est pas suffisamment claire, si cette conviction n\\'est pas suffisamment répandue, c\\'est peut-être qu\\'il nous faut redire inlassablement ce même message. C\\'est peut-être surtout qu\\'il faut le faire entrer plus encore dans les pratiques de nos pays, de nos organismes de recherche, de nos universités, de nos entreprises. Car pour être aussi effective que possible, cette mobilité suppose une grande souplesse.Le Président de la République le rappelait encore tout récemment, lors de l\\'inauguration près de Grenoble de la nouvelle unité de production d\\'une grande entreprise de microélectronique, \"la matière première de la recherche, c\\'est la matière grise\". Cet or gris, aujourd\\'hui, ce sont les études, les recherches, les travaux et les découvertes de nos scientifiques, de nos ingénieurs, de nos chercheurs et développeurs. A l\\'heure où se mu',\n",
              "       \"e mérite que les intérêts partisans s'effacent derrière l'intérêt général comme nous l'avons réussi pour la loi sur les signes religieux à l'école en 2004.Ce pacte démocratique s'appuie sur une méthode : un dialogue loyal et au grand jour avec le gouvernement, sa majorité et toutes les grandes forces démocratiques représentées dans notre Assemblée. Ce pacte démocratique propose une vision globale. Améliorer tout ce qui concourt à l'équilibre de notre démocratie : les droits du Parlement et du citoyen, les modes de scrutin, l'indépendance de la justice, le pluralisme des médias. Tout doit être sur la table : la Constitution comme les lois organiques ou ordinaires.Au regard de ces critères, force est de constater que vos réponses depuis le début du processus de révision nous laissent sur notre faim. Parlons clair : il manque à notre dialogue républicain sa principale matrice, la confiance. * Comparatif des intentions et des actes du pouvoirComment ignorer la contradiction flagrante entre votre discours officiel, renforcer les droits du Parlement, et votre pratique autoritaire qui vise à le soumettre. Depuis un an, nous avons eu droit à toutes les avanies : l'urgence imposée à tous les textes, le refus de débattre nos propositions, le rejet systématique de nos amendements, l'humiliation du discours présidentiel de Westminster. Ce qui s'est passé depuis une semaine lors de l'examen du projet de loi sur les OGM n'a fait qu'appesantir le carcan. Où sont les droits du Parlement dans l'arbitraire d'un gouvernement qui s'assoit sur un vote de l'Assemblée nationale et impose son texte envers et contre tous.Et que dire des droits de l'opposition ? Vous avez refusé de débattre au fond de nos propositions de loi sur le mode de scrutin sénatorial. Vous avez réservé le même sort en commission à notre seconde proposition sur l'égalité du temps de parole dans les médias. Nous tendons la main. Vous nous tordez le bras.Comment dès lors établir la confiance quand vous préférez l'épreuve de force à l'épreuve de vérité ? Je vous renvoie à l'esprit des lois de Montesquieu : « la bonne Constitution est d'abord ce qu'en font les gouvernements ». Ce premier exercice comparatif entre la promesse et l'acte est à cet égard inquiétant. Rien n'a vraiment changé. Qu'en est-il maintenant du projet de loi lui-même ? Là encore je me livrerai à cet exercice très simple de la comparaison entre votre texte amendé par la Commission des lois et les grandes propositions du groupe socialiste. Je l\",\n",
              "       \"Je suis vraiment ravie d'être présente. En plus, je ne m'attendais pas à une si belle surprise. Une telle assistance, avec de si beaux visages, m'est offerte pour la première fois. J'espère que vous prendrez quelques photos. Ceux, qui sont en charge des appareils, sont priés de m'en communiquer avant mon départ.Vous le savez, je suis dans la maison depuis ce matin. Je suis dans l'établissement depuis quelques heures. Je suis venue « installer » le nouveau directeur de l'École nationale de l'administration pénitentiaire, qui nous accueille. Depuis ce matin, Monsieur Philippe POTTIER est devenu le directeur de l'ÉNAP. Suite à ma proposition, il l'est devenu par un décret du président de la République daté du 7 janvier 2013. Je vous invite à regarder son parcours. Cette curiosité est tout à faite saine. Son parcours est très beau. Il est extrêmement représentatif de notre administration pénitentiaire. Cette administration est composée de métiers divers. Monsieur POTTIER les a presque tous pratiqués. Il ne s'en est pas contenté. Il a circulé sur le territoire. Il est allé au-delà de l'hexagone puisqu'il a également servi à l'Outre-mer. Il a réfléchi. Il a publié. Il a participé à la recherche. Où est-il ? Tiens ! Le voilà ! Il est votre directeur depuis ce matin. Il a été nommé le 7 janvier par le président de la République. Il a une expérience et une solide connaissance. Il connaît cette école où il a déjà servi. Il connaît tous les métiers (les surveillants, les directions, les conseillers d'insertion et de probation). Il connaît tous les métiers de l'intérieur. Il est arrivé ce matin. Depuis 7 mois, la maison est tenue par Madame DOUCET, que vous connaissez. Elle est la directrice adjointe. Pendant 7 mois, elle a assuré l'intérim. Devant vous, je la remercie à nouveau pour la qualité du travail qu'elle a pu fournir. Elle a maintenu la cohésion des équipes qui sont d'une très grande qualité. J'ai rencontré les directeurs. J'ai rencontré ceux qui connaissent l'école et la font vivre au quotidien. Au niveau de l'encadrement, je sais à quel point la qualité des ressources humaines est grande. Au niveau des élèves, je sais aussi que la qualité est grande compte tenu des conditions dans lesquelles vous choisissez d'épouser ces métiers et des conditions dans lesquelles vous êtes admis dans cet établissement.Je dois dire que j'éprouve un bonheur particulier. Je crois profondément à l'importance des connaissances. Je crois à l'importance des savoirs de qualité. Ils \",\n",
              "       \"u Monde. Ce qui est un bouleversement que n'ont pas connus toutes les générations qui nous ont précédées. Face à tout cela, comment sommes nous capable de réagir et d'agir pour faire en sorte que le devoir qui est le nôtre d'améliorer la vie de nos compatriotes soit rempli de la meilleure façon possible. Je crois effectivement que la Coopération Régionale doit être un des axes forts de la politique nationale de l'Outre-mer et que sans doute la réaction, la marque de fabrique qui était celle de la politique française des Outre-mer, qui était une marque très liée à un rapport charnel, quasi unique entre la métropole et ses territoires, où les liens se faisaient quasi exclusivement de Paris vers les territoires, est une réalité qu'il faut non pas nier ou repousser, il faut que ce lien soit fort. N'est-ce pas Messieurs les parlementaires, votre présence, Monsieur le Sénateur, au Palais du Luxembourg montre bien que Mayotte est dans la banlieue du 7ème arrondissement, mais qu'il fallait peut-être aussi savoir aujourd'hui ouvrir nos économies, ouvrir nos perspectives d'avenir vers notre environnement immédiat, d'autant plus à un moment où cet environnement prend une dimension forte et où les enjeux de la mondialisation viennent nous offrir des opportunités. Et je crois qu'il y a dans le travail qui est le vôtre, dans ces réflexions des Conférences de Coopérations Régionales, à produire des objectifs clairs pour permettre d'engager des politiques publiques fructueuses. Il faudra au moment où les objectifs seront clairement affirmés, où les priorités seront dégagées savoir aller chercher dans la grande panoplie des acronymes nationaux et européens tous les moyens nécessaires mais au service de quel objectif ? Au service de quelle perspective faut-il mobiliser ces moyens, faut-il mobiliser ces fonds ? J'entends Monsieur le Président du Conseil Général, Messieurs les Elus de Mayotte, votre désir que Mayotte puisse accéder au statut de RUP. Je partage avec vous cette ambition, et je serai aussi à vos côtés dans ce combat, mais RUP pour quoi faire ? Avec quels objectifs ? Avec quelles perspectives précises et dans quel cadre de coopération régionale ? Je crois que c'est ça l'enjeu qui est devant nous et qui doit nous obliger sans doute à travailler plus, sans doute à produire plus et à ouvrir des perspectives. J'ai quelques réflexions, quelques questions que je voudrais livrer à votre sagacité, qui ferons peut-être l'objet, cette après-midi, de la suite de vos travaux\",\n",
              "       'e action concertée en appui au travail du Haut-Commissariat des Nations unies pour les réfugiés (HCR) et de l\\'Organisation internationale pour les migrations (OIM), en Libye, avec le soutien de l\\'ensemble des pays présents, mais aussi de l\\'Union africaine qui a décidé de prendre ses responsabilités - et qui, très concrètement, les prend. Il s\\'agit, de façon systématique, d\\'agir sur les trois segments de la migration - je parle toujours de cette voie centrale qui est la plus sensible du point de vue de ma responsabilité.Il convient dans un premier temps d\\'agir sur les pays d\\'origine des migrants par un effort de développement - je viens de l\\'évoquer -, par une aide au retour et à la réinstallation et par la facilitation de l\\'immigration régulière des étudiants et des chercheurs - il s\\'agit donc d\\'un mouvement dans les deux sens : permettre, je le répète, en échange de cette politique de vigilance et de clarté avec les pays d\\'origine, une immigration des étudiants et des chercheurs, grâce notamment au \"passeport talent\" que nous avons mis en place.Ensuite, dans les pays et les zones par lesquels transitent les migrants, comme le Niger - traversé en 2016 par 300.000 migrants -, le Tchad ou la Libye, nous entendons favoriser l\\'aide au retour dans les pays d\\'origine, du fait, en particulier, des conditions particulièrement inhumaines que connaissent les migrants dans les camps, en particulier en Libye. J\\'ai eu l\\'occasion moi-même de m\\'y rendre et j\\'ai pu dire clairement aux autorités libyennes qu\\'elles devaient faciliter l\\'accès des organisations internationales, l\\'OIM et le HCR, à ces camps pour en améliorer la gestion et permettre à ceux qui veulent retourner dans leur pays d\\'origine, de le faire, et ils sont très nombreux. J\\'ai pu constater que l\\'action de l\\'Union africaine s\\'était en la matière révélée particulièrement positive. Aussi ce mouvement s\\'organise-t-il et se fait-il de manière beaucoup plus correcte qu\\'auparavant. J\\'évoque bien, ici, les camps de migrants identifiés et organisés car dans d\\'autres camps, tenus par des passeurs, en particulier dans le sud de la Libye, les migrants vivent généralement dans des conditions épouvantables, de semi-esclavage, et les reportages que vous avez pu voir concernent ces camps qui ne dépendent d\\'aucune autorité, pas même de l\\'autorité libyenne - l\\'Union africaine s\\'est ainsi engagée à essayer d\\'agir. Les autorités libyennes ont pu faire montre d\\'inattention, dirai-je puisque cette audition est publique, quant à ',\n",
              "       \"Monsieur le secrétaire d'État, cher Laurent,  Monsieur le préfet, secrétaire général du Comité Interministériel de Prévention de la Délinquance et de la Radicalisation, cher Frédéric Rose,  Mesdames et messieurs les préfets,  Mesdames et messieurs,  J'ai voulu vous réunir pour parler d'un problème sérieux, grave.  Depuis des années, particulièrement depuis 2015, nous menons un combat intense contre le terrorisme et la radicalisation.  Ce combat, vous l'incarnez sur le terrain, dans les territoires, car le terrorisme peut frapper partout.  Vous l'incarnez par l'application du plan interministériel de lutte contre la radicalisation.  Depuis 2017, le Gouvernement a encore renforcé les moyens mis à votre disposition.  Nous avons mieux armé notre droit. La loi renforçant la sécurité intérieure et la lutte contre le terrorisme a été la première votée pendant le quinquennat et elle renforce nos possibilités de suivre et de sanctionner les individus dangereux.  1Nous avons amélioré notre organisation, en désignant la DGSI comme chef de file clair de notre lutte contre le terrorisme et en lançant le recrutement de 1900 agents supplémentaires pour notre renseignement.  Nous sommes sur nos gardes. Comme je vous l'ai dit à chaque fois que j'en ai eu l'occasion, la lutte contre le terrorisme reste au sommet de nos priorités et depuis 2013, 60 attentats ont été déjoués sur le sol français.  Mais aujourd'hui, nous voyons que nous ne devons pas nous arrêter. Le terrorisme et la radicalisation sont bien souvent les parties émergées de l'iceberg.  L'heure n'est plus aux pudeurs ni aux faux-semblants. Disons le franchement, comme vous le constatez sur le terrain : la radicalisation et le terrorisme sont les symptômes les plus graves d'un mal plus profond qui touche trop de nos quartiers.  Je veux parler de l'islamisme et du communautarisme.  Alors pour nous attaquer à ce mal, il nous faut d'abord être en mesure de le connaître et de le définir.  Contrairement au terrorisme, rigoureusement défini dans le code pénal et qui recouvre l'intégralité des infractions commises « intentionnellement en relation avec une entreprise individuelle ou collective ayant pour but de troubler gravement l'ordre public par l'intimidation ou la terreur », l'islamisme et le communautarisme n'ont pas de définitions juridiques précises.  Nous pouvons donc les aborder, d'abord, par la description de leur réalité politique.  L'islamisme, c'est un projet politique anti-démocratique et antirépublicain, q\",\n",
              "       \"r le courage de le dire aussi simplement : les élus avaient peur de se faire battre aux prochaines élections !Nous devons donc revenir sur cette fiscalité locale et trouver des réponses pour avoir des impôts à la fois pérennes pour les collectivités et équilibrés pour le contribuable. C'est le but de la tâche confiée au sénateur Alain Richard et au préfet honoraire Dominique Bur, ancien directeur général des collectivités territoriales, dans le cadre de la mission préparatoire au pacte financier entre l'État et les collectivités territoriales.Je précise également que le comité des finances locales, le CFL, travaille aussi dans cette direction.M. le président. La parole est à M. Pascal Savoldelli, pour le groupe communiste républicain citoyen et écologiste.M. Pascal Savoldelli. Monsieur le président, madame la ministre, mes chers collègues, le centième congrès des maires, qui se tient en ce moment même, se caractérise par une très forte participation des élus, lesquels sont également très nombreux au Sénat.Ces élus nourrissent de vives inquiétudes : le gouvernement précédent a déjà privé les services publics locaux de 11 milliards d'euros. À présent, nous voilà à l'acte II : une réforme de la taxe d'habitation qui, selon moi, porte directement atteinte à l'autonomie financière des collectivités.Concrètement, pour les communes de mon département, le Val-de-Marne, qui compte 1,4 million d'habitants, dont certains en grande difficulté, 253 millions d'euros pourraient être gelés à partir de 2020, soit l'équivalent du financement de la construction de 25 écoles ou de 75 crèches publiques Je vous laisse imaginer les conséquences !Je vous ai entendue ce matin à la radio, madame la ministre, et je vous crois de bonne foi. Vous avez parlé d'un mécanisme de compensation en faveur des communes pour pallier le manque de recettes, en déclarant que « l'État prendrait la place des 80 % de contribuables exonérés ». Vous avez brillamment expliqué que les 20 % de contribuables toujours assujettis ne paieraient pas pour les autres. Mais, comme les autres élus locaux, je suis moi aussi de bonne foi, et c'est pourquoi j'attends une réponse précise à trois questions.Tout d'abord, que se passera-t-il en 2021, puis en 2022 et en 2023 ? Comment pallier la perte de recettes due au gel de la compensation ?Ensuite, qui payera au final ? Vous allez à juste titre me dire que ce sera l'État. Mais, dans l'État, quels sont les contribuables qui vont payer ?Enfin, n'allons-nous pas connaîtr\",\n",
              "       \"pport annuel d'activité. Il m'a notamment alerté sur la problématique non résolue de la confusion entre le neuf et l'occasion en matière de vente en ligne. Nous devons travailler, ensemble, à trouver des solutions à cette question. Nos librairies, je le disais, disposent de nombreux atouts. Il nous revient de les valoriser. Le pass Culture va nous le permettre. Il intégrera bientôt un référencement des stocks des librairies. Concrètement, cela signifie que, via l'appli du pass Culture, les lecteurs sauront où le livre qu'ils cherchent peut être trouvé près de chez eux. Plus généralement, le livre et la lecture ont toute leur place dans le pass Culture. D'abord, parce que nous cherchons à proposer un maximum de titres aux utilisateurs. Et parce que nous imposons que les livres choisis soient récupérés dans des librairies de proximité. Nous ne sommes qu'au début de l'expérimentation mais déjà, il semble que les livres sont choisis par un grand nombre d'expérimentateurs ! Et cela va sans doute s'accentuer avec l'ajout de nouvelles offres : - Les libraires sont d'ores et déjà encouragés à partager leurs coups de coeur et recommandations. - Les services de livres audio déjà disponibles sur le pass sont quant à eux en train de réfléchir à des offres spécifiques. - Des concours de nouvelles ou de poésie, et des lectures publiques seront prochainement intégrés au pass. Ce soutien au livre, je le porte aussi au-delà de nos frontières. Dans le monde francophone : c'est le sens des Etats généraux du livre en langue française, annoncés par le Président de la République dans son plan pour la langue française et le plurilinguisme, le 20 mars dernier. J'ai à coeur de mener à bien ce projet, en étroite association avec l'ensemble des pays qui ont le français en partage. La langue française est notre chance. C'est une langue d'échange, de circulation des savoirs et des cultures. Ces États généraux doivent permettre, entre autres, de développer, dans tous ces pays, l'édition en langue française, ainsi que la circulation des oeuvres et des auteurs. Sylvie Marcé, qui est la Commissaire Générale, et les équipes de l'Institut Français bâtissent depuis plusieurs mois déjà, en lien avec l'ensemble des acteurs francophones concernés, un programme de travail et d'actions. Ils ont tout mon soutien. Ce soutien au livre, je le porte au niveau européen. A travers la défense du droit d'auteur. L'Europe, je le disais, c'est ce que nous sommes. Et c'est aussi notre meilleure protection. L\",\n",
              "       \"crise ne vient ni de la France, ni de vous, ni du Président de la République : c'est l'annexion de la Crimée et l'entrée dans le Donbass de moyens militaires russes  où se trouveraient encore aujourd'hui neuf mille soldats russes environ.Loin de toute polémique, j'ai bien conscience de la difficulté de ce dossier. En pleine crise, les navires ne pouvaient être vendus. Cependant, si vous aviez laissé s'achever le processus de Minsk, dans lequel vous vous êtes beaucoup impliqué, nous aurions peut-être pu aboutir à une solution politique plus positive qui, de surcroît, aurait eu le mérite de créer un climat de confiance dans lequel d'autres questions  la Syrie, en particulier  aurait pu être abordées avec la Russie. En clair, le groupe Les Républicains éprouve certains doutes quant au coût réel de cet accord pour la nation, car nous l'ignorons encore, mais aussi quant à celui des autres options possibles. C'est pourquoi nous ne pourrons pas soutenir la conclusion de l'accord en question.M. Jean-Pierre Dufau. Nous avons eu lors de précédentes auditions l'occasion d'examiner les conditions juridiques, commerciales, techniques et financières de cet accord, mais il s'agit avant toute chose d'un accord politique. Paraphrasant Balzac, je dirai qu'un compromis vaut mieux qu'un long procès.M. le ministre. Un bon compromis !M. Jean-Pierre Dufau. Si nous nous étions lancés dans une interminable procédure d'arbitrage, aurait-on amélioré la situation sur les plans juridique, technique, financier et politique ? Pour ma part, je trouve cet accord intéressant parce qu'il s'agit d'un accord amiable qui solde le dossier, qui permet la revente des navires et qui a été conclu avec célérité. Il fallait en effet traiter rapidement ce problème plutôt que de le laisser s'éterniser.D'autre part, cet accord est révélateur, car il est le résultat d'une volonté politique des deux parties. J'y vois l'illustration du fait que l'état des relations franco-russes n'est pas forcément celui que l'on dit. Au contraire, ces relations se caractérisent par un socle de confiance qui permet d'aborder telle et telle situation sans taire les différends tout en progressant.L'évolution favorable des accords de Minsk  au moins pour ce qui concerne le cessez-le-feu, même si nous n'en sommes pas encore à la préparation des élections  démontre une fois de plus que l'accord du 5 août permet de mieux augurer des relations entre la France et la Russie, et que la France, qui a un rôle à jouer dans ce dossier, \",\n",
              "       \"galités entre fonctionnaires de l'Etat, des inégalités avec les fonctionnaires hospitaliers et territoriaux, ou encore des inégalités évidentes entre les carrières des femmes et des hommes.- Parce que, comme pour les salariés du privé, la vie professionnelle des fonctionnaires s'est allongée ; or, les statuts ne permettent pas, aujourd'hui, de continuer à évoluer après 25 ans de carrière. Il faut donc  ça n'a pas été suffisamment marqué dans l'accord  des carrières plus longues.- Parce que, enfin, on a laissé progressivement se détériorer les niveaux de rémunération de début et de fin de carrière, au risque de rendre la fonction publique peu attractive. Plus du tiers des fonctionnaires  et ce n'est pas suffisamment rappelé  sont aujourd'hui payés au niveau du SMIC. Les fonctionnaires ne doivent être ni privilégiés par rapport aux salariés du privé ni moins bien traités. Depuis cinq ans, par leurs efforts, avec le gel du point d'indice, ils ont contribué au redressement des finances publiques. L'accord que nous allons appliquer prévoit un rendez-vous sur le point d'indice de la fonction publique en février 2016.Il prévoit également un plan de revalorisation des grilles de rémunérations comme il n'y en avait pas eu depuis vingt ans. Toutes les carrières des catégories A, B et C seront revalorisées et allongées progressivement d'ici à 2020. Et une première revalorisation pour tous interviendra dès le 1er janvier 2017.Cet accord est important. C'est pour cela que j'ai souhaité qu'il s'applique, c'est pour cela que j'ai souhaité m'appuyer sur les syndicats réformistes  car pour réformer, il faut le faire avec des réformateurs. Cet accord est nécessaire pour l'avenir de la fonction publique, mais il est aussi la juste reconnaissance du travail et de l'implication des fonctionnaires, et donc de vos mérites.Mesdames, messieurs,Cette rencontre  au-delà de cette réforme essentielle qui concerne l'administration régionale de l'Etat  est l'occasion à travers vous d'exprimer ma profonde reconnaissance, celle du Gouvernement, à l'ensemble des fonctionnaires, pour leur engagement, leur implication  votre engagement, votre implication  dans cette réforme de l'Etat territorial, et tout simplement au service de la République.Pour mettre en \\x9cuvre cette réforme, nous avons fait un choix : vous confier à vous, préfets, recteurs, directeur général de l'ARS, directeurs régionaux, la réorganisation de vos services, pour mieux les adapter aux spécificités du territoire plutôt que \",\n",
              "       \"Jeux olympiques et paralympiques de 2024Réponse de Mme Laura FLESSELà une question à l'Assemblée nationale  23 janvier 2018Monsieur le député, ces Jeux sont une opportunité exceptionnelle pour les fédérations, pour nos clubs et pour le sport français de manière générale. En phase de candidature, les sportifs et le mouvement sportif ont été placés au c\\x9cur du projet et c'est probablement ce qui a fait la différence avec des candidatures précédentes. Cela doit continuer en phase d'organisation : j'y compte bien et j'en serai garante. Ce n'est d'ailleurs pas un hasard si le mouvement sportif est majoritaire au conseil d'administration du comité d'organisation des Jeux olympiques, qui a été officiellement créé il y a quatre jours.Les fédérations sportives délégataires de service public, qu'elles soient ou non olympiques et paralympiques, multisports, affinitaires, sont déterminantes au sein de notre modèle sportif français. En effet, elles constituent un échelon de proximité, celui du sport du quotidien, qui contribue à valoriser auprès de tous la dimension éducative, sociale et citoyenne de la pratique sportive.Vous l'avez évoqué, la semaine olympique et paralympique se tiendra la semaine prochaine, grâce à la mobilisation du ministère de l'éducation nationale mais aussi des fédérations unisports, de l'UNSS  Union nationale du sport scolaire  de l'USEP  Union sportive de l'enseignement du premier degré  et de l'UGSEL  Union générale sportive de l'enseignement libre , qui font vivre le sport avec passion au sein des écoles.Plus largement, l'implication des fédérations unisports, multisports et affinitaires sera déterminante au côté de l'État et des collectivités territoriales pendant les six ans à venir, pour mobiliser les Françaises et les Français autour de ce projet extraordinaire à travers de nombreux événements qui mettront tout notre pays en mouvement ; pour promouvoir ce grand événement, en faire une fête, donner l'envie de s'investir dans cette aventure et, qui sait, peut-être, faire partie de cette « Génération 2024 ».Si l'État et le mouvement sportif se sont impliqués dans cette candidature et seront pleinement mobilisés pour préparer ce grand événement, c'est parce que nous croyons en sa capacité à favoriser la pratique d'une activité physique et sportive pour davantage de Français, à faire des valeurs et des vertus du sport des éléments essentiels de notre vivre ensemble.C'est dans cet esprit que nous avons conçu le plan Héritage 2024 du CNDS  Centr\",\n",
              "       'les, feront l\\'objet de la part des forces de police de la mobilisation des moyens de prévention et d\\'un renforcement du dispositif de lutte contre ce type de violences.La présence des forces de sécurité sera systématisée aux abords des établissements scolaires, dont les responsables se verront proposer la présence, s\\'ils la souhaitent, de policiers ou des gendarmes référents. La lutte contre l\\'insécurité en milieu scolaire est une des conditions du pacte républicain d\\'égal accès au savoir.Les GIR, pour lesquels le Conseil d\\'Etat vient de rejeter la requête en annulation présentée par le syndicat de la magistrature, poursuivront en 2004 les efforts engagés depuis leur création. Les services spécialisés dans la criminalité organisée disposeront, dès son adoption, des nouveaux outils juridiques qui leur seront octroyés par la loi d\\'adaptation de la justice aux évolutions de la criminalité.Le développement des fichiers des empreintes digitales et des empreintes génétiques et leur alimentation régulière contribueront à une augmentation significative du taux d\\'élucidation des crimes et délits.La lutte contre l\\'immigration illégale et les filières sera poursuivie, grâce notamment à la loi du 26 novembre 2003. La capacité d\\'accueil des centres de rétention administrative sera accrue pour favoriser le doublement des mesures d\\'éloignement ; cette politique est le pendant nécessaire à l\\'intégration des personnes en situation régulière.Les atteintes à la tranquillité et la vie quotidienne de nos concitoyens que constituent les occupations agressives des halls d\\'immeubles ou le racolage devront faire l\\'objet d\\'une meilleure utilisation des chefs d\\'incrimination créés par la loi sur la sécurité intérieure.Dans le domaine de la lutte contre l\\'insécurité routière, l\\'augmentation des moyens de constatations automatisés des infractions à la vitesse et aux franchissements de feu rouge aura sans nul doute une incidence directe sur le nombre d\\'accidents corporels et permettra aux policiers et gendarmes de se consacrer à d\\'autres tâches.La deuxième priorité fixée pour l\\'année 2004 est celle de la poursuite de la mise en uvre de la LOPSI et des réformes qu\\'elle prévoit. 55 % de l\\'enveloppe promise en 5 ans sont d\\'ores et déjà définitivement inscrits en loi de finances.La recherche de la performance et la culture du résultat doivent être les axes majeurs des nouvelles orientations de cette politique dans le domaine de la sécurité.Ce CTP \" de rentrée \" constitue à certains égards ',\n",
              "       \"e le vecteur et l'aiguillon nécessaires à leur amélioration (II).  Il est enfin nécessaire de travailler ensemble à approfondir la définition même de nos valeurs communes, pour mieux faire face aux défis nouveaux de ce siècle (III).  I Le juge comme gardien des valeurs du projet démocratique européen  Votre présence à cette conférence témoigne de votre conscience commune du rôle qui est le vôtre, celui de gardien des valeurs du projet démocratique européen.  Vos discussions hier ont porté sur le droit au recours effectif devant un juge indépendant et impartial, les rapports entre les juridictions nationales et la Cour européenne des droits de l'homme, la liberté d'expression confrontée à la protection de la vie privée et familiale.  Ce sont là trois aspects de la mission confiée aux juges européens : être accessibles, recueillir la pleine confiance du citoyen concernant leur indépendance et de leur impartialité, entretenir un dialogue fécond avec la Cour européenne des droits de l'homme, approfondir dans leurs décisions la définition et l'articulation des droits qu'il leur appartient de faire respecter.  Je souhaite revenir plus particulièrement sur la notion de dialogue entretenu par la Cour européenne des droits de l'homme et les cours suprêmes nationales. Ces échanges, toujours plus intenses, se traduisent par des influences mutuelles de jurisprudence et une construction commune du droit européen au sein de de la Cour européenne des droits de l'homme.  Un tel dialogue n'aurait été possible, s'agissant de la France, sans la ratification en 1981 du protocole n°11 instaurant un droit au recours individuel, étape cruciale après son adhésion à la Convention en 1974.  Je voudrais rendre hommage au rôle déterminant de Robert Badinter, alors garde des Sceaux, signataire de ce protocole n°11, à l'origine d'une révolution juridique pour notre pays. Je me réjouis de ce qu'une loi du 3 avril 2018 autorisant la ratification du protocole n° 16 ait permis une intensification de ce dialogue des juges en offrant aux cours suprêmes des États membres la possibilité d'adresser des demandes d'avis consultatifs à la Cour sur des questions de principe relevant de sa compétence. Marquant la dixième ratification, cette loi française a permis l'entrée en vigueur, le 1er août 2018, de ce protocole au sein de neuf autres Etats, l'Albanie, l'Arménie, l'Estonie, la Finlande, la Géorgie, la Lituanie, Saint-Marin, la Slovénie et l'Ukraine, avant je l'espère une ratification par l'ense\",\n",
              "       \"de l'Union pour leur bienveillance dans la construction des compromis.Enfin, je veux remercier l'association des PTOM pour son expertise et ses contributions.Plus que l'achèvement d'un cycle, c'est bien l'avènement d'un nouveau partenariat que nous scellons. Un partenariat que nous escomptons le plus prospère possible pour l'ensemble des PTOM qui constituent une autre facette de la richesse de l'Union.Je vous remercie.\",\n",
              "       \"lles en détresse ou des personnes les plus âgées vivant dans le dénuement.Les besoins sont immenses, mais il nous faut être raisonnables et lucides, les moyens ne sont pas extensibles, surtout en cette période. L'objectif n'est donc pas de dépenser davantage par principe, mais d'abord de tenter d'agir plus efficacement. Par une action étroitement coordonnée avec les élus, nous sommes parvenus à améliorer la gestion, ce qui a permis de réduire considérablement l'écart de traitement entre les Français résidant en France et ceux établis à l'étranger. La généralisation de l'autonomie de gestion a de même permis à nos postes d'agir sans délai, pour des demandes d'ordre médical notamment. Cet effort sera poursuivi en 2008, en dressant aussi un bilan critique là où les choses se sont moins bien passées.4- Je souhaiterais aborder un sujet, qui, je sais, vous concerne particulièrement : les pensions africaines dues à certains de nos compatriotes. Je suis personnellement mobilisé sur l'absence inacceptable de paiement, alors que nos compatriotes ont cotisé dans ces pays dont certaines Caisses sont aujourd'hui défaillantes. Depuis l'an dernier, ce dossier a évolué de manière importante et encourageante avec le Cameroun et le Gabon. La plupart des dossiers en instance y ont été résolus grâce à une forte implication politique, accompagnée d'un important travail de nos consulats.S'agissant du Congo, la mission d'audit demandée par le ministère des Affaires étrangères et européennes a permis d'établir une liste de dossiers nominatifs reconnus par la caisse de sécurité sociale congolaise. Début juillet, j'ai rencontré le Président du Congo, M. Sassou Nguesso, qui s'est engagé à apporter une solution à ce problème. Je poursuivrai mes efforts, avec l'aide de notre ambassadeur, Nicolas Normand, pour obtenir une traduction concrète de cet engagement, condition indispensable pour notre coopération bilatérale.5- Poursuivons par ailleurs la modernisation entamée en matière d'Administration des Français. Je me félicite du bon déroulement des élections présidentielles de cette année. Aboutissement de plusieurs années de travail, la fusion des listes électorales consulaires, réputée impossible, a été réussie grâce à la modernisation entreprise depuis cinq ans, sans relâche et avec détermination. Je souhaite que cette expérience se prolonge, en développant les systèmes de vote électronique à l'étranger pour les prochaines élections.Cet effort conséquent en matière informatique est i\",\n",
              "       \"Monsieur le Premier ministre,Monsieur le Ministre, cher François,Monsieur le Député, Madame la Présidente, Monsieur le Président, Messieurs les élus,Mesdames, Messieurs,Le protocole que le Premier ministre et le président de la région vont signer dans quelques instants marque une étape très importante pour l'île de la Réunion. En effet, il prévoit la réalisation de deux projets majeurs :1) une nouvelle liaison routière sécurisée entre Saint-Denis et la Possession2) un projet de tram-trainCes deux opérations, dont le coût total dépasse 2 milliards d'euros, répondent à des enjeux très forts pour l'île : la Réunion compte aujourd'hui près de 800 000 habitants ; elle en comptera un million d'ici 2030. Or peu d'espaces sont urbanisables ; les habitants doivent donc pouvoir circuler d'une commune à l'autre.La route du littoral relie Saint-Denis à la Possession. Elle constitue une artère vitale entre le port de l'île et la capitale, une artère empruntée par plus de 55 000 véhicules par jour.Située au pied d'une falaise de 80 mètres, elle est menacée par les chutes de pierres. Bien sûr, l'État et la région ont mis en place un important programme de sécurisation qui comporte la pose de 450 000 mètres carrés de filets.Mais ces protections ne peuvent pas lutter contre de grands effondrements, comme celui, dramatique, qui s'est produit le 24 mars dernier et qui a coûté la vie à 2 réunionnais. Les experts internationaux qui ont examiné la question ont conclu : on ne peut ni prévoir, ni anticiper ces phénomènes ; il faut donc écarter la route de la falaise.Pour trouver une solution définitive de mise en sécurité de cet axe vital et incontournable, je me suis rendu le 11 avril dernier sur place. Conformément à la demande du Premier ministre et en plein accord avec François BAROIN et l'ensemble des élus, nous avons décidé d'accélérer le calendrier des décisions.Bien sûr, les services de l'équipement ont été mobilisés pour finir au plus vite les travaux de l'actuel contrat de plan. Mais il fallait aussi que les études des différentes solutions soit finalisées pour que la concertation permette enfin de trancher.J'ai donc demandé qu'on arrête la solution technique à l'été. C'est effectivement ce qui a été fait et, après la délibération de la région en faveur de la solution dite « B1 », j'ai arrêté, le 24 août dernier le choix technique de cette nouvelle route du littoral. Il nous restait alors à régler la question du financement. Les échanges entre la région et le Gouverneme\",\n",
              "       \"toutes les opérations militaires en Bosnie. Ces objectifs sont pour nous des conditions indispensables vers un retour à la paix.- Un message fort a été envoyé, parallèlement à l'attitude de fermeté adoptée sur le terrain avec la mise en place de la Force de réaction rapide. M. Bildt doit rendre compte au conseil affaires générales du 17 juillet des résultats des nombreuses démarches qu'il a entreprises afin de progresser sur la voie des objectifs que je viens de rappeler.- L'Union a été active à l'égard de l'ensemble de l'ex-Yougoslavie. S'agissant de la Slovénie, le Conseil a adopté un mandat de négociation pour un accord d'association donnant vocation à l'adhésion tandis que pour la Croatie, a été adopté un mandat de négociation pour un accord de coopération. A relever enfin la mise en place des moyens financiers pour l'administration de la ville de Mostar en 1995.- Deuxième illustration : le pacte de stabilité. Ce fut en 1993 l'une des premières actions au titre de la politique étrangère et de sécurité commune, la PESC. Cette action de diplomatie préventive visait à empêcher de nouveaux conflits de type yougoslave, en développant, entre pays d'Europe centrale et orientale, les accords de bon voisinage et en favorisant le règlement des contentieux frontaliers. Cette initiative a réussi : la Conférence de clôture des 20 et 21 mars à Paris a permis l'adoption d'une déclaration finale de grande portée et l'enregistrement de nombreux accords bilatéraux. En outre, l'Union européenne a prévu des mesures d'accompagnement destinées à financer des projets de coopération entrant dans le cadre desd objectifs du Pacte.- Troisième illustration : l'Union peut jouer un rôle dans l'apaisement de certains conflits qui perdurent en Europe. Je pense à Chypre, qui a vocation à l'adhésion mais qui ne pourra rejoindre définitivement l'Union qu'une fois réglé le conflit entre les deux parties de l'île. Je pense aussi à l'ex-république yougoslave de Macédoine, l'un des Etats les plus déshérités de l'Europe ; nous devons tout mettre en oeuvre pour favoriser le règlement du contentieux qui oppose ce pays à l'un de nos Etats membres.- Bien que cela ne se situe pas dans le cadre des activités de la présidence française, je n'aurai enfin garde d'omettre de mentionner le rôle éminent que nous assignons à l'Union occidentale. Je salue, à cet égard, l'action dynamique de la présidence portugaise au cours du premier semestre.C - Enfin, l'Union européenne a défini de manière ambitieuse l\",\n",
              "       \"Monsieur le Président de l'INA,Mesdames et Messieurs,Je tiens tout d'abord à remercier les différents orateurs qui viennent de nous faire partager leur enthousiasme pour les projets qu'ils mènent, et l'Institut National de l'Audiovisuel pour avoir bien voulu organiser avec les services de mon ministère cette soirée au Centre Pierre Mendès-France, à Bercy.Je souhaite, avant de vous inviter à un échange moins formel autour d'un cocktail, exprimer à nouveau devant vous la volonté du Gouvernement de poursuivre et d'amplifier son action de soutien à l'innovation et aux entreprises innovantes. Francis Beck vient de le souligner dans le message de Catherine Tasca, Ministre de la Culture et de la Communication, qu'il nous a lu. J'insisterai pour ma part sur trois points : stimuler l'innovation dans les contenus numériques (1) ; diffuser l'innovation pour la croissance et l'emploi (2) ; refuser la fracture numérique (3).1 - Stimuler l'innovation dans les contenus numériquesLes entreprises qui viennent de vous présenter certains de leurs projets reflètent, je crois particulièrement bien, le savoir-faire, le dynamisme et la diversité des applications des technologies de l'image numérique et du multimédia.Car, et ce sera le maître mot de mon intervention, la convergence est au cur de la nouvelle économie, de l'économie de la connaissance qui se développe en France, grâce à vous et avec le plein soutien du Gouvernement. Nous aurons l'occasion de présenter autour du Premier ministre la semaine prochaine un ensemble de mesures à cet effet.C'est la raison pour laquelle la Ministre de la Culture et moi-même avons lancé ce programme PRIAMM en juin 1999. Doté d'un budget de 115 MF en 2000, vous avez, dans les dossiers qui vous ont été remis, le contenu de l'appel à proposition 2000 avec les thèmes qui ont été retenus. L'appel à proposition demeurera ouvert jusqu'à la fin de l'année.Le bilan des 12 premiers mois de vie de ce programme m'apparaît comme éminemment prometteur : le premier appel à propositions, sur le second semestre 1999, a permis de labelliser, et de soutenir financièrement le lancement de 32 projets, représentant quelques 60 intervenants différents ; le second appel à proposition, après 6 mois d'ouverture, porte à 50 le nombre de projets PRIAMM labellisés pour un montant total d'aides de 116 MF. Ces projets font maintenant intervenir près d'une centaine d'entreprises et laboratoires de recherche, parmi lesquelles l'ensemble des entreprises qui viennent d'être \",\n",
              "       \" le sien dans les transformations de notre pays. Cette loi est faite pour vous, elle doit donc aussi être faite par vous, elle doit être à votre image, elle doit porter la marque de vos ambitions, de vos besoins, de votre expérience.  Vous le savez : rares, très rares sont les lois de programmation. Il y en a une tous les dix ou quinze ans, au mieux. Et à dire vrai, il n'y a jamais eu, jusqu'ici, de loi de programmation avec un vrai volet budgétaire. Le texte que nous allons élaborer ensemble, dans les mois qui viennent, sera donc une première. C'est une occasion historique, une vraie chance de faire bouger les choses, de donner plus de souffre encore à l'aventure collective qui s'écrit tous les jours dans vos laboratoires. Cette chance, ne la laissons pas passer. C'est le moment où jamais d'explorer des voies nouvelles, c'est le moment où jamais de prendre à bras le corps des difficultés qui nous pèsent collectivement depuis trop longtemps. Cela nous amènera parfois à faire bouger des pratiques qui ne tirent plus leur force que de l'habitude : je sais que nous saurons le faire. Et c'est comme ça que nous ferons de ce moment le prélude à des moments plus grands encore.  Je sais pouvoir compter sur vous et je vous en remercie.  \",\n",
              "       'Monsieur le Président,Mesdames, Messieurs les Députés,Je vais tenter de répondre aux questions que vous avez évoquées, mais je vous prie de bien vouloir m\\'excuser si j\\'en oublie quelques-unes car je me suis engagée à me rendre devant la Commission des Affaires économiques.Sur les paradis fiscaux, je répondrai à M. Cahuzac et à ceux d\\'entre vous qui ont évoqué ce point. Il ne faut pas se voiler la face. Nous avons fait une partie du chemin, mais cette partie-là est historique. Vous avez raison de dire que ce n\\'est qu\\'une partie du chemin, que tout n\\'a pas été fait, mais 150 conventions, accords, amendements ont été signés par des pays, quels qu\\'ils soient - il ne faut avoir de mépris pour aucun, ni pour le Qatar ni pour d\\'autres ! Il ne faut pas porter de jugement de valeur. La détermination de certains pays à communiquer de l\\'information, à mettre définitivement fin au secret bancaire est une avancée phénoménale. On peut considérer ce mouvement comme historique.Le fait que certains Etats renoncent à s\\'abriter derrière le secret bancaire pour refuser de délivrer des informations est déterminant. Si tout n\\'est pas acquis, le sommet de Pittsburgh fixe du moins un calendrier. Les pays du G20 se sont engagés à appliquer des sanctions à partir de mars 2010. Nous y travaillons, Eric Woerth et moi. Ce matin, un premier arrêté a été publié au Journal officiel, en application d\\'un amendement du président de la Commission des Finances, précisant les informations que les banques devront fournir au sujet de leur activité dans les paradis fiscaux. N\\'est-ce pas le début de la transparence ? Par ailleurs, nous sommes déterminés à proposer, dans la loi de finances rectificative, des règles en matière de fiscalité, de prélèvements et de taxation des plus-values, ainsi que des avenants à certaines dispositions bien connues du code général des impôts, afin de taxer lourdement les activités en lien avec les paradis fiscaux.S\\'il reste du chemin à faire sur le plan tant national qu\\'international, je me réjouis que François d\\'Aubert ait été nommé président du groupe d\\'évaluation des juridictions non coopératives du forum global de l\\'OCDE. Le travail de \"peer review\" mené par cette instance permettra de vérifier que les pays respectent leurs engagements. Une telle avancée présente un caractère historique, même s\\'il reste encore beaucoup de chemin à parcourir. En effet, il faudra toujours rester vigilant, tant la tentation est grande pour chacun de s\\'affranchir peu à peu des règles',\n",
              "       \"la Réforme de l'Etat, la Décentralisation et la Fonction Publique au sein d'un même ministère. Pourquoi ?Pour repenser les moyens d'agir de la puissance publique dans leur globalité ; Pour renforcer le modèle social français ;Pour pérenniser la tradition française du service public.Ainsi, l'ensemble des acteurs concernés - les collectivités, les partenaires sociaux, les employeurs publics, les élus, le milieu associatif, les entreprises  sont appelés à travailler conjointement, à se concerter , à échanger. Car tous portent l'action publique de demain.La modernisation de l'action publique  la MAP  repose sur trois grands chantiers qui ont pour but d'évaluer les politiques publiques, de simplifier les démarches administratives et de favoriser l'innovation dans la conduite de l'action publique.Notre ambition, c'est une plus grande efficacité ainsi qu'une maîtrise juste et équilibrée de nos dépenses publiques.Pour atteindre cet objectif, le gouvernement français redéfinit aussi les cadres de l'action publique territoriale. Et ce, avec une nouvelle étape de décentralisation.Pour garantir une meilleure coordination des politiques nationales et locales d'une part, et des politiques locales entre elles, d'autre part ; les missions de nos collectivités sont clarifiées.Pour mettre fin aux enchevêtrements de compétences ; les collectivités sont responsabilisées. Les régions sont mises au service de la croissance et de l'emploi ; les départements agissent pour la solidarité, et le bloc communal assure les services publics de proximité.En parallèle, car les agents publics de notre administration et de nos collectivités sont le premier levier d'intervention de la puissance publique, j'ai engagé - avec les organisations syndicales et les employeurs publics - une réforme structurelle de la fonction publique. Pour la protéger, la renforcer et la moderniser.Cette réforme de grande ampleur a vocation à traiter conjointement, de l'ensemble des questions relatives à l'avenir de la fonction publique et à ses valeurs.Il s'agit d'améliorer les carrières et les rémunérations pour préserver son attractivité. Il s'agit également de favoriser les mobilités pour garantir la présence de services publics sur l'ensemble des territoires. Enfin, il s'agit de simplifier l'organisation statutaire et de personnaliser la gestion des ressources humaines.Dans cette perspective, une réflexion est menée sur la formation des cadres de la fonction publique. Car la formation est essentielle pour acco\",\n",
              "       \"des renvois vers les sites des Conseils départementaux. Il est aussi construit en parfaite complémentarité avec le site des Caisses de retraite et de l'INPES qui fournit une information précieuse pour la prévention de la perte d'autonomie.Je souhaite désormais que nos concitoyens puissent pleinement s'emparer de ce bel outil. Il y a un véritable effort de communication et de pédagogie à mener à ce sujet et je sais la CNSA pleinement investie dans cette mission.Ce portail contribue à répondre à l'ambition qui est la nôtre : celle de faciliter le parcours des personnes âgées en faveur du bien vieillir et de la protection des plus vulnérables. L'adaptation de la société au vieillissement est l'un des plus beaux défis que nous ayons à relever dans les années à venir. Nous nous devons de le réussir et nous contribuons aujourd'hui, je crois, pleinement à cet avancement.Je vous remercie.\",\n",
              "       'propositions(',\n",
              "       \"Monsieur le président de l'union sociale pour l'habitat, Madame la présidente de la fédération nationale des coopératives HLM, Madame la présidente de la fédération nationale des entreprises sociales pour l'habitat, Monsieur le président de l'union sociale pour l'habitat de l'outre-mer, Mesdames et Messieurs,Monsieur le Président de l'Union, je vous remercie chaleureusement pour votre accueil. Nous avons déjà eu l'occasion d'échanger sur la politique du logement outre-mer et je ne peux que me féliciter de l'attention que vous y portez. Je crois même pouvoir dire que nous partageons la même analyse sur l'enjeu central qu'est le logement dans les différents territoires d'outre-mer.Mesdames les présidentes des fédérations nationales, je mesure, progressivement, à chaque déplacement, l'importance capitale pour chaque acteur local, outre-mer, dans quelque secteur d'activité qu'il soit, l'importance capitale de pouvoir s'appuyer sur un réseau, de pouvoir bénéficier de l'expertise des uns et des autres, de pouvoir aussi se retrouver, avec des confrères partageant un même objectif, une même vocation, pour échanger de bonnes pratiques.Mon expérience professionnelle en collectivité me l'a enseignée, ma connaissance de l'outre-mer me le rappelle chaque jour : le travail en réseau, la mutualisation nous font progresser. Et ce cadre est d'autant plus utile, d'autant plus attendu, lorsque l'éloignement est fort. C'est une dimension de la politique du logement à laquelle je suis particulièrement sensible, en particulier dans certains territoires - je pense à Mayotte - dont les évolutions institutionnelles vont modifier profondément les instruments de cette politique.Monsieur le Président de l'Union de l'outre-mer, ces quelques instants passés avec vous, avec les opérateurs du logement social des outre-mers, je ne souhaitais pas les manquer, parce qu'ils inaugurent nos échanges prochains, au Secrétariat d'Etat mais aussi et surtout lors de mes déplacements dans chaque territoire.Je veux aller à votre rencontre dans nos outre-mers. Dans mes prochains déplacements, aux Antilles et à La Réunion dès le mois prochain par exemple, un temps significatif, d'échanges et de travail, sera réservé à la politique du logement.Nos compatriotes d'outre-mer, nos milliers de compatriotes qui habitent dans des maisons délabrées dans des quartiers dégradées de nos villes d'outre-mer, nos dizaines de milliers de compatriotes qui attendent un logement social, ne peuvent se satisfaire de vastes\",\n",
              "       \"Monsieur le commandant en chef pour l'Atlantique, amiral,  Monsieur le commandant de la base de défense Brest-Lorient, amiral,  Monsieur le sous-préfet de Brest,  Monsieur le directeur des Patrimoines, de la Mémoire et des Archives,  Monsieur le directeur de l'ESID Brest,  Officiers, sous-officiers, militaires du rang et personnel civil des Armées,  Mesdames et messieurs,  Il y a quelques mois, je me tenais déjà ici en compagnie d'un certain nombre d'entre vous. Ce que nous visitions, ce que vous me présentiez était alors le chantier de réhabilitation et de transformation de ce bâtiment. J'étais alors frappée par l'ampleur des rénovations et du travail accompli.  Aujourd'hui, c'est avec plaisir que je redécouvre le casernement Keravel sous un oeil neuf. Je le redécouvre avec ses occupants, ses salles opérationnelles, ses espaces de formation et de cohésion. C'est un beau travail qui a été effectué ici : re-cloisonnement, réfection des sols, des peintures, isolation, électricité, chauffage…. Il en est de même pour le bâtiment Grand-Duc Ouest que j'ai visité il y a quelques minutes.  Pour chacun de ces bâtiments, ce sont plus de 3 millions d'euros qui ont été investis. Ce sont des sommes importantes qui bénéficient aussi à l'économie du territoire. Et je pense évidemment à toutes les PME locales qui sont intervenues sur les différents chantiers.  Je suis fière de constater que dans la Base de Défense de Brest-Lorient à l'image de toutes nos emprises, ça avance ! Et cela continuera ! En effet, d'ici 2025, ce sont 66,3 millions d'euros qui seront encore investis ici-même dans la rénovation, l'agrandissement ou la construction de logements. C'est un fait : il n'y a pas d'armée moderne sans infrastructures opérationnelles.  Pourquoi le ministère des Armées va-t-il continuer à investir ? Parce que vous y travaillez. Parce que vous y apprenez, vous vous y entraînez, pour certains vous y logez. Pour tous, ce sont des lieux de vie. Nous poursuivons cet effort parce que les armées, les soldats et les personnels le méritent.  Àl'échelle nationale, l'hébergement pour nos soldats, pour nos cadres célibataires et nos cadres célibataires géographiques, constitue une priorité. Nous travaillons à rattraper le sous-investissement chronique de ces dernières années. 20% du notre parc d'hébergement présente des dégradations ou une usure apparente. De même, l'offre est particulièrement tendue dans certaines zones. Ce n'est évidemment pas acceptable.  Ainsi, en 2020, 177 millions\",\n",
              "       \"les associations. Nous avons pu faire un bilan, sans faux-semblants. Et surtout parler d'avenir.Je l'ai déjà dit : le budget du CIVEN a été mis à niveau et ses travaux ont repris. La commission alliant parlementaires et experts prévue par la loi EROM est en passe de débuter les siens. L'Etat a tenu ses engagements sur le budget dédié à l'oncologie. Le projet d'institut est lancé, même si beaucoup reste à faire, et d'ores et déjà, le terrain nécessaire a été réservé par l'Etat.Cet institut aura un rôle essentiel. Il devra permettre de consolider ce qu'a esquissé l'accord signé en 2017 : une mémoire partagée du fait nucléaire. Sur la base d'un passé assumé, dans ses pages glorieuses comme dans ses pages plus sombres, nous pourrons continuer à bâtir l'avenir. Nous devons à la jeunesse une approche sereine et apaisée d'un passé qui, pour elle, fait partie d'une histoire déjà lointaine.Nous démontrerons avec cet institut que malgré la difficulté, et dans le cas qui nous occupe, la technicité du sujet, nous pouvons imaginer un lieu où chacun se retrouve, où toutes les mémoires individuelles convergent dans un tout collectif.C'est un magnifique projet que nous allons engager.Des projets, monsieur le Président, nous en avons beaucoup en commun ! La Polynésie de demain et d'après demain n'est pas encore, mais nous occupe déjà beaucoup !Tout d'abord, avec le projet de loi organique que le Gouvernement déposera en 2018. Ce projet a déjà fait l'objet de nombreux travaux. Je tiens ici à redire à chacun l'état d'esprit qui est le mien.La Polynésie française bénéficie, depuis peu, d'un retour à la stabilité institutionnelle après avoir souffert pendant une décennie d'alternances trop nombreuses, qui minait la crédibilité des pouvoirs publics. Dire cela, ce n'est pas affirmer une préférence pour tel ou tel parti. C'est affirmer sa préférence pour une Polynésie française prospère, ce qu'elle ne saurait être en changeant de gouvernement deux fois par an.Ayant fait l'objet d'ajustements répétés, le cadre statutaire parait aujourd'hui robuste. Il n'est pas question de le bouleverser. Mais bientôt quinze années se sont écoulées depuis 2004, et beaucoup de difficultés, parfois des détails, semblent mériter des corrections, des améliorations. C'est donc un toilettage du statut qui sera engagé, sans remise en cause des équilibres institutionnels propres à la Polynésie française.Garantir l'avenir de la Polynésie française, c'est aussi ce que nous avons voulu avec la démarche des A\",\n",
              "       \"er à ces innovations.Les spots de communication publique sont depuis le mois d'octobre systématiquement sous-titrés et audio-décrits sur l'ensemble des chaînes. Et d'ailleurs, je note avec satisfaction que le sous-titrage de la publicité se développe de manière spectaculaire depuis quelques semaines sans que la loi n'ait eu à l'imposer aux annonceurs qui ont bien saisi l'intérêt de se faire comprendre de tous les consommateurs ; je souhaite que ce mouvement se poursuive. Car il n'y a pas de raison que seuls les valides aient le privilège de profiter de la pub ni de la politique d'ailleurs ! Aussi, je crois important que les émissions traitant des campagnes pour les élections municipales et européennes de 2014 soient accessibles à tous, quels que soient les modes de communication ou d'accessibilité à mobiliser. C'est la participation d'une très importante partie du corps électoral qui est en jeu. Des mémentos pratiques sur l'accessibilité du processus électoral vont être diffusés d'ici la fin du mois de janvier, l'un deux s'adressera directement aux médias. Par ailleurs, le Premier ministre nommera dans les prochains jours, deux parlementaires en mission auprès du ministre de l'Intérieur, Manuel Valls, et de moi-même, pour qu'ils définissent le niveau d'accessibilité attendu des campagnes électorales. Il y sera naturellement question du rôle des médias audiovisuels.Pour ce qui est du cinéma maintenant, un projet d'arrêté sur l'accessibilité des cinémas a été préparé en concertation avec l'ensemble des acteurs concernés. Ce texte était attendu depuis plusieurs années. Il prévoit notamment l'équipement des salles pour la diffusion du sous-titrage et de l'audio-description.Suite au CIH, je tiens à saluer l'engagement du centre national du cinéma (CNC) d'une part, qui soutient les producteurs français pour l'accessibilité de leurs films, et celui des salles d'autre part qui organisent de plus en plus régulièrement des séances sous-titrées de films français dès la semaine de leur sortie, et ce depuis quelques semaines. Il est maintenant opportun d'envisager la généralisation et la pérennisation de ces dispositifs qui sont essentiels à l'accessibilité de notre patrimoine culturel.La boucle sera bouclée lorsque l'accessibilité des \\x9cuvres, par le sous-titrage et par l'audio-description, sera garantie sur toute la chaîne de diffusion du film : depuis la sortie en salle jusqu'à la diffusion en vidéo à la demande, en passant par la télévision, le DVD, et la télévision\",\n",
              "       \" trouvez pas directement dans le budget que je vous présente, mais qui viennent accompagner les politiques conduites.En réponse à vos questions sur le sujet, je précise que ce montant de 1,5 milliard d'euros découle bien de la contribution à la formation professionnelle des entreprises et qu'il est comparable au milliard d'euros auparavant destiné à la formation professionnelle, qui transitait par les organismes paritaires collecteurs agréés, les OPCA, ou le Fonds paritaire de sécurisation des parcours professionnels, le FPSPP.Quel gain peut-on tirer de cette mesure ? D'abord, on investira plus ; ensuite, le ciblage des publics en difficulté sera bien meilleur, toute comme l'évaluation ; enfin, la représentation nationale disposera d'une meilleure visibilité sur les dépenses affectées aux moins qualifiés, sur lesquelles vous n'aviez aucune information jusqu'à présent.Ces crédits seront mobilisés selon quatre orientations.Le premier objectif, qui correspond à près de la moitié du plan d'investissement compétences, est la mise en oeuvre des parcours de formation dans le cadre des pactes régionaux pluriannuels d'investissement dans les compétences, qui sont en cours de négociation entre l'État et les régions ou les collectivités compétentes s'agissant des territoires ultramarins.Ces pactes régionaux auront plusieurs spécificités. D'abord, ils pourront s'intégrer complètement dans les schémas régionaux de développement économique, puisqu'ils permettront de former là où on a besoin de compétences. Ensuite, nous nous engagerons sur quatre ans sous réserve d'une clause de revoyure annuelle, ce qui permettra une montée en puissance de toute l'offre de formation copilotée par l'État.L'expérience a prouvé, à travers les résultats décevants du « plan 500 000 formations », que quand on va trop vite, trop fort dans la refonte de l'appareil de formation, on crée un appel d'air et que l'on ne fait pas forcément un saut de qualité. C'est pourquoi l'État et les régions se sont engagés à faire monter le dispositif progressivement en puissance. En 2019, 1,6 milliard d'euros d'engagements ont été provisionnés pour ces pactes régionaux pluriannuels d'investissement.Le deuxième objectif du plan d'investissement compétences est de faire un effort particulier pour certains publics. Je pense notamment aux 60 millions d'euros par an qui seront consacrés à la formation des bénéficiaires de l'insertion par l'activité économique. Ce volet formation manquait souvent dans ce type d'inse\",\n",
              "       ' appels à son abolition. Les détentions administratives arbitraires, notamment dans les hôpitaux psychiatriques, sont de plus en plus utilisées, en particulier au niveau local, à l\\'encontre des militants des droits de l\\'Homme. La détention de quelques personnalités emblématiques, comme l\\'avocat Gao Zhisheng, Hu Jia ou encore Liu Xiaobo, principal coordinateur de la Charte 2008 - texte publié à l\\'occasion du soixantième anniversaire de la Déclaration universelle des droits de l\\'Homme -, montrent l\\'extrême sensibilité et la fébrilité du régime envers quiconque remet en cause le dogme du monopole politique du PCC.La France, vous le savez, est vigilante et reste préoccupée par la persistance de la répression au Tibet, sous couvert de lutte contre le \"séparatisme\", qui frappe en particulier les moines. J\\'ai condamné la répression de mars 2008 et appelé constamment au respect des libertés civiles et religieuses. Nous exprimons régulièrement notre préoccupation à propos des cas individuels. Malgré les difficultés, il faut continuer à encourager la poursuite du dialogue entre le Dalaï-Lama et Pékin. J\\'ai fait passer ce message au négociateur chinois, que j\\'ai rencontré à Paris, ainsi qu\\'à la partie tibétaine. Il faut continuer à appeler la Chine à accepter de travailler sur la base du mémorandum pour une autonomie, remis par la partie tibétaine lors de la dernière session du dialogue. Les manifestations dans la région autonome du Tibet témoignent d\\'une insatisfaction face à la politique volontariste d\\'assimilation menée par Pékin. Principalement axée sur le développement économique et matérialisée par la ligne de chemin de fer Lhassa-Pékin, par l\\'implantation massive de Chinois au Tibet et par le développement du tourisme, elle ne tient pas compte des aspirations de la population en matière de liberté spirituelle et religieuse. La tension reste grande dans la région autonome tibétaine et les autres zones de peuplement tibétain. Les autorités chinoises, depuis avril, ont procédé à une réouverture très progressive de ces régions aux délégations officielles mais elles restent fermées aux médias.Nous rappelons inlassablement nos attentes aux autorités chinoises. C\\'est ce qu\\'a fait le président de la République lorsqu\\'il s\\'est rendu en Chine, en 2007 et en 2008. C\\'est ce que je fais lorsque je rencontre les autorités chinoises. J\\'ai écrit personnellement à mon homologue chinois pour demander la libération de prisonniers politiques, parmi lesquels le bloggeur Hu Jia ou ',\n",
              "       \"le de 1998, voulue par le gouvernement de Lionel Jospin.Reste qu'actuellement, le CSM bénéficie d'une « composition pluraliste du Conseil, les membres extérieurs à la magistrature acquérant une place prépondérante » pour reprendre la présentation faite par Jean-Luc Warsmann dans son rapport du 15 mai 2008 ; e t que personne aujourd'hui ne propose de revenir sur cette avancée.Comment craindre alors « un corporatisme » ?Eric Ciotti explique, lui, que sa démarche n'était cohérente qu'avec l'adoption d'une autre PPL interdisant la syndicalisation des magistrats.J'imagine alors que son ambition est de lutter contre « les magistrats hautement politisés », évoqués par Bernard AccoyerOutre le fait que cela ne résisterait pas une seconde devant la Cour Européenne des Droits de l'Homme, interdire la syndicalisation n'empêchera pas les magistrats d'avoir des convictions.Parce qu'ils ont bien évidemment des opinions politiques ! Et sans doute même que l'écrasante majorité d'entre eux, vote !D'ailleurs, nous connaissons nombre de magistrats qui sont devenus des élus. Et personne n'imagine qu'ils aient fait ce choix, sans avoir auparavant partagé les idées du parti, dont ils eurent le soutien.Ce fut vrai à gauche comme à droite, je pense par exemple à Jean-Paul Garraud, à Jean-Louis Debré, à Rachida Dati ou à Georges FenechLes magistrats n'évoluent pas dans un univers éthéré, suspendus dans l'abstraction des normes sous les lambris, même défraichis, de leurs palais de Justice.Certains, même, ont des convictions religieuses ! Mais j'ai noté que cela devait être moins grave, car vous ne proposez pas de leur interdire de fréquenter les églises, les temples, les mosquées ou les synagogues.C'est d'ailleurs aussi le cas des milliers de citoyens qui, chaque année, rejoignent les cours d'assises comme jurés !Mais, là non plus, leurs opinions politiques, qui peuvent pourtant apparaître pendant les débats, ne semblent pas vous perturberIl arrive même que certains juges soient choisis, en raison de leur appartenance syndicale ; je pense aux conseils de prud'hommes !Et pourtant vous ne proposez pas de supprimer ces juges « impartiaux »Dans la même veine, puis-je me permettre de faire remarquer que la « partialité » des magistrats est souvent évoquée, mais qu'elle n'est jamais démontrée ? Or, quand on accuse, il faut expliquer et illustrer.Où sont les faits, les phrases ambiguës ?Quelles sont les pièces qui permettent de conclure que, telle « dame » a privilégié ses convictions poli\",\n",
              "       'A. Hausser-. Les inspecteurs de l\\'ONU ont obtenu un délai. Est-ce que vous pensez que la guerre peut être évitée ?- \"Bien sûr qu\\'on pense toujours que la guerre doit être évitée, peut être évitée. Arrivera-t-on à l\\'éviter ? Je ne sais pas. En tout cas, la position du président de la République est claire : tous les contrôles, les inspections doivent aller jusqu\\'au bout et si on peut trouver une issue politique, tout vaut mieux évidemment que la guerre. Et je rappelle que la France a un rôle immense et a déjà fait évoluer le dossier et même peut-être jusque dans l\\'esprit de certains Américains, qui, actuellement, sont eux aussi farouchement favorables à la guerre.\"Il y a unanimité sur ce point au Gouvernement ?- \"L\\'unanimité est complète.\"On va passer à votre domaine. Il y a eu un accident de train hier, et on a découvert qu\\'il existait encore des voies uniques et des tunnels à voie unique, ce que les gens ne savent pas quand ils ne voyagent pas en montagne. Vous avez ordonné une enquête administrative sur cet accident. C\\'est tout ce qu\\'on peut faire ?- \"Evidemment, il faut en tirer les conséquences, il faut savoir comment cela s\\'est passé. On joue complètement la transparence puisque vous avez vu, après ce qui est arrivé par exemple sur l\\'autoroute A10 au début du mois de janvier, que j\\'ai fait faire une enquête, et très rapidement, on a pu la rendre publique, donc tout est transparent. On la rendra transparente aussi, cette enquête : les résultats de l\\'enquête seront évidemment publiés et derrière, il y aura forcément des mesures qui seront prises. Je ne veux pas parler d\\'avance de sanctions sans connaître les résultats, mais naturellement il y a quelque chose...\"...Vous avez une idée ? Il y a une erreur humaine ?- \"Il semble qu\\'il y ait une erreur humaine. Mais ne faisons pas les conclusions avant d\\'avoir le rapport.\"Vous avez fixé un délai pour cette enquête ?- \"Cette enquête va prendre certainement une quinzaine de jours, au moins pour avoir les premiers résultats. Ensuite, s\\'il faut approfondir, on prendra le temps qu\\'il faut. L\\'essentiel, c\\'est d\\'avoir la vérité pour en tenir compte et éviter que cela se retrouve.\"Air Lib, c\\'est le dossier sur lequel on vous attend beaucoup ce matin. Les discussions continuent ? Elles achoppent sur quoi ?- \"Si vous permettez, arrêtons de dire \"c\\'est ce matin qu\\'on doit...\", \"c\\'est demain\" ou \"c\\'est ce soir\".\"Il y a le problème de la licence d\\'exploitation qui prend fin à la fin de la semaine !- \"Je suis d\\'accord, mai',\n",
              "       \"os Cabinets, nous avons le souhait de profiter des mois qui viennent pour accompagner les collectivités territoriales françaises et allemandes dans l'ensemble des initiatives qu'elles auront pu prendre pour accompagner la volonté de nos deux États de célébrer ce jubilé. Beaucoup de Länders, de régions, de communes, de départements, de territoires ont prévu d'organiser sur des thématiques très différentes (la Jeunesse, l'Éducation, la Recherche, la Technologie, le Développement économique), des manifestations d'ampleur auxquelles d'ailleurs des ministres français et allemands participeront. Ce sont des manifestations que nous avons l'intention de valoriser, d'accompagner et sur lesquelles il nous paraît opportun de communiquer ensemble.C'est le deuxième sujet dont nous avons parlé avec Michael tout à l'heure.Le troisième point sur lequel je voudrais insister, c'est la volonté que nous avons de profiter de ce jubilé pour engager de nouvelles perspectives de coopérations et d'approfondissement entre nous. Le président de la République française avait indiqué, il y a de cela quelques semaines, qu'il souhaitait que nous profitions du 50ème anniversaire pour approfondir nos relations et les développer notamment dans le domaine de la jeunesse et de la culture. D'autres sujets peuvent être mis sur notre métier commun, nous souhaitons pouvoir en discuter ensemble.C'est la raison pour laquelle, afin de donner une perspective ambitieuse aux cinquante années qui s'ouvrent devant nous, nous avons décidé d'approfondir, d'intensifier notre rythme de travail. Nous nous reverrons avec mon collègue au mois de juillet de manière à pouvoir regarder les sujets sur lesquels nous pouvons éventuellement cheminer ensemble et faire des propositions.Le dernier point sur lequel je voudrais insister, avant de laisser la parole à M. Link, que je remercie encore une fois pour la qualité des relations qui se sont immédiatement nouées entre nous après ma prise de fonction, l'étroitesse de nos échanges, la complicité même, sans vouloir compromettre Michaël, qui peut exister entre nous depuis quelques semaines, c'est que nous souhaitons faire en sorte que tout cela s'intensifie et que nous puissions, notamment sur la question de l'OFAJ qui est un sujet important au c\\x9cur de nos préoccupations pour la jeunesse, essayer là aussi de porter l'ambition loin.Nos relations sont étroites, elles sont régulières, nous entendons faire du secrétariat général de la Coopération franco-allemande un véritab\",\n",
              "       \"ns des processus d'intégration régionale qui préfigurent l'organisation du monde multipolaire de demain que, vous le savez, la France appelle de ses voeux.L'actualité récente nous montre à quel point ce mouvement d'intégration est urgent : il suffit d'imaginer la spéculation qui se serait abattue sur les marchés européens si l'euro n'existait pas.Nous souhaitons, tant au plan bilatéral qu'avec nos partenaires européens, nouer avec les différents ensembles régionaux dont vous faites partie des relations de plus en plus étroites dans tous les domaines : politique, économique et commercial, culturel et éducatif.C'est la raison pour laquelle la France a été à l'origine du projet de Sommet entre l'Union européenne et l'Amérique latine/Caraïbes qui réunira les chefs d'Etat et de gouvernement de trente-trois Etats américains et des Quinze de l'Union européenne ainsi que la Commission, à Rio de Janeiro les 28 et 29 juin 1999, c'est-à-dire dans neuf mois d'aujourd'hui.Je ne citerai que les principaux systèmes d'intégration régionale qui structurent votre continent, tant ils sont nombreux.C'est d'abord le mécanisme de Tuxtla dont l'objectif est de former une communauté mesoaméricaine entre le Mexique et les Etats d'Amérique centrale.Comme vous le savez, le président de la République se rendra très prochainement en visite officielle au Mexique et au Guatemala pour des visites bilatérales et une rencontre avec les chefs d'Etat d'Amérique centrale.D'autre part, la France soutient les efforts accomplis par les Etats d'Amérique centrale en vue de consolider la paix et la stabilité : l'Union européenne accompagne cet effort par une aide importante dans le cadre du programme PVD-ALA et entretient un dialogue constant avec le groupe de San José.Tous les Etats de la Caraïbe, dont Cuba fait partie intégrante, conscients de l'accélération du rythme de l'intégration des Amériques et du risque que leur font courir l'étroitesse de leur assise territoriale, la modicité de leurs ressources et la diversité de leurs cultures, manifestent également une forte aspiration à l'unité et à l'intégration. Au-delà de l'aspect purement économique de ce mouvement d'intégration, vos pays veulent affirmer, dans le cadre notamment du Caricom ou du Cariforum, leur unité politique en définissant une position commune vis-à-vis des Etats-Unis ou de l'Europe. Lors du Sommet du Cariforum à Saint-Domingue, le mois dernier, réunissant l'ensemble des pays ACP/Caraïbes, s'est confirmé l'attente d'une forte \",\n",
              "       \"Monsieur le Ministre,Monsieur le Député,Mesdames et Messieurs les Élus,Mesdames et Messieurs les Membres de la CNCD,Mesdames, Messieurs, Chers Amis,J'ai souhaité m'adresser devant votre commission aujourd'hui, sur un sujet grave : la situation d'urgence liée à la crise alimentaire en Afrique et au Yémen. En effet, la commission nationale de la coopération décentralisée est un des lieux où s'exprime la solidarité de la France et de ses collectivités territoriales à l'égard de ses partenaires. Il me paraissait donc nécessaire de venir devant vous à la fois pour exprimer notre soutien dans l'action que vous menez - car les chiffres sont éloquents : 4.720 collectivités territoriales françaises portent des programmes de coopération à l'étranger, avec près de 8.100 autorités locales, pour un total de 10.700 projets dans 133 pays -, pour vous présenter l'action de la France face à cette crise dramatique et pour envisager avec vous les réponses communes que nous pourrions y apporter.Mesdames, Messieurs,Les faits, vous les connaissez. Près de 30 millions de personnes ont besoin en urgence d'assistance alimentaire dans une large zone allant du Bassin du Lac Tchad au Yémen en passant par la Corne de l'Afrique.Les causes en sont multiples : des phénomènes naturels, en particulier une forte sécheresse, alimentée par l'amplification du phénomène climatique El Niño, mais aussi des conflits et des crises politiques qui affectent des populations déjà vulnérables en les coupant de leurs moyens de subsistance et qui génèrent d'importants flux de déplacés et de réfugiés.Nous le savons, les situations des pays les plus touchés par la famine sont différentes. Au Soudan du Sud, la propagation du conflit est la cause principale de la famine. En Somalie, s'ajoute à la sècheresse la présence de la milice islamiste Al-Shabaab qui prend en otage une grande partie des populations menacées par la famine. Au Yémen, la dégradation de la situation sécuritaire aggrave la crise humanitaire déjà existante. Au Nigeria, la zone la plus touchée par la famine est sous le contrôle de Boko Haram, qui exacerbe les fragilités structurelles du pays et perturbe l'agriculture et l'élevage. Je n'oublie pas l'Éthiopie qui a connu en 2016 la pire sécheresse de ces 50 dernières années et qui fait à nouveau face à une sécheresse aggravée, dans un contexte sécuritaire tendu, ou le Kenya, où les autorités ont déclaré la sécheresse comme «catastrophe naturelle». Il ne faut plus se limiter aux pays présentant l\",\n",
              "       \"Mesdames et Messieurs les présidents,Mesdames et Messieurs les Directeurs,Mesdames et Messieurs,1. Comme l'indique l'intitulé de ce colloque, nous sommes bien face à une « nouvelle équation énergétique » à résoudre.Nous sortons d'un contexte de crise financière et économique, qui avait desserré ponctuellement la contrainte des prix des hydrocarbures après les sommets atteints en 2007-2008, et qui nous avait donné la fausse impression d'un retour à une énergie fossile abordable. Mais ces prix ont retrouvé en février 2011 des niveaux comparables à ceux de 2008. La marée noire du golfe du Mexique, les récentes tensions sur les marchés pétroliers et surtout le terrible séisme suivi du Tsunami au Japon nous ramènent pour leur part à la réalité du rapport de nos sociétés à l'énergie.2. Les crises obligent à agir d'abord, mais aussi à repenser. Elles accélèrent les mutations. Or c'est bien une mutation énergétique qu'il nous faudra opérer : consommer moins, consommer mieux, consommer de manière plus durable.Il n'y aura pas de réponse aux besoins en énergie de nos sociétés par la seule augmentation de la production, comme cela a pu être le cas par le passé. La réalité des systèmes énergétiques est aujourd'hui plus complexe, avec des réseaux interconnectés, et une production décentralisée et intermittente. L'avenir est donc à la gestion intelligente de l'énergie, depuis sa source et jusqu'à sa consommation finale, grâce à des réseaux communicants et intelligents.3. La France a fait le choix historique d'investir massivement dans l'énergie électronucléaire, qui lui confère un prix de l'électricité en moyenne 40% moins élevé que dans le reste de l'Europe.Elle ne reviendra pas sur ce choix, qui s'accompagne d'un renforcement continu des exigences de sûreté comme l'a rappelé le Premier ministre.Mais la France a également fait le choix, à travers le Grenelle de l'environnement, de développer les nouvelles technologies de l'énergie. Ces technologies concernent la production d'énergies renouvelables, comme l'éolien off shore, mais également la gestion intelligente de la consommation énergétique des bâtiments, et le déploiement des véhicules électriques.Chacune de ces nouvelles technologies présente un défi à relever.Le premier de ces défis, c'est celui de l'intermittence des énergies renouvelables, qui occuperont une place croissante dans notre bouquet énergétique pour atteindre 23% en 2020. Cette intermittence peut fragiliser le système électrique si elle n'est pas antic\",\n",
              "       \" je crains qu'elles ne soient malheureusement annonciatrices d'autres crises encore. Voilà les actions que nous essayons de mener contre le terrorisme au plan international, mais ce sont les mêmes principes qui guident aussi notre action sur le territoire national. Nos armées, aux côtés des forces de police, participent de façon permanente aux plans de prévention contre le terrorisme. Chacun d'entre nous connaît VIGIPIRATE, on connaît peut-être un peu moins l'action que nous menons en mer, Amiral, avec le plan VIGIMER qui nous permet de protéger nos côtes, ou le plan VIGIRAIR qui nous permet de prévenir, dans toute la mesure du possible, les risques qui viendraient d'avions, d'aéronefs de toute nature. Nous participons également de façon constante au plan BIOTOX pour prévenir, et anticiper les risques d'une attaque biologique. Mais si agir est une évidence, cela implique aussi d'avoir les moyens d'agir, et cela c'est une exigence.L'exigence de moyens d'abord, matériels et financiers. Ils sont d'abord des moyens nationaux, ils vont devoir être de plus en plus des moyens européens. Sur le plan national, le Président de la République a décidé de restaurer et de moderniser nos capacités de défense. C'était déjà le sens de la professionnalisation de nos armées. C'est la signification de la loi de programmation militaire pour la période 2003-2008. Elle traduit clairement cette volonté. L'exécution de cette loi, budget après budget, est la condition de la sécurité des Français, ainsi d'ailleurs que la manifestation de la capacité de notre pays à remplir son rôle international. C'est donc un élément essentiel de notre crédibilité. Je ne reviendrai pas sur le contenu de la loi de programmation, chacun de vous le connaît. Ce que je peux simplement dire, c'est que cette volonté de le mettre en oeuvre année après année se traduira bien par la loi de finances 2004. Et quand j'entends certaines critiques à l'égard de ce budget, je rappelle simplement, et ce n'est pas à vous que j'ai besoin de le dire, que le budget de la défense n'est pas un luxe. C'est une nécessité face aux risques actuels que je viens de rappeler. C'est également une continuité, parce que cela implique effectivement, année après année, de renforcer nos capacités. On ne peut pas faire de la sécurité une année, parce que la conjoncture économique est bonne, et dire l'année suivante, nous abandonnons les Français où qu'ils soient face à ces risques, parce que l'année est moins bonne. Mais notre effort d\",\n",
              "       \"Mes chers amis, je suis désolé de ne pas pouvoir être avec vous pour vos universités d'été parce que je me souviens de l'accueil que vous m'aviez réservé à Perpignan l'an passé et du plaisir qui avait été le mien de pouvoir engager le dialogue avec mes amis Radicaux de l'UMP.Dans l'UMP, vous jouez un rôle essentiel. Essentiel par l'histoire qui est la vôtre et les racines que cela donne à l'UMP. Essentiel par les personnalités qui sont les vôtres, vos amis. Je pense à André Rossinot, bien sûr, à qui je veux dire mon amitié, je pense à Jean-Louis Borloo, avec qui je partage tant de valeurs en commun et qui est un talent qui honore notre famille politique, je pense à Renaud Dutreil et à tant d'autres. Et puis important par les combats qui sont les vôtres, le combat pour la République, le combat pour la laïcité, le combat social que vous portez pour ne pas laisser à la gauche le monopole de la générosité. Et bien ça tombe bien, parce que les valeurs des Radicaux et l'objet, l'ambition, le projet qui sont les miens à la tête de l'UMP se rejoignent.Je veux faire de l'UMP la grande force politique populaire de France. Pourquoi populaire ? Parce qu'un mouvement politique n'a de sens que s'il s'adresse à tous les Français sans aucune distinction de région, de statut social, de condition, d'histoire. Nous sommes près de 300.000. Je suis sûr que l'objectif que j'ai fixé pour la fin de l'année sera dépassé bien avant. Parce que je veux faire de l'UMP une grande force démocratique où chaque adhérent puisse voter, donner son opinion et faire en sorte que les choix que je vous propose, les candidats que nous choisirons le moment venu, ce soit vous qui les choisissiez. L'époque où l'on pouvait se retrouver dans une secte, donner des ordres, c'est une époque qui est définitivement terminée.Je souhaite que l'électorat radical et l'électorat du centre, l'électorat de droite puissent se prendre en main, ne soient plus les spectateurs du destin de la droite en France mais soient les acteurs. Et puis les Radicaux portent un message social. Je l'ai dit : j'ai beaucoup fait pour décomplexer la droite républicaine française. Et bien je ne la laisserai pas se caricaturer. Car ce serait rendre service à la gauche et je souhaite que le message de générosité qui est le vôtre, nous le portions et je voudrais que chacune des propositions que nous fassions dans les mois à venir soit guidée par ce souci de la justice. Etre juste, donner à chacun la part qu'il mérite, récompenser l'effort\",\n",
              "       'pé, depuis une dizaine d\\'années, des relations régulières et parfois institutionnalisées, avec des assemblées parlementaires étrangères, que ces assemblées appartiennent à un régime bicaméral ou non.Cette coopération interparlementaire a évidemment accompagné la mondialisation à l\\'oeuvre depuis les années 90 et n\\'a aucune raison de s\\'arrêter. Au contraire ! Et nous, parlementaires, pouvons nous en réjouir.La coopération interparlementaire s\\'intéresse à tous les domaines de la vie parlementaire mais peut aussi dépasser ce champ.Ce qui m\\'amène aux liens entre la coopération interparlementaire et la coopération décentralisée. L\\'idée est simple : la coopération interparlementaire doit pouvoir faciliter la coopération décentralisée. Les assemblées parlementaires de deux pays jouent alors un rôle d\\'interface et favorisent le rapprochement entre leurs collectivités locales.Par exemple, le Sénat français, assemblée parlementaire à part entière mais aussi représentant des collectivités locales, s\\'attache de plus en plus à promouvoir les coopérations entre collectivités locales françaises et étrangères. Notre Service des Relations internationales et notre Service des Collectivités territoriales y veillent ensemble et se coordonnent régulièrement à cet effet sous la houlette de mon Cabinet.Je ne vais pas ici me lancer dans une litanie de nos actions dans ce domaine, mais retenez seulement que nous avons veillé à ce qu\\'elles se développent tous azimuts et sur tous les continents.S\\'agissant de nos dix pays, la coopération décentralisée y est, dans l\\'ensemble, soutenue, avec, évidemment des différences selon les pays. On dénombre ainsi 38 coopérations entre régions françaises et régions appartenant aux neuf pays du Dialogue \" 5 + 5 \". Pour les départements, ce nombre passe à 50 et s\\'élève même à plus de 1 000 s\\'agissant des communes (il est vrai que nous en avons 36 500...).Bien sûr, cette coopération décentralisée est en France, à tout le moins pour le moment, plus importante avec nos voisins européens qu\\'avec les pays du Maghreb. Mais je souhaiterais justement qu\\'un plus grand accent soit mis sur les coopérations décentralisées avec les pays du Maghreb. Cette réunion devrait y contribuer, en vous convaincant de l\\'intérêt de ces projets.Messieurs les Présidents,Avant d\\'entendre vos suggestions ou vos questions sur ce sujet, je voudrais redire tout le prix qu\\'attache la France au dialogue entre les pays de la Méditerranée occidentale.Ce dialogue, parce qu\\'il est informe',\n",
              "       \"ités de la présidence marocaine, en particulier la prise en compte des enjeux africains, avec la mobilisation pour l'accès aux financements et aux transferts de technologies.J'ai mis tous mes efforts sur ce continent pendant ma présidence, et comme je m'y étais engagée avec les trois rapports remis au SGNU.- L'Initiative africaine pour les énergies renouvelables avec les projets hydrauliques, éoliens, solaires, géothermiques, biomasse, énergies marines.- Les femmes et le climat.- La sécurité et le climat.Le changement climatique en Afrique est cruel et injuste. C'est le continent africain qui le subit le plus sans en être responsable, avec les désastres de la désertification.Sur les 50 pays les plus meurtris par le réchauffement climatique, 36 se situent en Afrique subsaharienne.D'ici 2050 la population va doubler et atteindre plus de 2 milliards d'habitants.Une course contre la montre est désormais engagée pour construire le droit des citoyens du continent africain à accéder à la lumière et à l'électricité dont 700 millions d'habitants sont privés aujourd'hui.C'est pourquoi en guise de symbole, je vous offre cette petite lampe solaire en forme de fleur d'Éthiopie que nous allumerons tous ensemble tout à l'heure pour marquer le droit du continent africain à la lumière, quand Patricia Espinosa, secrétaire exécutive de la CCNUCC, en donnera le signe.Le sommet africain des chefs d'État sera un moment clé le 16 novembre à l'initiative du Roi du Maroc, à la suite du même sommet organisé par le président de la République française à la COP21 pour engager concrètement les 10 milliards promis, par des décisions pour les Africains et par les Africains.Je vais vous faire une confidence. J'ai parcouru intensément pendant toute cette année le continent africain que je connais bien et où je suis née.Eh bien les pays africains sont parmi les plus mobilisés, les plus créatifs, les plus engagés. Ils sont en train d'inventer le monde de demain (centrale solaire de Noor) pour ne pas reproduire les erreurs des économies polluantes et prédatrices des ressources naturelles. À chaque fois, dans chacun des pays, ce que j'ai vu et entendu m'a remplie d'espoir, de gratitude et d'admiration.Et c'est pourquoi, pour conclure, je voudrais évoquer le nom de Wangari Matthai, grande figure du Kenya, prix Nobel de la Paix, fondatrice du Green Belt Movement, femme courageuse, femme combattante, porte-parole de cette idée lumineuse et si vraie : La lutte pour l'environnement et la lutte pou\",\n",
              "       \"ntre nos forces armées respectives, à la fois sur le territoire jordanien et à Djibouti. De nombreux officiers viennent se former en France, dans le domaine opérationnel mais aussi dans nos écoles d'ingénieurs et nos académies militaires. Les officiers français insérés au sein des forces jordaniennes, mais également les militaires en mission de courte durée, attestent de la vitalité de cette relation bilatérale. La France dispose des capacités technologiques du plus haut niveau, qui intéressent nos partenaires jordaniens. J'aurai, demain, l'occasion d'assister à des exercices conjoints entre les forces françaises et jordaniennes, qui mobilisent près de 50 militaires français.Nous partageons avec les Jordaniens des préoccupations similaires, face au terrorisme, à la prolifération et aux crises régionales. Nos forces armées respectives déploient des hommes et des femmes sur les mêmes théâtres d'opérations : la Côte d'Ivoire, Haïti, l'Erythrée, le Liban, car la Jordanie constitue un des tout premiers contributeurs de forces de maintien de la paix aux Nations Unies. C'est ce message de coopération pacifique, de nécessité d'un dialogue stratégique, d'attachement porté par notre pays aux relations franco-jordaniennes, alors que près de 2000 militaires français sont déployés au sud-Liban, à tout juste une centaine de kilomètres d'ici, que je suis venue porter aujourd'hui à Amman.Tout ceci n'a de sens et n'est rendu possible, j'en suis convaincue, que parce qu'il y a, dans ce pays des hommes et des femmes qui s'investissent, qui croient en l'avenir de la Jordanie et dans ses relations avec la France.Une relation bilatérale riche, porteuse de projets d'avenir, ne peut se faire sans une communauté française dynamique et motivée. La France a besoin de la voix, des initiatives, de l'enthousiasme de tous ses ressortissants expatriés. Les autorités françaises, pour leur part, sont à leurs côtés pour accompagner leurs efforts.Je sais pouvoir compter sur vous, sur votre énergie sans faille et votre détermination, pour favoriser et amplifier les relations entre la France et la Jordanie. Je tenais à venir vous en féliciter et vous en remercier.\",\n",
              "       'nt à travers moi vous le confirme, l\\'Accord de Nouméa sera appliqué et respecté. Si, après les importantes échéances électorales du printemps 2002, certains d\\'entre vous avaient des doutes à ce sujet, je tiens à les rassurer immédiatement. Il n\\'y aura aucun retour en arrière, les acquis de difficiles négociations, celles ayant abouti aux Accords de Matignon puis à l\\'Accord de Nouméa, seront préservés et confortés. Permettez-moi d\\'exprimer à cet égard ma profonde admiration et ma sincère reconnaissance pour Jean-Marie Tjibaou et Jacques Lafleur qui ont su montrer à tous le chemin de la lumière et de la concorde. La Nouvelle-Calédonie a beaucoup souffert pendant de longues années. Nous sommes aujourd\\'hui encore dans une phase de convalescence car rien n\\'est définitivement acquis. Alors je le dis aujourd\\'hui à Jacques Lafleur, très simplement, très spontanément et avec un élan du cur :Monsieur le député, nous avons encore besoin de vous. L\\'avenir de la Nouvelle-Calédonie se jouera, pour les années à venir, au sein de la République et de la France, du moins jusqu\\'à ce que les citoyens de la Nouvelle-Calédonie soient appelés à se prononcer sur ce point et acceptent - ou non - une évolution différente. Jusqu\\'à cette échéance, c\\'est dans le cadre tracé par l\\'Accord de Nouméa par la loi constitutionnelle du 20 juillet 1998 et par la loi organique du 19 mars 1999, que la Nouvelle-Calédonie doit continuer de prendre en main les instruments de son destin et assurer son développement économique et social. Les signataires de l\\'Accord l\\'ont voulu ainsi : pendant une période de vingt ans, la République doit accompagner la Nouvelle-Calédonie, qui en fait partie intégrante, dans une démarche visant à conforter une très large décentralisation, et même une très large autonomie. Cette \" émancipation \" de la Nouvelle-Calédonie au sein de la République se traduit et se traduira encore dans les années à venir, par des transferts définitifs et irréversibles de compétences de l\\'État. Cela signifie que l\\'État, une fois ces compétences transférées, ne peut plus les exercer à la place de la Nouvelle-Calédonie et des provinces. L\\'Etat, j\\'y veillerai, les respectera, ne cherchera pas à les influencer car il s\\'agit de faire pleinement confiance aux Calédoniens pour assumer ces responsabilités nouvelles. Cela signifie aussi que l\\'État doit simultanément procéder aux transferts financiers liés à ces transferts de compétences. J\\'ai malheureusement constaté à mon arrivée à la tête de ce min',\n",
              "       \"Monsieur le Préfet,  Mesdames et messieurs les élus,  Monsieur le Directeur du Patrimoine de la Mémoire et des Archives,  Monsieur le Directeur du service de l'infrastructure de défense,  Général,  Colonel,  Officiers, sous-officiers, légionnaires du 2ème régiment étranger de génie,  Mesdames et messieurs,  Nos Armées sont jeunes. Mais il est rare de venir à la rencontre d'un régiment aussi jeune. Le 2ème REG a célébré ses vingt ans en juillet et il s'en est fallu de peu pour que j'aie l'honneur de célébrer à vos côtés les vingt ans de votre drapeau, reçu des mains du général Crène le 30 septembre 1999.  Vingt ans seulement, mais l'histoire du 2ème REG prouve que la valeur et le talent n'attendent pas le nombre des années. Héritier des traditions des bataillons de génie-légion d'Indochine, vous avez été dès 1999 de toutes les opérations de l'armée de Terre : en Bosnie, au Kosovo, à Djibouti, puis en Afghanistan, en République centrafricaine et en Côte d'Ivoire.  A chaque fois, vous avez montré l'excellence de la Légion étrangère et du génie français, vous avez participé avec succès aux opérations de déminage et de dépollution au profit des populations locales. Il n'est pas un combat que vous ayez manqué, pas un appel de la France auquel vous ayez faux bond.  Tout au long de l'année, vous protégez les Français, sur les théâtres d'opération extérieure et sur notre propre sol, dans le cadre de l'opération Sentinelle.  En Afghanistan, vous vous êtes particulièrement distingués lors de l'opération Pamir. Votre courage, votre abnégation et votre excellence vous valent de voir votre drapeau être orné de la fourragère aux couleurs de la croix de la valeur militaire.  Vous avez choisi d'être sapeur, le savoir-faire des bâtisseurs et le savoir-faire de ceux qui appuient au plus près leurs camarades dans l'action, un engagement double en quelque sorte : servir la France et servir vos frères d'armes.  « Le feu, l'eau et la terre comme seul univers vous avancez et combattez, les sapeurs légionnaires. » Aucun environnement ne vous résiste. Vous connaissez les monts enneigés, les grands froids, les sommets escarpés, les profondeurs sous-marines, le soleil brûlant du Sahel. Vous domptez la nature, vous en écartez les dangers, vous protégez vos frères d'armes.  Vous avez trouvé votre place au sein de la 27ème brigade d'infanterie de montagne, c'est en quelque sorte votre deuxième famille. Mais vos valeurs, vos parcours, votre histoire sont avant tout celles de la Légion ét\",\n",
              "       \"ance contribue à la construction des deux centrales de Medupi et Kusile et du Gautrain, qui est aujourd'hui exploité par une grande entreprise de transport public française. C'est grâce à votre esprit d'entreprise et votre créativité que nous pourrons, je l'espère, prendre toute notre part aux grands projets en cours de lancement, qu'il s'agisse du programme nucléaire civil, de la construction de centrales à gaz ou encore de la rénovation d'infrastructures.Je voudrais remercier les conseillers du commerce extérieur et les membres de la chambre franco-sud-africaine de commerce et d'industrie pour l'aide qu'ils vous apportent au quotidien. Je voudrais aussi vous dire que nous sommes déterminés à appuyer vos efforts pour développer nos échanges avec ce pays. Avec une importante progression en 2010 et une hausse de 30 % au premier semestre de cette année, le commerce bilatéral reste fortement excédentaire pour la France (+ 687 millions d'euros en 2010). Nous devons faire encore mieux.Permettez-moi enfin de rendre hommage aux membres de notre réseau culturel et scolaire, ici en pleine expansion. Grâce à leur engagement, plus de mille élèves bénéficient d'un enseignement français en Afrique du Sud. Grâce à leur professionnalisme, les deux établissements d'excellence que sont l'École François Le Vaillant au Cap, et le Lycée Jules Verne, à Johannesburg, avec son campus «École Myriam Makeba» à Pretoria, contribuent pleinement au rayonnement de l'enseignement français dans le monde.L'État est à vos côtés pour vous accompagner dans l'aventure exaltante, mais exigeante, qu'est l'expatriation.Nous sommes à vos côtés pour assurer votre sécurité. Je sais qu'en dépit de la qualité de la vie dans ce pays, en dépit de l'ouverture de ses habitants, l'insécurité est pour vous une préoccupation majeure, même si les statistiques sur le long terme traduisent une diminution de la violence la plus extrême. Soyez assurés qu'outre nos deux consulats de plein exercice, à Johannesburg et au Cap, nos trois consuls honoraires, à Durban, à East London et à Port Elisabeth, veillent à maintenir un lien permanent avec vous tous et à garantir la sécurité de la communauté toute entière. C'est la raison pour laquelle il est essentiel que vous soyez inscrits sur les registres consulaires.Nous sommes également à vos côtés pour soutenir ceux d'entre vous qui connaissent des difficultés financières. Je pense en particulier à notre politique de bourses scolaires et d'allocations sociales, qui demeu\",\n",
              "       \"gagement financier de l'Etat, un engagement des associations sur les résultats des actions conduites, mesuré par des indicateurs de performance.Le Premier Ministre a demandé à l'ensemble des ministères de mettre en oeuvre, des 2006, le versement au premier trimestre, dès 2006, d'une avance de 50% de la subvention pour faciliter la trésorerie des associations qui en feront la demande.Pour assurer une stabilité des financements des associations, nous inclurons désormais dans les C.P.O. une garantie minimale de financement allant jusqu'à 75% des engagements prévisionnels pour toute la durée de la convention. Cette pratique sera systématisée à partir de l'exercice budgétaire 2007.La durée de ces CPO pourra être étendue à 4 ans; l'évaluation devant intervenir avant le 1er juillet de la 4ème année.Les différentes formes de recours aux associations par les pouvoirs publics devaient être clarifiées. C'est pourquoi, un groupe de travail interministériel va produire un mémento illustrant par des exemples les différents modes de relation que sont la subvention, la commande publique et la délégation de service public.Dans le même esprit d'information et de pédagogie, nous allons réaliser un guide pratique destiné à faire connaître aux associations les enjeux de la LOLF et ses conséquences sur les relations contractuelles avec les pouvoirs publics.En matière d'aides aux financements des associations, nous renforcerons l'offre financière en développant la garantie des prêts bancaires. Un « pôle de garantie » articulant les différents fonds existants sera mis en place avec l'appui de la Caisse des Dépôts et des Consignations.Par ailleurs, je voudrais également attirer votre attention sur deux dispositions du projet de loi relatif au volontariat associatif et à l'engagement éducatif adoptées à l'Assemblée nationale le 17 janvier dernier.Son article 14 prévoit que « les associations dont le budget annuel est supérieur à 150.000 euros et recevant une ou plusieurs subventions de l'Etat ou d'une collectivité territoriale, dont le montant est supérieur à 50.000 euros, doivent publier chaque année dans le compte financier les rémunérations des trois plus hauts cadres dirigeants bénévoles et salariés ainsi que leurs avantages en nature. ». Il vous reviendra de vous assurer de cette obligation.Quant à l'article 16 il dispose que « les personnes morales de droit public tiennent à disposition du public par voie électronique, dans des conditions fixées par décret, le montant des sub\",\n",
              "       \", que se joue cette mise en commun.  Nos U.M.R., vos laboratoires, sont notre plus grande force scientifique. Leur mixité est et doit rester une richesse, une source d'interactions fécondes entre les mondes, et l'Inserm sait de quoi il s'agit, lui qui dispose d'une incroyable surface de contact, avec des U.M.R. implantées dans des campus, des C.H.U., des instituts - Pasteur, Roussy, Curie, pour ne citer qu'eux - en France et à l'étranger. La mixité est un atout trop précieux pour laisser la complexité prendre le pas et freiner nos élans scientifiques et nos collaborations extra-académiques, et c'est la raison pour laquelle je souhaite que nous redonnions tout son sens à la notion de tutelle. Être tutelle, c'est investir dans une unité, c'est apporter des moyens, engager des agents dans un collectif, c'est participer à la définition d'une stratégie. Et l'évidence, c'est que si nous appliquons tous cette définition de la tutelle, alors nous en réduirons aussi le nombre – avec à la clef, une tâche un peu plus facile pour vous au quotidien.  Toutes les dynamiques d'avenir de la recherche prennent leur source dans ces laboratoires que vous dirigez. C'est là qu'on peut cultiver l'excellence disciplinaire et l'interdisciplinarité, dans la composition des équipes, comme dans les échanges avec les autres laboratoires ; c'est là qu'on peut travailler sur le continuum de la recherche, en collaborant avec les équipes médicales des hôpitaux et des C.H.U., en tissant des partenariats avec des entreprises, l'idéal étant bien entendu de pouvoir mettre en synergie toutes ces relations dans un même site. C'est là aussi, dans vos unités, que s'articulent la vision nationale de l'Inserm et la stratégie du site, en matière de recherche mais aussi de formation. J'insiste sur ce point car la réforme des études de santé est aussi une opportunité de mieux former nos futurs praticiens à la recherche, et je compte sur les laboratoires de l'Inserm, qui jouent déjà un rôle majeur dans le parcours des doctorants, pour s'en emparer.  Je sais combien cette articulation est délicate : il s'agit à chaque fois de faire dans la dentelle, pour trouver le bon équilibre entre la reconnaissance d'une mission nationale et d'une signature locale. Cet équilibre est propre à chaque site, il se construit et s'affine dans l'échange et dans le dialogue, entre acteurs académiques, bien sûr, mais aussi avec l'Etat. C'est pourquoi j'ai souhaité qu' à l'avenir, nous puissions prendre en compte, dans la con\"],\n",
              "      dtype=object)"
            ]
          },
          "metadata": {
            "tags": []
          },
          "execution_count": 117
        }
      ]
    },
    {
      "cell_type": "code",
      "metadata": {
        "id": "lhu2c2MSkOmD",
        "colab_type": "code",
        "colab": {}
      },
      "source": [
        "from torch.utils.data import TensorDataset, random_split\n",
        "from torch.utils.data import DataLoader, RandomSampler, SequentialSampler\n",
        "\n",
        "\n",
        "texts = sentences_to_analyse.Texte.values\n",
        "labels = sentences_to_analyse.sexe.values"
      ],
      "execution_count": 0,
      "outputs": []
    },
    {
      "cell_type": "code",
      "metadata": {
        "id": "K3Zlgz0hm5qL",
        "colab_type": "code",
        "colab": {}
      },
      "source": [
        ""
      ],
      "execution_count": 0,
      "outputs": []
    },
    {
      "cell_type": "code",
      "metadata": {
        "id": "BnbWnbyrleBZ",
        "colab_type": "code",
        "colab": {}
      },
      "source": [
        "# Tokenize all of the sentences and map the tokens to thier word IDs.\n",
        "input_ids = []\n",
        "attention_masks = []\n",
        "num_truncated_tokens =[]\n",
        "original_text =[]\n",
        "tokenized_text=[]\n",
        "\n",
        "for text in texts:\n",
        "  original_text.append(text)\n",
        "  tokenized_text.append(tokenizer.tokenize(text))\n",
        "  encoded_dict = tokenizer.encode_plus(\n",
        "                        text,                      # text\n",
        "                        add_special_tokens = True, # Add '[CLS]' and '[SEP]'\n",
        "                        max_length = 50,           # We choose for now a max length of 500.\n",
        "                        pad_to_max_length = True,    # Pad text to max (marche pas en pad left ?)\n",
        "                        return_attention_mask = True,   # Construct attention masks\n",
        "                        return_tensors = 'pt',     # Return pytorch tensors.\n",
        "                        return_overflowing_tokens =True, # return overflowing token information\n",
        "                  )\n",
        "    \n",
        "    # Map tokens to their id in the dictionnary \n",
        "    # We add this to our list    \n",
        "  input_ids.append(encoded_dict['input_ids'])\n",
        "\n",
        "    #num_truncated_tokens.append(encoded_dict['num_truncated_tokens'])\n",
        "    \n",
        "    # 3. Attention masks\n",
        "  attention_masks.append(encoded_dict['attention_mask'])"
      ],
      "execution_count": 0,
      "outputs": []
    },
    {
      "cell_type": "code",
      "metadata": {
        "id": "XSARDhWAl5zu",
        "colab_type": "code",
        "colab": {}
      },
      "source": [
        "# We convert all this into tensors in order to be able to make it work on GPU \n",
        "input_ids = torch.cat(input_ids, dim=0)\n",
        "attention_masks = torch.cat(attention_masks, dim=0)\n",
        "labels = torch.tensor(labels)"
      ],
      "execution_count": 0,
      "outputs": []
    },
    {
      "cell_type": "code",
      "metadata": {
        "id": "cPMyriA4leiS",
        "colab_type": "code",
        "colab": {}
      },
      "source": [
        "# Combine all above\n",
        "batch_size = 1\n",
        "dataset = TensorDataset(input_ids, attention_masks, labels)\n",
        "# We create data loaders for the train and validation dataset. \n",
        "dev_dataloader = DataLoader(\n",
        "            dataset,  # The training samples.\n",
        "            sampler = SequentialSampler(dataset), # We set to sequential and we keep track \n",
        "            batch_size = batch_size # Trains with this batch size.\n",
        "        )"
      ],
      "execution_count": 0,
      "outputs": []
    },
    {
      "cell_type": "code",
      "metadata": {
        "id": "UzsoooGrlpdC",
        "colab_type": "code",
        "colab": {}
      },
      "source": [
        "# Put model in evaluation mode \n",
        "gender_model.eval()\n",
        "\n",
        "total_pred,total_labels, total_eval_loss,scores_max,scores_min=[],[], [],[],[]\n",
        "for batch in dev_dataloader:\n",
        "  b_input_ids = batch[0].to(device)\n",
        "  b_input_mask = batch[1].to(device)\n",
        "  b_labels = batch[2].to(device)\n",
        "  \n",
        "  # We don't care about gradients for eval\n",
        "\n",
        "  with torch.no_grad(): \n",
        "    (loss, logits) = gender_model(b_input_ids, \n",
        "                                token_type_ids=None, \n",
        "                                attention_mask=b_input_mask,\n",
        "                                labels=b_labels)\n",
        "  total_eval_loss.append(loss.item())\n",
        "\n",
        "    # Move logits and labels to CPU \n",
        "  logits = logits.detach().cpu().numpy()\n",
        "  label_ids = b_labels.to('cpu').numpy()\n",
        "\n",
        "  score_max = np.amax(logits, axis=1).flatten().item()\n",
        "  score_min = np.amin(logits, axis=1).flatten().item()\n",
        "  pred_flat = np.argmax(logits, axis=1).flatten().item()\n",
        "  labels_flat = label_ids.flatten().item()\n",
        "\n",
        "  total_pred.append(pred_flat)\n",
        "  total_labels.append(labels_flat)\n",
        "  scores_max.append(score_max)\n",
        "  scores_min.append(score_min)\n"
      ],
      "execution_count": 0,
      "outputs": []
    },
    {
      "cell_type": "code",
      "metadata": {
        "id": "HaWq1yNgnHIB",
        "colab_type": "code",
        "colab": {}
      },
      "source": [
        "results_dev=pd.DataFrame([total_labels,total_pred,scores_max,scores_min]).transpose()\n",
        "results_dev.columns=['returned_labels','model_pred','scores_max','score_min']"
      ],
      "execution_count": 0,
      "outputs": []
    },
    {
      "cell_type": "code",
      "metadata": {
        "id": "s4-NN0erngfv",
        "colab_type": "code",
        "colab": {}
      },
      "source": [
        "frames = [sentences_to_analyse.reset_index(), results_dev]\n",
        "result = pd.concat(frames,axis=1)"
      ],
      "execution_count": 0,
      "outputs": []
    },
    {
      "cell_type": "code",
      "metadata": {
        "id": "Q5MI09GF4yuR",
        "colab_type": "code",
        "colab": {
          "base_uri": "https://localhost:8080/",
          "height": 762
        },
        "outputId": "a64d6a32-06f4-4123-9c51-16e6a2608557"
      },
      "source": [
        "result"
      ],
      "execution_count": 126,
      "outputs": [
        {
          "output_type": "execute_result",
          "data": {
            "text/html": [
              "<div>\n",
              "<style scoped>\n",
              "    .dataframe tbody tr th:only-of-type {\n",
              "        vertical-align: middle;\n",
              "    }\n",
              "\n",
              "    .dataframe tbody tr th {\n",
              "        vertical-align: top;\n",
              "    }\n",
              "\n",
              "    .dataframe thead th {\n",
              "        text-align: right;\n",
              "    }\n",
              "</style>\n",
              "<table border=\"1\" class=\"dataframe\">\n",
              "  <thead>\n",
              "    <tr style=\"text-align: right;\">\n",
              "      <th></th>\n",
              "      <th>index</th>\n",
              "      <th>Texte</th>\n",
              "      <th>sexe</th>\n",
              "      <th>returned_labels</th>\n",
              "      <th>model_pred</th>\n",
              "      <th>scores_max</th>\n",
              "      <th>score_min</th>\n",
              "    </tr>\n",
              "  </thead>\n",
              "  <tbody>\n",
              "    <tr>\n",
              "      <th>0</th>\n",
              "      <td>0</td>\n",
              "      <td>coup plus grave</td>\n",
              "      <td>1</td>\n",
              "      <td>1.0</td>\n",
              "      <td>0.0</td>\n",
              "      <td>1.009956</td>\n",
              "      <td>-0.874495</td>\n",
              "    </tr>\n",
              "    <tr>\n",
              "      <th>1</th>\n",
              "      <td>1</td>\n",
              "      <td>Je ne parlerai pas du bilan de Nicolas Sarkozy</td>\n",
              "      <td>1</td>\n",
              "      <td>1.0</td>\n",
              "      <td>0.0</td>\n",
              "      <td>1.301345</td>\n",
              "      <td>-1.258373</td>\n",
              "    </tr>\n",
              "    <tr>\n",
              "      <th>2</th>\n",
              "      <td>2</td>\n",
              "      <td>Juste un mot : il a dit quand on veut on peut...</td>\n",
              "      <td>1</td>\n",
              "      <td>1.0</td>\n",
              "      <td>0.0</td>\n",
              "      <td>1.463775</td>\n",
              "      <td>-1.332182</td>\n",
              "    </tr>\n",
              "    <tr>\n",
              "      <th>3</th>\n",
              "      <td>3</td>\n",
              "      <td>Il n'y a rien eu de tout cela pendant la prési...</td>\n",
              "      <td>1</td>\n",
              "      <td>1.0</td>\n",
              "      <td>0.0</td>\n",
              "      <td>1.462664</td>\n",
              "      <td>-1.375385</td>\n",
              "    </tr>\n",
              "    <tr>\n",
              "      <th>4</th>\n",
              "      <td>4</td>\n",
              "      <td>Et en tout cas, les autres pays ont pu lui di...</td>\n",
              "      <td>1</td>\n",
              "      <td>1.0</td>\n",
              "      <td>0.0</td>\n",
              "      <td>1.705040</td>\n",
              "      <td>-1.593131</td>\n",
              "    </tr>\n",
              "    <tr>\n",
              "      <th>5</th>\n",
              "      <td>5</td>\n",
              "      <td>Puis il faut le dire, en rentrant dans l'OTAN ...</td>\n",
              "      <td>1</td>\n",
              "      <td>1.0</td>\n",
              "      <td>0.0</td>\n",
              "      <td>1.778462</td>\n",
              "      <td>-1.668161</td>\n",
              "    </tr>\n",
              "    <tr>\n",
              "      <th>6</th>\n",
              "      <td>6</td>\n",
              "      <td>Voilà ce bilan</td>\n",
              "      <td>1</td>\n",
              "      <td>1.0</td>\n",
              "      <td>1.0</td>\n",
              "      <td>0.225109</td>\n",
              "      <td>-0.100552</td>\n",
              "    </tr>\n",
              "    <tr>\n",
              "      <th>7</th>\n",
              "      <td>7</td>\n",
              "      <td>Il a dit : je veux être jugé sur mes résultats</td>\n",
              "      <td>1</td>\n",
              "      <td>1.0</td>\n",
              "      <td>0.0</td>\n",
              "      <td>1.946002</td>\n",
              "      <td>-1.854517</td>\n",
              "    </tr>\n",
              "    <tr>\n",
              "      <th>8</th>\n",
              "      <td>8</td>\n",
              "      <td>Et bien le 7 juin, on va le juger sur ses rés...</td>\n",
              "      <td>1</td>\n",
              "      <td>1.0</td>\n",
              "      <td>0.0</td>\n",
              "      <td>1.300824</td>\n",
              "      <td>-1.161809</td>\n",
              "    </tr>\n",
              "    <tr>\n",
              "      <th>9</th>\n",
              "      <td>9</td>\n",
              "      <td>Alors oui, l'Europe mérite ce grand débat</td>\n",
              "      <td>1</td>\n",
              "      <td>1.0</td>\n",
              "      <td>0.0</td>\n",
              "      <td>0.117594</td>\n",
              "      <td>-0.090714</td>\n",
              "    </tr>\n",
              "    <tr>\n",
              "      <th>10</th>\n",
              "      <td>10</td>\n",
              "      <td>Et aujourd'hui, comme d'habitude, quand on ne...</td>\n",
              "      <td>1</td>\n",
              "      <td>1.0</td>\n",
              "      <td>0.0</td>\n",
              "      <td>1.492730</td>\n",
              "      <td>-1.363012</td>\n",
              "    </tr>\n",
              "    <tr>\n",
              "      <th>11</th>\n",
              "      <td>11</td>\n",
              "      <td>J'aimerais rappeler que l'Europe est née des p...</td>\n",
              "      <td>1</td>\n",
              "      <td>1.0</td>\n",
              "      <td>0.0</td>\n",
              "      <td>1.138743</td>\n",
              "      <td>-1.032919</td>\n",
              "    </tr>\n",
              "    <tr>\n",
              "      <th>12</th>\n",
              "      <td>12</td>\n",
              "      <td>Or aujourd'hui, on s'adresse à leur moelle ép...</td>\n",
              "      <td>1</td>\n",
              "      <td>1.0</td>\n",
              "      <td>0.0</td>\n",
              "      <td>1.334617</td>\n",
              "      <td>-1.195427</td>\n",
              "    </tr>\n",
              "    <tr>\n",
              "      <th>13</th>\n",
              "      <td>13</td>\n",
              "      <td>Mais aujourd'hui, ça ne marchera pas, car nou...</td>\n",
              "      <td>1</td>\n",
              "      <td>1.0</td>\n",
              "      <td>0.0</td>\n",
              "      <td>1.762951</td>\n",
              "      <td>-1.652169</td>\n",
              "    </tr>\n",
              "    <tr>\n",
              "      <th>14</th>\n",
              "      <td>14</td>\n",
              "      <td>Et puis qu'il ne nous fasse pas des coups de ...</td>\n",
              "      <td>1</td>\n",
              "      <td>1.0</td>\n",
              "      <td>1.0</td>\n",
              "      <td>0.265147</td>\n",
              "      <td>-0.207939</td>\n",
              "    </tr>\n",
              "    <tr>\n",
              "      <th>15</th>\n",
              "      <td>15</td>\n",
              "      <td>Et voyez, il y a quelques jours, des bandes qu...</td>\n",
              "      <td>1</td>\n",
              "      <td>1.0</td>\n",
              "      <td>0.0</td>\n",
              "      <td>1.671470</td>\n",
              "      <td>-1.550934</td>\n",
              "    </tr>\n",
              "    <tr>\n",
              "      <th>16</th>\n",
              "      <td>16</td>\n",
              "      <td>Un enfant qui donne un coup de poignard à un ...</td>\n",
              "      <td>1</td>\n",
              "      <td>1.0</td>\n",
              "      <td>0.0</td>\n",
              "      <td>1.457023</td>\n",
              "      <td>-1.330884</td>\n",
              "    </tr>\n",
              "    <tr>\n",
              "      <th>17</th>\n",
              "      <td>17</td>\n",
              "      <td>Des prisonniers qui sont dans la nature : que...</td>\n",
              "      <td>1</td>\n",
              "      <td>1.0</td>\n",
              "      <td>0.0</td>\n",
              "      <td>1.808068</td>\n",
              "      <td>-1.697960</td>\n",
              "    </tr>\n",
              "    <tr>\n",
              "      <th>18</th>\n",
              "      <td>18</td>\n",
              "      <td>Elle a cassé la police de proximité, et voudr...</td>\n",
              "      <td>1</td>\n",
              "      <td>1.0</td>\n",
              "      <td>0.0</td>\n",
              "      <td>1.502547</td>\n",
              "      <td>-1.358916</td>\n",
              "    </tr>\n",
              "    <tr>\n",
              "      <th>19</th>\n",
              "      <td>19</td>\n",
              "      <td>On a supprimé les éducateurs, les accompagnate...</td>\n",
              "      <td>1</td>\n",
              "      <td>1.0</td>\n",
              "      <td>0.0</td>\n",
              "      <td>1.477036</td>\n",
              "      <td>-1.346111</td>\n",
              "    </tr>\n",
              "    <tr>\n",
              "      <th>20</th>\n",
              "      <td>20</td>\n",
              "      <td>Qu'on ne nous donne pas de leçons, qu'on ne n...</td>\n",
              "      <td>1</td>\n",
              "      <td>1.0</td>\n",
              "      <td>0.0</td>\n",
              "      <td>1.687444</td>\n",
              "      <td>-1.569245</td>\n",
              "    </tr>\n",
              "    <tr>\n",
              "      <th>21</th>\n",
              "      <td>21</td>\n",
              "      <td>Et puis alors, bien évidemment, on regarde ce...</td>\n",
              "      <td>1</td>\n",
              "      <td>1.0</td>\n",
              "      <td>1.0</td>\n",
              "      <td>0.954795</td>\n",
              "      <td>-0.992237</td>\n",
              "    </tr>\n",
              "    <tr>\n",
              "      <th>22</th>\n",
              "      <td>22</td>\n",
              "      <td>Je crois qu'on aura droit à un discours sur l...</td>\n",
              "      <td>1</td>\n",
              "      <td>1.0</td>\n",
              "      <td>0.0</td>\n",
              "      <td>1.611102</td>\n",
              "      <td>-1.487717</td>\n",
              "    </tr>\n",
              "  </tbody>\n",
              "</table>\n",
              "</div>"
            ],
            "text/plain": [
              "    index  ... score_min\n",
              "0       0  ... -0.874495\n",
              "1       1  ... -1.258373\n",
              "2       2  ... -1.332182\n",
              "3       3  ... -1.375385\n",
              "4       4  ... -1.593131\n",
              "5       5  ... -1.668161\n",
              "6       6  ... -0.100552\n",
              "7       7  ... -1.854517\n",
              "8       8  ... -1.161809\n",
              "9       9  ... -0.090714\n",
              "10     10  ... -1.363012\n",
              "11     11  ... -1.032919\n",
              "12     12  ... -1.195427\n",
              "13     13  ... -1.652169\n",
              "14     14  ... -0.207939\n",
              "15     15  ... -1.550934\n",
              "16     16  ... -1.330884\n",
              "17     17  ... -1.697960\n",
              "18     18  ... -1.358916\n",
              "19     19  ... -1.346111\n",
              "20     20  ... -1.569245\n",
              "21     21  ... -0.992237\n",
              "22     22  ... -1.487717\n",
              "\n",
              "[23 rows x 7 columns]"
            ]
          },
          "metadata": {
            "tags": []
          },
          "execution_count": 126
        }
      ]
    },
    {
      "cell_type": "code",
      "metadata": {
        "id": "vyCUByqlnJ-t",
        "colab_type": "code",
        "colab": {
          "base_uri": "https://localhost:8080/",
          "height": 357
        },
        "outputId": "e538083a-04cb-4111-fca7-3bfa6d4de5bd"
      },
      "source": [
        "result[result.scores_max>=1].Texte"
      ],
      "execution_count": 125,
      "outputs": [
        {
          "output_type": "execute_result",
          "data": {
            "text/plain": [
              "0                                       coup plus grave\n",
              "1        Je ne parlerai pas du bilan de Nicolas Sarkozy\n",
              "2      Juste un mot : il a dit quand on veut on peut...\n",
              "3     Il n'y a rien eu de tout cela pendant la prési...\n",
              "4      Et en tout cas, les autres pays ont pu lui di...\n",
              "5     Puis il faut le dire, en rentrant dans l'OTAN ...\n",
              "7        Il a dit : je veux être jugé sur mes résultats\n",
              "8      Et bien le 7 juin, on va le juger sur ses rés...\n",
              "10     Et aujourd'hui, comme d'habitude, quand on ne...\n",
              "11    J'aimerais rappeler que l'Europe est née des p...\n",
              "12     Or aujourd'hui, on s'adresse à leur moelle ép...\n",
              "13     Mais aujourd'hui, ça ne marchera pas, car nou...\n",
              "15    Et voyez, il y a quelques jours, des bandes qu...\n",
              "16     Un enfant qui donne un coup de poignard à un ...\n",
              "17     Des prisonniers qui sont dans la nature : que...\n",
              "18     Elle a cassé la police de proximité, et voudr...\n",
              "19    On a supprimé les éducateurs, les accompagnate...\n",
              "20     Qu'on ne nous donne pas de leçons, qu'on ne n...\n",
              "22     Je crois qu'on aura droit à un discours sur l...\n",
              "Name: Texte, dtype: object"
            ]
          },
          "metadata": {
            "tags": []
          },
          "execution_count": 125
        }
      ]
    },
    {
      "cell_type": "code",
      "metadata": {
        "id": "rH8JStdynLDw",
        "colab_type": "code",
        "colab": {}
      },
      "source": [
        ""
      ],
      "execution_count": 0,
      "outputs": []
    },
    {
      "cell_type": "code",
      "metadata": {
        "id": "Rk00zTm0nuiR",
        "colab_type": "code",
        "colab": {}
      },
      "source": [
        ""
      ],
      "execution_count": 0,
      "outputs": []
    }
  ]
}