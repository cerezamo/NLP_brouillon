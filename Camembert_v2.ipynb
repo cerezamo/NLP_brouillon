{
  "nbformat": 4,
  "nbformat_minor": 0,
  "metadata": {
    "colab": {
      "name": "Camembert_v2.ipynb",
      "provenance": [],
      "toc_visible": true,
      "include_colab_link": true
    },
    "kernelspec": {
      "name": "python3",
      "display_name": "Python 3"
    },
    "accelerator": "GPU"
  },
  "cells": [
    {
      "cell_type": "markdown",
      "metadata": {
        "id": "view-in-github",
        "colab_type": "text"
      },
      "source": [
        "<a href=\"https://colab.research.google.com/github/cerezamo/NLP_brouillon/blob/master/Camembert_v2.ipynb\" target=\"_parent\"><img src=\"https://colab.research.google.com/assets/colab-badge.svg\" alt=\"Open In Colab\"/></a>"
      ]
    },
    {
      "cell_type": "markdown",
      "metadata": {
        "id": "kcxLW3uyHTSN",
        "colab_type": "text"
      },
      "source": [
        "# CamemBERT classification model \n"
      ]
    },
    {
      "cell_type": "markdown",
      "metadata": {
        "id": "8bxA1IEgH-GI",
        "colab_type": "text"
      },
      "source": [
        "## Set up colab GPU and installing main packages"
      ]
    },
    {
      "cell_type": "code",
      "metadata": {
        "id": "H1JD-Tb0HdvN",
        "colab_type": "code",
        "outputId": "d529d80e-1953-4415-c756-7ca55477c1b3",
        "colab": {
          "base_uri": "https://localhost:8080/",
          "height": 34
        }
      },
      "source": [
        "# If you have the documents in your drive already otherwise just drag 'medium_df_desequ.csv' and 'funct.py' in the file section\n",
        "os.getcwd()\n",
        "from google.colab import drive \n",
        "drive.mount('/content/gdrive')"
      ],
      "execution_count": 1,
      "outputs": [
        {
          "output_type": "stream",
          "text": [
            "Drive already mounted at /content/gdrive; to attempt to forcibly remount, call drive.mount(\"/content/gdrive\", force_remount=True).\n"
          ],
          "name": "stdout"
        }
      ]
    },
    {
      "cell_type": "code",
      "metadata": {
        "id": "2mF6Hs6yH2A5",
        "colab_type": "code",
        "outputId": "f3814cbd-01ef-40bd-ecfb-0f6b590a47ed",
        "colab": {
          "base_uri": "https://localhost:8080/",
          "height": 34
        }
      },
      "source": [
        "# First you should go in 'Edit' -> 'Notebook settings' -> Add device GPU\n",
        "import tensorflow as tf\n",
        "\n",
        "# GPU device name.\n",
        "device_name = tf.test.gpu_device_name()\n",
        "device_name"
      ],
      "execution_count": 2,
      "outputs": [
        {
          "output_type": "execute_result",
          "data": {
            "text/plain": [
              "'/device:GPU:0'"
            ]
          },
          "metadata": {
            "tags": []
          },
          "execution_count": 2
        }
      ]
    },
    {
      "cell_type": "markdown",
      "metadata": {
        "id": "VZ_F6NV3IaCY",
        "colab_type": "text"
      },
      "source": [
        "We now can tell torch that one GPU is available "
      ]
    },
    {
      "cell_type": "code",
      "metadata": {
        "id": "wr4fjemjIVoQ",
        "colab_type": "code",
        "outputId": "69fd1a33-920f-44b3-b447-6148ad64e639",
        "colab": {
          "base_uri": "https://localhost:8080/",
          "height": 51
        }
      },
      "source": [
        "import torch\n",
        "\n",
        "if torch.cuda.is_available():    \n",
        "    device = torch.device(\"cuda\")\n",
        "    print('There are %d GPU(s) available.' % torch.cuda.device_count())\n",
        "    print('We will use the GPU:', torch.cuda.get_device_name(0))\n",
        "\n",
        "# If not...\n",
        "else:\n",
        "    print('No GPU available, using the CPU instead.')\n",
        "    device = torch.device(\"cpu\")"
      ],
      "execution_count": 3,
      "outputs": [
        {
          "output_type": "stream",
          "text": [
            "There are 1 GPU(s) available.\n",
            "We will use the GPU: Tesla K80\n"
          ],
          "name": "stdout"
        }
      ]
    },
    {
      "cell_type": "markdown",
      "metadata": {
        "id": "9_7DO-oiCZ7f",
        "colab_type": "text"
      },
      "source": [
        "\n",
        "\n",
        "**Please check GPU capacity** that you were given. You might want to reduce the batch size further in the code.  Typically if you were given 8Go memory GPU (Tesla P4) you should set the batch size to 2 not more ! "
      ]
    },
    {
      "cell_type": "markdown",
      "metadata": {
        "id": "ZGwjFzizIsMI",
        "colab_type": "text"
      },
      "source": [
        "We now install the Hugging Face library transformers. You can find all the documentation of hugging face in their Github : https://github.com/huggingface/transformers  "
      ]
    },
    {
      "cell_type": "code",
      "metadata": {
        "id": "--g7cokfIrpT",
        "colab_type": "code",
        "outputId": "e32391d6-6a72-4cae-806e-2f85636571e3",
        "colab": {
          "base_uri": "https://localhost:8080/",
          "height": 408
        }
      },
      "source": [
        "! pip install transformers "
      ],
      "execution_count": 4,
      "outputs": [
        {
          "output_type": "stream",
          "text": [
            "Requirement already satisfied: transformers in /usr/local/lib/python3.6/dist-packages (2.7.0)\n",
            "Requirement already satisfied: tokenizers==0.5.2 in /usr/local/lib/python3.6/dist-packages (from transformers) (0.5.2)\n",
            "Requirement already satisfied: tqdm>=4.27 in /usr/local/lib/python3.6/dist-packages (from transformers) (4.38.0)\n",
            "Requirement already satisfied: sentencepiece in /usr/local/lib/python3.6/dist-packages (from transformers) (0.1.85)\n",
            "Requirement already satisfied: dataclasses; python_version < \"3.7\" in /usr/local/lib/python3.6/dist-packages (from transformers) (0.7)\n",
            "Requirement already satisfied: requests in /usr/local/lib/python3.6/dist-packages (from transformers) (2.21.0)\n",
            "Requirement already satisfied: numpy in /usr/local/lib/python3.6/dist-packages (from transformers) (1.18.2)\n",
            "Requirement already satisfied: regex!=2019.12.17 in /usr/local/lib/python3.6/dist-packages (from transformers) (2019.12.20)\n",
            "Requirement already satisfied: filelock in /usr/local/lib/python3.6/dist-packages (from transformers) (3.0.12)\n",
            "Requirement already satisfied: boto3 in /usr/local/lib/python3.6/dist-packages (from transformers) (1.12.31)\n",
            "Requirement already satisfied: sacremoses in /usr/local/lib/python3.6/dist-packages (from transformers) (0.0.38)\n",
            "Requirement already satisfied: idna<2.9,>=2.5 in /usr/local/lib/python3.6/dist-packages (from requests->transformers) (2.8)\n",
            "Requirement already satisfied: chardet<3.1.0,>=3.0.2 in /usr/local/lib/python3.6/dist-packages (from requests->transformers) (3.0.4)\n",
            "Requirement already satisfied: certifi>=2017.4.17 in /usr/local/lib/python3.6/dist-packages (from requests->transformers) (2019.11.28)\n",
            "Requirement already satisfied: urllib3<1.25,>=1.21.1 in /usr/local/lib/python3.6/dist-packages (from requests->transformers) (1.24.3)\n",
            "Requirement already satisfied: jmespath<1.0.0,>=0.7.1 in /usr/local/lib/python3.6/dist-packages (from boto3->transformers) (0.9.5)\n",
            "Requirement already satisfied: s3transfer<0.4.0,>=0.3.0 in /usr/local/lib/python3.6/dist-packages (from boto3->transformers) (0.3.3)\n",
            "Requirement already satisfied: botocore<1.16.0,>=1.15.31 in /usr/local/lib/python3.6/dist-packages (from boto3->transformers) (1.15.31)\n",
            "Requirement already satisfied: click in /usr/local/lib/python3.6/dist-packages (from sacremoses->transformers) (7.1.1)\n",
            "Requirement already satisfied: six in /usr/local/lib/python3.6/dist-packages (from sacremoses->transformers) (1.12.0)\n",
            "Requirement already satisfied: joblib in /usr/local/lib/python3.6/dist-packages (from sacremoses->transformers) (0.14.1)\n",
            "Requirement already satisfied: python-dateutil<3.0.0,>=2.1 in /usr/local/lib/python3.6/dist-packages (from botocore<1.16.0,>=1.15.31->boto3->transformers) (2.8.1)\n",
            "Requirement already satisfied: docutils<0.16,>=0.10 in /usr/local/lib/python3.6/dist-packages (from botocore<1.16.0,>=1.15.31->boto3->transformers) (0.15.2)\n"
          ],
          "name": "stdout"
        }
      ]
    },
    {
      "cell_type": "markdown",
      "metadata": {
        "id": "W4OKq8Z4JId9",
        "colab_type": "text"
      },
      "source": [
        "## Loading our corpus and preparing samples "
      ]
    },
    {
      "cell_type": "code",
      "metadata": {
        "id": "0aGxDbDU4_BQ",
        "colab_type": "code",
        "colab": {}
      },
      "source": [
        "# We keep the same seed value all along this notebook in order to be able to replicate the results \n",
        "seed_val = 2003"
      ],
      "execution_count": 0,
      "outputs": []
    },
    {
      "cell_type": "code",
      "metadata": {
        "id": "aOCVLtje9_Rs",
        "colab_type": "code",
        "colab": {
          "base_uri": "https://localhost:8080/",
          "height": 289
        },
        "outputId": "12968fb0-2650-4bab-efb1-a8a30d7705ac"
      },
      "source": [
        "# Import medium_df_desq in \"files\" (on the left) this can take some time ! \n",
        "import pandas as pd\n",
        "\n",
        "# Load the dataset into a pandas dataframe.\n",
        "df=pd.read_csv('medium_df_deseq.csv',encoding='utf-8')\n",
        "\n",
        "# Shuffle the date\n",
        "df=df.sample(frac=1,random_state=seed_val).reset_index(drop=True)\n",
        "\n",
        "# Some of the speeches are interviews (wrongly classified in the website) we try to delete most of them  \n",
        "df=df[~df.Texte.str.startswith(\"Q-\")]\n",
        "df=df[~df.Texte.str.startswith(\"R-\")]\n",
        "\n",
        "# Normalization of the labels [0,1] instead of [1,2] (0 = men, 1 = women)\n",
        "df.sexe=df.sexe.replace(1,0)\n",
        "df.sexe=df.sexe.replace(2,1)\n",
        "\n",
        "# We keep only variables of interest \n",
        "df=df[['Id','Titre','Theme','Prenom','Nom','Date','Tags','Texte','sexe']]\n",
        "\n",
        "# For the cleaning part we will just remove urls, parenthesis and double spacing if any \n",
        "import re\n",
        "def cleaing_stuff(text):\n",
        "    text = re.sub(r'(https|http)?:\\/\\/(\\w|\\.|\\/|\\?|\\=|\\&|\\%)*\\b', '', text, flags=re.MULTILINE)\n",
        "    text = re.sub(r\" \\(.*?\\)\", '', string_var, flags=re.MULTILINE)\n",
        "    text = text.replace('  ','')\n",
        "    text = text.strip\n",
        "    return text \n",
        "\n",
        "df['Texte']=df.Texte.apply(remove_urls)\n",
        "\n",
        "# This is a sample of our dataset\n",
        "df.head(5)"
      ],
      "execution_count": 338,
      "outputs": [
        {
          "output_type": "execute_result",
          "data": {
            "text/html": [
              "<div>\n",
              "<style scoped>\n",
              "    .dataframe tbody tr th:only-of-type {\n",
              "        vertical-align: middle;\n",
              "    }\n",
              "\n",
              "    .dataframe tbody tr th {\n",
              "        vertical-align: top;\n",
              "    }\n",
              "\n",
              "    .dataframe thead th {\n",
              "        text-align: right;\n",
              "    }\n",
              "</style>\n",
              "<table border=\"1\" class=\"dataframe\">\n",
              "  <thead>\n",
              "    <tr style=\"text-align: right;\">\n",
              "      <th></th>\n",
              "      <th>Id</th>\n",
              "      <th>Titre</th>\n",
              "      <th>Theme</th>\n",
              "      <th>Prenom</th>\n",
              "      <th>Nom</th>\n",
              "      <th>Date</th>\n",
              "      <th>Tags</th>\n",
              "      <th>Texte</th>\n",
              "      <th>sexe</th>\n",
              "    </tr>\n",
              "  </thead>\n",
              "  <tbody>\n",
              "    <tr>\n",
              "      <th>0</th>\n",
              "      <td>160153</td>\n",
              "      <td>Déclaration de Mme Michèle Alliot-Marie, minis...</td>\n",
              "      <td>Société</td>\n",
              "      <td>Michèle</td>\n",
              "      <td>Alliot-Marie</td>\n",
              "      <td>2006-01-23T12:00:00Z</td>\n",
              "      <td>Sécurité,Gendarmerie</td>\n",
              "      <td>C'est une grande satisfaction d'être aujourd'h...</td>\n",
              "      <td>1</td>\n",
              "    </tr>\n",
              "    <tr>\n",
              "      <th>1</th>\n",
              "      <td>149333</td>\n",
              "      <td>Déclaration de M. François Baroin, ministre de...</td>\n",
              "      <td>Institutions</td>\n",
              "      <td>François</td>\n",
              "      <td>Baroin</td>\n",
              "      <td>2005-06-11T12:00:00Z</td>\n",
              "      <td>Citoyenneté - Elections,Parti politique</td>\n",
              "      <td>Mes premiers mots iront vers nos amis d'Outre-...</td>\n",
              "      <td>0</td>\n",
              "    </tr>\n",
              "    <tr>\n",
              "      <th>2</th>\n",
              "      <td>178463</td>\n",
              "      <td>Déclaration de M. Xavier Darcos, ministre du t...</td>\n",
              "      <td>NaN</td>\n",
              "      <td>Xavier</td>\n",
              "      <td>Darcos</td>\n",
              "      <td>2010-01-12T12:00:00Z</td>\n",
              "      <td>NaN</td>\n",
              "      <td>Comme vous le savez, après la réforme engagée ...</td>\n",
              "      <td>0</td>\n",
              "    </tr>\n",
              "    <tr>\n",
              "      <th>3</th>\n",
              "      <td>180716</td>\n",
              "      <td>Déclaration de Mme Nathalie Kosciusko-Morizet,...</td>\n",
              "      <td>Economie</td>\n",
              "      <td>Nathalie</td>\n",
              "      <td>Kosciusko-Morizet</td>\n",
              "      <td>2010-12-03T12:00:00Z</td>\n",
              "      <td>Vie économique,Tourisme</td>\n",
              "      <td>Messieurs les présidents,Mesdames, Messieurs,J...</td>\n",
              "      <td>1</td>\n",
              "    </tr>\n",
              "    <tr>\n",
              "      <th>4</th>\n",
              "      <td>153024</td>\n",
              "      <td>Déclaration de M. Jack Lang, ministre de l'édu...</td>\n",
              "      <td>Société</td>\n",
              "      <td>Jack</td>\n",
              "      <td>Lang</td>\n",
              "      <td>2000-11-22T12:00:00Z</td>\n",
              "      <td>Sciences - Numérique - I. A.,Economie numériqu...</td>\n",
              "      <td>Je suis heureux de voir que le salon de l'éduc...</td>\n",
              "      <td>0</td>\n",
              "    </tr>\n",
              "  </tbody>\n",
              "</table>\n",
              "</div>"
            ],
            "text/plain": [
              "       Id  ... sexe\n",
              "0  160153  ...    1\n",
              "1  149333  ...    0\n",
              "2  178463  ...    0\n",
              "3  180716  ...    1\n",
              "4  153024  ...    0\n",
              "\n",
              "[5 rows x 9 columns]"
            ]
          },
          "metadata": {
            "tags": []
          },
          "execution_count": 338
        }
      ]
    },
    {
      "cell_type": "markdown",
      "metadata": {
        "id": "WTKQ0QnAZ_wu",
        "colab_type": "text"
      },
      "source": [
        "**We propose 3 samples to train our model :**\n",
        "\n",
        "\n",
        "**1.   Unbalanced sample**\n",
        "\n",
        "We take the raw data without any further treatment.\n",
        "\n",
        "**2.   Balanced sample**\n",
        "\n",
        "The second option consists in deleting randomly part of male speeches in order to get a balanced sample. Indeed, in the case of unbalanced sample our model could decide to classify all speakers in the male category which would lead to a 0.75 accuracy in our case study. In order to avoid this we feed the model with the same proportions of male and female speakers. Other kind of treatments exist to deal with unbalanced sample. This one is the simpliest one and we could argue that there is a possibility that the deleted sample contains important information that we therefore miss. However we believe that in our case this is not a big issue. Our unbalanced sample is quite large for both female and male.\n",
        "\n",
        "**3. Balanced and splitted sample**\n",
        "\n",
        "The third option is a response to the max length constraint of BERT models. Our text samples are big and contain much more tokens than the 512 limit. In the first two options we decide to feed the model with the 512 first tokens and thus we delete the remaining tokens. In this third option we cut the text into x parts containing 500 tokens each. All parts of the speech will serve to feed the model. Through this technique we do not loose potential important informations at the end of the text. A lot of other techniques have been employed such as hierarchical transformers (see our latex for reference). We decide to stick to this method in this project but it is an obvious improvment that could be added here. \n",
        "\n"
      ]
    },
    {
      "cell_type": "code",
      "metadata": {
        "id": "Ae8ICVGvUBLv",
        "colab_type": "code",
        "colab": {}
      },
      "source": [
        "def unbalanced_preprocess(df):\n",
        "  ''' \n",
        "  This function just takes our unbalanced dataset and prints relevant informations\n",
        "  '''\n",
        "\n",
        "  df_unbalanced=df\n",
        "\n",
        "  # Reports the number of speeches in the corpus.\n",
        "  print('Number of text in the unbalanced corpus : {0:.2f}\\n'.format(df_unbalanced.shape[0]))\n",
        "\n",
        "  # Reports the percentage of women in the sample \n",
        "  prop = (len(df_unbalanced[df_unbalanced.sexe==1])/len(df_unbalanced))*100\n",
        "  print('Percentage of women in the unbalanced corpus : {0:.2f}\\n'.format(prop))\n",
        "\n",
        "  return df_unbalanced"
      ],
      "execution_count": 0,
      "outputs": []
    },
    {
      "cell_type": "code",
      "metadata": {
        "id": "3IdYJSSRUdD0",
        "colab_type": "code",
        "outputId": "7aec9dfb-d4f6-4bf8-b3be-04e13e2d8660",
        "colab": {
          "base_uri": "https://localhost:8080/",
          "height": 85
        }
      },
      "source": [
        "df_unbalanced = unbalanced_preprocess(df) "
      ],
      "execution_count": 341,
      "outputs": [
        {
          "output_type": "stream",
          "text": [
            "Number of text in the unbalanced corpus : 4998.00\n",
            "\n",
            "Percentage of women in the unbalanced corpus : 25.01\n",
            "\n"
          ],
          "name": "stdout"
        }
      ]
    },
    {
      "cell_type": "code",
      "metadata": {
        "id": "bd4SCY6LUuwY",
        "colab_type": "code",
        "colab": {}
      },
      "source": [
        "def balanced_preprocess(df,seed_val,frac_val):\n",
        "  ''' \n",
        "  This function transforms our unbalanced dataset by deleting male speeches\n",
        "\n",
        "  Input : \n",
        "          df : dataframe\n",
        "          frac_val : fraction of the sample we want (this is mainly here for testing if you want to train your model with less data)\n",
        "\n",
        "  Output : \n",
        "          df_balanced : A balanced version of our dataset with the same proportion of men and women\n",
        "  '''\n",
        "\n",
        "  from sklearn.model_selection import train_test_split\n",
        "\n",
        "  # Let's take a balanced sample \n",
        "  df_m = df.loc[df['sexe'] == 0]\n",
        "  df_f = df.loc[df['sexe'] == 1] \n",
        "  df_m = df_m[0:len(df_f)]\n",
        "  df = df_f.append(df_m)\n",
        "\n",
        "  #Shuffle the data and taking half of the sample in order not to have to many data compared to the other samples \n",
        "  df_balanced=df.sample(frac=frac_val,random_state=seed_val).reset_index()\n",
        "\n",
        "  # Reports the number of speeches in the corpus.\n",
        "  print('Number of text in this corpus : {0:.2f}\\n'.format(df_balanced.shape[0]))\n",
        "\n",
        "  # Reports the percentage of women in the sample \n",
        "  prop = (len(df_balanced[df_balanced.sexe==1])/len(df_balanced))*100\n",
        "  print('Percentage of women in the balanced corpus : {0:.2f}\\n'.format(prop))\n",
        "\n",
        "  return df_balanced\n",
        "\n"
      ],
      "execution_count": 0,
      "outputs": []
    },
    {
      "cell_type": "code",
      "metadata": {
        "id": "UeQif_N0X4uW",
        "colab_type": "code",
        "outputId": "ed2ad203-d262-4ea9-a85b-798eb629f7dd",
        "colab": {
          "base_uri": "https://localhost:8080/",
          "height": 85
        }
      },
      "source": [
        "df_balanced = balanced_preprocess(df,seed_val,frac_val=1)"
      ],
      "execution_count": 343,
      "outputs": [
        {
          "output_type": "stream",
          "text": [
            "Number of text in this corpus : 2500.00\n",
            "\n",
            "Percentage of women in the balanced corpus : 50.00\n",
            "\n"
          ],
          "name": "stdout"
        }
      ]
    },
    {
      "cell_type": "code",
      "metadata": {
        "id": "ZgxCphDnCiPQ",
        "colab_type": "code",
        "colab": {}
      },
      "source": [
        "import pandas as pd\n",
        "def sent_detector_mano(x):\n",
        "    \"\"\"\n",
        "        Détection de phrase à la main.\n",
        "        Input : document\n",
        "        Output : liste de phrases\n",
        "        Problème avec les phrases finissant par : entrainant souvent une liste. \n",
        "        De même avec ;. Tentative réalisée\n",
        "        \n",
        "    \"\"\"\n",
        "    lst =[]\n",
        "    phrase = []\n",
        "    i = 0\n",
        "    for caractere in x: \n",
        "        if not (caractere == ' ' and len(phrase) == 0) :\n",
        "            phrase.append(caractere)\n",
        "        if caractere in '?!.:;':\n",
        "            if caractere == ':':\n",
        "                if x[i+1].isupper() or x[i+2].isupper() or x[i+1] == '-' or x[i+2] == '-':\n",
        "                    lst.append(''.join(phrase))\n",
        "                    phrase = []\n",
        "            if caractere == ';':\n",
        "                if x[i+1].isupper() or x[i+2].isupper() or x[i+1] == '-' or x[i+2] == '-':\n",
        "                    lst.append(''.join(phrase))\n",
        "                    phrase = []\n",
        "            elif phrase != '.' or phrase != '?' or phrase != '!':\n",
        "                lst.append(''.join(phrase))\n",
        "                phrase = []\n",
        "        i+=1\n",
        "    return lst\n",
        "def split_document_to_limit(MAX_TOKENS,df):\n",
        "  lst= []\n",
        "  for index,row in df.iterrows():\n",
        "    identifiant = row.Id\n",
        "    label = row.sexe\n",
        "    phrase = []\n",
        "    for token in row.Texte.split(' '):\n",
        "      if len(phrase) < MAX_TOKENS:\n",
        "        phrase.append(token)\n",
        "      else:\n",
        "        lst += [(identifiant,label,' '.join(phrase),len(phrase))]\n",
        "        phrase = []\n",
        "    if len(phrase)>1:\n",
        "      lst += [(identifiant,label,' '.join(phrase),len(phrase))]\n",
        "  return pd.DataFrame(lst,columns=['index_df','sexe','Texte','Length'])\n",
        "def split_document_to_limit_phrases(MAX_TOKENS,df):\n",
        "  lst= []\n",
        "  for index,row in df.iterrows():\n",
        "    identifiant = row.Id\n",
        "    label = row.sexe\n",
        "    phrase = ''\n",
        "    for phrases in sent_detector_mano(row.Texte):\n",
        "      if len(phrase.split(' ')) + len(phrases.split(' ')) < MAX_TOKENS:\n",
        "        phrase+= \" \" + phrases\n",
        "      else:\n",
        "        lst += [(identifiant,label,phrase,len(phrase.split(' ')))]\n",
        "        phrase = ''\n",
        "    lst += [(identifiant,label,phrase,len(phrase.split(' ')))]\n",
        "    phrase = ''\n",
        "  return pd.DataFrame(lst,columns=['index_df','sexe','Texte','Length'])"
      ],
      "execution_count": 0,
      "outputs": []
    },
    {
      "cell_type": "code",
      "metadata": {
        "id": "g3qnfTDXCwF9",
        "colab_type": "code",
        "colab": {}
      },
      "source": [
        "def  balanced_splitted(df,seed_val,frac_val,max_tokens):\n",
        "  # Let's take a balanced sample \n",
        "  df_m = df.loc[df['sexe'] == 0]\n",
        "  df_f = df.loc[df['sexe'] == 1] \n",
        "  df_m = df_m[0:len(df_f)]\n",
        "  df = df_f.append(df_m)\n",
        "\n",
        "  df=split_document_to_limit(max_tokens,df)\n",
        "\n",
        "  df_balanced_split=df.sample(frac=frac_val,random_state=seed_val).reset_index()\n",
        "\n",
        "  # Report the number of speeches in the corpus.\n",
        "  print('Number of text in this balanced splitted corpus : {:,}\\n'.format(df_balanced_split.shape[0]))\n",
        "  prop = (len(df_balanced_split[df_balanced_split.sexe==1])/len(df_balanced_split))*100\n",
        "  print('Proportions of women in the balanced splitted corpus : {}\\n'.format(prop))\n",
        "\n",
        "  return df_balanced_split"
      ],
      "execution_count": 0,
      "outputs": []
    },
    {
      "cell_type": "code",
      "metadata": {
        "id": "LmEpbT1JYf5-",
        "colab_type": "code",
        "outputId": "ab66d74c-3acb-4906-be83-8cd2bb0b0631",
        "colab": {
          "base_uri": "https://localhost:8080/",
          "height": 85
        }
      },
      "source": [
        "df_balanced_split = balanced_splitted(df,seed_val,frac_val=1,max_tokens=450)"
      ],
      "execution_count": 346,
      "outputs": [
        {
          "output_type": "stream",
          "text": [
            "Number of text in this balanced splitted corpus : 11,330\n",
            "\n",
            "Proportions of women in the balanced splitted corpus : 50.26478375992939\n",
            "\n"
          ],
          "name": "stdout"
        }
      ]
    },
    {
      "cell_type": "markdown",
      "metadata": {
        "id": "ressz8h6OHxn",
        "colab_type": "text"
      },
      "source": [
        "## Tokenization and preparing to feed CamemBERT"
      ]
    },
    {
      "cell_type": "markdown",
      "metadata": {
        "id": "ntpzo9X5SSjA",
        "colab_type": "text"
      },
      "source": [
        "### Loading the Camembert Tokenizer"
      ]
    },
    {
      "cell_type": "code",
      "metadata": {
        "id": "mggkz5R9g8dD",
        "colab_type": "code",
        "colab": {}
      },
      "source": [
        "# Import Camembert tokenizer\n",
        "from transformers import CamembertTokenizer\n",
        "# We choose a right padding side for the moment and we will test for a left padding side on a second stage\n",
        "tokenizer = CamembertTokenizer.from_pretrained('camembert-base', do_lower_case=False,padding_side='right') #left"
      ],
      "execution_count": 0,
      "outputs": []
    },
    {
      "cell_type": "code",
      "metadata": {
        "id": "JoaZUUBChM_J",
        "colab_type": "code",
        "outputId": "a944da9f-409b-474d-b9a2-bfba0de90ccb",
        "colab": {
          "base_uri": "https://localhost:8080/",
          "height": 0
        }
      },
      "source": [
        "# Print the original text.\n",
        "print(' Original: ', df.Texte[0])\n",
        "\n",
        "# Print the text split into tokens.\n",
        "print('Tokenized: ', tokenizer.tokenize(df.Texte[0]))\n",
        "\n",
        "# Print the text mapped to token ids.\n",
        "print('Token IDs: ', tokenizer.convert_tokens_to_ids(tokenizer.tokenize(df.Texte[0])))"
      ],
      "execution_count": 26,
      "outputs": [
        {
          "output_type": "stream",
          "text": [
            " Original:  C'est une grande satisfaction d'être aujourd'hui à Vicenza, pour ce qui est, j'en suis convaincue, une grande étape de la construction de la défense européenne.Avec les progrès spectaculaires de la politique européenne de sécurité et de défense ces dernières années, la sécurité de l'Europe est plus que jamais la responsabilité des Européens. L'Union européenne a également plus que jamais vocation à jouer un rôle majeur dans la résolution des crises internationales.Pour assumer ce rôle, l'Europe se doit de disposer d'instruments adaptés, réactifs, lui permettant d'intervenir à tous les stades d'évolution d'une crise.C'est parce qu'il me paraissait essentiel de donner aux Européens cette capacité, que j'ai proposé à mes homologues la création de la Force de Gendarmerie européenne.De l'expérience que j'ai des théâtres d'opérations extérieurs où sont engagés des militaires français, j'ai pu constater en effet que la gendarmerie est une force particulièrement compétente dans des situations transitoires entre la guerre et la paix.Depuis la signature de la déclaration d'intention aux Pays-Bas en septembre 2004, nous avons beaucoup progressé.L'état-major a aujourd'hui l'expérience d'un an de travail en commun. Il a pu tirer des enseignements d'un premier exercice.Je tiens à le féliciter pour l'ampleur du travail effectué depuis sa mise sur pied, il y a moins d'un an.La qualité des personnels engagés dans cette aventure, leur détermination, me permettent d'être particulièrement confiante dans la capacité de la FGE à relever les défis des mois à venir.Le premier et le plus important de ces défis à venir, c'est l'emploi opérationnel de la FGE.Je souhaite que la FGE soit engagée dès cette année. Il nous faut réfléchir ensemble aux possibles engagements futurs. Pour faciliter cet engagement, la France apportera tout le soutien nécessaire.Le premier déploiement de la FGE se doit d'être une réussite. Il devra de plus être visible, afin de conforter la crédibilité de la défense européenne vis-à-vis de nos partenaires, et de permettre à nos concitoyens de s'associer davantage à notre action.J'ai en effet l'intime conviction que l'avenir de l'Europe repose sur la mise en place de projets concrets, visibles, comme celui qui nous réunit aujourd'hui.C'est ainsi que nous redonnerons aux Européens l'envie d'Europe.C'est ainsi qu'ils s'approprieront la construction de l'Europe de demain : une Europe à l'écoute de leurs besoins et de leurs attentes, une Europe prête à défendre leurs intérêts et leurs valeurs dans le monde.\n",
            "Tokenized:  ['▁C', \"'\", 'est', '▁une', '▁grande', '▁satisfaction', '▁d', \"'\", 'être', '▁aujourd', \"'\", 'hui', '▁à', '▁Vic', 'enza', ',', '▁pour', '▁ce', '▁qui', '▁est', ',', '▁j', \"'\", 'en', '▁suis', '▁convaincue', ',', '▁une', '▁grande', '▁étape', '▁de', '▁la', '▁construction', '▁de', '▁la', '▁défense', '▁européenne', '.', 'Avec', '▁les', '▁progrès', '▁spectaculaires', '▁de', '▁la', '▁politique', '▁européenne', '▁de', '▁sécurité', '▁et', '▁de', '▁défense', '▁ces', '▁dernières', '▁années', ',', '▁la', '▁sécurité', '▁de', '▁l', \"'\", 'Europe', '▁est', '▁plus', '▁que', '▁jamais', '▁la', '▁responsabilité', '▁des', '▁Européens', '.', '▁L', \"'\", 'Union', '▁européenne', '▁a', '▁également', '▁plus', '▁que', '▁jamais', '▁vocation', '▁à', '▁jouer', '▁un', '▁rôle', '▁majeur', '▁dans', '▁la', '▁résolution', '▁des', '▁crises', '▁internationales', '.', 'Pour', '▁assumer', '▁ce', '▁rôle', ',', '▁l', \"'\", 'Europe', '▁se', '▁doit', '▁de', '▁disposer', '▁d', \"'\", 'instrument', 's', '▁adaptés', ',', '▁réactif', 's', ',', '▁lui', '▁permettant', '▁d', \"'\", 'intervenir', '▁à', '▁tous', '▁les', '▁stade', 's', '▁d', \"'\", 'évolution', '▁d', \"'\", 'une', '▁crise', '.', 'C', \"'\", 'est', '▁parce', '▁qu', \"'\", 'il', '▁me', '▁paraissait', '▁essentiel', '▁de', '▁donner', '▁aux', '▁Européens', '▁cette', '▁capacité', ',', '▁que', '▁j', \"'\", 'ai', '▁proposé', '▁à', '▁mes', '▁homologue', 's', '▁la', '▁création', '▁de', '▁la', '▁Force', '▁de', '▁Gendarmerie', '▁européenne', '.', 'De', '▁l', \"'\", 'expérience', '▁que', '▁j', \"'\", 'ai', '▁des', '▁théâtre', 's', '▁d', \"'\", 'opération', 's', '▁extérieurs', '▁où', '▁sont', '▁engagés', '▁des', '▁militaires', '▁français', ',', '▁j', \"'\", 'ai', '▁pu', '▁constater', '▁en', '▁effet', '▁que', '▁la', '▁gendarmerie', '▁est', '▁une', '▁force', '▁', 'particulièrement', '▁compétente', '▁dans', '▁des', '▁situations', '▁transitoire', 's', '▁entre', '▁la', '▁guerre', '▁et', '▁la', '▁paix', '.', 'Depuis', '▁la', '▁signature', '▁de', '▁la', '▁déclaration', '▁d', \"'\", 'intention', '▁aux', '▁Pays', '-', 'Bas', '▁en', '▁septembre', '▁2004,', '▁nous', '▁avons', '▁beaucoup', '▁progressé', '.', 'L', \"'\", 'état', '-', 'major', '▁a', '▁aujourd', \"'\", 'hui', '▁l', \"'\", 'expérience', '▁d', \"'\", 'un', '▁an', '▁de', '▁travail', '▁en', '▁commun', '.', '▁Il', '▁a', '▁pu', '▁tirer', '▁des', '▁enseignements', '▁d', \"'\", 'un', '▁premier', '▁exercice', '.', 'Je', '▁tiens', '▁à', '▁le', '▁féliciter', '▁pour', '▁l', \"'\", 'ampleur', '▁du', '▁travail', '▁effectué', '▁depuis', '▁sa', '▁mise', '▁sur', '▁pied', ',', '▁il', '▁y', '▁a', '▁moins', '▁d', \"'\", 'un', '▁an', '.', 'La', '▁qualité', '▁des', '▁personnels', '▁engagés', '▁dans', '▁cette', '▁aventure', ',', '▁leur', '▁détermination', ',', '▁me', '▁permettent', '▁d', \"'\", 'être', '▁', 'particulièrement', '▁confiant', 'e', '▁dans', '▁la', '▁capacité', '▁de', '▁la', '▁F', 'GE', '▁à', '▁relever', '▁les', '▁défis', '▁des', '▁mois', '▁à', '▁venir', '.', 'Le', '▁premier', '▁et', '▁le', '▁plus', '▁important', '▁de', '▁ces', '▁défis', '▁à', '▁venir', ',', '▁c', \"'\", 'est', '▁l', \"'\", 'emploi', '▁opérationnel', '▁de', '▁la', '▁F', 'GE', '.', 'Je', '▁souhaite', '▁que', '▁la', '▁F', 'GE', '▁soit', '▁engagée', '▁dès', '▁cette', '▁année', '.', '▁Il', '▁nous', '▁faut', '▁réfléchir', '▁ensemble', '▁aux', '▁possibles', '▁engagements', '▁futurs', '.', '▁Pour', '▁faciliter', '▁cet', '▁engagement', ',', '▁la', '▁France', '▁apportera', '▁tout', '▁le', '▁soutien', '▁nécessaire', '.', 'Le', '▁premier', '▁déploiement', '▁de', '▁la', '▁F', 'GE', '▁se', '▁doit', '▁d', \"'\", 'être', '▁une', '▁réussite', '.', '▁Il', '▁devra', '▁de', '▁plus', '▁être', '▁visible', ',', '▁afin', '▁de', '▁confort', 'er', '▁la', '▁crédibilité', '▁de', '▁la', '▁défense', '▁européenne', '▁vis', '-', 'à', '-', 'vis', '▁de', '▁nos', '▁partenaires', ',', '▁et', '▁de', '▁permettre', '▁à', '▁nos', '▁concitoyens', '▁de', '▁s', \"'\", 'associer', '▁davantage', '▁à', '▁notre', '▁action', '.', 'J', \"'\", 'ai', '▁en', '▁effet', '▁l', \"'\", 'in', 'time', '▁conviction', '▁que', '▁l', \"'\", 'avenir', '▁de', '▁l', \"'\", 'Europe', '▁repose', '▁sur', '▁la', '▁mise', '▁en', '▁place', '▁de', '▁projets', '▁concrets', ',', '▁visibles', ',', '▁comme', '▁celui', '▁qui', '▁nous', '▁réunit', '▁aujourd', \"'\", 'hui', '.', 'C', \"'\", 'est', '▁ainsi', '▁que', '▁nous', '▁redonner', 'ons', '▁aux', '▁Européens', '▁l', \"'\", 'envie', '▁d', \"'\", 'Europe', '.', 'C', \"'\", 'est', '▁ainsi', '▁qu', \"'\", 'ils', '▁s', \"'\", 'approprier', 'ont', '▁la', '▁construction', '▁de', '▁l', \"'\", 'Europe', '▁de', '▁demain', '▁:', '▁une', '▁Europe', '▁à', '▁l', \"'\", 'écoute', '▁de', '▁leurs', '▁besoins', '▁et', '▁de', '▁leurs', '▁attentes', ',', '▁une', '▁Europe', '▁prête', '▁à', '▁défendre', '▁leurs', '▁intérêts', '▁et', '▁leurs', '▁valeurs', '▁dans', '▁le', '▁monde', '.']\n",
            "Token IDs:  [84, 11, 41, 28, 293, 4421, 18, 11, 177, 405, 11, 265, 15, 19703, 20895, 7, 24, 44, 31, 30, 7, 76, 11, 90, 146, 21765, 7, 28, 293, 2131, 8, 13, 1015, 8, 13, 1923, 1467, 9, 16995, 19, 4067, 20814, 8, 13, 462, 1467, 8, 548, 14, 8, 1923, 119, 1194, 318, 7, 13, 548, 8, 17, 11, 1354, 30, 40, 27, 283, 13, 1717, 20, 18655, 9, 71, 11, 1906, 1467, 33, 200, 40, 27, 283, 5182, 15, 833, 23, 842, 4329, 29, 13, 3872, 20, 10788, 4343, 9, 5064, 13000, 44, 842, 7, 17, 11, 1354, 48, 279, 8, 5293, 18, 11, 8127, 10, 5159, 7, 20489, 10, 7, 111, 1177, 18, 11, 19349, 15, 117, 19, 2623, 10, 18, 11, 2010, 18, 11, 70, 1662, 9, 228, 11, 41, 398, 46, 11, 62, 103, 16966, 4095, 8, 509, 68, 18655, 78, 1381, 7, 27, 76, 11, 73, 2158, 15, 249, 13919, 10, 13, 708, 8, 13, 6626, 8, 29624, 1467, 9, 4217, 17, 11, 1446, 27, 76, 11, 73, 20, 2120, 10, 18, 11, 3275, 10, 9172, 147, 56, 8780, 20, 3788, 430, 7, 76, 11, 73, 456, 4108, 22, 340, 27, 13, 12839, 30, 28, 794, 21, 937, 11703, 29, 20, 3107, 24863, 10, 128, 13, 775, 14, 13, 1931, 9, 28014, 13, 4186, 8, 13, 3035, 18, 11, 5332, 68, 2211, 26, 6347, 22, 652, 10106, 63, 296, 217, 19274, 9, 370, 11, 1215, 26, 18613, 33, 405, 11, 265, 17, 11, 1446, 18, 11, 59, 674, 8, 225, 22, 1330, 9, 69, 33, 456, 2912, 20, 10665, 18, 11, 59, 246, 5668, 9, 1684, 4069, 15, 16, 18455, 24, 17, 11, 9678, 25, 225, 3782, 176, 77, 375, 32, 942, 7, 51, 102, 33, 175, 18, 11, 59, 674, 9, 1003, 335, 20, 3863, 8780, 29, 78, 3371, 7, 97, 8742, 7, 103, 1270, 18, 11, 177, 21, 937, 13761, 35, 29, 13, 1381, 8, 13, 358, 7525, 15, 5536, 19, 5028, 20, 250, 15, 894, 9, 990, 246, 14, 16, 40, 693, 8, 119, 5028, 15, 894, 7, 60, 11, 41, 17, 11, 1251, 9870, 8, 13, 358, 7525, 9, 1684, 1282, 27, 13, 358, 7525, 191, 8158, 564, 78, 433, 9, 69, 63, 213, 4211, 760, 68, 3491, 7909, 5695, 9, 123, 3039, 280, 3661, 7, 13, 184, 14836, 66, 16, 1237, 885, 9, 990, 246, 9450, 8, 13, 358, 7525, 48, 279, 18, 11, 177, 28, 2431, 9, 69, 2613, 8, 40, 98, 4365, 7, 289, 8, 1440, 108, 13, 17460, 8, 13, 1923, 1467, 1245, 26, 169, 26, 1647, 8, 166, 1626, 7, 14, 8, 1027, 15, 166, 22089, 8, 52, 11, 18969, 1921, 15, 127, 1703, 9, 655, 11, 73, 22, 340, 17, 11, 236, 8449, 11134, 27, 17, 11, 2128, 8, 17, 11, 1354, 4537, 32, 13, 375, 22, 218, 8, 878, 18843, 7, 8508, 7, 79, 330, 31, 63, 8919, 405, 11, 265, 9, 228, 11, 41, 163, 27, 63, 12097, 273, 68, 18655, 17, 11, 4246, 18, 11, 1354, 9, 228, 11, 41, 163, 46, 11, 240, 52, 11, 16933, 263, 13, 1015, 8, 17, 11, 1354, 8, 2385, 43, 28, 1532, 15, 17, 11, 2921, 8, 187, 979, 14, 8, 187, 3306, 7, 28, 1532, 3049, 15, 3773, 187, 2922, 14, 187, 1784, 29, 16, 164, 9]\n"
          ],
          "name": "stdout"
        }
      ]
    },
    {
      "cell_type": "markdown",
      "metadata": {
        "id": "t8yAtMsdR9HB",
        "colab_type": "text"
      },
      "source": [
        "### Preparing to feed the model : adding special tokens, attention masks and transform into tensors\n"
      ]
    },
    {
      "cell_type": "markdown",
      "metadata": {
        "id": "uXlKcUdlYetx",
        "colab_type": "text"
      },
      "source": [
        "Preprocessing steps : \n",
        "\n",
        "\n",
        "1.   **Add special tokens [CLS] [SEP]** \n",
        "\n",
        "According to the documentation we need to add special tokens to the start and end of the text Moreover, for camembert we should add a space between CLS and the first token (not sure here, we have to ask benjamin). \n",
        "\n",
        "2.   **Pad and truncate all texts to a single number**\n",
        "\n",
        "Pretrained transformes like Camembert only accept input of the same length. Our corpus contains large texts and we have to pad them in order to be able to feed Camembert. We will set the max length to a large number in order to get all information possible in the text. We choose a max length of 500 which is almost the maximum (512) \"sentence\" length  accepted. We are aware that this choice will impact a lot training speed.\n",
        "\n",
        "3.   **Construct an attention mask**\n",
        "\n",
        "Attention masks are just set to 1 when the token have to be analyzed and 0 otherwise (padded tokens). All our attention mask should be 1 with this corpus. \n",
        "\n",
        "\n",
        "\n",
        "For sake of simplicity and to avoid errors we will use the function encode_plus of the library which is really convenient. \n",
        "\n"
      ]
    },
    {
      "cell_type": "code",
      "metadata": {
        "id": "VkbqtyqH6V_R",
        "colab_type": "code",
        "outputId": "e01e7953-19f4-4969-d902-477cfc97381c",
        "colab": {
          "base_uri": "https://localhost:8080/",
          "height": 0
        }
      },
      "source": [
        "from torch.utils.data import TensorDataset, random_split\n",
        "from torch.utils.data import DataLoader, RandomSampler, SequentialSampler\n",
        "\n",
        "texts = df_unbalanced.Texte.values\n",
        "labels = df_unbalanced.sexe.values\n",
        "\n",
        "length = 500\n",
        "batch_size_value = 8\n",
        "length_train=0.8\n",
        "torch.manual_seed(2020)\n",
        "torch.cuda.manual_seed_all(2020)\n",
        "\n",
        "# Tokenize all of the sentences and map the tokens to thier word IDs.\n",
        "input_ids = []\n",
        "attention_masks = []\n",
        "num_truncated_tokens =[]\n",
        "# Apply function to our corpus\n",
        "for text in texts:\n",
        "    encoded_dict = tokenizer.encode_plus(\n",
        "                        text,                      # text\n",
        "                        add_special_tokens = True, # Add '[CLS]' and '[SEP]'\n",
        "                        max_length = length,           # We choose for now a max length of 500.\n",
        "                        pad_to_max_length = True,    # Pad text to max (marche pas en pad left ?)\n",
        "                        return_attention_mask = True,   # Construct attention masks\n",
        "                        return_tensors = 'pt',     # Return pytorch tensors.\n",
        "                        return_overflowing_tokens =True, # return overflowing token information\n",
        "                  )\n",
        "    \n",
        "    # Map tokens to their id in the dictionnary \n",
        "    # We add this to our list    \n",
        "    input_ids.append(encoded_dict['input_ids'])\n",
        "\n",
        "    #num_truncated_tokens.append(encoded_dict['num_truncated_tokens'])\n",
        "    \n",
        "    # 3. Attention masks\n",
        "    attention_masks.append(encoded_dict['attention_mask'])\n",
        "\n",
        "# We convert all this into tensors in order to be able to make it work on GPU \n",
        "input_ids = torch.cat(input_ids, dim=0)\n",
        "attention_masks = torch.cat(attention_masks, dim=0)\n",
        "labels = torch.tensor(labels)\n",
        "\n",
        "# Original text and transformed tensor print \n",
        "print(\"Let's check for the first text indexes, attention masks and labels\")\n",
        "print(\" \")\n",
        "print('Original: ', texts[0][0:100])\n",
        "print('IDs:', input_ids[0][0:100])\n",
        "print('Attention masks:', attention_masks[0][0:100])\n",
        "print('labels',labels[0])\n",
        "\n",
        "\n",
        "# Combine all above\n",
        "dataset = TensorDataset(input_ids, attention_masks, labels)\n",
        "\n",
        "# Let's create a 80-20 train / validation dataset \n",
        "train_size = int(length_train * len(dataset))\n",
        "val_size = len(dataset) - train_size\n",
        "\n",
        "train_set, val_set = random_split(dataset, [train_size, val_size])\n",
        "\n",
        "\n",
        "print(\"-------------------------------------------------\")\n",
        "print(\" \")\n",
        "print(\"How many texts do we have in the train and validation sample ? \")\n",
        "print(\" \")\n",
        "print('We have {} training texts'.format(train_size))\n",
        "print('We have {} validation texts'.format(val_size))\n",
        "print(\" \")\n",
        "print(\"-------------------------------------------------\")\n",
        "\n",
        "# We set the size of the batch ( usually set around 16 or 32), we will take the lower bound because of the large text length\n",
        "batch_size = batch_size_value\n",
        "\n",
        "# We create data loaders for the train and validation dataset. \n",
        "train_loader_unbalanced = DataLoader(\n",
        "            train_set,  # The training samples.\n",
        "            sampler = RandomSampler(train_set), # Select batches randomly\n",
        "            batch_size = batch_size # Trains with this batch size.\n",
        "        )\n",
        "\n",
        "val_loader_unbalanced = DataLoader(\n",
        "            val_set, # The validation samples.\n",
        "            sampler = SequentialSampler(val_set), # Pull out batches sequentially.\n",
        "            batch_size = batch_size # Evaluate with this batch size.\n",
        "        )\n",
        "\n",
        "print('Data loaders created for train [0] and val [1]')"
      ],
      "execution_count": 27,
      "outputs": [
        {
          "output_type": "stream",
          "text": [
            "Let's check for the first text indexes, attention masks and labels\n",
            " \n",
            "Original:  C'est une grande satisfaction d'être aujourd'hui à Vicenza, pour ce qui est, j'en suis convaincue, u\n",
            "IDs: tensor([    5,    84,    11,    41,    28,   293,  4421,    18,    11,   177,\n",
            "          405,    11,   265,    15, 19703, 20895,     7,    24,    44,    31,\n",
            "           30,     7,    76,    11,    90,   146, 21765,     7,    28,   293,\n",
            "         2131,     8,    13,  1015,     8,    13,  1923,  1467,     9, 16995,\n",
            "           19,  4067, 20814,     8,    13,   462,  1467,     8,   548,    14,\n",
            "            8,  1923,   119,  1194,   318,     7,    13,   548,     8,    17,\n",
            "           11,  1354,    30,    40,    27,   283,    13,  1717,    20, 18655,\n",
            "            9,    71,    11,  1906,  1467,    33,   200,    40,    27,   283,\n",
            "         5182,    15,   833,    23,   842,  4329,    29,    13,  3872,    20,\n",
            "        10788,  4343,     9,  5064, 13000,    44,   842,     7,    17,    11])\n",
            "Attention masks: tensor([1, 1, 1, 1, 1, 1, 1, 1, 1, 1, 1, 1, 1, 1, 1, 1, 1, 1, 1, 1, 1, 1, 1, 1,\n",
            "        1, 1, 1, 1, 1, 1, 1, 1, 1, 1, 1, 1, 1, 1, 1, 1, 1, 1, 1, 1, 1, 1, 1, 1,\n",
            "        1, 1, 1, 1, 1, 1, 1, 1, 1, 1, 1, 1, 1, 1, 1, 1, 1, 1, 1, 1, 1, 1, 1, 1,\n",
            "        1, 1, 1, 1, 1, 1, 1, 1, 1, 1, 1, 1, 1, 1, 1, 1, 1, 1, 1, 1, 1, 1, 1, 1,\n",
            "        1, 1, 1, 1])\n",
            "labels tensor(1)\n",
            "-------------------------------------------------\n",
            " \n",
            "How many texts do we have in the train and validation sample ? \n",
            " \n",
            "We have 3998 training texts\n",
            "We have 1000 validation texts\n",
            " \n",
            "-------------------------------------------------\n",
            "Data loaders created for train [0] and val [1]\n"
          ],
          "name": "stdout"
        }
      ]
    },
    {
      "cell_type": "code",
      "metadata": {
        "id": "rnLKzstr6ghY",
        "colab_type": "code",
        "outputId": "d1afe20c-b81a-46d3-ef6a-18e3acb8d0bf",
        "colab": {
          "base_uri": "https://localhost:8080/",
          "height": 0
        }
      },
      "source": [
        "from torch.utils.data import TensorDataset, random_split\n",
        "from torch.utils.data import DataLoader, RandomSampler, SequentialSampler\n",
        "\n",
        "texts = df_balanced.Texte.values\n",
        "labels = df_balanced.sexe.values\n",
        "length = 500\n",
        "batch_size_value = 8\n",
        "length_train=0.8\n",
        "torch.manual_seed(2020)\n",
        "torch.cuda.manual_seed_all(2020)\n",
        "\n",
        "# Tokenize all of the sentences and map the tokens to thier word IDs.\n",
        "input_ids = []\n",
        "attention_masks = []\n",
        "num_truncated_tokens =[]\n",
        "# Apply function to our corpus\n",
        "for text in texts:\n",
        "    encoded_dict = tokenizer.encode_plus(\n",
        "                        text,                      # text\n",
        "                        add_special_tokens = True, # Add '[CLS]' and '[SEP]'\n",
        "                        max_length = length,           # We choose for now a max length of 500.\n",
        "                        pad_to_max_length = True,    # Pad text to max (marche pas en pad left ?)\n",
        "                        return_attention_mask = True,   # Construct attention masks\n",
        "                        return_tensors = 'pt',     # Return pytorch tensors.\n",
        "                        return_overflowing_tokens =True, # return overflowing token information\n",
        "                  )\n",
        "    \n",
        "    # Map tokens to their id in the dictionnary \n",
        "    # We add this to our list    \n",
        "    input_ids.append(encoded_dict['input_ids'])\n",
        "\n",
        "    #num_truncated_tokens.append(encoded_dict['num_truncated_tokens'])\n",
        "    \n",
        "    # 3. Attention masks\n",
        "    attention_masks.append(encoded_dict['attention_mask'])\n",
        "\n",
        "# We convert all this into tensors in order to be able to make it work on GPU \n",
        "input_ids = torch.cat(input_ids, dim=0)\n",
        "attention_masks = torch.cat(attention_masks, dim=0)\n",
        "labels = torch.tensor(labels)\n",
        "\n",
        "# Original text and transformed tensor print \n",
        "print(\"Let's check for the first text indexes, attention masks and labels\")\n",
        "print(\" \")\n",
        "print('Original: ', texts[0][0:100])\n",
        "print('IDs:', input_ids[0][0:100])\n",
        "print('Attention masks:', attention_masks[0][0:100])\n",
        "print('labels',labels[0])\n",
        "\n",
        "\n",
        "# Combine all above\n",
        "dataset = TensorDataset(input_ids, attention_masks, labels)\n",
        "\n",
        "# Let's create a 80-20 train / validation dataset \n",
        "train_size = int(length_train * len(dataset))\n",
        "val_size = len(dataset) - train_size\n",
        "\n",
        "train_set, val_set = random_split(dataset, [train_size, val_size])\n",
        "\n",
        "\n",
        "print(\"-------------------------------------------------\")\n",
        "print(\" \")\n",
        "print(\"How many texts do we have in the train and validation sample ? \")\n",
        "print(\" \")\n",
        "print('We have {} training texts'.format(train_size))\n",
        "print('We have {} validation texts'.format(val_size))\n",
        "print(\" \")\n",
        "print(\"-------------------------------------------------\")\n",
        "\n",
        "# We set the size of the batch ( usually set around 16 or 32), we will take the lower bound because of the large text length\n",
        "batch_size = batch_size_value\n",
        "\n",
        "# We create data loaders for the train and validation dataset. \n",
        "train_loader_balanced = DataLoader(\n",
        "            train_set,  # The training samples.\n",
        "            sampler = RandomSampler(train_set), # Select batches randomly\n",
        "            batch_size = batch_size # Trains with this batch size.\n",
        "        )\n",
        "\n",
        "val_loader_balanced = DataLoader(\n",
        "            val_set, # The validation samples.\n",
        "            sampler = SequentialSampler(val_set), # Pull out batches sequentially.\n",
        "            batch_size = batch_size # Evaluate with this batch size.\n",
        "        )\n",
        "\n",
        "print('Data loaders created for train [0] and val [1]')"
      ],
      "execution_count": 28,
      "outputs": [
        {
          "output_type": "stream",
          "text": [
            "Let's check for the first text indexes, attention masks and labels\n",
            " \n",
            "Original:  Depuis 18 mois, le Parti socialiste -principale force de la majorité plurielle soutient un gouvernem\n",
            "IDs: tensor([    5,   795,   301,   250,     7,    16,  3623,  7264,    67,   286,\n",
            "         3130,  6590,  1387,   794,     8,    13,  1651, 22769,   144,  7438,\n",
            "           23,   754,    31,  5874,  4953,    15,    89,  7909,     7,   410,\n",
            "           37,   459,    68,   303,  1964, 14999,    22,  5985,    43,  2238,\n",
            "            7,  1746,  1039,     7, 16105, 10793,     9,   243,    13,   259,\n",
            "            8,    17,    11,   520, 15480,    19,  1154,   820,    56,  8448,\n",
            "           10,   167,    99,    72,    37,   459,    68,  4937,    18,    11,\n",
            "        11534,    38, 23095,   624,   142,    15,    13,  8390,    25,  4103,\n",
            "            7,    37,   459,    15,    13,  1746,  1039,   154,    14,    13,\n",
            "         1074,    20,  1455,    22,   474,    26,  2835,   630,  1910,     9])\n",
            "Attention masks: tensor([1, 1, 1, 1, 1, 1, 1, 1, 1, 1, 1, 1, 1, 1, 1, 1, 1, 1, 1, 1, 1, 1, 1, 1,\n",
            "        1, 1, 1, 1, 1, 1, 1, 1, 1, 1, 1, 1, 1, 1, 1, 1, 1, 1, 1, 1, 1, 1, 1, 1,\n",
            "        1, 1, 1, 1, 1, 1, 1, 1, 1, 1, 1, 1, 1, 1, 1, 1, 1, 1, 1, 1, 1, 1, 1, 1,\n",
            "        1, 1, 1, 1, 1, 1, 1, 1, 1, 1, 1, 1, 1, 1, 1, 1, 1, 1, 1, 1, 1, 1, 1, 1,\n",
            "        1, 1, 1, 1])\n",
            "labels tensor(0)\n",
            "-------------------------------------------------\n",
            " \n",
            "How many texts do we have in the train and validation sample ? \n",
            " \n",
            "We have 2000 training texts\n",
            "We have 500 validation texts\n",
            " \n",
            "-------------------------------------------------\n",
            "Data loaders created for train [0] and val [1]\n"
          ],
          "name": "stdout"
        }
      ]
    },
    {
      "cell_type": "code",
      "metadata": {
        "id": "4FBZvaQ969S0",
        "colab_type": "code",
        "outputId": "e7423447-6543-4e26-efe1-c4d08c330c38",
        "colab": {
          "base_uri": "https://localhost:8080/",
          "height": 0
        }
      },
      "source": [
        "from torch.utils.data import TensorDataset, random_split\n",
        "from torch.utils.data import DataLoader, RandomSampler, SequentialSampler\n",
        "\n",
        "texts = df_balanced_split.Texte.values \n",
        "labels = df_balanced_split.sexe.values\n",
        "\n",
        "torch.manual_seed(2020)\n",
        "torch.cuda.manual_seed_all(2020)\n",
        "length = 500\n",
        "batch_size_value = 8\n",
        "length_train=0.8\n",
        "\n",
        "# Tokenize all of the sentences and map the tokens to thier word IDs.\n",
        "input_ids = []\n",
        "attention_masks = []\n",
        "num_truncated_tokens =[]\n",
        "# Apply function to our corpus\n",
        "for text in texts:\n",
        "    encoded_dict = tokenizer.encode_plus(\n",
        "                        text,                      # text\n",
        "                        add_special_tokens = True, # Add '[CLS]' and '[SEP]'\n",
        "                        max_length = length,           # We choose for now a max length of 500.\n",
        "                        pad_to_max_length = True,    # Pad text to max (marche pas en pad left ?)\n",
        "                        return_attention_mask = True,   # Construct attention masks\n",
        "                        return_tensors = 'pt',     # Return pytorch tensors.\n",
        "                        return_overflowing_tokens =True, # return overflowing token information\n",
        "                  )\n",
        "    \n",
        "    # Map tokens to their id in the dictionnary \n",
        "    # We add this to our list    \n",
        "    input_ids.append(encoded_dict['input_ids'])\n",
        "\n",
        "    #num_truncated_tokens.append(encoded_dict['num_truncated_tokens'])\n",
        "    \n",
        "    # 3. Attention masks\n",
        "    attention_masks.append(encoded_dict['attention_mask'])\n",
        "\n",
        "# We convert all this into tensors in order to be able to make it work on GPU \n",
        "input_ids = torch.cat(input_ids, dim=0)\n",
        "attention_masks = torch.cat(attention_masks, dim=0)\n",
        "labels = torch.tensor(labels)\n",
        "\n",
        "# Original text and transformed tensor print \n",
        "print(\"Let's check for the first text indexes, attention masks and labels\")\n",
        "print(\" \")\n",
        "print('Original: ', texts[0][0:100])\n",
        "print('IDs:', input_ids[0][0:100])\n",
        "print('Attention masks:', attention_masks[0][0:100])\n",
        "print('labels',labels[0])\n",
        "\n",
        "# Combine all above\n",
        "dataset = TensorDataset(input_ids, attention_masks, labels)\n",
        "\n",
        "# Let's create a 80-20 train / validation dataset \n",
        "train_size = int(length_train * len(dataset))\n",
        "val_size = len(dataset) - train_size\n",
        "\n",
        "train_set, val_set = random_split(dataset, [train_size, val_size])\n",
        "\n",
        "\n",
        "print(\"-------------------------------------------------\")\n",
        "print(\" \")\n",
        "print(\"How many texts do we have in the train and validation sample ? \")\n",
        "print(\" \")\n",
        "print('We have {} training texts'.format(train_size))\n",
        "print('We have {} validation texts'.format(val_size))\n",
        "print(\" \")\n",
        "print(\"-------------------------------------------------\")\n",
        "\n",
        "# We set the size of the batch ( usually set around 16 or 32), we will take the lower bound because of the large text length\n",
        "batch_size = batch_size_value\n",
        "\n",
        "# We create data loaders for the train and validation dataset. \n",
        "train_loader_balanced_split = DataLoader(\n",
        "            train_set,  # The training samples.\n",
        "            sampler = RandomSampler(train_set), # Select batches randomly\n",
        "            batch_size = batch_size # Trains with this batch size.\n",
        "        )\n",
        "\n",
        "val_loader_balanced_split = DataLoader(\n",
        "            val_set, # The validation samples.\n",
        "            sampler = SequentialSampler(val_set), # Pull out batches sequentially.\n",
        "            batch_size = batch_size # Evaluate with this batch size.\n",
        "        )\n",
        "\n",
        "print('Data loaders created for train [0] and val [1]')"
      ],
      "execution_count": 29,
      "outputs": [
        {
          "output_type": "stream",
          "text": [
            "Let's check for the first text indexes, attention masks and labels\n",
            " \n",
            "Original:  Chers amis, [1]C'est avec un grand plaisir que je me trouve aujourd'hui parmi vous sur l'île aux fle\n",
            "IDs: tensor([    5,  3696,    10,   784,     7, 12602,   228,    11,    41,    42,\n",
            "           23,   221,   593,    27,    50,   103,   396,   405,    11,   265,\n",
            "          865,    39,    32,    17,    11,  2180,    68,  2080,    24,    17,\n",
            "           11, 14449,   376,  9994,     8,   280,   760, 18359,    26, 12477,\n",
            "        18722,    32,    23,   428,   132,     7,   323,    15,   275,   144,\n",
            "         2896,     9, 31609,    16,  1850,     7,   895,     8,    78,  7030,\n",
            "           27,    13, 11907,    18,    11,  1184,    15,    13,  3834,    49,\n",
            "           11,    55,    34,   331,     8,   295,    15,  3860,    14,   174,\n",
            "           17,    11, 11573,    35,    25,  1424,    25,  1304,    27,    50,\n",
            "          146,    52,    11,    41, 13846,   173,    22,    22,   376,    27])\n",
            "Attention masks: tensor([1, 1, 1, 1, 1, 1, 1, 1, 1, 1, 1, 1, 1, 1, 1, 1, 1, 1, 1, 1, 1, 1, 1, 1,\n",
            "        1, 1, 1, 1, 1, 1, 1, 1, 1, 1, 1, 1, 1, 1, 1, 1, 1, 1, 1, 1, 1, 1, 1, 1,\n",
            "        1, 1, 1, 1, 1, 1, 1, 1, 1, 1, 1, 1, 1, 1, 1, 1, 1, 1, 1, 1, 1, 1, 1, 1,\n",
            "        1, 1, 1, 1, 1, 1, 1, 1, 1, 1, 1, 1, 1, 1, 1, 1, 1, 1, 1, 1, 1, 1, 1, 1,\n",
            "        1, 1, 1, 1])\n",
            "labels tensor(1)\n",
            "-------------------------------------------------\n",
            " \n",
            "How many texts do we have in the train and validation sample ? \n",
            " \n",
            "We have 9064 training texts\n",
            "We have 2266 validation texts\n",
            " \n",
            "-------------------------------------------------\n",
            "Data loaders created for train [0] and val [1]\n"
          ],
          "name": "stdout"
        }
      ]
    },
    {
      "cell_type": "markdown",
      "metadata": {
        "id": "vs6YDmQsgljf",
        "colab_type": "text"
      },
      "source": [
        "5 and 6 seem to be the [CLS] and [SEP] special tokens \n"
      ]
    },
    {
      "cell_type": "markdown",
      "metadata": {
        "id": "poTTEJX1hoUK",
        "colab_type": "text"
      },
      "source": [
        "## CamemBERT Sequence Classification model tuning\n"
      ]
    },
    {
      "cell_type": "markdown",
      "metadata": {
        "id": "NN1VeJI0lDwf",
        "colab_type": "text"
      },
      "source": [
        "### Loading the model\n"
      ]
    },
    {
      "cell_type": "markdown",
      "metadata": {
        "id": "99MPOVB7iRcl",
        "colab_type": "text"
      },
      "source": [
        "We will finally build up our model. We will use the  CamemBERT model for sequence classification which includes a special top layer designed for this task. "
      ]
    },
    {
      "cell_type": "code",
      "metadata": {
        "id": "XRHhHzjKgAC6",
        "colab_type": "code",
        "colab": {}
      },
      "source": [
        "# Importing from transformers\n",
        "from transformers import CamembertForSequenceClassification, CamembertConfig"
      ],
      "execution_count": 0,
      "outputs": []
    },
    {
      "cell_type": "code",
      "metadata": {
        "id": "FHMdM-QqgAAX",
        "colab_type": "code",
        "colab": {}
      },
      "source": [
        "# Loading the model\n",
        "gender_model = CamembertForSequenceClassification.from_pretrained(\n",
        "    \"camembert-base\", \n",
        "    num_labels = 2, # We have two different labels Women = 1 and Men =0   \n",
        "    output_attentions = False, \n",
        "    output_hidden_states = False, \n",
        ")"
      ],
      "execution_count": 0,
      "outputs": []
    },
    {
      "cell_type": "code",
      "metadata": {
        "id": "vUKynoykf_9y",
        "colab_type": "code",
        "outputId": "38956e42-e949-4b2f-92f8-bfd2a87dca3b",
        "colab": {
          "base_uri": "https://localhost:8080/",
          "height": 0
        }
      },
      "source": [
        "# We run the model on the colab GPU \n",
        "gender_model.cuda()"
      ],
      "execution_count": 32,
      "outputs": [
        {
          "output_type": "execute_result",
          "data": {
            "text/plain": [
              "CamembertForSequenceClassification(\n",
              "  (roberta): RobertaModel(\n",
              "    (embeddings): RobertaEmbeddings(\n",
              "      (word_embeddings): Embedding(32005, 768, padding_idx=1)\n",
              "      (position_embeddings): Embedding(514, 768, padding_idx=1)\n",
              "      (token_type_embeddings): Embedding(1, 768)\n",
              "      (LayerNorm): LayerNorm((768,), eps=1e-05, elementwise_affine=True)\n",
              "      (dropout): Dropout(p=0.1, inplace=False)\n",
              "    )\n",
              "    (encoder): BertEncoder(\n",
              "      (layer): ModuleList(\n",
              "        (0): BertLayer(\n",
              "          (attention): BertAttention(\n",
              "            (self): BertSelfAttention(\n",
              "              (query): Linear(in_features=768, out_features=768, bias=True)\n",
              "              (key): Linear(in_features=768, out_features=768, bias=True)\n",
              "              (value): Linear(in_features=768, out_features=768, bias=True)\n",
              "              (dropout): Dropout(p=0.1, inplace=False)\n",
              "            )\n",
              "            (output): BertSelfOutput(\n",
              "              (dense): Linear(in_features=768, out_features=768, bias=True)\n",
              "              (LayerNorm): LayerNorm((768,), eps=1e-05, elementwise_affine=True)\n",
              "              (dropout): Dropout(p=0.1, inplace=False)\n",
              "            )\n",
              "          )\n",
              "          (intermediate): BertIntermediate(\n",
              "            (dense): Linear(in_features=768, out_features=3072, bias=True)\n",
              "          )\n",
              "          (output): BertOutput(\n",
              "            (dense): Linear(in_features=3072, out_features=768, bias=True)\n",
              "            (LayerNorm): LayerNorm((768,), eps=1e-05, elementwise_affine=True)\n",
              "            (dropout): Dropout(p=0.1, inplace=False)\n",
              "          )\n",
              "        )\n",
              "        (1): BertLayer(\n",
              "          (attention): BertAttention(\n",
              "            (self): BertSelfAttention(\n",
              "              (query): Linear(in_features=768, out_features=768, bias=True)\n",
              "              (key): Linear(in_features=768, out_features=768, bias=True)\n",
              "              (value): Linear(in_features=768, out_features=768, bias=True)\n",
              "              (dropout): Dropout(p=0.1, inplace=False)\n",
              "            )\n",
              "            (output): BertSelfOutput(\n",
              "              (dense): Linear(in_features=768, out_features=768, bias=True)\n",
              "              (LayerNorm): LayerNorm((768,), eps=1e-05, elementwise_affine=True)\n",
              "              (dropout): Dropout(p=0.1, inplace=False)\n",
              "            )\n",
              "          )\n",
              "          (intermediate): BertIntermediate(\n",
              "            (dense): Linear(in_features=768, out_features=3072, bias=True)\n",
              "          )\n",
              "          (output): BertOutput(\n",
              "            (dense): Linear(in_features=3072, out_features=768, bias=True)\n",
              "            (LayerNorm): LayerNorm((768,), eps=1e-05, elementwise_affine=True)\n",
              "            (dropout): Dropout(p=0.1, inplace=False)\n",
              "          )\n",
              "        )\n",
              "        (2): BertLayer(\n",
              "          (attention): BertAttention(\n",
              "            (self): BertSelfAttention(\n",
              "              (query): Linear(in_features=768, out_features=768, bias=True)\n",
              "              (key): Linear(in_features=768, out_features=768, bias=True)\n",
              "              (value): Linear(in_features=768, out_features=768, bias=True)\n",
              "              (dropout): Dropout(p=0.1, inplace=False)\n",
              "            )\n",
              "            (output): BertSelfOutput(\n",
              "              (dense): Linear(in_features=768, out_features=768, bias=True)\n",
              "              (LayerNorm): LayerNorm((768,), eps=1e-05, elementwise_affine=True)\n",
              "              (dropout): Dropout(p=0.1, inplace=False)\n",
              "            )\n",
              "          )\n",
              "          (intermediate): BertIntermediate(\n",
              "            (dense): Linear(in_features=768, out_features=3072, bias=True)\n",
              "          )\n",
              "          (output): BertOutput(\n",
              "            (dense): Linear(in_features=3072, out_features=768, bias=True)\n",
              "            (LayerNorm): LayerNorm((768,), eps=1e-05, elementwise_affine=True)\n",
              "            (dropout): Dropout(p=0.1, inplace=False)\n",
              "          )\n",
              "        )\n",
              "        (3): BertLayer(\n",
              "          (attention): BertAttention(\n",
              "            (self): BertSelfAttention(\n",
              "              (query): Linear(in_features=768, out_features=768, bias=True)\n",
              "              (key): Linear(in_features=768, out_features=768, bias=True)\n",
              "              (value): Linear(in_features=768, out_features=768, bias=True)\n",
              "              (dropout): Dropout(p=0.1, inplace=False)\n",
              "            )\n",
              "            (output): BertSelfOutput(\n",
              "              (dense): Linear(in_features=768, out_features=768, bias=True)\n",
              "              (LayerNorm): LayerNorm((768,), eps=1e-05, elementwise_affine=True)\n",
              "              (dropout): Dropout(p=0.1, inplace=False)\n",
              "            )\n",
              "          )\n",
              "          (intermediate): BertIntermediate(\n",
              "            (dense): Linear(in_features=768, out_features=3072, bias=True)\n",
              "          )\n",
              "          (output): BertOutput(\n",
              "            (dense): Linear(in_features=3072, out_features=768, bias=True)\n",
              "            (LayerNorm): LayerNorm((768,), eps=1e-05, elementwise_affine=True)\n",
              "            (dropout): Dropout(p=0.1, inplace=False)\n",
              "          )\n",
              "        )\n",
              "        (4): BertLayer(\n",
              "          (attention): BertAttention(\n",
              "            (self): BertSelfAttention(\n",
              "              (query): Linear(in_features=768, out_features=768, bias=True)\n",
              "              (key): Linear(in_features=768, out_features=768, bias=True)\n",
              "              (value): Linear(in_features=768, out_features=768, bias=True)\n",
              "              (dropout): Dropout(p=0.1, inplace=False)\n",
              "            )\n",
              "            (output): BertSelfOutput(\n",
              "              (dense): Linear(in_features=768, out_features=768, bias=True)\n",
              "              (LayerNorm): LayerNorm((768,), eps=1e-05, elementwise_affine=True)\n",
              "              (dropout): Dropout(p=0.1, inplace=False)\n",
              "            )\n",
              "          )\n",
              "          (intermediate): BertIntermediate(\n",
              "            (dense): Linear(in_features=768, out_features=3072, bias=True)\n",
              "          )\n",
              "          (output): BertOutput(\n",
              "            (dense): Linear(in_features=3072, out_features=768, bias=True)\n",
              "            (LayerNorm): LayerNorm((768,), eps=1e-05, elementwise_affine=True)\n",
              "            (dropout): Dropout(p=0.1, inplace=False)\n",
              "          )\n",
              "        )\n",
              "        (5): BertLayer(\n",
              "          (attention): BertAttention(\n",
              "            (self): BertSelfAttention(\n",
              "              (query): Linear(in_features=768, out_features=768, bias=True)\n",
              "              (key): Linear(in_features=768, out_features=768, bias=True)\n",
              "              (value): Linear(in_features=768, out_features=768, bias=True)\n",
              "              (dropout): Dropout(p=0.1, inplace=False)\n",
              "            )\n",
              "            (output): BertSelfOutput(\n",
              "              (dense): Linear(in_features=768, out_features=768, bias=True)\n",
              "              (LayerNorm): LayerNorm((768,), eps=1e-05, elementwise_affine=True)\n",
              "              (dropout): Dropout(p=0.1, inplace=False)\n",
              "            )\n",
              "          )\n",
              "          (intermediate): BertIntermediate(\n",
              "            (dense): Linear(in_features=768, out_features=3072, bias=True)\n",
              "          )\n",
              "          (output): BertOutput(\n",
              "            (dense): Linear(in_features=3072, out_features=768, bias=True)\n",
              "            (LayerNorm): LayerNorm((768,), eps=1e-05, elementwise_affine=True)\n",
              "            (dropout): Dropout(p=0.1, inplace=False)\n",
              "          )\n",
              "        )\n",
              "        (6): BertLayer(\n",
              "          (attention): BertAttention(\n",
              "            (self): BertSelfAttention(\n",
              "              (query): Linear(in_features=768, out_features=768, bias=True)\n",
              "              (key): Linear(in_features=768, out_features=768, bias=True)\n",
              "              (value): Linear(in_features=768, out_features=768, bias=True)\n",
              "              (dropout): Dropout(p=0.1, inplace=False)\n",
              "            )\n",
              "            (output): BertSelfOutput(\n",
              "              (dense): Linear(in_features=768, out_features=768, bias=True)\n",
              "              (LayerNorm): LayerNorm((768,), eps=1e-05, elementwise_affine=True)\n",
              "              (dropout): Dropout(p=0.1, inplace=False)\n",
              "            )\n",
              "          )\n",
              "          (intermediate): BertIntermediate(\n",
              "            (dense): Linear(in_features=768, out_features=3072, bias=True)\n",
              "          )\n",
              "          (output): BertOutput(\n",
              "            (dense): Linear(in_features=3072, out_features=768, bias=True)\n",
              "            (LayerNorm): LayerNorm((768,), eps=1e-05, elementwise_affine=True)\n",
              "            (dropout): Dropout(p=0.1, inplace=False)\n",
              "          )\n",
              "        )\n",
              "        (7): BertLayer(\n",
              "          (attention): BertAttention(\n",
              "            (self): BertSelfAttention(\n",
              "              (query): Linear(in_features=768, out_features=768, bias=True)\n",
              "              (key): Linear(in_features=768, out_features=768, bias=True)\n",
              "              (value): Linear(in_features=768, out_features=768, bias=True)\n",
              "              (dropout): Dropout(p=0.1, inplace=False)\n",
              "            )\n",
              "            (output): BertSelfOutput(\n",
              "              (dense): Linear(in_features=768, out_features=768, bias=True)\n",
              "              (LayerNorm): LayerNorm((768,), eps=1e-05, elementwise_affine=True)\n",
              "              (dropout): Dropout(p=0.1, inplace=False)\n",
              "            )\n",
              "          )\n",
              "          (intermediate): BertIntermediate(\n",
              "            (dense): Linear(in_features=768, out_features=3072, bias=True)\n",
              "          )\n",
              "          (output): BertOutput(\n",
              "            (dense): Linear(in_features=3072, out_features=768, bias=True)\n",
              "            (LayerNorm): LayerNorm((768,), eps=1e-05, elementwise_affine=True)\n",
              "            (dropout): Dropout(p=0.1, inplace=False)\n",
              "          )\n",
              "        )\n",
              "        (8): BertLayer(\n",
              "          (attention): BertAttention(\n",
              "            (self): BertSelfAttention(\n",
              "              (query): Linear(in_features=768, out_features=768, bias=True)\n",
              "              (key): Linear(in_features=768, out_features=768, bias=True)\n",
              "              (value): Linear(in_features=768, out_features=768, bias=True)\n",
              "              (dropout): Dropout(p=0.1, inplace=False)\n",
              "            )\n",
              "            (output): BertSelfOutput(\n",
              "              (dense): Linear(in_features=768, out_features=768, bias=True)\n",
              "              (LayerNorm): LayerNorm((768,), eps=1e-05, elementwise_affine=True)\n",
              "              (dropout): Dropout(p=0.1, inplace=False)\n",
              "            )\n",
              "          )\n",
              "          (intermediate): BertIntermediate(\n",
              "            (dense): Linear(in_features=768, out_features=3072, bias=True)\n",
              "          )\n",
              "          (output): BertOutput(\n",
              "            (dense): Linear(in_features=3072, out_features=768, bias=True)\n",
              "            (LayerNorm): LayerNorm((768,), eps=1e-05, elementwise_affine=True)\n",
              "            (dropout): Dropout(p=0.1, inplace=False)\n",
              "          )\n",
              "        )\n",
              "        (9): BertLayer(\n",
              "          (attention): BertAttention(\n",
              "            (self): BertSelfAttention(\n",
              "              (query): Linear(in_features=768, out_features=768, bias=True)\n",
              "              (key): Linear(in_features=768, out_features=768, bias=True)\n",
              "              (value): Linear(in_features=768, out_features=768, bias=True)\n",
              "              (dropout): Dropout(p=0.1, inplace=False)\n",
              "            )\n",
              "            (output): BertSelfOutput(\n",
              "              (dense): Linear(in_features=768, out_features=768, bias=True)\n",
              "              (LayerNorm): LayerNorm((768,), eps=1e-05, elementwise_affine=True)\n",
              "              (dropout): Dropout(p=0.1, inplace=False)\n",
              "            )\n",
              "          )\n",
              "          (intermediate): BertIntermediate(\n",
              "            (dense): Linear(in_features=768, out_features=3072, bias=True)\n",
              "          )\n",
              "          (output): BertOutput(\n",
              "            (dense): Linear(in_features=3072, out_features=768, bias=True)\n",
              "            (LayerNorm): LayerNorm((768,), eps=1e-05, elementwise_affine=True)\n",
              "            (dropout): Dropout(p=0.1, inplace=False)\n",
              "          )\n",
              "        )\n",
              "        (10): BertLayer(\n",
              "          (attention): BertAttention(\n",
              "            (self): BertSelfAttention(\n",
              "              (query): Linear(in_features=768, out_features=768, bias=True)\n",
              "              (key): Linear(in_features=768, out_features=768, bias=True)\n",
              "              (value): Linear(in_features=768, out_features=768, bias=True)\n",
              "              (dropout): Dropout(p=0.1, inplace=False)\n",
              "            )\n",
              "            (output): BertSelfOutput(\n",
              "              (dense): Linear(in_features=768, out_features=768, bias=True)\n",
              "              (LayerNorm): LayerNorm((768,), eps=1e-05, elementwise_affine=True)\n",
              "              (dropout): Dropout(p=0.1, inplace=False)\n",
              "            )\n",
              "          )\n",
              "          (intermediate): BertIntermediate(\n",
              "            (dense): Linear(in_features=768, out_features=3072, bias=True)\n",
              "          )\n",
              "          (output): BertOutput(\n",
              "            (dense): Linear(in_features=3072, out_features=768, bias=True)\n",
              "            (LayerNorm): LayerNorm((768,), eps=1e-05, elementwise_affine=True)\n",
              "            (dropout): Dropout(p=0.1, inplace=False)\n",
              "          )\n",
              "        )\n",
              "        (11): BertLayer(\n",
              "          (attention): BertAttention(\n",
              "            (self): BertSelfAttention(\n",
              "              (query): Linear(in_features=768, out_features=768, bias=True)\n",
              "              (key): Linear(in_features=768, out_features=768, bias=True)\n",
              "              (value): Linear(in_features=768, out_features=768, bias=True)\n",
              "              (dropout): Dropout(p=0.1, inplace=False)\n",
              "            )\n",
              "            (output): BertSelfOutput(\n",
              "              (dense): Linear(in_features=768, out_features=768, bias=True)\n",
              "              (LayerNorm): LayerNorm((768,), eps=1e-05, elementwise_affine=True)\n",
              "              (dropout): Dropout(p=0.1, inplace=False)\n",
              "            )\n",
              "          )\n",
              "          (intermediate): BertIntermediate(\n",
              "            (dense): Linear(in_features=768, out_features=3072, bias=True)\n",
              "          )\n",
              "          (output): BertOutput(\n",
              "            (dense): Linear(in_features=3072, out_features=768, bias=True)\n",
              "            (LayerNorm): LayerNorm((768,), eps=1e-05, elementwise_affine=True)\n",
              "            (dropout): Dropout(p=0.1, inplace=False)\n",
              "          )\n",
              "        )\n",
              "      )\n",
              "    )\n",
              "    (pooler): BertPooler(\n",
              "      (dense): Linear(in_features=768, out_features=768, bias=True)\n",
              "      (activation): Tanh()\n",
              "    )\n",
              "  )\n",
              "  (classifier): RobertaClassificationHead(\n",
              "    (dense): Linear(in_features=768, out_features=768, bias=True)\n",
              "    (dropout): Dropout(p=0.1, inplace=False)\n",
              "    (out_proj): Linear(in_features=768, out_features=2, bias=True)\n",
              "  )\n",
              ")"
            ]
          },
          "metadata": {
            "tags": []
          },
          "execution_count": 32
        }
      ]
    },
    {
      "cell_type": "markdown",
      "metadata": {
        "id": "sgwmHirxnEie",
        "colab_type": "text"
      },
      "source": [
        "### Constructing the training and validation loop \n"
      ]
    },
    {
      "cell_type": "code",
      "metadata": {
        "id": "pZDt2ZElwcJh",
        "colab_type": "code",
        "colab": {}
      },
      "source": [
        "import numpy as np\n",
        "\n",
        "from sklearn.metrics import f1_score \n",
        "\n",
        "def create_report(labels,preds) : \n",
        "  pred_flat= np.argmax(preds, axis=1).flatten()\n",
        "  labels_flat = labels.flatten()\n",
        "  F1_score = f1_score(labels_flat,pred_flat,zero_division=1)\n",
        "  Accuracy = np.sum(pred_flat == labels_flat) / len(labels_flat)\n",
        "  return F1_score, Accuracy"
      ],
      "execution_count": 0,
      "outputs": []
    },
    {
      "cell_type": "code",
      "metadata": {
        "id": "WUB8c4k_t1UJ",
        "colab_type": "code",
        "colab": {}
      },
      "source": [
        "def train_val_gendermodel(train_loader, val_loader, epochs_val,seed_val,device,lr_value):\n",
        "\n",
        "  ############################  IMPORT MODEL ################################################\n",
        "  from transformers import CamembertForSequenceClassification\n",
        "  gender_model = CamembertForSequenceClassification.from_pretrained(\n",
        "    \"camembert-base\", \n",
        "    num_labels = 2, # We have two different labels Women = 1 and Men =0   \n",
        "    output_attentions = False, \n",
        "    output_hidden_states = False, )\n",
        "\n",
        "  model = gender_model\n",
        "  model.cuda()\n",
        "  \n",
        "  ############################## RANDOM SEED ##################################################\n",
        "\n",
        "  import random\n",
        " # Let's put a seed to make this result reproducible \n",
        "  seed=seed_val\n",
        "  random.seed(seed)\n",
        "  np.random.seed(seed)\n",
        "  torch.manual_seed(seed)\n",
        "  torch.cuda.manual_seed_all(seed)\n",
        "\n",
        "  ############################### LEARNING RATE SCHEDULER #######################################\n",
        "\n",
        "  # https://huggingface.co/transformers/migration.html \n",
        "  # https://pytorch.org/docs/stable/optim.html (default values)\n",
        "\n",
        "  import torch.nn as nn\n",
        "  import torch.optim as optim\n",
        "  from transformers import AdamW\n",
        "  from transformers import get_linear_schedule_with_warmup\n",
        "\n",
        "  epochs = epochs_val # In order to fine tune our model we will first set the number of epochs to 4.\n",
        "\n",
        "  # We choose Binary cross enthropy with logits loss for the loss computation. It seems to be the most adapted loss to our problem. \n",
        "  criterion = nn.BCEWithLogitsLoss()\n",
        "  #Implements Adam algorithm with weight decay fix.\n",
        "  opti = AdamW(model.parameters(),\n",
        "                    lr =lr_value, # learning rate (default = 1e-3)\n",
        "                    eps = 1e-8 # prevents division by 0 (default = 1e-8)\n",
        "                  )\n",
        "\n",
        "  num_training_steps = len(train_loader) * epochs\n",
        "  # Create a schedule with a learning rate that decreases linearly after linearly increasing during a warmup period (0 here)\n",
        "  scheduler = get_linear_schedule_with_warmup(opti, \n",
        "                                              num_warmup_steps = 0,\n",
        "                                              num_training_steps = num_training_steps)\n",
        "  \n",
        "  \n",
        "  # We want to evaluate the training phase \n",
        "  training_stats = []\n",
        "\n",
        "  for ep in range(0, epochs):\n",
        "    print('===========Starting Epoch {} / {} =============='.format(ep+1,epochs))\n",
        "    print('Training starts')\n",
        "\n",
        "    ################################### TRAINING ################################\n",
        "\n",
        "    #Put the model in training mode\n",
        "    model.train()\n",
        "\n",
        "    # Set the train loss for the epoch to 0 \n",
        "    total_train_loss = 0\n",
        "\n",
        "    for step, batch in enumerate(train_loader):\n",
        "      # Clear gradients \n",
        "      model.zero_grad() # (opti.zerograd ? )\n",
        "\n",
        "      # Cpy the 3 batch to GPU \n",
        "      b_input_ids = batch[0].to(device)\n",
        "      b_input_mask = batch[1].to(device)\n",
        "      b_labels = batch[2].to(device)\n",
        "      \n",
        "      #return loss and logits\n",
        "      loss, logits = model(b_input_ids, \n",
        "                          token_type_ids=None, \n",
        "                          attention_mask=b_input_mask, \n",
        "                          labels=b_labels) \n",
        "      \n",
        "      # Accumulate training loss for all batches \n",
        "      total_train_loss += loss.item()\n",
        "\n",
        "      #Backpropagating the gradients \n",
        "      loss.backward()\n",
        "\n",
        "      # Prevent exploding gradients problem  (forcing the gradients to be small, the parameter updates will not push the parameters too far from their previous values)\n",
        "      torch.nn.utils.clip_grad_norm_(model.parameters(), 1.0)\n",
        "\n",
        "      # Update parameters \n",
        "      opti.step()\n",
        "\n",
        "      # Update learning rate schedule\n",
        "      scheduler.step()\n",
        "\n",
        "    #Calculate the average training loss over all batches  \n",
        "    avg_train_loss = total_train_loss / len(train_loader)\n",
        "    print(\"\")\n",
        "    print(\"  Average training loss: {0:.2f}\".format(avg_train_loss))\n",
        "    print('')\n",
        "    print('Validation starts')\n",
        "\n",
        "    ###################### VALIDATION #############################\n",
        "\n",
        "    # Put model in evaluation mode \n",
        "    model.eval()\n",
        "\n",
        "    # Set statistics to 0\n",
        "    total_eval_accuracy = 0\n",
        "    total_eval_loss = 0\n",
        "    nb_eval_steps = 0\n",
        "    total_eval_f1=0\n",
        "    total_roc_auc = 0 \n",
        "\n",
        "    # Confusion matrix ?\n",
        "    predictions, true_labels = [], []\n",
        "\n",
        "    for batch in val_loader:\n",
        "      b_input_ids = batch[0].to(device)\n",
        "      b_input_mask = batch[1].to(device)\n",
        "      b_labels = batch[2].to(device)\n",
        "      \n",
        "      # We don't care about gradients for eval\n",
        "\n",
        "      with torch.no_grad(): \n",
        "        (loss, logits) = model(b_input_ids, \n",
        "                                  token_type_ids=None, \n",
        "                                  attention_mask=b_input_mask,\n",
        "                                  labels=b_labels)\n",
        "      total_eval_loss += loss.item()\n",
        "\n",
        "        # Move logits and labels to CPU \n",
        "      logits = logits.detach().cpu().numpy()\n",
        "      label_ids = b_labels.to('cpu').numpy()\n",
        "\n",
        "      F1_score, Accuracy = create_report(label_ids,logits)\n",
        "\n",
        "      # Accumulation accuracy for all batch\n",
        "      total_eval_accuracy += Accuracy\n",
        "\n",
        "      # Accumulation f1 for all batch\n",
        "      total_eval_f1 += F1_score\n",
        "\n",
        "      \n",
        "      #Final accuracy on all batch\n",
        "    avg_val_accuracy = total_eval_accuracy / len(val_loader)\n",
        "    print(\"  Accuracy: {0:.2f}\".format(avg_val_accuracy))\n",
        "\n",
        "      #Final f1 on all batch\n",
        "    avg_val_f1 = total_eval_f1 / len(val_loader)\n",
        "    print(\"  F1_score: {0:.2f}\".format(avg_val_f1))\n",
        "\n",
        "      #Final loss over all batch\n",
        "    avg_val_loss = total_eval_loss / len(val_loader)\n",
        "    print(\"  Validation Loss: {0:.2f}\".format(avg_val_loss))\n",
        "\n",
        "    training_stats.append(\n",
        "          {\n",
        "              'epoch': ep + 1,\n",
        "              'Train Loss': avg_train_loss,\n",
        "              'Val Loss': avg_val_loss,\n",
        "              'Val Accur.': avg_val_accuracy,\n",
        "              'Val F1' : avg_val_f1,\n",
        "          }\n",
        "      )\n",
        "\n",
        "  print(\"\")\n",
        "  print(\"Done !\")\n",
        "\n",
        "  return  training_stats"
      ],
      "execution_count": 0,
      "outputs": []
    },
    {
      "cell_type": "code",
      "metadata": {
        "id": "anria4-x6FHk",
        "colab_type": "code",
        "colab": {}
      },
      "source": [
        "def report_model_1(results):\n",
        "  '''\n",
        "  Input : statistics of the model \n",
        "  Output : training and valid loss \n",
        "  ''' \n",
        "  df_stats = pd.DataFrame(data=results)\n",
        "  df_stats = df_stats.set_index('epoch')\n",
        "  print(df_stats)\n",
        "\n",
        "  import matplotlib.pyplot as plt\n",
        "  % matplotlib inline\n",
        "  import seaborn as sns\n",
        "\n",
        "  # Increase the plot size and font size.\n",
        "  sns.set(font_scale=1.5)\n",
        "  plt.rcParams[\"figure.figsize\"] = (12,6)\n",
        "\n",
        "  # Plot the learning curve.\n",
        "  plt.plot(df_stats['Train Loss'], 'b-o', label=\"Training\")\n",
        "  plt.plot(df_stats['Val Loss'], 'g-o', label=\"Validation\")\n",
        "\n",
        "  # Label the plot.\n",
        "  plt.title(\"Training & Validation Loss\")\n",
        "  plt.xlabel(\"Epoch\")\n",
        "  plt.ylabel(\"Loss\")\n",
        "  plt.legend()\n",
        "  plt.xticks([1, 2, 3, 4, 5])\n",
        "\n",
        "  plt.show()"
      ],
      "execution_count": 0,
      "outputs": []
    },
    {
      "cell_type": "code",
      "metadata": {
        "id": "WqNRTJME5oHs",
        "colab_type": "code",
        "outputId": "6835bbb1-f1f8-43d2-be94-2ea03ab931fa",
        "colab": {
          "base_uri": "https://localhost:8080/",
          "height": 0
        }
      },
      "source": [
        "results_unbalanced = train_val_gendermodel(train_loader=train_loader_unbalanced, val_loader=val_loader_unbalanced, epochs_val=5,seed_val=2020,device=device,lr_value=5e-5)"
      ],
      "execution_count": 36,
      "outputs": [
        {
          "output_type": "stream",
          "text": [
            "===========Starting Epoch 1 / 5 ==============\n",
            "Training starts\n",
            "\n",
            "  Average training loss: 0.42\n",
            "\n",
            "Validation starts\n",
            "  Accuracy: 0.87\n",
            "  F1_score: 0.68\n",
            "  Validation Loss: 0.35\n",
            "===========Starting Epoch 2 / 5 ==============\n",
            "Training starts\n",
            "\n",
            "  Average training loss: 0.33\n",
            "\n",
            "Validation starts\n",
            "  Accuracy: 0.87\n",
            "  F1_score: 0.64\n",
            "  Validation Loss: 0.39\n",
            "===========Starting Epoch 3 / 5 ==============\n",
            "Training starts\n",
            "\n",
            "  Average training loss: 0.25\n",
            "\n",
            "Validation starts\n",
            "  Accuracy: 0.86\n",
            "  F1_score: 0.71\n",
            "  Validation Loss: 0.45\n",
            "===========Starting Epoch 4 / 5 ==============\n",
            "Training starts\n",
            "\n",
            "  Average training loss: 0.15\n",
            "\n",
            "Validation starts\n",
            "  Accuracy: 0.87\n",
            "  F1_score: 0.68\n",
            "  Validation Loss: 0.57\n",
            "===========Starting Epoch 5 / 5 ==============\n",
            "Training starts\n",
            "\n",
            "  Average training loss: 0.08\n",
            "\n",
            "Validation starts\n",
            "  Accuracy: 0.87\n",
            "  F1_score: 0.70\n",
            "  Validation Loss: 0.64\n",
            "\n",
            "Done !\n"
          ],
          "name": "stdout"
        }
      ]
    },
    {
      "cell_type": "code",
      "metadata": {
        "id": "fKu-O0c653tX",
        "colab_type": "code",
        "outputId": "e8f9bf10-472a-426b-b3b2-19e722c54e1e",
        "colab": {
          "base_uri": "https://localhost:8080/",
          "height": 0
        }
      },
      "source": [
        "report_model_1(results_unbalanced)"
      ],
      "execution_count": 37,
      "outputs": [
        {
          "output_type": "stream",
          "text": [
            "       Train Loss  Val Loss  Val Accur.    Val F1\n",
            "epoch                                            \n",
            "1        0.420450  0.354625       0.873  0.684902\n",
            "2        0.327309  0.390862       0.866  0.644343\n",
            "3        0.253820  0.446634       0.864  0.714419\n",
            "4        0.149923  0.573730       0.874  0.684387\n",
            "5        0.075621  0.636895       0.868  0.699663\n"
          ],
          "name": "stdout"
        },
        {
          "output_type": "stream",
          "text": [
            "/usr/local/lib/python3.6/dist-packages/statsmodels/tools/_testing.py:19: FutureWarning: pandas.util.testing is deprecated. Use the functions in the public API at pandas.testing instead.\n",
            "  import pandas.util.testing as tm\n"
          ],
          "name": "stderr"
        },
        {
          "output_type": "display_data",
          "data": {
            "image/png": "[encoded data removed]",
            "text/plain": [
              "<Figure size 864x432 with 1 Axes>"
            ]
          },
          "metadata": {
            "tags": []
          }
        }
      ]
    },
    {
      "cell_type": "code",
      "metadata": {
        "id": "DH9QNCMXR0zc",
        "colab_type": "code",
        "outputId": "0ac5f627-7d64-4242-9cf1-d3106b565910",
        "colab": {
          "base_uri": "https://localhost:8080/",
          "height": 0
        }
      },
      "source": [
        "results_balanced = train_val_gendermodel(train_loader=train_loader_balanced, val_loader=val_loader_balanced, epochs_val=5,seed_val=2020,device=device,lr_value=5e-5)"
      ],
      "execution_count": 38,
      "outputs": [
        {
          "output_type": "stream",
          "text": [
            "===========Starting Epoch 1 / 5 ==============\n",
            "Training starts\n",
            "\n",
            "  Average training loss: 0.55\n",
            "\n",
            "Validation starts\n",
            "  Accuracy: 0.80\n",
            "  F1_score: 0.75\n",
            "  Validation Loss: 0.43\n",
            "===========Starting Epoch 2 / 5 ==============\n",
            "Training starts\n",
            "\n",
            "  Average training loss: 0.38\n",
            "\n",
            "Validation starts\n",
            "  Accuracy: 0.78\n",
            "  F1_score: 0.78\n",
            "  Validation Loss: 0.55\n",
            "===========Starting Epoch 3 / 5 ==============\n",
            "Training starts\n",
            "\n",
            "  Average training loss: 0.26\n",
            "\n",
            "Validation starts\n",
            "  Accuracy: 0.81\n",
            "  F1_score: 0.78\n",
            "  Validation Loss: 0.55\n",
            "===========Starting Epoch 4 / 5 ==============\n",
            "Training starts\n",
            "\n",
            "  Average training loss: 0.15\n",
            "\n",
            "Validation starts\n",
            "  Accuracy: 0.82\n",
            "  F1_score: 0.79\n",
            "  Validation Loss: 0.72\n",
            "===========Starting Epoch 5 / 5 ==============\n",
            "Training starts\n",
            "\n",
            "  Average training loss: 0.09\n",
            "\n",
            "Validation starts\n",
            "  Accuracy: 0.82\n",
            "  F1_score: 0.78\n",
            "  Validation Loss: 0.79\n",
            "\n",
            "Done !\n"
          ],
          "name": "stdout"
        }
      ]
    },
    {
      "cell_type": "code",
      "metadata": {
        "id": "v0Pti-Dk59DT",
        "colab_type": "code",
        "outputId": "fd7548a4-d076-4276-dbc5-907fddee5fbe",
        "colab": {
          "base_uri": "https://localhost:8080/",
          "height": 0
        }
      },
      "source": [
        "report_model_1(results_balanced)"
      ],
      "execution_count": 39,
      "outputs": [
        {
          "output_type": "stream",
          "text": [
            "       Train Loss  Val Loss  Val Accur.    Val F1\n",
            "epoch                                            \n",
            "1        0.550955  0.433793    0.795635  0.747124\n",
            "2        0.378556  0.547196    0.781746  0.778285\n",
            "3        0.260297  0.552497    0.809524  0.778522\n",
            "4        0.151798  0.717036    0.815476  0.790137\n",
            "5        0.091013  0.793537    0.817460  0.779646\n"
          ],
          "name": "stdout"
        },
        {
          "output_type": "display_data",
          "data": {
            "image/png": "[encoded data removed]",
            "text/plain": [
              "<Figure size 864x432 with 1 Axes>"
            ]
          },
          "metadata": {
            "tags": []
          }
        }
      ]
    },
    {
      "cell_type": "code",
      "metadata": {
        "id": "Hb6Ca8qmdT74",
        "colab_type": "code",
        "outputId": "8e9572a8-e304-4e8c-a8c4-09a3e3634ba1",
        "colab": {
          "base_uri": "https://localhost:8080/",
          "height": 0
        }
      },
      "source": [
        "results_balanced_split = train_val_gendermodel(train_loader=train_loader_balanced_split, val_loader=val_loader_balanced_split, epochs_val=5,seed_val=2020,device=device,lr_value=5e-5)"
      ],
      "execution_count": 40,
      "outputs": [
        {
          "output_type": "stream",
          "text": [
            "===========Starting Epoch 1 / 5 ==============\n",
            "Training starts\n",
            "\n",
            "  Average training loss: 0.52\n",
            "\n",
            "Validation starts\n",
            "  Accuracy: 0.79\n",
            "  F1_score: 0.78\n",
            "  Validation Loss: 0.44\n",
            "===========Starting Epoch 2 / 5 ==============\n",
            "Training starts\n",
            "\n",
            "  Average training loss: 0.38\n",
            "\n",
            "Validation starts\n",
            "  Accuracy: 0.82\n",
            "  F1_score: 0.79\n",
            "  Validation Loss: 0.41\n",
            "===========Starting Epoch 3 / 5 ==============\n",
            "Training starts\n",
            "\n",
            "  Average training loss: 0.26\n",
            "\n",
            "Validation starts\n",
            "  Accuracy: 0.84\n",
            "  F1_score: 0.82\n",
            "  Validation Loss: 0.54\n",
            "===========Starting Epoch 4 / 5 ==============\n",
            "Training starts\n",
            "\n",
            "  Average training loss: 0.15\n",
            "\n",
            "Validation starts\n",
            "  Accuracy: 0.84\n",
            "  F1_score: 0.82\n",
            "  Validation Loss: 0.69\n",
            "===========Starting Epoch 5 / 5 ==============\n",
            "Training starts\n",
            "\n",
            "  Average training loss: 0.07\n",
            "\n",
            "Validation starts\n",
            "  Accuracy: 0.84\n",
            "  F1_score: 0.82\n",
            "  Validation Loss: 0.80\n",
            "\n",
            "Done !\n"
          ],
          "name": "stdout"
        }
      ]
    },
    {
      "cell_type": "code",
      "metadata": {
        "id": "CJSzx-x35-jW",
        "colab_type": "code",
        "outputId": "54464775-f132-4843-f274-5143e2037b5b",
        "colab": {
          "base_uri": "https://localhost:8080/",
          "height": 0
        }
      },
      "source": [
        "report_model_1(results_balanced_split)"
      ],
      "execution_count": 41,
      "outputs": [
        {
          "output_type": "stream",
          "text": [
            "       Train Loss  Val Loss  Val Accur.    Val F1\n",
            "epoch                                            \n",
            "1        0.516274  0.437157    0.789173  0.783864\n",
            "2        0.381115  0.411396    0.821303  0.790070\n",
            "3        0.264337  0.542285    0.838028  0.823471\n",
            "4        0.153313  0.688070    0.843750  0.818131\n",
            "5        0.070779  0.804654    0.844190  0.822824\n"
          ],
          "name": "stdout"
        },
        {
          "output_type": "display_data",
          "data": {
            "image/png": "[encoded data removed]",
            "text/plain": [
              "<Figure size 864x432 with 1 Axes>"
            ]
          },
          "metadata": {
            "tags": []
          }
        }
      ]
    },
    {
      "cell_type": "markdown",
      "metadata": {
        "id": "kKXUkXjfg0s2",
        "colab_type": "text"
      },
      "source": [
        "### Training the optimal model "
      ]
    },
    {
      "cell_type": "code",
      "metadata": {
        "id": "R1LLOEa3g2wL",
        "colab_type": "code",
        "outputId": "de859680-3987-448a-f081-44c3e02ac18b",
        "colab": {
          "base_uri": "https://localhost:8080/",
          "height": 85
        }
      },
      "source": [
        "df_eval= balanced_splitted(df,seed_val,frac_val=1,max_tokens=500)"
      ],
      "execution_count": 347,
      "outputs": [
        {
          "output_type": "stream",
          "text": [
            "Number of text in this balanced splitted corpus : 10,326\n",
            "\n",
            "Proportions of women in the balanced splitted corpus : 50.25179159403448\n",
            "\n"
          ],
          "name": "stdout"
        }
      ]
    },
    {
      "cell_type": "code",
      "metadata": {
        "id": "fa_3vh-698n6",
        "colab_type": "code",
        "colab": {}
      },
      "source": [
        "# We prepare another sample which will be dedicated to further qualitative analysis"
      ],
      "execution_count": 0,
      "outputs": []
    },
    {
      "cell_type": "code",
      "metadata": {
        "id": "cL1SsPWU98tz",
        "colab_type": "code",
        "outputId": "a9b99c7d-5016-4d5c-90ed-6fca329debab",
        "colab": {
          "base_uri": "https://localhost:8080/",
          "height": 85
        }
      },
      "source": [
        "len_train = round(0.97*len(df_eval))\n",
        "df_balanced_split= df_eval[0:len_train]\n",
        "dev_balanced_split=df_eval[len_train:len(df_eval)]\n",
        "\n",
        "# Report the number of speeches in the corpus.\n",
        "print('Number of text in this balanced splitted corpus : {:,}\\n'.format(df_balanced_split.shape[0]))\n",
        "print('Number of text in the development sample : {:,}\\n'.format(dev_balanced_split.shape[0]))"
      ],
      "execution_count": 349,
      "outputs": [
        {
          "output_type": "stream",
          "text": [
            "Number of text in this balanced splitted corpus : 10,016\n",
            "\n",
            "Number of text in the development sample : 310\n",
            "\n"
          ],
          "name": "stdout"
        }
      ]
    },
    {
      "cell_type": "code",
      "metadata": {
        "id": "9XuXBR-rgR3U",
        "colab_type": "code",
        "outputId": "028192db-03b4-4b19-bdbf-9c4cf7d2a092",
        "colab": {
          "base_uri": "https://localhost:8080/",
          "height": 493
        }
      },
      "source": [
        "from torch.utils.data import TensorDataset, random_split\n",
        "from torch.utils.data import DataLoader, RandomSampler, SequentialSampler\n",
        "\n",
        "texts = df_balanced_split.Texte.values \n",
        "labels = df_balanced_split.sexe.values\n",
        "\n",
        "torch.manual_seed(2020)\n",
        "torch.cuda.manual_seed_all(2020)\n",
        "length = 500\n",
        "batch_size_value = 8\n",
        "length_train=0.9\n",
        "\n",
        "# Tokenize all of the sentences and map the tokens to thier word IDs.\n",
        "input_ids = []\n",
        "attention_masks = []\n",
        "num_truncated_tokens =[]\n",
        "# Apply function to our corpus\n",
        "for text in texts:\n",
        "    encoded_dict = tokenizer.encode_plus(\n",
        "                        text,                      # text\n",
        "                        add_special_tokens = True, # Add '[CLS]' and '[SEP]'\n",
        "                        max_length = length,           # We choose for now a max length of 500.\n",
        "                        pad_to_max_length = True,    # Pad text to max (marche pas en pad left ?)\n",
        "                        return_attention_mask = True,   # Construct attention masks\n",
        "                        return_tensors = 'pt',     # Return pytorch tensors.\n",
        "                        return_overflowing_tokens =True, # return overflowing token information\n",
        "                  )\n",
        "    \n",
        "    # Map tokens to their id in the dictionnary \n",
        "    # We add this to our list    \n",
        "    input_ids.append(encoded_dict['input_ids'])\n",
        "\n",
        "    #num_truncated_tokens.append(encoded_dict['num_truncated_tokens'])\n",
        "    \n",
        "    # 3. Attention masks\n",
        "    attention_masks.append(encoded_dict['attention_mask'])\n",
        "\n",
        "# We convert all this into tensors in order to be able to make it work on GPU \n",
        "input_ids = torch.cat(input_ids, dim=0)\n",
        "attention_masks = torch.cat(attention_masks, dim=0)\n",
        "labels = torch.tensor(labels)\n",
        "\n",
        "# Original text and transformed tensor print \n",
        "print(\"Let's check for the first text indexes, attention masks and labels\")\n",
        "print(\" \")\n",
        "print('Original: ', texts[0][0:100])\n",
        "print('IDs:', input_ids[0][0:100])\n",
        "print('Attention masks:', attention_masks[0][0:100])\n",
        "print('labels',labels[0])\n",
        "\n",
        "# Combine all above\n",
        "dataset = TensorDataset(input_ids, attention_masks, labels)\n",
        "\n",
        "# Let's create a 80-20 train / validation dataset \n",
        "train_size = int(length_train * len(dataset))\n",
        "val_size = len(dataset) - train_size\n",
        "\n",
        "train_set, val_set = random_split(dataset, [train_size, val_size])\n",
        "\n",
        "\n",
        "print(\"-------------------------------------------------\")\n",
        "print(\" \")\n",
        "print(\"How many texts do we have in the train and validation sample ? \")\n",
        "print(\" \")\n",
        "print('We have {} training texts'.format(train_size))\n",
        "print('We have {} validation texts'.format(val_size))\n",
        "print(\" \")\n",
        "print(\"-------------------------------------------------\")\n",
        "\n",
        "# We set the size of the batch ( usually set around 16 or 32), we will take the lower bound because of the large text length\n",
        "batch_size = batch_size_value\n",
        "\n",
        "# We create data loaders for the train and validation dataset. \n",
        "train_loader_balanced_split = DataLoader(\n",
        "            train_set,  # The training samples.\n",
        "            sampler = RandomSampler(train_set), # Select batches randomly\n",
        "            batch_size = batch_size # Trains with this batch size.\n",
        "        )\n",
        "\n",
        "val_loader_balanced_split = DataLoader(\n",
        "            val_set, # The validation samples.\n",
        "            sampler = SequentialSampler(val_set), # Pull out batches sequentially.\n",
        "            batch_size = batch_size # Evaluate with this batch size.\n",
        "        )\n",
        "\n",
        "print('Data loaders created for train [0] and val [1]')"
      ],
      "execution_count": 350,
      "outputs": [
        {
          "output_type": "stream",
          "text": [
            "Let's check for the first text indexes, attention masks and labels\n",
            " \n",
            "Original:  c'est plus que l'automobile, c'est un actif sur quinze, c'est un neuvième de nos exportations, c'est\n",
            "IDs: tensor([    5,    60,    11,    41,    40,    27,    17,    11, 13208,     7,\n",
            "           60,    11,    41,    23,  3338,    32,  6783,     7,    60,    11,\n",
            "           41,    23,    21, 21945,     8,   166, 17818,     7,    60,    11,\n",
            "           41,    17,    11,  6816,  3151,     9,   139,    44,   210,   143,\n",
            "           40,   600,  2385,     9,   432,    13,  1618,   112,  2501,     8,\n",
            "           13,  1133,  1636,     9,   432,    17,    11, 14837,     8,    13,\n",
            "          400,  1024, 12976,     8,    72,    10,  4849,   994,    35,    37,\n",
            "           17,    11,  1288,    36,   499,     8,  3201,     8,   713,     8,\n",
            "          242,    29,    19,   256, 11931,    10,     9,   432,    99,    16,\n",
            "        26057,  1823,    20, 20978,    10,   165,  4849,    79,    19,  7156])\n",
            "Attention masks: tensor([1, 1, 1, 1, 1, 1, 1, 1, 1, 1, 1, 1, 1, 1, 1, 1, 1, 1, 1, 1, 1, 1, 1, 1,\n",
            "        1, 1, 1, 1, 1, 1, 1, 1, 1, 1, 1, 1, 1, 1, 1, 1, 1, 1, 1, 1, 1, 1, 1, 1,\n",
            "        1, 1, 1, 1, 1, 1, 1, 1, 1, 1, 1, 1, 1, 1, 1, 1, 1, 1, 1, 1, 1, 1, 1, 1,\n",
            "        1, 1, 1, 1, 1, 1, 1, 1, 1, 1, 1, 1, 1, 1, 1, 1, 1, 1, 1, 1, 1, 1, 1, 1,\n",
            "        1, 1, 1, 1])\n",
            "labels tensor(0)\n",
            "-------------------------------------------------\n",
            " \n",
            "How many texts do we have in the train and validation sample ? \n",
            " \n",
            "We have 9014 training texts\n",
            "We have 1002 validation texts\n",
            " \n",
            "-------------------------------------------------\n",
            "Data loaders created for train [0] and val [1]\n"
          ],
          "name": "stdout"
        }
      ]
    },
    {
      "cell_type": "code",
      "metadata": {
        "id": "0p-TPR1CAOlh",
        "colab_type": "code",
        "outputId": "21087d12-8258-4fb1-e55b-213d769d3aeb",
        "colab": {
          "base_uri": "https://localhost:8080/",
          "height": 51
        }
      },
      "source": [
        "############################  IMPORT MODEL ################################################\n",
        "from transformers import CamembertForSequenceClassification\n",
        "gender_model = CamembertForSequenceClassification.from_pretrained(\"camembert-base\", \n",
        "                                                                  num_labels = 2, \n",
        "                                                                  output_attentions = False, \n",
        "                                                                  output_hidden_states = False, )\n",
        "\n",
        "gender_model.cuda()\n",
        "############################## RANDOM SEED ##################################################\n",
        "\n",
        "import random\n",
        "seed=seed_val\n",
        "random.seed(seed)\n",
        "np.random.seed(seed)\n",
        "torch.manual_seed(seed)\n",
        "torch.cuda.manual_seed_all(seed)\n",
        "\n",
        "############################### LEARNING RATE SCHEDULER #######################################\n",
        "\n",
        "import torch.nn as nn\n",
        "import torch.optim as optim\n",
        "from transformers import AdamW\n",
        "from transformers import get_linear_schedule_with_warmup\n",
        "\n",
        "epochs = 3 \n",
        "\n",
        "#Implements Adam algorithm with weight decay fix.\n",
        "opti = AdamW(gender_model.parameters(),\n",
        "              lr =5e-5, # learning rate (default = 1e-3)\n",
        "              eps = 1e-8 # prevents division by 0 (default = 1e-8)\n",
        "            )\n",
        "\n",
        "num_training_steps = len(train_loader_balanced_split) * epochs\n",
        "\n",
        "# Create a schedule with a learning rate that decreases linearly after linearly increasing during a warmup period (0 here)\n",
        "scheduler = get_linear_schedule_with_warmup(opti, \n",
        "                                            num_warmup_steps = 0,\n",
        "                                            num_training_steps = num_training_steps)\n",
        "\n",
        "\n",
        "for ep in range(0, epochs):\n",
        "  print('===========Starting Epoch {} / {} =============='.format(ep+1,epochs))\n",
        "  print('Training starts')\n",
        "\n",
        "  ################################### TRAINING ################################\n",
        "\n",
        "  #Put the model in training mode\n",
        "  gender_model.train()\n",
        "\n",
        "  # Set the train loss for the epoch to 0 \n",
        "  total_train_loss = 0\n",
        "\n",
        "  for step, batch in enumerate(train_loader_balanced_split):\n",
        "    # Clear gradients \n",
        "    gender_model.zero_grad() # \n",
        "\n",
        "    # Cpy the 3 batch to GPU \n",
        "    b_input_ids = batch[0].to(device)\n",
        "    b_input_mask = batch[1].to(device)\n",
        "    b_labels = batch[2].to(device)\n",
        "    \n",
        "    #return loss and logits\n",
        "    loss, logits = gender_model(b_input_ids, \n",
        "                                token_type_ids=None, \n",
        "                                attention_mask=b_input_mask, \n",
        "                                labels=b_labels) \n",
        "    \n",
        "    # Accumulate training loss for all batches \n",
        "    total_train_loss += loss.item()\n",
        "\n",
        "    #Backpropagating the gradients \n",
        "    loss.backward()\n",
        "\n",
        "    # Prevent exploding gradients problem  (forcing the gradients to be small, the parameter updates will not push the parameters too far from their previous values)\n",
        "    torch.nn.utils.clip_grad_norm_(gender_model.parameters(), 1.0)\n",
        "\n",
        "    # Update parameters \n",
        "    opti.step()\n",
        "\n",
        "    # Update learning rate schedule\n",
        "    scheduler.step()\n",
        "\n",
        "  #Calculate the average training loss over all batches  \n",
        "  avg_train_loss = total_train_loss / len(train_loader_balanced_split)\n",
        "  print(\"\")\n",
        "  print(\"  Average training loss: {0:.2f}\".format(avg_train_loss))"
      ],
      "execution_count": 0,
      "outputs": [
        {
          "output_type": "stream",
          "text": [
            "===========Starting Epoch 1 / 3 ==============\n",
            "Training starts\n"
          ],
          "name": "stdout"
        }
      ]
    },
    {
      "cell_type": "markdown",
      "metadata": {
        "id": "yFpRse9-DAAy",
        "colab_type": "text"
      },
      "source": [
        "Let's compute some statistics on the performance of this final model"
      ]
    },
    {
      "cell_type": "code",
      "metadata": {
        "id": "oMAECbOYC_Rv",
        "colab_type": "code",
        "colab": {}
      },
      "source": [
        " def evaluation_loop(model,eval_loader): \n",
        "  # Put model in evaluation mode \n",
        "  model.eval()\n",
        "  total_eval_loss,total_pred,total_label,total_logits=[],[],[],[]\n",
        "\n",
        "  for batch in eval_loader:\n",
        "    b_input_ids = batch[0].to(device)\n",
        "    b_input_mask = batch[1].to(device)\n",
        "    b_labels = batch[2].to(device)\n",
        "\n",
        "    with torch.no_grad(): \n",
        "      loss, logits = model(b_input_ids, \n",
        "                                token_type_ids=None, \n",
        "                                attention_mask=b_input_mask,\n",
        "                                labels=b_labels)\n",
        "    #total_eval_loss += loss.item()\n",
        "\n",
        "      # Move logits and labels to CPU \n",
        "      logits = logits.detach().cpu().numpy()\n",
        "      label_ids = b_labels.to('cpu').numpy()\n",
        "      pred= np.argmax(logits, axis=1).flatten()\n",
        "      labels_flat = label_ids.flatten()\n",
        "\n",
        "    # Accumulation accuracy for all batch\n",
        "      total_pred += pred.tolist()\n",
        "\n",
        "    # Accumulation f1 for all batch\n",
        "      total_label += labels_flat.tolist()\n",
        "\n",
        "      # Logits score on positive \n",
        "      total_logits += logits.tolist()\n",
        "\n",
        "  return total_pred,total_label,total_logits"
      ],
      "execution_count": 0,
      "outputs": []
    },
    {
      "cell_type": "code",
      "metadata": {
        "id": "QLPLUSq6mWgc",
        "colab_type": "code",
        "colab": {}
      },
      "source": [
        "total_pred,total_label,total_logits =evaluation_loop(gender_model,val_loader_balanced_split)"
      ],
      "execution_count": 0,
      "outputs": []
    },
    {
      "cell_type": "code",
      "metadata": {
        "id": "Of_IfZYuEyJG",
        "colab_type": "code",
        "colab": {}
      },
      "source": [
        "def model_report(pred,label,logits):\n",
        "    \"\"\"\n",
        "        Input :\n",
        "            model : Algorithme de sklearn avec les paramètres choisit ou par défaut\n",
        "            X_train,X_test,y_train,y_test : dataset découpé à l'aide de train_test_split\n",
        "        Output : \n",
        "            Classification_report + Confusion_matrix + ROC_curve + (si possible feature importance)\n",
        "    \"\"\"\n",
        "    #from sklearn\n",
        "    import seaborn as sns\n",
        "    import matplotlib.pyplot as plt\n",
        "    from sklearn.metrics import confusion_matrix, classification_report, accuracy_score, roc_auc_score, roc_curve\n",
        "    logits = [el[1] for el in total_logits]\n",
        "    pred = [i for i in total_pred]\n",
        "    label = [i for i in total_label]\n",
        "    print (\"Classification report :\")\n",
        "    print(classification_report(label,pred))\n",
        "    print (\"Accuracy : \",accuracy_score(label,pred))\n",
        "    cm = confusion_matrix(label,pred)\n",
        "    ROC = roc_auc_score(label,pred) \n",
        "    print (\"AUC : \",ROC)\n",
        "    fpr,tpr,thresholds = roc_curve(label,logits)\n",
        "    plt.figure(figsize=(12,10))\n",
        "    plt.subplot(221)\n",
        "    sns.heatmap(cm/np.sum(cm), annot=True, \n",
        "            fmt='.2%', cmap='Blues').set_title('Matrice de confusion')\n",
        "    plt.subplot(222)\n",
        "    plt.plot(fpr, tpr, 'b', label = 'AUC = %0.2f' % ROC)\n",
        "    plt.plot([0,1],[0,1],color='red')\n",
        "    plt.title('Courbe ROC')\n",
        "    plt.show()"
      ],
      "execution_count": 0,
      "outputs": []
    },
    {
      "cell_type": "code",
      "metadata": {
        "id": "kOvGlNbxOSPq",
        "colab_type": "code",
        "outputId": "6af370bf-5cc8-4d40-dfba-04ba3943c643",
        "colab": {
          "base_uri": "https://localhost:8080/",
          "height": 549
        }
      },
      "source": [
        "model_report(total_pred,total_label,logits)"
      ],
      "execution_count": 0,
      "outputs": [
        {
          "output_type": "stream",
          "text": [
            "/usr/local/lib/python3.6/dist-packages/statsmodels/tools/_testing.py:19: FutureWarning: pandas.util.testing is deprecated. Use the functions in the public API at pandas.testing instead.\n",
            "  import pandas.util.testing as tm\n"
          ],
          "name": "stderr"
        },
        {
          "output_type": "stream",
          "text": [
            "Classification report :\n",
            "              precision    recall  f1-score   support\n",
            "\n",
            "           0       0.79      0.76      0.77       481\n",
            "           1       0.79      0.81      0.80       521\n",
            "\n",
            "    accuracy                           0.79      1002\n",
            "   macro avg       0.79      0.79      0.79      1002\n",
            "weighted avg       0.79      0.79      0.79      1002\n",
            "\n",
            "Accuracy :  0.7864271457085829\n",
            "AUC :  0.7855275916696262\n"
          ],
          "name": "stdout"
        },
        {
          "output_type": "display_data",
          "data": {
            "image/png": "[encoded data removed]",
            "text/plain": [
              "<Figure size 864x720 with 3 Axes>"
            ]
          },
          "metadata": {
            "tags": []
          }
        }
      ]
    },
    {
      "cell_type": "markdown",
      "metadata": {
        "id": "60t946KwdjJh",
        "colab_type": "text"
      },
      "source": [
        "## Evaluation and qualitative analysis "
      ]
    },
    {
      "cell_type": "markdown",
      "metadata": {
        "id": "syd2rBrsSLro",
        "colab_type": "text"
      },
      "source": [
        "Preparing development sequence "
      ]
    },
    {
      "cell_type": "markdown",
      "metadata": {
        "id": "z9-lOx5RR-6B",
        "colab_type": "text"
      },
      "source": [
        "We will use our development set we let outside of the analysis to make an attempt of qualitative analysis. "
      ]
    },
    {
      "cell_type": "code",
      "metadata": {
        "id": "35VdN-qmuDwu",
        "colab_type": "code",
        "outputId": "9b08f41d-a352-4aba-ba23-1713d517d65a",
        "colab": {
          "base_uri": "https://localhost:8080/",
          "height": 340
        }
      },
      "source": [
        "# We prepare again the development sample for analysis \n",
        "\n",
        "from torch.utils.data import TensorDataset, random_split\n",
        "from torch.utils.data import DataLoader, RandomSampler, SequentialSampler\n",
        "from transformers import CamembertTokenizer\n",
        "\n",
        "texts = dev_balanced_split.Texte.values\n",
        "labels = dev_balanced_split.sexe.values\n",
        "tokenizer = CamembertTokenizer.from_pretrained('camembert-base', do_lower_case=False,padding_side='right')\n",
        "\n",
        "# Tokenize all of the sentences and map the tokens to thier word IDs.\n",
        "input_ids = []\n",
        "attention_masks = []\n",
        "num_truncated_tokens =[]\n",
        "\n",
        "for text in texts:\n",
        "  encoded_dict = tokenizer.encode_plus(\n",
        "                        text,                      # text\n",
        "                        add_special_tokens = True, # Add '[CLS]' and '[SEP]'\n",
        "                        max_length = 500,           # We choose for now a max length of 500.\n",
        "                        pad_to_max_length = True,    # Pad text to max \n",
        "                        return_attention_mask = True,   # Construct attention masks\n",
        "                        return_tensors = 'pt',     # Return pytorch tensors.\n",
        "                        return_overflowing_tokens =True, # return overflowing token information\n",
        "                  )\n",
        "    \n",
        "    # Map tokens to their id in the dictionnary \n",
        "    # We add this to our list    \n",
        "  input_ids.append(encoded_dict['input_ids'])\n",
        "\n",
        "    #num_truncated_tokens.append(encoded_dict['num_truncated_tokens'])\n",
        "    \n",
        "    # 3. Attention masks\n",
        "  attention_masks.append(encoded_dict['attention_mask'])\n",
        "\n",
        "# We convert all this into tensors in order to be able to make it work on GPU \n",
        "input_ids = torch.cat(input_ids, dim=0)\n",
        "attention_masks = torch.cat(attention_masks, dim=0)\n",
        "labels = torch.tensor(labels)\n",
        "\n",
        "# Original text and transformed tensor print \n",
        "print(\"Let's check for the first text indexes, attention masks and labels\")\n",
        "print(\" \")\n",
        "print('Original: ', texts[0][0:100])\n",
        "print('IDs:', input_ids[0][0:100])\n",
        "print('Attention masks:', attention_masks[0][0:100])\n",
        "print('labels',labels[0])\n",
        "\n",
        "# Combine all above\n",
        "dataset = TensorDataset(input_ids, attention_masks, labels)\n",
        "# We create data loaders for the train and validation dataset. \n",
        "dev_dataloader = DataLoader(\n",
        "            dataset,  # The training samples.\n",
        "            batch_size = 16, # Trains with this batch size.\n",
        "            shuffle=False\n",
        "        )"
      ],
      "execution_count": 237,
      "outputs": [
        {
          "output_type": "stream",
          "text": [
            "Let's check for the first text indexes, attention masks and labels\n",
            " \n",
            "Original:  1,7 milliards d'euros sur la période 2007-2013. Au total, ce sont 2,4 milliards d'euros que l'Etat i\n",
            "IDs: tensor([    5,   124,     7,   959,  1885,    18,    11,  1958,    32,    13,\n",
            "          782,  2598,    26,  8622,     9,   277,  1458,     7,    44,    56,\n",
            "        27872,  1885,    18,    11,  1958,    27,    17,    11,  1184, 24721,\n",
            "          564,    15,   689,    29,    17,    11,  1894,  2062,     8,    13,\n",
            "         2117,     9,  5338, 10456,    20,  2697, 12426,    18,    11,    70,\n",
            "         1323, 18541,    29,    17,    11,    70,    20, 10415,    19,    40,\n",
            "        23527,    10,    25,   164,  1316,    72,  1402,    20,  2192,  8757,\n",
            "            9,  1223,  5394,  3408,  4847,  1752,    18,    11,   105,   978,\n",
            "            9,  1799,  2135,    55,    15,   208,    19,  8381,  6338,    10,\n",
            "            7,    42,    23,   428,  1739,    43,  1027,    15,  3027,    18])\n",
            "Attention masks: tensor([1, 1, 1, 1, 1, 1, 1, 1, 1, 1, 1, 1, 1, 1, 1, 1, 1, 1, 1, 1, 1, 1, 1, 1,\n",
            "        1, 1, 1, 1, 1, 1, 1, 1, 1, 1, 1, 1, 1, 1, 1, 1, 1, 1, 1, 1, 1, 1, 1, 1,\n",
            "        1, 1, 1, 1, 1, 1, 1, 1, 1, 1, 1, 1, 1, 1, 1, 1, 1, 1, 1, 1, 1, 1, 1, 1,\n",
            "        1, 1, 1, 1, 1, 1, 1, 1, 1, 1, 1, 1, 1, 1, 1, 1, 1, 1, 1, 1, 1, 1, 1, 1,\n",
            "        1, 1, 1, 1])\n",
            "labels tensor(1)\n"
          ],
          "name": "stdout"
        }
      ]
    },
    {
      "cell_type": "code",
      "metadata": {
        "id": "LXVKl1flXbkz",
        "colab_type": "code",
        "colab": {}
      },
      "source": [
        "# We make this development sample pass into the evaluation loop \n",
        "total_pred,total_labels,total_logits=evaluation_loop(gender_model,dev_dataloader)\n"
      ],
      "execution_count": 0,
      "outputs": []
    },
    {
      "cell_type": "code",
      "metadata": {
        "id": "xUXJqxup1gF0",
        "colab_type": "code",
        "colab": {}
      },
      "source": [
        "def dev_treatment(total_pred,total_labels,total_logits,dev_balanced_split,df):\n",
        "  # Extract the score for label 1 \n",
        "  one_score = [el[1] for el in total_logits]\n",
        "  max_score = np.max(total_logits,axis=1)\n",
        "\n",
        "  # Put everything inside a dataframe\n",
        "  results_dev=pd.DataFrame([total_labels,total_pred,one_score,max_score]).transpose()\n",
        "  results_dev.columns=['returned_labels','model_pred','one_score','max_score']\n",
        "  results_dev['WF']=pd.DataFrame([results_dev['model_pred']==results_dev['returned_labels']]).transpose()\n",
        "\n",
        "  # Merge back with the text\n",
        "  frames = [dev_balanced_split[['Texte','sexe','index_df']].reset_index(), results_dev]\n",
        "  result = pd.concat(frames,axis=1)\n",
        "\n",
        "  # We merge this dataframe to the information we had at the beginning\n",
        "  merged_results=result[['index','index_df','Texte','returned_labels','model_pred','one_score','max_score','WF']].merge(df[['Titre','Id','Theme','Prenom','Nom','Date','Tags','sexe']],how='left',left_on='index_df',right_on='Id')\n",
        "\n",
        "  return merged_results\n",
        "\n"
      ],
      "execution_count": 0,
      "outputs": []
    },
    {
      "cell_type": "code",
      "metadata": {
        "id": "NCwaMpvL2Ly2",
        "colab_type": "code",
        "colab": {}
      },
      "source": [
        "result =  dev_treatment(total_pred,total_labels,total_logits,dev_balanced_split,df)"
      ],
      "execution_count": 0,
      "outputs": []
    },
    {
      "cell_type": "code",
      "metadata": {
        "id": "TA883RZ42uh8",
        "colab_type": "code",
        "colab": {
          "base_uri": "https://localhost:8080/",
          "height": 459
        },
        "outputId": "40565503-6bf1-465b-8a80-ee44a653665b"
      },
      "source": [
        "result.head()"
      ],
      "execution_count": 241,
      "outputs": [
        {
          "output_type": "execute_result",
          "data": {
            "text/html": [
              "<div>\n",
              "<style scoped>\n",
              "    .dataframe tbody tr th:only-of-type {\n",
              "        vertical-align: middle;\n",
              "    }\n",
              "\n",
              "    .dataframe tbody tr th {\n",
              "        vertical-align: top;\n",
              "    }\n",
              "\n",
              "    .dataframe thead th {\n",
              "        text-align: right;\n",
              "    }\n",
              "</style>\n",
              "<table border=\"1\" class=\"dataframe\">\n",
              "  <thead>\n",
              "    <tr style=\"text-align: right;\">\n",
              "      <th></th>\n",
              "      <th>index</th>\n",
              "      <th>index_df</th>\n",
              "      <th>Texte</th>\n",
              "      <th>returned_labels</th>\n",
              "      <th>model_pred</th>\n",
              "      <th>one_score</th>\n",
              "      <th>max_score</th>\n",
              "      <th>WF</th>\n",
              "      <th>Titre</th>\n",
              "      <th>Id</th>\n",
              "      <th>Theme</th>\n",
              "      <th>Prenom</th>\n",
              "      <th>Nom</th>\n",
              "      <th>Date</th>\n",
              "      <th>Tags</th>\n",
              "      <th>sexe</th>\n",
              "    </tr>\n",
              "  </thead>\n",
              "  <tbody>\n",
              "    <tr>\n",
              "      <th>0</th>\n",
              "      <td>10016</td>\n",
              "      <td>179171</td>\n",
              "      <td>1,7 milliards d'euros sur la période 2007-2013...</td>\n",
              "      <td>1.0</td>\n",
              "      <td>1.0</td>\n",
              "      <td>1.687930</td>\n",
              "      <td>1.687930</td>\n",
              "      <td>True</td>\n",
              "      <td>Déclaration de mme Valérie Pécresse, ministre ...</td>\n",
              "      <td>179171</td>\n",
              "      <td>Société</td>\n",
              "      <td>Valérie</td>\n",
              "      <td>Pécresse</td>\n",
              "      <td>2010-05-10T12:00:00Z</td>\n",
              "      <td>Education - Recherche,Enseignement supérieur</td>\n",
              "      <td>1</td>\n",
              "    </tr>\n",
              "    <tr>\n",
              "      <th>1</th>\n",
              "      <td>10017</td>\n",
              "      <td>207611</td>\n",
              "      <td>Projet de loi de financement de la sécurité so...</td>\n",
              "      <td>1.0</td>\n",
              "      <td>1.0</td>\n",
              "      <td>2.272270</td>\n",
              "      <td>2.272270</td>\n",
              "      <td>True</td>\n",
              "      <td>Déclaration de Mme Agnès Buzyn, ministre des s...</td>\n",
              "      <td>207611</td>\n",
              "      <td>Société</td>\n",
              "      <td>Agnès</td>\n",
              "      <td>Buzyn</td>\n",
              "      <td>2018-12-03T12:00:00Z</td>\n",
              "      <td>Santé - Protection sociale,Sécurité sociale</td>\n",
              "      <td>1</td>\n",
              "    </tr>\n",
              "    <tr>\n",
              "      <th>2</th>\n",
              "      <td>10018</td>\n",
              "      <td>198959</td>\n",
              "      <td>jeunes diplômés et demandeurs d'emploi, ces cl...</td>\n",
              "      <td>1.0</td>\n",
              "      <td>0.0</td>\n",
              "      <td>-0.901980</td>\n",
              "      <td>0.924065</td>\n",
              "      <td>False</td>\n",
              "      <td>Déclaration de Mme Annick Girardin, ministre d...</td>\n",
              "      <td>198959</td>\n",
              "      <td>Institutions</td>\n",
              "      <td>Annick</td>\n",
              "      <td>Girardin</td>\n",
              "      <td>2016-03-29T12:00:00Z</td>\n",
              "      <td>Administration - Réforme de l'Etat,Fonction pu...</td>\n",
              "      <td>1</td>\n",
              "    </tr>\n",
              "    <tr>\n",
              "      <th>3</th>\n",
              "      <td>10019</td>\n",
              "      <td>271813</td>\n",
              "      <td>forces spéciales françaises aux côtés des forc...</td>\n",
              "      <td>1.0</td>\n",
              "      <td>1.0</td>\n",
              "      <td>0.888502</td>\n",
              "      <td>0.888502</td>\n",
              "      <td>True</td>\n",
              "      <td>Déclaration de Mme Florence Parly, ministre de...</td>\n",
              "      <td>271813</td>\n",
              "      <td>International</td>\n",
              "      <td>Florence</td>\n",
              "      <td>Parly</td>\n",
              "      <td>2019-11-05T12:00:00Z</td>\n",
              "      <td>Défense,Intervention militaire</td>\n",
              "      <td>1</td>\n",
              "    </tr>\n",
              "    <tr>\n",
              "      <th>4</th>\n",
              "      <td>10020</td>\n",
              "      <td>139911</td>\n",
              "      <td>Monsieur le Ministre,Mesdames et Messieurs les...</td>\n",
              "      <td>0.0</td>\n",
              "      <td>0.0</td>\n",
              "      <td>-2.273030</td>\n",
              "      <td>2.306545</td>\n",
              "      <td>True</td>\n",
              "      <td>Déclaration de M. Jacques Chirac, président de...</td>\n",
              "      <td>139911</td>\n",
              "      <td>Société</td>\n",
              "      <td>Jacques</td>\n",
              "      <td>Chirac</td>\n",
              "      <td>2003-04-07T12:00:00Z</td>\n",
              "      <td>Société - Population,Sport</td>\n",
              "      <td>0</td>\n",
              "    </tr>\n",
              "  </tbody>\n",
              "</table>\n",
              "</div>"
            ],
            "text/plain": [
              "   index  index_df  ...                                               Tags  sexe\n",
              "0  10016    179171  ...       Education - Recherche,Enseignement supérieur     1\n",
              "1  10017    207611  ...        Santé - Protection sociale,Sécurité sociale     1\n",
              "2  10018    198959  ...  Administration - Réforme de l'Etat,Fonction pu...     1\n",
              "3  10019    271813  ...                     Défense,Intervention militaire     1\n",
              "4  10020    139911  ...                         Société - Population,Sport     0\n",
              "\n",
              "[5 rows x 16 columns]"
            ]
          },
          "metadata": {
            "tags": []
          },
          "execution_count": 241
        }
      ]
    },
    {
      "cell_type": "code",
      "metadata": {
        "id": "VLF9aS31dH7M",
        "colab_type": "code",
        "outputId": "b2dfa40e-8093-4b16-d3c3-ff7f324696fb",
        "colab": {
          "base_uri": "https://localhost:8080/",
          "height": 34
        }
      },
      "source": [
        "#Which texts failed ? \n",
        "print('{0:.2f} percent of the development texts were not well classified by our model'.format(result[result.WF==False].WF.count()*100/len(result)))"
      ],
      "execution_count": 242,
      "outputs": [
        {
          "output_type": "stream",
          "text": [
            "16.45 percent of the development texts were not well classified by our model\n"
          ],
          "name": "stdout"
        }
      ]
    },
    {
      "cell_type": "markdown",
      "metadata": {
        "id": "LtVSBuEp02VL",
        "colab_type": "text"
      },
      "source": [
        "Now we are going to take 3 text well classified and 3 other wrongly classified. We will try to take the ones the model is really sure about in the good or bad side."
      ]
    },
    {
      "cell_type": "code",
      "metadata": {
        "id": "gy9_53i23Y2D",
        "colab_type": "code",
        "colab": {}
      },
      "source": [
        "top_texts_true=result[result.WF==1].nlargest(3,'max_score')\n",
        "top_texts_false=result[result.WF==0].nlargest(3,'max_score')"
      ],
      "execution_count": 0,
      "outputs": []
    },
    {
      "cell_type": "code",
      "metadata": {
        "id": "mR8fnne6KHQH",
        "colab_type": "code",
        "outputId": "e64f9b38-4f00-4176-ce9c-e12d4ded2fea",
        "colab": {
          "base_uri": "https://localhost:8080/",
          "height": 278
        }
      },
      "source": [
        "top_texts_true"
      ],
      "execution_count": 244,
      "outputs": [
        {
          "output_type": "execute_result",
          "data": {
            "text/html": [
              "<div>\n",
              "<style scoped>\n",
              "    .dataframe tbody tr th:only-of-type {\n",
              "        vertical-align: middle;\n",
              "    }\n",
              "\n",
              "    .dataframe tbody tr th {\n",
              "        vertical-align: top;\n",
              "    }\n",
              "\n",
              "    .dataframe thead th {\n",
              "        text-align: right;\n",
              "    }\n",
              "</style>\n",
              "<table border=\"1\" class=\"dataframe\">\n",
              "  <thead>\n",
              "    <tr style=\"text-align: right;\">\n",
              "      <th></th>\n",
              "      <th>index</th>\n",
              "      <th>index_df</th>\n",
              "      <th>Texte</th>\n",
              "      <th>returned_labels</th>\n",
              "      <th>model_pred</th>\n",
              "      <th>one_score</th>\n",
              "      <th>max_score</th>\n",
              "      <th>WF</th>\n",
              "      <th>Titre</th>\n",
              "      <th>Id</th>\n",
              "      <th>Theme</th>\n",
              "      <th>Prenom</th>\n",
              "      <th>Nom</th>\n",
              "      <th>Date</th>\n",
              "      <th>Tags</th>\n",
              "      <th>sexe</th>\n",
              "    </tr>\n",
              "  </thead>\n",
              "  <tbody>\n",
              "    <tr>\n",
              "      <th>238</th>\n",
              "      <td>10254</td>\n",
              "      <td>190705</td>\n",
              "      <td>Monsieur le Maire, (Philippe Sueur)Monsieur le...</td>\n",
              "      <td>0.0</td>\n",
              "      <td>0.0</td>\n",
              "      <td>-2.281946</td>\n",
              "      <td>2.313881</td>\n",
              "      <td>True</td>\n",
              "      <td>Déclaration de M. Thierry Repentin, ministre d...</td>\n",
              "      <td>190705</td>\n",
              "      <td>International</td>\n",
              "      <td>Thierry</td>\n",
              "      <td>Repentin</td>\n",
              "      <td>2014-03-08T12:00:00Z</td>\n",
              "      <td>Union européenne,Construction européenne</td>\n",
              "      <td>0</td>\n",
              "    </tr>\n",
              "    <tr>\n",
              "      <th>34</th>\n",
              "      <td>10050</td>\n",
              "      <td>175855</td>\n",
              "      <td>Je suis ravi, au nom de notre congrès, de vous...</td>\n",
              "      <td>0.0</td>\n",
              "      <td>0.0</td>\n",
              "      <td>-2.273277</td>\n",
              "      <td>2.313503</td>\n",
              "      <td>True</td>\n",
              "      <td>Déclaration de M. William Villeneuve, présiden...</td>\n",
              "      <td>175855</td>\n",
              "      <td>Economie</td>\n",
              "      <td>William</td>\n",
              "      <td>Villeneuve</td>\n",
              "      <td>2009-06-11T12:00:00Z</td>\n",
              "      <td>Emploi - Travail,Profession</td>\n",
              "      <td>0</td>\n",
              "    </tr>\n",
              "    <tr>\n",
              "      <th>145</th>\n",
              "      <td>10161</td>\n",
              "      <td>186950</td>\n",
              "      <td>d'aide d'État aux entreprises étant prohibée) ...</td>\n",
              "      <td>0.0</td>\n",
              "      <td>0.0</td>\n",
              "      <td>-2.280517</td>\n",
              "      <td>2.312495</td>\n",
              "      <td>True</td>\n",
              "      <td>Déclaration de M. Arnaud Montebourg, ministre ...</td>\n",
              "      <td>186950</td>\n",
              "      <td>Economie</td>\n",
              "      <td>Arnaud</td>\n",
              "      <td>Montebourg</td>\n",
              "      <td>2012-11-26T12:00:00Z</td>\n",
              "      <td>Vie économique,Politique industrielle</td>\n",
              "      <td>0</td>\n",
              "    </tr>\n",
              "  </tbody>\n",
              "</table>\n",
              "</div>"
            ],
            "text/plain": [
              "     index  index_df  ...                                      Tags  sexe\n",
              "238  10254    190705  ...  Union européenne,Construction européenne     0\n",
              "34   10050    175855  ...               Emploi - Travail,Profession     0\n",
              "145  10161    186950  ...     Vie économique,Politique industrielle     0\n",
              "\n",
              "[3 rows x 16 columns]"
            ]
          },
          "metadata": {
            "tags": []
          },
          "execution_count": 244
        }
      ]
    },
    {
      "cell_type": "code",
      "metadata": {
        "id": "S4MGbB9j3koA",
        "colab_type": "code",
        "outputId": "0591dacd-7089-4382-8ae5-8be9d5485d39",
        "colab": {
          "base_uri": "https://localhost:8080/",
          "height": 244
        }
      },
      "source": [
        "top_texts_false"
      ],
      "execution_count": 245,
      "outputs": [
        {
          "output_type": "execute_result",
          "data": {
            "text/html": [
              "<div>\n",
              "<style scoped>\n",
              "    .dataframe tbody tr th:only-of-type {\n",
              "        vertical-align: middle;\n",
              "    }\n",
              "\n",
              "    .dataframe tbody tr th {\n",
              "        vertical-align: top;\n",
              "    }\n",
              "\n",
              "    .dataframe thead th {\n",
              "        text-align: right;\n",
              "    }\n",
              "</style>\n",
              "<table border=\"1\" class=\"dataframe\">\n",
              "  <thead>\n",
              "    <tr style=\"text-align: right;\">\n",
              "      <th></th>\n",
              "      <th>index</th>\n",
              "      <th>index_df</th>\n",
              "      <th>Texte</th>\n",
              "      <th>returned_labels</th>\n",
              "      <th>model_pred</th>\n",
              "      <th>one_score</th>\n",
              "      <th>max_score</th>\n",
              "      <th>WF</th>\n",
              "      <th>Titre</th>\n",
              "      <th>Id</th>\n",
              "      <th>Theme</th>\n",
              "      <th>Prenom</th>\n",
              "      <th>Nom</th>\n",
              "      <th>Date</th>\n",
              "      <th>Tags</th>\n",
              "      <th>sexe</th>\n",
              "    </tr>\n",
              "  </thead>\n",
              "  <tbody>\n",
              "    <tr>\n",
              "      <th>269</th>\n",
              "      <td>10285</td>\n",
              "      <td>207611</td>\n",
              "      <td>était opposé, d'une augmentation massive de la...</td>\n",
              "      <td>1.0</td>\n",
              "      <td>0.0</td>\n",
              "      <td>-2.180202</td>\n",
              "      <td>2.244317</td>\n",
              "      <td>False</td>\n",
              "      <td>Déclaration de Mme Agnès Buzyn, ministre des s...</td>\n",
              "      <td>207611</td>\n",
              "      <td>Société</td>\n",
              "      <td>Agnès</td>\n",
              "      <td>Buzyn</td>\n",
              "      <td>2018-12-03T12:00:00Z</td>\n",
              "      <td>Santé - Protection sociale,Sécurité sociale</td>\n",
              "      <td>1</td>\n",
              "    </tr>\n",
              "    <tr>\n",
              "      <th>137</th>\n",
              "      <td>10153</td>\n",
              "      <td>141618</td>\n",
              "      <td>Comme vous l'avez indiqué à l'instant et comme...</td>\n",
              "      <td>1.0</td>\n",
              "      <td>0.0</td>\n",
              "      <td>-2.125124</td>\n",
              "      <td>2.124025</td>\n",
              "      <td>False</td>\n",
              "      <td>Déclaration de Mme Noëlle Lenoir, ministre dél...</td>\n",
              "      <td>141618</td>\n",
              "      <td>International</td>\n",
              "      <td>Noëlle</td>\n",
              "      <td>Lenoir</td>\n",
              "      <td>2003-06-17T12:00:00Z</td>\n",
              "      <td>Union européenne,Institutions européennes</td>\n",
              "      <td>1</td>\n",
              "    </tr>\n",
              "    <tr>\n",
              "      <th>64</th>\n",
              "      <td>10080</td>\n",
              "      <td>151404</td>\n",
              "      <td>ont fait des efforts considérables lorsque la ...</td>\n",
              "      <td>1.0</td>\n",
              "      <td>0.0</td>\n",
              "      <td>-2.116024</td>\n",
              "      <td>2.100739</td>\n",
              "      <td>False</td>\n",
              "      <td>Déclaration de Mme Michèle Alliot-Marie, prési...</td>\n",
              "      <td>151404</td>\n",
              "      <td>NaN</td>\n",
              "      <td>Michèle</td>\n",
              "      <td>Alliot-Marie</td>\n",
              "      <td>2000-09-29T12:00:00Z</td>\n",
              "      <td>NaN</td>\n",
              "      <td>1</td>\n",
              "    </tr>\n",
              "  </tbody>\n",
              "</table>\n",
              "</div>"
            ],
            "text/plain": [
              "     index  index_df  ...                                         Tags  sexe\n",
              "269  10285    207611  ...  Santé - Protection sociale,Sécurité sociale     1\n",
              "137  10153    141618  ...    Union européenne,Institutions européennes     1\n",
              "64   10080    151404  ...                                          NaN     1\n",
              "\n",
              "[3 rows x 16 columns]"
            ]
          },
          "metadata": {
            "tags": []
          },
          "execution_count": 245
        }
      ]
    },
    {
      "cell_type": "markdown",
      "metadata": {
        "id": "NjJlGCVmhlsW",
        "colab_type": "text"
      },
      "source": [
        "We want to dive a bit into the model and see how it makes a choice and why it fails to recognize the denger of the speaker on these sentences . Let's take one of them. We will redo point 4 of TD4 to see the score reached by each word. "
      ]
    },
    {
      "cell_type": "code",
      "metadata": {
        "id": "wQWuNom8MMcA",
        "colab_type": "code",
        "colab": {}
      },
      "source": [
        "def split_document_to_limit_phrases(MAX_TOKENS,df):\n",
        "  lst= []\n",
        "  for index,row in df.iterrows():\n",
        "    identifiant = row.Id\n",
        "    label = row.sexe\n",
        "    phrase = ''\n",
        "    for phrases in sent_detector_mano(row.Texte):\n",
        "      if len(phrase.split(' ')) + len(phrases.split(' ')) < MAX_TOKENS:\n",
        "        phrase+= \" \" + phrases\n",
        "      else:\n",
        "        lst += [(identifiant,label,phrase,len(phrase.split(' ')))]\n",
        "        phrase = ''\n",
        "    lst += [(identifiant,label,phrase,len(phrase.split(' ')))]\n",
        "    phrase = ''\n",
        "  return pd.DataFrame(lst,columns=['index_df','sexe','Texte','Length'])"
      ],
      "execution_count": 0,
      "outputs": []
    },
    {
      "cell_type": "code",
      "metadata": {
        "id": "3XKOwjLLh7u4",
        "colab_type": "code",
        "colab": {}
      },
      "source": [
        "sentence_to_analyse = pd.concat([top_texts_false,top_texts_true]).reset_index(drop=True)\n",
        "sentence_to_analyse=split_document_to_limit_phrases(50,sentence_to_analyse)\n",
        "sentence_to_analyse=sentence_to_analyse[sentence_to_analyse.Texte!='']"
      ],
      "execution_count": 0,
      "outputs": []
    },
    {
      "cell_type": "code",
      "metadata": {
        "id": "F3MVBt9Ym275",
        "colab_type": "code",
        "outputId": "ffaa1284-0dc1-41a0-a8e0-f79ffe56ec03",
        "colab": {
          "base_uri": "https://localhost:8080/",
          "height": 34
        }
      },
      "source": [
        "max(sentence_to_analyse.Length)"
      ],
      "execution_count": 248,
      "outputs": [
        {
          "output_type": "execute_result",
          "data": {
            "text/plain": [
              "49"
            ]
          },
          "metadata": {
            "tags": []
          },
          "execution_count": 248
        }
      ]
    },
    {
      "cell_type": "code",
      "metadata": {
        "id": "mZLxjL043Zqv",
        "colab_type": "code",
        "colab": {
          "base_uri": "https://localhost:8080/",
          "height": 1000
        },
        "outputId": "9a8fbc75-6d51-4a1e-f9bf-80d224f3281f"
      },
      "source": [
        "sentence_to_analyse.Texte"
      ],
      "execution_count": 336,
      "outputs": [
        {
          "output_type": "execute_result",
          "data": {
            "text/html": [
              "<div>\n",
              "<style scoped>\n",
              "    .dataframe tbody tr th:only-of-type {\n",
              "        vertical-align: middle;\n",
              "    }\n",
              "\n",
              "    .dataframe tbody tr th {\n",
              "        vertical-align: top;\n",
              "    }\n",
              "\n",
              "    .dataframe thead th {\n",
              "        text-align: right;\n",
              "    }\n",
              "</style>\n",
              "<table border=\"1\" class=\"dataframe\">\n",
              "  <thead>\n",
              "    <tr style=\"text-align: right;\">\n",
              "      <th></th>\n",
              "      <th>index_df</th>\n",
              "      <th>sexe</th>\n",
              "      <th>Texte</th>\n",
              "      <th>Length</th>\n",
              "    </tr>\n",
              "  </thead>\n",
              "  <tbody>\n",
              "    <tr>\n",
              "      <th>2</th>\n",
              "      <td>207611</td>\n",
              "      <td>1</td>\n",
              "      <td>J'associe également à mes remerciements les s...</td>\n",
              "      <td>27</td>\n",
              "    </tr>\n",
              "    <tr>\n",
              "      <th>3</th>\n",
              "      <td>207611</td>\n",
              "      <td>1</td>\n",
              "      <td>Ce texte affermit le socle sur lequel ces pro...</td>\n",
              "      <td>45</td>\n",
              "    </tr>\n",
              "    <tr>\n",
              "      <th>4</th>\n",
              "      <td>207611</td>\n",
              "      <td>1</td>\n",
              "      <td>le secrétaire d'État auprès du ministre de l'...</td>\n",
              "      <td>45</td>\n",
              "    </tr>\n",
              "    <tr>\n",
              "      <th>5</th>\n",
              "      <td>207611</td>\n",
              "      <td>1</td>\n",
              "      <td>M. François Pupponi. Cette lettre, il faut la...</td>\n",
              "      <td>46</td>\n",
              "    </tr>\n",
              "    <tr>\n",
              "      <th>6</th>\n",
              "      <td>207611</td>\n",
              "      <td>1</td>\n",
              "      <td>poursuivre l'assainissement de nos finances s...</td>\n",
              "      <td>25</td>\n",
              "    </tr>\n",
              "    <tr>\n",
              "      <th>7</th>\n",
              "      <td>207611</td>\n",
              "      <td>1</td>\n",
              "      <td>Avec un PLFSS qui présente un solde de la séc...</td>\n",
              "      <td>41</td>\n",
              "    </tr>\n",
              "    <tr>\n",
              "      <th>8</th>\n",
              "      <td>207611</td>\n",
              "      <td>1</td>\n",
              "      <td>c'est, là encore, une première depuis l'an 20...</td>\n",
              "      <td>21</td>\n",
              "    </tr>\n",
              "    <tr>\n",
              "      <th>9</th>\n",
              "      <td>141618</td>\n",
              "      <td>1</td>\n",
              "      <td>Comme vous l'avez indiqué à l'instant et comm...</td>\n",
              "      <td>47</td>\n",
              "    </tr>\n",
              "    <tr>\n",
              "      <th>10</th>\n",
              "      <td>141618</td>\n",
              "      <td>1</td>\n",
              "      <td>Tous les conventionnels français se sont impl...</td>\n",
              "      <td>28</td>\n",
              "    </tr>\n",
              "    <tr>\n",
              "      <th>11</th>\n",
              "      <td>141618</td>\n",
              "      <td>1</td>\n",
              "      <td>Deux innovations promues par la France figure...</td>\n",
              "      <td>12</td>\n",
              "    </tr>\n",
              "    <tr>\n",
              "      <th>12</th>\n",
              "      <td>141618</td>\n",
              "      <td>1</td>\n",
              "      <td>La deuxième avancée est la simplification des...</td>\n",
              "      <td>43</td>\n",
              "    </tr>\n",
              "    <tr>\n",
              "      <th>13</th>\n",
              "      <td>141618</td>\n",
              "      <td>1</td>\n",
              "      <td>Au nom de la France, d'une part, nous souhait...</td>\n",
              "      <td>49</td>\n",
              "    </tr>\n",
              "    <tr>\n",
              "      <th>16</th>\n",
              "      <td>151404</td>\n",
              "      <td>1</td>\n",
              "      <td>ont fait des efforts considérables lorsque la...</td>\n",
              "      <td>44</td>\n",
              "    </tr>\n",
              "    <tr>\n",
              "      <th>17</th>\n",
              "      <td>151404</td>\n",
              "      <td>1</td>\n",
              "      <td>L'Etat doit être remis à sa place, rendu à se...</td>\n",
              "      <td>45</td>\n",
              "    </tr>\n",
              "    <tr>\n",
              "      <th>18</th>\n",
              "      <td>151404</td>\n",
              "      <td>1</td>\n",
              "      <td>Comme le savent certains d'entre nous qui ont...</td>\n",
              "      <td>47</td>\n",
              "    </tr>\n",
              "    <tr>\n",
              "      <th>19</th>\n",
              "      <td>151404</td>\n",
              "      <td>1</td>\n",
              "      <td>Là aussi ! L'Etat doit redevenir un Etat au s...</td>\n",
              "      <td>46</td>\n",
              "    </tr>\n",
              "    <tr>\n",
              "      <th>20</th>\n",
              "      <td>151404</td>\n",
              "      <td>1</td>\n",
              "      <td>Nos compatriotes réclament la sécurité et une...</td>\n",
              "      <td>15</td>\n",
              "    </tr>\n",
              "    <tr>\n",
              "      <th>21</th>\n",
              "      <td>151404</td>\n",
              "      <td>1</td>\n",
              "      <td>Les Français attendent aussi de l'Etat qu'il ...</td>\n",
              "      <td>31</td>\n",
              "    </tr>\n",
              "    <tr>\n",
              "      <th>22</th>\n",
              "      <td>151404</td>\n",
              "      <td>1</td>\n",
              "      <td>; protéger leur santé c'est assurer la généra...</td>\n",
              "      <td>34</td>\n",
              "    </tr>\n",
              "    <tr>\n",
              "      <th>23</th>\n",
              "      <td>190705</td>\n",
              "      <td>0</td>\n",
              "      <td>Monsieur le Maire, (Philippe Sueur)Monsieur l...</td>\n",
              "      <td>46</td>\n",
              "    </tr>\n",
              "    <tr>\n",
              "      <th>24</th>\n",
              "      <td>190705</td>\n",
              "      <td>0</td>\n",
              "      <td>Nous le faisons dans un contexte singulier, p...</td>\n",
              "      <td>13</td>\n",
              "    </tr>\n",
              "    <tr>\n",
              "      <th>25</th>\n",
              "      <td>190705</td>\n",
              "      <td>0</td>\n",
              "      <td>Nous devons marquer avec fermeté, comme l'ont...</td>\n",
              "      <td>47</td>\n",
              "    </tr>\n",
              "    <tr>\n",
              "      <th>26</th>\n",
              "      <td>190705</td>\n",
              "      <td>0</td>\n",
              "      <td>La fermeté de notre réaction est une question...</td>\n",
              "      <td>46</td>\n",
              "    </tr>\n",
              "    <tr>\n",
              "      <th>27</th>\n",
              "      <td>190705</td>\n",
              "      <td>0</td>\n",
              "      <td>- Troisièmement, nous devons soutenir les aut...</td>\n",
              "      <td>23</td>\n",
              "    </tr>\n",
              "    <tr>\n",
              "      <th>28</th>\n",
              "      <td>190705</td>\n",
              "      <td>0</td>\n",
              "      <td>Nous mesurons bien l'ampleur du défi.</td>\n",
              "      <td>7</td>\n",
              "    </tr>\n",
              "    <tr>\n",
              "      <th>29</th>\n",
              "      <td>190705</td>\n",
              "      <td>0</td>\n",
              "      <td>Il y a bien sûr une deuxième raison qui fait ...</td>\n",
              "      <td>41</td>\n",
              "    </tr>\n",
              "    <tr>\n",
              "      <th>30</th>\n",
              "      <td>190705</td>\n",
              "      <td>0</td>\n",
              "      <td>Par rapport ensuite à la montée des partis po...</td>\n",
              "      <td>45</td>\n",
              "    </tr>\n",
              "    <tr>\n",
              "      <th>31</th>\n",
              "      <td>175855</td>\n",
              "      <td>0</td>\n",
              "      <td>Je suis ravi, au nom de notre congrès, de vou...</td>\n",
              "      <td>34</td>\n",
              "    </tr>\n",
              "    <tr>\n",
              "      <th>32</th>\n",
              "      <td>175855</td>\n",
              "      <td>0</td>\n",
              "      <td>- Un département agricole et rural à forte id...</td>\n",
              "      <td>33</td>\n",
              "    </tr>\n",
              "    <tr>\n",
              "      <th>33</th>\n",
              "      <td>175855</td>\n",
              "      <td>0</td>\n",
              "      <td>Pour toutes ces raisons-là, je vous dois, au ...</td>\n",
              "      <td>19</td>\n",
              "    </tr>\n",
              "    <tr>\n",
              "      <th>34</th>\n",
              "      <td>175855</td>\n",
              "      <td>0</td>\n",
              "      <td>Je vous sais gré, monsieur le ministre de l'A...</td>\n",
              "      <td>48</td>\n",
              "    </tr>\n",
              "    <tr>\n",
              "      <th>35</th>\n",
              "      <td>175855</td>\n",
              "      <td>0</td>\n",
              "      <td>nous avons construit ensemble une page nouvel...</td>\n",
              "      <td>26</td>\n",
              "    </tr>\n",
              "    <tr>\n",
              "      <th>36</th>\n",
              "      <td>175855</td>\n",
              "      <td>0</td>\n",
              "      <td>Bien sûr, la réorientation des aides en faveu...</td>\n",
              "      <td>47</td>\n",
              "    </tr>\n",
              "    <tr>\n",
              "      <th>37</th>\n",
              "      <td>175855</td>\n",
              "      <td>0</td>\n",
              "      <td>Mais là où nous sommes les plus amers, c'est ...</td>\n",
              "      <td>34</td>\n",
              "    </tr>\n",
              "    <tr>\n",
              "      <th>38</th>\n",
              "      <td>175855</td>\n",
              "      <td>0</td>\n",
              "      <td>Alors que les groupes sur la FCO ne se réunis...</td>\n",
              "      <td>26</td>\n",
              "    </tr>\n",
              "    <tr>\n",
              "      <th>39</th>\n",
              "      <td>175855</td>\n",
              "      <td>0</td>\n",
              "      <td>. . . Faisant fi de la flexibilité des aides,...</td>\n",
              "      <td>24</td>\n",
              "    </tr>\n",
              "    <tr>\n",
              "      <th>40</th>\n",
              "      <td>175855</td>\n",
              "      <td>0</td>\n",
              "      <td>Et ce n'est pas « l'hypothétique, l'improbabl...</td>\n",
              "      <td>25</td>\n",
              "    </tr>\n",
              "    <tr>\n",
              "      <th>41</th>\n",
              "      <td>186950</td>\n",
              "      <td>0</td>\n",
              "      <td>d'aide d'État aux entreprises étant prohibée)...</td>\n",
              "      <td>49</td>\n",
              "    </tr>\n",
              "    <tr>\n",
              "      <th>42</th>\n",
              "      <td>186950</td>\n",
              "      <td>0</td>\n",
              "      <td>La réponse adaptée est bien, selon moi, celle...</td>\n",
              "      <td>34</td>\n",
              "    </tr>\n",
              "    <tr>\n",
              "      <th>43</th>\n",
              "      <td>186950</td>\n",
              "      <td>0</td>\n",
              "      <td>Arrivé en politique en 1982-83-84, j'ai décou...</td>\n",
              "      <td>29</td>\n",
              "    </tr>\n",
              "    <tr>\n",
              "      <th>44</th>\n",
              "      <td>186950</td>\n",
              "      <td>0</td>\n",
              "      <td>C'est une bonne réponse qui permet des altern...</td>\n",
              "      <td>39</td>\n",
              "    </tr>\n",
              "    <tr>\n",
              "      <th>45</th>\n",
              "      <td>186950</td>\n",
              "      <td>0</td>\n",
              "      <td>Les défaillances industrielles sont d'abord s...</td>\n",
              "      <td>18</td>\n",
              "    </tr>\n",
              "    <tr>\n",
              "      <th>46</th>\n",
              "      <td>186950</td>\n",
              "      <td>0</td>\n",
              "      <td>C'est pourquoi, avec le Premier ministre et l...</td>\n",
              "      <td>31</td>\n",
              "    </tr>\n",
              "    <tr>\n",
              "      <th>47</th>\n",
              "      <td>186950</td>\n",
              "      <td>0</td>\n",
              "      <td>l'Italie, l'Espagne, le Royaume-Uni en partic...</td>\n",
              "      <td>48</td>\n",
              "    </tr>\n",
              "    <tr>\n",
              "      <th>48</th>\n",
              "      <td>186950</td>\n",
              "      <td>0</td>\n",
              "      <td>Il faut que nous nous mettions dans la course...</td>\n",
              "      <td>32</td>\n",
              "    </tr>\n",
              "  </tbody>\n",
              "</table>\n",
              "</div>"
            ],
            "text/plain": [
              "    index_df  sexe                                              Texte  Length\n",
              "2     207611     1   J'associe également à mes remerciements les s...      27\n",
              "3     207611     1   Ce texte affermit le socle sur lequel ces pro...      45\n",
              "4     207611     1   le secrétaire d'État auprès du ministre de l'...      45\n",
              "5     207611     1   M. François Pupponi. Cette lettre, il faut la...      46\n",
              "6     207611     1   poursuivre l'assainissement de nos finances s...      25\n",
              "7     207611     1   Avec un PLFSS qui présente un solde de la séc...      41\n",
              "8     207611     1   c'est, là encore, une première depuis l'an 20...      21\n",
              "9     141618     1   Comme vous l'avez indiqué à l'instant et comm...      47\n",
              "10    141618     1   Tous les conventionnels français se sont impl...      28\n",
              "11    141618     1   Deux innovations promues par la France figure...      12\n",
              "12    141618     1   La deuxième avancée est la simplification des...      43\n",
              "13    141618     1   Au nom de la France, d'une part, nous souhait...      49\n",
              "16    151404     1   ont fait des efforts considérables lorsque la...      44\n",
              "17    151404     1   L'Etat doit être remis à sa place, rendu à se...      45\n",
              "18    151404     1   Comme le savent certains d'entre nous qui ont...      47\n",
              "19    151404     1   Là aussi ! L'Etat doit redevenir un Etat au s...      46\n",
              "20    151404     1   Nos compatriotes réclament la sécurité et une...      15\n",
              "21    151404     1   Les Français attendent aussi de l'Etat qu'il ...      31\n",
              "22    151404     1   ; protéger leur santé c'est assurer la généra...      34\n",
              "23    190705     0   Monsieur le Maire, (Philippe Sueur)Monsieur l...      46\n",
              "24    190705     0   Nous le faisons dans un contexte singulier, p...      13\n",
              "25    190705     0   Nous devons marquer avec fermeté, comme l'ont...      47\n",
              "26    190705     0   La fermeté de notre réaction est une question...      46\n",
              "27    190705     0   - Troisièmement, nous devons soutenir les aut...      23\n",
              "28    190705     0              Nous mesurons bien l'ampleur du défi.       7\n",
              "29    190705     0   Il y a bien sûr une deuxième raison qui fait ...      41\n",
              "30    190705     0   Par rapport ensuite à la montée des partis po...      45\n",
              "31    175855     0   Je suis ravi, au nom de notre congrès, de vou...      34\n",
              "32    175855     0   - Un département agricole et rural à forte id...      33\n",
              "33    175855     0   Pour toutes ces raisons-là, je vous dois, au ...      19\n",
              "34    175855     0   Je vous sais gré, monsieur le ministre de l'A...      48\n",
              "35    175855     0   nous avons construit ensemble une page nouvel...      26\n",
              "36    175855     0   Bien sûr, la réorientation des aides en faveu...      47\n",
              "37    175855     0   Mais là où nous sommes les plus amers, c'est ...      34\n",
              "38    175855     0   Alors que les groupes sur la FCO ne se réunis...      26\n",
              "39    175855     0   . . . Faisant fi de la flexibilité des aides,...      24\n",
              "40    175855     0   Et ce n'est pas « l'hypothétique, l'improbabl...      25\n",
              "41    186950     0   d'aide d'État aux entreprises étant prohibée)...      49\n",
              "42    186950     0   La réponse adaptée est bien, selon moi, celle...      34\n",
              "43    186950     0   Arrivé en politique en 1982-83-84, j'ai décou...      29\n",
              "44    186950     0   C'est une bonne réponse qui permet des altern...      39\n",
              "45    186950     0   Les défaillances industrielles sont d'abord s...      18\n",
              "46    186950     0   C'est pourquoi, avec le Premier ministre et l...      31\n",
              "47    186950     0   l'Italie, l'Espagne, le Royaume-Uni en partic...      48\n",
              "48    186950     0   Il faut que nous nous mettions dans la course...      32"
            ]
          },
          "metadata": {
            "tags": []
          },
          "execution_count": 336
        }
      ]
    },
    {
      "cell_type": "code",
      "metadata": {
        "id": "lhu2c2MSkOmD",
        "colab_type": "code",
        "outputId": "3bb50008-3ed6-41c3-8a9a-af2bb1a75764",
        "colab": {
          "base_uri": "https://localhost:8080/",
          "height": 238
        }
      },
      "source": [
        "# We prepare again the development sample for analysis \n",
        "\n",
        "from torch.utils.data import TensorDataset, random_split\n",
        "from torch.utils.data import DataLoader, RandomSampler, SequentialSampler\n",
        "from transformers import CamembertTokenizer\n",
        "\n",
        "texts = dev_balanced_split.Texte.values\n",
        "labels = dev_balanced_split.sexe.values\n",
        "tokenizer = CamembertTokenizer.from_pretrained('camembert-base', do_lower_case=False,padding_side='right')\n",
        "\n",
        "# Tokenize all of the sentences and map the tokens to thier word IDs.\n",
        "input_ids = []\n",
        "attention_masks = []\n",
        "num_truncated_tokens =[]\n",
        "\n",
        "for text in texts:\n",
        "  encoded_dict = tokenizer.encode_plus(\n",
        "                        text,                      # text\n",
        "                        add_special_tokens = True, # Add '[CLS]' and '[SEP]'\n",
        "                        max_length = 60,           # We choose for now a max length of 500.\n",
        "                        pad_to_max_length = True,    # Pad text to max \n",
        "                        return_attention_mask = True,   # Construct attention masks\n",
        "                        return_tensors = 'pt',     # Return pytorch tensors.\n",
        "                        return_overflowing_tokens =True, # return overflowing token information\n",
        "                  )\n",
        "    \n",
        "    # Map tokens to their id in the dictionnary \n",
        "    # We add this to our list    \n",
        "  input_ids.append(encoded_dict['input_ids'])\n",
        "\n",
        "    #num_truncated_tokens.append(encoded_dict['num_truncated_tokens'])\n",
        "    \n",
        "    # 3. Attention masks\n",
        "  attention_masks.append(encoded_dict['attention_mask'])\n",
        "\n",
        "# We convert all this into tensors in order to be able to make it work on GPU \n",
        "input_ids = torch.cat(input_ids, dim=0)\n",
        "attention_masks = torch.cat(attention_masks, dim=0)\n",
        "labels = torch.tensor(labels)\n",
        "\n",
        "# Original text and transformed tensor print \n",
        "print(\"Let's check for the first text indexes, attention masks and labels\")\n",
        "print(\" \")\n",
        "print('Original: ', texts[0][0:100])\n",
        "print('IDs:', input_ids[0][0:100])\n",
        "print('Attention masks:', attention_masks[0][0:100])\n",
        "print('labels',labels[0])\n",
        "\n",
        "# Combine all above\n",
        "dataset = TensorDataset(input_ids, attention_masks, labels)\n",
        "# We create data loaders for the train and validation dataset. \n",
        "dev_dataloader = DataLoader(\n",
        "            dataset,  # The training samples.\n",
        "            batch_size = 1, # Trains with this batch size.\n",
        "            shuffle=False\n",
        "        )"
      ],
      "execution_count": 250,
      "outputs": [
        {
          "output_type": "stream",
          "text": [
            "Let's check for the first text indexes, attention masks and labels\n",
            " \n",
            "Original:  1,7 milliards d'euros sur la période 2007-2013. Au total, ce sont 2,4 milliards d'euros que l'Etat i\n",
            "IDs: tensor([    5,   124,     7,   959,  1885,    18,    11,  1958,    32,    13,\n",
            "          782,  2598,    26,  8622,     9,   277,  1458,     7,    44,    56,\n",
            "        27872,  1885,    18,    11,  1958,    27,    17,    11,  1184, 24721,\n",
            "          564,    15,   689,    29,    17,    11,  1894,  2062,     8,    13,\n",
            "         2117,     9,  5338, 10456,    20,  2697, 12426,    18,    11,    70,\n",
            "         1323, 18541,    29,    17,    11,    70,    20, 10415,    19,     6])\n",
            "Attention masks: tensor([1, 1, 1, 1, 1, 1, 1, 1, 1, 1, 1, 1, 1, 1, 1, 1, 1, 1, 1, 1, 1, 1, 1, 1,\n",
            "        1, 1, 1, 1, 1, 1, 1, 1, 1, 1, 1, 1, 1, 1, 1, 1, 1, 1, 1, 1, 1, 1, 1, 1,\n",
            "        1, 1, 1, 1, 1, 1, 1, 1, 1, 1, 1, 1])\n",
            "labels tensor(1)\n"
          ],
          "name": "stdout"
        }
      ]
    },
    {
      "cell_type": "code",
      "metadata": {
        "id": "UzsoooGrlpdC",
        "colab_type": "code",
        "colab": {}
      },
      "source": [
        "total_pred,total_labels,total_logits =evaluation_loop(gender_model,dev_dataloader)"
      ],
      "execution_count": 0,
      "outputs": []
    },
    {
      "cell_type": "code",
      "metadata": {
        "id": "pX2fdfkm89C_",
        "colab_type": "code",
        "colab": {}
      },
      "source": [
        "result =  dev_treatment(total_pred,total_labels,total_logits,dev_balanced_split,df)"
      ],
      "execution_count": 0,
      "outputs": []
    },
    {
      "cell_type": "code",
      "metadata": {
        "id": "aTK50qJZngQW",
        "colab_type": "code",
        "outputId": "0f1033d1-889a-4007-a6b6-62cf7e9341ab",
        "colab": {
          "base_uri": "https://localhost:8080/",
          "height": 1000
        }
      },
      "source": [
        "result"
      ],
      "execution_count": 253,
      "outputs": [
        {
          "output_type": "execute_result",
          "data": {
            "text/html": [
              "<div>\n",
              "<style scoped>\n",
              "    .dataframe tbody tr th:only-of-type {\n",
              "        vertical-align: middle;\n",
              "    }\n",
              "\n",
              "    .dataframe tbody tr th {\n",
              "        vertical-align: top;\n",
              "    }\n",
              "\n",
              "    .dataframe thead th {\n",
              "        text-align: right;\n",
              "    }\n",
              "</style>\n",
              "<table border=\"1\" class=\"dataframe\">\n",
              "  <thead>\n",
              "    <tr style=\"text-align: right;\">\n",
              "      <th></th>\n",
              "      <th>index</th>\n",
              "      <th>index_df</th>\n",
              "      <th>Texte</th>\n",
              "      <th>returned_labels</th>\n",
              "      <th>model_pred</th>\n",
              "      <th>one_score</th>\n",
              "      <th>max_score</th>\n",
              "      <th>WF</th>\n",
              "      <th>Titre</th>\n",
              "      <th>Id</th>\n",
              "      <th>Theme</th>\n",
              "      <th>Prenom</th>\n",
              "      <th>Nom</th>\n",
              "      <th>Date</th>\n",
              "      <th>Tags</th>\n",
              "      <th>sexe</th>\n",
              "    </tr>\n",
              "  </thead>\n",
              "  <tbody>\n",
              "    <tr>\n",
              "      <th>0</th>\n",
              "      <td>10016</td>\n",
              "      <td>179171</td>\n",
              "      <td>1,7 milliards d'euros sur la période 2007-2013...</td>\n",
              "      <td>1.0</td>\n",
              "      <td>0.0</td>\n",
              "      <td>-0.666394</td>\n",
              "      <td>0.704905</td>\n",
              "      <td>False</td>\n",
              "      <td>Déclaration de mme Valérie Pécresse, ministre ...</td>\n",
              "      <td>179171</td>\n",
              "      <td>Société</td>\n",
              "      <td>Valérie</td>\n",
              "      <td>Pécresse</td>\n",
              "      <td>2010-05-10T12:00:00Z</td>\n",
              "      <td>Education - Recherche,Enseignement supérieur</td>\n",
              "      <td>1</td>\n",
              "    </tr>\n",
              "    <tr>\n",
              "      <th>1</th>\n",
              "      <td>10017</td>\n",
              "      <td>207611</td>\n",
              "      <td>Projet de loi de financement de la sécurité so...</td>\n",
              "      <td>1.0</td>\n",
              "      <td>1.0</td>\n",
              "      <td>1.360630</td>\n",
              "      <td>1.360630</td>\n",
              "      <td>True</td>\n",
              "      <td>Déclaration de Mme Agnès Buzyn, ministre des s...</td>\n",
              "      <td>207611</td>\n",
              "      <td>Société</td>\n",
              "      <td>Agnès</td>\n",
              "      <td>Buzyn</td>\n",
              "      <td>2018-12-03T12:00:00Z</td>\n",
              "      <td>Santé - Protection sociale,Sécurité sociale</td>\n",
              "      <td>1</td>\n",
              "    </tr>\n",
              "    <tr>\n",
              "      <th>2</th>\n",
              "      <td>10018</td>\n",
              "      <td>198959</td>\n",
              "      <td>jeunes diplômés et demandeurs d'emploi, ces cl...</td>\n",
              "      <td>1.0</td>\n",
              "      <td>1.0</td>\n",
              "      <td>0.071980</td>\n",
              "      <td>0.071980</td>\n",
              "      <td>True</td>\n",
              "      <td>Déclaration de Mme Annick Girardin, ministre d...</td>\n",
              "      <td>198959</td>\n",
              "      <td>Institutions</td>\n",
              "      <td>Annick</td>\n",
              "      <td>Girardin</td>\n",
              "      <td>2016-03-29T12:00:00Z</td>\n",
              "      <td>Administration - Réforme de l'Etat,Fonction pu...</td>\n",
              "      <td>1</td>\n",
              "    </tr>\n",
              "    <tr>\n",
              "      <th>3</th>\n",
              "      <td>10019</td>\n",
              "      <td>271813</td>\n",
              "      <td>forces spéciales françaises aux côtés des forc...</td>\n",
              "      <td>1.0</td>\n",
              "      <td>1.0</td>\n",
              "      <td>1.344709</td>\n",
              "      <td>1.344709</td>\n",
              "      <td>True</td>\n",
              "      <td>Déclaration de Mme Florence Parly, ministre de...</td>\n",
              "      <td>271813</td>\n",
              "      <td>International</td>\n",
              "      <td>Florence</td>\n",
              "      <td>Parly</td>\n",
              "      <td>2019-11-05T12:00:00Z</td>\n",
              "      <td>Défense,Intervention militaire</td>\n",
              "      <td>1</td>\n",
              "    </tr>\n",
              "    <tr>\n",
              "      <th>4</th>\n",
              "      <td>10020</td>\n",
              "      <td>139911</td>\n",
              "      <td>Monsieur le Ministre,Mesdames et Messieurs les...</td>\n",
              "      <td>0.0</td>\n",
              "      <td>0.0</td>\n",
              "      <td>-1.354045</td>\n",
              "      <td>1.456618</td>\n",
              "      <td>True</td>\n",
              "      <td>Déclaration de M. Jacques Chirac, président de...</td>\n",
              "      <td>139911</td>\n",
              "      <td>Société</td>\n",
              "      <td>Jacques</td>\n",
              "      <td>Chirac</td>\n",
              "      <td>2003-04-07T12:00:00Z</td>\n",
              "      <td>Société - Population,Sport</td>\n",
              "      <td>0</td>\n",
              "    </tr>\n",
              "    <tr>\n",
              "      <th>...</th>\n",
              "      <td>...</td>\n",
              "      <td>...</td>\n",
              "      <td>...</td>\n",
              "      <td>...</td>\n",
              "      <td>...</td>\n",
              "      <td>...</td>\n",
              "      <td>...</td>\n",
              "      <td>...</td>\n",
              "      <td>...</td>\n",
              "      <td>...</td>\n",
              "      <td>...</td>\n",
              "      <td>...</td>\n",
              "      <td>...</td>\n",
              "      <td>...</td>\n",
              "      <td>...</td>\n",
              "      <td>...</td>\n",
              "    </tr>\n",
              "    <tr>\n",
              "      <th>305</th>\n",
              "      <td>10321</td>\n",
              "      <td>130641</td>\n",
              "      <td>la République.De cette double préoccupation de...</td>\n",
              "      <td>1.0</td>\n",
              "      <td>0.0</td>\n",
              "      <td>-1.939299</td>\n",
              "      <td>1.923355</td>\n",
              "      <td>False</td>\n",
              "      <td>Déclaration de Mme Michèle Alliot-Marie, prési...</td>\n",
              "      <td>130641</td>\n",
              "      <td>NaN</td>\n",
              "      <td>Michèle</td>\n",
              "      <td>Alliot-Marie</td>\n",
              "      <td>2000-06-17T12:00:00Z</td>\n",
              "      <td>NaN</td>\n",
              "      <td>1</td>\n",
              "    </tr>\n",
              "    <tr>\n",
              "      <th>306</th>\n",
              "      <td>10322</td>\n",
              "      <td>163869</td>\n",
              "      <td>sociétés d'assurances .Des mesures ont été pri...</td>\n",
              "      <td>1.0</td>\n",
              "      <td>0.0</td>\n",
              "      <td>-0.736361</td>\n",
              "      <td>0.705761</td>\n",
              "      <td>False</td>\n",
              "      <td>Déclaration de Mme Michèle Alliot-Marie, minis...</td>\n",
              "      <td>163869</td>\n",
              "      <td>International</td>\n",
              "      <td>Michèle</td>\n",
              "      <td>Alliot-Marie</td>\n",
              "      <td>2006-10-20T12:00:00Z</td>\n",
              "      <td>Défense,Militaire</td>\n",
              "      <td>1</td>\n",
              "    </tr>\n",
              "    <tr>\n",
              "      <th>307</th>\n",
              "      <td>10323</td>\n",
              "      <td>269498</td>\n",
              "      <td>des ministres du 18 juillet a adopté une feuil...</td>\n",
              "      <td>1.0</td>\n",
              "      <td>1.0</td>\n",
              "      <td>0.375261</td>\n",
              "      <td>0.375261</td>\n",
              "      <td>True</td>\n",
              "      <td>Déclaration de Mme Jacqueline Gourault, minist...</td>\n",
              "      <td>269498</td>\n",
              "      <td>Institutions</td>\n",
              "      <td>Jacqueline</td>\n",
              "      <td>Gourault</td>\n",
              "      <td>2019-01-23T12:00:00Z</td>\n",
              "      <td>Collectivités territoriales,Collectivité locale</td>\n",
              "      <td>1</td>\n",
              "    </tr>\n",
              "    <tr>\n",
              "      <th>308</th>\n",
              "      <td>10324</td>\n",
              "      <td>204747</td>\n",
              "      <td>promeneurs en 2006. La législation impose aux ...</td>\n",
              "      <td>0.0</td>\n",
              "      <td>1.0</td>\n",
              "      <td>1.485659</td>\n",
              "      <td>1.485659</td>\n",
              "      <td>False</td>\n",
              "      <td>Déclaration de M. Sébastien Lecornu, secrétair...</td>\n",
              "      <td>204747</td>\n",
              "      <td>Société</td>\n",
              "      <td>Sébastien</td>\n",
              "      <td>Lecornu</td>\n",
              "      <td>2018-01-16T12:00:00Z</td>\n",
              "      <td>Environnement,Politique de l'environnement</td>\n",
              "      <td>0</td>\n",
              "    </tr>\n",
              "    <tr>\n",
              "      <th>309</th>\n",
              "      <td>10325</td>\n",
              "      <td>190238</td>\n",
              "      <td>qui se cache sous l'acronyme OEAAux premières,...</td>\n",
              "      <td>1.0</td>\n",
              "      <td>1.0</td>\n",
              "      <td>1.821642</td>\n",
              "      <td>1.821642</td>\n",
              "      <td>True</td>\n",
              "      <td>Déclaration de Mme Nicole Bricq, ministre du c...</td>\n",
              "      <td>190238</td>\n",
              "      <td>Economie</td>\n",
              "      <td>Nicole</td>\n",
              "      <td>Bricq</td>\n",
              "      <td>2014-01-16T12:00:00Z</td>\n",
              "      <td>Vie économique,Politique économique</td>\n",
              "      <td>1</td>\n",
              "    </tr>\n",
              "  </tbody>\n",
              "</table>\n",
              "<p>310 rows × 16 columns</p>\n",
              "</div>"
            ],
            "text/plain": [
              "     index  index_df  ...                                               Tags  sexe\n",
              "0    10016    179171  ...       Education - Recherche,Enseignement supérieur     1\n",
              "1    10017    207611  ...        Santé - Protection sociale,Sécurité sociale     1\n",
              "2    10018    198959  ...  Administration - Réforme de l'Etat,Fonction pu...     1\n",
              "3    10019    271813  ...                     Défense,Intervention militaire     1\n",
              "4    10020    139911  ...                         Société - Population,Sport     0\n",
              "..     ...       ...  ...                                                ...   ...\n",
              "305  10321    130641  ...                                                NaN     1\n",
              "306  10322    163869  ...                                  Défense,Militaire     1\n",
              "307  10323    269498  ...    Collectivités territoriales,Collectivité locale     1\n",
              "308  10324    204747  ...         Environnement,Politique de l'environnement     0\n",
              "309  10325    190238  ...                Vie économique,Politique économique     1\n",
              "\n",
              "[310 rows x 16 columns]"
            ]
          },
          "metadata": {
            "tags": []
          },
          "execution_count": 253
        }
      ]
    },
    {
      "cell_type": "code",
      "metadata": {
        "id": "hKNslucdok9J",
        "colab_type": "code",
        "outputId": "a3fe29d8-adec-41f4-b82b-20ff4d64ba9e",
        "colab": {
          "base_uri": "https://localhost:8080/",
          "height": 34
        }
      },
      "source": [
        "#Which sentences failed ? \n",
        "print('{0:.2f} percent of the development texts were not well classified by our model'.format(result[result.WF==False].WF.count()*100/len(result)))"
      ],
      "execution_count": 254,
      "outputs": [
        {
          "output_type": "stream",
          "text": [
            "31.29 percent of the development texts were not well classified by our model\n"
          ],
          "name": "stdout"
        }
      ]
    },
    {
      "cell_type": "code",
      "metadata": {
        "id": "x4z2lKZyoYf4",
        "colab_type": "code",
        "colab": {}
      },
      "source": [
        "top_sentence_true=merged_results[merged_results.WF==1].nlargest(1,'max_score')\n",
        "top_sentence_false=merged_results[merged_results.WF==0].nlargest(1,'max_score')"
      ],
      "execution_count": 0,
      "outputs": []
    },
    {
      "cell_type": "code",
      "metadata": {
        "id": "QpMkyg35qUnF",
        "colab_type": "code",
        "outputId": "a5c05d41-cce3-4216-f5a6-70c4cab835a8",
        "colab": {
          "base_uri": "https://localhost:8080/",
          "height": 80
        }
      },
      "source": [
        "top_sentence_false"
      ],
      "execution_count": 274,
      "outputs": [
        {
          "output_type": "execute_result",
          "data": {
            "text/html": [
              "<div>\n",
              "<style scoped>\n",
              "    .dataframe tbody tr th:only-of-type {\n",
              "        vertical-align: middle;\n",
              "    }\n",
              "\n",
              "    .dataframe tbody tr th {\n",
              "        vertical-align: top;\n",
              "    }\n",
              "\n",
              "    .dataframe thead th {\n",
              "        text-align: right;\n",
              "    }\n",
              "</style>\n",
              "<table border=\"1\" class=\"dataframe\">\n",
              "  <thead>\n",
              "    <tr style=\"text-align: right;\">\n",
              "      <th></th>\n",
              "      <th>index</th>\n",
              "      <th>index_df</th>\n",
              "      <th>Texte</th>\n",
              "      <th>returned_labels</th>\n",
              "      <th>model_pred</th>\n",
              "      <th>one_score</th>\n",
              "      <th>max_score</th>\n",
              "      <th>WF</th>\n",
              "      <th>Id</th>\n",
              "      <th>sexe</th>\n",
              "    </tr>\n",
              "  </thead>\n",
              "  <tbody>\n",
              "    <tr>\n",
              "      <th>268</th>\n",
              "      <td>268</td>\n",
              "      <td>186950</td>\n",
              "      <td>d'entreprises en ayant recours à l'endettement...</td>\n",
              "      <td>1.0</td>\n",
              "      <td>0.0</td>\n",
              "      <td>-2.133656</td>\n",
              "      <td>2.129834</td>\n",
              "      <td>False</td>\n",
              "      <td>186950</td>\n",
              "      <td>0</td>\n",
              "    </tr>\n",
              "  </tbody>\n",
              "</table>\n",
              "</div>"
            ],
            "text/plain": [
              "     index  index_df  ...      Id  sexe\n",
              "268    268    186950  ...  186950     0\n",
              "\n",
              "[1 rows x 10 columns]"
            ]
          },
          "metadata": {
            "tags": []
          },
          "execution_count": 274
        }
      ]
    },
    {
      "cell_type": "code",
      "metadata": {
        "id": "FDqBRQHAqTog",
        "colab_type": "code",
        "outputId": "267313f5-c767-4bc3-f234-53ada0068fae",
        "colab": {
          "base_uri": "https://localhost:8080/",
          "height": 80
        }
      },
      "source": [
        "top_sentence_true"
      ],
      "execution_count": 275,
      "outputs": [
        {
          "output_type": "execute_result",
          "data": {
            "text/html": [
              "<div>\n",
              "<style scoped>\n",
              "    .dataframe tbody tr th:only-of-type {\n",
              "        vertical-align: middle;\n",
              "    }\n",
              "\n",
              "    .dataframe tbody tr th {\n",
              "        vertical-align: top;\n",
              "    }\n",
              "\n",
              "    .dataframe thead th {\n",
              "        text-align: right;\n",
              "    }\n",
              "</style>\n",
              "<table border=\"1\" class=\"dataframe\">\n",
              "  <thead>\n",
              "    <tr style=\"text-align: right;\">\n",
              "      <th></th>\n",
              "      <th>index</th>\n",
              "      <th>index_df</th>\n",
              "      <th>Texte</th>\n",
              "      <th>returned_labels</th>\n",
              "      <th>model_pred</th>\n",
              "      <th>one_score</th>\n",
              "      <th>max_score</th>\n",
              "      <th>WF</th>\n",
              "      <th>Id</th>\n",
              "      <th>sexe</th>\n",
              "    </tr>\n",
              "  </thead>\n",
              "  <tbody>\n",
              "    <tr>\n",
              "      <th>34</th>\n",
              "      <td>34</td>\n",
              "      <td>207611</td>\n",
              "      <td>Protestations sur les bancs des groupes LR et ...</td>\n",
              "      <td>0.0</td>\n",
              "      <td>0.0</td>\n",
              "      <td>-2.275539</td>\n",
              "      <td>2.304747</td>\n",
              "      <td>True</td>\n",
              "      <td>207611</td>\n",
              "      <td>1</td>\n",
              "    </tr>\n",
              "  </tbody>\n",
              "</table>\n",
              "</div>"
            ],
            "text/plain": [
              "    index  index_df  ...      Id  sexe\n",
              "34     34    207611  ...  207611     1\n",
              "\n",
              "[1 rows x 10 columns]"
            ]
          },
          "metadata": {
            "tags": []
          },
          "execution_count": 275
        }
      ]
    },
    {
      "cell_type": "code",
      "metadata": {
        "id": "pXOSkkxH7axK",
        "colab_type": "code",
        "colab": {}
      },
      "source": [
        "words_to_analyse = pd.concat([top_sentence_false,top_sentence_true]).reset_index(drop=True)"
      ],
      "execution_count": 0,
      "outputs": []
    },
    {
      "cell_type": "code",
      "metadata": {
        "id": "MOaXe4-K1GjQ",
        "colab_type": "code",
        "colab": {
          "base_uri": "https://localhost:8080/",
          "height": 34
        },
        "outputId": "133c104c-de26-46ed-e65b-32bae589e6fe"
      },
      "source": [
        "lst= []\n",
        "for index,row in words_to_analyse.iterrows():\n",
        "  identifiant = row.index_df\n",
        "  label = row.sexe\n",
        "  phrase = []\n",
        "  for token in row.Texte.split(' '):\n",
        "      phrase.append(token)\n",
        "      lst.append((identifiant,label,' '.join(phrase)))"
      ],
      "execution_count": 280,
      "outputs": [
        {
          "output_type": "stream",
          "text": [
            "ERROR! Session/line number was not unique in database. History logging moved to new session 64\n"
          ],
          "name": "stdout"
        }
      ]
    },
    {
      "cell_type": "code",
      "metadata": {
        "id": "WASb-HY_wewg",
        "colab_type": "code",
        "colab": {}
      },
      "source": [
        "words_to_analyse = pd.concat([top_sentence_false,top_sentence_true]).reset_index(drop=True)\n",
        "words_to_analyse=split_document_to_limit(1,words_to_analyse)\n",
        "words_to_analyse=words_to_analyse[words_to_analyse.Texte !='']"
      ],
      "execution_count": 0,
      "outputs": []
    },
    {
      "cell_type": "code",
      "metadata": {
        "id": "la04asKH6Tqj",
        "colab_type": "code",
        "colab": {}
      },
      "source": [
        "lst= []\n",
        "for index,row in words_to_analyse.iterrows():\n",
        "  identifiant = row.index_df\n",
        "  label = row.sexe\n",
        "  phrase = []\n",
        "  for token in row.Texte.split(' '):\n",
        "      lst += [(identifiant,label,token)]"
      ],
      "execution_count": 0,
      "outputs": []
    },
    {
      "cell_type": "code",
      "metadata": {
        "id": "969R9ae06iAZ",
        "colab_type": "code",
        "colab": {}
      },
      "source": [
        "words_to_analyse=pd.DataFrame(lst,columns=['index_df','sexe','Texte'])"
      ],
      "execution_count": 0,
      "outputs": []
    },
    {
      "cell_type": "code",
      "metadata": {
        "id": "1Psom5Gizsjr",
        "colab_type": "code",
        "outputId": "774c7638-9830-466f-cdb3-7fde68e2a978",
        "colab": {
          "base_uri": "https://localhost:8080/",
          "height": 119
        }
      },
      "source": [
        "# We prepare again the development sample for analysis \n",
        "\n",
        "from torch.utils.data import TensorDataset, random_split\n",
        "from torch.utils.data import DataLoader, RandomSampler, SequentialSampler\n",
        "from transformers import CamembertTokenizer\n",
        "\n",
        "texts = words_to_analyse.Texte.values\n",
        "labels = words_to_analyse.sexe.values\n",
        "tokenizer = CamembertTokenizer.from_pretrained('camembert-base', do_lower_case=False,padding_side='right')\n",
        "\n",
        "# Tokenize all of the sentences and map the tokens to thier word IDs.\n",
        "input_ids = []\n",
        "attention_masks = []\n",
        "num_truncated_tokens =[]\n",
        "\n",
        "for text in texts:\n",
        "  encoded_dict = tokenizer.encode_plus(\n",
        "                        text,                      # text\n",
        "                        add_special_tokens = True, # Add '[CLS]' and '[SEP]'\n",
        "                        max_length = 5,           # We choose for now a max length of 500.\n",
        "                        pad_to_max_length = True,    # Pad text to max \n",
        "                        return_attention_mask = True,   # Construct attention masks\n",
        "                        return_tensors = 'pt',     # Return pytorch tensors.\n",
        "                        return_overflowing_tokens =True, # return overflowing token information\n",
        "                  )\n",
        "    \n",
        "    # Map tokens to their id in the dictionnary \n",
        "    # We add this to our list    \n",
        "  input_ids.append(encoded_dict['input_ids'])\n",
        "\n",
        "    #num_truncated_tokens.append(encoded_dict['num_truncated_tokens'])\n",
        "    \n",
        "    # 3. Attention masks\n",
        "  attention_masks.append(encoded_dict['attention_mask'])\n",
        "\n",
        "# We convert all this into tensors in order to be able to make it work on GPU \n",
        "input_ids = torch.cat(input_ids, dim=0)\n",
        "attention_masks = torch.cat(attention_masks, dim=0)\n",
        "labels = torch.tensor(labels)\n",
        "\n",
        "# Original text and transformed tensor print \n",
        "print(\"Let's check for the first text indexes, attention masks and labels\")\n",
        "print(\" \")\n",
        "print('Original: ', texts[0][0:100])\n",
        "print('IDs:', input_ids[0][0:100])\n",
        "print('Attention masks:', attention_masks[0][0:100])\n",
        "print('labels',labels[0])\n",
        "\n",
        "# Combine all above\n",
        "dataset = TensorDataset(input_ids, attention_masks, labels)\n",
        "# We create data loaders for the train and validation dataset. \n",
        "dev_dataloader = DataLoader(\n",
        "            dataset,  # The training samples.\n",
        "            batch_size = 1, # Trains with this batch size.\n",
        "            shuffle=False\n",
        "        )"
      ],
      "execution_count": 305,
      "outputs": [
        {
          "output_type": "stream",
          "text": [
            "Let's check for the first text indexes, attention masks and labels\n",
            " \n",
            "Original:  d'entreprises\n",
            "IDs: tensor([   5,   18,   11, 5513,    6])\n",
            "Attention masks: tensor([1, 1, 1, 1, 1])\n",
            "labels tensor(0)\n"
          ],
          "name": "stdout"
        }
      ]
    },
    {
      "cell_type": "code",
      "metadata": {
        "id": "YWOre462zer-",
        "colab_type": "code",
        "colab": {}
      },
      "source": [
        "total_pred,total_labels,total_logits =evaluation_loop(gender_model,dev_dataloader)"
      ],
      "execution_count": 0,
      "outputs": []
    },
    {
      "cell_type": "code",
      "metadata": {
        "id": "mVUVyNnnz5kr",
        "colab_type": "code",
        "colab": {}
      },
      "source": [
        "# Extract the score for label 1 \n",
        "one_score = [el[1] for el in total_logits]\n",
        "max_score = np.max(total_logits,axis=1)\n",
        "# Put everything inside a dataframe\n",
        "results_dev=pd.DataFrame([total_labels,total_pred,one_score,max_score]).transpose()\n",
        "results_dev.columns=['returned_labels','model_pred','one_score','max_score']\n",
        "results_dev['WF']=pd.DataFrame([results_dev['model_pred']==results_dev['returned_labels']]).transpose()\n",
        "# Merge back with the text\n",
        "frames = [words_to_analyse[['Texte','sexe','index_df']].reset_index(), results_dev]\n",
        "result = pd.concat(frames,axis=1)"
      ],
      "execution_count": 0,
      "outputs": []
    },
    {
      "cell_type": "code",
      "metadata": {
        "id": "eY0huGw0z9pl",
        "colab_type": "code",
        "outputId": "204cb939-b2c6-4e27-bafa-9307e38fbf9d",
        "colab": {
          "base_uri": "https://localhost:8080/",
          "height": 419
        }
      },
      "source": [
        "result"
      ],
      "execution_count": 308,
      "outputs": [
        {
          "output_type": "execute_result",
          "data": {
            "text/html": [
              "<div>\n",
              "<style scoped>\n",
              "    .dataframe tbody tr th:only-of-type {\n",
              "        vertical-align: middle;\n",
              "    }\n",
              "\n",
              "    .dataframe tbody tr th {\n",
              "        vertical-align: top;\n",
              "    }\n",
              "\n",
              "    .dataframe thead th {\n",
              "        text-align: right;\n",
              "    }\n",
              "</style>\n",
              "<table border=\"1\" class=\"dataframe\">\n",
              "  <thead>\n",
              "    <tr style=\"text-align: right;\">\n",
              "      <th></th>\n",
              "      <th>index</th>\n",
              "      <th>Texte</th>\n",
              "      <th>sexe</th>\n",
              "      <th>index_df</th>\n",
              "      <th>returned_labels</th>\n",
              "      <th>model_pred</th>\n",
              "      <th>one_score</th>\n",
              "      <th>max_score</th>\n",
              "      <th>WF</th>\n",
              "    </tr>\n",
              "  </thead>\n",
              "  <tbody>\n",
              "    <tr>\n",
              "      <th>0</th>\n",
              "      <td>0</td>\n",
              "      <td>d'entreprises</td>\n",
              "      <td>0</td>\n",
              "      <td>186950</td>\n",
              "      <td>0.0</td>\n",
              "      <td>0.0</td>\n",
              "      <td>-0.066509</td>\n",
              "      <td>0.114900</td>\n",
              "      <td>True</td>\n",
              "    </tr>\n",
              "    <tr>\n",
              "      <th>1</th>\n",
              "      <td>1</td>\n",
              "      <td>en</td>\n",
              "      <td>0</td>\n",
              "      <td>186950</td>\n",
              "      <td>0.0</td>\n",
              "      <td>0.0</td>\n",
              "      <td>-0.482290</td>\n",
              "      <td>0.401789</td>\n",
              "      <td>True</td>\n",
              "    </tr>\n",
              "    <tr>\n",
              "      <th>2</th>\n",
              "      <td>2</td>\n",
              "      <td>ayant</td>\n",
              "      <td>0</td>\n",
              "      <td>186950</td>\n",
              "      <td>0.0</td>\n",
              "      <td>0.0</td>\n",
              "      <td>-0.175681</td>\n",
              "      <td>0.137781</td>\n",
              "      <td>True</td>\n",
              "    </tr>\n",
              "    <tr>\n",
              "      <th>3</th>\n",
              "      <td>3</td>\n",
              "      <td>recours</td>\n",
              "      <td>0</td>\n",
              "      <td>186950</td>\n",
              "      <td>0.0</td>\n",
              "      <td>0.0</td>\n",
              "      <td>-0.206572</td>\n",
              "      <td>0.179389</td>\n",
              "      <td>True</td>\n",
              "    </tr>\n",
              "    <tr>\n",
              "      <th>4</th>\n",
              "      <td>4</td>\n",
              "      <td>à</td>\n",
              "      <td>0</td>\n",
              "      <td>186950</td>\n",
              "      <td>0.0</td>\n",
              "      <td>0.0</td>\n",
              "      <td>-0.345642</td>\n",
              "      <td>0.373019</td>\n",
              "      <td>True</td>\n",
              "    </tr>\n",
              "    <tr>\n",
              "      <th>...</th>\n",
              "      <td>...</td>\n",
              "      <td>...</td>\n",
              "      <td>...</td>\n",
              "      <td>...</td>\n",
              "      <td>...</td>\n",
              "      <td>...</td>\n",
              "      <td>...</td>\n",
              "      <td>...</td>\n",
              "      <td>...</td>\n",
              "    </tr>\n",
              "    <tr>\n",
              "      <th>95</th>\n",
              "      <td>95</td>\n",
              "      <td>ministre</td>\n",
              "      <td>1</td>\n",
              "      <td>207611</td>\n",
              "      <td>1.0</td>\n",
              "      <td>0.0</td>\n",
              "      <td>-0.665303</td>\n",
              "      <td>0.757637</td>\n",
              "      <td>False</td>\n",
              "    </tr>\n",
              "    <tr>\n",
              "      <th>96</th>\n",
              "      <td>96</td>\n",
              "      <td>de</td>\n",
              "      <td>1</td>\n",
              "      <td>207611</td>\n",
              "      <td>1.0</td>\n",
              "      <td>0.0</td>\n",
              "      <td>-0.472569</td>\n",
              "      <td>0.458942</td>\n",
              "      <td>False</td>\n",
              "    </tr>\n",
              "    <tr>\n",
              "      <th>97</th>\n",
              "      <td>97</td>\n",
              "      <td>l'action</td>\n",
              "      <td>1</td>\n",
              "      <td>207611</td>\n",
              "      <td>1.0</td>\n",
              "      <td>0.0</td>\n",
              "      <td>-0.366787</td>\n",
              "      <td>0.373914</td>\n",
              "      <td>False</td>\n",
              "    </tr>\n",
              "    <tr>\n",
              "      <th>98</th>\n",
              "      <td>98</td>\n",
              "      <td>et</td>\n",
              "      <td>1</td>\n",
              "      <td>207611</td>\n",
              "      <td>1.0</td>\n",
              "      <td>0.0</td>\n",
              "      <td>-0.532943</td>\n",
              "      <td>0.533282</td>\n",
              "      <td>False</td>\n",
              "    </tr>\n",
              "    <tr>\n",
              "      <th>99</th>\n",
              "      <td>99</td>\n",
              "      <td>des</td>\n",
              "      <td>1</td>\n",
              "      <td>207611</td>\n",
              "      <td>1.0</td>\n",
              "      <td>0.0</td>\n",
              "      <td>-0.731180</td>\n",
              "      <td>0.713829</td>\n",
              "      <td>False</td>\n",
              "    </tr>\n",
              "  </tbody>\n",
              "</table>\n",
              "<p>100 rows × 9 columns</p>\n",
              "</div>"
            ],
            "text/plain": [
              "    index          Texte  sexe  ...  one_score  max_score     WF\n",
              "0       0  d'entreprises     0  ...  -0.066509   0.114900   True\n",
              "1       1             en     0  ...  -0.482290   0.401789   True\n",
              "2       2          ayant     0  ...  -0.175681   0.137781   True\n",
              "3       3        recours     0  ...  -0.206572   0.179389   True\n",
              "4       4              à     0  ...  -0.345642   0.373019   True\n",
              "..    ...            ...   ...  ...        ...        ...    ...\n",
              "95     95       ministre     1  ...  -0.665303   0.757637  False\n",
              "96     96             de     1  ...  -0.472569   0.458942  False\n",
              "97     97       l'action     1  ...  -0.366787   0.373914  False\n",
              "98     98             et     1  ...  -0.532943   0.533282  False\n",
              "99     99            des     1  ...  -0.731180   0.713829  False\n",
              "\n",
              "[100 rows x 9 columns]"
            ]
          },
          "metadata": {
            "tags": []
          },
          "execution_count": 308
        }
      ]
    },
    {
      "cell_type": "code",
      "metadata": {
        "id": "lFVzNZ63jWkT",
        "colab_type": "code",
        "colab": {}
      },
      "source": [
        "scores = [i for i in result[result.index_df==207611].one_score]"
      ],
      "execution_count": 0,
      "outputs": []
    },
    {
      "cell_type": "code",
      "metadata": {
        "id": "ZVYqMaNr0nyA",
        "colab_type": "code",
        "colab": {}
      },
      "source": [
        "df_plot=pd.DataFrame(scores).transpose()"
      ],
      "execution_count": 0,
      "outputs": []
    },
    {
      "cell_type": "code",
      "metadata": {
        "id": "54dbId7RmuG5",
        "colab_type": "code",
        "colab": {}
      },
      "source": [
        "df_plot.columns=list(result[result.index_df==207611].Texte)"
      ],
      "execution_count": 0,
      "outputs": []
    },
    {
      "cell_type": "code",
      "metadata": {
        "id": "qG46EmH31oFQ",
        "colab_type": "code",
        "outputId": "9301802c-b9c5-412d-a866-1caf2b7b800a",
        "colab": {
          "base_uri": "https://localhost:8080/",
          "height": 117
        }
      },
      "source": [
        "df_plot"
      ],
      "execution_count": 333,
      "outputs": [
        {
          "output_type": "execute_result",
          "data": {
            "text/html": [
              "<div>\n",
              "<style scoped>\n",
              "    .dataframe tbody tr th:only-of-type {\n",
              "        vertical-align: middle;\n",
              "    }\n",
              "\n",
              "    .dataframe tbody tr th {\n",
              "        vertical-align: top;\n",
              "    }\n",
              "\n",
              "    .dataframe thead th {\n",
              "        text-align: right;\n",
              "    }\n",
              "</style>\n",
              "<table border=\"1\" class=\"dataframe\">\n",
              "  <thead>\n",
              "    <tr style=\"text-align: right;\">\n",
              "      <th></th>\n",
              "      <th>Protestations</th>\n",
              "      <th>sur</th>\n",
              "      <th>les</th>\n",
              "      <th>bancs</th>\n",
              "      <th>des</th>\n",
              "      <th>groupes</th>\n",
              "      <th>LR</th>\n",
              "      <th>et</th>\n",
              "      <th>SOC.)M.</th>\n",
              "      <th>David</th>\n",
              "      <th>Habib.</th>\n",
              "      <th>Le</th>\n",
              "      <th>règlement</th>\n",
              "      <th>n'est</th>\n",
              "      <th>pas</th>\n",
              "      <th>un</th>\n",
              "      <th>chewing-gum,</th>\n",
              "      <th>monsieur</th>\n",
              "      <th>le</th>\n",
              "      <th>président</th>\n",
              "      <th>!M.</th>\n",
              "      <th>le</th>\n",
              "      <th>président.</th>\n",
              "      <th>Non,</th>\n",
              "      <th>c'est</th>\n",
              "      <th>une</th>\n",
              "      <th>lettre,</th>\n",
              "      <th>et</th>\n",
              "      <th>nous</th>\n",
              "      <th>l'appliquons.M.</th>\n",
              "      <th>François</th>\n",
              "      <th>Pupponi.</th>\n",
              "      <th>Cette</th>\n",
              "      <th>lettre,</th>\n",
              "      <th>il</th>\n",
              "      <th>faut</th>\n",
              "      <th>la</th>\n",
              "      <th>lire</th>\n",
              "      <th>!M.</th>\n",
              "      <th>Olivier</th>\n",
              "      <th>Dussopt,</th>\n",
              "      <th>secrétaire</th>\n",
              "      <th>d'État</th>\n",
              "      <th>auprès</th>\n",
              "      <th>du</th>\n",
              "      <th>ministre</th>\n",
              "      <th>de</th>\n",
              "      <th>l'action</th>\n",
              "      <th>et</th>\n",
              "      <th>des</th>\n",
              "    </tr>\n",
              "  </thead>\n",
              "  <tbody>\n",
              "    <tr>\n",
              "      <th>0</th>\n",
              "      <td>-0.478159</td>\n",
              "      <td>-0.330902</td>\n",
              "      <td>-0.016153</td>\n",
              "      <td>-0.268126</td>\n",
              "      <td>-0.73118</td>\n",
              "      <td>-0.589105</td>\n",
              "      <td>-0.238955</td>\n",
              "      <td>-0.532943</td>\n",
              "      <td>1.193797</td>\n",
              "      <td>0.193199</td>\n",
              "      <td>1.019427</td>\n",
              "      <td>0.448378</td>\n",
              "      <td>0.07103</td>\n",
              "      <td>-1.133239</td>\n",
              "      <td>-0.985368</td>\n",
              "      <td>-0.736717</td>\n",
              "      <td>-0.496646</td>\n",
              "      <td>-0.826414</td>\n",
              "      <td>0.402539</td>\n",
              "      <td>-1.29925</td>\n",
              "      <td>0.198785</td>\n",
              "      <td>0.402539</td>\n",
              "      <td>-0.971861</td>\n",
              "      <td>-0.760563</td>\n",
              "      <td>-1.463663</td>\n",
              "      <td>-0.209341</td>\n",
              "      <td>-0.378478</td>\n",
              "      <td>-0.532943</td>\n",
              "      <td>-0.649127</td>\n",
              "      <td>0.31771</td>\n",
              "      <td>-0.474702</td>\n",
              "      <td>0.711641</td>\n",
              "      <td>0.032337</td>\n",
              "      <td>-0.378478</td>\n",
              "      <td>-0.98844</td>\n",
              "      <td>-1.02622</td>\n",
              "      <td>0.103036</td>\n",
              "      <td>-0.070828</td>\n",
              "      <td>0.198785</td>\n",
              "      <td>0.364054</td>\n",
              "      <td>0.390844</td>\n",
              "      <td>-0.148246</td>\n",
              "      <td>-0.90163</td>\n",
              "      <td>-0.21196</td>\n",
              "      <td>0.120157</td>\n",
              "      <td>-0.665303</td>\n",
              "      <td>-0.472569</td>\n",
              "      <td>-0.366787</td>\n",
              "      <td>-0.532943</td>\n",
              "      <td>-0.73118</td>\n",
              "    </tr>\n",
              "  </tbody>\n",
              "</table>\n",
              "</div>"
            ],
            "text/plain": [
              "   Protestations       sur       les  ...  l'action        et      des\n",
              "0      -0.478159 -0.330902 -0.016153  ... -0.366787 -0.532943 -0.73118\n",
              "\n",
              "[1 rows x 50 columns]"
            ]
          },
          "metadata": {
            "tags": []
          },
          "execution_count": 333
        }
      ]
    },
    {
      "cell_type": "code",
      "metadata": {
        "id": "ilmXHJJcloMK",
        "colab_type": "code",
        "outputId": "6164787c-f445-448a-ff68-ddc0b853327b",
        "colab": {
          "base_uri": "https://localhost:8080/",
          "height": 382
        }
      },
      "source": [
        "import seaborn as sns\n",
        "import pandas as pd\n",
        "import numpy as np\n",
        "import matplotlib.pyplot as plt\n",
        "\n",
        " \n",
        "# Default heatmap: just a visualization of this square matrix\n",
        "fig, ax = plt.subplots(figsize=(20,4)) \n",
        "sns.heatmap(df_plot)\n",
        "plt.show()\n"
      ],
      "execution_count": 334,
      "outputs": [
        {
          "output_type": "display_data",
          "data": {
            "image/png": "[encoded data removed]",
            "text/plain": [
              "<Figure size 1440x288 with 2 Axes>"
            ]
          },
          "metadata": {
            "tags": []
          }
        }
      ]
    },
    {
      "cell_type": "markdown",
      "metadata": {
        "id": "_VXzb-ayoB-o",
        "colab_type": "text"
      },
      "source": [
        "Faire des annotations pour la fin du doc et nettoyer mettre en forme\n",
        "Faire des fonctions pour la fin \n",
        "Amélioer le graphique . Est ce que c'est intelligent par mot ? \n",
        "Remplacer score max par la moyenne des logits à chercher à la fin du train \n",
        "Analyser un peu et mettre au propre sur la feuille\n"
      ]
    },
    {
      "cell_type": "markdown",
      "metadata": {
        "id": "Q0y8QmbT881P",
        "colab_type": "text"
      },
      "source": [
        "# Test "
      ]
    },
    {
      "cell_type": "code",
      "metadata": {
        "id": "tcm-GKcwhXdd",
        "colab_type": "code",
        "outputId": "cf5d5fad-3966-48e9-899b-0d60f40645a2",
        "colab": {
          "base_uri": "https://localhost:8080/",
          "height": 419
        }
      },
      "source": [
        ""
      ],
      "execution_count": 0,
      "outputs": [
        {
          "output_type": "execute_result",
          "data": {
            "text/html": [
              "<div>\n",
              "<style scoped>\n",
              "    .dataframe tbody tr th:only-of-type {\n",
              "        vertical-align: middle;\n",
              "    }\n",
              "\n",
              "    .dataframe tbody tr th {\n",
              "        vertical-align: top;\n",
              "    }\n",
              "\n",
              "    .dataframe thead th {\n",
              "        text-align: right;\n",
              "    }\n",
              "</style>\n",
              "<table border=\"1\" class=\"dataframe\">\n",
              "  <thead>\n",
              "    <tr style=\"text-align: right;\">\n",
              "      <th></th>\n",
              "      <th>index</th>\n",
              "      <th>index_df</th>\n",
              "      <th>sexe</th>\n",
              "      <th>Texte</th>\n",
              "      <th>Length</th>\n",
              "    </tr>\n",
              "  </thead>\n",
              "  <tbody>\n",
              "    <tr>\n",
              "      <th>0</th>\n",
              "      <td>8844</td>\n",
              "      <td>163979</td>\n",
              "      <td>0</td>\n",
              "      <td>163979</td>\n",
              "      <td>444</td>\n",
              "    </tr>\n",
              "    <tr>\n",
              "      <th>1</th>\n",
              "      <td>3971</td>\n",
              "      <td>192898</td>\n",
              "      <td>1</td>\n",
              "      <td>192898</td>\n",
              "      <td>443</td>\n",
              "    </tr>\n",
              "    <tr>\n",
              "      <th>2</th>\n",
              "      <td>1813</td>\n",
              "      <td>191962</td>\n",
              "      <td>1</td>\n",
              "      <td>191962</td>\n",
              "      <td>439</td>\n",
              "    </tr>\n",
              "    <tr>\n",
              "      <th>3</th>\n",
              "      <td>2254</td>\n",
              "      <td>147466</td>\n",
              "      <td>1</td>\n",
              "      <td>147466</td>\n",
              "      <td>403</td>\n",
              "    </tr>\n",
              "    <tr>\n",
              "      <th>4</th>\n",
              "      <td>1704</td>\n",
              "      <td>173140</td>\n",
              "      <td>1</td>\n",
              "      <td>173140</td>\n",
              "      <td>419</td>\n",
              "    </tr>\n",
              "    <tr>\n",
              "      <th>...</th>\n",
              "      <td>...</td>\n",
              "      <td>...</td>\n",
              "      <td>...</td>\n",
              "      <td>...</td>\n",
              "      <td>...</td>\n",
              "    </tr>\n",
              "    <tr>\n",
              "      <th>11192</th>\n",
              "      <td>3655</td>\n",
              "      <td>175003</td>\n",
              "      <td>1</td>\n",
              "      <td>175003</td>\n",
              "      <td>208</td>\n",
              "    </tr>\n",
              "    <tr>\n",
              "      <th>11193</th>\n",
              "      <td>1661</td>\n",
              "      <td>180667</td>\n",
              "      <td>1</td>\n",
              "      <td>180667</td>\n",
              "      <td>429</td>\n",
              "    </tr>\n",
              "    <tr>\n",
              "      <th>11194</th>\n",
              "      <td>2139</td>\n",
              "      <td>205519</td>\n",
              "      <td>1</td>\n",
              "      <td>205519</td>\n",
              "      <td>229</td>\n",
              "    </tr>\n",
              "    <tr>\n",
              "      <th>11195</th>\n",
              "      <td>7491</td>\n",
              "      <td>185081</td>\n",
              "      <td>0</td>\n",
              "      <td>185081</td>\n",
              "      <td>428</td>\n",
              "    </tr>\n",
              "    <tr>\n",
              "      <th>11196</th>\n",
              "      <td>9056</td>\n",
              "      <td>170313</td>\n",
              "      <td>0</td>\n",
              "      <td>170313</td>\n",
              "      <td>442</td>\n",
              "    </tr>\n",
              "  </tbody>\n",
              "</table>\n",
              "<p>11197 rows × 5 columns</p>\n",
              "</div>"
            ],
            "text/plain": [
              "       index  index_df  sexe   Texte  Length\n",
              "0       8844    163979     0  163979     444\n",
              "1       3971    192898     1  192898     443\n",
              "2       1813    191962     1  191962     439\n",
              "3       2254    147466     1  147466     403\n",
              "4       1704    173140     1  173140     419\n",
              "...      ...       ...   ...     ...     ...\n",
              "11192   3655    175003     1  175003     208\n",
              "11193   1661    180667     1  180667     429\n",
              "11194   2139    205519     1  205519     229\n",
              "11195   7491    185081     0  185081     428\n",
              "11196   9056    170313     0  170313     442\n",
              "\n",
              "[11197 rows x 5 columns]"
            ]
          },
          "metadata": {
            "tags": []
          },
          "execution_count": 26
        }
      ]
    },
    {
      "cell_type": "code",
      "metadata": {
        "id": "91XKOBnfBOOu",
        "colab_type": "code",
        "colab": {}
      },
      "source": [
        "# Import Camembert tokenizer\n",
        "from transformers import CamembertTokenizer\n",
        "# We choose a right padding side for the moment and we will test for a left padding side on a second stage\n",
        "tokenizer = CamembertTokenizer.from_pretrained('camembert-base', do_lower_case=False,padding_side='right') #left"
      ],
      "execution_count": 0,
      "outputs": []
    },
    {
      "cell_type": "code",
      "metadata": {
        "id": "LlQ0-CCQ-mPy",
        "colab_type": "code",
        "outputId": "d1f3cab7-0684-42b4-a451-0076a6802a3d",
        "colab": {
          "base_uri": "https://localhost:8080/",
          "height": 493
        }
      },
      "source": [
        "\n",
        "from torch.utils.data import TensorDataset, random_split\n",
        "from torch.utils.data import DataLoader, RandomSampler, SequentialSampler\n",
        "\n",
        "texts = df_balanced_split.Texte.values\n",
        "labels = df_balanced_split.sexe.values\n",
        "\n",
        "# Tokenize all of the sentences and map the tokens to thier word IDs.\n",
        "input_ids = []\n",
        "attention_masks = []\n",
        "num_truncated_tokens =[]\n",
        "# Apply function to our corpus\n",
        "for text in texts:\n",
        "    encoded_dict = tokenizer.encode_plus(\n",
        "                        text,                      # text\n",
        "                        add_special_tokens = True, # Add '[CLS]' and '[SEP]'\n",
        "                        max_length = 500,           # We choose for now a max length of 500.\n",
        "                        pad_to_max_length = True,    # Pad text to max (marche pas en pad left ?)\n",
        "                        return_attention_mask = True,   # Construct attention masks\n",
        "                        return_tensors = 'pt',     # Return pytorch tensors.\n",
        "                        return_overflowing_tokens =True, # return overflowing token information\n",
        "                  )\n",
        "    \n",
        "    # Map tokens to their id in the dictionnary \n",
        "    # We add this to our list    \n",
        "    input_ids.append(encoded_dict['input_ids'])\n",
        "\n",
        "    #num_truncated_tokens.append(encoded_dict['num_truncated_tokens'])\n",
        "    \n",
        "    # 3. Attention masks\n",
        "    attention_masks.append(encoded_dict['attention_mask'])\n",
        "\n",
        "# We convert all this into tensors in order to be able to make it work on GPU \n",
        "input_ids = torch.cat(input_ids, dim=0)\n",
        "attention_masks = torch.cat(attention_masks, dim=0)\n",
        "labels = torch.tensor(labels)\n",
        "\n",
        "# Original text and transformed tensor print \n",
        "print(\"Let's check for the first text indexes, attention masks and labels\")\n",
        "print(\" \")\n",
        "print('Original: ', texts[0][0:100])\n",
        "print('IDs:', input_ids[0][0:100])\n",
        "print('Attention masks:', attention_masks[0][0:100])\n",
        "print('labels',labels[0])\n",
        "\n",
        "\n",
        "# Combine all above\n",
        "dataset = TensorDataset(input_ids, attention_masks, labels)\n",
        "\n",
        "# Let's create a 80-20 train / validation dataset \n",
        "train_size = int(0.8 * len(dataset))\n",
        "val_size = len(dataset) - train_size\n",
        "\n",
        "train_set, val_set = random_split(dataset, [train_size, val_size])\n",
        "\n",
        "\n",
        "print(\"-------------------------------------------------\")\n",
        "print(\" \")\n",
        "print(\"How many texts do we have in the train and validation sample ? \")\n",
        "print(\" \")\n",
        "print('We have {} training texts'.format(train_size))\n",
        "print('We have {} validation texts'.format(val_size))\n",
        "print(\" \")\n",
        "print(\"-------------------------------------------------\")\n",
        "\n",
        "# We set the size of the batch ( usually set around 16 or 32), we will take the lower bound because of the large text length\n",
        "batch_size = 16\n",
        "\n",
        "# We create data loaders for the train and validation dataset. \n",
        "train_dataloader = DataLoader(\n",
        "            train_set,  # The training samples.\n",
        "            sampler = RandomSampler(train_set), # Select batches randomly\n",
        "            batch_size = batch_size # Trains with this batch size.\n",
        "        )\n",
        "\n",
        "val_dataloader = DataLoader(\n",
        "            val_set, # The validation samples.\n",
        "            sampler = SequentialSampler(val_set), # Pull out batches sequentially.\n",
        "            batch_size = batch_size # Evaluate with this batch size.\n",
        "        )\n",
        "\n",
        "print('Data loaders created for train [0] and val [1]')"
      ],
      "execution_count": 0,
      "outputs": [
        {
          "output_type": "stream",
          "text": [
            "Let's check for the first text indexes, attention masks and labels\n",
            " \n",
            "Original:  la spécialisation des navires ; un nombre supérieur de moyens d'observation, de communication et de \n",
            "IDs: tensor([    5,    13, 20831,    20, 11013,   167,    23,   365,  2062,     8,\n",
            "         1149,    18,    11,  7064,     7,     8,  1006,    14,     8,  9888,\n",
            "          167,     8,   704,  1979,    18,    11,  7781,   167,    20,  3768,\n",
            "           18,    11,  3064, 12914, 17441, 19963,    80,    24,    98,    22,\n",
            "          586,    18,    11,  4976,  6916,    36,   731,     8, 12463,    10,\n",
            "            7,    22,    21, 14319,    17,    11,   649,    20,   592, 10424,\n",
            "           37,    19,   678, 13957,     8,  1983, 16111,   167,    13,  2966,\n",
            "            7,   743,     7,    18,    11,  2688,    13,  9157,   128,    20,\n",
            "        11013,    14,  1979,    18,    11,  7781,  4993,    14,    18,    11,\n",
            "          266,    40,  2294,     7,    66,    22, 26634,   172,    16,  1984])\n",
            "Attention masks: tensor([1, 1, 1, 1, 1, 1, 1, 1, 1, 1, 1, 1, 1, 1, 1, 1, 1, 1, 1, 1, 1, 1, 1, 1,\n",
            "        1, 1, 1, 1, 1, 1, 1, 1, 1, 1, 1, 1, 1, 1, 1, 1, 1, 1, 1, 1, 1, 1, 1, 1,\n",
            "        1, 1, 1, 1, 1, 1, 1, 1, 1, 1, 1, 1, 1, 1, 1, 1, 1, 1, 1, 1, 1, 1, 1, 1,\n",
            "        1, 1, 1, 1, 1, 1, 1, 1, 1, 1, 1, 1, 1, 1, 1, 1, 1, 1, 1, 1, 1, 1, 1, 1,\n",
            "        1, 1, 1, 1])\n",
            "labels tensor(0)\n",
            "-------------------------------------------------\n",
            " \n",
            "How many texts do we have in the train and validation sample ? \n",
            " \n",
            "We have 8984 training texts\n",
            "We have 2247 validation texts\n",
            " \n",
            "-------------------------------------------------\n",
            "Data loaders created for train [0] and val [1]\n"
          ],
          "name": "stdout"
        }
      ]
    },
    {
      "cell_type": "code",
      "metadata": {
        "id": "HRKOBglK-06f",
        "colab_type": "code",
        "outputId": "f76b7748-6546-499b-d852-be591d50a93e",
        "colab": {
          "base_uri": "https://localhost:8080/",
          "height": 816
        }
      },
      "source": [
        "results_unbalanced = train_val_gendermodel(train_loader=train_dataloader, val_loader=val_dataloader, epochs_val=5,seed_val=2020,device=device,lr_value=5e-5)"
      ],
      "execution_count": 0,
      "outputs": [
        {
          "output_type": "stream",
          "text": [
            "===========Starting Epoch 1 / 5 ==============\n",
            "Training starts\n",
            "\n",
            "  Average training loss: 0.51\n",
            "\n",
            "Validation starts\n",
            "  Accuracy: 0.80\n",
            "  F1_score: 0.80\n",
            "  Validation Loss: 0.43\n",
            "===========Starting Epoch 2 / 5 ==============\n",
            "Training starts\n",
            "\n",
            "  Average training loss: 0.36\n",
            "\n",
            "Validation starts\n",
            "  Accuracy: 0.82\n",
            "  F1_score: 0.81\n",
            "  Validation Loss: 0.41\n",
            "===========Starting Epoch 3 / 5 ==============\n",
            "Training starts\n",
            "\n",
            "  Average training loss: 0.23\n",
            "\n",
            "Validation starts\n",
            "  Accuracy: 0.84\n",
            "  F1_score: 0.83\n",
            "  Validation Loss: 0.49\n",
            "===========Starting Epoch 4 / 5 ==============\n",
            "Training starts\n",
            "\n",
            "  Average training loss: 0.13\n",
            "\n",
            "Validation starts\n",
            "  Accuracy: 0.83\n",
            "  F1_score: 0.83\n",
            "  Validation Loss: 0.66\n",
            "===========Starting Epoch 5 / 5 ==============\n",
            "Training starts\n",
            "\n",
            "  Average training loss: 0.06\n",
            "\n",
            "Validation starts\n",
            "  Accuracy: 0.82\n",
            "  F1_score: 0.81\n",
            "  Validation Loss: 0.79\n",
            "\n",
            "Done !\n"
          ],
          "name": "stdout"
        }
      ]
    },
    {
      "cell_type": "code",
      "metadata": {
        "id": "0BP1MLFt__WF",
        "colab_type": "code",
        "outputId": "e3596c87-ff1a-4145-a4db-e8f19818a09d",
        "colab": {
          "base_uri": "https://localhost:8080/",
          "height": 580
        }
      },
      "source": [
        "report_model_1(results_unbalanced)"
      ],
      "execution_count": 0,
      "outputs": [
        {
          "output_type": "stream",
          "text": [
            "       Train Loss  Val Loss  Val Accur.    Val F1\n",
            "epoch                                            \n",
            "1        0.506192  0.425347    0.798632  0.800964\n",
            "2        0.359642  0.408357    0.819022  0.813722\n",
            "3        0.229572  0.491328    0.836753  0.833890\n",
            "4        0.132649  0.656070    0.827001  0.826271\n",
            "5        0.060629  0.793369    0.823582  0.813131\n"
          ],
          "name": "stdout"
        },
        {
          "output_type": "stream",
          "text": [
            "/usr/local/lib/python3.6/dist-packages/statsmodels/tools/_testing.py:19: FutureWarning: pandas.util.testing is deprecated. Use the functions in the public API at pandas.testing instead.\n",
            "  import pandas.util.testing as tm\n"
          ],
          "name": "stderr"
        },
        {
          "output_type": "display_data",
          "data": {
            "image/png": "[encoded data removed]",
            "text/plain": [
              "<Figure size 864x432 with 1 Axes>"
            ]
          },
          "metadata": {
            "tags": []
          }
        }
      ]
    },
    {
      "cell_type": "code",
      "metadata": {
        "id": "Dio-RzsWERPJ",
        "colab_type": "code",
        "outputId": "62dee7c0-f9cf-4907-8828-dcb6b17d2861",
        "colab": {
          "base_uri": "https://localhost:8080/",
          "height": 510
        }
      },
      "source": [
        "############################  IMPORT MODEL ################################################\n",
        "from transformers import CamembertForSequenceClassification\n",
        "gender_model = CamembertForSequenceClassification.from_pretrained(\n",
        "  \"camembert-base\", \n",
        "  num_labels = 2, # We have two different labels Women = 1 and Men =0   \n",
        "  output_attentions = False, \n",
        "  output_hidden_states = False, )\n",
        "\n",
        "model = gender_model\n",
        "model.cuda()\n",
        "\n",
        "lr_value = 5e-5\n",
        "train_loader=train_dataloader\n",
        "val_loader=val_dataloader\n",
        "epochs_val=3\n",
        "seed_val=2020\n",
        "device=device\n",
        "lr_value=5e-5\n",
        "\n",
        "############################## RANDOM SEED ##################################################\n",
        "\n",
        "import random\n",
        "# Let's put a seed to make this result reproducible \n",
        "seed=seed_val\n",
        "random.seed(seed)\n",
        "np.random.seed(seed)\n",
        "torch.manual_seed(seed)\n",
        "torch.cuda.manual_seed_all(seed)\n",
        "\n",
        "############################### LEARNING RATE SCHEDULER #######################################\n",
        "\n",
        "# https://huggingface.co/transformers/migration.html \n",
        "# https://pytorch.org/docs/stable/optim.html (default values)\n",
        "\n",
        "import torch.nn as nn\n",
        "import torch.optim as optim\n",
        "from transformers import AdamW\n",
        "from transformers import get_linear_schedule_with_warmup\n",
        "\n",
        "epochs = epochs_val # In order to fine tune our model we will first set the number of epochs to 4.\n",
        "\n",
        "# We choose Binary cross enthropy with logits loss for the loss computation. It seems to be the most adapted loss to our problem. \n",
        "criterion = nn.BCEWithLogitsLoss()\n",
        "#Implements Adam algorithm with weight decay fix.\n",
        "opti = AdamW(model.parameters(),\n",
        "                  lr =lr_value, # learning rate (default = 1e-3)\n",
        "                  eps = 1e-8 # prevents division by 0 (default = 1e-8)\n",
        "                )\n",
        "\n",
        "num_training_steps = len(train_loader) * epochs\n",
        "# Create a schedule with a learning rate that decreases linearly after linearly increasing during a warmup period (0 here)\n",
        "scheduler = get_linear_schedule_with_warmup(opti, \n",
        "                                            num_warmup_steps = 0,\n",
        "                                            num_training_steps = num_training_steps)\n",
        "\n",
        "\n",
        "# We want to evaluate the training phase \n",
        "training_stats = []\n",
        "\n",
        "for ep in range(0, epochs):\n",
        "  print('===========Starting Epoch {} / {} =============='.format(ep+1,epochs))\n",
        "  print('Training starts')\n",
        "\n",
        "  ################################### TRAINING ################################\n",
        "\n",
        "  #Put the model in training mode\n",
        "  model.train()\n",
        "\n",
        "  # Set the train loss for the epoch to 0 \n",
        "  total_train_loss = 0\n",
        "\n",
        "  for step, batch in enumerate(train_loader):\n",
        "    # Clear gradients \n",
        "    model.zero_grad() # (opti.zerograd ? )\n",
        "\n",
        "    # Cpy the 3 batch to GPU \n",
        "    b_input_ids = batch[0].to(device)\n",
        "    b_input_mask = batch[1].to(device)\n",
        "    b_labels = batch[2].to(device)\n",
        "    \n",
        "    #return loss and logits\n",
        "    loss, logits = model(b_input_ids, \n",
        "                        token_type_ids=None, \n",
        "                        attention_mask=b_input_mask, \n",
        "                        labels=b_labels) \n",
        "    \n",
        "    # Accumulate training loss for all batches \n",
        "    total_train_loss += loss.item()\n",
        "\n",
        "    #Backpropagating the gradients \n",
        "    loss.backward()\n",
        "\n",
        "    # Prevent exploding gradients problem  (forcing the gradients to be small, the parameter updates will not push the parameters too far from their previous values)\n",
        "    torch.nn.utils.clip_grad_norm_(model.parameters(), 1.0)\n",
        "\n",
        "    # Update parameters \n",
        "    opti.step()\n",
        "\n",
        "    # Update learning rate schedule\n",
        "    scheduler.step()\n",
        "\n",
        "  #Calculate the average training loss over all batches  \n",
        "  avg_train_loss = total_train_loss / len(train_loader)\n",
        "  print(\"\")\n",
        "  print(\"  Average training loss: {0:.2f}\".format(avg_train_loss))\n",
        "  print('')\n",
        "  print('Validation starts')\n",
        "\n",
        "  ###################### VALIDATION #############################\n",
        "\n",
        "  # Put model in evaluation mode \n",
        "  model.eval()\n",
        "\n",
        "  # Set statistics to 0\n",
        "  total_eval_accuracy = 0\n",
        "  total_eval_loss = 0\n",
        "  nb_eval_steps = 0\n",
        "  total_eval_f1=0\n",
        "  total_roc_auc = 0 \n",
        "\n",
        "  # Confusion matrix ?\n",
        "  predictions, true_labels = [], []\n",
        "\n",
        "  for batch in val_loader:\n",
        "    b_input_ids = batch[0].to(device)\n",
        "    b_input_mask = batch[1].to(device)\n",
        "    b_labels = batch[2].to(device)\n",
        "    \n",
        "    # We don't care about gradients for eval\n",
        "\n",
        "    with torch.no_grad(): \n",
        "      (loss, logits) = model(b_input_ids, \n",
        "                                token_type_ids=None, \n",
        "                                attention_mask=b_input_mask,\n",
        "                                labels=b_labels)\n",
        "    total_eval_loss += loss.item()\n",
        "\n",
        "      # Move logits and labels to CPU \n",
        "    logits = logits.detach().cpu().numpy()\n",
        "    label_ids = b_labels.to('cpu').numpy()\n",
        "\n",
        "    F1_score, Accuracy = create_report(label_ids,logits)\n",
        "\n",
        "    # Accumulation accuracy for all batch\n",
        "    total_eval_accuracy += Accuracy\n",
        "\n",
        "    # Accumulation f1 for all batch\n",
        "    total_eval_f1 += F1_score\n",
        "    \n",
        "    #Final accuracy on all batch\n",
        "  avg_val_accuracy = total_eval_accuracy / len(val_loader)\n",
        "  print(\"  Accuracy: {0:.2f}\".format(avg_val_accuracy))\n",
        "\n",
        "\n",
        "    #Final f1 on all batch\n",
        "  avg_val_f1 = total_eval_f1 / len(val_loader)\n",
        "  print(\"  F1_score: {0:.2f}\".format(avg_val_f1))\n",
        "\n",
        "    #Final loss over all batch\n",
        "  avg_val_loss = total_eval_loss / len(val_loader)\n",
        "  print(\"  Validation Loss: {0:.2f}\".format(avg_val_loss))\n",
        "\n",
        "  training_stats.append(\n",
        "        {\n",
        "            'epoch': ep + 1,\n",
        "            'Train Loss': avg_train_loss,\n",
        "            'Val Loss': avg_val_loss,\n",
        "            'Val Accur.': avg_val_accuracy,\n",
        "            'Val F1' : avg_val_f1,\n",
        "        }\n",
        "    )\n",
        "\n",
        "print(\"\")\n",
        "print(\"Done !\")"
      ],
      "execution_count": 0,
      "outputs": [
        {
          "output_type": "stream",
          "text": [
            "===========Starting Epoch 1 / 3 ==============\n",
            "Training starts\n",
            "\n",
            "  Average training loss: 0.51\n",
            "\n",
            "Validation starts\n",
            "  Accuracy: 0.85\n",
            "  F1_score: 0.52\n",
            "  Validation Loss: 0.43\n",
            "===========Starting Epoch 2 / 3 ==============\n",
            "Training starts\n",
            "\n",
            "  Average training loss: 0.36\n",
            "\n",
            "Validation starts\n",
            "  Accuracy: 0.86\n",
            "  F1_score: 0.62\n",
            "  Validation Loss: 0.34\n",
            "===========Starting Epoch 3 / 3 ==============\n",
            "Training starts\n",
            "\n",
            "  Average training loss: 0.27\n",
            "\n",
            "Validation starts\n",
            "  Accuracy: 0.83\n",
            "  F1_score: 0.61\n",
            "  Validation Loss: 0.40\n",
            "\n",
            "Done !\n"
          ],
          "name": "stdout"
        }
      ]
    },
    {
      "cell_type": "code",
      "metadata": {
        "id": "jxVq-YlRE9CM",
        "colab_type": "code",
        "outputId": "af7427f6-6d14-4bcc-a1c3-fb7442ee5d55",
        "colab": {
          "base_uri": "https://localhost:8080/",
          "height": 512
        }
      },
      "source": [
        "report_model_1(results_unbalanced)"
      ],
      "execution_count": 0,
      "outputs": [
        {
          "output_type": "stream",
          "text": [
            "       Train Loss  Val Loss  Val Accur.    Val F1  accur 2 \n",
            "epoch                                                      \n",
            "1        0.486057  0.393362      0.8500  0.502009    0.8500\n",
            "2        0.340707  0.359600      0.8525  0.507469    0.8525\n",
            "3        0.244166  0.372269      0.8650  0.637284    0.8650\n"
          ],
          "name": "stdout"
        },
        {
          "output_type": "display_data",
          "data": {
            "image/png": "[encoded data removed]",
            "text/plain": [
              "<Figure size 864x432 with 1 Axes>"
            ]
          },
          "metadata": {
            "tags": []
          }
        }
      ]
    },
    {
      "cell_type": "code",
      "metadata": {
        "id": "ce6txgQ2K_w4",
        "colab_type": "code",
        "outputId": "c6cb95ad-b005-403f-98a4-660882295964",
        "colab": {
          "base_uri": "https://localhost:8080/",
          "height": 561
        }
      },
      "source": [
        "results_unbalanced = train_val_gendermodel(train_loader=train_loader_unbalanced, val_loader=val_loader_unbalanced, epochs_val=3,seed_val=2020,device=device,lr_value=5e-5)"
      ],
      "execution_count": 0,
      "outputs": [
        {
          "output_type": "stream",
          "text": [
            "===========Starting Epoch 1 / 3 ==============\n",
            "Training starts\n",
            "\n",
            "  Average training loss: 0.65\n",
            "\n",
            "Validation starts\n",
            "  Accuracy: 0.76\n",
            "  Accuracy: 0.76\n",
            "  F1_score: 0.60\n",
            "  Validation Loss: 0.60\n",
            "===========Starting Epoch 2 / 3 ==============\n",
            "Training starts\n",
            "\n",
            "  Average training loss: 0.66\n",
            "\n",
            "Validation starts\n",
            "  Accuracy: 0.76\n",
            "  Accuracy: 0.76\n",
            "  F1_score: 0.60\n",
            "  Validation Loss: 0.65\n",
            "===========Starting Epoch 3 / 3 ==============\n",
            "Training starts\n",
            "\n",
            "  Average training loss: 0.66\n",
            "\n",
            "Validation starts\n",
            "  Accuracy: 0.76\n",
            "  Accuracy: 0.76\n",
            "  F1_score: 0.60\n",
            "  Validation Loss: 0.61\n",
            "\n",
            "Done !\n"
          ],
          "name": "stdout"
        }
      ]
    },
    {
      "cell_type": "code",
      "metadata": {
        "id": "2qpPcQQGJEDi",
        "colab_type": "code",
        "colab": {}
      },
      "source": [
        "PROBLEM DANS LE LOAD "
      ],
      "execution_count": 0,
      "outputs": []
    },
    {
      "cell_type": "code",
      "metadata": {
        "id": "TfzCuPwtS6zj",
        "colab_type": "code",
        "outputId": "51c498bf-1e57-41c8-c7b6-31a0f1afbb4a",
        "colab": {
          "base_uri": "https://localhost:8080/",
          "height": 231
        }
      },
      "source": [
        "\n",
        "from torch.utils.data import TensorDataset, random_split\n",
        "from torch.utils.data import DataLoader, RandomSampler, SequentialSampler\n",
        "\n",
        "texts = df.Texte.values\n",
        "labels = df.sexe.values\n",
        "\n",
        "# Tokenize all of the sentences and map the tokens to thier word IDs.\n",
        "input_ids = []\n",
        "attention_masks = []\n",
        "num_truncated_tokens =[]\n",
        "# Apply function to our corpus\n",
        "for text in texts:\n",
        "    encoded_dict = tokenizer.encode_plus(\n",
        "                        text,                      # text\n",
        "                        add_special_tokens = True, # Add '[CLS]' and '[SEP]'\n",
        "                        max_length = length,           # We choose for now a max length of 500.\n",
        "                        pad_to_max_length = True,    # Pad text to max (marche pas en pad left ?)\n",
        "                        return_attention_mask = True,   # Construct attention masks\n",
        "                        return_tensors = 'pt',     # Return pytorch tensors.\n",
        "                        return_overflowing_tokens =True, # return overflowing token information\n",
        "                  )\n",
        "    \n",
        "    # Map tokens to their id in the dictionnary \n",
        "    # We add this to our list    \n",
        "    input_ids.append(encoded_dict['input_ids'])\n",
        "\n",
        "    #num_truncated_tokens.append(encoded_dict['num_truncated_tokens'])\n",
        "    \n",
        "    # 3. Attention masks\n",
        "    attention_masks.append(encoded_dict['attention_mask'])\n",
        "\n",
        "# We convert all this into tensors in order to be able to make it work on GPU \n",
        "input_ids = torch.cat(input_ids, dim=0)\n",
        "attention_masks = torch.cat(attention_masks, dim=0)\n",
        "labels = torch.tensor(labels)\n",
        "\n",
        "# Original text and transformed tensor print \n",
        "print(\"Let's check for the first text indexes, attention masks and labels\")\n",
        "print(\" \")\n",
        "print('Original: ', texts[0][0:100])\n",
        "print('IDs:', input_ids[0][0:100])\n",
        "print('Attention masks:', attention_masks[0][0:100])\n",
        "print('labels',labels[0])"
      ],
      "execution_count": 0,
      "outputs": [
        {
          "output_type": "error",
          "ename": "NameError",
          "evalue": "ignored",
          "traceback": [
            "\u001b[0;31m---------------------------------------------------------------------------\u001b[0m",
            "\u001b[0;31mNameError\u001b[0m                                 Traceback (most recent call last)",
            "\u001b[0;32m<ipython-input-17-e32eae3d3924>\u001b[0m in \u001b[0;36m<module>\u001b[0;34m()\u001b[0m\n\u001b[1;32m     12\u001b[0m \u001b[0;31m# Apply function to our corpus\u001b[0m\u001b[0;34m\u001b[0m\u001b[0;34m\u001b[0m\u001b[0;34m\u001b[0m\u001b[0m\n\u001b[1;32m     13\u001b[0m \u001b[0;32mfor\u001b[0m \u001b[0mtext\u001b[0m \u001b[0;32min\u001b[0m \u001b[0mtexts\u001b[0m\u001b[0;34m:\u001b[0m\u001b[0;34m\u001b[0m\u001b[0;34m\u001b[0m\u001b[0m\n\u001b[0;32m---> 14\u001b[0;31m     encoded_dict = tokenizer.encode_plus(\n\u001b[0m\u001b[1;32m     15\u001b[0m                         \u001b[0mtext\u001b[0m\u001b[0;34m,\u001b[0m                      \u001b[0;31m# text\u001b[0m\u001b[0;34m\u001b[0m\u001b[0;34m\u001b[0m\u001b[0m\n\u001b[1;32m     16\u001b[0m                         \u001b[0madd_special_tokens\u001b[0m \u001b[0;34m=\u001b[0m \u001b[0;32mTrue\u001b[0m\u001b[0;34m,\u001b[0m \u001b[0;31m# Add '[CLS]' and '[SEP]'\u001b[0m\u001b[0;34m\u001b[0m\u001b[0;34m\u001b[0m\u001b[0m\n",
            "\u001b[0;31mNameError\u001b[0m: name 'tokenizer' is not defined"
          ]
        }
      ]
    },
    {
      "cell_type": "code",
      "metadata": {
        "id": "L8rm-f74RAUy",
        "colab_type": "code",
        "colab": {}
      },
      "source": [
        "# Combine all above\n",
        "dataset = TensorDataset(input_ids, attention_masks, labels)\n",
        "\n",
        "# Let's create a 80-20 train / validation dataset \n",
        "train_size = int(length_train * len(dataset))\n",
        "val_size = len(dataset) - train_size\n",
        "\n",
        "train_set, val_set = random_split(dataset, [train_size, val_size])\n",
        "\n",
        "# We set the size of the batch ( usually set around 16 or 32), we will take the lower bound because of the large text length\n",
        "batch_size = batch_size_value\n",
        "\n",
        "# We create data loaders for the train and validation dataset. \n",
        "train_dataloader = DataLoader(\n",
        "            train_set,  # The training samples.\n",
        "            sampler = RandomSampler(train_set), # Select batches randomly\n",
        "            batch_size = batch_size # Trains with this batch size.\n",
        "        )\n",
        "\n",
        "val_dataloader = DataLoader(\n",
        "            val_set, # The validation samples.\n",
        "            sampler = SequentialSampler(val_set), # Pull out batches sequentially.\n",
        "            batch_size = batch_size # Evaluate with this batch size.\n",
        "        )\n",
        "\n",
        "print('Data loaders created for train [0] and val [1]')\n",
        "\n"
      ],
      "execution_count": 0,
      "outputs": []
    },
    {
      "cell_type": "code",
      "metadata": {
        "id": "YZ98Lka2Yk25",
        "colab_type": "code",
        "outputId": "8745feb9-b5ac-4727-8bc6-587c3ed1be30",
        "colab": {
          "base_uri": "https://localhost:8080/",
          "height": 231
        }
      },
      "source": [
        "from torch.utils.data import TensorDataset, random_split\n",
        "from torch.utils.data import DataLoader, RandomSampler, SequentialSampler\n",
        "\n",
        "texts = df.Texte.values\n",
        "labels = df.sexe.values\n",
        "\n",
        "# Tokenize all of the sentences and map the tokens to thier word IDs.\n",
        "input_ids = []\n",
        "attention_masks = []\n",
        "num_truncated_tokens =[]\n",
        "# Apply function to our corpus\n",
        "for text in texts:\n",
        "    encoded_dict = tokenizer.encode_plus(\n",
        "                        text,                      # text\n",
        "                        add_special_tokens = True, # Add '[CLS]' and '[SEP]'\n",
        "                        max_length = length,           # We choose for now a max length of 500.\n",
        "                        pad_to_max_length = True,    # Pad text to max (marche pas en pad left ?)\n",
        "                        return_attention_mask = True,   # Construct attention masks\n",
        "                        return_tensors = 'pt',     # Return pytorch tensors.\n",
        "                        return_overflowing_tokens =True, # return overflowing token information\n",
        "                  )\n",
        "    \n",
        "    # Map tokens to their id in the dictionnary \n",
        "    # We add this to our list    \n",
        "    input_ids.append(encoded_dict['input_ids'])\n",
        "\n",
        "    #num_truncated_tokens.append(encoded_dict['num_truncated_tokens'])\n",
        "    \n",
        "    # 3. Attention masks\n",
        "    attention_masks.append(encoded_dict['attention_mask'])\n"
      ],
      "execution_count": 0,
      "outputs": [
        {
          "output_type": "error",
          "ename": "NameError",
          "evalue": "ignored",
          "traceback": [
            "\u001b[0;31m---------------------------------------------------------------------------\u001b[0m",
            "\u001b[0;31mNameError\u001b[0m                                 Traceback (most recent call last)",
            "\u001b[0;32m<ipython-input-2-71c5979f61ab>\u001b[0m in \u001b[0;36m<module>\u001b[0;34m()\u001b[0m\n\u001b[1;32m      2\u001b[0m \u001b[0;32mfrom\u001b[0m \u001b[0mtorch\u001b[0m\u001b[0;34m.\u001b[0m\u001b[0mutils\u001b[0m\u001b[0;34m.\u001b[0m\u001b[0mdata\u001b[0m \u001b[0;32mimport\u001b[0m \u001b[0mDataLoader\u001b[0m\u001b[0;34m,\u001b[0m \u001b[0mRandomSampler\u001b[0m\u001b[0;34m,\u001b[0m \u001b[0mSequentialSampler\u001b[0m\u001b[0;34m\u001b[0m\u001b[0;34m\u001b[0m\u001b[0m\n\u001b[1;32m      3\u001b[0m \u001b[0;34m\u001b[0m\u001b[0m\n\u001b[0;32m----> 4\u001b[0;31m \u001b[0mtexts\u001b[0m \u001b[0;34m=\u001b[0m \u001b[0mdf\u001b[0m\u001b[0;34m.\u001b[0m\u001b[0mTexte\u001b[0m\u001b[0;34m.\u001b[0m\u001b[0mvalues\u001b[0m\u001b[0;34m\u001b[0m\u001b[0;34m\u001b[0m\u001b[0m\n\u001b[0m\u001b[1;32m      5\u001b[0m \u001b[0mlabels\u001b[0m \u001b[0;34m=\u001b[0m \u001b[0mdf\u001b[0m\u001b[0;34m.\u001b[0m\u001b[0msexe\u001b[0m\u001b[0;34m.\u001b[0m\u001b[0mvalues\u001b[0m\u001b[0;34m\u001b[0m\u001b[0;34m\u001b[0m\u001b[0m\n\u001b[1;32m      6\u001b[0m \u001b[0;34m\u001b[0m\u001b[0m\n",
            "\u001b[0;31mNameError\u001b[0m: name 'df' is not defined"
          ]
        }
      ]
    },
    {
      "cell_type": "code",
      "metadata": {
        "id": "7Usyq-FsZWCz",
        "colab_type": "code",
        "colab": {}
      },
      "source": [
        ""
      ],
      "execution_count": 0,
      "outputs": []
    }
  ]
}