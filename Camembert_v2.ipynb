{
  "nbformat": 4,
  "nbformat_minor": 0,
  "metadata": {
    "colab": {
      "name": "Camembert_v2.ipynb",
      "provenance": [],
      "toc_visible": true,
      "authorship_tag": "ABX9TyOiG1dguzMOpfjZqI+JzYGY",
      "include_colab_link": true
    },
    "kernelspec": {
      "name": "python3",
      "display_name": "Python 3"
    },
    "accelerator": "GPU"
  },
  "cells": [
    {
      "cell_type": "markdown",
      "metadata": {
        "id": "view-in-github",
        "colab_type": "text"
      },
      "source": [
        "<a href=\"https://colab.research.google.com/github/cerezamo/NLP_brouillon/blob/master/Camembert_v2.ipynb\" target=\"_parent\"><img src=\"https://colab.research.google.com/assets/colab-badge.svg\" alt=\"Open In Colab\"/></a>"
      ]
    },
    {
      "cell_type": "markdown",
      "metadata": {
        "id": "kcxLW3uyHTSN",
        "colab_type": "text"
      },
      "source": [
        "# CamemBERT classification model \n"
      ]
    },
    {
      "cell_type": "code",
      "metadata": {
        "id": "H1JD-Tb0HdvN",
        "colab_type": "code",
        "outputId": "4dd7f5a5-ff86-414d-eb7a-790c6d4fd071",
        "colab": {
          "base_uri": "https://localhost:8080/",
          "height": 34
        }
      },
      "source": [
        "import spacy \n",
        "import numpy as np \n",
        "import pandas as pd \n",
        "import os \n",
        "os.getcwd()\n",
        "from google.colab import drive \n",
        "drive.mount('/content/gdrive')"
      ],
      "execution_count": 61,
      "outputs": [
        {
          "output_type": "stream",
          "text": [
            "Drive already mounted at /content/gdrive; to attempt to forcibly remount, call drive.mount(\"/content/gdrive\", force_remount=True).\n"
          ],
          "name": "stdout"
        }
      ]
    },
    {
      "cell_type": "markdown",
      "metadata": {
        "id": "8bxA1IEgH-GI",
        "colab_type": "text"
      },
      "source": [
        "### Set up Colab GPU "
      ]
    },
    {
      "cell_type": "code",
      "metadata": {
        "id": "2mF6Hs6yH2A5",
        "colab_type": "code",
        "outputId": "606139df-46b3-4611-e8e8-93f076ca3c09",
        "colab": {
          "base_uri": "https://localhost:8080/",
          "height": 34
        }
      },
      "source": [
        "# First you should go in 'Edit' -> 'Notebook settings' -> Add device GPU\n",
        "import tensorflow as tf\n",
        "\n",
        "# GPU device name.\n",
        "device_name = tf.test.gpu_device_name()\n",
        "device_name"
      ],
      "execution_count": 62,
      "outputs": [
        {
          "output_type": "execute_result",
          "data": {
            "text/plain": [
              "'/device:GPU:0'"
            ]
          },
          "metadata": {
            "tags": []
          },
          "execution_count": 62
        }
      ]
    },
    {
      "cell_type": "markdown",
      "metadata": {
        "id": "VZ_F6NV3IaCY",
        "colab_type": "text"
      },
      "source": [
        "Let's now tell torch that one GPU is available "
      ]
    },
    {
      "cell_type": "code",
      "metadata": {
        "id": "wr4fjemjIVoQ",
        "colab_type": "code",
        "outputId": "e9d49a3c-80cb-437f-e7a3-e2fa89327608",
        "colab": {
          "base_uri": "https://localhost:8080/",
          "height": 51
        }
      },
      "source": [
        "import torch\n",
        "\n",
        "if torch.cuda.is_available():  \n",
        "        \n",
        "    device = torch.device(\"cuda\")\n",
        "\n",
        "    print('There are %d GPU(s) available.' % torch.cuda.device_count())\n",
        "\n",
        "    print('We will use the GPU:', torch.cuda.get_device_name(0))\n",
        "\n",
        "# If not...\n",
        "else:\n",
        "    print('No GPU available, using the CPU instead.')\n",
        "    device = torch.device(\"cpu\")"
      ],
      "execution_count": 63,
      "outputs": [
        {
          "output_type": "stream",
          "text": [
            "There are 1 GPU(s) available.\n",
            "We will use the GPU: Tesla P100-PCIE-16GB\n"
          ],
          "name": "stdout"
        }
      ]
    },
    {
      "cell_type": "markdown",
      "metadata": {
        "id": "ZGwjFzizIsMI",
        "colab_type": "text"
      },
      "source": [
        "Let's install the Hugging Face Library transformer package "
      ]
    },
    {
      "cell_type": "code",
      "metadata": {
        "id": "--g7cokfIrpT",
        "colab_type": "code",
        "outputId": "eebc1c1b-5386-4f65-cd70-5346d77802ef",
        "colab": {
          "base_uri": "https://localhost:8080/",
          "height": 391
        }
      },
      "source": [
        "! pip install transformers "
      ],
      "execution_count": 64,
      "outputs": [
        {
          "output_type": "stream",
          "text": [
            "Requirement already satisfied: transformers in /usr/local/lib/python3.6/dist-packages (2.6.0)\n",
            "Requirement already satisfied: tqdm>=4.27 in /usr/local/lib/python3.6/dist-packages (from transformers) (4.38.0)\n",
            "Requirement already satisfied: regex!=2019.12.17 in /usr/local/lib/python3.6/dist-packages (from transformers) (2019.12.20)\n",
            "Requirement already satisfied: boto3 in /usr/local/lib/python3.6/dist-packages (from transformers) (1.12.27)\n",
            "Requirement already satisfied: requests in /usr/local/lib/python3.6/dist-packages (from transformers) (2.21.0)\n",
            "Requirement already satisfied: tokenizers==0.5.2 in /usr/local/lib/python3.6/dist-packages (from transformers) (0.5.2)\n",
            "Requirement already satisfied: sacremoses in /usr/local/lib/python3.6/dist-packages (from transformers) (0.0.38)\n",
            "Requirement already satisfied: filelock in /usr/local/lib/python3.6/dist-packages (from transformers) (3.0.12)\n",
            "Requirement already satisfied: sentencepiece in /usr/local/lib/python3.6/dist-packages (from transformers) (0.1.85)\n",
            "Requirement already satisfied: numpy in /usr/local/lib/python3.6/dist-packages (from transformers) (1.18.2)\n",
            "Requirement already satisfied: jmespath<1.0.0,>=0.7.1 in /usr/local/lib/python3.6/dist-packages (from boto3->transformers) (0.9.5)\n",
            "Requirement already satisfied: botocore<1.16.0,>=1.15.27 in /usr/local/lib/python3.6/dist-packages (from boto3->transformers) (1.15.27)\n",
            "Requirement already satisfied: s3transfer<0.4.0,>=0.3.0 in /usr/local/lib/python3.6/dist-packages (from boto3->transformers) (0.3.3)\n",
            "Requirement already satisfied: idna<2.9,>=2.5 in /usr/local/lib/python3.6/dist-packages (from requests->transformers) (2.8)\n",
            "Requirement already satisfied: chardet<3.1.0,>=3.0.2 in /usr/local/lib/python3.6/dist-packages (from requests->transformers) (3.0.4)\n",
            "Requirement already satisfied: certifi>=2017.4.17 in /usr/local/lib/python3.6/dist-packages (from requests->transformers) (2019.11.28)\n",
            "Requirement already satisfied: urllib3<1.25,>=1.21.1 in /usr/local/lib/python3.6/dist-packages (from requests->transformers) (1.24.3)\n",
            "Requirement already satisfied: six in /usr/local/lib/python3.6/dist-packages (from sacremoses->transformers) (1.12.0)\n",
            "Requirement already satisfied: click in /usr/local/lib/python3.6/dist-packages (from sacremoses->transformers) (7.1.1)\n",
            "Requirement already satisfied: joblib in /usr/local/lib/python3.6/dist-packages (from sacremoses->transformers) (0.14.1)\n",
            "Requirement already satisfied: python-dateutil<3.0.0,>=2.1 in /usr/local/lib/python3.6/dist-packages (from botocore<1.16.0,>=1.15.27->boto3->transformers) (2.8.1)\n",
            "Requirement already satisfied: docutils<0.16,>=0.10 in /usr/local/lib/python3.6/dist-packages (from botocore<1.16.0,>=1.15.27->boto3->transformers) (0.15.2)\n"
          ],
          "name": "stdout"
        }
      ]
    },
    {
      "cell_type": "markdown",
      "metadata": {
        "id": "W4OKq8Z4JId9",
        "colab_type": "text"
      },
      "source": [
        "### Loading our corpus and preprocessing "
      ]
    },
    {
      "cell_type": "code",
      "metadata": {
        "id": "aOCVLtje9_Rs",
        "colab_type": "code",
        "colab": {}
      },
      "source": [
        "import pandas as pd\n",
        "# Import medium_df_desq in \"files\"\n",
        "# Load the dataset into a pandas dataframe.\n",
        "#df=pd.read_csv('medium_df_deseq.csv',encoding='utf-8')\n",
        "df=pd.read_csv('medium_df_deseq.csv',encoding='utf-8')\n",
        "\n",
        "# We replace the labels in a more normalized way : 0=men, 1=women \n",
        "df.sexe=df.sexe.replace(1,0)\n",
        "df.sexe=df.sexe.replace(2,1)\n"
      ],
      "execution_count": 0,
      "outputs": []
    },
    {
      "cell_type": "code",
      "metadata": {
        "id": "HgllpcqJevp4",
        "colab_type": "code",
        "colab": {}
      },
      "source": [
        "# Make results reproducible \n",
        "seed_val = 2020"
      ],
      "execution_count": 0,
      "outputs": []
    },
    {
      "cell_type": "code",
      "metadata": {
        "id": "Ae8ICVGvUBLv",
        "colab_type": "code",
        "colab": {}
      },
      "source": [
        "def unbalanced_preprocess(df,seed_val,frac_val):\n",
        "\n",
        "  from sklearn.model_selection import train_test_split\n",
        "\n",
        "  #Shuffle the data \n",
        "  df_unbalanced=df.sample(frac=frac_val).reset_index()\n",
        "\n",
        "  # Reduce to the variables we are interested in \n",
        "  df_unbalanced=df_unbalanced[['Texte','sexe']]\n",
        "\n",
        "  # Report the number of speeches in the corpus.\n",
        "  print('Number of text in the unbalanced corpus : {:,}\\n'.format(df_unbalanced.shape[0]))\n",
        "  prop = (len(df_unbalanced[df_unbalanced.sexe==1])/len(df_unbalanced))*100\n",
        "  print('Proportions of women in the unbalanced corpus : {}\\n'.format(prop))\n",
        "\n",
        "  # We keep one little sample for evaluation \n",
        "  model_unbalanced, dev_unbalanced = train_test_split(df_unbalanced, test_size=0.02,random_state=seed_val)\n",
        "\n",
        "  return model_unbalanced, dev_unbalanced"
      ],
      "execution_count": 0,
      "outputs": []
    },
    {
      "cell_type": "code",
      "metadata": {
        "id": "3IdYJSSRUdD0",
        "colab_type": "code",
        "outputId": "26af044a-3e41-471f-d430-0b537a5185f1",
        "colab": {
          "base_uri": "https://localhost:8080/",
          "height": 85
        }
      },
      "source": [
        "df_unbalanced = unbalanced_preprocess(df,seed_val,frac_val=0.5)[0]"
      ],
      "execution_count": 68,
      "outputs": [
        {
          "output_type": "stream",
          "text": [
            "Number of text in the unbalanced corpus : 2,500\n",
            "\n",
            "Proportions of women in the unbalanced corpus : 24.72\n",
            "\n"
          ],
          "name": "stdout"
        }
      ]
    },
    {
      "cell_type": "code",
      "metadata": {
        "id": "bd4SCY6LUuwY",
        "colab_type": "code",
        "colab": {}
      },
      "source": [
        "def balanced_preprocess(df,seed_val,frac_val):\n",
        "  from sklearn.model_selection import train_test_split\n",
        "\n",
        "  # Let's take a balanced sample \n",
        "  df_m = df.loc[df['sexe'] == 0]\n",
        "  df_f = df.loc[df['sexe'] == 1] \n",
        "  df_m = df_m[0:len(df_f)]\n",
        "  df = df_f.append(df_m)\n",
        "\n",
        "  #Shuffle the data and taking half of the sample in order not to have to many data compared to the other samples \n",
        "  df_balanced=df.sample(frac=1).reset_index()\n",
        "\n",
        "  # Reduce to the variables we are interested in \n",
        "  df_balanced=df_balanced[['Texte','sexe']]\n",
        "\n",
        "  # Report the number of speeches in the corpus.\n",
        "  print('Number of text in this corpus : {:,}\\n'.format(df_balanced.shape[0]))\n",
        "  prop = (len(df_balanced[df_balanced.sexe==1])/len(df_balanced))*100\n",
        "  print('Proportions of women in the balanced corpus : {}\\n'.format(prop))\n",
        "\n",
        "  # Keep one little sample for evaluation \n",
        "  model_balanced, dev_balanced = train_test_split(df_balanced, test_size=0.02,random_state=seed_val)\n",
        "\n",
        "  return model_balanced, dev_balanced\n",
        "\n"
      ],
      "execution_count": 0,
      "outputs": []
    },
    {
      "cell_type": "code",
      "metadata": {
        "id": "UeQif_N0X4uW",
        "colab_type": "code",
        "outputId": "a938c982-02a0-46d5-8358-7da3f8dc07f7",
        "colab": {
          "base_uri": "https://localhost:8080/",
          "height": 85
        }
      },
      "source": [
        "df_balanced = balanced_preprocess(df,seed_val,frac_val=1)[0]"
      ],
      "execution_count": 70,
      "outputs": [
        {
          "output_type": "stream",
          "text": [
            "Number of text in this corpus : 2,500\n",
            "\n",
            "Proportions of women in the balanced corpus : 50.0\n",
            "\n"
          ],
          "name": "stdout"
        }
      ]
    },
    {
      "cell_type": "code",
      "metadata": {
        "id": "E85CuAStX_qR",
        "colab_type": "code",
        "colab": {}
      },
      "source": [
        "def balanced_splitted(df,seed_val,frac_val):\n",
        "  from sklearn.model_selection import train_test_split\n",
        "    # Reduce to the variables we are interested in \n",
        "  df=df[['Texte','sexe']]\n",
        "\n",
        "    # Let's take a balanced sample \n",
        "  df_m = df.loc[df['sexe'] == 0]\n",
        "  df_f = df.loc[df['sexe'] == 1] \n",
        "  df_m = df_m[0:len(df_f)]\n",
        "  df = df_f.append(df_m)\n",
        "\n",
        "   #Shuffle the data\n",
        "  df=df.sample(frac=frac_val).reset_index()\n",
        "\n",
        "  from itertools import repeat\n",
        "\n",
        "  n=2500\n",
        "  chunks, label_split=[],[]\n",
        "  j=0\n",
        "  for text in df.Texte :\n",
        "      txt=[text[i:i+n] for i in range(0, len(text), n)]\n",
        "      chunks.append(txt)\n",
        "      label_split.extend(repeat(df.sexe[j], len(txt)))\n",
        "      j+=1\n",
        "\n",
        "  chunks = [item for sublist in chunks for item in sublist]\n",
        "  df=pd.DataFrame([chunks,label_split]).transpose()\n",
        "  df.columns=['Texte','sexe']\n",
        "\n",
        "  # Put as integer \n",
        "  df['sexe'] = df['sexe'].astype(int)\n",
        "\n",
        "  df_balanced_split= df\n",
        "\n",
        "  # Report the number of speeches in the corpus.\n",
        "  print('Number of text in this balanced splitted corpus : {:,}\\n'.format(df_balanced_split.shape[0]))\n",
        "  prop = (len(df_balanced_split[df_balanced_split.sexe==1])/len(df_balanced_split))*100\n",
        "  print('Proportions of women in the balanced splitted corpus : {}\\n'.format(prop))\n",
        "\n",
        "  # Keep one little sample for evaluation \n",
        "  model_balanced_split, dev_balance_split = train_test_split(df_balanced_split, test_size=0.02,random_state=seed_val)\n",
        "  \n",
        "  return model_balanced_split, dev_balance_split"
      ],
      "execution_count": 0,
      "outputs": []
    },
    {
      "cell_type": "code",
      "metadata": {
        "id": "LmEpbT1JYf5-",
        "colab_type": "code",
        "outputId": "dec4c3f1-6d05-4359-e35c-034cc9a65993",
        "colab": {
          "base_uri": "https://localhost:8080/",
          "height": 85
        }
      },
      "source": [
        "df_balanced_split = balanced_splitted(df,seed_val,0.2)[0]"
      ],
      "execution_count": 82,
      "outputs": [
        {
          "output_type": "stream",
          "text": [
            "Number of text in this balanced splitted corpus : 2,477\n",
            "\n",
            "Proportions of women in the balanced splitted corpus : 48.80904319741623\n",
            "\n"
          ],
          "name": "stdout"
        }
      ]
    },
    {
      "cell_type": "markdown",
      "metadata": {
        "id": "WTKQ0QnAZ_wu",
        "colab_type": "text"
      },
      "source": [
        "**We propose 3 samples to train our model :**\n",
        "\n",
        "\n",
        "1.   **Unbalanced sample**\n",
        "\n",
        "We take the raw data without any further treatment.\n",
        "\n",
        "2.   **Balanced sample**\n",
        "\n",
        "The second option consist in deleting randomly part of male speeches in order to get a balanced sample. Indeed, in the case of unbalanced sample our model could decide to classify all speakers in the male category which would lead to a 0.75 accuracy in our case study. In order to avoid this we feed the model with the same proportions of male and female speakers. Other kind of treatments exist to deal with unbalanced sample. This one is the simpliest one and we could argue that there is a possibility that the deleted sample contains important information that we therefore miss. However we believe that in our case this is not a big issue. Our unbalanced sample is quite large for both female and male.\n",
        "\n",
        "3. **Balanced and splitted sample**\n",
        "\n",
        "The third option is a response to the max length constraint of BERT models. Our text samples are big and contain much more tokens than the 512 limit. In the first two options we decide to just feed the model with the 512 first tokens and thus delete the rest of them. In this third option we cut the text into x parts containing 500 tokens each. All parts of the speech will serve to feed the model. By this technique we do not loose potential important informations at the end of the text. A lot of other techniques have been employed (see ref !!! PUT). We decide to stick to this one in this project. \n",
        "\n"
      ]
    },
    {
      "cell_type": "markdown",
      "metadata": {
        "id": "ressz8h6OHxn",
        "colab_type": "text"
      },
      "source": [
        "#### Tokenization of our text and preparing to feed CamemBERT"
      ]
    },
    {
      "cell_type": "markdown",
      "metadata": {
        "id": "ntpzo9X5SSjA",
        "colab_type": "text"
      },
      "source": [
        "#### Loading the Camembert Tokenizer"
      ]
    },
    {
      "cell_type": "code",
      "metadata": {
        "id": "mggkz5R9g8dD",
        "colab_type": "code",
        "colab": {}
      },
      "source": [
        "# Import Camembert tokenizer\n",
        "from transformers import CamembertTokenizer\n",
        "# We choose a right padding side for the moment and we will test for a left padding side on a second stage\n",
        "tokenizer = CamembertTokenizer.from_pretrained('camembert-base', do_lower_case=False,padding_side='right') #left"
      ],
      "execution_count": 0,
      "outputs": []
    },
    {
      "cell_type": "code",
      "metadata": {
        "id": "JoaZUUBChM_J",
        "colab_type": "code",
        "outputId": "2d96d426-f3a6-44a7-986d-ce8f1a950af1",
        "colab": {
          "base_uri": "https://localhost:8080/",
          "height": 88
        }
      },
      "source": [
        "# Print the original text.\n",
        "print(' Original: ', df.Texte[0])\n",
        "\n",
        "# Print the text split into tokens.\n",
        "print('Tokenized: ', tokenizer.tokenize(df.Texte[0]))\n",
        "\n",
        "# Print the text mapped to token ids.\n",
        "print('Token IDs: ', tokenizer.convert_tokens_to_ids(tokenizer.tokenize(df.Texte[0])))"
      ],
      "execution_count": 25,
      "outputs": [
        {
          "output_type": "stream",
          "text": [
            " Original:  Messieurs,Je suis heureux de vous saluer. Quand je dis que je suis heureux de vous saluer, ce n'est pas une simple affirmation de politesse. Je le disais à l'instant à Monsieur le Ministre de la Défense, M. Richard, c'est pour moi un instant où il y a un peu d'émotion; je vais vous dire pourquoi.Vous êtes la première classe d'âge qui ne fera pas de service militaire. C'est une décision que j'ai prise, il y a deux ans, après une vraie réflexion et un vrai débat. Après tout, le service militaire c'est une vieille tradition nationale, il était plus que centenaire. Il y avait toutes sortes de raisons à cela, notamment la nécessité d'avoir une armée nombreuse et donc d'avoir des jeunes formés aux combats, à l'utilisation des armes de l'époque.On pouvait s'interroger sur la nécessité de poursuivre dans cette voie. Il y avait naturellement des critiques, il y avait beaucoup de jeunes qui se disaient qu'ils perdaient un peu leur temps, d'autres qui étaient satisfaits. Mais il y avait surtout ceux qui, dans notre pays, disaient: le service militaire c'est nécessaire pour la cohésion nationale, c'est un moyen de mettre ensemble les garçons issus de milieux et d'origines géographiques, culturelles, sociales, différents et de faire en sorte qu'ils se connaissent, qu'ils soient ensemble, et ce que l'on appelait la fraternité des casernes était considérée par beaucoup comme un élément important de la cohésion nationale. Cet argument était celui de beaucoup de conservateurs. Les conservateurs ont toujours des arguments forts, il faut en tenir compte. D'autre part, il m'était apparu que tout cela, au fond, appartenait un peu à une conception dépassée de la défense, et faisait peser au total sur les jeunes une contrainte obligatoire et excessive qui n'était pas justifiée, ou qui ne l'était plus.L'armée moderne n'est naturellement pas celle dont on avait besoin en 1914 ou 1939, ou même après, au moment des guerres de décolonisation en Algérie ou autres. Tout cela justifiait que l'on passe 1 an ou 2, voire plus, de service militaire, - parfois 3 ans au début du siècle, 2 ans et demi pendant la période de la guerre d'Algérie pour certains -.L'évolution des choses mettait cela en cause. L'évolution, c'était d'abord l'installation de la paix en Europe. Et cela a été une grande réforme, à partir du moment ou l'on a lancé la construction européenne: nous n'avons plus été menacés sur nos frontières. Il fut un temps où nous devions pouvoir opposer un barrage de poitrines aux poitrines allemandes qui risquaient de s'avancer chez nous, il fallait encore beaucoup d'hommes. La construction européenne a fait disparaître cette menace. Nous ne sommes plus menacés à nos frontières: on n'imagine pas l'Allemagne attaquant la France, on ne l'image plus. Donc, en toute hypothèse, la menace s'était éloignée. Il y avait aussi, naturellement, l'armement qui avait beaucoup changé, les techniques militaires qui s'étaient profondément transformées. Aujourd'hui, une opération militaire, la guerre le cas échéant, mobilise des hommes et des femmes qui ont une très haute compétence, qui sont aptes à utiliser des moyens extraordinairement sophistiqués, qui sont totalement disponibles et prêts à faire mouvement immédiatement, et qui n'ont besoin d'aucune formation préalable pour le faire.C'est donc un autre type de besoin que nous avons et qui ne correspond plus au service militaire tel qu'on le concevait avant. C'est donc une armée professionnelle qu'il nous faut, c'est une armée de métier, ce sont des vrais professionnels.A partir de cette réflexion, j'ai pensé que finalement, quels que soient les arguments, de nature sociale ou nationale qui plaidaient en faveur du service militaire, ce n'était plus adapté, et j'ai décidé de le supprimer. Mais la suppression du service militaire, cela ne veut pas dire la suppression de tout lien entre la jeunesse et l'armée. Il faut que les jeunes sachent ce que c'est que leur armée. Il faut que vous le sachiez, parce que vous êtes dépositaires de l'avenir. On s'imagine que tout va bien, qu'il n'y a plus de problème. Quand on est né dans les années 1980, on a toujours connu la liberté, la démocratie, les embêtements de la vie, les problèmes, le chômage, ou d'autres choses, mais on a pas connu la guerre naturellement. Vos grands-pères l'ont connue, pas vous. Cela ne vous dit rien, et pourtant c'est en permanence une menace. La France a des intérêts dans le monde, elle doit le cas échéant les défendre, et il faut que la France puisse apporter sa contribution militaire pour permettre de maintenir la paix ici où là, ou pour permettre de sauver des vies quand c'est nécessaire. Lorsque la Bosnie s'engage dans une opération suicidaire, qui fait des quantités de morts, il faut que la France, comme d'autres, puisse aller maintenir un peu l'ordre pour éviter les carnages. C'est la même chose aujourd'hui, peut-être -on ne sait pas, j'espère que non- dans le Kosovo. Et tout cela, c'est aux portes de l'Europe, c'est à moins de deux heures de chez nous en avion.Lorsqu'il y a des problèmes, hélas, en Afrique et cela arrive même si l'Afrique est sur la bonne voie, il faut que nous ayons la possibilité, en quelques heures, d'aller récupérer des Français ou des ressortissants d'autres pays qui sont là-bas et qui sont menacés dans leur vie, et qu'il faut extraire très rapidement. Cela demande une armée qui soit non seulement capable et équipée, mais qui soit aussi connue, respectée et aimée. D'où, naturellement, l'idée que les jeunes doivent connaître leur armée, doivent savoir ce qu'elle est, et quand je dis les jeunes c'est en réalité aujourd'hui les garçons comme les filles. Alors pour le moment et pour des raisons matérielles, techniques, les filles ne sont pas soumises à la même obligation que les garçons, mais dès 2000, le temps de mettre les choses en place, les garçons et les filles seront sur le même pied, auront les mêmes droits et devoirs, les mêmes obligations. Ce sera de ce point de vue une bonne chose, parce qu'il n'y a aucune raison que la prise de conscience des problèmes de la Défense, notamment de la défense de nos intérêts, de nos valeurs, de la liberté, de la dignité de l'homme, de l'égalité, il n'y a aucune raison qu'elle ne soit pas défendue de la même façon par les filles et par les garçons.Cette nouvelle armée, il faut en gros que vous sachiez ce que c'est. Elle ne vous demande pas d'obligation, ou très peu. Elle vous demande de venir passer une journée. C'est une journée d'information, de mobilisation, qui est de nature à vous permettre d'apprécier le cas échéant les choses et, pour ceux que cela intéresse, de les approfondir. Alors elle ne vous demande pas d'obligation, mais en revanche elle vous ouvre des possibilités importantes, et ne les sous-estimez pas, et pour en profiter il faut les connaître.Il y en a probablement parmi vous, ou parmi tous ceux qui se présenteront aujourd'hui pour la journée d'information, qui voudront être militaires. C'est un superbe métier, noble s'il en est. Ceux-là par conséquent ont besoin de savoir comment l'on fait si l'on veut s'engager dans cette voie. Il y a aussi ceux qui, pour des raisons personnelles, ou parce qu'ils ont le coeur à cela, veulent se consacrer pendant quelques temps - un an, un an et demi - à des tâches, je dirais généralement humanitaires au sens large du terme, qu'elles soient militaires ou qu'elles soient civiles, à apporter leur concours à l'éducation nationale pour apprendre à des gamins défavorisés à lire ou à écrire, pour faciliter la préservation de l'environnement, pour lutter contre les incendies, pour servir dans des unités chargées de maintenir la sécurité des personnes et des biens, je pense à la gendarmerie ou à d'autres domaines. Bref, il y en a certainement qui seront intéressés par l'idée de consacrer un an, un an et demi de leur coeur, de leur générosité à d'autres, dans ces domaines civils ou militaires, qui très largement peuvent être appelés des domaines humanitaires. J'ajoute que pour eux, ce sera aussi la possibilité d'acquérir une expérience, et parfois un métier, et de sortir de cette période avec la possibilité ou la capacité d'exercer un métier qu'ils auront appris. Il y aura ceux qui s'intéressent à l'armée, sans vouloir en faire leur métier. L'armée aura besoin de réservistes, beaucoup moins qu'avant, alors il y en a peut-être qui veulent ou qui voudront, parce que cela les intéresse, acquérir le minimum de connaissances leur permettant d'être versé dans ce que l'on appelle \"les réserves\" et le cas échéant d'être réservistes.Je ne veux pas entrer dans le détail, vous aurez toute la journée pour en entendre parler, mais l'objectif de cette journée est de vous faire comprendre que l'armée est l'une des institutions les plus nobles et les plus nécessaires de la nation et qu'il faut la connaître. Parfois on a un peu tendance à la critiquer, sans savoir. Il faut la connaître parce qu'elle fait des choses formidables, notamment, je le répète, dans le monde moderne sur le plan humanitaire et enfin, parce que c'est le dernier rempart de notre sécurité, de nos libertés, de nos intérêts, si par hasard les choses vont mal. Alors elle mérite d'être respectée, elle a droit au respect. Mais encore faut-il savoir pourquoi et c'est cela que l'on va vous dire.D'autre part, on veut vous ouvrir les voies et les possibilités que, directement ou indirectement, cette armée peut vous donner et enfin vous rappeler quels sont les principes que nous avons en commun, les principes de solidarité, les principes de respect de l'homme, de sa dignité, de l'égalité des uns et des autres, et tout cela est également important.Voilà. J'ai dû certainement oublier des choses importantes, mais on veut vous dire quels sont vos droits et aussi quels sont vos devoirs à l'égard de la Nation, et cette journée est consacrée à cela. Je souhaite qu'elle soit pour vous intéressante, qu'elle vous apprenne des choses, qu'elle vous ouvre des perspectives, qu'elle vous donne davantage conscience de vos droits mais aussi de vos devoirs.Je termine en souhaitant surtout, quelle que soit la voie que vous emprunterez et les conclusions que vous tirerez de cette journée, je vous souhaite surtout bonne chance et bon vent\n",
            "Tokenized:  ['▁Messieurs', ',', 'Je', '▁suis', '▁heureux', '▁de', '▁vous', '▁saluer', '.', '▁Quand', '▁je', '▁dis', '▁que', '▁je', '▁suis', '▁heureux', '▁de', '▁vous', '▁saluer', ',', '▁ce', '▁n', \"'\", 'est', '▁pas', '▁une', '▁simple', '▁affirmation', '▁de', '▁politesse', '.', '▁Je', '▁le', '▁disais', '▁à', '▁l', \"'\", 'instant', '▁à', '▁Monsieur', '▁le', '▁Ministre', '▁de', '▁la', '▁Défense', ',', '▁M', '.', '▁Richard', ',', '▁c', \"'\", 'est', '▁pour', '▁moi', '▁un', '▁instant', '▁où', '▁il', '▁y', '▁a', '▁un', '▁peu', '▁d', \"'\", 'émotion', ';', '▁je', '▁vais', '▁vous', '▁dire', '▁pourquoi', '.', 'Vous', '▁êtes', '▁la', '▁première', '▁classe', '▁d', \"'\", 'âge', '▁qui', '▁ne', '▁fera', '▁pas', '▁de', '▁service', '▁militaire', '.', '▁C', \"'\", 'est', '▁une', '▁décision', '▁que', '▁j', \"'\", 'ai', '▁prise', ',', '▁il', '▁y', '▁a', '▁deux', '▁ans', ',', '▁après', '▁une', '▁vraie', '▁réflexion', '▁et', '▁un', '▁vrai', '▁débat', '.', '▁Après', '▁tout', ',', '▁le', '▁service', '▁militaire', '▁c', \"'\", 'est', '▁une', '▁vieille', '▁tradition', '▁nationale', ',', '▁il', '▁était', '▁plus', '▁que', '▁centenaire', '.', '▁Il', '▁y', '▁avait', '▁toutes', '▁sortes', '▁de', '▁raisons', '▁à', '▁cela', ',', '▁notamment', '▁la', '▁nécessité', '▁d', \"'\", 'avoir', '▁une', '▁armée', '▁nombreuse', '▁et', '▁donc', '▁d', \"'\", 'avoir', '▁des', '▁jeunes', '▁formés', '▁aux', '▁combats', ',', '▁à', '▁l', \"'\", 'utilisation', '▁des', '▁armes', '▁de', '▁l', \"'\", 'époque', '.', 'On', '▁pouvait', '▁s', \"'\", 'interroger', '▁sur', '▁la', '▁nécessité', '▁de', '▁poursuivre', '▁dans', '▁cette', '▁voie', '.', '▁Il', '▁y', '▁avait', '▁naturellement', '▁des', '▁critiques', ',', '▁il', '▁y', '▁avait', '▁beaucoup', '▁de', '▁jeunes', '▁qui', '▁se', '▁disaient', '▁qu', \"'\", 'ils', '▁perd', 'aient', '▁un', '▁peu', '▁leur', '▁temps', ',', '▁d', \"'\", 'autres', '▁qui', '▁étaient', '▁satisfaits', '.', '▁Mais', '▁il', '▁y', '▁avait', '▁surtout', '▁ceux', '▁qui', ',', '▁dans', '▁notre', '▁pays', ',', '▁disaient', ':', '▁le', '▁service', '▁militaire', '▁c', \"'\", 'est', '▁nécessaire', '▁pour', '▁la', '▁cohésion', '▁nationale', ',', '▁c', \"'\", 'est', '▁un', '▁moyen', '▁de', '▁mettre', '▁ensemble', '▁les', '▁garçons', '▁issus', '▁de', '▁milieux', '▁et', '▁d', \"'\", 'origine', 's', '▁géographiques', ',', '▁culturelles', ',', '▁sociales', ',', '▁différents', '▁et', '▁de', '▁faire', '▁en', '▁sorte', '▁qu', \"'\", 'ils', '▁se', '▁connaissent', ',', '▁qu', \"'\", 'ils', '▁soient', '▁ensemble', ',', '▁et', '▁ce', '▁que', '▁l', \"'\", 'on', '▁appelait', '▁la', '▁fraternité', '▁des', '▁caserne', 's', '▁était', '▁considérée', '▁par', '▁beaucoup', '▁comme', '▁un', '▁élément', '▁important', '▁de', '▁la', '▁cohésion', '▁nationale', '.', '▁Cet', '▁argument', '▁était', '▁celui', '▁de', '▁beaucoup', '▁de', '▁conservateurs', '.', '▁Les', '▁conservateurs', '▁ont', '▁toujours', '▁des', '▁arguments', '▁forts', ',', '▁il', '▁faut', '▁en', '▁tenir', '▁compte', '.', '▁D', \"'\", 'autre', '▁part', ',', '▁il', '▁m', \"'\", 'était', '▁apparu', '▁que', '▁tout', '▁cela', ',', '▁au', '▁fond', ',', '▁appartenait', '▁un', '▁peu', '▁à', '▁une', '▁conception', '▁dépassé', 'e', '▁de', '▁la', '▁défense', ',', '▁et', '▁faisait', '▁peser', '▁au', '▁total', '▁sur', '▁les', '▁jeunes', '▁une', '▁contrainte', '▁obligatoire', '▁et', '▁excessive', '▁qui', '▁n', \"'\", 'était', '▁pas', '▁justifiée', ',', '▁ou', '▁qui', '▁ne', '▁l', \"'\", 'était', '▁plus', '.', 'L', \"'\", 'armée', '▁moderne', '▁n', \"'\", 'est', '▁naturellement', '▁pas', '▁celle', '▁dont', '▁on', '▁avait', '▁besoin', '▁en', '▁1914', '▁ou', '▁1939', ',', '▁ou', '▁même', '▁après', ',', '▁au', '▁moment', '▁des', '▁guerres', '▁de', '▁déco', 'lon', 'isation', '▁en', '▁Algérie', '▁ou', '▁autres', '.', '▁Tout', '▁cela', '▁just', 'ifi', 'ait', '▁que', '▁l', \"'\", 'on', '▁passe', '▁1', '▁an', '▁ou', '▁2', ',', '▁voire', '▁plus', ',', '▁de', '▁service', '▁militaire', ',', '▁-', '▁parfois', '▁3', '▁ans', '▁au', '▁début', '▁du', '▁siècle', ',', '▁2', '▁ans', '▁et', '▁demi', '▁pendant', '▁la', '▁période', '▁de', '▁la', '▁guerre', '▁d', \"'\", 'Algérie', '▁pour', '▁certains', '▁-', '.', 'L', \"'\", 'évolution', '▁des', '▁choses', '▁mettait', '▁cela', '▁en', '▁cause', '.', '▁L', \"'\", 'évolution', ',', '▁c', \"'\", 'était', '▁d', \"'\", 'abord', '▁l', \"'\", 'installation', '▁de', '▁la', '▁paix', '▁en', '▁Europe', '.', '▁Et', '▁cela', '▁a', '▁été', '▁une', '▁grande', '▁réforme', ',', '▁à', '▁partir', '▁du', '▁moment', '▁ou', '▁l', \"'\", 'on', '▁a', '▁lancé', '▁la', '▁construction', '▁européenne', ':', '▁nous', '▁n', \"'\", 'avons', '▁plus', '▁été', '▁menacé', 's', '▁sur', '▁nos', '▁frontières', '.', '▁Il', '▁fut', '▁un', '▁temps', '▁où', '▁nous', '▁devions', '▁pouvoir', '▁opposer', '▁un', '▁barrage', '▁de', '▁poitrine', 's', '▁aux', '▁poitrine', 's', '▁allemandes', '▁qui', '▁risqu', 'aient', '▁de', '▁s', \"'\", 'avancer', '▁chez', '▁nous', ',', '▁il', '▁fallait', '▁encore', '▁beaucoup', '▁d', \"'\", 'hommes', '.', '▁La', '▁construction', '▁européenne', '▁a', '▁fait', '▁disparaître', '▁cette', '▁menace', '.', '▁Nous', '▁ne', '▁sommes', '▁plus', '▁menacé', 's', '▁à', '▁nos', '▁frontières', ':', '▁on', '▁n', \"'\", 'imagine', '▁pas', '▁l', \"'\", 'Allemagne', '▁attaquant', '▁la', '▁France', ',', '▁on', '▁ne', '▁l', \"'\", 'image', '▁plus', '.', '▁Donc', ',', '▁en', '▁toute', '▁hypothèse', ',', '▁la', '▁menace', '▁s', \"'\", 'était', '▁éloignée', '.', '▁Il', '▁y', '▁avait', '▁aussi', ',', '▁naturellement', ',', '▁l', \"'\", 'armement', '▁qui', '▁avait', '▁beaucoup', '▁changé', ',', '▁les', '▁techniques', '▁militaires', '▁qui', '▁s', \"'\", 'étaient', '▁profondément', '▁transformée', 's', '.', '▁Aujourd', \"'\", 'hui', ',', '▁une', '▁opération', '▁militaire', ',', '▁la', '▁guerre', '▁le', '▁cas', '▁échéant', ',', '▁mobilise', '▁des', '▁hommes', '▁et', '▁des', '▁femmes', '▁qui', '▁ont', '▁une', '▁très', '▁haute', '▁compétence', ',', '▁qui', '▁sont', '▁apte', 's', '▁à', '▁utiliser', '▁des', '▁moyens', '▁extraordinaire', 'ment', '▁sophistiqué', 's', ',', '▁qui', '▁sont', '▁totalement', '▁disponibles', '▁et', '▁prêts', '▁à', '▁faire', '▁mouvement', '▁immédiatement', ',', '▁et', '▁qui', '▁n', \"'\", 'ont', '▁besoin', '▁d', \"'\", 'aucune', '▁formation', '▁préalable', '▁pour', '▁le', '▁faire', '.', 'C', \"'\", 'est', '▁donc', '▁un', '▁autre', '▁type', '▁de', '▁besoin', '▁que', '▁nous', '▁avons', '▁et', '▁qui', '▁ne', '▁correspond', '▁plus', '▁au', '▁service', '▁militaire', '▁tel', '▁qu', \"'\", 'on', '▁le', '▁concev', 'ait', '▁avant', '.', '▁C', \"'\", 'est', '▁donc', '▁une', '▁armée', '▁professionnelle', '▁qu', \"'\", 'il', '▁nous', '▁faut', ',', '▁c', \"'\", 'est', '▁une', '▁armée', '▁de', '▁métier', ',', '▁ce', '▁sont', '▁des', '▁vrais', '▁professionnels', '.', 'A', '▁partir', '▁de', '▁cette', '▁réflexion', ',', '▁j', \"'\", 'ai', '▁pensé', '▁que', '▁finalement', ',', '▁quels', '▁que', '▁soient', '▁les', '▁arguments', ',', '▁de', '▁nature', '▁sociale', '▁ou', '▁nationale', '▁qui', '▁plaid', 'aient', '▁en', '▁faveur', '▁du', '▁service', '▁militaire', ',', '▁ce', '▁n', \"'\", 'était', '▁plus', '▁adapté', ',', '▁et', '▁j', \"'\", 'ai', '▁décidé', '▁de', '▁le', '▁supprimer', '.', '▁Mais', '▁la', '▁suppression', '▁du', '▁service', '▁militaire', ',', '▁cela', '▁ne', '▁veut', '▁pas', '▁dire', '▁la', '▁suppression', '▁de', '▁tout', '▁lien', '▁entre', '▁la', '▁jeunesse', '▁et', '▁l', \"'\", 'armée', '.', '▁Il', '▁faut', '▁que', '▁les', '▁jeunes', '▁sache', 'nt', '▁ce', '▁que', '▁c', \"'\", 'est', '▁que', '▁leur', '▁armée', '.', '▁Il', '▁faut', '▁que', '▁vous', '▁le', '▁sa', 'chi', 'ez', ',', '▁parce', '▁que', '▁vous', '▁êtes', '▁dépositaire', 's', '▁de', '▁l', \"'\", 'avenir', '.', '▁On', '▁s', \"'\", 'imagine', '▁que', '▁tout', '▁va', '▁bien', ',', '▁qu', \"'\", 'il', '▁n', \"'\", 'y', '▁a', '▁plus', '▁de', '▁problème', '.', '▁Quand', '▁on', '▁est', '▁né', '▁dans', '▁les', '▁années', '▁1980', ',', '▁on', '▁a', '▁toujours', '▁connu', '▁la', '▁liberté', ',', '▁la', '▁démocratie', ',', '▁les', '▁emb', 'ête', 'ments', '▁de', '▁la', '▁vie', ',', '▁les', '▁problèmes', ',', '▁le', '▁chômage', ',', '▁ou', '▁d', \"'\", 'autres', '▁choses', ',', '▁mais', '▁on', '▁a', '▁pas', '▁connu', '▁la', '▁guerre', '▁naturellement', '.', '▁Vos', '▁grands', '-', 'père', 's', '▁l', \"'\", 'ont', '▁connue', ',', '▁pas', '▁vous', '.', '▁Cela', '▁ne', '▁vous', '▁dit', '▁rien', ',', '▁et', '▁pourtant', '▁c', \"'\", 'est', '▁en', '▁permanence', '▁une', '▁menace', '.', '▁La', '▁France', '▁a', '▁des', '▁intérêts', '▁dans', '▁le', '▁monde', ',', '▁elle', '▁doit', '▁le', '▁cas', '▁échéant', '▁les', '▁défendre', ',', '▁et', '▁il', '▁faut', '▁que', '▁la', '▁France', '▁puisse', '▁apporter', '▁sa', '▁contribution', '▁militaire', '▁pour', '▁permettre', '▁de', '▁maintenir', '▁la', '▁paix', '▁ici', '▁où', '▁là', ',', '▁ou', '▁pour', '▁permettre', '▁de', '▁sauver', '▁des', '▁vie', 's', '▁quand', '▁c', \"'\", 'est', '▁nécessaire', '.', '▁Lorsque', '▁la', '▁Bosnie', '▁s', \"'\", 'engage', '▁dans', '▁une', '▁opération', '▁suicidaire', ',', '▁qui', '▁fait', '▁des', '▁quantités', '▁de', '▁morts', ',', '▁il', '▁faut', '▁que', '▁la', '▁France', ',', '▁comme', '▁d', \"'\", 'autres', ',', '▁puisse', '▁aller', '▁maintenir', '▁un', '▁peu', '▁l', \"'\", 'ordre', '▁pour', '▁éviter', '▁les', '▁car', 'nage', 's', '.', '▁C', \"'\", 'est', '▁la', '▁même', '▁chose', '▁aujourd', \"'\", 'hui', ',', '▁peut', '-', 'être', '▁-', 'on', '▁ne', '▁sait', '▁pas', ',', '▁j', \"'\", 'espère', '▁que', '▁non', '-', '▁dans', '▁le', '▁Kosovo', '.', '▁Et', '▁tout', '▁cela', ',', '▁c', \"'\", 'est', '▁aux', '▁portes', '▁de', '▁l', \"'\", 'Europe', ',', '▁c', \"'\", 'est', '▁à', '▁moins', '▁de', '▁deux', '▁heures', '▁de', '▁chez', '▁nous', '▁en', '▁avion', '.', 'L', 'ors', 'qu', \"'\", 'il', '▁y', '▁a', '▁des', '▁problèmes', ',', '▁hélas', ',', '▁en', '▁Afrique', '▁et', '▁cela', '▁arrive', '▁même', '▁si', '▁l', \"'\", 'Afrique', '▁est', '▁sur', '▁la', '▁bonne', '▁voie', ',', '▁il', '▁faut', '▁que', '▁nous', '▁ayons', '▁la', '▁possibilité', ',', '▁en', '▁quelques', '▁heures', ',', '▁d', \"'\", 'aller', '▁récupérer', '▁des', '▁Français', '▁ou', '▁des', '▁ressortissants', '▁d', \"'\", 'autres', '▁pays', '▁qui', '▁sont', '▁là', '-', 'bas', '▁et', '▁qui', '▁sont', '▁menacé', 's', '▁dans', '▁leur', '▁vie', ',', '▁et', '▁qu', \"'\", 'il', '▁faut', '▁extraire', '▁très', '▁rapidement', '.', '▁Cela', '▁demande', '▁une', '▁armée', '▁qui', '▁soit', '▁non', '▁seulement', '▁capable', '▁et', '▁équipée', ',', '▁mais', '▁qui', '▁soit', '▁aussi', '▁connue', ',', '▁respectée', '▁et', '▁aimé', 'e', '.', '▁D', \"'\", 'où', ',', '▁naturellement', ',', '▁l', \"'\", 'idée', '▁que', '▁les', '▁jeunes', '▁doivent', '▁connaître', '▁leur', '▁armée', ',', '▁doivent', '▁savoir', '▁ce', '▁qu', \"'\", 'elle', '▁est', ',', '▁et', '▁quand', '▁je', '▁dis', '▁les', '▁jeunes', '▁c', \"'\", 'est', '▁en', '▁réalité', '▁aujourd', \"'\", 'hui', '▁les', '▁garçons', '▁comme', '▁les', '▁filles', '.', '▁Alors', '▁pour', '▁le', '▁moment', '▁et', '▁pour', '▁des', '▁raisons', '▁matérielles', ',', '▁techniques', ',', '▁les', '▁filles', '▁ne', '▁sont', '▁pas', '▁soumises', '▁à', '▁la', '▁même', '▁obligation', '▁que', '▁les', '▁garçons', ',', '▁mais', '▁dès', '▁2000,', '▁le', '▁temps', '▁de', '▁mettre', '▁les', '▁choses', '▁en', '▁place', ',', '▁les', '▁garçons', '▁et', '▁les', '▁filles', '▁seront', '▁sur', '▁le', '▁même', '▁pied', ',', '▁auront', '▁les', '▁mêmes', '▁droits', '▁et', '▁devoirs', ',', '▁les', '▁mêmes', '▁obligations', '.', '▁Ce', '▁sera', '▁de', '▁ce', '▁point', '▁de', '▁vue', '▁une', '▁bonne', '▁chose', ',', '▁parce', '▁qu', \"'\", 'il', '▁n', \"'\", 'y', '▁a', '▁aucune', '▁raison', '▁que', '▁la', '▁prise', '▁de', '▁conscience', '▁des', '▁problèmes', '▁de', '▁la', '▁Défense', ',', '▁notamment', '▁de', '▁la', '▁défense', '▁de', '▁nos', '▁intérêts', ',', '▁de', '▁nos', '▁valeurs', ',', '▁de', '▁la', '▁liberté', ',', '▁de', '▁la', '▁dignité', '▁de', '▁l', \"'\", 'homme', ',', '▁de', '▁l', \"'\", 'égalité', ',', '▁il', '▁n', \"'\", 'y', '▁a', '▁aucune', '▁raison', '▁qu', \"'\", 'elle', '▁ne', '▁soit', '▁pas', '▁défendu', 'e', '▁de', '▁la', '▁même', '▁façon', '▁par', '▁les', '▁filles', '▁et', '▁par', '▁les', '▁garçons', '.', 'Cette', '▁nouvelle', '▁armée', ',', '▁il', '▁faut', '▁en', '▁gros', '▁que', '▁vous', '▁sa', 'chi', 'ez', '▁ce', '▁que', '▁c', \"'\", 'est', '.', '▁Elle', '▁ne', '▁vous', '▁demande', '▁pas', '▁d', \"'\", 'obligation', ',', '▁ou', '▁très', '▁peu', '.', '▁Elle', '▁vous', '▁demande', '▁de', '▁venir', '▁passer', '▁une', '▁journée', '.', '▁C', \"'\", 'est', '▁une', '▁journée', '▁d', \"'\", 'information', ',', '▁de', '▁mobilisation', ',', '▁qui', '▁est', '▁de', '▁nature', '▁à', '▁vous', '▁permettre', '▁d', \"'\", 'apprécier', '▁le', '▁cas', '▁échéant', '▁les', '▁choses', '▁et', ',', '▁pour', '▁ceux', '▁que', '▁cela', '▁intéresse', ',', '▁de', '▁les', '▁approfondir', '.', '▁Alors', '▁elle', '▁ne', '▁vous', '▁demande', '▁pas', '▁d', \"'\", 'obligation', ',', '▁mais', '▁en', '▁revanche', '▁elle', '▁vous', '▁ouvre', '▁des', '▁possibilités', '▁importantes', ',', '▁et', '▁ne', '▁les', '▁sous', '-', 'estime', 'z', '▁pas', ',', '▁et', '▁pour', '▁en', '▁profiter', '▁il', '▁faut', '▁les', '▁connaître', '.', 'Il', '▁y', '▁en', '▁a', '▁probablement', '▁parmi', '▁vous', ',', '▁ou', '▁parmi', '▁tous', '▁ceux', '▁qui', '▁se', '▁présenter', 'ont', '▁aujourd', \"'\", 'hui', '▁pour', '▁la', '▁journée', '▁d', \"'\", 'information', ',', '▁qui', '▁voudront', '▁être', '▁militaires', '.', '▁C', \"'\", 'est', '▁un', '▁superbe', '▁métier', ',', '▁noble', '▁s', \"'\", 'il', '▁en', '▁est', '.', '▁Ceux', '-', 'là', '▁par', '▁conséquent', '▁ont', '▁besoin', '▁de', '▁savoir', '▁comment', '▁l', \"'\", 'on', '▁fait', '▁si', '▁l', \"'\", 'on', '▁veut', '▁s', \"'\", 'engager', '▁dans', '▁cette', '▁voie', '.', '▁Il', '▁y', '▁a', '▁aussi', '▁ceux', '▁qui', ',', '▁pour', '▁des', '▁raisons', '▁personnelles', ',', '▁ou', '▁parce', '▁qu', \"'\", 'ils', '▁ont', '▁le', '▁coeur', '▁à', '▁cela', ',', '▁veulent', '▁se', '▁consacrer', '▁pendant', '▁quelques', '▁temps', '▁-', '▁un', '▁an', ',', '▁un', '▁an', '▁et', '▁demi', '▁-', '▁à', '▁des', '▁tâches', ',', '▁je', '▁dirais', '▁généralement', '▁humanitaire', 's', '▁au', '▁sens', '▁large', '▁du', '▁terme', ',', '▁qu', \"'\", 'elles', '▁soient', '▁militaires', '▁ou', '▁qu', \"'\", 'elles', '▁soient', '▁civiles', ',', '▁à', '▁apporter', '▁leur', '▁concours', '▁à', '▁l', \"'\", 'éducation', '▁nationale', '▁pour', '▁apprendre', '▁à', '▁des', '▁gamin', 's', '▁dé', 'favoris', 'és', '▁à', '▁lire', '▁ou', '▁à', '▁écrire', ',', '▁pour', '▁faciliter', '▁la', '▁préservation', '▁de', '▁l', \"'\", 'environnement', ',', '▁pour', '▁lutter', '▁contre', '▁les', '▁incendie', 's', ',', '▁pour', '▁servir', '▁dans', '▁des', '▁unités', '▁chargée', 's', '▁de', '▁maintenir', '▁la', '▁sécurité', '▁des', '▁personnes', '▁et', '▁des', '▁bien', 's', ',', '▁je', '▁pense', '▁à', '▁la', '▁gendarmerie', '▁ou', '▁à', '▁d', \"'\", 'autres', '▁domaines', '.', '▁Bref', ',', '▁il', '▁y', '▁en', '▁a', '▁certainement', '▁qui', '▁seront', '▁intéressés', '▁par', '▁l', \"'\", 'idée', '▁de', '▁consacrer', '▁un', '▁an', ',', '▁un', '▁an', '▁et', '▁demi', '▁de', '▁leur', '▁coeur', ',', '▁de', '▁leur', '▁générosité', '▁à', '▁d', \"'\", 'autres', ',', '▁dans', '▁ces', '▁domaines', '▁civils', '▁ou', '▁militaires', ',', '▁qui', '▁très', '▁largement', '▁peuvent', '▁être', '▁appelés', '▁des', '▁domaines', '▁humanitaire', 's', '.', '▁J', \"'\", 'ajoute', '▁que', '▁pour', '▁eux', ',', '▁ce', '▁sera', '▁aussi', '▁la', '▁possibilité', '▁d', \"'\", 'acquérir', '▁une', '▁expérience', ',', '▁et', '▁parfois', '▁un', '▁métier', ',', '▁et', '▁de', '▁sortir', '▁de', '▁cette', '▁période', '▁avec', '▁la', '▁possibilité', '▁ou', '▁la', '▁capacité', '▁d', \"'\", 'exercer', '▁un', '▁métier', '▁qu', \"'\", 'ils', '▁auront', '▁appris', '.', '▁Il', '▁y', '▁aura', '▁ceux', '▁qui', '▁s', \"'\", 'intéressent', '▁à', '▁l', \"'\", 'armée', ',', '▁sans', '▁vouloir', '▁en', '▁faire', '▁leur', '▁métier', '.', '▁L', \"'\", 'armée', '▁aura', '▁besoin', '▁de', '▁réserv', 'istes', ',', '▁beaucoup', '▁moins', '▁qu', \"'\", 'avant', ',', '▁alors', '▁il', '▁y', '▁en', '▁a', '▁peut', '-', 'être', '▁qui', '▁veulent', '▁ou', '▁qui', '▁voudront', ',', '▁parce', '▁que', '▁cela', '▁les', '▁intéresse', ',', '▁acquérir', '▁le', '▁minimum', '▁de', '▁connaissances', '▁leur', '▁permettant', '▁d', \"'\", 'être', '▁versé', '▁dans', '▁ce', '▁que', '▁l', \"'\", 'on', '▁appelle', '▁\"', 'les', '▁réserves', '\"', '▁et', '▁le', '▁cas', '▁échéant', '▁d', \"'\", 'être', '▁réserv', 'istes', '.', 'Je', '▁ne', '▁veux', '▁pas', '▁entrer', '▁dans', '▁le', '▁détail', ',', '▁vous', '▁aurez', '▁toute', '▁la', '▁journée', '▁pour', '▁en', '▁entendre', '▁parler', ',', '▁mais', '▁l', \"'\", 'objectif', '▁de', '▁cette', '▁journée', '▁est', '▁de', '▁vous', '▁faire', '▁comprendre', '▁que', '▁l', \"'\", 'armée', '▁est', '▁l', \"'\", 'une', '▁des', '▁institutions', '▁les', '▁plus', '▁nobles', '▁et', '▁les', '▁plus', '▁nécessaires', '▁de', '▁la', '▁nation', '▁et', '▁qu', \"'\", 'il', '▁faut', '▁la', '▁connaître', '.', '▁Parfois', '▁on', '▁a', '▁un', '▁peu', '▁tendance', '▁à', '▁la', '▁critiquer', ',', '▁sans', '▁savoir', '.', '▁Il', '▁faut', '▁la', '▁connaître', '▁parce', '▁qu', \"'\", 'elle', '▁fait', '▁des', '▁choses', '▁formidable', 's', ',', '▁notamment', ',', '▁je', '▁le', '▁répète', ',', '▁dans', '▁le', '▁monde', '▁moderne', '▁sur', '▁le', '▁plan', '▁humanitaire', '▁et', '▁enfin', ',', '▁parce', '▁que', '▁c', \"'\", 'est', '▁le', '▁dernier', '▁rempart', '▁de', '▁notre', '▁sécurité', ',', '▁de', '▁nos', '▁libertés', ',', '▁de', '▁nos', '▁intérêts', ',', '▁si', '▁par', '▁hasard', '▁les', '▁choses', '▁vont', '▁mal', '.', '▁Alors', '▁elle', '▁mérite', '▁d', \"'\", 'être', '▁respectée', ',', '▁elle', '▁a', '▁droit', '▁au', '▁respect', '.', '▁Mais', '▁encore', '▁faut', '-', 'il', '▁savoir', '▁pourquoi', '▁et', '▁c', \"'\", 'est', '▁cela', '▁que', '▁l', \"'\", 'on', '▁va', '▁vous', '▁dire', '.', 'D', \"'\", 'autre', '▁part', ',', '▁on', '▁veut', '▁vous', '▁ouvrir', '▁les', '▁voies', '▁et', '▁les', '▁possibilités', '▁que', ',', '▁directement', '▁ou', '▁indirectement', ',', '▁cette', '▁armée', '▁peut', '▁vous', '▁donner', '▁et', '▁enfin', '▁vous', '▁rappeler', '▁quels', '▁sont', '▁les', '▁principes', '▁que', '▁nous', '▁avons', '▁en', '▁commun', ',', '▁les', '▁principes', '▁de', '▁solidarité', ',', '▁les', '▁principes', '▁de', '▁respect', '▁de', '▁l', \"'\", 'homme', ',', '▁de', '▁sa', '▁dignité', ',', '▁de', '▁l', \"'\", 'égalité', '▁des', '▁un', 's', '▁et', '▁des', '▁autres', ',', '▁et', '▁tout', '▁cela', '▁est', '▁également', '▁important', '.', 'Voi', 'là', '.', '▁J', \"'\", 'ai', '▁dû', '▁certainement', '▁oublier', '▁des', '▁choses', '▁importantes', ',', '▁mais', '▁on', '▁veut', '▁vous', '▁dire', '▁quels', '▁sont', '▁vos', '▁droits', '▁et', '▁aussi', '▁quels', '▁sont', '▁vos', '▁devoirs', '▁à', '▁l', \"'\", 'égard', '▁de', '▁la', '▁Nation', ',', '▁et', '▁cette', '▁journée', '▁est', '▁consacrée', '▁à', '▁cela', '.', '▁Je', '▁souhaite', '▁qu', \"'\", 'elle', '▁soit', '▁pour', '▁vous', '▁intéressante', ',', '▁qu', \"'\", 'elle', '▁vous', '▁', 'apprenne', '▁des', '▁choses', ',', '▁qu', \"'\", 'elle', '▁vous', '▁ouvre', '▁des', '▁perspectives', ',', '▁qu', \"'\", 'elle', '▁vous', '▁donne', '▁davantage', '▁conscience', '▁de', '▁vos', '▁droits', '▁mais', '▁aussi', '▁de', '▁vos', '▁devoirs', '.', 'Je', '▁termine', '▁en', '▁souhaitant', '▁surtout', ',', '▁quelle', '▁que', '▁soit', '▁la', '▁voie', '▁que', '▁vous', '▁emprunter', 'ez', '▁et', '▁les', '▁conclusions', '▁que', '▁vous', '▁tirer', 'ez', '▁de', '▁cette', '▁journée', ',', '▁je', '▁vous', '▁souhaite', '▁surtout', '▁bonne', '▁chance', '▁et', '▁bon', '▁vent']\n",
            "Token IDs:  [19923, 7, 1684, 146, 1941, 8, 39, 14778, 9, 877, 50, 701, 27, 50, 146, 1941, 8, 39, 14778, 7, 44, 49, 11, 41, 34, 28, 445, 14521, 8, 22897, 9, 100, 16, 9349, 15, 17, 11, 2337, 15, 2445, 16, 6375, 8, 13, 7682, 7, 188, 9, 5048, 7, 60, 11, 41, 24, 202, 23, 3334, 147, 51, 102, 33, 23, 126, 18, 11, 7972, 154, 50, 676, 39, 248, 590, 9, 5510, 495, 13, 272, 1010, 18, 11, 1445, 31, 45, 1438, 34, 8, 366, 2330, 9, 84, 11, 41, 28, 1141, 27, 76, 11, 73, 722, 7, 51, 102, 33, 116, 134, 7, 182, 28, 2278, 2284, 14, 23, 600, 2159, 9, 407, 66, 7, 16, 366, 2330, 60, 11, 41, 28, 3244, 2920, 945, 7, 51, 149, 40, 27, 16880, 9, 69, 102, 171, 208, 5032, 8, 1819, 15, 207, 7, 410, 13, 2966, 18, 11, 443, 28, 6841, 23960, 14, 145, 18, 11, 443, 20, 538, 11785, 68, 5892, 7, 15, 17, 11, 817, 20, 3072, 8, 17, 11, 1475, 9, 3317, 1189, 52, 11, 12944, 32, 13, 2966, 8, 3757, 29, 78, 1454, 9, 69, 102, 171, 3522, 20, 4528, 7, 51, 102, 171, 217, 8, 538, 31, 48, 21860, 46, 11, 240, 2639, 488, 23, 126, 97, 125, 7, 18, 11, 266, 31, 530, 18593, 9, 159, 51, 102, 171, 381, 320, 31, 7, 29, 127, 256, 7, 21860, 92, 16, 366, 2330, 60, 11, 41, 885, 24, 13, 13652, 945, 7, 60, 11, 41, 23, 694, 8, 328, 760, 19, 5024, 4434, 8, 6687, 14, 18, 11, 870, 10, 17414, 7, 5993, 7, 2201, 7, 579, 14, 8, 85, 22, 1055, 46, 11, 240, 48, 4688, 7, 46, 11, 240, 1053, 760, 7, 14, 44, 27, 17, 11, 88, 23308, 13, 18465, 20, 22204, 10, 149, 7538, 37, 217, 79, 23, 3228, 693, 8, 13, 13652, 945, 9, 1223, 6729, 149, 330, 8, 217, 8, 19827, 9, 74, 19827, 96, 179, 20, 8778, 5646, 7, 51, 213, 22, 1852, 287, 9, 160, 11, 369, 292, 7, 51, 115, 11, 230, 8448, 27, 66, 207, 7, 36, 729, 7, 24439, 23, 126, 15, 28, 1465, 7675, 35, 8, 13, 1923, 7, 14, 1321, 17197, 36, 1458, 32, 19, 538, 28, 9052, 3329, 14, 10930, 31, 49, 11, 230, 34, 21638, 7, 47, 31, 45, 17, 11, 230, 40, 9, 370, 11, 2677, 1558, 49, 11, 41, 3522, 34, 386, 174, 91, 171, 394, 22, 13906, 47, 18180, 7, 47, 93, 182, 7, 36, 262, 20, 9100, 8, 2341, 3190, 1385, 22, 6278, 47, 214, 9, 543, 207, 18340, 6126, 199, 27, 17, 11, 88, 507, 124, 674, 47, 118, 7, 1786, 40, 7, 8, 366, 2330, 7, 67, 610, 135, 134, 36, 479, 25, 740, 7, 118, 134, 14, 1644, 339, 13, 782, 8, 13, 775, 18, 11, 6108, 24, 420, 67, 9, 370, 11, 2010, 20, 541, 13079, 207, 22, 625, 9, 71, 11, 2010, 7, 60, 11, 230, 18, 11, 803, 17, 11, 2165, 8, 13, 1931, 22, 1532, 9, 139, 207, 33, 101, 28, 293, 3145, 7, 15, 350, 25, 262, 47, 17, 11, 88, 33, 2244, 13, 1015, 1467, 92, 63, 49, 11, 2200, 40, 101, 12319, 10, 32, 166, 5039, 9, 69, 547, 23, 125, 147, 63, 28196, 351, 19145, 23, 10230, 8, 4417, 10, 68, 4417, 10, 19912, 31, 27318, 488, 8, 52, 11, 13693, 222, 63, 7, 51, 2032, 143, 217, 18, 11, 5474, 9, 61, 1015, 1467, 33, 82, 8048, 78, 3456, 9, 170, 45, 464, 40, 12319, 10, 15, 166, 5039, 92, 91, 49, 11, 6305, 34, 17, 11, 3930, 17444, 13, 184, 7, 91, 45, 17, 11, 1106, 40, 9, 1416, 7, 22, 194, 13985, 7, 13, 3456, 52, 11, 230, 16391, 9, 69, 102, 171, 99, 7, 3522, 7, 17, 11, 15199, 31, 171, 217, 2548, 7, 19, 1054, 3788, 31, 52, 11, 2611, 5588, 14854, 10, 9, 1301, 11, 265, 7, 28, 3475, 2330, 7, 13, 775, 16, 203, 8540, 7, 24962, 20, 529, 14, 20, 389, 31, 96, 28, 95, 1118, 4956, 7, 31, 56, 15223, 10, 15, 881, 20, 1149, 4969, 131, 20656, 10, 7, 31, 56, 1366, 1339, 14, 4248, 15, 85, 1018, 2323, 7, 14, 31, 49, 11, 263, 394, 18, 11, 8855, 513, 3538, 24, 16, 85, 9, 228, 11, 41, 145, 23, 238, 460, 8, 394, 27, 63, 296, 14, 31, 45, 2174, 40, 36, 366, 2330, 861, 46, 11, 88, 16, 22984, 199, 178, 9, 84, 11, 41, 145, 28, 6841, 1050, 46, 11, 62, 63, 213, 7, 60, 11, 41, 28, 6841, 8, 2056, 7, 44, 56, 20, 6394, 941, 9, 243, 350, 8, 78, 2284, 7, 76, 11, 73, 3237, 27, 1360, 7, 4880, 27, 1053, 19, 8778, 7, 8, 696, 1039, 47, 945, 31, 10700, 488, 22, 2558, 25, 366, 2330, 7, 44, 49, 11, 230, 40, 2740, 7, 14, 76, 11, 73, 1258, 8, 16, 4446, 9, 159, 13, 5801, 25, 366, 2330, 7, 207, 45, 604, 34, 248, 13, 5801, 8, 66, 818, 128, 13, 2426, 14, 17, 11, 2677, 9, 69, 213, 27, 19, 538, 8679, 113, 44, 27, 60, 11, 41, 27, 97, 6841, 9, 69, 213, 27, 39, 16, 77, 2338, 267, 7, 398, 27, 39, 495, 30099, 10, 8, 17, 11, 2128, 9, 201, 52, 11, 6305, 27, 66, 198, 72, 7, 46, 11, 62, 49, 11, 105, 33, 40, 8, 577, 9, 877, 91, 30, 1776, 29, 19, 318, 6721, 7, 91, 33, 179, 1182, 13, 1297, 7, 13, 3543, 7, 19, 8640, 10058, 2299, 8, 13, 157, 7, 19, 1014, 7, 16, 4103, 7, 47, 18, 11, 266, 541, 7, 65, 91, 33, 34, 1182, 13, 775, 3522, 9, 4481, 726, 26, 6773, 10, 17, 11, 263, 3611, 7, 34, 39, 9, 683, 45, 39, 227, 254, 7, 14, 997, 60, 11, 41, 22, 5184, 28, 3456, 9, 61, 184, 33, 20, 2922, 29, 16, 164, 7, 109, 279, 16, 203, 8540, 19, 3773, 7, 14, 51, 213, 27, 13, 184, 1516, 2091, 77, 5109, 2330, 24, 1027, 8, 3450, 13, 1931, 323, 147, 241, 7, 47, 24, 1027, 8, 3900, 20, 157, 10, 206, 60, 11, 41, 885, 9, 1696, 13, 29045, 52, 11, 4308, 29, 28, 3475, 25934, 7, 31, 82, 20, 10355, 8, 2879, 7, 51, 213, 27, 13, 184, 7, 79, 18, 11, 266, 7, 1516, 632, 3450, 23, 126, 17, 11, 1243, 24, 1351, 19, 173, 2860, 10, 9, 84, 11, 41, 13, 93, 337, 405, 11, 265, 7, 104, 26, 177, 67, 88, 45, 900, 34, 7, 76, 11, 1612, 27, 165, 26, 29, 16, 29821, 9, 139, 66, 207, 7, 60, 11, 41, 68, 1905, 8, 17, 11, 1354, 7, 60, 11, 41, 15, 175, 8, 116, 511, 8, 222, 63, 22, 6439, 9, 370, 4605, 1358, 11, 62, 102, 33, 20, 1014, 7, 11253, 7, 22, 2971, 14, 207, 1242, 93, 86, 17, 11, 2582, 30, 32, 13, 317, 1454, 7, 51, 213, 27, 63, 25066, 13, 1088, 7, 22, 193, 511, 7, 18, 11, 1655, 3528, 20, 1455, 47, 20, 21507, 18, 11, 266, 256, 31, 56, 241, 26, 2787, 14, 31, 56, 12319, 10, 29, 97, 157, 7, 14, 46, 11, 62, 213, 17510, 95, 736, 9, 683, 400, 28, 6841, 31, 191, 165, 446, 1811, 14, 3899, 7, 65, 31, 191, 99, 3611, 7, 17686, 14, 2041, 35, 9, 160, 11, 2047, 7, 3522, 7, 17, 11, 1139, 27, 19, 538, 750, 1218, 97, 6841, 7, 750, 319, 44, 46, 11, 144, 30, 7, 14, 206, 50, 701, 19, 538, 60, 11, 41, 22, 1033, 405, 11, 265, 19, 5024, 79, 19, 1134, 9, 574, 24, 16, 262, 14, 24, 20, 1819, 21512, 7, 1054, 7, 19, 1134, 45, 56, 34, 13447, 15, 13, 93, 6178, 27, 19, 5024, 7, 65, 564, 9474, 16, 125, 8, 328, 19, 541, 22, 218, 7, 19, 5024, 14, 19, 1134, 519, 32, 16, 93, 942, 7, 2890, 19, 1952, 873, 14, 10735, 7, 19, 1952, 5641, 9, 148, 210, 8, 44, 299, 8, 477, 28, 317, 337, 7, 398, 46, 11, 62, 49, 11, 105, 33, 771, 539, 27, 13, 722, 8, 1582, 20, 1014, 8, 13, 7682, 7, 410, 8, 13, 1923, 8, 166, 2922, 7, 8, 166, 1784, 7, 8, 13, 1297, 7, 8, 13, 9352, 8, 17, 11, 698, 7, 8, 17, 11, 4293, 7, 51, 49, 11, 105, 33, 771, 539, 46, 11, 144, 45, 191, 34, 12138, 35, 8, 13, 93, 429, 37, 19, 1134, 14, 37, 19, 5024, 9, 11823, 304, 6841, 7, 51, 213, 22, 602, 27, 39, 77, 2338, 267, 44, 27, 60, 11, 41, 9, 195, 45, 39, 400, 34, 18, 11, 6604, 7, 47, 95, 126, 9, 195, 39, 400, 8, 894, 444, 28, 553, 9, 84, 11, 41, 28, 553, 18, 11, 1070, 7, 8, 6324, 7, 31, 30, 8, 696, 15, 39, 1027, 18, 11, 12882, 16, 203, 8540, 19, 541, 14, 7, 24, 320, 27, 207, 7255, 7, 8, 19, 19859, 9, 574, 109, 45, 39, 400, 34, 18, 11, 6604, 7, 65, 22, 2447, 109, 39, 3402, 20, 3349, 3830, 7, 14, 45, 19, 161, 26, 12444, 138, 34, 7, 14, 24, 22, 1153, 51, 213, 19, 1218, 9, 1799, 102, 22, 33, 2154, 865, 39, 7, 47, 865, 117, 320, 31, 48, 1442, 263, 405, 11, 265, 24, 13, 553, 18, 11, 1070, 7, 31, 30036, 98, 3788, 9, 84, 11, 41, 23, 2400, 2056, 7, 8708, 52, 11, 62, 22, 30, 9, 4499, 26, 1188, 37, 2962, 96, 394, 8, 319, 404, 17, 11, 88, 82, 86, 17, 11, 88, 604, 52, 11, 7376, 29, 78, 1454, 9, 69, 102, 33, 99, 320, 31, 7, 24, 20, 1819, 2681, 7, 47, 398, 46, 11, 240, 96, 16, 1016, 15, 207, 7, 1882, 48, 8977, 339, 193, 125, 67, 23, 674, 7, 23, 674, 14, 1644, 67, 15, 20, 4338, 7, 50, 7216, 1536, 8975, 10, 36, 437, 1071, 25, 788, 7, 46, 11, 734, 1053, 3788, 47, 46, 11, 734, 1053, 17660, 7, 15, 2091, 97, 1477, 15, 17, 11, 1997, 945, 24, 1891, 15, 20, 10090, 10, 570, 19754, 566, 15, 831, 47, 15, 2748, 7, 24, 3039, 13, 13995, 8, 17, 11, 1623, 7, 24, 4357, 192, 19, 9308, 10, 7, 24, 1950, 29, 20, 5240, 5808, 10, 8, 3450, 13, 548, 20, 242, 14, 20, 72, 10, 7, 50, 500, 15, 13, 12839, 47, 15, 18, 11, 266, 2380, 9, 2425, 7, 51, 102, 22, 33, 1975, 31, 519, 9532, 37, 17, 11, 1139, 8, 8977, 23, 674, 7, 23, 674, 14, 1644, 8, 97, 1016, 7, 8, 97, 11567, 15, 18, 11, 266, 7, 29, 119, 2380, 9356, 47, 3788, 7, 31, 95, 2170, 316, 98, 9690, 20, 2380, 8975, 10, 9, 121, 11, 10634, 27, 24, 474, 7, 44, 210, 99, 13, 1088, 18, 11, 10899, 28, 1005, 7, 14, 610, 23, 2056, 7, 14, 8, 1077, 8, 78, 782, 42, 13, 1088, 47, 13, 1381, 18, 11, 12337, 23, 2056, 46, 11, 240, 2890, 2714, 9, 69, 102, 711, 320, 31, 52, 11, 17815, 15, 17, 11, 2677, 7, 112, 2375, 22, 85, 97, 2056, 9, 71, 11, 2677, 711, 394, 8, 19566, 1350, 7, 217, 175, 46, 11, 1949, 7, 183, 51, 102, 22, 33, 104, 26, 177, 31, 1882, 47, 31, 30036, 7, 398, 27, 207, 19, 7255, 7, 8192, 16, 1858, 8, 2107, 97, 1177, 18, 11, 177, 13476, 29, 44, 27, 17, 11, 88, 2668, 87, 408, 8612, 130, 14, 16, 203, 8540, 18, 11, 177, 19566, 1350, 9, 1684, 45, 920, 34, 3305, 29, 16, 2636, 7, 39, 2222, 194, 13, 553, 24, 22, 3002, 639, 7, 65, 17, 11, 1960, 8, 78, 553, 30, 8, 39, 85, 822, 27, 17, 11, 2677, 30, 17, 11, 70, 20, 3847, 19, 40, 16833, 14, 19, 40, 1840, 8, 13, 6622, 14, 46, 11, 62, 213, 13, 1218, 9, 7242, 91, 33, 23, 126, 1367, 15, 13, 16245, 7, 112, 319, 9, 69, 213, 13, 1218, 398, 46, 11, 144, 82, 20, 541, 5823, 10, 7, 410, 7, 50, 16, 10726, 7, 29, 16, 164, 1558, 32, 16, 379, 8975, 14, 743, 7, 398, 27, 60, 11, 41, 16, 348, 18078, 8, 127, 548, 7, 8, 166, 8922, 7, 8, 166, 2922, 7, 86, 37, 2829, 19, 541, 774, 295, 9, 574, 109, 2705, 18, 11, 177, 17686, 7, 109, 33, 347, 36, 1346, 9, 159, 143, 213, 26, 62, 319, 590, 14, 60, 11, 41, 207, 27, 17, 11, 88, 198, 39, 248, 9, 342, 11, 369, 292, 7, 91, 604, 39, 2913, 19, 4723, 14, 19, 3349, 27, 7, 902, 47, 16765, 7, 78, 6841, 104, 39, 509, 14, 743, 39, 3318, 4880, 56, 19, 3189, 27, 63, 296, 22, 1330, 7, 19, 3189, 8, 3834, 7, 19, 3189, 8, 1346, 8, 17, 11, 698, 7, 8, 77, 9352, 7, 8, 17, 11, 4293, 20, 23, 10, 14, 20, 214, 7, 14, 66, 207, 30, 200, 693, 9, 17125, 1188, 9, 121, 11, 73, 1556, 1975, 2078, 20, 541, 3830, 7, 65, 91, 604, 39, 248, 4880, 56, 140, 873, 14, 99, 4880, 56, 140, 10735, 15, 17, 11, 5764, 8, 13, 15734, 7, 14, 78, 553, 30, 5670, 15, 207, 9, 100, 1282, 46, 11, 144, 191, 24, 39, 4659, 7, 46, 11, 144, 39, 21, 29732, 20, 541, 7, 46, 11, 144, 39, 3402, 20, 7699, 7, 46, 11, 144, 39, 556, 1921, 1582, 8, 140, 873, 65, 99, 8, 140, 10735, 9, 1684, 4592, 22, 10006, 381, 7, 1262, 27, 191, 13, 1454, 27, 39, 15980, 267, 14, 19, 9351, 27, 39, 2912, 267, 8, 78, 553, 7, 50, 39, 1282, 381, 317, 1073, 14, 212, 1601]\n"
          ],
          "name": "stdout"
        }
      ]
    },
    {
      "cell_type": "markdown",
      "metadata": {
        "id": "t8yAtMsdR9HB",
        "colab_type": "text"
      },
      "source": [
        "#### Adding special tokens to the start and end of the text\n"
      ]
    },
    {
      "cell_type": "markdown",
      "metadata": {
        "id": "uXlKcUdlYetx",
        "colab_type": "text"
      },
      "source": [
        "Preprocessing steps : \n",
        "\n",
        "\n",
        "1.   **Add special tokens [CLS] [SEP]** \n",
        "\n",
        "According to the documentation we need to add special tokens to the start and end of the text Moreover, for camembert we should add a space between CLS and the first token (not sure here, we have to ask benjamin). \n",
        "\n",
        "2.   **Pad and truncate all texts to a single number**\n",
        "\n",
        "Pretrained transformes like Camembert only accept input of the same length. Our corpus contains large texts and we have to pad them in order to be able to feed Camembert. We will set the max length to a large number in order to get all information possible in the text. We choose a max length of 500 which is almost the maximum (512) \"sentence\" length  accepted. We are aware that this choice will impact a lot training speed.\n",
        "\n",
        "3.   **Construct an attention mask**\n",
        "\n",
        "Attention masks are just set to 1 when the token have to be analyzed and 0 otherwise (padded tokens). All our attention mask should be 1 with this corpus. \n",
        "\n",
        "\n",
        "\n",
        "For sake of simplicity and to avoid errors we will use the function encode_plus of the library which is really convenient. \n",
        "\n"
      ]
    },
    {
      "cell_type": "markdown",
      "metadata": {
        "id": "5XKNZMJvSb2w",
        "colab_type": "text"
      },
      "source": [
        "#### Length and attention mask "
      ]
    },
    {
      "cell_type": "code",
      "metadata": {
        "id": "4HF89V-xSgGF",
        "colab_type": "code",
        "colab": {}
      },
      "source": [
        "def prepare_to_feed(df,length,batch_size_value):\n",
        "  from torch.utils.data import TensorDataset, random_split\n",
        "  from torch.utils.data import DataLoader, RandomSampler, SequentialSampler\n",
        "\n",
        "  texts = df.Texte.values\n",
        "  labels = df.sexe.values\n",
        "\n",
        "  # Tokenize all of the sentences and map the tokens to thier word IDs.\n",
        "  input_ids = []\n",
        "  attention_masks = []\n",
        "  num_truncated_tokens =[]\n",
        "  # Apply function to our corpus\n",
        "  for text in texts:\n",
        "      encoded_dict = tokenizer.encode_plus(\n",
        "                          text,                      # text\n",
        "                          add_special_tokens = True, # Add '[CLS]' and '[SEP]'\n",
        "                          max_length = length,           # We choose for now a max length of 500.\n",
        "                          pad_to_max_length = True,    # Pad text to max (marche pas en pad left ?)\n",
        "                          return_attention_mask = True,   # Construct attention masks\n",
        "                          return_tensors = 'pt',     # Return pytorch tensors.\n",
        "                          return_overflowing_tokens =True, # return overflowing token information\n",
        "                    )\n",
        "      \n",
        "      # Map tokens to their id in the dictionnary \n",
        "      # We add this to our list    \n",
        "      input_ids.append(encoded_dict['input_ids'])\n",
        "  \n",
        "      #num_truncated_tokens.append(encoded_dict['num_truncated_tokens'])\n",
        "      \n",
        "      # 3. Attention masks\n",
        "      attention_masks.append(encoded_dict['attention_mask'])\n",
        "\n",
        "  # We convert all this into tensors in order to be able to make it work on GPU \n",
        "  input_ids = torch.cat(input_ids, dim=0)\n",
        "  attention_masks = torch.cat(attention_masks, dim=0)\n",
        "  labels = torch.tensor(labels)\n",
        "\n",
        "  # Original text and transformed tensor print \n",
        "  print(\"Let's check for the first text indexes, attention masks and labels\")\n",
        "  print(\" \")\n",
        "  print('Original: ', texts[0][0:100])\n",
        "  print('IDs:', input_ids[0][0:100])\n",
        "  print('Attention masks:', attention_masks[0][0:100])\n",
        "  print('labels',labels[0])\n",
        "\n",
        "\n",
        "  # Combine all above\n",
        "  dataset = TensorDataset(input_ids, attention_masks, labels)\n",
        "\n",
        "  # Let's create a 80-20 train / validation dataset \n",
        "  train_size = int(0.8 * len(dataset))\n",
        "  val_size = len(dataset) - train_size\n",
        "\n",
        "  train_set, val_set = random_split(dataset, [train_size, val_size])\n",
        "\n",
        "\n",
        "  print(\"-------------------------------------------------\")\n",
        "  print(\" \")\n",
        "  print(\"How many texts do we have in the train and validation sample ? \")\n",
        "  print(\" \")\n",
        "  print('We have {} training texts'.format(train_size))\n",
        "  print('We have {} validation texts'.format(val_size))\n",
        "  print(\" \")\n",
        "  print(\"-------------------------------------------------\")\n",
        "\n",
        "  # We set the size of the batch ( usually set around 16 or 32), we will take the lower bound because of the large text length\n",
        "  batch_size = batch_size_value\n",
        "\n",
        "  # We create data loaders for the train and validation dataset. \n",
        "  train_dataloader = DataLoader(\n",
        "              train_set,  # The training samples.\n",
        "              sampler = RandomSampler(train_set), # Select batches randomly\n",
        "              batch_size = batch_size # Trains with this batch size.\n",
        "          )\n",
        "\n",
        "  val_dataloader = DataLoader(\n",
        "              val_set, # The validation samples.\n",
        "              sampler = SequentialSampler(val_set), # Pull out batches sequentially.\n",
        "              batch_size = batch_size # Evaluate with this batch size.\n",
        "          )\n",
        "  \n",
        "  print('Data loaders created for train [0] and val [1]')\n",
        "\n",
        "  return train_dataloader, val_dataloader "
      ],
      "execution_count": 0,
      "outputs": []
    },
    {
      "cell_type": "code",
      "metadata": {
        "id": "0b_OFrL3mIBU",
        "colab_type": "code",
        "outputId": "f0b80403-a3c8-4d3f-bf99-b2b8ea8729c3",
        "colab": {
          "base_uri": "https://localhost:8080/",
          "height": 510
        }
      },
      "source": [
        "print('############### Unbalanced sample ################')\n",
        "train_loader_unbalanced, val_loader_unbalanced = prepare_to_feed(df_unbalanced,length=500,batch_size_value=16)"
      ],
      "execution_count": 27,
      "outputs": [
        {
          "output_type": "stream",
          "text": [
            "############### Unbalanced sample ################\n",
            "Let's check for the first text indexes, attention masks and labels\n",
            " \n",
            "Original:  Monsieur le Président,Mesdames et Messieurs les députés.A ce stade de la procédure parlementaire, la\n",
            "IDs: tensor([    5,  2445,    16,  1850,     7,  6684,    10,  9402,    80,    14,\n",
            "        19923,    19,  6664,     9,   243,    44,  2623,     8,    13,  2365,\n",
            "        10023,     7,    13,  3787,   945,    30,  1413, 25454,     8,    17,\n",
            "           11,   649,    20,  2756,     8,    44,   930,     7,     8,    17,\n",
            "           11,  1159,    31,    33, 21585,    15,    58,    21,  5686,     7,\n",
            "           14,   743,     8,    13,  3624,    31,    17,    11,  9486,     9,\n",
            "          137,    40,     7,    19,  5743,    27,    63,   296,   331,    66,\n",
            "           15,    17,    11,  1130,    32,    16,  2031,     8,    17,    11,\n",
            "        13211,    26,  1496,     7,  2031,    27,    39,   349,  4925,    15,\n",
            "           28,    95,  1071,  1651,     7,    39,  2890,   200,   994,     8])\n",
            "Attention masks: tensor([1, 1, 1, 1, 1, 1, 1, 1, 1, 1, 1, 1, 1, 1, 1, 1, 1, 1, 1, 1, 1, 1, 1, 1,\n",
            "        1, 1, 1, 1, 1, 1, 1, 1, 1, 1, 1, 1, 1, 1, 1, 1, 1, 1, 1, 1, 1, 1, 1, 1,\n",
            "        1, 1, 1, 1, 1, 1, 1, 1, 1, 1, 1, 1, 1, 1, 1, 1, 1, 1, 1, 1, 1, 1, 1, 1,\n",
            "        1, 1, 1, 1, 1, 1, 1, 1, 1, 1, 1, 1, 1, 1, 1, 1, 1, 1, 1, 1, 1, 1, 1, 1,\n",
            "        1, 1, 1, 1])\n",
            "labels tensor(0)\n",
            "-------------------------------------------------\n",
            " \n",
            "How many texts do we have in the train and validation sample ? \n",
            " \n",
            "We have 1960 training texts\n",
            "We have 490 validation texts\n",
            " \n",
            "-------------------------------------------------\n",
            "Data loaders created for train [0] and val [1]\n"
          ],
          "name": "stdout"
        }
      ]
    },
    {
      "cell_type": "code",
      "metadata": {
        "id": "BIQMcNAgekhx",
        "colab_type": "code",
        "outputId": "dd8d99eb-bd2e-4521-a4d3-662e520ed0f7",
        "colab": {
          "base_uri": "https://localhost:8080/",
          "height": 510
        }
      },
      "source": [
        "print('############### Balanced sample ################')\n",
        "train_loader_balanced, val_loader_balanced = prepare_to_feed(df_balanced,length=500,batch_size_value=16)"
      ],
      "execution_count": 28,
      "outputs": [
        {
          "output_type": "stream",
          "text": [
            "############### Balanced sample ################\n",
            "Let's check for the first text indexes, attention masks and labels\n",
            " \n",
            "Original:  Mesdames et Messieurs,Je vous remercie pour cette invitation à ouvrir la 7ème édition de vos Assises\n",
            "IDs: tensor([    5, 23605,    14, 19923,     7,  1684,    39,  5291,    24,    78,\n",
            "         7030,    15,  2913,    13,   333,   544,  1533,     8,   140,    21,\n",
            "        22978,    10,     7,  4630,    10,    15,    17,    11,   761,    36,\n",
            "         1711,     9,   228,    80,    21, 22978,    10,    56,    22,   340,\n",
            "           23,   322,     8,  1174,    26,   315,  4970,  2762,     7,    31,\n",
            "         8919,    19,  2348,  1602,    25,  1711,     9,   100, 21968,   200,\n",
            "           15, 14778,  3460, 25020,  7405,     7,    31,    33,  4402,  6197,\n",
            "           15,    13,    21, 31756,     8,    17,    11,  7639,    25,   926,\n",
            "            9,   228,    80,    21, 22978,    10,    56,    99,    24,   202,\n",
            "           17,    11,   690,     8,    39,  2091,    20,  2552,    15,   140])\n",
            "Attention masks: tensor([1, 1, 1, 1, 1, 1, 1, 1, 1, 1, 1, 1, 1, 1, 1, 1, 1, 1, 1, 1, 1, 1, 1, 1,\n",
            "        1, 1, 1, 1, 1, 1, 1, 1, 1, 1, 1, 1, 1, 1, 1, 1, 1, 1, 1, 1, 1, 1, 1, 1,\n",
            "        1, 1, 1, 1, 1, 1, 1, 1, 1, 1, 1, 1, 1, 1, 1, 1, 1, 1, 1, 1, 1, 1, 1, 1,\n",
            "        1, 1, 1, 1, 1, 1, 1, 1, 1, 1, 1, 1, 1, 1, 1, 1, 1, 1, 1, 1, 1, 1, 1, 1,\n",
            "        1, 1, 1, 1])\n",
            "labels tensor(1)\n",
            "-------------------------------------------------\n",
            " \n",
            "How many texts do we have in the train and validation sample ? \n",
            " \n",
            "We have 1960 training texts\n",
            "We have 490 validation texts\n",
            " \n",
            "-------------------------------------------------\n",
            "Data loaders created for train [0] and val [1]\n"
          ],
          "name": "stdout"
        }
      ]
    },
    {
      "cell_type": "code",
      "metadata": {
        "id": "6sxjN5O5mMe5",
        "colab_type": "code",
        "outputId": "b1426c27-970d-44ab-aacc-30c8e11b2630",
        "colab": {
          "base_uri": "https://localhost:8080/",
          "height": 510
        }
      },
      "source": [
        "print('############### Balanced sample split ################')\n",
        "train_loader_balanced_split, val_loader_balanced_split = prepare_to_feed(df_balanced_split,length=500,batch_size_value=16)"
      ],
      "execution_count": 45,
      "outputs": [
        {
          "output_type": "stream",
          "text": [
            "############### Balanced sample split ################\n",
            "Let's check for the first text indexes, attention masks and labels\n",
            " \n",
            "Original:  t théorique que les maires s'appliqueraient à eux-mêmes les 35 heures et non les deux fois 35 heures\n",
            "IDs: tensor([    5,   271,  8777,    27,    19,  2627,    10,    52,    11,  7375,\n",
            "          488,    15,   474,    26,  2835,    19,  1740,   511,    14,   165,\n",
            "           19,   116,   151,  1740,   511,   106,    61,  3543,    33,    23,\n",
            "         1984,     7,    15,   175,    46,    11,    88,  6797,   112,    16,\n",
            "          248,    27,    19,  2627,    10,    45,    48,  9106,   113,  1085,\n",
            "           29,    13,  1519,    20,  4563,  9154,     7,    20, 25339,    10,\n",
            "           47,    20,   126, 19531,     9,    54,   327,     8,   589,  4925,\n",
            "           22,   118,   544,  1147,    37,    17,    11,  3610,   945,    30,\n",
            "           28,  9371,     7,    65,    51,   102,    33,   143,    20,  4067,\n",
            "           15, 19362,     9,   442,    53,   153,  2443,  4943,     8,    44])\n",
            "Attention masks: tensor([1, 1, 1, 1, 1, 1, 1, 1, 1, 1, 1, 1, 1, 1, 1, 1, 1, 1, 1, 1, 1, 1, 1, 1,\n",
            "        1, 1, 1, 1, 1, 1, 1, 1, 1, 1, 1, 1, 1, 1, 1, 1, 1, 1, 1, 1, 1, 1, 1, 1,\n",
            "        1, 1, 1, 1, 1, 1, 1, 1, 1, 1, 1, 1, 1, 1, 1, 1, 1, 1, 1, 1, 1, 1, 1, 1,\n",
            "        1, 1, 1, 1, 1, 1, 1, 1, 1, 1, 1, 1, 1, 1, 1, 1, 1, 1, 1, 1, 1, 1, 1, 1,\n",
            "        1, 1, 1, 1])\n",
            "labels tensor(0)\n",
            "-------------------------------------------------\n",
            " \n",
            "How many texts do we have in the train and validation sample ? \n",
            " \n",
            "We have 2047 training texts\n",
            "We have 512 validation texts\n",
            " \n",
            "-------------------------------------------------\n",
            "Data loaders created for train [0] and val [1]\n"
          ],
          "name": "stdout"
        }
      ]
    },
    {
      "cell_type": "markdown",
      "metadata": {
        "id": "vs6YDmQsgljf",
        "colab_type": "text"
      },
      "source": [
        "5 and 6 seem to be the [CLS] and [SEP] special tokens \n"
      ]
    },
    {
      "cell_type": "markdown",
      "metadata": {
        "id": "poTTEJX1hoUK",
        "colab_type": "text"
      },
      "source": [
        "### CamemBERT Sequence Classification model tuning\n"
      ]
    },
    {
      "cell_type": "markdown",
      "metadata": {
        "id": "NN1VeJI0lDwf",
        "colab_type": "text"
      },
      "source": [
        "#### Loading the model\n"
      ]
    },
    {
      "cell_type": "markdown",
      "metadata": {
        "id": "99MPOVB7iRcl",
        "colab_type": "text"
      },
      "source": [
        "We will finally build up our model. We will use the  CamemBERT model for sequence classification which includes a special top layer designed for this task. "
      ]
    },
    {
      "cell_type": "code",
      "metadata": {
        "id": "XRHhHzjKgAC6",
        "colab_type": "code",
        "colab": {}
      },
      "source": [
        "# Importing from transformers\n",
        "from transformers import CamembertForSequenceClassification, CamembertConfig"
      ],
      "execution_count": 0,
      "outputs": []
    },
    {
      "cell_type": "code",
      "metadata": {
        "id": "FHMdM-QqgAAX",
        "colab_type": "code",
        "colab": {}
      },
      "source": [
        "# Loading the model\n",
        "gender_model = CamembertForSequenceClassification.from_pretrained(\n",
        "    \"camembert-base\", \n",
        "    num_labels = 2, # We have two different labels Women = 1 and Men =0   \n",
        "    output_attentions = False, \n",
        "    output_hidden_states = False, \n",
        ")"
      ],
      "execution_count": 0,
      "outputs": []
    },
    {
      "cell_type": "code",
      "metadata": {
        "id": "vUKynoykf_9y",
        "colab_type": "code",
        "outputId": "6f47f746-08e0-418f-9d50-9c4318bb2e21",
        "colab": {
          "base_uri": "https://localhost:8080/",
          "height": 1000
        }
      },
      "source": [
        "# We run the model on the colab GPU \n",
        "gender_model.cuda()"
      ],
      "execution_count": 32,
      "outputs": [
        {
          "output_type": "execute_result",
          "data": {
            "text/plain": [
              "CamembertForSequenceClassification(\n",
              "  (roberta): RobertaModel(\n",
              "    (embeddings): RobertaEmbeddings(\n",
              "      (word_embeddings): Embedding(32005, 768, padding_idx=1)\n",
              "      (position_embeddings): Embedding(514, 768, padding_idx=1)\n",
              "      (token_type_embeddings): Embedding(1, 768)\n",
              "      (LayerNorm): LayerNorm((768,), eps=1e-05, elementwise_affine=True)\n",
              "      (dropout): Dropout(p=0.1, inplace=False)\n",
              "    )\n",
              "    (encoder): BertEncoder(\n",
              "      (layer): ModuleList(\n",
              "        (0): BertLayer(\n",
              "          (attention): BertAttention(\n",
              "            (self): BertSelfAttention(\n",
              "              (query): Linear(in_features=768, out_features=768, bias=True)\n",
              "              (key): Linear(in_features=768, out_features=768, bias=True)\n",
              "              (value): Linear(in_features=768, out_features=768, bias=True)\n",
              "              (dropout): Dropout(p=0.1, inplace=False)\n",
              "            )\n",
              "            (output): BertSelfOutput(\n",
              "              (dense): Linear(in_features=768, out_features=768, bias=True)\n",
              "              (LayerNorm): LayerNorm((768,), eps=1e-05, elementwise_affine=True)\n",
              "              (dropout): Dropout(p=0.1, inplace=False)\n",
              "            )\n",
              "          )\n",
              "          (intermediate): BertIntermediate(\n",
              "            (dense): Linear(in_features=768, out_features=3072, bias=True)\n",
              "          )\n",
              "          (output): BertOutput(\n",
              "            (dense): Linear(in_features=3072, out_features=768, bias=True)\n",
              "            (LayerNorm): LayerNorm((768,), eps=1e-05, elementwise_affine=True)\n",
              "            (dropout): Dropout(p=0.1, inplace=False)\n",
              "          )\n",
              "        )\n",
              "        (1): BertLayer(\n",
              "          (attention): BertAttention(\n",
              "            (self): BertSelfAttention(\n",
              "              (query): Linear(in_features=768, out_features=768, bias=True)\n",
              "              (key): Linear(in_features=768, out_features=768, bias=True)\n",
              "              (value): Linear(in_features=768, out_features=768, bias=True)\n",
              "              (dropout): Dropout(p=0.1, inplace=False)\n",
              "            )\n",
              "            (output): BertSelfOutput(\n",
              "              (dense): Linear(in_features=768, out_features=768, bias=True)\n",
              "              (LayerNorm): LayerNorm((768,), eps=1e-05, elementwise_affine=True)\n",
              "              (dropout): Dropout(p=0.1, inplace=False)\n",
              "            )\n",
              "          )\n",
              "          (intermediate): BertIntermediate(\n",
              "            (dense): Linear(in_features=768, out_features=3072, bias=True)\n",
              "          )\n",
              "          (output): BertOutput(\n",
              "            (dense): Linear(in_features=3072, out_features=768, bias=True)\n",
              "            (LayerNorm): LayerNorm((768,), eps=1e-05, elementwise_affine=True)\n",
              "            (dropout): Dropout(p=0.1, inplace=False)\n",
              "          )\n",
              "        )\n",
              "        (2): BertLayer(\n",
              "          (attention): BertAttention(\n",
              "            (self): BertSelfAttention(\n",
              "              (query): Linear(in_features=768, out_features=768, bias=True)\n",
              "              (key): Linear(in_features=768, out_features=768, bias=True)\n",
              "              (value): Linear(in_features=768, out_features=768, bias=True)\n",
              "              (dropout): Dropout(p=0.1, inplace=False)\n",
              "            )\n",
              "            (output): BertSelfOutput(\n",
              "              (dense): Linear(in_features=768, out_features=768, bias=True)\n",
              "              (LayerNorm): LayerNorm((768,), eps=1e-05, elementwise_affine=True)\n",
              "              (dropout): Dropout(p=0.1, inplace=False)\n",
              "            )\n",
              "          )\n",
              "          (intermediate): BertIntermediate(\n",
              "            (dense): Linear(in_features=768, out_features=3072, bias=True)\n",
              "          )\n",
              "          (output): BertOutput(\n",
              "            (dense): Linear(in_features=3072, out_features=768, bias=True)\n",
              "            (LayerNorm): LayerNorm((768,), eps=1e-05, elementwise_affine=True)\n",
              "            (dropout): Dropout(p=0.1, inplace=False)\n",
              "          )\n",
              "        )\n",
              "        (3): BertLayer(\n",
              "          (attention): BertAttention(\n",
              "            (self): BertSelfAttention(\n",
              "              (query): Linear(in_features=768, out_features=768, bias=True)\n",
              "              (key): Linear(in_features=768, out_features=768, bias=True)\n",
              "              (value): Linear(in_features=768, out_features=768, bias=True)\n",
              "              (dropout): Dropout(p=0.1, inplace=False)\n",
              "            )\n",
              "            (output): BertSelfOutput(\n",
              "              (dense): Linear(in_features=768, out_features=768, bias=True)\n",
              "              (LayerNorm): LayerNorm((768,), eps=1e-05, elementwise_affine=True)\n",
              "              (dropout): Dropout(p=0.1, inplace=False)\n",
              "            )\n",
              "          )\n",
              "          (intermediate): BertIntermediate(\n",
              "            (dense): Linear(in_features=768, out_features=3072, bias=True)\n",
              "          )\n",
              "          (output): BertOutput(\n",
              "            (dense): Linear(in_features=3072, out_features=768, bias=True)\n",
              "            (LayerNorm): LayerNorm((768,), eps=1e-05, elementwise_affine=True)\n",
              "            (dropout): Dropout(p=0.1, inplace=False)\n",
              "          )\n",
              "        )\n",
              "        (4): BertLayer(\n",
              "          (attention): BertAttention(\n",
              "            (self): BertSelfAttention(\n",
              "              (query): Linear(in_features=768, out_features=768, bias=True)\n",
              "              (key): Linear(in_features=768, out_features=768, bias=True)\n",
              "              (value): Linear(in_features=768, out_features=768, bias=True)\n",
              "              (dropout): Dropout(p=0.1, inplace=False)\n",
              "            )\n",
              "            (output): BertSelfOutput(\n",
              "              (dense): Linear(in_features=768, out_features=768, bias=True)\n",
              "              (LayerNorm): LayerNorm((768,), eps=1e-05, elementwise_affine=True)\n",
              "              (dropout): Dropout(p=0.1, inplace=False)\n",
              "            )\n",
              "          )\n",
              "          (intermediate): BertIntermediate(\n",
              "            (dense): Linear(in_features=768, out_features=3072, bias=True)\n",
              "          )\n",
              "          (output): BertOutput(\n",
              "            (dense): Linear(in_features=3072, out_features=768, bias=True)\n",
              "            (LayerNorm): LayerNorm((768,), eps=1e-05, elementwise_affine=True)\n",
              "            (dropout): Dropout(p=0.1, inplace=False)\n",
              "          )\n",
              "        )\n",
              "        (5): BertLayer(\n",
              "          (attention): BertAttention(\n",
              "            (self): BertSelfAttention(\n",
              "              (query): Linear(in_features=768, out_features=768, bias=True)\n",
              "              (key): Linear(in_features=768, out_features=768, bias=True)\n",
              "              (value): Linear(in_features=768, out_features=768, bias=True)\n",
              "              (dropout): Dropout(p=0.1, inplace=False)\n",
              "            )\n",
              "            (output): BertSelfOutput(\n",
              "              (dense): Linear(in_features=768, out_features=768, bias=True)\n",
              "              (LayerNorm): LayerNorm((768,), eps=1e-05, elementwise_affine=True)\n",
              "              (dropout): Dropout(p=0.1, inplace=False)\n",
              "            )\n",
              "          )\n",
              "          (intermediate): BertIntermediate(\n",
              "            (dense): Linear(in_features=768, out_features=3072, bias=True)\n",
              "          )\n",
              "          (output): BertOutput(\n",
              "            (dense): Linear(in_features=3072, out_features=768, bias=True)\n",
              "            (LayerNorm): LayerNorm((768,), eps=1e-05, elementwise_affine=True)\n",
              "            (dropout): Dropout(p=0.1, inplace=False)\n",
              "          )\n",
              "        )\n",
              "        (6): BertLayer(\n",
              "          (attention): BertAttention(\n",
              "            (self): BertSelfAttention(\n",
              "              (query): Linear(in_features=768, out_features=768, bias=True)\n",
              "              (key): Linear(in_features=768, out_features=768, bias=True)\n",
              "              (value): Linear(in_features=768, out_features=768, bias=True)\n",
              "              (dropout): Dropout(p=0.1, inplace=False)\n",
              "            )\n",
              "            (output): BertSelfOutput(\n",
              "              (dense): Linear(in_features=768, out_features=768, bias=True)\n",
              "              (LayerNorm): LayerNorm((768,), eps=1e-05, elementwise_affine=True)\n",
              "              (dropout): Dropout(p=0.1, inplace=False)\n",
              "            )\n",
              "          )\n",
              "          (intermediate): BertIntermediate(\n",
              "            (dense): Linear(in_features=768, out_features=3072, bias=True)\n",
              "          )\n",
              "          (output): BertOutput(\n",
              "            (dense): Linear(in_features=3072, out_features=768, bias=True)\n",
              "            (LayerNorm): LayerNorm((768,), eps=1e-05, elementwise_affine=True)\n",
              "            (dropout): Dropout(p=0.1, inplace=False)\n",
              "          )\n",
              "        )\n",
              "        (7): BertLayer(\n",
              "          (attention): BertAttention(\n",
              "            (self): BertSelfAttention(\n",
              "              (query): Linear(in_features=768, out_features=768, bias=True)\n",
              "              (key): Linear(in_features=768, out_features=768, bias=True)\n",
              "              (value): Linear(in_features=768, out_features=768, bias=True)\n",
              "              (dropout): Dropout(p=0.1, inplace=False)\n",
              "            )\n",
              "            (output): BertSelfOutput(\n",
              "              (dense): Linear(in_features=768, out_features=768, bias=True)\n",
              "              (LayerNorm): LayerNorm((768,), eps=1e-05, elementwise_affine=True)\n",
              "              (dropout): Dropout(p=0.1, inplace=False)\n",
              "            )\n",
              "          )\n",
              "          (intermediate): BertIntermediate(\n",
              "            (dense): Linear(in_features=768, out_features=3072, bias=True)\n",
              "          )\n",
              "          (output): BertOutput(\n",
              "            (dense): Linear(in_features=3072, out_features=768, bias=True)\n",
              "            (LayerNorm): LayerNorm((768,), eps=1e-05, elementwise_affine=True)\n",
              "            (dropout): Dropout(p=0.1, inplace=False)\n",
              "          )\n",
              "        )\n",
              "        (8): BertLayer(\n",
              "          (attention): BertAttention(\n",
              "            (self): BertSelfAttention(\n",
              "              (query): Linear(in_features=768, out_features=768, bias=True)\n",
              "              (key): Linear(in_features=768, out_features=768, bias=True)\n",
              "              (value): Linear(in_features=768, out_features=768, bias=True)\n",
              "              (dropout): Dropout(p=0.1, inplace=False)\n",
              "            )\n",
              "            (output): BertSelfOutput(\n",
              "              (dense): Linear(in_features=768, out_features=768, bias=True)\n",
              "              (LayerNorm): LayerNorm((768,), eps=1e-05, elementwise_affine=True)\n",
              "              (dropout): Dropout(p=0.1, inplace=False)\n",
              "            )\n",
              "          )\n",
              "          (intermediate): BertIntermediate(\n",
              "            (dense): Linear(in_features=768, out_features=3072, bias=True)\n",
              "          )\n",
              "          (output): BertOutput(\n",
              "            (dense): Linear(in_features=3072, out_features=768, bias=True)\n",
              "            (LayerNorm): LayerNorm((768,), eps=1e-05, elementwise_affine=True)\n",
              "            (dropout): Dropout(p=0.1, inplace=False)\n",
              "          )\n",
              "        )\n",
              "        (9): BertLayer(\n",
              "          (attention): BertAttention(\n",
              "            (self): BertSelfAttention(\n",
              "              (query): Linear(in_features=768, out_features=768, bias=True)\n",
              "              (key): Linear(in_features=768, out_features=768, bias=True)\n",
              "              (value): Linear(in_features=768, out_features=768, bias=True)\n",
              "              (dropout): Dropout(p=0.1, inplace=False)\n",
              "            )\n",
              "            (output): BertSelfOutput(\n",
              "              (dense): Linear(in_features=768, out_features=768, bias=True)\n",
              "              (LayerNorm): LayerNorm((768,), eps=1e-05, elementwise_affine=True)\n",
              "              (dropout): Dropout(p=0.1, inplace=False)\n",
              "            )\n",
              "          )\n",
              "          (intermediate): BertIntermediate(\n",
              "            (dense): Linear(in_features=768, out_features=3072, bias=True)\n",
              "          )\n",
              "          (output): BertOutput(\n",
              "            (dense): Linear(in_features=3072, out_features=768, bias=True)\n",
              "            (LayerNorm): LayerNorm((768,), eps=1e-05, elementwise_affine=True)\n",
              "            (dropout): Dropout(p=0.1, inplace=False)\n",
              "          )\n",
              "        )\n",
              "        (10): BertLayer(\n",
              "          (attention): BertAttention(\n",
              "            (self): BertSelfAttention(\n",
              "              (query): Linear(in_features=768, out_features=768, bias=True)\n",
              "              (key): Linear(in_features=768, out_features=768, bias=True)\n",
              "              (value): Linear(in_features=768, out_features=768, bias=True)\n",
              "              (dropout): Dropout(p=0.1, inplace=False)\n",
              "            )\n",
              "            (output): BertSelfOutput(\n",
              "              (dense): Linear(in_features=768, out_features=768, bias=True)\n",
              "              (LayerNorm): LayerNorm((768,), eps=1e-05, elementwise_affine=True)\n",
              "              (dropout): Dropout(p=0.1, inplace=False)\n",
              "            )\n",
              "          )\n",
              "          (intermediate): BertIntermediate(\n",
              "            (dense): Linear(in_features=768, out_features=3072, bias=True)\n",
              "          )\n",
              "          (output): BertOutput(\n",
              "            (dense): Linear(in_features=3072, out_features=768, bias=True)\n",
              "            (LayerNorm): LayerNorm((768,), eps=1e-05, elementwise_affine=True)\n",
              "            (dropout): Dropout(p=0.1, inplace=False)\n",
              "          )\n",
              "        )\n",
              "        (11): BertLayer(\n",
              "          (attention): BertAttention(\n",
              "            (self): BertSelfAttention(\n",
              "              (query): Linear(in_features=768, out_features=768, bias=True)\n",
              "              (key): Linear(in_features=768, out_features=768, bias=True)\n",
              "              (value): Linear(in_features=768, out_features=768, bias=True)\n",
              "              (dropout): Dropout(p=0.1, inplace=False)\n",
              "            )\n",
              "            (output): BertSelfOutput(\n",
              "              (dense): Linear(in_features=768, out_features=768, bias=True)\n",
              "              (LayerNorm): LayerNorm((768,), eps=1e-05, elementwise_affine=True)\n",
              "              (dropout): Dropout(p=0.1, inplace=False)\n",
              "            )\n",
              "          )\n",
              "          (intermediate): BertIntermediate(\n",
              "            (dense): Linear(in_features=768, out_features=3072, bias=True)\n",
              "          )\n",
              "          (output): BertOutput(\n",
              "            (dense): Linear(in_features=3072, out_features=768, bias=True)\n",
              "            (LayerNorm): LayerNorm((768,), eps=1e-05, elementwise_affine=True)\n",
              "            (dropout): Dropout(p=0.1, inplace=False)\n",
              "          )\n",
              "        )\n",
              "      )\n",
              "    )\n",
              "    (pooler): BertPooler(\n",
              "      (dense): Linear(in_features=768, out_features=768, bias=True)\n",
              "      (activation): Tanh()\n",
              "    )\n",
              "  )\n",
              "  (classifier): RobertaClassificationHead(\n",
              "    (dense): Linear(in_features=768, out_features=768, bias=True)\n",
              "    (dropout): Dropout(p=0.1, inplace=False)\n",
              "    (out_proj): Linear(in_features=768, out_features=2, bias=True)\n",
              "  )\n",
              ")"
            ]
          },
          "metadata": {
            "tags": []
          },
          "execution_count": 32
        }
      ]
    },
    {
      "cell_type": "markdown",
      "metadata": {
        "id": "uWyHWg5xlBck",
        "colab_type": "text"
      },
      "source": [
        "Optimizers and Loss"
      ]
    },
    {
      "cell_type": "markdown",
      "metadata": {
        "id": "sgwmHirxnEie",
        "colab_type": "text"
      },
      "source": [
        "#### Constructing the training and validation loop \n"
      ]
    },
    {
      "cell_type": "markdown",
      "metadata": {
        "id": "7J6rIz4UnLwq",
        "colab_type": "text"
      },
      "source": [
        ""
      ]
    },
    {
      "cell_type": "code",
      "metadata": {
        "id": "pZDt2ZElwcJh",
        "colab_type": "code",
        "colab": {}
      },
      "source": [
        "import numpy as np\n",
        "\n",
        "from sklearn.metrics import f1_score \n",
        "\n",
        "from sklearn.metrics import roc_auc_score \n",
        "\n",
        "from sklearn.metrics import confusion_matrix\n",
        "\n",
        "from sklearn.metrics import classification_report\n",
        "\n",
        "# Function to calculate the accuracy of our predictions vs labels\n",
        "def flat_accuracy(preds, labels):\n",
        "    pred_flat = np.argmax(preds, axis=1).flatten()\n",
        "    labels_flat = labels.flatten()\n",
        "    return np.sum(pred_flat == labels_flat) / len(labels_flat)\n",
        "\n",
        "\n",
        "def flat_f1_score(labels,preds):\n",
        "    pred_flat = np.argmax(preds, axis=1).flatten()\n",
        "    labels_flat = labels.flatten()\n",
        "    return f1_score(labels_flat,pred_flat,zero_division=1)\n",
        "\n",
        "def flat_roc_auc(labels,preds):\n",
        "    pred_flat = np.argmax(preds, axis=1).flatten()\n",
        "    labels_flat = labels.flatten()\n",
        "    return roc_auc_score(labels_flat,pred_flat,zero_division=0.5)\n",
        "\n",
        "\n",
        "def table_scores(preds, labels):\n",
        "    pred_flat = np.argmax(preds, axis=1).flatten()\n",
        "    labels_flat = labels.flatten()\n",
        "    return classification_report(labels_flat,pred_flat)\n"
      ],
      "execution_count": 0,
      "outputs": []
    },
    {
      "cell_type": "code",
      "metadata": {
        "id": "gLN5mzc2ilxU",
        "colab_type": "code",
        "colab": {}
      },
      "source": [
        "\n",
        "gender_model = CamembertForSequenceClassification.from_pretrained(\n",
        "    \"camembert-base\", \n",
        "    num_labels = 2, # We have two different labels Women = 1 and Men =0   \n",
        "    output_attentions = False, \n",
        "    output_hidden_states = False, \n",
        ")"
      ],
      "execution_count": 0,
      "outputs": []
    },
    {
      "cell_type": "code",
      "metadata": {
        "id": "WUB8c4k_t1UJ",
        "colab_type": "code",
        "colab": {}
      },
      "source": [
        "def train_val_gendermodel(train_loader, val_loader, epochs_val,seed_val,device,lr_value):\n",
        "\n",
        "  ############################  IMPORT MODEL ################################################\n",
        "  gender_model = CamembertForSequenceClassification.from_pretrained(\n",
        "    \"camembert-base\", \n",
        "    num_labels = 2, # We have two different labels Women = 1 and Men =0   \n",
        "    output_attentions = False, \n",
        "    output_hidden_states = False, )\n",
        "\n",
        "  model = gender_model\n",
        "  model.cuda()\n",
        "  \n",
        "  ############################## RANDOM SEED ##################################################\n",
        "\n",
        "  import random\n",
        " # Let's put a seed to make this result reproducible \n",
        "  seed=seed_val\n",
        "  random.seed(seed)\n",
        "  np.random.seed(seed)\n",
        "  torch.manual_seed(seed)\n",
        "  torch.cuda.manual_seed_all(seed)\n",
        "\n",
        "  ############################### LEARNING RATE SCHEDULER #######################################\n",
        "\n",
        "  # https://huggingface.co/transformers/migration.html \n",
        "  # https://pytorch.org/docs/stable/optim.html (default values)\n",
        "\n",
        "  import torch.nn as nn\n",
        "  import torch.optim as optim\n",
        "  from transformers import AdamW\n",
        "  from transformers import get_linear_schedule_with_warmup\n",
        "\n",
        "  epochs = epochs_val # In order to fine tune our model we will first set the number of epochs to 4.\n",
        "\n",
        "  # We choose Binary cross enthropy with logits loss for the loss computation. It seems to be the most adapted loss to our problem. \n",
        "  criterion = nn.BCEWithLogitsLoss()\n",
        "  #Implements Adam algorithm with weight decay fix.\n",
        "  opti = AdamW(model.parameters(),\n",
        "                    lr =lr_value, # learning rate (default = 1e-3)\n",
        "                    eps = 1e-8 # prevents division by 0 (default = 1e-8)\n",
        "                  )\n",
        "\n",
        "  num_training_steps = len(train_loader) * epochs\n",
        "  # Create a schedule with a learning rate that decreases linearly after linearly increasing during a warmup period (0 here)\n",
        "  scheduler = get_linear_schedule_with_warmup(opti, \n",
        "                                              num_warmup_steps = 0,\n",
        "                                              num_training_steps = num_training_steps)\n",
        "    \n",
        "\n",
        "  # We want to evaluate the training phase \n",
        "  training_stats = []\n",
        "\n",
        "  for ep in range(0, epochs):\n",
        "    print('===========Starting Epoch {} / {} =============='.format(ep+1,epochs))\n",
        "    print('Training starts')\n",
        "\n",
        "    ################################### TRAINING ################################\n",
        "\n",
        "    #Put the model in training mode\n",
        "    model.train()\n",
        "\n",
        "    # Set the train loss for the epoch to 0 \n",
        "    total_train_loss = 0\n",
        "\n",
        "    for step, batch in enumerate(train_loader):\n",
        "      # Clear gradients \n",
        "      model.zero_grad() # (opti.zerograd ? )\n",
        "\n",
        "      # Cpy the 3 batch to GPU \n",
        "      b_input_ids = batch[0].to(device)\n",
        "      b_input_mask = batch[1].to(device)\n",
        "      b_labels = batch[2].to(device)\n",
        "      \n",
        "      #return loss and logits\n",
        "      loss, logits = model(b_input_ids, \n",
        "                          token_type_ids=None, \n",
        "                          attention_mask=b_input_mask, \n",
        "                          labels=b_labels) \n",
        "      \n",
        "      # Accumulate training loss for all batches \n",
        "      total_train_loss += loss.item()\n",
        "\n",
        "      #Backpropagating the gradients \n",
        "      loss.backward()\n",
        "\n",
        "      # Prevent exploding gradients problem  (forcing the gradients to be small, the parameter updates will not push the parameters too far from their previous values)\n",
        "      torch.nn.utils.clip_grad_norm_(model.parameters(), 1.0)\n",
        "\n",
        "      # Update parameters \n",
        "      opti.step()\n",
        "\n",
        "      # Update learning rate schedule\n",
        "      scheduler.step()\n",
        "\n",
        "    #Calculate the average training loss over all batches  \n",
        "    avg_train_loss = total_train_loss / len(train_loader)\n",
        "    print(\"\")\n",
        "    print(\"  Average training loss: {0:.2f}\".format(avg_train_loss))\n",
        "    print('')\n",
        "    print('And now, validation STARTS')\n",
        "\n",
        "    ###################### VALIDATION #############################\n",
        "\n",
        "    # Put model in evaluation mode \n",
        "    model.eval()\n",
        "\n",
        "    # Set statistics to 0\n",
        "    total_eval_accuracy = 0\n",
        "    total_eval_loss = 0\n",
        "    nb_eval_steps = 0\n",
        "    total_eval_f1=0\n",
        "    total_roc_auc = 0 \n",
        "\n",
        "    # Confusion matrix ?\n",
        "    predictions, true_labels = [], []\n",
        "\n",
        "    for batch in val_loader:\n",
        "      b_input_ids = batch[0].to(device)\n",
        "      b_input_mask = batch[1].to(device)\n",
        "      b_labels = batch[2].to(device)\n",
        "      \n",
        "      # We don't care about gradients for eval\n",
        "\n",
        "      with torch.no_grad(): \n",
        "        (loss, logits) = model(b_input_ids, \n",
        "                                   token_type_ids=None, \n",
        "                                   attention_mask=b_input_mask,\n",
        "                                   labels=b_labels)\n",
        "      total_eval_loss += loss.item()\n",
        "\n",
        "        # Move logits and labels to CPU \n",
        "      logits = logits.detach().cpu().numpy()\n",
        "      label_ids = b_labels.to('cpu').numpy()\n",
        "\n",
        "      pred_flat = np.argmax(logits, axis=1).flatten()\n",
        "      labels_flat = label_ids.flatten()\n",
        "\n",
        "      # Confusion matrix ?\n",
        "      #val_batch_preds = np.argmax(logits, axis=1)\n",
        "      #val_batch_labels = label_ids\n",
        "      #predictions.extend(val_batch_preds)\n",
        "      #true_labels.extend(val_batch_labels)\n",
        "\n",
        "      # Accumulation accuracy for all batch\n",
        "      total_eval_accuracy += flat_accuracy(logits, label_ids)\n",
        "\n",
        "      # Accumulation f1 for all batch\n",
        "      total_eval_f1 += f1_score(labels_flat,pred_flat,zero_division=1)\n",
        "\n",
        "      # Accumulation roc_auc for all batch\n",
        "      #total_roc_auc += flat_roc_auc(label_ids,logits)\n",
        "      \n",
        "      #Final accuracy on all batch\n",
        "    avg_val_accuracy = total_eval_accuracy / len(val_loader)\n",
        "    print(\"  Accuracy: {0:.2f}\".format(avg_val_accuracy))\n",
        "\n",
        "      #Final f1 on all batch\n",
        "    avg_val_f1 = total_eval_f1 / len(val_loader)\n",
        "    print(\"  Accuracy: {0:.2f}\".format(avg_val_f1))\n",
        "\n",
        "     #Final roc_auc over all batch\n",
        "    #avg_val_roc_auc = total_roc_auc / len(val_loader)\n",
        "    #print(\"  Validation Loss: {0:.2f}\".format(avg_val_loss))\n",
        "\n",
        "      #Final loss over all batch\n",
        "    avg_val_loss = total_eval_loss / len(val_loader)\n",
        "    print(\"  Validation Loss: {0:.2f}\".format(avg_val_loss))\n",
        "\n",
        "    # confusion matrix ? \n",
        "    pred_tags = [i for i in predictions]\n",
        "    valid_tags = [i for i in true_labels]\n",
        "\n",
        "\n",
        "\n",
        "    training_stats.append(\n",
        "          {\n",
        "              'epoch': ep + 1,\n",
        "              'Training Loss': avg_train_loss,\n",
        "              'Valid. Loss': avg_val_loss,\n",
        "              'Valid. Accur.': avg_val_accuracy,\n",
        "              'Valid F1' : avg_val_f1,\n",
        "             # 'Valid ROC AUC' : avg_val_roc_auc,\n",
        "          }\n",
        "      )\n",
        "\n",
        "  print(\"\")\n",
        "  print(\"Done !\")\n",
        "\n",
        "  return  training_stats"
      ],
      "execution_count": 0,
      "outputs": []
    },
    {
      "cell_type": "code",
      "metadata": {
        "id": "WqNRTJME5oHs",
        "colab_type": "code",
        "outputId": "e1fa9ac8-ed2d-4c27-828e-b9f789f4546d",
        "colab": {
          "base_uri": "https://localhost:8080/",
          "height": 663
        }
      },
      "source": [
        "results_unbalanced = train_val_gendermodel(train_loader=train_loader_unbalanced, val_loader=val_loader_unbalanced, epochs_val=4,seed_val=2020,device=device,lr_value=5e-5)"
      ],
      "execution_count": 48,
      "outputs": [
        {
          "output_type": "stream",
          "text": [
            "===========Starting Epoch 1 / 4 ==============\n",
            "Training starts\n",
            "\n",
            "  Average training loss: 0.49\n",
            "\n",
            "And now, validation STARTS\n",
            "  Accuracy: 0.76\n",
            "  Accuracy: 0.54\n",
            "  Validation Loss: 0.53\n",
            "===========Starting Epoch 2 / 4 ==============\n",
            "Training starts\n",
            "\n",
            "  Average training loss: 0.33\n",
            "\n",
            "And now, validation STARTS\n",
            "  Accuracy: 0.83\n",
            "  Accuracy: 0.59\n",
            "  Validation Loss: 0.39\n",
            "===========Starting Epoch 3 / 4 ==============\n",
            "Training starts\n",
            "\n",
            "  Average training loss: 0.24\n",
            "\n",
            "And now, validation STARTS\n",
            "  Accuracy: 0.86\n",
            "  Accuracy: 0.62\n",
            "  Validation Loss: 0.41\n",
            "===========Starting Epoch 4 / 4 ==============\n",
            "Training starts\n",
            "\n",
            "  Average training loss: 0.17\n",
            "\n",
            "And now, validation STARTS\n",
            "  Accuracy: 0.87\n",
            "  Accuracy: 0.67\n",
            "  Validation Loss: 0.41\n",
            "\n",
            "Done !\n"
          ],
          "name": "stdout"
        }
      ]
    },
    {
      "cell_type": "code",
      "metadata": {
        "id": "yK0Ohghwa8Hx",
        "colab_type": "code",
        "colab": {}
      },
      "source": [
        "import pandas as pd"
      ],
      "execution_count": 0,
      "outputs": []
    },
    {
      "cell_type": "code",
      "metadata": {
        "id": "omPiofn4gDZc",
        "colab_type": "code",
        "colab": {
          "base_uri": "https://localhost:8080/",
          "height": 204
        },
        "outputId": "651bb304-e90a-4e05-f6d7-12300070c801"
      },
      "source": [
        "df_stats = pd.DataFrame(data=results_unbalanced)\n",
        "df_stats = df_stats.set_index('epoch')\n",
        "df_stats"
      ],
      "execution_count": 50,
      "outputs": [
        {
          "output_type": "execute_result",
          "data": {
            "text/html": [
              "<div>\n",
              "<style scoped>\n",
              "    .dataframe tbody tr th:only-of-type {\n",
              "        vertical-align: middle;\n",
              "    }\n",
              "\n",
              "    .dataframe tbody tr th {\n",
              "        vertical-align: top;\n",
              "    }\n",
              "\n",
              "    .dataframe thead th {\n",
              "        text-align: right;\n",
              "    }\n",
              "</style>\n",
              "<table border=\"1\" class=\"dataframe\">\n",
              "  <thead>\n",
              "    <tr style=\"text-align: right;\">\n",
              "      <th></th>\n",
              "      <th>Training Loss</th>\n",
              "      <th>Valid. Loss</th>\n",
              "      <th>Valid. Accur.</th>\n",
              "      <th>Valid F1 avg</th>\n",
              "    </tr>\n",
              "    <tr>\n",
              "      <th>epoch</th>\n",
              "      <th></th>\n",
              "      <th></th>\n",
              "      <th></th>\n",
              "      <th></th>\n",
              "    </tr>\n",
              "  </thead>\n",
              "  <tbody>\n",
              "    <tr>\n",
              "      <th>1</th>\n",
              "      <td>0.491583</td>\n",
              "      <td>0.528068</td>\n",
              "      <td>0.764919</td>\n",
              "      <td>0.540591</td>\n",
              "    </tr>\n",
              "    <tr>\n",
              "      <th>2</th>\n",
              "      <td>0.325746</td>\n",
              "      <td>0.390983</td>\n",
              "      <td>0.829435</td>\n",
              "      <td>0.591389</td>\n",
              "    </tr>\n",
              "    <tr>\n",
              "      <th>3</th>\n",
              "      <td>0.241597</td>\n",
              "      <td>0.411054</td>\n",
              "      <td>0.862500</td>\n",
              "      <td>0.618186</td>\n",
              "    </tr>\n",
              "    <tr>\n",
              "      <th>4</th>\n",
              "      <td>0.166739</td>\n",
              "      <td>0.409628</td>\n",
              "      <td>0.865726</td>\n",
              "      <td>0.667426</td>\n",
              "    </tr>\n",
              "  </tbody>\n",
              "</table>\n",
              "</div>"
            ],
            "text/plain": [
              "       Training Loss  Valid. Loss  Valid. Accur.  Valid F1 avg\n",
              "epoch                                                         \n",
              "1           0.491583     0.528068       0.764919      0.540591\n",
              "2           0.325746     0.390983       0.829435      0.591389\n",
              "3           0.241597     0.411054       0.862500      0.618186\n",
              "4           0.166739     0.409628       0.865726      0.667426"
            ]
          },
          "metadata": {
            "tags": []
          },
          "execution_count": 50
        }
      ]
    },
    {
      "cell_type": "code",
      "metadata": {
        "id": "DH9QNCMXR0zc",
        "colab_type": "code",
        "colab": {
          "base_uri": "https://localhost:8080/",
          "height": 663
        },
        "outputId": "7134b942-2678-42bb-9f6a-797cfa634040"
      },
      "source": [
        "results_balanced = train_val_gendermodel(train_loader=train_loader_balanced, val_loader=val_loader_balanced, epochs_val=4,seed_val=2020,device=device,lr_value=5e-5)"
      ],
      "execution_count": 51,
      "outputs": [
        {
          "output_type": "stream",
          "text": [
            "===========Starting Epoch 1 / 4 ==============\n",
            "Training starts\n",
            "\n",
            "  Average training loss: 0.59\n",
            "\n",
            "And now, validation STARTS\n",
            "  Accuracy: 0.79\n",
            "  Accuracy: 0.73\n",
            "  Validation Loss: 0.44\n",
            "===========Starting Epoch 2 / 4 ==============\n",
            "Training starts\n",
            "\n",
            "  Average training loss: 0.39\n",
            "\n",
            "And now, validation STARTS\n",
            "  Accuracy: 0.80\n",
            "  Accuracy: 0.78\n",
            "  Validation Loss: 0.40\n",
            "===========Starting Epoch 3 / 4 ==============\n",
            "Training starts\n",
            "\n",
            "  Average training loss: 0.26\n",
            "\n",
            "And now, validation STARTS\n",
            "  Accuracy: 0.80\n",
            "  Accuracy: 0.77\n",
            "  Validation Loss: 0.46\n",
            "===========Starting Epoch 4 / 4 ==============\n",
            "Training starts\n",
            "\n",
            "  Average training loss: 0.18\n",
            "\n",
            "And now, validation STARTS\n",
            "  Accuracy: 0.80\n",
            "  Accuracy: 0.76\n",
            "  Validation Loss: 0.55\n",
            "\n",
            "Done !\n"
          ],
          "name": "stdout"
        }
      ]
    },
    {
      "cell_type": "code",
      "metadata": {
        "id": "IcHp2OKhdRPd",
        "colab_type": "code",
        "colab": {
          "base_uri": "https://localhost:8080/",
          "height": 204
        },
        "outputId": "a3669798-cbb6-440e-b670-89ed69ea5f43"
      },
      "source": [
        "df_stats = pd.DataFrame(data=results_balanced)\n",
        "df_stats = df_stats.set_index('epoch')\n",
        "df_stats"
      ],
      "execution_count": 52,
      "outputs": [
        {
          "output_type": "execute_result",
          "data": {
            "text/html": [
              "<div>\n",
              "<style scoped>\n",
              "    .dataframe tbody tr th:only-of-type {\n",
              "        vertical-align: middle;\n",
              "    }\n",
              "\n",
              "    .dataframe tbody tr th {\n",
              "        vertical-align: top;\n",
              "    }\n",
              "\n",
              "    .dataframe thead th {\n",
              "        text-align: right;\n",
              "    }\n",
              "</style>\n",
              "<table border=\"1\" class=\"dataframe\">\n",
              "  <thead>\n",
              "    <tr style=\"text-align: right;\">\n",
              "      <th></th>\n",
              "      <th>Training Loss</th>\n",
              "      <th>Valid. Loss</th>\n",
              "      <th>Valid. Accur.</th>\n",
              "      <th>Valid F1 avg</th>\n",
              "    </tr>\n",
              "    <tr>\n",
              "      <th>epoch</th>\n",
              "      <th></th>\n",
              "      <th></th>\n",
              "      <th></th>\n",
              "      <th></th>\n",
              "    </tr>\n",
              "  </thead>\n",
              "  <tbody>\n",
              "    <tr>\n",
              "      <th>1</th>\n",
              "      <td>0.592060</td>\n",
              "      <td>0.442618</td>\n",
              "      <td>0.787903</td>\n",
              "      <td>0.727892</td>\n",
              "    </tr>\n",
              "    <tr>\n",
              "      <th>2</th>\n",
              "      <td>0.390691</td>\n",
              "      <td>0.400924</td>\n",
              "      <td>0.802823</td>\n",
              "      <td>0.778951</td>\n",
              "    </tr>\n",
              "    <tr>\n",
              "      <th>3</th>\n",
              "      <td>0.264440</td>\n",
              "      <td>0.462377</td>\n",
              "      <td>0.802016</td>\n",
              "      <td>0.774889</td>\n",
              "    </tr>\n",
              "    <tr>\n",
              "      <th>4</th>\n",
              "      <td>0.182332</td>\n",
              "      <td>0.549111</td>\n",
              "      <td>0.797984</td>\n",
              "      <td>0.760625</td>\n",
              "    </tr>\n",
              "  </tbody>\n",
              "</table>\n",
              "</div>"
            ],
            "text/plain": [
              "       Training Loss  Valid. Loss  Valid. Accur.  Valid F1 avg\n",
              "epoch                                                         \n",
              "1           0.592060     0.442618       0.787903      0.727892\n",
              "2           0.390691     0.400924       0.802823      0.778951\n",
              "3           0.264440     0.462377       0.802016      0.774889\n",
              "4           0.182332     0.549111       0.797984      0.760625"
            ]
          },
          "metadata": {
            "tags": []
          },
          "execution_count": 52
        }
      ]
    },
    {
      "cell_type": "code",
      "metadata": {
        "id": "Hb6Ca8qmdT74",
        "colab_type": "code",
        "colab": {
          "base_uri": "https://localhost:8080/",
          "height": 663
        },
        "outputId": "6b28594e-4927-4545-8ae5-1b18ce63ad85"
      },
      "source": [
        "results_balanced_split = train_val_gendermodel(train_loader=train_loader_balanced_split, val_loader=val_loader_balanced_split, epochs_val=4,seed_val=2020,device=device,lr_value=5e-5)"
      ],
      "execution_count": 53,
      "outputs": [
        {
          "output_type": "stream",
          "text": [
            "===========Starting Epoch 1 / 4 ==============\n",
            "Training starts\n",
            "\n",
            "  Average training loss: 0.60\n",
            "\n",
            "And now, validation STARTS\n",
            "  Accuracy: 0.77\n",
            "  Accuracy: 0.78\n",
            "  Validation Loss: 0.49\n",
            "===========Starting Epoch 2 / 4 ==============\n",
            "Training starts\n",
            "\n",
            "  Average training loss: 0.37\n",
            "\n",
            "And now, validation STARTS\n",
            "  Accuracy: 0.81\n",
            "  Accuracy: 0.80\n",
            "  Validation Loss: 0.45\n",
            "===========Starting Epoch 3 / 4 ==============\n",
            "Training starts\n",
            "\n",
            "  Average training loss: 0.24\n",
            "\n",
            "And now, validation STARTS\n",
            "  Accuracy: 0.84\n",
            "  Accuracy: 0.83\n",
            "  Validation Loss: 0.44\n",
            "===========Starting Epoch 4 / 4 ==============\n",
            "Training starts\n",
            "\n",
            "  Average training loss: 0.14\n",
            "\n",
            "And now, validation STARTS\n",
            "  Accuracy: 0.85\n",
            "  Accuracy: 0.83\n",
            "  Validation Loss: 0.48\n",
            "\n",
            "Done !\n"
          ],
          "name": "stdout"
        }
      ]
    },
    {
      "cell_type": "code",
      "metadata": {
        "id": "6p6WloNvdb41",
        "colab_type": "code",
        "colab": {
          "base_uri": "https://localhost:8080/",
          "height": 204
        },
        "outputId": "4c0534b8-43f0-4555-d9ae-797d550c07ef"
      },
      "source": [
        "df_stats = pd.DataFrame(data=results_balanced_split)\n",
        "df_stats = df_stats.set_index('epoch')\n",
        "df_stats"
      ],
      "execution_count": 54,
      "outputs": [
        {
          "output_type": "execute_result",
          "data": {
            "text/html": [
              "<div>\n",
              "<style scoped>\n",
              "    .dataframe tbody tr th:only-of-type {\n",
              "        vertical-align: middle;\n",
              "    }\n",
              "\n",
              "    .dataframe tbody tr th {\n",
              "        vertical-align: top;\n",
              "    }\n",
              "\n",
              "    .dataframe thead th {\n",
              "        text-align: right;\n",
              "    }\n",
              "</style>\n",
              "<table border=\"1\" class=\"dataframe\">\n",
              "  <thead>\n",
              "    <tr style=\"text-align: right;\">\n",
              "      <th></th>\n",
              "      <th>Training Loss</th>\n",
              "      <th>Valid. Loss</th>\n",
              "      <th>Valid. Accur.</th>\n",
              "      <th>Valid F1 avg</th>\n",
              "    </tr>\n",
              "    <tr>\n",
              "      <th>epoch</th>\n",
              "      <th></th>\n",
              "      <th></th>\n",
              "      <th></th>\n",
              "      <th></th>\n",
              "    </tr>\n",
              "  </thead>\n",
              "  <tbody>\n",
              "    <tr>\n",
              "      <th>1</th>\n",
              "      <td>0.596510</td>\n",
              "      <td>0.490744</td>\n",
              "      <td>0.769531</td>\n",
              "      <td>0.778711</td>\n",
              "    </tr>\n",
              "    <tr>\n",
              "      <th>2</th>\n",
              "      <td>0.366554</td>\n",
              "      <td>0.448279</td>\n",
              "      <td>0.810547</td>\n",
              "      <td>0.797332</td>\n",
              "    </tr>\n",
              "    <tr>\n",
              "      <th>3</th>\n",
              "      <td>0.235123</td>\n",
              "      <td>0.435214</td>\n",
              "      <td>0.841797</td>\n",
              "      <td>0.830953</td>\n",
              "    </tr>\n",
              "    <tr>\n",
              "      <th>4</th>\n",
              "      <td>0.138060</td>\n",
              "      <td>0.476634</td>\n",
              "      <td>0.847656</td>\n",
              "      <td>0.826127</td>\n",
              "    </tr>\n",
              "  </tbody>\n",
              "</table>\n",
              "</div>"
            ],
            "text/plain": [
              "       Training Loss  Valid. Loss  Valid. Accur.  Valid F1 avg\n",
              "epoch                                                         \n",
              "1           0.596510     0.490744       0.769531      0.778711\n",
              "2           0.366554     0.448279       0.810547      0.797332\n",
              "3           0.235123     0.435214       0.841797      0.830953\n",
              "4           0.138060     0.476634       0.847656      0.826127"
            ]
          },
          "metadata": {
            "tags": []
          },
          "execution_count": 54
        }
      ]
    },
    {
      "cell_type": "markdown",
      "metadata": {
        "id": "aLxa4te3gzi-",
        "colab_type": "text"
      },
      "source": [
        "Analyse"
      ]
    },
    {
      "cell_type": "markdown",
      "metadata": {
        "id": "kKXUkXjfg0s2",
        "colab_type": "text"
      },
      "source": [
        "#### Saving the model ?"
      ]
    },
    {
      "cell_type": "code",
      "metadata": {
        "id": "R1LLOEa3g2wL",
        "colab_type": "code",
        "colab": {}
      },
      "source": [
        "\n"
      ],
      "execution_count": 0,
      "outputs": []
    },
    {
      "cell_type": "markdown",
      "metadata": {
        "id": "60t946KwdjJh",
        "colab_type": "text"
      },
      "source": [
        "## Evaluation and qualitative analysis "
      ]
    },
    {
      "cell_type": "markdown",
      "metadata": {
        "id": "be83uYVShfmX",
        "colab_type": "text"
      },
      "source": [
        "We train the model just as before with the attributes and samples we have chosen. In order to increase as much as possible the performance of the model we decide to train on both train and test data in this case. We will keep our development sample in order to make our qualitative analysis. "
      ]
    },
    {
      "cell_type": "code",
      "metadata": {
        "colab_type": "code",
        "id": "hnTt0wJAAruu",
        "colab": {
          "base_uri": "https://localhost:8080/",
          "height": 102
        },
        "outputId": "f31be079-203a-401e-9550-ba9b75f3b11f"
      },
      "source": [
        "df_balanced_split, dev_balanced_split = balanced_splitted(df,seed_val,frac_val=1)\n",
        "print('Size of the development sample is {}'.format(len(dev_balanced_split)))"
      ],
      "execution_count": 83,
      "outputs": [
        {
          "output_type": "stream",
          "text": [
            "Number of text in this balanced splitted corpus : 12,641\n",
            "\n",
            "Proportions of women in the balanced splitted corpus : 51.41998259631359\n",
            "\n",
            "Size of the development sample is 253\n"
          ],
          "name": "stdout"
        }
      ]
    },
    {
      "cell_type": "code",
      "metadata": {
        "id": "GFNQB5W_DJg0",
        "colab_type": "code",
        "colab": {}
      },
      "source": [
        "def prepare_to_feed_train(df,length,batch_size_value):\n",
        "  from torch.utils.data import TensorDataset, random_split\n",
        "  from torch.utils.data import DataLoader, RandomSampler, SequentialSampler\n",
        "\n",
        "  texts = df.Texte.values\n",
        "  labels = df.sexe.values\n",
        "\n",
        "  # Tokenize all of the sentences and map the tokens to thier word IDs.\n",
        "  input_ids = []\n",
        "  attention_masks = []\n",
        "  num_truncated_tokens =[]\n",
        "  # Apply function to our corpus\n",
        "  for text in texts:\n",
        "      encoded_dict = tokenizer.encode_plus(\n",
        "                          text,                      # text\n",
        "                          add_special_tokens = True, # Add '[CLS]' and '[SEP]'\n",
        "                          max_length = length,           # We choose for now a max length of 500.\n",
        "                          pad_to_max_length = True,    # Pad text to max (marche pas en pad left ?)\n",
        "                          return_attention_mask = True,   # Construct attention masks\n",
        "                          return_tensors = 'pt',     # Return pytorch tensors.\n",
        "                          return_overflowing_tokens =True, # return overflowing token information\n",
        "                    )\n",
        "      \n",
        "      # Map tokens to their id in the dictionnary \n",
        "      # We add this to our list    \n",
        "      input_ids.append(encoded_dict['input_ids'])\n",
        "  \n",
        "      #num_truncated_tokens.append(encoded_dict['num_truncated_tokens'])\n",
        "      \n",
        "      # 3. Attention masks\n",
        "      attention_masks.append(encoded_dict['attention_mask'])\n",
        "\n",
        "  # We convert all this into tensors in order to be able to make it work on GPU \n",
        "  input_ids = torch.cat(input_ids, dim=0)\n",
        "  attention_masks = torch.cat(attention_masks, dim=0)\n",
        "  labels = torch.tensor(labels)\n",
        "\n",
        "  # Original text and transformed tensor print \n",
        "  print(\"Let's check for the first text indexes, attention masks and labels\")\n",
        "  print(\" \")\n",
        "  print('Original: ', texts[0][0:100])\n",
        "  print('IDs:', input_ids[0][0:100])\n",
        "  print('Attention masks:', attention_masks[0][0:100])\n",
        "  print('labels',labels[0])\n",
        "\n",
        "\n",
        "  # Combine all above\n",
        "  dataset = TensorDataset(input_ids, attention_masks, labels)\n",
        "\n",
        "  # We set the size of the batch ( usually set around 16 or 32), we will take the lower bound because of the large text length\n",
        "  batch_size = batch_size_value\n",
        "\n",
        "  # We create data loaders for the train and validation dataset. \n",
        "  train_dataloader = DataLoader(\n",
        "              dataset,  # The training samples.\n",
        "              sampler = RandomSampler(dataset), # Select batches randomly\n",
        "              batch_size = batch_size # Trains with this batch size.\n",
        "          )\n",
        "  \n",
        "  print('Data loaders created for train [0]')\n",
        "\n",
        "  return train_dataloader"
      ],
      "execution_count": 0,
      "outputs": []
    },
    {
      "cell_type": "code",
      "metadata": {
        "id": "l9tLM3cTDeQz",
        "colab_type": "code",
        "colab": {
          "base_uri": "https://localhost:8080/",
          "height": 357
        },
        "outputId": "cc3008f6-e246-476f-b567-4c06dd8197ea"
      },
      "source": [
        "train_loader_balanced_split= prepare_to_feed_train(df_balanced_split,length=500,batch_size_value=16)"
      ],
      "execution_count": 88,
      "outputs": [
        {
          "output_type": "stream",
          "text": [
            "Let's check for the first text indexes, attention masks and labels\n",
            " \n",
            "Original:   malades et vulnérables ainsi que sur leur entourage.? Pour sortir les aidants d'un isolement souven\n",
            "IDs: tensor([    5,  6638,    14, 16986,   163,    27,    32,    97,  7865,     9,\n",
            "          197,   123,  1077,    19, 12596,    10,    18,    11,    59,    21,\n",
            "        13571,   355, 28210,   172,    14, 11253,   237,  9723,  1003,  1596,\n",
            "           45,  8982,    34,   446,    15,    23,    18, 12573, 18667,    65,\n",
            "          109,  3842,    35,   200,   194,    13,   426,     8,  1427,     9,\n",
            "          197,   100,   161, 18716,     8,    44,    82,  4198,    15,    75,\n",
            "         2957,    18,    11,   236,  6887,   108,    28,   553,    20, 12596,\n",
            "           10,     7,  2652,  1128,  3901,    15,   334,  3774,    14,    15,\n",
            "        10886,    17,    11,   974,  4946,    20,  3201,     8,  2016,     8,\n",
            "          242,    31,    48,   570, 12137,   326,    36,  1302,    24,    16])\n",
            "Attention masks: tensor([1, 1, 1, 1, 1, 1, 1, 1, 1, 1, 1, 1, 1, 1, 1, 1, 1, 1, 1, 1, 1, 1, 1, 1,\n",
            "        1, 1, 1, 1, 1, 1, 1, 1, 1, 1, 1, 1, 1, 1, 1, 1, 1, 1, 1, 1, 1, 1, 1, 1,\n",
            "        1, 1, 1, 1, 1, 1, 1, 1, 1, 1, 1, 1, 1, 1, 1, 1, 1, 1, 1, 1, 1, 1, 1, 1,\n",
            "        1, 1, 1, 1, 1, 1, 1, 1, 1, 1, 1, 1, 1, 1, 1, 1, 1, 1, 1, 1, 1, 1, 1, 1,\n",
            "        1, 1, 1, 1])\n",
            "labels tensor(1)\n",
            "Data loaders created for train [0]\n"
          ],
          "name": "stdout"
        }
      ]
    },
    {
      "cell_type": "code",
      "metadata": {
        "id": "YY9uXaDehe5v",
        "colab_type": "code",
        "colab": {
          "base_uri": "https://localhost:8080/",
          "height": 170
        },
        "outputId": "cdc381ab-ea50-4620-fd7f-f12e2cd8185c"
      },
      "source": [
        "############################  IMPORT MODEL ################################################\n",
        "gender_model = CamembertForSequenceClassification.from_pretrained(\n",
        "\"camembert-base\", \n",
        "num_labels = 2, # We have two different labels Women = 1 and Men =0   \n",
        "output_attentions = False, \n",
        "output_hidden_states = False, )\n",
        "\n",
        "gender_model.cuda()\n",
        "\n",
        "############################## RANDOM SEED ##################################################\n",
        "\n",
        "import random\n",
        "# Let's put a seed to make this result reproducible \n",
        "seed=2020\n",
        "random.seed(seed)\n",
        "np.random.seed(seed)\n",
        "torch.manual_seed(seed)\n",
        "torch.cuda.manual_seed_all(seed)\n",
        "\n",
        "############################### LEARNING RATE SCHEDULER #######################################\n",
        "\n",
        "# https://huggingface.co/transformers/migration.html \n",
        "# https://pytorch.org/docs/stable/optim.html (default values)\n",
        "\n",
        "import torch.nn as nn\n",
        "import torch.optim as optim\n",
        "from transformers import AdamW\n",
        "from transformers import get_linear_schedule_with_warmup\n",
        "\n",
        "epochs = 3  # In order to fine tune our model we will first set the number of epochs to 4.\n",
        "\n",
        "# We choose Binary cross enthropy with logits loss for the loss computation. It seems to be the most adapted loss to our problem. \n",
        "criterion = nn.BCEWithLogitsLoss()\n",
        "#Implements Adam algorithm with weight decay fix.\n",
        "opti = AdamW(gender_model.parameters(),\n",
        "                lr =5e-5, # learning rate (default = 1e-3)\n",
        "                eps = 1e-8 # prevents division by 0 (default = 1e-8)\n",
        "              )\n",
        "\n",
        "num_training_steps = len(train_loader_balanced_split) * epochs\n",
        "# Create a schedule with a learning rate that decreases linearly after linearly increasing during a warmup period (0 here)\n",
        "scheduler = get_linear_schedule_with_warmup(opti, \n",
        "                                          num_warmup_steps = 0,\n",
        "                                          num_training_steps = num_training_steps)\n",
        "\n",
        "\n",
        "# We want to evaluate the training phase \n",
        "training_stats = []\n",
        "\n",
        "for ep in range(0, epochs):\n",
        "  print('===========Starting Epoch {} / {} =============='.format(ep+1,epochs))\n",
        "  print('Training starts')\n",
        "\n",
        "  ################################### TRAINING ################################\n",
        "\n",
        "  #Put the model in training mode\n",
        "  gender_model.train()\n",
        "\n",
        "  # Set the train loss for the epoch to 0 \n",
        "  total_train_loss = 0\n",
        "\n",
        "  for step, batch in enumerate(train_loader_balanced_split):\n",
        "    # Clear gradients \n",
        "    gender_model.zero_grad() # (opti.zerograd ? )\n",
        "\n",
        "    # Cpy the 3 batch to GPU \n",
        "    b_input_ids = batch[0].to(device)\n",
        "    b_input_mask = batch[1].to(device)\n",
        "    b_labels = batch[2].to(device)\n",
        "    \n",
        "    #return loss and logits\n",
        "    loss, logits = gender_model(b_input_ids, \n",
        "                        token_type_ids=None, \n",
        "                        attention_mask=b_input_mask, \n",
        "                        labels=b_labels) \n",
        "    \n",
        "    # Accumulate training loss for all batches \n",
        "    total_train_loss += loss.item()\n",
        "\n",
        "    #Backpropagating the gradients \n",
        "    loss.backward()\n",
        "\n",
        "    # Prevent exploding gradients problem  (forcing the gradients to be small, the parameter updates will not push the parameters too far from their previous values)\n",
        "    torch.nn.utils.clip_grad_norm_(gender_model.parameters(), 1.0)\n",
        "\n",
        "    # Update parameters \n",
        "    opti.step()\n",
        "\n",
        "    # Update learning rate schedule\n",
        "    scheduler.step()\n",
        "\n",
        "#Calculate the average training loss over all batches  \n",
        "avg_train_loss = total_train_loss / len(train_loader_balanced_split)\n",
        "print(\"\")\n",
        "print(\"  Average training loss: {0:.2f}\".format(avg_train_loss))\n",
        "print('')\n",
        "\n",
        "training_stats.append(\n",
        "      {\n",
        "          'epoch': ep + 1,\n",
        "          'Training Loss': avg_train_loss,\n",
        "      }\n",
        "  )\n",
        "\n",
        "  "
      ],
      "execution_count": 91,
      "outputs": [
        {
          "output_type": "stream",
          "text": [
            "===========Starting Epoch 1 / 3 ==============\n",
            "Training starts\n",
            "===========Starting Epoch 2 / 3 ==============\n",
            "Training starts\n",
            "===========Starting Epoch 3 / 3 ==============\n",
            "Training starts\n",
            "\n",
            "  Average training loss: 0.20\n",
            "\n"
          ],
          "name": "stdout"
        }
      ]
    },
    {
      "cell_type": "markdown",
      "metadata": {
        "id": "7ZgwCV-VXUsp",
        "colab_type": "text"
      },
      "source": [
        ""
      ]
    },
    {
      "cell_type": "code",
      "metadata": {
        "id": "22UuylghdiGf",
        "colab_type": "code",
        "colab": {}
      },
      "source": [
        "word_to_ix = {}\n",
        "tag_to_ix = {}\n",
        "for sent, tag in training_data:\n",
        "    if tag not in tag_to_ix:\n",
        "        tag_to_ix[tag] = len(tag_to_ix)\n",
        "    for word in sent:\n",
        "        if word not in word_to_ix:\n",
        "            word_to_ix[word] = len(word_to_ix)\n",
        "print(tag_to_ix)"
      ],
      "execution_count": 0,
      "outputs": []
    }
  ]
}