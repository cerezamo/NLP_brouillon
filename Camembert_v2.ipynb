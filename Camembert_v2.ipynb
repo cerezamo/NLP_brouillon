{
  "nbformat": 4,
  "nbformat_minor": 0,
  "metadata": {
    "colab": {
      "name": "Camembert_v2.ipynb",
      "provenance": [],
      "toc_visible": true,
      "include_colab_link": true
    },
    "kernelspec": {
      "name": "python3",
      "display_name": "Python 3"
    },
    "accelerator": "GPU",
    "widgets": {
      "application/vnd.jupyter.widget-state+json": {
        "0e7f97c926de4f769bf27f3c9b87e206": {
          "model_module": "@jupyter-widgets/controls",
          "model_name": "HBoxModel",
          "state": {
            "_view_name": "HBoxView",
            "_dom_classes": [],
            "_model_name": "HBoxModel",
            "_view_module": "@jupyter-widgets/controls",
            "_model_module_version": "1.5.0",
            "_view_count": null,
            "_view_module_version": "1.5.0",
            "box_style": "",
            "layout": "IPY_MODEL_0f3af96fe7314c63ad09c388c35ed80f",
            "_model_module": "@jupyter-widgets/controls",
            "children": [
              "IPY_MODEL_0fe48ce5930c4d289ce1c01891a9e597",
              "IPY_MODEL_4a53f0a875974f1c8c234996367c536f"
            ]
          }
        },
        "0f3af96fe7314c63ad09c388c35ed80f": {
          "model_module": "@jupyter-widgets/base",
          "model_name": "LayoutModel",
          "state": {
            "_view_name": "LayoutView",
            "grid_template_rows": null,
            "right": null,
            "justify_content": null,
            "_view_module": "@jupyter-widgets/base",
            "overflow": null,
            "_model_module_version": "1.2.0",
            "_view_count": null,
            "flex_flow": null,
            "width": null,
            "min_width": null,
            "border": null,
            "align_items": null,
            "bottom": null,
            "_model_module": "@jupyter-widgets/base",
            "top": null,
            "grid_column": null,
            "overflow_y": null,
            "overflow_x": null,
            "grid_auto_flow": null,
            "grid_area": null,
            "grid_template_columns": null,
            "flex": null,
            "_model_name": "LayoutModel",
            "justify_items": null,
            "grid_row": null,
            "max_height": null,
            "align_content": null,
            "visibility": null,
            "align_self": null,
            "height": null,
            "min_height": null,
            "padding": null,
            "grid_auto_rows": null,
            "grid_gap": null,
            "max_width": null,
            "order": null,
            "_view_module_version": "1.2.0",
            "grid_template_areas": null,
            "object_position": null,
            "object_fit": null,
            "grid_auto_columns": null,
            "margin": null,
            "display": null,
            "left": null
          }
        },
        "0fe48ce5930c4d289ce1c01891a9e597": {
          "model_module": "@jupyter-widgets/controls",
          "model_name": "IntProgressModel",
          "state": {
            "_view_name": "ProgressView",
            "style": "IPY_MODEL_d0dda3b5c70e42dbbf5a1b6e3757394b",
            "_dom_classes": [],
            "description": "Downloading: 100%",
            "_model_name": "IntProgressModel",
            "bar_style": "success",
            "max": 810912,
            "_view_module": "@jupyter-widgets/controls",
            "_model_module_version": "1.5.0",
            "value": 810912,
            "_view_count": null,
            "_view_module_version": "1.5.0",
            "orientation": "horizontal",
            "min": 0,
            "description_tooltip": null,
            "_model_module": "@jupyter-widgets/controls",
            "layout": "IPY_MODEL_97e76396b21745798b016f93340aba8f"
          }
        },
        "4a53f0a875974f1c8c234996367c536f": {
          "model_module": "@jupyter-widgets/controls",
          "model_name": "HTMLModel",
          "state": {
            "_view_name": "HTMLView",
            "style": "IPY_MODEL_f06509bb5e0b4f868b40e4e226d188ff",
            "_dom_classes": [],
            "description": "",
            "_model_name": "HTMLModel",
            "placeholder": "​",
            "_view_module": "@jupyter-widgets/controls",
            "_model_module_version": "1.5.0",
            "value": " 811k/811k [00:20&lt;00:00, 39.0kB/s]",
            "_view_count": null,
            "_view_module_version": "1.5.0",
            "description_tooltip": null,
            "_model_module": "@jupyter-widgets/controls",
            "layout": "IPY_MODEL_37cfc3e77bd545d59008f03adf2ee806"
          }
        },
        "d0dda3b5c70e42dbbf5a1b6e3757394b": {
          "model_module": "@jupyter-widgets/controls",
          "model_name": "ProgressStyleModel",
          "state": {
            "_view_name": "StyleView",
            "_model_name": "ProgressStyleModel",
            "description_width": "initial",
            "_view_module": "@jupyter-widgets/base",
            "_model_module_version": "1.5.0",
            "_view_count": null,
            "_view_module_version": "1.2.0",
            "bar_color": null,
            "_model_module": "@jupyter-widgets/controls"
          }
        },
        "97e76396b21745798b016f93340aba8f": {
          "model_module": "@jupyter-widgets/base",
          "model_name": "LayoutModel",
          "state": {
            "_view_name": "LayoutView",
            "grid_template_rows": null,
            "right": null,
            "justify_content": null,
            "_view_module": "@jupyter-widgets/base",
            "overflow": null,
            "_model_module_version": "1.2.0",
            "_view_count": null,
            "flex_flow": null,
            "width": null,
            "min_width": null,
            "border": null,
            "align_items": null,
            "bottom": null,
            "_model_module": "@jupyter-widgets/base",
            "top": null,
            "grid_column": null,
            "overflow_y": null,
            "overflow_x": null,
            "grid_auto_flow": null,
            "grid_area": null,
            "grid_template_columns": null,
            "flex": null,
            "_model_name": "LayoutModel",
            "justify_items": null,
            "grid_row": null,
            "max_height": null,
            "align_content": null,
            "visibility": null,
            "align_self": null,
            "height": null,
            "min_height": null,
            "padding": null,
            "grid_auto_rows": null,
            "grid_gap": null,
            "max_width": null,
            "order": null,
            "_view_module_version": "1.2.0",
            "grid_template_areas": null,
            "object_position": null,
            "object_fit": null,
            "grid_auto_columns": null,
            "margin": null,
            "display": null,
            "left": null
          }
        },
        "f06509bb5e0b4f868b40e4e226d188ff": {
          "model_module": "@jupyter-widgets/controls",
          "model_name": "DescriptionStyleModel",
          "state": {
            "_view_name": "StyleView",
            "_model_name": "DescriptionStyleModel",
            "description_width": "",
            "_view_module": "@jupyter-widgets/base",
            "_model_module_version": "1.5.0",
            "_view_count": null,
            "_view_module_version": "1.2.0",
            "_model_module": "@jupyter-widgets/controls"
          }
        },
        "37cfc3e77bd545d59008f03adf2ee806": {
          "model_module": "@jupyter-widgets/base",
          "model_name": "LayoutModel",
          "state": {
            "_view_name": "LayoutView",
            "grid_template_rows": null,
            "right": null,
            "justify_content": null,
            "_view_module": "@jupyter-widgets/base",
            "overflow": null,
            "_model_module_version": "1.2.0",
            "_view_count": null,
            "flex_flow": null,
            "width": null,
            "min_width": null,
            "border": null,
            "align_items": null,
            "bottom": null,
            "_model_module": "@jupyter-widgets/base",
            "top": null,
            "grid_column": null,
            "overflow_y": null,
            "overflow_x": null,
            "grid_auto_flow": null,
            "grid_area": null,
            "grid_template_columns": null,
            "flex": null,
            "_model_name": "LayoutModel",
            "justify_items": null,
            "grid_row": null,
            "max_height": null,
            "align_content": null,
            "visibility": null,
            "align_self": null,
            "height": null,
            "min_height": null,
            "padding": null,
            "grid_auto_rows": null,
            "grid_gap": null,
            "max_width": null,
            "order": null,
            "_view_module_version": "1.2.0",
            "grid_template_areas": null,
            "object_position": null,
            "object_fit": null,
            "grid_auto_columns": null,
            "margin": null,
            "display": null,
            "left": null
          }
        },
        "8bb6a0e52c2047198f8a4d9c3ae19eb8": {
          "model_module": "@jupyter-widgets/controls",
          "model_name": "HBoxModel",
          "state": {
            "_view_name": "HBoxView",
            "_dom_classes": [],
            "_model_name": "HBoxModel",
            "_view_module": "@jupyter-widgets/controls",
            "_model_module_version": "1.5.0",
            "_view_count": null,
            "_view_module_version": "1.5.0",
            "box_style": "",
            "layout": "IPY_MODEL_30841884dddf4ed7ad275a953866e63e",
            "_model_module": "@jupyter-widgets/controls",
            "children": [
              "IPY_MODEL_600a4746d2b9467c97aae99648b2d9e1",
              "IPY_MODEL_e5f293761ebe4debad834b195e3b6009"
            ]
          }
        },
        "30841884dddf4ed7ad275a953866e63e": {
          "model_module": "@jupyter-widgets/base",
          "model_name": "LayoutModel",
          "state": {
            "_view_name": "LayoutView",
            "grid_template_rows": null,
            "right": null,
            "justify_content": null,
            "_view_module": "@jupyter-widgets/base",
            "overflow": null,
            "_model_module_version": "1.2.0",
            "_view_count": null,
            "flex_flow": null,
            "width": null,
            "min_width": null,
            "border": null,
            "align_items": null,
            "bottom": null,
            "_model_module": "@jupyter-widgets/base",
            "top": null,
            "grid_column": null,
            "overflow_y": null,
            "overflow_x": null,
            "grid_auto_flow": null,
            "grid_area": null,
            "grid_template_columns": null,
            "flex": null,
            "_model_name": "LayoutModel",
            "justify_items": null,
            "grid_row": null,
            "max_height": null,
            "align_content": null,
            "visibility": null,
            "align_self": null,
            "height": null,
            "min_height": null,
            "padding": null,
            "grid_auto_rows": null,
            "grid_gap": null,
            "max_width": null,
            "order": null,
            "_view_module_version": "1.2.0",
            "grid_template_areas": null,
            "object_position": null,
            "object_fit": null,
            "grid_auto_columns": null,
            "margin": null,
            "display": null,
            "left": null
          }
        },
        "600a4746d2b9467c97aae99648b2d9e1": {
          "model_module": "@jupyter-widgets/controls",
          "model_name": "IntProgressModel",
          "state": {
            "_view_name": "ProgressView",
            "style": "IPY_MODEL_1b6772a63d7c484bbd5237c9872cb494",
            "_dom_classes": [],
            "description": "Downloading: 100%",
            "_model_name": "IntProgressModel",
            "bar_style": "success",
            "max": 637,
            "_view_module": "@jupyter-widgets/controls",
            "_model_module_version": "1.5.0",
            "value": 637,
            "_view_count": null,
            "_view_module_version": "1.5.0",
            "orientation": "horizontal",
            "min": 0,
            "description_tooltip": null,
            "_model_module": "@jupyter-widgets/controls",
            "layout": "IPY_MODEL_d45421d926e842439e58771b52550e3c"
          }
        },
        "e5f293761ebe4debad834b195e3b6009": {
          "model_module": "@jupyter-widgets/controls",
          "model_name": "HTMLModel",
          "state": {
            "_view_name": "HTMLView",
            "style": "IPY_MODEL_acabceebaa5d46bf8cf03da75107843f",
            "_dom_classes": [],
            "description": "",
            "_model_name": "HTMLModel",
            "placeholder": "​",
            "_view_module": "@jupyter-widgets/controls",
            "_model_module_version": "1.5.0",
            "value": " 637/637 [00:00&lt;00:00, 2.01kB/s]",
            "_view_count": null,
            "_view_module_version": "1.5.0",
            "description_tooltip": null,
            "_model_module": "@jupyter-widgets/controls",
            "layout": "IPY_MODEL_08c2103c9b6947528e3124c4b27e9799"
          }
        },
        "1b6772a63d7c484bbd5237c9872cb494": {
          "model_module": "@jupyter-widgets/controls",
          "model_name": "ProgressStyleModel",
          "state": {
            "_view_name": "StyleView",
            "_model_name": "ProgressStyleModel",
            "description_width": "initial",
            "_view_module": "@jupyter-widgets/base",
            "_model_module_version": "1.5.0",
            "_view_count": null,
            "_view_module_version": "1.2.0",
            "bar_color": null,
            "_model_module": "@jupyter-widgets/controls"
          }
        },
        "d45421d926e842439e58771b52550e3c": {
          "model_module": "@jupyter-widgets/base",
          "model_name": "LayoutModel",
          "state": {
            "_view_name": "LayoutView",
            "grid_template_rows": null,
            "right": null,
            "justify_content": null,
            "_view_module": "@jupyter-widgets/base",
            "overflow": null,
            "_model_module_version": "1.2.0",
            "_view_count": null,
            "flex_flow": null,
            "width": null,
            "min_width": null,
            "border": null,
            "align_items": null,
            "bottom": null,
            "_model_module": "@jupyter-widgets/base",
            "top": null,
            "grid_column": null,
            "overflow_y": null,
            "overflow_x": null,
            "grid_auto_flow": null,
            "grid_area": null,
            "grid_template_columns": null,
            "flex": null,
            "_model_name": "LayoutModel",
            "justify_items": null,
            "grid_row": null,
            "max_height": null,
            "align_content": null,
            "visibility": null,
            "align_self": null,
            "height": null,
            "min_height": null,
            "padding": null,
            "grid_auto_rows": null,
            "grid_gap": null,
            "max_width": null,
            "order": null,
            "_view_module_version": "1.2.0",
            "grid_template_areas": null,
            "object_position": null,
            "object_fit": null,
            "grid_auto_columns": null,
            "margin": null,
            "display": null,
            "left": null
          }
        },
        "acabceebaa5d46bf8cf03da75107843f": {
          "model_module": "@jupyter-widgets/controls",
          "model_name": "DescriptionStyleModel",
          "state": {
            "_view_name": "StyleView",
            "_model_name": "DescriptionStyleModel",
            "description_width": "",
            "_view_module": "@jupyter-widgets/base",
            "_model_module_version": "1.5.0",
            "_view_count": null,
            "_view_module_version": "1.2.0",
            "_model_module": "@jupyter-widgets/controls"
          }
        },
        "08c2103c9b6947528e3124c4b27e9799": {
          "model_module": "@jupyter-widgets/base",
          "model_name": "LayoutModel",
          "state": {
            "_view_name": "LayoutView",
            "grid_template_rows": null,
            "right": null,
            "justify_content": null,
            "_view_module": "@jupyter-widgets/base",
            "overflow": null,
            "_model_module_version": "1.2.0",
            "_view_count": null,
            "flex_flow": null,
            "width": null,
            "min_width": null,
            "border": null,
            "align_items": null,
            "bottom": null,
            "_model_module": "@jupyter-widgets/base",
            "top": null,
            "grid_column": null,
            "overflow_y": null,
            "overflow_x": null,
            "grid_auto_flow": null,
            "grid_area": null,
            "grid_template_columns": null,
            "flex": null,
            "_model_name": "LayoutModel",
            "justify_items": null,
            "grid_row": null,
            "max_height": null,
            "align_content": null,
            "visibility": null,
            "align_self": null,
            "height": null,
            "min_height": null,
            "padding": null,
            "grid_auto_rows": null,
            "grid_gap": null,
            "max_width": null,
            "order": null,
            "_view_module_version": "1.2.0",
            "grid_template_areas": null,
            "object_position": null,
            "object_fit": null,
            "grid_auto_columns": null,
            "margin": null,
            "display": null,
            "left": null
          }
        },
        "522d1ae97de14f7cbe919a183b4ccdb0": {
          "model_module": "@jupyter-widgets/controls",
          "model_name": "HBoxModel",
          "state": {
            "_view_name": "HBoxView",
            "_dom_classes": [],
            "_model_name": "HBoxModel",
            "_view_module": "@jupyter-widgets/controls",
            "_model_module_version": "1.5.0",
            "_view_count": null,
            "_view_module_version": "1.5.0",
            "box_style": "",
            "layout": "IPY_MODEL_7a75f027dfbf40d3b563d58a757f5d0f",
            "_model_module": "@jupyter-widgets/controls",
            "children": [
              "IPY_MODEL_b8734ceb7db24503bf0d99a08f3a35af",
              "IPY_MODEL_10ed4e33740c4aa78f2f17f213986ee3"
            ]
          }
        },
        "7a75f027dfbf40d3b563d58a757f5d0f": {
          "model_module": "@jupyter-widgets/base",
          "model_name": "LayoutModel",
          "state": {
            "_view_name": "LayoutView",
            "grid_template_rows": null,
            "right": null,
            "justify_content": null,
            "_view_module": "@jupyter-widgets/base",
            "overflow": null,
            "_model_module_version": "1.2.0",
            "_view_count": null,
            "flex_flow": null,
            "width": null,
            "min_width": null,
            "border": null,
            "align_items": null,
            "bottom": null,
            "_model_module": "@jupyter-widgets/base",
            "top": null,
            "grid_column": null,
            "overflow_y": null,
            "overflow_x": null,
            "grid_auto_flow": null,
            "grid_area": null,
            "grid_template_columns": null,
            "flex": null,
            "_model_name": "LayoutModel",
            "justify_items": null,
            "grid_row": null,
            "max_height": null,
            "align_content": null,
            "visibility": null,
            "align_self": null,
            "height": null,
            "min_height": null,
            "padding": null,
            "grid_auto_rows": null,
            "grid_gap": null,
            "max_width": null,
            "order": null,
            "_view_module_version": "1.2.0",
            "grid_template_areas": null,
            "object_position": null,
            "object_fit": null,
            "grid_auto_columns": null,
            "margin": null,
            "display": null,
            "left": null
          }
        },
        "b8734ceb7db24503bf0d99a08f3a35af": {
          "model_module": "@jupyter-widgets/controls",
          "model_name": "IntProgressModel",
          "state": {
            "_view_name": "ProgressView",
            "style": "IPY_MODEL_806516ece2ba41078b8dc7434c4b0b36",
            "_dom_classes": [],
            "description": "Downloading: 100%",
            "_model_name": "IntProgressModel",
            "bar_style": "success",
            "max": 445032417,
            "_view_module": "@jupyter-widgets/controls",
            "_model_module_version": "1.5.0",
            "value": 445032417,
            "_view_count": null,
            "_view_module_version": "1.5.0",
            "orientation": "horizontal",
            "min": 0,
            "description_tooltip": null,
            "_model_module": "@jupyter-widgets/controls",
            "layout": "IPY_MODEL_a312e2a5d9124caa8311cf140640701c"
          }
        },
        "10ed4e33740c4aa78f2f17f213986ee3": {
          "model_module": "@jupyter-widgets/controls",
          "model_name": "HTMLModel",
          "state": {
            "_view_name": "HTMLView",
            "style": "IPY_MODEL_6e592c8ebb864ff6bcfd4273b18468bf",
            "_dom_classes": [],
            "description": "",
            "_model_name": "HTMLModel",
            "placeholder": "​",
            "_view_module": "@jupyter-widgets/controls",
            "_model_module_version": "1.5.0",
            "value": " 445M/445M [00:11&lt;00:00, 40.0MB/s]",
            "_view_count": null,
            "_view_module_version": "1.5.0",
            "description_tooltip": null,
            "_model_module": "@jupyter-widgets/controls",
            "layout": "IPY_MODEL_46e3157fa8fc4157b504b33d7b8441bc"
          }
        },
        "806516ece2ba41078b8dc7434c4b0b36": {
          "model_module": "@jupyter-widgets/controls",
          "model_name": "ProgressStyleModel",
          "state": {
            "_view_name": "StyleView",
            "_model_name": "ProgressStyleModel",
            "description_width": "initial",
            "_view_module": "@jupyter-widgets/base",
            "_model_module_version": "1.5.0",
            "_view_count": null,
            "_view_module_version": "1.2.0",
            "bar_color": null,
            "_model_module": "@jupyter-widgets/controls"
          }
        },
        "a312e2a5d9124caa8311cf140640701c": {
          "model_module": "@jupyter-widgets/base",
          "model_name": "LayoutModel",
          "state": {
            "_view_name": "LayoutView",
            "grid_template_rows": null,
            "right": null,
            "justify_content": null,
            "_view_module": "@jupyter-widgets/base",
            "overflow": null,
            "_model_module_version": "1.2.0",
            "_view_count": null,
            "flex_flow": null,
            "width": null,
            "min_width": null,
            "border": null,
            "align_items": null,
            "bottom": null,
            "_model_module": "@jupyter-widgets/base",
            "top": null,
            "grid_column": null,
            "overflow_y": null,
            "overflow_x": null,
            "grid_auto_flow": null,
            "grid_area": null,
            "grid_template_columns": null,
            "flex": null,
            "_model_name": "LayoutModel",
            "justify_items": null,
            "grid_row": null,
            "max_height": null,
            "align_content": null,
            "visibility": null,
            "align_self": null,
            "height": null,
            "min_height": null,
            "padding": null,
            "grid_auto_rows": null,
            "grid_gap": null,
            "max_width": null,
            "order": null,
            "_view_module_version": "1.2.0",
            "grid_template_areas": null,
            "object_position": null,
            "object_fit": null,
            "grid_auto_columns": null,
            "margin": null,
            "display": null,
            "left": null
          }
        },
        "6e592c8ebb864ff6bcfd4273b18468bf": {
          "model_module": "@jupyter-widgets/controls",
          "model_name": "DescriptionStyleModel",
          "state": {
            "_view_name": "StyleView",
            "_model_name": "DescriptionStyleModel",
            "description_width": "",
            "_view_module": "@jupyter-widgets/base",
            "_model_module_version": "1.5.0",
            "_view_count": null,
            "_view_module_version": "1.2.0",
            "_model_module": "@jupyter-widgets/controls"
          }
        },
        "46e3157fa8fc4157b504b33d7b8441bc": {
          "model_module": "@jupyter-widgets/base",
          "model_name": "LayoutModel",
          "state": {
            "_view_name": "LayoutView",
            "grid_template_rows": null,
            "right": null,
            "justify_content": null,
            "_view_module": "@jupyter-widgets/base",
            "overflow": null,
            "_model_module_version": "1.2.0",
            "_view_count": null,
            "flex_flow": null,
            "width": null,
            "min_width": null,
            "border": null,
            "align_items": null,
            "bottom": null,
            "_model_module": "@jupyter-widgets/base",
            "top": null,
            "grid_column": null,
            "overflow_y": null,
            "overflow_x": null,
            "grid_auto_flow": null,
            "grid_area": null,
            "grid_template_columns": null,
            "flex": null,
            "_model_name": "LayoutModel",
            "justify_items": null,
            "grid_row": null,
            "max_height": null,
            "align_content": null,
            "visibility": null,
            "align_self": null,
            "height": null,
            "min_height": null,
            "padding": null,
            "grid_auto_rows": null,
            "grid_gap": null,
            "max_width": null,
            "order": null,
            "_view_module_version": "1.2.0",
            "grid_template_areas": null,
            "object_position": null,
            "object_fit": null,
            "grid_auto_columns": null,
            "margin": null,
            "display": null,
            "left": null
          }
        }
      }
    }
  },
  "cells": [
    {
      "cell_type": "markdown",
      "metadata": {
        "id": "view-in-github",
        "colab_type": "text"
      },
      "source": [
        "<a href=\"https://colab.research.google.com/github/cerezamo/NLP_brouillon/blob/master/Camembert_v2.ipynb\" target=\"_parent\"><img src=\"https://colab.research.google.com/assets/colab-badge.svg\" alt=\"Open In Colab\"/></a>"
      ]
    },
    {
      "cell_type": "markdown",
      "metadata": {
        "id": "kcxLW3uyHTSN",
        "colab_type": "text"
      },
      "source": [
        "# CamemBERT classification model \n"
      ]
    },
    {
      "cell_type": "markdown",
      "metadata": {
        "id": "8bxA1IEgH-GI",
        "colab_type": "text"
      },
      "source": [
        "## Set up colab GPU and installing main packages"
      ]
    },
    {
      "cell_type": "code",
      "metadata": {
        "id": "H1JD-Tb0HdvN",
        "colab_type": "code",
        "colab": {}
      },
      "source": [
        "# If you have the documents in your drive already otherwise just drag 'medium_df_desequ.csv' and 'funct.py' in the file section\n",
        "import os \n",
        "os.getcwd()\n",
        "from google.colab import drive \n",
        "drive.mount('/content/gdrive')"
      ],
      "execution_count": 0,
      "outputs": []
    },
    {
      "cell_type": "code",
      "metadata": {
        "id": "2mF6Hs6yH2A5",
        "colab_type": "code",
        "outputId": "de33dc4a-cef2-4a93-829d-ae31bcb22457",
        "colab": {
          "base_uri": "https://localhost:8080/",
          "height": 34
        }
      },
      "source": [
        "# First you should go in 'Edit' -> 'Notebook settings' -> Add device GPU\n",
        "import tensorflow as tf\n",
        "\n",
        "# GPU device name.\n",
        "device_name = tf.test.gpu_device_name()\n",
        "device_name"
      ],
      "execution_count": 21,
      "outputs": [
        {
          "output_type": "execute_result",
          "data": {
            "text/plain": [
              "'/device:GPU:0'"
            ]
          },
          "metadata": {
            "tags": []
          },
          "execution_count": 21
        }
      ]
    },
    {
      "cell_type": "markdown",
      "metadata": {
        "id": "VZ_F6NV3IaCY",
        "colab_type": "text"
      },
      "source": [
        "We now can tell torch that one GPU is available "
      ]
    },
    {
      "cell_type": "code",
      "metadata": {
        "id": "wr4fjemjIVoQ",
        "colab_type": "code",
        "outputId": "687316d7-fd9f-4e86-b49f-4812cbf904c0",
        "colab": {
          "base_uri": "https://localhost:8080/",
          "height": 51
        }
      },
      "source": [
        "import torch\n",
        "\n",
        "if torch.cuda.is_available():    \n",
        "    device = torch.device(\"cuda\")\n",
        "    print('There are %d GPU(s) available.' % torch.cuda.device_count())\n",
        "    print('We will use the GPU:', torch.cuda.get_device_name(0))\n",
        "\n",
        "# If not...\n",
        "else:\n",
        "    print('No GPU available, using the CPU instead.')\n",
        "    device = torch.device(\"cpu\")"
      ],
      "execution_count": 22,
      "outputs": [
        {
          "output_type": "stream",
          "text": [
            "There are 1 GPU(s) available.\n",
            "We will use the GPU: Tesla T4\n"
          ],
          "name": "stdout"
        }
      ]
    },
    {
      "cell_type": "code",
      "metadata": {
        "id": "9B5YK1cADhjj",
        "colab_type": "code",
        "outputId": "0fa450a7-2bbf-4b42-f3b0-22e0ae2da4e3",
        "colab": {
          "base_uri": "https://localhost:8080/",
          "height": 289
        }
      },
      "source": [
        "!nvidia-smi"
      ],
      "execution_count": 23,
      "outputs": [
        {
          "output_type": "stream",
          "text": [
            "Mon Apr  6 19:22:55 2020       \n",
            "+-----------------------------------------------------------------------------+\n",
            "| NVIDIA-SMI 440.64.00    Driver Version: 418.67       CUDA Version: 10.1     |\n",
            "|-------------------------------+----------------------+----------------------+\n",
            "| GPU  Name        Persistence-M| Bus-Id        Disp.A | Volatile Uncorr. ECC |\n",
            "| Fan  Temp  Perf  Pwr:Usage/Cap|         Memory-Usage | GPU-Util  Compute M. |\n",
            "|===============================+======================+======================|\n",
            "|   0  Tesla T4            Off  | 00000000:00:04.0 Off |                    0 |\n",
            "| N/A   65C    P0    30W /  70W |    219MiB / 15079MiB |      0%      Default |\n",
            "+-------------------------------+----------------------+----------------------+\n",
            "                                                                               \n",
            "+-----------------------------------------------------------------------------+\n",
            "| Processes:                                                       GPU Memory |\n",
            "|  GPU       PID   Type   Process name                             Usage      |\n",
            "|=============================================================================|\n",
            "+-----------------------------------------------------------------------------+\n"
          ],
          "name": "stdout"
        }
      ]
    },
    {
      "cell_type": "markdown",
      "metadata": {
        "id": "9_7DO-oiCZ7f",
        "colab_type": "text"
      },
      "source": [
        "\n",
        "\n",
        "**Please check GPU capacity** that you were given. You might want to reduce the batch size further in the code.  Typically if you were given 8Go memory GPU (Tesla P4) you should set the batch size to 2 not more ! "
      ]
    },
    {
      "cell_type": "markdown",
      "metadata": {
        "id": "ZGwjFzizIsMI",
        "colab_type": "text"
      },
      "source": [
        "We now install the Hugging Face library transformers. You can find all the documentation of hugging face in their Github : https://github.com/huggingface/transformers  "
      ]
    },
    {
      "cell_type": "code",
      "metadata": {
        "id": "--g7cokfIrpT",
        "colab_type": "code",
        "outputId": "db0adceb-af43-4ba6-8cf0-d039148dfa29",
        "colab": {
          "base_uri": "https://localhost:8080/",
          "height": 663
        }
      },
      "source": [
        "! pip install transformers "
      ],
      "execution_count": 5,
      "outputs": [
        {
          "output_type": "stream",
          "text": [
            "Collecting transformers\n",
            "\u001b[?25l  Downloading https://files.pythonhosted.org/packages/a3/78/92cedda05552398352ed9784908b834ee32a0bd071a9b32de287327370b7/transformers-2.8.0-py3-none-any.whl (563kB)\n",
            "\u001b[K     |████████████████████████████████| 573kB 7.9MB/s \n",
            "\u001b[?25hRequirement already satisfied: boto3 in /usr/local/lib/python3.6/dist-packages (from transformers) (1.12.34)\n",
            "Requirement already satisfied: filelock in /usr/local/lib/python3.6/dist-packages (from transformers) (3.0.12)\n",
            "Requirement already satisfied: numpy in /usr/local/lib/python3.6/dist-packages (from transformers) (1.18.2)\n",
            "Requirement already satisfied: regex!=2019.12.17 in /usr/local/lib/python3.6/dist-packages (from transformers) (2019.12.20)\n",
            "Requirement already satisfied: requests in /usr/local/lib/python3.6/dist-packages (from transformers) (2.21.0)\n",
            "Collecting sentencepiece\n",
            "\u001b[?25l  Downloading https://files.pythonhosted.org/packages/74/f4/2d5214cbf13d06e7cb2c20d84115ca25b53ea76fa1f0ade0e3c9749de214/sentencepiece-0.1.85-cp36-cp36m-manylinux1_x86_64.whl (1.0MB)\n",
            "\u001b[K     |████████████████████████████████| 1.0MB 19.6MB/s \n",
            "\u001b[?25hCollecting tokenizers==0.5.2\n",
            "\u001b[?25l  Downloading https://files.pythonhosted.org/packages/d1/3f/73c881ea4723e43c1e9acf317cf407fab3a278daab3a69c98dcac511c04f/tokenizers-0.5.2-cp36-cp36m-manylinux1_x86_64.whl (3.7MB)\n",
            "\u001b[K     |████████████████████████████████| 3.7MB 48.4MB/s \n",
            "\u001b[?25hCollecting sacremoses\n",
            "\u001b[?25l  Downloading https://files.pythonhosted.org/packages/a6/b4/7a41d630547a4afd58143597d5a49e07bfd4c42914d8335b2a5657efc14b/sacremoses-0.0.38.tar.gz (860kB)\n",
            "\u001b[K     |████████████████████████████████| 870kB 53.3MB/s \n",
            "\u001b[?25hRequirement already satisfied: tqdm>=4.27 in /usr/local/lib/python3.6/dist-packages (from transformers) (4.38.0)\n",
            "Requirement already satisfied: dataclasses; python_version < \"3.7\" in /usr/local/lib/python3.6/dist-packages (from transformers) (0.7)\n",
            "Requirement already satisfied: botocore<1.16.0,>=1.15.34 in /usr/local/lib/python3.6/dist-packages (from boto3->transformers) (1.15.34)\n",
            "Requirement already satisfied: jmespath<1.0.0,>=0.7.1 in /usr/local/lib/python3.6/dist-packages (from boto3->transformers) (0.9.5)\n",
            "Requirement already satisfied: s3transfer<0.4.0,>=0.3.0 in /usr/local/lib/python3.6/dist-packages (from boto3->transformers) (0.3.3)\n",
            "Requirement already satisfied: chardet<3.1.0,>=3.0.2 in /usr/local/lib/python3.6/dist-packages (from requests->transformers) (3.0.4)\n",
            "Requirement already satisfied: idna<2.9,>=2.5 in /usr/local/lib/python3.6/dist-packages (from requests->transformers) (2.8)\n",
            "Requirement already satisfied: urllib3<1.25,>=1.21.1 in /usr/local/lib/python3.6/dist-packages (from requests->transformers) (1.24.3)\n",
            "Requirement already satisfied: certifi>=2017.4.17 in /usr/local/lib/python3.6/dist-packages (from requests->transformers) (2019.11.28)\n",
            "Requirement already satisfied: six in /usr/local/lib/python3.6/dist-packages (from sacremoses->transformers) (1.12.0)\n",
            "Requirement already satisfied: click in /usr/local/lib/python3.6/dist-packages (from sacremoses->transformers) (7.1.1)\n",
            "Requirement already satisfied: joblib in /usr/local/lib/python3.6/dist-packages (from sacremoses->transformers) (0.14.1)\n",
            "Requirement already satisfied: docutils<0.16,>=0.10 in /usr/local/lib/python3.6/dist-packages (from botocore<1.16.0,>=1.15.34->boto3->transformers) (0.15.2)\n",
            "Requirement already satisfied: python-dateutil<3.0.0,>=2.1 in /usr/local/lib/python3.6/dist-packages (from botocore<1.16.0,>=1.15.34->boto3->transformers) (2.8.1)\n",
            "Building wheels for collected packages: sacremoses\n",
            "  Building wheel for sacremoses (setup.py) ... \u001b[?25l\u001b[?25hdone\n",
            "  Created wheel for sacremoses: filename=sacremoses-0.0.38-cp36-none-any.whl size=884628 sha256=0919f67186f7e740625870383c277d05ddc4c9d8d5dfefc38806da8e37f01d36\n",
            "  Stored in directory: /root/.cache/pip/wheels/6d/ec/1a/21b8912e35e02741306f35f66c785f3afe94de754a0eaf1422\n",
            "Successfully built sacremoses\n",
            "Installing collected packages: sentencepiece, tokenizers, sacremoses, transformers\n",
            "Successfully installed sacremoses-0.0.38 sentencepiece-0.1.85 tokenizers-0.5.2 transformers-2.8.0\n"
          ],
          "name": "stdout"
        }
      ]
    },
    {
      "cell_type": "markdown",
      "metadata": {
        "id": "W4OKq8Z4JId9",
        "colab_type": "text"
      },
      "source": [
        "## Loading our corpus and preparing samples "
      ]
    },
    {
      "cell_type": "code",
      "metadata": {
        "id": "0aGxDbDU4_BQ",
        "colab_type": "code",
        "colab": {}
      },
      "source": [
        "# We keep the same seed value all along this notebook in order to be able to replicate the results \n",
        "seed_val = 42"
      ],
      "execution_count": 0,
      "outputs": []
    },
    {
      "cell_type": "code",
      "metadata": {
        "id": "aOCVLtje9_Rs",
        "colab_type": "code",
        "outputId": "b85c1948-2cc8-403f-d5f3-31666ddd8e7a",
        "colab": {
          "base_uri": "https://localhost:8080/",
          "height": 204
        }
      },
      "source": [
        "# Import medium_df_desq in \"files\" (on the left) this can take some time ! \n",
        "import pandas as pd\n",
        "import numpy as np\n",
        "\n",
        "# Load the dataset into a pandas dataframe.\n",
        "df=pd.read_csv('medium_df_deseq.csv',encoding='utf-8')\n",
        "\n",
        "# Shuffle the date\n",
        "df=df.sample(frac=1,random_state=seed_val).reset_index(drop=True)\n",
        "\n",
        "# Some of the speeches are interviews (wrongly classified in the website) we try to delete most of them  \n",
        "df=df[~df.Texte.str.startswith(\"Q-\")]\n",
        "df=df[~df.Texte.str.startswith(\"R-\")]\n",
        "df=df[df.Id!=169898] # FOr some reason a problem on this text occured for preprocessing\n",
        "\n",
        "# Normalization of the labels [0,1] instead of [1,2] (0 = men, 1 = women)\n",
        "df.sexe=df.sexe.replace(1,0)\n",
        "df.sexe=df.sexe.replace(2,1)\n",
        "\n",
        "# We keep only variables of interest \n",
        "df=df[['Id','Titre','Theme','Prenom','Nom','Date','Tags','Texte','sexe']]\n",
        "\n",
        "# For the cleaning part we will just remove urls, parenthesis and double spacing if any \n",
        "import re\n",
        "def cleaning_stuff(text):\n",
        "    text = re.sub(r\" \\(.*?\\)\", '', text, flags=re.MULTILINE)\n",
        "    text = re.sub(r'(https|http)?:\\/\\/(\\w|\\.|\\/|\\?|\\=|\\&|\\%)*\\b', '', text, flags=re.MULTILINE)\n",
        "    text = text.replace('(',' ')\n",
        "    text = text.replace(')',' ')\n",
        "    text = text.replace('.  ','. ')\n",
        "    text = text.replace('  ','')\n",
        "    text=text.replace(\" :'\",\"\") \n",
        "    text = text.strip()\n",
        "    text = text.replace(\"\\'\",\"'\")\n",
        "    return text \n",
        "\n",
        "df['Texte']=df.Texte.apply(cleaning_stuff)\n",
        "df=df[df.Texte!='']\n",
        "\n",
        "df = df[~df.Titre.str.startswith('Déclaration conjointe')]\n",
        "# This is a sample of our dataset\n",
        "df.head(5)"
      ],
      "execution_count": 8,
      "outputs": [
        {
          "output_type": "execute_result",
          "data": {
            "text/html": [
              "<div>\n",
              "<style scoped>\n",
              "    .dataframe tbody tr th:only-of-type {\n",
              "        vertical-align: middle;\n",
              "    }\n",
              "\n",
              "    .dataframe tbody tr th {\n",
              "        vertical-align: top;\n",
              "    }\n",
              "\n",
              "    .dataframe thead th {\n",
              "        text-align: right;\n",
              "    }\n",
              "</style>\n",
              "<table border=\"1\" class=\"dataframe\">\n",
              "  <thead>\n",
              "    <tr style=\"text-align: right;\">\n",
              "      <th></th>\n",
              "      <th>Id</th>\n",
              "      <th>Titre</th>\n",
              "      <th>Theme</th>\n",
              "      <th>Prenom</th>\n",
              "      <th>Nom</th>\n",
              "      <th>Date</th>\n",
              "      <th>Tags</th>\n",
              "      <th>Texte</th>\n",
              "      <th>sexe</th>\n",
              "    </tr>\n",
              "  </thead>\n",
              "  <tbody>\n",
              "    <tr>\n",
              "      <th>0</th>\n",
              "      <td>167276</td>\n",
              "      <td>Déclaration de M. François Fillon, Premier min...</td>\n",
              "      <td>International</td>\n",
              "      <td>François</td>\n",
              "      <td>Fillon</td>\n",
              "      <td>2007-07-13T12:00:00Z</td>\n",
              "      <td>Relations internationales,Relations bilatérale...</td>\n",
              "      <td>Monsieur le président du Conseil, Mesdames et ...</td>\n",
              "      <td>0</td>\n",
              "    </tr>\n",
              "    <tr>\n",
              "      <th>1</th>\n",
              "      <td>177180</td>\n",
              "      <td>Déclaration de M. François Fillon, Premier min...</td>\n",
              "      <td>NaN</td>\n",
              "      <td>François</td>\n",
              "      <td>Fillon</td>\n",
              "      <td>2009-11-12T12:00:00Z</td>\n",
              "      <td>NaN</td>\n",
              "      <td>Mesdames et Messieurs les Ministres,Mesdames e...</td>\n",
              "      <td>0</td>\n",
              "    </tr>\n",
              "    <tr>\n",
              "      <th>2</th>\n",
              "      <td>173356</td>\n",
              "      <td>Déclaration de M. François Fillon, Premier min...</td>\n",
              "      <td>Economie</td>\n",
              "      <td>François</td>\n",
              "      <td>Fillon</td>\n",
              "      <td>2008-12-09T12:00:00Z</td>\n",
              "      <td>Energie - Transports,Transport routier</td>\n",
              "      <td>Monsieur le Conseiller d'Etat de la République...</td>\n",
              "      <td>0</td>\n",
              "    </tr>\n",
              "    <tr>\n",
              "      <th>3</th>\n",
              "      <td>170644</td>\n",
              "      <td>Déclaration de M. Bernard Kouchner, ministre d...</td>\n",
              "      <td>Société</td>\n",
              "      <td>Bernard</td>\n",
              "      <td>Kouchner</td>\n",
              "      <td>2008-05-05T12:00:00Z</td>\n",
              "      <td>Culture - Médias,Presse</td>\n",
              "      <td>A l'occasion de la 18ème journée international...</td>\n",
              "      <td>0</td>\n",
              "    </tr>\n",
              "    <tr>\n",
              "      <th>4</th>\n",
              "      <td>131071</td>\n",
              "      <td>Déclaration de M. Nicolas Sarkozy, ministre de...</td>\n",
              "      <td>Société</td>\n",
              "      <td>Nicolas</td>\n",
              "      <td>Sarkozy</td>\n",
              "      <td>2002-06-25T12:00:00Z</td>\n",
              "      <td>Sécurité,Police</td>\n",
              "      <td>Mesdames et Messieurs les commissaires, Au ter...</td>\n",
              "      <td>0</td>\n",
              "    </tr>\n",
              "  </tbody>\n",
              "</table>\n",
              "</div>"
            ],
            "text/plain": [
              "       Id  ... sexe\n",
              "0  167276  ...    0\n",
              "1  177180  ...    0\n",
              "2  173356  ...    0\n",
              "3  170644  ...    0\n",
              "4  131071  ...    0\n",
              "\n",
              "[5 rows x 9 columns]"
            ]
          },
          "metadata": {
            "tags": []
          },
          "execution_count": 8
        }
      ]
    },
    {
      "cell_type": "code",
      "metadata": {
        "id": "jg5OpZdEGbbX",
        "colab_type": "code",
        "outputId": "bc563985-a61d-4158-9c57-26cdcd30bf82",
        "colab": {
          "base_uri": "https://localhost:8080/",
          "height": 54
        }
      },
      "source": [
        "print(df.Texte[200])"
      ],
      "execution_count": 0,
      "outputs": [
        {
          "output_type": "stream",
          "text": [
            "Monsieur le président, cher Bruno Favier,Mesdames, messieurs,A l'occasion de la récente Journée mondiale de la maladie de Parkinson, je me retrouve parmi vous aujourd'hui avec satisfaction mais aussi avec gravité.Les premiers Etats généraux des personnes touchées par la maladie de Parkinson ont permis la rédaction d'un Livre Blanc, à l'initiative de l'association France-Parkinson.A vous, son président, cher Bruno Favier - dont j'ai vu avec plaisir le nom figurer dans la promotion de Pâques de la Légion d'honneur -, ainsi qu'à toutes celles et tous ceux qui oeuvrent avec vous au service des malades et de leurs familles, je veux adresser mes plus vifs remerciements.Je connais le remarquable investissement dont vous faites preuve quotidiennement pour soutenir celles et ceux qui souffrent et changer le regard de chacun sur cette maladie mal connue.L'ouvrage que vous venez de me remettre est le fruit d'un important travail de concertation, qui a su fédérer les énergies et auquel ont pris part tous les acteurs concernés : l'association France Parkinson bien entendu, mais aussi l'association des Parkinsoniens de la Loire, le comité de coordination des associations de Parkinsoniens, la fédération française des groupements de Parkinsoniens, France Comté Parkinson et Parkinsonia.A toutes et à tous, je veux dire ma considération et mon estime.En effet, vous avez fait progresser durablement la réflexion sur un sujet de santé publique majeur, qui engage notre avenir.Car, dans notre pays, ce sont 150 000 personnes qui sont atteintes de la maladie de Parkinson.Pourtant, cette maladie reste mal connue et mal comprise du grand public.Sans doute cela tient-il, en partie, à ce qu'elle est celle de tous les paradoxes.D'origine inconnue, la maladie de Parkinson introduit chez celle ou celui qui en souffre une dualité, d'abord extérieure, mais aussi plus intime.Dualité entre l'intention et le geste, qui interroge notre conception même du corps humain et de son fonctionnement.Dualité, également, entre le temps et l'espace : alors que les semaines, les mois, les années défilent, le malade est enfermé dans une rigidité subie qui contrarie et entrave ses mouvements.Dualité, enfin, entre le patient, contraint de mener un combat quotidien à chaque étape de sa vie, et son entourage, souvent démuni car mal informé sur cette maladie.C'est précisément pour rompre cette dualité et pour lutter contre l'isolement des patients que nous devons unir nos efforts.En cela, France Parkinson a accompli un chemin considérable et opéré une véritable mue, que je tiens à saluer.Vous avez fait des progrès significatifs pour vous structurer et vous organiser, progrès qui font de votre association le relais légitime auprès des pouvoirs publics de la voix des Parkinsoniens et de leurs attentes.Le Livre Blanc que vous me remettez aujourd'hui est exemplaire car il est le fruit d'un remarquable travail de concertation avec l'ensemble de vos représentants régionaux. Soyez-en remerciés.Ce Livre blanc, nourri de témoignages parfois durs, souvent émouvants émanant de patients, de proches ou de soignants, débouche sur plusieurs propositions intéressantes. Ces propositions traduisent avant tout une préoccupation récurrente : celle d'une meilleure reconnaissance de la maladie de Parkinson et de ceux qui en sont atteints.En tant que ministre de la santé, je fais mienne cette préoccupation, et je veux, avec vous, trouver les moyens d'y répondre.Pour atteindre cet objectif, le Livre blanc que vous venez de me remettre constitue à l'évidence une base de départ précieuse. Il permet de mesurer le chemin qui reste à parcourir. C'est en ce sens que j'évoquais la gravité qui m'anime aujourd'hui. Beaucoup reste à faire, je le sais.Pour faire sortir de l'ombre la maladie de Parkinson et mieux soigner ceux qui en sont atteints, des outils existent, mais ils sont sans doute insuffisamment mobilisés.Ces outils, c'est d'abord la science, qui a connu des avancées significatives sur la maladie de Parkinson.Quel chemin parcouru, en effet, depuis l'introduction de la L-DOPA dans les années 60 jusqu'au traitement chirurgical des symptômes par implantation d'électrodes de stimulation.Ces outils, c'est la recherche, et les espoirs de guérison qui y sont associés. Je rappelle que la maladie de Parkinson a fait l'objet, au cours des cinq dernières années, de plus de 16 000 publications internationales, dont près du tiers en recherche thérapeutique.Pour sa part, le ministère de la santé a financé au cours de cette période 21 projets de recherche, pour un montant de près de 4,5 millions d'euros dans le cadre du programme hospitalier de recherche clinique.Je n'oublie pas non plus le guide du patient rédigé en 2007 par la Haute autorité de santé et intitulé « Vivre avec une maladie de Parkinson ». Il a contribué, à n'en pas douter, à faire évoluer les mentalités.Ces outils, ce sont, aussi, des dispositifs efficaces pour la prise en charge et l'accompagnement des patients atteints de la maladie de Parkinson, notamment dans le cadre du plan « qualité de vie des patients atteints de maladies chroniques ».Ces outils, c'est, enfin, la loi « Hôpital, patients, santé et territoires » qui fait une large place à l'éducation thérapeutique, au rôle crucial dans le cas des maladies chroniques. Je sais que vous avez piloté des expérimentations prometteuses autour de ce thème. La mise en place du dispositif dès 2011 tiendra compte de ces expériences.La mise en place des agences régionales de santé, en permettant une meilleure articulation des secteurs hospitalier, ambulatoire et médico-social, doit permettre une amélioration de la prise en charge sanitaire et sociale et un accompagnement mieux coordonné pour les patients et pour leurs proches. J'invite vos représentants régionaux à se faire rapidement connaître des directeurs généraux des ARS.Mais sans doute faut-il aller encore plus loin, sur plusieurs des questions que soulève fort justement ce livre blanc.Je pense à la question de l'annonce du diagnostic, trop souvent traumatisante pour le malade et ses proches.Je pense à la meilleure connaissance de la maladie par les soignants, quels qu'ils soient. Je sais par exemple que trop souvent, les malades ont le sentiment que leur pathologie est insuffisamment connue de leur médecin généraliste. Sans doute est-ce parfois vrai. Nous devons progresser résolument vers une meilleure articulation des connaissances du médecin généraliste, du spécialiste qu'est le neurologue, et du malade lui-même, via l'éducation thérapeutique.J'encouragerai tout ce qui va dans le sens d'une mise en réseau de ces différentes compétences, pour une meilleure prise en charge de proximité des malades. C'est une des missions des ARS, et je la leur rappellerai avec force.Je pense également à la prise en charge des malades jeunes, avec l'enjeu que représente pour eux la poursuite d'une activité professionnelle ou l'accès à une retraite anticipée.Je pense aussi à la question fondamentale de la place de l'aidant auprès du malade : cette question du statut de l'aidant dépasse de beaucoup le seul cas de la maladie de Parkinson.Vous savez qu'elle relève également du ministre chargé des solidarités. Pour moi, ministre de la santé, elle est absolument cruciale. Je veux donc avancer rapidement sur cette question, en lien avec Nadine MORANO, secrétaire d'Etat chargée de la famille et de la solidarité. Des travaux sont en cours associant les services de nos deux ministères : je souhaite qu'ils aboutissent rapidement.Alors, je le dis très simplement : plus que des promesses illusoires, ce que je veux, c'est travailler avec vous à changer la situation concrète des personnes malades.Il n'est pas dans mon habitude de faire des annonces qui resteraient des coquilles vides. J'ai trop de respect pour les malades pour me livrer à un tel exercice.Je souhaite que la Direction générale de la santé installe dans les meilleurs délais un groupe de travail consacré à la mise en oeuvre de ces différentes préconisations : votre association a naturellement vocation à y siéger, ainsi que les sociétés savantes, les agences concernées mais aussi les représentants des autres ministères impliqués. Je souhaite que ce groupe de travail me remette un bilan d'étape dans 6 mois.Faut-il, à la lumière de ce qui vient d'être dit, envisager un Plan Parkinson pour atteindre les objectifs que nous nous sommes fixés ? Peut être, mais ce n'est pas une évidence. Ce n'est pas nécessairement à l'aune d'un plan que se mesure la mobilisation des pouvoirs publics.Que l'on ne s'y trompe pas : ce dont ont besoin nos concitoyens atteints de la maladie de Parkinson, c'est que nous soyons mieux informés sur ce qu'ils vivent.Ce dont ils ont besoin, c'est que nous fassions évoluer la vision que nous avons de leur maladie.Ce dont ils ont besoin, en un mot, c'est d'être mieux considérés.Chacun l'aura compris : c'est donc ensemble que nous relèverons les défis de demain.C'est ensemble que nous changerons l'image parfois négative de la maladie de Parkinson et que nous la ferons mieux connaître, en en retardant les symptômes, en améliorant la prise en charge et surtout la qualité du quotidien de celles et ceux qui doivent cohabiter avec et veulent « rester dans la vie », malgré la souffrance et l'isolement que trop souvent cette maladie engendre.Si nous y parvenons, comme je le souhaite ardemment, alors nous serons parvenus à « faire sortir de l'ombre » cette maladie, et plus largement, les maladies chroniques, les sujets que vous soulevez dépassant bien souvent la seule maladie de Parkinson.Du regard renouvelé que, collectivement, nous saurons porter sur les malades pour les accompagner dans la reconquête de leur identité et de leur estime, dépend l'idéal de société que nous voulons construire : celui d'une communauté de destins solidaire, plus généreuse et plus attentive aux autres, et d'abord aux plus vulnérables.Je vous remercie.\n"
          ],
          "name": "stdout"
        }
      ]
    },
    {
      "cell_type": "code",
      "metadata": {
        "id": "GJRQHAey-0mf",
        "colab_type": "code",
        "outputId": "d7558d5e-864e-4edd-a1da-479051ec1510",
        "colab": {
          "base_uri": "https://localhost:8080/",
          "height": 289
        }
      },
      "source": [
        "# Import medium_df_desq in \"files\" (on the left) this can take some time ! \n",
        "import pandas as pd\n",
        "import numpy as np\n",
        "\n",
        "# Load the dataset into a pandas dataframe.\n",
        "df_balanced=pd.read_csv('medium_df_eq.csv',encoding='utf-8')\n",
        "\n",
        "# Shuffle the date\n",
        "\n",
        "# Some of the speeches are interviews (wrongly classified in the website) we try to delete most of them  \n",
        "df_balanced=df_balanced[~df_balanced.Texte.str.startswith(\"Q-\")]\n",
        "df_balanced=df_balanced[~df_balanced.Texte.str.startswith(\"R-\")]\n",
        "df_balanced=df_balanced[df_balanced.Id!=169898] # FOr some reason a problem on this text occured for preprocessing\n",
        "\n",
        "# Normalization of the labels [0,1] instead of [1,2] (0 = men, 1 = women)\n",
        "df_balanced.sexe=df_balanced.sexe.replace(1,0)\n",
        "df_balanced.sexe=df_balanced.sexe.replace(2,1)\n",
        "\n",
        "# We keep only variables of interest \n",
        "df_balanced=df_balanced[['Id','Titre','Theme','Prenom','Nom','Date','Tags','Texte','sexe']]\n",
        "\n",
        "# For the cleaning part we will just remove urls, parenthesis and double spacing if any \n",
        "import re\n",
        "def cleaning_stuff(text):\n",
        "    text = re.sub(r\" \\(.*?\\)\", '', text, flags=re.MULTILINE)\n",
        "    text = re.sub(r'(https|http)?:\\/\\/(\\w|\\.|\\/|\\?|\\=|\\&|\\%)*\\b', '', text, flags=re.MULTILINE)\n",
        "    text = text.replace('(',' ')\n",
        "    text = text.replace(')',' ')\n",
        "    text = text.replace('.  ','. ')\n",
        "    text = text.replace('  ','')\n",
        "    text=text.replace(\" :'\",\"\") \n",
        "    text = text.strip()\n",
        "    text = text.replace(\"\\'\",\"'\")\n",
        "    return text \n",
        "\n",
        "df_balanced['Texte']=df_balanced.Texte.apply(cleaning_stuff)\n",
        "df_balanced=df_balanced[df_balanced.Texte!='']\n",
        "\n",
        "df_balanced = df_balanced[~df_balanced.Titre.str.startswith('Déclaration conjointe')]\n",
        "# This is a sample of our dataset\n",
        "df_balanced.head(5)"
      ],
      "execution_count": 9,
      "outputs": [
        {
          "output_type": "execute_result",
          "data": {
            "text/html": [
              "<div>\n",
              "<style scoped>\n",
              "    .dataframe tbody tr th:only-of-type {\n",
              "        vertical-align: middle;\n",
              "    }\n",
              "\n",
              "    .dataframe tbody tr th {\n",
              "        vertical-align: top;\n",
              "    }\n",
              "\n",
              "    .dataframe thead th {\n",
              "        text-align: right;\n",
              "    }\n",
              "</style>\n",
              "<table border=\"1\" class=\"dataframe\">\n",
              "  <thead>\n",
              "    <tr style=\"text-align: right;\">\n",
              "      <th></th>\n",
              "      <th>Id</th>\n",
              "      <th>Titre</th>\n",
              "      <th>Theme</th>\n",
              "      <th>Prenom</th>\n",
              "      <th>Nom</th>\n",
              "      <th>Date</th>\n",
              "      <th>Tags</th>\n",
              "      <th>Texte</th>\n",
              "      <th>sexe</th>\n",
              "    </tr>\n",
              "  </thead>\n",
              "  <tbody>\n",
              "    <tr>\n",
              "      <th>0</th>\n",
              "      <td>133642</td>\n",
              "      <td>Déclaration de M. Hervé de Charette, ministre ...</td>\n",
              "      <td>International</td>\n",
              "      <td>Hervé</td>\n",
              "      <td>de Charette</td>\n",
              "      <td>1997-01-13T12:00:00Z</td>\n",
              "      <td>Relations internationales,Relations bilatérale...</td>\n",
              "      <td>Mesdames et Messieurs, j'ai été très heureux d...</td>\n",
              "      <td>0</td>\n",
              "    </tr>\n",
              "    <tr>\n",
              "      <th>1</th>\n",
              "      <td>201364</td>\n",
              "      <td>Déclaration de M. Michel Sapin, ministre de l'...</td>\n",
              "      <td>Economie,Institutions</td>\n",
              "      <td>Michel</td>\n",
              "      <td>Sapin</td>\n",
              "      <td>2016-11-29T12:00:00Z</td>\n",
              "      <td>Vie économique,Gestion d'entreprise,Justice - ...</td>\n",
              "      <td>Monsieur le Président,Monsieur le Président de...</td>\n",
              "      <td>0</td>\n",
              "    </tr>\n",
              "    <tr>\n",
              "      <th>2</th>\n",
              "      <td>272549</td>\n",
              "      <td>Déclaration de M. Emmanuel Macron, Président d...</td>\n",
              "      <td>International</td>\n",
              "      <td>Emmanuel</td>\n",
              "      <td>Macron</td>\n",
              "      <td>2019-12-21T12:00:00Z</td>\n",
              "      <td>Afrique,Côte d'Ivoire</td>\n",
              "      <td>Merci beaucoup Monsieur le Président, cher Ala...</td>\n",
              "      <td>0</td>\n",
              "    </tr>\n",
              "    <tr>\n",
              "      <th>3</th>\n",
              "      <td>175752</td>\n",
              "      <td>Déclaration de M. Guy Hascoët, secrétaire d'Et...</td>\n",
              "      <td>Economie</td>\n",
              "      <td>Guy</td>\n",
              "      <td>Hascoët</td>\n",
              "      <td>2001-05-31T12:00:00Z</td>\n",
              "      <td>Vie économique,Economie sociale</td>\n",
              "      <td>En ce moment l'Europe est à l'ordre du jour. L...</td>\n",
              "      <td>0</td>\n",
              "    </tr>\n",
              "    <tr>\n",
              "      <th>4</th>\n",
              "      <td>186046</td>\n",
              "      <td>Déclaration à la presse de MM. François Hollan...</td>\n",
              "      <td>International</td>\n",
              "      <td>François</td>\n",
              "      <td>Hollande</td>\n",
              "      <td>2012-10-09T12:00:00Z</td>\n",
              "      <td>Relations internationales,Relations bilatérale...</td>\n",
              "      <td>François HOLLANDE : Mesdames et Messieurs, j'a...</td>\n",
              "      <td>0</td>\n",
              "    </tr>\n",
              "  </tbody>\n",
              "</table>\n",
              "</div>"
            ],
            "text/plain": [
              "       Id  ... sexe\n",
              "0  133642  ...    0\n",
              "1  201364  ...    0\n",
              "2  272549  ...    0\n",
              "3  175752  ...    0\n",
              "4  186046  ...    0\n",
              "\n",
              "[5 rows x 9 columns]"
            ]
          },
          "metadata": {
            "tags": []
          },
          "execution_count": 9
        }
      ]
    },
    {
      "cell_type": "markdown",
      "metadata": {
        "id": "WTKQ0QnAZ_wu",
        "colab_type": "text"
      },
      "source": [
        "**We propose 3 samples to train our model :**\n",
        "\n",
        "\n",
        "**1.   Unbalanced sample**\n",
        "\n",
        "We take the raw data without any further treatment.\n",
        "\n",
        "**2.   Balanced sample**\n",
        "\n",
        "The second option consists in deleting randomly part of male speeches in order to get a balanced sample. Indeed, in the case of unbalanced sample our model could decide to classify all speakers in the male category which would lead to a 0.75 accuracy in our case study. In order to avoid this we feed the model with the same proportions of male and female speakers. Other kind of treatments exist to deal with unbalanced sample. This one is the simpliest one and we could argue that there is a possibility that the deleted sample contains important information that we therefore miss. However we believe that in our case this is not a big issue. Our unbalanced sample is quite large for both female and male.\n",
        "\n",
        "**3. Balanced and splitted sample**\n",
        "\n",
        "The third option is a response to the max length constraint of BERT models. Our text samples are big and contain much more tokens than the 512 limit. In the first two options we decide to feed the model with the 512 first tokens and thus we delete the remaining tokens. In this third option we cut the text into x parts containing 500 tokens each. All parts of the speech will serve to feed the model. Through this technique we do not loose potential important informations at the end of the text. A lot of other techniques have been employed such as hierarchical transformers (see our latex for reference). We decide to stick to this method in this project but it is an obvious improvment that could be added here. \n",
        "\n"
      ]
    },
    {
      "cell_type": "code",
      "metadata": {
        "id": "Ae8ICVGvUBLv",
        "colab_type": "code",
        "colab": {}
      },
      "source": [
        "def unbalanced_preprocess(df):\n",
        "  ''' \n",
        "  This function just takes our unbalanced dataset and prints relevant informations\n",
        "  '''\n",
        "\n",
        "  df_unbalanced=df\n",
        "\n",
        "  # Reports the number of speeches in the corpus.\n",
        "  print('Number of text in the unbalanced corpus : {0:.2f}\\n'.format(df_unbalanced.shape[0]))\n",
        "\n",
        "  # Reports the percentage of women in the sample \n",
        "  prop = (len(df_unbalanced[df_unbalanced.sexe==1])/len(df_unbalanced))*100\n",
        "  print('Percentage of women in the unbalanced corpus : {0:.2f}\\n'.format(prop))\n",
        "\n",
        "  return df_unbalanced"
      ],
      "execution_count": 0,
      "outputs": []
    },
    {
      "cell_type": "code",
      "metadata": {
        "id": "3IdYJSSRUdD0",
        "colab_type": "code",
        "outputId": "33ac63fe-882e-458d-e04b-9e58c54c919f",
        "colab": {
          "base_uri": "https://localhost:8080/",
          "height": 85
        }
      },
      "source": [
        "df_unbalanced = unbalanced_preprocess(df) "
      ],
      "execution_count": 11,
      "outputs": [
        {
          "output_type": "stream",
          "text": [
            "Number of text in the unbalanced corpus : 4977.00\n",
            "\n",
            "Percentage of women in the unbalanced corpus : 25.12\n",
            "\n"
          ],
          "name": "stdout"
        }
      ]
    },
    {
      "cell_type": "code",
      "metadata": {
        "colab_type": "code",
        "id": "HtvqyZco_hPf",
        "colab": {}
      },
      "source": [
        "def balanced_preprocess(df,seed_val,frac_val):\n",
        "  ''' \n",
        "  This function transforms our unbalanced dataset by deleting male speeches\n",
        "\n",
        "  Input : \n",
        "          df : dataframe\n",
        "          frac_val : fraction of the sample we want (this is mainly here for testing if you want to train your model with less data)\n",
        "\n",
        "  Output : \n",
        "          df_balanced : A balanced version of our dataset with the same proportion of men and women\n",
        "  '''\n",
        "\n",
        "  # Reports the number of speeches in the corpus.\n",
        "  print('Number of text in this corpus : {0:.2f}\\n'.format(df.shape[0]))\n",
        "\n",
        "  # Reports the percentage of women in the sample \n",
        "  prop = (len(df[df.sexe==1])/len(df))*100\n",
        "  print('Percentage of women in the balanced corpus : {0:.2f}\\n'.format(prop))\n",
        "\n",
        "  return df\n",
        "\n"
      ],
      "execution_count": 0,
      "outputs": []
    },
    {
      "cell_type": "code",
      "metadata": {
        "id": "UeQif_N0X4uW",
        "colab_type": "code",
        "outputId": "072e911a-e663-48c1-f7ae-4c2cd249f993",
        "colab": {
          "base_uri": "https://localhost:8080/",
          "height": 85
        }
      },
      "source": [
        "df_balanced = balanced_preprocess(df_balanced,seed_val,frac_val=1)"
      ],
      "execution_count": 13,
      "outputs": [
        {
          "output_type": "stream",
          "text": [
            "Number of text in this corpus : 4986.00\n",
            "\n",
            "Percentage of women in the balanced corpus : 50.10\n",
            "\n"
          ],
          "name": "stdout"
        }
      ]
    },
    {
      "cell_type": "code",
      "metadata": {
        "id": "ZgxCphDnCiPQ",
        "colab_type": "code",
        "colab": {}
      },
      "source": [
        "import pandas as pd\n",
        "def sent_detector_mano(x):\n",
        "    \"\"\"\n",
        "        Détection de phrase à la main.\n",
        "        Input : document\n",
        "        Output : liste de phrases\n",
        "        Problème avec les phrases finissant par : entrainant souvent une liste. \n",
        "        De même avec ;. Tentative réalisée\n",
        "        \n",
        "    \"\"\"\n",
        "    lst =[]\n",
        "    phrase = []\n",
        "    i = 0\n",
        "    for caractere in x: \n",
        "        if not (caractere == ' ' and len(phrase) == 0) :\n",
        "            phrase.append(caractere)\n",
        "        if caractere in '?!.:;':\n",
        "            if caractere == ':':\n",
        "                if x[i+1].isupper() or x[i+2].isupper() or x[i+1] == '-' or x[i+2] == '-':\n",
        "                    lst.append(''.join(phrase))\n",
        "                    phrase = []\n",
        "            if caractere == ';':\n",
        "                if x[i+1].isupper() or x[i+2].isupper() or x[i+1] == '-' or x[i+2] == '-':\n",
        "                    lst.append(''.join(phrase))\n",
        "                    phrase = []\n",
        "            elif phrase != '.' or phrase != '?' or phrase != '!':\n",
        "                lst.append(''.join(phrase))\n",
        "                phrase = []\n",
        "        i+=1\n",
        "    return lst\n",
        "def split_document_to_limit(MAX_TOKENS,df):\n",
        "  lst= []\n",
        "  for index,row in df.iterrows():\n",
        "    identifiant = row.Id\n",
        "    label = row.sexe\n",
        "    phrase = []\n",
        "    for token in row.Texte.split(' '):\n",
        "      if len(phrase) < MAX_TOKENS:\n",
        "        phrase.append(token)\n",
        "      else:\n",
        "        lst += [(identifiant,label,' '.join(phrase),len(phrase))]\n",
        "        phrase = []\n",
        "    if len(phrase)>1:\n",
        "      lst += [(identifiant,label,' '.join(phrase),len(phrase))]\n",
        "  return pd.DataFrame(lst,columns=['index_df','sexe','Texte','Length'])\n",
        "def split_document_to_limit_phrases(MAX_TOKENS,df):\n",
        "  lst= []\n",
        "  for index,row in df.iterrows():\n",
        "    identifiant = row.Id\n",
        "    label = row.sexe\n",
        "    phrase = ''\n",
        "    for phrases in sent_detector_mano(row.Texte):\n",
        "      if len(phrase.split(' ')) + len(phrases.split(' ')) < MAX_TOKENS:\n",
        "        phrase+= \" \" + phrases\n",
        "      else:\n",
        "        lst += [(identifiant,label,phrase,len(phrase.split(' ')))]\n",
        "        phrase = ''\n",
        "    lst += [(identifiant,label,phrase,len(phrase.split(' ')))]\n",
        "    phrase = ''\n",
        "  return pd.DataFrame(lst,columns=['index_df','sexe','Texte','Length'])"
      ],
      "execution_count": 0,
      "outputs": []
    },
    {
      "cell_type": "code",
      "metadata": {
        "id": "g3qnfTDXCwF9",
        "colab_type": "code",
        "colab": {}
      },
      "source": [
        "def  balanced_splitted(df,seed_val,frac_val,max_tokens):\n",
        "  \n",
        "  df=df[df.Texte!='']\n",
        "\n",
        "  df=split_document_to_limit_phrases(max_tokens,df)\n",
        " \n",
        "  df=df[df.Texte!='']\n",
        "\n",
        "\n",
        "  # Report the number of speeches in the corpus.\n",
        "  print('Number of text in this balanced splitted corpus : {:,}\\n'.format(df.shape[0]))\n",
        "  prop = (len(df[df.sexe==1])/len(df))*100\n",
        "  print('Proportions of women in the balanced splitted corpus : {}\\n'.format(prop))\n",
        "\n",
        "  return df"
      ],
      "execution_count": 0,
      "outputs": []
    },
    {
      "cell_type": "code",
      "metadata": {
        "id": "LmEpbT1JYf5-",
        "colab_type": "code",
        "outputId": "e8e62805-7777-472b-9b62-5f48f93539ef",
        "colab": {
          "base_uri": "https://localhost:8080/",
          "height": 85
        }
      },
      "source": [
        "df_balanced_split = balanced_splitted(df_balanced,seed_val,frac_val=1,max_tokens=450)"
      ],
      "execution_count": 16,
      "outputs": [
        {
          "output_type": "stream",
          "text": [
            "Number of text in this balanced splitted corpus : 22,386\n",
            "\n",
            "Proportions of women in the balanced splitted corpus : 49.906191369606\n",
            "\n"
          ],
          "name": "stdout"
        }
      ]
    },
    {
      "cell_type": "markdown",
      "metadata": {
        "id": "ressz8h6OHxn",
        "colab_type": "text"
      },
      "source": [
        "## Tokenization and preparing to feed CamemBERT"
      ]
    },
    {
      "cell_type": "markdown",
      "metadata": {
        "id": "ntpzo9X5SSjA",
        "colab_type": "text"
      },
      "source": [
        "### Loading the Camembert Tokenizer"
      ]
    },
    {
      "cell_type": "code",
      "metadata": {
        "id": "mggkz5R9g8dD",
        "colab_type": "code",
        "outputId": "4702fc2a-399b-46cc-8a4b-be6880031ca6",
        "colab": {
          "base_uri": "https://localhost:8080/",
          "height": 66,
          "referenced_widgets": [
            "0e7f97c926de4f769bf27f3c9b87e206",
            "0f3af96fe7314c63ad09c388c35ed80f",
            "0fe48ce5930c4d289ce1c01891a9e597",
            "4a53f0a875974f1c8c234996367c536f",
            "d0dda3b5c70e42dbbf5a1b6e3757394b",
            "97e76396b21745798b016f93340aba8f",
            "f06509bb5e0b4f868b40e4e226d188ff",
            "37cfc3e77bd545d59008f03adf2ee806"
          ]
        }
      },
      "source": [
        "# Import Camembert tokenizer\n",
        "from transformers import CamembertTokenizer\n",
        "# We choose a right padding side for the moment and we will test for a left padding side on a second stage\n",
        "tokenizer = CamembertTokenizer.from_pretrained('camembert-base', do_lower_case=False,padding_side='right') #left"
      ],
      "execution_count": 17,
      "outputs": [
        {
          "output_type": "display_data",
          "data": {
            "application/vnd.jupyter.widget-view+json": {
              "model_id": "0e7f97c926de4f769bf27f3c9b87e206",
              "version_minor": 0,
              "version_major": 2
            },
            "text/plain": [
              "HBox(children=(IntProgress(value=0, description='Downloading', max=810912, style=ProgressStyle(description_wid…"
            ]
          },
          "metadata": {
            "tags": []
          }
        },
        {
          "output_type": "stream",
          "text": [
            "\n"
          ],
          "name": "stdout"
        }
      ]
    },
    {
      "cell_type": "code",
      "metadata": {
        "id": "JoaZUUBChM_J",
        "colab_type": "code",
        "outputId": "555a30dd-6538-43a0-a6a4-ea9347333f5d",
        "colab": {
          "base_uri": "https://localhost:8080/",
          "height": 88
        }
      },
      "source": [
        "# Print the original text.\n",
        "print(' Original: ', df.Texte[0])\n",
        "\n",
        "# Print the text split into tokens.\n",
        "print('Tokenized: ', tokenizer.tokenize(df.Texte[0]))\n",
        "\n",
        "# Print the text mapped to token ids.\n",
        "print('Token IDs: ', tokenizer.convert_tokens_to_ids(tokenizer.tokenize(df.Texte[0])))"
      ],
      "execution_count": 18,
      "outputs": [
        {
          "output_type": "stream",
          "text": [
            " Original:  Monsieur le président du Conseil, Mesdames et Messieurs les ministres, Mesdames et Messieurs les parlementaires, Mesdames et Messieurs les ambassadeurs, Mesdames et Messieurs, Et mes chers compatriotes, Permettez-moi d'abord de vous remercier, cher Romano Prodi, d'être venu ici, au palais Farnèse, pour célébrer avec nous notre Fête nationale. Votre présence aujourd'hui et celle de tant de personnalités italiennes, dans ce magnifique palais de la Renaissance que l'Italie a bien voulu nous confier pour en faire la plus belle de nos ambassades, est la marque de l'amitié forte qui unit nos deux pays et nos deux peuples. Le 14-Juillet est pour nous, Français, un anniversaire que nous sommes particulièrement heureux de célébrer en compagnie de tous les amis de la liberté et de la démocratie. Je veux donc aussi remercier chaleureusement toute la communauté diplomatique réunie ici aujourd'hui. Cher Romano Prodi, j'ai souhaité me rendre à Rome dans les plus brefs délais après ma nomination à la tête du Gouvernement français, pour témoigner au peuple italien de la place particulière, de la place exceptionnelle que votre pays tient dans le coeur des Français. La France et l'Italie partagent au plus haut point ces valeurs que nous célébrons le 14 juillet, et qui sont aussi celles des Européens. Nous les défendons dans toutes les enceintes internationales où nous siégeons côte à côte, et je pense en particulier au Conseil de sécurité des Nations unies. Nous les défendons également sur de nombreux terrains, où les peuples souffrent de la guerre et du terrorisme. Nous les défendons au Liban, en Afghanistan, dans les Balkans ou au Darfour. Nous les défendons en promouvant ensemble, avec nos partenaires européens, le dialogue entre les peuples et les civilisations, et notamment dans cet espace méditerranéen dans lequel plongent les racines de notre identité, et que nous souhaitons, Français et Italiens, mettre au centre des priorités de l'Union européenne. J'ai souhaité également venir sans tarder à Rome, parce que l'Italie est notre deuxième partenaire économique, et notre premier partenaire pour les coopérations dans le secteur de l'armement, et un partenaire majeur dans le domaine des hautes technologies et de l'espace en particulier. J'ai la volonté de consolider et d'approfondir notre relation en cherchant des solutions pragmatiques aux difficultés, et en explorant avec vous, comme nous allons le faire, monsieur le président du Conseil, dans quelques instants, toutes les pistes pour enrichir encore plus notre relation. J'ai souhaité également me rendre sans tarder à Rome, dans cette ville magnifique, où ont été célébrés en mars dernier les cinquante ans du Traité fondateur de la construction européenne, pour marquer l'importance que la France attache au renforcement du partenariat avec l'Italie, pays fondateur de l'Union européenne, pour redonner confiance à nos concitoyens dans les institutions européennes. Et je veux vous dire, que les travaux du dernier Conseil ont été accueillis en France avec soulagement. Les Français ont retrouvé la confiance en l'Europe qu'ils avaient perdue. Je sais toute la place que l'Italie, et singulièrement Romano Prodi, ont pris dans cette négociation réussie. Permettez-moi également d'adresser mes salutations les plus chaleureuses aux représentants de la communauté française qui sont ici réunis. La Fête nationale a toujours été, par-delà nos différences bien légitimes d'opinions, de religions ou même d'origines, le moment de l'année où nous nous consacrons à la célébration de notre volonté de vivre ensemble fraternellement dans la République. Permettez-moi simplement d'ajouter que cette année, notre Fête nationale prend un tour particulier, puisqu'elle coïncide avec une entreprise très ambitieuse de rénovation nationale, portée par le Gouvernement d'ouverture que j'ai l'honneur de diriger. Je veux donc vous adresser à tous et à toutes, en mon nom et en celui du président de la République française, un message d'amitié, un message de respect, pour la contribution fondamentale que vous apportez au rayonnement culturel et économique de notre pays. Le dynamisme, la jeunesse de la communauté française en Italie, enrichis par nos nombreux compatriotes binationaux, qui jouent un rôle de \"passeur\", sont des atouts fondamentaux pour la France et pour la qualité de la relation franco-italienne. Je souhaite enfin vous dire que le Gouvernement et l'ambassade de France continueront à porter votre communauté. Nous sommes à votre service, nous sommes à votre écoute. Vive l'amitié franco-italienne, Vive la République, Et vive la France !\n",
            "Tokenized:  ['▁Monsieur', '▁le', '▁président', '▁du', '▁Conseil', ',', '▁Mesdames', '▁et', '▁Messieurs', '▁les', '▁ministres', ',', '▁Mesdames', '▁et', '▁Messieurs', '▁les', '▁parlementaires', ',', '▁Mesdames', '▁et', '▁Messieurs', '▁les', '▁', 'ambassadeur', 's', ',', '▁Mesdames', '▁et', '▁Messieurs', ',', '▁Et', '▁mes', '▁chers', '▁compatriote', 's', ',', '▁Permet', 'tez', '-', 'moi', '▁d', \"'\", 'abord', '▁de', '▁vous', '▁remercier', ',', '▁cher', '▁Roman', 'o', '▁Pro', 'di', ',', '▁d', \"'\", 'être', '▁venu', '▁ici', ',', '▁au', '▁palais', '▁Far', 'nès', 'e', ',', '▁pour', '▁célébrer', '▁avec', '▁nous', '▁notre', '▁Fête', '▁nationale', '.', '▁Votre', '▁présence', '▁aujourd', \"'\", 'hui', '▁et', '▁celle', '▁de', '▁tant', '▁de', '▁personnalités', '▁italienne', 's', ',', '▁dans', '▁ce', '▁magnifique', '▁palais', '▁de', '▁la', '▁Renaissance', '▁que', '▁l', \"'\", 'Italie', '▁a', '▁bien', '▁voulu', '▁nous', '▁confier', '▁pour', '▁en', '▁faire', '▁la', '▁plus', '▁belle', '▁de', '▁nos', '▁', 'ambassade', 's', ',', '▁est', '▁la', '▁marque', '▁de', '▁l', \"'\", 'amitié', '▁forte', '▁qui', '▁un', 'it', '▁nos', '▁deux', '▁pays', '▁et', '▁nos', '▁deux', '▁peuples', '.', '▁Le', '▁14', '-', 'Ju', 'illet', '▁est', '▁pour', '▁nous', ',', '▁Français', ',', '▁un', '▁anniversaire', '▁que', '▁nous', '▁sommes', '▁', 'particulièrement', '▁heureux', '▁de', '▁célébrer', '▁en', '▁compagnie', '▁de', '▁tous', '▁les', '▁amis', '▁de', '▁la', '▁liberté', '▁et', '▁de', '▁la', '▁démocratie', '.', '▁Je', '▁veux', '▁donc', '▁aussi', '▁remercier', '▁chaleureusement', '▁toute', '▁la', '▁communauté', '▁diplomatique', '▁réuni', 'e', '▁ici', '▁aujourd', \"'\", 'hui', '.', '▁Cher', '▁Roman', 'o', '▁Pro', 'di', ',', '▁j', \"'\", 'ai', '▁souhaité', '▁me', '▁rendre', '▁à', '▁Rome', '▁dans', '▁les', '▁plus', '▁bref', 's', '▁délais', '▁après', '▁ma', '▁nomination', '▁à', '▁la', '▁tête', '▁du', '▁Gouvernement', '▁français', ',', '▁pour', '▁témoigner', '▁au', '▁peuple', '▁italien', '▁de', '▁la', '▁place', '▁particulière', ',', '▁de', '▁la', '▁place', '▁exceptionnelle', '▁que', '▁votre', '▁pays', '▁tient', '▁dans', '▁le', '▁coeur', '▁des', '▁Français', '.', '▁La', '▁France', '▁et', '▁l', \"'\", 'Italie', '▁partagent', '▁au', '▁plus', '▁haut', '▁point', '▁ces', '▁valeurs', '▁que', '▁nous', '▁célébr', 'ons', '▁le', '▁14', '▁juillet', ',', '▁et', '▁qui', '▁sont', '▁aussi', '▁celles', '▁des', '▁Européens', '.', '▁Nous', '▁les', '▁défend', 'ons', '▁dans', '▁toutes', '▁les', '▁enceintes', '▁internationales', '▁où', '▁nous', '▁siége', 'ons', '▁côte', '▁à', '▁côte', ',', '▁et', '▁je', '▁pense', '▁en', '▁particulier', '▁au', '▁Conseil', '▁de', '▁sécurité', '▁des', '▁Nations', '▁unies', '.', '▁Nous', '▁les', '▁défend', 'ons', '▁également', '▁sur', '▁de', '▁nombreux', '▁terrains', ',', '▁où', '▁les', '▁peuples', '▁souffrent', '▁de', '▁la', '▁guerre', '▁et', '▁du', '▁terrorisme', '.', '▁Nous', '▁les', '▁défend', 'ons', '▁au', '▁Liban', ',', '▁en', '▁Afghanistan', ',', '▁dans', '▁les', '▁Balkans', '▁ou', '▁au', '▁Dar', 'four', '.', '▁Nous', '▁les', '▁défend', 'ons', '▁en', '▁promo', 'uv', 'ant', '▁ensemble', ',', '▁avec', '▁nos', '▁partenaires', '▁européens', ',', '▁le', '▁dialogue', '▁entre', '▁les', '▁peuples', '▁et', '▁les', '▁civilisations', ',', '▁et', '▁notamment', '▁dans', '▁cet', '▁espace', '▁méditerranéen', '▁dans', '▁lequel', '▁plonge', 'nt', '▁les', '▁racines', '▁de', '▁notre', '▁identité', ',', '▁et', '▁que', '▁nous', '▁souhaitons', ',', '▁Français', '▁et', '▁', 'Italien', 's', ',', '▁mettre', '▁au', '▁centre', '▁des', '▁priorités', '▁de', '▁l', \"'\", 'Union', '▁européenne', '.', '▁J', \"'\", 'ai', '▁souhaité', '▁également', '▁venir', '▁sans', '▁tarder', '▁à', '▁Rome', ',', '▁parce', '▁que', '▁l', \"'\", 'Italie', '▁est', '▁notre', '▁deuxième', '▁partenaire', '▁économique', ',', '▁et', '▁notre', '▁premier', '▁partenaire', '▁pour', '▁les', '▁coopération', 's', '▁dans', '▁le', '▁secteur', '▁de', '▁l', \"'\", 'armement', ',', '▁et', '▁un', '▁partenaire', '▁majeur', '▁dans', '▁le', '▁domaine', '▁des', '▁hautes', '▁technologies', '▁et', '▁de', '▁l', \"'\", 'espace', '▁en', '▁particulier', '.', '▁J', \"'\", 'ai', '▁la', '▁volonté', '▁de', '▁consolider', '▁et', '▁d', \"'\", 'approfondir', '▁notre', '▁relation', '▁en', '▁cherchant', '▁des', '▁solutions', '▁pragmatique', 's', '▁aux', '▁difficultés', ',', '▁et', '▁en', '▁', 'explo', 'rant', '▁avec', '▁vous', ',', '▁comme', '▁nous', '▁allons', '▁le', '▁faire', ',', '▁monsieur', '▁le', '▁président', '▁du', '▁Conseil', ',', '▁dans', '▁quelques', '▁instants', ',', '▁toutes', '▁les', '▁pistes', '▁pour', '▁enrichir', '▁encore', '▁plus', '▁notre', '▁relation', '.', '▁J', \"'\", 'ai', '▁souhaité', '▁également', '▁me', '▁rendre', '▁sans', '▁tarder', '▁à', '▁Rome', ',', '▁dans', '▁cette', '▁ville', '▁magnifique', ',', '▁où', '▁ont', '▁été', '▁célébré', 's', '▁en', '▁mars', '▁dernier', '▁les', '▁cinquante', '▁ans', '▁du', '▁Traité', '▁fondateur', '▁de', '▁la', '▁construction', '▁européenne', ',', '▁pour', '▁marquer', '▁l', \"'\", 'importance', '▁que', '▁la', '▁France', '▁attache', '▁au', '▁renforcement', '▁du', '▁partenariat', '▁avec', '▁l', \"'\", 'Italie', ',', '▁pays', '▁fondateur', '▁de', '▁l', \"'\", 'Union', '▁européenne', ',', '▁pour', '▁redonner', '▁confiance', '▁à', '▁nos', '▁concitoyens', '▁dans', '▁les', '▁institutions', '▁européennes', '.', '▁Et', '▁je', '▁veux', '▁vous', '▁dire', ',', '▁que', '▁les', '▁travaux', '▁du', '▁dernier', '▁Conseil', '▁ont', '▁été', '▁accueillis', '▁en', '▁France', '▁avec', '▁soulagement', '.', '▁Les', '▁Français', '▁ont', '▁retrouvé', '▁la', '▁confiance', '▁en', '▁l', \"'\", 'Europe', '▁qu', \"'\", 'ils', '▁avaient', '▁perdue', '.', '▁Je', '▁sais', '▁toute', '▁la', '▁place', '▁que', '▁l', \"'\", 'Italie', ',', '▁et', '▁singulière', 'ment', '▁Roman', 'o', '▁Pro', 'di', ',', '▁ont', '▁pris', '▁dans', '▁cette', '▁négociation', '▁réussie', '.', '▁Permet', 'tez', '-', 'moi', '▁également', '▁d', \"'\", 'adresser', '▁mes', '▁salut', 'ations', '▁les', '▁plus', '▁chaleureuse', 's', '▁aux', '▁représentants', '▁de', '▁la', '▁communauté', '▁française', '▁qui', '▁sont', '▁ici', '▁réunis', '.', '▁La', '▁Fête', '▁nationale', '▁a', '▁toujours', '▁été', ',', '▁par', '-', 'delà', '▁nos', '▁différences', '▁bien', '▁légitimes', '▁d', \"'\", 'opinion', 's', ',', '▁de', '▁religions', '▁ou', '▁même', '▁d', \"'\", 'origine', 's', ',', '▁le', '▁moment', '▁de', '▁l', \"'\", 'année', '▁où', '▁nous', '▁nous', '▁consacr', 'ons', '▁à', '▁la', '▁célébration', '▁de', '▁notre', '▁volonté', '▁de', '▁vivre', '▁ensemble', '▁fraternel', 'lement', '▁dans', '▁la', '▁République', '.', '▁Permet', 'tez', '-', 'moi', '▁simplement', '▁d', \"'\", 'ajouter', '▁que', '▁cette', '▁année', ',', '▁notre', '▁Fête', '▁nationale', '▁prend', '▁un', '▁tour', '▁particulier', ',', '▁puisqu', \"'\", 'elle', '▁coïncide', '▁avec', '▁une', '▁entreprise', '▁très', '▁ambitieuse', '▁de', '▁rénovation', '▁nationale', ',', '▁portée', '▁par', '▁le', '▁Gouvernement', '▁d', \"'\", 'ouverture', '▁que', '▁j', \"'\", 'ai', '▁l', \"'\", 'honneur', '▁de', '▁diriger', '.', '▁Je', '▁veux', '▁donc', '▁vous', '▁adresser', '▁à', '▁tous', '▁et', '▁à', '▁toutes', ',', '▁en', '▁mon', '▁nom', '▁et', '▁en', '▁celui', '▁du', '▁président', '▁de', '▁la', '▁République', '▁française', ',', '▁un', '▁message', '▁d', \"'\", 'amitié', ',', '▁un', '▁message', '▁de', '▁respect', ',', '▁pour', '▁la', '▁contribution', '▁fondamentale', '▁que', '▁vous', '▁apporte', 'z', '▁au', '▁rayonnement', '▁culturel', '▁et', '▁économique', '▁de', '▁notre', '▁pays', '.', '▁Le', '▁dynamisme', ',', '▁la', '▁jeunesse', '▁de', '▁la', '▁communauté', '▁française', '▁en', '▁Italie', ',', '▁enrichi', 's', '▁par', '▁nos', '▁nombreux', '▁compatriote', 's', '▁bin', 'ation', 'aux', ',', '▁qui', '▁jouent', '▁un', '▁rôle', '▁de', '▁\"', 'pass', 'eur', '\",', '▁sont', '▁des', '▁atouts', '▁fondamentaux', '▁pour', '▁la', '▁France', '▁et', '▁pour', '▁la', '▁qualité', '▁de', '▁la', '▁relation', '▁franco', '-', 'italienne', '.', '▁Je', '▁souhaite', '▁enfin', '▁vous', '▁dire', '▁que', '▁le', '▁Gouvernement', '▁et', '▁l', \"'\", 'ambassade', '▁de', '▁France', '▁continuer', 'ont', '▁à', '▁porter', '▁votre', '▁communauté', '.', '▁Nous', '▁sommes', '▁à', '▁votre', '▁service', ',', '▁nous', '▁sommes', '▁à', '▁votre', '▁écoute', '.', '▁Vive', '▁l', \"'\", 'amitié', '▁franco', '-', 'italienne', ',', '▁Vive', '▁la', '▁République', ',', '▁Et', '▁vive', '▁la', '▁France', '▁!']\n",
            "Token IDs:  [2445, 16, 668, 25, 960, 7, 23605, 14, 19923, 19, 7427, 7, 23605, 14, 19923, 19, 12680, 7, 23605, 14, 19923, 19, 21, 9645, 10, 7, 23605, 14, 19923, 7, 139, 249, 6175, 16681, 10, 7, 14378, 4731, 26, 2279, 18, 11, 803, 8, 39, 5559, 7, 661, 6900, 189, 1092, 1060, 7, 18, 11, 177, 2412, 323, 7, 36, 5408, 6845, 19947, 35, 7, 24, 10003, 42, 63, 127, 7202, 945, 9, 1268, 922, 405, 11, 265, 14, 386, 8, 376, 8, 6882, 5334, 10, 7, 29, 44, 1509, 5408, 8, 13, 13460, 27, 17, 11, 5091, 33, 72, 1913, 63, 9514, 24, 22, 85, 13, 40, 455, 8, 166, 21, 14059, 10, 7, 30, 13, 587, 8, 17, 11, 6274, 1408, 31, 23, 312, 166, 116, 256, 14, 166, 116, 5073, 9, 54, 476, 26, 15660, 10663, 30, 24, 63, 7, 1455, 7, 23, 2575, 27, 63, 464, 21, 937, 1941, 8, 10003, 22, 1486, 8, 117, 19, 784, 8, 13, 1297, 14, 8, 13, 3543, 9, 100, 920, 145, 99, 5559, 22642, 194, 13, 1312, 11333, 7105, 35, 323, 405, 11, 265, 9, 3696, 6900, 189, 1092, 1060, 7, 76, 11, 73, 6267, 103, 716, 15, 3703, 29, 19, 40, 2469, 10, 3922, 182, 155, 8954, 15, 13, 450, 25, 6518, 430, 7, 24, 15461, 36, 1451, 5941, 8, 13, 218, 2628, 7, 8, 13, 218, 4110, 27, 75, 256, 1866, 29, 16, 1016, 20, 1455, 9, 61, 184, 14, 17, 11, 5091, 8604, 36, 40, 540, 299, 119, 1784, 27, 63, 19768, 273, 16, 476, 742, 7, 14, 31, 56, 99, 989, 20, 18655, 9, 170, 19, 5919, 273, 29, 208, 19, 12186, 4343, 147, 63, 24954, 273, 3444, 15, 3444, 7, 14, 50, 500, 22, 770, 36, 960, 8, 548, 20, 5542, 14784, 9, 170, 19, 5919, 273, 200, 32, 8, 490, 6403, 7, 147, 19, 5073, 13064, 8, 13, 775, 14, 25, 8429, 9, 170, 19, 5919, 273, 36, 10744, 7, 22, 23044, 7, 29, 19, 31151, 47, 36, 5913, 7452, 9, 170, 19, 5919, 273, 22, 5521, 4253, 172, 760, 7, 42, 166, 1626, 3980, 7, 16, 3036, 128, 19, 5073, 14, 19, 17843, 7, 14, 410, 29, 280, 1326, 18206, 29, 966, 5694, 113, 19, 6927, 8, 127, 4455, 7, 14, 27, 63, 8616, 7, 1455, 14, 21, 15893, 10, 7, 328, 36, 533, 20, 11626, 8, 17, 11, 1906, 1467, 9, 121, 11, 73, 6267, 200, 894, 112, 13664, 15, 3703, 7, 398, 27, 17, 11, 5091, 30, 127, 832, 2110, 919, 7, 14, 127, 246, 2110, 24, 19, 3599, 10, 29, 16, 926, 8, 17, 11, 15199, 7, 14, 23, 2110, 4329, 29, 16, 813, 20, 7919, 2608, 14, 8, 17, 11, 1179, 22, 770, 9, 121, 11, 73, 13, 1511, 8, 18403, 14, 18, 11, 20341, 127, 911, 22, 8071, 20, 1392, 19211, 10, 68, 2192, 7, 14, 22, 21, 13643, 3966, 42, 39, 7, 79, 63, 2545, 16, 85, 7, 5615, 16, 668, 25, 960, 7, 29, 193, 7812, 7, 208, 19, 4269, 24, 14891, 143, 40, 127, 911, 9, 121, 11, 73, 6267, 200, 103, 716, 112, 13664, 15, 3703, 7, 29, 78, 285, 1509, 7, 147, 96, 101, 19764, 10, 22, 697, 348, 19, 8238, 134, 25, 18218, 5988, 8, 13, 1015, 1467, 7, 24, 7205, 17, 11, 2624, 27, 13, 184, 12941, 36, 7707, 25, 2455, 42, 17, 11, 5091, 7, 256, 5988, 8, 17, 11, 1906, 1467, 7, 24, 12097, 1074, 15, 166, 22089, 29, 19, 3847, 5165, 9, 139, 50, 920, 39, 248, 7, 27, 19, 703, 25, 348, 960, 96, 101, 15145, 22, 184, 42, 16276, 9, 74, 1455, 96, 4346, 13, 1074, 22, 17, 11, 1354, 46, 11, 240, 917, 8901, 9, 100, 555, 194, 13, 218, 27, 17, 11, 5091, 7, 14, 13798, 131, 6900, 189, 1092, 1060, 7, 96, 523, 29, 78, 8776, 9713, 9, 14378, 4731, 26, 2279, 200, 18, 11, 13535, 249, 5244, 2770, 19, 40, 8887, 10, 68, 3926, 8, 13, 1312, 781, 31, 56, 323, 7686, 9, 61, 7202, 945, 33, 179, 101, 7, 37, 26, 1942, 166, 6447, 72, 21272, 18, 11, 6557, 10, 7, 8, 10642, 47, 93, 18, 11, 870, 10, 7, 16, 262, 8, 17, 11, 520, 147, 63, 63, 24209, 273, 15, 13, 10306, 8, 127, 1511, 8, 747, 760, 24447, 2918, 29, 13, 1547, 9, 14378, 4731, 26, 2279, 691, 18, 11, 4952, 27, 78, 433, 7, 127, 7202, 945, 759, 23, 508, 770, 7, 1957, 11, 144, 27923, 42, 28, 814, 95, 24747, 8, 3785, 945, 7, 2550, 37, 16, 6518, 18, 11, 1629, 27, 76, 11, 73, 17, 11, 2580, 8, 7155, 9, 100, 920, 145, 39, 11533, 15, 117, 14, 15, 208, 7, 22, 129, 373, 14, 22, 330, 25, 668, 8, 13, 1547, 781, 7, 23, 1144, 18, 11, 6274, 7, 23, 1144, 8, 1346, 7, 24, 13, 5109, 10098, 27, 39, 2767, 138, 36, 10496, 3542, 14, 919, 8, 127, 256, 9, 54, 11368, 7, 13, 2426, 8, 13, 1312, 781, 22, 4388, 7, 19667, 10, 37, 166, 490, 16681, 10, 16445, 472, 483, 7, 31, 6738, 23, 842, 8, 87, 10159, 601, 517, 56, 20, 9951, 8290, 24, 13, 184, 14, 24, 13, 335, 8, 13, 911, 7033, 26, 26102, 9, 100, 1282, 743, 39, 248, 27, 16, 6518, 14, 17, 11, 14059, 8, 184, 1760, 263, 15, 1499, 75, 1312, 9, 170, 464, 15, 75, 366, 7, 63, 464, 15, 75, 4661, 9, 10392, 17, 11, 6274, 7033, 26, 26102, 7, 10392, 13, 1547, 7, 139, 6440, 13, 184, 83]\n"
          ],
          "name": "stdout"
        }
      ]
    },
    {
      "cell_type": "markdown",
      "metadata": {
        "id": "t8yAtMsdR9HB",
        "colab_type": "text"
      },
      "source": [
        "### Preparing to feed the model : adding special tokens, attention masks and transform into tensors\n"
      ]
    },
    {
      "cell_type": "markdown",
      "metadata": {
        "id": "uXlKcUdlYetx",
        "colab_type": "text"
      },
      "source": [
        "Preprocessing steps : \n",
        "\n",
        "\n",
        "1.   **Add special tokens [CLS] [SEP]** \n",
        "\n",
        "According to the documentation we need to add special tokens to the start and end of the text Moreover, for camembert we should add a space between CLS and the first token (not sure here, we have to ask benjamin). \n",
        "\n",
        "2.   **Pad and truncate all texts to a single number**\n",
        "\n",
        "Pretrained transformes like Camembert only accept input of the same length. Our corpus contains large texts and we have to pad them in order to be able to feed Camembert. We will set the max length to a large number in order to get all information possible in the text. We choose a max length of 500 which is almost the maximum (512) \"sentence\" length  accepted. We are aware that this choice will impact a lot training speed.\n",
        "\n",
        "3.   **Construct an attention mask**\n",
        "\n",
        "Attention masks are just set to 1 when the token have to be analyzed and 0 otherwise (padded tokens). All our attention mask should be 1 with this corpus. \n",
        "\n",
        "\n",
        "\n",
        "For sake of simplicity and to avoid errors we will use the function encode_plus of the library which is really convenient. \n",
        "\n"
      ]
    },
    {
      "cell_type": "code",
      "metadata": {
        "id": "CaVIHaijS73R",
        "colab_type": "code",
        "colab": {}
      },
      "source": [
        "length = 500\n",
        "batch_size_value = 16\n",
        "length_train=0.8\n",
        "torch.manual_seed(42)\n",
        "torch.cuda.manual_seed_all(42)"
      ],
      "execution_count": 0,
      "outputs": []
    },
    {
      "cell_type": "code",
      "metadata": {
        "id": "VkbqtyqH6V_R",
        "colab_type": "code",
        "outputId": "c8b2bf77-ca2b-4ded-cb37-335d01a11c78",
        "colab": {
          "base_uri": "https://localhost:8080/",
          "height": 493
        }
      },
      "source": [
        "from torch.utils.data import TensorDataset, random_split\n",
        "from torch.utils.data import DataLoader, RandomSampler, SequentialSampler\n",
        "\n",
        "texts = df_unbalanced.Texte.values\n",
        "labels = df_unbalanced.sexe.values\n",
        "\n",
        "# Tokenize all of the sentences and map the tokens to thier word IDs.\n",
        "input_ids = []\n",
        "attention_masks = []\n",
        "num_truncated_tokens =[]\n",
        "# Apply function to our corpus\n",
        "for text in texts:\n",
        "    encoded_dict = tokenizer.encode_plus(\n",
        "                        text,                      # text\n",
        "                        add_special_tokens = True, # Add '[CLS]' and '[SEP]'\n",
        "                        max_length = length,           # We choose for now a max length of 500.\n",
        "                        pad_to_max_length = True,    # Pad text to max (marche pas en pad left ?)\n",
        "                        return_attention_mask = True,   # Construct attention masks\n",
        "                        return_tensors = 'pt',     # Return pytorch tensors.\n",
        "                        return_overflowing_tokens =True, # return overflowing token information\n",
        "                  )\n",
        "    \n",
        "    # Map tokens to their id in the dictionnary \n",
        "    # We add this to our list    \n",
        "    input_ids.append(encoded_dict['input_ids'])\n",
        "\n",
        "    #num_truncated_tokens.append(encoded_dict['num_truncated_tokens'])\n",
        "    \n",
        "    # 3. Attention masks\n",
        "    attention_masks.append(encoded_dict['attention_mask'])\n",
        "\n",
        "# We convert all this into tensors in order to be able to make it work on GPU \n",
        "input_ids = torch.cat(input_ids, dim=0)\n",
        "attention_masks = torch.cat(attention_masks, dim=0)\n",
        "labels = torch.tensor(labels)\n",
        "\n",
        "# Original text and transformed tensor print \n",
        "print(\"Let's check for the first text indexes, attention masks and labels\")\n",
        "print(\" \")\n",
        "print('Original: ', texts[0][0:100])\n",
        "print('IDs:', input_ids[0][0:100])\n",
        "print('Attention masks:', attention_masks[0][0:100])\n",
        "print('labels',labels[0])\n",
        "\n",
        "\n",
        "# Combine all above\n",
        "dataset = TensorDataset(input_ids, attention_masks, labels)\n",
        "\n",
        "# Let's create a 80-20 train / validation dataset \n",
        "train_size = int(length_train * len(dataset))\n",
        "val_size = len(dataset) - train_size\n",
        "\n",
        "train_set, val_set = random_split(dataset, [train_size, val_size])\n",
        "\n",
        "\n",
        "print(\"-------------------------------------------------\")\n",
        "print(\" \")\n",
        "print(\"How many texts do we have in the train and validation sample ? \")\n",
        "print(\" \")\n",
        "print('We have {} training texts'.format(train_size))\n",
        "print('We have {} validation texts'.format(val_size))\n",
        "print(\" \")\n",
        "print(\"-------------------------------------------------\")\n",
        "\n",
        "# We set the size of the batch ( usually set around 16 or 32), we will take the lower bound because of the large text length\n",
        "batch_size = batch_size_value\n",
        "\n",
        "# We create data loaders for the train and validation dataset. \n",
        "train_loader_unbalanced = DataLoader(\n",
        "            train_set,  # The training samples.\n",
        "            sampler = RandomSampler(train_set), # Select batches randomly\n",
        "            batch_size = batch_size # Trains with this batch size.\n",
        "        )\n",
        "\n",
        "val_loader_unbalanced = DataLoader(\n",
        "            val_set, # The validation samples.\n",
        "            sampler = SequentialSampler(val_set), # Pull out batches sequentially.\n",
        "            batch_size = batch_size # Evaluate with this batch size.\n",
        "        )\n",
        "\n",
        "print('Data loaders created for train [0] and val [1]')"
      ],
      "execution_count": 0,
      "outputs": [
        {
          "output_type": "stream",
          "text": [
            "Let's check for the first text indexes, attention masks and labels\n",
            " \n",
            "Original:  Monsieur le président du Conseil, Mesdames et Messieurs les ministres, Mesdames et Messieurs les par\n",
            "IDs: tensor([    5,  2445,    16,   668,    25,   960,     7, 23605,    14, 19923,\n",
            "           19,  7427,     7, 23605,    14, 19923,    19, 12680,     7, 23605,\n",
            "           14, 19923,    19,    21,  9645,    10,     7, 23605,    14, 19923,\n",
            "            7,   139,   249,  6175, 16681,    10,     7, 14378,  4731,    26,\n",
            "         2279,    18,    11,   803,     8,    39,  5559,     7,   661,  6900,\n",
            "          189,  1092,  1060,     7,    18,    11,   177,  2412,   323,     7,\n",
            "           36,  5408,  6845, 19947,    35,     7,    24, 10003,    42,    63,\n",
            "          127,  7202,   945,     9,  1268,   922,   405,    11,   265,    14,\n",
            "          386,     8,   376,     8,  6882,  5334,    10,     7,    29,    44,\n",
            "         1509,  5408,     8,    13, 13460,    27,    17,    11,  5091,    33])\n",
            "Attention masks: tensor([1, 1, 1, 1, 1, 1, 1, 1, 1, 1, 1, 1, 1, 1, 1, 1, 1, 1, 1, 1, 1, 1, 1, 1,\n",
            "        1, 1, 1, 1, 1, 1, 1, 1, 1, 1, 1, 1, 1, 1, 1, 1, 1, 1, 1, 1, 1, 1, 1, 1,\n",
            "        1, 1, 1, 1, 1, 1, 1, 1, 1, 1, 1, 1, 1, 1, 1, 1, 1, 1, 1, 1, 1, 1, 1, 1,\n",
            "        1, 1, 1, 1, 1, 1, 1, 1, 1, 1, 1, 1, 1, 1, 1, 1, 1, 1, 1, 1, 1, 1, 1, 1,\n",
            "        1, 1, 1, 1])\n",
            "labels tensor(0)\n",
            "-------------------------------------------------\n",
            " \n",
            "How many texts do we have in the train and validation sample ? \n",
            " \n",
            "We have 3981 training texts\n",
            "We have 996 validation texts\n",
            " \n",
            "-------------------------------------------------\n",
            "Data loaders created for train [0] and val [1]\n"
          ],
          "name": "stdout"
        }
      ]
    },
    {
      "cell_type": "code",
      "metadata": {
        "id": "rnLKzstr6ghY",
        "colab_type": "code",
        "outputId": "11bdd68f-c2c4-4622-daf5-fcc9f2d8bab2",
        "colab": {
          "base_uri": "https://localhost:8080/",
          "height": 493
        }
      },
      "source": [
        "from torch.utils.data import TensorDataset, random_split\n",
        "from torch.utils.data import DataLoader, RandomSampler, SequentialSampler\n",
        "\n",
        "texts = df_balanced.Texte.values\n",
        "labels = df_balanced.sexe.values\n",
        "length = 500\n",
        "batch_size_value = 16\n",
        "length_train=0.8\n",
        "torch.manual_seed(42)\n",
        "torch.cuda.manual_seed_all(42)\n",
        "\n",
        "# Tokenize all of the sentences and map the tokens to thier word IDs.\n",
        "input_ids = []\n",
        "attention_masks = []\n",
        "num_truncated_tokens =[]\n",
        "# Apply function to our corpus\n",
        "for text in texts:\n",
        "    encoded_dict = tokenizer.encode_plus(\n",
        "                        text,                      # text\n",
        "                        add_special_tokens = True, # Add '[CLS]' and '[SEP]'\n",
        "                        max_length = length,           # We choose for now a max length of 500.\n",
        "                        pad_to_max_length = True,    # Pad text to max (marche pas en pad left ?)\n",
        "                        return_attention_mask = True,   # Construct attention masks\n",
        "                        return_tensors = 'pt',     # Return pytorch tensors.\n",
        "                        return_overflowing_tokens =True, # return overflowing token information\n",
        "                  )\n",
        "    \n",
        "    # Map tokens to their id in the dictionnary \n",
        "    # We add this to our list    \n",
        "    input_ids.append(encoded_dict['input_ids'])\n",
        "\n",
        "    #num_truncated_tokens.append(encoded_dict['num_truncated_tokens'])\n",
        "    \n",
        "    # 3. Attention masks\n",
        "    attention_masks.append(encoded_dict['attention_mask'])\n",
        "\n",
        "# We convert all this into tensors in order to be able to make it work on GPU \n",
        "input_ids = torch.cat(input_ids, dim=0)\n",
        "attention_masks = torch.cat(attention_masks, dim=0)\n",
        "labels = torch.tensor(labels)\n",
        "\n",
        "# Original text and transformed tensor print \n",
        "print(\"Let's check for the first text indexes, attention masks and labels\")\n",
        "print(\" \")\n",
        "print('Original: ', texts[0][0:100])\n",
        "print('IDs:', input_ids[0][0:100])\n",
        "print('Attention masks:', attention_masks[0][0:100])\n",
        "print('labels',labels[0])\n",
        "\n",
        "\n",
        "# Combine all above\n",
        "dataset = TensorDataset(input_ids, attention_masks, labels)\n",
        "\n",
        "# Let's create a 80-20 train / validation dataset \n",
        "train_size = int(length_train * len(dataset))\n",
        "val_size = len(dataset) - train_size\n",
        "\n",
        "train_set, val_set = random_split(dataset, [train_size, val_size])\n",
        "\n",
        "\n",
        "print(\"-------------------------------------------------\")\n",
        "print(\" \")\n",
        "print(\"How many texts do we have in the train and validation sample ? \")\n",
        "print(\" \")\n",
        "print('We have {} training texts'.format(train_size))\n",
        "print('We have {} validation texts'.format(val_size))\n",
        "print(\" \")\n",
        "print(\"-------------------------------------------------\")\n",
        "\n",
        "# We set the size of the batch ( usually set around 16 or 32), we will take the lower bound because of the large text length\n",
        "batch_size = batch_size_value\n",
        "\n",
        "# We create data loaders for the train and validation dataset. \n",
        "train_loader_balanced = DataLoader(\n",
        "            train_set,  # The training samples.\n",
        "            sampler = RandomSampler(train_set), # Select batches randomly\n",
        "            batch_size = batch_size # Trains with this batch size.\n",
        "        )\n",
        "\n",
        "val_loader_balanced = DataLoader(\n",
        "            val_set, # The validation samples.\n",
        "            sampler = SequentialSampler(val_set), # Pull out batches sequentially.\n",
        "            batch_size = batch_size # Evaluate with this batch size.\n",
        "        )\n",
        "\n",
        "print('Data loaders created for train [0] and val [1]')"
      ],
      "execution_count": 0,
      "outputs": [
        {
          "output_type": "stream",
          "text": [
            "Let's check for the first text indexes, attention masks and labels\n",
            " \n",
            "Original:  Mesdames et Messieurs, j'ai été très heureux de recevoir aujourd'hui Mme Pesic, responsable de l'all\n",
            "IDs: tensor([    5, 23605,    14, 19923,     7,    76,    11,    73,   101,    95,\n",
            "         1941,     8,  1653,   405,    11,   265,  2439,  2997, 12219,     7,\n",
            "         1295,     8,    17,    11, 11193, 16552,    42,   745,    63,   296,\n",
            "        12199, 12997,    13,   595,    31, 30827,   405,    11,   265,    15,\n",
            "         3845, 11602,    35,     9,  2439,  2997, 12219,   115,    11,    55,\n",
            "          804,     8,   429, 10012,     7,    17,    11,  2153,     8,    13,\n",
            "          595,     7,    16,   299,     8,   477,    14,    19,  1161,    31,\n",
            "           56,    19, 11017,    10,    14,   989,     8,    17,    11,  4244,\n",
            "           24,  1077,    13, 25389,     8,    13,  1662,   462,  4440,    29,\n",
            "          745,   109,    48,   396,     9,   100,  4318,    39,  3318,     7])\n",
            "Attention masks: tensor([1, 1, 1, 1, 1, 1, 1, 1, 1, 1, 1, 1, 1, 1, 1, 1, 1, 1, 1, 1, 1, 1, 1, 1,\n",
            "        1, 1, 1, 1, 1, 1, 1, 1, 1, 1, 1, 1, 1, 1, 1, 1, 1, 1, 1, 1, 1, 1, 1, 1,\n",
            "        1, 1, 1, 1, 1, 1, 1, 1, 1, 1, 1, 1, 1, 1, 1, 1, 1, 1, 1, 1, 1, 1, 1, 1,\n",
            "        1, 1, 1, 1, 1, 1, 1, 1, 1, 1, 1, 1, 1, 1, 1, 1, 1, 1, 1, 1, 1, 1, 1, 1,\n",
            "        1, 1, 1, 1])\n",
            "labels tensor(0)\n",
            "-------------------------------------------------\n",
            " \n",
            "How many texts do we have in the train and validation sample ? \n",
            " \n",
            "We have 3988 training texts\n",
            "We have 998 validation texts\n",
            " \n",
            "-------------------------------------------------\n",
            "Data loaders created for train [0] and val [1]\n"
          ],
          "name": "stdout"
        }
      ]
    },
    {
      "cell_type": "code",
      "metadata": {
        "id": "4FBZvaQ969S0",
        "colab_type": "code",
        "outputId": "ac237bfe-2db6-48be-82ff-96bc537b667d",
        "colab": {
          "base_uri": "https://localhost:8080/",
          "height": 493
        }
      },
      "source": [
        "from torch.utils.data import TensorDataset, random_split\n",
        "from torch.utils.data import DataLoader, RandomSampler, SequentialSampler\n",
        "\n",
        "texts = df_balanced_split.Texte.values \n",
        "labels = df_balanced_split.sexe.values\n",
        "\n",
        "torch.manual_seed(42)\n",
        "torch.cuda.manual_seed_all(42)\n",
        "length = 500\n",
        "batch_size_value = 8\n",
        "length_train=0.8\n",
        "\n",
        "# Tokenize all of the sentences and map the tokens to thier word IDs.\n",
        "input_ids = []\n",
        "attention_masks = []\n",
        "num_truncated_tokens =[]\n",
        "# Apply function to our corpus\n",
        "for text in texts:\n",
        "    encoded_dict = tokenizer.encode_plus(\n",
        "                        text,                      # text\n",
        "                        add_special_tokens = True, # Add '[CLS]' and '[SEP]'\n",
        "                        max_length = length,           # We choose for now a max length of 500.\n",
        "                        pad_to_max_length = True,    # Pad text to max (marche pas en pad left ?)\n",
        "                        return_attention_mask = True,   # Construct attention masks\n",
        "                        return_tensors = 'pt',     # Return pytorch tensors.\n",
        "                        return_overflowing_tokens =True, # return overflowing token information\n",
        "                  )\n",
        "    \n",
        "    # Map tokens to their id in the dictionnary \n",
        "    # We add this to our list    \n",
        "    input_ids.append(encoded_dict['input_ids'])\n",
        "\n",
        "    #num_truncated_tokens.append(encoded_dict['num_truncated_tokens'])\n",
        "    \n",
        "    # 3. Attention masks\n",
        "    attention_masks.append(encoded_dict['attention_mask'])\n",
        "\n",
        "# We convert all this into tensors in order to be able to make it work on GPU \n",
        "input_ids = torch.cat(input_ids, dim=0)\n",
        "attention_masks = torch.cat(attention_masks, dim=0)\n",
        "labels = torch.tensor(labels)\n",
        "\n",
        "# Original text and transformed tensor print \n",
        "print(\"Let's check for the first text indexes, attention masks and labels\")\n",
        "print(\" \")\n",
        "print('Original: ', texts[0][0:100])\n",
        "print('IDs:', input_ids[0][0:100])\n",
        "print('Attention masks:', attention_masks[0][0:100])\n",
        "print('labels',labels[0])\n",
        "\n",
        "# Combine all above\n",
        "dataset = TensorDataset(input_ids, attention_masks, labels)\n",
        "\n",
        "# Let's create a 80-20 train / validation dataset \n",
        "train_size = int(length_train * len(dataset))\n",
        "val_size = len(dataset) - train_size\n",
        "\n",
        "train_set, val_set = random_split(dataset, [train_size, val_size])\n",
        "\n",
        "\n",
        "print(\"-------------------------------------------------\")\n",
        "print(\" \")\n",
        "print(\"How many texts do we have in the train and validation sample ? \")\n",
        "print(\" \")\n",
        "print('We have {} training texts'.format(train_size))\n",
        "print('We have {} validation texts'.format(val_size))\n",
        "print(\" \")\n",
        "print(\"-------------------------------------------------\")\n",
        "\n",
        "# We set the size of the batch ( usually set around 16 or 32), we will take the lower bound because of the large text length\n",
        "batch_size = batch_size_value\n",
        "\n",
        "# We create data loaders for the train and validation dataset. \n",
        "train_loader_balanced_split = DataLoader(\n",
        "            train_set,  # The training samples.\n",
        "            sampler = RandomSampler(train_set), # Select batches randomly\n",
        "            batch_size = batch_size # Trains with this batch size.\n",
        "        )\n",
        "\n",
        "val_loader_balanced_split = DataLoader(\n",
        "            val_set, # The validation samples.\n",
        "            sampler = SequentialSampler(val_set), # Pull out batches sequentially.\n",
        "            batch_size = batch_size # Evaluate with this batch size.\n",
        "        )\n",
        "\n",
        "print('Data loaders created for train [0] and val [1]')"
      ],
      "execution_count": 0,
      "outputs": [
        {
          "output_type": "stream",
          "text": [
            "Let's check for the first text indexes, attention masks and labels\n",
            " \n",
            "Original:   Mesdames et Messieurs, j'ai été très heureux de recevoir aujourd'hui Mme Pesic, responsable de l'al\n",
            "IDs: tensor([    5, 23605,    14, 19923,     7,    76,    11,    73,   101,    95,\n",
            "         1941,     8,  1653,   405,    11,   265,  2439,  2997, 12219,     7,\n",
            "         1295,     8,    17,    11, 11193, 16552,    42,   745,    63,   296,\n",
            "        12199, 12997,    13,   595,    31, 30827,   405,    11,   265,    15,\n",
            "         3845, 11602,    35,     9,  2439,  2997, 12219,   115,    11,    55,\n",
            "          804,     8,   429, 10012,     7,    17,    11,  2153,     8,    13,\n",
            "          595,     7,    16,   299,     8,   477,    14,    19,  1161,    31,\n",
            "           56,    19, 11017,    10,    14,   989,     8,    17,    11,  4244,\n",
            "           24,  1077,    13, 25389,     8,    13,  1662,   462,  4440,    29,\n",
            "          745,   109,    48,   396,     9,   100,  4318,    39,  3318,     7])\n",
            "Attention masks: tensor([1, 1, 1, 1, 1, 1, 1, 1, 1, 1, 1, 1, 1, 1, 1, 1, 1, 1, 1, 1, 1, 1, 1, 1,\n",
            "        1, 1, 1, 1, 1, 1, 1, 1, 1, 1, 1, 1, 1, 1, 1, 1, 1, 1, 1, 1, 1, 1, 1, 1,\n",
            "        1, 1, 1, 1, 1, 1, 1, 1, 1, 1, 1, 1, 1, 1, 1, 1, 1, 1, 1, 1, 1, 1, 1, 1,\n",
            "        1, 1, 1, 1, 1, 1, 1, 1, 1, 1, 1, 1, 1, 1, 1, 1, 1, 1, 1, 1, 1, 1, 1, 1,\n",
            "        1, 1, 1, 1])\n",
            "labels tensor(0)\n",
            "-------------------------------------------------\n",
            " \n",
            "How many texts do we have in the train and validation sample ? \n",
            " \n",
            "We have 17908 training texts\n",
            "We have 4478 validation texts\n",
            " \n",
            "-------------------------------------------------\n",
            "Data loaders created for train [0] and val [1]\n"
          ],
          "name": "stdout"
        }
      ]
    },
    {
      "cell_type": "markdown",
      "metadata": {
        "id": "vs6YDmQsgljf",
        "colab_type": "text"
      },
      "source": [
        "5 and 6 seem to be the [CLS] and [SEP] special tokens \n"
      ]
    },
    {
      "cell_type": "markdown",
      "metadata": {
        "id": "poTTEJX1hoUK",
        "colab_type": "text"
      },
      "source": [
        "## CamemBERT Sequence Classification model tuning\n"
      ]
    },
    {
      "cell_type": "markdown",
      "metadata": {
        "id": "NN1VeJI0lDwf",
        "colab_type": "text"
      },
      "source": [
        "### Loading the model\n"
      ]
    },
    {
      "cell_type": "markdown",
      "metadata": {
        "id": "99MPOVB7iRcl",
        "colab_type": "text"
      },
      "source": [
        "We will finally build up our model. We will use the  CamemBERT model for sequence classification which includes a special top layer designed for this task. "
      ]
    },
    {
      "cell_type": "code",
      "metadata": {
        "id": "XRHhHzjKgAC6",
        "colab_type": "code",
        "colab": {}
      },
      "source": [
        "# Importing from transformers\n",
        "from transformers import CamembertForSequenceClassification, CamembertConfig"
      ],
      "execution_count": 0,
      "outputs": []
    },
    {
      "cell_type": "code",
      "metadata": {
        "id": "FHMdM-QqgAAX",
        "colab_type": "code",
        "outputId": "fc914862-c632-4c9b-8e35-31aac1fbd471",
        "colab": {
          "base_uri": "https://localhost:8080/",
          "height": 115,
          "referenced_widgets": [
            "8bb6a0e52c2047198f8a4d9c3ae19eb8",
            "30841884dddf4ed7ad275a953866e63e",
            "600a4746d2b9467c97aae99648b2d9e1",
            "e5f293761ebe4debad834b195e3b6009",
            "1b6772a63d7c484bbd5237c9872cb494",
            "d45421d926e842439e58771b52550e3c",
            "acabceebaa5d46bf8cf03da75107843f",
            "08c2103c9b6947528e3124c4b27e9799",
            "522d1ae97de14f7cbe919a183b4ccdb0",
            "7a75f027dfbf40d3b563d58a757f5d0f",
            "b8734ceb7db24503bf0d99a08f3a35af",
            "10ed4e33740c4aa78f2f17f213986ee3",
            "806516ece2ba41078b8dc7434c4b0b36",
            "a312e2a5d9124caa8311cf140640701c",
            "6e592c8ebb864ff6bcfd4273b18468bf",
            "46e3157fa8fc4157b504b33d7b8441bc"
          ]
        }
      },
      "source": [
        "# Loading the model\n",
        "gender_model = CamembertForSequenceClassification.from_pretrained(\n",
        "    \"camembert-base\", \n",
        "    num_labels = 2, # We have two different labels Women = 1 and Men =0   \n",
        "    output_attentions = False, \n",
        "    output_hidden_states = False, \n",
        ")"
      ],
      "execution_count": 0,
      "outputs": [
        {
          "output_type": "display_data",
          "data": {
            "application/vnd.jupyter.widget-view+json": {
              "model_id": "8bb6a0e52c2047198f8a4d9c3ae19eb8",
              "version_minor": 0,
              "version_major": 2
            },
            "text/plain": [
              "HBox(children=(IntProgress(value=0, description='Downloading', max=637, style=ProgressStyle(description_width=…"
            ]
          },
          "metadata": {
            "tags": []
          }
        },
        {
          "output_type": "stream",
          "text": [
            "\n"
          ],
          "name": "stdout"
        },
        {
          "output_type": "display_data",
          "data": {
            "application/vnd.jupyter.widget-view+json": {
              "model_id": "522d1ae97de14f7cbe919a183b4ccdb0",
              "version_minor": 0,
              "version_major": 2
            },
            "text/plain": [
              "HBox(children=(IntProgress(value=0, description='Downloading', max=445032417, style=ProgressStyle(description_…"
            ]
          },
          "metadata": {
            "tags": []
          }
        },
        {
          "output_type": "stream",
          "text": [
            "\n"
          ],
          "name": "stdout"
        }
      ]
    },
    {
      "cell_type": "code",
      "metadata": {
        "id": "vUKynoykf_9y",
        "colab_type": "code",
        "outputId": "30e3d1fd-1246-4309-e4c9-371dd36405cf",
        "colab": {
          "base_uri": "https://localhost:8080/",
          "height": 1000
        }
      },
      "source": [
        "# We run the model on the colab GPU \n",
        "gender_model.cuda()"
      ],
      "execution_count": 0,
      "outputs": [
        {
          "output_type": "execute_result",
          "data": {
            "text/plain": [
              "CamembertForSequenceClassification(\n",
              "  (roberta): RobertaModel(\n",
              "    (embeddings): RobertaEmbeddings(\n",
              "      (word_embeddings): Embedding(32005, 768, padding_idx=1)\n",
              "      (position_embeddings): Embedding(514, 768, padding_idx=1)\n",
              "      (token_type_embeddings): Embedding(1, 768)\n",
              "      (LayerNorm): LayerNorm((768,), eps=1e-05, elementwise_affine=True)\n",
              "      (dropout): Dropout(p=0.1, inplace=False)\n",
              "    )\n",
              "    (encoder): BertEncoder(\n",
              "      (layer): ModuleList(\n",
              "        (0): BertLayer(\n",
              "          (attention): BertAttention(\n",
              "            (self): BertSelfAttention(\n",
              "              (query): Linear(in_features=768, out_features=768, bias=True)\n",
              "              (key): Linear(in_features=768, out_features=768, bias=True)\n",
              "              (value): Linear(in_features=768, out_features=768, bias=True)\n",
              "              (dropout): Dropout(p=0.1, inplace=False)\n",
              "            )\n",
              "            (output): BertSelfOutput(\n",
              "              (dense): Linear(in_features=768, out_features=768, bias=True)\n",
              "              (LayerNorm): LayerNorm((768,), eps=1e-05, elementwise_affine=True)\n",
              "              (dropout): Dropout(p=0.1, inplace=False)\n",
              "            )\n",
              "          )\n",
              "          (intermediate): BertIntermediate(\n",
              "            (dense): Linear(in_features=768, out_features=3072, bias=True)\n",
              "          )\n",
              "          (output): BertOutput(\n",
              "            (dense): Linear(in_features=3072, out_features=768, bias=True)\n",
              "            (LayerNorm): LayerNorm((768,), eps=1e-05, elementwise_affine=True)\n",
              "            (dropout): Dropout(p=0.1, inplace=False)\n",
              "          )\n",
              "        )\n",
              "        (1): BertLayer(\n",
              "          (attention): BertAttention(\n",
              "            (self): BertSelfAttention(\n",
              "              (query): Linear(in_features=768, out_features=768, bias=True)\n",
              "              (key): Linear(in_features=768, out_features=768, bias=True)\n",
              "              (value): Linear(in_features=768, out_features=768, bias=True)\n",
              "              (dropout): Dropout(p=0.1, inplace=False)\n",
              "            )\n",
              "            (output): BertSelfOutput(\n",
              "              (dense): Linear(in_features=768, out_features=768, bias=True)\n",
              "              (LayerNorm): LayerNorm((768,), eps=1e-05, elementwise_affine=True)\n",
              "              (dropout): Dropout(p=0.1, inplace=False)\n",
              "            )\n",
              "          )\n",
              "          (intermediate): BertIntermediate(\n",
              "            (dense): Linear(in_features=768, out_features=3072, bias=True)\n",
              "          )\n",
              "          (output): BertOutput(\n",
              "            (dense): Linear(in_features=3072, out_features=768, bias=True)\n",
              "            (LayerNorm): LayerNorm((768,), eps=1e-05, elementwise_affine=True)\n",
              "            (dropout): Dropout(p=0.1, inplace=False)\n",
              "          )\n",
              "        )\n",
              "        (2): BertLayer(\n",
              "          (attention): BertAttention(\n",
              "            (self): BertSelfAttention(\n",
              "              (query): Linear(in_features=768, out_features=768, bias=True)\n",
              "              (key): Linear(in_features=768, out_features=768, bias=True)\n",
              "              (value): Linear(in_features=768, out_features=768, bias=True)\n",
              "              (dropout): Dropout(p=0.1, inplace=False)\n",
              "            )\n",
              "            (output): BertSelfOutput(\n",
              "              (dense): Linear(in_features=768, out_features=768, bias=True)\n",
              "              (LayerNorm): LayerNorm((768,), eps=1e-05, elementwise_affine=True)\n",
              "              (dropout): Dropout(p=0.1, inplace=False)\n",
              "            )\n",
              "          )\n",
              "          (intermediate): BertIntermediate(\n",
              "            (dense): Linear(in_features=768, out_features=3072, bias=True)\n",
              "          )\n",
              "          (output): BertOutput(\n",
              "            (dense): Linear(in_features=3072, out_features=768, bias=True)\n",
              "            (LayerNorm): LayerNorm((768,), eps=1e-05, elementwise_affine=True)\n",
              "            (dropout): Dropout(p=0.1, inplace=False)\n",
              "          )\n",
              "        )\n",
              "        (3): BertLayer(\n",
              "          (attention): BertAttention(\n",
              "            (self): BertSelfAttention(\n",
              "              (query): Linear(in_features=768, out_features=768, bias=True)\n",
              "              (key): Linear(in_features=768, out_features=768, bias=True)\n",
              "              (value): Linear(in_features=768, out_features=768, bias=True)\n",
              "              (dropout): Dropout(p=0.1, inplace=False)\n",
              "            )\n",
              "            (output): BertSelfOutput(\n",
              "              (dense): Linear(in_features=768, out_features=768, bias=True)\n",
              "              (LayerNorm): LayerNorm((768,), eps=1e-05, elementwise_affine=True)\n",
              "              (dropout): Dropout(p=0.1, inplace=False)\n",
              "            )\n",
              "          )\n",
              "          (intermediate): BertIntermediate(\n",
              "            (dense): Linear(in_features=768, out_features=3072, bias=True)\n",
              "          )\n",
              "          (output): BertOutput(\n",
              "            (dense): Linear(in_features=3072, out_features=768, bias=True)\n",
              "            (LayerNorm): LayerNorm((768,), eps=1e-05, elementwise_affine=True)\n",
              "            (dropout): Dropout(p=0.1, inplace=False)\n",
              "          )\n",
              "        )\n",
              "        (4): BertLayer(\n",
              "          (attention): BertAttention(\n",
              "            (self): BertSelfAttention(\n",
              "              (query): Linear(in_features=768, out_features=768, bias=True)\n",
              "              (key): Linear(in_features=768, out_features=768, bias=True)\n",
              "              (value): Linear(in_features=768, out_features=768, bias=True)\n",
              "              (dropout): Dropout(p=0.1, inplace=False)\n",
              "            )\n",
              "            (output): BertSelfOutput(\n",
              "              (dense): Linear(in_features=768, out_features=768, bias=True)\n",
              "              (LayerNorm): LayerNorm((768,), eps=1e-05, elementwise_affine=True)\n",
              "              (dropout): Dropout(p=0.1, inplace=False)\n",
              "            )\n",
              "          )\n",
              "          (intermediate): BertIntermediate(\n",
              "            (dense): Linear(in_features=768, out_features=3072, bias=True)\n",
              "          )\n",
              "          (output): BertOutput(\n",
              "            (dense): Linear(in_features=3072, out_features=768, bias=True)\n",
              "            (LayerNorm): LayerNorm((768,), eps=1e-05, elementwise_affine=True)\n",
              "            (dropout): Dropout(p=0.1, inplace=False)\n",
              "          )\n",
              "        )\n",
              "        (5): BertLayer(\n",
              "          (attention): BertAttention(\n",
              "            (self): BertSelfAttention(\n",
              "              (query): Linear(in_features=768, out_features=768, bias=True)\n",
              "              (key): Linear(in_features=768, out_features=768, bias=True)\n",
              "              (value): Linear(in_features=768, out_features=768, bias=True)\n",
              "              (dropout): Dropout(p=0.1, inplace=False)\n",
              "            )\n",
              "            (output): BertSelfOutput(\n",
              "              (dense): Linear(in_features=768, out_features=768, bias=True)\n",
              "              (LayerNorm): LayerNorm((768,), eps=1e-05, elementwise_affine=True)\n",
              "              (dropout): Dropout(p=0.1, inplace=False)\n",
              "            )\n",
              "          )\n",
              "          (intermediate): BertIntermediate(\n",
              "            (dense): Linear(in_features=768, out_features=3072, bias=True)\n",
              "          )\n",
              "          (output): BertOutput(\n",
              "            (dense): Linear(in_features=3072, out_features=768, bias=True)\n",
              "            (LayerNorm): LayerNorm((768,), eps=1e-05, elementwise_affine=True)\n",
              "            (dropout): Dropout(p=0.1, inplace=False)\n",
              "          )\n",
              "        )\n",
              "        (6): BertLayer(\n",
              "          (attention): BertAttention(\n",
              "            (self): BertSelfAttention(\n",
              "              (query): Linear(in_features=768, out_features=768, bias=True)\n",
              "              (key): Linear(in_features=768, out_features=768, bias=True)\n",
              "              (value): Linear(in_features=768, out_features=768, bias=True)\n",
              "              (dropout): Dropout(p=0.1, inplace=False)\n",
              "            )\n",
              "            (output): BertSelfOutput(\n",
              "              (dense): Linear(in_features=768, out_features=768, bias=True)\n",
              "              (LayerNorm): LayerNorm((768,), eps=1e-05, elementwise_affine=True)\n",
              "              (dropout): Dropout(p=0.1, inplace=False)\n",
              "            )\n",
              "          )\n",
              "          (intermediate): BertIntermediate(\n",
              "            (dense): Linear(in_features=768, out_features=3072, bias=True)\n",
              "          )\n",
              "          (output): BertOutput(\n",
              "            (dense): Linear(in_features=3072, out_features=768, bias=True)\n",
              "            (LayerNorm): LayerNorm((768,), eps=1e-05, elementwise_affine=True)\n",
              "            (dropout): Dropout(p=0.1, inplace=False)\n",
              "          )\n",
              "        )\n",
              "        (7): BertLayer(\n",
              "          (attention): BertAttention(\n",
              "            (self): BertSelfAttention(\n",
              "              (query): Linear(in_features=768, out_features=768, bias=True)\n",
              "              (key): Linear(in_features=768, out_features=768, bias=True)\n",
              "              (value): Linear(in_features=768, out_features=768, bias=True)\n",
              "              (dropout): Dropout(p=0.1, inplace=False)\n",
              "            )\n",
              "            (output): BertSelfOutput(\n",
              "              (dense): Linear(in_features=768, out_features=768, bias=True)\n",
              "              (LayerNorm): LayerNorm((768,), eps=1e-05, elementwise_affine=True)\n",
              "              (dropout): Dropout(p=0.1, inplace=False)\n",
              "            )\n",
              "          )\n",
              "          (intermediate): BertIntermediate(\n",
              "            (dense): Linear(in_features=768, out_features=3072, bias=True)\n",
              "          )\n",
              "          (output): BertOutput(\n",
              "            (dense): Linear(in_features=3072, out_features=768, bias=True)\n",
              "            (LayerNorm): LayerNorm((768,), eps=1e-05, elementwise_affine=True)\n",
              "            (dropout): Dropout(p=0.1, inplace=False)\n",
              "          )\n",
              "        )\n",
              "        (8): BertLayer(\n",
              "          (attention): BertAttention(\n",
              "            (self): BertSelfAttention(\n",
              "              (query): Linear(in_features=768, out_features=768, bias=True)\n",
              "              (key): Linear(in_features=768, out_features=768, bias=True)\n",
              "              (value): Linear(in_features=768, out_features=768, bias=True)\n",
              "              (dropout): Dropout(p=0.1, inplace=False)\n",
              "            )\n",
              "            (output): BertSelfOutput(\n",
              "              (dense): Linear(in_features=768, out_features=768, bias=True)\n",
              "              (LayerNorm): LayerNorm((768,), eps=1e-05, elementwise_affine=True)\n",
              "              (dropout): Dropout(p=0.1, inplace=False)\n",
              "            )\n",
              "          )\n",
              "          (intermediate): BertIntermediate(\n",
              "            (dense): Linear(in_features=768, out_features=3072, bias=True)\n",
              "          )\n",
              "          (output): BertOutput(\n",
              "            (dense): Linear(in_features=3072, out_features=768, bias=True)\n",
              "            (LayerNorm): LayerNorm((768,), eps=1e-05, elementwise_affine=True)\n",
              "            (dropout): Dropout(p=0.1, inplace=False)\n",
              "          )\n",
              "        )\n",
              "        (9): BertLayer(\n",
              "          (attention): BertAttention(\n",
              "            (self): BertSelfAttention(\n",
              "              (query): Linear(in_features=768, out_features=768, bias=True)\n",
              "              (key): Linear(in_features=768, out_features=768, bias=True)\n",
              "              (value): Linear(in_features=768, out_features=768, bias=True)\n",
              "              (dropout): Dropout(p=0.1, inplace=False)\n",
              "            )\n",
              "            (output): BertSelfOutput(\n",
              "              (dense): Linear(in_features=768, out_features=768, bias=True)\n",
              "              (LayerNorm): LayerNorm((768,), eps=1e-05, elementwise_affine=True)\n",
              "              (dropout): Dropout(p=0.1, inplace=False)\n",
              "            )\n",
              "          )\n",
              "          (intermediate): BertIntermediate(\n",
              "            (dense): Linear(in_features=768, out_features=3072, bias=True)\n",
              "          )\n",
              "          (output): BertOutput(\n",
              "            (dense): Linear(in_features=3072, out_features=768, bias=True)\n",
              "            (LayerNorm): LayerNorm((768,), eps=1e-05, elementwise_affine=True)\n",
              "            (dropout): Dropout(p=0.1, inplace=False)\n",
              "          )\n",
              "        )\n",
              "        (10): BertLayer(\n",
              "          (attention): BertAttention(\n",
              "            (self): BertSelfAttention(\n",
              "              (query): Linear(in_features=768, out_features=768, bias=True)\n",
              "              (key): Linear(in_features=768, out_features=768, bias=True)\n",
              "              (value): Linear(in_features=768, out_features=768, bias=True)\n",
              "              (dropout): Dropout(p=0.1, inplace=False)\n",
              "            )\n",
              "            (output): BertSelfOutput(\n",
              "              (dense): Linear(in_features=768, out_features=768, bias=True)\n",
              "              (LayerNorm): LayerNorm((768,), eps=1e-05, elementwise_affine=True)\n",
              "              (dropout): Dropout(p=0.1, inplace=False)\n",
              "            )\n",
              "          )\n",
              "          (intermediate): BertIntermediate(\n",
              "            (dense): Linear(in_features=768, out_features=3072, bias=True)\n",
              "          )\n",
              "          (output): BertOutput(\n",
              "            (dense): Linear(in_features=3072, out_features=768, bias=True)\n",
              "            (LayerNorm): LayerNorm((768,), eps=1e-05, elementwise_affine=True)\n",
              "            (dropout): Dropout(p=0.1, inplace=False)\n",
              "          )\n",
              "        )\n",
              "        (11): BertLayer(\n",
              "          (attention): BertAttention(\n",
              "            (self): BertSelfAttention(\n",
              "              (query): Linear(in_features=768, out_features=768, bias=True)\n",
              "              (key): Linear(in_features=768, out_features=768, bias=True)\n",
              "              (value): Linear(in_features=768, out_features=768, bias=True)\n",
              "              (dropout): Dropout(p=0.1, inplace=False)\n",
              "            )\n",
              "            (output): BertSelfOutput(\n",
              "              (dense): Linear(in_features=768, out_features=768, bias=True)\n",
              "              (LayerNorm): LayerNorm((768,), eps=1e-05, elementwise_affine=True)\n",
              "              (dropout): Dropout(p=0.1, inplace=False)\n",
              "            )\n",
              "          )\n",
              "          (intermediate): BertIntermediate(\n",
              "            (dense): Linear(in_features=768, out_features=3072, bias=True)\n",
              "          )\n",
              "          (output): BertOutput(\n",
              "            (dense): Linear(in_features=3072, out_features=768, bias=True)\n",
              "            (LayerNorm): LayerNorm((768,), eps=1e-05, elementwise_affine=True)\n",
              "            (dropout): Dropout(p=0.1, inplace=False)\n",
              "          )\n",
              "        )\n",
              "      )\n",
              "    )\n",
              "    (pooler): BertPooler(\n",
              "      (dense): Linear(in_features=768, out_features=768, bias=True)\n",
              "      (activation): Tanh()\n",
              "    )\n",
              "  )\n",
              "  (classifier): RobertaClassificationHead(\n",
              "    (dense): Linear(in_features=768, out_features=768, bias=True)\n",
              "    (dropout): Dropout(p=0.1, inplace=False)\n",
              "    (out_proj): Linear(in_features=768, out_features=2, bias=True)\n",
              "  )\n",
              ")"
            ]
          },
          "metadata": {
            "tags": []
          },
          "execution_count": 31
        }
      ]
    },
    {
      "cell_type": "markdown",
      "metadata": {
        "id": "sgwmHirxnEie",
        "colab_type": "text"
      },
      "source": [
        "### Constructing the training and validation loop \n"
      ]
    },
    {
      "cell_type": "code",
      "metadata": {
        "id": "pZDt2ZElwcJh",
        "colab_type": "code",
        "colab": {}
      },
      "source": [
        "import numpy as np\n",
        "\n",
        "from sklearn.metrics import f1_score \n",
        "\n",
        "def create_report(labels,preds) : \n",
        "  pred_flat= np.argmax(preds, axis=1).flatten()\n",
        "  labels_flat = labels.flatten()\n",
        "  F1_score = f1_score(labels_flat,pred_flat,zero_division=1)\n",
        "  Accuracy = np.sum(pred_flat == labels_flat) / len(labels_flat)\n",
        "  return F1_score, Accuracy"
      ],
      "execution_count": 0,
      "outputs": []
    },
    {
      "cell_type": "code",
      "metadata": {
        "id": "WUB8c4k_t1UJ",
        "colab_type": "code",
        "colab": {}
      },
      "source": [
        "def train_val_gendermodel(train_loader, val_loader, epochs_val,seed_val,device,lr_value):\n",
        "\n",
        "  ############################  IMPORT MODEL ################################################\n",
        "  from transformers import CamembertForSequenceClassification\n",
        "  gender_model = CamembertForSequenceClassification.from_pretrained(\n",
        "    \"camembert-base\", \n",
        "    num_labels = 2, # We have two different labels Women = 1 and Men =0   \n",
        "    output_attentions = False, \n",
        "    output_hidden_states = False, )\n",
        "\n",
        "  model = gender_model\n",
        "  model.cuda()\n",
        "  \n",
        "  ############################## RANDOM SEED ##################################################\n",
        "\n",
        "  import random\n",
        " # Let's put a seed to make this result reproducible \n",
        "  seed=seed_val\n",
        "  random.seed(seed)\n",
        "  np.random.seed(seed)\n",
        "  torch.manual_seed(seed)\n",
        "  torch.cuda.manual_seed_all(seed)\n",
        "\n",
        "  ############################### LEARNING RATE SCHEDULER #######################################\n",
        "\n",
        "  # https://huggingface.co/transformers/migration.html \n",
        "  # https://pytorch.org/docs/stable/optim.html (default values)\n",
        "\n",
        "  import torch.nn as nn\n",
        "  import torch.optim as optim\n",
        "  from transformers import AdamW\n",
        "  from transformers import get_linear_schedule_with_warmup\n",
        "\n",
        "  epochs = epochs_val # In order to fine tune our model we will first set the number of epochs to 4.\n",
        "\n",
        "  # We choose Binary cross enthropy with logits loss for the loss computation. It seems to be the most adapted loss to our problem. \n",
        "  criterion = nn.BCEWithLogitsLoss()\n",
        "  #Implements Adam algorithm with weight decay fix.\n",
        "  opti = AdamW(model.parameters(),\n",
        "                    lr =lr_value, # learning rate (default = 1e-3)\n",
        "                    eps = 1e-8 # prevents division by 0 (default = 1e-8)\n",
        "                  )\n",
        "\n",
        "  num_training_steps = len(train_loader) * epochs\n",
        "  # Create a schedule with a learning rate that decreases linearly after linearly increasing during a warmup period (0 here)\n",
        "  scheduler = get_linear_schedule_with_warmup(opti, \n",
        "                                              num_warmup_steps = 0,\n",
        "                                              num_training_steps = num_training_steps)\n",
        "  \n",
        "  \n",
        "  # We want to evaluate the training phase \n",
        "  training_stats = []\n",
        "\n",
        "  for ep in range(0, epochs):\n",
        "    print('===========Starting Epoch {} / {} =============='.format(ep+1,epochs))\n",
        "    print('Training starts')\n",
        "\n",
        "    ################################### TRAINING ################################\n",
        "\n",
        "    #Put the model in training mode\n",
        "    model.train()\n",
        "\n",
        "    # Set the train loss for the epoch to 0 \n",
        "    total_train_loss = 0\n",
        "\n",
        "    for step, batch in enumerate(train_loader):\n",
        "      # Clear gradients \n",
        "      model.zero_grad() # (opti.zerograd ? )\n",
        "\n",
        "      # Cpy the 3 batch to GPU \n",
        "      b_input_ids = batch[0].to(device)\n",
        "      b_input_mask = batch[1].to(device)\n",
        "      b_labels = batch[2].to(device)\n",
        "      \n",
        "      #return loss and logits\n",
        "      loss, logits = model(b_input_ids, \n",
        "                          token_type_ids=None, \n",
        "                          attention_mask=b_input_mask, \n",
        "                          labels=b_labels) \n",
        "      \n",
        "      # Accumulate training loss for all batches \n",
        "      total_train_loss += loss.item()\n",
        "\n",
        "      #Backpropagating the gradients \n",
        "      loss.backward()\n",
        "\n",
        "      # Prevent exploding gradients problem  (forcing the gradients to be small, the parameter updates will not push the parameters too far from their previous values)\n",
        "      torch.nn.utils.clip_grad_norm_(model.parameters(), 1.0)\n",
        "\n",
        "      # Update parameters \n",
        "      opti.step()\n",
        "\n",
        "      # Update learning rate schedule\n",
        "      scheduler.step()\n",
        "\n",
        "    #Calculate the average training loss over all batches  \n",
        "    avg_train_loss = total_train_loss / len(train_loader)\n",
        "    print(\"\")\n",
        "    print(\"  Average training loss: {0:.2f}\".format(avg_train_loss))\n",
        "    print('')\n",
        "    print('Validation starts')\n",
        "\n",
        "    ###################### VALIDATION #############################\n",
        "\n",
        "    # Put model in evaluation mode \n",
        "    model.eval()\n",
        "\n",
        "    # Set statistics to 0\n",
        "    total_eval_accuracy = 0\n",
        "    total_eval_loss = 0\n",
        "    nb_eval_steps = 0\n",
        "    total_eval_f1=0\n",
        "    total_roc_auc = 0 \n",
        "\n",
        "    # Confusion matrix ?\n",
        "    predictions, true_labels = [], []\n",
        "\n",
        "    for batch in val_loader:\n",
        "      b_input_ids = batch[0].to(device)\n",
        "      b_input_mask = batch[1].to(device)\n",
        "      b_labels = batch[2].to(device)\n",
        "      \n",
        "      # We don't care about gradients for eval\n",
        "\n",
        "      with torch.no_grad(): \n",
        "        (loss, logits) = model(b_input_ids, \n",
        "                                  token_type_ids=None, \n",
        "                                  attention_mask=b_input_mask,\n",
        "                                  labels=b_labels)\n",
        "      total_eval_loss += loss.item()\n",
        "\n",
        "        # Move logits and labels to CPU \n",
        "      logits = logits.detach().cpu().numpy()\n",
        "      label_ids = b_labels.to('cpu').numpy()\n",
        "\n",
        "      F1_score, Accuracy = create_report(label_ids,logits)\n",
        "\n",
        "      # Accumulation accuracy for all batch\n",
        "      total_eval_accuracy += Accuracy\n",
        "\n",
        "      # Accumulation f1 for all batch\n",
        "      total_eval_f1 += F1_score\n",
        "\n",
        "      \n",
        "      #Final accuracy on all batch\n",
        "    avg_val_accuracy = total_eval_accuracy / len(val_loader)\n",
        "    print(\"  Accuracy: {0:.2f}\".format(avg_val_accuracy))\n",
        "\n",
        "      #Final f1 on all batch\n",
        "    avg_val_f1 = total_eval_f1 / len(val_loader)\n",
        "    print(\"  F1_score: {0:.2f}\".format(avg_val_f1))\n",
        "\n",
        "      #Final loss over all batch\n",
        "    avg_val_loss = total_eval_loss / len(val_loader)\n",
        "    print(\"  Validation Loss: {0:.2f}\".format(avg_val_loss))\n",
        "\n",
        "    training_stats.append(\n",
        "          {\n",
        "              'epoch': ep + 1,\n",
        "              'Train Loss': avg_train_loss,\n",
        "              'Val Loss': avg_val_loss,\n",
        "              'Val Accur.': avg_val_accuracy,\n",
        "              'Val F1' : avg_val_f1,\n",
        "          }\n",
        "      )\n",
        "\n",
        "  print(\"\")\n",
        "  print(\"Done !\")\n",
        "\n",
        "  return  training_stats"
      ],
      "execution_count": 0,
      "outputs": []
    },
    {
      "cell_type": "code",
      "metadata": {
        "id": "anria4-x6FHk",
        "colab_type": "code",
        "colab": {}
      },
      "source": [
        "def report_model_1(results):\n",
        "  '''\n",
        "  Input : statistics of the model \n",
        "  Output : training and valid loss \n",
        "  ''' \n",
        "  df_stats = pd.DataFrame(data=results)\n",
        "  df_stats = df_stats.set_index('epoch')\n",
        "  print(df_stats)\n",
        "\n",
        "  import matplotlib.pyplot as plt\n",
        "  % matplotlib inline\n",
        "  import seaborn as sns\n",
        "\n",
        "  # Increase the plot size and font size.\n",
        "  sns.set(font_scale=1.5)\n",
        "  plt.rcParams[\"figure.figsize\"] = (12,6)\n",
        "\n",
        "  # Plot the learning curve.\n",
        "  plt.plot(df_stats['Train Loss'], 'b-o', label=\"Training\")\n",
        "  plt.plot(df_stats['Val Loss'], 'g-o', label=\"Validation\")\n",
        "\n",
        "  # Label the plot.\n",
        "  plt.title(\"Training & Validation Loss\")\n",
        "  plt.xlabel(\"Epoch\")\n",
        "  plt.ylabel(\"Loss\")\n",
        "  plt.legend()\n",
        "  plt.xticks([1, 2, 3, 4, 5])\n",
        "\n",
        "  plt.show()"
      ],
      "execution_count": 0,
      "outputs": []
    },
    {
      "cell_type": "code",
      "metadata": {
        "id": "WqNRTJME5oHs",
        "colab_type": "code",
        "outputId": "4baf22a0-2744-49ed-9077-70967450ebf1",
        "colab": {
          "base_uri": "https://localhost:8080/",
          "height": 816
        }
      },
      "source": [
        "results_unbalanced = train_val_gendermodel(train_loader=train_loader_unbalanced, val_loader=val_loader_unbalanced, epochs_val=5,seed_val=42,device=device,lr_value=5e-5)"
      ],
      "execution_count": 0,
      "outputs": [
        {
          "output_type": "stream",
          "text": [
            "===========Starting Epoch 1 / 5 ==============\n",
            "Training starts\n",
            "\n",
            "  Average training loss: 0.42\n",
            "\n",
            "Validation starts\n",
            "  Accuracy: 0.86\n",
            "  F1_score: 0.61\n",
            "  Validation Loss: 0.35\n",
            "===========Starting Epoch 2 / 5 ==============\n",
            "Training starts\n",
            "\n",
            "  Average training loss: 0.30\n",
            "\n",
            "Validation starts\n",
            "  Accuracy: 0.88\n",
            "  F1_score: 0.70\n",
            "  Validation Loss: 0.33\n",
            "===========Starting Epoch 3 / 5 ==============\n",
            "Training starts\n",
            "\n",
            "  Average training loss: 0.21\n",
            "\n",
            "Validation starts\n",
            "  Accuracy: 0.88\n",
            "  F1_score: 0.71\n",
            "  Validation Loss: 0.36\n",
            "===========Starting Epoch 4 / 5 ==============\n",
            "Training starts\n",
            "\n",
            "  Average training loss: 0.14\n",
            "\n",
            "Validation starts\n",
            "  Accuracy: 0.88\n",
            "  F1_score: 0.71\n",
            "  Validation Loss: 0.46\n",
            "===========Starting Epoch 5 / 5 ==============\n",
            "Training starts\n",
            "\n",
            "  Average training loss: 0.08\n",
            "\n",
            "Validation starts\n",
            "  Accuracy: 0.87\n",
            "  F1_score: 0.69\n",
            "  Validation Loss: 0.53\n",
            "\n",
            "Done !\n"
          ],
          "name": "stdout"
        }
      ]
    },
    {
      "cell_type": "code",
      "metadata": {
        "id": "fKu-O0c653tX",
        "colab_type": "code",
        "outputId": "e68d2288-48e2-4079-c6f7-e0672f8015fb",
        "colab": {
          "base_uri": "https://localhost:8080/",
          "height": 580
        }
      },
      "source": [
        "report_model_1(results_unbalanced)"
      ],
      "execution_count": 0,
      "outputs": [
        {
          "output_type": "stream",
          "text": [
            "       Train Loss  Val Loss  Val Accur.    Val F1\n",
            "epoch                                            \n",
            "1        0.422874  0.351118    0.857143  0.613730\n",
            "2        0.299098  0.328366    0.882937  0.696951\n",
            "3        0.214140  0.356034    0.880952  0.706913\n",
            "4        0.139882  0.462502    0.878968  0.705277\n",
            "5        0.078685  0.528402    0.866071  0.687949\n"
          ],
          "name": "stdout"
        },
        {
          "output_type": "stream",
          "text": [
            "/usr/local/lib/python3.6/dist-packages/statsmodels/tools/_testing.py:19: FutureWarning: pandas.util.testing is deprecated. Use the functions in the public API at pandas.testing instead.\n",
            "  import pandas.util.testing as tm\n"
          ],
          "name": "stderr"
        },
        {
          "output_type": "display_data",
          "data": {
            "image/png": "[encoded data removed]",
            "text/plain": [
              "<Figure size 864x432 with 1 Axes>"
            ]
          },
          "metadata": {
            "tags": []
          }
        }
      ]
    },
    {
      "cell_type": "code",
      "metadata": {
        "id": "DH9QNCMXR0zc",
        "colab_type": "code",
        "outputId": "b15aee03-1fb9-4e6a-8997-f78b3efb6a0b",
        "colab": {
          "base_uri": "https://localhost:8080/",
          "height": 816
        }
      },
      "source": [
        "results_balanced = train_val_gendermodel(train_loader=train_loader_balanced, val_loader=val_loader_balanced, epochs_val=5,seed_val=42,device=device,lr_value=5e-5)"
      ],
      "execution_count": 0,
      "outputs": [
        {
          "output_type": "stream",
          "text": [
            "===========Starting Epoch 1 / 5 ==============\n",
            "Training starts\n",
            "\n",
            "  Average training loss: 0.49\n",
            "\n",
            "Validation starts\n",
            "  Accuracy: 0.81\n",
            "  F1_score: 0.80\n",
            "  Validation Loss: 0.38\n",
            "===========Starting Epoch 2 / 5 ==============\n",
            "Training starts\n",
            "\n",
            "  Average training loss: 0.32\n",
            "\n",
            "Validation starts\n",
            "  Accuracy: 0.84\n",
            "  F1_score: 0.82\n",
            "  Validation Loss: 0.40\n",
            "===========Starting Epoch 3 / 5 ==============\n",
            "Training starts\n",
            "\n",
            "  Average training loss: 0.24\n",
            "\n",
            "Validation starts\n",
            "  Accuracy: 0.79\n",
            "  F1_score: 0.75\n",
            "  Validation Loss: 0.56\n",
            "===========Starting Epoch 4 / 5 ==============\n",
            "Training starts\n",
            "\n",
            "  Average training loss: 0.15\n",
            "\n",
            "Validation starts\n",
            "  Accuracy: 0.82\n",
            "  F1_score: 0.81\n",
            "  Validation Loss: 0.58\n",
            "===========Starting Epoch 5 / 5 ==============\n",
            "Training starts\n",
            "\n",
            "  Average training loss: 0.08\n",
            "\n",
            "Validation starts\n",
            "  Accuracy: 0.81\n",
            "  F1_score: 0.81\n",
            "  Validation Loss: 0.67\n",
            "\n",
            "Done !\n"
          ],
          "name": "stdout"
        }
      ]
    },
    {
      "cell_type": "code",
      "metadata": {
        "id": "v0Pti-Dk59DT",
        "colab_type": "code",
        "outputId": "20069544-ea1d-408e-cdb2-581baed0beea",
        "colab": {
          "base_uri": "https://localhost:8080/",
          "height": 546
        }
      },
      "source": [
        "report_model_1(results_balanced)"
      ],
      "execution_count": 0,
      "outputs": [
        {
          "output_type": "stream",
          "text": [
            "       Train Loss  Val Loss  Val Accur.    Val F1\n",
            "epoch                                            \n",
            "1        0.485871  0.382030    0.812500  0.798451\n",
            "2        0.324863  0.404134    0.836310  0.818911\n",
            "3        0.237608  0.560054    0.791667  0.745788\n",
            "4        0.146936  0.576387    0.820767  0.811444\n",
            "5        0.081721  0.673192    0.814815  0.805858\n"
          ],
          "name": "stdout"
        },
        {
          "output_type": "display_data",
          "data": {
            "image/png": "[encoded data removed]",
            "text/plain": [
              "<Figure size 864x432 with 1 Axes>"
            ]
          },
          "metadata": {
            "tags": []
          }
        }
      ]
    },
    {
      "cell_type": "code",
      "metadata": {
        "id": "Hb6Ca8qmdT74",
        "colab_type": "code",
        "outputId": "10690279-0736-4379-c3f9-5d200db12f10",
        "colab": {
          "base_uri": "https://localhost:8080/",
          "height": 816
        }
      },
      "source": [
        "results_balanced_split = train_val_gendermodel(train_loader=train_loader_balanced_split, val_loader=val_loader_balanced_split, epochs_val=5,seed_val=42,device=device,lr_value=5e-5)"
      ],
      "execution_count": 0,
      "outputs": [
        {
          "output_type": "stream",
          "text": [
            "===========Starting Epoch 1 / 5 ==============\n",
            "Training starts\n",
            "\n",
            "  Average training loss: 0.49\n",
            "\n",
            "Validation starts\n",
            "  Accuracy: 0.81\n",
            "  F1_score: 0.79\n",
            "  Validation Loss: 0.42\n",
            "===========Starting Epoch 2 / 5 ==============\n",
            "Training starts\n",
            "\n",
            "  Average training loss: 0.37\n",
            "\n",
            "Validation starts\n",
            "  Accuracy: 0.84\n",
            "  F1_score: 0.83\n",
            "  Validation Loss: 0.41\n",
            "===========Starting Epoch 3 / 5 ==============\n",
            "Training starts\n",
            "\n",
            "  Average training loss: 0.28\n",
            "\n",
            "Validation starts\n",
            "  Accuracy: 0.84\n",
            "  F1_score: 0.81\n",
            "  Validation Loss: 0.55\n",
            "===========Starting Epoch 4 / 5 ==============\n",
            "Training starts\n",
            "\n",
            "  Average training loss: 0.18\n",
            "\n",
            "Validation starts\n",
            "  Accuracy: 0.84\n",
            "  F1_score: 0.82\n",
            "  Validation Loss: 0.65\n",
            "===========Starting Epoch 5 / 5 ==============\n",
            "Training starts\n",
            "\n",
            "  Average training loss: 0.10\n",
            "\n",
            "Validation starts\n",
            "  Accuracy: 0.84\n",
            "  F1_score: 0.83\n",
            "  Validation Loss: 0.79\n",
            "\n",
            "Done !\n"
          ],
          "name": "stdout"
        }
      ]
    },
    {
      "cell_type": "code",
      "metadata": {
        "id": "CJSzx-x35-jW",
        "colab_type": "code",
        "outputId": "3fe1dfe9-16e8-4ac0-b61f-56ea885cdefc",
        "colab": {
          "base_uri": "https://localhost:8080/",
          "height": 546
        }
      },
      "source": [
        "report_model_1(results_balanced_split)"
      ],
      "execution_count": 0,
      "outputs": [
        {
          "output_type": "stream",
          "text": [
            "       Train Loss  Val Loss  Val Accur.    Val F1\n",
            "epoch                                            \n",
            "1        0.493033  0.418377    0.812500  0.793285\n",
            "2        0.366962  0.411208    0.840997  0.827072\n",
            "3        0.275126  0.549749    0.839658  0.813254\n",
            "4        0.183183  0.647531    0.842783  0.821346\n",
            "5        0.103236  0.787444    0.843229  0.825468\n"
          ],
          "name": "stdout"
        },
        {
          "output_type": "display_data",
          "data": {
            "image/png": "[encoded data removed]",
            "text/plain": [
              "<Figure size 864x432 with 1 Axes>"
            ]
          },
          "metadata": {
            "tags": []
          }
        }
      ]
    },
    {
      "cell_type": "markdown",
      "metadata": {
        "id": "takjS5TPncaC",
        "colab_type": "text"
      },
      "source": [
        "**Overall Performance** : As expected we see that training on a balanced dataset avoid the model to be biased toward men. F1 score is much higher for the balanced sample. \n",
        "\n",
        "**Number of epoches** : According to the train and valid loss, 2 to 3 epochs are enough in order to train the model efficiently. More epochs would lead to an overfitting on the training sample. \n",
        "\n",
        "**Token limitation** : Let's now compare the method consisting in using only the first 500 token of the texte and the entire text. We have similar results in terms of metrics. We were not expecting such a high result for the second model to begin with but it seems that learning on the first paragraph is enough to be able to classify all them after. \n",
        "\n",
        "**Final choice** : Even if the second model is already satisfying, the second might be easier to generalized after and displays higher metrics. We will use the third one in the rest of this section. "
      ]
    },
    {
      "cell_type": "markdown",
      "metadata": {
        "id": "kKXUkXjfg0s2",
        "colab_type": "text"
      },
      "source": [
        "### Training the optimal model "
      ]
    },
    {
      "cell_type": "code",
      "metadata": {
        "id": "R1LLOEa3g2wL",
        "colab_type": "code",
        "outputId": "5e220f03-a9eb-43e5-919c-bdbee357d1b7",
        "colab": {
          "base_uri": "https://localhost:8080/",
          "height": 85
        }
      },
      "source": [
        "df_eval= balanced_splitted(df_balanced,seed_val,frac_val=1,max_tokens=450)"
      ],
      "execution_count": 20,
      "outputs": [
        {
          "output_type": "stream",
          "text": [
            "Number of text in this balanced splitted corpus : 22,386\n",
            "\n",
            "Proportions of women in the balanced splitted corpus : 49.906191369606\n",
            "\n"
          ],
          "name": "stdout"
        }
      ]
    },
    {
      "cell_type": "code",
      "metadata": {
        "id": "fa_3vh-698n6",
        "colab_type": "code",
        "colab": {}
      },
      "source": [
        "# We prepare another sample which will be dedicated to further qualitative analysis"
      ],
      "execution_count": 0,
      "outputs": []
    },
    {
      "cell_type": "code",
      "metadata": {
        "id": "cL1SsPWU98tz",
        "colab_type": "code",
        "outputId": "7d8bb5df-66bf-4658-c649-68e1b36a9566",
        "colab": {
          "base_uri": "https://localhost:8080/",
          "height": 85
        }
      },
      "source": [
        "len_train = round(0.97*len(df_eval))\n",
        "df_balanced_split= df_eval[0:len_train]\n",
        "dev_balanced_split=df_eval[len_train:len(df_eval)]\n",
        "\n",
        "# Report the number of speeches in the corpus.\n",
        "print('Number of text in this balanced splitted corpus : {:,}\\n'.format(df_balanced_split.shape[0]))\n",
        "print('Number of text in the development sample : {:,}\\n'.format(dev_balanced_split.shape[0]))"
      ],
      "execution_count": 0,
      "outputs": [
        {
          "output_type": "stream",
          "text": [
            "Number of text in this balanced splitted corpus : 21,714\n",
            "\n",
            "Number of text in the development sample : 672\n",
            "\n"
          ],
          "name": "stdout"
        }
      ]
    },
    {
      "cell_type": "code",
      "metadata": {
        "id": "9XuXBR-rgR3U",
        "colab_type": "code",
        "outputId": "f2e1e714-1041-4bd5-f912-cb22b60e65fc",
        "colab": {
          "base_uri": "https://localhost:8080/",
          "height": 493
        }
      },
      "source": [
        "from torch.utils.data import TensorDataset, random_split\n",
        "from torch.utils.data import DataLoader, RandomSampler, SequentialSampler\n",
        "\n",
        "texts = df_balanced_split.Texte.values \n",
        "labels = df_balanced_split.sexe.values\n",
        "\n",
        "torch.manual_seed(42)\n",
        "torch.cuda.manual_seed_all(42)\n",
        "length = 500\n",
        "batch_size_value = 16\n",
        "length_train=0.9\n",
        "\n",
        "# Tokenize all of the sentences and map the tokens to thier word IDs.\n",
        "input_ids = []\n",
        "attention_masks = []\n",
        "num_truncated_tokens =[]\n",
        "# Apply function to our corpus\n",
        "for text in texts:\n",
        "    encoded_dict = tokenizer.encode_plus(\n",
        "                        text,                      # text\n",
        "                        add_special_tokens = True, # Add '[CLS]' and '[SEP]'\n",
        "                        max_length = length,           # We choose for now a max length of 500.\n",
        "                        pad_to_max_length = True,    # Pad text to max (marche pas en pad left ?)\n",
        "                        return_attention_mask = True,   # Construct attention masks\n",
        "                        return_tensors = 'pt',     # Return pytorch tensors.\n",
        "                        return_overflowing_tokens =True, # return overflowing token information\n",
        "                  )\n",
        "    \n",
        "    # Map tokens to their id in the dictionnary \n",
        "    # We add this to our list    \n",
        "    input_ids.append(encoded_dict['input_ids'])\n",
        "\n",
        "    #num_truncated_tokens.append(encoded_dict['num_truncated_tokens'])\n",
        "    \n",
        "    # 3. Attention masks\n",
        "    attention_masks.append(encoded_dict['attention_mask'])\n",
        "\n",
        "# We convert all this into tensors in order to be able to make it work on GPU \n",
        "input_ids = torch.cat(input_ids, dim=0)\n",
        "attention_masks = torch.cat(attention_masks, dim=0)\n",
        "labels = torch.tensor(labels)\n",
        "\n",
        "# Original text and transformed tensor print \n",
        "print(\"Let's check for the first text indexes, attention masks and labels\")\n",
        "print(\" \")\n",
        "print('Original: ', texts[0][0:100])\n",
        "print('IDs:', input_ids[0][0:100])\n",
        "print('Attention masks:', attention_masks[0][0:100])\n",
        "print('labels',labels[0])\n",
        "\n",
        "# Combine all above\n",
        "dataset = TensorDataset(input_ids, attention_masks, labels)\n",
        "\n",
        "# Let's create a 80-20 train / validation dataset \n",
        "train_size = int(length_train * len(dataset))\n",
        "val_size = len(dataset) - train_size\n",
        "\n",
        "train_set, val_set = random_split(dataset, [train_size, val_size])\n",
        "\n",
        "\n",
        "print(\"-------------------------------------------------\")\n",
        "print(\" \")\n",
        "print(\"How many texts do we have in the train and validation sample ? \")\n",
        "print(\" \")\n",
        "print('We have {} training texts'.format(train_size))\n",
        "print('We have {} validation texts'.format(val_size))\n",
        "print(\" \")\n",
        "print(\"-------------------------------------------------\")\n",
        "\n",
        "# We set the size of the batch ( usually set around 16 or 32), we will take the lower bound because of the large text length\n",
        "batch_size = batch_size_value\n",
        "\n",
        "# We create data loaders for the train and validation dataset. \n",
        "train_loader_balanced_split = DataLoader(\n",
        "            train_set,  # The training samples.\n",
        "            sampler = RandomSampler(train_set), # Select batches randomly\n",
        "            batch_size = batch_size # Trains with this batch size.\n",
        "        )\n",
        "\n",
        "val_loader_balanced_split = DataLoader(\n",
        "            val_set, # The validation samples.\n",
        "            sampler = SequentialSampler(val_set), # Pull out batches sequentially.\n",
        "            batch_size = batch_size # Evaluate with this batch size.\n",
        "        )\n",
        "\n",
        "print('Data loaders created for train [0] and val [1]')"
      ],
      "execution_count": 0,
      "outputs": [
        {
          "output_type": "stream",
          "text": [
            "Let's check for the first text indexes, attention masks and labels\n",
            " \n",
            "Original:   Mesdames et Messieurs, j'ai été très heureux de recevoir aujourd'hui Mme Pesic, responsable de l'al\n",
            "IDs: tensor([    5, 23605,    14, 19923,     7,    76,    11,    73,   101,    95,\n",
            "         1941,     8,  1653,   405,    11,   265,  2439,  2997, 12219,     7,\n",
            "         1295,     8,    17,    11, 11193, 16552,    42,   745,    63,   296,\n",
            "        12199, 12997,    13,   595,    31, 30827,   405,    11,   265,    15,\n",
            "         3845, 11602,    35,     9,  2439,  2997, 12219,   115,    11,    55,\n",
            "          804,     8,   429, 10012,     7,    17,    11,  2153,     8,    13,\n",
            "          595,     7,    16,   299,     8,   477,    14,    19,  1161,    31,\n",
            "           56,    19, 11017,    10,    14,   989,     8,    17,    11,  4244,\n",
            "           24,  1077,    13, 25389,     8,    13,  1662,   462,  4440,    29,\n",
            "          745,   109,    48,   396,     9,   100,  4318,    39,  3318,     7])\n",
            "Attention masks: tensor([1, 1, 1, 1, 1, 1, 1, 1, 1, 1, 1, 1, 1, 1, 1, 1, 1, 1, 1, 1, 1, 1, 1, 1,\n",
            "        1, 1, 1, 1, 1, 1, 1, 1, 1, 1, 1, 1, 1, 1, 1, 1, 1, 1, 1, 1, 1, 1, 1, 1,\n",
            "        1, 1, 1, 1, 1, 1, 1, 1, 1, 1, 1, 1, 1, 1, 1, 1, 1, 1, 1, 1, 1, 1, 1, 1,\n",
            "        1, 1, 1, 1, 1, 1, 1, 1, 1, 1, 1, 1, 1, 1, 1, 1, 1, 1, 1, 1, 1, 1, 1, 1,\n",
            "        1, 1, 1, 1])\n",
            "labels tensor(0)\n",
            "-------------------------------------------------\n",
            " \n",
            "How many texts do we have in the train and validation sample ? \n",
            " \n",
            "We have 19542 training texts\n",
            "We have 2172 validation texts\n",
            " \n",
            "-------------------------------------------------\n",
            "Data loaders created for train [0] and val [1]\n"
          ],
          "name": "stdout"
        }
      ]
    },
    {
      "cell_type": "code",
      "metadata": {
        "id": "0p-TPR1CAOlh",
        "colab_type": "code",
        "outputId": "6acd5652-eb1b-47c8-b530-21628546733e",
        "colab": {
          "base_uri": "https://localhost:8080/",
          "height": 221
        }
      },
      "source": [
        "\n",
        "############################  IMPORT MODEL ################################################\n",
        "from transformers import CamembertForSequenceClassification\n",
        "gender_model = CamembertForSequenceClassification.from_pretrained(\"camembert-base\", \n",
        "                                                                  num_labels = 2, \n",
        "                                                                  output_attentions = False, \n",
        "                                                                  output_hidden_states = False, )\n",
        "\n",
        "gender_model.cuda()\n",
        "############################## RANDOM SEED ##################################################\n",
        "\n",
        "import random\n",
        "seed=seed_val\n",
        "random.seed(seed)\n",
        "np.random.seed(seed)\n",
        "torch.manual_seed(seed)\n",
        "torch.cuda.manual_seed_all(seed)\n",
        "\n",
        "############################### LEARNING RATE SCHEDULER #######################################\n",
        "\n",
        "import torch.nn as nn\n",
        "import torch.optim as optim\n",
        "from transformers import AdamW\n",
        "from transformers import get_linear_schedule_with_warmup\n",
        "\n",
        "epochs = 3 \n",
        "\n",
        "#Implements Adam algorithm with weight decay fix.\n",
        "opti = AdamW(gender_model.parameters(),\n",
        "              lr =5e-5, # learning rate (default = 1e-3)\n",
        "              eps = 1e-8 # prevents division by 0 (default = 1e-8)\n",
        "            )\n",
        "\n",
        "num_training_steps = len(train_loader_balanced_split) * epochs\n",
        "\n",
        "# Create a schedule with a learning rate that decreases linearly after linearly increasing during a warmup period (0 here)\n",
        "scheduler = get_linear_schedule_with_warmup(opti, \n",
        "                                            num_warmup_steps = 0,\n",
        "                                            num_training_steps = num_training_steps)\n",
        "\n",
        "\n",
        "for ep in range(0, epochs):\n",
        "  print('===========Starting Epoch {} / {} =============='.format(ep+1,epochs))\n",
        "  print('Training starts')\n",
        "\n",
        "  ################################### TRAINING ################################\n",
        "\n",
        "  #Put the model in training mode\n",
        "  gender_model.train()\n",
        "\n",
        "  # Set the train loss for the epoch to 0 \n",
        "  total_train_loss = 0\n",
        "\n",
        "  for step, batch in enumerate(train_loader_balanced_split):\n",
        "    # Clear gradients \n",
        "    gender_model.zero_grad() # \n",
        "\n",
        "    # Cpy the 3 batch to GPU \n",
        "    b_input_ids = batch[0].to(device)\n",
        "    b_input_mask = batch[1].to(device)\n",
        "    b_labels = batch[2].to(device)\n",
        "    \n",
        "    #return loss and logits\n",
        "    loss, logits = gender_model(b_input_ids, \n",
        "                                token_type_ids=None, \n",
        "                                attention_mask=b_input_mask, \n",
        "                                labels=b_labels) \n",
        "    \n",
        "    # Accumulate training loss for all batches \n",
        "    total_train_loss += loss.item()\n",
        "\n",
        "    #Backpropagating the gradients \n",
        "    loss.backward()\n",
        "\n",
        "    # Prevent exploding gradients problem  (forcing the gradients to be small, the parameter updates will not push the parameters too far from their previous values)\n",
        "    torch.nn.utils.clip_grad_norm_(gender_model.parameters(), 1.0)\n",
        "\n",
        "    # Update parameters \n",
        "    opti.step()\n",
        "\n",
        "    # Update learning rate schedule\n",
        "    scheduler.step()\n",
        "\n",
        "  #Calculate the average training loss over all batches  \n",
        "  avg_train_loss = total_train_loss / len(train_loader_balanced_split)\n",
        "  print(\"\")\n",
        "  print(\"  Average training loss: {0:.2f}\".format(avg_train_loss))"
      ],
      "execution_count": 0,
      "outputs": [
        {
          "output_type": "stream",
          "text": [
            "===========Starting Epoch 1 / 3 ==============\n",
            "Training starts\n",
            "\n",
            "  Average training loss: 0.46\n",
            "===========Starting Epoch 2 / 3 ==============\n",
            "Training starts\n",
            "\n",
            "  Average training loss: 0.32\n",
            "===========Starting Epoch 3 / 3 ==============\n",
            "Training starts\n",
            "\n",
            "  Average training loss: 0.20\n"
          ],
          "name": "stdout"
        }
      ]
    },
    {
      "cell_type": "code",
      "metadata": {
        "id": "ZK0OHVGupkew",
        "colab_type": "code",
        "colab": {}
      },
      "source": [
        "torch.save( gender_model, 'gender_model_train.pt')"
      ],
      "execution_count": 0,
      "outputs": []
    },
    {
      "cell_type": "code",
      "metadata": {
        "id": "x0no-TfXp8a2",
        "colab_type": "code",
        "colab": {}
      },
      "source": [
        "gender_model = torch.load('gender_model_train.pt')"
      ],
      "execution_count": 0,
      "outputs": []
    },
    {
      "cell_type": "markdown",
      "metadata": {
        "id": "60t946KwdjJh",
        "colab_type": "text"
      },
      "source": [
        "## Quantitative evaluation and qualitative analysis "
      ]
    },
    {
      "cell_type": "markdown",
      "metadata": {
        "id": "vYx9mKhWvsHA",
        "colab_type": "text"
      },
      "source": [
        "### Quantitative analysis of the final model"
      ]
    },
    {
      "cell_type": "code",
      "metadata": {
        "id": "oMAECbOYC_Rv",
        "colab_type": "code",
        "colab": {}
      },
      "source": [
        " def evaluation_loop(model,eval_loader): \n",
        "  # Put model in evaluation mode \n",
        "  model.eval()\n",
        "  total_eval_loss,total_pred,total_label,total_logits=[],[],[],[]\n",
        "\n",
        "  for batch in eval_loader:\n",
        "    b_input_ids = batch[0].to(device)\n",
        "    b_input_mask = batch[1].to(device)\n",
        "    b_labels = batch[2].to(device)\n",
        "\n",
        "    with torch.no_grad(): \n",
        "      loss, logits = model(b_input_ids, \n",
        "                                token_type_ids=None, \n",
        "                                attention_mask=b_input_mask,\n",
        "                                labels=b_labels)\n",
        "    #total_eval_loss += loss.item()\n",
        "\n",
        "      # Move logits and labels to CPU \n",
        "      logits = logits.detach().cpu().numpy()\n",
        "      label_ids = b_labels.to('cpu').numpy()\n",
        "      pred= np.argmax(logits, axis=1).flatten()\n",
        "      labels_flat = label_ids.flatten()\n",
        "\n",
        "    # Accumulation accuracy for all batch\n",
        "      total_pred += pred.tolist()\n",
        "\n",
        "    # Accumulation f1 for all batch\n",
        "      total_label += labels_flat.tolist()\n",
        "\n",
        "      # Logits score on positive \n",
        "      total_logits += logits.tolist()\n",
        "\n",
        "  return total_pred,total_label,total_logits"
      ],
      "execution_count": 0,
      "outputs": []
    },
    {
      "cell_type": "code",
      "metadata": {
        "id": "QLPLUSq6mWgc",
        "colab_type": "code",
        "colab": {}
      },
      "source": [
        "total_pred,total_label,total_logits =evaluation_loop(gender_model,val_loader_balanced_split)"
      ],
      "execution_count": 0,
      "outputs": []
    },
    {
      "cell_type": "code",
      "metadata": {
        "id": "Of_IfZYuEyJG",
        "colab_type": "code",
        "colab": {}
      },
      "source": [
        "def model_report(pred,label,logits):\n",
        "    \"\"\"\n",
        "        Input :\n",
        "            pred : model prediction\n",
        "        Output : \n",
        "            Classification_report + Confusion_matrix + ROC_curve\n",
        "    \"\"\"\n",
        "    #from sklearn\n",
        "    import seaborn as sns\n",
        "    import matplotlib.pyplot as plt\n",
        "    from sklearn.metrics import confusion_matrix, classification_report, accuracy_score, roc_auc_score, roc_curve\n",
        "    logits = [el[1] for el in total_logits]\n",
        "    pred = [i for i in total_pred]\n",
        "    label = [i for i in total_label]\n",
        "    print (\"Classification report :\")\n",
        "    print(classification_report(label,pred))\n",
        "    print (\"Accuracy : \",accuracy_score(label,pred))\n",
        "    cm = confusion_matrix(label,pred)\n",
        "    ROC = roc_auc_score(label,pred) \n",
        "    print (\"AUC : \",ROC)\n",
        "    fpr,tpr,thresholds = roc_curve(label,logits)\n",
        "    plt.figure(figsize=(12,10))\n",
        "    plt.subplot(221)\n",
        "    sns.heatmap(cm/np.sum(cm), annot=True, \n",
        "            fmt='.2%', cmap='Blues').set_title('Matrice de confusion')\n",
        "    plt.subplot(222)\n",
        "    plt.plot(fpr, tpr, 'b', label = 'AUC = %0.2f' % ROC)\n",
        "    plt.plot([0,1],[0,1],color='red')\n",
        "    plt.title('Courbe ROC')\n",
        "    plt.show()"
      ],
      "execution_count": 0,
      "outputs": []
    },
    {
      "cell_type": "code",
      "metadata": {
        "id": "kOvGlNbxOSPq",
        "colab_type": "code",
        "outputId": "abcc5155-55d7-4bc3-f856-24ad9bbad317",
        "colab": {
          "base_uri": "https://localhost:8080/",
          "height": 529
        }
      },
      "source": [
        "model_report(total_pred,total_label,logits)"
      ],
      "execution_count": 0,
      "outputs": [
        {
          "output_type": "stream",
          "text": [
            "Classification report :\n",
            "              precision    recall  f1-score   support\n",
            "\n",
            "           0       0.86      0.84      0.85      1127\n",
            "           1       0.84      0.85      0.84      1045\n",
            "\n",
            "    accuracy                           0.85      2172\n",
            "   macro avg       0.85      0.85      0.85      2172\n",
            "weighted avg       0.85      0.85      0.85      2172\n",
            "\n",
            "Accuracy :  0.848987108655617\n",
            "AUC :  0.8491893199967734\n"
          ],
          "name": "stdout"
        },
        {
          "output_type": "display_data",
          "data": {
            "image/png": "[encoded data removed]",
            "text/plain": [
              "<Figure size 864x720 with 3 Axes>"
            ]
          },
          "metadata": {
            "tags": []
          }
        }
      ]
    },
    {
      "cell_type": "markdown",
      "metadata": {
        "id": "KqkoWqvuv0AL",
        "colab_type": "text"
      },
      "source": [
        "The model seem to be slightly more performant at predicting female speakers than male speakers. We reach good metrics for both accuracy and F1 score. More than 80 % of our predictions are correct. \n"
      ]
    },
    {
      "cell_type": "markdown",
      "metadata": {
        "id": "syd2rBrsSLro",
        "colab_type": "text"
      },
      "source": [
        "### Qualitative analysis"
      ]
    },
    {
      "cell_type": "markdown",
      "metadata": {
        "id": "z9-lOx5RR-6B",
        "colab_type": "text"
      },
      "source": [
        "We will use our development set prepared earlier "
      ]
    },
    {
      "cell_type": "code",
      "metadata": {
        "id": "35VdN-qmuDwu",
        "colab_type": "code",
        "outputId": "6f730989-3246-4c98-f408-9f3e198ca955",
        "colab": {
          "base_uri": "https://localhost:8080/",
          "height": 340
        }
      },
      "source": [
        "# We prepare again the development sample for analysis \n",
        "from torch.utils.data import TensorDataset, random_split\n",
        "from torch.utils.data import DataLoader, RandomSampler, SequentialSampler\n",
        "from transformers import CamembertTokenizer\n",
        "\n",
        "texts = dev_balanced_split.Texte.values\n",
        "labels = dev_balanced_split.sexe.values\n",
        "tokenizer = CamembertTokenizer.from_pretrained('camembert-base', do_lower_case=False,padding_side='right')\n",
        "\n",
        "# Tokenize all of the sentences and map the tokens to thier word IDs.\n",
        "input_ids = []\n",
        "attention_masks = []\n",
        "num_truncated_tokens =[]\n",
        "\n",
        "for text in texts:\n",
        "  encoded_dict = tokenizer.encode_plus(\n",
        "                        text,                      # text\n",
        "                        add_special_tokens = True, # Add '[CLS]' and '[SEP]'\n",
        "                        max_length = 500,           # We choose for now a max length of 500.\n",
        "                        pad_to_max_length = True,    # Pad text to max \n",
        "                        return_attention_mask = True,   # Construct attention masks\n",
        "                        return_tensors = 'pt',     # Return pytorch tensors.\n",
        "                        return_overflowing_tokens =True, # return overflowing token information\n",
        "                  )\n",
        "    \n",
        "    # Map tokens to their id in the dictionnary \n",
        "    # We add this to our list    \n",
        "  input_ids.append(encoded_dict['input_ids'])\n",
        "\n",
        "    #num_truncated_tokens.append(encoded_dict['num_truncated_tokens'])\n",
        "    \n",
        "    # 3. Attention masks\n",
        "  attention_masks.append(encoded_dict['attention_mask'])\n",
        "\n",
        "# We convert all this into tensors in order to be able to make it work on GPU \n",
        "input_ids = torch.cat(input_ids, dim=0)\n",
        "attention_masks = torch.cat(attention_masks, dim=0)\n",
        "labels = torch.tensor(labels)\n",
        "\n",
        "# Original text and transformed tensor print \n",
        "print(\"Let's check for the first text indexes, attention masks and labels\")\n",
        "print(\" \")\n",
        "print('Original: ', texts[0][0:100])\n",
        "print('IDs:', input_ids[0][0:100])\n",
        "print('Attention masks:', attention_masks[0][0:100])\n",
        "print('labels',labels[0])\n",
        "\n",
        "# Combine all above\n",
        "dataset = TensorDataset(input_ids, attention_masks, labels)\n",
        "# We create data loaders for the train and validation dataset. \n",
        "dev_dataloader = DataLoader(\n",
        "            dataset,  # The training samples.\n",
        "            batch_size = 16, # Trains with this batch size.\n",
        "            shuffle=False\n",
        "        )"
      ],
      "execution_count": 0,
      "outputs": [
        {
          "output_type": "stream",
          "text": [
            "Let's check for the first text indexes, attention masks and labels\n",
            " \n",
            "Original:   Avant d'achever mon propos, je souhaite dire également un mot du développement des petites et moyen\n",
            "IDs: tensor([    5,  1929,    18,    11, 18140,   129,  1098,     7,    50,  1282,\n",
            "          248,   200,    23,   853,    25,   499,    20,   923,    14,  9446,\n",
            "          699,     7,  1318,  7793,    78,   433,    37,    16,   459,     8,\n",
            "           13,  4024,  7524,     8,   499,    14,    25,  1418,     8,   499,\n",
            "            8,    17,    11, 22405,     9,    84,    11,    41,    22,   340,\n",
            "            7,    24,    13,   184,     7,    23,   584,     8, 14936,  4095,\n",
            "            9,   170,   296,  7511,     7,    22, 10106,    19, 11626,     8,\n",
            "          127,  1338,    24,  2463,    19, 10477,    10,    25,   188,  6197,\n",
            "         3101,    24,    16,   499,     9,   170,   296,   163,  1258,     8,\n",
            "         3898,  2085,   927,  6262, 31162,    10,   174,    28,     7, 10940])\n",
            "Attention masks: tensor([1, 1, 1, 1, 1, 1, 1, 1, 1, 1, 1, 1, 1, 1, 1, 1, 1, 1, 1, 1, 1, 1, 1, 1,\n",
            "        1, 1, 1, 1, 1, 1, 1, 1, 1, 1, 1, 1, 1, 1, 1, 1, 1, 1, 1, 1, 1, 1, 1, 1,\n",
            "        1, 1, 1, 1, 1, 1, 1, 1, 1, 1, 1, 1, 1, 1, 1, 1, 1, 1, 1, 1, 1, 1, 1, 1,\n",
            "        1, 1, 1, 1, 1, 1, 1, 1, 1, 1, 1, 1, 1, 1, 1, 1, 1, 1, 1, 1, 1, 1, 1, 1,\n",
            "        1, 1, 1, 1])\n",
            "labels tensor(1)\n"
          ],
          "name": "stdout"
        }
      ]
    },
    {
      "cell_type": "code",
      "metadata": {
        "id": "LXVKl1flXbkz",
        "colab_type": "code",
        "colab": {}
      },
      "source": [
        "# We make this development sample pass into the evaluation loop \n",
        "total_pred,total_labels,total_logits=evaluation_loop(gender_model,dev_dataloader)"
      ],
      "execution_count": 0,
      "outputs": []
    },
    {
      "cell_type": "code",
      "metadata": {
        "id": "xUXJqxup1gF0",
        "colab_type": "code",
        "colab": {}
      },
      "source": [
        "def dev_treatment(total_pred,total_labels,total_logits,dev_balanced_split,df):\n",
        "  ''' \n",
        "  This function takes as input the results of the models, compute some statistics and merges the results\n",
        "  with our first dataset\n",
        "\n",
        " Input : \n",
        "        model predictions, model labels, model scores, development sample and original data\n",
        " Output : \n",
        "        merged dataset\n",
        "  '''\n",
        "  # Extract the score for label 1 and the maximum score \n",
        "  one_score = [el[1] for el in total_logits]\n",
        "  max_score = np.max(total_logits,axis=1)\n",
        "\n",
        "  # Put everything inside a dataframe\n",
        "  results_dev=pd.DataFrame([total_labels,total_pred,one_score,max_score]).transpose()\n",
        "  results_dev.columns=['returned_labels','model_pred','one_score','max_score']\n",
        "  results_dev['WF']=pd.DataFrame([results_dev['model_pred']==results_dev['returned_labels']]).transpose()\n",
        "  results_dev['model_pred'] = results_dev['model_pred'].astype(int)\n",
        "  results_dev['returned_labels'] = results_dev['returned_labels'].astype(int)\n",
        "\n",
        "  # Merge back with the text\n",
        "  frames = [dev_balanced_split[['Texte','sexe','index_df']].reset_index(), results_dev]\n",
        "  result = pd.concat(frames,axis=1)\n",
        "\n",
        "  # We merge this dataframe to the information we had at the beginning\n",
        "  merged_results=result[['index','index_df','Texte','returned_labels','model_pred','one_score','max_score','WF']].merge(df[['Titre','Id','Theme','Prenom','Nom','Date','Tags','sexe']],how='left',left_on='index_df',right_on='Id')\n",
        "\n",
        "  return merged_results\n",
        "\n"
      ],
      "execution_count": 0,
      "outputs": []
    },
    {
      "cell_type": "code",
      "metadata": {
        "id": "NCwaMpvL2Ly2",
        "colab_type": "code",
        "colab": {}
      },
      "source": [
        "result =  dev_treatment(total_pred,total_labels,total_logits,dev_balanced_split,df_balanced)"
      ],
      "execution_count": 0,
      "outputs": []
    },
    {
      "cell_type": "code",
      "metadata": {
        "id": "TA883RZ42uh8",
        "colab_type": "code",
        "outputId": "822452b2-9128-4a26-e9e3-6dd30b7fa86d",
        "colab": {
          "base_uri": "https://localhost:8080/",
          "height": 459
        }
      },
      "source": [
        "result.head()"
      ],
      "execution_count": 0,
      "outputs": [
        {
          "output_type": "execute_result",
          "data": {
            "text/html": [
              "<div>\n",
              "<style scoped>\n",
              "    .dataframe tbody tr th:only-of-type {\n",
              "        vertical-align: middle;\n",
              "    }\n",
              "\n",
              "    .dataframe tbody tr th {\n",
              "        vertical-align: top;\n",
              "    }\n",
              "\n",
              "    .dataframe thead th {\n",
              "        text-align: right;\n",
              "    }\n",
              "</style>\n",
              "<table border=\"1\" class=\"dataframe\">\n",
              "  <thead>\n",
              "    <tr style=\"text-align: right;\">\n",
              "      <th></th>\n",
              "      <th>index</th>\n",
              "      <th>index_df</th>\n",
              "      <th>Texte</th>\n",
              "      <th>returned_labels</th>\n",
              "      <th>model_pred</th>\n",
              "      <th>one_score</th>\n",
              "      <th>max_score</th>\n",
              "      <th>WF</th>\n",
              "      <th>Titre</th>\n",
              "      <th>Id</th>\n",
              "      <th>Theme</th>\n",
              "      <th>Prenom</th>\n",
              "      <th>Nom</th>\n",
              "      <th>Date</th>\n",
              "      <th>Tags</th>\n",
              "      <th>sexe</th>\n",
              "    </tr>\n",
              "  </thead>\n",
              "  <tbody>\n",
              "    <tr>\n",
              "      <th>0</th>\n",
              "      <td>21856</td>\n",
              "      <td>149325</td>\n",
              "      <td>Avant d'achever mon propos, je souhaite dire ...</td>\n",
              "      <td>1</td>\n",
              "      <td>0</td>\n",
              "      <td>-0.919883</td>\n",
              "      <td>0.916907</td>\n",
              "      <td>False</td>\n",
              "      <td>Déclaration de Mme Brigitte Girardin, ministre...</td>\n",
              "      <td>149325</td>\n",
              "      <td>NaN</td>\n",
              "      <td>Brigitte</td>\n",
              "      <td>Girardin</td>\n",
              "      <td>2005-06-06T12:00:00Z</td>\n",
              "      <td>NaN</td>\n",
              "      <td>1</td>\n",
              "    </tr>\n",
              "    <tr>\n",
              "      <th>1</th>\n",
              "      <td>21857</td>\n",
              "      <td>146300</td>\n",
              "      <td>Au moment où la gauche révèle ses faiblesses,...</td>\n",
              "      <td>1</td>\n",
              "      <td>0</td>\n",
              "      <td>-2.432923</td>\n",
              "      <td>2.561137</td>\n",
              "      <td>False</td>\n",
              "      <td>Déclaration commune de Mme Michèle Alliot-Mari...</td>\n",
              "      <td>146300</td>\n",
              "      <td>Institutions</td>\n",
              "      <td>Michèle</td>\n",
              "      <td>Alliot-Marie</td>\n",
              "      <td>2000-03-16T12:00:00Z</td>\n",
              "      <td>Citoyenneté - Elections,Régime politique,Parti...</td>\n",
              "      <td>1</td>\n",
              "    </tr>\n",
              "    <tr>\n",
              "      <th>2</th>\n",
              "      <td>21858</td>\n",
              "      <td>142213</td>\n",
              "      <td>Monsieur le Député-Maire,Monsieur le Directeu...</td>\n",
              "      <td>1</td>\n",
              "      <td>1</td>\n",
              "      <td>2.524906</td>\n",
              "      <td>2.524906</td>\n",
              "      <td>True</td>\n",
              "      <td>Déclaration de Mme Brigitte Girardin, ministre...</td>\n",
              "      <td>142213</td>\n",
              "      <td>Société,Institutions</td>\n",
              "      <td>Brigitte</td>\n",
              "      <td>Girardin</td>\n",
              "      <td>2004-05-28T12:00:00Z</td>\n",
              "      <td>Culture - Médias,Livre,Collectivités territori...</td>\n",
              "      <td>1</td>\n",
              "    </tr>\n",
              "    <tr>\n",
              "      <th>3</th>\n",
              "      <td>21859</td>\n",
              "      <td>142213</td>\n",
              "      <td>Il permet également de soutenir la traduction...</td>\n",
              "      <td>1</td>\n",
              "      <td>1</td>\n",
              "      <td>1.544667</td>\n",
              "      <td>1.544667</td>\n",
              "      <td>True</td>\n",
              "      <td>Déclaration de Mme Brigitte Girardin, ministre...</td>\n",
              "      <td>142213</td>\n",
              "      <td>Société,Institutions</td>\n",
              "      <td>Brigitte</td>\n",
              "      <td>Girardin</td>\n",
              "      <td>2004-05-28T12:00:00Z</td>\n",
              "      <td>Culture - Médias,Livre,Collectivités territori...</td>\n",
              "      <td>1</td>\n",
              "    </tr>\n",
              "    <tr>\n",
              "      <th>4</th>\n",
              "      <td>21860</td>\n",
              "      <td>142213</td>\n",
              "      <td>Là aussi la Caraïbe est, pour nous, métropoli...</td>\n",
              "      <td>1</td>\n",
              "      <td>1</td>\n",
              "      <td>2.593816</td>\n",
              "      <td>2.593816</td>\n",
              "      <td>True</td>\n",
              "      <td>Déclaration de Mme Brigitte Girardin, ministre...</td>\n",
              "      <td>142213</td>\n",
              "      <td>Société,Institutions</td>\n",
              "      <td>Brigitte</td>\n",
              "      <td>Girardin</td>\n",
              "      <td>2004-05-28T12:00:00Z</td>\n",
              "      <td>Culture - Médias,Livre,Collectivités territori...</td>\n",
              "      <td>1</td>\n",
              "    </tr>\n",
              "  </tbody>\n",
              "</table>\n",
              "</div>"
            ],
            "text/plain": [
              "   index  index_df  ...                                               Tags  sexe\n",
              "0  21856    149325  ...                                                NaN     1\n",
              "1  21857    146300  ...  Citoyenneté - Elections,Régime politique,Parti...     1\n",
              "2  21858    142213  ...  Culture - Médias,Livre,Collectivités territori...     1\n",
              "3  21859    142213  ...  Culture - Médias,Livre,Collectivités territori...     1\n",
              "4  21860    142213  ...  Culture - Médias,Livre,Collectivités territori...     1\n",
              "\n",
              "[5 rows x 16 columns]"
            ]
          },
          "metadata": {
            "tags": []
          },
          "execution_count": 56
        }
      ]
    },
    {
      "cell_type": "code",
      "metadata": {
        "id": "VLF9aS31dH7M",
        "colab_type": "code",
        "outputId": "bf525224-348a-4e75-ee2f-860d6986f7f7",
        "colab": {
          "base_uri": "https://localhost:8080/",
          "height": 34
        }
      },
      "source": [
        "#Which texts failed ? \n",
        "print('{0:.2f} percent of the development texts were not well classified by our model'.format(result[result.WF==False].WF.count()*100/len(result)))"
      ],
      "execution_count": 0,
      "outputs": [
        {
          "output_type": "stream",
          "text": [
            "13.54 percent of the development texts were not well classified by our model\n"
          ],
          "name": "stdout"
        }
      ]
    },
    {
      "cell_type": "markdown",
      "metadata": {
        "id": "LtVSBuEp02VL",
        "colab_type": "text"
      },
      "source": [
        "For the next step let's take some texts that were well classified and other that do not. We will take examples for all possible options : badly predicted a woman, badly predicted a man, well predicted a woman and well predicted a man. We also try to take the ones the model was really sure about. "
      ]
    },
    {
      "cell_type": "code",
      "metadata": {
        "id": "gy9_53i23Y2D",
        "colab_type": "code",
        "colab": {}
      },
      "source": [
        "top_texts_true_m=result[(result.WF==1) & (result.model_pred==0)].nlargest(10,'max_score')\n",
        "top_texts_true_f=result[(result.WF==1) & (result.model_pred==1)].nlargest(10,'max_score')\n",
        "top_texts_false_m=result[(result.WF==0) & (result.model_pred==0)].nlargest(10,'max_score')\n",
        "top_texts_false_f=result[(result.WF==0) & (result.model_pred==1)].nlargest(10,'max_score')"
      ],
      "execution_count": 0,
      "outputs": []
    },
    {
      "cell_type": "code",
      "metadata": {
        "id": "mR8fnne6KHQH",
        "colab_type": "code",
        "outputId": "5fac6d9a-5eaa-4ae3-9687-f0ca6b6bca00",
        "colab": {
          "base_uri": "https://localhost:8080/",
          "height": 49
        }
      },
      "source": [
        "# Texts that were well classified as men \n",
        "top_texts_true_m.head(1)"
      ],
      "execution_count": 0,
      "outputs": [
        {
          "output_type": "execute_result",
          "data": {
            "text/html": [
              "<div>\n",
              "<style scoped>\n",
              "    .dataframe tbody tr th:only-of-type {\n",
              "        vertical-align: middle;\n",
              "    }\n",
              "\n",
              "    .dataframe tbody tr th {\n",
              "        vertical-align: top;\n",
              "    }\n",
              "\n",
              "    .dataframe thead th {\n",
              "        text-align: right;\n",
              "    }\n",
              "</style>\n",
              "<table border=\"1\" class=\"dataframe\">\n",
              "  <thead>\n",
              "    <tr style=\"text-align: right;\">\n",
              "      <th></th>\n",
              "      <th>index</th>\n",
              "      <th>index_df</th>\n",
              "      <th>Texte</th>\n",
              "      <th>returned_labels</th>\n",
              "      <th>model_pred</th>\n",
              "      <th>one_score</th>\n",
              "      <th>max_score</th>\n",
              "      <th>WF</th>\n",
              "      <th>Titre</th>\n",
              "      <th>Id</th>\n",
              "      <th>Theme</th>\n",
              "      <th>Prenom</th>\n",
              "      <th>Nom</th>\n",
              "      <th>Date</th>\n",
              "      <th>Tags</th>\n",
              "      <th>sexe</th>\n",
              "    </tr>\n",
              "  </thead>\n",
              "  <tbody>\n",
              "  </tbody>\n",
              "</table>\n",
              "</div>"
            ],
            "text/plain": [
              "Empty DataFrame\n",
              "Columns: [index, index_df, Texte, returned_labels, model_pred, one_score, max_score, WF, Titre, Id, Theme, Prenom, Nom, Date, Tags, sexe]\n",
              "Index: []"
            ]
          },
          "metadata": {
            "tags": []
          },
          "execution_count": 59
        }
      ]
    },
    {
      "cell_type": "code",
      "metadata": {
        "id": "S4MGbB9j3koA",
        "colab_type": "code",
        "outputId": "74a6e7f8-6bf6-4fb1-a53b-009ba6f1a219",
        "colab": {
          "base_uri": "https://localhost:8080/",
          "height": 114
        }
      },
      "source": [
        "# Texts that were well classified as women \n",
        "top_texts_true_f.head(1)"
      ],
      "execution_count": 0,
      "outputs": [
        {
          "output_type": "execute_result",
          "data": {
            "text/html": [
              "<div>\n",
              "<style scoped>\n",
              "    .dataframe tbody tr th:only-of-type {\n",
              "        vertical-align: middle;\n",
              "    }\n",
              "\n",
              "    .dataframe tbody tr th {\n",
              "        vertical-align: top;\n",
              "    }\n",
              "\n",
              "    .dataframe thead th {\n",
              "        text-align: right;\n",
              "    }\n",
              "</style>\n",
              "<table border=\"1\" class=\"dataframe\">\n",
              "  <thead>\n",
              "    <tr style=\"text-align: right;\">\n",
              "      <th></th>\n",
              "      <th>index</th>\n",
              "      <th>index_df</th>\n",
              "      <th>Texte</th>\n",
              "      <th>returned_labels</th>\n",
              "      <th>model_pred</th>\n",
              "      <th>one_score</th>\n",
              "      <th>max_score</th>\n",
              "      <th>WF</th>\n",
              "      <th>Titre</th>\n",
              "      <th>Id</th>\n",
              "      <th>Theme</th>\n",
              "      <th>Prenom</th>\n",
              "      <th>Nom</th>\n",
              "      <th>Date</th>\n",
              "      <th>Tags</th>\n",
              "      <th>sexe</th>\n",
              "    </tr>\n",
              "  </thead>\n",
              "  <tbody>\n",
              "    <tr>\n",
              "      <th>135</th>\n",
              "      <td>21991</td>\n",
              "      <td>174474</td>\n",
              "      <td>C'est parti ! A vous voir si nombreux cet apr...</td>\n",
              "      <td>1</td>\n",
              "      <td>1</td>\n",
              "      <td>2.719975</td>\n",
              "      <td>2.719975</td>\n",
              "      <td>True</td>\n",
              "      <td>Déclaration de Mme Marie-George Buffet, secrét...</td>\n",
              "      <td>174474</td>\n",
              "      <td>Institutions</td>\n",
              "      <td>Marie-George</td>\n",
              "      <td>Buffet</td>\n",
              "      <td>2009-03-08T12:00:00Z</td>\n",
              "      <td>Citoyenneté - Elections,Election européenne</td>\n",
              "      <td>1</td>\n",
              "    </tr>\n",
              "  </tbody>\n",
              "</table>\n",
              "</div>"
            ],
            "text/plain": [
              "     index  index_df  ...                                         Tags  sexe\n",
              "135  21991    174474  ...  Citoyenneté - Elections,Election européenne     1\n",
              "\n",
              "[1 rows x 16 columns]"
            ]
          },
          "metadata": {
            "tags": []
          },
          "execution_count": 60
        }
      ]
    },
    {
      "cell_type": "code",
      "metadata": {
        "id": "BjUtMELhzVrO",
        "colab_type": "code",
        "outputId": "3828e260-65c0-406e-966a-c9be259b2556",
        "colab": {
          "base_uri": "https://localhost:8080/",
          "height": 1000
        }
      },
      "source": [
        "# Texts that were wrongly classified as men \n",
        "top_texts_false_m.head(1)"
      ],
      "execution_count": 0,
      "outputs": [
        {
          "output_type": "execute_result",
          "data": {
            "text/html": [
              "<div>\n",
              "<style scoped>\n",
              "    .dataframe tbody tr th:only-of-type {\n",
              "        vertical-align: middle;\n",
              "    }\n",
              "\n",
              "    .dataframe tbody tr th {\n",
              "        vertical-align: top;\n",
              "    }\n",
              "\n",
              "    .dataframe thead th {\n",
              "        text-align: right;\n",
              "    }\n",
              "</style>\n",
              "<table border=\"1\" class=\"dataframe\">\n",
              "  <thead>\n",
              "    <tr style=\"text-align: right;\">\n",
              "      <th></th>\n",
              "      <th>index</th>\n",
              "      <th>index_df</th>\n",
              "      <th>Texte</th>\n",
              "      <th>returned_labels</th>\n",
              "      <th>model_pred</th>\n",
              "      <th>one_score</th>\n",
              "      <th>max_score</th>\n",
              "      <th>WF</th>\n",
              "      <th>Titre</th>\n",
              "      <th>Id</th>\n",
              "      <th>Theme</th>\n",
              "      <th>Prenom</th>\n",
              "      <th>Nom</th>\n",
              "      <th>Date</th>\n",
              "      <th>Tags</th>\n",
              "      <th>sexe</th>\n",
              "    </tr>\n",
              "  </thead>\n",
              "  <tbody>\n",
              "    <tr>\n",
              "      <th>186</th>\n",
              "      <td>11012</td>\n",
              "      <td>180950</td>\n",
              "      <td>Messieurs les ministres,Madame la présidente,...</td>\n",
              "      <td>1</td>\n",
              "      <td>0</td>\n",
              "      <td>-2.295846</td>\n",
              "      <td>2.318840</td>\n",
              "      <td>False</td>\n",
              "      <td>Déclaration de Mme Christine Lagarde, ministre...</td>\n",
              "      <td>180950</td>\n",
              "      <td>Economie</td>\n",
              "      <td>Christine</td>\n",
              "      <td>Lagarde</td>\n",
              "      <td>2011-01-14T12:00:00Z</td>\n",
              "      <td>Vie économique,Politique économique</td>\n",
              "      <td>1</td>\n",
              "    </tr>\n",
              "    <tr>\n",
              "      <th>171</th>\n",
              "      <td>10997</td>\n",
              "      <td>167570</td>\n",
              "      <td>Je viens d'apprendre avec soulagement que le ...</td>\n",
              "      <td>1</td>\n",
              "      <td>0</td>\n",
              "      <td>-2.191277</td>\n",
              "      <td>2.169469</td>\n",
              "      <td>False</td>\n",
              "      <td>Déclaration de Mme Rama Yade, secrétaire d'Eta...</td>\n",
              "      <td>167570</td>\n",
              "      <td>Institutions</td>\n",
              "      <td>Rama</td>\n",
              "      <td>Yade</td>\n",
              "      <td>2007-08-30T12:00:00Z</td>\n",
              "      <td>Justice - Droits fondamentaux,Peine</td>\n",
              "      <td>1</td>\n",
              "    </tr>\n",
              "    <tr>\n",
              "      <th>120</th>\n",
              "      <td>10946</td>\n",
              "      <td>144150</td>\n",
              "      <td>Ensuite il s'étonne : \" Pourtant, écrit-il, i...</td>\n",
              "      <td>1</td>\n",
              "      <td>0</td>\n",
              "      <td>-2.057754</td>\n",
              "      <td>2.138344</td>\n",
              "      <td>False</td>\n",
              "      <td>Déclaration de Mme Marine Le Pen, vice-préside...</td>\n",
              "      <td>144150</td>\n",
              "      <td>Institutions</td>\n",
              "      <td>Marine</td>\n",
              "      <td>Le Pen</td>\n",
              "      <td>2003-11-08T12:00:00Z</td>\n",
              "      <td>Citoyenneté - Elections,Parti politique</td>\n",
              "      <td>1</td>\n",
              "    </tr>\n",
              "    <tr>\n",
              "      <th>27</th>\n",
              "      <td>10853</td>\n",
              "      <td>189103</td>\n",
              "      <td>Merci pour la qualité du travail que vous ave...</td>\n",
              "      <td>1</td>\n",
              "      <td>0</td>\n",
              "      <td>-2.003781</td>\n",
              "      <td>2.037219</td>\n",
              "      <td>False</td>\n",
              "      <td>Déclaration de Mme Christiane Taubira, garde d...</td>\n",
              "      <td>189103</td>\n",
              "      <td>NaN</td>\n",
              "      <td>Christiane</td>\n",
              "      <td>Taubira</td>\n",
              "      <td>2013-09-17T12:00:00Z</td>\n",
              "      <td>NaN</td>\n",
              "      <td>1</td>\n",
              "    </tr>\n",
              "    <tr>\n",
              "      <th>116</th>\n",
              "      <td>10942</td>\n",
              "      <td>270297</td>\n",
              "      <td>C'est donc dans cet équilibre que nous devons...</td>\n",
              "      <td>1</td>\n",
              "      <td>0</td>\n",
              "      <td>-1.931948</td>\n",
              "      <td>2.007101</td>\n",
              "      <td>False</td>\n",
              "      <td>Déclaration de Mme Nicole Belloubet, garde des...</td>\n",
              "      <td>270297</td>\n",
              "      <td>Institutions</td>\n",
              "      <td>Nicole</td>\n",
              "      <td>Belloubet</td>\n",
              "      <td>2019-03-05T12:00:00Z</td>\n",
              "      <td>Justice - Droits fondamentaux,Droit</td>\n",
              "      <td>1</td>\n",
              "    </tr>\n",
              "    <tr>\n",
              "      <th>172</th>\n",
              "      <td>10998</td>\n",
              "      <td>130641</td>\n",
              "      <td>Ces Assises veulent mettre en valeur des mili...</td>\n",
              "      <td>1</td>\n",
              "      <td>0</td>\n",
              "      <td>-1.930106</td>\n",
              "      <td>1.963277</td>\n",
              "      <td>False</td>\n",
              "      <td>Déclaration de Mme Michèle Alliot-Marie, prési...</td>\n",
              "      <td>130641</td>\n",
              "      <td>NaN</td>\n",
              "      <td>Michèle</td>\n",
              "      <td>Alliot-Marie</td>\n",
              "      <td>2000-06-17T12:00:00Z</td>\n",
              "      <td>NaN</td>\n",
              "      <td>1</td>\n",
              "    </tr>\n",
              "    <tr>\n",
              "      <th>160</th>\n",
              "      <td>10986</td>\n",
              "      <td>147261</td>\n",
              "      <td>Au-delà de la compensation financière proprem...</td>\n",
              "      <td>1</td>\n",
              "      <td>0</td>\n",
              "      <td>-1.813977</td>\n",
              "      <td>1.875399</td>\n",
              "      <td>False</td>\n",
              "      <td>Déclaration de Mme Marie-José Roig, ministre d...</td>\n",
              "      <td>147261</td>\n",
              "      <td>Institutions</td>\n",
              "      <td>Marie-Josée</td>\n",
              "      <td>Roig</td>\n",
              "      <td>2005-04-05T12:00:00Z</td>\n",
              "      <td>Administration - Réforme de l'Etat,Décentralis...</td>\n",
              "      <td>1</td>\n",
              "    </tr>\n",
              "    <tr>\n",
              "      <th>35</th>\n",
              "      <td>10861</td>\n",
              "      <td>149424</td>\n",
              "      <td>la promotion des Droits de l'Homme, la démocr...</td>\n",
              "      <td>1</td>\n",
              "      <td>0</td>\n",
              "      <td>-1.625877</td>\n",
              "      <td>1.701874</td>\n",
              "      <td>False</td>\n",
              "      <td>Déclaration de Mme Catherine Colonna, ministre...</td>\n",
              "      <td>149424</td>\n",
              "      <td>International</td>\n",
              "      <td>Catherine</td>\n",
              "      <td>Colonna</td>\n",
              "      <td>2005-10-10T12:00:00Z</td>\n",
              "      <td>Union européenne,Politique européenne de sécur...</td>\n",
              "      <td>1</td>\n",
              "    </tr>\n",
              "    <tr>\n",
              "      <th>87</th>\n",
              "      <td>10913</td>\n",
              "      <td>195136</td>\n",
              "      <td>Je souhaite à cet égard donner quelques exemp...</td>\n",
              "      <td>1</td>\n",
              "      <td>0</td>\n",
              "      <td>-1.643578</td>\n",
              "      <td>1.677818</td>\n",
              "      <td>False</td>\n",
              "      <td>Déclaration de Mme Myriam El Khomri, secrétair...</td>\n",
              "      <td>195136</td>\n",
              "      <td>Société</td>\n",
              "      <td>Myriam</td>\n",
              "      <td>El Khomri</td>\n",
              "      <td>2015-05-26T12:00:00Z</td>\n",
              "      <td>Ville - Territoires,Urbanisme</td>\n",
              "      <td>1</td>\n",
              "    </tr>\n",
              "    <tr>\n",
              "      <th>19</th>\n",
              "      <td>10845</td>\n",
              "      <td>197523</td>\n",
              "      <td>Monsieur le Secrétaire général,Madame la Dire...</td>\n",
              "      <td>1</td>\n",
              "      <td>0</td>\n",
              "      <td>-1.676022</td>\n",
              "      <td>1.665086</td>\n",
              "      <td>False</td>\n",
              "      <td>Déclaration de Mme Annick Girardin, secrétaire...</td>\n",
              "      <td>197523</td>\n",
              "      <td>International</td>\n",
              "      <td>Annick</td>\n",
              "      <td>Girardin</td>\n",
              "      <td>2016-01-07T12:00:00Z</td>\n",
              "      <td>Relations internationales,Aide internationale</td>\n",
              "      <td>1</td>\n",
              "    </tr>\n",
              "  </tbody>\n",
              "</table>\n",
              "</div>"
            ],
            "text/plain": [
              "     index  index_df  ...                                               Tags  sexe\n",
              "186  11012    180950  ...                Vie économique,Politique économique     1\n",
              "171  10997    167570  ...                Justice - Droits fondamentaux,Peine     1\n",
              "120  10946    144150  ...            Citoyenneté - Elections,Parti politique     1\n",
              "27   10853    189103  ...                                                NaN     1\n",
              "116  10942    270297  ...                Justice - Droits fondamentaux,Droit     1\n",
              "172  10998    130641  ...                                                NaN     1\n",
              "160  10986    147261  ...  Administration - Réforme de l'Etat,Décentralis...     1\n",
              "35   10861    149424  ...  Union européenne,Politique européenne de sécur...     1\n",
              "87   10913    195136  ...                      Ville - Territoires,Urbanisme     1\n",
              "19   10845    197523  ...      Relations internationales,Aide internationale     1\n",
              "\n",
              "[10 rows x 16 columns]"
            ]
          },
          "metadata": {
            "tags": []
          },
          "execution_count": 422
        }
      ]
    },
    {
      "cell_type": "code",
      "metadata": {
        "id": "cmd8NwXRzXCA",
        "colab_type": "code",
        "outputId": "fe1532d2-b607-4a35-c36e-1e94df390152",
        "colab": {
          "base_uri": "https://localhost:8080/",
          "height": 49
        }
      },
      "source": [
        "# Texts that were wrongly classified as women\n",
        "top_texts_false_f.head(1)"
      ],
      "execution_count": 0,
      "outputs": [
        {
          "output_type": "execute_result",
          "data": {
            "text/html": [
              "<div>\n",
              "<style scoped>\n",
              "    .dataframe tbody tr th:only-of-type {\n",
              "        vertical-align: middle;\n",
              "    }\n",
              "\n",
              "    .dataframe tbody tr th {\n",
              "        vertical-align: top;\n",
              "    }\n",
              "\n",
              "    .dataframe thead th {\n",
              "        text-align: right;\n",
              "    }\n",
              "</style>\n",
              "<table border=\"1\" class=\"dataframe\">\n",
              "  <thead>\n",
              "    <tr style=\"text-align: right;\">\n",
              "      <th></th>\n",
              "      <th>index</th>\n",
              "      <th>index_df</th>\n",
              "      <th>Texte</th>\n",
              "      <th>returned_labels</th>\n",
              "      <th>model_pred</th>\n",
              "      <th>one_score</th>\n",
              "      <th>max_score</th>\n",
              "      <th>WF</th>\n",
              "      <th>Titre</th>\n",
              "      <th>Id</th>\n",
              "      <th>Theme</th>\n",
              "      <th>Prenom</th>\n",
              "      <th>Nom</th>\n",
              "      <th>Date</th>\n",
              "      <th>Tags</th>\n",
              "      <th>sexe</th>\n",
              "    </tr>\n",
              "  </thead>\n",
              "  <tbody>\n",
              "  </tbody>\n",
              "</table>\n",
              "</div>"
            ],
            "text/plain": [
              "Empty DataFrame\n",
              "Columns: [index, index_df, Texte, returned_labels, model_pred, one_score, max_score, WF, Titre, Id, Theme, Prenom, Nom, Date, Tags, sexe]\n",
              "Index: []"
            ]
          },
          "metadata": {
            "tags": []
          },
          "execution_count": 66
        }
      ]
    },
    {
      "cell_type": "markdown",
      "metadata": {
        "id": "NjJlGCVmhlsW",
        "colab_type": "text"
      },
      "source": [
        "We want to dive a bit into the model and see how it makes a choice and why it fails to recognize the gender of the speaker on these sentences . Let's take some of them. We will redo point 4 of TD4."
      ]
    },
    {
      "cell_type": "code",
      "metadata": {
        "id": "wQWuNom8MMcA",
        "colab_type": "code",
        "colab": {}
      },
      "source": [
        "\n",
        "def split_document_to_limit_phrases(MAX_TOKENS,df):\n",
        "  lst= []\n",
        "  for index,row in df.iterrows():\n",
        "    identifiant = row.Id\n",
        "    label = row.sexe\n",
        "    phrase = ''\n",
        "    for phrases in sent_detector_mano(row.Texte):\n",
        "      if len(phrase.split(' ')) + len(phrases.split(' ')) < MAX_TOKENS:\n",
        "        phrase+= \" \" + phrases\n",
        "      else:\n",
        "        lst += [(identifiant,label,phrase,len(phrase.split(' ')))]\n",
        "        phrase = ''\n",
        "    lst += [(identifiant,label,phrase,len(phrase.split(' ')))]\n",
        "    phrase = ''\n",
        "  return pd.DataFrame(lst,columns=['index_df','sexe','Texte','Length'])"
      ],
      "execution_count": 0,
      "outputs": []
    },
    {
      "cell_type": "code",
      "metadata": {
        "id": "3XKOwjLLh7u4",
        "colab_type": "code",
        "colab": {}
      },
      "source": [
        "# We split those texts into pieces of 50 tokens\n",
        "sentence_to_analyse = pd.concat([top_texts_false_m,top_texts_true_m,top_texts_true_f,top_texts_true_f]).reset_index(drop=True)\n",
        "sentence_to_analyse=split_document_to_limit_phrases(60,sentence_to_analyse)\n",
        "sentence_to_analyse=sentence_to_analyse[sentence_to_analyse.Texte!='']"
      ],
      "execution_count": 0,
      "outputs": []
    },
    {
      "cell_type": "code",
      "metadata": {
        "id": "mZLxjL043Zqv",
        "colab_type": "code",
        "outputId": "981b6468-5756-4b4b-de33-eeab11768c02",
        "colab": {
          "base_uri": "https://localhost:8080/",
          "height": 221
        }
      },
      "source": [
        "# Sentences we will analyze\n",
        "sentence_to_analyse.Texte"
      ],
      "execution_count": 0,
      "outputs": [
        {
          "output_type": "execute_result",
          "data": {
            "text/plain": [
              "0       100 000 professionnels : cela justifiait plei...\n",
              "1       Son rapport est riche de propositions et je v...\n",
              "2       Les professionnels paramédicaux libéraux que ...\n",
              "3       La technicité de vos interventions en matière...\n",
              "4       Cela justifierait, s'il en est encore besoin,...\n",
              "                             ...                        \n",
              "176     Ce groupe de travail, qui s'est réuni tous le...\n",
              "177     Et, dans le même temps, Marisol Touraine, min...\n",
              "178     Et laisserait le champ libre à des comporteme...\n",
              "179     Le plan comporte 12 engagements, qui se décli...\n",
              "180     Car il faut permettre à tous de réagir de man...\n",
              "Name: Texte, Length: 170, dtype: object"
            ]
          },
          "metadata": {
            "tags": []
          },
          "execution_count": 64
        }
      ]
    },
    {
      "cell_type": "code",
      "metadata": {
        "id": "lhu2c2MSkOmD",
        "colab_type": "code",
        "outputId": "9a6142f6-7d2f-4580-8ca9-dd4d50333697",
        "colab": {
          "base_uri": "https://localhost:8080/",
          "height": 238
        }
      },
      "source": [
        "# We prepare the sentences\n",
        "from torch.utils.data import TensorDataset, random_split\n",
        "from torch.utils.data import DataLoader, RandomSampler, SequentialSampler\n",
        "from transformers import CamembertTokenizer\n",
        "\n",
        "texts = sentence_to_analyse.Texte.values\n",
        "labels = sentence_to_analyse.sexe.values\n",
        "tokenizer = CamembertTokenizer.from_pretrained('camembert-base', do_lower_case=False,padding_side='right')\n",
        "\n",
        "input_ids = []\n",
        "attention_masks = []\n",
        "num_truncated_tokens =[]\n",
        "\n",
        "for text in texts:\n",
        "  encoded_dict = tokenizer.encode_plus(\n",
        "                        text,                      # text\n",
        "                        add_special_tokens = True, # Add '[CLS]' and '[SEP]'\n",
        "                        max_length = 60,           # We choose for now a max length of 500.\n",
        "                        pad_to_max_length = True,    # Pad text to max \n",
        "                        return_attention_mask = True,   # Construct attention masks\n",
        "                        return_tensors = 'pt',     # Return pytorch tensors.\n",
        "                        return_overflowing_tokens =True, # return overflowing token information\n",
        "                  )\n",
        "  \n",
        "  input_ids.append(encoded_dict['input_ids'])\n",
        "  attention_masks.append(encoded_dict['attention_mask'])\n",
        "\n",
        "input_ids = torch.cat(input_ids, dim=0)\n",
        "attention_masks = torch.cat(attention_masks, dim=0)\n",
        "labels = torch.tensor(labels)\n",
        "\n",
        "print(\"Let's check for the first text indexes, attention masks and labels\")\n",
        "print(\" \")\n",
        "print('Original: ', texts[1][0:100])\n",
        "print('IDs:', input_ids[1][0:100])\n",
        "print('Attention masks:', attention_masks[1][0:100])\n",
        "print('labels',labels[1])\n",
        "\n",
        "dataset = TensorDataset(input_ids, attention_masks, labels)\n",
        "\n",
        "dev_dataloader = DataLoader(\n",
        "            dataset,  # The training samples.\n",
        "            batch_size = 1, # Trains with this batch size.\n",
        "            shuffle=False\n",
        "        )"
      ],
      "execution_count": 0,
      "outputs": [
        {
          "output_type": "stream",
          "text": [
            "Let's check for the first text indexes, attention masks and labels\n",
            " \n",
            "Original:   Son rapport est riche de propositions et je vais, dans quelques instants, en parler plus en détail.\n",
            "IDs: tensor([    5,   685,   459,    30,  1792,     8,  3996,    14,    50,   676,\n",
            "            7,    29,   193,  7812,     7,    22,   639,    40,    22,  2636,\n",
            "            9,    69,   587,   305,     7,    76,    11,    90,   146,   705,\n",
            "            7,    23,   262,   693,    29,    17,    11,   549,     8,   140,\n",
            "        15049,     9,    69, 11895,    22,   340,    28,  1465, 22547,     8,\n",
            "           75,  1703,     8,   117,    19,   274,     7,   843,    20,     6])\n",
            "Attention masks: tensor([1, 1, 1, 1, 1, 1, 1, 1, 1, 1, 1, 1, 1, 1, 1, 1, 1, 1, 1, 1, 1, 1, 1, 1,\n",
            "        1, 1, 1, 1, 1, 1, 1, 1, 1, 1, 1, 1, 1, 1, 1, 1, 1, 1, 1, 1, 1, 1, 1, 1,\n",
            "        1, 1, 1, 1, 1, 1, 1, 1, 1, 1, 1, 1])\n",
            "labels tensor(1)\n"
          ],
          "name": "stdout"
        }
      ]
    },
    {
      "cell_type": "code",
      "metadata": {
        "id": "UzsoooGrlpdC",
        "colab_type": "code",
        "colab": {}
      },
      "source": [
        "total_pred,total_labels,total_logits =evaluation_loop(gender_model,dev_dataloader)"
      ],
      "execution_count": 0,
      "outputs": []
    },
    {
      "cell_type": "code",
      "metadata": {
        "id": "pX2fdfkm89C_",
        "colab_type": "code",
        "colab": {}
      },
      "source": [
        "result_sentence =  dev_treatment(total_pred,total_labels,total_logits,sentence_to_analyse,df_balanced)"
      ],
      "execution_count": 0,
      "outputs": []
    },
    {
      "cell_type": "code",
      "metadata": {
        "id": "aTK50qJZngQW",
        "colab_type": "code",
        "outputId": "146521da-4cc3-4627-d68e-da0b233bfa28",
        "colab": {
          "base_uri": "https://localhost:8080/",
          "height": 459
        }
      },
      "source": [
        "result_sentence.head()"
      ],
      "execution_count": 0,
      "outputs": [
        {
          "output_type": "execute_result",
          "data": {
            "text/html": [
              "<div>\n",
              "<style scoped>\n",
              "    .dataframe tbody tr th:only-of-type {\n",
              "        vertical-align: middle;\n",
              "    }\n",
              "\n",
              "    .dataframe tbody tr th {\n",
              "        vertical-align: top;\n",
              "    }\n",
              "\n",
              "    .dataframe thead th {\n",
              "        text-align: right;\n",
              "    }\n",
              "</style>\n",
              "<table border=\"1\" class=\"dataframe\">\n",
              "  <thead>\n",
              "    <tr style=\"text-align: right;\">\n",
              "      <th></th>\n",
              "      <th>index</th>\n",
              "      <th>index_df</th>\n",
              "      <th>Texte</th>\n",
              "      <th>returned_labels</th>\n",
              "      <th>model_pred</th>\n",
              "      <th>one_score</th>\n",
              "      <th>max_score</th>\n",
              "      <th>WF</th>\n",
              "      <th>Titre</th>\n",
              "      <th>Id</th>\n",
              "      <th>Theme</th>\n",
              "      <th>Prenom</th>\n",
              "      <th>Nom</th>\n",
              "      <th>Date</th>\n",
              "      <th>Tags</th>\n",
              "      <th>sexe</th>\n",
              "    </tr>\n",
              "  </thead>\n",
              "  <tbody>\n",
              "    <tr>\n",
              "      <th>0</th>\n",
              "      <td>0</td>\n",
              "      <td>129697</td>\n",
              "      <td>100 000 professionnels : cela justifiait plei...</td>\n",
              "      <td>1</td>\n",
              "      <td>1</td>\n",
              "      <td>0.364449</td>\n",
              "      <td>0.364449</td>\n",
              "      <td>True</td>\n",
              "      <td>Déclaration de Mme Martine Aubry, ministre de ...</td>\n",
              "      <td>129697</td>\n",
              "      <td>Société</td>\n",
              "      <td>Martine</td>\n",
              "      <td>Aubry</td>\n",
              "      <td>1999-09-01T12:00:00Z</td>\n",
              "      <td>Santé - Protection sociale,Santé publique,Prof...</td>\n",
              "      <td>1</td>\n",
              "    </tr>\n",
              "    <tr>\n",
              "      <th>1</th>\n",
              "      <td>1</td>\n",
              "      <td>129697</td>\n",
              "      <td>Son rapport est riche de propositions et je v...</td>\n",
              "      <td>1</td>\n",
              "      <td>0</td>\n",
              "      <td>-2.731072</td>\n",
              "      <td>2.894246</td>\n",
              "      <td>False</td>\n",
              "      <td>Déclaration de Mme Martine Aubry, ministre de ...</td>\n",
              "      <td>129697</td>\n",
              "      <td>Société</td>\n",
              "      <td>Martine</td>\n",
              "      <td>Aubry</td>\n",
              "      <td>1999-09-01T12:00:00Z</td>\n",
              "      <td>Santé - Protection sociale,Santé publique,Prof...</td>\n",
              "      <td>1</td>\n",
              "    </tr>\n",
              "    <tr>\n",
              "      <th>2</th>\n",
              "      <td>2</td>\n",
              "      <td>129697</td>\n",
              "      <td>Les professionnels paramédicaux libéraux que ...</td>\n",
              "      <td>1</td>\n",
              "      <td>1</td>\n",
              "      <td>0.982862</td>\n",
              "      <td>0.982862</td>\n",
              "      <td>True</td>\n",
              "      <td>Déclaration de Mme Martine Aubry, ministre de ...</td>\n",
              "      <td>129697</td>\n",
              "      <td>Société</td>\n",
              "      <td>Martine</td>\n",
              "      <td>Aubry</td>\n",
              "      <td>1999-09-01T12:00:00Z</td>\n",
              "      <td>Santé - Protection sociale,Santé publique,Prof...</td>\n",
              "      <td>1</td>\n",
              "    </tr>\n",
              "    <tr>\n",
              "      <th>3</th>\n",
              "      <td>3</td>\n",
              "      <td>129697</td>\n",
              "      <td>La technicité de vos interventions en matière...</td>\n",
              "      <td>1</td>\n",
              "      <td>1</td>\n",
              "      <td>1.973445</td>\n",
              "      <td>1.973445</td>\n",
              "      <td>True</td>\n",
              "      <td>Déclaration de Mme Martine Aubry, ministre de ...</td>\n",
              "      <td>129697</td>\n",
              "      <td>Société</td>\n",
              "      <td>Martine</td>\n",
              "      <td>Aubry</td>\n",
              "      <td>1999-09-01T12:00:00Z</td>\n",
              "      <td>Santé - Protection sociale,Santé publique,Prof...</td>\n",
              "      <td>1</td>\n",
              "    </tr>\n",
              "    <tr>\n",
              "      <th>4</th>\n",
              "      <td>4</td>\n",
              "      <td>129697</td>\n",
              "      <td>Cela justifierait, s'il en est encore besoin,...</td>\n",
              "      <td>1</td>\n",
              "      <td>1</td>\n",
              "      <td>1.821600</td>\n",
              "      <td>1.821600</td>\n",
              "      <td>True</td>\n",
              "      <td>Déclaration de Mme Martine Aubry, ministre de ...</td>\n",
              "      <td>129697</td>\n",
              "      <td>Société</td>\n",
              "      <td>Martine</td>\n",
              "      <td>Aubry</td>\n",
              "      <td>1999-09-01T12:00:00Z</td>\n",
              "      <td>Santé - Protection sociale,Santé publique,Prof...</td>\n",
              "      <td>1</td>\n",
              "    </tr>\n",
              "  </tbody>\n",
              "</table>\n",
              "</div>"
            ],
            "text/plain": [
              "   index  index_df  ...                                               Tags  sexe\n",
              "0      0    129697  ...  Santé - Protection sociale,Santé publique,Prof...     1\n",
              "1      1    129697  ...  Santé - Protection sociale,Santé publique,Prof...     1\n",
              "2      2    129697  ...  Santé - Protection sociale,Santé publique,Prof...     1\n",
              "3      3    129697  ...  Santé - Protection sociale,Santé publique,Prof...     1\n",
              "4      4    129697  ...  Santé - Protection sociale,Santé publique,Prof...     1\n",
              "\n",
              "[5 rows x 16 columns]"
            ]
          },
          "metadata": {
            "tags": []
          },
          "execution_count": 72
        }
      ]
    },
    {
      "cell_type": "code",
      "metadata": {
        "id": "hKNslucdok9J",
        "colab_type": "code",
        "outputId": "4867bc51-1a1e-44c7-d111-6cedb205bdf5",
        "colab": {
          "base_uri": "https://localhost:8080/",
          "height": 34
        }
      },
      "source": [
        "#How many sentences were not well classified ? \n",
        "print('{0:.2f} percent of the development texts were not well classified by our model'.format(result[result.WF==False].WF.count()*100/len(result)))"
      ],
      "execution_count": 0,
      "outputs": [
        {
          "output_type": "stream",
          "text": [
            "13.54 percent of the development texts were not well classified by our model\n"
          ],
          "name": "stdout"
        }
      ]
    },
    {
      "cell_type": "markdown",
      "metadata": {
        "id": "FUX0w67j5J1t",
        "colab_type": "text"
      },
      "source": [
        "We redo the same exercice as before. Here with our pieces of text"
      ]
    },
    {
      "cell_type": "code",
      "metadata": {
        "id": "x4z2lKZyoYf4",
        "colab_type": "code",
        "colab": {}
      },
      "source": [
        "top_sentence_true_m=result_sentence[(result_sentence.WF==1) & (result_sentence.model_pred==0)].nlargest(1,'max_score')\n",
        "top_sentence_true_f=result_sentence[(result_sentence.WF==1) & (result_sentence.model_pred==1)].nlargest(1,'max_score')\n",
        "top_sentence_false_m=result_sentence[(result_sentence.WF==0) & (result_sentence.model_pred==0)].nlargest(1,'max_score')\n",
        "top_sentence_false_f=result_sentence[(result_sentence.WF==0) & (result_sentence.model_pred==1)].nlargest(1,'max_score')"
      ],
      "execution_count": 0,
      "outputs": []
    },
    {
      "cell_type": "code",
      "metadata": {
        "id": "QpMkyg35qUnF",
        "colab_type": "code",
        "outputId": "65b8650d-2e5d-4a9c-db20-0eba6c9c9b1a",
        "colab": {
          "base_uri": "https://localhost:8080/",
          "height": 131
        }
      },
      "source": [
        "top_sentence_false_m"
      ],
      "execution_count": 0,
      "outputs": [
        {
          "output_type": "execute_result",
          "data": {
            "text/html": [
              "<div>\n",
              "<style scoped>\n",
              "    .dataframe tbody tr th:only-of-type {\n",
              "        vertical-align: middle;\n",
              "    }\n",
              "\n",
              "    .dataframe tbody tr th {\n",
              "        vertical-align: top;\n",
              "    }\n",
              "\n",
              "    .dataframe thead th {\n",
              "        text-align: right;\n",
              "    }\n",
              "</style>\n",
              "<table border=\"1\" class=\"dataframe\">\n",
              "  <thead>\n",
              "    <tr style=\"text-align: right;\">\n",
              "      <th></th>\n",
              "      <th>index</th>\n",
              "      <th>index_df</th>\n",
              "      <th>Texte</th>\n",
              "      <th>returned_labels</th>\n",
              "      <th>model_pred</th>\n",
              "      <th>one_score</th>\n",
              "      <th>max_score</th>\n",
              "      <th>WF</th>\n",
              "      <th>Titre</th>\n",
              "      <th>Id</th>\n",
              "      <th>Theme</th>\n",
              "      <th>Prenom</th>\n",
              "      <th>Nom</th>\n",
              "      <th>Date</th>\n",
              "      <th>Tags</th>\n",
              "      <th>sexe</th>\n",
              "    </tr>\n",
              "  </thead>\n",
              "  <tbody>\n",
              "    <tr>\n",
              "      <th>1</th>\n",
              "      <td>1</td>\n",
              "      <td>129697</td>\n",
              "      <td>Son rapport est riche de propositions et je v...</td>\n",
              "      <td>1</td>\n",
              "      <td>0</td>\n",
              "      <td>-2.731072</td>\n",
              "      <td>2.894246</td>\n",
              "      <td>False</td>\n",
              "      <td>Déclaration de Mme Martine Aubry, ministre de ...</td>\n",
              "      <td>129697</td>\n",
              "      <td>Société</td>\n",
              "      <td>Martine</td>\n",
              "      <td>Aubry</td>\n",
              "      <td>1999-09-01T12:00:00Z</td>\n",
              "      <td>Santé - Protection sociale,Santé publique,Prof...</td>\n",
              "      <td>1</td>\n",
              "    </tr>\n",
              "  </tbody>\n",
              "</table>\n",
              "</div>"
            ],
            "text/plain": [
              "   index  index_df  ...                                               Tags  sexe\n",
              "1      1    129697  ...  Santé - Protection sociale,Santé publique,Prof...     1\n",
              "\n",
              "[1 rows x 16 columns]"
            ]
          },
          "metadata": {
            "tags": []
          },
          "execution_count": 75
        }
      ]
    },
    {
      "cell_type": "code",
      "metadata": {
        "id": "FDqBRQHAqTog",
        "colab_type": "code",
        "outputId": "f4051860-25f6-4bfe-c8d5-30151e7403ef",
        "colab": {
          "base_uri": "https://localhost:8080/",
          "height": 49
        }
      },
      "source": [
        "top_sentence_false_f"
      ],
      "execution_count": 0,
      "outputs": [
        {
          "output_type": "execute_result",
          "data": {
            "text/html": [
              "<div>\n",
              "<style scoped>\n",
              "    .dataframe tbody tr th:only-of-type {\n",
              "        vertical-align: middle;\n",
              "    }\n",
              "\n",
              "    .dataframe tbody tr th {\n",
              "        vertical-align: top;\n",
              "    }\n",
              "\n",
              "    .dataframe thead th {\n",
              "        text-align: right;\n",
              "    }\n",
              "</style>\n",
              "<table border=\"1\" class=\"dataframe\">\n",
              "  <thead>\n",
              "    <tr style=\"text-align: right;\">\n",
              "      <th></th>\n",
              "      <th>index</th>\n",
              "      <th>index_df</th>\n",
              "      <th>Texte</th>\n",
              "      <th>returned_labels</th>\n",
              "      <th>model_pred</th>\n",
              "      <th>one_score</th>\n",
              "      <th>max_score</th>\n",
              "      <th>WF</th>\n",
              "      <th>Titre</th>\n",
              "      <th>Id</th>\n",
              "      <th>Theme</th>\n",
              "      <th>Prenom</th>\n",
              "      <th>Nom</th>\n",
              "      <th>Date</th>\n",
              "      <th>Tags</th>\n",
              "      <th>sexe</th>\n",
              "    </tr>\n",
              "  </thead>\n",
              "  <tbody>\n",
              "  </tbody>\n",
              "</table>\n",
              "</div>"
            ],
            "text/plain": [
              "Empty DataFrame\n",
              "Columns: [index, index_df, Texte, returned_labels, model_pred, one_score, max_score, WF, Titre, Id, Theme, Prenom, Nom, Date, Tags, sexe]\n",
              "Index: []"
            ]
          },
          "metadata": {
            "tags": []
          },
          "execution_count": 76
        }
      ]
    },
    {
      "cell_type": "code",
      "metadata": {
        "id": "eJMWoOkh0ZqM",
        "colab_type": "code",
        "outputId": "6ebf0058-2345-434f-fa54-50c20effd67b",
        "colab": {
          "base_uri": "https://localhost:8080/",
          "height": 49
        }
      },
      "source": [
        "top_sentence_true_m"
      ],
      "execution_count": 0,
      "outputs": [
        {
          "output_type": "execute_result",
          "data": {
            "text/html": [
              "<div>\n",
              "<style scoped>\n",
              "    .dataframe tbody tr th:only-of-type {\n",
              "        vertical-align: middle;\n",
              "    }\n",
              "\n",
              "    .dataframe tbody tr th {\n",
              "        vertical-align: top;\n",
              "    }\n",
              "\n",
              "    .dataframe thead th {\n",
              "        text-align: right;\n",
              "    }\n",
              "</style>\n",
              "<table border=\"1\" class=\"dataframe\">\n",
              "  <thead>\n",
              "    <tr style=\"text-align: right;\">\n",
              "      <th></th>\n",
              "      <th>index</th>\n",
              "      <th>index_df</th>\n",
              "      <th>Texte</th>\n",
              "      <th>returned_labels</th>\n",
              "      <th>model_pred</th>\n",
              "      <th>one_score</th>\n",
              "      <th>max_score</th>\n",
              "      <th>WF</th>\n",
              "      <th>Titre</th>\n",
              "      <th>Id</th>\n",
              "      <th>Theme</th>\n",
              "      <th>Prenom</th>\n",
              "      <th>Nom</th>\n",
              "      <th>Date</th>\n",
              "      <th>Tags</th>\n",
              "      <th>sexe</th>\n",
              "    </tr>\n",
              "  </thead>\n",
              "  <tbody>\n",
              "  </tbody>\n",
              "</table>\n",
              "</div>"
            ],
            "text/plain": [
              "Empty DataFrame\n",
              "Columns: [index, index_df, Texte, returned_labels, model_pred, one_score, max_score, WF, Titre, Id, Theme, Prenom, Nom, Date, Tags, sexe]\n",
              "Index: []"
            ]
          },
          "metadata": {
            "tags": []
          },
          "execution_count": 77
        }
      ]
    },
    {
      "cell_type": "code",
      "metadata": {
        "id": "ewrV4UeJ0br2",
        "colab_type": "code",
        "outputId": "977f8add-c89b-44d4-aea7-dcb742589415",
        "colab": {
          "base_uri": "https://localhost:8080/",
          "height": 114
        }
      },
      "source": [
        "top_sentence_true_f"
      ],
      "execution_count": 0,
      "outputs": [
        {
          "output_type": "execute_result",
          "data": {
            "text/html": [
              "<div>\n",
              "<style scoped>\n",
              "    .dataframe tbody tr th:only-of-type {\n",
              "        vertical-align: middle;\n",
              "    }\n",
              "\n",
              "    .dataframe tbody tr th {\n",
              "        vertical-align: top;\n",
              "    }\n",
              "\n",
              "    .dataframe thead th {\n",
              "        text-align: right;\n",
              "    }\n",
              "</style>\n",
              "<table border=\"1\" class=\"dataframe\">\n",
              "  <thead>\n",
              "    <tr style=\"text-align: right;\">\n",
              "      <th></th>\n",
              "      <th>index</th>\n",
              "      <th>index_df</th>\n",
              "      <th>Texte</th>\n",
              "      <th>returned_labels</th>\n",
              "      <th>model_pred</th>\n",
              "      <th>one_score</th>\n",
              "      <th>max_score</th>\n",
              "      <th>WF</th>\n",
              "      <th>Titre</th>\n",
              "      <th>Id</th>\n",
              "      <th>Theme</th>\n",
              "      <th>Prenom</th>\n",
              "      <th>Nom</th>\n",
              "      <th>Date</th>\n",
              "      <th>Tags</th>\n",
              "      <th>sexe</th>\n",
              "    </tr>\n",
              "  </thead>\n",
              "  <tbody>\n",
              "    <tr>\n",
              "      <th>88</th>\n",
              "      <td>94</td>\n",
              "      <td>172500</td>\n",
              "      <td>Je suis frappée à ce titre du fait que ce soi...</td>\n",
              "      <td>1</td>\n",
              "      <td>1</td>\n",
              "      <td>2.693038</td>\n",
              "      <td>2.693038</td>\n",
              "      <td>True</td>\n",
              "      <td>Déclaration de Mme Elisabeth Guigou, ministre ...</td>\n",
              "      <td>172500</td>\n",
              "      <td>Société</td>\n",
              "      <td>Elisabeth</td>\n",
              "      <td>Guigou</td>\n",
              "      <td>2001-01-16T12:00:00Z</td>\n",
              "      <td>Société - Population,Insertion sociale</td>\n",
              "      <td>1</td>\n",
              "    </tr>\n",
              "  </tbody>\n",
              "</table>\n",
              "</div>"
            ],
            "text/plain": [
              "    index  index_df  ...                                    Tags  sexe\n",
              "88     94    172500  ...  Société - Population,Insertion sociale     1\n",
              "\n",
              "[1 rows x 16 columns]"
            ]
          },
          "metadata": {
            "tags": []
          },
          "execution_count": 78
        }
      ]
    },
    {
      "cell_type": "code",
      "metadata": {
        "id": "CqDo-uLY7R_M",
        "colab_type": "code",
        "outputId": "b52480f2-a9b5-4f75-870b-56bcc1001024",
        "colab": {
          "base_uri": "https://localhost:8080/",
          "height": 323
        }
      },
      "source": [
        "words_to_analyse = pd.concat([top_sentence_false_m,top_sentence_true_m,top_sentence_false_f,top_sentence_true_f]).reset_index(drop=True)\n",
        "words_to_analyse.insert(2, \"type_fail\", ['false_m','true_m','false_f','true_f'], True) "
      ],
      "execution_count": 0,
      "outputs": [
        {
          "output_type": "error",
          "ename": "ValueError",
          "evalue": "ignored",
          "traceback": [
            "\u001b[0;31m---------------------------------------------------------------------------\u001b[0m",
            "\u001b[0;31mValueError\u001b[0m                                Traceback (most recent call last)",
            "\u001b[0;32m<ipython-input-79-a2359780d1b5>\u001b[0m in \u001b[0;36m<module>\u001b[0;34m()\u001b[0m\n\u001b[1;32m      1\u001b[0m \u001b[0mwords_to_analyse\u001b[0m \u001b[0;34m=\u001b[0m \u001b[0mpd\u001b[0m\u001b[0;34m.\u001b[0m\u001b[0mconcat\u001b[0m\u001b[0;34m(\u001b[0m\u001b[0;34m[\u001b[0m\u001b[0mtop_sentence_false_m\u001b[0m\u001b[0;34m,\u001b[0m\u001b[0mtop_sentence_true_m\u001b[0m\u001b[0;34m,\u001b[0m\u001b[0mtop_sentence_false_f\u001b[0m\u001b[0;34m,\u001b[0m\u001b[0mtop_sentence_true_f\u001b[0m\u001b[0;34m]\u001b[0m\u001b[0;34m)\u001b[0m\u001b[0;34m.\u001b[0m\u001b[0mreset_index\u001b[0m\u001b[0;34m(\u001b[0m\u001b[0mdrop\u001b[0m\u001b[0;34m=\u001b[0m\u001b[0;32mTrue\u001b[0m\u001b[0;34m)\u001b[0m\u001b[0;34m\u001b[0m\u001b[0;34m\u001b[0m\u001b[0m\n\u001b[0;32m----> 2\u001b[0;31m \u001b[0mwords_to_analyse\u001b[0m\u001b[0;34m.\u001b[0m\u001b[0minsert\u001b[0m\u001b[0;34m(\u001b[0m\u001b[0;36m2\u001b[0m\u001b[0;34m,\u001b[0m \u001b[0;34m\"type_fail\"\u001b[0m\u001b[0;34m,\u001b[0m \u001b[0;34m[\u001b[0m\u001b[0;34m'false_m'\u001b[0m\u001b[0;34m,\u001b[0m\u001b[0;34m'true_m'\u001b[0m\u001b[0;34m,\u001b[0m\u001b[0;34m'false_f'\u001b[0m\u001b[0;34m,\u001b[0m\u001b[0;34m'true_f'\u001b[0m\u001b[0;34m]\u001b[0m\u001b[0;34m,\u001b[0m \u001b[0;32mTrue\u001b[0m\u001b[0;34m)\u001b[0m\u001b[0;34m\u001b[0m\u001b[0;34m\u001b[0m\u001b[0m\n\u001b[0m",
            "\u001b[0;32m/usr/local/lib/python3.6/dist-packages/pandas/core/frame.py\u001b[0m in \u001b[0;36minsert\u001b[0;34m(self, loc, column, value, allow_duplicates)\u001b[0m\n\u001b[1;32m   3493\u001b[0m         \"\"\"\n\u001b[1;32m   3494\u001b[0m         \u001b[0mself\u001b[0m\u001b[0;34m.\u001b[0m\u001b[0m_ensure_valid_index\u001b[0m\u001b[0;34m(\u001b[0m\u001b[0mvalue\u001b[0m\u001b[0;34m)\u001b[0m\u001b[0;34m\u001b[0m\u001b[0;34m\u001b[0m\u001b[0m\n\u001b[0;32m-> 3495\u001b[0;31m         \u001b[0mvalue\u001b[0m \u001b[0;34m=\u001b[0m \u001b[0mself\u001b[0m\u001b[0;34m.\u001b[0m\u001b[0m_sanitize_column\u001b[0m\u001b[0;34m(\u001b[0m\u001b[0mcolumn\u001b[0m\u001b[0;34m,\u001b[0m \u001b[0mvalue\u001b[0m\u001b[0;34m,\u001b[0m \u001b[0mbroadcast\u001b[0m\u001b[0;34m=\u001b[0m\u001b[0;32mFalse\u001b[0m\u001b[0;34m)\u001b[0m\u001b[0;34m\u001b[0m\u001b[0;34m\u001b[0m\u001b[0m\n\u001b[0m\u001b[1;32m   3496\u001b[0m         \u001b[0mself\u001b[0m\u001b[0;34m.\u001b[0m\u001b[0m_data\u001b[0m\u001b[0;34m.\u001b[0m\u001b[0minsert\u001b[0m\u001b[0;34m(\u001b[0m\u001b[0mloc\u001b[0m\u001b[0;34m,\u001b[0m \u001b[0mcolumn\u001b[0m\u001b[0;34m,\u001b[0m \u001b[0mvalue\u001b[0m\u001b[0;34m,\u001b[0m \u001b[0mallow_duplicates\u001b[0m\u001b[0;34m=\u001b[0m\u001b[0mallow_duplicates\u001b[0m\u001b[0;34m)\u001b[0m\u001b[0;34m\u001b[0m\u001b[0;34m\u001b[0m\u001b[0m\n\u001b[1;32m   3497\u001b[0m \u001b[0;34m\u001b[0m\u001b[0m\n",
            "\u001b[0;32m/usr/local/lib/python3.6/dist-packages/pandas/core/frame.py\u001b[0m in \u001b[0;36m_sanitize_column\u001b[0;34m(self, key, value, broadcast)\u001b[0m\n\u001b[1;32m   3634\u001b[0m \u001b[0;34m\u001b[0m\u001b[0m\n\u001b[1;32m   3635\u001b[0m             \u001b[0;31m# turn me into an ndarray\u001b[0m\u001b[0;34m\u001b[0m\u001b[0;34m\u001b[0m\u001b[0;34m\u001b[0m\u001b[0m\n\u001b[0;32m-> 3636\u001b[0;31m             \u001b[0mvalue\u001b[0m \u001b[0;34m=\u001b[0m \u001b[0msanitize_index\u001b[0m\u001b[0;34m(\u001b[0m\u001b[0mvalue\u001b[0m\u001b[0;34m,\u001b[0m \u001b[0mself\u001b[0m\u001b[0;34m.\u001b[0m\u001b[0mindex\u001b[0m\u001b[0;34m,\u001b[0m \u001b[0mcopy\u001b[0m\u001b[0;34m=\u001b[0m\u001b[0;32mFalse\u001b[0m\u001b[0;34m)\u001b[0m\u001b[0;34m\u001b[0m\u001b[0;34m\u001b[0m\u001b[0m\n\u001b[0m\u001b[1;32m   3637\u001b[0m             \u001b[0;32mif\u001b[0m \u001b[0;32mnot\u001b[0m \u001b[0misinstance\u001b[0m\u001b[0;34m(\u001b[0m\u001b[0mvalue\u001b[0m\u001b[0;34m,\u001b[0m \u001b[0;34m(\u001b[0m\u001b[0mnp\u001b[0m\u001b[0;34m.\u001b[0m\u001b[0mndarray\u001b[0m\u001b[0;34m,\u001b[0m \u001b[0mIndex\u001b[0m\u001b[0;34m)\u001b[0m\u001b[0;34m)\u001b[0m\u001b[0;34m:\u001b[0m\u001b[0;34m\u001b[0m\u001b[0;34m\u001b[0m\u001b[0m\n\u001b[1;32m   3638\u001b[0m                 \u001b[0;32mif\u001b[0m \u001b[0misinstance\u001b[0m\u001b[0;34m(\u001b[0m\u001b[0mvalue\u001b[0m\u001b[0;34m,\u001b[0m \u001b[0mlist\u001b[0m\u001b[0;34m)\u001b[0m \u001b[0;32mand\u001b[0m \u001b[0mlen\u001b[0m\u001b[0;34m(\u001b[0m\u001b[0mvalue\u001b[0m\u001b[0;34m)\u001b[0m \u001b[0;34m>\u001b[0m \u001b[0;36m0\u001b[0m\u001b[0;34m:\u001b[0m\u001b[0;34m\u001b[0m\u001b[0;34m\u001b[0m\u001b[0m\n",
            "\u001b[0;32m/usr/local/lib/python3.6/dist-packages/pandas/core/internals/construction.py\u001b[0m in \u001b[0;36msanitize_index\u001b[0;34m(data, index, copy)\u001b[0m\n\u001b[1;32m    609\u001b[0m \u001b[0;34m\u001b[0m\u001b[0m\n\u001b[1;32m    610\u001b[0m     \u001b[0;32mif\u001b[0m \u001b[0mlen\u001b[0m\u001b[0;34m(\u001b[0m\u001b[0mdata\u001b[0m\u001b[0;34m)\u001b[0m \u001b[0;34m!=\u001b[0m \u001b[0mlen\u001b[0m\u001b[0;34m(\u001b[0m\u001b[0mindex\u001b[0m\u001b[0;34m)\u001b[0m\u001b[0;34m:\u001b[0m\u001b[0;34m\u001b[0m\u001b[0;34m\u001b[0m\u001b[0m\n\u001b[0;32m--> 611\u001b[0;31m         \u001b[0;32mraise\u001b[0m \u001b[0mValueError\u001b[0m\u001b[0;34m(\u001b[0m\u001b[0;34m\"Length of values does not match length of index\"\u001b[0m\u001b[0;34m)\u001b[0m\u001b[0;34m\u001b[0m\u001b[0;34m\u001b[0m\u001b[0m\n\u001b[0m\u001b[1;32m    612\u001b[0m \u001b[0;34m\u001b[0m\u001b[0m\n\u001b[1;32m    613\u001b[0m     \u001b[0;32mif\u001b[0m \u001b[0misinstance\u001b[0m\u001b[0;34m(\u001b[0m\u001b[0mdata\u001b[0m\u001b[0;34m,\u001b[0m \u001b[0mABCIndexClass\u001b[0m\u001b[0;34m)\u001b[0m \u001b[0;32mand\u001b[0m \u001b[0;32mnot\u001b[0m \u001b[0mcopy\u001b[0m\u001b[0;34m:\u001b[0m\u001b[0;34m\u001b[0m\u001b[0;34m\u001b[0m\u001b[0m\n",
            "\u001b[0;31mValueError\u001b[0m: Length of values does not match length of index"
          ]
        }
      ]
    },
    {
      "cell_type": "code",
      "metadata": {
        "id": "la04asKH6Tqj",
        "colab_type": "code",
        "outputId": "72b59081-a521-4705-deae-6ae9bc95b538",
        "colab": {
          "base_uri": "https://localhost:8080/",
          "height": 350
        }
      },
      "source": [
        "# We split those sentences into words\n",
        "lst= []\n",
        "for index,row in words_to_analyse.iterrows():\n",
        "  identifiant = row.index_df\n",
        "  label = row.sexe\n",
        "  type_fail = row.type_fail\n",
        "  phrase = []\n",
        "  for token in row.Texte.split(' '):\n",
        "      lst += [(identifiant,label,token,type_fail)]"
      ],
      "execution_count": 0,
      "outputs": [
        {
          "output_type": "error",
          "ename": "AttributeError",
          "evalue": "ignored",
          "traceback": [
            "\u001b[0;31m---------------------------------------------------------------------------\u001b[0m",
            "\u001b[0;31mAttributeError\u001b[0m                            Traceback (most recent call last)",
            "\u001b[0;32m<ipython-input-80-23321c9eb125>\u001b[0m in \u001b[0;36m<module>\u001b[0;34m()\u001b[0m\n\u001b[1;32m      3\u001b[0m   \u001b[0midentifiant\u001b[0m \u001b[0;34m=\u001b[0m \u001b[0mrow\u001b[0m\u001b[0;34m.\u001b[0m\u001b[0mindex_df\u001b[0m\u001b[0;34m\u001b[0m\u001b[0;34m\u001b[0m\u001b[0m\n\u001b[1;32m      4\u001b[0m   \u001b[0mlabel\u001b[0m \u001b[0;34m=\u001b[0m \u001b[0mrow\u001b[0m\u001b[0;34m.\u001b[0m\u001b[0msexe\u001b[0m\u001b[0;34m\u001b[0m\u001b[0;34m\u001b[0m\u001b[0m\n\u001b[0;32m----> 5\u001b[0;31m   \u001b[0mtype_fail\u001b[0m \u001b[0;34m=\u001b[0m \u001b[0mrow\u001b[0m\u001b[0;34m.\u001b[0m\u001b[0mtype_fail\u001b[0m\u001b[0;34m\u001b[0m\u001b[0;34m\u001b[0m\u001b[0m\n\u001b[0m\u001b[1;32m      6\u001b[0m   \u001b[0mphrase\u001b[0m \u001b[0;34m=\u001b[0m \u001b[0;34m[\u001b[0m\u001b[0;34m]\u001b[0m\u001b[0;34m\u001b[0m\u001b[0;34m\u001b[0m\u001b[0m\n\u001b[1;32m      7\u001b[0m   \u001b[0;32mfor\u001b[0m \u001b[0mtoken\u001b[0m \u001b[0;32min\u001b[0m \u001b[0mrow\u001b[0m\u001b[0;34m.\u001b[0m\u001b[0mTexte\u001b[0m\u001b[0;34m.\u001b[0m\u001b[0msplit\u001b[0m\u001b[0;34m(\u001b[0m\u001b[0;34m' '\u001b[0m\u001b[0;34m)\u001b[0m\u001b[0;34m:\u001b[0m\u001b[0;34m\u001b[0m\u001b[0;34m\u001b[0m\u001b[0m\n",
            "\u001b[0;32m/usr/local/lib/python3.6/dist-packages/pandas/core/generic.py\u001b[0m in \u001b[0;36m__getattr__\u001b[0;34m(self, name)\u001b[0m\n\u001b[1;32m   5272\u001b[0m             \u001b[0;32mif\u001b[0m \u001b[0mself\u001b[0m\u001b[0;34m.\u001b[0m\u001b[0m_info_axis\u001b[0m\u001b[0;34m.\u001b[0m\u001b[0m_can_hold_identifiers_and_holds_name\u001b[0m\u001b[0;34m(\u001b[0m\u001b[0mname\u001b[0m\u001b[0;34m)\u001b[0m\u001b[0;34m:\u001b[0m\u001b[0;34m\u001b[0m\u001b[0;34m\u001b[0m\u001b[0m\n\u001b[1;32m   5273\u001b[0m                 \u001b[0;32mreturn\u001b[0m \u001b[0mself\u001b[0m\u001b[0;34m[\u001b[0m\u001b[0mname\u001b[0m\u001b[0;34m]\u001b[0m\u001b[0;34m\u001b[0m\u001b[0;34m\u001b[0m\u001b[0m\n\u001b[0;32m-> 5274\u001b[0;31m             \u001b[0;32mreturn\u001b[0m \u001b[0mobject\u001b[0m\u001b[0;34m.\u001b[0m\u001b[0m__getattribute__\u001b[0m\u001b[0;34m(\u001b[0m\u001b[0mself\u001b[0m\u001b[0;34m,\u001b[0m \u001b[0mname\u001b[0m\u001b[0;34m)\u001b[0m\u001b[0;34m\u001b[0m\u001b[0;34m\u001b[0m\u001b[0m\n\u001b[0m\u001b[1;32m   5275\u001b[0m \u001b[0;34m\u001b[0m\u001b[0m\n\u001b[1;32m   5276\u001b[0m     \u001b[0;32mdef\u001b[0m \u001b[0m__setattr__\u001b[0m\u001b[0;34m(\u001b[0m\u001b[0mself\u001b[0m\u001b[0;34m,\u001b[0m \u001b[0mname\u001b[0m\u001b[0;34m:\u001b[0m \u001b[0mstr\u001b[0m\u001b[0;34m,\u001b[0m \u001b[0mvalue\u001b[0m\u001b[0;34m)\u001b[0m \u001b[0;34m->\u001b[0m \u001b[0;32mNone\u001b[0m\u001b[0;34m:\u001b[0m\u001b[0;34m\u001b[0m\u001b[0;34m\u001b[0m\u001b[0m\n",
            "\u001b[0;31mAttributeError\u001b[0m: 'Series' object has no attribute 'type_fail'"
          ]
        }
      ]
    },
    {
      "cell_type": "code",
      "metadata": {
        "id": "969R9ae06iAZ",
        "colab_type": "code",
        "colab": {}
      },
      "source": [
        "words_to_analyse=pd.DataFrame(lst,columns=['index_df','sexe','Texte','type_fail'])\n",
        "words_to_analyse=words_to_analyse[words_to_analyse.Texte!='']"
      ],
      "execution_count": 0,
      "outputs": []
    },
    {
      "cell_type": "code",
      "metadata": {
        "id": "IUyDuca0fRlL",
        "colab_type": "code",
        "outputId": "498a82d0-8604-4a37-fef1-f4315e7529d2",
        "colab": {
          "base_uri": "https://localhost:8080/",
          "height": 204
        }
      },
      "source": [
        "words_to_analyse=words_to_analyse[words_to_analyse.Texte!='']\n",
        "words_to_analyse.head()"
      ],
      "execution_count": 0,
      "outputs": [
        {
          "output_type": "execute_result",
          "data": {
            "text/html": [
              "<div>\n",
              "<style scoped>\n",
              "    .dataframe tbody tr th:only-of-type {\n",
              "        vertical-align: middle;\n",
              "    }\n",
              "\n",
              "    .dataframe tbody tr th {\n",
              "        vertical-align: top;\n",
              "    }\n",
              "\n",
              "    .dataframe thead th {\n",
              "        text-align: right;\n",
              "    }\n",
              "</style>\n",
              "<table border=\"1\" class=\"dataframe\">\n",
              "  <thead>\n",
              "    <tr style=\"text-align: right;\">\n",
              "      <th></th>\n",
              "      <th>index_df</th>\n",
              "      <th>sexe</th>\n",
              "      <th>Texte</th>\n",
              "      <th>type_fail</th>\n",
              "    </tr>\n",
              "  </thead>\n",
              "  <tbody>\n",
              "    <tr>\n",
              "      <th>1</th>\n",
              "      <td>149424</td>\n",
              "      <td>1</td>\n",
              "      <td>Cela</td>\n",
              "      <td>false_m</td>\n",
              "    </tr>\n",
              "    <tr>\n",
              "      <th>2</th>\n",
              "      <td>149424</td>\n",
              "      <td>1</td>\n",
              "      <td>dit,</td>\n",
              "      <td>false_m</td>\n",
              "    </tr>\n",
              "    <tr>\n",
              "      <th>3</th>\n",
              "      <td>149424</td>\n",
              "      <td>1</td>\n",
              "      <td>chacun</td>\n",
              "      <td>false_m</td>\n",
              "    </tr>\n",
              "    <tr>\n",
              "      <th>4</th>\n",
              "      <td>149424</td>\n",
              "      <td>1</td>\n",
              "      <td>sait</td>\n",
              "      <td>false_m</td>\n",
              "    </tr>\n",
              "    <tr>\n",
              "      <th>5</th>\n",
              "      <td>149424</td>\n",
              "      <td>1</td>\n",
              "      <td>bien</td>\n",
              "      <td>false_m</td>\n",
              "    </tr>\n",
              "  </tbody>\n",
              "</table>\n",
              "</div>"
            ],
            "text/plain": [
              "   index_df  sexe   Texte type_fail\n",
              "1    149424     1    Cela   false_m\n",
              "2    149424     1    dit,   false_m\n",
              "3    149424     1  chacun   false_m\n",
              "4    149424     1    sait   false_m\n",
              "5    149424     1    bien   false_m"
            ]
          },
          "metadata": {
            "tags": []
          },
          "execution_count": 440
        }
      ]
    },
    {
      "cell_type": "code",
      "metadata": {
        "id": "1Psom5Gizsjr",
        "colab_type": "code",
        "outputId": "b8a33f76-25a7-47d6-b9ef-c73050ec0d42",
        "colab": {
          "base_uri": "https://localhost:8080/",
          "height": 119
        }
      },
      "source": [
        "# We prepare again the development sample for analysis \n",
        "\n",
        "from torch.utils.data import TensorDataset, random_split\n",
        "from torch.utils.data import DataLoader, RandomSampler, SequentialSampler\n",
        "from transformers import CamembertTokenizer\n",
        "\n",
        "texts = words_to_analyse.Texte.values\n",
        "labels = words_to_analyse.sexe.values\n",
        "tokenizer = CamembertTokenizer.from_pretrained('camembert-base', do_lower_case=False,padding_side='right')\n",
        "\n",
        "# Tokenize all of the sentences and map the tokens to thier word IDs.\n",
        "input_ids = []\n",
        "attention_masks = []\n",
        "num_truncated_tokens =[]\n",
        "\n",
        "for text in texts:\n",
        "  encoded_dict = tokenizer.encode_plus(\n",
        "                        text,                      # text\n",
        "                        add_special_tokens = True, # Add '[CLS]' and '[SEP]'\n",
        "                        max_length = 5,           # We choose for now a max length of 500.\n",
        "                        pad_to_max_length = True,    # Pad text to max \n",
        "                        return_attention_mask = True,   # Construct attention masks\n",
        "                        return_tensors = 'pt',     # Return pytorch tensors.\n",
        "                        return_overflowing_tokens =True, # return overflowing token information\n",
        "                  )\n",
        "    \n",
        "    # Map tokens to their id in the dictionnary \n",
        "    # We add this to our list    \n",
        "  input_ids.append(encoded_dict['input_ids'])\n",
        "\n",
        "    #num_truncated_tokens.append(encoded_dict['num_truncated_tokens'])\n",
        "    \n",
        "    # 3. Attention masks\n",
        "  attention_masks.append(encoded_dict['attention_mask'])\n",
        "\n",
        "# We convert all this into tensors in order to be able to make it work on GPU \n",
        "input_ids = torch.cat(input_ids, dim=0)\n",
        "attention_masks = torch.cat(attention_masks, dim=0)\n",
        "labels = torch.tensor(labels)\n",
        "\n",
        "# Original text and transformed tensor print \n",
        "print(\"Let's check for the first text indexes, attention masks and labels\")\n",
        "print(\" \")\n",
        "print('Original: ', texts[0][0:100])\n",
        "print('IDs:', input_ids[0][0:100])\n",
        "print('Attention masks:', attention_masks[0][0:100])\n",
        "print('labels',labels[0])\n",
        "\n",
        "# Combine all above\n",
        "dataset = TensorDataset(input_ids, attention_masks, labels)\n",
        "# We create data loaders for the train and validation dataset. \n",
        "dev_dataloader = DataLoader(\n",
        "            dataset,  # The training samples.\n",
        "            batch_size = 1, # Trains with this batch size.\n",
        "            shuffle=False\n",
        "        )"
      ],
      "execution_count": 0,
      "outputs": [
        {
          "output_type": "stream",
          "text": [
            "Let's check for the first text indexes, attention masks and labels\n",
            " \n",
            "Original:  Cela\n",
            "IDs: tensor([  5, 683,   6,   1,   1])\n",
            "Attention masks: tensor([1, 1, 1, 0, 0])\n",
            "labels tensor(1)\n"
          ],
          "name": "stdout"
        }
      ]
    },
    {
      "cell_type": "code",
      "metadata": {
        "id": "YWOre462zer-",
        "colab_type": "code",
        "colab": {}
      },
      "source": [
        "total_pred,total_labels,total_logits =evaluation_loop(gender_model,dev_dataloader)"
      ],
      "execution_count": 0,
      "outputs": []
    },
    {
      "cell_type": "code",
      "metadata": {
        "id": "TkFcDyDx59EF",
        "colab_type": "code",
        "colab": {}
      },
      "source": [
        "result_words =  dev_treatment(total_pred,total_labels,total_logits,words_to_analyse,df_balanced)"
      ],
      "execution_count": 0,
      "outputs": []
    },
    {
      "cell_type": "code",
      "metadata": {
        "id": "s5U82xvk6EKE",
        "colab_type": "code",
        "colab": {}
      },
      "source": [
        "type_fail = ['top_sentence_false_m','top_sentence_true_m','top_sentence_false_f','top_sentence_true_f']\n",
        "identifier = list(result_words.Id.unique())"
      ],
      "execution_count": 0,
      "outputs": []
    },
    {
      "cell_type": "code",
      "metadata": {
        "id": "n4_4pfWu_CBi",
        "colab_type": "code",
        "outputId": "457aa0bc-010b-4ffb-fe38-52be8c56144c",
        "colab": {
          "base_uri": "https://localhost:8080/",
          "height": 100
        }
      },
      "source": [
        "df_plot_false_m"
      ],
      "execution_count": 0,
      "outputs": [
        {
          "output_type": "execute_result",
          "data": {
            "text/html": [
              "<div>\n",
              "<style scoped>\n",
              "    .dataframe tbody tr th:only-of-type {\n",
              "        vertical-align: middle;\n",
              "    }\n",
              "\n",
              "    .dataframe tbody tr th {\n",
              "        vertical-align: top;\n",
              "    }\n",
              "\n",
              "    .dataframe thead th {\n",
              "        text-align: right;\n",
              "    }\n",
              "</style>\n",
              "<table border=\"1\" class=\"dataframe\">\n",
              "  <thead>\n",
              "    <tr style=\"text-align: right;\">\n",
              "      <th></th>\n",
              "      <th>Cela</th>\n",
              "      <th>dit,</th>\n",
              "      <th>chacun</th>\n",
              "      <th>sait</th>\n",
              "      <th>bien</th>\n",
              "      <th>que</th>\n",
              "      <th>nous</th>\n",
              "      <th>ne</th>\n",
              "      <th>sommes</th>\n",
              "      <th>pas</th>\n",
              "      <th>unis</th>\n",
              "      <th>sur</th>\n",
              "      <th>tout.</th>\n",
              "      <th>Il</th>\n",
              "      <th>suffit</th>\n",
              "      <th>d'évoquer</th>\n",
              "      <th>la</th>\n",
              "      <th>crise</th>\n",
              "      <th>irakienne,</th>\n",
              "      <th>mais</th>\n",
              "      <th>il</th>\n",
              "      <th>y</th>\n",
              "      <th>a</th>\n",
              "      <th>d'autres</th>\n",
              "      <th>exemples</th>\n",
              "      <th>où,</th>\n",
              "      <th>comme</th>\n",
              "      <th>il</th>\n",
              "      <th>convient</th>\n",
              "      <th>de</th>\n",
              "      <th>dire</th>\n",
              "      <th>diplomatiquement,</th>\n",
              "      <th>d'importantes</th>\n",
              "      <th>marges</th>\n",
              "      <th>de</th>\n",
              "      <th>progression</th>\n",
              "      <th>existent</th>\n",
              "      <th>en</th>\n",
              "      <th>la</th>\n",
              "      <th>matière.</th>\n",
              "      <th>Alors</th>\n",
              "      <th>comment</th>\n",
              "      <th>mieux</th>\n",
              "      <th>faire</th>\n",
              "      <th>?</th>\n",
              "    </tr>\n",
              "  </thead>\n",
              "  <tbody>\n",
              "    <tr>\n",
              "      <th>0</th>\n",
              "      <td>-1.405006</td>\n",
              "      <td>-1.526898</td>\n",
              "      <td>0.311913</td>\n",
              "      <td>-0.338041</td>\n",
              "      <td>-0.478967</td>\n",
              "      <td>-1.101015</td>\n",
              "      <td>-0.615979</td>\n",
              "      <td>-0.426278</td>\n",
              "      <td>-0.088669</td>\n",
              "      <td>-0.77648</td>\n",
              "      <td>-0.227197</td>\n",
              "      <td>-0.521295</td>\n",
              "      <td>-1.554681</td>\n",
              "      <td>-0.704478</td>\n",
              "      <td>-0.511919</td>\n",
              "      <td>-0.765688</td>\n",
              "      <td>-0.492656</td>\n",
              "      <td>-0.166948</td>\n",
              "      <td>-0.293516</td>\n",
              "      <td>-0.327148</td>\n",
              "      <td>-0.999759</td>\n",
              "      <td>-1.14732</td>\n",
              "      <td>-0.728116</td>\n",
              "      <td>-0.244898</td>\n",
              "      <td>-0.769444</td>\n",
              "      <td>-0.731526</td>\n",
              "      <td>-0.693956</td>\n",
              "      <td>-0.999759</td>\n",
              "      <td>-0.35636</td>\n",
              "      <td>-0.424134</td>\n",
              "      <td>-0.753398</td>\n",
              "      <td>-1.482193</td>\n",
              "      <td>-0.299123</td>\n",
              "      <td>-0.28762</td>\n",
              "      <td>-0.424134</td>\n",
              "      <td>-0.26853</td>\n",
              "      <td>-0.253697</td>\n",
              "      <td>-0.670108</td>\n",
              "      <td>-0.492656</td>\n",
              "      <td>0.200327</td>\n",
              "      <td>-0.261424</td>\n",
              "      <td>-0.593099</td>\n",
              "      <td>0.085607</td>\n",
              "      <td>-1.165817</td>\n",
              "      <td>-1.072028</td>\n",
              "    </tr>\n",
              "  </tbody>\n",
              "</table>\n",
              "</div>"
            ],
            "text/plain": [
              "       Cela      dit,    chacun  ...     mieux     faire         ?\n",
              "0 -1.405006 -1.526898  0.311913  ...  0.085607 -1.165817 -1.072028\n",
              "\n",
              "[1 rows x 45 columns]"
            ]
          },
          "metadata": {
            "tags": []
          },
          "execution_count": 445
        }
      ]
    },
    {
      "cell_type": "code",
      "metadata": {
        "id": "T7pykpuA--9-",
        "colab_type": "code",
        "colab": {}
      },
      "source": [
        "scores = [i for i in result_words[result_words.index_df==identifier[0]].one_score]\n",
        "df_plot_false_m=pd.DataFrame(scores).transpose()\n",
        "df_plot_false_m.columns=list(result_words[result_words.index_df==identifier[0]].Texte)\n",
        "scores = [i for i in result_words[result_words.index_df==identifier[1]].one_score]\n",
        "df_plot_true_m=pd.DataFrame(scores).transpose()\n",
        "df_plot_true_m.columns=list(result_words[result_words.index_df==identifier[1]].Texte)\n",
        "scores = [i for i in result_words[result_words.index_df==identifier[2]].one_score]\n",
        "df_plot_false_f=pd.DataFrame(scores).transpose()\n",
        "df_plot_false_f.columns=list(result_words[result_words.index_df==identifier[2]].Texte)\n",
        "scores = [i for i in result_words[result_words.index_df==identifier[3]].one_score]\n",
        "df_plot_true_f=pd.DataFrame(scores).transpose()\n",
        "df_plot_true_f.columns=list(result_words[result_words.index_df==identifier[3]].Texte)\n"
      ],
      "execution_count": 0,
      "outputs": []
    },
    {
      "cell_type": "code",
      "metadata": {
        "id": "An5aj7P01dCD",
        "colab_type": "code",
        "outputId": "b26f0309-6b63-4ad2-cd4f-8f4302c5cbbd",
        "colab": {
          "base_uri": "https://localhost:8080/",
          "height": 464
        }
      },
      "source": [
        "import seaborn as sns\n",
        "import pandas as pd\n",
        "import numpy as np\n",
        "import matplotlib.pyplot as plt\n",
        "\n",
        "fig = plt.figure(figsize=(26,15))\n",
        "\n",
        "#  heatmap - female subplot\n",
        "fig.add_subplot(411)\n",
        "plt.title('Well predict a female speaker', fontsize=14)\n",
        "sns.heatmap(df_plot_true_f, annot=False, fmt='.2f',vmin=-3,vmax=1)\n",
        "\n",
        "#  heatmap - male subplot\n",
        "fig.add_subplot(412)\n",
        "plt.title('Wrongly predicted male speaker', fontsize=14)\n",
        "sns.heatmap(df_plot_false_m, annot=False, fmt='.2f',vmin=-3,vmax=1 )\n",
        "\n",
        "#  heatmap - male subplot\n",
        "fig.add_subplot(413)\n",
        "plt.title('Wrongly predict a female speaker', fontsize=14)\n",
        "sns.heatmap(df_plot_false_f, annot=False, fmt='.2f',vmin=-3,vmax=1 )\n",
        "\n",
        "#  heatmap - male subplot\n",
        "fig.add_subplot(414)\n",
        "plt.title('Well predict a male speaker', fontsize=14)\n",
        "sns.heatmap(df_plot_true_m, annot=False, fmt='.2f',vmin=-3,vmax=1 )\n",
        "\n",
        "plt.subplots_adjust(hspace=1)\n",
        "#fig.tight_layout(pad=3.0)\n",
        "plt.show()\n"
      ],
      "execution_count": 0,
      "outputs": [
        {
          "output_type": "error",
          "ename": "NameError",
          "evalue": "ignored",
          "traceback": [
            "\u001b[0;31m---------------------------------------------------------------------------\u001b[0m",
            "\u001b[0;31mNameError\u001b[0m                                 Traceback (most recent call last)",
            "\u001b[0;32m<ipython-input-54-24c959a4271f>\u001b[0m in \u001b[0;36m<module>\u001b[0;34m()\u001b[0m\n\u001b[1;32m      9\u001b[0m \u001b[0mfig\u001b[0m\u001b[0;34m.\u001b[0m\u001b[0madd_subplot\u001b[0m\u001b[0;34m(\u001b[0m\u001b[0;36m411\u001b[0m\u001b[0;34m)\u001b[0m\u001b[0;34m\u001b[0m\u001b[0;34m\u001b[0m\u001b[0m\n\u001b[1;32m     10\u001b[0m \u001b[0mplt\u001b[0m\u001b[0;34m.\u001b[0m\u001b[0mtitle\u001b[0m\u001b[0;34m(\u001b[0m\u001b[0;34m'Well predict a female speaker'\u001b[0m\u001b[0;34m,\u001b[0m \u001b[0mfontsize\u001b[0m\u001b[0;34m=\u001b[0m\u001b[0;36m14\u001b[0m\u001b[0;34m)\u001b[0m\u001b[0;34m\u001b[0m\u001b[0;34m\u001b[0m\u001b[0m\n\u001b[0;32m---> 11\u001b[0;31m \u001b[0msns\u001b[0m\u001b[0;34m.\u001b[0m\u001b[0mheatmap\u001b[0m\u001b[0;34m(\u001b[0m\u001b[0mdf_plot_true_f\u001b[0m\u001b[0;34m,\u001b[0m \u001b[0mannot\u001b[0m\u001b[0;34m=\u001b[0m\u001b[0;32mFalse\u001b[0m\u001b[0;34m,\u001b[0m \u001b[0mfmt\u001b[0m\u001b[0;34m=\u001b[0m\u001b[0;34m'.2f'\u001b[0m\u001b[0;34m,\u001b[0m\u001b[0mvmin\u001b[0m\u001b[0;34m=\u001b[0m\u001b[0;34m-\u001b[0m\u001b[0;36m3\u001b[0m\u001b[0;34m,\u001b[0m\u001b[0mvmax\u001b[0m\u001b[0;34m=\u001b[0m\u001b[0;36m1\u001b[0m\u001b[0;34m)\u001b[0m\u001b[0;34m\u001b[0m\u001b[0;34m\u001b[0m\u001b[0m\n\u001b[0m\u001b[1;32m     12\u001b[0m \u001b[0;34m\u001b[0m\u001b[0m\n\u001b[1;32m     13\u001b[0m \u001b[0;31m#  heatmap - male subplot\u001b[0m\u001b[0;34m\u001b[0m\u001b[0;34m\u001b[0m\u001b[0;34m\u001b[0m\u001b[0m\n",
            "\u001b[0;31mNameError\u001b[0m: name 'df_plot_true_f' is not defined"
          ]
        },
        {
          "output_type": "display_data",
          "data": {
            "image/png": "[encoded data removed]",
            "text/plain": [
              "<Figure size 1872x1080 with 1 Axes>"
            ]
          },
          "metadata": {
            "tags": []
          }
        }
      ]
    }
  ]
}