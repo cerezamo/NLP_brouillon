{
  "nbformat": 4,
  "nbformat_minor": 0,
  "metadata": {
    "colab": {
      "name": "Camembert_v2.ipynb",
      "provenance": [],
      "include_colab_link": true
    },
    "kernelspec": {
      "name": "python3",
      "display_name": "Python 3"
    },
    "accelerator": "GPU",
    "widgets": {
      "application/vnd.jupyter.widget-state+json": {
        "e472d22968b441d198359e6cdb635410": {
          "model_module": "@jupyter-widgets/controls",
          "model_name": "HBoxModel",
          "state": {
            "_view_name": "HBoxView",
            "_dom_classes": [],
            "_model_name": "HBoxModel",
            "_view_module": "@jupyter-widgets/controls",
            "_model_module_version": "1.5.0",
            "_view_count": null,
            "_view_module_version": "1.5.0",
            "box_style": "",
            "layout": "IPY_MODEL_b8980b14536943c1a46d4d7740340b27",
            "_model_module": "@jupyter-widgets/controls",
            "children": [
              "IPY_MODEL_ed5b1a66483a4073915490feec7ead68",
              "IPY_MODEL_be5717b531aa4792967d5b76fd489d78"
            ]
          }
        },
        "b8980b14536943c1a46d4d7740340b27": {
          "model_module": "@jupyter-widgets/base",
          "model_name": "LayoutModel",
          "state": {
            "_view_name": "LayoutView",
            "grid_template_rows": null,
            "right": null,
            "justify_content": null,
            "_view_module": "@jupyter-widgets/base",
            "overflow": null,
            "_model_module_version": "1.2.0",
            "_view_count": null,
            "flex_flow": null,
            "width": null,
            "min_width": null,
            "border": null,
            "align_items": null,
            "bottom": null,
            "_model_module": "@jupyter-widgets/base",
            "top": null,
            "grid_column": null,
            "overflow_y": null,
            "overflow_x": null,
            "grid_auto_flow": null,
            "grid_area": null,
            "grid_template_columns": null,
            "flex": null,
            "_model_name": "LayoutModel",
            "justify_items": null,
            "grid_row": null,
            "max_height": null,
            "align_content": null,
            "visibility": null,
            "align_self": null,
            "height": null,
            "min_height": null,
            "padding": null,
            "grid_auto_rows": null,
            "grid_gap": null,
            "max_width": null,
            "order": null,
            "_view_module_version": "1.2.0",
            "grid_template_areas": null,
            "object_position": null,
            "object_fit": null,
            "grid_auto_columns": null,
            "margin": null,
            "display": null,
            "left": null
          }
        },
        "ed5b1a66483a4073915490feec7ead68": {
          "model_module": "@jupyter-widgets/controls",
          "model_name": "IntProgressModel",
          "state": {
            "_view_name": "ProgressView",
            "style": "IPY_MODEL_7d4b62f34f224ea2827e762a121fc6d4",
            "_dom_classes": [],
            "description": "Downloading: 100%",
            "_model_name": "IntProgressModel",
            "bar_style": "success",
            "max": 637,
            "_view_module": "@jupyter-widgets/controls",
            "_model_module_version": "1.5.0",
            "value": 637,
            "_view_count": null,
            "_view_module_version": "1.5.0",
            "orientation": "horizontal",
            "min": 0,
            "description_tooltip": null,
            "_model_module": "@jupyter-widgets/controls",
            "layout": "IPY_MODEL_2f6cc8cce0ca4045b258c78c8e9bfefb"
          }
        },
        "be5717b531aa4792967d5b76fd489d78": {
          "model_module": "@jupyter-widgets/controls",
          "model_name": "HTMLModel",
          "state": {
            "_view_name": "HTMLView",
            "style": "IPY_MODEL_03eb17214fa540a88495a999461cda86",
            "_dom_classes": [],
            "description": "",
            "_model_name": "HTMLModel",
            "placeholder": "​",
            "_view_module": "@jupyter-widgets/controls",
            "_model_module_version": "1.5.0",
            "value": " 637/637 [00:00&lt;00:00, 651B/s]",
            "_view_count": null,
            "_view_module_version": "1.5.0",
            "description_tooltip": null,
            "_model_module": "@jupyter-widgets/controls",
            "layout": "IPY_MODEL_4b9d7835d98641d79e7b6ac303fd0da2"
          }
        },
        "7d4b62f34f224ea2827e762a121fc6d4": {
          "model_module": "@jupyter-widgets/controls",
          "model_name": "ProgressStyleModel",
          "state": {
            "_view_name": "StyleView",
            "_model_name": "ProgressStyleModel",
            "description_width": "initial",
            "_view_module": "@jupyter-widgets/base",
            "_model_module_version": "1.5.0",
            "_view_count": null,
            "_view_module_version": "1.2.0",
            "bar_color": null,
            "_model_module": "@jupyter-widgets/controls"
          }
        },
        "2f6cc8cce0ca4045b258c78c8e9bfefb": {
          "model_module": "@jupyter-widgets/base",
          "model_name": "LayoutModel",
          "state": {
            "_view_name": "LayoutView",
            "grid_template_rows": null,
            "right": null,
            "justify_content": null,
            "_view_module": "@jupyter-widgets/base",
            "overflow": null,
            "_model_module_version": "1.2.0",
            "_view_count": null,
            "flex_flow": null,
            "width": null,
            "min_width": null,
            "border": null,
            "align_items": null,
            "bottom": null,
            "_model_module": "@jupyter-widgets/base",
            "top": null,
            "grid_column": null,
            "overflow_y": null,
            "overflow_x": null,
            "grid_auto_flow": null,
            "grid_area": null,
            "grid_template_columns": null,
            "flex": null,
            "_model_name": "LayoutModel",
            "justify_items": null,
            "grid_row": null,
            "max_height": null,
            "align_content": null,
            "visibility": null,
            "align_self": null,
            "height": null,
            "min_height": null,
            "padding": null,
            "grid_auto_rows": null,
            "grid_gap": null,
            "max_width": null,
            "order": null,
            "_view_module_version": "1.2.0",
            "grid_template_areas": null,
            "object_position": null,
            "object_fit": null,
            "grid_auto_columns": null,
            "margin": null,
            "display": null,
            "left": null
          }
        },
        "03eb17214fa540a88495a999461cda86": {
          "model_module": "@jupyter-widgets/controls",
          "model_name": "DescriptionStyleModel",
          "state": {
            "_view_name": "StyleView",
            "_model_name": "DescriptionStyleModel",
            "description_width": "",
            "_view_module": "@jupyter-widgets/base",
            "_model_module_version": "1.5.0",
            "_view_count": null,
            "_view_module_version": "1.2.0",
            "_model_module": "@jupyter-widgets/controls"
          }
        },
        "4b9d7835d98641d79e7b6ac303fd0da2": {
          "model_module": "@jupyter-widgets/base",
          "model_name": "LayoutModel",
          "state": {
            "_view_name": "LayoutView",
            "grid_template_rows": null,
            "right": null,
            "justify_content": null,
            "_view_module": "@jupyter-widgets/base",
            "overflow": null,
            "_model_module_version": "1.2.0",
            "_view_count": null,
            "flex_flow": null,
            "width": null,
            "min_width": null,
            "border": null,
            "align_items": null,
            "bottom": null,
            "_model_module": "@jupyter-widgets/base",
            "top": null,
            "grid_column": null,
            "overflow_y": null,
            "overflow_x": null,
            "grid_auto_flow": null,
            "grid_area": null,
            "grid_template_columns": null,
            "flex": null,
            "_model_name": "LayoutModel",
            "justify_items": null,
            "grid_row": null,
            "max_height": null,
            "align_content": null,
            "visibility": null,
            "align_self": null,
            "height": null,
            "min_height": null,
            "padding": null,
            "grid_auto_rows": null,
            "grid_gap": null,
            "max_width": null,
            "order": null,
            "_view_module_version": "1.2.0",
            "grid_template_areas": null,
            "object_position": null,
            "object_fit": null,
            "grid_auto_columns": null,
            "margin": null,
            "display": null,
            "left": null
          }
        },
        "9f38d0f373ab405db5f6a8c2cbf8568a": {
          "model_module": "@jupyter-widgets/controls",
          "model_name": "HBoxModel",
          "state": {
            "_view_name": "HBoxView",
            "_dom_classes": [],
            "_model_name": "HBoxModel",
            "_view_module": "@jupyter-widgets/controls",
            "_model_module_version": "1.5.0",
            "_view_count": null,
            "_view_module_version": "1.5.0",
            "box_style": "",
            "layout": "IPY_MODEL_9b4ed8701655443ea249909879f4158c",
            "_model_module": "@jupyter-widgets/controls",
            "children": [
              "IPY_MODEL_788aaf92f9ee431f8e0b6bf8630d5210",
              "IPY_MODEL_ecf88eb5800f45a5ae7322a03cb648e0"
            ]
          }
        },
        "9b4ed8701655443ea249909879f4158c": {
          "model_module": "@jupyter-widgets/base",
          "model_name": "LayoutModel",
          "state": {
            "_view_name": "LayoutView",
            "grid_template_rows": null,
            "right": null,
            "justify_content": null,
            "_view_module": "@jupyter-widgets/base",
            "overflow": null,
            "_model_module_version": "1.2.0",
            "_view_count": null,
            "flex_flow": null,
            "width": null,
            "min_width": null,
            "border": null,
            "align_items": null,
            "bottom": null,
            "_model_module": "@jupyter-widgets/base",
            "top": null,
            "grid_column": null,
            "overflow_y": null,
            "overflow_x": null,
            "grid_auto_flow": null,
            "grid_area": null,
            "grid_template_columns": null,
            "flex": null,
            "_model_name": "LayoutModel",
            "justify_items": null,
            "grid_row": null,
            "max_height": null,
            "align_content": null,
            "visibility": null,
            "align_self": null,
            "height": null,
            "min_height": null,
            "padding": null,
            "grid_auto_rows": null,
            "grid_gap": null,
            "max_width": null,
            "order": null,
            "_view_module_version": "1.2.0",
            "grid_template_areas": null,
            "object_position": null,
            "object_fit": null,
            "grid_auto_columns": null,
            "margin": null,
            "display": null,
            "left": null
          }
        },
        "788aaf92f9ee431f8e0b6bf8630d5210": {
          "model_module": "@jupyter-widgets/controls",
          "model_name": "IntProgressModel",
          "state": {
            "_view_name": "ProgressView",
            "style": "IPY_MODEL_71bb92eb499e4bc2a4e26ddfac5ef818",
            "_dom_classes": [],
            "description": "Downloading: 100%",
            "_model_name": "IntProgressModel",
            "bar_style": "success",
            "max": 445032417,
            "_view_module": "@jupyter-widgets/controls",
            "_model_module_version": "1.5.0",
            "value": 445032417,
            "_view_count": null,
            "_view_module_version": "1.5.0",
            "orientation": "horizontal",
            "min": 0,
            "description_tooltip": null,
            "_model_module": "@jupyter-widgets/controls",
            "layout": "IPY_MODEL_9138b3b621c2441db05a927a15662f68"
          }
        },
        "ecf88eb5800f45a5ae7322a03cb648e0": {
          "model_module": "@jupyter-widgets/controls",
          "model_name": "HTMLModel",
          "state": {
            "_view_name": "HTMLView",
            "style": "IPY_MODEL_dd4502790ac848a896a0a12fcc87f76a",
            "_dom_classes": [],
            "description": "",
            "_model_name": "HTMLModel",
            "placeholder": "​",
            "_view_module": "@jupyter-widgets/controls",
            "_model_module_version": "1.5.0",
            "value": " 445M/445M [00:14&lt;00:00, 29.9MB/s]",
            "_view_count": null,
            "_view_module_version": "1.5.0",
            "description_tooltip": null,
            "_model_module": "@jupyter-widgets/controls",
            "layout": "IPY_MODEL_30cc25d73d714c94bc2922404c599085"
          }
        },
        "71bb92eb499e4bc2a4e26ddfac5ef818": {
          "model_module": "@jupyter-widgets/controls",
          "model_name": "ProgressStyleModel",
          "state": {
            "_view_name": "StyleView",
            "_model_name": "ProgressStyleModel",
            "description_width": "initial",
            "_view_module": "@jupyter-widgets/base",
            "_model_module_version": "1.5.0",
            "_view_count": null,
            "_view_module_version": "1.2.0",
            "bar_color": null,
            "_model_module": "@jupyter-widgets/controls"
          }
        },
        "9138b3b621c2441db05a927a15662f68": {
          "model_module": "@jupyter-widgets/base",
          "model_name": "LayoutModel",
          "state": {
            "_view_name": "LayoutView",
            "grid_template_rows": null,
            "right": null,
            "justify_content": null,
            "_view_module": "@jupyter-widgets/base",
            "overflow": null,
            "_model_module_version": "1.2.0",
            "_view_count": null,
            "flex_flow": null,
            "width": null,
            "min_width": null,
            "border": null,
            "align_items": null,
            "bottom": null,
            "_model_module": "@jupyter-widgets/base",
            "top": null,
            "grid_column": null,
            "overflow_y": null,
            "overflow_x": null,
            "grid_auto_flow": null,
            "grid_area": null,
            "grid_template_columns": null,
            "flex": null,
            "_model_name": "LayoutModel",
            "justify_items": null,
            "grid_row": null,
            "max_height": null,
            "align_content": null,
            "visibility": null,
            "align_self": null,
            "height": null,
            "min_height": null,
            "padding": null,
            "grid_auto_rows": null,
            "grid_gap": null,
            "max_width": null,
            "order": null,
            "_view_module_version": "1.2.0",
            "grid_template_areas": null,
            "object_position": null,
            "object_fit": null,
            "grid_auto_columns": null,
            "margin": null,
            "display": null,
            "left": null
          }
        },
        "dd4502790ac848a896a0a12fcc87f76a": {
          "model_module": "@jupyter-widgets/controls",
          "model_name": "DescriptionStyleModel",
          "state": {
            "_view_name": "StyleView",
            "_model_name": "DescriptionStyleModel",
            "description_width": "",
            "_view_module": "@jupyter-widgets/base",
            "_model_module_version": "1.5.0",
            "_view_count": null,
            "_view_module_version": "1.2.0",
            "_model_module": "@jupyter-widgets/controls"
          }
        },
        "30cc25d73d714c94bc2922404c599085": {
          "model_module": "@jupyter-widgets/base",
          "model_name": "LayoutModel",
          "state": {
            "_view_name": "LayoutView",
            "grid_template_rows": null,
            "right": null,
            "justify_content": null,
            "_view_module": "@jupyter-widgets/base",
            "overflow": null,
            "_model_module_version": "1.2.0",
            "_view_count": null,
            "flex_flow": null,
            "width": null,
            "min_width": null,
            "border": null,
            "align_items": null,
            "bottom": null,
            "_model_module": "@jupyter-widgets/base",
            "top": null,
            "grid_column": null,
            "overflow_y": null,
            "overflow_x": null,
            "grid_auto_flow": null,
            "grid_area": null,
            "grid_template_columns": null,
            "flex": null,
            "_model_name": "LayoutModel",
            "justify_items": null,
            "grid_row": null,
            "max_height": null,
            "align_content": null,
            "visibility": null,
            "align_self": null,
            "height": null,
            "min_height": null,
            "padding": null,
            "grid_auto_rows": null,
            "grid_gap": null,
            "max_width": null,
            "order": null,
            "_view_module_version": "1.2.0",
            "grid_template_areas": null,
            "object_position": null,
            "object_fit": null,
            "grid_auto_columns": null,
            "margin": null,
            "display": null,
            "left": null
          }
        }
      }
    }
  },
  "cells": [
    {
      "cell_type": "markdown",
      "metadata": {
        "id": "view-in-github",
        "colab_type": "text"
      },
      "source": [
        "<a href=\"https://colab.research.google.com/github/cerezamo/NLP_brouillon/blob/master/Camembert_v2.ipynb\" target=\"_parent\"><img src=\"https://colab.research.google.com/assets/colab-badge.svg\" alt=\"Open In Colab\"/></a>"
      ]
    },
    {
      "cell_type": "markdown",
      "metadata": {
        "id": "kcxLW3uyHTSN",
        "colab_type": "text"
      },
      "source": [
        "# CamemBERT classification model \n"
      ]
    },
    {
      "cell_type": "markdown",
      "metadata": {
        "id": "8bxA1IEgH-GI",
        "colab_type": "text"
      },
      "source": [
        "## Set up colab GPU and installing main packages"
      ]
    },
    {
      "cell_type": "code",
      "metadata": {
        "id": "H1JD-Tb0HdvN",
        "colab_type": "code",
        "colab": {}
      },
      "source": [
        "# If you have the documents in your drive already otherwise just drag 'medium_df_desequ.csv' and 'funct.py' in the file section\n",
        "import os \n",
        "os.getcwd()\n",
        "from google.colab import drive \n",
        "drive.mount('/content/gdrive')"
      ],
      "execution_count": 0,
      "outputs": []
    },
    {
      "cell_type": "code",
      "metadata": {
        "id": "2mF6Hs6yH2A5",
        "colab_type": "code",
        "outputId": "3d3c4677-a111-4fb3-f67f-361cc09cd92b",
        "colab": {
          "base_uri": "https://localhost:8080/",
          "height": 34
        }
      },
      "source": [
        "# First you should go in 'Edit' -> 'Notebook settings' -> Add device GPU\n",
        "import tensorflow as tf\n",
        "\n",
        "# GPU device name.\n",
        "device_name = tf.test.gpu_device_name()\n",
        "device_name"
      ],
      "execution_count": 1,
      "outputs": [
        {
          "output_type": "execute_result",
          "data": {
            "text/plain": [
              "'/device:GPU:0'"
            ]
          },
          "metadata": {
            "tags": []
          },
          "execution_count": 1
        }
      ]
    },
    {
      "cell_type": "markdown",
      "metadata": {
        "id": "VZ_F6NV3IaCY",
        "colab_type": "text"
      },
      "source": [
        "We now can tell torch that one GPU is available "
      ]
    },
    {
      "cell_type": "code",
      "metadata": {
        "id": "wr4fjemjIVoQ",
        "colab_type": "code",
        "outputId": "e2bed1ea-dc6e-4786-cdab-725a5e012031",
        "colab": {
          "base_uri": "https://localhost:8080/",
          "height": 51
        }
      },
      "source": [
        "import torch\n",
        "\n",
        "if torch.cuda.is_available():    \n",
        "    device = torch.device(\"cuda\")\n",
        "    print('There are %d GPU(s) available.' % torch.cuda.device_count())\n",
        "    print('We will use the GPU:', torch.cuda.get_device_name(0))\n",
        "\n",
        "# If not...\n",
        "else:\n",
        "    print('No GPU available, using the CPU instead.')\n",
        "    device = torch.device(\"cpu\")"
      ],
      "execution_count": 2,
      "outputs": [
        {
          "output_type": "stream",
          "text": [
            "There are 1 GPU(s) available.\n",
            "We will use the GPU: Tesla P100-PCIE-16GB\n"
          ],
          "name": "stdout"
        }
      ]
    },
    {
      "cell_type": "code",
      "metadata": {
        "id": "9B5YK1cADhjj",
        "colab_type": "code",
        "outputId": "9fce71c0-fbe7-4b77-b8ef-c7df2c729926",
        "colab": {
          "base_uri": "https://localhost:8080/",
          "height": 289
        }
      },
      "source": [
        "!nvidia-smi"
      ],
      "execution_count": 3,
      "outputs": [
        {
          "output_type": "stream",
          "text": [
            "Sat Apr  4 17:39:01 2020       \n",
            "+-----------------------------------------------------------------------------+\n",
            "| NVIDIA-SMI 440.64.00    Driver Version: 418.67       CUDA Version: 10.1     |\n",
            "|-------------------------------+----------------------+----------------------+\n",
            "| GPU  Name        Persistence-M| Bus-Id        Disp.A | Volatile Uncorr. ECC |\n",
            "| Fan  Temp  Perf  Pwr:Usage/Cap|         Memory-Usage | GPU-Util  Compute M. |\n",
            "|===============================+======================+======================|\n",
            "|   0  Tesla P100-PCIE...  Off  | 00000000:00:04.0 Off |                    0 |\n",
            "| N/A   38C    P0    32W / 250W |    353MiB / 16280MiB |      0%      Default |\n",
            "+-------------------------------+----------------------+----------------------+\n",
            "                                                                               \n",
            "+-----------------------------------------------------------------------------+\n",
            "| Processes:                                                       GPU Memory |\n",
            "|  GPU       PID   Type   Process name                             Usage      |\n",
            "|=============================================================================|\n",
            "+-----------------------------------------------------------------------------+\n"
          ],
          "name": "stdout"
        }
      ]
    },
    {
      "cell_type": "markdown",
      "metadata": {
        "id": "9_7DO-oiCZ7f",
        "colab_type": "text"
      },
      "source": [
        "\n",
        "\n",
        "**Please check GPU capacity** that you were given. You might want to reduce the batch size further in the code.  Typically if you were given 8Go memory GPU (Tesla P4) you should set the batch size to 2 not more ! "
      ]
    },
    {
      "cell_type": "markdown",
      "metadata": {
        "id": "ZGwjFzizIsMI",
        "colab_type": "text"
      },
      "source": [
        "We now install the Hugging Face library transformers. You can find all the documentation of hugging face in their Github : https://github.com/huggingface/transformers  "
      ]
    },
    {
      "cell_type": "code",
      "metadata": {
        "id": "--g7cokfIrpT",
        "colab_type": "code",
        "outputId": "cc7f1d50-a1c9-4718-d120-8da87e91e03f",
        "colab": {
          "base_uri": "https://localhost:8080/",
          "height": 428
        }
      },
      "source": [
        "! pip install transformers "
      ],
      "execution_count": 3,
      "outputs": [
        {
          "output_type": "stream",
          "text": [
            "Requirement already satisfied: transformers in /usr/local/lib/python3.6/dist-packages (2.7.0)\n",
            "Requirement already satisfied: numpy in /usr/local/lib/python3.6/dist-packages (from transformers) (1.18.2)\n",
            "Requirement already satisfied: sentencepiece in /usr/local/lib/python3.6/dist-packages (from transformers) (0.1.85)\n",
            "Requirement already satisfied: requests in /usr/local/lib/python3.6/dist-packages (from transformers) (2.21.0)\n",
            "Requirement already satisfied: boto3 in /usr/local/lib/python3.6/dist-packages (from transformers) (1.12.33)\n",
            "Requirement already satisfied: tqdm>=4.27 in /usr/local/lib/python3.6/dist-packages (from transformers) (4.38.0)\n",
            "Requirement already satisfied: filelock in /usr/local/lib/python3.6/dist-packages (from transformers) (3.0.12)\n",
            "Requirement already satisfied: sacremoses in /usr/local/lib/python3.6/dist-packages (from transformers) (0.0.38)\n",
            "Requirement already satisfied: tokenizers==0.5.2 in /usr/local/lib/python3.6/dist-packages (from transformers) (0.5.2)\n",
            "Requirement already satisfied: dataclasses; python_version < \"3.7\" in /usr/local/lib/python3.6/dist-packages (from transformers) (0.7)\n",
            "Requirement already satisfied: regex!=2019.12.17 in /usr/local/lib/python3.6/dist-packages (from transformers) (2019.12.20)\n",
            "Requirement already satisfied: chardet<3.1.0,>=3.0.2 in /usr/local/lib/python3.6/dist-packages (from requests->transformers) (3.0.4)\n",
            "Requirement already satisfied: idna<2.9,>=2.5 in /usr/local/lib/python3.6/dist-packages (from requests->transformers) (2.8)\n",
            "Requirement already satisfied: certifi>=2017.4.17 in /usr/local/lib/python3.6/dist-packages (from requests->transformers) (2019.11.28)\n",
            "Requirement already satisfied: urllib3<1.25,>=1.21.1 in /usr/local/lib/python3.6/dist-packages (from requests->transformers) (1.24.3)\n",
            "Requirement already satisfied: jmespath<1.0.0,>=0.7.1 in /usr/local/lib/python3.6/dist-packages (from boto3->transformers) (0.9.5)\n",
            "Requirement already satisfied: botocore<1.16.0,>=1.15.33 in /usr/local/lib/python3.6/dist-packages (from boto3->transformers) (1.15.33)\n",
            "Requirement already satisfied: s3transfer<0.4.0,>=0.3.0 in /usr/local/lib/python3.6/dist-packages (from boto3->transformers) (0.3.3)\n",
            "Requirement already satisfied: click in /usr/local/lib/python3.6/dist-packages (from sacremoses->transformers) (7.1.1)\n",
            "Requirement already satisfied: joblib in /usr/local/lib/python3.6/dist-packages (from sacremoses->transformers) (0.14.1)\n",
            "Requirement already satisfied: six in /usr/local/lib/python3.6/dist-packages (from sacremoses->transformers) (1.12.0)\n",
            "Requirement already satisfied: docutils<0.16,>=0.10 in /usr/local/lib/python3.6/dist-packages (from botocore<1.16.0,>=1.15.33->boto3->transformers) (0.15.2)\n",
            "Requirement already satisfied: python-dateutil<3.0.0,>=2.1 in /usr/local/lib/python3.6/dist-packages (from botocore<1.16.0,>=1.15.33->boto3->transformers) (2.8.1)\n"
          ],
          "name": "stdout"
        }
      ]
    },
    {
      "cell_type": "markdown",
      "metadata": {
        "id": "W4OKq8Z4JId9",
        "colab_type": "text"
      },
      "source": [
        "## Loading our corpus and preparing samples "
      ]
    },
    {
      "cell_type": "code",
      "metadata": {
        "id": "0aGxDbDU4_BQ",
        "colab_type": "code",
        "colab": {}
      },
      "source": [
        "# We keep the same seed value all along this notebook in order to be able to replicate the results \n",
        "seed_val = 2003"
      ],
      "execution_count": 0,
      "outputs": []
    },
    {
      "cell_type": "code",
      "metadata": {
        "id": "aOCVLtje9_Rs",
        "colab_type": "code",
        "outputId": "55f2fa13-6872-460a-966c-505bacc342ea",
        "colab": {
          "base_uri": "https://localhost:8080/",
          "height": 289
        }
      },
      "source": [
        "# Import medium_df_desq in \"files\" (on the left) this can take some time ! \n",
        "import pandas as pd\n",
        "import numpy as np\n",
        "\n",
        "# Load the dataset into a pandas dataframe.\n",
        "df=pd.read_csv('medium_df_deseq.csv',encoding='utf-8')\n",
        "\n",
        "# Shuffle the date\n",
        "df=df.sample(frac=1,random_state=seed_val).reset_index(drop=True)\n",
        "\n",
        "# Some of the speeches are interviews (wrongly classified in the website) we try to delete most of them  \n",
        "df=df[~df.Texte.str.startswith(\"Q-\")]\n",
        "df=df[~df.Texte.str.startswith(\"R-\")]\n",
        "df=df[df.Id!=169898] # FOr some reason a problem on this text occured for preprocessing\n",
        "\n",
        "# Normalization of the labels [0,1] instead of [1,2] (0 = men, 1 = women)\n",
        "df.sexe=df.sexe.replace(1,0)\n",
        "df.sexe=df.sexe.replace(2,1)\n",
        "\n",
        "# We keep only variables of interest \n",
        "df=df[['Id','Titre','Theme','Prenom','Nom','Date','Tags','Texte','sexe']]\n",
        "\n",
        "# For the cleaning part we will just remove urls, parenthesis and double spacing if any \n",
        "import re\n",
        "def cleaning_stuff(text):\n",
        "    text = re.sub(r\" \\(.*?\\)\", '', text, flags=re.MULTILINE)\n",
        "    text = re.sub(r'(https|http)?:\\/\\/(\\w|\\.|\\/|\\?|\\=|\\&|\\%)*\\b', '', text, flags=re.MULTILINE)\n",
        "    text = text.replace('(',' ')\n",
        "    text = text.replace(')',' ')\n",
        "    text = text.replace('.  ','. ')\n",
        "    text = text.replace('  ','')\n",
        "    text=text.replace(\" :'\",\"\") \n",
        "    text = text.strip()\n",
        "    text = text.replace(\"\\'\",\"'\")\n",
        "    return text \n",
        "\n",
        "df['Texte']=df.Texte.apply(cleaning_stuff)\n",
        "df=df[df.Texte!='']\n",
        "\n",
        "df = df[~df.Titre.str.startswith('Déclaration conjointe')]\n",
        "# This is a sample of our dataset\n",
        "df.head(5)"
      ],
      "execution_count": 5,
      "outputs": [
        {
          "output_type": "execute_result",
          "data": {
            "text/html": [
              "<div>\n",
              "<style scoped>\n",
              "    .dataframe tbody tr th:only-of-type {\n",
              "        vertical-align: middle;\n",
              "    }\n",
              "\n",
              "    .dataframe tbody tr th {\n",
              "        vertical-align: top;\n",
              "    }\n",
              "\n",
              "    .dataframe thead th {\n",
              "        text-align: right;\n",
              "    }\n",
              "</style>\n",
              "<table border=\"1\" class=\"dataframe\">\n",
              "  <thead>\n",
              "    <tr style=\"text-align: right;\">\n",
              "      <th></th>\n",
              "      <th>Id</th>\n",
              "      <th>Titre</th>\n",
              "      <th>Theme</th>\n",
              "      <th>Prenom</th>\n",
              "      <th>Nom</th>\n",
              "      <th>Date</th>\n",
              "      <th>Tags</th>\n",
              "      <th>Texte</th>\n",
              "      <th>sexe</th>\n",
              "    </tr>\n",
              "  </thead>\n",
              "  <tbody>\n",
              "    <tr>\n",
              "      <th>0</th>\n",
              "      <td>160153</td>\n",
              "      <td>Déclaration de Mme Michèle Alliot-Marie, minis...</td>\n",
              "      <td>Société</td>\n",
              "      <td>Michèle</td>\n",
              "      <td>Alliot-Marie</td>\n",
              "      <td>2006-01-23T12:00:00Z</td>\n",
              "      <td>Sécurité,Gendarmerie</td>\n",
              "      <td>C'est une grande satisfaction d'être aujourd'h...</td>\n",
              "      <td>1</td>\n",
              "    </tr>\n",
              "    <tr>\n",
              "      <th>1</th>\n",
              "      <td>149333</td>\n",
              "      <td>Déclaration de M. François Baroin, ministre de...</td>\n",
              "      <td>Institutions</td>\n",
              "      <td>François</td>\n",
              "      <td>Baroin</td>\n",
              "      <td>2005-06-11T12:00:00Z</td>\n",
              "      <td>Citoyenneté - Elections,Parti politique</td>\n",
              "      <td>Mes premiers mots iront vers nos amis d'Outre-...</td>\n",
              "      <td>0</td>\n",
              "    </tr>\n",
              "    <tr>\n",
              "      <th>2</th>\n",
              "      <td>178463</td>\n",
              "      <td>Déclaration de M. Xavier Darcos, ministre du t...</td>\n",
              "      <td>NaN</td>\n",
              "      <td>Xavier</td>\n",
              "      <td>Darcos</td>\n",
              "      <td>2010-01-12T12:00:00Z</td>\n",
              "      <td>NaN</td>\n",
              "      <td>Comme vous le savez, après la réforme engagée ...</td>\n",
              "      <td>0</td>\n",
              "    </tr>\n",
              "    <tr>\n",
              "      <th>3</th>\n",
              "      <td>180716</td>\n",
              "      <td>Déclaration de Mme Nathalie Kosciusko-Morizet,...</td>\n",
              "      <td>Economie</td>\n",
              "      <td>Nathalie</td>\n",
              "      <td>Kosciusko-Morizet</td>\n",
              "      <td>2010-12-03T12:00:00Z</td>\n",
              "      <td>Vie économique,Tourisme</td>\n",
              "      <td>Messieurs les présidents,Mesdames, Messieurs,J...</td>\n",
              "      <td>1</td>\n",
              "    </tr>\n",
              "    <tr>\n",
              "      <th>4</th>\n",
              "      <td>153024</td>\n",
              "      <td>Déclaration de M. Jack Lang, ministre de l'édu...</td>\n",
              "      <td>Société</td>\n",
              "      <td>Jack</td>\n",
              "      <td>Lang</td>\n",
              "      <td>2000-11-22T12:00:00Z</td>\n",
              "      <td>Sciences - Numérique - I. A.,Economie numériqu...</td>\n",
              "      <td>Je suis heureux de voir que le salon de l'éduc...</td>\n",
              "      <td>0</td>\n",
              "    </tr>\n",
              "  </tbody>\n",
              "</table>\n",
              "</div>"
            ],
            "text/plain": [
              "       Id  ... sexe\n",
              "0  160153  ...    1\n",
              "1  149333  ...    0\n",
              "2  178463  ...    0\n",
              "3  180716  ...    1\n",
              "4  153024  ...    0\n",
              "\n",
              "[5 rows x 9 columns]"
            ]
          },
          "metadata": {
            "tags": []
          },
          "execution_count": 5
        }
      ]
    },
    {
      "cell_type": "code",
      "metadata": {
        "id": "jg5OpZdEGbbX",
        "colab_type": "code",
        "outputId": "2d256279-99e3-4579-9749-c8cdbca82885",
        "colab": {
          "base_uri": "https://localhost:8080/",
          "height": 54
        }
      },
      "source": [
        "print(df.Texte[200])"
      ],
      "execution_count": 6,
      "outputs": [
        {
          "output_type": "stream",
          "text": [
            "Messieurs les Ministres,Messieurs les Parlementaires,Monsieur l'Ambassadeur, Madame,Mes chers compatriotes, C'est une joie pour moi, les membres du gouvernement, les personnalités qui m'accompagnent, et pour ma femme bien sûr, de venir vous saluer en cette résidence de France où l'ambassadeur et son épouse ont bien voulu nous réunir. Je les en remercie chaleureusement.Au lendemain de mon arrivée à Tokyo, je suis particulièrement heureux de rencontrer ceux qui, chaque jour, incarnent et animent avec dynamisme et conviction la présence de la France au Japon. Vous représentez la continuité de la présence française au Japon, son passé et son avenir. Votre doyenne vient de fêter ses 102 ans. Elle s'est établie au Japon il y a 70 ans au service des plus démunis. Votre plus jeune membre est né il y a quelques semaines. Notre compatriote, M. Marc Dunoyer, reçoit cette année le prix du Commerce international décerné par le Premier ministre du Japon sur proposition du ministère du Commerce international et de l'Industrie. Motivée, qualifiée, votre communauté est l'une des plus importantes et dynamiques d'Asie et figurez en bonne place parmi les communautés étrangères implantées au Japon, l'une des premières des pays de l'Union Européenne.Vous étiez quelques centaines au début du siècle à tenter l'aventure. Vous êtes plus de 6500 aujourd'hui. Vous êtes les dignes descendants d'Emile Guimet, un des premiers Français du Japon, qui sut à la fois témoigner à ce pays notre intérêt et faire connaître sa culture en France. Grâce à vous, la qualité de notre présence scientifique et culturelle et la renommée de nos Instituts à Tokyo, Kyoto, Fukuoka, de la Maison Franco-Japonaise, de l'Ecole Française d'Extrême-Orient ainsi que de nos centres de recherche scientifique dépassent très largement les frontières de l'archipel et sont autant de ponts entre la France et le Japon. Comme l'est depuis plus de 80 ans la chambre de Commerce et d'Industrie française du Japon.Votre communauté est aujourd'hui jeune, dynamique, unie. Vos associations sont parmi les plus actives du monde. Vous vivez en osmose avec la société japonaise et pratiquez de plus en plus sa langue. Vous êtes nombreux à vous marier dans ce pays et ces unions sont un atout inestimable pour le développement de nos relations. Porteurs d'une double culture, les enfants qui en sont issus sont des intermédiaires précieux. Vous apportez la preuve que ce pays n'est pas impénétrable, contrairement à certaines idées reçues. Au Japon, plus qu'ailleurs sans doute, il faut faire un effort pour se connaître, pour se comprendre. Vous témoignez qu'il est possible de surmonter les barrières d'une culture dont l'identité est très forte mais qui présente avec la nôtre de nombreuses parentés. Nous ne pourrons réaliser nos ambitions sans développer des liens plus étroits, dans tous les domaines, politique et économique certes, mais aussi culturel, scientifique et humains. Nous avons donc besoin de vous. Car la France poursuit au Japon des objectifs ambitieux mais accessibles. Le cadre en a été tracé lors de la visite d'Etat effectuée par le Président de la République en 1996, qui a permis de définir les modalités d'un \"plan d'action\" conjoint entre nos deux pays. Ma première visite officielle au Japon a pour objectif d'en tirer un premier bilan ainsi que d'intensifier et de développer notre partenariat. J'ai eu le plaisir de recevoir à Paris, en janvier de cette année, M. Obuchi et l'ai revu hier soir pour une longue séance de travail. Les entretiens ouverts et confiants que j'ai eus avec mon homologue japonais ont permis de mettre en évidence une forte convergence de vues entre nos deux gouvernements sur de très nombreux domaines. Acteurs de poids dans le commerce international et dans les enceintes multilatérales, le Japon et la France, qui partagent des valeurs démocratiques et humaines, ont notamment le souci commun de maîtriser et d'ordonner la mondialisation, dans le respect des identités culturelles et aux bénéfice de tous. Pour marquer cette volonté de travailler étroitement ensemble, M. Obuchi et moi-même avons adopté quatre déclarations qui illustrent la densité de notre relation et portent sur le renforcement du cadre multilatéral, l'aide au développement, les investissements croisés et la coopération scientifique et technologique.Votre présence ici est essentielle pour notre économie. Nous devons en effet poursuivre nos efforts pour assurer notre place au Japon et dans l'ensemble de l'Asie. La France est le 2ème pays exportateur au monde par habitant. Un Français sur quatre travaille pour l'exportation. 70 milliards de francs - 10 milliards d'euro - d'exportations représentent un point de croissance, et un point de croissance, c'est 250 000 emplois. C'est dire l'importance que revêt à nos yeux votre présence, vos efforts, au Japon, notre premier partenaire dans cette région du monde.Le processus d'intégration européenne dans lequel notre pays s'est engagé nous ouvre en Asie de nouvelles perspectives. Vous avez pris toute la mesure du lancement de l'euro. C'est en tant que ressortissants français mais également en tant que citoyens européens, que nous sommes désormais perçus. C'est dans cette dimension nouvelle que s'inscrivent toutes nos actions. Vous pouvez représenter ici l'optimisme retrouvé de notre pays.Nous avons renoué avec la croissance. La confiance des ménages français se situe à des niveaux historiques. Elle a encore atteint un record au mois de novembre. Le taux de chômage décroît presque continûment depuis trente mois. Sur les deux dernières années, plus de 800 000 emplois ont été créés. Les créations d'emplois salariés dans le seul secteur privé devraient s'élever à 300 000 cette année et poursuivre leur progression l'an prochain. La confiance des chefs d'entreprise s'est elle aussi fortement redressée et l'investissement a été peu affecté par la crise financière. Après avoir connu en 1998, avec 3,4 %, la plus forte croissance depuis la fin des années 1980, l'économie française devrait croître d' environ 2,8 % cette année et être égale ou supérieure à 3 % l'an prochain. C'est le rythme annuel le plus élevé parmi les grands pays de la zone euro et voire au sein du G7. Le dynamisme de l'économie française est lié, pour une part, à celui des autres économies européennes.Il est surtout le fruit de la priorité donnée à la croissance et à l'emploi. La comparaison avec la situation de nos plus proches partenaires de la zone euro, qui connaissent le même environnement extérieur et monétaire, le démontre : la politique que nous avons conduite en France n'a pas été étrangère aux bons résultats que je viens d'évoquer. L'OCDE crédite notre pays, avec le FMI, de la plus forte croissance des grands pays industrialisés pour les deux années à venir. Elle souligne dans la dernière publication de ses perspectives économiques que \"l'économie française est entrée dans un cercle vertueux de croissance, de confiance, de création d'emploi et de baisse du chômage\".Nous avons reconquis des marges de manoeuvre. Entre 1997 et 2000, la France est le pays européen qui aura réalisé la plus forte réduction de son déficit public, même si nous partions, je le sais, d'un niveau plus élevé que d'autres. Nous l'avons fait en consolidant la croissance et en nous appuyant sur une programmation à moyen terme des dépenses publiques qui préserve notre capacité à financer les priorités de l'action gouvernementale. Nous continuerons dans cette voie. Cet effort est indispensable pour maîtriser, puis réduire notre dette publique. Une dette réduite c'est moins d'impôts pour financer la rente et plus de moyens pour les \"dépenses d'avenir\", notamment l'Education et la Recherche, décisives pour la croissance à long terme.Je suis heureux en tout cas de voir, notamment à l'étranger, que la France a désormais l'image d'un pays qui a retrouvé de l'élan.Le gouvernement n'ignore pas certaines difficultés auxquelles vous êtes parfois confrontés. Il est particulièrement attentif à la défense des intérêts des Français résidant à l'étranger. J'ai personnellement veillé à rappeler la priorité politique apportée aux action engagées en faveur de nos compatriotes expatriés à l'occasion, en septembre l'année dernière, de la célébration du 50ème anniversaire du CSFE, assemblée représentative des Français établis hors de France. Soyez tous assurés de la détermination du gouvernement, et en particulier du ministre des Affaires étrangères, M. Hubert Vedrine et du ministre de la Coopération et de la Francophonie, M. Charles Josselin, à moderniser et à améliorer son service aux usagers dans les domaines que vous jugez prioritaires.Pour ce qui concerne vos préoccupations de sécurité, sous l'autorité de notre ambassadeur, le comité de sécurité de la communauté française au Japon est un des éléments essentiels du dispositif destiné à prévenir des risques sismiques.S'agissant de l'enseignement français, j'ai demandé au ministre de l'Education nationale, de la Recherche et de la Technologie, M. Claude Allègre, qui m'accompagne lors de ce déplacement, de procéder à une réforme de l'Agence pour l'Enseignement français à l'étranger afin de la mettre en mesure de continuer à remplir demain ses missions avec l'efficacité que vous attendez légitimement pour vos enfants. Un nouveau directeur a été nommé à la tête de l'Agence. Il a pour mission d'élaborer un projet d'entreprise. J'ai également rendu les arbitrages nécessaires pour que soient augmentés les crédits consacrés aux bourses scolaires. S'agissant de Tokyo, je me félicite de la récente décision d'accroître les capacités d'accueil du site principal du lycée français.Dans le domaine social, le gouvernement est déterminé à lutter contre l'exclusion qui frappe certains de nos compatriotes. J'ai demandé à cette fin aux ministres compétents de me faire des propositions concrètes pour la mise en uvre des recommandations formulées par Mme Monique Ben Guiga, sénatrice des Français établis hors de France, dans le remarquable rapport qu'elle vient de me remettre. Nous conduisons notamment une réflexion sur les évolutions souhaitables du statut et de la gestion de la caisse de Français de l'étranger.Enfin il s'attache actuellement en liaison avec les représentants des Français de l'étranger, à rechercher une solution aux problèmes nés du cumul des cotisations de retraite des fonctionnaires de l'Etat détachés à l'étranger, qu'ils exercent une mission d'enseignement ou d'intérêt public.Mes chers compatriotes,Je souhaite vous témoigner toute notre confiance. Votre action est irremplaçable au service de notre ambition commune : assurer le rayonnement de la France et défendre ses intérêts en Asie, oeuvrer au rapprochement des deux grands partenaires que sont la France et le Japon. Rien de tout cela ne serait possible sans le dévouement, la compétence, l'intelligence, le coeur des Françaises et des Français qui sont ici et à qui je veux dire mon estime, ma reconnaissance et mon amitié. En mon nom, au nom du gouvernement français et des Français de métropole, je veux vous adresser nos voeux les plus sincères, pour vous-mêmes, pour tous ceux que vous aimez et pour le succès de ce que vous entreprenez ici. source , le 22 décembre 1999\n"
          ],
          "name": "stdout"
        }
      ]
    },
    {
      "cell_type": "markdown",
      "metadata": {
        "id": "WTKQ0QnAZ_wu",
        "colab_type": "text"
      },
      "source": [
        "**We propose 3 samples to train our model :**\n",
        "\n",
        "\n",
        "**1.   Unbalanced sample**\n",
        "\n",
        "We take the raw data without any further treatment.\n",
        "\n",
        "**2.   Balanced sample**\n",
        "\n",
        "The second option consists in deleting randomly part of male speeches in order to get a balanced sample. Indeed, in the case of unbalanced sample our model could decide to classify all speakers in the male category which would lead to a 0.75 accuracy in our case study. In order to avoid this we feed the model with the same proportions of male and female speakers. Other kind of treatments exist to deal with unbalanced sample. This one is the simpliest one and we could argue that there is a possibility that the deleted sample contains important information that we therefore miss. However we believe that in our case this is not a big issue. Our unbalanced sample is quite large for both female and male.\n",
        "\n",
        "**3. Balanced and splitted sample**\n",
        "\n",
        "The third option is a response to the max length constraint of BERT models. Our text samples are big and contain much more tokens than the 512 limit. In the first two options we decide to feed the model with the 512 first tokens and thus we delete the remaining tokens. In this third option we cut the text into x parts containing 500 tokens each. All parts of the speech will serve to feed the model. Through this technique we do not loose potential important informations at the end of the text. A lot of other techniques have been employed such as hierarchical transformers (see our latex for reference). We decide to stick to this method in this project but it is an obvious improvment that could be added here. \n",
        "\n"
      ]
    },
    {
      "cell_type": "code",
      "metadata": {
        "id": "Ae8ICVGvUBLv",
        "colab_type": "code",
        "colab": {}
      },
      "source": [
        "def unbalanced_preprocess(df):\n",
        "  ''' \n",
        "  This function just takes our unbalanced dataset and prints relevant informations\n",
        "  '''\n",
        "\n",
        "  df_unbalanced=df\n",
        "\n",
        "  # Reports the number of speeches in the corpus.\n",
        "  print('Number of text in the unbalanced corpus : {0:.2f}\\n'.format(df_unbalanced.shape[0]))\n",
        "\n",
        "  # Reports the percentage of women in the sample \n",
        "  prop = (len(df_unbalanced[df_unbalanced.sexe==1])/len(df_unbalanced))*100\n",
        "  print('Percentage of women in the unbalanced corpus : {0:.2f}\\n'.format(prop))\n",
        "\n",
        "  return df_unbalanced"
      ],
      "execution_count": 0,
      "outputs": []
    },
    {
      "cell_type": "code",
      "metadata": {
        "id": "3IdYJSSRUdD0",
        "colab_type": "code",
        "outputId": "514a15e0-2f54-4cfa-c68b-965112bde66b",
        "colab": {
          "base_uri": "https://localhost:8080/",
          "height": 85
        }
      },
      "source": [
        "df_unbalanced = unbalanced_preprocess(df) "
      ],
      "execution_count": 8,
      "outputs": [
        {
          "output_type": "stream",
          "text": [
            "Number of text in the unbalanced corpus : 4977.00\n",
            "\n",
            "Percentage of women in the unbalanced corpus : 25.12\n",
            "\n"
          ],
          "name": "stdout"
        }
      ]
    },
    {
      "cell_type": "code",
      "metadata": {
        "id": "bd4SCY6LUuwY",
        "colab_type": "code",
        "colab": {}
      },
      "source": [
        "def balanced_preprocess(df,seed_val,frac_val):\n",
        "  ''' \n",
        "  This function transforms our unbalanced dataset by deleting male speeches\n",
        "\n",
        "  Input : \n",
        "          df : dataframe\n",
        "          frac_val : fraction of the sample we want (this is mainly here for testing if you want to train your model with less data)\n",
        "\n",
        "  Output : \n",
        "          df_balanced : A balanced version of our dataset with the same proportion of men and women\n",
        "  '''\n",
        "\n",
        "  from sklearn.model_selection import train_test_split\n",
        "\n",
        "  # Let's take a balanced sample \n",
        "  df_m = df.loc[df['sexe'] == 0]\n",
        "  df_f = df.loc[df['sexe'] == 1] \n",
        "  df_m = df_m[0:len(df_f)]\n",
        "  df = df_f.append(df_m)\n",
        "\n",
        "  #Shuffle the data and taking half of the sample in order not to have to many data compared to the other samples \n",
        "  df_balanced=df.sample(frac=frac_val,random_state=seed_val).reset_index()\n",
        "\n",
        "  # Reports the number of speeches in the corpus.\n",
        "  print('Number of text in this corpus : {0:.2f}\\n'.format(df_balanced.shape[0]))\n",
        "\n",
        "  # Reports the percentage of women in the sample \n",
        "  prop = (len(df_balanced[df_balanced.sexe==1])/len(df_balanced))*100\n",
        "  print('Percentage of women in the balanced corpus : {0:.2f}\\n'.format(prop))\n",
        "\n",
        "  return df_balanced\n",
        "\n"
      ],
      "execution_count": 0,
      "outputs": []
    },
    {
      "cell_type": "code",
      "metadata": {
        "id": "UeQif_N0X4uW",
        "colab_type": "code",
        "outputId": "cfda2d77-6b8e-45b3-97d2-9f784164d2a4",
        "colab": {
          "base_uri": "https://localhost:8080/",
          "height": 85
        }
      },
      "source": [
        "df_balanced = balanced_preprocess(df,seed_val,frac_val=1)"
      ],
      "execution_count": 10,
      "outputs": [
        {
          "output_type": "stream",
          "text": [
            "Number of text in this corpus : 2500.00\n",
            "\n",
            "Percentage of women in the balanced corpus : 50.00\n",
            "\n"
          ],
          "name": "stdout"
        }
      ]
    },
    {
      "cell_type": "code",
      "metadata": {
        "id": "ZgxCphDnCiPQ",
        "colab_type": "code",
        "colab": {}
      },
      "source": [
        "import pandas as pd\n",
        "def sent_detector_mano(x):\n",
        "    \"\"\"\n",
        "        Détection de phrase à la main.\n",
        "        Input : document\n",
        "        Output : liste de phrases\n",
        "        Problème avec les phrases finissant par : entrainant souvent une liste. \n",
        "        De même avec ;. Tentative réalisée\n",
        "        \n",
        "    \"\"\"\n",
        "    lst =[]\n",
        "    phrase = []\n",
        "    i = 0\n",
        "    for caractere in x: \n",
        "        if not (caractere == ' ' and len(phrase) == 0) :\n",
        "            phrase.append(caractere)\n",
        "        if caractere in '?!.:;':\n",
        "            if caractere == ':':\n",
        "                if x[i+1].isupper() or x[i+2].isupper() or x[i+1] == '-' or x[i+2] == '-':\n",
        "                    lst.append(''.join(phrase))\n",
        "                    phrase = []\n",
        "            if caractere == ';':\n",
        "                if x[i+1].isupper() or x[i+2].isupper() or x[i+1] == '-' or x[i+2] == '-':\n",
        "                    lst.append(''.join(phrase))\n",
        "                    phrase = []\n",
        "            elif phrase != '.' or phrase != '?' or phrase != '!':\n",
        "                lst.append(''.join(phrase))\n",
        "                phrase = []\n",
        "        i+=1\n",
        "    return lst\n",
        "def split_document_to_limit(MAX_TOKENS,df):\n",
        "  lst= []\n",
        "  for index,row in df.iterrows():\n",
        "    identifiant = row.Id\n",
        "    label = row.sexe\n",
        "    phrase = []\n",
        "    for token in row.Texte.split(' '):\n",
        "      if len(phrase) < MAX_TOKENS:\n",
        "        phrase.append(token)\n",
        "      else:\n",
        "        lst += [(identifiant,label,' '.join(phrase),len(phrase))]\n",
        "        phrase = []\n",
        "    if len(phrase)>1:\n",
        "      lst += [(identifiant,label,' '.join(phrase),len(phrase))]\n",
        "  return pd.DataFrame(lst,columns=['index_df','sexe','Texte','Length'])\n",
        "def split_document_to_limit_phrases(MAX_TOKENS,df):\n",
        "  lst= []\n",
        "  for index,row in df.iterrows():\n",
        "    identifiant = row.Id\n",
        "    label = row.sexe\n",
        "    phrase = ''\n",
        "    for phrases in sent_detector_mano(row.Texte):\n",
        "      if len(phrase.split(' ')) + len(phrases.split(' ')) < MAX_TOKENS:\n",
        "        phrase+= \" \" + phrases\n",
        "      else:\n",
        "        lst += [(identifiant,label,phrase,len(phrase.split(' ')))]\n",
        "        phrase = ''\n",
        "    lst += [(identifiant,label,phrase,len(phrase.split(' ')))]\n",
        "    phrase = ''\n",
        "  return pd.DataFrame(lst,columns=['index_df','sexe','Texte','Length'])"
      ],
      "execution_count": 0,
      "outputs": []
    },
    {
      "cell_type": "code",
      "metadata": {
        "id": "g3qnfTDXCwF9",
        "colab_type": "code",
        "colab": {}
      },
      "source": [
        "def  balanced_splitted(df,seed_val,frac_val,max_tokens):\n",
        "  # Let's take a balanced sample \n",
        "  df_m = df.loc[df['sexe'] == 0]\n",
        "  df_f = df.loc[df['sexe'] == 1] \n",
        "  df_m = df_m[0:len(df_f)]\n",
        "  df = df_f.append(df_m)\n",
        "\n",
        "\n",
        "  df=df[df.Texte!='']\n",
        "\n",
        "  df=split_document_to_limit_phrases(max_tokens,df)\n",
        " \n",
        "  df=df[df.Texte!='']\n",
        "\n",
        "  df_balanced_split=df.sample(frac=frac_val,random_state=seed_val).reset_index()\n",
        "\n",
        "  # Report the number of speeches in the corpus.\n",
        "  print('Number of text in this balanced splitted corpus : {:,}\\n'.format(df_balanced_split.shape[0]))\n",
        "  prop = (len(df_balanced_split[df_balanced_split.sexe==1])/len(df_balanced_split))*100\n",
        "  print('Proportions of women in the balanced splitted corpus : {}\\n'.format(prop))\n",
        "\n",
        "  return df_balanced_split"
      ],
      "execution_count": 0,
      "outputs": []
    },
    {
      "cell_type": "code",
      "metadata": {
        "id": "LmEpbT1JYf5-",
        "colab_type": "code",
        "outputId": "250c786d-91b5-4f73-de20-fc138ff114d1",
        "colab": {
          "base_uri": "https://localhost:8080/",
          "height": 85
        }
      },
      "source": [
        "df_balanced_split = balanced_splitted(df,seed_val,frac_val=1,max_tokens=450)"
      ],
      "execution_count": 13,
      "outputs": [
        {
          "output_type": "stream",
          "text": [
            "Number of text in this balanced splitted corpus : 11,161\n",
            "\n",
            "Proportions of women in the balanced splitted corpus : 50.22847415106173\n",
            "\n"
          ],
          "name": "stdout"
        }
      ]
    },
    {
      "cell_type": "markdown",
      "metadata": {
        "id": "ressz8h6OHxn",
        "colab_type": "text"
      },
      "source": [
        "## Tokenization and preparing to feed CamemBERT"
      ]
    },
    {
      "cell_type": "markdown",
      "metadata": {
        "id": "ntpzo9X5SSjA",
        "colab_type": "text"
      },
      "source": [
        "### Loading the Camembert Tokenizer"
      ]
    },
    {
      "cell_type": "code",
      "metadata": {
        "id": "mggkz5R9g8dD",
        "colab_type": "code",
        "colab": {}
      },
      "source": [
        "# Import Camembert tokenizer\n",
        "from transformers import CamembertTokenizer\n",
        "# We choose a right padding side for the moment and we will test for a left padding side on a second stage\n",
        "tokenizer = CamembertTokenizer.from_pretrained('camembert-base', do_lower_case=False,padding_side='right') #left"
      ],
      "execution_count": 0,
      "outputs": []
    },
    {
      "cell_type": "code",
      "metadata": {
        "id": "JoaZUUBChM_J",
        "colab_type": "code",
        "outputId": "ac4f145d-6b7c-4446-94dc-3d1c3c7d3044",
        "colab": {
          "base_uri": "https://localhost:8080/",
          "height": 88
        }
      },
      "source": [
        "# Print the original text.\n",
        "print(' Original: ', df.Texte[0])\n",
        "\n",
        "# Print the text split into tokens.\n",
        "print('Tokenized: ', tokenizer.tokenize(df.Texte[0]))\n",
        "\n",
        "# Print the text mapped to token ids.\n",
        "print('Token IDs: ', tokenizer.convert_tokens_to_ids(tokenizer.tokenize(df.Texte[0])))"
      ],
      "execution_count": 15,
      "outputs": [
        {
          "output_type": "stream",
          "text": [
            " Original:  C'est une grande satisfaction d'être aujourd'hui à Vicenza, pour ce qui est, j'en suis convaincue, une grande étape de la construction de la défense européenne.Avec les progrès spectaculaires de la politique européenne de sécurité et de défense ces dernières années, la sécurité de l'Europe est plus que jamais la responsabilité des Européens. L'Union européenne a également plus que jamais vocation à jouer un rôle majeur dans la résolution des crises internationales.Pour assumer ce rôle, l'Europe se doit de disposer d'instruments adaptés, réactifs, lui permettant d'intervenir à tous les stades d'évolution d'une crise.C'est parce qu'il me paraissait essentiel de donner aux Européens cette capacité, que j'ai proposé à mes homologues la création de la Force de Gendarmerie européenne.De l'expérience que j'ai des théâtres d'opérations extérieurs où sont engagés des militaires français, j'ai pu constater en effet que la gendarmerie est une force particulièrement compétente dans des situations transitoires entre la guerre et la paix.Depuis la signature de la déclaration d'intention aux Pays-Bas en septembre 2004, nous avons beaucoup progressé.L'état-major a aujourd'hui l'expérience d'un an de travail en commun. Il a pu tirer des enseignements d'un premier exercice.Je tiens à le féliciter pour l'ampleur du travail effectué depuis sa mise sur pied, il y a moins d'un an.La qualité des personnels engagés dans cette aventure, leur détermination, me permettent d'être particulièrement confiante dans la capacité de la FGE à relever les défis des mois à venir.Le premier et le plus important de ces défis à venir, c'est l'emploi opérationnel de la FGE.Je souhaite que la FGE soit engagée dès cette année. Il nous faut réfléchir ensemble aux possibles engagements futurs. Pour faciliter cet engagement, la France apportera tout le soutien nécessaire.Le premier déploiement de la FGE se doit d'être une réussite. Il devra de plus être visible, afin de conforter la crédibilité de la défense européenne vis-à-vis de nos partenaires, et de permettre à nos concitoyens de s'associer davantage à notre action.J'ai en effet l'intime conviction que l'avenir de l'Europe repose sur la mise en place de projets concrets, visibles, comme celui qui nous réunit aujourd'hui.C'est ainsi que nous redonnerons aux Européens l'envie d'Europe.C'est ainsi qu'ils s'approprieront la construction de l'Europe de demain : une Europe à l'écoute de leurs besoins et de leurs attentes, une Europe prête à défendre leurs intérêts et leurs valeurs dans le monde.\n",
            "Tokenized:  ['▁C', \"'\", 'est', '▁une', '▁grande', '▁satisfaction', '▁d', \"'\", 'être', '▁aujourd', \"'\", 'hui', '▁à', '▁Vic', 'enza', ',', '▁pour', '▁ce', '▁qui', '▁est', ',', '▁j', \"'\", 'en', '▁suis', '▁convaincue', ',', '▁une', '▁grande', '▁étape', '▁de', '▁la', '▁construction', '▁de', '▁la', '▁défense', '▁européenne', '.', 'Avec', '▁les', '▁progrès', '▁spectaculaires', '▁de', '▁la', '▁politique', '▁européenne', '▁de', '▁sécurité', '▁et', '▁de', '▁défense', '▁ces', '▁dernières', '▁années', ',', '▁la', '▁sécurité', '▁de', '▁l', \"'\", 'Europe', '▁est', '▁plus', '▁que', '▁jamais', '▁la', '▁responsabilité', '▁des', '▁Européens', '.', '▁L', \"'\", 'Union', '▁européenne', '▁a', '▁également', '▁plus', '▁que', '▁jamais', '▁vocation', '▁à', '▁jouer', '▁un', '▁rôle', '▁majeur', '▁dans', '▁la', '▁résolution', '▁des', '▁crises', '▁internationales', '.', 'Pour', '▁assumer', '▁ce', '▁rôle', ',', '▁l', \"'\", 'Europe', '▁se', '▁doit', '▁de', '▁disposer', '▁d', \"'\", 'instrument', 's', '▁adaptés', ',', '▁réactif', 's', ',', '▁lui', '▁permettant', '▁d', \"'\", 'intervenir', '▁à', '▁tous', '▁les', '▁stade', 's', '▁d', \"'\", 'évolution', '▁d', \"'\", 'une', '▁crise', '.', 'C', \"'\", 'est', '▁parce', '▁qu', \"'\", 'il', '▁me', '▁paraissait', '▁essentiel', '▁de', '▁donner', '▁aux', '▁Européens', '▁cette', '▁capacité', ',', '▁que', '▁j', \"'\", 'ai', '▁proposé', '▁à', '▁mes', '▁homologue', 's', '▁la', '▁création', '▁de', '▁la', '▁Force', '▁de', '▁Gendarmerie', '▁européenne', '.', 'De', '▁l', \"'\", 'expérience', '▁que', '▁j', \"'\", 'ai', '▁des', '▁théâtre', 's', '▁d', \"'\", 'opération', 's', '▁extérieurs', '▁où', '▁sont', '▁engagés', '▁des', '▁militaires', '▁français', ',', '▁j', \"'\", 'ai', '▁pu', '▁constater', '▁en', '▁effet', '▁que', '▁la', '▁gendarmerie', '▁est', '▁une', '▁force', '▁', 'particulièrement', '▁compétente', '▁dans', '▁des', '▁situations', '▁transitoire', 's', '▁entre', '▁la', '▁guerre', '▁et', '▁la', '▁paix', '.', 'Depuis', '▁la', '▁signature', '▁de', '▁la', '▁déclaration', '▁d', \"'\", 'intention', '▁aux', '▁Pays', '-', 'Bas', '▁en', '▁septembre', '▁2004,', '▁nous', '▁avons', '▁beaucoup', '▁progressé', '.', 'L', \"'\", 'état', '-', 'major', '▁a', '▁aujourd', \"'\", 'hui', '▁l', \"'\", 'expérience', '▁d', \"'\", 'un', '▁an', '▁de', '▁travail', '▁en', '▁commun', '.', '▁Il', '▁a', '▁pu', '▁tirer', '▁des', '▁enseignements', '▁d', \"'\", 'un', '▁premier', '▁exercice', '.', 'Je', '▁tiens', '▁à', '▁le', '▁féliciter', '▁pour', '▁l', \"'\", 'ampleur', '▁du', '▁travail', '▁effectué', '▁depuis', '▁sa', '▁mise', '▁sur', '▁pied', ',', '▁il', '▁y', '▁a', '▁moins', '▁d', \"'\", 'un', '▁an', '.', 'La', '▁qualité', '▁des', '▁personnels', '▁engagés', '▁dans', '▁cette', '▁aventure', ',', '▁leur', '▁détermination', ',', '▁me', '▁permettent', '▁d', \"'\", 'être', '▁', 'particulièrement', '▁confiant', 'e', '▁dans', '▁la', '▁capacité', '▁de', '▁la', '▁F', 'GE', '▁à', '▁relever', '▁les', '▁défis', '▁des', '▁mois', '▁à', '▁venir', '.', 'Le', '▁premier', '▁et', '▁le', '▁plus', '▁important', '▁de', '▁ces', '▁défis', '▁à', '▁venir', ',', '▁c', \"'\", 'est', '▁l', \"'\", 'emploi', '▁opérationnel', '▁de', '▁la', '▁F', 'GE', '.', 'Je', '▁souhaite', '▁que', '▁la', '▁F', 'GE', '▁soit', '▁engagée', '▁dès', '▁cette', '▁année', '.', '▁Il', '▁nous', '▁faut', '▁réfléchir', '▁ensemble', '▁aux', '▁possibles', '▁engagements', '▁futurs', '.', '▁Pour', '▁faciliter', '▁cet', '▁engagement', ',', '▁la', '▁France', '▁apportera', '▁tout', '▁le', '▁soutien', '▁nécessaire', '.', 'Le', '▁premier', '▁déploiement', '▁de', '▁la', '▁F', 'GE', '▁se', '▁doit', '▁d', \"'\", 'être', '▁une', '▁réussite', '.', '▁Il', '▁devra', '▁de', '▁plus', '▁être', '▁visible', ',', '▁afin', '▁de', '▁confort', 'er', '▁la', '▁crédibilité', '▁de', '▁la', '▁défense', '▁européenne', '▁vis', '-', 'à', '-', 'vis', '▁de', '▁nos', '▁partenaires', ',', '▁et', '▁de', '▁permettre', '▁à', '▁nos', '▁concitoyens', '▁de', '▁s', \"'\", 'associer', '▁davantage', '▁à', '▁notre', '▁action', '.', 'J', \"'\", 'ai', '▁en', '▁effet', '▁l', \"'\", 'in', 'time', '▁conviction', '▁que', '▁l', \"'\", 'avenir', '▁de', '▁l', \"'\", 'Europe', '▁repose', '▁sur', '▁la', '▁mise', '▁en', '▁place', '▁de', '▁projets', '▁concrets', ',', '▁visibles', ',', '▁comme', '▁celui', '▁qui', '▁nous', '▁réunit', '▁aujourd', \"'\", 'hui', '.', 'C', \"'\", 'est', '▁ainsi', '▁que', '▁nous', '▁redonner', 'ons', '▁aux', '▁Européens', '▁l', \"'\", 'envie', '▁d', \"'\", 'Europe', '.', 'C', \"'\", 'est', '▁ainsi', '▁qu', \"'\", 'ils', '▁s', \"'\", 'approprier', 'ont', '▁la', '▁construction', '▁de', '▁l', \"'\", 'Europe', '▁de', '▁demain', '▁:', '▁une', '▁Europe', '▁à', '▁l', \"'\", 'écoute', '▁de', '▁leurs', '▁besoins', '▁et', '▁de', '▁leurs', '▁attentes', ',', '▁une', '▁Europe', '▁prête', '▁à', '▁défendre', '▁leurs', '▁intérêts', '▁et', '▁leurs', '▁valeurs', '▁dans', '▁le', '▁monde', '.']\n",
            "Token IDs:  [84, 11, 41, 28, 293, 4421, 18, 11, 177, 405, 11, 265, 15, 19703, 20895, 7, 24, 44, 31, 30, 7, 76, 11, 90, 146, 21765, 7, 28, 293, 2131, 8, 13, 1015, 8, 13, 1923, 1467, 9, 16995, 19, 4067, 20814, 8, 13, 462, 1467, 8, 548, 14, 8, 1923, 119, 1194, 318, 7, 13, 548, 8, 17, 11, 1354, 30, 40, 27, 283, 13, 1717, 20, 18655, 9, 71, 11, 1906, 1467, 33, 200, 40, 27, 283, 5182, 15, 833, 23, 842, 4329, 29, 13, 3872, 20, 10788, 4343, 9, 5064, 13000, 44, 842, 7, 17, 11, 1354, 48, 279, 8, 5293, 18, 11, 8127, 10, 5159, 7, 20489, 10, 7, 111, 1177, 18, 11, 19349, 15, 117, 19, 2623, 10, 18, 11, 2010, 18, 11, 70, 1662, 9, 228, 11, 41, 398, 46, 11, 62, 103, 16966, 4095, 8, 509, 68, 18655, 78, 1381, 7, 27, 76, 11, 73, 2158, 15, 249, 13919, 10, 13, 708, 8, 13, 6626, 8, 29624, 1467, 9, 4217, 17, 11, 1446, 27, 76, 11, 73, 20, 2120, 10, 18, 11, 3275, 10, 9172, 147, 56, 8780, 20, 3788, 430, 7, 76, 11, 73, 456, 4108, 22, 340, 27, 13, 12839, 30, 28, 794, 21, 937, 11703, 29, 20, 3107, 24863, 10, 128, 13, 775, 14, 13, 1931, 9, 28014, 13, 4186, 8, 13, 3035, 18, 11, 5332, 68, 2211, 26, 6347, 22, 652, 10106, 63, 296, 217, 19274, 9, 370, 11, 1215, 26, 18613, 33, 405, 11, 265, 17, 11, 1446, 18, 11, 59, 674, 8, 225, 22, 1330, 9, 69, 33, 456, 2912, 20, 10665, 18, 11, 59, 246, 5668, 9, 1684, 4069, 15, 16, 18455, 24, 17, 11, 9678, 25, 225, 3782, 176, 77, 375, 32, 942, 7, 51, 102, 33, 175, 18, 11, 59, 674, 9, 1003, 335, 20, 3863, 8780, 29, 78, 3371, 7, 97, 8742, 7, 103, 1270, 18, 11, 177, 21, 937, 13761, 35, 29, 13, 1381, 8, 13, 358, 7525, 15, 5536, 19, 5028, 20, 250, 15, 894, 9, 990, 246, 14, 16, 40, 693, 8, 119, 5028, 15, 894, 7, 60, 11, 41, 17, 11, 1251, 9870, 8, 13, 358, 7525, 9, 1684, 1282, 27, 13, 358, 7525, 191, 8158, 564, 78, 433, 9, 69, 63, 213, 4211, 760, 68, 3491, 7909, 5695, 9, 123, 3039, 280, 3661, 7, 13, 184, 14836, 66, 16, 1237, 885, 9, 990, 246, 9450, 8, 13, 358, 7525, 48, 279, 18, 11, 177, 28, 2431, 9, 69, 2613, 8, 40, 98, 4365, 7, 289, 8, 1440, 108, 13, 17460, 8, 13, 1923, 1467, 1245, 26, 169, 26, 1647, 8, 166, 1626, 7, 14, 8, 1027, 15, 166, 22089, 8, 52, 11, 18969, 1921, 15, 127, 1703, 9, 655, 11, 73, 22, 340, 17, 11, 236, 8449, 11134, 27, 17, 11, 2128, 8, 17, 11, 1354, 4537, 32, 13, 375, 22, 218, 8, 878, 18843, 7, 8508, 7, 79, 330, 31, 63, 8919, 405, 11, 265, 9, 228, 11, 41, 163, 27, 63, 12097, 273, 68, 18655, 17, 11, 4246, 18, 11, 1354, 9, 228, 11, 41, 163, 46, 11, 240, 52, 11, 16933, 263, 13, 1015, 8, 17, 11, 1354, 8, 2385, 43, 28, 1532, 15, 17, 11, 2921, 8, 187, 979, 14, 8, 187, 3306, 7, 28, 1532, 3049, 15, 3773, 187, 2922, 14, 187, 1784, 29, 16, 164, 9]\n"
          ],
          "name": "stdout"
        }
      ]
    },
    {
      "cell_type": "markdown",
      "metadata": {
        "id": "t8yAtMsdR9HB",
        "colab_type": "text"
      },
      "source": [
        "### Preparing to feed the model : adding special tokens, attention masks and transform into tensors\n"
      ]
    },
    {
      "cell_type": "markdown",
      "metadata": {
        "id": "uXlKcUdlYetx",
        "colab_type": "text"
      },
      "source": [
        "Preprocessing steps : \n",
        "\n",
        "\n",
        "1.   **Add special tokens [CLS] [SEP]** \n",
        "\n",
        "According to the documentation we need to add special tokens to the start and end of the text Moreover, for camembert we should add a space between CLS and the first token (not sure here, we have to ask benjamin). \n",
        "\n",
        "2.   **Pad and truncate all texts to a single number**\n",
        "\n",
        "Pretrained transformes like Camembert only accept input of the same length. Our corpus contains large texts and we have to pad them in order to be able to feed Camembert. We will set the max length to a large number in order to get all information possible in the text. We choose a max length of 500 which is almost the maximum (512) \"sentence\" length  accepted. We are aware that this choice will impact a lot training speed.\n",
        "\n",
        "3.   **Construct an attention mask**\n",
        "\n",
        "Attention masks are just set to 1 when the token have to be analyzed and 0 otherwise (padded tokens). All our attention mask should be 1 with this corpus. \n",
        "\n",
        "\n",
        "\n",
        "For sake of simplicity and to avoid errors we will use the function encode_plus of the library which is really convenient. \n",
        "\n"
      ]
    },
    {
      "cell_type": "code",
      "metadata": {
        "id": "CaVIHaijS73R",
        "colab_type": "code",
        "colab": {}
      },
      "source": [
        "length = 500\n",
        "batch_size_value = 16\n",
        "length_train=0.8\n",
        "torch.manual_seed(2020)\n",
        "torch.cuda.manual_seed_all(2020)"
      ],
      "execution_count": 0,
      "outputs": []
    },
    {
      "cell_type": "code",
      "metadata": {
        "id": "VkbqtyqH6V_R",
        "colab_type": "code",
        "outputId": "e08f582a-c123-4d03-d80c-f534b947b265",
        "colab": {
          "base_uri": "https://localhost:8080/",
          "height": 493
        }
      },
      "source": [
        "from torch.utils.data import TensorDataset, random_split\n",
        "from torch.utils.data import DataLoader, RandomSampler, SequentialSampler\n",
        "\n",
        "texts = df_unbalanced.Texte.values\n",
        "labels = df_unbalanced.sexe.values\n",
        "\n",
        "# Tokenize all of the sentences and map the tokens to thier word IDs.\n",
        "input_ids = []\n",
        "attention_masks = []\n",
        "num_truncated_tokens =[]\n",
        "# Apply function to our corpus\n",
        "for text in texts:\n",
        "    encoded_dict = tokenizer.encode_plus(\n",
        "                        text,                      # text\n",
        "                        add_special_tokens = True, # Add '[CLS]' and '[SEP]'\n",
        "                        max_length = length,           # We choose for now a max length of 500.\n",
        "                        pad_to_max_length = True,    # Pad text to max (marche pas en pad left ?)\n",
        "                        return_attention_mask = True,   # Construct attention masks\n",
        "                        return_tensors = 'pt',     # Return pytorch tensors.\n",
        "                        return_overflowing_tokens =True, # return overflowing token information\n",
        "                  )\n",
        "    \n",
        "    # Map tokens to their id in the dictionnary \n",
        "    # We add this to our list    \n",
        "    input_ids.append(encoded_dict['input_ids'])\n",
        "\n",
        "    #num_truncated_tokens.append(encoded_dict['num_truncated_tokens'])\n",
        "    \n",
        "    # 3. Attention masks\n",
        "    attention_masks.append(encoded_dict['attention_mask'])\n",
        "\n",
        "# We convert all this into tensors in order to be able to make it work on GPU \n",
        "input_ids = torch.cat(input_ids, dim=0)\n",
        "attention_masks = torch.cat(attention_masks, dim=0)\n",
        "labels = torch.tensor(labels)\n",
        "\n",
        "# Original text and transformed tensor print \n",
        "print(\"Let's check for the first text indexes, attention masks and labels\")\n",
        "print(\" \")\n",
        "print('Original: ', texts[0][0:100])\n",
        "print('IDs:', input_ids[0][0:100])\n",
        "print('Attention masks:', attention_masks[0][0:100])\n",
        "print('labels',labels[0])\n",
        "\n",
        "\n",
        "# Combine all above\n",
        "dataset = TensorDataset(input_ids, attention_masks, labels)\n",
        "\n",
        "# Let's create a 80-20 train / validation dataset \n",
        "train_size = int(length_train * len(dataset))\n",
        "val_size = len(dataset) - train_size\n",
        "\n",
        "train_set, val_set = random_split(dataset, [train_size, val_size])\n",
        "\n",
        "\n",
        "print(\"-------------------------------------------------\")\n",
        "print(\" \")\n",
        "print(\"How many texts do we have in the train and validation sample ? \")\n",
        "print(\" \")\n",
        "print('We have {} training texts'.format(train_size))\n",
        "print('We have {} validation texts'.format(val_size))\n",
        "print(\" \")\n",
        "print(\"-------------------------------------------------\")\n",
        "\n",
        "# We set the size of the batch ( usually set around 16 or 32), we will take the lower bound because of the large text length\n",
        "batch_size = batch_size_value\n",
        "\n",
        "# We create data loaders for the train and validation dataset. \n",
        "train_loader_unbalanced = DataLoader(\n",
        "            train_set,  # The training samples.\n",
        "            sampler = RandomSampler(train_set), # Select batches randomly\n",
        "            batch_size = batch_size # Trains with this batch size.\n",
        "        )\n",
        "\n",
        "val_loader_unbalanced = DataLoader(\n",
        "            val_set, # The validation samples.\n",
        "            sampler = SequentialSampler(val_set), # Pull out batches sequentially.\n",
        "            batch_size = batch_size # Evaluate with this batch size.\n",
        "        )\n",
        "\n",
        "print('Data loaders created for train [0] and val [1]')"
      ],
      "execution_count": 20,
      "outputs": [
        {
          "output_type": "stream",
          "text": [
            "Let's check for the first text indexes, attention masks and labels\n",
            " \n",
            "Original:  C'est une grande satisfaction d'être aujourd'hui à Vicenza, pour ce qui est, j'en suis convaincue, u\n",
            "IDs: tensor([    5,    84,    11,    41,    28,   293,  4421,    18,    11,   177,\n",
            "          405,    11,   265,    15, 19703, 20895,     7,    24,    44,    31,\n",
            "           30,     7,    76,    11,    90,   146, 21765,     7,    28,   293,\n",
            "         2131,     8,    13,  1015,     8,    13,  1923,  1467,     9, 16995,\n",
            "           19,  4067, 20814,     8,    13,   462,  1467,     8,   548,    14,\n",
            "            8,  1923,   119,  1194,   318,     7,    13,   548,     8,    17,\n",
            "           11,  1354,    30,    40,    27,   283,    13,  1717,    20, 18655,\n",
            "            9,    71,    11,  1906,  1467,    33,   200,    40,    27,   283,\n",
            "         5182,    15,   833,    23,   842,  4329,    29,    13,  3872,    20,\n",
            "        10788,  4343,     9,  5064, 13000,    44,   842,     7,    17,    11])\n",
            "Attention masks: tensor([1, 1, 1, 1, 1, 1, 1, 1, 1, 1, 1, 1, 1, 1, 1, 1, 1, 1, 1, 1, 1, 1, 1, 1,\n",
            "        1, 1, 1, 1, 1, 1, 1, 1, 1, 1, 1, 1, 1, 1, 1, 1, 1, 1, 1, 1, 1, 1, 1, 1,\n",
            "        1, 1, 1, 1, 1, 1, 1, 1, 1, 1, 1, 1, 1, 1, 1, 1, 1, 1, 1, 1, 1, 1, 1, 1,\n",
            "        1, 1, 1, 1, 1, 1, 1, 1, 1, 1, 1, 1, 1, 1, 1, 1, 1, 1, 1, 1, 1, 1, 1, 1,\n",
            "        1, 1, 1, 1])\n",
            "labels tensor(1)\n",
            "-------------------------------------------------\n",
            " \n",
            "How many texts do we have in the train and validation sample ? \n",
            " \n",
            "We have 3981 training texts\n",
            "We have 996 validation texts\n",
            " \n",
            "-------------------------------------------------\n",
            "Data loaders created for train [0] and val [1]\n"
          ],
          "name": "stdout"
        }
      ]
    },
    {
      "cell_type": "code",
      "metadata": {
        "id": "rnLKzstr6ghY",
        "colab_type": "code",
        "outputId": "571a52b3-682b-4675-d884-08c5f51e2f9c",
        "colab": {
          "base_uri": "https://localhost:8080/",
          "height": 493
        }
      },
      "source": [
        "from torch.utils.data import TensorDataset, random_split\n",
        "from torch.utils.data import DataLoader, RandomSampler, SequentialSampler\n",
        "\n",
        "texts = df_balanced.Texte.values\n",
        "labels = df_balanced.sexe.values\n",
        "length = 500\n",
        "batch_size_value = 16\n",
        "length_train=0.8\n",
        "torch.manual_seed(2020)\n",
        "torch.cuda.manual_seed_all(2020)\n",
        "\n",
        "# Tokenize all of the sentences and map the tokens to thier word IDs.\n",
        "input_ids = []\n",
        "attention_masks = []\n",
        "num_truncated_tokens =[]\n",
        "# Apply function to our corpus\n",
        "for text in texts:\n",
        "    encoded_dict = tokenizer.encode_plus(\n",
        "                        text,                      # text\n",
        "                        add_special_tokens = True, # Add '[CLS]' and '[SEP]'\n",
        "                        max_length = length,           # We choose for now a max length of 500.\n",
        "                        pad_to_max_length = True,    # Pad text to max (marche pas en pad left ?)\n",
        "                        return_attention_mask = True,   # Construct attention masks\n",
        "                        return_tensors = 'pt',     # Return pytorch tensors.\n",
        "                        return_overflowing_tokens =True, # return overflowing token information\n",
        "                  )\n",
        "    \n",
        "    # Map tokens to their id in the dictionnary \n",
        "    # We add this to our list    \n",
        "    input_ids.append(encoded_dict['input_ids'])\n",
        "\n",
        "    #num_truncated_tokens.append(encoded_dict['num_truncated_tokens'])\n",
        "    \n",
        "    # 3. Attention masks\n",
        "    attention_masks.append(encoded_dict['attention_mask'])\n",
        "\n",
        "# We convert all this into tensors in order to be able to make it work on GPU \n",
        "input_ids = torch.cat(input_ids, dim=0)\n",
        "attention_masks = torch.cat(attention_masks, dim=0)\n",
        "labels = torch.tensor(labels)\n",
        "\n",
        "# Original text and transformed tensor print \n",
        "print(\"Let's check for the first text indexes, attention masks and labels\")\n",
        "print(\" \")\n",
        "print('Original: ', texts[0][0:100])\n",
        "print('IDs:', input_ids[0][0:100])\n",
        "print('Attention masks:', attention_masks[0][0:100])\n",
        "print('labels',labels[0])\n",
        "\n",
        "\n",
        "# Combine all above\n",
        "dataset = TensorDataset(input_ids, attention_masks, labels)\n",
        "\n",
        "# Let's create a 80-20 train / validation dataset \n",
        "train_size = int(length_train * len(dataset))\n",
        "val_size = len(dataset) - train_size\n",
        "\n",
        "train_set, val_set = random_split(dataset, [train_size, val_size])\n",
        "\n",
        "\n",
        "print(\"-------------------------------------------------\")\n",
        "print(\" \")\n",
        "print(\"How many texts do we have in the train and validation sample ? \")\n",
        "print(\" \")\n",
        "print('We have {} training texts'.format(train_size))\n",
        "print('We have {} validation texts'.format(val_size))\n",
        "print(\" \")\n",
        "print(\"-------------------------------------------------\")\n",
        "\n",
        "# We set the size of the batch ( usually set around 16 or 32), we will take the lower bound because of the large text length\n",
        "batch_size = batch_size_value\n",
        "\n",
        "# We create data loaders for the train and validation dataset. \n",
        "train_loader_balanced = DataLoader(\n",
        "            train_set,  # The training samples.\n",
        "            sampler = RandomSampler(train_set), # Select batches randomly\n",
        "            batch_size = batch_size # Trains with this batch size.\n",
        "        )\n",
        "\n",
        "val_loader_balanced = DataLoader(\n",
        "            val_set, # The validation samples.\n",
        "            sampler = SequentialSampler(val_set), # Pull out batches sequentially.\n",
        "            batch_size = batch_size # Evaluate with this batch size.\n",
        "        )\n",
        "\n",
        "print('Data loaders created for train [0] and val [1]')"
      ],
      "execution_count": 21,
      "outputs": [
        {
          "output_type": "stream",
          "text": [
            "Let's check for the first text indexes, attention masks and labels\n",
            " \n",
            "Original:  J'ai vu le ministre indien, le ministre pakistanais. Je leur ai dit que nous encouragions vivement l\n",
            "IDs: tensor([    5,   121,    11,    73,   380,    16,   938, 11796,     7,    16,\n",
            "          938, 31571,     9,   100,    97,   768,   227,    27,    63,    22,\n",
            "         6426, 11016,   273,  6508,    13,  3321,    25,  3036,   128,    17,\n",
            "           11,  5955,    14,    16, 18463,     7,   861,    27,   207,   171,\n",
            "        18651,    51,   102,    33,   193,   250,   206,    16,  2616,   938,\n",
            "        11796,    52,    11,   230,  1736,    15,    61,  8538,    35,     9,\n",
            "           69,   102,   171,   331,   241,    23,   262, 17367,    14, 17436,\n",
            "            9,   795,    51,   102,    33,   331,    19,    21, 10999,    10,\n",
            "           27,    17,    11,    88,   900,     9,   170,    19,  9525,   273,\n",
            "            8,   292,    14,    18,    11,   369,    15,  4570,    97,   359])\n",
            "Attention masks: tensor([1, 1, 1, 1, 1, 1, 1, 1, 1, 1, 1, 1, 1, 1, 1, 1, 1, 1, 1, 1, 1, 1, 1, 1,\n",
            "        1, 1, 1, 1, 1, 1, 1, 1, 1, 1, 1, 1, 1, 1, 1, 1, 1, 1, 1, 1, 1, 1, 1, 1,\n",
            "        1, 1, 1, 1, 1, 1, 1, 1, 1, 1, 1, 1, 1, 1, 1, 1, 1, 1, 1, 1, 1, 1, 1, 1,\n",
            "        1, 1, 1, 1, 1, 1, 1, 1, 1, 1, 1, 1, 1, 1, 1, 1, 1, 1, 1, 1, 1, 1, 1, 1,\n",
            "        1, 1, 1, 1])\n",
            "labels tensor(0)\n",
            "-------------------------------------------------\n",
            " \n",
            "How many texts do we have in the train and validation sample ? \n",
            " \n",
            "We have 2000 training texts\n",
            "We have 500 validation texts\n",
            " \n",
            "-------------------------------------------------\n",
            "Data loaders created for train [0] and val [1]\n"
          ],
          "name": "stdout"
        }
      ]
    },
    {
      "cell_type": "code",
      "metadata": {
        "id": "4FBZvaQ969S0",
        "colab_type": "code",
        "outputId": "c4b020af-4318-463c-bd92-c1e96242f6a2",
        "colab": {
          "base_uri": "https://localhost:8080/",
          "height": 493
        }
      },
      "source": [
        "from torch.utils.data import TensorDataset, random_split\n",
        "from torch.utils.data import DataLoader, RandomSampler, SequentialSampler\n",
        "\n",
        "texts = df_balanced_split.Texte.values \n",
        "labels = df_balanced_split.sexe.values\n",
        "\n",
        "torch.manual_seed(2020)\n",
        "torch.cuda.manual_seed_all(2020)\n",
        "length = 500\n",
        "batch_size_value = 8\n",
        "length_train=0.8\n",
        "\n",
        "# Tokenize all of the sentences and map the tokens to thier word IDs.\n",
        "input_ids = []\n",
        "attention_masks = []\n",
        "num_truncated_tokens =[]\n",
        "# Apply function to our corpus\n",
        "for text in texts:\n",
        "    encoded_dict = tokenizer.encode_plus(\n",
        "                        text,                      # text\n",
        "                        add_special_tokens = True, # Add '[CLS]' and '[SEP]'\n",
        "                        max_length = length,           # We choose for now a max length of 500.\n",
        "                        pad_to_max_length = True,    # Pad text to max (marche pas en pad left ?)\n",
        "                        return_attention_mask = True,   # Construct attention masks\n",
        "                        return_tensors = 'pt',     # Return pytorch tensors.\n",
        "                        return_overflowing_tokens =True, # return overflowing token information\n",
        "                  )\n",
        "    \n",
        "    # Map tokens to their id in the dictionnary \n",
        "    # We add this to our list    \n",
        "    input_ids.append(encoded_dict['input_ids'])\n",
        "\n",
        "    #num_truncated_tokens.append(encoded_dict['num_truncated_tokens'])\n",
        "    \n",
        "    # 3. Attention masks\n",
        "    attention_masks.append(encoded_dict['attention_mask'])\n",
        "\n",
        "# We convert all this into tensors in order to be able to make it work on GPU \n",
        "input_ids = torch.cat(input_ids, dim=0)\n",
        "attention_masks = torch.cat(attention_masks, dim=0)\n",
        "labels = torch.tensor(labels)\n",
        "\n",
        "# Original text and transformed tensor print \n",
        "print(\"Let's check for the first text indexes, attention masks and labels\")\n",
        "print(\" \")\n",
        "print('Original: ', texts[0][0:100])\n",
        "print('IDs:', input_ids[0][0:100])\n",
        "print('Attention masks:', attention_masks[0][0:100])\n",
        "print('labels',labels[0])\n",
        "\n",
        "# Combine all above\n",
        "dataset = TensorDataset(input_ids, attention_masks, labels)\n",
        "\n",
        "# Let's create a 80-20 train / validation dataset \n",
        "train_size = int(length_train * len(dataset))\n",
        "val_size = len(dataset) - train_size\n",
        "\n",
        "train_set, val_set = random_split(dataset, [train_size, val_size])\n",
        "\n",
        "\n",
        "print(\"-------------------------------------------------\")\n",
        "print(\" \")\n",
        "print(\"How many texts do we have in the train and validation sample ? \")\n",
        "print(\" \")\n",
        "print('We have {} training texts'.format(train_size))\n",
        "print('We have {} validation texts'.format(val_size))\n",
        "print(\" \")\n",
        "print(\"-------------------------------------------------\")\n",
        "\n",
        "# We set the size of the batch ( usually set around 16 or 32), we will take the lower bound because of the large text length\n",
        "batch_size = batch_size_value\n",
        "\n",
        "# We create data loaders for the train and validation dataset. \n",
        "train_loader_balanced_split = DataLoader(\n",
        "            train_set,  # The training samples.\n",
        "            sampler = RandomSampler(train_set), # Select batches randomly\n",
        "            batch_size = batch_size # Trains with this batch size.\n",
        "        )\n",
        "\n",
        "val_loader_balanced_split = DataLoader(\n",
        "            val_set, # The validation samples.\n",
        "            sampler = SequentialSampler(val_set), # Pull out batches sequentially.\n",
        "            batch_size = batch_size # Evaluate with this batch size.\n",
        "        )\n",
        "\n",
        "print('Data loaders created for train [0] and val [1]')"
      ],
      "execution_count": 22,
      "outputs": [
        {
          "output_type": "stream",
          "text": [
            "Let's check for the first text indexes, attention masks and labels\n",
            " \n",
            "Original:   Il y a actuellement seulement 7400 VIE pour 40 000 demandes annuelles. Notre objectif est d'augment\n",
            "IDs: tensor([    5,    69,   102,    33,  1344,   446,   333,  6877, 24426,    24,\n",
            "          962,   624,  3083, 19492,     9,   785,  1739,    30,    18,    11,\n",
            "         7878,    97,   365,     8,   618, 11091,   148,  2507,  2247,    72,\n",
            "            7,    65,    49,    11,    41,    34,   424,  1182,    14,  1181,\n",
            "           37,    19,  7070,     9,  6011,    26, 14177,     8,    13,   400,\n",
            "         1636,     7,    31,    48, 10296,    29,  5798,   256,     7,    76,\n",
            "           11,    73,  7191,   700,  1641,     8,   336,   147,   166,   699,\n",
            "           56,    72, 19011,    43,   334,    48,  6874,   167,   334,   747,\n",
            "           22,   285,    67,    44,    31, 22803,   194,    13,   957,   634,\n",
            "         4680,    15,    13,   285,  2028,    67,   167,   334,    48,  7629])\n",
            "Attention masks: tensor([1, 1, 1, 1, 1, 1, 1, 1, 1, 1, 1, 1, 1, 1, 1, 1, 1, 1, 1, 1, 1, 1, 1, 1,\n",
            "        1, 1, 1, 1, 1, 1, 1, 1, 1, 1, 1, 1, 1, 1, 1, 1, 1, 1, 1, 1, 1, 1, 1, 1,\n",
            "        1, 1, 1, 1, 1, 1, 1, 1, 1, 1, 1, 1, 1, 1, 1, 1, 1, 1, 1, 1, 1, 1, 1, 1,\n",
            "        1, 1, 1, 1, 1, 1, 1, 1, 1, 1, 1, 1, 1, 1, 1, 1, 1, 1, 1, 1, 1, 1, 1, 1,\n",
            "        1, 1, 1, 1])\n",
            "labels tensor(1)\n",
            "-------------------------------------------------\n",
            " \n",
            "How many texts do we have in the train and validation sample ? \n",
            " \n",
            "We have 8928 training texts\n",
            "We have 2233 validation texts\n",
            " \n",
            "-------------------------------------------------\n",
            "Data loaders created for train [0] and val [1]\n"
          ],
          "name": "stdout"
        }
      ]
    },
    {
      "cell_type": "markdown",
      "metadata": {
        "id": "vs6YDmQsgljf",
        "colab_type": "text"
      },
      "source": [
        "5 and 6 seem to be the [CLS] and [SEP] special tokens \n"
      ]
    },
    {
      "cell_type": "markdown",
      "metadata": {
        "id": "poTTEJX1hoUK",
        "colab_type": "text"
      },
      "source": [
        "## CamemBERT Sequence Classification model tuning\n"
      ]
    },
    {
      "cell_type": "markdown",
      "metadata": {
        "id": "NN1VeJI0lDwf",
        "colab_type": "text"
      },
      "source": [
        "### Loading the model\n"
      ]
    },
    {
      "cell_type": "markdown",
      "metadata": {
        "id": "99MPOVB7iRcl",
        "colab_type": "text"
      },
      "source": [
        "We will finally build up our model. We will use the  CamemBERT model for sequence classification which includes a special top layer designed for this task. "
      ]
    },
    {
      "cell_type": "code",
      "metadata": {
        "id": "XRHhHzjKgAC6",
        "colab_type": "code",
        "colab": {}
      },
      "source": [
        "# Importing from transformers\n",
        "from transformers import CamembertForSequenceClassification, CamembertConfig"
      ],
      "execution_count": 0,
      "outputs": []
    },
    {
      "cell_type": "code",
      "metadata": {
        "id": "FHMdM-QqgAAX",
        "colab_type": "code",
        "colab": {
          "base_uri": "https://localhost:8080/",
          "height": 115,
          "referenced_widgets": [
            "e472d22968b441d198359e6cdb635410",
            "b8980b14536943c1a46d4d7740340b27",
            "ed5b1a66483a4073915490feec7ead68",
            "be5717b531aa4792967d5b76fd489d78",
            "7d4b62f34f224ea2827e762a121fc6d4",
            "2f6cc8cce0ca4045b258c78c8e9bfefb",
            "03eb17214fa540a88495a999461cda86",
            "4b9d7835d98641d79e7b6ac303fd0da2",
            "9f38d0f373ab405db5f6a8c2cbf8568a",
            "9b4ed8701655443ea249909879f4158c",
            "788aaf92f9ee431f8e0b6bf8630d5210",
            "ecf88eb5800f45a5ae7322a03cb648e0",
            "71bb92eb499e4bc2a4e26ddfac5ef818",
            "9138b3b621c2441db05a927a15662f68",
            "dd4502790ac848a896a0a12fcc87f76a",
            "30cc25d73d714c94bc2922404c599085"
          ]
        },
        "outputId": "35b32109-5a4c-40ce-d2a2-e6051a27a259"
      },
      "source": [
        "# Loading the model\n",
        "gender_model = CamembertForSequenceClassification.from_pretrained(\n",
        "    \"camembert-base\", \n",
        "    num_labels = 2, # We have two different labels Women = 1 and Men =0   \n",
        "    output_attentions = False, \n",
        "    output_hidden_states = False, \n",
        ")"
      ],
      "execution_count": 24,
      "outputs": [
        {
          "output_type": "display_data",
          "data": {
            "application/vnd.jupyter.widget-view+json": {
              "model_id": "e472d22968b441d198359e6cdb635410",
              "version_minor": 0,
              "version_major": 2
            },
            "text/plain": [
              "HBox(children=(IntProgress(value=0, description='Downloading', max=637, style=ProgressStyle(description_width=…"
            ]
          },
          "metadata": {
            "tags": []
          }
        },
        {
          "output_type": "stream",
          "text": [
            "\n"
          ],
          "name": "stdout"
        },
        {
          "output_type": "display_data",
          "data": {
            "application/vnd.jupyter.widget-view+json": {
              "model_id": "9f38d0f373ab405db5f6a8c2cbf8568a",
              "version_minor": 0,
              "version_major": 2
            },
            "text/plain": [
              "HBox(children=(IntProgress(value=0, description='Downloading', max=445032417, style=ProgressStyle(description_…"
            ]
          },
          "metadata": {
            "tags": []
          }
        },
        {
          "output_type": "stream",
          "text": [
            "\n"
          ],
          "name": "stdout"
        }
      ]
    },
    {
      "cell_type": "code",
      "metadata": {
        "id": "vUKynoykf_9y",
        "colab_type": "code",
        "outputId": "6be73e6b-2c6b-462b-d3db-c74928ded051",
        "colab": {
          "base_uri": "https://localhost:8080/",
          "height": 1000
        }
      },
      "source": [
        "# We run the model on the colab GPU \n",
        "gender_model.cuda()"
      ],
      "execution_count": 25,
      "outputs": [
        {
          "output_type": "execute_result",
          "data": {
            "text/plain": [
              "CamembertForSequenceClassification(\n",
              "  (roberta): RobertaModel(\n",
              "    (embeddings): RobertaEmbeddings(\n",
              "      (word_embeddings): Embedding(32005, 768, padding_idx=1)\n",
              "      (position_embeddings): Embedding(514, 768, padding_idx=1)\n",
              "      (token_type_embeddings): Embedding(1, 768)\n",
              "      (LayerNorm): LayerNorm((768,), eps=1e-05, elementwise_affine=True)\n",
              "      (dropout): Dropout(p=0.1, inplace=False)\n",
              "    )\n",
              "    (encoder): BertEncoder(\n",
              "      (layer): ModuleList(\n",
              "        (0): BertLayer(\n",
              "          (attention): BertAttention(\n",
              "            (self): BertSelfAttention(\n",
              "              (query): Linear(in_features=768, out_features=768, bias=True)\n",
              "              (key): Linear(in_features=768, out_features=768, bias=True)\n",
              "              (value): Linear(in_features=768, out_features=768, bias=True)\n",
              "              (dropout): Dropout(p=0.1, inplace=False)\n",
              "            )\n",
              "            (output): BertSelfOutput(\n",
              "              (dense): Linear(in_features=768, out_features=768, bias=True)\n",
              "              (LayerNorm): LayerNorm((768,), eps=1e-05, elementwise_affine=True)\n",
              "              (dropout): Dropout(p=0.1, inplace=False)\n",
              "            )\n",
              "          )\n",
              "          (intermediate): BertIntermediate(\n",
              "            (dense): Linear(in_features=768, out_features=3072, bias=True)\n",
              "          )\n",
              "          (output): BertOutput(\n",
              "            (dense): Linear(in_features=3072, out_features=768, bias=True)\n",
              "            (LayerNorm): LayerNorm((768,), eps=1e-05, elementwise_affine=True)\n",
              "            (dropout): Dropout(p=0.1, inplace=False)\n",
              "          )\n",
              "        )\n",
              "        (1): BertLayer(\n",
              "          (attention): BertAttention(\n",
              "            (self): BertSelfAttention(\n",
              "              (query): Linear(in_features=768, out_features=768, bias=True)\n",
              "              (key): Linear(in_features=768, out_features=768, bias=True)\n",
              "              (value): Linear(in_features=768, out_features=768, bias=True)\n",
              "              (dropout): Dropout(p=0.1, inplace=False)\n",
              "            )\n",
              "            (output): BertSelfOutput(\n",
              "              (dense): Linear(in_features=768, out_features=768, bias=True)\n",
              "              (LayerNorm): LayerNorm((768,), eps=1e-05, elementwise_affine=True)\n",
              "              (dropout): Dropout(p=0.1, inplace=False)\n",
              "            )\n",
              "          )\n",
              "          (intermediate): BertIntermediate(\n",
              "            (dense): Linear(in_features=768, out_features=3072, bias=True)\n",
              "          )\n",
              "          (output): BertOutput(\n",
              "            (dense): Linear(in_features=3072, out_features=768, bias=True)\n",
              "            (LayerNorm): LayerNorm((768,), eps=1e-05, elementwise_affine=True)\n",
              "            (dropout): Dropout(p=0.1, inplace=False)\n",
              "          )\n",
              "        )\n",
              "        (2): BertLayer(\n",
              "          (attention): BertAttention(\n",
              "            (self): BertSelfAttention(\n",
              "              (query): Linear(in_features=768, out_features=768, bias=True)\n",
              "              (key): Linear(in_features=768, out_features=768, bias=True)\n",
              "              (value): Linear(in_features=768, out_features=768, bias=True)\n",
              "              (dropout): Dropout(p=0.1, inplace=False)\n",
              "            )\n",
              "            (output): BertSelfOutput(\n",
              "              (dense): Linear(in_features=768, out_features=768, bias=True)\n",
              "              (LayerNorm): LayerNorm((768,), eps=1e-05, elementwise_affine=True)\n",
              "              (dropout): Dropout(p=0.1, inplace=False)\n",
              "            )\n",
              "          )\n",
              "          (intermediate): BertIntermediate(\n",
              "            (dense): Linear(in_features=768, out_features=3072, bias=True)\n",
              "          )\n",
              "          (output): BertOutput(\n",
              "            (dense): Linear(in_features=3072, out_features=768, bias=True)\n",
              "            (LayerNorm): LayerNorm((768,), eps=1e-05, elementwise_affine=True)\n",
              "            (dropout): Dropout(p=0.1, inplace=False)\n",
              "          )\n",
              "        )\n",
              "        (3): BertLayer(\n",
              "          (attention): BertAttention(\n",
              "            (self): BertSelfAttention(\n",
              "              (query): Linear(in_features=768, out_features=768, bias=True)\n",
              "              (key): Linear(in_features=768, out_features=768, bias=True)\n",
              "              (value): Linear(in_features=768, out_features=768, bias=True)\n",
              "              (dropout): Dropout(p=0.1, inplace=False)\n",
              "            )\n",
              "            (output): BertSelfOutput(\n",
              "              (dense): Linear(in_features=768, out_features=768, bias=True)\n",
              "              (LayerNorm): LayerNorm((768,), eps=1e-05, elementwise_affine=True)\n",
              "              (dropout): Dropout(p=0.1, inplace=False)\n",
              "            )\n",
              "          )\n",
              "          (intermediate): BertIntermediate(\n",
              "            (dense): Linear(in_features=768, out_features=3072, bias=True)\n",
              "          )\n",
              "          (output): BertOutput(\n",
              "            (dense): Linear(in_features=3072, out_features=768, bias=True)\n",
              "            (LayerNorm): LayerNorm((768,), eps=1e-05, elementwise_affine=True)\n",
              "            (dropout): Dropout(p=0.1, inplace=False)\n",
              "          )\n",
              "        )\n",
              "        (4): BertLayer(\n",
              "          (attention): BertAttention(\n",
              "            (self): BertSelfAttention(\n",
              "              (query): Linear(in_features=768, out_features=768, bias=True)\n",
              "              (key): Linear(in_features=768, out_features=768, bias=True)\n",
              "              (value): Linear(in_features=768, out_features=768, bias=True)\n",
              "              (dropout): Dropout(p=0.1, inplace=False)\n",
              "            )\n",
              "            (output): BertSelfOutput(\n",
              "              (dense): Linear(in_features=768, out_features=768, bias=True)\n",
              "              (LayerNorm): LayerNorm((768,), eps=1e-05, elementwise_affine=True)\n",
              "              (dropout): Dropout(p=0.1, inplace=False)\n",
              "            )\n",
              "          )\n",
              "          (intermediate): BertIntermediate(\n",
              "            (dense): Linear(in_features=768, out_features=3072, bias=True)\n",
              "          )\n",
              "          (output): BertOutput(\n",
              "            (dense): Linear(in_features=3072, out_features=768, bias=True)\n",
              "            (LayerNorm): LayerNorm((768,), eps=1e-05, elementwise_affine=True)\n",
              "            (dropout): Dropout(p=0.1, inplace=False)\n",
              "          )\n",
              "        )\n",
              "        (5): BertLayer(\n",
              "          (attention): BertAttention(\n",
              "            (self): BertSelfAttention(\n",
              "              (query): Linear(in_features=768, out_features=768, bias=True)\n",
              "              (key): Linear(in_features=768, out_features=768, bias=True)\n",
              "              (value): Linear(in_features=768, out_features=768, bias=True)\n",
              "              (dropout): Dropout(p=0.1, inplace=False)\n",
              "            )\n",
              "            (output): BertSelfOutput(\n",
              "              (dense): Linear(in_features=768, out_features=768, bias=True)\n",
              "              (LayerNorm): LayerNorm((768,), eps=1e-05, elementwise_affine=True)\n",
              "              (dropout): Dropout(p=0.1, inplace=False)\n",
              "            )\n",
              "          )\n",
              "          (intermediate): BertIntermediate(\n",
              "            (dense): Linear(in_features=768, out_features=3072, bias=True)\n",
              "          )\n",
              "          (output): BertOutput(\n",
              "            (dense): Linear(in_features=3072, out_features=768, bias=True)\n",
              "            (LayerNorm): LayerNorm((768,), eps=1e-05, elementwise_affine=True)\n",
              "            (dropout): Dropout(p=0.1, inplace=False)\n",
              "          )\n",
              "        )\n",
              "        (6): BertLayer(\n",
              "          (attention): BertAttention(\n",
              "            (self): BertSelfAttention(\n",
              "              (query): Linear(in_features=768, out_features=768, bias=True)\n",
              "              (key): Linear(in_features=768, out_features=768, bias=True)\n",
              "              (value): Linear(in_features=768, out_features=768, bias=True)\n",
              "              (dropout): Dropout(p=0.1, inplace=False)\n",
              "            )\n",
              "            (output): BertSelfOutput(\n",
              "              (dense): Linear(in_features=768, out_features=768, bias=True)\n",
              "              (LayerNorm): LayerNorm((768,), eps=1e-05, elementwise_affine=True)\n",
              "              (dropout): Dropout(p=0.1, inplace=False)\n",
              "            )\n",
              "          )\n",
              "          (intermediate): BertIntermediate(\n",
              "            (dense): Linear(in_features=768, out_features=3072, bias=True)\n",
              "          )\n",
              "          (output): BertOutput(\n",
              "            (dense): Linear(in_features=3072, out_features=768, bias=True)\n",
              "            (LayerNorm): LayerNorm((768,), eps=1e-05, elementwise_affine=True)\n",
              "            (dropout): Dropout(p=0.1, inplace=False)\n",
              "          )\n",
              "        )\n",
              "        (7): BertLayer(\n",
              "          (attention): BertAttention(\n",
              "            (self): BertSelfAttention(\n",
              "              (query): Linear(in_features=768, out_features=768, bias=True)\n",
              "              (key): Linear(in_features=768, out_features=768, bias=True)\n",
              "              (value): Linear(in_features=768, out_features=768, bias=True)\n",
              "              (dropout): Dropout(p=0.1, inplace=False)\n",
              "            )\n",
              "            (output): BertSelfOutput(\n",
              "              (dense): Linear(in_features=768, out_features=768, bias=True)\n",
              "              (LayerNorm): LayerNorm((768,), eps=1e-05, elementwise_affine=True)\n",
              "              (dropout): Dropout(p=0.1, inplace=False)\n",
              "            )\n",
              "          )\n",
              "          (intermediate): BertIntermediate(\n",
              "            (dense): Linear(in_features=768, out_features=3072, bias=True)\n",
              "          )\n",
              "          (output): BertOutput(\n",
              "            (dense): Linear(in_features=3072, out_features=768, bias=True)\n",
              "            (LayerNorm): LayerNorm((768,), eps=1e-05, elementwise_affine=True)\n",
              "            (dropout): Dropout(p=0.1, inplace=False)\n",
              "          )\n",
              "        )\n",
              "        (8): BertLayer(\n",
              "          (attention): BertAttention(\n",
              "            (self): BertSelfAttention(\n",
              "              (query): Linear(in_features=768, out_features=768, bias=True)\n",
              "              (key): Linear(in_features=768, out_features=768, bias=True)\n",
              "              (value): Linear(in_features=768, out_features=768, bias=True)\n",
              "              (dropout): Dropout(p=0.1, inplace=False)\n",
              "            )\n",
              "            (output): BertSelfOutput(\n",
              "              (dense): Linear(in_features=768, out_features=768, bias=True)\n",
              "              (LayerNorm): LayerNorm((768,), eps=1e-05, elementwise_affine=True)\n",
              "              (dropout): Dropout(p=0.1, inplace=False)\n",
              "            )\n",
              "          )\n",
              "          (intermediate): BertIntermediate(\n",
              "            (dense): Linear(in_features=768, out_features=3072, bias=True)\n",
              "          )\n",
              "          (output): BertOutput(\n",
              "            (dense): Linear(in_features=3072, out_features=768, bias=True)\n",
              "            (LayerNorm): LayerNorm((768,), eps=1e-05, elementwise_affine=True)\n",
              "            (dropout): Dropout(p=0.1, inplace=False)\n",
              "          )\n",
              "        )\n",
              "        (9): BertLayer(\n",
              "          (attention): BertAttention(\n",
              "            (self): BertSelfAttention(\n",
              "              (query): Linear(in_features=768, out_features=768, bias=True)\n",
              "              (key): Linear(in_features=768, out_features=768, bias=True)\n",
              "              (value): Linear(in_features=768, out_features=768, bias=True)\n",
              "              (dropout): Dropout(p=0.1, inplace=False)\n",
              "            )\n",
              "            (output): BertSelfOutput(\n",
              "              (dense): Linear(in_features=768, out_features=768, bias=True)\n",
              "              (LayerNorm): LayerNorm((768,), eps=1e-05, elementwise_affine=True)\n",
              "              (dropout): Dropout(p=0.1, inplace=False)\n",
              "            )\n",
              "          )\n",
              "          (intermediate): BertIntermediate(\n",
              "            (dense): Linear(in_features=768, out_features=3072, bias=True)\n",
              "          )\n",
              "          (output): BertOutput(\n",
              "            (dense): Linear(in_features=3072, out_features=768, bias=True)\n",
              "            (LayerNorm): LayerNorm((768,), eps=1e-05, elementwise_affine=True)\n",
              "            (dropout): Dropout(p=0.1, inplace=False)\n",
              "          )\n",
              "        )\n",
              "        (10): BertLayer(\n",
              "          (attention): BertAttention(\n",
              "            (self): BertSelfAttention(\n",
              "              (query): Linear(in_features=768, out_features=768, bias=True)\n",
              "              (key): Linear(in_features=768, out_features=768, bias=True)\n",
              "              (value): Linear(in_features=768, out_features=768, bias=True)\n",
              "              (dropout): Dropout(p=0.1, inplace=False)\n",
              "            )\n",
              "            (output): BertSelfOutput(\n",
              "              (dense): Linear(in_features=768, out_features=768, bias=True)\n",
              "              (LayerNorm): LayerNorm((768,), eps=1e-05, elementwise_affine=True)\n",
              "              (dropout): Dropout(p=0.1, inplace=False)\n",
              "            )\n",
              "          )\n",
              "          (intermediate): BertIntermediate(\n",
              "            (dense): Linear(in_features=768, out_features=3072, bias=True)\n",
              "          )\n",
              "          (output): BertOutput(\n",
              "            (dense): Linear(in_features=3072, out_features=768, bias=True)\n",
              "            (LayerNorm): LayerNorm((768,), eps=1e-05, elementwise_affine=True)\n",
              "            (dropout): Dropout(p=0.1, inplace=False)\n",
              "          )\n",
              "        )\n",
              "        (11): BertLayer(\n",
              "          (attention): BertAttention(\n",
              "            (self): BertSelfAttention(\n",
              "              (query): Linear(in_features=768, out_features=768, bias=True)\n",
              "              (key): Linear(in_features=768, out_features=768, bias=True)\n",
              "              (value): Linear(in_features=768, out_features=768, bias=True)\n",
              "              (dropout): Dropout(p=0.1, inplace=False)\n",
              "            )\n",
              "            (output): BertSelfOutput(\n",
              "              (dense): Linear(in_features=768, out_features=768, bias=True)\n",
              "              (LayerNorm): LayerNorm((768,), eps=1e-05, elementwise_affine=True)\n",
              "              (dropout): Dropout(p=0.1, inplace=False)\n",
              "            )\n",
              "          )\n",
              "          (intermediate): BertIntermediate(\n",
              "            (dense): Linear(in_features=768, out_features=3072, bias=True)\n",
              "          )\n",
              "          (output): BertOutput(\n",
              "            (dense): Linear(in_features=3072, out_features=768, bias=True)\n",
              "            (LayerNorm): LayerNorm((768,), eps=1e-05, elementwise_affine=True)\n",
              "            (dropout): Dropout(p=0.1, inplace=False)\n",
              "          )\n",
              "        )\n",
              "      )\n",
              "    )\n",
              "    (pooler): BertPooler(\n",
              "      (dense): Linear(in_features=768, out_features=768, bias=True)\n",
              "      (activation): Tanh()\n",
              "    )\n",
              "  )\n",
              "  (classifier): RobertaClassificationHead(\n",
              "    (dense): Linear(in_features=768, out_features=768, bias=True)\n",
              "    (dropout): Dropout(p=0.1, inplace=False)\n",
              "    (out_proj): Linear(in_features=768, out_features=2, bias=True)\n",
              "  )\n",
              ")"
            ]
          },
          "metadata": {
            "tags": []
          },
          "execution_count": 25
        }
      ]
    },
    {
      "cell_type": "markdown",
      "metadata": {
        "id": "sgwmHirxnEie",
        "colab_type": "text"
      },
      "source": [
        "### Constructing the training and validation loop \n"
      ]
    },
    {
      "cell_type": "code",
      "metadata": {
        "id": "pZDt2ZElwcJh",
        "colab_type": "code",
        "colab": {}
      },
      "source": [
        "import numpy as np\n",
        "\n",
        "from sklearn.metrics import f1_score \n",
        "\n",
        "def create_report(labels,preds) : \n",
        "  pred_flat= np.argmax(preds, axis=1).flatten()\n",
        "  labels_flat = labels.flatten()\n",
        "  F1_score = f1_score(labels_flat,pred_flat,zero_division=1)\n",
        "  Accuracy = np.sum(pred_flat == labels_flat) / len(labels_flat)\n",
        "  return F1_score, Accuracy"
      ],
      "execution_count": 0,
      "outputs": []
    },
    {
      "cell_type": "code",
      "metadata": {
        "id": "WUB8c4k_t1UJ",
        "colab_type": "code",
        "colab": {}
      },
      "source": [
        "def train_val_gendermodel(train_loader, val_loader, epochs_val,seed_val,device,lr_value):\n",
        "\n",
        "  ############################  IMPORT MODEL ################################################\n",
        "  from transformers import CamembertForSequenceClassification\n",
        "  gender_model = CamembertForSequenceClassification.from_pretrained(\n",
        "    \"camembert-base\", \n",
        "    num_labels = 2, # We have two different labels Women = 1 and Men =0   \n",
        "    output_attentions = False, \n",
        "    output_hidden_states = False, )\n",
        "\n",
        "  model = gender_model\n",
        "  model.cuda()\n",
        "  \n",
        "  ############################## RANDOM SEED ##################################################\n",
        "\n",
        "  import random\n",
        " # Let's put a seed to make this result reproducible \n",
        "  seed=seed_val\n",
        "  random.seed(seed)\n",
        "  np.random.seed(seed)\n",
        "  torch.manual_seed(seed)\n",
        "  torch.cuda.manual_seed_all(seed)\n",
        "\n",
        "  ############################### LEARNING RATE SCHEDULER #######################################\n",
        "\n",
        "  # https://huggingface.co/transformers/migration.html \n",
        "  # https://pytorch.org/docs/stable/optim.html (default values)\n",
        "\n",
        "  import torch.nn as nn\n",
        "  import torch.optim as optim\n",
        "  from transformers import AdamW\n",
        "  from transformers import get_linear_schedule_with_warmup\n",
        "\n",
        "  epochs = epochs_val # In order to fine tune our model we will first set the number of epochs to 4.\n",
        "\n",
        "  # We choose Binary cross enthropy with logits loss for the loss computation. It seems to be the most adapted loss to our problem. \n",
        "  criterion = nn.BCEWithLogitsLoss()\n",
        "  #Implements Adam algorithm with weight decay fix.\n",
        "  opti = AdamW(model.parameters(),\n",
        "                    lr =lr_value, # learning rate (default = 1e-3)\n",
        "                    eps = 1e-8 # prevents division by 0 (default = 1e-8)\n",
        "                  )\n",
        "\n",
        "  num_training_steps = len(train_loader) * epochs\n",
        "  # Create a schedule with a learning rate that decreases linearly after linearly increasing during a warmup period (0 here)\n",
        "  scheduler = get_linear_schedule_with_warmup(opti, \n",
        "                                              num_warmup_steps = 0,\n",
        "                                              num_training_steps = num_training_steps)\n",
        "  \n",
        "  \n",
        "  # We want to evaluate the training phase \n",
        "  training_stats = []\n",
        "\n",
        "  for ep in range(0, epochs):\n",
        "    print('===========Starting Epoch {} / {} =============='.format(ep+1,epochs))\n",
        "    print('Training starts')\n",
        "\n",
        "    ################################### TRAINING ################################\n",
        "\n",
        "    #Put the model in training mode\n",
        "    model.train()\n",
        "\n",
        "    # Set the train loss for the epoch to 0 \n",
        "    total_train_loss = 0\n",
        "\n",
        "    for step, batch in enumerate(train_loader):\n",
        "      # Clear gradients \n",
        "      model.zero_grad() # (opti.zerograd ? )\n",
        "\n",
        "      # Cpy the 3 batch to GPU \n",
        "      b_input_ids = batch[0].to(device)\n",
        "      b_input_mask = batch[1].to(device)\n",
        "      b_labels = batch[2].to(device)\n",
        "      \n",
        "      #return loss and logits\n",
        "      loss, logits = model(b_input_ids, \n",
        "                          token_type_ids=None, \n",
        "                          attention_mask=b_input_mask, \n",
        "                          labels=b_labels) \n",
        "      \n",
        "      # Accumulate training loss for all batches \n",
        "      total_train_loss += loss.item()\n",
        "\n",
        "      #Backpropagating the gradients \n",
        "      loss.backward()\n",
        "\n",
        "      # Prevent exploding gradients problem  (forcing the gradients to be small, the parameter updates will not push the parameters too far from their previous values)\n",
        "      torch.nn.utils.clip_grad_norm_(model.parameters(), 1.0)\n",
        "\n",
        "      # Update parameters \n",
        "      opti.step()\n",
        "\n",
        "      # Update learning rate schedule\n",
        "      scheduler.step()\n",
        "\n",
        "    #Calculate the average training loss over all batches  \n",
        "    avg_train_loss = total_train_loss / len(train_loader)\n",
        "    print(\"\")\n",
        "    print(\"  Average training loss: {0:.2f}\".format(avg_train_loss))\n",
        "    print('')\n",
        "    print('Validation starts')\n",
        "\n",
        "    ###################### VALIDATION #############################\n",
        "\n",
        "    # Put model in evaluation mode \n",
        "    model.eval()\n",
        "\n",
        "    # Set statistics to 0\n",
        "    total_eval_accuracy = 0\n",
        "    total_eval_loss = 0\n",
        "    nb_eval_steps = 0\n",
        "    total_eval_f1=0\n",
        "    total_roc_auc = 0 \n",
        "\n",
        "    # Confusion matrix ?\n",
        "    predictions, true_labels = [], []\n",
        "\n",
        "    for batch in val_loader:\n",
        "      b_input_ids = batch[0].to(device)\n",
        "      b_input_mask = batch[1].to(device)\n",
        "      b_labels = batch[2].to(device)\n",
        "      \n",
        "      # We don't care about gradients for eval\n",
        "\n",
        "      with torch.no_grad(): \n",
        "        (loss, logits) = model(b_input_ids, \n",
        "                                  token_type_ids=None, \n",
        "                                  attention_mask=b_input_mask,\n",
        "                                  labels=b_labels)\n",
        "      total_eval_loss += loss.item()\n",
        "\n",
        "        # Move logits and labels to CPU \n",
        "      logits = logits.detach().cpu().numpy()\n",
        "      label_ids = b_labels.to('cpu').numpy()\n",
        "\n",
        "      F1_score, Accuracy = create_report(label_ids,logits)\n",
        "\n",
        "      # Accumulation accuracy for all batch\n",
        "      total_eval_accuracy += Accuracy\n",
        "\n",
        "      # Accumulation f1 for all batch\n",
        "      total_eval_f1 += F1_score\n",
        "\n",
        "      \n",
        "      #Final accuracy on all batch\n",
        "    avg_val_accuracy = total_eval_accuracy / len(val_loader)\n",
        "    print(\"  Accuracy: {0:.2f}\".format(avg_val_accuracy))\n",
        "\n",
        "      #Final f1 on all batch\n",
        "    avg_val_f1 = total_eval_f1 / len(val_loader)\n",
        "    print(\"  F1_score: {0:.2f}\".format(avg_val_f1))\n",
        "\n",
        "      #Final loss over all batch\n",
        "    avg_val_loss = total_eval_loss / len(val_loader)\n",
        "    print(\"  Validation Loss: {0:.2f}\".format(avg_val_loss))\n",
        "\n",
        "    training_stats.append(\n",
        "          {\n",
        "              'epoch': ep + 1,\n",
        "              'Train Loss': avg_train_loss,\n",
        "              'Val Loss': avg_val_loss,\n",
        "              'Val Accur.': avg_val_accuracy,\n",
        "              'Val F1' : avg_val_f1,\n",
        "          }\n",
        "      )\n",
        "\n",
        "  print(\"\")\n",
        "  print(\"Done !\")\n",
        "\n",
        "  return  training_stats"
      ],
      "execution_count": 0,
      "outputs": []
    },
    {
      "cell_type": "code",
      "metadata": {
        "id": "anria4-x6FHk",
        "colab_type": "code",
        "colab": {}
      },
      "source": [
        "def report_model_1(results):\n",
        "  '''\n",
        "  Input : statistics of the model \n",
        "  Output : training and valid loss \n",
        "  ''' \n",
        "  df_stats = pd.DataFrame(data=results)\n",
        "  df_stats = df_stats.set_index('epoch')\n",
        "  print(df_stats)\n",
        "\n",
        "  import matplotlib.pyplot as plt\n",
        "  % matplotlib inline\n",
        "  import seaborn as sns\n",
        "\n",
        "  # Increase the plot size and font size.\n",
        "  sns.set(font_scale=1.5)\n",
        "  plt.rcParams[\"figure.figsize\"] = (12,6)\n",
        "\n",
        "  # Plot the learning curve.\n",
        "  plt.plot(df_stats['Train Loss'], 'b-o', label=\"Training\")\n",
        "  plt.plot(df_stats['Val Loss'], 'g-o', label=\"Validation\")\n",
        "\n",
        "  # Label the plot.\n",
        "  plt.title(\"Training & Validation Loss\")\n",
        "  plt.xlabel(\"Epoch\")\n",
        "  plt.ylabel(\"Loss\")\n",
        "  plt.legend()\n",
        "  plt.xticks([1, 2, 3, 4, 5])\n",
        "\n",
        "  plt.show()"
      ],
      "execution_count": 0,
      "outputs": []
    },
    {
      "cell_type": "code",
      "metadata": {
        "id": "WqNRTJME5oHs",
        "colab_type": "code",
        "outputId": "96e8964d-a68e-42d6-b4e5-591f59bab001",
        "colab": {
          "base_uri": "https://localhost:8080/",
          "height": 816
        }
      },
      "source": [
        "results_unbalanced = train_val_gendermodel(train_loader=train_loader_unbalanced, val_loader=val_loader_unbalanced, epochs_val=5,seed_val=2020,device=device,lr_value=5e-5)"
      ],
      "execution_count": 29,
      "outputs": [
        {
          "output_type": "stream",
          "text": [
            "===========Starting Epoch 1 / 5 ==============\n",
            "Training starts\n",
            "\n",
            "  Average training loss: 0.43\n",
            "\n",
            "Validation starts\n",
            "  Accuracy: 0.87\n",
            "  F1_score: 0.65\n",
            "  Validation Loss: 0.33\n",
            "===========Starting Epoch 2 / 5 ==============\n",
            "Training starts\n",
            "\n",
            "  Average training loss: 0.31\n",
            "\n",
            "Validation starts\n",
            "  Accuracy: 0.88\n",
            "  F1_score: 0.69\n",
            "  Validation Loss: 0.31\n",
            "===========Starting Epoch 3 / 5 ==============\n",
            "Training starts\n",
            "\n",
            "  Average training loss: 0.23\n",
            "\n",
            "Validation starts\n",
            "  Accuracy: 0.89\n",
            "  F1_score: 0.73\n",
            "  Validation Loss: 0.30\n",
            "===========Starting Epoch 4 / 5 ==============\n",
            "Training starts\n",
            "\n",
            "  Average training loss: 0.16\n",
            "\n",
            "Validation starts\n",
            "  Accuracy: 0.88\n",
            "  F1_score: 0.73\n",
            "  Validation Loss: 0.40\n",
            "===========Starting Epoch 5 / 5 ==============\n",
            "Training starts\n",
            "\n",
            "  Average training loss: 0.09\n",
            "\n",
            "Validation starts\n",
            "  Accuracy: 0.87\n",
            "  F1_score: 0.70\n",
            "  Validation Loss: 0.47\n",
            "\n",
            "Done !\n"
          ],
          "name": "stdout"
        }
      ]
    },
    {
      "cell_type": "code",
      "metadata": {
        "id": "fKu-O0c653tX",
        "colab_type": "code",
        "outputId": "5d600df2-e624-4ab3-e1f9-6a4b7d5501a2",
        "colab": {
          "base_uri": "https://localhost:8080/",
          "height": 600
        }
      },
      "source": [
        "report_model_1(results_unbalanced)"
      ],
      "execution_count": 30,
      "outputs": [
        {
          "output_type": "stream",
          "text": [
            "       Train Loss  Val Loss  Val Accur.    Val F1\n",
            "epoch                                            \n",
            "1        0.425207  0.325511    0.867063  0.646414\n",
            "2        0.309799  0.306201    0.881944  0.689812\n",
            "3        0.230205  0.300248    0.887897  0.733766\n",
            "4        0.155909  0.396662    0.876984  0.726767\n",
            "5        0.090180  0.472944    0.873016  0.702825\n"
          ],
          "name": "stdout"
        },
        {
          "output_type": "stream",
          "text": [
            "/usr/local/lib/python3.6/dist-packages/statsmodels/tools/_testing.py:19: FutureWarning: pandas.util.testing is deprecated. Use the functions in the public API at pandas.testing instead.\n",
            "  import pandas.util.testing as tm\n"
          ],
          "name": "stderr"
        },
        {
          "output_type": "display_data",
          "data": {
            "image/png": "[encoded data removed]",
            "text/plain": [
              "<Figure size 864x432 with 1 Axes>"
            ]
          },
          "metadata": {
            "tags": []
          }
        }
      ]
    },
    {
      "cell_type": "code",
      "metadata": {
        "id": "DH9QNCMXR0zc",
        "colab_type": "code",
        "outputId": "11106693-432b-40e2-ad16-7fa1362173e6",
        "colab": {
          "base_uri": "https://localhost:8080/",
          "height": 816
        }
      },
      "source": [
        "results_balanced = train_val_gendermodel(train_loader=train_loader_balanced, val_loader=val_loader_balanced, epochs_val=5,seed_val=2020,device=device,lr_value=5e-5)"
      ],
      "execution_count": 31,
      "outputs": [
        {
          "output_type": "stream",
          "text": [
            "===========Starting Epoch 1 / 5 ==============\n",
            "Training starts\n",
            "\n",
            "  Average training loss: 0.56\n",
            "\n",
            "Validation starts\n",
            "  Accuracy: 0.81\n",
            "  F1_score: 0.79\n",
            "  Validation Loss: 0.45\n",
            "===========Starting Epoch 2 / 5 ==============\n",
            "Training starts\n",
            "\n",
            "  Average training loss: 0.37\n",
            "\n",
            "Validation starts\n",
            "  Accuracy: 0.80\n",
            "  F1_score: 0.81\n",
            "  Validation Loss: 0.43\n",
            "===========Starting Epoch 3 / 5 ==============\n",
            "Training starts\n",
            "\n",
            "  Average training loss: 0.28\n",
            "\n",
            "Validation starts\n",
            "  Accuracy: 0.80\n",
            "  F1_score: 0.80\n",
            "  Validation Loss: 0.44\n",
            "===========Starting Epoch 4 / 5 ==============\n",
            "Training starts\n",
            "\n",
            "  Average training loss: 0.18\n",
            "\n",
            "Validation starts\n",
            "  Accuracy: 0.83\n",
            "  F1_score: 0.82\n",
            "  Validation Loss: 0.55\n",
            "===========Starting Epoch 5 / 5 ==============\n",
            "Training starts\n",
            "\n",
            "  Average training loss: 0.12\n",
            "\n",
            "Validation starts\n",
            "  Accuracy: 0.82\n",
            "  F1_score: 0.81\n",
            "  Validation Loss: 0.64\n",
            "\n",
            "Done !\n"
          ],
          "name": "stdout"
        }
      ]
    },
    {
      "cell_type": "code",
      "metadata": {
        "id": "v0Pti-Dk59DT",
        "colab_type": "code",
        "outputId": "c5284785-e14a-447d-a831-e0c41895e39d",
        "colab": {
          "base_uri": "https://localhost:8080/",
          "height": 546
        }
      },
      "source": [
        "report_model_1(results_balanced)"
      ],
      "execution_count": 32,
      "outputs": [
        {
          "output_type": "stream",
          "text": [
            "       Train Loss  Val Loss  Val Accur.    Val F1\n",
            "epoch                                            \n",
            "1        0.562323  0.447314    0.810547  0.791493\n",
            "2        0.372788  0.428915    0.802734  0.805854\n",
            "3        0.279520  0.442142    0.802734  0.801584\n",
            "4        0.183672  0.545867    0.826172  0.818287\n",
            "5        0.117414  0.636461    0.816406  0.808822\n"
          ],
          "name": "stdout"
        },
        {
          "output_type": "display_data",
          "data": {
            "image/png": "[encoded data removed]",
            "text/plain": [
              "<Figure size 864x432 with 1 Axes>"
            ]
          },
          "metadata": {
            "tags": []
          }
        }
      ]
    },
    {
      "cell_type": "code",
      "metadata": {
        "id": "Hb6Ca8qmdT74",
        "colab_type": "code",
        "outputId": "aa2a03e5-23aa-40a0-bab3-727a6dacfba1",
        "colab": {
          "base_uri": "https://localhost:8080/",
          "height": 816
        }
      },
      "source": [
        "results_balanced_split = train_val_gendermodel(train_loader=train_loader_balanced_split, val_loader=val_loader_balanced_split, epochs_val=5,seed_val=2020,device=device,lr_value=5e-5)"
      ],
      "execution_count": 33,
      "outputs": [
        {
          "output_type": "stream",
          "text": [
            "===========Starting Epoch 1 / 5 ==============\n",
            "Training starts\n",
            "\n",
            "  Average training loss: 0.51\n",
            "\n",
            "Validation starts\n",
            "  Accuracy: 0.79\n",
            "  F1_score: 0.76\n",
            "  Validation Loss: 0.44\n",
            "===========Starting Epoch 2 / 5 ==============\n",
            "Training starts\n",
            "\n",
            "  Average training loss: 0.38\n",
            "\n",
            "Validation starts\n",
            "  Accuracy: 0.82\n",
            "  F1_score: 0.81\n",
            "  Validation Loss: 0.40\n",
            "===========Starting Epoch 3 / 5 ==============\n",
            "Training starts\n",
            "\n",
            "  Average training loss: 0.27\n",
            "\n",
            "Validation starts\n",
            "  Accuracy: 0.84\n",
            "  F1_score: 0.82\n",
            "  Validation Loss: 0.48\n",
            "===========Starting Epoch 4 / 5 ==============\n",
            "Training starts\n",
            "\n",
            "  Average training loss: 0.17\n",
            "\n",
            "Validation starts\n",
            "  Accuracy: 0.83\n",
            "  F1_score: 0.82\n",
            "  Validation Loss: 0.67\n",
            "===========Starting Epoch 5 / 5 ==============\n",
            "Training starts\n",
            "\n",
            "  Average training loss: 0.09\n",
            "\n",
            "Validation starts\n",
            "  Accuracy: 0.84\n",
            "  F1_score: 0.82\n",
            "  Validation Loss: 0.78\n",
            "\n",
            "Done !\n"
          ],
          "name": "stdout"
        }
      ]
    },
    {
      "cell_type": "code",
      "metadata": {
        "id": "CJSzx-x35-jW",
        "colab_type": "code",
        "outputId": "f2010e02-b06e-4dda-ff47-1b8c846a0e07",
        "colab": {
          "base_uri": "https://localhost:8080/",
          "height": 546
        }
      },
      "source": [
        "report_model_1(results_balanced_split)"
      ],
      "execution_count": 34,
      "outputs": [
        {
          "output_type": "stream",
          "text": [
            "       Train Loss  Val Loss  Val Accur.    Val F1\n",
            "epoch                                            \n",
            "1        0.510036  0.440116    0.788393  0.761188\n",
            "2        0.383469  0.400813    0.818750  0.812326\n",
            "3        0.272728  0.477282    0.844643  0.821974\n",
            "4        0.168987  0.667030    0.834375  0.818178\n",
            "5        0.088883  0.780454    0.840179  0.822569\n"
          ],
          "name": "stdout"
        },
        {
          "output_type": "display_data",
          "data": {
            "image/png": "[encoded data removed]",
            "text/plain": [
              "<Figure size 864x432 with 1 Axes>"
            ]
          },
          "metadata": {
            "tags": []
          }
        }
      ]
    },
    {
      "cell_type": "markdown",
      "metadata": {
        "id": "kKXUkXjfg0s2",
        "colab_type": "text"
      },
      "source": [
        "### Training the optimal model "
      ]
    },
    {
      "cell_type": "code",
      "metadata": {
        "id": "R1LLOEa3g2wL",
        "colab_type": "code",
        "outputId": "ec253373-ff56-42d6-cf95-18b04ec0505d",
        "colab": {
          "base_uri": "https://localhost:8080/",
          "height": 85
        }
      },
      "source": [
        "df_eval= balanced_splitted(df,seed_val,frac_val=1,max_tokens=450)"
      ],
      "execution_count": 16,
      "outputs": [
        {
          "output_type": "stream",
          "text": [
            "Number of text in this balanced splitted corpus : 11,161\n",
            "\n",
            "Proportions of women in the balanced splitted corpus : 50.22847415106173\n",
            "\n"
          ],
          "name": "stdout"
        }
      ]
    },
    {
      "cell_type": "code",
      "metadata": {
        "id": "fa_3vh-698n6",
        "colab_type": "code",
        "colab": {}
      },
      "source": [
        "# We prepare another sample which will be dedicated to further qualitative analysis"
      ],
      "execution_count": 0,
      "outputs": []
    },
    {
      "cell_type": "code",
      "metadata": {
        "id": "cL1SsPWU98tz",
        "colab_type": "code",
        "outputId": "d4ae43d6-37a2-4e3d-f0ca-3e9bd60b1087",
        "colab": {
          "base_uri": "https://localhost:8080/",
          "height": 85
        }
      },
      "source": [
        "len_train = round(0.97*len(df_eval))\n",
        "df_balanced_split= df_eval[0:len_train]\n",
        "dev_balanced_split=df_eval[len_train:len(df_eval)]\n",
        "\n",
        "# Report the number of speeches in the corpus.\n",
        "print('Number of text in this balanced splitted corpus : {:,}\\n'.format(df_balanced_split.shape[0]))\n",
        "print('Number of text in the development sample : {:,}\\n'.format(dev_balanced_split.shape[0]))"
      ],
      "execution_count": 18,
      "outputs": [
        {
          "output_type": "stream",
          "text": [
            "Number of text in this balanced splitted corpus : 10,826\n",
            "\n",
            "Number of text in the development sample : 335\n",
            "\n"
          ],
          "name": "stdout"
        }
      ]
    },
    {
      "cell_type": "code",
      "metadata": {
        "id": "9XuXBR-rgR3U",
        "colab_type": "code",
        "outputId": "ce5199c3-884e-48ea-d1f0-bfb8a8e11604",
        "colab": {
          "base_uri": "https://localhost:8080/",
          "height": 493
        }
      },
      "source": [
        "from torch.utils.data import TensorDataset, random_split\n",
        "from torch.utils.data import DataLoader, RandomSampler, SequentialSampler\n",
        "\n",
        "texts = df_balanced_split.Texte.values \n",
        "labels = df_balanced_split.sexe.values\n",
        "\n",
        "torch.manual_seed(2020)\n",
        "torch.cuda.manual_seed_all(2020)\n",
        "length = 500\n",
        "batch_size_value = 16\n",
        "length_train=0.9\n",
        "\n",
        "# Tokenize all of the sentences and map the tokens to thier word IDs.\n",
        "input_ids = []\n",
        "attention_masks = []\n",
        "num_truncated_tokens =[]\n",
        "# Apply function to our corpus\n",
        "for text in texts:\n",
        "    encoded_dict = tokenizer.encode_plus(\n",
        "                        text,                      # text\n",
        "                        add_special_tokens = True, # Add '[CLS]' and '[SEP]'\n",
        "                        max_length = length,           # We choose for now a max length of 500.\n",
        "                        pad_to_max_length = True,    # Pad text to max (marche pas en pad left ?)\n",
        "                        return_attention_mask = True,   # Construct attention masks\n",
        "                        return_tensors = 'pt',     # Return pytorch tensors.\n",
        "                        return_overflowing_tokens =True, # return overflowing token information\n",
        "                  )\n",
        "    \n",
        "    # Map tokens to their id in the dictionnary \n",
        "    # We add this to our list    \n",
        "    input_ids.append(encoded_dict['input_ids'])\n",
        "\n",
        "    #num_truncated_tokens.append(encoded_dict['num_truncated_tokens'])\n",
        "    \n",
        "    # 3. Attention masks\n",
        "    attention_masks.append(encoded_dict['attention_mask'])\n",
        "\n",
        "# We convert all this into tensors in order to be able to make it work on GPU \n",
        "input_ids = torch.cat(input_ids, dim=0)\n",
        "attention_masks = torch.cat(attention_masks, dim=0)\n",
        "labels = torch.tensor(labels)\n",
        "\n",
        "# Original text and transformed tensor print \n",
        "print(\"Let's check for the first text indexes, attention masks and labels\")\n",
        "print(\" \")\n",
        "print('Original: ', texts[0][0:100])\n",
        "print('IDs:', input_ids[0][0:100])\n",
        "print('Attention masks:', attention_masks[0][0:100])\n",
        "print('labels',labels[0])\n",
        "\n",
        "# Combine all above\n",
        "dataset = TensorDataset(input_ids, attention_masks, labels)\n",
        "\n",
        "# Let's create a 80-20 train / validation dataset \n",
        "train_size = int(length_train * len(dataset))\n",
        "val_size = len(dataset) - train_size\n",
        "\n",
        "train_set, val_set = random_split(dataset, [train_size, val_size])\n",
        "\n",
        "\n",
        "print(\"-------------------------------------------------\")\n",
        "print(\" \")\n",
        "print(\"How many texts do we have in the train and validation sample ? \")\n",
        "print(\" \")\n",
        "print('We have {} training texts'.format(train_size))\n",
        "print('We have {} validation texts'.format(val_size))\n",
        "print(\" \")\n",
        "print(\"-------------------------------------------------\")\n",
        "\n",
        "# We set the size of the batch ( usually set around 16 or 32), we will take the lower bound because of the large text length\n",
        "batch_size = batch_size_value\n",
        "\n",
        "# We create data loaders for the train and validation dataset. \n",
        "train_loader_balanced_split = DataLoader(\n",
        "            train_set,  # The training samples.\n",
        "            sampler = RandomSampler(train_set), # Select batches randomly\n",
        "            batch_size = batch_size # Trains with this batch size.\n",
        "        )\n",
        "\n",
        "val_loader_balanced_split = DataLoader(\n",
        "            val_set, # The validation samples.\n",
        "            sampler = SequentialSampler(val_set), # Pull out batches sequentially.\n",
        "            batch_size = batch_size # Evaluate with this batch size.\n",
        "        )\n",
        "\n",
        "print('Data loaders created for train [0] and val [1]')"
      ],
      "execution_count": 19,
      "outputs": [
        {
          "output_type": "stream",
          "text": [
            "Let's check for the first text indexes, attention masks and labels\n",
            " \n",
            "Original:   Il y a actuellement seulement 7400 VIE pour 40 000 demandes annuelles. Notre objectif est d'augment\n",
            "IDs: tensor([    5,    69,   102,    33,  1344,   446,   333,  6877, 24426,    24,\n",
            "          962,   624,  3083, 19492,     9,   785,  1739,    30,    18,    11,\n",
            "         7878,    97,   365,     8,   618, 11091,   148,  2507,  2247,    72,\n",
            "            7,    65,    49,    11,    41,    34,   424,  1182,    14,  1181,\n",
            "           37,    19,  7070,     9,  6011,    26, 14177,     8,    13,   400,\n",
            "         1636,     7,    31,    48, 10296,    29,  5798,   256,     7,    76,\n",
            "           11,    73,  7191,   700,  1641,     8,   336,   147,   166,   699,\n",
            "           56,    72, 19011,    43,   334,    48,  6874,   167,   334,   747,\n",
            "           22,   285,    67,    44,    31, 22803,   194,    13,   957,   634,\n",
            "         4680,    15,    13,   285,  2028,    67,   167,   334,    48,  7629])\n",
            "Attention masks: tensor([1, 1, 1, 1, 1, 1, 1, 1, 1, 1, 1, 1, 1, 1, 1, 1, 1, 1, 1, 1, 1, 1, 1, 1,\n",
            "        1, 1, 1, 1, 1, 1, 1, 1, 1, 1, 1, 1, 1, 1, 1, 1, 1, 1, 1, 1, 1, 1, 1, 1,\n",
            "        1, 1, 1, 1, 1, 1, 1, 1, 1, 1, 1, 1, 1, 1, 1, 1, 1, 1, 1, 1, 1, 1, 1, 1,\n",
            "        1, 1, 1, 1, 1, 1, 1, 1, 1, 1, 1, 1, 1, 1, 1, 1, 1, 1, 1, 1, 1, 1, 1, 1,\n",
            "        1, 1, 1, 1])\n",
            "labels tensor(1)\n",
            "-------------------------------------------------\n",
            " \n",
            "How many texts do we have in the train and validation sample ? \n",
            " \n",
            "We have 9743 training texts\n",
            "We have 1083 validation texts\n",
            " \n",
            "-------------------------------------------------\n",
            "Data loaders created for train [0] and val [1]\n"
          ],
          "name": "stdout"
        }
      ]
    },
    {
      "cell_type": "code",
      "metadata": {
        "id": "0p-TPR1CAOlh",
        "colab_type": "code",
        "outputId": "36f1c39c-e3a3-41b6-a335-8569c97501b9",
        "colab": {
          "base_uri": "https://localhost:8080/",
          "height": 221
        }
      },
      "source": [
        "\n",
        "############################  IMPORT MODEL ################################################\n",
        "from transformers import CamembertForSequenceClassification\n",
        "gender_model = CamembertForSequenceClassification.from_pretrained(\"camembert-base\", \n",
        "                                                                  num_labels = 2, \n",
        "                                                                  output_attentions = False, \n",
        "                                                                  output_hidden_states = False, )\n",
        "\n",
        "gender_model.cuda()\n",
        "############################## RANDOM SEED ##################################################\n",
        "\n",
        "import random\n",
        "seed=seed_val\n",
        "random.seed(seed)\n",
        "np.random.seed(seed)\n",
        "torch.manual_seed(seed)\n",
        "torch.cuda.manual_seed_all(seed)\n",
        "\n",
        "############################### LEARNING RATE SCHEDULER #######################################\n",
        "\n",
        "import torch.nn as nn\n",
        "import torch.optim as optim\n",
        "from transformers import AdamW\n",
        "from transformers import get_linear_schedule_with_warmup\n",
        "\n",
        "epochs = 3 \n",
        "\n",
        "#Implements Adam algorithm with weight decay fix.\n",
        "opti = AdamW(gender_model.parameters(),\n",
        "              lr =5e-5, # learning rate (default = 1e-3)\n",
        "              eps = 1e-8 # prevents division by 0 (default = 1e-8)\n",
        "            )\n",
        "\n",
        "num_training_steps = len(train_loader_balanced_split) * epochs\n",
        "\n",
        "# Create a schedule with a learning rate that decreases linearly after linearly increasing during a warmup period (0 here)\n",
        "scheduler = get_linear_schedule_with_warmup(opti, \n",
        "                                            num_warmup_steps = 0,\n",
        "                                            num_training_steps = num_training_steps)\n",
        "\n",
        "\n",
        "for ep in range(0, epochs):\n",
        "  print('===========Starting Epoch {} / {} =============='.format(ep+1,epochs))\n",
        "  print('Training starts')\n",
        "\n",
        "  ################################### TRAINING ################################\n",
        "\n",
        "  #Put the model in training mode\n",
        "  gender_model.train()\n",
        "\n",
        "  # Set the train loss for the epoch to 0 \n",
        "  total_train_loss = 0\n",
        "\n",
        "  for step, batch in enumerate(train_loader_balanced_split):\n",
        "    # Clear gradients \n",
        "    gender_model.zero_grad() # \n",
        "\n",
        "    # Cpy the 3 batch to GPU \n",
        "    b_input_ids = batch[0].to(device)\n",
        "    b_input_mask = batch[1].to(device)\n",
        "    b_labels = batch[2].to(device)\n",
        "    \n",
        "    #return loss and logits\n",
        "    loss, logits = gender_model(b_input_ids, \n",
        "                                token_type_ids=None, \n",
        "                                attention_mask=b_input_mask, \n",
        "                                labels=b_labels) \n",
        "    \n",
        "    # Accumulate training loss for all batches \n",
        "    total_train_loss += loss.item()\n",
        "\n",
        "    #Backpropagating the gradients \n",
        "    loss.backward()\n",
        "\n",
        "    # Prevent exploding gradients problem  (forcing the gradients to be small, the parameter updates will not push the parameters too far from their previous values)\n",
        "    torch.nn.utils.clip_grad_norm_(gender_model.parameters(), 1.0)\n",
        "\n",
        "    # Update parameters \n",
        "    opti.step()\n",
        "\n",
        "    # Update learning rate schedule\n",
        "    scheduler.step()\n",
        "\n",
        "  #Calculate the average training loss over all batches  \n",
        "  avg_train_loss = total_train_loss / len(train_loader_balanced_split)\n",
        "  print(\"\")\n",
        "  print(\"  Average training loss: {0:.2f}\".format(avg_train_loss))"
      ],
      "execution_count": 20,
      "outputs": [
        {
          "output_type": "stream",
          "text": [
            "===========Starting Epoch 1 / 3 ==============\n",
            "Training starts\n",
            "\n",
            "  Average training loss: 0.49\n",
            "===========Starting Epoch 2 / 3 ==============\n",
            "Training starts\n",
            "\n",
            "  Average training loss: 0.32\n",
            "===========Starting Epoch 3 / 3 ==============\n",
            "Training starts\n",
            "\n",
            "  Average training loss: 0.20\n"
          ],
          "name": "stdout"
        }
      ]
    },
    {
      "cell_type": "code",
      "metadata": {
        "id": "ZK0OHVGupkew",
        "colab_type": "code",
        "colab": {}
      },
      "source": [
        "torch.save( gender_model, 'gender_model_train.pt')"
      ],
      "execution_count": 0,
      "outputs": []
    },
    {
      "cell_type": "code",
      "metadata": {
        "id": "x0no-TfXp8a2",
        "colab_type": "code",
        "colab": {}
      },
      "source": [
        "gender_model = torch.load('gender_model_train.pt')"
      ],
      "execution_count": 0,
      "outputs": []
    },
    {
      "cell_type": "markdown",
      "metadata": {
        "id": "yFpRse9-DAAy",
        "colab_type": "text"
      },
      "source": [
        "Let's compute some statistics on the performance of this final model"
      ]
    },
    {
      "cell_type": "markdown",
      "metadata": {
        "id": "60t946KwdjJh",
        "colab_type": "text"
      },
      "source": [
        "## Quantitative evaluation and qualitative analysis "
      ]
    },
    {
      "cell_type": "markdown",
      "metadata": {
        "id": "vYx9mKhWvsHA",
        "colab_type": "text"
      },
      "source": [
        "### Quantitative analysis of the final model"
      ]
    },
    {
      "cell_type": "code",
      "metadata": {
        "id": "oMAECbOYC_Rv",
        "colab_type": "code",
        "colab": {}
      },
      "source": [
        " def evaluation_loop(model,eval_loader): \n",
        "  # Put model in evaluation mode \n",
        "  model.eval()\n",
        "  total_eval_loss,total_pred,total_label,total_logits=[],[],[],[]\n",
        "\n",
        "  for batch in eval_loader:\n",
        "    b_input_ids = batch[0].to(device)\n",
        "    b_input_mask = batch[1].to(device)\n",
        "    b_labels = batch[2].to(device)\n",
        "\n",
        "    with torch.no_grad(): \n",
        "      loss, logits = model(b_input_ids, \n",
        "                                token_type_ids=None, \n",
        "                                attention_mask=b_input_mask,\n",
        "                                labels=b_labels)\n",
        "    #total_eval_loss += loss.item()\n",
        "\n",
        "      # Move logits and labels to CPU \n",
        "      logits = logits.detach().cpu().numpy()\n",
        "      label_ids = b_labels.to('cpu').numpy()\n",
        "      pred= np.argmax(logits, axis=1).flatten()\n",
        "      labels_flat = label_ids.flatten()\n",
        "\n",
        "    # Accumulation accuracy for all batch\n",
        "      total_pred += pred.tolist()\n",
        "\n",
        "    # Accumulation f1 for all batch\n",
        "      total_label += labels_flat.tolist()\n",
        "\n",
        "      # Logits score on positive \n",
        "      total_logits += logits.tolist()\n",
        "\n",
        "  return total_pred,total_label,total_logits"
      ],
      "execution_count": 0,
      "outputs": []
    },
    {
      "cell_type": "code",
      "metadata": {
        "id": "QLPLUSq6mWgc",
        "colab_type": "code",
        "colab": {}
      },
      "source": [
        "total_pred,total_label,total_logits =evaluation_loop(gender_model,val_loader_balanced_split)"
      ],
      "execution_count": 0,
      "outputs": []
    },
    {
      "cell_type": "code",
      "metadata": {
        "id": "Of_IfZYuEyJG",
        "colab_type": "code",
        "colab": {}
      },
      "source": [
        "def model_report(pred,label,logits):\n",
        "    \"\"\"\n",
        "        Input :\n",
        "            pred : model prediction\n",
        "        Output : \n",
        "            Classification_report + Confusion_matrix + ROC_curve + (si possible feature importance)\n",
        "    \"\"\"\n",
        "    #from sklearn\n",
        "    import seaborn as sns\n",
        "    import matplotlib.pyplot as plt\n",
        "    from sklearn.metrics import confusion_matrix, classification_report, accuracy_score, roc_auc_score, roc_curve\n",
        "    logits = [el[1] for el in total_logits]\n",
        "    pred = [i for i in total_pred]\n",
        "    label = [i for i in total_label]\n",
        "    print (\"Classification report :\")\n",
        "    print(classification_report(label,pred))\n",
        "    print (\"Accuracy : \",accuracy_score(label,pred))\n",
        "    cm = confusion_matrix(label,pred)\n",
        "    ROC = roc_auc_score(label,pred) \n",
        "    print (\"AUC : \",ROC)\n",
        "    fpr,tpr,thresholds = roc_curve(label,logits)\n",
        "    plt.figure(figsize=(12,10))\n",
        "    plt.subplot(221)\n",
        "    sns.heatmap(cm/np.sum(cm), annot=True, \n",
        "            fmt='.2%', cmap='Blues').set_title('Matrice de confusion')\n",
        "    plt.subplot(222)\n",
        "    plt.plot(fpr, tpr, 'b', label = 'AUC = %0.2f' % ROC)\n",
        "    plt.plot([0,1],[0,1],color='red')\n",
        "    plt.title('Courbe ROC')\n",
        "    plt.show()"
      ],
      "execution_count": 0,
      "outputs": []
    },
    {
      "cell_type": "code",
      "metadata": {
        "id": "kOvGlNbxOSPq",
        "colab_type": "code",
        "outputId": "035e341f-a539-443c-9cac-e7be3f79b59a",
        "colab": {
          "base_uri": "https://localhost:8080/",
          "height": 515
        }
      },
      "source": [
        "model_report(total_pred,total_label,logits)"
      ],
      "execution_count": 164,
      "outputs": [
        {
          "output_type": "stream",
          "text": [
            "Classification report :\n",
            "              precision    recall  f1-score   support\n",
            "\n",
            "           0       0.85      0.80      0.82       526\n",
            "           1       0.82      0.86      0.84       557\n",
            "\n",
            "    accuracy                           0.83      1083\n",
            "   macro avg       0.83      0.83      0.83      1083\n",
            "weighted avg       0.83      0.83      0.83      1083\n",
            "\n",
            "Accuracy :  0.8328716528162512\n",
            "AUC :  0.8320203971575045\n"
          ],
          "name": "stdout"
        },
        {
          "output_type": "display_data",
          "data": {
            "image/png": "[encoded data removed]",
            "text/plain": [
              "<Figure size 864x720 with 3 Axes>"
            ]
          },
          "metadata": {
            "tags": []
          }
        }
      ]
    },
    {
      "cell_type": "markdown",
      "metadata": {
        "id": "KqkoWqvuv0AL",
        "colab_type": "text"
      },
      "source": [
        "The model seem to be slightly more performant at predicting female speakers than male speakers. "
      ]
    },
    {
      "cell_type": "markdown",
      "metadata": {
        "id": "syd2rBrsSLro",
        "colab_type": "text"
      },
      "source": [
        "### Qualitative analysis"
      ]
    },
    {
      "cell_type": "markdown",
      "metadata": {
        "id": "z9-lOx5RR-6B",
        "colab_type": "text"
      },
      "source": [
        "We will use our development set prepared earlier "
      ]
    },
    {
      "cell_type": "code",
      "metadata": {
        "id": "35VdN-qmuDwu",
        "colab_type": "code",
        "outputId": "02e98b9b-10ee-4b8d-c121-fe8d0c9da3d6",
        "colab": {
          "base_uri": "https://localhost:8080/",
          "height": 340
        }
      },
      "source": [
        "# We prepare again the development sample for analysis \n",
        "from torch.utils.data import TensorDataset, random_split\n",
        "from torch.utils.data import DataLoader, RandomSampler, SequentialSampler\n",
        "from transformers import CamembertTokenizer\n",
        "\n",
        "texts = dev_balanced_split.Texte.values\n",
        "labels = dev_balanced_split.sexe.values\n",
        "tokenizer = CamembertTokenizer.from_pretrained('camembert-base', do_lower_case=False,padding_side='right')\n",
        "\n",
        "# Tokenize all of the sentences and map the tokens to thier word IDs.\n",
        "input_ids = []\n",
        "attention_masks = []\n",
        "num_truncated_tokens =[]\n",
        "\n",
        "for text in texts:\n",
        "  encoded_dict = tokenizer.encode_plus(\n",
        "                        text,                      # text\n",
        "                        add_special_tokens = True, # Add '[CLS]' and '[SEP]'\n",
        "                        max_length = 500,           # We choose for now a max length of 500.\n",
        "                        pad_to_max_length = True,    # Pad text to max \n",
        "                        return_attention_mask = True,   # Construct attention masks\n",
        "                        return_tensors = 'pt',     # Return pytorch tensors.\n",
        "                        return_overflowing_tokens =True, # return overflowing token information\n",
        "                  )\n",
        "    \n",
        "    # Map tokens to their id in the dictionnary \n",
        "    # We add this to our list    \n",
        "  input_ids.append(encoded_dict['input_ids'])\n",
        "\n",
        "    #num_truncated_tokens.append(encoded_dict['num_truncated_tokens'])\n",
        "    \n",
        "    # 3. Attention masks\n",
        "  attention_masks.append(encoded_dict['attention_mask'])\n",
        "\n",
        "# We convert all this into tensors in order to be able to make it work on GPU \n",
        "input_ids = torch.cat(input_ids, dim=0)\n",
        "attention_masks = torch.cat(attention_masks, dim=0)\n",
        "labels = torch.tensor(labels)\n",
        "\n",
        "# Original text and transformed tensor print \n",
        "print(\"Let's check for the first text indexes, attention masks and labels\")\n",
        "print(\" \")\n",
        "print('Original: ', texts[0][0:100])\n",
        "print('IDs:', input_ids[0][0:100])\n",
        "print('Attention masks:', attention_masks[0][0:100])\n",
        "print('labels',labels[0])\n",
        "\n",
        "# Combine all above\n",
        "dataset = TensorDataset(input_ids, attention_masks, labels)\n",
        "# We create data loaders for the train and validation dataset. \n",
        "dev_dataloader = DataLoader(\n",
        "            dataset,  # The training samples.\n",
        "            batch_size = 16, # Trains with this batch size.\n",
        "            shuffle=False\n",
        "        )"
      ],
      "execution_count": 332,
      "outputs": [
        {
          "output_type": "stream",
          "text": [
            "Let's check for the first text indexes, attention masks and labels\n",
            " \n",
            "Original:   Et c'est bien là que se noue la question essentielle, à chaque instant présente : je veux parler du\n",
            "IDs: tensor([    5,   139,    60,    11,    41,    72,   241,    27,    48, 28480,\n",
            "           13,   397,  5626,     7,    15,   251,  3334,   679,    43,    50,\n",
            "          920,   639,    25, 13495,     8,    13,   397,  4510,     9,   799,\n",
            "           82, 25122, 29372,   106,   114,    23,   262,   804,     7,    29,\n",
            "           23,  1917,    31,  6095,    14, 17400,    16,   256,     7, 19536,\n",
            "           14,  1037, 11578,    19, 18684,    10,    25,  2370,     7,     8,\n",
            "           13,  5280,    31,    82,  1860,    15,    13,   466,  1359,     8,\n",
            "         2720,    14,    28,  8037,     7,     8,    17,    11, 21940,    15,\n",
            "           13,   151, 28377,   141,    14, 31293,     7,    15,    44,   262,\n",
            "           31,    33,   380,     7,    16,   532,   695,     7,    17,    11])\n",
            "Attention masks: tensor([1, 1, 1, 1, 1, 1, 1, 1, 1, 1, 1, 1, 1, 1, 1, 1, 1, 1, 1, 1, 1, 1, 1, 1,\n",
            "        1, 1, 1, 1, 1, 1, 1, 1, 1, 1, 1, 1, 1, 1, 1, 1, 1, 1, 1, 1, 1, 1, 1, 1,\n",
            "        1, 1, 1, 1, 1, 1, 1, 1, 1, 1, 1, 1, 1, 1, 1, 1, 1, 1, 1, 1, 1, 1, 1, 1,\n",
            "        1, 1, 1, 1, 1, 1, 1, 1, 1, 1, 1, 1, 1, 1, 1, 1, 1, 1, 1, 1, 1, 1, 1, 1,\n",
            "        1, 1, 1, 1])\n",
            "labels tensor(1)\n"
          ],
          "name": "stdout"
        }
      ]
    },
    {
      "cell_type": "code",
      "metadata": {
        "id": "LXVKl1flXbkz",
        "colab_type": "code",
        "colab": {}
      },
      "source": [
        "# We make this development sample pass into the evaluation loop \n",
        "total_pred,total_labels,total_logits=evaluation_loop(gender_model,dev_dataloader)"
      ],
      "execution_count": 0,
      "outputs": []
    },
    {
      "cell_type": "code",
      "metadata": {
        "id": "xUXJqxup1gF0",
        "colab_type": "code",
        "colab": {}
      },
      "source": [
        "def dev_treatment(total_pred,total_labels,total_logits,dev_balanced_split,df):\n",
        "  ''' \n",
        "  This function takes as input the results of the models, compute some statistics and merges the results\n",
        "  with our first dataset\n",
        "\n",
        " Input : \n",
        "        model predictions, model labels, model scores, development sample and original data\n",
        " Output : \n",
        "        merged dataset\n",
        "  '''\n",
        "  # Extract the score for label 1 \n",
        "  one_score = [el[1] for el in total_logits]\n",
        "  max_score = np.max(total_logits,axis=1)\n",
        "\n",
        "  # Put everything inside a dataframe\n",
        "  results_dev=pd.DataFrame([total_labels,total_pred,one_score,max_score]).transpose()\n",
        "  results_dev.columns=['returned_labels','model_pred','one_score','max_score']\n",
        "  results_dev['WF']=pd.DataFrame([results_dev['model_pred']==results_dev['returned_labels']]).transpose()\n",
        "  results_dev['model_pred'] = results_dev['model_pred'].astype(int)\n",
        "  results_dev['returned_labels'] = results_dev['returned_labels'].astype(int)\n",
        "\n",
        "  # Merge back with the text\n",
        "  frames = [dev_balanced_split[['Texte','sexe','index_df']].reset_index(), results_dev]\n",
        "  result = pd.concat(frames,axis=1)\n",
        "\n",
        "  # We merge this dataframe to the information we had at the beginning\n",
        "  merged_results=result[['index','index_df','Texte','returned_labels','model_pred','one_score','max_score','WF']].merge(df[['Titre','Id','Theme','Prenom','Nom','Date','Tags','sexe']],how='left',left_on='index_df',right_on='Id')\n",
        "\n",
        "  return merged_results\n",
        "\n"
      ],
      "execution_count": 0,
      "outputs": []
    },
    {
      "cell_type": "code",
      "metadata": {
        "id": "NCwaMpvL2Ly2",
        "colab_type": "code",
        "colab": {}
      },
      "source": [
        "result =  dev_treatment(total_pred,total_labels,total_logits,dev_balanced_split,df)"
      ],
      "execution_count": 0,
      "outputs": []
    },
    {
      "cell_type": "code",
      "metadata": {
        "id": "TA883RZ42uh8",
        "colab_type": "code",
        "outputId": "928c90d5-0f1c-44ee-8a37-96efdf2c3b30",
        "colab": {
          "base_uri": "https://localhost:8080/",
          "height": 598
        }
      },
      "source": [
        "result.head()"
      ],
      "execution_count": 336,
      "outputs": [
        {
          "output_type": "execute_result",
          "data": {
            "text/html": [
              "<div>\n",
              "<style scoped>\n",
              "    .dataframe tbody tr th:only-of-type {\n",
              "        vertical-align: middle;\n",
              "    }\n",
              "\n",
              "    .dataframe tbody tr th {\n",
              "        vertical-align: top;\n",
              "    }\n",
              "\n",
              "    .dataframe thead th {\n",
              "        text-align: right;\n",
              "    }\n",
              "</style>\n",
              "<table border=\"1\" class=\"dataframe\">\n",
              "  <thead>\n",
              "    <tr style=\"text-align: right;\">\n",
              "      <th></th>\n",
              "      <th>index</th>\n",
              "      <th>index_df</th>\n",
              "      <th>Texte</th>\n",
              "      <th>returned_labels</th>\n",
              "      <th>model_pred</th>\n",
              "      <th>one_score</th>\n",
              "      <th>max_score</th>\n",
              "      <th>WF</th>\n",
              "      <th>Titre</th>\n",
              "      <th>Id</th>\n",
              "      <th>Theme</th>\n",
              "      <th>Prenom</th>\n",
              "      <th>Nom</th>\n",
              "      <th>Date</th>\n",
              "      <th>Tags</th>\n",
              "      <th>sexe</th>\n",
              "    </tr>\n",
              "  </thead>\n",
              "  <tbody>\n",
              "    <tr>\n",
              "      <th>0</th>\n",
              "      <td>10826</td>\n",
              "      <td>134631</td>\n",
              "      <td>Et c'est bien là que se noue la question esse...</td>\n",
              "      <td>1</td>\n",
              "      <td>1</td>\n",
              "      <td>1.427388</td>\n",
              "      <td>1.427388</td>\n",
              "      <td>True</td>\n",
              "      <td>Déclaration de Mme Catherine Trautmann, minist...</td>\n",
              "      <td>134631</td>\n",
              "      <td>Institutions</td>\n",
              "      <td>Catherine</td>\n",
              "      <td>Trautmann</td>\n",
              "      <td>1998-01-11T12:00:00Z</td>\n",
              "      <td>Justice - Droits fondamentaux,Antisémitisme</td>\n",
              "      <td>1</td>\n",
              "    </tr>\n",
              "    <tr>\n",
              "      <th>1</th>\n",
              "      <td>10827</td>\n",
              "      <td>170264</td>\n",
              "      <td>C'est un bonheur que de constater la richesse...</td>\n",
              "      <td>1</td>\n",
              "      <td>1</td>\n",
              "      <td>2.155089</td>\n",
              "      <td>2.155089</td>\n",
              "      <td>True</td>\n",
              "      <td>Déclaration de Mme Roselyne Bachelot, ministre...</td>\n",
              "      <td>170264</td>\n",
              "      <td>Société</td>\n",
              "      <td>Roselyne</td>\n",
              "      <td>Bachelot-Narquin</td>\n",
              "      <td>2007-12-11T12:00:00Z</td>\n",
              "      <td>Société - Population,Personne âgée</td>\n",
              "      <td>1</td>\n",
              "    </tr>\n",
              "    <tr>\n",
              "      <th>2</th>\n",
              "      <td>10828</td>\n",
              "      <td>192891</td>\n",
              "      <td>M. Roland Courteau. Très bien ! Mme Carole De...</td>\n",
              "      <td>1</td>\n",
              "      <td>1</td>\n",
              "      <td>2.370206</td>\n",
              "      <td>2.370206</td>\n",
              "      <td>True</td>\n",
              "      <td>Déclaration de MMe Carole Delga, secrétaire d'...</td>\n",
              "      <td>192891</td>\n",
              "      <td>Economie</td>\n",
              "      <td>Carole</td>\n",
              "      <td>Delga</td>\n",
              "      <td>2014-10-21T12:00:00Z</td>\n",
              "      <td>Vie économique,Politique économique</td>\n",
              "      <td>1</td>\n",
              "    </tr>\n",
              "    <tr>\n",
              "      <th>3</th>\n",
              "      <td>10829</td>\n",
              "      <td>177095</td>\n",
              "      <td>Mais la crise a bouleversé tous les repères. ...</td>\n",
              "      <td>1</td>\n",
              "      <td>1</td>\n",
              "      <td>0.766086</td>\n",
              "      <td>0.766086</td>\n",
              "      <td>True</td>\n",
              "      <td>Déclaration de Mme Christine Lagarde, ministre...</td>\n",
              "      <td>177095</td>\n",
              "      <td>Economie</td>\n",
              "      <td>Christine</td>\n",
              "      <td>Lagarde</td>\n",
              "      <td>2009-10-20T12:00:00Z</td>\n",
              "      <td>Finances publiques,Budget de l'Etat</td>\n",
              "      <td>1</td>\n",
              "    </tr>\n",
              "    <tr>\n",
              "      <th>4</th>\n",
              "      <td>10830</td>\n",
              "      <td>144772</td>\n",
              "      <td>Mesdames, Messieurs, j'ai souhaité, vous le s...</td>\n",
              "      <td>0</td>\n",
              "      <td>0</td>\n",
              "      <td>-1.947491</td>\n",
              "      <td>1.946521</td>\n",
              "      <td>True</td>\n",
              "      <td>Déclaration de M. Jean-François Mattei, minist...</td>\n",
              "      <td>144772</td>\n",
              "      <td>Société</td>\n",
              "      <td>Jean-François</td>\n",
              "      <td>Mattei</td>\n",
              "      <td>2003-12-10T12:00:00Z</td>\n",
              "      <td>Santé - Protection sociale,Santé publique</td>\n",
              "      <td>0</td>\n",
              "    </tr>\n",
              "  </tbody>\n",
              "</table>\n",
              "</div>"
            ],
            "text/plain": [
              "   index  index_df  ...                                         Tags  sexe\n",
              "0  10826    134631  ...  Justice - Droits fondamentaux,Antisémitisme     1\n",
              "1  10827    170264  ...           Société - Population,Personne âgée     1\n",
              "2  10828    192891  ...          Vie économique,Politique économique     1\n",
              "3  10829    177095  ...          Finances publiques,Budget de l'Etat     1\n",
              "4  10830    144772  ...    Santé - Protection sociale,Santé publique     0\n",
              "\n",
              "[5 rows x 16 columns]"
            ]
          },
          "metadata": {
            "tags": []
          },
          "execution_count": 336
        }
      ]
    },
    {
      "cell_type": "code",
      "metadata": {
        "id": "VLF9aS31dH7M",
        "colab_type": "code",
        "outputId": "352c63be-f515-4ec5-8900-6f7047c7ce73",
        "colab": {
          "base_uri": "https://localhost:8080/",
          "height": 34
        }
      },
      "source": [
        "#Which texts failed ? \n",
        "print('{0:.2f} percent of the development texts were not well classified by our model'.format(result[result.WF==False].WF.count()*100/len(result)))"
      ],
      "execution_count": 337,
      "outputs": [
        {
          "output_type": "stream",
          "text": [
            "12.54 percent of the development texts were not well classified by our model\n"
          ],
          "name": "stdout"
        }
      ]
    },
    {
      "cell_type": "markdown",
      "metadata": {
        "id": "LtVSBuEp02VL",
        "colab_type": "text"
      },
      "source": [
        "For the next step let's take some texts that were well classified and other that do not. We will take examples for all possible options : badly predicted a woman, badly predicted a man, well predicted a woman and well predicted a man. We also try to take the ones the model was really sure about. "
      ]
    },
    {
      "cell_type": "code",
      "metadata": {
        "id": "gy9_53i23Y2D",
        "colab_type": "code",
        "colab": {}
      },
      "source": [
        "top_texts_true_m=result[(result.WF==1) & (result.model_pred==0)].nlargest(10,'max_score')\n",
        "top_texts_true_f=result[(result.WF==1) & (result.model_pred==1)].nlargest(10,'max_score')\n",
        "top_texts_false_m=result[(result.WF==0) & (result.model_pred==0)].nlargest(10,'max_score')\n",
        "top_texts_false_f=result[(result.WF==0) & (result.model_pred==1)].nlargest(10,'max_score')"
      ],
      "execution_count": 0,
      "outputs": []
    },
    {
      "cell_type": "code",
      "metadata": {
        "id": "mR8fnne6KHQH",
        "colab_type": "code",
        "outputId": "0796f504-2012-4f1d-fe14-684db1328cae",
        "colab": {
          "base_uri": "https://localhost:8080/",
          "height": 1000
        }
      },
      "source": [
        "# Texts that were well classified as men \n",
        "top_texts_true_m"
      ],
      "execution_count": 339,
      "outputs": [
        {
          "output_type": "execute_result",
          "data": {
            "text/html": [
              "<div>\n",
              "<style scoped>\n",
              "    .dataframe tbody tr th:only-of-type {\n",
              "        vertical-align: middle;\n",
              "    }\n",
              "\n",
              "    .dataframe tbody tr th {\n",
              "        vertical-align: top;\n",
              "    }\n",
              "\n",
              "    .dataframe thead th {\n",
              "        text-align: right;\n",
              "    }\n",
              "</style>\n",
              "<table border=\"1\" class=\"dataframe\">\n",
              "  <thead>\n",
              "    <tr style=\"text-align: right;\">\n",
              "      <th></th>\n",
              "      <th>index</th>\n",
              "      <th>index_df</th>\n",
              "      <th>Texte</th>\n",
              "      <th>returned_labels</th>\n",
              "      <th>model_pred</th>\n",
              "      <th>one_score</th>\n",
              "      <th>max_score</th>\n",
              "      <th>WF</th>\n",
              "      <th>Titre</th>\n",
              "      <th>Id</th>\n",
              "      <th>Theme</th>\n",
              "      <th>Prenom</th>\n",
              "      <th>Nom</th>\n",
              "      <th>Date</th>\n",
              "      <th>Tags</th>\n",
              "      <th>sexe</th>\n",
              "    </tr>\n",
              "  </thead>\n",
              "  <tbody>\n",
              "    <tr>\n",
              "      <th>147</th>\n",
              "      <td>10973</td>\n",
              "      <td>140199</td>\n",
              "      <td>Je ne suis pas toujours d'accord avec monsieu...</td>\n",
              "      <td>0</td>\n",
              "      <td>0</td>\n",
              "      <td>-2.588010</td>\n",
              "      <td>2.579525</td>\n",
              "      <td>True</td>\n",
              "      <td>Déclaration de M. Jean-Pierre Raffarin, Premie...</td>\n",
              "      <td>140199</td>\n",
              "      <td>International</td>\n",
              "      <td>Jean-Pierre</td>\n",
              "      <td>Raffarin</td>\n",
              "      <td>2003-10-06T12:00:00Z</td>\n",
              "      <td>Relations internationales,Relations bilatérale...</td>\n",
              "      <td>0</td>\n",
              "    </tr>\n",
              "    <tr>\n",
              "      <th>44</th>\n",
              "      <td>10870</td>\n",
              "      <td>134262</td>\n",
              "      <td>J'ai confiance, car je connais la vitalité et...</td>\n",
              "      <td>0</td>\n",
              "      <td>0</td>\n",
              "      <td>-2.591268</td>\n",
              "      <td>2.575959</td>\n",
              "      <td>True</td>\n",
              "      <td>Discours de M. Jacques Chirac, Président de la...</td>\n",
              "      <td>134262</td>\n",
              "      <td>International,Société</td>\n",
              "      <td>Jacques</td>\n",
              "      <td>Chirac</td>\n",
              "      <td>1997-03-17T12:00:00Z</td>\n",
              "      <td>Relations internationales,Relations bilatérale...</td>\n",
              "      <td>0</td>\n",
              "    </tr>\n",
              "    <tr>\n",
              "      <th>240</th>\n",
              "      <td>11066</td>\n",
              "      <td>142205</td>\n",
              "      <td>La première de ces pistes concerne les perspe...</td>\n",
              "      <td>0</td>\n",
              "      <td>0</td>\n",
              "      <td>-2.577943</td>\n",
              "      <td>2.570937</td>\n",
              "      <td>True</td>\n",
              "      <td>Déclaration de M. Jean-Pierre Raffarin, Premie...</td>\n",
              "      <td>142205</td>\n",
              "      <td>NaN</td>\n",
              "      <td>Jean-Pierre</td>\n",
              "      <td>Raffarin</td>\n",
              "      <td>2003-12-01T12:00:00Z</td>\n",
              "      <td>NaN</td>\n",
              "      <td>0</td>\n",
              "    </tr>\n",
              "    <tr>\n",
              "      <th>281</th>\n",
              "      <td>11107</td>\n",
              "      <td>127710</td>\n",
              "      <td>De ce point de vue, notre conception est diff...</td>\n",
              "      <td>0</td>\n",
              "      <td>0</td>\n",
              "      <td>-2.563087</td>\n",
              "      <td>2.570248</td>\n",
              "      <td>True</td>\n",
              "      <td>Déclaration de M. Lionel Jospin, Premier minis...</td>\n",
              "      <td>127710</td>\n",
              "      <td>Institutions</td>\n",
              "      <td>Lionel</td>\n",
              "      <td>Jospin</td>\n",
              "      <td>2002-03-20T12:00:00Z</td>\n",
              "      <td>Citoyenneté - Elections,Personnalité politique</td>\n",
              "      <td>0</td>\n",
              "    </tr>\n",
              "    <tr>\n",
              "      <th>321</th>\n",
              "      <td>11147</td>\n",
              "      <td>186309</td>\n",
              "      <td>Mesdames, Messieurs,Dans une assemblée qui es...</td>\n",
              "      <td>0</td>\n",
              "      <td>0</td>\n",
              "      <td>-2.585277</td>\n",
              "      <td>2.564062</td>\n",
              "      <td>True</td>\n",
              "      <td>Déclaration de M. Pascal Canfin, ministre du d...</td>\n",
              "      <td>186309</td>\n",
              "      <td>International</td>\n",
              "      <td>Pascal</td>\n",
              "      <td>Canfin</td>\n",
              "      <td>2012-11-05T12:00:00Z</td>\n",
              "      <td>Relations internationales,Aide internationale</td>\n",
              "      <td>0</td>\n",
              "    </tr>\n",
              "    <tr>\n",
              "      <th>239</th>\n",
              "      <td>11065</td>\n",
              "      <td>133642</td>\n",
              "      <td>Mesdames et Messieurs, j'ai été très heureux ...</td>\n",
              "      <td>0</td>\n",
              "      <td>0</td>\n",
              "      <td>-2.569544</td>\n",
              "      <td>2.558361</td>\n",
              "      <td>True</td>\n",
              "      <td>Déclaration de M. Hervé de Charette, ministre ...</td>\n",
              "      <td>133642</td>\n",
              "      <td>International</td>\n",
              "      <td>Hervé</td>\n",
              "      <td>de Charette</td>\n",
              "      <td>1997-01-13T12:00:00Z</td>\n",
              "      <td>Relations internationales,Relations bilatérale...</td>\n",
              "      <td>0</td>\n",
              "    </tr>\n",
              "    <tr>\n",
              "      <th>11</th>\n",
              "      <td>10837</td>\n",
              "      <td>187341</td>\n",
              "      <td>Et, s'agissant des jeunes les moins qualifiés...</td>\n",
              "      <td>0</td>\n",
              "      <td>0</td>\n",
              "      <td>-2.562876</td>\n",
              "      <td>2.556654</td>\n",
              "      <td>True</td>\n",
              "      <td>Déclaration de M. Jean-Marc Ayrault, Premier m...</td>\n",
              "      <td>187341</td>\n",
              "      <td>Société</td>\n",
              "      <td>Jean-Marc</td>\n",
              "      <td>Ayrault</td>\n",
              "      <td>2013-02-28T12:00:00Z</td>\n",
              "      <td>Sciences - Numérique - I. A.,Internet</td>\n",
              "      <td>0</td>\n",
              "    </tr>\n",
              "    <tr>\n",
              "      <th>54</th>\n",
              "      <td>10880</td>\n",
              "      <td>146246</td>\n",
              "      <td>Monsieur le Président,Messieurs les Rapporteu...</td>\n",
              "      <td>0</td>\n",
              "      <td>0</td>\n",
              "      <td>-2.581499</td>\n",
              "      <td>2.555746</td>\n",
              "      <td>True</td>\n",
              "      <td>Déclaration de M. Galouzeau de Villepin, minis...</td>\n",
              "      <td>146246</td>\n",
              "      <td>Economie</td>\n",
              "      <td>Dominique</td>\n",
              "      <td>de Villepin</td>\n",
              "      <td>2004-11-16T12:00:00Z</td>\n",
              "      <td>Finances publiques,Budget de l'Etat</td>\n",
              "      <td>0</td>\n",
              "    </tr>\n",
              "    <tr>\n",
              "      <th>85</th>\n",
              "      <td>10911</td>\n",
              "      <td>144410</td>\n",
              "      <td>Monsieur le Président,Mesdames et Messieurs l...</td>\n",
              "      <td>0</td>\n",
              "      <td>0</td>\n",
              "      <td>-2.563626</td>\n",
              "      <td>2.554979</td>\n",
              "      <td>True</td>\n",
              "      <td>Déclaration de M. Michel Barnier, ministre des...</td>\n",
              "      <td>144410</td>\n",
              "      <td>International</td>\n",
              "      <td>Michel</td>\n",
              "      <td>Barnier</td>\n",
              "      <td>2004-10-19T12:00:00Z</td>\n",
              "      <td>Relations internationales,Relations bilatérale...</td>\n",
              "      <td>0</td>\n",
              "    </tr>\n",
              "    <tr>\n",
              "      <th>223</th>\n",
              "      <td>11049</td>\n",
              "      <td>183629</td>\n",
              "      <td>Ces devoirs, cette exigence, chacun d'entre v...</td>\n",
              "      <td>0</td>\n",
              "      <td>0</td>\n",
              "      <td>-2.565979</td>\n",
              "      <td>2.553955</td>\n",
              "      <td>True</td>\n",
              "      <td>Déclaration de M. Nicolas Sarkozy, Président d...</td>\n",
              "      <td>183629</td>\n",
              "      <td>Institutions</td>\n",
              "      <td>Nicolas</td>\n",
              "      <td>Sarkozy</td>\n",
              "      <td>2011-11-23T12:00:00Z</td>\n",
              "      <td>Institutions de l'Etat,Politique gouvernementale</td>\n",
              "      <td>0</td>\n",
              "    </tr>\n",
              "  </tbody>\n",
              "</table>\n",
              "</div>"
            ],
            "text/plain": [
              "     index  index_df  ...                                               Tags  sexe\n",
              "147  10973    140199  ...  Relations internationales,Relations bilatérale...     0\n",
              "44   10870    134262  ...  Relations internationales,Relations bilatérale...     0\n",
              "240  11066    142205  ...                                                NaN     0\n",
              "281  11107    127710  ...     Citoyenneté - Elections,Personnalité politique     0\n",
              "321  11147    186309  ...      Relations internationales,Aide internationale     0\n",
              "239  11065    133642  ...  Relations internationales,Relations bilatérale...     0\n",
              "11   10837    187341  ...              Sciences - Numérique - I. A.,Internet     0\n",
              "54   10880    146246  ...                Finances publiques,Budget de l'Etat     0\n",
              "85   10911    144410  ...  Relations internationales,Relations bilatérale...     0\n",
              "223  11049    183629  ...   Institutions de l'Etat,Politique gouvernementale     0\n",
              "\n",
              "[10 rows x 16 columns]"
            ]
          },
          "metadata": {
            "tags": []
          },
          "execution_count": 339
        }
      ]
    },
    {
      "cell_type": "code",
      "metadata": {
        "id": "S4MGbB9j3koA",
        "colab_type": "code",
        "outputId": "230009d4-c3a9-43fa-c3d3-b8c0a4a14d81",
        "colab": {
          "base_uri": "https://localhost:8080/",
          "height": 1000
        }
      },
      "source": [
        "# Texts that were well classified as women \n",
        "top_texts_true_f"
      ],
      "execution_count": 340,
      "outputs": [
        {
          "output_type": "execute_result",
          "data": {
            "text/html": [
              "<div>\n",
              "<style scoped>\n",
              "    .dataframe tbody tr th:only-of-type {\n",
              "        vertical-align: middle;\n",
              "    }\n",
              "\n",
              "    .dataframe tbody tr th {\n",
              "        vertical-align: top;\n",
              "    }\n",
              "\n",
              "    .dataframe thead th {\n",
              "        text-align: right;\n",
              "    }\n",
              "</style>\n",
              "<table border=\"1\" class=\"dataframe\">\n",
              "  <thead>\n",
              "    <tr style=\"text-align: right;\">\n",
              "      <th></th>\n",
              "      <th>index</th>\n",
              "      <th>index_df</th>\n",
              "      <th>Texte</th>\n",
              "      <th>returned_labels</th>\n",
              "      <th>model_pred</th>\n",
              "      <th>one_score</th>\n",
              "      <th>max_score</th>\n",
              "      <th>WF</th>\n",
              "      <th>Titre</th>\n",
              "      <th>Id</th>\n",
              "      <th>Theme</th>\n",
              "      <th>Prenom</th>\n",
              "      <th>Nom</th>\n",
              "      <th>Date</th>\n",
              "      <th>Tags</th>\n",
              "      <th>sexe</th>\n",
              "    </tr>\n",
              "  </thead>\n",
              "  <tbody>\n",
              "    <tr>\n",
              "      <th>259</th>\n",
              "      <td>11085</td>\n",
              "      <td>207242</td>\n",
              "      <td>pourquoi baisser le budget de l'inspection du...</td>\n",
              "      <td>1</td>\n",
              "      <td>1</td>\n",
              "      <td>2.427634</td>\n",
              "      <td>2.427634</td>\n",
              "      <td>True</td>\n",
              "      <td>Déclaration de Mme Muriel Pénicaud, ministre d...</td>\n",
              "      <td>207242</td>\n",
              "      <td>NaN</td>\n",
              "      <td>Muriel</td>\n",
              "      <td>Penicaud</td>\n",
              "      <td>2018-11-09T12:00:00Z</td>\n",
              "      <td>Loi</td>\n",
              "      <td>1</td>\n",
              "    </tr>\n",
              "    <tr>\n",
              "      <th>262</th>\n",
              "      <td>11088</td>\n",
              "      <td>272410</td>\n",
              "      <td>Il s'agit d'une réponse concrète et d'une pol...</td>\n",
              "      <td>1</td>\n",
              "      <td>1</td>\n",
              "      <td>2.411540</td>\n",
              "      <td>2.411540</td>\n",
              "      <td>True</td>\n",
              "      <td>Déclaration de Mme Élisabeth Borne, ministre d...</td>\n",
              "      <td>272410</td>\n",
              "      <td>Société</td>\n",
              "      <td>Elisabeth</td>\n",
              "      <td>Borne</td>\n",
              "      <td>2019-10-03T12:00:00Z</td>\n",
              "      <td>Environnement,Politique de l'environnement,Climat</td>\n",
              "      <td>1</td>\n",
              "    </tr>\n",
              "    <tr>\n",
              "      <th>204</th>\n",
              "      <td>11030</td>\n",
              "      <td>272410</td>\n",
              "      <td>En période de canicule, comme en période de v...</td>\n",
              "      <td>1</td>\n",
              "      <td>1</td>\n",
              "      <td>2.402071</td>\n",
              "      <td>2.402071</td>\n",
              "      <td>True</td>\n",
              "      <td>Déclaration de Mme Élisabeth Borne, ministre d...</td>\n",
              "      <td>272410</td>\n",
              "      <td>Société</td>\n",
              "      <td>Elisabeth</td>\n",
              "      <td>Borne</td>\n",
              "      <td>2019-10-03T12:00:00Z</td>\n",
              "      <td>Environnement,Politique de l'environnement,Climat</td>\n",
              "      <td>1</td>\n",
              "    </tr>\n",
              "    <tr>\n",
              "      <th>212</th>\n",
              "      <td>11038</td>\n",
              "      <td>269666</td>\n",
              "      <td>Jeux Olympiques et Paralympiques de 2024 Adop...</td>\n",
              "      <td>1</td>\n",
              "      <td>1</td>\n",
              "      <td>2.385171</td>\n",
              "      <td>2.385171</td>\n",
              "      <td>True</td>\n",
              "      <td>Déclaration de Mme Roxana Maracineanu, ministr...</td>\n",
              "      <td>269666</td>\n",
              "      <td>Société</td>\n",
              "      <td>Roxana</td>\n",
              "      <td>Maracineanu</td>\n",
              "      <td>2019-07-24T12:00:00Z</td>\n",
              "      <td>Société - Population,Sport</td>\n",
              "      <td>1</td>\n",
              "    </tr>\n",
              "    <tr>\n",
              "      <th>168</th>\n",
              "      <td>10994</td>\n",
              "      <td>141170</td>\n",
              "      <td>Il lui appartient donc d'affirmer sa spécific...</td>\n",
              "      <td>1</td>\n",
              "      <td>1</td>\n",
              "      <td>2.382982</td>\n",
              "      <td>2.382982</td>\n",
              "      <td>True</td>\n",
              "      <td>Déclaration de Mme Marie-George Buffet, minist...</td>\n",
              "      <td>141170</td>\n",
              "      <td>Société</td>\n",
              "      <td>Marie-George</td>\n",
              "      <td>Buffet</td>\n",
              "      <td>2000-02-01T12:00:00Z</td>\n",
              "      <td>Société - Population,Sport</td>\n",
              "      <td>1</td>\n",
              "    </tr>\n",
              "    <tr>\n",
              "      <th>14</th>\n",
              "      <td>10840</td>\n",
              "      <td>194307</td>\n",
              "      <td>Cette Charte qui favorise la confiance dans l...</td>\n",
              "      <td>1</td>\n",
              "      <td>1</td>\n",
              "      <td>2.382407</td>\n",
              "      <td>2.382407</td>\n",
              "      <td>True</td>\n",
              "      <td>Déclaration de Mme Fleur Pellerin, ministre de...</td>\n",
              "      <td>194307</td>\n",
              "      <td>Economie</td>\n",
              "      <td>Fleur</td>\n",
              "      <td>Pellerin</td>\n",
              "      <td>2015-03-23T12:00:00Z</td>\n",
              "      <td>Vie économique,Consommation</td>\n",
              "      <td>1</td>\n",
              "    </tr>\n",
              "    <tr>\n",
              "      <th>106</th>\n",
              "      <td>10932</td>\n",
              "      <td>269377</td>\n",
              "      <td>Mme la présidente. L'ordre du jour appelle la...</td>\n",
              "      <td>1</td>\n",
              "      <td>1</td>\n",
              "      <td>2.377258</td>\n",
              "      <td>2.377258</td>\n",
              "      <td>True</td>\n",
              "      <td>Déclaration de Mme Amélie de Montchalin, secré...</td>\n",
              "      <td>269377</td>\n",
              "      <td>International</td>\n",
              "      <td>Amélie</td>\n",
              "      <td>de Montchalin</td>\n",
              "      <td>2019-07-08T12:00:00Z</td>\n",
              "      <td>Europe,Luxembourg</td>\n",
              "      <td>1</td>\n",
              "    </tr>\n",
              "    <tr>\n",
              "      <th>170</th>\n",
              "      <td>10996</td>\n",
              "      <td>165099</td>\n",
              "      <td>Le rapport va de 1 à 5 pour les moins mal lot...</td>\n",
              "      <td>1</td>\n",
              "      <td>1</td>\n",
              "      <td>2.375841</td>\n",
              "      <td>2.375841</td>\n",
              "      <td>True</td>\n",
              "      <td>Déclaration de Mme Arlette Laguiller, porte-pa...</td>\n",
              "      <td>165099</td>\n",
              "      <td>Institutions</td>\n",
              "      <td>Arlette</td>\n",
              "      <td>Laguiller</td>\n",
              "      <td>2007-01-19T12:00:00Z</td>\n",
              "      <td>Citoyenneté - Elections,Parti politique,Electi...</td>\n",
              "      <td>1</td>\n",
              "    </tr>\n",
              "    <tr>\n",
              "      <th>62</th>\n",
              "      <td>10888</td>\n",
              "      <td>166255</td>\n",
              "      <td>Tous les deux procèdent pourtant à la suppres...</td>\n",
              "      <td>1</td>\n",
              "      <td>1</td>\n",
              "      <td>2.372942</td>\n",
              "      <td>2.372942</td>\n",
              "      <td>True</td>\n",
              "      <td>Déclaration de Mme Arlette Laguiller, porte-pa...</td>\n",
              "      <td>166255</td>\n",
              "      <td>Institutions</td>\n",
              "      <td>Arlette</td>\n",
              "      <td>Laguiller</td>\n",
              "      <td>2007-04-03T12:00:00Z</td>\n",
              "      <td>Citoyenneté - Elections,Election présidentiell...</td>\n",
              "      <td>1</td>\n",
              "    </tr>\n",
              "    <tr>\n",
              "      <th>47</th>\n",
              "      <td>10873</td>\n",
              "      <td>180222</td>\n",
              "      <td>Et si et seulement si, à l'issue de cette dém...</td>\n",
              "      <td>1</td>\n",
              "      <td>1</td>\n",
              "      <td>2.371567</td>\n",
              "      <td>2.371567</td>\n",
              "      <td>True</td>\n",
              "      <td>Déclaration de Mme Chantal Jouanno, secrétaire...</td>\n",
              "      <td>180222</td>\n",
              "      <td>Société</td>\n",
              "      <td>Chantal</td>\n",
              "      <td>Jouanno</td>\n",
              "      <td>2010-10-19T12:00:00Z</td>\n",
              "      <td>Environnement,Politique de l'environnement,Pro...</td>\n",
              "      <td>1</td>\n",
              "    </tr>\n",
              "  </tbody>\n",
              "</table>\n",
              "</div>"
            ],
            "text/plain": [
              "     index  index_df  ...                                               Tags  sexe\n",
              "259  11085    207242  ...                                                Loi     1\n",
              "262  11088    272410  ...  Environnement,Politique de l'environnement,Climat     1\n",
              "204  11030    272410  ...  Environnement,Politique de l'environnement,Climat     1\n",
              "212  11038    269666  ...                         Société - Population,Sport     1\n",
              "168  10994    141170  ...                         Société - Population,Sport     1\n",
              "14   10840    194307  ...                        Vie économique,Consommation     1\n",
              "106  10932    269377  ...                                  Europe,Luxembourg     1\n",
              "170  10996    165099  ...  Citoyenneté - Elections,Parti politique,Electi...     1\n",
              "62   10888    166255  ...  Citoyenneté - Elections,Election présidentiell...     1\n",
              "47   10873    180222  ...  Environnement,Politique de l'environnement,Pro...     1\n",
              "\n",
              "[10 rows x 16 columns]"
            ]
          },
          "metadata": {
            "tags": []
          },
          "execution_count": 340
        }
      ]
    },
    {
      "cell_type": "code",
      "metadata": {
        "id": "BjUtMELhzVrO",
        "colab_type": "code",
        "colab": {
          "base_uri": "https://localhost:8080/",
          "height": 1000
        },
        "outputId": "79543b07-bfaa-4d35-dc13-9c306e593ecc"
      },
      "source": [
        "# Texts that were wrongly classified as men \n",
        "top_texts_false_m"
      ],
      "execution_count": 341,
      "outputs": [
        {
          "output_type": "execute_result",
          "data": {
            "text/html": [
              "<div>\n",
              "<style scoped>\n",
              "    .dataframe tbody tr th:only-of-type {\n",
              "        vertical-align: middle;\n",
              "    }\n",
              "\n",
              "    .dataframe tbody tr th {\n",
              "        vertical-align: top;\n",
              "    }\n",
              "\n",
              "    .dataframe thead th {\n",
              "        text-align: right;\n",
              "    }\n",
              "</style>\n",
              "<table border=\"1\" class=\"dataframe\">\n",
              "  <thead>\n",
              "    <tr style=\"text-align: right;\">\n",
              "      <th></th>\n",
              "      <th>index</th>\n",
              "      <th>index_df</th>\n",
              "      <th>Texte</th>\n",
              "      <th>returned_labels</th>\n",
              "      <th>model_pred</th>\n",
              "      <th>one_score</th>\n",
              "      <th>max_score</th>\n",
              "      <th>WF</th>\n",
              "      <th>Titre</th>\n",
              "      <th>Id</th>\n",
              "      <th>Theme</th>\n",
              "      <th>Prenom</th>\n",
              "      <th>Nom</th>\n",
              "      <th>Date</th>\n",
              "      <th>Tags</th>\n",
              "      <th>sexe</th>\n",
              "    </tr>\n",
              "  </thead>\n",
              "  <tbody>\n",
              "    <tr>\n",
              "      <th>186</th>\n",
              "      <td>11012</td>\n",
              "      <td>180950</td>\n",
              "      <td>Messieurs les ministres,Madame la présidente,...</td>\n",
              "      <td>1</td>\n",
              "      <td>0</td>\n",
              "      <td>-2.295846</td>\n",
              "      <td>2.318840</td>\n",
              "      <td>False</td>\n",
              "      <td>Déclaration de Mme Christine Lagarde, ministre...</td>\n",
              "      <td>180950</td>\n",
              "      <td>Economie</td>\n",
              "      <td>Christine</td>\n",
              "      <td>Lagarde</td>\n",
              "      <td>2011-01-14T12:00:00Z</td>\n",
              "      <td>Vie économique,Politique économique</td>\n",
              "      <td>1</td>\n",
              "    </tr>\n",
              "    <tr>\n",
              "      <th>171</th>\n",
              "      <td>10997</td>\n",
              "      <td>167570</td>\n",
              "      <td>Je viens d'apprendre avec soulagement que le ...</td>\n",
              "      <td>1</td>\n",
              "      <td>0</td>\n",
              "      <td>-2.191277</td>\n",
              "      <td>2.169469</td>\n",
              "      <td>False</td>\n",
              "      <td>Déclaration de Mme Rama Yade, secrétaire d'Eta...</td>\n",
              "      <td>167570</td>\n",
              "      <td>Institutions</td>\n",
              "      <td>Rama</td>\n",
              "      <td>Yade</td>\n",
              "      <td>2007-08-30T12:00:00Z</td>\n",
              "      <td>Justice - Droits fondamentaux,Peine</td>\n",
              "      <td>1</td>\n",
              "    </tr>\n",
              "    <tr>\n",
              "      <th>120</th>\n",
              "      <td>10946</td>\n",
              "      <td>144150</td>\n",
              "      <td>Ensuite il s'étonne : \" Pourtant, écrit-il, i...</td>\n",
              "      <td>1</td>\n",
              "      <td>0</td>\n",
              "      <td>-2.057754</td>\n",
              "      <td>2.138344</td>\n",
              "      <td>False</td>\n",
              "      <td>Déclaration de Mme Marine Le Pen, vice-préside...</td>\n",
              "      <td>144150</td>\n",
              "      <td>Institutions</td>\n",
              "      <td>Marine</td>\n",
              "      <td>Le Pen</td>\n",
              "      <td>2003-11-08T12:00:00Z</td>\n",
              "      <td>Citoyenneté - Elections,Parti politique</td>\n",
              "      <td>1</td>\n",
              "    </tr>\n",
              "    <tr>\n",
              "      <th>27</th>\n",
              "      <td>10853</td>\n",
              "      <td>189103</td>\n",
              "      <td>Merci pour la qualité du travail que vous ave...</td>\n",
              "      <td>1</td>\n",
              "      <td>0</td>\n",
              "      <td>-2.003781</td>\n",
              "      <td>2.037219</td>\n",
              "      <td>False</td>\n",
              "      <td>Déclaration de Mme Christiane Taubira, garde d...</td>\n",
              "      <td>189103</td>\n",
              "      <td>NaN</td>\n",
              "      <td>Christiane</td>\n",
              "      <td>Taubira</td>\n",
              "      <td>2013-09-17T12:00:00Z</td>\n",
              "      <td>NaN</td>\n",
              "      <td>1</td>\n",
              "    </tr>\n",
              "    <tr>\n",
              "      <th>116</th>\n",
              "      <td>10942</td>\n",
              "      <td>270297</td>\n",
              "      <td>C'est donc dans cet équilibre que nous devons...</td>\n",
              "      <td>1</td>\n",
              "      <td>0</td>\n",
              "      <td>-1.931948</td>\n",
              "      <td>2.007101</td>\n",
              "      <td>False</td>\n",
              "      <td>Déclaration de Mme Nicole Belloubet, garde des...</td>\n",
              "      <td>270297</td>\n",
              "      <td>Institutions</td>\n",
              "      <td>Nicole</td>\n",
              "      <td>Belloubet</td>\n",
              "      <td>2019-03-05T12:00:00Z</td>\n",
              "      <td>Justice - Droits fondamentaux,Droit</td>\n",
              "      <td>1</td>\n",
              "    </tr>\n",
              "    <tr>\n",
              "      <th>172</th>\n",
              "      <td>10998</td>\n",
              "      <td>130641</td>\n",
              "      <td>Ces Assises veulent mettre en valeur des mili...</td>\n",
              "      <td>1</td>\n",
              "      <td>0</td>\n",
              "      <td>-1.930106</td>\n",
              "      <td>1.963277</td>\n",
              "      <td>False</td>\n",
              "      <td>Déclaration de Mme Michèle Alliot-Marie, prési...</td>\n",
              "      <td>130641</td>\n",
              "      <td>NaN</td>\n",
              "      <td>Michèle</td>\n",
              "      <td>Alliot-Marie</td>\n",
              "      <td>2000-06-17T12:00:00Z</td>\n",
              "      <td>NaN</td>\n",
              "      <td>1</td>\n",
              "    </tr>\n",
              "    <tr>\n",
              "      <th>160</th>\n",
              "      <td>10986</td>\n",
              "      <td>147261</td>\n",
              "      <td>Au-delà de la compensation financière proprem...</td>\n",
              "      <td>1</td>\n",
              "      <td>0</td>\n",
              "      <td>-1.813977</td>\n",
              "      <td>1.875399</td>\n",
              "      <td>False</td>\n",
              "      <td>Déclaration de Mme Marie-José Roig, ministre d...</td>\n",
              "      <td>147261</td>\n",
              "      <td>Institutions</td>\n",
              "      <td>Marie-Josée</td>\n",
              "      <td>Roig</td>\n",
              "      <td>2005-04-05T12:00:00Z</td>\n",
              "      <td>Administration - Réforme de l'Etat,Décentralis...</td>\n",
              "      <td>1</td>\n",
              "    </tr>\n",
              "    <tr>\n",
              "      <th>35</th>\n",
              "      <td>10861</td>\n",
              "      <td>149424</td>\n",
              "      <td>la promotion des Droits de l'Homme, la démocr...</td>\n",
              "      <td>1</td>\n",
              "      <td>0</td>\n",
              "      <td>-1.625877</td>\n",
              "      <td>1.701874</td>\n",
              "      <td>False</td>\n",
              "      <td>Déclaration de Mme Catherine Colonna, ministre...</td>\n",
              "      <td>149424</td>\n",
              "      <td>International</td>\n",
              "      <td>Catherine</td>\n",
              "      <td>Colonna</td>\n",
              "      <td>2005-10-10T12:00:00Z</td>\n",
              "      <td>Union européenne,Politique européenne de sécur...</td>\n",
              "      <td>1</td>\n",
              "    </tr>\n",
              "    <tr>\n",
              "      <th>87</th>\n",
              "      <td>10913</td>\n",
              "      <td>195136</td>\n",
              "      <td>Je souhaite à cet égard donner quelques exemp...</td>\n",
              "      <td>1</td>\n",
              "      <td>0</td>\n",
              "      <td>-1.643578</td>\n",
              "      <td>1.677818</td>\n",
              "      <td>False</td>\n",
              "      <td>Déclaration de Mme Myriam El Khomri, secrétair...</td>\n",
              "      <td>195136</td>\n",
              "      <td>Société</td>\n",
              "      <td>Myriam</td>\n",
              "      <td>El Khomri</td>\n",
              "      <td>2015-05-26T12:00:00Z</td>\n",
              "      <td>Ville - Territoires,Urbanisme</td>\n",
              "      <td>1</td>\n",
              "    </tr>\n",
              "    <tr>\n",
              "      <th>19</th>\n",
              "      <td>10845</td>\n",
              "      <td>197523</td>\n",
              "      <td>Monsieur le Secrétaire général,Madame la Dire...</td>\n",
              "      <td>1</td>\n",
              "      <td>0</td>\n",
              "      <td>-1.676022</td>\n",
              "      <td>1.665086</td>\n",
              "      <td>False</td>\n",
              "      <td>Déclaration de Mme Annick Girardin, secrétaire...</td>\n",
              "      <td>197523</td>\n",
              "      <td>International</td>\n",
              "      <td>Annick</td>\n",
              "      <td>Girardin</td>\n",
              "      <td>2016-01-07T12:00:00Z</td>\n",
              "      <td>Relations internationales,Aide internationale</td>\n",
              "      <td>1</td>\n",
              "    </tr>\n",
              "  </tbody>\n",
              "</table>\n",
              "</div>"
            ],
            "text/plain": [
              "     index  index_df  ...                                               Tags  sexe\n",
              "186  11012    180950  ...                Vie économique,Politique économique     1\n",
              "171  10997    167570  ...                Justice - Droits fondamentaux,Peine     1\n",
              "120  10946    144150  ...            Citoyenneté - Elections,Parti politique     1\n",
              "27   10853    189103  ...                                                NaN     1\n",
              "116  10942    270297  ...                Justice - Droits fondamentaux,Droit     1\n",
              "172  10998    130641  ...                                                NaN     1\n",
              "160  10986    147261  ...  Administration - Réforme de l'Etat,Décentralis...     1\n",
              "35   10861    149424  ...  Union européenne,Politique européenne de sécur...     1\n",
              "87   10913    195136  ...                      Ville - Territoires,Urbanisme     1\n",
              "19   10845    197523  ...      Relations internationales,Aide internationale     1\n",
              "\n",
              "[10 rows x 16 columns]"
            ]
          },
          "metadata": {
            "tags": []
          },
          "execution_count": 341
        }
      ]
    },
    {
      "cell_type": "code",
      "metadata": {
        "id": "cmd8NwXRzXCA",
        "colab_type": "code",
        "colab": {
          "base_uri": "https://localhost:8080/",
          "height": 1000
        },
        "outputId": "efe0e121-8102-40e0-a9a8-d06dbfc69fae"
      },
      "source": [
        "# Texts that were wrongly classified as women\n",
        "top_texts_false_f"
      ],
      "execution_count": 342,
      "outputs": [
        {
          "output_type": "execute_result",
          "data": {
            "text/html": [
              "<div>\n",
              "<style scoped>\n",
              "    .dataframe tbody tr th:only-of-type {\n",
              "        vertical-align: middle;\n",
              "    }\n",
              "\n",
              "    .dataframe tbody tr th {\n",
              "        vertical-align: top;\n",
              "    }\n",
              "\n",
              "    .dataframe thead th {\n",
              "        text-align: right;\n",
              "    }\n",
              "</style>\n",
              "<table border=\"1\" class=\"dataframe\">\n",
              "  <thead>\n",
              "    <tr style=\"text-align: right;\">\n",
              "      <th></th>\n",
              "      <th>index</th>\n",
              "      <th>index_df</th>\n",
              "      <th>Texte</th>\n",
              "      <th>returned_labels</th>\n",
              "      <th>model_pred</th>\n",
              "      <th>one_score</th>\n",
              "      <th>max_score</th>\n",
              "      <th>WF</th>\n",
              "      <th>Titre</th>\n",
              "      <th>Id</th>\n",
              "      <th>Theme</th>\n",
              "      <th>Prenom</th>\n",
              "      <th>Nom</th>\n",
              "      <th>Date</th>\n",
              "      <th>Tags</th>\n",
              "      <th>sexe</th>\n",
              "    </tr>\n",
              "  </thead>\n",
              "  <tbody>\n",
              "    <tr>\n",
              "      <th>333</th>\n",
              "      <td>11159</td>\n",
              "      <td>143412</td>\n",
              "      <td>Pourquoi ? Parce qu'il est de la plus haute i...</td>\n",
              "      <td>0</td>\n",
              "      <td>1</td>\n",
              "      <td>2.085198</td>\n",
              "      <td>2.085198</td>\n",
              "      <td>False</td>\n",
              "      <td>Déclaration de M. Christian Poncelet, présiden...</td>\n",
              "      <td>143412</td>\n",
              "      <td>Institutions</td>\n",
              "      <td>Christian</td>\n",
              "      <td>Poncelet</td>\n",
              "      <td>2004-06-15T12:00:00Z</td>\n",
              "      <td>Administration - Réforme de l'Etat,Organisme p...</td>\n",
              "      <td>0</td>\n",
              "    </tr>\n",
              "    <tr>\n",
              "      <th>110</th>\n",
              "      <td>10936</td>\n",
              "      <td>179305</td>\n",
              "      <td>il est en effet nécessaire qu'ils s'approprie...</td>\n",
              "      <td>0</td>\n",
              "      <td>1</td>\n",
              "      <td>2.071807</td>\n",
              "      <td>2.071807</td>\n",
              "      <td>False</td>\n",
              "      <td>Déclaration de M. Bernard Kouchner, ministre d...</td>\n",
              "      <td>179305</td>\n",
              "      <td>International</td>\n",
              "      <td>Bernard</td>\n",
              "      <td>Kouchner</td>\n",
              "      <td>2010-06-16T12:00:00Z</td>\n",
              "      <td>Union européenne,Institutions européennes</td>\n",
              "      <td>0</td>\n",
              "    </tr>\n",
              "    <tr>\n",
              "      <th>269</th>\n",
              "      <td>11095</td>\n",
              "      <td>192416</td>\n",
              "      <td>Mesdames et messieurs,Je vous remercie pour c...</td>\n",
              "      <td>0</td>\n",
              "      <td>1</td>\n",
              "      <td>2.065740</td>\n",
              "      <td>2.065740</td>\n",
              "      <td>False</td>\n",
              "      <td>Déclaration de M. François Rebsamen, ministre ...</td>\n",
              "      <td>192416</td>\n",
              "      <td>Economie</td>\n",
              "      <td>François</td>\n",
              "      <td>Rebsamen</td>\n",
              "      <td>2014-09-10T12:00:00Z</td>\n",
              "      <td>Vie économique,Secteur industriel</td>\n",
              "      <td>0</td>\n",
              "    </tr>\n",
              "    <tr>\n",
              "      <th>203</th>\n",
              "      <td>11029</td>\n",
              "      <td>201326</td>\n",
              "      <td>Je n'en prendrai qu'un exemple : le divorce p...</td>\n",
              "      <td>0</td>\n",
              "      <td>1</td>\n",
              "      <td>2.003410</td>\n",
              "      <td>2.003410</td>\n",
              "      <td>False</td>\n",
              "      <td>Déclaration de M. Jean-Jacques Urvoas, garde d...</td>\n",
              "      <td>201326</td>\n",
              "      <td>Institutions</td>\n",
              "      <td>Jean-Jacques</td>\n",
              "      <td>Urvoas</td>\n",
              "      <td>2016-11-25T12:00:00Z</td>\n",
              "      <td>Justice - Droits fondamentaux,Profession judic...</td>\n",
              "      <td>0</td>\n",
              "    </tr>\n",
              "    <tr>\n",
              "      <th>252</th>\n",
              "      <td>11078</td>\n",
              "      <td>179340</td>\n",
              "      <td>Monsieur le Député,Je vous prie d'excuser l'a...</td>\n",
              "      <td>0</td>\n",
              "      <td>1</td>\n",
              "      <td>1.923732</td>\n",
              "      <td>1.923732</td>\n",
              "      <td>False</td>\n",
              "      <td>Déclaration de M. Hervé Novelli, secrétaire d'...</td>\n",
              "      <td>179340</td>\n",
              "      <td>Economie</td>\n",
              "      <td>Hervé</td>\n",
              "      <td>Novelli</td>\n",
              "      <td>2010-06-22T12:00:00Z</td>\n",
              "      <td>Banque - Finance,Marché financier</td>\n",
              "      <td>0</td>\n",
              "    </tr>\n",
              "    <tr>\n",
              "      <th>142</th>\n",
              "      <td>10968</td>\n",
              "      <td>188428</td>\n",
              "      <td>La place de l'enfant et le rapport entre enfa...</td>\n",
              "      <td>0</td>\n",
              "      <td>1</td>\n",
              "      <td>1.808683</td>\n",
              "      <td>1.808683</td>\n",
              "      <td>False</td>\n",
              "      <td>Déclaration de Mme Dominique Bertinotti, minis...</td>\n",
              "      <td>188428</td>\n",
              "      <td>Société</td>\n",
              "      <td>Dominique</td>\n",
              "      <td>Bertinotti</td>\n",
              "      <td>2013-06-14T12:00:00Z</td>\n",
              "      <td>Sécurité,Maltraitance</td>\n",
              "      <td>0</td>\n",
              "    </tr>\n",
              "    <tr>\n",
              "      <th>211</th>\n",
              "      <td>11037</td>\n",
              "      <td>170519</td>\n",
              "      <td>C'est un établissement convivial, très appréc...</td>\n",
              "      <td>0</td>\n",
              "      <td>1</td>\n",
              "      <td>1.801611</td>\n",
              "      <td>1.801611</td>\n",
              "      <td>False</td>\n",
              "      <td>Déclaration de M. Lionel Jospin, Premier minis...</td>\n",
              "      <td>170519</td>\n",
              "      <td>International</td>\n",
              "      <td>Lionel</td>\n",
              "      <td>Jospin</td>\n",
              "      <td>2001-04-06T12:00:00Z</td>\n",
              "      <td>Relations internationales,Relations bilatérale...</td>\n",
              "      <td>0</td>\n",
              "    </tr>\n",
              "    <tr>\n",
              "      <th>89</th>\n",
              "      <td>10915</td>\n",
              "      <td>186717</td>\n",
              "      <td>- tout d'abord, celui de l'accessibilité des...</td>\n",
              "      <td>0</td>\n",
              "      <td>1</td>\n",
              "      <td>1.748953</td>\n",
              "      <td>1.748953</td>\n",
              "      <td>False</td>\n",
              "      <td>Déclaration de Mme George Pau-Langevin, minist...</td>\n",
              "      <td>186717</td>\n",
              "      <td>Société</td>\n",
              "      <td>George</td>\n",
              "      <td>Pau-Langevin</td>\n",
              "      <td>2012-11-13T12:00:00Z</td>\n",
              "      <td>Santé - Protection sociale,Soin médical</td>\n",
              "      <td>0</td>\n",
              "    </tr>\n",
              "    <tr>\n",
              "      <th>313</th>\n",
              "      <td>11139</td>\n",
              "      <td>181728</td>\n",
              "      <td>Mesdames et Messieurs les présidents,Mesdames...</td>\n",
              "      <td>0</td>\n",
              "      <td>1</td>\n",
              "      <td>1.485748</td>\n",
              "      <td>1.485748</td>\n",
              "      <td>False</td>\n",
              "      <td>Déclaration de M. Eric Besson ministre de l'in...</td>\n",
              "      <td>181728</td>\n",
              "      <td>Economie</td>\n",
              "      <td>Eric</td>\n",
              "      <td>Besson</td>\n",
              "      <td>2011-03-29T12:00:00Z</td>\n",
              "      <td>Energie - Transports,Politique de l'énergie</td>\n",
              "      <td>0</td>\n",
              "    </tr>\n",
              "    <tr>\n",
              "      <th>205</th>\n",
              "      <td>11031</td>\n",
              "      <td>144820</td>\n",
              "      <td>- un service d'inspection générale de l'envir...</td>\n",
              "      <td>0</td>\n",
              "      <td>1</td>\n",
              "      <td>1.068702</td>\n",
              "      <td>1.068702</td>\n",
              "      <td>False</td>\n",
              "      <td>Déclaration de Mme Dominique Voynet, ministre ...</td>\n",
              "      <td>144820</td>\n",
              "      <td>Société</td>\n",
              "      <td>Dominique</td>\n",
              "      <td>Voynet</td>\n",
              "      <td>2000-09-20T12:00:00Z</td>\n",
              "      <td>Ville - Territoires,Aménagement du territoire</td>\n",
              "      <td>0</td>\n",
              "    </tr>\n",
              "  </tbody>\n",
              "</table>\n",
              "</div>"
            ],
            "text/plain": [
              "     index  index_df  ...                                               Tags  sexe\n",
              "333  11159    143412  ...  Administration - Réforme de l'Etat,Organisme p...     0\n",
              "110  10936    179305  ...          Union européenne,Institutions européennes     0\n",
              "269  11095    192416  ...                  Vie économique,Secteur industriel     0\n",
              "203  11029    201326  ...  Justice - Droits fondamentaux,Profession judic...     0\n",
              "252  11078    179340  ...                  Banque - Finance,Marché financier     0\n",
              "142  10968    188428  ...                              Sécurité,Maltraitance     0\n",
              "211  11037    170519  ...  Relations internationales,Relations bilatérale...     0\n",
              "89   10915    186717  ...            Santé - Protection sociale,Soin médical     0\n",
              "313  11139    181728  ...        Energie - Transports,Politique de l'énergie     0\n",
              "205  11031    144820  ...      Ville - Territoires,Aménagement du territoire     0\n",
              "\n",
              "[10 rows x 16 columns]"
            ]
          },
          "metadata": {
            "tags": []
          },
          "execution_count": 342
        }
      ]
    },
    {
      "cell_type": "markdown",
      "metadata": {
        "id": "NjJlGCVmhlsW",
        "colab_type": "text"
      },
      "source": [
        "We want to dive a bit into the model and see how it makes a choice and why it fails to recognize the gender of the speaker on these sentences . Let's take some of them. We will redo point 4 of TD4 to see the score reached by each word. "
      ]
    },
    {
      "cell_type": "code",
      "metadata": {
        "id": "wQWuNom8MMcA",
        "colab_type": "code",
        "colab": {}
      },
      "source": [
        "def split_document_to_limit_phrases(MAX_TOKENS,df):\n",
        "  lst= []\n",
        "  for index,row in df.iterrows():\n",
        "    identifiant = row.Id\n",
        "    label = row.sexe\n",
        "    phrase = ''\n",
        "    for phrases in sent_detector_mano(row.Texte):\n",
        "      if len(phrase.split(' ')) + len(phrases.split(' ')) < MAX_TOKENS:\n",
        "        phrase+= \" \" + phrases\n",
        "      else:\n",
        "        lst += [(identifiant,label,phrase,len(phrase.split(' ')))]\n",
        "        phrase = ''\n",
        "    lst += [(identifiant,label,phrase,len(phrase.split(' ')))]\n",
        "    phrase = ''\n",
        "  return pd.DataFrame(lst,columns=['index_df','sexe','Texte','Length'])"
      ],
      "execution_count": 0,
      "outputs": []
    },
    {
      "cell_type": "code",
      "metadata": {
        "id": "3XKOwjLLh7u4",
        "colab_type": "code",
        "colab": {}
      },
      "source": [
        "# We split those texts into pieces of 50 tokens\n",
        "sentence_to_analyse = pd.concat([top_texts_false_m,top_texts_true_m,top_texts_true_f,top_texts_true_f]).reset_index(drop=True)\n",
        "sentence_to_analyse=split_document_to_limit_phrases(50,sentence_to_analyse)\n",
        "sentence_to_analyse=sentence_to_analyse[sentence_to_analyse.Texte!='']"
      ],
      "execution_count": 0,
      "outputs": []
    },
    {
      "cell_type": "code",
      "metadata": {
        "id": "mZLxjL043Zqv",
        "colab_type": "code",
        "outputId": "b7d25def-175d-40e7-b598-8fb59aa86e76",
        "colab": {
          "base_uri": "https://localhost:8080/",
          "height": 221
        }
      },
      "source": [
        "# Sentences we will analyze\n",
        "sentence_to_analyse.Texte"
      ],
      "execution_count": 345,
      "outputs": [
        {
          "output_type": "execute_result",
          "data": {
            "text/plain": [
              "0       Messieurs les ministres,Madame la présidente,...\n",
              "1       Voilà donc la quatrième édition des voeux que...\n",
              "3       Ce n'est donc pas le moment de fléchir et c'e...\n",
              "4       Je continuerai donc à promouvoir l'assainisse...\n",
              "5       une raison morale. C'est une question de just...\n",
              "                             ...                        \n",
              "284     Or dans le même temps la contribution des ent...\n",
              "285     La première étape a été franchie avec la créa...\n",
              "286     - Enfin, nous remettrons, en décembre, les Tr...\n",
              "287     donner une valeur à la biodiversité. Faire pr...\n",
              "288     50% de nos médicaments contiennent des élémen...\n",
              "Name: Texte, Length: 262, dtype: object"
            ]
          },
          "metadata": {
            "tags": []
          },
          "execution_count": 345
        }
      ]
    },
    {
      "cell_type": "code",
      "metadata": {
        "id": "lhu2c2MSkOmD",
        "colab_type": "code",
        "outputId": "b4824347-c717-4dcc-a917-7b5a33bca606",
        "colab": {
          "base_uri": "https://localhost:8080/",
          "height": 238
        }
      },
      "source": [
        "# We prepare again the development sample for analysis \n",
        "\n",
        "from torch.utils.data import TensorDataset, random_split\n",
        "from torch.utils.data import DataLoader, RandomSampler, SequentialSampler\n",
        "from transformers import CamembertTokenizer\n",
        "\n",
        "texts = sentence_to_analyse.Texte.values\n",
        "labels = sentence_to_analyse.sexe.values\n",
        "tokenizer = CamembertTokenizer.from_pretrained('camembert-base', do_lower_case=False,padding_side='right')\n",
        "\n",
        "input_ids = []\n",
        "attention_masks = []\n",
        "num_truncated_tokens =[]\n",
        "\n",
        "for text in texts:\n",
        "  encoded_dict = tokenizer.encode_plus(\n",
        "                        text,                      # text\n",
        "                        add_special_tokens = True, # Add '[CLS]' and '[SEP]'\n",
        "                        max_length = 60,           # We choose for now a max length of 500.\n",
        "                        pad_to_max_length = True,    # Pad text to max \n",
        "                        return_attention_mask = True,   # Construct attention masks\n",
        "                        return_tensors = 'pt',     # Return pytorch tensors.\n",
        "                        return_overflowing_tokens =True, # return overflowing token information\n",
        "                  )\n",
        "  \n",
        "  input_ids.append(encoded_dict['input_ids'])\n",
        "  attention_masks.append(encoded_dict['attention_mask'])\n",
        "\n",
        "input_ids = torch.cat(input_ids, dim=0)\n",
        "attention_masks = torch.cat(attention_masks, dim=0)\n",
        "labels = torch.tensor(labels)\n",
        "\n",
        "print(\"Let's check for the first text indexes, attention masks and labels\")\n",
        "print(\" \")\n",
        "print('Original: ', texts[1][0:100])\n",
        "print('IDs:', input_ids[1][0:100])\n",
        "print('Attention masks:', attention_masks[1][0:100])\n",
        "print('labels',labels[1])\n",
        "\n",
        "dataset = TensorDataset(input_ids, attention_masks, labels)\n",
        "\n",
        "dev_dataloader = DataLoader(\n",
        "            dataset,  # The training samples.\n",
        "            batch_size = 1, # Trains with this batch size.\n",
        "            shuffle=False\n",
        "        )"
      ],
      "execution_count": 346,
      "outputs": [
        {
          "output_type": "stream",
          "text": [
            "Let's check for the first text indexes, attention masks and labels\n",
            " \n",
            "Original:   Voilà donc la quatrième édition des voeux que je vous présente en tant que ministre de l'Économie e\n",
            "IDs: tensor([    5,  2184,   145,    13,  4390,  1533,    20, 15904,    27,    50,\n",
            "           39,   679,    22,   376,    27,   938,     8,    17,    11, 20911,\n",
            "           14,    76,    11,    73,   194,    19,  1819,    18,    11,   177,\n",
            "        15172,    24,    19,   250,    15,   894,     9,     6,     1,     1,\n",
            "            1,     1,     1,     1,     1,     1,     1,     1,     1,     1,\n",
            "            1,     1,     1,     1,     1,     1,     1,     1,     1,     1])\n",
            "Attention masks: tensor([1, 1, 1, 1, 1, 1, 1, 1, 1, 1, 1, 1, 1, 1, 1, 1, 1, 1, 1, 1, 1, 1, 1, 1,\n",
            "        1, 1, 1, 1, 1, 1, 1, 1, 1, 1, 1, 1, 1, 1, 0, 0, 0, 0, 0, 0, 0, 0, 0, 0,\n",
            "        0, 0, 0, 0, 0, 0, 0, 0, 0, 0, 0, 0])\n",
            "labels tensor(1)\n"
          ],
          "name": "stdout"
        }
      ]
    },
    {
      "cell_type": "code",
      "metadata": {
        "id": "UzsoooGrlpdC",
        "colab_type": "code",
        "colab": {}
      },
      "source": [
        "total_pred,total_labels,total_logits =evaluation_loop(gender_model,dev_dataloader)"
      ],
      "execution_count": 0,
      "outputs": []
    },
    {
      "cell_type": "code",
      "metadata": {
        "id": "pX2fdfkm89C_",
        "colab_type": "code",
        "colab": {}
      },
      "source": [
        "result_sentence =  dev_treatment(total_pred,total_labels,total_logits,sentence_to_analyse,df)"
      ],
      "execution_count": 0,
      "outputs": []
    },
    {
      "cell_type": "code",
      "metadata": {
        "id": "aTK50qJZngQW",
        "colab_type": "code",
        "outputId": "fd2800a0-aac4-4cb2-efa7-cdae8c7dbcf0",
        "colab": {
          "base_uri": "https://localhost:8080/",
          "height": 564
        }
      },
      "source": [
        "result_sentence.head()"
      ],
      "execution_count": 349,
      "outputs": [
        {
          "output_type": "execute_result",
          "data": {
            "text/html": [
              "<div>\n",
              "<style scoped>\n",
              "    .dataframe tbody tr th:only-of-type {\n",
              "        vertical-align: middle;\n",
              "    }\n",
              "\n",
              "    .dataframe tbody tr th {\n",
              "        vertical-align: top;\n",
              "    }\n",
              "\n",
              "    .dataframe thead th {\n",
              "        text-align: right;\n",
              "    }\n",
              "</style>\n",
              "<table border=\"1\" class=\"dataframe\">\n",
              "  <thead>\n",
              "    <tr style=\"text-align: right;\">\n",
              "      <th></th>\n",
              "      <th>index</th>\n",
              "      <th>index_df</th>\n",
              "      <th>Texte</th>\n",
              "      <th>returned_labels</th>\n",
              "      <th>model_pred</th>\n",
              "      <th>one_score</th>\n",
              "      <th>max_score</th>\n",
              "      <th>WF</th>\n",
              "      <th>Titre</th>\n",
              "      <th>Id</th>\n",
              "      <th>Theme</th>\n",
              "      <th>Prenom</th>\n",
              "      <th>Nom</th>\n",
              "      <th>Date</th>\n",
              "      <th>Tags</th>\n",
              "      <th>sexe</th>\n",
              "    </tr>\n",
              "  </thead>\n",
              "  <tbody>\n",
              "    <tr>\n",
              "      <th>0</th>\n",
              "      <td>0</td>\n",
              "      <td>180950</td>\n",
              "      <td>Messieurs les ministres,Madame la présidente,...</td>\n",
              "      <td>1</td>\n",
              "      <td>0</td>\n",
              "      <td>-1.700761</td>\n",
              "      <td>1.743103</td>\n",
              "      <td>False</td>\n",
              "      <td>Déclaration de Mme Christine Lagarde, ministre...</td>\n",
              "      <td>180950</td>\n",
              "      <td>Economie</td>\n",
              "      <td>Christine</td>\n",
              "      <td>Lagarde</td>\n",
              "      <td>2011-01-14T12:00:00Z</td>\n",
              "      <td>Vie économique,Politique économique</td>\n",
              "      <td>1</td>\n",
              "    </tr>\n",
              "    <tr>\n",
              "      <th>1</th>\n",
              "      <td>1</td>\n",
              "      <td>180950</td>\n",
              "      <td>Voilà donc la quatrième édition des voeux que...</td>\n",
              "      <td>1</td>\n",
              "      <td>1</td>\n",
              "      <td>0.137415</td>\n",
              "      <td>0.137415</td>\n",
              "      <td>True</td>\n",
              "      <td>Déclaration de Mme Christine Lagarde, ministre...</td>\n",
              "      <td>180950</td>\n",
              "      <td>Economie</td>\n",
              "      <td>Christine</td>\n",
              "      <td>Lagarde</td>\n",
              "      <td>2011-01-14T12:00:00Z</td>\n",
              "      <td>Vie économique,Politique économique</td>\n",
              "      <td>1</td>\n",
              "    </tr>\n",
              "    <tr>\n",
              "      <th>2</th>\n",
              "      <td>3</td>\n",
              "      <td>180950</td>\n",
              "      <td>Ce n'est donc pas le moment de fléchir et c'e...</td>\n",
              "      <td>1</td>\n",
              "      <td>1</td>\n",
              "      <td>0.869216</td>\n",
              "      <td>0.869216</td>\n",
              "      <td>True</td>\n",
              "      <td>Déclaration de Mme Christine Lagarde, ministre...</td>\n",
              "      <td>180950</td>\n",
              "      <td>Economie</td>\n",
              "      <td>Christine</td>\n",
              "      <td>Lagarde</td>\n",
              "      <td>2011-01-14T12:00:00Z</td>\n",
              "      <td>Vie économique,Politique économique</td>\n",
              "      <td>1</td>\n",
              "    </tr>\n",
              "    <tr>\n",
              "      <th>3</th>\n",
              "      <td>4</td>\n",
              "      <td>180950</td>\n",
              "      <td>Je continuerai donc à promouvoir l'assainisse...</td>\n",
              "      <td>1</td>\n",
              "      <td>0</td>\n",
              "      <td>-0.501634</td>\n",
              "      <td>0.596974</td>\n",
              "      <td>False</td>\n",
              "      <td>Déclaration de Mme Christine Lagarde, ministre...</td>\n",
              "      <td>180950</td>\n",
              "      <td>Economie</td>\n",
              "      <td>Christine</td>\n",
              "      <td>Lagarde</td>\n",
              "      <td>2011-01-14T12:00:00Z</td>\n",
              "      <td>Vie économique,Politique économique</td>\n",
              "      <td>1</td>\n",
              "    </tr>\n",
              "    <tr>\n",
              "      <th>4</th>\n",
              "      <td>5</td>\n",
              "      <td>180950</td>\n",
              "      <td>une raison morale. C'est une question de just...</td>\n",
              "      <td>1</td>\n",
              "      <td>0</td>\n",
              "      <td>-0.503998</td>\n",
              "      <td>0.593478</td>\n",
              "      <td>False</td>\n",
              "      <td>Déclaration de Mme Christine Lagarde, ministre...</td>\n",
              "      <td>180950</td>\n",
              "      <td>Economie</td>\n",
              "      <td>Christine</td>\n",
              "      <td>Lagarde</td>\n",
              "      <td>2011-01-14T12:00:00Z</td>\n",
              "      <td>Vie économique,Politique économique</td>\n",
              "      <td>1</td>\n",
              "    </tr>\n",
              "  </tbody>\n",
              "</table>\n",
              "</div>"
            ],
            "text/plain": [
              "   index  index_df  ...                                 Tags  sexe\n",
              "0      0    180950  ...  Vie économique,Politique économique     1\n",
              "1      1    180950  ...  Vie économique,Politique économique     1\n",
              "2      3    180950  ...  Vie économique,Politique économique     1\n",
              "3      4    180950  ...  Vie économique,Politique économique     1\n",
              "4      5    180950  ...  Vie économique,Politique économique     1\n",
              "\n",
              "[5 rows x 16 columns]"
            ]
          },
          "metadata": {
            "tags": []
          },
          "execution_count": 349
        }
      ]
    },
    {
      "cell_type": "code",
      "metadata": {
        "id": "hKNslucdok9J",
        "colab_type": "code",
        "outputId": "d41fe965-5a82-41be-98f4-edcdcf6de152",
        "colab": {
          "base_uri": "https://localhost:8080/",
          "height": 34
        }
      },
      "source": [
        "#How many sentences were not well classified ? \n",
        "print('{0:.2f} percent of the development texts were not well classified by our model'.format(result[result.WF==False].WF.count()*100/len(result)))"
      ],
      "execution_count": 350,
      "outputs": [
        {
          "output_type": "stream",
          "text": [
            "12.54 percent of the development texts were not well classified by our model\n"
          ],
          "name": "stdout"
        }
      ]
    },
    {
      "cell_type": "markdown",
      "metadata": {
        "id": "FUX0w67j5J1t",
        "colab_type": "text"
      },
      "source": [
        "We redo the same exercice as before. Here with our pieces of text"
      ]
    },
    {
      "cell_type": "code",
      "metadata": {
        "id": "x4z2lKZyoYf4",
        "colab_type": "code",
        "colab": {}
      },
      "source": [
        "top_sentence_true_m=result_sentence[(result_sentence.WF==1) & (result_sentence.model_pred==0)].nlargest(1,'max_score')\n",
        "top_sentence_true_f=result_sentence[(result_sentence.WF==1) & (result_sentence.model_pred==1)].nlargest(1,'max_score')\n",
        "top_sentence_false_m=result_sentence[(result_sentence.WF==0) & (result_sentence.model_pred==0)].nlargest(1,'max_score')\n",
        "top_sentence_false_f=result_sentence[(result_sentence.WF==0) & (result_sentence.model_pred==1)].nlargest(1,'max_score')"
      ],
      "execution_count": 0,
      "outputs": []
    },
    {
      "cell_type": "code",
      "metadata": {
        "id": "QpMkyg35qUnF",
        "colab_type": "code",
        "outputId": "99d39279-7ab2-44db-cb72-256cfa441d1d",
        "colab": {
          "base_uri": "https://localhost:8080/",
          "height": 185
        }
      },
      "source": [
        "top_sentence_false_m"
      ],
      "execution_count": 352,
      "outputs": [
        {
          "output_type": "execute_result",
          "data": {
            "text/html": [
              "<div>\n",
              "<style scoped>\n",
              "    .dataframe tbody tr th:only-of-type {\n",
              "        vertical-align: middle;\n",
              "    }\n",
              "\n",
              "    .dataframe tbody tr th {\n",
              "        vertical-align: top;\n",
              "    }\n",
              "\n",
              "    .dataframe thead th {\n",
              "        text-align: right;\n",
              "    }\n",
              "</style>\n",
              "<table border=\"1\" class=\"dataframe\">\n",
              "  <thead>\n",
              "    <tr style=\"text-align: right;\">\n",
              "      <th></th>\n",
              "      <th>index</th>\n",
              "      <th>index_df</th>\n",
              "      <th>Texte</th>\n",
              "      <th>returned_labels</th>\n",
              "      <th>model_pred</th>\n",
              "      <th>one_score</th>\n",
              "      <th>max_score</th>\n",
              "      <th>WF</th>\n",
              "      <th>Titre</th>\n",
              "      <th>Id</th>\n",
              "      <th>Theme</th>\n",
              "      <th>Prenom</th>\n",
              "      <th>Nom</th>\n",
              "      <th>Date</th>\n",
              "      <th>Tags</th>\n",
              "      <th>sexe</th>\n",
              "    </tr>\n",
              "  </thead>\n",
              "  <tbody>\n",
              "    <tr>\n",
              "      <th>46</th>\n",
              "      <td>51</td>\n",
              "      <td>149424</td>\n",
              "      <td>Cela dit, chacun sait bien que nous ne sommes...</td>\n",
              "      <td>1</td>\n",
              "      <td>0</td>\n",
              "      <td>-2.367369</td>\n",
              "      <td>2.386559</td>\n",
              "      <td>False</td>\n",
              "      <td>Déclaration de Mme Catherine Colonna, ministre...</td>\n",
              "      <td>149424</td>\n",
              "      <td>International</td>\n",
              "      <td>Catherine</td>\n",
              "      <td>Colonna</td>\n",
              "      <td>2005-10-10T12:00:00Z</td>\n",
              "      <td>Union européenne,Politique européenne de sécur...</td>\n",
              "      <td>1</td>\n",
              "    </tr>\n",
              "  </tbody>\n",
              "</table>\n",
              "</div>"
            ],
            "text/plain": [
              "    index  index_df  ...                                               Tags  sexe\n",
              "46     51    149424  ...  Union européenne,Politique européenne de sécur...     1\n",
              "\n",
              "[1 rows x 16 columns]"
            ]
          },
          "metadata": {
            "tags": []
          },
          "execution_count": 352
        }
      ]
    },
    {
      "cell_type": "code",
      "metadata": {
        "id": "FDqBRQHAqTog",
        "colab_type": "code",
        "outputId": "4525cd57-cc77-4061-ead9-6b6d0ae8d1e2",
        "colab": {
          "base_uri": "https://localhost:8080/",
          "height": 185
        }
      },
      "source": [
        "top_sentence_false_f"
      ],
      "execution_count": 353,
      "outputs": [
        {
          "output_type": "execute_result",
          "data": {
            "text/html": [
              "<div>\n",
              "<style scoped>\n",
              "    .dataframe tbody tr th:only-of-type {\n",
              "        vertical-align: middle;\n",
              "    }\n",
              "\n",
              "    .dataframe tbody tr th {\n",
              "        vertical-align: top;\n",
              "    }\n",
              "\n",
              "    .dataframe thead th {\n",
              "        text-align: right;\n",
              "    }\n",
              "</style>\n",
              "<table border=\"1\" class=\"dataframe\">\n",
              "  <thead>\n",
              "    <tr style=\"text-align: right;\">\n",
              "      <th></th>\n",
              "      <th>index</th>\n",
              "      <th>index_df</th>\n",
              "      <th>Texte</th>\n",
              "      <th>returned_labels</th>\n",
              "      <th>model_pred</th>\n",
              "      <th>one_score</th>\n",
              "      <th>max_score</th>\n",
              "      <th>WF</th>\n",
              "      <th>Titre</th>\n",
              "      <th>Id</th>\n",
              "      <th>Theme</th>\n",
              "      <th>Prenom</th>\n",
              "      <th>Nom</th>\n",
              "      <th>Date</th>\n",
              "      <th>Tags</th>\n",
              "      <th>sexe</th>\n",
              "    </tr>\n",
              "  </thead>\n",
              "  <tbody>\n",
              "    <tr>\n",
              "      <th>87</th>\n",
              "      <td>99</td>\n",
              "      <td>186309</td>\n",
              "      <td>Je voulais évidemment remercier celles et ceu...</td>\n",
              "      <td>0</td>\n",
              "      <td>1</td>\n",
              "      <td>1.436703</td>\n",
              "      <td>1.436703</td>\n",
              "      <td>False</td>\n",
              "      <td>Déclaration de M. Pascal Canfin, ministre du d...</td>\n",
              "      <td>186309</td>\n",
              "      <td>International</td>\n",
              "      <td>Pascal</td>\n",
              "      <td>Canfin</td>\n",
              "      <td>2012-11-05T12:00:00Z</td>\n",
              "      <td>Relations internationales,Aide internationale</td>\n",
              "      <td>0</td>\n",
              "    </tr>\n",
              "  </tbody>\n",
              "</table>\n",
              "</div>"
            ],
            "text/plain": [
              "    index  index_df  ...                                           Tags  sexe\n",
              "87     99    186309  ...  Relations internationales,Aide internationale     0\n",
              "\n",
              "[1 rows x 16 columns]"
            ]
          },
          "metadata": {
            "tags": []
          },
          "execution_count": 353
        }
      ]
    },
    {
      "cell_type": "code",
      "metadata": {
        "id": "eJMWoOkh0ZqM",
        "colab_type": "code",
        "colab": {
          "base_uri": "https://localhost:8080/",
          "height": 168
        },
        "outputId": "5f15543a-47e4-40a8-a864-85d70589d8c1"
      },
      "source": [
        "top_sentence_true_m"
      ],
      "execution_count": 354,
      "outputs": [
        {
          "output_type": "execute_result",
          "data": {
            "text/html": [
              "<div>\n",
              "<style scoped>\n",
              "    .dataframe tbody tr th:only-of-type {\n",
              "        vertical-align: middle;\n",
              "    }\n",
              "\n",
              "    .dataframe tbody tr th {\n",
              "        vertical-align: top;\n",
              "    }\n",
              "\n",
              "    .dataframe thead th {\n",
              "        text-align: right;\n",
              "    }\n",
              "</style>\n",
              "<table border=\"1\" class=\"dataframe\">\n",
              "  <thead>\n",
              "    <tr style=\"text-align: right;\">\n",
              "      <th></th>\n",
              "      <th>index</th>\n",
              "      <th>index_df</th>\n",
              "      <th>Texte</th>\n",
              "      <th>returned_labels</th>\n",
              "      <th>model_pred</th>\n",
              "      <th>one_score</th>\n",
              "      <th>max_score</th>\n",
              "      <th>WF</th>\n",
              "      <th>Titre</th>\n",
              "      <th>Id</th>\n",
              "      <th>Theme</th>\n",
              "      <th>Prenom</th>\n",
              "      <th>Nom</th>\n",
              "      <th>Date</th>\n",
              "      <th>Tags</th>\n",
              "      <th>sexe</th>\n",
              "    </tr>\n",
              "  </thead>\n",
              "  <tbody>\n",
              "    <tr>\n",
              "      <th>91</th>\n",
              "      <td>104</td>\n",
              "      <td>133642</td>\n",
              "      <td>Mesdames et Messieurs, j'ai été très heureux ...</td>\n",
              "      <td>0</td>\n",
              "      <td>0</td>\n",
              "      <td>-2.577547</td>\n",
              "      <td>2.557751</td>\n",
              "      <td>True</td>\n",
              "      <td>Déclaration de M. Hervé de Charette, ministre ...</td>\n",
              "      <td>133642</td>\n",
              "      <td>International</td>\n",
              "      <td>Hervé</td>\n",
              "      <td>de Charette</td>\n",
              "      <td>1997-01-13T12:00:00Z</td>\n",
              "      <td>Relations internationales,Relations bilatérale...</td>\n",
              "      <td>0</td>\n",
              "    </tr>\n",
              "  </tbody>\n",
              "</table>\n",
              "</div>"
            ],
            "text/plain": [
              "    index  index_df  ...                                               Tags  sexe\n",
              "91    104    133642  ...  Relations internationales,Relations bilatérale...     0\n",
              "\n",
              "[1 rows x 16 columns]"
            ]
          },
          "metadata": {
            "tags": []
          },
          "execution_count": 354
        }
      ]
    },
    {
      "cell_type": "code",
      "metadata": {
        "id": "ewrV4UeJ0br2",
        "colab_type": "code",
        "colab": {
          "base_uri": "https://localhost:8080/",
          "height": 185
        },
        "outputId": "8e5bcff9-71d0-4e4e-ff70-74c95a9d27b5"
      },
      "source": [
        "top_sentence_true_f"
      ],
      "execution_count": 355,
      "outputs": [
        {
          "output_type": "execute_result",
          "data": {
            "text/html": [
              "<div>\n",
              "<style scoped>\n",
              "    .dataframe tbody tr th:only-of-type {\n",
              "        vertical-align: middle;\n",
              "    }\n",
              "\n",
              "    .dataframe tbody tr th {\n",
              "        vertical-align: top;\n",
              "    }\n",
              "\n",
              "    .dataframe thead th {\n",
              "        text-align: right;\n",
              "    }\n",
              "</style>\n",
              "<table border=\"1\" class=\"dataframe\">\n",
              "  <thead>\n",
              "    <tr style=\"text-align: right;\">\n",
              "      <th></th>\n",
              "      <th>index</th>\n",
              "      <th>index_df</th>\n",
              "      <th>Texte</th>\n",
              "      <th>returned_labels</th>\n",
              "      <th>model_pred</th>\n",
              "      <th>one_score</th>\n",
              "      <th>max_score</th>\n",
              "      <th>WF</th>\n",
              "      <th>Titre</th>\n",
              "      <th>Id</th>\n",
              "      <th>Theme</th>\n",
              "      <th>Prenom</th>\n",
              "      <th>Nom</th>\n",
              "      <th>Date</th>\n",
              "      <th>Tags</th>\n",
              "      <th>sexe</th>\n",
              "    </tr>\n",
              "  </thead>\n",
              "  <tbody>\n",
              "    <tr>\n",
              "      <th>145</th>\n",
              "      <td>163</td>\n",
              "      <td>272410</td>\n",
              "      <td>M. le président. La parole est à Mme la minis...</td>\n",
              "      <td>1</td>\n",
              "      <td>1</td>\n",
              "      <td>2.422941</td>\n",
              "      <td>2.422941</td>\n",
              "      <td>True</td>\n",
              "      <td>Déclaration de Mme Élisabeth Borne, ministre d...</td>\n",
              "      <td>272410</td>\n",
              "      <td>Société</td>\n",
              "      <td>Elisabeth</td>\n",
              "      <td>Borne</td>\n",
              "      <td>2019-10-03T12:00:00Z</td>\n",
              "      <td>Environnement,Politique de l'environnement,Climat</td>\n",
              "      <td>1</td>\n",
              "    </tr>\n",
              "  </tbody>\n",
              "</table>\n",
              "</div>"
            ],
            "text/plain": [
              "     index  index_df  ...                                               Tags  sexe\n",
              "145    163    272410  ...  Environnement,Politique de l'environnement,Climat     1\n",
              "\n",
              "[1 rows x 16 columns]"
            ]
          },
          "metadata": {
            "tags": []
          },
          "execution_count": 355
        }
      ]
    },
    {
      "cell_type": "code",
      "metadata": {
        "id": "CqDo-uLY7R_M",
        "colab_type": "code",
        "colab": {}
      },
      "source": [
        "words_to_analyse = pd.concat([top_sentence_false_m,top_sentence_true_m,top_sentence_false_f,top_sentence_true_f]).reset_index(drop=True)\n",
        "words_to_analyse.insert(2, \"type_fail\", ['false_m','true_m','false_f','true_f'], True) "
      ],
      "execution_count": 0,
      "outputs": []
    },
    {
      "cell_type": "code",
      "metadata": {
        "id": "la04asKH6Tqj",
        "colab_type": "code",
        "colab": {}
      },
      "source": [
        "# We split those sentences into words\n",
        "lst= []\n",
        "for index,row in words_to_analyse.iterrows():\n",
        "  identifiant = row.index_df\n",
        "  label = row.sexe\n",
        "  type_fail = row.type_fail\n",
        "  phrase = []\n",
        "  for token in row.Texte.split(' '):\n",
        "      lst += [(identifiant,label,token,type_fail)]"
      ],
      "execution_count": 0,
      "outputs": []
    },
    {
      "cell_type": "code",
      "metadata": {
        "id": "969R9ae06iAZ",
        "colab_type": "code",
        "colab": {}
      },
      "source": [
        "words_to_analyse=pd.DataFrame(lst,columns=['index_df','sexe','Texte','type_fail'])\n",
        "words_to_analyse=words_to_analyse[words_to_analyse.Texte!='']"
      ],
      "execution_count": 0,
      "outputs": []
    },
    {
      "cell_type": "code",
      "metadata": {
        "id": "IUyDuca0fRlL",
        "colab_type": "code",
        "outputId": "fe4f6937-24fa-486a-e91e-66802c82241d",
        "colab": {
          "base_uri": "https://localhost:8080/",
          "height": 204
        }
      },
      "source": [
        "words_to_analyse=words_to_analyse[words_to_analyse.Texte!='']\n",
        "words_to_analyse.head()"
      ],
      "execution_count": 359,
      "outputs": [
        {
          "output_type": "execute_result",
          "data": {
            "text/html": [
              "<div>\n",
              "<style scoped>\n",
              "    .dataframe tbody tr th:only-of-type {\n",
              "        vertical-align: middle;\n",
              "    }\n",
              "\n",
              "    .dataframe tbody tr th {\n",
              "        vertical-align: top;\n",
              "    }\n",
              "\n",
              "    .dataframe thead th {\n",
              "        text-align: right;\n",
              "    }\n",
              "</style>\n",
              "<table border=\"1\" class=\"dataframe\">\n",
              "  <thead>\n",
              "    <tr style=\"text-align: right;\">\n",
              "      <th></th>\n",
              "      <th>index_df</th>\n",
              "      <th>sexe</th>\n",
              "      <th>Texte</th>\n",
              "      <th>type_fail</th>\n",
              "    </tr>\n",
              "  </thead>\n",
              "  <tbody>\n",
              "    <tr>\n",
              "      <th>1</th>\n",
              "      <td>149424</td>\n",
              "      <td>1</td>\n",
              "      <td>Cela</td>\n",
              "      <td>false_m</td>\n",
              "    </tr>\n",
              "    <tr>\n",
              "      <th>2</th>\n",
              "      <td>149424</td>\n",
              "      <td>1</td>\n",
              "      <td>dit,</td>\n",
              "      <td>false_m</td>\n",
              "    </tr>\n",
              "    <tr>\n",
              "      <th>3</th>\n",
              "      <td>149424</td>\n",
              "      <td>1</td>\n",
              "      <td>chacun</td>\n",
              "      <td>false_m</td>\n",
              "    </tr>\n",
              "    <tr>\n",
              "      <th>4</th>\n",
              "      <td>149424</td>\n",
              "      <td>1</td>\n",
              "      <td>sait</td>\n",
              "      <td>false_m</td>\n",
              "    </tr>\n",
              "    <tr>\n",
              "      <th>5</th>\n",
              "      <td>149424</td>\n",
              "      <td>1</td>\n",
              "      <td>bien</td>\n",
              "      <td>false_m</td>\n",
              "    </tr>\n",
              "  </tbody>\n",
              "</table>\n",
              "</div>"
            ],
            "text/plain": [
              "   index_df  sexe   Texte type_fail\n",
              "1    149424     1    Cela   false_m\n",
              "2    149424     1    dit,   false_m\n",
              "3    149424     1  chacun   false_m\n",
              "4    149424     1    sait   false_m\n",
              "5    149424     1    bien   false_m"
            ]
          },
          "metadata": {
            "tags": []
          },
          "execution_count": 359
        }
      ]
    },
    {
      "cell_type": "code",
      "metadata": {
        "id": "1Psom5Gizsjr",
        "colab_type": "code",
        "outputId": "e3957005-d2d9-453c-be33-2b035f4eada8",
        "colab": {
          "base_uri": "https://localhost:8080/",
          "height": 119
        }
      },
      "source": [
        "# We prepare again the development sample for analysis \n",
        "\n",
        "from torch.utils.data import TensorDataset, random_split\n",
        "from torch.utils.data import DataLoader, RandomSampler, SequentialSampler\n",
        "from transformers import CamembertTokenizer\n",
        "\n",
        "texts = words_to_analyse.Texte.values\n",
        "labels = words_to_analyse.sexe.values\n",
        "tokenizer = CamembertTokenizer.from_pretrained('camembert-base', do_lower_case=False,padding_side='right')\n",
        "\n",
        "# Tokenize all of the sentences and map the tokens to thier word IDs.\n",
        "input_ids = []\n",
        "attention_masks = []\n",
        "num_truncated_tokens =[]\n",
        "\n",
        "for text in texts:\n",
        "  encoded_dict = tokenizer.encode_plus(\n",
        "                        text,                      # text\n",
        "                        add_special_tokens = True, # Add '[CLS]' and '[SEP]'\n",
        "                        max_length = 5,           # We choose for now a max length of 500.\n",
        "                        pad_to_max_length = True,    # Pad text to max \n",
        "                        return_attention_mask = True,   # Construct attention masks\n",
        "                        return_tensors = 'pt',     # Return pytorch tensors.\n",
        "                        return_overflowing_tokens =True, # return overflowing token information\n",
        "                  )\n",
        "    \n",
        "    # Map tokens to their id in the dictionnary \n",
        "    # We add this to our list    \n",
        "  input_ids.append(encoded_dict['input_ids'])\n",
        "\n",
        "    #num_truncated_tokens.append(encoded_dict['num_truncated_tokens'])\n",
        "    \n",
        "    # 3. Attention masks\n",
        "  attention_masks.append(encoded_dict['attention_mask'])\n",
        "\n",
        "# We convert all this into tensors in order to be able to make it work on GPU \n",
        "input_ids = torch.cat(input_ids, dim=0)\n",
        "attention_masks = torch.cat(attention_masks, dim=0)\n",
        "labels = torch.tensor(labels)\n",
        "\n",
        "# Original text and transformed tensor print \n",
        "print(\"Let's check for the first text indexes, attention masks and labels\")\n",
        "print(\" \")\n",
        "print('Original: ', texts[0][0:100])\n",
        "print('IDs:', input_ids[0][0:100])\n",
        "print('Attention masks:', attention_masks[0][0:100])\n",
        "print('labels',labels[0])\n",
        "\n",
        "# Combine all above\n",
        "dataset = TensorDataset(input_ids, attention_masks, labels)\n",
        "# We create data loaders for the train and validation dataset. \n",
        "dev_dataloader = DataLoader(\n",
        "            dataset,  # The training samples.\n",
        "            batch_size = 1, # Trains with this batch size.\n",
        "            shuffle=False\n",
        "        )"
      ],
      "execution_count": 360,
      "outputs": [
        {
          "output_type": "stream",
          "text": [
            "Let's check for the first text indexes, attention masks and labels\n",
            " \n",
            "Original:  Cela\n",
            "IDs: tensor([  5, 683,   6,   1,   1])\n",
            "Attention masks: tensor([1, 1, 1, 0, 0])\n",
            "labels tensor(1)\n"
          ],
          "name": "stdout"
        }
      ]
    },
    {
      "cell_type": "code",
      "metadata": {
        "id": "YWOre462zer-",
        "colab_type": "code",
        "colab": {}
      },
      "source": [
        "total_pred,total_labels,total_logits =evaluation_loop(gender_model,dev_dataloader)"
      ],
      "execution_count": 0,
      "outputs": []
    },
    {
      "cell_type": "code",
      "metadata": {
        "id": "TkFcDyDx59EF",
        "colab_type": "code",
        "colab": {}
      },
      "source": [
        "result_words =  dev_treatment(total_pred,total_labels,total_logits,words_to_analyse,df)"
      ],
      "execution_count": 0,
      "outputs": []
    },
    {
      "cell_type": "code",
      "metadata": {
        "id": "s5U82xvk6EKE",
        "colab_type": "code",
        "colab": {}
      },
      "source": [
        "type_fail = ['top_sentence_false_m','top_sentence_true_m','top_sentence_false_f','top_sentence_true_f']\n",
        "identifier = list(result_words.Id.unique())"
      ],
      "execution_count": 0,
      "outputs": []
    },
    {
      "cell_type": "code",
      "metadata": {
        "id": "n4_4pfWu_CBi",
        "colab_type": "code",
        "colab": {
          "base_uri": "https://localhost:8080/",
          "height": 32
        },
        "outputId": "e4e66173-6462-4f9c-ebdd-7c8a2c31b051"
      },
      "source": [
        "df_plot_false_m"
      ],
      "execution_count": 378,
      "outputs": [
        {
          "output_type": "execute_result",
          "data": {
            "text/html": [
              "<div>\n",
              "<style scoped>\n",
              "    .dataframe tbody tr th:only-of-type {\n",
              "        vertical-align: middle;\n",
              "    }\n",
              "\n",
              "    .dataframe tbody tr th {\n",
              "        vertical-align: top;\n",
              "    }\n",
              "\n",
              "    .dataframe thead th {\n",
              "        text-align: right;\n",
              "    }\n",
              "</style>\n",
              "<table border=\"1\" class=\"dataframe\">\n",
              "  <thead>\n",
              "    <tr style=\"text-align: right;\">\n",
              "      <th></th>\n",
              "    </tr>\n",
              "  </thead>\n",
              "  <tbody>\n",
              "  </tbody>\n",
              "</table>\n",
              "</div>"
            ],
            "text/plain": [
              "Empty DataFrame\n",
              "Columns: []\n",
              "Index: []"
            ]
          },
          "metadata": {
            "tags": []
          },
          "execution_count": 378
        }
      ]
    },
    {
      "cell_type": "code",
      "metadata": {
        "id": "kMNWpWTj90zD",
        "colab_type": "code",
        "colab": {}
      },
      "source": [
        ""
      ],
      "execution_count": 0,
      "outputs": []
    },
    {
      "cell_type": "code",
      "metadata": {
        "id": "T7pykpuA--9-",
        "colab_type": "code",
        "colab": {}
      },
      "source": [
        "scores = [i for i in result_words[result_words.index_df==149424].one_score]\n",
        "df_plot_false_m=pd.DataFrame(scores).transpose()\n",
        "df_plot_false_m.columns=list(result_words[result_words.index_df==149424].Texte)\n",
        "scores = [i for i in result_words[result_words.index_df==identifier[1]].one_score]\n",
        "df_plot_true_m=pd.DataFrame(scores).transpose()\n",
        "df_plot_true_m.columns=list(result_words[result_words.index_df==identifier[1]].Texte)\n",
        "scores = [i for i in result_words[result_words.index_df==identifier[2]].one_score]\n",
        "df_plot_false_f=pd.DataFrame(scores).transpose()\n",
        "df_plot_false_f.columns=list(result_words[result_words.index_df==identifier[2]].Texte)\n",
        "scores = [i for i in result_words[result_words.index_df==identifier[3]].one_score]\n",
        "df_plot_true_f=pd.DataFrame(scores).transpose()\n",
        "df_plot_true_f.columns=list(result_words[result_words.index_df==identifier[3]].Texte)\n"
      ],
      "execution_count": 0,
      "outputs": []
    },
    {
      "cell_type": "code",
      "metadata": {
        "id": "An5aj7P01dCD",
        "colab_type": "code",
        "outputId": "5532849c-3207-4c59-99cd-f69499e01cef",
        "colab": {
          "base_uri": "https://localhost:8080/",
          "height": 278
        }
      },
      "source": [
        "import seaborn as sns\n",
        "import pandas as pd\n",
        "import numpy as np\n",
        "import matplotlib.pyplot as plt\n",
        "\n",
        "fig = plt.figure(figsize=(25,5))\n",
        "\n",
        "#  heatmap - female subplot\n",
        "fig.add_subplot(221)\n",
        "plt.title('Well predict a female speaker', fontsize=14)\n",
        "sns.heatmap(df_plot_true_f, annot=False, fmt='.2f',vmin=-3,vmax=1)\n",
        "\n",
        "#  heatmap - male subplot\n",
        "fig.add_subplot(222)\n",
        "plt.title('Wrongly predicted male speaker', fontsize=14)\n",
        "sns.heatmap(df_plot_false_m, annot=False, fmt='.2f',vmin=-3,vmax=1 )\n",
        "\n",
        "#  heatmap - male subplot\n",
        "fig.add_subplot(223)\n",
        "plt.title('Wrongly predict a female speaker', fontsize=14)\n",
        "sns.heatmap(df_plot_false_f, annot=False, fmt='.2f',vmin=-3,vmax=1 )\n",
        "\n",
        "#  heatmap - male subplot\n",
        "fig.add_subplot(224)\n",
        "plt.title('Well predict a male speaker', fontsize=14)\n",
        "sns.heatmap(df_plot_true_m, annot=False, fmt='.2f',vmin=-3,vmax=1 )\n",
        "\n",
        "fig.tight_layout()\n",
        "plt.show()\n"
      ],
      "execution_count": 388,
      "outputs": [
        {
          "output_type": "display_data",
          "data": {
            "image/png": "[encoded data removed]",
            "text/plain": [
              "<Figure size 1800x360 with 8 Axes>"
            ]
          },
          "metadata": {
            "tags": []
          }
        }
      ]
    },
    {
      "cell_type": "code",
      "metadata": {
        "id": "-B9p_L0kic4e",
        "colab_type": "code",
        "colab": {
          "base_uri": "https://localhost:8080/",
          "height": 232
        },
        "outputId": "3fb0891b-4dc9-4f3e-bc25-0e69bea1354a"
      },
      "source": [
        "\n",
        "\n",
        "cbar_ax = fig.add_axes([.91,.3,.03,.4])\n",
        "sns.heatmap(pd1.corr(),ax=ax0,cbar=True,vmin=-1,vmax=1,cbar_ax = cbar_ax)\n",
        "ax0.set_title('title1')\n",
        "sns.heatmap(pd2.corr(),ax=ax1,cbar=True,vmin=-1,vmax=1,cbar_ax = cbar_ax)\n",
        "ax1.set_title('title 2')\n",
        "fig.suptitle('big title',fontsize=20)\n",
        "#saving figure for publication if needed\n",
        "plt.savefig('save.tif', dpi=300)\n",
        "plt.show()\n",
        "cbar_ax = fig.add_axes([.91,.3,.03,.4])\n",
        "\n"
      ],
      "execution_count": 257,
      "outputs": [
        {
          "output_type": "error",
          "ename": "NameError",
          "evalue": "ignored",
          "traceback": [
            "\u001b[0;31m---------------------------------------------------------------------------\u001b[0m",
            "\u001b[0;31mNameError\u001b[0m                                 Traceback (most recent call last)",
            "\u001b[0;32m<ipython-input-257-0b7e67883148>\u001b[0m in \u001b[0;36m<module>\u001b[0;34m()\u001b[0m\n\u001b[1;32m      2\u001b[0m \u001b[0;34m\u001b[0m\u001b[0m\n\u001b[1;32m      3\u001b[0m \u001b[0mcbar_ax\u001b[0m \u001b[0;34m=\u001b[0m \u001b[0mfig\u001b[0m\u001b[0;34m.\u001b[0m\u001b[0madd_axes\u001b[0m\u001b[0;34m(\u001b[0m\u001b[0;34m[\u001b[0m\u001b[0;36m.91\u001b[0m\u001b[0;34m,\u001b[0m\u001b[0;36m.3\u001b[0m\u001b[0;34m,\u001b[0m\u001b[0;36m.03\u001b[0m\u001b[0;34m,\u001b[0m\u001b[0;36m.4\u001b[0m\u001b[0;34m]\u001b[0m\u001b[0;34m)\u001b[0m\u001b[0;34m\u001b[0m\u001b[0;34m\u001b[0m\u001b[0m\n\u001b[0;32m----> 4\u001b[0;31m \u001b[0msns\u001b[0m\u001b[0;34m.\u001b[0m\u001b[0mheatmap\u001b[0m\u001b[0;34m(\u001b[0m\u001b[0mpd1\u001b[0m\u001b[0;34m.\u001b[0m\u001b[0mcorr\u001b[0m\u001b[0;34m(\u001b[0m\u001b[0;34m)\u001b[0m\u001b[0;34m,\u001b[0m\u001b[0max\u001b[0m\u001b[0;34m=\u001b[0m\u001b[0max0\u001b[0m\u001b[0;34m,\u001b[0m\u001b[0mcbar\u001b[0m\u001b[0;34m=\u001b[0m\u001b[0;32mTrue\u001b[0m\u001b[0;34m,\u001b[0m\u001b[0mvmin\u001b[0m\u001b[0;34m=\u001b[0m\u001b[0;34m-\u001b[0m\u001b[0;36m1\u001b[0m\u001b[0;34m,\u001b[0m\u001b[0mvmax\u001b[0m\u001b[0;34m=\u001b[0m\u001b[0;36m1\u001b[0m\u001b[0;34m,\u001b[0m\u001b[0mcbar_ax\u001b[0m \u001b[0;34m=\u001b[0m \u001b[0mcbar_ax\u001b[0m\u001b[0;34m)\u001b[0m\u001b[0;34m\u001b[0m\u001b[0;34m\u001b[0m\u001b[0m\n\u001b[0m\u001b[1;32m      5\u001b[0m \u001b[0max0\u001b[0m\u001b[0;34m.\u001b[0m\u001b[0mset_title\u001b[0m\u001b[0;34m(\u001b[0m\u001b[0;34m'title1'\u001b[0m\u001b[0;34m)\u001b[0m\u001b[0;34m\u001b[0m\u001b[0;34m\u001b[0m\u001b[0m\n\u001b[1;32m      6\u001b[0m \u001b[0msns\u001b[0m\u001b[0;34m.\u001b[0m\u001b[0mheatmap\u001b[0m\u001b[0;34m(\u001b[0m\u001b[0mpd2\u001b[0m\u001b[0;34m.\u001b[0m\u001b[0mcorr\u001b[0m\u001b[0;34m(\u001b[0m\u001b[0;34m)\u001b[0m\u001b[0;34m,\u001b[0m\u001b[0max\u001b[0m\u001b[0;34m=\u001b[0m\u001b[0max1\u001b[0m\u001b[0;34m,\u001b[0m\u001b[0mcbar\u001b[0m\u001b[0;34m=\u001b[0m\u001b[0;32mTrue\u001b[0m\u001b[0;34m,\u001b[0m\u001b[0mvmin\u001b[0m\u001b[0;34m=\u001b[0m\u001b[0;34m-\u001b[0m\u001b[0;36m1\u001b[0m\u001b[0;34m,\u001b[0m\u001b[0mvmax\u001b[0m\u001b[0;34m=\u001b[0m\u001b[0;36m1\u001b[0m\u001b[0;34m,\u001b[0m\u001b[0mcbar_ax\u001b[0m \u001b[0;34m=\u001b[0m \u001b[0mcbar_ax\u001b[0m\u001b[0;34m)\u001b[0m\u001b[0;34m\u001b[0m\u001b[0;34m\u001b[0m\u001b[0m\n",
            "\u001b[0;31mNameError\u001b[0m: name 'pd1' is not defined"
          ]
        }
      ]
    },
    {
      "cell_type": "code",
      "metadata": {
        "id": "5bA_34aogIzO",
        "colab_type": "code",
        "colab": {}
      },
      "source": [
        "\n",
        "fig, ax = plt.subplots(figsize=(20,4)) \n",
        "sns.heatmap(df_plot_true)\n",
        "plt.show()\n"
      ],
      "execution_count": 0,
      "outputs": []
    },
    {
      "cell_type": "markdown",
      "metadata": {
        "id": "_VXzb-ayoB-o",
        "colab_type": "text"
      },
      "source": [
        "Faire des annotations pour la fin du doc et nettoyer mettre en forme\n",
        "Faire des fonctions pour la fin \n",
        "Amélioer le graphique . Est ce que c'est intelligent par mot ? \n",
        "Remplacer score max par la moyenne des logits à chercher à la fin du train \n",
        "Analyser un peu et mettre au propre sur la feuille\n"
      ]
    }
  ]
}