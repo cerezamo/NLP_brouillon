{
 "cells": [
  {
   "cell_type": "code",
   "execution_count": 1,
   "metadata": {},
   "outputs": [],
   "source": [
    "import pandas as pd\n",
    "import seaborn as sns \n",
    "import matplotlib.pyplot as plt\n",
    "import numpy as np\n",
    "from functools import reduce\n",
    "from operator import add\n",
    "from spacy.lang.fr.stop_words import STOP_WORDS as fr_stop\n",
    "from nltk.corpus import stopwords\n",
    "from collections import Counter\n",
    "import spacy\n",
    "from spacy.tokenizer import Tokenizer\n",
    "import nltk\n",
    "from nltk.tokenize import word_tokenize\n",
    "from nltk import RegexpTokenizer\n",
    "from os import path\n",
    "#from PIL import Image\n",
    "sent_detector = nltk.data.load('tokenizers/punkt/french.pickle')\n",
    "nlp = spacy.load('fr_core_news_md') \n",
    "from wordcloud import WordCloud, STOPWORDS, ImageColorGenerator"
   ]
  },
  {
   "cell_type": "code",
   "execution_count": 2,
   "metadata": {},
   "outputs": [],
   "source": [
    "def Pron_Type_norm(x):\n",
    "    \"\"\"\n",
    "        Fonction pourrie mais si tu arrives à faire mieux fait !! :D Je sais que tu aimes pas les boucles\n",
    "    \"\"\"\n",
    "    sing1=[]\n",
    "    doc = nlp(x)  \n",
    "    for token in doc:\n",
    "        attributes = ' '.join(' '.join(token.tag_.split('|')).split('__'))\n",
    "        if 'PRON' in attributes:\n",
    "            if 'Number=Sing' in attributes:\n",
    "                if 'Person=1' in attributes:\n",
    "                    sing1.append(token)\n",
    "    return len(sing1)"
   ]
  },
  {
   "cell_type": "code",
   "execution_count": 3,
   "metadata": {},
   "outputs": [],
   "source": [
    "from funct import Pron_Type\n",
    "from multiprocessing import Pool"
   ]
  },
  {
   "cell_type": "code",
   "execution_count": 4,
   "metadata": {},
   "outputs": [],
   "source": [
    "df = pd.read_csv('minimal_df.csv')\n",
    "df.Texte = df.Texte.apply(lambda x : x.replace('\\xa0','').replace('\\x85','').replace('\\x96','').replace('\\x92',\"'\").replace('\\x80',''))"
   ]
  },
  {
   "cell_type": "code",
   "execution_count": null,
   "metadata": {},
   "outputs": [],
   "source": [
    "%timeit\n",
    "df['PronJe']= df.Texte.apply(Pron_Type)"
   ]
  }
 ],
 "metadata": {
  "kernelspec": {
   "display_name": "Python 3",
   "language": "python",
   "name": "python3"
  },
  "language_info": {
   "codemirror_mode": {
    "name": "ipython",
    "version": 3
   },
   "file_extension": ".py",
   "mimetype": "text/x-python",
   "name": "python",
   "nbconvert_exporter": "python",
   "pygments_lexer": "ipython3",
   "version": "3.7.6"
  }
 },
 "nbformat": 4,
 "nbformat_minor": 4
}
