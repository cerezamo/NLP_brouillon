{
 "cells": [
  {
   "cell_type": "code",
   "execution_count": 114,
   "metadata": {},
   "outputs": [],
   "source": [
    "import pandas as pd\n",
    "import seaborn as sns\n",
    "sns.set(style=\"ticks\", palette=\"pastel\")"
   ]
  },
  {
   "cell_type": "code",
   "execution_count": 115,
   "metadata": {},
   "outputs": [],
   "source": [
    "DATA=pd.read_csv('Sample_0_200.csv')"
   ]
  },
  {
   "cell_type": "code",
   "execution_count": 116,
   "metadata": {},
   "outputs": [
    {
     "data": {
      "text/plain": [
       "Index(['Unnamed: 0', 'titre', 'link', 'speech_type', 'prenom', 'nom', 'date',\n",
       "       'theme', 'fonct', 'unique_id', 'MC1', 'MC2', 'MC3', 'MC4', 'MC5', 'MC6',\n",
       "       'MC7', 'MC8', 'merge_id', 'discours', 'preusuel', 'sexe'],\n",
       "      dtype='object')"
      ]
     },
     "execution_count": 116,
     "metadata": {},
     "output_type": "execute_result"
    }
   ],
   "source": [
    "DATA.columns"
   ]
  },
  {
   "cell_type": "code",
   "execution_count": 117,
   "metadata": {},
   "outputs": [
    {
     "data": {
      "text/plain": [
       "(347, 22)"
      ]
     },
     "execution_count": 117,
     "metadata": {},
     "output_type": "execute_result"
    }
   ],
   "source": [
    "DATA.shape"
   ]
  },
  {
   "cell_type": "code",
   "execution_count": 118,
   "metadata": {},
   "outputs": [],
   "source": [
    "theme_clean=[]\n",
    "for theme in DATA.theme:\n",
    "    if len(theme.split('\\n'))==0:\n",
    "        theme_clean.append(theme)\n",
    "    if len(theme.split('\\n'))>0:\n",
    "        theme_clean.append(theme.split('\\n')[0])\n",
    "DATA.theme=theme_clean"
   ]
  },
  {
   "cell_type": "markdown",
   "metadata": {},
   "source": [
    "# 1. Statistiques descriptives "
   ]
  },
  {
   "cell_type": "markdown",
   "metadata": {},
   "source": [
    "## Preprocess"
   ]
  },
  {
   "cell_type": "code",
   "execution_count": 119,
   "metadata": {},
   "outputs": [],
   "source": [
    "# Pour l'instant on ne prend que les déclarations \n",
    "DATA=DATA[DATA.speech_type=='Déclaration']"
   ]
  },
  {
   "cell_type": "code",
   "execution_count": 120,
   "metadata": {},
   "outputs": [
    {
     "name": "stdout",
     "output_type": "stream",
     "text": [
      "Shape data: (197, 3)\n"
     ]
    }
   ],
   "source": [
    "# On ne s'intéresse pour l'instant qu'aux textes et au sexe \n",
    "DATA=DATA[['merge_id','discours','sexe']]\n",
    "print('Shape data:', DATA.shape)"
   ]
  },
  {
   "cell_type": "code",
   "execution_count": 121,
   "metadata": {},
   "outputs": [
    {
     "data": {
      "image/png": "[encoded data removed]",
      "text/plain": [
       "<Figure size 432x288 with 1 Axes>"
      ]
     },
     "metadata": {},
     "output_type": "display_data"
    }
   ],
   "source": [
    "sns.barplot(x=['Homme','Femme'], y=DATA['sexe'].value_counts())\n",
    "plt.show()\n",
    "# Représentation plus importante des hommes (attendu). Il faudra voir comment prendre en compte la sur-représentation"
   ]
  },
  {
   "cell_type": "code",
   "execution_count": null,
   "metadata": {},
   "outputs": [],
   "source": []
  },
  {
   "cell_type": "code",
   "execution_count": 54,
   "metadata": {},
   "outputs": [],
   "source": [
    "# Enelever les premières phrase \"Bonjour...\" pour les interview et les madames monsieurs. "
   ]
  },
  {
   "cell_type": "code",
   "execution_count": 55,
   "metadata": {},
   "outputs": [],
   "source": [
    "import re\n",
    "from tqdm import tqdm\n",
    "import nltk \n",
    "from nltk import word_tokenize\n",
    "from gensim import corpora\n",
    "from gensim.models.phrases import Phrases, Phraser\n",
    "from gensim.models import LdaModel\n",
    "from collections import Counter\n",
    "import matplotlib.pyplot as plt \n",
    "from string import punctuation\n",
    "from nltk import pos_tag"
   ]
  },
  {
   "cell_type": "code",
   "execution_count": 56,
   "metadata": {},
   "outputs": [],
   "source": [
    "import spacy\n",
    "nlp = spacy.load(\"fr_core_news_sm\")"
   ]
  },
  {
   "cell_type": "markdown",
   "metadata": {},
   "source": [
    "## Sur l'ensemble du texte"
   ]
  },
  {
   "cell_type": "code",
   "execution_count": 74,
   "metadata": {},
   "outputs": [
    {
     "data": {
      "text/plain": [
       "<matplotlib.axes._subplots.AxesSubplot at 0x26d3b3eab48>"
      ]
     },
     "execution_count": 74,
     "metadata": {},
     "output_type": "execute_result"
    },
    {
     "data": {
      "image/png": "[encoded data removed]",
      "text/plain": [
       "<Figure size 432x288 with 1 Axes>"
      ]
     },
     "metadata": {},
     "output_type": "display_data"
    }
   ],
   "source": []
  },
  {
   "cell_type": "code",
   "execution_count": null,
   "metadata": {},
   "outputs": [],
   "source": []
  },
  {
   "cell_type": "code",
   "execution_count": 57,
   "metadata": {},
   "outputs": [
    {
     "data": {
      "text/plain": [
       "<matplotlib.axes._subplots.AxesSubplot at 0x26d2afc8a48>"
      ]
     },
     "execution_count": 57,
     "metadata": {},
     "output_type": "execute_result"
    },
    {
     "data": {
      "image/png": "[encoded data removed]",
      "text/plain": [
       "<Figure size 432x288 with 1 Axes>"
      ]
     },
     "metadata": {},
     "output_type": "display_data"
    }
   ],
   "source": [
    "DATA['word_count'] = DATA['discours'].apply( lambda x : len(str(x).split(\" \") ) )\n",
    "DATA.word_count[DATA.sexe==1].hist(bins=50)\n",
    "DATA.word_count[DATA.sexe==2].hist(bins=50)"
   ]
  },
  {
   "cell_type": "code",
   "execution_count": 58,
   "metadata": {},
   "outputs": [
    {
     "data": {
      "text/plain": [
       "<matplotlib.axes._subplots.AxesSubplot at 0x26d2bf75d88>"
      ]
     },
     "execution_count": 58,
     "metadata": {},
     "output_type": "execute_result"
    },
    {
     "data": {
      "image/png": "[encoded data removed]",
      "text/plain": [
       "<Figure size 432x288 with 1 Axes>"
      ]
     },
     "metadata": {},
     "output_type": "display_data"
    }
   ],
   "source": [
    "DATA['sent_count'] = DATA['discours'].apply( lambda x : len(str(x).split(\".\")))\n",
    "DATA.sent_count[DATA.sexe==1].hist(bins=50)\n",
    "DATA.sent_count[DATA.sexe==2].hist(bins=50)"
   ]
  },
  {
   "cell_type": "code",
   "execution_count": 59,
   "metadata": {},
   "outputs": [
    {
     "data": {
      "text/plain": [
       "<matplotlib.axes._subplots.AxesSubplot at 0x26d2bd9ce08>"
      ]
     },
     "execution_count": 59,
     "metadata": {},
     "output_type": "execute_result"
    },
    {
     "data": {
      "image/png": "[encoded data removed]",
      "text/plain": [
       "<Figure size 432x288 with 1 Axes>"
      ]
     },
     "metadata": {},
     "output_type": "display_data"
    }
   ],
   "source": [
    "DATA['char_count'] = DATA['discours'].str.len() \n",
    "DATA.char_count[DATA.sexe==1].hist(bins=50)\n",
    "DATA.char_count[DATA.sexe==2].hist(bins=50)"
   ]
  },
  {
   "cell_type": "code",
   "execution_count": 60,
   "metadata": {},
   "outputs": [
    {
     "data": {
      "text/plain": [
       "<matplotlib.axes._subplots.AxesSubplot at 0x26d2b9332c8>"
      ]
     },
     "execution_count": 60,
     "metadata": {},
     "output_type": "execute_result"
    },
    {
     "data": {
      "image/png": "[encoded data removed]",
      "text/plain": [
       "<Figure size 432x288 with 1 Axes>"
      ]
     },
     "metadata": {},
     "output_type": "display_data"
    }
   ],
   "source": [
    "def avg_word(sentence):\n",
    "    words = sentence.split()\n",
    "    return (sum(len(word) for word in words)/len(words))\n",
    "\n",
    "DATA['avg_word'] = DATA['discours'].apply(lambda x: avg_word(x))\n",
    "DATA.avg_word[DATA.sexe==1].hist(bins=50)\n",
    "DATA.avg_word[DATA.sexe==2].hist(bins=50)"
   ]
  },
  {
   "cell_type": "raw",
   "metadata": {},
   "source": [
    "import nltk\n",
    "from gensim.models.phrases import Phrases, Phraser\n",
    "from nltk.tokenize import word_tokenize\n",
    "nltk.download('punkt')\n",
    "sent_detector = nltk.data.load('tokenizers/punkt/french.pickle')\n",
    "\n",
    "nltk.download('stopwords')\n",
    "en_stop = set(nltk.corpus.stopwords.words('french'))\n",
    "to_be_removed = list(en_stop) + list(punctuation) + list('Bonjour')\n",
    "\n",
    "tokenized_sentences=[]\n",
    "for sample in DATA.discours:\n",
    "    sentences=[]\n",
    "    for sentence in sent_detector.tokenize(sample):\n",
    "        cleanr = re.compile('<.*?>')\n",
    "        sentence = re.sub(cleanr, '', sentence)\n",
    "        sentence= sentence.replace('\\x92',\"'\")\n",
    "        sentence = re.sub('[0-9]+', '', sentence)\n",
    "        sentence=re.sub('\\s+', ' ', sentence).strip()       \n",
    "        tokens = word_tokenize(sentence)\n",
    "        tokens = list(map(lambda x: x.lower(), tokens))\n",
    "        tokens=filter(lambda x: \"http\" not in x, tokens)\n",
    "        tokens=filter(lambda x: \"Bonjour\" not in x, tokens)\n",
    "        tokens = [w for w in tokens if len(w) > 1 if not w in to_be_removed]\n",
    "        sentences+=tokens\n",
    "    tokenized_sentences.append(sentences)"
   ]
  },
  {
   "cell_type": "code",
   "execution_count": 61,
   "metadata": {},
   "outputs": [],
   "source": [
    "from nltk.corpus import stopwords\n",
    "en_stop = stopwords.words('french')"
   ]
  },
  {
   "cell_type": "code",
   "execution_count": 62,
   "metadata": {},
   "outputs": [
    {
     "name": "stderr",
     "output_type": "stream",
     "text": [
      "[nltk_data] Downloading package stopwords to\n",
      "[nltk_data]     C:\\Users\\morga\\AppData\\Roaming\\nltk_data...\n",
      "[nltk_data]   Package stopwords is already up-to-date!\n"
     ]
    }
   ],
   "source": [
    "nltk.download('stopwords')\n",
    "en_stop = set(nltk.corpus.stopwords.words('french'))\n",
    "to_be_removed = list(en_stop) + list(punctuation) + list(('bonjour','m.','mme.'))"
   ]
  },
  {
   "cell_type": "code",
   "execution_count": 66,
   "metadata": {},
   "outputs": [],
   "source": [
    "DATA['discours_process']=DATA['discours'].apply(lambda x: \" \".join(x.lower() for x in x.split()))\n",
    "DATA['discours_process'] = DATA['discours_process'].str.replace('[^\\w\\s]','')\n",
    "DATA['discours_process'] = DATA['discours_process'].str.replace('\\x92',\"'\")\n",
    "DATA['discours_process'] = DATA['discours_process'].str.replace(re.compile('[0-9]+'),\"'\")\n",
    "DATA['discours_process'] = DATA['discours_process'].apply(lambda x: \" \".join(x for x in x.split() if x not in to_be_removed))"
   ]
  },
  {
   "cell_type": "code",
   "execution_count": 67,
   "metadata": {},
   "outputs": [
    {
     "data": {
      "text/plain": [
       "cest     8429\n",
       "a        7525\n",
       "plus     4478\n",
       "cette    3440\n",
       "aussi    2889\n",
       "donc     2624\n",
       "tout     2484\n",
       "ça       2398\n",
       "très     2301\n",
       "bien     2246\n",
       "dtype: int64"
      ]
     },
     "execution_count": 67,
     "metadata": {},
     "output_type": "execute_result"
    }
   ],
   "source": [
    "freq_high = pd.Series(' '.join(DATA['discours_process']).split()).value_counts()[:10]\n",
    "freq_high"
   ]
  },
  {
   "cell_type": "code",
   "execution_count": 16,
   "metadata": {},
   "outputs": [],
   "source": [
    "#Non pas nécessaire !\n",
    "#freq_high = list(freq_high.index)\n",
    "#DATA['discours_process'] = DATA['discours_process'].apply(lambda x: \" \".join(x for x in x.split() if x not in freq_high))"
   ]
  },
  {
   "cell_type": "code",
   "execution_count": 68,
   "metadata": {},
   "outputs": [
    {
     "data": {
      "text/plain": [
       "retisser           1\n",
       "douteux            1\n",
       "cruciales          1\n",
       "loiret             1\n",
       "cautionnent        1\n",
       "pouveznous         1\n",
       "demmener           1\n",
       "supplétives        1\n",
       "paillettes         1\n",
       "lenrichir          1\n",
       "reconvoqué         1\n",
       "shem               1\n",
       "réformez           1\n",
       "délaissée          1\n",
       "résoudra           1\n",
       "distend            1\n",
       "désapprobation     1\n",
       "zmoi               1\n",
       "dangela            1\n",
       "puzzle             1\n",
       "each               1\n",
       "prostituer         1\n",
       "coordonnant        1\n",
       "ass                1\n",
       "donnezvous         1\n",
       "dautorités         1\n",
       "soigne             1\n",
       "démence            1\n",
       "débutent           1\n",
       "explicites         1\n",
       "oukases            1\n",
       "léquipage          1\n",
       "viceamiral         1\n",
       "blog               1\n",
       "dadministratif     1\n",
       "soixantedixhuit    1\n",
       "crous              1\n",
       "entré              1\n",
       "dissuadaient       1\n",
       "satt               1\n",
       "déléguons          1\n",
       "condamnerai        1\n",
       "protagonistes      1\n",
       "contaminées        1\n",
       "làpeuprès          1\n",
       "caporaux           1\n",
       "pratiquelà         1\n",
       "linfirmier         1\n",
       "asieocéanie        1\n",
       "pondérer           1\n",
       "dtype: int64"
      ]
     },
     "execution_count": 68,
     "metadata": {},
     "output_type": "execute_result"
    }
   ],
   "source": [
    "freq_low = pd.Series(' '.join(DATA['discours_process']).split()).value_counts()[-50:]\n",
    "freq_low"
   ]
  },
  {
   "cell_type": "code",
   "execution_count": 69,
   "metadata": {},
   "outputs": [],
   "source": [
    "freq_low = list(freq_low.index)\n",
    "DATA['discours_process'] = DATA['discours_process'].apply(lambda x: \" \".join(x for x in x.split() if x not in freq_low))"
   ]
  },
  {
   "cell_type": "code",
   "execution_count": null,
   "metadata": {
    "scrolled": true
   },
   "outputs": [],
   "source": []
  },
  {
   "cell_type": "code",
   "execution_count": 70,
   "metadata": {},
   "outputs": [
    {
     "data": {
      "text/plain": [
       "0    marc fauvel oui bien sûr oui plaisir cest mome...\n",
       "1    merci monsieur président cher bruno studer mer...\n",
       "2    oui oui donc président républiqu loccas dy rev...\n",
       "3    mesdam messieur parlementair mesdam messieur p...\n",
       "4    cest vrai plaisir dêtre cet aprèsmidi devant p...\n",
       "Name: discours_process, dtype: object"
      ]
     },
     "execution_count": 70,
     "metadata": {},
     "output_type": "execute_result"
    }
   ],
   "source": [
    "from nltk.stem import PorterStemmer\n",
    "st = PorterStemmer()\n",
    "DATA['discours_process'][:5].apply(lambda x: \" \".join([st.stem(word) for word in x.split()]))"
   ]
  },
  {
   "cell_type": "markdown",
   "metadata": {},
   "source": [
    "# Term frequency "
   ]
  },
  {
   "cell_type": "code",
   "execution_count": 82,
   "metadata": {},
   "outputs": [
    {
     "name": "stdout",
     "output_type": "stream",
     "text": [
      "Number of words in all_text: 5690265\n"
     ]
    }
   ],
   "source": [
    "all_text = ' '.join([text for text in DATA['discours']])\n",
    "print('Number of words in all_text:', len(all_text))"
   ]
  },
  {
   "cell_type": "code",
   "execution_count": 91,
   "metadata": {},
   "outputs": [],
   "source": [
    "from sklearn.feature_extraction.text import TfidfVectorizer\n",
    "tfidf = TfidfVectorizer()\n",
    "tfs = tfidf.fit_transform(DATA['discours_process'])"
   ]
  },
  {
   "cell_type": "code",
   "execution_count": 92,
   "metadata": {},
   "outputs": [],
   "source": [
    "feature_names = tfidf.get_feature_names()\n",
    "corpus_index = [n for n in list(tfidf.vocabulary_.keys())]\n",
    "import pandas as pd\n",
    "df = pd.DataFrame(tfs.todense(), columns=feature_names)\n",
    "#print(df)"
   ]
  },
  {
   "cell_type": "code",
   "execution_count": 93,
   "metadata": {},
   "outputs": [
    {
     "data": {
      "text/html": [
       "<div>\n",
       "<style scoped>\n",
       "    .dataframe tbody tr th:only-of-type {\n",
       "        vertical-align: middle;\n",
       "    }\n",
       "\n",
       "    .dataframe tbody tr th {\n",
       "        vertical-align: top;\n",
       "    }\n",
       "\n",
       "    .dataframe thead th {\n",
       "        text-align: right;\n",
       "    }\n",
       "</style>\n",
       "<table border=\"1\" class=\"dataframe\">\n",
       "  <thead>\n",
       "    <tr style=\"text-align: right;\">\n",
       "      <th></th>\n",
       "      <th>__</th>\n",
       "      <th>aah</th>\n",
       "      <th>abad</th>\n",
       "      <th>abaissement</th>\n",
       "      <th>abaisser</th>\n",
       "      <th>abaisserons</th>\n",
       "      <th>abaissés</th>\n",
       "      <th>abandon</th>\n",
       "      <th>abandonne</th>\n",
       "      <th>abandonnent</th>\n",
       "      <th>...</th>\n",
       "      <th>îlots</th>\n",
       "      <th>ôter</th>\n",
       "      <th>ôté</th>\n",
       "      <th>ôtés</th>\n",
       "      <th>œur</th>\n",
       "      <th>œuvre</th>\n",
       "      <th>œuvrent</th>\n",
       "      <th>œuvres</th>\n",
       "      <th>œuvrez</th>\n",
       "      <th>œuvrons</th>\n",
       "    </tr>\n",
       "  </thead>\n",
       "  <tbody>\n",
       "    <tr>\n",
       "      <th>0</th>\n",
       "      <td>0.0</td>\n",
       "      <td>0.0</td>\n",
       "      <td>0.0</td>\n",
       "      <td>0.0</td>\n",
       "      <td>0.0</td>\n",
       "      <td>0.0</td>\n",
       "      <td>0.0</td>\n",
       "      <td>0.0</td>\n",
       "      <td>0.0</td>\n",
       "      <td>0.0</td>\n",
       "      <td>...</td>\n",
       "      <td>0.0</td>\n",
       "      <td>0.0</td>\n",
       "      <td>0.0</td>\n",
       "      <td>0.0</td>\n",
       "      <td>0.0</td>\n",
       "      <td>0.0</td>\n",
       "      <td>0.0</td>\n",
       "      <td>0.0</td>\n",
       "      <td>0.0</td>\n",
       "      <td>0.0</td>\n",
       "    </tr>\n",
       "    <tr>\n",
       "      <th>1</th>\n",
       "      <td>0.0</td>\n",
       "      <td>0.0</td>\n",
       "      <td>0.0</td>\n",
       "      <td>0.0</td>\n",
       "      <td>0.0</td>\n",
       "      <td>0.0</td>\n",
       "      <td>0.0</td>\n",
       "      <td>0.0</td>\n",
       "      <td>0.0</td>\n",
       "      <td>0.0</td>\n",
       "      <td>...</td>\n",
       "      <td>0.0</td>\n",
       "      <td>0.0</td>\n",
       "      <td>0.0</td>\n",
       "      <td>0.0</td>\n",
       "      <td>0.0</td>\n",
       "      <td>0.0</td>\n",
       "      <td>0.0</td>\n",
       "      <td>0.0</td>\n",
       "      <td>0.0</td>\n",
       "      <td>0.0</td>\n",
       "    </tr>\n",
       "    <tr>\n",
       "      <th>2</th>\n",
       "      <td>0.0</td>\n",
       "      <td>0.0</td>\n",
       "      <td>0.0</td>\n",
       "      <td>0.0</td>\n",
       "      <td>0.0</td>\n",
       "      <td>0.0</td>\n",
       "      <td>0.0</td>\n",
       "      <td>0.0</td>\n",
       "      <td>0.0</td>\n",
       "      <td>0.0</td>\n",
       "      <td>...</td>\n",
       "      <td>0.0</td>\n",
       "      <td>0.0</td>\n",
       "      <td>0.0</td>\n",
       "      <td>0.0</td>\n",
       "      <td>0.0</td>\n",
       "      <td>0.0</td>\n",
       "      <td>0.0</td>\n",
       "      <td>0.0</td>\n",
       "      <td>0.0</td>\n",
       "      <td>0.0</td>\n",
       "    </tr>\n",
       "    <tr>\n",
       "      <th>3</th>\n",
       "      <td>0.0</td>\n",
       "      <td>0.0</td>\n",
       "      <td>0.0</td>\n",
       "      <td>0.0</td>\n",
       "      <td>0.0</td>\n",
       "      <td>0.0</td>\n",
       "      <td>0.0</td>\n",
       "      <td>0.0</td>\n",
       "      <td>0.0</td>\n",
       "      <td>0.0</td>\n",
       "      <td>...</td>\n",
       "      <td>0.0</td>\n",
       "      <td>0.0</td>\n",
       "      <td>0.0</td>\n",
       "      <td>0.0</td>\n",
       "      <td>0.0</td>\n",
       "      <td>0.0</td>\n",
       "      <td>0.0</td>\n",
       "      <td>0.0</td>\n",
       "      <td>0.0</td>\n",
       "      <td>0.0</td>\n",
       "    </tr>\n",
       "    <tr>\n",
       "      <th>4</th>\n",
       "      <td>0.0</td>\n",
       "      <td>0.0</td>\n",
       "      <td>0.0</td>\n",
       "      <td>0.0</td>\n",
       "      <td>0.0</td>\n",
       "      <td>0.0</td>\n",
       "      <td>0.0</td>\n",
       "      <td>0.0</td>\n",
       "      <td>0.0</td>\n",
       "      <td>0.0</td>\n",
       "      <td>...</td>\n",
       "      <td>0.0</td>\n",
       "      <td>0.0</td>\n",
       "      <td>0.0</td>\n",
       "      <td>0.0</td>\n",
       "      <td>0.0</td>\n",
       "      <td>0.0</td>\n",
       "      <td>0.0</td>\n",
       "      <td>0.0</td>\n",
       "      <td>0.0</td>\n",
       "      <td>0.0</td>\n",
       "    </tr>\n",
       "    <tr>\n",
       "      <th>...</th>\n",
       "      <td>...</td>\n",
       "      <td>...</td>\n",
       "      <td>...</td>\n",
       "      <td>...</td>\n",
       "      <td>...</td>\n",
       "      <td>...</td>\n",
       "      <td>...</td>\n",
       "      <td>...</td>\n",
       "      <td>...</td>\n",
       "      <td>...</td>\n",
       "      <td>...</td>\n",
       "      <td>...</td>\n",
       "      <td>...</td>\n",
       "      <td>...</td>\n",
       "      <td>...</td>\n",
       "      <td>...</td>\n",
       "      <td>...</td>\n",
       "      <td>...</td>\n",
       "      <td>...</td>\n",
       "      <td>...</td>\n",
       "      <td>...</td>\n",
       "    </tr>\n",
       "    <tr>\n",
       "      <th>342</th>\n",
       "      <td>0.0</td>\n",
       "      <td>0.0</td>\n",
       "      <td>0.0</td>\n",
       "      <td>0.0</td>\n",
       "      <td>0.0</td>\n",
       "      <td>0.0</td>\n",
       "      <td>0.0</td>\n",
       "      <td>0.0</td>\n",
       "      <td>0.0</td>\n",
       "      <td>0.0</td>\n",
       "      <td>...</td>\n",
       "      <td>0.0</td>\n",
       "      <td>0.0</td>\n",
       "      <td>0.0</td>\n",
       "      <td>0.0</td>\n",
       "      <td>0.0</td>\n",
       "      <td>0.0</td>\n",
       "      <td>0.0</td>\n",
       "      <td>0.0</td>\n",
       "      <td>0.0</td>\n",
       "      <td>0.0</td>\n",
       "    </tr>\n",
       "    <tr>\n",
       "      <th>343</th>\n",
       "      <td>0.0</td>\n",
       "      <td>0.0</td>\n",
       "      <td>0.0</td>\n",
       "      <td>0.0</td>\n",
       "      <td>0.0</td>\n",
       "      <td>0.0</td>\n",
       "      <td>0.0</td>\n",
       "      <td>0.0</td>\n",
       "      <td>0.0</td>\n",
       "      <td>0.0</td>\n",
       "      <td>...</td>\n",
       "      <td>0.0</td>\n",
       "      <td>0.0</td>\n",
       "      <td>0.0</td>\n",
       "      <td>0.0</td>\n",
       "      <td>0.0</td>\n",
       "      <td>0.0</td>\n",
       "      <td>0.0</td>\n",
       "      <td>0.0</td>\n",
       "      <td>0.0</td>\n",
       "      <td>0.0</td>\n",
       "    </tr>\n",
       "    <tr>\n",
       "      <th>344</th>\n",
       "      <td>0.0</td>\n",
       "      <td>0.0</td>\n",
       "      <td>0.0</td>\n",
       "      <td>0.0</td>\n",
       "      <td>0.0</td>\n",
       "      <td>0.0</td>\n",
       "      <td>0.0</td>\n",
       "      <td>0.0</td>\n",
       "      <td>0.0</td>\n",
       "      <td>0.0</td>\n",
       "      <td>...</td>\n",
       "      <td>0.0</td>\n",
       "      <td>0.0</td>\n",
       "      <td>0.0</td>\n",
       "      <td>0.0</td>\n",
       "      <td>0.0</td>\n",
       "      <td>0.0</td>\n",
       "      <td>0.0</td>\n",
       "      <td>0.0</td>\n",
       "      <td>0.0</td>\n",
       "      <td>0.0</td>\n",
       "    </tr>\n",
       "    <tr>\n",
       "      <th>345</th>\n",
       "      <td>0.0</td>\n",
       "      <td>0.0</td>\n",
       "      <td>0.0</td>\n",
       "      <td>0.0</td>\n",
       "      <td>0.0</td>\n",
       "      <td>0.0</td>\n",
       "      <td>0.0</td>\n",
       "      <td>0.0</td>\n",
       "      <td>0.0</td>\n",
       "      <td>0.0</td>\n",
       "      <td>...</td>\n",
       "      <td>0.0</td>\n",
       "      <td>0.0</td>\n",
       "      <td>0.0</td>\n",
       "      <td>0.0</td>\n",
       "      <td>0.0</td>\n",
       "      <td>0.0</td>\n",
       "      <td>0.0</td>\n",
       "      <td>0.0</td>\n",
       "      <td>0.0</td>\n",
       "      <td>0.0</td>\n",
       "    </tr>\n",
       "    <tr>\n",
       "      <th>346</th>\n",
       "      <td>0.0</td>\n",
       "      <td>0.0</td>\n",
       "      <td>0.0</td>\n",
       "      <td>0.0</td>\n",
       "      <td>0.0</td>\n",
       "      <td>0.0</td>\n",
       "      <td>0.0</td>\n",
       "      <td>0.0</td>\n",
       "      <td>0.0</td>\n",
       "      <td>0.0</td>\n",
       "      <td>...</td>\n",
       "      <td>0.0</td>\n",
       "      <td>0.0</td>\n",
       "      <td>0.0</td>\n",
       "      <td>0.0</td>\n",
       "      <td>0.0</td>\n",
       "      <td>0.0</td>\n",
       "      <td>0.0</td>\n",
       "      <td>0.0</td>\n",
       "      <td>0.0</td>\n",
       "      <td>0.0</td>\n",
       "    </tr>\n",
       "  </tbody>\n",
       "</table>\n",
       "<p>347 rows × 29091 columns</p>\n",
       "</div>"
      ],
      "text/plain": [
       "      __  aah  abad  abaissement  abaisser  abaisserons  abaissés  abandon  \\\n",
       "0    0.0  0.0   0.0          0.0       0.0          0.0       0.0      0.0   \n",
       "1    0.0  0.0   0.0          0.0       0.0          0.0       0.0      0.0   \n",
       "2    0.0  0.0   0.0          0.0       0.0          0.0       0.0      0.0   \n",
       "3    0.0  0.0   0.0          0.0       0.0          0.0       0.0      0.0   \n",
       "4    0.0  0.0   0.0          0.0       0.0          0.0       0.0      0.0   \n",
       "..   ...  ...   ...          ...       ...          ...       ...      ...   \n",
       "342  0.0  0.0   0.0          0.0       0.0          0.0       0.0      0.0   \n",
       "343  0.0  0.0   0.0          0.0       0.0          0.0       0.0      0.0   \n",
       "344  0.0  0.0   0.0          0.0       0.0          0.0       0.0      0.0   \n",
       "345  0.0  0.0   0.0          0.0       0.0          0.0       0.0      0.0   \n",
       "346  0.0  0.0   0.0          0.0       0.0          0.0       0.0      0.0   \n",
       "\n",
       "     abandonne  abandonnent  ...  îlots  ôter  ôté  ôtés  œur  œuvre  œuvrent  \\\n",
       "0          0.0          0.0  ...    0.0   0.0  0.0   0.0  0.0    0.0      0.0   \n",
       "1          0.0          0.0  ...    0.0   0.0  0.0   0.0  0.0    0.0      0.0   \n",
       "2          0.0          0.0  ...    0.0   0.0  0.0   0.0  0.0    0.0      0.0   \n",
       "3          0.0          0.0  ...    0.0   0.0  0.0   0.0  0.0    0.0      0.0   \n",
       "4          0.0          0.0  ...    0.0   0.0  0.0   0.0  0.0    0.0      0.0   \n",
       "..         ...          ...  ...    ...   ...  ...   ...  ...    ...      ...   \n",
       "342        0.0          0.0  ...    0.0   0.0  0.0   0.0  0.0    0.0      0.0   \n",
       "343        0.0          0.0  ...    0.0   0.0  0.0   0.0  0.0    0.0      0.0   \n",
       "344        0.0          0.0  ...    0.0   0.0  0.0   0.0  0.0    0.0      0.0   \n",
       "345        0.0          0.0  ...    0.0   0.0  0.0   0.0  0.0    0.0      0.0   \n",
       "346        0.0          0.0  ...    0.0   0.0  0.0   0.0  0.0    0.0      0.0   \n",
       "\n",
       "     œuvres  œuvrez  œuvrons  \n",
       "0       0.0     0.0      0.0  \n",
       "1       0.0     0.0      0.0  \n",
       "2       0.0     0.0      0.0  \n",
       "3       0.0     0.0      0.0  \n",
       "4       0.0     0.0      0.0  \n",
       "..      ...     ...      ...  \n",
       "342     0.0     0.0      0.0  \n",
       "343     0.0     0.0      0.0  \n",
       "344     0.0     0.0      0.0  \n",
       "345     0.0     0.0      0.0  \n",
       "346     0.0     0.0      0.0  \n",
       "\n",
       "[347 rows x 29091 columns]"
      ]
     },
     "execution_count": 93,
     "metadata": {},
     "output_type": "execute_result"
    }
   ],
   "source": [
    "df"
   ]
  },
  {
   "cell_type": "code",
   "execution_count": null,
   "metadata": {},
   "outputs": [],
   "source": []
  },
  {
   "cell_type": "code",
   "execution_count": null,
   "metadata": {},
   "outputs": [],
   "source": []
  },
  {
   "cell_type": "code",
   "execution_count": 71,
   "metadata": {},
   "outputs": [],
   "source": [
    "import numpy as np"
   ]
  },
  {
   "cell_type": "code",
   "execution_count": 72,
   "metadata": {},
   "outputs": [],
   "source": [
    "TF=(DATA['discours_process']).apply(lambda x: pd.value_counts(x.split(\" \"))).sum(axis = 0).reset_index()\n",
    "TF.columns = ['words','tf']"
   ]
  },
  {
   "cell_type": "code",
   "execution_count": null,
   "metadata": {},
   "outputs": [],
   "source": []
  },
  {
   "cell_type": "code",
   "execution_count": 45,
   "metadata": {},
   "outputs": [],
   "source": [
    "from sklearn.feature_extraction.text import CountVectorizer\n",
    "bow = CountVectorizer(max_features=1000, lowercase=True, ngram_range=(1,1),analyzer = \"word\")\n",
    "train_bow = bow.fit_transform(DATA['discours_process'])"
   ]
  },
  {
   "cell_type": "code",
   "execution_count": 46,
   "metadata": {},
   "outputs": [
    {
     "data": {
      "text/plain": [
       "<347x1000 sparse matrix of type '<class 'numpy.int64'>'\n",
       "\twith 102097 stored elements in Compressed Sparse Row format>"
      ]
     },
     "execution_count": 46,
     "metadata": {},
     "output_type": "execute_result"
    }
   ],
   "source": [
    "train_bow"
   ]
  },
  {
   "cell_type": "code",
   "execution_count": null,
   "metadata": {},
   "outputs": [],
   "source": []
  },
  {
   "cell_type": "markdown",
   "metadata": {},
   "source": [
    "# Prediction"
   ]
  },
  {
   "cell_type": "code",
   "execution_count": null,
   "metadata": {},
   "outputs": [],
   "source": [
    "nlp = spacy.load(\"fr_core_news_sm\")"
   ]
  },
  {
   "cell_type": "code",
   "execution_count": null,
   "metadata": {},
   "outputs": [],
   "source": [
    "punctuations = string.punctuation\n",
    "\n",
    "# Define function to cleanup text by removing personal pronouns, stopwords, and puncuation\n",
    "def cleanup_text(docs, logging=False):\n",
    "    texts = []\n",
    "    counter = 1\n",
    "    for doc in docs:\n",
    "        if counter % 1000 == 0 and logging:\n",
    "            print(\"Processed %d out of %d documents.\" % (counter, len(docs)))\n",
    "        counter += 1\n",
    "        doc = nlp(doc, disable=['parser', 'ner'])\n",
    "        tokens = [tok.lemma_.lower().strip() for tok in doc if tok.lemma_ != '-PRON-']\n",
    "        tokens = [tok for tok in tokens if tok not in stopwords and tok not in punctuations]\n",
    "        tokens = ' '.join(tokens)\n",
    "        texts.append(tokens)\n",
    "    return pd.Series(texts)"
   ]
  },
  {
   "cell_type": "code",
   "execution_count": null,
   "metadata": {},
   "outputs": [],
   "source": [
    "from gensim.models.word2vec import Word2Vec\n",
    "\n",
    "text_dim = 300\n",
    "\n",
    "print(\"Training Word2Vec model...\")\n",
    "\n",
    "wordvec_model = Word2Vec(train_cleaned_word2vec, size=text_dim, window=5, min_count=3, workers=4, sg=1)\n",
    "\n",
    "print(\"Word2Vec model created.\")\n",
    "print(\"%d unique words represented by %d dimensional vectors\" % (len(wordvec_model.wv.vocab), text_dim))"
   ]
  },
  {
   "cell_type": "code",
   "execution_count": null,
   "metadata": {},
   "outputs": [],
   "source": [
    "from sklearn.preprocessing import label_binarize\n",
    "\n",
    "# Transform labels into one hot encoded format.\n",
    "y_train_ohe = label_binarize(train['Author'], classes=['EAP', 'HPL', 'MWS'])\n",
    "print('y_train_ohe shape: {}'.format(y_train_ohe.shape))\n",
    "print('y_train_ohe samples:')\n",
    "print(y_train_ohe[:5])"
   ]
  },
  {
   "cell_type": "code",
   "execution_count": null,
   "metadata": {},
   "outputs": [],
   "source": [
    "from sklearn.model_selection import train_test_split\n",
    "\n",
    "# If using spaCy word vectors\n",
    "# X_train, X_test, y_train, y_test = train_test_split(train_vec, y_train_ohe, test_size=0.2, random_state=21)\n",
    "# If using Word2Vec word vectors\n",
    "X_train, X_test, y_train, y_test = train_test_split(train_cleaned_vec, y_train_ohe, test_size=0.2, random_state=21)\n",
    "\n",
    "print('X_train size: {}'.format(X_train.shape))\n",
    "print('X_test size: {}'.format(X_test.shape))\n",
    "print('y_train size: {}'.format(y_train.shape))\n",
    "print('y_test size: {}'.format(y_test.shape))"
   ]
  },
  {
   "cell_type": "code",
   "execution_count": null,
   "metadata": {},
   "outputs": [],
   "source": []
  },
  {
   "cell_type": "code",
   "execution_count": null,
   "metadata": {},
   "outputs": [],
   "source": []
  },
  {
   "cell_type": "code",
   "execution_count": 176,
   "metadata": {},
   "outputs": [
    {
     "data": {
      "text/plain": [
       "<matplotlib.axes._subplots.AxesSubplot at 0x297737ec508>"
      ]
     },
     "execution_count": 176,
     "metadata": {},
     "output_type": "execute_result"
    },
    {
     "data": {
      "image/png": "[encoded data removed]",
      "text/plain": [
       "<Figure size 432x288 with 1 Axes>"
      ]
     },
     "metadata": {
      "needs_background": "light"
     },
     "output_type": "display_data"
    }
   ],
   "source": [
    "DATA.discours.apply(len).hist(bins=100)"
   ]
  },
  {
   "cell_type": "code",
   "execution_count": 177,
   "metadata": {},
   "outputs": [
    {
     "data": {
      "text/plain": [
       "<matplotlib.axes._subplots.AxesSubplot at 0x297730ef408>"
      ]
     },
     "execution_count": 177,
     "metadata": {},
     "output_type": "execute_result"
    },
    {
     "data": {
      "image/png": "[encoded data removed]",
      "text/plain": [
       "<Figure size 432x288 with 1 Axes>"
      ]
     },
     "metadata": {
      "needs_background": "light"
     },
     "output_type": "display_data"
    }
   ],
   "source": [
    "#Statistiques\n",
    "#DATA.sexe.hist(bins=80) # 1 = Homme, 2 = Femme \n",
    "DATA[DATA.speech_type=='Interview'].sexe.hist(bins=40) \n",
    "DATA[DATA.speech_type=='Déclaration'].sexe.hist(bins=100) "
   ]
  },
  {
   "cell_type": "code",
   "execution_count": 38,
   "metadata": {},
   "outputs": [
    {
     "data": {
      "text/plain": [
       "12063.23076923077"
      ]
     },
     "execution_count": 38,
     "metadata": {},
     "output_type": "execute_result"
    }
   ],
   "source": [
    "# Longueur interview ou discours\n",
    "DATA.discours.apply(len).mean()"
   ]
  },
  {
   "cell_type": "markdown",
   "metadata": {},
   "source": [
    "Tokenize "
   ]
  },
  {
   "cell_type": "code",
   "execution_count": 184,
   "metadata": {},
   "outputs": [
    {
     "name": "stderr",
     "output_type": "stream",
     "text": [
      "[nltk_data] Downloading package punkt to\n",
      "[nltk_data]     C:\\Users\\morga\\AppData\\Roaming\\nltk_data...\n",
      "[nltk_data]   Package punkt is already up-to-date!\n"
     ]
    }
   ],
   "source": [
    "import nltk\n",
    "from gensim.models.phrases import Phrases, Phraser\n",
    "from nltk.tokenize import word_tokenize\n",
    "nltk.download('punkt')\n",
    "sent_detector = nltk.data.load('tokenizers/punkt/french.pickle')"
   ]
  },
  {
   "cell_type": "code",
   "execution_count": 185,
   "metadata": {},
   "outputs": [
    {
     "name": "stderr",
     "output_type": "stream",
     "text": [
      "[nltk_data] Downloading package stopwords to\n",
      "[nltk_data]     C:\\Users\\morga\\AppData\\Roaming\\nltk_data...\n",
      "[nltk_data]   Package stopwords is already up-to-date!\n",
      "100%|██████████| 1567/1567 [00:38<00:00, 40.81it/s]\n"
     ]
    }
   ],
   "source": [
    "# Phrase \n",
    "import re\n",
    "from tqdm import tqdm\n",
    "import nltk \n",
    "from nltk import word_tokenize\n",
    "from gensim import corpora\n",
    "from gensim.models.phrases import Phrases, Phraser\n",
    "from gensim.models import LdaModel\n",
    "from collections import Counter\n",
    "import matplotlib.pyplot as plt \n",
    "from string import punctuation\n",
    "from nltk import pos_tag\n",
    "\n",
    "nltk.download('stopwords')\n",
    "en_stop = set(nltk.corpus.stopwords.words('french'))\n",
    "to_be_removed = list(en_stop) + list(punctuation) +['a','cette','ça','mme','mr','m.'] \n",
    "\n",
    "tokenized_sentences = []\n",
    "for sample in tqdm(DATA.discours):\n",
    "    for sentence in sent_detector.tokenize(sample):\n",
    "        cleanr = re.compile('<.*?>')\n",
    "        sentence = re.sub(cleanr, '', sentence)\n",
    "        sentence= sentence.replace('\\x92',\"'\")\n",
    "        sentence = re.sub('[0-9]+', '', sentence)\n",
    "        sentence=re.sub('\\s+', ' ', sentence).strip()\n",
    "        tokens = word_tokenize(sentence)\n",
    "        tokens = list(map(lambda x: x.lower(), tokens))\n",
    "        tokens=filter(lambda x: \"http\" not in x, tokens)\n",
    "        tokens = [w for w in tokens if len(w) > 1 if not w in to_be_removed]\n",
    "        tokenized_sentences+=tokens"
   ]
  },
  {
   "cell_type": "code",
   "execution_count": 186,
   "metadata": {},
   "outputs": [
    {
     "data": {
      "text/plain": [
       "['merci',\n",
       " 'monsieur',\n",
       " 'président',\n",
       " 'cher',\n",
       " 'bruno',\n",
       " 'studer',\n",
       " 'merci',\n",
       " 'madame',\n",
       " 'rapporteure',\n",
       " 'générale',\n",
       " 'chère',\n",
       " 'aurore',\n",
       " 'bergé',\n",
       " 'merci',\n",
       " 'aussi',\n",
       " 'mesdames',\n",
       " 'rapporteures',\n",
       " 'chère',\n",
       " 'sophie',\n",
       " 'mette',\n",
       " 'chère',\n",
       " 'béatrice',\n",
       " 'piron',\n",
       " 'merci',\n",
       " 'monsieur',\n",
       " 'co-rapporteur',\n",
       " 'cher',\n",
       " 'jean-jacques',\n",
       " 'gaultier',\n",
       " 'différents',\n",
       " 'rapporteurs',\n",
       " 'avis',\n",
       " 'bothorel',\n",
       " 'portarrieu',\n",
       " 'hennion',\n",
       " 'euzet',\n",
       " 'mesdames',\n",
       " 'messieurs',\n",
       " 'députés',\n",
       " 'merci',\n",
       " 'présence',\n",
       " 'merci',\n",
       " 'quelques',\n",
       " 'heures',\n",
       " 'allons',\n",
       " 'passer',\n",
       " 'ensemble',\n",
       " 'tant',\n",
       " 'commission',\n",
       " \"l'hémicycle\",\n",
       " 'service',\n",
       " 'projet',\n",
       " 'loi',\n",
       " 'si',\n",
       " 'attendu',\n",
       " 'si',\n",
       " 'important',\n",
       " 'si',\n",
       " 'nécessaire',\n",
       " 'aussi',\n",
       " 'nécessaire',\n",
       " 'parce',\n",
       " \"l'heure\",\n",
       " 'où',\n",
       " 'contenus',\n",
       " 'abondent',\n",
       " 'où',\n",
       " 'modes',\n",
       " 'visionnage',\n",
       " 'diversifient',\n",
       " 'où',\n",
       " 'écrans',\n",
       " 'démultiplient',\n",
       " 'cadre',\n",
       " 'législatif',\n",
       " 'dépassé',\n",
       " 'loi',\n",
       " 'relative',\n",
       " 'liberté',\n",
       " 'communication',\n",
       " 'date',\n",
       " \"l'audiovisuel\",\n",
       " \"d'aujourd'hui\",\n",
       " 'plus',\n",
       " 'grand-chose',\n",
       " 'voir',\n",
       " 'celui',\n",
       " \"d'alors\",\n",
       " 'loi',\n",
       " 'conçue',\n",
       " 'autre',\n",
       " 'époque',\n",
       " 'autre',\n",
       " 'monde',\n",
       " 'modifiée',\n",
       " 'depuis',\n",
       " 'bien',\n",
       " 'sûr',\n",
       " 'nombreuses',\n",
       " 'reprises',\n",
       " 'chaque',\n",
       " 'fois',\n",
       " 'actualisations',\n",
       " 'marge',\n",
       " \"aujourd'hui\",\n",
       " 'besoin',\n",
       " \"d'être\",\n",
       " 'repensée',\n",
       " 'profondeur',\n",
       " \"n'est\",\n",
       " 'option',\n",
       " \"c'est\",\n",
       " 'évidence',\n",
       " \"c'est\",\n",
       " 'obligation',\n",
       " 'obligation',\n",
       " 'parce',\n",
       " 'secteur',\n",
       " 'face',\n",
       " 'mutations',\n",
       " 'majeures',\n",
       " 'révolution',\n",
       " 'numérique',\n",
       " 'premier',\n",
       " 'lieu',\n",
       " \"n'est\",\n",
       " 'acteurs',\n",
       " 'émergé',\n",
       " 'menace',\n",
       " 'soi',\n",
       " 'peuvent',\n",
       " 'devenir',\n",
       " 'responsabilité',\n",
       " \"c'est\",\n",
       " 'faire',\n",
       " 'révolution',\n",
       " 'numérique',\n",
       " 'opportunité',\n",
       " 'tant',\n",
       " 'créateurs',\n",
       " 'publics',\n",
       " \"c'est\",\n",
       " 'tout',\n",
       " 'sens',\n",
       " 'projet',\n",
       " 'loi',\n",
       " 'relatif',\n",
       " 'communication',\n",
       " 'audiovisuelle',\n",
       " 'souveraineté',\n",
       " 'culturelle',\n",
       " \"l'ère\",\n",
       " 'numérique',\n",
       " \"j'ai\",\n",
       " \"l'honneur\",\n",
       " 'présenter',\n",
       " \"aujourd'hui\",\n",
       " \"c'est\",\n",
       " 'projet',\n",
       " 'loi',\n",
       " 'historique',\n",
       " 'historique',\n",
       " 'parce',\n",
       " \"qu'il\",\n",
       " 'établit',\n",
       " 'enfin',\n",
       " 'cadre',\n",
       " 'adapté',\n",
       " 'télévision',\n",
       " 'radio',\n",
       " 'xxie',\n",
       " 'siècle',\n",
       " 'historique',\n",
       " 'parce',\n",
       " \"qu'il\",\n",
       " 'permet',\n",
       " 'france',\n",
       " 'montrer',\n",
       " 'voie',\n",
       " \"d'être\",\n",
       " 'exemple',\n",
       " 'modèle',\n",
       " 'voisins',\n",
       " 'texte',\n",
       " 'premiers',\n",
       " 'transposer',\n",
       " 'plusieurs',\n",
       " 'directives',\n",
       " 'directives',\n",
       " 'lesquelles',\n",
       " 'battus',\n",
       " 'président',\n",
       " 'république',\n",
       " 'premier',\n",
       " 'ministre',\n",
       " 'tout',\n",
       " 'gouvernement',\n",
       " 'mobilisation',\n",
       " 'déterminante',\n",
       " 'moment',\n",
       " 'adoption',\n",
       " 'loi',\n",
       " 'montrons',\n",
       " \"l'europe\",\n",
       " 'aussi',\n",
       " 'mobilisés',\n",
       " 'transposer',\n",
       " \"l'étions\",\n",
       " 'hier',\n",
       " 'négocier',\n",
       " 'texte',\n",
       " 'viens',\n",
       " \"aujourd'hui\",\n",
       " 'présenter',\n",
       " \"l'ambition\",\n",
       " 'grande',\n",
       " 'contenu',\n",
       " \"l'impact\",\n",
       " 'concret',\n",
       " 'vie',\n",
       " 'françaises',\n",
       " 'français',\n",
       " \"l'ambition\",\n",
       " \"d'abord\",\n",
       " 'double',\n",
       " 'loi',\n",
       " 'ambition',\n",
       " 'culturelle',\n",
       " 'forte',\n",
       " 'ambition',\n",
       " 'souveraineté',\n",
       " 'doit',\n",
       " 'permettre',\n",
       " 'développement',\n",
       " 'diversité',\n",
       " 'culturelle',\n",
       " 'créativité',\n",
       " 'doit',\n",
       " 'aussi',\n",
       " 'permettre',\n",
       " \"l'audiovisuel\",\n",
       " 'cinéma',\n",
       " 'français',\n",
       " 'rayonner',\n",
       " 'davantage',\n",
       " 'encore',\n",
       " 'doit',\n",
       " 'enfin',\n",
       " 'rendre',\n",
       " 'possible',\n",
       " \"l'application\",\n",
       " \"l'ensemble\",\n",
       " 'acteurs',\n",
       " 'nationaux',\n",
       " 'comme',\n",
       " 'étrangers',\n",
       " 'modèle',\n",
       " 'culturel',\n",
       " 'français',\n",
       " 'repose',\n",
       " 'règles',\n",
       " 'valeurs',\n",
       " 'deuxième',\n",
       " 'ambition',\n",
       " \"c'est\",\n",
       " 'ambition',\n",
       " 'démocratique',\n",
       " 'sociétale',\n",
       " 'citoyenne',\n",
       " 'effet',\n",
       " 'vise',\n",
       " 'protéger',\n",
       " 'citoyens',\n",
       " 'certains',\n",
       " 'excès',\n",
       " 'numérique',\n",
       " 'offrir',\n",
       " 'tous',\n",
       " 'urbains',\n",
       " 'ruraux',\n",
       " \"l'hexagone\",\n",
       " \"d'outre-mer\",\n",
       " 'tous',\n",
       " 'âges',\n",
       " 'tous',\n",
       " 'milieux',\n",
       " 'service',\n",
       " 'plus',\n",
       " 'proche',\n",
       " 'plus',\n",
       " 'efficace',\n",
       " 'voilà',\n",
       " \"l'ambition\",\n",
       " 'projet',\n",
       " 'loi',\n",
       " 'contenu',\n",
       " 'ensuite',\n",
       " 'tout',\n",
       " 'loisir',\n",
       " \"d'en\",\n",
       " 'discuter',\n",
       " 'plus',\n",
       " 'détails',\n",
       " 'ensemble',\n",
       " 'tout',\n",
       " \"l'heure\",\n",
       " 'semaine',\n",
       " 'prochaine',\n",
       " 'pendant',\n",
       " 'discussions',\n",
       " \"l'hémicycle…\",\n",
       " \"j'aimerais\",\n",
       " \"d'ores\",\n",
       " 'déjà',\n",
       " 'résumer',\n",
       " 'grandes',\n",
       " 'lignes',\n",
       " 'texte',\n",
       " 'compose',\n",
       " 'trois',\n",
       " 'parties',\n",
       " 'principales',\n",
       " 'première',\n",
       " 'concerne',\n",
       " 'soutien',\n",
       " \"l'industrie\",\n",
       " 'française',\n",
       " \"l'audiovisuel\",\n",
       " 'cinéma',\n",
       " 'protection',\n",
       " 'tous',\n",
       " 'artistes',\n",
       " 'engagés',\n",
       " \"l'acte\",\n",
       " 'création',\n",
       " 'conviction',\n",
       " \"c'est\",\n",
       " 'acteurs',\n",
       " 'traditionnels',\n",
       " \"l'audiovisuel\",\n",
       " 'acteurs',\n",
       " 'numériques',\n",
       " 'doivent',\n",
       " 'pouvoir',\n",
       " 'coexister',\n",
       " 'or',\n",
       " \"aujourd'hui\",\n",
       " 'existe',\n",
       " 'trop',\n",
       " 'forte',\n",
       " 'asymétrie',\n",
       " 'entre',\n",
       " 'chaînes',\n",
       " 'télévision',\n",
       " 'soumises',\n",
       " 'règles',\n",
       " 'contraignantes',\n",
       " '...',\n",
       " 'tandis',\n",
       " 'plateformes',\n",
       " 'échappent',\n",
       " 'plupart',\n",
       " 'règles',\n",
       " \"c'est\",\n",
       " 'rôle',\n",
       " \"l'etat\",\n",
       " \"c'est\",\n",
       " \"l'objectif\",\n",
       " 'loi',\n",
       " 'rééquilibrer',\n",
       " 'règles',\n",
       " 'jeu',\n",
       " 'faire',\n",
       " 'sorte',\n",
       " \"qu'ils\",\n",
       " 'jouent',\n",
       " 'armes',\n",
       " 'égales',\n",
       " 'maintenir',\n",
       " 'entre',\n",
       " 'concurrence',\n",
       " 'équitable',\n",
       " 'veux',\n",
       " 'être',\n",
       " 'clair',\n",
       " 'loi',\n",
       " 'fera',\n",
       " 'contre',\n",
       " 'plateformes',\n",
       " 'elles',\n",
       " 'vise',\n",
       " 'intégrer',\n",
       " 'modèle',\n",
       " 'intégrer',\n",
       " 'cela',\n",
       " 'veut',\n",
       " 'dire',\n",
       " \"s'opposer\",\n",
       " 'cela',\n",
       " 'veut',\n",
       " 'dire',\n",
       " 'renoncer',\n",
       " 'transiger',\n",
       " 'valeurs',\n",
       " 'compromettre',\n",
       " 'piliers',\n",
       " 'modèle',\n",
       " 'culturel',\n",
       " 'cela',\n",
       " 'veut',\n",
       " 'dire',\n",
       " 'continuer',\n",
       " 'exiger',\n",
       " 'ceux',\n",
       " 'diffusent',\n",
       " 'oeuvres',\n",
       " 'financent',\n",
       " 'ceux',\n",
       " 'créent',\n",
       " 'cela',\n",
       " 'veut',\n",
       " 'dire',\n",
       " 'encourager',\n",
       " 'acteurs',\n",
       " 'vertueux',\n",
       " 'avantager',\n",
       " 'ceux',\n",
       " 'meilleurs',\n",
       " 'alliés',\n",
       " 'création',\n",
       " 'plateformes',\n",
       " 'comme',\n",
       " 'netflix',\n",
       " 'amazon',\n",
       " 'prime',\n",
       " 'video',\n",
       " 'demain',\n",
       " 'disney',\n",
       " 'apportent',\n",
       " 'service',\n",
       " 'concitoyens',\n",
       " 'apprécient',\n",
       " 'elles',\n",
       " 'offrent',\n",
       " 'créateurs',\n",
       " 'formidables',\n",
       " 'opportunités',\n",
       " 'diffusion',\n",
       " 'france',\n",
       " 'partout',\n",
       " 'monde',\n",
       " 'elles',\n",
       " 'bienvenues',\n",
       " 'elles',\n",
       " 'doivent',\n",
       " 'respecter',\n",
       " 'règles',\n",
       " 'loi',\n",
       " 'elles',\n",
       " 'devront',\n",
       " 'respecter',\n",
       " 'principes',\n",
       " 'système',\n",
       " 'financement',\n",
       " 'création',\n",
       " 'audiovisuelle',\n",
       " 'cinématographique',\n",
       " \"c'est\",\n",
       " 'question',\n",
       " \"d'équité\",\n",
       " 'groupes',\n",
       " 'télévision',\n",
       " 'déjà',\n",
       " \"l'obligation\",\n",
       " 'financer',\n",
       " 'séries',\n",
       " 'films',\n",
       " 'français',\n",
       " 'européens',\n",
       " 'loi',\n",
       " 'nouveaux',\n",
       " 'services',\n",
       " 'aussi',\n",
       " 'concernés',\n",
       " 'devront',\n",
       " 'financer',\n",
       " 'production',\n",
       " 'française',\n",
       " 'européenne',\n",
       " 'hauteur',\n",
       " 'minimum',\n",
       " 'chiffre',\n",
       " \"d'affaires\",\n",
       " 'services',\n",
       " 'généralistes',\n",
       " 'hauteur',\n",
       " 'minimum',\n",
       " 'chiffre',\n",
       " \"d'affaires\",\n",
       " 'acteurs',\n",
       " 'spécialisés',\n",
       " 'cinéma',\n",
       " \"l'audiovisuel\",\n",
       " 'donc',\n",
       " 'plus',\n",
       " 'créations',\n",
       " 'françaises',\n",
       " 'produites',\n",
       " 'netflix',\n",
       " 'nouvelles',\n",
       " 'plateformes',\n",
       " 'font',\n",
       " 'déjà',\n",
       " 'voulons',\n",
       " \"qu'elles\",\n",
       " 'fassent',\n",
       " 'davantage',\n",
       " \"qu'elles\",\n",
       " 'valorisent',\n",
       " 'mieux',\n",
       " 'oeuvres',\n",
       " 'françaises',\n",
       " 'européennes',\n",
       " 'parce',\n",
       " 'culture',\n",
       " 'faite',\n",
       " 'oeuvres',\n",
       " 'culture',\n",
       " 'revient',\n",
       " \"l'enrichir\",\n",
       " 'partager',\n",
       " 'rappeler',\n",
       " 'inlassablement',\n",
       " \"qu'elle\",\n",
       " 'unique',\n",
       " 'faire',\n",
       " 'vivre',\n",
       " 'texte',\n",
       " 'loi',\n",
       " 'contribue',\n",
       " \"j'en\",\n",
       " 'totalement',\n",
       " 'convaincu',\n",
       " 'outre',\n",
       " 'loi',\n",
       " 'plateformes',\n",
       " 'devront',\n",
       " 'respecter',\n",
       " 'fondements',\n",
       " 'droit',\n",
       " \"d'auteur\",\n",
       " 'française',\n",
       " \"s'agit\",\n",
       " 'exemple',\n",
       " \"l'obligation\",\n",
       " 'recourir',\n",
       " 'producteur',\n",
       " 'délégué',\n",
       " 'laisser',\n",
       " 'montage',\n",
       " 'final',\n",
       " 'entre',\n",
       " 'mains',\n",
       " 'réalisateur',\n",
       " 'fameux',\n",
       " 'final',\n",
       " 'cut',\n",
       " 'bon',\n",
       " 'français',\n",
       " 'faire',\n",
       " 'obstacle',\n",
       " 'pratiques',\n",
       " 'anglo-saxonnes',\n",
       " 'dites',\n",
       " 'buy-out',\n",
       " 'pratique',\n",
       " 'consiste',\n",
       " 'racheter',\n",
       " \"l'ensemble\",\n",
       " 'droits',\n",
       " 'sans',\n",
       " 'limitation',\n",
       " 'territoire',\n",
       " 'durée',\n",
       " 'loi',\n",
       " 'prévoit',\n",
       " 'contrats',\n",
       " 'production',\n",
       " 'devront',\n",
       " 'comporter',\n",
       " 'clauses-types',\n",
       " 'elles',\n",
       " 'traduiront',\n",
       " 'principes',\n",
       " 'droit',\n",
       " 'moral',\n",
       " 'conditions',\n",
       " 'essentielles',\n",
       " 'rémunération',\n",
       " 'auteurs',\n",
       " 'cnc',\n",
       " \"l'arcom\",\n",
       " 'chargés',\n",
       " 'vérifier',\n",
       " 'présence',\n",
       " 'respect',\n",
       " 'clauses',\n",
       " 'types',\n",
       " 'absence',\n",
       " 'oeuvre',\n",
       " 'pourra',\n",
       " 'ni',\n",
       " 'être',\n",
       " 'prise',\n",
       " 'compte',\n",
       " 'titre',\n",
       " 'obligations',\n",
       " \"d'investissement\",\n",
       " 'ni',\n",
       " 'être',\n",
       " 'éligible',\n",
       " 'aides',\n",
       " 'cnc',\n",
       " \"l'arcom\",\n",
       " 'devra',\n",
       " 'tenir',\n",
       " 'compte',\n",
       " 'décompte',\n",
       " 'obligations',\n",
       " 'diffuseurs',\n",
       " 'toutefois',\n",
       " 'rééquilibrer',\n",
       " 'règles',\n",
       " \"n'est\",\n",
       " 'seulement',\n",
       " 'imposer',\n",
       " 'nouvelles',\n",
       " 'ceux',\n",
       " \"l'instant\",\n",
       " 'sujets',\n",
       " 'cela',\n",
       " 'implique',\n",
       " 'également',\n",
       " \"d'assouplir\",\n",
       " 'celles',\n",
       " \"s'imposent\",\n",
       " 'acteurs',\n",
       " 'traditionnels',\n",
       " 'pense',\n",
       " 'notamment',\n",
       " 'règles',\n",
       " 'encadrant',\n",
       " 'diffusion',\n",
       " 'publicité',\n",
       " 'télévision',\n",
       " 'assouplissement',\n",
       " 'donnera',\n",
       " 'chaînes',\n",
       " \"l'accès\",\n",
       " 'nouvelles',\n",
       " 'ressources',\n",
       " 'ressources',\n",
       " 'mécaniquement',\n",
       " 'réinvesties',\n",
       " 'création',\n",
       " 'permettront',\n",
       " 'consolider',\n",
       " 'champions',\n",
       " 'français',\n",
       " \"l'audiovisuel\",\n",
       " 'veux',\n",
       " 'être',\n",
       " 'très',\n",
       " 'clair',\n",
       " 'plus',\n",
       " 'temps',\n",
       " 'publicité',\n",
       " 'télévision',\n",
       " 'ailleurs',\n",
       " \"l'adaptation\",\n",
       " 'règles',\n",
       " 'pensée',\n",
       " 'manière',\n",
       " 'déstabiliser',\n",
       " 'marché',\n",
       " 'publicitaire',\n",
       " 'autres',\n",
       " 'secteurs',\n",
       " 'notamment',\n",
       " 'presse',\n",
       " 'nationale',\n",
       " 'régionale',\n",
       " 'fait',\n",
       " 'suite',\n",
       " 'longue',\n",
       " 'consultation',\n",
       " 'repose',\n",
       " 'étude',\n",
       " \"d'impact\",\n",
       " 'publicité',\n",
       " 'autorisée',\n",
       " 'offres',\n",
       " 'promotionnelles',\n",
       " 'secteur',\n",
       " 'distribution',\n",
       " 'car',\n",
       " 'cela',\n",
       " 'déstabiliserait',\n",
       " \"l'équilibre\",\n",
       " 'marché',\n",
       " 'publicitaire',\n",
       " 'radio',\n",
       " 'presse',\n",
       " 'revanche',\n",
       " 'publicité',\n",
       " 'segmentée',\n",
       " 'télévision',\n",
       " 'autorisée',\n",
       " 'manière',\n",
       " 'encadrée',\n",
       " \"c'est\",\n",
       " 'véritable',\n",
       " 'relais',\n",
       " 'croissance',\n",
       " 'modernisation',\n",
       " 'télévision',\n",
       " \"c'est\",\n",
       " 'aussi',\n",
       " 'élément',\n",
       " 'concurrence',\n",
       " 'équitable',\n",
       " 'entre',\n",
       " 'chaînes',\n",
       " 'télévision',\n",
       " 'acteurs',\n",
       " \"d'internet\",\n",
       " 'déploiement',\n",
       " 'innovation',\n",
       " 'évidemment',\n",
       " 'attentifs',\n",
       " 'protection',\n",
       " 'données',\n",
       " 'personnelles',\n",
       " 'deuxième',\n",
       " 'partie',\n",
       " 'texte',\n",
       " 'loi',\n",
       " \"s'attache\",\n",
       " 'rénover',\n",
       " 'régulation',\n",
       " 'renforcer',\n",
       " 'rôle',\n",
       " 'régulateur',\n",
       " \"s'adapter\",\n",
       " 'convergence',\n",
       " 'médias',\n",
       " 'régulation',\n",
       " \"l'audiovisuel\",\n",
       " 'numérique',\n",
       " 'doivent',\n",
       " 'plus',\n",
       " 'être',\n",
       " 'séparées',\n",
       " \"c'est\",\n",
       " 'pourquoi',\n",
       " 'conseil',\n",
       " 'supérieur',\n",
       " \"l'audiovisuel\",\n",
       " 'hadopi',\n",
       " 'fusionnés',\n",
       " 'sein',\n",
       " \"d'une\",\n",
       " 'autorité',\n",
       " 'unique',\n",
       " \"l'autorité\",\n",
       " 'régulation',\n",
       " 'communication',\n",
       " 'audiovisuelle',\n",
       " 'numérique',\n",
       " \"l'arcom\",\n",
       " 'nouveau',\n",
       " 'régulateur',\n",
       " 'assurera',\n",
       " 'protection',\n",
       " 'publics',\n",
       " 'tous',\n",
       " 'écrans',\n",
       " 'agira',\n",
       " 'contre',\n",
       " 'infox',\n",
       " 'contre',\n",
       " 'prolifération',\n",
       " 'contenus',\n",
       " 'haineux',\n",
       " 'protection',\n",
       " 'mineurs',\n",
       " 'également',\n",
       " 'doté',\n",
       " 'prérogatives',\n",
       " 'renforcées',\n",
       " 'lutter',\n",
       " 'contre',\n",
       " 'sites',\n",
       " 'pirates',\n",
       " 'compris',\n",
       " 'concerne',\n",
       " 'compétitions',\n",
       " 'sportives',\n",
       " 'cela',\n",
       " 'coopération',\n",
       " \"l'arcep\",\n",
       " 'renforcée',\n",
       " 'temps',\n",
       " \"l'etat\",\n",
       " 'dotera',\n",
       " \"d'un\",\n",
       " 'véritable',\n",
       " 'pôle',\n",
       " \"d'expertise\",\n",
       " 'régulation',\n",
       " 'numérique',\n",
       " 'travaux',\n",
       " 'ministère',\n",
       " \"l'économie\",\n",
       " 'finances',\n",
       " \"d'ores\",\n",
       " 'déjà',\n",
       " 'bien',\n",
       " 'engagés',\n",
       " 'enfin',\n",
       " 'troisième',\n",
       " 'partie',\n",
       " 'vise',\n",
       " 'réaffirmer',\n",
       " 'rôle',\n",
       " 'singularité',\n",
       " \"l'audiovisuel\",\n",
       " 'public',\n",
       " 'veux',\n",
       " 'faire',\n",
       " 'référence',\n",
       " 'référence',\n",
       " 'europe',\n",
       " 'source',\n",
       " 'rayonnement',\n",
       " 'france',\n",
       " 'parvenir',\n",
       " 'doit',\n",
       " 'transformer',\n",
       " 'davantage',\n",
       " 'distinguer',\n",
       " 'offres',\n",
       " 'privées',\n",
       " 'recentrer',\n",
       " 'missions',\n",
       " 'service',\n",
       " 'public',\n",
       " \"l'information\",\n",
       " \"l'éducation\",\n",
       " 'culture',\n",
       " 'cohésion',\n",
       " 'sociale',\n",
       " 'rayonnement',\n",
       " 'international',\n",
       " 'france',\n",
       " 'proximité',\n",
       " 'doivent',\n",
       " 'être',\n",
       " 'priorités',\n",
       " 'coeur',\n",
       " 'offre',\n",
       " 'programmes',\n",
       " 'télévision',\n",
       " 'radio',\n",
       " 'comme',\n",
       " 'ligne',\n",
       " 'priorités',\n",
       " 'communes',\n",
       " 'appellent',\n",
       " 'renforcement',\n",
       " 'coopérations',\n",
       " 'entre',\n",
       " 'sociétés',\n",
       " \"l'audiovisuel\",\n",
       " 'public',\n",
       " 'elles',\n",
       " 'doivent',\n",
       " 'rassembler',\n",
       " 'leurs',\n",
       " 'forces',\n",
       " 'proposer',\n",
       " 'offre',\n",
       " 'véritablement',\n",
       " 'complémentaire',\n",
       " 'tous',\n",
       " 'écrans',\n",
       " 'fin',\n",
       " 'france',\n",
       " 'télévisions',\n",
       " 'radio',\n",
       " 'france',\n",
       " 'france',\n",
       " 'médias',\n",
       " 'monde',\n",
       " \"l'ina\",\n",
       " 'réunies',\n",
       " 'sein',\n",
       " \"d'un\",\n",
       " 'groupe',\n",
       " 'public',\n",
       " 'chargé',\n",
       " 'définir',\n",
       " 'stratégie',\n",
       " 'globale',\n",
       " 'france',\n",
       " 'médias',\n",
       " 'composition',\n",
       " 'conseils',\n",
       " \"d'administration\",\n",
       " 'modifiée',\n",
       " 'nomination',\n",
       " 'dirigeants',\n",
       " 'relèvera',\n",
       " 'désormais',\n",
       " \"l'initiative\",\n",
       " 'conseils',\n",
       " \"d'administration\",\n",
       " 'voilà',\n",
       " 'texte',\n",
       " 'concrètement',\n",
       " 'comment',\n",
       " 'est-ce',\n",
       " 'tout',\n",
       " 'cela',\n",
       " 'traduit',\n",
       " \"qu'est-ce\",\n",
       " 'va',\n",
       " 'changer',\n",
       " 'français',\n",
       " 'va',\n",
       " 'changer',\n",
       " \"c'est\",\n",
       " \"l'offre\",\n",
       " 'programmes',\n",
       " 'améliorée',\n",
       " 'enrichie',\n",
       " 'diversifiée',\n",
       " 'rendue',\n",
       " 'plus',\n",
       " 'accessible',\n",
       " 'tous',\n",
       " 'écrans',\n",
       " 'généraliserons',\n",
       " \"l'ultra\",\n",
       " 'haute',\n",
       " 'définition',\n",
       " 'tnt',\n",
       " \"d'ici\",\n",
       " 'concitoyens',\n",
       " 'notamment',\n",
       " 'accès',\n",
       " 'grande',\n",
       " 'qualité',\n",
       " 'retransmissions',\n",
       " 'jeux',\n",
       " 'olympiques',\n",
       " 'aussi',\n",
       " 'plus',\n",
       " 'cinéma',\n",
       " 'tous',\n",
       " 'jours',\n",
       " 'semaine',\n",
       " 'chaînes',\n",
       " 'télé',\n",
       " 'gratuites',\n",
       " 'plus',\n",
       " 'films',\n",
       " 'séries',\n",
       " 'françaises',\n",
       " 'européennes',\n",
       " 'plateformes',\n",
       " 'plus',\n",
       " 'programmes',\n",
       " 'proximité',\n",
       " 'programmes',\n",
       " 'dédiés',\n",
       " 'jeunesse',\n",
       " \"l'audiovisuel\",\n",
       " 'public',\n",
       " 'plus',\n",
       " 'programmes',\n",
       " 'accessibles',\n",
       " 'personnes',\n",
       " 'situation',\n",
       " 'handicap',\n",
       " 'télé',\n",
       " 'comme',\n",
       " 'plateformes',\n",
       " 'chaînes',\n",
       " 'télévision',\n",
       " ...]"
      ]
     },
     "execution_count": 186,
     "metadata": {},
     "output_type": "execute_result"
    }
   ],
   "source": [
    "tokenized_sentences"
   ]
  },
  {
   "cell_type": "code",
   "execution_count": 187,
   "metadata": {},
   "outputs": [],
   "source": [
    "fd = nltk.FreqDist(tokenized_sentences)"
   ]
  },
  {
   "cell_type": "code",
   "execution_count": 188,
   "metadata": {},
   "outputs": [
    {
     "ename": "NameError",
     "evalue": "name 'nlargest' is not defined",
     "output_type": "error",
     "traceback": [
      "\u001b[1;31m---------------------------------------------------------------------------\u001b[0m",
      "\u001b[1;31mNameError\u001b[0m                                 Traceback (most recent call last)",
      "\u001b[1;32m<ipython-input-188-14e1865a0ecb>\u001b[0m in \u001b[0;36m<module>\u001b[1;34m\u001b[0m\n\u001b[1;32m----> 1\u001b[1;33m \u001b[0mvocab\u001b[0m \u001b[1;33m=\u001b[0m \u001b[0mnlargest\u001b[0m\u001b[1;33m(\u001b[0m\u001b[1;36m20\u001b[0m\u001b[1;33m,\u001b[0m \u001b[0mfd\u001b[0m\u001b[1;33m,\u001b[0m \u001b[0mkey\u001b[0m\u001b[1;33m=\u001b[0m\u001b[0mfd\u001b[0m\u001b[1;33m.\u001b[0m\u001b[0mget\u001b[0m\u001b[1;33m)\u001b[0m\u001b[1;33m\u001b[0m\u001b[1;33m\u001b[0m\u001b[0m\n\u001b[0m",
      "\u001b[1;31mNameError\u001b[0m: name 'nlargest' is not defined"
     ]
    }
   ],
   "source": [
    "vocab = nlargest(20, fd, key=fd.get)"
   ]
  },
  {
   "cell_type": "code",
   "execution_count": 442,
   "metadata": {},
   "outputs": [
    {
     "data": {
      "text/plain": [
       "[\"c'est\",\n",
       " 'plus',\n",
       " 'aussi',\n",
       " 'donc',\n",
       " 'tout',\n",
       " 'bien',\n",
       " 'faire',\n",
       " 'très',\n",
       " \"qu'il\",\n",
       " 'fait',\n",
       " 'ministre',\n",
       " 'france',\n",
       " 'comme',\n",
       " 'faut',\n",
       " 'parce',\n",
       " 'tous',\n",
       " 'être',\n",
       " 'président',\n",
       " \"n'est\",\n",
       " 'si']"
      ]
     },
     "execution_count": 442,
     "metadata": {},
     "output_type": "execute_result"
    }
   ],
   "source": [
    "vocab"
   ]
  },
  {
   "cell_type": "code",
   "execution_count": 94,
   "metadata": {},
   "outputs": [],
   "source": [
    "from spacy.lemmatizer import Lemmatizer\n",
    "from spacy.lang.en import LEMMA_INDEX, LEMMA_EXC, LEMMA_RULES\n",
    "import spacy\n",
    "nlp = spacy.load(\"fr_core_news_sm\")"
   ]
  },
  {
   "cell_type": "code",
   "execution_count": 194,
   "metadata": {},
   "outputs": [
    {
     "ename": "NameError",
     "evalue": "name 'Lemmatizer' is not defined",
     "output_type": "error",
     "traceback": [
      "\u001b[1;31m---------------------------------------------------------------------------\u001b[0m",
      "\u001b[1;31mNameError\u001b[0m                                 Traceback (most recent call last)",
      "\u001b[1;32m<ipython-input-194-c75820206e1f>\u001b[0m in \u001b[0;36m<module>\u001b[1;34m\u001b[0m\n\u001b[0;32m      1\u001b[0m \u001b[1;31m# Instanciating lemmatizer\u001b[0m\u001b[1;33m\u001b[0m\u001b[1;33m\u001b[0m\u001b[1;33m\u001b[0m\u001b[0m\n\u001b[1;32m----> 2\u001b[1;33m \u001b[0mlemmatizer\u001b[0m \u001b[1;33m=\u001b[0m \u001b[0mLemmatizer\u001b[0m\u001b[1;33m(\u001b[0m\u001b[0mLEMMA_INDEX\u001b[0m\u001b[1;33m,\u001b[0m \u001b[0mLEMMA_EXC\u001b[0m\u001b[1;33m,\u001b[0m \u001b[0mLEMMA_RULES\u001b[0m\u001b[1;33m)\u001b[0m\u001b[1;33m\u001b[0m\u001b[1;33m\u001b[0m\u001b[0m\n\u001b[0m\u001b[0;32m      3\u001b[0m \u001b[1;31m# Usage: lemmatizer(token, POS(token))\u001b[0m\u001b[1;33m\u001b[0m\u001b[1;33m\u001b[0m\u001b[1;33m\u001b[0m\u001b[0m\n\u001b[0;32m      4\u001b[0m \u001b[1;31m# But we will rather use spacy's nlp engine\u001b[0m\u001b[1;33m\u001b[0m\u001b[1;33m\u001b[0m\u001b[1;33m\u001b[0m\u001b[0m\n\u001b[0;32m      5\u001b[0m \u001b[1;33m\u001b[0m\u001b[0m\n",
      "\u001b[1;31mNameError\u001b[0m: name 'Lemmatizer' is not defined"
     ]
    }
   ],
   "source": [
    "# Instanciating lemmatizer\n",
    "lemmatizer = Lemmatizer(LEMMA_INDEX, LEMMA_EXC, LEMMA_RULES)\n",
    "# Usage: lemmatizer(token, POS(token))\n",
    "# But we will rather use spacy's nlp engine\n",
    "\n",
    "# Counting lemmas vocabulary count\n",
    "arr = DATA.discours.apply(lambda x: [w.lemma_ for w in nlp(x)]).array\n",
    "arr = reduce(add, arr)\n",
    "print(\"Number of unique lemmas found with Spacy's lemmatizer: {}\".format(len(set(arr))))\n",
    "\n",
    "lemmatization_sample =  DATA.discours.head().apply(lambda x: \n",
    "                                              [w.lemma_ for w in nlp(x)])\n",
    "print(\"Lemmatization sample:\\n {}\".format(lemmatization_sample))"
   ]
  },
  {
   "cell_type": "code",
   "execution_count": null,
   "metadata": {},
   "outputs": [],
   "source": [
    "from spacy import displacy\n",
    "\n",
    "# Inspecting a dependency tree and it's POS TAGs wth displacy\n",
    "\n",
    "doc=nlp(DATA.discours[0])\n",
    "displacy.render(doc, style=\"ent\",jupyter=True)"
   ]
  },
  {
   "cell_type": "code",
   "execution_count": 471,
   "metadata": {},
   "outputs": [
    {
     "name": "stdout",
     "output_type": "stream",
     "text": [
      "Bonjour Bonjour PROPN PROPN___ ROOT Xxxxx True False\n"
     ]
    },
    {
     "ename": "AttributeError",
     "evalue": "'NoneType' object has no attribute 'pretty'",
     "output_type": "error",
     "traceback": [
      "\u001b[1;31m---------------------------------------------------------------------------\u001b[0m",
      "\u001b[1;31mAttributeError\u001b[0m                            Traceback (most recent call last)",
      "\u001b[1;32m<ipython-input-471-aa5f611bebe9>\u001b[0m in \u001b[0;36m<module>\u001b[1;34m\u001b[0m\n\u001b[0;32m      5\u001b[0m \u001b[1;33m\u001b[0m\u001b[0m\n\u001b[0;32m      6\u001b[0m \u001b[1;32mfor\u001b[0m \u001b[0mtoken\u001b[0m \u001b[1;32min\u001b[0m \u001b[0mdoc\u001b[0m\u001b[1;33m:\u001b[0m\u001b[1;33m\u001b[0m\u001b[1;33m\u001b[0m\u001b[0m\n\u001b[1;32m----> 7\u001b[1;33m     \u001b[0mprint\u001b[0m\u001b[1;33m(\u001b[0m\u001b[0mtoken\u001b[0m\u001b[1;33m.\u001b[0m\u001b[0mtext\u001b[0m\u001b[1;33m,\u001b[0m \u001b[0mtoken\u001b[0m\u001b[1;33m.\u001b[0m\u001b[0mlemma_\u001b[0m\u001b[1;33m,\u001b[0m \u001b[0mtoken\u001b[0m\u001b[1;33m.\u001b[0m\u001b[0mpos_\u001b[0m\u001b[1;33m,\u001b[0m \u001b[0mtoken\u001b[0m\u001b[1;33m.\u001b[0m\u001b[0mtag_\u001b[0m\u001b[1;33m,\u001b[0m \u001b[0mtoken\u001b[0m\u001b[1;33m.\u001b[0m\u001b[0mdep_\u001b[0m\u001b[1;33m,\u001b[0m\u001b[0mtoken\u001b[0m\u001b[1;33m.\u001b[0m\u001b[0mshape_\u001b[0m\u001b[1;33m,\u001b[0m \u001b[0mtoken\u001b[0m\u001b[1;33m.\u001b[0m\u001b[0mis_alpha\u001b[0m\u001b[1;33m,\u001b[0m \u001b[0mtoken\u001b[0m\u001b[1;33m.\u001b[0m\u001b[0mis_stop\u001b[0m\u001b[1;33m)\u001b[0m\u001b[1;33m.\u001b[0m\u001b[0mpretty\u001b[0m\u001b[1;33m(\u001b[0m\u001b[1;33m)\u001b[0m\u001b[1;33m\u001b[0m\u001b[1;33m\u001b[0m\u001b[0m\n\u001b[0m",
      "\u001b[1;31mAttributeError\u001b[0m: 'NoneType' object has no attribute 'pretty'"
     ]
    }
   ],
   "source": [
    "import spacy\n",
    "\n",
    "nlp = spacy.load(\"fr_core_news_sm\")\n",
    "doc=nlp(DATA.discours[0])\n",
    "\n",
    "for token in doc:\n",
    "    print(token.text, token.lemma_, token.pos_, token.tag_, token.dep_,token.shape_, token.is_alpha, token.is_stop)\n",
    "    \n",
    "pd.Dataframe()"
   ]
  },
  {
   "cell_type": "code",
   "execution_count": null,
   "metadata": {},
   "outputs": [],
   "source": [
    "from functools import reduce\n",
    "from operator import add\n",
    "\n",
    "arr = clean_corpus.apply(lambda x: list(filter(lambda a: a.lower() not in to_be_removed,word_tokenize(x)))).array\n",
    "#Deja fit \n",
    "arr = reduce(add, np.array(arr))\n",
    "c = Counter(np.array(arr))\n",
    "print(c)\n",
    "d = pd.DataFrame(c, index=['occurrences']).transpose().reset_index()\n",
    "d.columns=['word', 'occurences']\n",
    "nb_total = d.occurences.sum()\n",
    "d['freq'] = d.occurences.apply(lambda x: x/nb_total)\n",
    "d = d.sort_values('freq', ascending=False)"
   ]
  },
  {
   "cell_type": "code",
   "execution_count": null,
   "metadata": {},
   "outputs": [],
   "source": [
    "arr=[]\n",
    "for sentence in tokenized_sentences:\n",
    "    arr+= sentence\n",
    "arr"
   ]
  },
  {
   "cell_type": "code",
   "execution_count": 189,
   "metadata": {},
   "outputs": [],
   "source": [
    "from gensim.models.phrases import Phrases, Phraser\n",
    "\n",
    "def show_phrases(tokenized_sentences, threshold=10, shown=15):\n",
    "    phrases = Phrases(tokenized_sentences, threshold=threshold)\n",
    "    i = 0\n",
    "    for phrase, score in phrases.export_phrases(tokenized_sentences):\n",
    "        if i>shown:\n",
    "            break\n",
    "        else:\n",
    "            print(\"Expression : {0}, score = {1}\".format(phrase, score))\n",
    "    i=i+1"
   ]
  },
  {
   "cell_type": "code",
   "execution_count": 190,
   "metadata": {},
   "outputs": [],
   "source": [
    "show_phrases(tokenized_sentences,threshold=100)"
   ]
  },
  {
   "cell_type": "code",
   "execution_count": 191,
   "metadata": {},
   "outputs": [],
   "source": [
    "phrases=Phrases(tokenized_sentences, threshold=80)"
   ]
  },
  {
   "cell_type": "code",
   "execution_count": 192,
   "metadata": {},
   "outputs": [],
   "source": [
    "phraser = Phraser(phrases)\n",
    "clean_corpus = []\n",
    "for sentence in tokenized_sentences:\n",
    "    clean_corpus.append(phraser[sentence])\n",
    "  "
   ]
  },
  {
   "cell_type": "code",
   "execution_count": 193,
   "metadata": {},
   "outputs": [
    {
     "name": "stdout",
     "output_type": "stream",
     "text": [
      "The virtual instance has 8 cpus, that will be used to train the word2vec model\n",
      "Training the political W2V ...\n"
     ]
    }
   ],
   "source": [
    "from gensim.models import Word2Vec\n",
    "from multiprocessing import cpu_count\n",
    "\n",
    "cpu = cpu_count()\n",
    "print('The virtual instance has {} cpus, that will be used to train the word2vec model'.format(cpu))\n",
    "\n",
    "print(\"Training the political W2V ...\")\n",
    "pol = Word2Vec(clean_corpus, size=100, window=5, min_count=3, workers=cpu)\n",
    "pol.train(clean_corpus, total_examples=len(clean_corpus), epochs=10)\n",
    "pol_wv = pol.wv\n",
    "\n"
   ]
  },
  {
   "cell_type": "code",
   "execution_count": 287,
   "metadata": {},
   "outputs": [],
   "source": [
    "domains = ['politique'] \n",
    "wvs = [pol_wv]\n",
    "def closest_to(w, n=10):\n",
    "  for wv, domain in zip(wvs, domains):\n",
    "    if w in wv:\n",
    "      closest_ws =[w[0] for w in wv.most_similar(w, topn=n)]\n",
    "      print(\"According to {}, the closest {}, words to \\\"{}\\\" \" \n",
    "      \"are: \\n {}\".format(domain, n, w, '\"'+'\",\\n then \"'.join(closest_ws)+'\"'))\n",
    "    else:\n",
    "      print(w, \" could not be found in the {} vocabulary\".format(domain))"
   ]
  },
  {
   "cell_type": "code",
   "execution_count": 288,
   "metadata": {},
   "outputs": [
    {
     "name": "stdout",
     "output_type": "stream",
     "text": [
      "According to politique, the closest 10, words to \"économie\" are: \n",
      " \"véritable\",\n",
      " then \"technologie\",\n",
      " then \"lasers\",\n",
      " then \"opérationnelle\",\n",
      " then \"environnementale\",\n",
      " then \"doter\",\n",
      " then \"culturelle\",\n",
      " then \"préservation\",\n",
      " then \"transformation\",\n",
      " then \"l'autonomie\"\n"
     ]
    }
   ],
   "source": [
    "closest_to('économie')"
   ]
  },
  {
   "cell_type": "code",
   "execution_count": 289,
   "metadata": {},
   "outputs": [
    {
     "name": "stdout",
     "output_type": "stream",
     "text": [
      "According to politique, the closest 10, words to \"finances\" are: \n",
      " \"boukadoum\",\n",
      " then \"ministre_l'economie\",\n",
      " then \"adressée\",\n",
      " then \"l'intérieur\",\n",
      " then \"interrogée\",\n",
      " then \"ancien\",\n",
      " then \"laurent_saint-martin\",\n",
      " then \"confié\",\n",
      " then \"muriel_pénicaud\",\n",
      " then \"nicole_belloubet\"\n"
     ]
    }
   ],
   "source": [
    "closest_to('finances')"
   ]
  },
  {
   "cell_type": "code",
   "execution_count": 291,
   "metadata": {},
   "outputs": [
    {
     "name": "stdout",
     "output_type": "stream",
     "text": [
      "According to politique, the closest 10, words to \"environnement\" are: \n",
      " \"humain\",\n",
      " then \"cherchant\",\n",
      " then \"planification\",\n",
      " then \"autonome\",\n",
      " then \"préservation_biodiversité\",\n",
      " then \"productivité\",\n",
      " then \"ème_siècle\",\n",
      " then \"l'efficacité\",\n",
      " then \"alimentation\",\n",
      " then \"freiner\"\n"
     ]
    }
   ],
   "source": [
    "closest_to('environnement')"
   ]
  },
  {
   "cell_type": "code",
   "execution_count": 293,
   "metadata": {},
   "outputs": [
    {
     "name": "stdout",
     "output_type": "stream",
     "text": [
      "According to politique, the closest 10, words to \"politique\" are: \n",
      " \"ambitieuse\",\n",
      " then \"industrielle\",\n",
      " then \"stratégie\",\n",
      " then \"énergétique\",\n",
      " then \"agricole_commune\",\n",
      " then \"écologique\",\n",
      " then \"européenne\",\n",
      " then \"processus\",\n",
      " then \"vision\",\n",
      " then \"globale\"\n"
     ]
    }
   ],
   "source": [
    "closest_to('politique')"
   ]
  },
  {
   "cell_type": "code",
   "execution_count": null,
   "metadata": {},
   "outputs": [],
   "source": []
  },
  {
   "cell_type": "code",
   "execution_count": 294,
   "metadata": {},
   "outputs": [],
   "source": [
    "import os \n",
    "\n",
    "def save_embeddings(model, name):\n",
    "    vocab_keys = list(model.wv.vocab.keys())\n",
    "    vocab = {vocab_keys[i]: i for i in range(len(vocab_keys))}\n",
    "    inv_vocab = {v: k for k, v in vocab.items()}\n",
    "    METADATA_PATH = os.path.join('.', name+\"_metadata.tsv\")\n",
    "    VECTOR_PATHS = os.path.join('.', name+\"_embeddings.tsv\")\n",
    "    with open(METADATA_PATH, \"w\", encoding=\"utf-8\") as metadata:\n",
    "        with open(VECTOR_PATHS, \"w\", encoding=\"utf-8\") as vectors:\n",
    "            metadata.write(\"WORD\\tINDEX\\n\")\n",
    "            for i in tqdm(range(len(vocab))):\n",
    "                try:\n",
    "                    vector = model.wv[inv_vocab[i]]\n",
    "                    metadata.write(\n",
    "                        str(inv_vocab[i]) + \"\\t\" + str(i) + \"\\n\"\n",
    "                    )\n",
    "                    n = len(vector)\n",
    "                    for j in range(n):\n",
    "                        if j == (n - 1):\n",
    "                            vectors.write(str(vector[j]) + \"\\n\")\n",
    "                        else:\n",
    "                            vectors.write(str(vector[j]) + '\\t')\n",
    "                except:\n",
    "                    print(\n",
    "                        \"{0} not in vocabulary. Passing. \\n\".format(\n",
    "                            inv_vocab[i]\n",
    "                        )\n",
    "                    )\n",
    "                    pass"
   ]
  },
  {
   "cell_type": "code",
   "execution_count": 295,
   "metadata": {},
   "outputs": [
    {
     "name": "stderr",
     "output_type": "stream",
     "text": [
      "100%|██████████| 12871/12871 [00:01<00:00, 8722.35it/s]\n"
     ]
    }
   ],
   "source": [
    "save_embeddings(pol, \"pol\")"
   ]
  },
  {
   "cell_type": "code",
   "execution_count": null,
   "metadata": {},
   "outputs": [],
   "source": []
  },
  {
   "cell_type": "code",
   "execution_count": null,
   "metadata": {},
   "outputs": [],
   "source": []
  },
  {
   "cell_type": "code",
   "execution_count": null,
   "metadata": {},
   "outputs": [],
   "source": []
  },
  {
   "cell_type": "code",
   "execution_count": null,
   "metadata": {},
   "outputs": [],
   "source": []
  },
  {
   "cell_type": "code",
   "execution_count": 696,
   "metadata": {},
   "outputs": [
    {
     "name": "stdout",
     "output_type": "stream",
     "text": [
      "['Monsieur', 'le', 'vice', 'Président', 'du', 'Conseil', 'départemental', 'de', 'Mayotte']\n"
     ]
    }
   ],
   "source": [
    "from nltk.tokenize import ToktokTokenizer, word_tokenize\n",
    "import nltk \n",
    "from nltk.tokenize import RegexpTokenizer\n",
    "tokenizer = RegexpTokenizer(r'\\w+')\n",
    "print(tokenizer.tokenize(DATA.discours[0]))\n"
   ]
  },
  {
   "cell_type": "code",
   "execution_count": null,
   "metadata": {},
   "outputs": [],
   "source": []
  },
  {
   "cell_type": "code",
   "execution_count": 697,
   "metadata": {},
   "outputs": [
    {
     "data": {
      "text/plain": [
       "31464"
      ]
     },
     "execution_count": 697,
     "metadata": {},
     "output_type": "execute_result"
    }
   ],
   "source": [
    "# List of words with separator = \" \"\n",
    "arr = DATA.discours.apply(lambda x: x.split(' ')).array\n",
    "\n",
    "from functools import reduce\n",
    "from operator import add\n",
    "\n",
    "arr = reduce(add, arr) # Concatenates all lists contained in arr\n",
    "# Equivalent to :\n",
    "# arr2 = []\n",
    "# for a in arr:\n",
    "#   arr2 = arr2 + a\n",
    "# arr = arr2\n",
    "len(set(arr)) \n",
    "# the set object transforms a list to the set of unique elements in the list "
   ]
  },
  {
   "cell_type": "code",
   "execution_count": 698,
   "metadata": {},
   "outputs": [],
   "source": [
    "from nltk.tokenize import ToktokTokenizer\n",
    "from functools import reduce\n",
    "from operator import add\n",
    "\n",
    "arr = DATA.discours.apply(lambda x: tokenizer.tokenize(x)).array\n",
    "arr = reduce(add, arr)"
   ]
  },
  {
   "cell_type": "code",
   "execution_count": 732,
   "metadata": {},
   "outputs": [
    {
     "name": "stderr",
     "output_type": "stream",
     "text": [
      "[nltk_data] Downloading package stopwords to\n",
      "[nltk_data]     C:\\Users\\morga\\AppData\\Roaming\\nltk_data...\n",
      "[nltk_data]   Package stopwords is already up-to-date!\n"
     ]
    },
    {
     "name": "stdout",
     "output_type": "stream",
     "text": [
      "Counter({'plus': 1676, 'aussi': 1288, 'être': 1215, 'faire': 1048, 'tout': 957, 'très': 923, 'bien': 904, 'fait': 843, 'faut': 843, 'dire': 840, 'donc': 774, 'ministre': 750, 'France': 735, 'là': 729, 'parce': 721, 'hui': 718, 'comme': 700, 'tous': 672, 'aujourd': 641, 'peut': 626, 'si': 622, 'politique': 613, 'loi': 588, 'logement': 576, 'question': 562, 'beaucoup': 547, 'pense': 523, 'deux': 495, 'Europe': 477, 'pays': 475, 'Mme': 448, 'République': 437, 'va': 432, 'avoir': 432, 'quand': 428, 'où': 426, 'sans': 419, 'autres': 419, 'entre': 416, 'doit': 413, 'logements': 412, 'ailleurs': 409, 'ans': 406, 'fois': 399, 'président': 396, 'contre': 389, 'encore': 387, 'nombre': 379, 'ensemble': 378, 'dit': 367, 'crois': 366, 'travail': 365, 'sécurité': 365, 'dont': 362, 'ici': 356, 'ceux': 355, 'cela': 352, 'non': 337, 'sujet': 334, 'devons': 332, '000': 329, 'sociaux': 327, 'temps': 322, 'européenne': 318, 'Français': 318, 'notamment': 314, 'parole': 309, 'choses': 303, 'nationale': 301, 'cas': 300, 'depuis': 297, 'exemple': 297, 'projet': 296, 'toujours': 295, 'abord': 291, 'social': 289, 'situation': 281, 'monde': 275, 'débat': 275, 'veux': 272, 'cadre': 266, 'Non': 260, 'État': 259, 'vie': 256, 'droit': 256, 'mieux': 254, 'euros': 254, 'personnes': 249, 'présidente': 249, 'Monsieur': 246, 'évidemment': 246, 'déjà': 245, 'toutes': 241, 'certain': 236, 'cet': 234, 'puis': 230, 'matière': 229, 'fond': 227, 'autre': 225, 'chaque': 224, 'point': 223, 'mois': 222, 'parfois': 222, 'année': 218, 'place': 217, 'quelques': 216, 'important': 215, 'entreprises': 213, 'sujets': 211, 'veut': 210, 'Jean': 210, 'souveraineté': 210, 'certains': 209, 'moins': 208, 'mettre': 207, 'Donc': 206, 'peu': 204, 'ville': 202, 'moment': 202, 'français': 200, 'accord': 199, 'objectif': 199, 'gouvernement': 199, 'leurs': 198, 'chose': 197, 'après': 196, 'engagement': 195, 'plan': 194, 'police': 193, 'sens': 191, 'celle': 189, 'plusieurs': 188, 'toute': 187, 'système': 187, 'compte': 186, 'développement': 186, 'première': 186, 'également': 186, 'années': 186, 'elles': 184, 'Paris': 182, 'ordre': 182, 'sociale': 182, 'force': 181, 'action': 181, 'millions': 178, 'volonté': 178, 'savez': 177, 'histoire': 177, 'manière': 177, 'car': 176, 'besoin': 176, 'moyens': 175, 'secrétaire': 175, 'pouvoir': 173, 'grande': 172, 'celui': 171, 'texte': 171, 'territoires': 170, 'Oui': 170, 'aller': 169, 'continuer': 169, 'sorte': 168, 'dis': 168, 'majorité': 167, 'avant': 166, 'dispositif': 166, 'jours': 166, 'sûr': 165, 'part': 165, 'prendre': 164, 'politiques': 164, 'chacun': 163, 'alors': 163, 'permettre': 162, 'sais': 161, 'réforme': 159, 'face': 157, 'jamais': 157, 'française': 156, 'responsabilité': 156, 'économique': 155, 'peuvent': 155, 'territoire': 155, 'défense': 152, 'trois': 151, 'européen': 151, 'parlementaires': 150, 'particulier': 149, 'Gouvernement': 149, 'sous': 148, 'Etat': 147, 'partie': 147, 'effet': 146, 'partenaires': 146, 'répondre': 146, 'permis': 146, 'assez': 146, 'questions': 145, 'mesures': 145, 'ainsi': 144, 'choix': 143, 'mesure': 143, 'quelque': 142, 'comment': 142, 'souvent': 142, 'trop': 142, 'monsieur': 141, 'doivent': 140, 'travailler': 139, 'heure': 139, 'pu': 139, 'niveau': 138, 'Denormandie': 138, 'tant': 137, 'combat': 137, 'autant': 136, 'fin': 136, 'Julien': 136, 'maintenant': 135, 'enfin': 135, 'Européens': 135, 'accompagner': 134, 'projets': 134, 'Etats': 134, 'Union': 134, 'allons': 133, 'souhaite': 133, 'lutte': 133, 'voir': 132, 'nouvelle': 132, 'celles': 132, 'capacité': 131, 'oeuvre': 131, 'absolument': 131, 'stratégie': 130, 'compris': 130, 'laquelle': 130, 'rapport': 129, 'donner': 128, 'lors': 128, 'quoi': 128, 'vrai': 127, 'accès': 127, 'mis': 127, 'Pologne': 127, 'acteurs': 126, 'désormais': 126, 'ni': 126, 'jour': 126, 'enfants': 126, 'quartiers': 126, 'vais': 125, 'mêmes': 124, 'stratégique': 124, 'Alors': 124, 'agit': 124, 'Parce': 123, 'appelle': 122, 'reste': 121, 'regarder': 121, 'numérique': 121, 'savoir': 121, 'public': 120, 'possible': 120, 'façon': 120, 'puisse': 119, 'protection': 118, 'ministère': 118, 'auteurs': 118, 'pourquoi': 117, 'jeunes': 117, 'dernier': 117, 'gens': 117, 'plutôt': 116, 'rien': 116, 'règles': 116, 'coeur': 115, 'services': 115, 'parler': 115, 'national': 115, 'tel': 115, 'rôle': 114, 'premier': 114, 'bon': 114, 'dialogue': 114, 'parlementaire': 114, 'Mesdames': 113, 'essentiel': 113, 'simplement': 113, 'font': 113, 'semaines': 113, 'liberté': 113, 'sein': 112, 'voulons': 112, 'train': 112, 'Premier': 112, 'raison': 112, 'vers': 112, 'loin': 111, 'réalité': 111, 'assurer': 110, 'quel': 110, 'peux': 110, 'concitoyens': 110, 'publics': 109, 'bailleurs': 109, 'députés': 109, 'retraite': 109, 'Laurent': 109, 'grands': 108, 'grand': 108, 'associations': 108, 'villes': 108, 'nouveau': 107, 'demain': 107, 'rénovation': 107, 'marché': 107, 'porter': 107, 'problème': 107, 'Président': 106, 'ambition': 106, 'lequel': 106, 'milliards': 106, 'pris': 105, 'protéger': 105, '2019': 105, 'femmes': 105, 'artistes': 105, '2020': 105, 'cours': 104, 'deuxième': 104, 'vu': 104, 'trouver': 104, 'vivre': 104, 'groupe': 104, 'ELAN': 104, 'permet': 103, 'commune': 103, 'mise': 103, 'juste': 103, 'permettra': 103, 'Si': 102, 'publique': 102, 'résultats': 102, 'terme': 101, 'près': 101, 'demande': 101, 'simple': 101, 'justice': 101, 'données': 100, 'donne': 100, 'APL': 100, 'an': 99, 'hier': 99, 'Cela': 99, 'accompagnement': 99, 'sait': 99, 'effectivement': 99, 'pouvons': 98, 'afin': 98, 'construire': 98, 'propos': 98, 'élus': 97, 'avancer': 97, 'devant': 97, 'partout': 97, 'général': 97, 'vont': 96, 'offre': 96, 'foncier': 96, 'bancs': 96, 'occasion': 95, 'lieu': 95, 'commission': 95, 'valeurs': 95, 'Assemblée': 95, 'passe': 94, 'urgence': 94, 'avenir': 94, 'terrain': 94, 'construction': 94, 'intérêts': 94, 'nécessaire': 94, 'emploi': 94, 'coopération': 93, 'forces': 93, 'création': 93, 'nombreux': 93, 'Enfin': 93, 'financement': 93, 'oui': 93, 'éléments': 93, 'confiance': 92, 'relation': 92, 'conditions': 92, 'agriculture': 92, 'dès': 92, 'bonne': 91, 'aide': 90, 'internationale': 90, 'voudrais': 90, 'société': 90, 'européens': 90, 'droits': 90, 'réponse': 90, 'vision': 90, 'maire': 90, 'conduire': 90, 'porte': 89, 'telle': 89, 'service': 88, 'propositions': 88, 'surtout': 88, 'Messieurs': 87, 'voilà': 87, 'Conseil': 86, 'profondément': 86, 'titre': 86, 'nouvelles': 86, 'doute': 86, 'proposition': 86, 'dispositifs': 86, 'veulent': 86, 'Pierre': 86, 'mener': 85, 'difficile': 85, 'quotidien': 84, 'agricole': 84, 'trouve': 84, 'créer': 84, 'remercie': 84, 'lancé': 84, 'solidarité': 83, 'puissance': 83, 'fonction': 83, 'long': 83, 'secteur': 82, 'dernière': 82, 'concerne': 82, 'possibilité': 82, 'Comme': 81, 'présence': 81, 'solutions': 81, 'décisions': 81, 'parle': 81, 'pendant': 80, 'puisque': 80, 'Voilà': 80, 'affaires': 80, 'respect': 80, 'objectifs': 80, 'égard': 80, 'davantage': 80, 'Or': 80, 'familles': 80, 'instant': 79, 'collectivités': 79, 'venir': 79, 'totalement': 79, 'chiffres': 79, 'côté': 79, 'hébergement': 79, 'développer': 78, 'jusqu': 78, 'prise': 78, 'Parlement': 78, 'aucune': 78, 'certaines': 78, 'renforcer': 77, 'rappelé': 77, 'domaine': 77, 'Merci': 77, 'économie': 77, 'forte': 77, '2018': 77, 'créé': 77, 'Aujourd': 77, 'vite': 77, 'janvier': 76, 'personne': 76, 'Eh': 76, 'voit': 76, 'Russie': 76, 'esprit': 75, 'forme': 75, 'organismes': 75, 'démocratie': 75, 'revenir': 74, 'détermination': 74, 'ensuite': 74, 'décision': 74, 'faites': 74, 'passer': 74, 'extrêmement': 74, 'engagements': 74, 'équilibre': 74, 'objet': 74, 'Tout': 74, 'delà': 74, 'prix': 74, 'maintien': 74, 'chômage': 74, 'Action': 74, 'éducation': 73, 'concernés': 73, 'améliorer': 73, 'idée': 73, 'clairement': 73, 'citoyens': 73, 'application': 73, 'Quand': 73, 'dernières': 73, 'début': 72, 'emplois': 72, 'groupes': 72, 'difficultés': 72, 'sentiment': 72, 'conséquences': 72, 'défi': 72, 'cause': 72, 'grâce': 71, 'sommet': 71, 'agir': 71, 'passé': 71, 'transition': 71, 'partir': 71, 'grandes': 71, 'enjeu': 71, 'activité': 71, 'intérêt': 71, 'violences': 71, 'propriétaires': 71, 'seulement': 70, 'nature': 70, 'quatre': 70, 'viennent': 70, 'uns': 70, 'contrôle': 70, '10': 70, 'actions': 69, 'discussion': 69, 'zones': 69, 'changement': 69, 'ministres': 69, 'propre': 69, 'enjeux': 68, 'dix': 68, 'espace': 68, 'termes': 68, '1er': 68, 'lois': 68, 'contrat': 68, 'clair': 67, 'véritable': 67, 'prochain': 67, 'vingt': 67, 'efficace': 67, 'essayer': 67, 'prises': 67, 'type': 67, 'erreur': 67, 'vraiment': 66, 'évoqué': 66, 'garantir': 66, 'semble': 66, 'état': 66, 'cher': 66, 'seul': 66, 'autour': 65, 'rendre': 65, 'économiques': 65, 'élément': 65, 'crise': 65, 'universel': 65, 'défendre': 65, 'vis': 65, 'disent': 65, 'Sénat': 65, 'initiative': 64, 'remercier': 64, 'puissent': 64, 'points': 64, 'décidé': 64, 'lutter': 64, 'biodiversité': 64, 'qualité': 64, 'vue': 64, 'solution': 64, 'modèle': 64, 'seule': 64, 'propriété': 64, 'ventes': 64, 'technologies': 64, 'laisser': 64, 'apporter': 64, 'voyez': 64, 'poursuivre': 63, 'nouveaux': 63, 'santé': 63, 'production': 63, 'aucun': 63, 'parmi': 63, 'taux': 63, 'preuve': 63, 'importante': 63, 'nom': 63, 'bout': 63, 'centres': 63, 'agriculteurs': 63, 'région': 62, 'éviter': 62, 'décembre': 62, 'membres': 62, 'outils': 62, 'durée': 62, 'nécessité': 62, 'retrouver': 62, 'habitat': 62, 'Paul': 62, 'Madame': 61, 'matin': 61, 'engagé': 61, 'disposition': 61, 'viens': 61, 'propres': 61, 'Unis': 61, 'climatique': 61, 'semaine': 61, 'soutien': 61, 'évolution': 61, 'retraites': 61, 'pourrait': 61, 'Ainsi': 61, 'aides': 61, 'particulièrement': 60, 'priorité': 60, 'priorités': 60, '2017': 60, 'international': 60, 'Royaume': 60, 'Uni': 60, 'mal': 60, 'hommes': 60, '15': 60, 'Bazin': 60, 'OTAN': 60, 'heureux': 59, 'longtemps': 59, 'rendez': 59, 'sortir': 59, 'Commission': 59, 'Depuis': 59, 'avril': 59, 'fort': 59, 'investissement': 59, 'tiens': 59, 'mixité': 59, 'problèmes': 59, 'enfant': 59, 'Pietraszewski': 59, 'école': 58, 'européennes': 58, 'stratégiques': 58, 'hors': 58, 'quelle': 58, 'amendements': 58, 'handicap': 58, 'diplomatie': 57, 'formation': 57, 'investissements': 57, 'importants': 57, 'rappeler': 57, 'certaine': 57, 'considère': 57, 'conviction': 57, 'nombreuses': 57, 'prioritaires': 57, 'changer': 57, 'défis': 57, 'adapter': 57, 'accession': 57, 'attribution': 57, 'apprentissage': 57, 'conférence': 56, 'bâtir': 56, 'urbaine': 56, 'mission': 56, 'audiovisuel': 56, 'favoriser': 56, 'mots': 56, 'disais': 56, 'contraire': 56, 'Pourquoi': 56, 'charge': 56, 'poser': 56, 'rue': 56, 'dessus': 56, 'département': 56, 'Thibault': 56, 'violence': 56, 'paix': 55, 'tenu': 55, 'rapidement': 55, 'méthode': 55, 'faudra': 55, 'faisons': 55, 'sociales': 55, 'lorsque': 55, 'programme': 55, 'respecter': 55, 'Brexit': 55, 'responsabilités': 55, 'principe': 55, 'rappelle': 55, 'justement': 55, 'taxe': 55, 'affaire': 55, 'impose': 55, 'environnement': 54, 'saluer': 54, 'population': 54, 'populations': 54, 'salue': 54, 'supplémentaires': 54, 'entendu': 54, 'voulu': 54, 'combien': 54, 'baisse': 54, 'attention': 54, 'égalité': 54, 'maires': 54, 'indispensable': 54, 'parc': 54, 'valeur': 53, 'pleinement': 53, 'partage': 53, 'voie': 53, 'écoles': 53, 'permettent': 53, '30': 53, 'proposer': 53, 'connais': 53, 'unique': 53, 'entendre': 53, 'collective': 53, 'collectivement': 53, 'difficulté': 53, 'vraie': 53, 'Bonjour': 53, '25': 52, 'Afrique': 52, 'continent': 52, 'pourtant': 52, 'Ensuite': 52, 'missions': 52, 'ouvert': 52, 'compatriotes': 52, 'locaux': 52, 'retour': 52, 'puissances': 52, 'espère': 52, 'Allemagne': 52, 'organisations': 52, 'précisément': 52, '500': 52, 'Olivier': 52, 'départements': 52, 'Safer': 52, 'tenir': 51, 'transparence': 51, 'champ': 51, 'existe': 51, 'auprès': 51, 'différents': 51, 'milliers': 51, 'appel': 51, 'réseaux': 51, 'situations': 51, 'communes': 51, '200': 51, 'budget': 51, 'main': 50, 'énergie': 50, 'centre': 50, 'empêcher': 50, 'zone': 50, 'vise': 50, 'Sahel': 50, 'nucléaire': 50, 'troisième': 50, 'textes': 50, 'pouvez': 50, 'suffisamment': 50, 'etc': 50, 'messieurs': 50, 'lien': 49, 'mobilisation': 49, 'étrangères': 49, 'durable': 49, 'février': 49, 'prévu': 49, 'discussions': 49, 'entreprise': 49, 'échelle': 49, 'lorsqu': 49, 'opérations': 49, 'terres': 49, 'Car': 48, 'yeux': 48, 'côtés': 48, 'ligne': 48, 'Louis': 48, 'jeu': 48, 'ouvrir': 48, 'marche': 48, 'différentes': 48, 'locataires': 48, 'moyennes': 48, 'demander': 48, 'contexte': 48, 'amis': 47, 'logique': 47, 'mot': 47, 'évoquer': 47, 'discours': 47, 'organisation': 47, 'relations': 47, 'transformation': 47, 'mondiale': 47, 'vois': 47, 'atteindre': 47, 'heures': 47, 'dispositions': 47, 'opposition': 47, 'policiers': 47, 'pratiques': 47, 'françaises': 46, 'juin': 46, 'demi': 46, 'réunion': 46, 'prêts': 46, 'engagés': 46, 'penser': 46, 'pourra': 46, 'conduit': 46, 'nécessaires': 46, 'comprendre': 46, 'contenus': 46, 'fallait': 46, 'normal': 46, 'Benjamin': 46, 'agissant': 46, 'Cordier': 46, 'obstruction': 46, 'voulais': 45, 'croissance': 45, 'clarté': 45, 'arriver': 45, 'faits': 45, 'culture': 45, 'financer': 45, 'lesquels': 45, 'travers': 45, 'selon': 45, 'Chine': 45, 'siècle': 45, 'étape': 45, 'pression': 45, 'conscience': 45, 'directeur': 45, 'parents': 45, 'GRIVEAUX': 45, 'concertation': 45, 'voté': 45, 'aider': 44, 'gestion': 44, 'démocratique': 44, '12': 44, 'regard': 44, 'travaux': 44, 'Comment': 44, 'activités': 44, 'armes': 44, 'constate': 44, 'chemin': 44, 'parcours': 44, 'privé': 44, 'préserver': 44, 'devoir': 44, 'punaises': 44, 'lit': 44, 'montant': 44, 'bilan': 44, 'quartier': 44, 'peuplement': 44, 'Pinel': 44, 'assume': 44, 'sanctions': 44, 'Ecoutez': 44, 'Frédéric': 44, 'chez': 43, 'uniquement': 43, 'allez': 43, 'constitue': 43, 'mille': 43, 'annoncé': 43, 'parlé': 43, 'traité': 43, 'majeur': 43, 'collectif': 43, 'intervention': 43, 'processus': 43, 'pose': 43, 'expression': 43, 'professionnels': 43, 'revenus': 43, 'eh': 43, 'plateformes': 43, 'SRU': 43, 'agricoles': 43, 'collègue': 42, 'locales': 42, 'recherche': 42, 'rester': 42, 'approche': 42, 'initiatives': 42, 'base': 42, 'commencé': 42, 'unité': 42, 'régulation': 42, 'débats': 42, 'su': 42, 'porté': 42, 'exactement': 42, 'privée': 42, 'fais': 42, 'garantie': 42, 'frais': 42, 'Véran': 42, 'connaît': 41, 'présidentielle': 41, 'vient': 41, 'fixé': 41, 'accords': 41, 'direction': 41, 'information': 41, 'guerre': 41, 'proposé': 41, 'menaces': 41, 'disant': 41, 'finances': 41, 'technologique': 41, 'risque': 41, 'remettre': 41, 'vacants': 41, 'arrondissement': 41, 'derrière': 41, 'hémicycle': 41, 'mer': 40, 'domaines': 40, 'innovation': 40, 'venu': 40, 'récemment': 40, 'donné': 40, 'concurrence': 40, 'Bretagne': 40, 'global': 40, 'habitants': 40, 'calendrier': 40, 'investir': 40, 'pouvait': 40, 'victimes': 40, 'impact': 40, 'propose': 40, 'intelligence': 40, 'derniers': 40, 'loyers': 40, 'ci': 40, 'forcément': 40, 'évoquais': 40, 'homme': 40, 'QPV': 40, 'accéder': 40, 'loyer': 40, 'efforts': 39, 'convaincu': 39, 'actuelle': 39, 'partenariat': 39, 'acte': 39, 'concrètes': 39, '2021': 39, 'lieux': 39, 'générale': 39, 'travaillons': 39, 'Bien': 39, 'raisons': 39, 'mars': 39, 'table': 39, 'pourraient': 39, 'envie': 39, 'mécanismes': 39, 'présent': 38, 'Mozambique': 38, 'visite': 38, 'élections': 38, 'ressources': 38, 'auquel': 38, 'connaissance': 38, 'visant': 38, 'fonctionne': 38, 'permettant': 38, 'langue': 38, 'échanges': 38, 'essentielle': 38, 'importe': 38, 'demandé': 38, 'actuellement': 38, 'globale': 38, 'collègues': 38, 'capacités': 38, 'prend': 38, 'engager': 38, 'réflexion': 38, 'touche': 38, 'plein': 38, '2022': 38, 'réformes': 38, 'accepter': 38, 'compliqué': 38, 'chiffre': 38, 'madame': 38, 'pauvres': 38, 'réduire': 38, 'vente': 38, 'prévoit': 38, 'députée': 38, 'FI': 38, 'deuil': 38, 'nation': 37, 'territoriales': 37, 'dynamique': 37, 'voire': 37, 'réussir': 37, 'excellence': 37, 'enseignants': 37, 'produits': 37, '300': 37, 'libre': 37, 'exigence': 37, 'nôtre': 37, 'augmentation': 37, 'syndicales': 37, 'constater': 37, 'faisant': 37, 'Logement': 37, 'GDR': 37, 'mémoire': 37, 'Insoumise': 37, 'regarde': 37, 'présenter': 36, 'enseignement': 36, 'date': 36, 'soir': 36, 'actuel': 36, 'position': 36, 'Après': 36, 'industrielle': 36, 'Elles': 36, 'sociétés': 36, 'concrètement': 36, 'industriels': 36, 'Cet': 36, 'arrive': 36, 'succès': 36, 'conduite': 36, 'militaire': 36, 'origine': 36, 'campagne': 36, 'ANRU': 36, 'Applaudissements': 36, 'environ': 36, 'Sourires': 36, '20': 36, 'rencontre': 35, 'devenir': 35, 'prochaines': 35, 'formidable': 35, 'Certains': 35, 'départ': 35, 'meilleure': 35, 'cohérence': 35, 'cinq': 35, 'insiste': 35, 'obligation': 35, 'menons': 35, 'écoute': 35, 'claires': 35, 'maîtrise': 35, 'dizaines': 35, 'génération': 35, 'métier': 35, 'armées': 35, 'bas': 35, 'foncière': 35, 'urbanisme': 35, 'Là': 35, 'amitié': 34, 'voisinage': 34, 'Tous': 34, 'négociation': 34, 'marchés': 34, 'supérieur': 34, 'lesquelles': 34, 'mobilité': 34, 'conseil': 34, 'avance': 34, 'commerciale': 34, 'carbone': 34, 'écologique': 34, 'expliquer': 34, 'règlement': 34, 'organiser': 34, 'étude': 34, 'fera': 34, 'famille': 34, 'bénéficiaires': 34, 'argent': 34, 'évoquez': 34, 'manque': 34, 'parfaitement': 34, 'religion': 34, 'nucléaires': 34, 'enquête': 34, 'Lecoq': 34, 'montrer': 33, 'progrès': 33, 'internationaux': 33, 'relever': 33, 'institutions': 33, 'stabilité': 33, 'principes': 33, 'influence': 33, 'étranger': 33, 'liés': 33, 'souhaité': 33, 'faudrait': 33, 'régime': 33, 'pourront': 33, '50': 33, 'Britanniques': 33, 'commun': 33, 'climat': 33, 'bonnes': 33, 'souhaitent': 33, 'baisser': 33, 'payer': 33, 'règle': 33, 'effort': 33, 'moitié': 33, 'salariés': 33, 'Adrien': 33, 'artificialisation': 33, 'sols': 33, 'compter': 33, 'met': 33, 'Guillaume': 33, 'éclairer': 33, 'jouer': 32, 'industriel': 32, 'sensible': 32, 'gagnant': 32, 'ambitieux': 32, 'condition': 32, 'culte': 32, 'faciliter': 32, 'Fondation': 32, 'revanche': 32, 'fasse': 32, 'premiers': 32, 'finalement': 32, 'claire': 32, 'entends': 32, 'Vercamer': 32, 'habitation': 32, 'aménagement': 32, 'Plus': 32, 'technique': 32, 'alimentation': 32, 'référence': 31, 'volet': 31, 'communs': 31, 'mondial': 31, 'transformer': 31, 'établissements': 31, 'représentants': 31, 'frontières': 31, 'négociations': 31, 'quinze': 31, 'directement': 31, 'terrorisme': 31, 'définition': 31, 'reprendre': 31, 'financière': 31, 'manifestations': 31, 'équipes': 31, 'puissions': 31, 'risques': 31, 'presse': 31, 'tels': 31, 'aime': 31, 'légitime': 31, 'rénover': 31, 'inciter': 31, 'militaires': 31, 'lance': 31, 'ménages': 31, 'âge': 31, 'peuple': 31, 'structures': 31, 'fonds': 30, 'novembre': 30, 'renforcement': 30, 'présente': 30, 'amélioration': 30, 'présents': 30, 'souhaitons': 30, 'intérieur': 30, 'soixante': 30, 'avancées': 30, 'agents': 30, 'cent': 30, 'étrangers': 30, 'obtenir': 30, 'faveur': 30, 'produire': 30, '40': 30, 'quinquennat': 30, 'malgré': 30, 'besoins': 30, 'carrière': 30, 'suite': 30, 'lancer': 30, 'exercice': 30, 'travaille': 30, 'précarité': 30, 'Thierry': 30, 'consommation': 30, 'places': 30, 'dispose': 30, 'assumer': 30, 'inscrit': 30, 'député': 30, 'euro': 30, 'posé': 30, 'chargé': 29, 'infrastructures': 29, 'soutenir': 29, 'commencer': 29, 'adoptée': 29, 'courage': 29, 'autorités': 29, 'secteurs': 29, 'liens': 29, 'importance': 29, 'équipe': 29, 'Alliance': 29, 'six': 29, 'horizon': 29, 'prévention': 29, 'repli': 29, 'destin': 29, 'effets': 29, 'axes': 29, 'biens': 29, 'futur': 29, 'menée': 29, 'vendre': 29, 'artificielle': 29, 'passion': 29, 'reprises': 29, 'passage': 29, 'responsables': 29, 'dites': 29, 'préfets': 29, 'compétence': 29, 'conséquence': 29, 'Parisiens': 29, 'pénibilité': 29, 'républicain': 29, 'Taquet': 29, 'Madagascar': 28, 'ouverture': 28, 'échange': 28, 'octobre': 28, 'donnée': 28, 'existent': 28, 'choisi': 28, 'portons': 28, 'augmenter': 28, 'aventure': 28, 'utile': 28, 'filière': 28, 'puisqu': 28, 'commerce': 28, 'valoriser': 28, 'redis': 28, 'agenda': 28, 'confrontés': 28, 'vécu': 28, 'crédits': 28, 'croire': 28, 'rapide': 28, 'produit': 28, 'exercer': 28, 'impossible': 28, 'publiques': 28, 'document': 28, 'pourrons': 28, 'propriétaire': 28, 'regrette': 28, 'franchement': 28, 'tour': 28, 'bailleur': 28, 'territoriale': 28, 'Abbé': 28, 'augmente': 28, 'démolition': 28, 'enfance': 28, 'auto': 28, 'portent': 28, 'devrez': 28, 'représentation': 27, 'chers': 27, 'importantes': 27, 'liées': 27, 'complémentaires': 27, 'souligner': 27, 'concrets': 27, 'nouvel': 27, 'diversité': 27, 'Haut': 27, 'venez': 27, '17': 27, 'techniques': 27, 'connu': 27, 'neuf': 27, 'augmenté': 27, 'hauteur': 27, 'accompagne': 27, 'résultat': 27, 'portée': 27, 'crises': 27, 'constat': 27, 'fierté': 27, 'tiers': 27, 'message': 27, 'fier': 27, 'réel': 27, 'empêche': 27, 'réduction': 27, 'revient': 27, 'milliard': 27, 'véritablement': 27, 'prêt': 27, 'relative': 27, 'préfet': 27, 'revenu': 27, 'petit': 27, 'total': 27, 'bâti': 27, 'élu': 27, 'réponses': 27, 'petites': 27, 'verra': 27, 'oublier': 26, 'historique': 26, 'future': 26, 'voix': 26, '80': 26, 'postes': 26, 'accueillir': 26, 'signé': 26, 'disait': 26, 'demandes': 26, 'Stéphane': 26, 'études': 26, 'montre': 26, 'critères': 26, 'époque': 26, 'coup': 26, 'période': 26, 'active': 26, 'automatique': 26, 'britanniques': 26, 'informations': 26, 'énergies': 26, 'journée': 26, 'centaines': 26, 'financier': 26, 'Pacte': 26, 'parvenir': 26, 'batteries': 26, 'traiter': 26, 'milieu': 26, 'respecte': 26, 'Baptiste': 26, 'vérité': 26, 'attaché': 26, 'savons': 26, 'perdant': 26, 'banques': 26, 'process': 26, 'communauté': 26, 'minutes': 26, 'consiste': 26, 'transformations': 26, 'expérimentation': 26, 'veiller': 26, 'normes': 26, 'présenté': 26, 'moyenne': 26, 'tenus': 26, 'concret': 26, 'drame': 26, 'candidats': 26, 'installation': 25, 'franco': 25, 'mobiliser': 25, 'Agence': 25, 'voulez': 25, 'pauvreté': 25, 'merci': 25, 'vivant': 25, 'ferons': 25, 'Michel': 25, 'supplémentaire': 25, 'Jacques': 25, 'travaillent': 25, 'géographique': 25, 'extérieur': 25, 'nôtres': 25, 'lancement': 25, 'plateforme': 25, 'site': 25, 'faite': 25, 'idées': 25, 'ose': 25, 'réchauffement': 25, 'bénéficier': 25, 'Berlin': 25, 'pacte': 25, 'construit': 25, 'stratégies': 25, 'nationales': 25, 'mort': 25, 'proches': 25, 'inscrire': 25, 'recours': 25, 'industrielles': 25, 'Ah': 25, 'numéro': 25, 'représente': 25, 'immeubles': 25, 'endroits': 25, 'atteint': 25, 'grave': 25, 'Pourtant': 25, 'réalités': 25, 'fragiles': 25, 'facilement': 25, 'marchands': 25, 'occurrence': 25, 'municipales': 25, 'Agnès': 25, 'pension': 25, 'expertise': 24, 'route': 24, 'promouvoir': 24, 'saisir': 24, 'mandat': 24, 'cap': 24, 'solidaire': 24, 'seuls': 24, 'chercheurs': 24, 'appliquer': 24, '13': 24, 'quatrième': 24, 'favorable': 24, 'usage': 24, 'vote': 24, 'aboutir': 24, 'modalités': 24, 'combats': 24, 'largement': 24, 'Nations': 24, 'unies': 24, 'vert': 24, 'trouvé': 24, 'décennies': 24, 'profondeur': 24, 'attachement': 24, 'battre': 24, 'concernant': 24, 'modifier': 24, 'image': 24, '100': 24, 'existait': 24, 'reconstitution': 24, 'locative': 24, 'Benoit': 24, 'reconnaître': 24, 'HLM': 24, 'bénéficient': 24, '2014': 24, 'connaissent': 24, 'mené': 24, 'sommeil': 24, 'Bricout': 24, 'fiscalité': 24, 'amendement': 24, 'continue': 24, 'communautaire': 24, 'Veaux': 24, 'devez': 24, 'polonais': 24, 'Exclamations': 24, 'précis': 23, 'plaisir': 23, 'chantiers': 23, 'mai': 23, 'bilatérale': 23, 'réseau': 23, 'compétences': 23, 'familiales': 23, 'autorité': 23, 'tension': 23, 'attractivité': 23, 'répond': 23, 'cinquante': 23, 'Centre': 23, 'estime': 23, 'juillet': 23, 'orientation': 23, 'rendu': 23, 'portant': 23, 'belle': 23, 'exploitation': 23, 'paraît': 23, 'cependant': 23, 'dehors': 23, 'définir': 23, 'devront': 23, 'quels': 23, 'spécificités': 23, 'planète': 23, '2015': 23, 'préparer': 23, 'restent': 23, 'efficacité': 23, 'précédent': 23, 'multilatéralisme': 23, 'rapports': 23, 'continuera': 23, 'Lemoyne': 23, 'rémunération': 23, 'Françaises': 23, 'presque': 23, 'CO2': 23, 'discuter': 23, 'trouvent': 23, 'gros': 23, 'malheureusement': 23, 'classes': 23, 'décret': 23, '150': 23, 'respectent': 23, 'humilité': 23, 'endroit': 23, 'garde': 23, 'Ménard': 23, 'gauche': 23, 'voyons': 23, 'accueil': 23, 'sénateur': 23, 'avis': 23, 'travées': 23, 'armements': 23, 'Mayotte': 22, 'proximité': 22, 'appuyer': 22, 'Q': 22, 'connaissez': 22, 'Orient': 22, 'perception': 22, 'court': 22, 'quarante': 22, 'suivi': 22, 'ouverte': 22, 'haut': 22, 'Cédric': 22, 'outil': 22, 'corps': 22, 'régions': 22, 'bataille': 22, 'perdre': 22, 'financiers': 22, 'entrée': 22, 'islam': 22, 'moyen': 22, 'obligations': 22, 'industrie': 22, 'déploiement': 22, 'élaborer': 22, 'migratoire': 22, 'résoudre': 22, 'budgétaire': 22, 'continuerons': 22, 'Pays': 22, 'Bas': 22, 'sol': 22, 'décider': 22, 'attentes': 22, 'prochains': 22, 'proposons': 22, 'géants': 22, 'incite': 22, 'chercher': 22, 'liste': 22, 'contrôler': 22, 'plupart': 22, 'Ardennes': 22, 'convient': 22, 'attendre': 22, 'record': 22, 'Peu': 22, 'allocations': 22, 'source': 22, '90': 22, 'oeuvrer': 22, 'spécialisés': 22, 'ordonnance': 22, 'vital': 22, 'obtention': 22, 'BOURDIN': 22, 'MoDem': 22, 'dirais': 22, 'procédure': 22, 'conflits': 22, 'séparatisme': 22, 'écoutez': 22, 'dissuasion': 22, 'Hutin': 22, 'établissement': 21, 'fonctions': 21, 'réaliser': 21, 'métiers': 21, 'pêche': 21, 'préoccupations': 21, 'coordination': 21, 'mises': 21, 'patrimoine': 21, 'filières': 21, 'code': 21, 'statut': 21, 'vigueur': 21, 'suppose': 21, 'partenaire': 21, 'gagner': 21, 'urbain': 21, 'arrivé': 21, 'évoluer': 21, '18': 21, 'préservation': 21, 'exprimer': 21, 'modestes': 21, 'dédié': 21, 'profonde': 21, 'genre': 21, 'américain': 21, 'permanent': 21, 'progressivement': 21, 'Culture': 21, 'discuté': 21, 'François': 21, 'large': 21, 'honneur': 21, 'évolutions': 21, 'espaces': 21, 'programmation': 21, 'immense': 21, 'budgétaires': 21, 'beau': 21, 'discrimination': 21, 'numériques': 21, 'innover': 21, 'niche': 21, 'voies': 21, 'savent': 21, 'parlons': 21, 'vols': 21, '400': 21, 'louer': 21, 'caractère': 21, 'femme': 21, 'prenez': 21, 'jeune': 21, 'opposable': 21, 'posez': 21, 'fonciers': 21, 'globalité': 21, 'domicile': 21, 'coût': 21, 'énormément': 21, 'permettront': 21, 'renouvellement': 21, 'vouloir': 21, 'arrêter': 21, 'pierre': 21, 'leviers': 21, 'pensez': 21, 'cohésion': 21, '2025': 21, 'mouvement': 21, 'législatif': 21, 'exploitations': 21, 'atteinte': 21, 'russe': 21, 'chef': 21, 'géographie': 21, 'Christian': 21, 'œuvre': 21, 'montré': 20, 'prochaine': 20, 'ores': 20, 'devrait': 20, 'contribuer': 20, 'majeurs': 20, 'chère': 20, 'redire': 20, 'culturelle': 20, 'complètement': 20, 'R': 20, 'juridique': 20, 'parties': 20, 'fiscal': 20, 'rentrée': 20, 'programmes': 20, 'dimension': 20, '60': 20, 'Monde': 20, 'Nord': 20, 'phase': 20, 'intérieure': 20, 'maintenir': 20, 'créant': 20, 'prends': 20, 'naïveté': 20, 'tête': 20, 'fondamentale': 20, 'vivons': 20, 'association': 20, 'évaluation': 20, 'ambitions': 20, 'administration': 20, 'fléau': 20, 'meilleur': 20, 'garder': 20, 'Deuxième': 20, 'disposer': 20, 'Aussi': 20, 'déterminés': 20, 'généralement': 20, 'trente': 20, 'allemand': 20, 'remise': 20, 'terre': 20, 'fr': 20, 'prime': 20, 'bureaux': 20, 'congé': 20, 'précise': 20, 'parti': 20, 'DALO': 20, 'attribués': 20, 'records': 20, 'baissé': 20, 'offices': 20, 'dignité': 20, 'choisir': 20, 'Caisse': 20, 'Samu': 20, 'indigne': 20, 'moindre': 20, 'constructions': 20, 'but': 20, 'copropriétés': 20, 'vivent': 20, 'Emmanuelle': 20, 'répète': 20, 'RLS': 20, 'Muriel': 20, 'alliance': 20, 'échec': 20, 'oppositions': 20, 'haine': 20, 'révolution': 20, 'professionnelle': 20, 'consulter': 20, 'garanties': 20, 'oublie': 20, 'Didier': 20, 'Nuñez': 20, 'LaREM': 20, 'outre': 19, 'particulière': 19, 'Ministre': 19, 'échanger': 19, 'venons': 19, 'régulièrement': 19, 'note': 19, 'fiscale': 19, 'conflit': 19, 'spécifique': 19, 'accélérer': 19, 'réjouis': 19, 'rupture': 19, 'majeure': 19, 'aimerais': 19, 'instrument': 19, 'soi': 19, 'placer': 19, 'interroger': 19, 'signifie': 19, 'Pau': 19, 'premières': 19, 'actes': 19, 'prenne': 19, 'Coalition': 19, 'identifier': 19, 'fortes': 19, 'souveraine': 19, 'chance': 19, 'clairs': 19, 'reprise': 19, 'sauf': 19, 'opération': 19, 'peur': 19, 'Constitution': 19, 'procédures': 19, 'article': 19, 'adaptées': 19, 'organisme': 19, 'Mathilde': 19, 'Panot': 19, 'digne': 19, 'alternance': 19, 'certes': 19, 'garant': 19, 'plafond': 19, 'démographie': 19, 'avancée': 19, 'toucher': 19, 'comportements': 19, 'travaillé': 19, 'rentrer': 19, 'comparer': 19, 'protège': 19, 'Américains': 19, 'renforcée': 19, 'élection': 19, 'accompagnent': 19, 'républicaine': 19, 'pro': 19, 'arrange': 19, 'participer': 18, 'connaître': 18, 'contribution': 18, 'présidents': 18, 'élèves': 18, 'opérateurs': 18, 'suivre': 18, 'travailleurs': 18, 'Vive': 18, 'changé': 18, 'étudiants': 18, 'générations': 18, 'énergétique': 18, 'indiqué': 18, 'Amérique': 18, 'examen': 18, '24': 18, 'réussite': 18, 'conception': 18, 'voisins': 18, 'prévus': 18, 'comptez': 18, 'vaut': 18, 'exemplaire': 18, 'meilleures': 18, 'financements': 18, 'Saint': 18, 'livre': 18, '2050': 18, 'final': 18, 'mécanisme': 18, 'entière': 18, 'Golfe': 18, 'Libye': 18, 'désescalade': 18, 'rassembler': 18, 'Chaque': 18, 'contraintes': 18, 'menace': 18, 'précieux': 18, 'escalade': 18, 'pragmatisme': 18, '19': 18, 'disposons': 18, 'sept': 18, 'émissions': 18, 'modèles': 18, 'consommateurs': 18, 'perdu': 18, 'dois': 18, 'perçu': 18, 'complexes': 18, 'rentre': 18, 'calcul': 18, 'crée': 18, 'énorme': 18, 'primo': 18, 'attentif': 18, 'offres': 18, 'articuler': 18, 'citoyenneté': 18, 'souhait': 18, 'comptes': 18, 'Quant': 18, 'auxquels': 18, 'appliquent': 18, 'Borloo': 18, 'financières': 18, 'saisie': 18, 'votée': 18, 'Dès': 18, 'bénéfice': 18, 'acquis': 18, 'expérience': 18, 'Patrick': 18, 'partagé': 18, 'électriques': 18, 'niveaux': 18, 'reconnaissance': 18, 'cotisations': 18, 'PAC': 18, 'immigration': 18, 'crédible': 18, 'cyber': 18, 'doctrine': 18, 'manifestants': 18, 'HIDALGO': 18, 'Temal': 18, 'réhabilitation': 17, 'Sans': 17, 'maritime': 17, 'civile': 17, 'engagées': 17, 'attends': 17, 'privés': 17, 'démarche': 17, 'capitale': 17, 'absolue': 17, 'formes': 17, '2016': 17, 'directions': 17, 'alimentaire': 17, 'essentiellement': 17, 'Organisation': 17, 'commence': 17, 'Sud': 17, 'relatif': 17, 'Fonds': 17, 'devait': 17, 'cesse': 17, 'signe': 17, 'concernent': 17, 'gérer': 17, 'appréhender': 17, 'devra': 17, 'considération': 17, 'répartition': 17, 'équitable': 17, 'particulières': 17, 'durablement': 17, 'pourrions': 17, 'soutenu': 17, 'compatible': 17, 'étrangère': 17, 'longue': 17, 'Hervé': 17, 'participé': 17, 'soumis': 17, 'bats': 17, 'habitude': 17, 'Italie': 17, 'révision': 17, 'fondateurs': 17, 'laissé': 17, 'convaincre': 17, 'demeure': 17, 'location': 17, 'changements': 17, 'accédants': 17, 'différence': 17, 'réplique': 17, 'précédemment': 17, 'aborder': 17, 'Cour': 17, 'ruraux': 17, 'locatif': 17, 'attente': 17, 'occuper': 17, 'doutes': 17, 'répondu': 17, 'quasi': 17, 'subissent': 17, 'investi': 17, 'abri': 17, 'Stéphanie': 17, 'élargissement': 17, 'investisseurs': 17, 'faible': 17, 'phénomène': 17, 'mouvements': 17, 'enracinement': 17, 'PENICAUD': 17, 'aille': 17, 'candidat': 17, 'carrières': 17, 'minimum': 17, 'taxation': 17, 'indépendance': 17, 'reconquête': 17, 'reviendrai': 17, 'rythme': 17, 'Havre': 17, 'Yves': 17, 'policier': 17, 'humaine': 17, 'Nunez': 17, 'exactions': 17, 'diplomatique': 16, 'feuille': 16, 'chacune': 16, 'Nyusi': 16, 'perspective': 16, 'Celui': 16, 'considérer': 16, 'peuples': 16, 'principalement': 16, 'inquiétudes': 16, 'lignes': 16, '27': 16, 'attirer': 16, 'types': 16, 'prévue': 16, 'langues': 16, 'auteur': 16, 'cinéma': 16, 'acquérir': 16, 'septembre': 16, 'Marc': 16, 'organisé': 16, 'courant': 16, 'métropole': 16, 'tellement': 16, 'préalable': 16, 'totale': 16, 'pêcheurs': 16, 'globalement': 16, 'renouvelables': 16, 'assurance': 16, 'Sommet': 16, 'productif': 16, 'touchent': 16, 'prenons': 16, 'réunir': 16, 'auparavant': 16, 'essayé': 16, 'membre': 16, 'retrouve': 16, 'américaine': 16, 'quelles': 16, 'Ambassadeurs': 16, 'permettez': 16, 'devenu': 16, 'moments': 16, 'donnant': 16, 'sortie': 16, 'tient': 16, 'Conférence': 16, 'nationaux': 16, 'pire': 16, '55': 16, 'résidence': 16, 'zéro': 16, 'Stef': 16, 'laisse': 16, 'fins': 16, 'démocraties': 16, 'fortement': 16, '5G': 16, 'défiance': 16, 'petits': 16, '806': 16, 'modifié': 16, 'locataire': 16, 'contrats': 16, 'vacant': 16, 'loger': 16, 'doigt': 16, 'telles': 16, 'change': 16, 'limiter': 16, 'Francis': 16, 'contingent': 16, 'applique': 16, 'profite': 16, 'Warsmann': 16, 'démographiques': 16, 'Sylvia': 16, 'équivalent': 16, 'occupants': 16, 'franc': 16, 'constitutionnelle': 16, 'demandeurs': 16, 'salaire': 16, 'Dufrègne': 16, 'Cependant': 16, 'rural': 16, 'seules': 16, 'Do': 16, 'privées': 16, 'interventions': 16, 'Fadila': 16, 'Khattabi': 16, 'dossiers': 16, 'administrative': 16, 'réunions': 16, 'OFS': 16, 'imposer': 16, 'faute': 16, 'apprentis': 16, 'Quelle': 16, 'attendons': 16, 'regardez': 16, '14': 16, 'goût': 16, 'supprimer': 16, 'États': 16, 'consultation': 16, 'américaines': 16, 'hommage': 16, 'connaissons': 16, 'allocation': 16, 'traités': 16, 'effectifs': 16, 'alliés': 16, 'RIVIERE': 16, 'crédibilité': 16, 'adulte': 16, 'Sébastien': 16, 'Rachid': 16, 'controverse': 16, 'poste': 15, 'rayonnement': 15, 'affirmer': 15, 'mobilisés': 15, 'juridiques': 15, 'scientifiques': 15, 'gouvernance': 15, 'équipements': 15, 'ouvre': 15, 'environnemental': 15, 'fermeté': 15, 'dû': 15, 'Danièle': 15, 'experts': 15, 'promotion': 15, '800': 15, 'rejoint': 15, 'diffusion': 15, 'triple': 15, 'événements': 15, 'régler': 15, 'américains': 15, 'plans': 15, 'Maintenant': 15, 'réglementaire': 15, 'mettons': 15, 'limite': 15, 'systèmes': 15, 'inclusion': 15, 'sensibles': 15, 'unie': 15, 'tournant': 15, 'passés': 15, 'humanité': 15, 'nécessite': 15, 'Île': 15, 'équilibres': 15, '31': 15, 'Daech': 15, 'inégalités': 15, 'indépendants': 15, 'conserver': 15, 'remis': 15, 'inquiétude': 15, 'technologiques': 15, 'G5': 15, 'vérifier': 15, 'ajouter': 15, 'informer': 15, 'flux': 15, 'dépendre': 15, 'fameux': 15, 'anticiper': 15, 'redonner': 15, 'renseignement': 15, 'concilier': 15, 'disons': 15, 'sites': 15, 'Hier': 15, 'INSEE': 15, 'oubliez': 15, 'garantit': 15, 'exclus': 15, 'citer': 15, 'faux': 15, 'différences': 15, 'engage': 15, 'suffisant': 15, 'prévues': 15, 'étendre': 15, 'Luc': 15, 'intéresse': 15, 'élevé': 15, 'refuser': 15, 'évoquée': 15, 'anniversaire': 15, 'Rubin': 15, 'décent': 15, 'réglementaires': 15, 'véritables': 15, 'inédit': 15, 'préciser': 15, 'posées': 15, 'régionales': 15, 'charges': 15, 'droite': 15, 'compensation': 15, 'faibles': 15, 'lever': 15, 'adaptation': 15, 'erreurs': 15, '22': 15, 'bancaires': 15, 'incidents': 15, 'Finances': 15, 'gelés': 15, 'instants': 15, 'Bruno': 15, 'VILLANI': 15, 'glyphosate': 15, 'enseignements': 15, 'Guerre': 15, 'quant': 15, 'totalité': 15, 'délinquance': 15, 'gendarmes': 15, 'émotion': 15, 'troubles': 15, 'hypothèses': 15, 'Polonais': 15, 'venant': 15, 'jaunes': 15, 'CRCE': 15, 'régionale': 14, 'valoir': 14, 'rencontré': 14, 'accepté': 14, 'août': 14, 'générales': 14, 'million': 14, 'concernées': 14, 'considérables': 14, 'volontaires': 14, 'Chacun': 14, 'opérationnelle': 14, 'profit': 14, 'concrète': 14, 'taxes': 14, 'huit': 14, 'dollars': 14, 'historiques': 14, 'instruments': 14, 'ouvertes': 14, 'série': 14, 'sport': 14, 'Franck': 14, 'orientations': 14, 'principale': 14, 'autonomie': 14, 'vocation': 14, 'intégrer': 14, 'chaîne': 14, 'témoigne': 14, 'considérable': 14, 'arme': 14, 'culturels': 14, 'permette': 14, 'combattre': 14, 'Bruxelles': 14, 'menez': 14, 'architecture': 14, 'mère': 14, 'tendance': 14, 'comité': 14, 'manoeuvre': 14, 'déplacements': 14, 'environnementale': 14, 'vienne': 14, 'tirer': 14, 'comptons': 14, 'offrir': 14, 'adresser': 14, 'déplacement': 14, 'feu': 14, 'affronter': 14, 'fur': 14, 'respecté': 14, 'cinquième': 14, 'Grèce': 14, 'participent': 14, 'Marseille': 14, 'talents': 14, 'convictions': 14, 'voeux': 14, 'attendent': 14, 'saurions': 14, 'chefs': 14, 'divers': 14, 'encourager': 14, 'simples': 14, 'prospérité': 14, 'menacées': 14, 'innovations': 14, 'conforme': 14, 'Personne': 14, 'repris': 14, 'précisions': 14, 'bons': 14, 'pourrais': 14, 'structure': 14, 'phrase': 14, 'quelqu': 14, 'verrez': 14, 'Xavier': 14, 'BERTRAND': 14, 'oblige': 14, 'riches': 14, 'pardon': 14, 'limites': 14, 'complexe': 14, 'issue': 14, 'impératif': 14, 'appartient': 14, 'innovantes': 14, 'multiples': 14, 'effectué': 14, 'devient': 14, 'massif': 14, '2000': 14, 'retraités': 14, 'forfait': 14, 'feront': 14, 'dents': 14, 'creuses': 14, 'adoption': 14, 'localement': 14, 'instructions': 14, 'inacceptables': 14, 'tribunal': 14, 'appartenant': 14, 'départementales': 14, 'gouvernements': 14, 'dépend': 14, 'impôt': 14, 'taille': 14, 'filles': 14, 'idéologie': 14, 'partager': 14, 'Renault': 14, 'BUZYN': 14, 'systématiquement': 14, 'analyse': 14, 'comités': 14, 'Marche': 14, 'sénateurs': 14, 'Fabien': 14, 'entend': 14, 'imams': 14, 'mettent': 14, 'parlent': 14, 'islamiste': 14, 'Turquie': 14, 'danger': 14, 'anti': 14, 'bloc': 14, 'désarmement': 14, 'XXème': 14, 'génocide': 14, 'injuste': 14, 'amateurisme': 14, 'départemental': 13, 'locale': 13, 'Ile': 13, 'comprend': 13, 'entretien': 13, 'significative': 13, 'culturel': 13, 'Espagne': 13, 'impulsion': 13, 'quotidienne': 13, 'consolider': 13, 'Institut': 13, 'portés': 13, 'dons': 13, 'institutionnels': 13, 'vive': 13, 'annonce': 13, 'reconstruire': 13, 'humaines': 13, 'posée': 13, 'ampleur': 13, '700': 13, 'réalisé': 13, 'dossier': 13, 'solide': 13, 'crucial': 13, 'revitalisation': 13, 'cité': 13, 'opportunité': 13, 'musique': 13, 'export': 13, 'qualités': 13, 'possibilités': 13, 'carte': 13, 'servir': 13, 'dur': 13, 'transport': 13, 'reviens': 13, 'évoqués': 13, 'dits': 13, 'COP': 13, 'piliers': 13, 'intervenir': 13, 'ambitieuse': 13, 'précédente': 13, 'Secrétaire': 13, 'neutralité': 13, 'retirer': 13, 'exigences': 13, 'engagée': 13, 'Iran': 13, 'allait': 13, 'sinon': 13, 'solidarités': 13, 'maximum': 13, 'rassemblements': 13, 'Simplement': 13, 'nuit': 13, 'écouter': 13, 'personnel': 13, 'thème': 13, 'émerger': 13, 'maison': 13, 'prévenir': 13, 'diront': 13, 'devrons': 13, 'rend': 13, 'moderniser': 13, 'mobilisé': 13, 'subi': 13, 'parlez': 13, 'fil': 13, 'leçons': 13, 'administrations': 13, 'recourir': 13, 'réelle': 13, 'utilisation': 13, 'arriverons': 13, 'radicalisation': 13, 'suit': 13, 'immeuble': 13, 'immobilier': 13, 'FRANCE': 13, 'intermédiaires': 13, 'disponibles': 13, 'utiliser': 13, 'sociétale': 13, 'moindres': 13, 'dresser': 13, 'pourcentage': 13, 'fameuses': 13, 'procéder': 13, 'répondent': 13, 'conclusion': 13, 'vieillissement': 13, 'seniors': 13, 'convenus': 13, 'Où': 13, 'Selon': 13, 'contraint': 13, 'ultra': 13, 'confronté': 13, 'entraîne': 13, 'communiquer': 13, 'économies': 13, 'SMIC': 13, 'démographique': 13, 'transfert': 13, 'regroupement': 13, 'exprimé': 13, 'majeures': 13, 'visibles': 13, 'estimé': 13, 'interrogations': 13, 'Très': 13, 'renforcé': 13, 'présentée': 13, 'Sophie': 13, 'renvoie': 13, 'territorial': 13, 'adopter': 13, 'actuelles': 13, 'naturellement': 13, 'socialement': 13, 'uniforme': 13, 'lecture': 13, 'Michèle': 13, 'veto': 13, 'simplification': 13, '2013': 13, 'dépenses': 13, 'partagent': 13, 'corriger': 13, 'consultations': 13, 'modes': 13, 'Breton': 13, '2027': 13, 'OCDE': 13, 'transmission': 13, 'scolaire': 13, 'cloud': 13, 'déterminée': 13, 'blanc': 13, 'circulaire': 13, 'formés': 13, 'Emmanuel': 13, 'avancé': 13, 'immédiatement': 13, 'champs': 13, 'continueront': 13, 'individuelles': 13, 'mesdames': 13, 'animaux': 13, 'continuent': 13, 'Gay': 13, 'promesse': 13, 'souhaitait': 13, 'TABARD': 13, 'protègent': 13, 'directeurs': 13, 'schéma': 13, 'faciles': 13, 'bilatéral': 13, 'autisme': 13, 'franchise': 13, 'MODEM': 13, 'séance': 13, 'débattre': 13, 'préfecture': 12, 'eau': 12, 'tiendra': 12, 'entrepreneurs': 12, 'perspectives': 12, 'quatorze': 12, 'inclusive': 12, 'rencontrer': 12, 'midi': 12, 'double': 12, 'AFD': 12, 'unit': 12, 'fonctionnaires': 12, 'interrogé': 12, 'créée': 12, 'appui': 12, 'ajoute': 12, 'coopérations': 12, '43': 12, 'internationales': 12, 'mène': 12, 'encadrement': 12, 'vigilant': 12, 'facile': 12, 'donnons': 12, 'professionnel': 12, 'G7': 12, 'ah': 12, 'Plusieurs': 12, '26': 12, 'Glasgow': 12, 'affirme': 12, 'poursuit': 12, 'bientôt': 12, 'cessez': 12, 'confrontation': 12, 'arrivée': 12, 'pouvaient': 12, 'pilier': 12, 'mondiales': 12, 'Face': 12, 'circulation': 12, 'entier': 12, 'Rien': 12, 'strictement': 12, 'bouger': 12, 'collectives': 12, 'retrait': 12, 'fondamentaux': 12, 'terrible': 12, 'posent': 12, 'inventer': 12, 'multiplier': 12, 'Biarritz': 12, 'APD': 12, 'axe': 12, 'compétition': 12, 'épreuve': 12, 'écrit': 12, 'sexuelles': 12, 'maritimité': 12, 'pragmatique': 12, 'coalition': 12, 'surveillance': 12, 'volontaire': 12, 'maximale': 12, 'suffit': 12, 'noté': 12, 'saurait': 12, 'normative': 12, 'remarquable': 12, 'homologue': 12, 'actifs': 12, 'maisons': 12, 'insupportable': 12, 'chantier': 12, 'or': 12, 'mets': 12, 'garanti': 12, 'métropoles': 12, 'contrôles': 12, 'indépendant': 12, 'Economie': 12, 'relogement': 12, 'interministériel': 12, 'Certes': 12, 'limité': 12, 'tenant': 12, 'étalement': 12, 'impérieuse': 12, 'B2': 12, 'zonage': 12, 'repose': 12, 'familial': 12, 'dite': 12, 'résidentiels': 12, 'chat': 12, 'Grâce': 12, 'vendus': 12, 'Opérateur': 12, 'copropriété': 12, 'laissant': 12, '16': 12, 'pénalise': 12, 'allocataires': 12, 'gêne': 12, 'administratif': 12, 'dégradées': 12, 'aidés': 12, 'rigueur': 12, 'réduit': 12, 'contemporanéisation': 12, 'facteurs': 12, 'prétendre': 12, 'défini': 12, 'réside': 12, 'gérant': 12, 'songe': 12, 'habitant': 12, 'souligné': 12, 'ancien': 12, 'peine': 12, 'Béziers': 12, 'aillent': 12, 'appliquée': 12, 'devraient': 12, 'blocage': 12, 'OFL': 12, 'séparer': 12, 'pleine': 12, 'Vaucouleurs': 12, 'redynamiser': 12, 'métropolisation': 12, 'exception': 12, 'complément': 12, 'décentralisation': 12, 'amende': 12, 'responsable': 12, 'fermes': 12, 'clients': 12, 'équité': 12, 'comparateur': 12, 'regardons': 12, 'front': 12, 'accélération': 12, 'citoyen': 12, 'refuse': 12, 'impôts': 12, 'capital': 12, 'pratique': 12, 'rassurer': 12, 'virus': 12, 'commissaire': 12, 'salle': 12, 'congés': 12, 'polonaise': 12, 'viticulture': 12, 'déterminer': 12, 'opérationnel': 12, 'Deux': 12, 'électeurs': 12, 'difficiles': 12, 'dangereux': 12, 'pourrai': 12, 'Relations': 12, 'Nation': 12, 'hectares': 12, 'nourrir': 12, 'musulman': 12, 'haineux': 12, 'centrale': 12, 'Internet': 12, 'Opéra': 12, 'Medias': 12, 'composantes': 12, 'exigeant': 12, 'islamisme': 12, 'gardiens': 12, 'gendarmerie': 12, 'suicide': 12, 'the': 12, 'handicapé': 12, 'flanc': 12, 'Benbassa': 12, 'Obono': 12, 'assistant': 12, 'votés': 12, 'souffrent': 12, 'installer': 11, 'symbole': 11, 'longuement': 11, 'Avant': 11, 'conclure': 11, 'annuel': 11, 'douze': 11, 'essaie': 11, 'page': 11, 'exceptionnelle': 11, 'intime': 11, 'respectueux': 11, 'continuons': 11, 'réserve': 11, 'convergence': 11, 'Borrell': 11, 'absence': 11, 'intention': 11, 'vigilance': 11, 'Hauts': 11, 'scientifique': 11, 'partenariats': 11, 'futures': 11, 'formations': 11, 'up': 11, 'lancée': 11, '2030': 11, 'Laurence': 11, 'instances': 11, 'jeunesse': 11, 'Toutes': 11, 'personnels': 11, 'Varsovie': 11, 'communication': 11, 'oeuvres': 11, 'participe': 11, 'devenue': 11, 'exceptionnel': 11, 'hausse': 11, 'espèce': 11, 'prioritaire': 11, 'Londres': 11, 'convention': 11, 'dense': 11, 'simplifier': 11, 'efficacement': 11, 'actuels': 11, 'installations': 11, 'potentiels': 11, 'écosystème': 11, 'réunis': 11, 'traduit': 11, 'trêve': 11, 'constatons': 11, 'remarques': 11, 'sert': 11, 'organisée': 11, 'rajouter': 11, 'XXIe': 11, 'quitter': 11, 'talent': 11, 'circonstances': 11, 'pensée': 11, 'passant': 11, 'faille': 11, 'concours': 11, 'souvenir': 11, 'ancienne': 11, 'acteur': 11, 'jusque': 11, 'nations': 11, 'légitimement': 11, 'rendue': 11, 'physique': 11, 'prochainement': 11, 'livres': 11, 'envisagé': 11, 'fixer': 11, 'guider': 11, 'librement': 11, 'relève': 11, 'fausses': 11, 'guide': 11, 'sachant': 11, 'capable': 11, 'appréciation': 11, 'spéciale': 11, 'téléphonique': 11, 'rendent': 11, 'compliquée': 11, 'concevoir': 11, 'ira': 11, 'biais': 11, 'faisait': 11, 'intermédiaire': 11, 'Exactement': 11, 'différente': 11, 'Encore': 11, 'somme': 11, 'évoquées': 11, 'second': 11, 'Toutefois': 11, 'destinés': 11, 'anciens': 11, 'assiette': 11, 'destiné': 11, 'extension': 11, 'construits': 11, 'financé': 11, 'entretenir': 11, 'froid': 11, 'représenté': 11, 'néanmoins': 11, 'entraîner': 11, '2010': 11, 'seuil': 11, 'constamment': 11, 'soutenons': 11, 'précaires': 11, 'portefeuille': 11, 'imposé': 11, 'justifie': 11, 'dépenser': 11, 'politiquement': 11, 'surseoir': 11, 'Concernant': 11, 'freins': 11, '35': 11, 'campagnes': 11, 'disparaissent': 11, 'repenser': 11, 'géographiques': 11, 'attractive': 11, 'élevés': 11, 'remonter': 11, 'via': 11, 'approfondir': 11, 'obtenu': 11, 'prélèvement': 11, 'échéant': 11, 'évolué': 11, 'compromis': 11, '1000': 11, 'écoutent': 11, 'multiplication': 11, 'musulmans': 11, 'fiscales': 11, 'bravo': 11, 'hôpital': 11, 'planification': 11, 'prendra': 11, 'intéressement': 11, 'complet': 11, 'Santé': 11, 'division': 11, 'conservation': 11, 'voter': 11, 'prenantes': 11, 'travaillions': 11, 'parts': 11, 'cultures': 11, 'réflexions': 11, 'Gillé': 11, 'créateurs': 11, 'régimes': 11, 'artistique': 11, 'effective': 11, 'affiner': 11, 'exécutif': 11, 'paroles': 11, 'phénomènes': 11, 'trafics': 11, 'judiciaire': 11, 'déployer': 11, 'réengager': 11, 'visage': 11, 'espèces': 11, 'malentendus': 11, 'souviens': 11, 'réengagement': 11, 'ciel': 11, 'confrontées': 11, 'SOC': 11, 'examiné': 11, 'océan': 10, 'ambassade': 10, 'exerce': 10, 'affirmation': 10, 'traitement': 10, 'dynamisme': 10, 'sors': 10, 'produisent': 10, 'créations': 10, 'manifestation': 10, 'mérite': 10, 'doter': 10, 'précisant': 10, 'préparation': 10, 'positive': 10, 'représentant': 10, 'annonces': 10, 'répondrai': 10, 'unis': 10, 'Syrie': 10, 'former': 10, 'informatique': 10, 'collaboration': 10, 'I': 10, 'éventuellement': 10, 'significatif': 10, 'traduisent': 10, 'insertion': 10, 'fonctionnement': 10, 'choisissent': 10, 'élève': 10, 'Moyen': 10, 'venus': 10, 'montrent': 10, 'figure': 10, 'senti': 10, 'actualité': 10, 'pied': 10, 'Grande': 10, 'adhésion': 10, '70': 10, 'excellente': 10, 'coordonner': 10, 'appartiennent': 10, 'centaine': 10, 'moteur': 10, 'dumping': 10, 'abordable': 10, 'espoir': 10, 'Vienne': 10, 'employés': 10, 'deviennent': 10, 'considéré': 10, 'fidèle': 10, 'gel': 10, 'soin': 10, 'vertu': 10, 'utiles': 10, 'Anne': 10, 'complexité': 10, 'pointer': 10, 'bras': 10, 'croient': 10, 'retenue': 10, 'art': 10, 'trajectoire': 10, 'pilotage': 10, 'Banque': 10, 'attaques': 10, 'parité': 10, 'toutefois': 10, 'harcèlement': 10, 'cellule': 10, 'bord': 10, 'opposent': 10, 'aspiration': 10, 'désordre': 10, 'réunification': 10, 'tragique': 10, 'multiplié': 10, 'Charles': 10, 'proposée': 10, 'donnés': 10, 'frontière': 10, 'prolifération': 10, 'intellectuelle': 10, 'dirait': 10, 'neutre': 10, 'Aucun': 10, 'transformé': 10, 'occupent': 10, 'domination': 10, 'partagées': 10, 'avion': 10, 'exclusivement': 10, 'pièce': 10, 'cohérent': 10, 'journalistes': 10, 'tensions': 10, 'pousser': 10, 'exemples': 10, 'prenant': 10, 'désaccord': 10, 'ruptures': 10, 'comprennent': 10, 'pourrit': 10, 'téléphone': 10, 'paie': 10, 'dénoncer': 10, 'siège': 10, 'usagers': 10, 'craintes': 10, 'principal': 10, 'appartement': 10, 'plafonnement': 10, 'jouent': 10, 'BANQUE': 10, 'Regardez': 10, 'cite': 10, 'juger': 10, 'parlait': 10, 'parfait': 10, 'spéculation': 10, 'Ceux': 10, 'mètres': 10, 'fixe': 10, 'relèvent': 10, 'rééquilibrage': 10, 'débattu': 10, 'remédier': 10, 'mains': 10, 'imposent': 10, 'mode': 10, 'volontariat': 10, 'quitté': 10, 'publicité': 10, 'législative': 10, 'agréments': 10, 'correspond': 10, 'clause': 10, 'constructif': 10, 'prolongement': 10, 'Troisième': 10, 'acheter': 10, 'Sabine': 10, 'effectif': 10, 'destinées': 10, 'tôt': 10, 'détriment': 10, 'créés': 10, 'dépendra': 10, 'commerces': 10, 'sûrs': 10, 'applicables': 10, 'continuité': 10, 'acquéreurs': 10, 'défenseur': 10, 'conformément': 10, 'modifications': 10, 'apportant': 10, 'fusion': 10, 'suppression': 10, 'pérenne': 10, 'déployés': 10, 'parent': 10, 'neuves': 10, '250': 10, 'dégradé': 10, 'Nadia': 10, 'doté': 10, 'auxquelles': 10, 'élaborés': 10, 'invite': 10, 'disponible': 10, 'équilibrée': 10, 'identité': 10, 'documents': 10, 'spécificité': 10, 'maîtriser': 10, 'persuadé': 10, 'problématique': 10, 'profiter': 10, 'délégation': 10, 'probablement': 10, 'comportement': 10, 'échappé': 10, 'décide': 10, 'pilote': 10, 'exemplarité': 10, 'sanctionner': 10, 'associés': 10, 'introduire': 10, 'exemplaires': 10, 'commerciales': 10, 'voiture': 10, 'Margrethe': 10, 'syndicats': 10, 'tard': 10, 'sanitaire': 10, 'petite': 10, 'croyez': 10, 'laissez': 10, 'défend': 10, 'rapidité': 10, 'grandir': 10, 'lié': 10, 'Ouest': 10, 'climatiques': 10, 'mobilise': 10, 'évaluer': 10, 'patronales': 10, 'remplacer': 10, 'mauvaise': 10, 'légitimité': 10, 'agriculteur': 10, 'agroécologique': 10, 'comprends': 10, 'réformer': 10, 'professionnelles': 10, 'représentent': 10, 'complète': 10, 'visent': 10, 'concertations': 10, 'livret': 10, 'concentrer': 10, 'aiment': 10, 'mineurs': 10, 'Racine': 10, 'télévision': 10, 'théâtres': 10, 'grève': 10, 'libération': 10, 'Livre': 10, 'stupéfiants': 10, 'criminalité': 10, 'constante': 10, 'continuum': 10, 'grade': 10, 'sang': 10, 'proie': 10, 'fraternité': 10, 'and': 10, 'réinvestir': 10, 'inadmissible': 10, 'classe': 10, 'Aide': 10, 'fondement': 10, 'pages': 10, 'Arménie': 10, 'Alain': 10, 'alinéa': 10, 'clé': 9, 'évident': 9, 'agence': 9, 'consacré': 9, 'envisager': 9, 'terminer': 9, 'arguments': 9, 'tenue': 9, 'évidence': 9, 'manifestement': 9, 'retard': 9, 'participation': 9, 'richesse': 9, 'ports': 9, 'indispensables': 9, 'dotée': 9, 'Sorbonne': 9, 'qualification': 9, 'science': 9, 'start': 9, 'Accord': 9, 'africains': 9, 'réussi': 9, 'nommé': 9, 'industries': 9, 'rarement': 9, 'local': 9, 'présidence': 9, 'accompagné': 9, 'feraient': 9, 'mettant': 9, 'modéré': 9, 'marque': 9, 'confié': 9, 'entièrement': 9, 'systématique': 9, 'concernait': 9, 'attachés': 9, 'partagée': 9, 'Brittany': 9, 'Ferries': 9, 'présidé': 9, 'Claude': 9, 'vies': 9, 'in': 9, 'Peut': 9, 'eaux': 9, 'milieux': 9, 'recommandations': 9, 'massivement': 9, 'environnementales': 9, 'identifiés': 9, 'exposé': 9, 'positif': 9, 'coalitions': 9, 'forts': 9, 'relevé': 9, 'conclusions': 9, 'réfléchir': 9, 'stade': 9, 'entrer': 9, 'tenté': 9, 'impérativement': 9, 'cohérente': 9, 'Wuhan': 9, 'néerlandais': 9, 'boussole': 9, 'habitudes': 9, 'refusent': 9, 'conjuguer': 9, 'belles': 9, 'mesurer': 9, 'collectifs': 9, 'catégorie': 9, 'conjointes': 9, 'luttes': 9, 'parvenus': 9, 'guerres': 9, 'poids': 9, 'Josep': 9, 'apporté': 9, 'embargo': 9, 'frégate': 9, 'ramener': 9, 'aggiornamento': 9, 'croyons': 9, 'prendrai': 9, 'soutient': 9, 'cultiver': 9, 'libérales': 9, 'incapable': 9, 'flexibilité': 9, 'positions': 9, 'chinoises': 9, 'russes': 9, 'finaliser': 9, 'légiférer': 9, 'distance': 9, 'permets': 9, 'évoquiez': 9, 'motif': 9, 'liée': 9, 'Algérie': 9, 'conseils': 9, 'monter': 9, 'hôtels': 9, 'gouv': 9, 'loue': 9, 'assureurs': 9, 'illégal': 9, 'introduit': 9, 'impayés': 9, 'Nicolas': 9, 'Pardon': 9, 'sondages': 9, 'Marlène': 9, 'certainement': 9, 'périphérie': 9, 'éligibles': 9, 'relevant': 9, 'souvenez': 9, 'recevoir': 9, 'duquel': 9, 'nourrissons': 9, 'modeste': 9, 'prononcer': 9, 'orienté': 9, 'attendue': 9, 'adaptés': 9, 'développe': 9, 'capables': 9, 'bâtiments': 9, 'entourent': 9, '110': 9, 'devaient': 9, 'divergences': 9, 'améliorations': 9, 'consolidés': 9, 'Aucune': 9, 'éligible': 9, 'sources': 9, 'financés': 9, 'contraints': 9, 'lève': 9, 'implique': 9, 'vendredi': 9, 'demeurent': 9, 'menées': 9, 'accélérée': 9, 'interroge': 9, 'considérations': 9, 'pouvant': 9, 'issues': 9, 'versement': 9, 'II': 9, 'ALUR': 9, 'poursuivent': 9, 'respectant': 9, 'souhaiterais': 9, 'réaffirmée': 9, '11': 9, 'Seine': 9, 'votées': 9, 'touchées': 9, 'fers': 9, 'indicateur': 9, 'accordé': 9, 'prononcées': 9, 'prévoyait': 9, 'pluriannuel': 9, 'investie': 9, 'frapper': 9, '2007': 9, 'réels': 9, 'pénurie': 9, 'achever': 9, 'inviter': 9, 'Éric': 9, 'territoriaux': 9, 'minorité': 9, 'équilibré': 9, 'preuves': 9, 'solidaires': 9, 'obstacle': 9, 'accompli': 9, 'payé': 9, 'rivalités': 9, 'Grand': 9, 'vides': 9, 'réhabiliter': 9, 'bénéficie': 9, 'Faut': 9, 'terminé': 9, 'démocratiques': 9, 'accompagnant': 9, 'vraies': 9, 'bois': 9, 'dérives': 9, 'soutiens': 9, 'coûts': 9, 'voitures': 9, 'souci': 9, 'rencontrent': 9, 'constituer': 9, 'champions': 9, 'chinois': 9, 'électrique': 9, 'préoccupation': 9, 'alternative': 9, 'technologie': 9, 'passent': 9, 'ferai': 9, 'fer': 9, 'digital': 9, 'acceptable': 9, 'Faire': 9, 'dise': 9, 'préférence': 9, 'polémiques': 9, 'écart': 9, 'salon': 9, 'fondamentales': 9, 'souverain': 9, 'stockage': 9, 'bases': 9, 'attendez': 9, 'Boeing': 9, 'Airbus': 9, 'viticole': 9, 'dirigeants': 9, 'Permettez': 9, 'Républicains': 9, 'reconnu': 9, 'parlera': 9, 'chartes': 9, 'insécurité': 9, 'trace': 9, 'dévoiement': 9, 'usages': 9, 'épargne': 9, 'précédents': 9, 'animal': 9, 'envoyer': 9, 'intimité': 9, 'juge': 9, 'voulue': 9, 'démonstration': 9, 'dures': 9, 'atteintes': 9, 'sentent': 9, 'racines': 9, 'efficaces': 9, 'bienveillance': 9, 'co': 9, 'interlocuteurs': 9, 'laïcité': 9, 'cortèges': 9, 'entraver': 9, 'trafic': 9, 'profondes': 9, 'conforter': 9, 'of': 9, 'durant': 9, 'désaccords': 9, 'félicite': 9, 'crédibles': 9, 'présentes': 9, 'plastique': 9, 'scolarisation': 9, 'Services': 9, 'exposer': 9, 'aéroports': 9, 'vitaux': 9, 'Auschwitz': 9, 'commettre': 9, 'souffrance': 9, 'Hubert': 9, 'examine': 9, 'privatisation': 9, 'Aéroports': 9, 'posait': 9, 'fonctionné': 9, 'exprimés': 9, 'clivages': 9, 'lire': 9, 'municipal': 9, 'Indien': 8, 'conseiller': 8, 'destination': 8, 'irai': 8, 'haute': 8, 'Bordeaux': 8, 'régionaux': 8, 'fructueux': 8, 'offrent': 8, 'agroalimentaire': 8, 'académiques': 8, 'électricité': 8, 'consulaires': 8, 'francophonie': 8, 'ONG': 8, 'transparente': 8, 'bref': 8, 'essentiels': 8, 'examiner': 8, 'fondée': 8, 'détruit': 8, 'conseillers': 8, 'Méditerranée': 8, 'ingénieurs': 8, 'Tunisie': 8, 'Académie': 8, 'culturelles': 8, 'AEFE': 8, 'restera': 8, 'exprimées': 8, 'démarches': 8, 'Lorsque': 8, 'lycée': 8, 'intégration': 8, 'finance': 8, 'directive': 8, 'vidéo': 8, 'demandent': 8, 'critique': 8, 'charte': 8, 'véhicule': 8, 'Chers': 8, 'Malo': 8, 'municipale': 8, 'imagination': 8, 'intégrité': 8, 'avantages': 8, 'couvrir': 8, 'arrivera': 8, 'Bref': 8, 'invité': 8, 'fassent': 8, 'charbon': 8, 'commerciaux': 8, 'Nouvelle': 8, 'Présidente': 8, 'sorti': 8, 'libyenne': 8, 'référendum': 8, 'joue': 8, 'consensus': 8, 'isolement': 8, 'essentielles': 8, 'Nuit': 8, 'écosystèmes': 8, 'lucidité': 8, 'Deuxièmement': 8, 'auditeurs': 8, 'rapatriement': 8, 'tenter': 8, 'appeler': 8, 'employer': 8, 'poursuivrons': 8, 'présentation': 8, 'allé': 8, 'sexistes': 8, 'moral': 8, 'origines': 8, 'honoré': 8, 'débuté': 8, 'Essentiel': 8, 'Représentant': 8, 'Ensemble': 8, 'irakienne': 8, 'Belgique': 8, 'redéfinir': 8, 'innocence': 8, 'annonçait': 8, 'fabriqués': 8, 'incompatible': 8, 'intermédiation': 8, 'donneront': 8, 'libres': 8, 'univers': 8, 'quantique': 8, 'subventions': 8, 'réguler': 8, 'rare': 8, 'étroit': 8, 'intense': 8, 'riverains': 8, 'espérons': 8, 'indiquer': 8, 'livrer': 8, '706': 8, 'internet': 8, 'retourner': 8, 'apportez': 8, 'dénoncent': 8, 'aberrant': 8, 'sorties': 8, 'tendues': 8, 'colossal': 8, 'Visale': 8, 'facilhabitat': 8, 'dorment': 8, 'GECINA': 8, '560': 8, 'gouverneur': 8, 'sort': 8, 'proche': 8, 'explique': 8, 'coups': 8, 'miracle': 8, 'remarque': 8, 'mettez': 8, 'dépasser': 8, 'tomber': 8, 'légitimes': 8, 'organisés': 8, 'intercommunalité': 8, 'nécessitant': 8, 'intentions': 8, 'suivante': 8, 'archipels': 8, 'imposant': 8, 'exemptions': 8, 'ménage': 8, 'confiée': 8, 'semblait': 8, 'instruction': 8, 'encadre': 8, 'démolitions': 8, 'alourdies': 8, 'truchement': 8, 'gentil': 8, 'convenir': 8, 'Telle': 8, 'publié': 8, 'obtenus': 8, 'personnalisée': 8, 'préférable': 8, 'retenir': 8, 'dotés': 8, 'manger': 8, 'Espace': 8, 'Habitat': 8, 'locatifs': 8, 'listes': 8, 'partisan': 8, 'Certaines': 8, 'arrière': 8, 'Fort': 8, 'revoyure': 8, 'récente': 8, 'guère': 8, 'expulsées': 8, 'gravité': 8, 'maraude': 8, 'causes': 8, 'inverse': 8, 'signifierait': 8, 'exclut': 8, 'touchant': 8, 'fervent': 8, 'Jacqueline': 8, 'Gourault': 8, 'différenciation': 8, 'Souvenez': 8, 'compose': 8, 'désolé': 8, 'réellement': 8, 'regroupements': 8, 'lancées': 8, 'Laurianne': 8, 'Rossi': 8, 'logées': 8, 'abrisme': 8, 'Trouver': 8, 'bénéficié': 8, 'possèdent': 8, 'répéter': 8, 'individuels': 8, 'Faites': 8, 'Hai': 8, 'Bobigny': 8, 'accent': 8, 'immobiliers': 8, 'drogue': 8, 'Beaudouin': 8, 'Hubiere': 8, 'médiation': 8, 'disposant': 8, 'successifs': 8, 'terrains': 8, 'élevait': 8, 'mauvais': 8, 'égards': 8, 'apportée': 8, 'employeurs': 8, 'neuve': 8, 'précision': 8, 'conscient': 8, 'péréquation': 8, 'Pauget': 8, 'hélas': 8, 'fiscaux': 8, 'ghettoïsation': 8, 'opéré': 8, 'acquisition': 8, 'fatalité': 8, 'Josy': 8, 'Poueyto': 8, 'exprime': 8, 'encouragés': 8, 'Lagleize': 8, 'cession': 8, 'dessous': 8, 'pertinent': 8, 'utilité': 8, 'disposent': 8, 'Loiseau': 8, 'ORT': 8, 'avancent': 8, 'SAC': 8, 'ruralité': 8, 'ruralités': 8, 'centralités': 8, 'Louer': 8, 'incitation': 8, 'attributions': 8, 'rapprocher': 8, '3D': 8, 'formuler': 8, 'décentraliser': 8, 'décentralise': 8, 'détail': 8, 'reviendra': 8, 'aspects': 8, 'artisans': 8, 'urbaines': 8, 'compléter': 8, 'bancaire': 8, 'barrière': 8, 'noirs': 8, 'boîte': 8, 'fraudes': 8, 'réaction': 8, 'solides': 8, 'Dominique': 8, 'monétaire': 8, 'marqué': 8, 'verts': 8, 'défendu': 8, 'réunit': 8, 'BLANQUER': 8, 'accepte': 8, 'retrouvent': 8, 'supprimé': 8, 'usine': 8, 'véhicules': 8, 'digitale': 8, 'arrivent': 8, 'chinoise': 8, 'permettrez': 8, 'suivent': 8, 'fils': 8, 'dira': 8, 'traitées': 8, 'printemps': 8, 'PSA': 8, 'OMC': 8, 'automne': 8, 'vins': 8, 'Davos': 8, 'principaux': 8, 'soutiennent': 8, 'précises': 8, 'idéal': 8, 'voient': 8, 'cents': 8, 'mur': 8, 'Indépendants': 8, 'saisi': 8, 'profession': 8, 'tendances': 8, 'mutation': 8, 'Férat': 8, 'élaboration': 8, 'dépasse': 8, 'fermer': 8, 'abandon': 8, 'pouvoirs': 8, 'manipulation': 8, 'BD': 8, 'arts': 8, 'libertés': 8, 'représentés': 8, 'contenu': 8, 'éditorial': 8, 'voilure': 8, 'RFI': 8, 'Coulommiers': 8, 'diagnostic': 8, 'décisive': 8, 'nourri': 8, 'existence': 8, 'réaffirmer': 8, 'gradés': 8, 'décloisonner': 8, 'fondements': 8, 'polices': 8, 'querelles': 8, 'déontologie': 8, 'séparation': 8, 'socle': 8, 'vrais': 8, 'professeurs': 8, 'bilatéraux': 8, 'associative': 8, 'changeant': 8, 'pensait': 8, 'semblerait': 8, 'Intervention': 8, 'Wolfgang': 8, 'Ischinger': 8, 'we': 8, 'croit': 8, 'bousculé': 8, 'Pacifique': 8, 'évoquait': 8, 'Ukraine': 8, 'format': 8, 'chancelière': 8, 'soutenable': 8, 'inédite': 8, 'contemporains': 8, 'recul': 8, 'fragilité': 8, 'enquêtes': 8, 'aidants': 8, 'Quel': 8, 'atlantique': 8, 'FNI': 8, 'Cracovie': 8, 'hasard': 8, 'réinventer': 8, 'historiens': 8, 'verrai': 8, 'participons': 8, 'indestructible': 8, 'ambiguïtés': 8, 'Drian': 8, 'arménien': 8, 'voulaient': 8, 'reconnaissons': 8, 'blessure': 8, 'Esther': 8, 'Jumel': 8, 'Protestations': 8, 'opinion': 8, 'hypothèse': 8, '75': 8, 'malades': 8, 'Havrais': 8, 'basculé': 8, 'cristallisé': 8, 'digue': 8, 'saute': 8, 'démission': 8, 'viol': 8, 'Sociale': 8, 'Enfance': 8, 'pédopsychiatrie': 8, 'portait': 8, 'formons': 8, 'piquent': 8, 'valable': 8, 'perçue': 8, 'tir': 8, 'dévoie': 8, 'levées': 8, '34': 8, 'saisira': 8, 'Marielle': 8, 'perdez': 8, 'navette': 8, 'grief': 8, 'PEN': 8, 'untel': 8, 'exécution': 8, 'Ambassadeur': 7, 'bureau': 7, 'articulation': 7, 'ambassadeur': 7, 'forum': 7, 'confirmés': 7, 'immédiat': 7, 'approfondie': 7, 'marquer': 7, '23': 7, 'significatifs': 7, 'seconde': 7, 'rejoindre': 7, 'Macron': 7, 'exprimée': 7, 'agissons': 7, 'souligne': 7, 'Abou': 7, 'Dabi': 7, 'constaté': 7, 'supérieurs': 7, 'relativement': 7, 'Education': 7, 'détachés': 7, 'favorisant': 7, 'associé': 7, 'ajustement': 7, 'ère': 7, 'arabe': 7, 'médias': 7, 'productions': 7, 'ingénierie': 7, 'intéressante': 7, 'Néanmoins': 7, 'air': 7, 'Montchalin': 7, 'intuition': 7, '66': 7, 'regardé': 7, 'possibles': 7, 'optimiste': 7, 'clés': 7, 'Normandie': 7, 'amené': 7, 'décisif': 7, 'agisse': 7, 'Concrètement': 7, 'chambres': 7, 'Argentine': 7, 'donnera': 7, 'avantage': 7, 'Nersac': 7, 'clef': 7, 'établir': 7, 'troisièmement': 7, 'espérer': 7, 'intervenu': 7, 'restée': 7, 'concerné': 7, 'transforme': 7, 'recréer': 7, 'gouvernementales': 7, 'Idées': 7, 'Vincent': 7, 'bouleversement': 7, 'voulions': 7, 'différemment': 7, 'confier': 7, 'précédentes': 7, 'valider': 7, 'cérémonie': 7, 'accident': 7, 'frappé': 7, 'opportunités': 7, 'adaptée': 7, 'Pékin': 7, 'alignement': 7, 'autonome': 7, 'situe': 7, 'gardant': 7, 'libérer': 7, 'rappelant': 7, 'Haute': 7, 'répercussions': 7, 'dérèglements': 7, 'venue': 7, 'inquiète': 7, 'exposées': 7, 'emporter': 7, 'migrations': 7, 'imagine': 7, 'restrictions': 7, 'insister': 7, 'conformes': 7, 'siècles': 7, 'ressortissants': 7, 'Partenariat': 7, 'appels': 7, 'plaît': 7, 'Buzyn': 7, 'clarification': 7, 'attaque': 7, 'amener': 7, 'explication': 7, 'reçu': 7, 'joué': 7, 'échéance': 7, 'sérieux': 7, 'conscients': 7, 'messages': 7, 'communautés': 7, 'progression': 7, 'attaquer': 7, 'retrouvé': 7, 'mi': 7, 'quasiment': 7, 'puissiez': 7, 'confirme': 7, 'noms': 7, 'transparent': 7, 'intégrée': 7, 'emmener': 7, 'lu': 7, 'pères': 7, 'lendemain': 7, 'habite': 7, 'connaissant': 7, 'départementaux': 7, 'tentation': 7, 'formulées': 7, 'construisent': 7, 'âgés': 7, 'dépense': 7, 'quart': 7, 'aménagements': 7, 'échappe': 7, 'revoir': 7, 'envisagez': 7, 'allés': 7, 'franchi': 7, 'Songez': 7, 'suffisait': 7, 'images': 7, 'financées': 7, 'actif': 7, 'modernisation': 7, 'déposé': 7, 'attentifs': 7, 'Parmi': 7, 'orienter': 7, 'impasse': 7, 'reconnaît': 7, 'écarts': 7, 'insuffisant': 7, 'rappellent': 7, 'Rires': 7, 'rendra': 7, 'tourne': 7, 'fortune': 7, 'immobilière': 7, 'diverses': 7, 'quelconque': 7, 'permettrait': 7, 'ordonnances': 7, 'physiques': 7, 'occupé': 7, 'articles': 7, 'fine': 7, 'rejoins': 7, 'Territoires': 7, 'supermarché': 7, 'Brigitte': 7, 'concernera': 7, 'attachées': 7, 'épisode': 7, 'PPL': 7, 'tombe': 7, 'juges': 7, 'signaux': 7, 'tiennent': 7, 'friches': 7, 'rapporteur': 7, 'indépendante': 7, 'associer': 7, 'Vestager': 7, 'évolue': 7, 'compréhension': 7, 'décarbonée': 7, 'travaillée': 7, 'déplacer': 7, 'investit': 7, 'conclu': 7, 'reporter': 7, 'sereinement': 7, 'fille': 7, 'exact': 7, 'dure': 7, 'HUAWEI': 7, 'Chinois': 7, 'mettrons': 7, 'prennent': 7, 'achète': 7, 'harmonisation': 7, 'passées': 7, 'ceci': 7, 'administratifs': 7, 'finir': 7, 'titres': 7, 'amour': 7, 'délais': 7, 'redistribution': 7, 'Schiappa': 7, 'exécutifs': 7, 'urgent': 7, 'capitaux': 7, 'profitons': 7, 'resteront': 7, 'ciment': 7, 'contact': 7, 'créent': 7, 'rétablir': 7, 'raisonnable': 7, 'périodes': 7, 'incertitudes': 7, 'chimiques': 7, 'bio': 7, 'surfaces': 7, 'phytosanitaires': 7, 'constitutionnel': 7, 'caisse': 7, 'Menonville': 7, 'prédécesseurs': 7, 'panneaux': 7, 'Louault': 7, 'exister': 7, 'Jérôme': 7, 'environnementaux': 7, 'déclarations': 7, 'avançons': 7, 'EPF': 7, 'arrivés': 7, 'entendons': 7, 'attend': 7, 'Chaize': 7, 'tâche': 7, 'pêcher': 7, 'cultes': 7, 'abandonné': 7, 'polémique': 7, 'annoncées': 7, 'intimes': 7, 'mienne': 7, 'reconversion': 7, 'ministériel': 7, 'extérieure': 7, 'foi': 7, 'plat': 7, 'CNL': 7, 'souhaitable': 7, 'Oh': 7, 'fermé': 7, 'Maroc': 7, 'rejeté': 7, 'Celle': 7, 'silence': 7, 'implication': 7, 'sexuelle': 7, 'républicaines': 7, 'citoyennes': 7, 'rigoureux': 7, 'cheminer': 7, 'apprendre': 7, 'progressive': 7, 'dialoguer': 7, 'vitalité': 7, 'parlement': 7, 'allemande': 7, 'Russes': 7, 'brut': 7, 'dette': 7, 'OFB': 7, 'traces': 7, 'protégée': 7, 'interdit': 7, 'professionnalisme': 7, 'adultes': 7, 'maladie': 7, 'porteuse': 7, 'missiles': 7, 'allié': 7, 'demeurant': 7, 'directs': 7, 'employeur': 7, 'maternelle': 7, 'Karabagh': 7, 'gilets': 7, 'individus': 7, 'Christophe': 7, 'Cohen': 7, 'IGPN': 7, 'UDI': 7, 'Wulfranc': 7, '63': 7, 'Halimi': 7, 'Matignon': 7, 'SOCR': 7, 'ADP': 7, 'sécession': 7, 'rempart': 7, 'initiée': 6, 'régional': 6, 'initialement': 6, 'durables': 6, 'décentralisée': 6, 'invités': 6, 'Rajoelina': 6, 'opérateur': 6, 'cités': 6, 'gaz': 6, 'sécuritaires': 6, 'participera': 6, 'validés': 6, 'nécessairement': 6, 'déterminé': 6, 'extraordinaire': 6, 'bel': 6, 'présidentiel': 6, 'Beaucoup': 6, 'urgences': 6, 'restauration': 6, 'terrestre': 6, 'aidant': 6, 'transports': 6, 'signer': 6, 'soirée': 6, 'Proche': 6, 'fondées': 6, 'dizaine': 6, 'commercial': 6, 'mécanique': 6, 'levier': 6, 'faiblesse': 6, 'musée': 6, 'universitaire': 6, 'mentionnerai': 6, 'Université': 6, 'université': 6, 'universités': 6, 'agroécologie': 6, 'pointe': 6, 'Quatre': 6, 'théâtre': 6, 'inauguré': 6, 'sportifs': 6, 'rugby': 6, '38': 6, 'compliquées': 6, 'anglais': 6, 'contribuent': 6, 'religieux': 6, 'Pouvez': 6, 'exposition': 6, 'roi': 6, 'régulière': 6, 'ressort': 6, 'accordons': 6, 'Alexis': 6, 'immédiate': 6, 'perte': 6, 'ami': 6, 'déclaration': 6, 'dedans': 6, 'silo': 6, 'rapprochement': 6, 'interpellation': 6, 'autrement': 6, 'accomplir': 6, 'engagent': 6, 'isolés': 6, 'masquer': 6, 'décideurs': 6, 'énergétiques': 6, 'cessé': 6, 'décennie': 6, 'luttant': 6, 'UE': 6, 'définitive': 6, 'conditionne': 6, 'iranienne': 6, 'Trois': 6, 'imaginer': 6, 'traduire': 6, 'gratuit': 6, 'multilatérale': 6, 'logiques': 6, 'peser': 6, 'appelons': 6, 'Elisabeth': 6, 'Ambassadrices': 6, 'désir': 6, 'unir': 6, 'refaire': 6, 'applaudir': 6, 'hautes': 6, 'heureusement': 6, 'tendue': 6, 'Partout': 6, 'rassemblant': 6, 'établi': 6, 'tort': 6, 'fixera': 6, 'pertinents': 6, 'Direction': 6, 'multilatéral': 6, 'innovants': 6, 'lourd': 6, 'agréable': 6, 'Mitterrand': 6, 'invitation': 6, 'rouge': 6, 'condamne': 6, 'spectateurs': 6, 'naître': 6, 'stable': 6, 'embrasement': 6, 'contradiction': 6, 'conjoints': 6, 'utilisant': 6, 'Bamako': 6, 'intervenus': 6, 'concept': 6, 'Danemark': 6, 'singulière': 6, 'vide': 6, 'vitale': 6, 'renouvelé': 6, 'personnelles': 6, 'marges': 6, 'protégées': 6, 'correspondent': 6, 'globaux': 6, 'billets': 6, 'géant': 6, 'tentatives': 6, 'fermés': 6, 'rares': 6, 'atout': 6, 'masse': 6, 'inacceptable': 6, 'existantes': 6, 'sauver': 6, 'étapes': 6, 'parlais': 6, 'émergence': 6, 'diffusés': 6, 'infernal': 6, 'énormes': 6, 'démunis': 6, 'réagir': 6, 'agissent': 6, 'injustices': 6, 'facto': 6, 'quiconque': 6, 'répartis': 6, 'établie': 6, 'développé': 6, 'démagogie': 6, '120': 6, 'deuxièmement': 6, 'reçoit': 6, 'progresser': 6, 'profils': 6, 'achat': 6, 'alentours': 6, 'donnez': 6, 'cible': 6, 'rembourser': 6, 'Outre': 6, 'détresse': 6, 'exceptions': 6, 'contradictoires': 6, 'enfermer': 6, 'Seconde': 6, 'expérimentée': 6, 'choquer': 6, 'médicaux': 6, 'sanitaires': 6, 'patrimoniale': 6, 'couple': 6, 'comporte': 6, 'tribune': 6, 'différenciée': 6, 'reviendrons': 6, 'reviennent': 6, 'monte': 6, 'pertinente': 6, 'signée': 6, 'instaurer': 6, 'licorne': 6, 'ajoutent': 6, 'asile': 6, 'ouvrant': 6, 'Observatoire': 6, 'partielles': 6, 'inquiets': 6, 'anormal': 6, 'remplacement': 6, 'chômeurs': 6, 'parcelles': 6, 'bâtis': 6, 'accentuer': 6, 'respectifs': 6, 'enclenché': 6, 'Tel': 6, 'inédits': 6, 'primordial': 6, 'expérimenter': 6, 'boulot': 6, 'expérimenté': 6, 'indique': 6, 'pénales': 6, 'commissions': 6, 'treize': 6, 'incroyablement': 6, 'constitué': 6, '750': 6, 'thermiques': 6, 'démontré': 6, 'signal': 6, 'exemptées': 6, 'procédé': 6, 'rappelons': 6, 'sortira': 6, 'baissent': 6, 'réservé': 6, 'bus': 6, 'exclusion': 6, 'disparition': 6, 'renoncer': 6, 'meurt': 6, 'parliez': 6, 'visait': 6, 'assurant': 6, 'semblent': 6, 'priver': 6, 'consisterait': 6, 'comparable': 6, 'saisis': 6, 'retours': 6, 'législatives': 6, 'conclus': 6, 'devenus': 6, 'satisfaits': 6, 'existants': 6, 'fusionner': 6, 'réorganisation': 6, 'étonne': 6, 'Sachez': 6, 'paradigme': 6, 'observer': 6, 'amplifier': 6, 'fragilisés': 6, 'Entre': 6, 'drastiquement': 6, 'revitaliser': 6, 'complique': 6, 'pompiers': 6, 'Autrement': 6, 'découlent': 6, 'instituant': 6, 'maladresses': 6, 'Surtout': 6, 'irresponsable': 6, 'ben': 6, 'préfère': 6, 'vertes': 6, 'identifié': 6, 'dépassé': 6, 'égide': 6, 'clarifier': 6, 'fragile': 6, 'Fédération': 6, '2009': 6, 'individuelle': 6, 'Désormais': 6, 'journaux': 6, 'faisais': 6, 'doigts': 6, 'Code': 6, 'rapides': 6, 'Alstom': 6, 'commissaires': 6, 'argument': 6, 'week': 6, 'devions': 6, 'problématiques': 6, 'revalorisation': 6, 'cherchent': 6, 'magnifique': 6, 'hydrogène': 6, 'hésite': 6, 'analyses': 6, 'paye': 6, 'assure': 6, 'confirmer': 6, 'chaînes': 6, 'critiques': 6, 'démarrer': 6, 'pensions': 6, 'hachées': 6, 'valorisation': 6, 'tuteurs': 6, 'rêves': 6, 'Maire': 6, 'Evidemment': 6, 'concentration': 6, 'sienne': 6, 'der': 6, 'Leyen': 6, 'Frédérique': 6, 'Vidal': 6, 'Potier': 6, 'discute': 6, 'fondamental': 6, 'relais': 6, 'diviser': 6, 'contestons': 6, 'suspendue': 6, 'affaiblir': 6, 'producteurs': 6, '21': 6, 'jeudi': 6, 'fonctionner': 6, 'INSTEX': 6, 'A350': 6, 'marge': 6, 'FAUVELLE': 6, 'donnent': 6, 'salariales': 6, 'refondation': 6, 'évoque': 6, 'battus': 6, 'transitions': 6, 'agro': 6, 'Absolument': 6, 'alternatives': 6, 'hectare': 6, 'Bon': 6, 'malade': 6, 'obscurantisme': 6, 'Reconnaissons': 6, 'défendent': 6, 'DELEVOYE': 6, 'servi': 6, 'individuel': 6, 'équivalente': 6, 'contribué': 6, 'nette': 6, 'stigmatiser': 6, 'portera': 6, 'Montaugé': 6, 'cahier': 6, 'amont': 6, 'démontrer': 6, 'allier': 6, 'triangle': 6, 'Gonesse': 6, 'citoyenne': 6, 'Lors': 6, 'contrairement': 6, 'Cabanel': 6, 'variés': 6, 'correctement': 6, 'législatifs': 6, 'incapacité': 6, 'réussirons': 6, 'naturels': 6, 'séquence': 6, 'trancher': 6, 'issus': 6, 'ô': 6, 'monté': 6, 'éleveurs': 6, 'compagnie': 6, 'arrêté': 6, 'LECORNU': 6, 'responsabiliser': 6, 'vidéos': 6, 'étudier': 6, 'diverse': 6, 'touché': 6, 'patron': 6, 'O': 6, 'Numérique': 6, 'fake': 6, 'marques': 6, 'remettant': 6, 'grandi': 6, 'secours': 6, 'Agessa': 6, 'lumière': 6, 'artiste': 6, 'accroître': 6, 'décrire': 6, 'réactivité': 6, 'statistique': 6, 'réalisation': 6, 'proposait': 6, 'dispersées': 6, 'éducatives': 6, 'connaissait': 6, 'publiquement': 6, 'RETAILLEAU': 6, 'influences': 6, 'officiers': 6, 'proposant': 6, 'débordements': 6, 'terroriste': 6, 'contestation': 6, 'poursuivi': 6, 'stigmatisation': 6, 'protecteur': 6, 'statu': 6, 'quo': 6, 'beaux': 6, 'remarquables': 6, 'circule': 6, 'Guyane': 6, 'éthique': 6, 'résolue': 6, 'direct': 6, 'tienne': 6, 'signalement': 6, 'permanente': 6, 'convergences': 6, 'côte': 6, 'for': 6, 'investissons': 6, 'embrasser': 6, 'impensé': 6, 'hégémonie': 6, 'autorisez': 6, 'conduisent': 6, 'Mont': 6, 'montagne': 6, 'pédagogie': 6, 'profond': 6, 'visible': 6, 'forêts': 6, 'intrants': 6, 'vôtre': 6, 'associatif': 6, 'blessures': 6, 'médico': 6, 'interpeller': 6, 'effectue': 6, 'Gaulle': 6, 'aériennes': 6, 'dérouler': 6, 'Sécurité': 6, 'TNP': 6, 'soldats': 6, 'rappelais': 6, 'fructifier': 6, 'patriote': 6, 'histoires': 6, 'sentiments': 6, 'morts': 6, 'marches': 6, 'Iskander': 6, 'tombés': 6, 'Duda': 6, 'admiration': 6, 'Arméniens': 6, 'défendons': 6, '36': 6, 'administratives': 6, 'Assassi': 6, 'David': 6, 'Damien': 6, 'universalité': 6, 'familiaux': 6, 'ferait': 6, 'Gilets': 6, 'RATP': 6, 'permettraient': 6, 'nouer': 6, 'contributif': 6, 'commencent': 6, 'OMS': 6, 'opinions': 6, 'infantile': 6, 'Maubeuge': 6, 'renforcés': 6, 'bourses': 6, 'tenais': 5, 'fière': 5, 'intégrés': 5, 'étroitement': 5, 'synergie': 5, 'malgaches': 5, 'Emergence': 5, 'Forum': 5, 'producteur': 5, 'abordés': 5, 'initiées': 5, 'Lyon': 5, 'îles': 5, 'africain': 5, 'union': 5, 'entraîneur': 5, 'aéronautique': 5, 'accueillent': 5, 'malgache': 5, 'amenés': 5, 'chapitre': 5, 'visages': 5, 'Député': 5, 'attendu': 5, 'arabes': 5, 'connue': 5, 'britannique': 5, 'examinerons': 5, 'chargée': 5, 'négocier': 5, 'travaillant': 5, 'citerai': 5, 'restaurer': 5, 'Irak': 5, 'assurons': 5, 'Ecole': 5, 'supérieure': 5, 'événement': 5, 'alliances': 5, '350': 5, 'positionnement': 5, 'Jeux': 5, 'ICC': 5, 'ouverts': 5, 'recrutement': 5, 'validé': 5, 'tend': 5, 'directe': 5, 'Médias': 5, 'audiovisuelle': 5, 'doublement': 5, 'subvention': 5, 'résister': 5, 'Netflix': 5, 'exportations': 5, 'intéressant': 5, 'Télévisions': 5, 'M6': 5, 'aspect': 5, 'inauguration': 5, 'Louvre': 5, 'rayonner': 5, 'touristique': 5, 'installe': 5, 'dénombre': 5, 'envisagés': 5, 'incompréhension': 5, 'dates': 5, 'ambiance': 5, 'affolement': 5, 'Amélie': 5, 'reparler': 5, 'professions': 5, 'symbolique': 5, 'Irlande': 5, 'interlocuteur': 5, 'commencement': 5, 'dépendent': 5, 'Guernesey': 5, 'Chirac': 5, 'conflictualité': 5, 'mensonges': 5, '85': 5, 'COP26': 5, 'finirions': 5, 'écologiques': 5, 'conquête': 5, 'standards': 5, 'Objectif': 5, 'encouragement': 5, 'détendus': 5, 'aise': 5, 'impression': 5, 'déstabilisation': 5, 'Poutine': 5, 'Africains': 5, 'appelé': 5, 'spirale': 5, 'signés': 5, 'extérieures': 5, 'posture': 5, 'désengagement': 5, 'bloquer': 5, 'détourner': 5, 'originale': 5, 'opérationnelles': 5, 'savoirs': 5, 'semblé': 5, 'permettait': 5, 'mondiaux': 5, 'fondé': 5, 'portes': 5, 'civiles': 5, 'certitude': 5, 'trouvais': 5, 'Haye': 5, 'ambassadeurs': 5, 'imbriqués': 5, 'agile': 5, 'vus': 5, 'agilité': 5, 'frappe': 5, 'poursuite': 5, 'féliciter': 5, 'Génération': 5, 'Femmes': 5, 'préparé': 5, 'citée': 5, 'Prague': 5, 'structurelles': 5, 'doublé': 5, 'conservent': 5, 'Bretons': 5, 'corporatisme': 5, 'pensé': 5, 'présenterai': 5, 'dimanche': 5, 'reparlera': 5, 'choc': 5, 'lointain': 5, 'incontournable': 5, 'Sous': 5, 'urgents': 5, 'nie': 5, 'pur': 5, 'brutalité': 5, 'brutal': 5, 'relevée': 5, 'retrouvons': 5, 'gage': 5, 'task': 5, 'cycle': 5, 'JCPoA': 5, 'différends': 5, 'résilience': 5, 'instabilité': 5, 'horreur': 5, 'rivalité': 5, 'réciprocité': 5, 'concevons': 5, 'conçues': 5, 'perdons': 5, 'limitées': 5, 'replier': 5, 'terroristes': 5, 'isolé': 5, 'exercée': 5, 'Récemment': 5, 'sécuritaire': 5, 'monopolistiques': 5, 'héberger': 5, 'cercle': 5, 'dominante': 5, 'condamnés': 5, 'contrôlées': 5, 'concepts': 5, 'ciblant': 5, 'repliés': 5, 'nuage': 5, 'intègre': 5, 'big': 5, 'dérive': 5, 'reculé': 5, 'sûrement': 5, 'réactions': 5, 'confusion': 5, 'porteurs': 5, 'voudraient': 5, 'violemment': 5, 'naissance': 5, 'interrogent': 5, 'apportent': 5, 'courte': 5, 'identification': 5, 'divisions': 5, 'donnerait': 5, 'disparu': 5, 'Quelles': 5, 'durs': 5, 'généraux': 5, 'cinémas': 5, 'insectes': 5, 'cachent': 5, 'triste': 5, 'sentez': 5, 'assurances': 5, 'coupe': 5, 'condamner': 5, 'comprenne': 5, 'essayez': 5, 'inconcevable': 5, 'souples': 5, 'endettement': 5, 'CV': 5, 'envoyés': 5, 'Travail': 5, 'répondez': 5, 'exhaustive': 5, 'refusés': 5, 'test': 5, 'issu': 5, 'RH': 5, 'salaires': 5, 'vit': 5, 'dogmatisme': 5, 'justifié': 5, 'justifier': 5, 'conteste': 5, 'défavorisés': 5, 'intercommunalités': 5, 'définis': 5, 'rééquilibrer': 5, 'financeurs': 5, 'fonctionnait': 5, 'trouvait': 5, 'emploie': 5, 'souvenirs': 5, 'urbanistiques': 5, 'judicieux': 5, 'reconstituer': 5, 'souscrire': 5, 'déteste': 5, 'figer': 5, 'satisfait': 5, 'humanisme': 5, 'thermique': 5, 'aisés': 5, 'foyers': 5, 'apprête': 5, 'posons': 5, 'ajuster': 5, 'initié': 5, 'substituer': 5, 'pavillonnaires': 5, 'supermarchés': 5, 'réduite': 5, 'accepteront': 5, 'individualité': 5, 'accompagnée': 5, 'variété': 5, 'bassins': 5, 'casser': 5, 'ghettos': 5, 'dressé': 5, '109': 5, 'desquelles': 5, 'Puisque': 5, 'panel': 5, 'prisme': 5, 'constance': 5, 'imposée': 5, 'vendant': 5, 'jetées': 5, 'appauvrit': 5, 'perdus': 5, 'dignes': 5, 'malheur': 5, 'matins': 5, 'ANAH': 5, 'performance': 5, 'siégeant': 5, 'mine': 5, 'logés': 5, 'mobile': 5, 'dramatique': 5, 'géré': 5, 'OFCE': 5, 'démontrent': 5, 'admettre': 5, 'Grenelle': 5, 'rénové': 5, 'louable': 5, 'restreint': 5, 'périmètre': 5, 'volontiers': 5, 'marginaliser': 5, 'requises': 5, 'inspire': 5, 'imposées': 5, 'littoral': 5, 'appliquées': 5, 'décident': 5, 'denses': 5, 'curseur': 5, 'consolidé': 5, 'oeuvré': 5, 'affiché': 5, 'rédigé': 5, 'restructuration': 5, 'opérationnels': 5, 'constituent': 5, '1990': 5, 'reconstruction': 5, 'requalification': 5, 'repoussées': 5, 'évoquerai': 5, 'instar': 5, 'coeurs': 5, 'assemblée': 5, 'encontre': 5, 'impliqués': 5, 'redressement': 5, 'significativement': 5, 'inédites': 5, 'transmis': 5, 'parquet': 5, 'lourdement': 5, 'emprise': 5, 'contentieux': 5, 'formels': 5, 'octroyer': 5, 'gymnase': 5, 'circonscription': 5, 'situés': 5, 'apporterai': 5, 'asséner': 5, 'Meurthe': 5, 'Moselle': 5, 'ridicule': 5, 'tours': 5, 'dommageable': 5, 'bienvenu': 5, 'bâtiment': 5, 'requis': 5, 'LR': 5, 'reprocher': 5, 'péter': 5, 'répondrons': 5, 'déficits': 5, 'falloir': 5, 'rond': 5, 'attentive': 5, 'procède': 5, 'bénéfique': 5, 'revenant': 5, 'fiscalement': 5, 'laisserai': 5, 'estimons': 5, 'Mouvement': 5, 'démocrate': 5, 'apparentés': 5, 'Quels': 5, 'imaginé': 5, 'acquitter': 5, 'devenues': 5, 'récents': 5, 'promulgation': 5, 'transversale': 5, 'hiérarchie': 5, 'attendus': 5, 'Quelque': 5, 'possède': 5, 'concentre': 5, 'vident': 5, 'Combien': 5, 'contrarier': 5, 'inverser': 5, 'redéployer': 5, 'implantation': 5, 'génie': 5, 'expliquait': 5, 'coordonnée': 5, 'poumon': 5, 'restructurer': 5, 'instauré': 5, 'rurales': 5, 'XXL': 5, 'tuer': 5, 'garantira': 5, 'comparé': 5, 'surcroît': 5, 'aveugle': 5, 'infirmiers': 5, 'déconcentration': 5, 'déléguer': 5, 'contenter': 5, 'père': 5, 'grandeur': 5, 'sensibilité': 5, 'ABAD': 5, 'procès': 5, 'annoncer': 5, 'scolarisés': 5, 'arrête': 5, 'éco': 5, 'courts': 5, 'Association': 5, 'longues': 5, 'prête': 5, 'tarifs': 5, 'DGCCRF': 5, 'remboursement': 5, 'rentrent': 5, 'rapporteurs': 5, 'empêchera': 5, 'interdits': 5, 'changez': 5, 'noble': 5, 'claquement': 5, 'indicateurs': 5, 'coûteuse': 5, 'simulateurs': 5, 'utilisés': 5, 'loyale': 5, 'signaler': 5, 'Bombardier': 5, 'end': 5, 'constructeurs': 5, 'XXIème': 5, 'souplesse': 5, 'SAINT': 5, 'MARTIN': 5, 'croisière': 5, 'Gérald': 5, 'DARMANIN': 5, 'parviendrons': 5, '49': 5, 'bloquent': 5, 'bloque': 5, 'statistiques': 5, 'perdent': 5, 'soins': 5, 'céder': 5, 'FACEBOOK': 5, 'paiement': 5, 'destruction': 5, 'Mila': 5, 'prendrons': 5, 'verrons': 5, '61': 5, 'inférieure': 5, 'adopté': 5, 'vertueux': 5, 'rétrofit': 5, 'essaye': 5, 'cibler': 5, 'hôtel': 5, 'viendront': 5, 'rebâtir': 5, 'Pénicaud': 5, 'pari': 5, 'empêché': 5, 'vues': 5, 'pensons': 5, 'définies': 5, 'partageons': 5, 'von': 5, 'mix': 5, 'intégralité': 5, 'personnalités': 5, 'compétitivité': 5, 'équipées': 5, 'Total': 5, 'Saft': 5, 'parallèle': 5, 'souverains': 5, 'afficher': 5, 'Facebook': 5, 'Chiara': 5, 'tenons': 5, 'impressionnants': 5, 'verser': 5, 'gamme': 5, 'débloqué': 5, 'élargi': 5, 'strictes': 5, 'réserves': 5, 'souverainement': 5, 'portions': 5, 'augmentent': 5, 'perdants': 5, 'paient': 5, 'unanimité': 5, 'mobilisée': 5, 'MACRON': 5, 'brandir': 5, 'suffrage': 5, 'affaiblit': 5, 'justifient': 5, 'Agir': 5, 'perturbation': 5, 'perturber': 5, 'réfugiés': 5, 'directes': 5, 'attaqué': 5, 'biologique': 5, 'substances': 5, 'surface': 5, 'traitée': 5, 'détruire': 5, 'obligatoire': 5, 'samedi': 5, 'insoumise': 5, 'fruit': 5, 'enthousiasme': 5, 'fermage': 5, 'photovoltaïques': 5, 'milite': 5, 'devoirs': 5, 'expliqué': 5, 'nourricier': 5, 'kilomètres': 5, 'accrue': 5, 'arbres': 5, 'spatial': 5, 'irréversible': 5, 'quitte': 5, 'inscription': 5, 'primes': 5, 'méthodes': 5, 'ressortissantes': 5, 'étendu': 5, 'cessions': 5, 'équipement': 5, 'sérénité': 5, 'Françoise': 5, 'viticoles': 5, 'Hugonet': 5, 'préservant': 5, 'Pellevat': 5, 'absurde': 5, 'élevage': 5, 'suivie': 5, 'partiel': 5, 'départs': 5, 'attractifs': 5, 'scandaleux': 5, 'chien': 5, 'refuges': 5, 'individu': 5, 'protégeant': 5, 'médiateur': 5, 'nominations': 5, 'news': 5, 'infox': 5, 'Laetitia': 5, 'AVIA': 5, 'légaux': 5, 'César': 5, 'stigmatisant': 5, 'pointant': 5, 'regardent': 5, 'Présidents': 5, 'souhaitais': 5, 'salarié': 5, 'artistiques': 5, 'intimement': 5, 'connus': 5, 'bande': 5, 'facultatif': 5, 'dysfonctionnements': 5, 'apporte': 5, 'incarner': 5, 'conduisons': 5, 'libère': 5, 'oppose': 5, 'Liberté': 5, 'âme': 5, 'désigner': 5, 'paradoxe': 5, 'psalmodieurs': 5, 'soulève': 5, 'serviteur': 5, 'oublions': 5, 'incarne': 5, 'DENORMANDIE': 5, 'espérance': 5, 'revendiqué': 5, 'relâche': 5, 'Contre': 5, 'cambriolages': 5, 'conjugales': 5, 'démanteler': 5, 'frileux': 5, 'adapte': 5, 'infinie': 5, 'acharné': 5, 'djihadiste': 5, 'tolérer': 5, 'alloués': 5, 'thèmes': 5, 'renier': 5, 'éclatées': 5, 'nommés': 5, 'oeuvrent': 5, 'équipages': 5, 'raisonner': 5, 'longueur': 5, 'numéros': 5, 'résigner': 5, 'net': 5, 'constant': 5, 'vérités': 5, 'distraire': 5, 'lourds': 5, 'autoritaire': 5, 'appartenance': 5, 'périscolaire': 5, 'bêtises': 5, 'condamnations': 5, 'fruits': 5, 'exposés': 5, 'attacher': 5, 'assuré': 5, 'migratoires': 5, 'is': 5, 'montent': 5, 'nul': 5, '2008': 5, 'Parfois': 5, 'exercices': 5, 'orientale': 5, 'intimidation': 5, 'décrit': 5, 'appelait': 5, 'Blanc': 5, 'dérèglement': 5, 'IPBES': 5, 'reçus': 5, 'tissu': 5, 'mers': 5, 'abords': 5, 'protégés': 5, 'visibilité': 5, 'globe': 5, 'pensaient': 5, 'office': 5, 'collectivité': 5, '2005': 5, 'accompagnants': 5, 'formé': 5, 'Éducation': 5, 'angoisse': 5, 'demeurera': 5, 'demandez': 5, 'accessibilité': 5, 'préempter': 5, 'allaient': 5, 'Ministres': 5, 'distinguer': 5, 'froide': 5, 'suscitent': 5, 'accessoire': 5, 'remises': 5, 'revisiter': 5, 'consenti': 5, 'fausse': 5, 'empêchement': 5, 'intellectuels': 5, 'contemporaine': 5, 'Lituanie': 5, 'humiliation': 5, 'évoquant': 5, 'douloureux': 5, 'malheureux': 5, 'négation': 5, 'armement': 5, 'réengageant': 5, 'universalisme': 5, 'cherché': 5, 'investisseur': 5, 'voyage': 5, 'Baltique': 5, 'annuellement': 5, 'Polonaises': 5, 'char': 5, '75ème': 5, 'installés': 5, 'intensifie': 5, 'ancrées': 5, 'marquent': 5, 'reconnais': 5, 'célébrer': 5, 'Ceci': 5, 'sincèrement': 5, 'filiation': 5, 'négationnisme': 5, 'judiciaires': 5, 'chrétiens': 5, 'fidélité': 5, 'identiques': 5, 'quittera': 5, 'violents': 5, 'commises': 5, 'contacts': 5, 'spécialisées': 5, 'inspection': 5, 'fautes': 5, 'vol': 5, 'policières': 5, 'excellent': 5, 'routes': 5, 'observations': 5, 'applaudit': 5, 'exclamations': 5, 'branches': 5, 'fragilités': 5, 'déposés': 5, 'Référendum': 5, 'visiblement': 5, 'honnêtement': 5, 'SNCF': 5, 'Rappelons': 5, 'écoutais': 5, 'réalisations': 5, 'catastrophes': 5, 'Fonction': 5, 'redistributif': 5, 'reprends': 5, 'essayent': 5, 'fameuse': 5, 'psychologique': 5, 'obsèques': 5, 'assistants': 5, 'quotidiens': 5, 'Collombat': 5, 'signatures': 5, 'quinzaine': 5, 'gouverner': 5, 'nouveauté': 5, 'signale': 5, 'classiques': 5, 'dépassement': 5, 'inhumanité': 5, 'planter': 5, 'majorités': 5, 'viendra': 5, 'mamans': 5, 'adoptées': 5, 'pause': 5, 'préalablement': 5, 'Fur': 5, 'aviation': 5, 'vice': 4, 'Parlementaires': 4, 'édition': 4, 'remonte': 4, 'signant': 4, 'Cent': 4, 'Gagnant': 4, 'situons': 4, 'soulignant': 4, 'mozambicain': 4, 'Franco': 4, 'explosé': 4, 'apprenants': 4, 'lourdes': 4, 'contributions': 4, 'mixte': 4, 'riche': 4, 'apprécier': 4, 'mémoires': 4, 'vecteur': 4, 'île': 4, 'potentiel': 4, 'essai': 4, 'nationalité': 4, 'approfondi': 4, 'écho': 4, 'écrire': 4, 'humanitaires': 4, 'implications': 4, 'unilatérale': 4, 'parallèlement': 4, 'relancer': 4, 'francs': 4, 'douanes': 4, 'marchandises': 4, 'Barnier': 4, 'apparaître': 4, 'née': 4, 'Emirats': 4, 'engageant': 4, 'installée': 4, 'sciences': 4, 'normale': 4, 'devienne': 4, 'africaine': 4, 'Francophonie': 4, 'réuni': 4, 'prestations': 4, 'instituts': 4, 'diffuser': 4, 'statuts': 4, 'décidée': 4, 'supérieures': 4, 'reçoivent': 4, 'accompagnés': 4, 'Asie': 4, 'Quai': 4, 'Orsay': 4, 'fiable': 4, 'affrontement': 4, 'Inde': 4, 'indirectement': 4, 'contribue': 4, 'exportation': 4, 'remarquablement': 4, 'consacre': 4, 'composante': 4, 'reconnue': 4, 'content': 4, 'Cher': 4, 'Renoult': 4, 'représentez': 4, 'définitif': 4, '450': 4, 'central': 4, 'veillerons': 4, 'paquet': 4, 'Lancaster': 4, 'refus': 4, 'Histoire': 4, 'Bal': 4, 'renouvelable': 4, 'essor': 4, 'GIEC': 4, 'Comité': 4, 'One': 4, 'promesses': 4, 'cherchant': 4, 'Plan': 4, 'automobile': 4, 'fixés': 4, 'progressé': 4, 'ravi': 4, 'Toulouse': 4, 'sortant': 4, 'Agenda': 4, 'patriotisme': 4, 'bilatérales': 4, 'détournement': 4, 'évite': 4, 'allemands': 4, 'renouveler': 4, 'formule': 4, 'Angoulême': 4, 'scène': 4, 'observons': 4, 'bonheur': 4, 'remplir': 4, 'vôtres': 4, 'ministères': 4, 'mondialisation': 4, 'fiers': 4, 'cesser': 4, 'Blanquer': 4, 'verte': 4, 'instauration': 4, 'semestre': 4, 'présider': 4, 'sérieusement': 4, 'injustice': 4, 'inflation': 4, 'élargir': 4, 'fixées': 4, 'Blok': 4, 'gastronomique': 4, 'tables': 4, 'fréquenter': 4, 'incitatif': 4, 'Scheveningen': 4, 'attractivités': 4, 'reparlerai': 4, 'impuissants': 4, 'impuissante': 4, 'assister': 4, 'hardi': 4, 'subsidiarité': 4, 'hésitante': 4, 'solennité': 4, 'atmosphère': 4, 'fébrilité': 4, 'mouvementée': 4, 'éclate': 4, 'laissions': 4, 'commettrions': 4, 'marcher': 4, 'vaudrait': 4, 'balayées': 4, 'cynisme': 4, 'dispute': 4, 'défaitisme': 4, 'violent': 4, 'chemins': 4, 'Tels': 4, 'documenter': 4, 'flagrants': 4, 'violation': 4, 'suédois': 4, 'portugais': 4, 'estonien': 4, 'hélicoptères': 4, 'spéciales': 4, 'Takouba': 4, 'Minusma': 4, 'irakien': 4, 'Portugal': 4, 'Mission': 4, 'Emasoh': 4, 'Ruyter': 4, 'coïncidence': 4, 'élégance': 4, 'activer': 4, 'refusant': 4, 'engendre': 4, 'précipite': 4, 'censée': 4, 'reprenions': 4, 'souverainistes': 4, 'engouffrent': 4, 'endossé': 4, 'rehaussant': 4, 'Mécanisme': 4, 'alignant': 4, 'tirez': 4, 'néerlandaises': 4, 'Zurich': 4, 'protectionnisme': 4, 'reposerait': 4, 'colbertisme': 4, 'essayerions': 4, 'infuser': 4, 'illustrer': 4, 'appesantirai': 4, 'entreprendre': 4, 'intégrante': 4, 'Parler': 4, 'divertir': 4, 'appareils': 4, 'utilisons': 4, 'consultons': 4, 'scrutée': 4, 'constatation': 4, 'suprématie': 4, 'détournées': 4, 'décidées': 4, 'segmenté': 4, 'lucratives': 4, 'circulent': 4, 'cyberespace': 4, 'débridée': 4, 'régi': 4, 'normatif': 4, 'utopiste': 4, 'radicales': 4, 'cédé': 4, 'prescripteur': 4, 'localisées': 4, 'régies': 4, 'Cloud': 4, 'Act': 4, 'réservations': 4, 'hôtelières': 4, 'vicieux': 4, 'renforçons': 4, 'aperçoive': 4, 'détenues': 4, 'californien': 4, 'décrétés': 4, 'mondialisé': 4, 'positionner': 4, 'Nokia': 4, 'Ericsson': 4, 'sécurisées': 4, 'data': 4, 'succomber': 4, 'appellerais': 4, 'néerlandaise': 4, 'minimales': 4, 'tendent': 4, 'RGPD': 4, 'sachions': 4, 'prolongation': 4, 'Omnia': 4, 'praeclara': 4, 'tam': 4, 'difficilia': 4, 'quam': 4, 'rara': 4, 'sunt': 4, 'Ecrits': 4, 'admirables': 4, 'Spinoza': 4, 'confiante': 4, 'observe': 4, 'susciter': 4, 'cinquantaine': 4, 'déstabiliser': 4, 'douter': 4, 'lisible': 4, 'priori': 4, 'sud': 4, 'permanence': 4, 'manifester': 4, 'infectés': 4, 'réveillez': 4, 'boutons': 4, 'plinthes': 4, 'sensibilisation': 4, 'Stop': 4, 'fauteuils': 4, 'vêtements': 4, 'démuni': 4, 'stop': 4, 'décence': 4, 'louez': 4, 'multirisques': 4, 'mandater': 4, 'piste': 4, 'revêt': 4, 'justifiable': 4, 'caution': 4, 'finit': 4, 'Environ': 4, 'figurent': 4, 'locations': 4, 'remet': 4, 'préconçues': 4, 'simpliste': 4, 'nanti': 4, 'craignent': 4, 'visale': 4, 'essayée': 4, 'gratuite': 4, 'adopterez': 4, 'CHEVRILLON': 4, 'Prime': 4, 'Rénov': 4, 'Passons': 4, 'preniez': 4, 'gain': 4, 'comptés': 4, 'aberrants': 4, 'avantageux': 4, 'réquisition': 4, 'réquisitionner': 4, 'GECIINA': 4, '14ème': 4, 'assénant': 4, 'réagi': 4, '870': 4, 'méthodologiques': 4, 'Justement': 4, 'tests': 4, 'stagiaires': 4, 'aune': 4, 'techniquement': 4, 'AIRBNB': 4, 'transmettre': 4, 'loués': 4, 'crédit': 4, 'Gouverneur': 4, 'particuliers': 4, '441': 4, 'sociologie': 4, 'mentionnés': 4, 'précité': 4, 'défavorisées': 4, 'relogements': 4, 'similaires': 4, 'hiérarchiser': 4, 'pluralité': 4, 'rotation': 4, 'occupations': 4, 'Manuel': 4, 'Valls': 4, 'abondamment': 4, 'vivraient': 4, 'abrogées': 4, 'attribué': 4, 'preneur': 4, 'attribuait': 4, 'Dorénavant': 4, 'effectuée': 4, 'dérogations': 4, 'réduisent': 4, 'injonctions': 4, 'limitant': 4, 'constructibles': 4, 'urbanisés': 4, 'freinée': 4, 'restrictif': 4, 'libérés': 4, 'empruntent': 4, 'ascenseur': 4, 'loties': 4, 'penchant': 4, 'relogés': 4, 'consentir': 4, 'comprenez': 4, 'transgresser': 4, 'manifeste': 4, 'finisse': 4, 'éprouver': 4, 'relogée': 4, 'imposable': 4, '71': 4, '151': 4, 'ciblage': 4, 'approprié': 4, 'ventiler': 4, 'détient': 4, 'concernaient': 4, 'déduction': 4, 'concourir': 4, 'dotées': 4, 'apportés': 4, 'régionalisation': 4, 'élaborons': 4, 'bourgs': 4, 'paramédicaux': 4, 'pavillons': 4, 'T3': 4, 'conciergerie': 4, 'résidant': 4, 'désignerez': 4, 'libéreront': 4, 'équivaut': 4, 'séduire': 4, 'vieillir': 4, 'adhère': 4, 'Introduire': 4, 'Savez': 4, 'attribuer': 4, 'foyer': 4, 'fixait': 4, 'contenait': 4, 'confirmées': 4, 'desdits': 4, 'fluidifier': 4, 'pâtir': 4, 'Malgré': 4, 'réexaminer': 4, 'grues': 4, 'dressiez': 4, 'carencées': 4, 'portiez': 4, 'avouerez': 4, 'segments': 4, 'transmettront': 4, 'vend': 4, 'occupant': 4, 'copropriétaires': 4, 'appartenez': 4, 'milliardaires': 4, 'coupes': 4, 'rechercher': 4, 'hérésie': 4, 'baissez': 4, 'décidez': 4, 'Souhaitez': 4, 'privilège': 4, 'scotch': 4, 'fenêtre': 4, 'chauffent': 4, 'osent': 4, 'goûters': 4, 'invasion': 4, 'basse': 4, 'Restez': 4, 'zen': 4, 'adossez': 4, 'assénez': 4, 'constituant': 4, 'dépôts': 4, 'consignations': 4, 'Copropriétés': 4, 'Record': 4, 'employé': 4, 'indécent': 4, 'litanie': 4, 'mouille': 4, 'chemise': 4, 'offrait': 4, 'SDF': 4, 'accroupi': 4, 'thaumaturge': 4, 'réfuter': 4, '143': 4, '208': 4, 'rabotant': 4, '1962': 4, '156': 4, 'Brest': 4, 'pérennisé': 4, 'soutenue': 4, 'infernale': 4, 'sélectionné': 4, 'désindexation': 4, 'conjonctures': 4, 'atteignant': 4, 'corrélation': 4, 'objective': 4, 'Détenez': 4, 'communiqués': 4, 'inquiétantes': 4, 'repoussé': 4, 'disposions': 4, 'correction': 4, 'imparfaits': 4, 'retraité': 4, 'évaluatif': 4, 'touchaient': 4, 'CNH': 4, 'négative': 4, 'diminuer': 4, 'pervers': 4, 'MAPTAM': 4, 'urbains': 4, 'ressemblent': 4, 'urbanisé': 4, 'hameaux': 4, 'incitera': 4, 'rabattre': 4, 'périurbaines': 4, 'initiaux': 4, 'rappellerai': 4, 'Chassaigne': 4, 'assouplir': 4, 'déclin': 4, 'Allier': 4, 'Avançons': 4, 'constitutionnelles': 4, 'intelligent': 4, 'Littoral': 4, 'hameau': 4, 'habitats': 4, 'Pontivy': 4, 'comportant': 4, 'assouplies': 4, 'traduits': 4, 'Devant': 4, 'supprimant': 4, 'intégrées': 4, 'réjouir': 4, 'annuelles': 4, 'facilitons': 4, 'adoptés': 4, 'enclencher': 4, 'USH': 4, 'alertait': 4, 'Garantir': 4, 'inconditionnelle': 4, '900': 4, 'Conscient': 4, 'Lancé': 4, 'promouvons': 4, 'indiquais': 4, 'augmentations': 4, 'accueillies': 4, 'individualisé': 4, 'groupement': 4, 'GIP': 4, 'HIS': 4, 'recrutées': 4, 'dépêcher': 4, 'lançons': 4, 'législature': 4, 'opté': 4, 'NPNRU': 4, '371': 4, 'confortant': 4, 'suivantes': 4, 'périphéries': 4, 'Disposons': 4, 'saluerez': 4, 'pauvre': 4, 'publierons': 4, 'récurrent': 4, 'rénovés': 4, 'localisée': 4, 'rénovations': 4, 'consacrai': 4, 'Aubagne': 4, 'Marseillaises': 4, 'Marseillais': 4, 'Excellent': 4, '56': 4, 'déclarer': 4, 'repérage': 4, 'alourdir': 4, 'mobilisant': 4, 'chiffré': 4, 'provisionner': 4, 'Info': 4, 'frappés': 4, 'documentés': 4, 'syndics': 4, 'trafiquants': 4, 'commettent': 4, 'sanctionnés': 4, 'sceaux': 4, 'institués': 4, 'ADIL': 4, 'mention': 4, 'réintroduite': 4, 'ratification': 4, 'amiable': 4, 'juridiction': 4, 'heurtée': 4, 'observables': 4, 'contingents': 4, 'préfectoraux': 4, 'armé': 4, 'marquant': 4, 'coïncide': 4, 'réservation': 4, 'disparités': 4, 'incompréhensibles': 4, 'îlots': 4, 'distinction': 4, 'Quatorze': 4, 'schizophrénique': 4, 'aggraver': 4, 'envoyées': 4, 'contient': 4, 'résidentiel': 4, 'Villeneuve': 4, 'agglomérations': 4, '912': 4, '215': 4, 'proposés': 4, 'convenant': 4, 'neufs': 4, 'agréables': 4, 'préfèrent': 4, 'disiez': 4, 'approuvée': 4, 'synonyme': 4, 'passoires': 4, 'assouplissement': 4, 'territorialisées': 4, 'alerter': 4, 'inadéquat': 4, 'vieillissant': 4, 'inadaptables': 4, 'assorti': 4, 'repoussée': 4, 'prélevée': 4, 'démolir': 4, 'distribuées': 4, 'DREAL': 4, 'DDT': 4, 'dotation': 4, 'Niederbronn': 4, 'Zola': 4, 'Lunéville': 4, 'totalisent': 4, 'dévolus': 4, 'fongibles': 4, 'consommé': 4, 'reliquat': 4, 'indiqués': 4, 'invitez': 4, 'Restons': 4, 'citez': 4, 'tube': 4, 'dentifrice': 4, 'redéploiement': 4, 'FNAP': 4, 'informerai': 4, 'promettez': 4, 'supportée': 4, 'passez': 4, 'creuser': 4, 'disposiez': 4, 'affréter': 4, 'adore': 4, 'affecte': 4, 'encourage': 4, 'pallier': 4, 'binaire': 4, 'accentué': 4, 'déséquilibre': 4, 'encadré': 4, 'améliorerait': 4, 'réduirait': 4, 'replacée': 4, 'obtenant': 4, 'contribuerait': 4, 'fluidifierait': 4, 'ponctuellement': 4, 'saupoudrage': 4, 'partiellement': 4, 'abroge': 4, 'Aimé': 4, 'Jacquet': 4, 'musclez': 4, 'ayatollah': 4, 'quoique': 4, 'périclite': 4, 'dépérit': 4, 'valu': 4, 'appréciée': 4, 'dégagés': 4, 'Sarkozy': 4, 'prôné': 4, 'populaires': 4, 'résidentielle': 4, 'inspirés': 4, 'resterait': 4, 'abordables': 4, 'jugé': 4, 'phare': 4, 'différée': 4, 'assouplit': 4, 'Domaine': 4, 'Yvelines': 4, '58': 4, 'CUS': 4, 'conventions': 4, 'exercé': 4, 'disposerons': 4, 'communiquerons': 4, 'stipulations': 4, 'reportages': 4, 'alléger': 4, 'lisibles': 4, 'concertée': 4, 'facilitant': 4, 'simplifiée': 4, 'regrouper': 4, '607': 4, '357': 4, 'requise': 4, 'rapprochements': 4, 'freinés': 4, 'ajustements': 4, '613': 4, '339': 4, 'Près': 4, 'achevé': 4, 'suivez': 4, 'trentaine': 4, 'récrire': 4, 'figurez': 4, '220': 4, 'arrachage': 4, 'prévoyons': 4, 'existante': 4, 'grouillent': 4, 'croulent': 4, 'causés': 4, 'surconcentration': 4, 'anonymat': 4, 'légifère': 4, 'succèdent': 4, 'adaptent': 4, 'construise': 4, 'concentrant': 4, 'quelquefois': 4, 'meurent': 4, 'délaissés': 4, 'logiciel': 4, 'déséquilibres': 4, 'récupérant': 4, 'comparée': 4, 'enseignais': 4, 'préfectures': 4, 'puissante': 4, 'Parallèlement': 4, 'coupler': 4, 'rédigée': 4, 'Joaquim': 4, 'Pueyo': 4, 'ethniques': 4, 'désertification': 4, 'affichés': 4, 'bénéficieraient': 4, 'revitalisant': 4, 'vacance': 4, 'clefs': 4, 'gérera': 4, 'Kuster': 4, 'quota': 4, 'préfectoral': 4, 'XVIIe': 4, 'consulté': 4, 'trouvés': 4, 'réduits': 4, 'réservée': 4, 'motifs': 4, 'évidents': 4, 'promet': 4, 'territorialisation': 4, 'partirions': 4, 'décentralisait': 4, 'poserait': 4, 'pressions': 4, 'résultent': 4, 'nécessités': 4, 'Plaisir': 4, 'remercions': 4, 'revendique': 4, 'sereine': 4, 'revendication': 4, 'nier': 4, 'aucunement': 4, 'alerte': 4, 'nourrit': 4, 'communautarisme': 4, 'inondations': 4, 'parkings': 4, 'circuits': 4, 'liaison': 4, '600': 4, 'ACPR': 4, 'obligés': 4, 'tombée': 4, 'retiens': 4, 'respectés': 4, 'écoutés': 4, 'auditionnés': 4, 'Moins': 4, 'dissimulés': 4, 'imposera': 4, 'échapperait': 4, 'favorisera': 4, 'craindre': 4, 'alimenté': 4, 'allusion': 4, 'obtenons': 4, 'Lutter': 4, 'comparateurs': 4, 'parvenions': 4, 'oscille': 4, 'fourchette': 4, 'Service': 4, 'conséquent': 4, 'abus': 4, 'démarchage': 4, 'Pannier': 4, 'Runacher': 4, 'SignalConso': 4, 'ferroviaire': 4, 'inaudible': 4, 'pertes': 4, 'actionnaire': 4, 'amène': 4, 'revue': 4, 'coûter': 4, 'traitements': 4, 'réussissent': 4, 'quittent': 4, 'améliore': 4, 'prospère': 4, 'options': 4, 'valorise': 4, 'monnaie': 4, 'opposé': 4, 'spécifiquement': 4, 'paieront': 4, 'religieuse': 4, 'fondamentalement': 4, 'mette': 4, 'cases': 4, 'déplacés': 4, 'menacée': 4, 'fournir': 4, 'fournisseurs': 4, 'payés': 4, 'saccagé': 4, 'cotisation': 4, 'institutionnel': 4, 'partent': 4, '67': 4, 'conversion': 4, 'carrosseries': 4, 'beurre': 4, 'acier': 4, 'Recteur': 4, 'marins': 4, 'connaissances': 4, 'attendues': 4, 'Allez': 4, 'récompenser': 4, 'tracer': 4, 'Toujours': 4, 'rang': 4, 'murs': 4, 'Ursula': 4, 'applications': 4, 'produites': 4, 'www': 4, 'Benoît': 4, 'Enseignement': 4, 'New': 4, 'leader': 4, 'papier': 4, 'brique': 4, 'Salon': 4, 'contester': 4, 'drôle': 4, 'radicalement': 4, 'entrepreneurial': 4, 'perd': 4, 'salariale': 4, 'paraissent': 4, 'Corazza': 4, 'ressource': 4, 'Sénateurs': 4, 'conviendra': 4, 'condamnation': 4, 'match': 4, 'légalement': 4, 'acompte': 4, 'GAFA': 4, 'retirée': 4, 'supervision': 4, 'Trésor': 4, 'extraterritoriales': 4, 'arrivant': 4, 'soumises': 4, 'transmissions': 4, '2024': 4, 'défendrai': 4, 'nuire': 4, 'suscite': 4, 'garantissant': 4, 'progresse': 4, 'contemporain': 4, 'matières': 4, 'résistance': 4, 'Microsoft': 4, 'transformée': 4, 'tire': 4, 'strict': 4, 'opposer': 4, 'consignes': 4, 'Affaires': 4, 'partis': 4, 'sondage': 4, 'cohérents': 4, 'présentent': 4, 'coupure': 4, 'nuits': 4, 'opposés': 4, 'dépensé': 4, 'Tant': 4, 'Franchement': 4, 'dépendance': 4, 'autorisations': 4, 'traite': 4, 'utilisent': 4, 'molécules': 4, 'écologie': 4, 'paysans': 4, 'bruit': 4, 'pollution': 4, 'stock': 4, 'dangereuses': 4, 'cotisé': 4, 'utilisé': 4, 'arsenal': 4, 'exploitants': 4, 'Reste': 4, 'vignes': 4, 'handicapés': 4, 'pertinence': 4, 'Segouin': 4, 'initial': 4, 'justifiée': 4, 'accaparement': 4, 'Duplomb': 4, 'promoteurs': 4, 'notion': 4, 'Bignon': 4, 'abandonnés': 4, 'menés': 4, 'connues': 4, 'ombre': 4, 'appelez': 4, 'vraisemblablement': 4, 'forêt': 4, 'répondant': 4, 'Henri': 4, 'intervenant': 4, 'exonération': 4, 'apparaissent': 4, 'Raymond': 4, 'passera': 4, 'bandes': 4, 'contrôlée': 4, 'démontre': 4, 'Cyril': 4, 'sûre': 4, 'viendrait': 4, 'courses': 4, 'crainte': 4, 'interdiction': 4, 'ennemi': 4, 'abattage': 4, 'glace': 4, 'films': 4, 'Anglais': 4, 'arrêt': 4, 'grosse': 4, 'pratiquer': 4, 'diffusent': 4, 'intéressés': 4, 'continuions': 4, '42': 4, 'assumée': 4, 'pornographiques': 4, 'illicites': 4, 'responsabilisant': 4, 'censuré': 4, 'Télérama': 4, 'Leslie': 4, 'Barbara': 4, 'BUTCH': 4, 'grossophobie': 4, 'censurée': 4, 'discutons': 4, 'VESTAGER': 4, 'BRETON': 4, 'gravement': 4, 'perturbée': 4, 'retire': 4, 'référés': 4, 'diffusions': 4, 'illégales': 4, 'piétinent': 4, 'votants': 4, 'dirigent': 4, 'rassemblerons': 4, 'culpabilisant': 4, 'tablettes': 4, 'radio': 4, 'chapelle': 4, 'mutualisés': 4, 'restes': 4, 'Radio': 4, 'Monte': 4, 'Carlo': 4, 'Doualiya': 4, 'ministérielles': 4, 'PICARD': 4, 'lettre': 4, 'Bertrand': 4, 'vieillesse': 4, 'créateur': 4, 'visuels': 4, 'équation': 4, 'examinée': 4, 'généraliser': 4, 'dessinée': 4, 'National': 4, 'festivals': 4, 'spécifiques': 4, 'mettra': 4, 'écoutant': 4, 'agressions': 4, 'impunité': 4, 'CASTANER': 4, 'adversaire': 4, 'littérature': 4, 'BORLOO': 4, 'Mureaux': 4, 'continué': 4, 'Mulhouse': 4, 'entrave': 4, 'budgets': 4, 'échéances': 4, 'centraux': 4, 'adjoints': 4, 'Entouré': 4, 'spécialité': 4, 'servie': 4, 'endosser': 4, 'Devenir': 4, 'attentats': 4, 'déjoués': 4, 'gangrenaient': 4, 'Institutions': 4, 'failli': 4, 'imperturbablement': 4, 'tonne': 4, 'demie': 4, 'cocaïne': 4, 'trompons': 4, 'cybercriminalité': 4, 'répand': 4, 'sévir': 4, 'drogues': 4, 'réinventent': 4, 'minent': 4, 'étouffées': 4, 'chape': 4, 'plomb': 4, 'OFAST': 4, 'prometteurs': 4, 'perdurer': 4, 'évaluerai': 4, 'réflexes': 4, 'délinquante': 4, 'affût': 4, 'Refuser': 4, 'obéir': 4, 'rejeter': 4, 'devise': 4, 'remettent': 4, 'réarmer': 4, 'angélisme': 4, 'reculer': 4, 'impératives': 4, 'terminent': 4, 'livrés': 4, 'Assises': 4, 'aborderons': 4, 'réfléchirons': 4, 'penserons': 4, 'poserons': 4, 'assumerons': 4, 'innovateur': 4, 'investigation': 4, 'illégale': 4, 'fuir': 4, 'esquiver': 4, 'chapelles': 4, 'Gendarmerie': 4, 'DGSI': 4, 'manquer': 4, 'parlés': 4, 'Agissons': 4, 'insurmontable': 4, 'irrégulière': 4, 'ventilées': 4, 'spécialités': 4, 'coordonne': 4, 'déconcentrer': 4, 'créatifs': 4, 'Calédonie': 4, 'coordonné': 4, 'aisé': 4, 'gardiennes': 4, 'Policier': 4, 'éprouvant': 4, 'exige': 4, 'Labois': 4, 'cruellement': 4, 'ingrat': 4, 'indignes': 4, 'accusations': 4, 'quolibets': 4, 'répétés': 4, 'proférées': 4, 'policer': 4, 'spleen': 4, 'contrer': 4, 'suicides': 4, 'dispensées': 4, 'cycles': 4, 'façonner': 4, 'succédez': 4, 'Eric': 4, 'Morvan': 4, 'éprouvants': 4, 'dressent': 4, 'Institution': 4, 'tenaces': 4, 'désarçonner': 4, 'passionnante': 4, 'Bourtzwiller': 4, 'fractures': 4, 'aspirations': 4, 'Islam': 4, 'Eglise': 4, 'exiger': 4, 'calme': 4, 'appuie': 4, 'turc': 4, 'compatibles': 4, 'renouvelée': 4, 'combattants': 4, 'philosophie': 4, 'patience': 4, 'affaiblissement': 4, 'transatlantique': 4, 'projeter': 4, 'years': 4, 'have': 4, 'extrêmes': 4, 'impatiences': 4, 'Européen': 4, 'fou': 4, 'gérée': 4, 'lentement': 4, 'impensés': 4, 'rideau': 4, 'soviétique': 4, 'défiant': 4, 'réengage': 4, 'légalité': 4, 'Macédoine': 4, 'Albanie': 4, 'vocabulaire': 4, 'tangibles': 4, 'parlant': 4, 'utilisées': 4, 'naturelles': 4, 'naturelle': 4, 'angoisses': 4, 'due': 4, '2040': 4, 'maritimes': 4, 'robuste': 4, 'gestes': 4, 'figures': 4, 'tisser': 4, '22h15': 4, 'atteignable': 4, 'Dys': 4, 'simplicité': 4, 'revaloriser': 4, 'tombé': 4, 'regardant': 4, 'drames': 4, 'symptômes': 4, 'chantage': 4, 'renforce': 4, 'Regardons': 4, 'conventionnelles': 4, 'III': 4, 'arsenaux': 4, 'signataires': 4, 'malentendu': 4, 'suivis': 4, 'veille': 4, 'ultime': 4, 'héros': 4, 'insurrection': 4, '1848': 4, 'joug': 4, '1989': 4, 'effacer': 4, 'Regarder': 4, 'crime': 4, 'oubli': 4, 'Dzi': 4, 'kuj': 4, 'Panie': 4, 'Prezydencie': 4, 'Andrezj': 4, 'sceller': 4, 'signées': 4, 'redonnons': 4, 'déclinerons': 4, 'burden': 4, 'sharing': 4, 'notions': 4, 'consistaient': 4, 'mettions': 4, 'Estonie': 4, 'activement': 4, 'baltique': 4, 'Noire': 4, 'volets': 4, 'Jens': 4, 'Stoltenberg': 4, 'finalisés': 4, 'ministérielle': 4, 'substantiel': 4, 'soutenabilité': 4, 'édifice': 4, 'clarifié': 4, 'antirusse': 4, 'accumuler': 4, 'gérées': 4, 'anomie': 4, 'commémorations': 4, 'Yad': 4, 'Vashem': 4, 'éclaire': 4, 'instrumentaliser': 4, 'Défi': 4, 'Weimar': 4, 'désirable': 4, 'Taner': 4, 'animé': 4, 'Nouvelles': 4, 'interpellé': 4, 'portez': 4, 'Région': 4, 'explicite': 4, 'intervient': 4, 'proportionné': 4, 'Richard': 4, 'Black': 4, 'Blocs': 4, 'déroulent': 4, 'fauteurs': 4, 'salué': 4, 'compagnies': 4, 'illusoire': 4, 'signalements': 4, 'décès': 4, 'Rocard': 4, 'Corbière': 4, 'majoritairement': 4, 'Demain': 4, 'médicale': 4, 'repérer': 4, 'passionné': 4, 'items': 4, 'adapté': 4, '65': 4, 'maintenons': 4, '2035': 4, 'légal': 4, 'Ilan': 4, 'préjugés': 4, 'achèvera': 4, 'croisement': 4, 'mardi': 4, 'horrible': 4, 'concerter': 4, 'allongé': 4, 'rajoutent': 4, 'Allocations': 4, 'inégalité': 4, 'Départements': 4, 'off': 4, 'admissibles': 4, 'admiratif': 4, 'ressoude': 4, 'Sira': 4, 'SYLLA': 4, 'Maritime': 4, 'agresser': 4, 'enregistrés': 4, 'exportés': 4, 'créneau': 4, 'PRADIE': 4, 'RUFFIN': 4, 'esclandre': 4, 'tenait': 4, 'photos': 4, 'intimidations': 4, '2001': 4, 'réintégré': 4, 'Parquet': 4, 'Sarah': 4, 'ABITBOL': 4, 'Administration': 4, 'Roxana': 4, 'MARACINEANU': 4, 'GAILHAGUET': 4, 'mériterait': 4, 'DDASS': 4, 'réducteur': 4, 'malhonnêteté': 4, 'annonçons': 4, 'PUPH': 4, 'Nicole': 4, 'BELLOUBET': 4, 'greffiers': 4, 'aérien': 4, 'avancés': 4, 'ému': 4, 'découvert': 4, 'ANDRÉ': 4, 'affronté': 4, 'pudeur': 4, 'tristesses': 4, 'rabibochage': 4, 'formions': 4, 'informelles': 4, 'pique': 4, 'normales': 4, 'entièreté': 4, 'renvoi': 4, 'rejet': 4, 'corrige': 4, 'franchie': 4, 'retravaillé': 4, 'affine': 4, 'certitudes': 4, 'douloureuses': 4, 'BRICOUT': 4, 'endeuillés': 4, 'participait': 4, 'canton': 4, 'fascinant': 4, 'francilien': 4, 'heurte': 4, 'imprescriptible': 4, 'lâcherons': 4, 'gouvernemental': 4, 'prolongées': 4, 'oserais': 4, 'plateau': 4, 'étendard': 4, 'manœuvre': 4, 'arrangeait': 4, 'discutera': 4, 'souvienne': 4, 'regrettant': 4, 'autorégulation': 4, '577': 4, 'craint': 4, 'inutile': 4, 'saisit': 4, 'Sceaux': 4, 'Justice': 4, 'cinquièmes': 4, 'Arrive': 4, 'éludons': 4, 'sache': 4, 'exprimerait': 4, 'inscriront': 4, 'préemptons': 4, 'ante': 4, 'épisodes': 4, 'affichée': 4, 'repérez': 4, 'SARNEZ': 4, 'prêcheriez': 4, 'tas': 4, 'loup': 4, 'conviennent': 4, 'résout': 4, 'empathie': 4, 'griefs': 4, 'entendais': 4, 'diabète': 4, 'cancers': 4, 'pédiatriques': 4, 'complètes': 4, 'CENTURY': 4, 'expliquera': 4, 'délie': 4, '170': 4, 'focalisation': 4, 'DUHAMEL': 4, 'tourtes': 4, 'délier': 4, 'hasardeux': 4, 'Excusez': 4, 'rétropédalé': 4, 'allongement': 4, 'enraciner': 4, 'antérieure': 4, 'UDF': 4, 'partisans': 4, 'meutes': 4, 'embêté': 4, 'relayée': 4, 'scolarisée': 4, 'alimente': 4, 'regardées': 4, 'annoncera': 4, 'Mots': 4, 'Merveilles': 4, 'sucrer': 4, 'essaimer': 4, 'annonceront': 4, 'demandées': 4, 'RTT': 4, 'sanctuariser': 4, 'défavorable': 4, 'retravailler': 4, 'enrichir': 4, 'cash': 4, 'phrases': 4, 'montés': 4, 'épingle': 4, 'idéale': 4, 'mondes': 4, '7h30': 4, 'explose': 4, 'loupés': 4, 'reconductible': 4, 'terminée': 4, 'Berville': 4, 'Égalité': 4, 'Plateforme': 4, 'GAVI': 4, 'performant': 4, 'transposé': 4, 'passation': 4, 'restreindre': 4, 'recherché': 4, 'prévoie': 4, 'exclues': 4, 'exécuter': 4, 'titulaire': 4, 'générées': 4, 'avenants': 4, 'déroulement': 4, 'remontée': 4, 'fatidique': 4, 'conserverons': 4, 'Brienne': 4, 'privilégiée': 4, 'demeureront': 4, 'biocarburants': 4, 'carburants': 4, 'prometteuse': 3, 'diplomaties': 3, 'mahorais': 3, 'Tananarive': 3, 'Mali': 3, 'homologues': 3, 'déchets': 3, 'consacrée': 3, 'représenter': 3, 'votes': 3, 'placés': 3, 'insérer': 3, 'tournée': 3, 'extrême': 3, 'humain': 3, '29': 3, 'Alliances': 3, 'nés': 3, 'renforcées': 3, 'satisfaisantes': 3, 'commerçants': 3, 'Bonne': 3, 'récentes': 3, 'concurrencer': 3, 'ALIPH': 3, 'lancés': 3, 'Al': 3, 'Hérin': 3, 'placée': 3, 'tutelle': 3, 'Tunis': 3, 'disciplines': 3, 'appareil': 3, 'menant': 3, 'contribuant': 3, 'universitaires': 3, 'retenues': 3, 'post': 3, 'laboratoire': 3, 'marquera': 3, 'Liban': 3, 'francophones': 3, 'créées': 3, 'prononcé': 3, 'Roussel': 3, 'sportive': 3, 'relatifs': 3, 'olympiques': 3, 'Riester': 3, 'mènent': 3, 'gérés': 3, '370': 3, 'titulaires': 3, 'expatriés': 3, 'assistons': 3, 'voudrait': 3, 'Caire': 3, 'manifesté': 3, 'polonaises': 3, 'FMM': 3, 'retenu': 3, 'arbitrages': 3, 'rendus': 3, 'variable': 3, 'entamer': 3, 'rédaction': 3, 'Mexico': 3, 'diffuse': 3, 'couvert': 3, 'conserve': 3, 'Bpifrance': 3, 'bénéfices': 3, 'pré': 3, 'resté': 3, 'présidée': 3, 'Choose': 3, 'musicale': 3, 'musiciens': 3, 'Abidjan': 3, 'Singapour': 3, 'jeux': 3, 'permanents': 3, 'volontés': 3, 'sentir': 3, 'label': 3, 'légumes': 3, 'bougé': 3, 'Boris': 3, 'adresse': 3, 'pensent': 3, 'interprétation': 3, 'réglé': 3, 'substance': 3, 'Norvège': 3, 'partons': 3, 'abouti': 3, 'vingts': 3, 'PME': 3, 'représentait': 3, 'dédiés': 3, 'investis': 3, 'redoubler': 3, 'tiendrons': 3, 'terribles': 3, 'référent': 3, 'Team': 3, 'Export': 3, 'Business': 3, 'concrétiser': 3, 'suivies': 3, 'accessible': 3, 'aident': 3, 'Planet': 3, 'Sinon': 3, 'prolonger': 3, 'mobilisera': 3, 'complémentaire': 3, 'privilégiés': 3, 'Australie': 3, 'ressens': 3, 'Marie': 3, 'réunissent': 3, 'réconciliation': 3, 'vertueuse': 3, 'accède': 3, 'élaboré': 3, 'constatez': 3, 'regret': 3, 'rompre': 3, 'UNESCO': 3, 'destinée': 3, 'provoquer': 3, 'participants': 3, 'dimensions': 3, 'exercent': 3, 'Ici': 3, 'original': 3, 'ravis': 3, 'danse': 3, 'rencontres': 3, 'Être': 3, 'résumer': 3, 'Congrès': 3, 'jeunesses': 3, 'Jeunesse': 3, 'Borne': 3, 'lourde': 3, 'animer': 3, 'Déclaration': 3, 'témoigner': 3, 'privilégier': 3, 'don': 3, 'batailles': 3, 'touristiques': 3, 'bousculer': 3, 'réactive': 3, 'urbanisation': 3, 'fini': 3, 'normalement': 3, 'constituera': 3, 'rencontrés': 3, 'accorder': 3, 'humanitaire': 3, 'ambiguïté': 3, 'COP15': 3, 'jalons': 3, 'emblématique': 3, 'impliquer': 3, 'personnellement': 3, 'continuerai': 3, 'consulaire': 3, 'maintenu': 3, 'prouver': 3, 'battu': 3, 'resterai': 3, 'détails': 3, 'candidates': 3, 'coronavirus': 3, 'aérienne': 3, 'manipulations': 3, 'relance': 3, 'malaise': 3, 'diplomatiques': 3, 'graves': 3, 'confirmé': 3, 'gardons': 3, 'apparu': 3, 'bonjour': 3, 'quarantaine': 3, 'Barkhane': 3, 'lucides': 3, 'pistes': 3, 'Tebboune': 3, 'sérieuses': 3, 'Alger': 3, 'Boukadoum': 3, 'enseigne': 3, 'Pendant': 3, 'CSA': 3, 'démantèlement': 3, 'spécial': 3, 'inscrits': 3, 'ambassades': 3, 'relayé': 3, 'informé': 3, 'envisage': 3, 'embauche': 3, 'Mohamed': 3, 'CHETTOUH': 3, 'chances': 3, 'présomptions': 3, 'testing': 3, 'méthodologie': 3, 'interpellent': 3, '3e': 3, 'discriminations': 3, 'actionnaires': 3, 'directrice': 3, 'TAQUET': 3, 'patrons': 3, 'maternité': 3, 'satisfaisant': 3, 'paritaire': 3, 'Lille': 3, 'coûtent': 3, 'critiquées': 3, 'vacances': 3, 'nuitées': 3, 'dépassent': 3, 'secondaire': 3, 'carrés': 3, 'défends': 3, 'favorables': 3, 'virgule': 3, 'reproche': 3, 'défaut': 3, 'Ville': 3, 'appartenir': 3, 'Elan': 3, 'Coeur': 3, 'importation': 3, 'donnait': 3, 'piloté': 3, 'matériaux': 3, 'repas': 3, 'persiste': 3, 'augmentez': 3, 'viser': 3, 'secret': 3, 'tiré': 3, 'réciproque': 3, 'rigoureuse': 3, 'diminution': 3, 'factures': 3, 'incident': 3, 'unes': 3, 'évitera': 3, 'puissants': 3, 'évoluent': 3, 'vigilants': 3, 'ralentissement': 3, 'two': 3, 'opportun': 3, 'chiffrent': 3, 'revalorisations': 3, 'opposants': 3, 'annulation': 3, 'multiplient': 3, 'nets': 3, 'institut': 3, 'tendre': 3, 'dynamiques': 3, 'Aquitaine': 3, 'extraordinairement': 3, 'nocturne': 3, 'Photonis': 3, 'payent': 3, 'réaffirmant': 3, 'religions': 3, 'Lumières': 3, 'critiqués': 3, 'hôtellerie': 3, 'spécialiste': 3, 'SRAS': 3, 'Prenez': 3, 'démarre': 3, 'reconnus': 3, '62': 3, 'fossiles': 3, 'hydrocarbures': 3, 'caisses': 3, 'recettes': 3, 'favorise': 3, 'spécifications': 3, 'révoltant': 3, 'respectez': 3, 'Chambres': 3, 'Bernard': 3, 'oublié': 3, 'intelligences': 3, 'courageux': 3, 'continents': 3, 'estimer': 3, '21ème': 3, 'attachée': 3, 'géopolitique': 3, 'mutations': 3, 'revisité': 3, 'qualifiées': 3, 'Bercy': 3, 'officiellement': 3, 'fragilisées': 3, 'puissantes': 3, 'licornes': 3, 'présentera': 3, 'mensonge': 3, 'technologiquement': 3, 'entrepreneuses': 3, 'grèves': 3, 'productivité': 3, 'tech': 3, 'dentaires': 3, 'dignement': 3, 'coûte': 3, 'critère': 3, 'égal': 3, 'conjoint': 3, 'Atlantique': 3, 'voudront': 3, 'conservatisme': 3, 'trouvions': 3, 'candidate': 3, 'Évidemment': 3, 'attractif': 3, 'collèges': 3, 'apaisée': 3, 'Eco': 3, 'choisie': 3, 'vent': 3, 'BEI': 3, 'consacrés': 3, 'négatif': 3, 'importations': 3, 'impacts': 3, 'occupe': 3, 'prive': 3, 'réfléchissons': 3, 'poings': 3, 'rapporte': 3, 'démocratiquement': 3, 'voler': 3, 'aéronautiques': 3, 'stockées': 3, 'souhaitez': 3, 'Actuellement': 3, 'convenu': 3, 'suspension': 3, 'appliquera': 3, 'transactions': 3, 'volontairement': 3, 'fièvre': 3, 'incubation': 3, 'meilleurs': 3, 'montée': 3, 'percevoir': 3, 'arrivons': 3, 'Allemands': 3, 'majoritaire': 3, 'nulle': 3, 'Tourcoing': 3, 'rassemblement': 3, 'nourrissent': 3, 'divisé': 3, 'organisateurs': 3, 'interview': 3, 'gagné': 3, '375': 3, 'victoire': 3, 'autosuffisance': 3, 'molécule': 3, 'chimique': 3, 'couverture': 3, 'condamné': 3, 'semis': 3, 'superficie': 3, 'saura': 3, 'fassions': 3, 'exploiter': 3, 'identifiées': 3, 'vérification': 3, 'acheté': 3, 'tomate': 3, 'touchés': 3, 'protocole': 3, 'pousse': 3, 'cherche': 3, 'MELENCHON': 3, 'Touraine': 3, 'CFDT': 3, 'enregistreuse': 3, 'partagés': 3, 'exploitant': 3, 'gains': 3, 'limitation': 3, 'consolidation': 3, 'bain': 3, 'stabilisé': 3, 'villages': 3, 'Malhuret': 3, 'RDSE': 3, 'interactif': 3, 'orateur': 3, 'secondes': 3, 'Rauscent': 3, 'montages': 3, 'sociétaires': 3, 'sénatrice': 3, 'paiements': 3, 'interrogez': 3, 'Révolution': 3, 'réalisées': 3, 'détecter': 3, 'agrément': 3, 'parisienne': 3, 'EuropaCity': 3, 'moderne': 3, 'voici': 3, 'Rhône': 3, 'continu': 3, 'conduites': 3, 'TSE': 3, 'laissons': 3, 'motivations': 3, 'développés': 3, 'héritiers': 3, 'Champagne': 3, 'premièrement': 3, 'donation': 3, 'méritent': 3, 'Legge': 3, 'relatives': 3, 'combinaison': 3, 'préemption': 3, 'contrepartie': 3, 'optimiser': 3, 'allant': 3, 'terminerai': 3, 'mitage': 3, 'Biodiversité': 3, 'soumise': 3, 'fallu': 3, 'unités': 3, 'répété': 3, 'Malheureusement': 3, 'préside': 3, 'http': 3, 'poussins': 3, 'mâles': 3, 'consortium': 3, 'excusez': 3, 'voulant': 3, 'reçois': 3, 'religieuses': 3, 'longs': 3, 'éleveur': 3, 'achats': 3, 'Alpes': 3, 'chats': 3, 'vétérinaires': 3, 'cirque': 3, 'acceptent': 3, 'baroque': 3, 'arbitrage': 3, 'dépôt': 3, 'candidature': 3, 'volontarisme': 3, 'batterie': 3, 'ferme': 3, 'file': 3, 'victime': 3, 'responsabilisation': 3, 'plasticiens': 3, 'scénaristes': 3, 'Valois': 3, 'danseurs': 3, 'Philharmonie': 3, 'affirmé': 3, 'concentré': 3, 'écrivain': 3, 'traduira': 3, 'geste': 3, 'patronale': 3, 'branche': 3, 'Voici': 3, 'indépendamment': 3, 'structurantes': 3, 'cru': 3, 'collecte': 3, 'volume': 3, 'prévoira': 3, 'CNC': 3, 'courrier': 3, 'DRAC': 3, 'structuration': 3, 'instance': 3, 'choisis': 3, 'sectoriel': 3, 'centrales': 3, 'Solidarités': 3, 'humains': 3, 'photographie': 3, 'réaliste': 3, 'Caroline': 3, 'ROUX': 3, 'personnalité': 3, 'VERAN': 3, 'sanctionnable': 3, 'méfie': 3, 'confondre': 3, 'film': 3, 'catégories': 3, 'chasse': 3, 'parlions': 3, 'mosquée': 3, 'prêche': 3, 'abordé': 3, 'Intérieur': 3, 'trompe': 3, 'clubs': 3, 'trompez': 3, 'obsédés': 3, 'électoraux': 3, 'absolu': 3, 'certificats': 3, 'marier': 3, 'éducative': 3, 'réinvestissement': 3, 'cachée': 3, 'déploient': 3, 'éducatifs': 3, 'fermeture': 3, 'débits': 3, 'CAF': 3, 'interpellations': 3, 'effectuées': 3, 'policière': 3, 'désignés': 3, 'enseigner': 3, 'enseignent': 3, 'maîtrisent': 3, 'désespère': 3, 'construirons': 3, 'ingérences': 3, 'prédiquent': 3, 'finalité': 3, 'gestionnaires': 3, 'finalités': 3, 'solennellement': 3, 'universelles': 3, 'bousculés': 3, 'stabiliser': 3, 'préférences': 3, 'étonné': 3, 'think': 3, 'our': 3, 'waiting': 3, 'answers': 3, 'European': 3, 've': 3, 'together': 3, 'with': 3, 'lot': 3, 'to': 3, 'agrégé': 3, 'faillite': 3, 'pensant': 3, 'degré': 3, 'massive': 3, 'inefficace': 3, 'Minsk': 3, 'recréé': 3, 'historiquement': 3, 'prospérer': 3, 'formats': 3, 'Traité': 3, 'miracles': 3, 'économiquement': 3, 'Balkans': 3, 'ancrer': 3, 'Serbie': 3, 'permettrai': 3, 'ADN': 3, 'trésor': 3, 'Chancelière': 3, 'Merkel': 3, 'construisions': 3, 'traduction': 3, 'culpabilité': 3, 'basculement': 3, 'documenté': 3, 'combinés': 3, 'bousculées': 3, 'subir': 3, 'recule': 3, 'paysages': 3, 'formidablement': 3, 'manières': 3, 'rehaussement': 3, 'organiserons': 3, 'Polynésie': 3, 'emblématiques': 3, 'ultramarins': 3, 'aéroport': 3, 'développée': 3, 'parcs': 3, 'aire': 3, 'BORNE': 3, 'détaillé': 3, 'poindre': 3, 'exigeantes': 3, 'bougent': 3, 'entraînement': 3, 'déployées': 3, 'couverts': 3, 'bouteilles': 3, 'norme': 3, 'législateur': 3, 'prérogatives': 3, 'détaillée': 3, 'colère': 3, 'vulnérabilité': 3, 'handicapées': 3, 'signature': 3, 'diraient': 3, 'rires': 3, 'différent': 3, 'sonne': 3, 'habituer': 3, 'Premièrement': 3, 'stabilisation': 3, 'découvrir': 3, 'couperet': 3, 'Louise': 3, 'médicales': 3, 'satisfaire': 3, 'tabou': 3, 'contractualisation': 3, 'prestation': 3, 'délitement': 3, 'dessine': 3, 'confort': 3, 'postures': 3, '1945': 3, 'course': 3, 'appellent': 3, 'sursaut': 3, 'Paix': 3, 'tirant': 3, 'forment': 3, 'pure': 3, 'stricte': 3, 'scénarios': 3, 'Indo': 3, 'Japon': 3, 'souverainetés': 3, '1999': 3, 'résolu': 3, 'approches': 3, 'décalage': 3, 'étatique': 3, 'armée': 3, 'conventionnelle': 3, 'fixant': 3, 'mutuelle': 3, 'morale': 3, 'retrouvée': 3, 'ONU': 3, 'Professeur': 3, 'rêve': 3, 'Adam': 3, 'patriotes': 3, 'révisionnisme': 3, 'Kundera': 3, 'héritage': 3, 'nationalismes': 3, 'existentiel': 3, 'nostalgie': 3, 'délégué': 3, 'émancipation': 3, 'faisaient': 3, 'projections': 3, 'circuler': 3, 'réciproques': 3, 'inspiration': 3, 'projection': 3, 'Pensez': 3, 'Groupe': 3, 'lumières': 3, 'considérons': 3, 'ukrainienne': 3, 'crimes': 3, 'Akcam': 3, 'historien': 3, 'historiographie': 3, 'taire': 3, 'secrétariat': 3, 'Kyriakos': 3, 'échangé': 3, 'accueillant': 3, 'déclarée': 3, 'Strasbourg': 3, 'routière': 3, 'dégradations': 3, 'Allizard': 3, 'proportionnée': 3, 'contrôlé': 3, 'dangereuse': 3, 'raconter': 3, 'fonde': 3, 'LBD': 3, 'Fouché': 3, 'figurera': 3, 'assumons': 3, 'Taillé': 3, 'Polian': 3, 'Éliane': 3, 'Mêmes': 3, 'utilise': 3, 'Ruffin': 3, 'Vives': 3, 'orateurs': 3, 'succéder': 3, 'abstrait': 3, 'Ambroise': 3, 'Croizat': 3, 'Arrêtez': 3, 'Lambert': 3, 'Dupont': 3, 'Aignan': 3, 'misère': 3, 'réguliers': 3, 'préparatoire': 3, 'Delevoye': 3, 'refonder': 3, 'absurdité': 3, 'paramètres': 3, 'réversion': 3, 'assurés': 3, 'plaintes': 3, 'plainte': 3, '2012': 3, 'adressé': 3, 'municipaux': 3, 'siéger': 3, 'réinterroger': 3, 'grilles': 3, 'faisions': 3, 'tableau': 3, 'réparation': 3, 'dictature': 3, 'médecin': 3, 'retiendra': 3, 'soignants': 3, 'DRIAN': 3, 'installé': 3, 'reprend': 3, 'injonction': 3, 'CGT': 3, 'anticipé': 3, 'consacrer': 3, 'Havraises': 3, 'redevenir': 3, 'cumul': 3, 'mandats': 3, 'mortalité': 3, 'gamins': 3, 'parentalité': 3, 'parental': 3, 'recueil': 3, 'référentiel': 3, 'psychiatre': 3, 'intacte': 3, 'pornographie': 3, 'ironiques': 3, 'privatisons': 3, 'privatisé': 3, 'passagers': 3, 'Martin': 3, 'Roissy': 3, 'réjouissons': 3, 'ciblées': 3, 'Gatel': 3, 'voile': 3, 'AIR': 3, 'Pancher': 3, 'barre': 3, 'contributeur': 3, 'Demilly': 3, 'Autain': 3, 'Proparco': 3, 'PIB': 3, 'Marion': 3, 'Lenne': 3, 'Kamardine': 3, 'RNB': 3, 'asymptomatiques': 3, 'symptomatiques': 3, 'kérosène': 3, 'Maison': 2, 'Réunion': 2, 'Girardin': 2, 'pensais': 2, 'synergies': 2, 'complètent': 2, 'manquent': 2, 'commençant': 2, 'Chambre': 2, 'officielle': 2, '240': 2, 'collaborateurs': 2, 'Eparses': 2, 'unissent': 2, 'densité': 2, 'ressaisir': 2, 'puissant': 2, 'charnière': 2, 'élan': 2, 'Malgaches': 2, 'souffre': 2, 'incroyable': 2, 'affirmée': 2, 'communications': 2, 'éducatif': 2, 'Pasteur': 2, 'engagera': 2, 'aimez': 2, 'sine': 2, 'qua': 2, 'transparentes': 2, 'inaugurer': 2, 'canal': 2, 'préoccupe': 2, 'sûres': 2, 'reconnues': 2, 'Jérusalem': 2, 'évitent': 2, 'accomplis': 2, 'Députés': 2, 'déloyale': 2, 'côtes': 2, 'paradis': 2, 'susceptible': 2, 'abordons': 2, 'demandeur': 2, 'couper': 2, 'audition': 2, 'archéologiques': 2, 'vieille': 2, 'tombeau': 2, 'sauvegarde': 2, 'Philippe': 2, 'Campus': 2, 'Expertise': 2, 'appuyant': 2, 'accroissant': 2, 'internationalisés': 2, 'satisfaisante': 2, 'diplôme': 2, 'tunisienne': 2, 'hub': 2, 'cadres': 2, 'qualifications': 2, 'Côte': 2, 'Ivoire': 2, 'significatives': 2, 'consacrent': 2, 'positives': 2, 'candidatures': 2, 'accueillis': 2, 'doctorat': 2, 'représentées': 2, 'accueillera': 2, 'OIF': 2, 'doublera': 2, 'continentale': 2, 'réactifs': 2, 'validation': 2, 'Fischer': 2, 'ambassadrice': 2, 'Nigeria': 2, 'Tokyo': 2, 'Coupe': 2, 'football': 2, 'intégrant': 2, 'créatives': 2, 'partenariale': 2, 'labellisation': 2, 'Leurs': 2, 'onze': 2, 'Vingt': 2, 'considérés': 2, 'recrutés': 2, 'recrutements': 2, 'certifier': 2, 'enseignant': 2, 'Lebrun': 2, 'Egypte': 2, 'mari': 2, 'prendrait': 2, 'provisoirement': 2, 'diffusée': 2, 'espagnol': 2, 'rendant': 2, 'risquons': 2, 'dominer': 2, 'appuieront': 2, 'insisté': 2, 'serve': 2, 'muséale': 2, 'visiteurs': 2, 'muséal': 2, 'collections': 2, 'expositions': 2, 'né': 2, 'archéologique': 2, 'Ula': 2, 'slogans': 2, 'hégémonique': 2, 'égoïsme': 2, 'souscris': 2, 'essayons': 2, 'renforcera': 2, 'enregistre': 2, 'slogan': 2, 'enlève': 2, 'parlerai': 2, 'bémol': 2, 'ouvertures': 2, 'déclinaisons': 2, 'exclu': 2, 'apaise': 2, 'originalité': 2, 'constitution': 2, 'paysan': 2, 'armateurs': 2, 'antérieures': 2, 'singulièrement': 2, 'automatiquement': 2, 'Gourvennec': 2, 'entendent': 2, 'pôle': 2, 'bateau': 2, 'anticipation': 2, 'approvisionnement': 2, 'diversifiés': 2, 'traverser': 2, 'incertitude': 2, 'Johnson': 2, 'préservés': 2, 'pieds': 2, 'intervenants': 2, 'Loïc': 2, 'curieux': 2, 'stocks': 2, 'Jersey': 2, 'laissés': 2, 'revus': 2, 'halieutique': 2, 'immédiats': 2, 'fêter': 2, 'House': 2, 'sphères': 2, 'connotations': 2, 'communautaires': 2, 'aiguillon': 2, 'appelées': 2, 'Montpellier': 2, 'solaire': 2, 'insulaires': 2, 'bat': 2, 'atouts': 2, 'manquez': 2, 'exportatrices': 2, 'sachez': 2, 'tourner': 2, 'plaidons': 2, 'Summit': 2, 'tiendront': 2, 'Papeete': 2, 'ironie': 2, 'investissant': 2, 'fuites': 2, 'Commerce': 2, 'conformité': 2, 'suspendre': 2, 'rurale': 2, 'Accompagner': 2, 'proposez': 2, 'proprement': 2, 'aggravation': 2, 'reprenait': 2, 'dégradation': 2, 'Erdogan': 2, 'pacification': 2, 'complices': 2, 'aléatoire': 2, 'détermine': 2, 'affrontements': 2, 'positifs': 2, 'gâchis': 2, 'provisoire': 2, 'évitant': 2, 'néfaste': 2, 'Puissance': 2, 'définissent': 2, 'distorsion': 2, 'assiste': 2, 'respectée': 2, 'considèrent': 2, 'envisagent': 2, 'dé': 2, 'tricotage': 2, 'envoi': 2, 'libéré': 2, 'cafés': 2, 'entrent': 2, 'fête': 2, 'San': 2, 'conviendrez': 2, 'créativité': 2, 'Applaudissez': 2, 'Ouganda': 2, 'Jeunes': 2, 'gratitude': 2, 'bienvenue': 2, 'formules': 2, 'Troisièmement': 2, 'précipitation': 2, 'Quatrièmement': 2, 'épouse': 2, 'Nantes': 2, 'magique': 2, 'organisant': 2, 'revendiquer': 2, 'comptent': 2, 'hésiter': 2, 'mouvementé': 2, 'suivant': 2, 'croître': 2, 'préparons': 2, 'CNDSI': 2, 'Défendre': 2, 'entrepris': 2, 'mobilités': 2, 'juristes': 2, 'portées': 2, 'plurilinguisme': 2, 'attire': 2, 'féministe': 2, 'posés': 2, 'traversées': 2, 'mobilisées': 2, 'tâches': 2, 'réputation': 2, 'trouverez': 2, 'changera': 2, 'fonctionnaire': 2, 'laisserons': 2, 'continuez': 2, 'repos': 2, 'Reporters': 2, 'dupe': 2, 'repères': 2, 'joints': 2, 'révèlent': 2, 'greffer': 2, 'Renforcer': 2, 'déroulée': 2, 'définitivement': 2, 'Florence': 2, 'Parly': 2, 'Tchad': 2, 'logistique': 2, 'durabilité': 2, 'prendront': 2, 'SOS': 2, 'Chrétiens': 2, 'revendications': 2, 'détricoter': 2, 'renouveau': 2, 'devrions': 2, 'coopérer': 2, 'rentrons': 2, 'solidité': 2, 'amènerait': 2, 'communiqué': 2, 'livraisons': 2, 'accrus': 2, 'formel': 2, 'équitablement': 2, 'voyageurs': 2, 'consulats': 2, 'consulat': 2, 'trouvant': 2, 'perdure': 2, 'LEROY': 2, 'dérange': 2, 'PAQTE': 2, 'FR': 2, 'habituels': 2, 'envoyez': 2, 'publication': 2, 'RENAULT': 2, '76': 2, 'délibérée': 2, 'Jamais': 2, 'diversifiez': 2, 'SCHIAPPA': 2, 'échelon': 2, 'cache': 2, 'poussé': 2, 'DUSSOPT': 2, 'bouche': 2, 'changées': 2, 'réintroduit': 2, 'pouce': 2, 'recette': 2, 'consistant': 2, 'analyser': 2, 'vivez': 2, 'louiez': 2, 'mettrez': 2, 'appartements': 2, 'municipalité': 2, 'achètent': 2, 'mensualités': 2, 'tombez': 2, 'surendettement': 2, 'spirales': 2, 'infernales': 2, 'remboursements': 2, '33': 2, 'incompréhensions': 2, 'interprété': 2, 'mères': 2, 'rentrez': 2, 'reflet': 2, 'politicienne': 2, 'irrespectueux': 2, 'changent': 2, 'objectivement': 2, 'présentés': 2, 'scandale': 2, 'courageuses': 2, 'reproché': 2, 'revers': 2, 'poison': 2, 'canicule': 2, 'ingénieur': 2, 'empêchez': 2, 'décompte': 2, 'fertiles': 2, 'compliqués': 2, 'banlieues': 2, 'structuré': 2, 'biosourcés': 2, 'Olympiques': 2, 'durées': 2, 'observé': 2, 'Souvent': 2, 'banque': 2, 'croyait': 2, 'exempter': 2, 'Dit': 2, 'seize': 2, 'consultatif': 2, 'présentons': 2, 'étroite': 2, 'geler': 2, 'gagnent': 2, 'observation': 2, 'appliqué': 2, '490': 2, 'confirmera': 2, 'apparaît': 2, 'adressent': 2, 'prélèvements': 2, 'envoie': 2, 'facture': 2, 'approvisionné': 2, 'concurrents': 2, 'performants': 2, 'résultera': 2, 'fragiliser': 2, 'ferment': 2, 'usines': 2, 'Senard': 2, 'excessifs': 2, 'fermetures': 2, 'jouera': 2, 'relayer': 2, 'relai': 2, 'rajoute': 2, 'regardions': 2, 'pack': 2, 'investissent': 2, 'confirmation': 2, 'Comptes': 2, 'compensations': 2, 'CDI': 2, 'Pôle': 2, 'déplaçant': 2, 'réindustrialiser': 2, 'créons': 2, 'trouvera': 2, 'tradition': 2, 'conjugueur': 2, 'dépensons': 2, 'Brive': 2, 'lunettes': 2, 'abandonne': 2, 'Libra': 2, 'Euro': 2, 'Européenne': 2, 'viticulteurs': 2, 'permanentes': 2, 'pratiquent': 2, 'combattu': 2, 'négocie': 2, 'juive': 2, 'rémunéré': 2, 'amorcer': 2, 'pic': 2, 'voudra': 2, 'épidémie': 2, '2003': 2, 'installées': 2, 'équiper': 2, 'compréhensible': 2, 'privilégient': 2, 'disions': 2, 'équipementiers': 2, 'discriminé': 2, 'recevrai': 2, 'Budget': 2, 'fragilise': 2, 'décidera': 2, 'chiffrage': 2, 'saccagent': 2, 'saccager': 2, 'partiront': 2, 'fourni': 2, 'GNR': 2, 'polluent': 2, 'Exemple': 2, 'polluant': 2, 'évasion': 2, 'rigoureusement': 2, 'rules': 2, 'are': 2, 'Gilles': 2, 'Métiers': 2, 'Stalter': 2, 'reconnaîtrez': 2, 'Bravo': 2, 'spécialistes': 2, 'coiffure': 2, 'singulier': 2, 'académique': 2, 'témoignez': 2, 'bac': 2, 'sépare': 2, 'discipline': 2, 'boîtes': 2, 'dicter': 2, 'simplifié': 2, 'étiquettes': 2, 'exploser': 2, 'rentes': 2, 'personnelle': 2, 'manquait': 2, 'concerner': 2, 'intelligente': 2, 'applicatifs': 2, 'Green': 2, 'new': 2, 'refonte': 2, 'consommer': 2, 'numérisation': 2, 'entoure': 2, 'conduits': 2, 'implicitement': 2, 'bienfaits': 2, 'syndicaux': 2, 'Recherche': 2, 'innovante': 2, 'compétitifs': 2, 'déclassement': 2, 'créatrices': 2, 'Dufourcq': 2, 'Bpi': 2, 'Petit': 2, 'Corée': 2, 'attachons': 2, 'STMicro': 2, 'semi': 2, 'conducteurs': 2, 'validées': 2, 'annoncés': 2, 'lier': 2, 'Entrepreneurs': 2, 'appuyé': 2, 'croissances': 2, 'trimestre': 2, 'pèsent': 2, 'scale': 2, 'seuils': 2, 'assurerons': 2, 'créez': 2, 'sortent': 2, 'inclure': 2, 'apportons': 2, 'optiques': 2, 'reconnaissent': 2, 'rémunère': 2, 'saine': 2, 'offertes': 2, 'supprimée': 2, 'séduit': 2, '44': 2, 'naît': 2, 'obligé': 2, 'Google': 2, 'Amazon': 2, 'innové': 2, 'immenses': 2, 'déposer': 2, 'algorithmes': 2, 'prétexte': 2, 'Seul': 2, 'mettrait': 2, 'raisonnables': 2, 'proclamations': 2, 'facultés': 2, 'voyait': 2, 'lycées': 2, 'déclenchement': 2, 'prudentielles': 2, 'Tamise': 2, 'abaisser': 2, 'illustration': 2, 'CFA': 2, 'irritant': 2, 'Raphaël': 2, 'Gauvain': 2, 'intéressantes': 2, 'proclamer': 2, 'inaugurons': 2, 'naissantes': 2, 'sain': 2, 'dégager': 2, 'émet': 2, 'fabriquer': 2, 'tardé': 2, 'critiquer': 2, 'pérennité': 2, 'italienne': 2, 'alimenter': 2, 'désigné': 2, 'Six': 2, 'Finlande': 2, 'modifient': 2, 'taxée': 2, 'capitalisation': 2, 'PNB': 2, 'taxer': 2, 'profits': 2, 'ouvriers': 2, 'reproduire': 2, 'arriveront': 2, 'trouveront': 2, 'Comac': 2, 'stocker': 2, 'stockez': 2, 'caractéristiques': 2, 'taxé': 2, 'revenaient': 2, 'Steven': 2, 'multilatérales': 2, 'TTF': 2, 'bloquée': 2, 'Olaf': 2, 'remplit': 2, 'Ministère': 2, 'affichage': 2, 'termine': 2, 'allègement': 2, 'Etre': 2, 'Renaud': 2, 'étonnement': 2, 'poussée': 2, 'gré': 2, 'préféré': 2, 'défaite': 2, 'adversaires': 2, 'appartiens': 2, 'comparaison': 2, 'sabotez': 2, 'propager': 2, 'OGM': 2, 'acté': 2, 'Politique': 2, 'schémas': 2, 'pesticides': 2, 'FEADER': 2, 'aléas': 2, 'croyais': 2, 'croise': 2, 'INRA': 2, 'surmultiplier': 2, 'ANSES': 2, 'litre': 2, 'alternatif': 2, 'antenne': 2, 'appuient': 2, 'docteur': 2, 'antibiotiques': 2, 'autorisés': 2, 'sème': 2, 'sociétales': 2, 'parcelle': 2, 'Attendez': 2, 'tomates': 2, 'achetées': 2, 'touchée': 2, 'communistes': 2, 'forcer': 2, 'urnes': 2, 'digéré': 2, 'fiches': 2, '46': 2, 'Impossible': 2, 'voulait': 2, 'démarré': 2, 'hold': 2, 'tranquillement': 2, 'rattraper': 2, 'Sonia': 2, 'MABROUK': 2, 'misérables': 2, 'prépare': 2, 'aventures': 2, 'choisit': 2, 'dommage': 2, 'gouvernementaux': 2, 'frotter': 2, 'régulations': 2, 'décoré': 2, '1950': 2, 'fermier': 2, 'foncières': 2, 'preneurs': 2, '1960': 2, 'jeter': 2, 'bébé': 2, 'lotissements': 2, 'Seulement': 2, 'unanimement': 2, 'vivement': 2, 'commençons': 2, 'MM': 2, 'applaudissent': 2, 'répliquer': 2, 'Noëlle': 2, 'refuge': 2, 'opère': 2, 'enregistrement': 2, 'loisir': 2, 'Seule': 2, 'registre': 2, 'soulevez': 2, 'aucuns': 2, 'expliquent': 2, 'tombant': 2, 'XVII': 2, 'vignoble': 2, 'supprimés': 2, 'mares': 2, 'humides': 2, 'retournés': 2, 'artificialisés': 2, 'assurément': 2, 'prairies': 2, 'intensification': 2, 'industrialisation': 2, 'heureuse': 2, 'réorientation': 2, 'vives': 2, 'souffrances': 2, 'pertinentes': 2, 'agences': 2, 'perçus': 2, 'Voyez': 2, 'vignobles': 2, 'contournement': 2, 'fraction': 2, 'acquisitions': 2, 'photovoltaïque': 2, 'herbe': 2, 'expansion': 2, '670': 2, 'bétonisation': 2, 'poche': 2, 'hostile': 2, 'richesses': 2, 'Foll': 2, 'négligeable': 2, 'Sempastous': 2, 'Hautes': 2, 'Petel': 2, 'Bouches': 2, 'modernisée': 2, 'réalisée': 2, 'incontournables': 2, 'recoupent': 2, 'entente': 2, 'assurent': 2, 'vendeur': 2, 'oubliés': 2, 'bâtirons': 2, 'vendent': 2, 'marbre': 2, 'répondrait': 2, 'courir': 2, '2006': 2, 'constatée': 2, 'partielle': 2, 'bail': 2, 'suffisantes': 2, 'succession': 2, 'affectent': 2, 'applicable': 2, 'vieux': 2, 'triplement': 2, 'entrés': 2, 'interdire': 2, 'débattues': 2, 'dominé': 2, 'traditionnelles': 2, 'secondaires': 2, 'camp': 2, 'impuissance': 2, 'préservée': 2, 'Sapin': 2, 'maître': 2, 'interministérielle': 2, 'définie': 2, 'déposée': 2, 'populaire': 2, 'expertisé': 2, 'Viriat': 2, 'compenser': 2, 'prégnant': 2, 'assistent': 2, 'arc': 2, 'Suisse': 2, 'échoué': 2, 'abordez': 2, 'Effectivement': 2, 'libéral': 2, 'décrites': 2, 'transferts': 2, 'associatives': 2, 'demanderai': 2, 'familiale': 2, 'partant': 2, 'vocations': 2, 'installent': 2, 'inversé': 2, 'métropolitaine': 2, 'provenance': 2, 'Jasmin': 2, 'financièrement': 2, 'senat': 2, 'rendues': 2, 'soumettre': 2, 'favorablement': 2, 'anglo': 2, 'broyage': 2, 'Fin': 2, 'poules': 2, 'courent': 2, 'poussant': 2, 'espagnols': 2, 'étiquetage': 2, 'oeufs': 2, 'vif': 2, 'Juifs': 2, 'maltraitance': 2, 'compétitive': 2, 'DOMBREVAL': 2, 'chiens': 2, 'déchirer': 2, 'pénalités': 2, 'retrouvera': 2, 'traditionnels': 2, 'durer': 2, 'passerons': 2, 'poissons': 2, 'Boulogne': 2, 'Mer': 2, 'empêchent': 2, 'téléspectateurs': 2, 'bateaux': 2, 'produira': 2, 'aspire': 2, 'devais': 2, 'quitterai': 2, 'Drôme': 2, 'redeviendrai': 2, 'islamistes': 2, 'détenteurs': 2, 'prêcher': 2, 'veillant': 2, 'retirés': 2, 'brèche': 2, 'diffusant': 2, 'représentativité': 2, 'entrants': 2, 'Disney': 2, 'ballets': 2, 'lyrique': 2, 'parisiens': 2, 'solitude': 2, 'créative': 2, 'Nul': 2, 'maillon': 2, 'Force': 2, 'excessives': 2, 'expose': 2, 'gratuitement': 2, 'appellerai': 2, 'principales': 2, 'incluant': 2, 'accessoires': 2, 'RAAP': 2, 'maintenus': 2, 'interviennent': 2, 'Acoss': 2, 'prescrites': 2, 'consacrera': 2, 'assumera': 2, 'apaisé': 2, 'morte': 2, 'posera': 2, 'adéquation': 2, 'discutés': 2, 'commande': 2, 'versées': 2, 'CNM': 2, 'Arts': 2, 'CNAP': 2, 'ARCENA': 2, 'CND': 2, 'adresserai': 2, 'marquée': 2, 'étudiées': 2, 'travaillerons': 2, 'dédicaces': 2, 'ateliers': 2, 'accompagnées': 2, 'verront': 2, 'versé': 2, 'proposera': 2, 'entendues': 2, 'matériels': 2, 'moraux': 2, 'réunies': 2, 'représentatives': 2, 'travailleront': 2, 'ancrage': 2, 'plastiques': 2, 'DGCA': 2, 'référents': 2, 'entité': 2, 'privilégié': 2, 'transversales': 2, 'comprises': 2, 'langage': 2, 'renseignements': 2, 'apparues': 2, 'URSSAF': 2, 'dues': 2, 'présentées': 2, 'associant': 2, 'parcellaires': 2, 'angle': 2, 'soulevés': 2, 'parisien': 2, 'rassemblés': 2, 'vaine': 2, 'boycott': 2, 'souhaiter': 2, 'Césars': 2, 'votent': 2, 'tournages': 2, 'vaines': 2, 'bouge': 2, 'Gabriel': 2, 'MATZNEFF': 2, 'discrétionnaires': 2, 'paraissait': 2, 'chantre': 2, 'interviews': 2, 'fondateur': 2, 'théorique': 2, 'organise': 2, 'djihad': 2, 'développent': 2, 'Silt': 2, '1905': 2, '47': 2, 'séjour': 2, 'Hakim': 2, 'EL': 2, 'KAROUI': 2, 'vertus': 2, 'salafiste': 2, 'frériste': 2, 'journaliste': 2, 'refait': 2, 'fronts': 2, 'Préfet': 2, 'codes': 2, 'considérant': 2, 'Dites': 2, 'troubler': 2, 'complaisance': 2, 'trouble': 2, 'soustraction': 2, 'imaginaire': 2, 'génère': 2, 'développées': 2, 'indivisibilité': 2, 'Elysée': 2, 'REP': 2, 'réinvesti': 2, 'successivement': 2, 'permettaient': 2, 'calmer': 2, 'traquer': 2, 'procureurs': 2, 'souterraine': 2, 'intensité': 2, 'boissons': 2, 'redresser': 2, 'fraude': 2, 'vingtaine': 2, 'coopère': 2, 'effectués': 2, 'généralisé': 2, 'radical': 2, 'intensifier': 2, '1977': 2, 'dispensés': 2, 'Elco': 2, 'EILE': 2, 'turque': 2, 'parachevé': 2, 'piscine': 2, 'exacte': 2, 'prédicateurs': 2, 'mouvance': 2, 'présidentes': 2, 'bénévoles': 2, 'refusé': 2, 'émergée': 2, 'résorber': 2, 'morsures': 2, 'humiliations': 2, 'réapprendre': 2, 'approximative': 2, 'dominant': 2, 'alimentaires': 2, 'Middle': 2, 'East': 2, 'projette': 2, 'intégré': 2, 'écouté': 2, 'Steinmeier': 2, 'sympathie': 2, 'not': 2, 'frustrations': 2, 'story': 2, 'proposals': 2, 'made': 2, 'ago': 2, 'French': 2, 'that': 2, 'at': 2, 'bilateral': 2, 'three': 2, 'SCAF': 2, 'will': 2, 'probably': 2, 'launched': 2, 'Climat': 2, 'bâtissent': 2, 'Policy': 2, '07': 2, 'régulé': 2, 'réconcilier': 2, 'payons': 2, 'frustration': 2, 'Initiative': 2, 'chute': 2, 'Mur': 2, 'décomplexée': 2, 'respectueuse': 2, 'alliées': 2, 'empire': 2, 'accru': 2, 'Enorme': 2, 'Bilan': 2, 'voyant': 2, 'soudainement': 2, 'scénario': 2, 'intraitable': 2, 'Zelensky': 2, 'reposer': 2, 'P5': 2, 'Aix': 2, 'Chapelle': 2, 'massifs': 2, 'option': 2, 'alliée': 2, 'impactés': 2, 'conservateurs': 2, 'voisin': 2, 'poursuivons': 2, 'proxys': 2, 'pudique': 2, 'défenses': 2, 'anticorps': 2, 'parenthèse': 2, 'vitesse': 2, 'XIXème': 2, 'stopper': 2, 'indirectes': 2, 'récuse': 2, 'précondition': 2, 'téléologique': 2, 'théologique': 2, 'occidentaux': 2, 'dirigeant': 2, 'leadership': 2, 'club': 2, 'hypocrisie': 2, 'élargit': 2, 'minimums': 2, 'rompu': 2, 'millénaires': 2, 'successives': 2, 'chancelier': 2, 'traversé': 2, 'langages': 2, 'fonder': 2, 'concrétise': 2, 'tangible': 2, 'oeil': 2, 'anticipés': 2, 'accélérés': 2, 'paysage': 2, 'déformer': 2, 'disparaître': 2, 'indissociable': 2, '98': 2, 'clos': 2, 'émotions': 2, 'HFC': 2, 'Metz': 2, 'italiens': 2, 'abritent': 2, 'inachevé': 2, 'demandons': 2, 'vérifiables': 2, 'aires': 2, 'acidification': 2, 'repensant': 2, 'aménager': 2, 'intrusions': 2, 'Dame': 2, 'Landes': 2, 'répondaient': 2, 'négatifs': 2, 'renonçant': 2, 'émettre': 2, 'réoccuper': 2, 'contestées': 2, 'Toute': 2, 'fibre': 2, 'contrainte': 2, 'émission': 2, 'poumons': 2, 'étendrons': 2, 'marine': 2, 'bêtes': 2, 'productifs': 2, 'saison': 2, 'perdue': 2, 'renforçant': 2, 'jetable': 2, 'tonnes': 2, 'emballage': 2, 'recycler': 2, 'développons': 2, 'emballages': 2, 'recyclage': 2, 'maîtresse': 2, 'habitués': 2, 'ordinaire': 2, 'tendus': 2, 'assigner': 2, 'impatience': 2, 'CHIRAC': 2, 'blanche': 2, 'handicaps': 2, 'neurodéveloppement': 2, 'profonds': 2, 'réflexe': 2, 'compagnonnage': 2, 'lie': 2, 'syndrome': 2, 'joie': 2, '730': 2, '123': 2, 'recruter': 2, 'aménagé': 2, 'savait': 2, 'précoce': 2, 'délicate': 2, 'séances': 2, 'Creton': 2, 'mentirais': 2, 'laissée': 2, 'trisomie': 2, 'témoignages': 2, 'médical': 2, 'combattant': 2, 'physiquement': 2, 'visites': 2, 'assigné': 2, 'transitoire': 2, 'définit': 2, 'diluée': 2, 'proposées': 2, 'guillemets': 2, 'saisissent': 2, 'considérée': 2, 'arène': 2, 'décote': 2, 're': 2, 'DuoDay': 2, 'regards': 2, 'Croyez': 2, 'lointains': 2, 'aimerait': 2, 'acquise': 2, 'confrontée': 2, 'pacifiques': 2, 'déclarés': 2, 'aériens': 2, 'exo': 2, 'atmosphériques': 2, 'confrontations': 2, 'maîtrisée': 2, 'dorénavant': 2, 'marquées': 2, 'sciemment': 2, 'futurs': 2, 'déconstruction': 2, 'cyniques': 2, 'Homme': 2, 'bâtie': 2, 'conventionnels': 2, 'agissait': 2, 'instabilités': 2, 'robustes': 2, 'obligent': 2, 'canaux': 2, 'arabo': 2, 'persique': 2, 'Levant': 2, 'sonné': 2, 'audace': 2, 'visée': 2, 'Moscou': 2, 'demandera': 2, 'Start': 2, 'laissent': 2, 'contraindre': 2, 'enceintes': 2, 'Prolifération': 2, 'démantelé': 2, 'essais': 2, 'fissiles': 2, 'suffisance': 2, 'progressif': 2, 'IV': 2, 'conjurer': 2, 'Washington': 2, 'bloqué': 2, 'prouvé': 2, 'allouer': 2, 'câbles': 2, 'névralgiques': 2, 'dividendes': 2, 'accélérant': 2, 'Celles': 2, 'variées': 2, 'spectre': 2, 'oubliée': 2, 'érosion': 2, 'essence': 2, 'soldat': 2, 'venait': 2, 'mésestimer': 2, 'viscéral': 2, 'infliger': 2, 'dommages': 2, 'délivré': 2, 'entières': 2, 'gagne': 2, 'susceptibles': 2, 'menacés': 2, 'renforcent': 2, 'célébrons': 2, 'éthiques': 2, 'préambule': 2, 'questionnements': 2, 'limitée': 2, 'confronter': 2, 'honnêteté': 2, 'concorde': 2, 'instrumentalisation': 2, 'argentines': 2, 'effectuer': 2, 'entendue': 2, 'courageuse': 2, 'millénaire': 2, 'ardente': 2, 'descendants': 2, 'illustres': 2, 'féconde': 2, 'Chopin': 2, 'Curie': 2, 'gardent': 2, 'frères': 2, 'croisés': 2, 'Napoléon': 2, 'Bonaparte': 2, 'hymne': 2, 'Clemenceau': 2, 'Vistule': 2, 'déployé': 2, 'illustre': 2, 'résonne': 2, 'Solidarnosc': 2, 'esprits': 2, 'traumatismes': 2, 'Geremek': 2, 'Jacek': 2, 'Morawiecki': 2, 'Katyn': 2, 'tragédies': 2, 'conquêtes': 2, 'innommable': 2, 'prétendent': 2, 'poésie': 2, 'Nobel': 2, 'antisémitisme': 2, 'analysant': 2, 'civilisation': 2, 'conceptualiser': 2, 'culpabiliser': 2, 'haines': 2, 'mentale': 2, '2004': 2, 'lacunaire': 2, 'occidentales': 2, 'accepterait': 2, 'assumé': 2, 'philosophiques': 2, 'rappelaient': 2, 'vague': 2, 'formées': 2, 'réinventée': 2, 'vérifications': 2, 'actant': 2, 'commis': 2, 'massives': 2, 'honnête': 2, 'ampute': 2, 'monuments': 2, 'cédez': 2, 'nationalisme': 2, 'Polak': 2, 'maly': 2, 'rêveurs': 2, 'Commissaire': 2, 'vétérans': 2, 'déficit': 2, 'porteuses': 2, 'poursuivrai': 2, 'hésitations': 2, 'contradictions': 2, 'hésitation': 2, 'acter': 2, 'géostratégique': 2, 'produite': 2, 'Valérie': 2, 'devrais': 2, 'Aznavour': 2, 'commémoration': 2, 'célèbre': 2, 'placé': 2, 'déni': 2, 'saluant': 2, 'rétabli': 2, 'authentification': 2, 'turcs': 2, 'mélanger': 2, 'éduquer': 2, 'identités': 2, 'affrontent': 2, 'sanction': 2, 'pénale': 2, 'Murad': 2, 'céderons': 2, 'dégénèrent': 2, 'électorales': 2, 'juridiquement': 2, 'tribunaux': 2, 'faisable': 2, 'arménienne': 2, 'conclurai': 2, 'admirable': 2, 'rappelait': 2, 'UFAR': 2, 'célébré': 2, 'conjuguent': 2, 'fermement': 2, 'libyen': 2, 'agissements': 2, 'contravention': 2, 'attentatoire': 2, 'précisé': 2, 'Marine': 2, 'tourné': 2, 'anciennes': 2, 'prévoir': 2, 'leçon': 2, 'accueilli': 2, 'redévelopper': 2, 'sortis': 2, 'pilotes': 2, 'décroissance': 2, 'communiste': 2, 'écologiste': 2, 'déclaré': 2, 'rassemblent': 2, 'déclarant': 2, 'blessés': 2, 'permanences': 2, 'réactif': 2, 'cortège': 2, 'violentes': 2, 'contenir': 2, 'praticiens': 2, 'International': 2, 'Durain': 2, 'protectrice': 2, 'préjuger': 2, 'écoulés': 2, 'Castaner': 2, 'grenade': 2, 'escadrons': 2, '378': 2, 'placements': 2, 'enquêter': 2, 'caméras': 2, 'exclure': 2, 'appliquons': 2, 'duré': 2, 'légitimer': 2, 'organique': 2, 'Abad': 2, 'abstraite': 2, 'défauts': 2, 'incompréhensible': 2, 'brouhaha': 2, 'Quoi': 2, 'pénibles': 2, 'réparer': 2, 'armons': 2, 'tantôt': 2, 'Laroque': 2, '1946': 2, 'Mensonge': 2, 'interprofessionnelles': 2, 'élever': 2, 'Goasguen': 2, 'lassés': 2, 'accordée': 2, 'examinées': 2, 'Chenu': 2, 'Bruneel': 2, 'indéfectible': 2, 'Pen': 2, 'Descoeur': 2, 'améliorera': 2, 'âges': 2, 'Ier': 2, 'détaille': 2, 'réaffirmé': 2, 'Mélenchon': 2, 'prie': 2, 'douce': 2, 'productive': 2, 'perçoivent': 2, 'préjudice': 2, 'survivant': 2, 'protestations': 2, 'convertis': 2, 'bénéficieront': 2, 'Habib': 2, 'spéciaux': 2, 'serein': 2, 'stups': 2, 'culot': 2, 'SARKOZY': 2, 'HOLLANDE': 2, 'Préfecture': 2, 'Grimaud': 2, 'existé': 2, 'recontextualiser': 2, 'dénonçant': 2, 'utilisée': 2, 'habilitations': 2, 'photo': 2, 'passée': 2, 'racisme': 2, 'antimusulman': 2, 'mécaniquement': 2, 'regretter': 2, 'chiffrés': 2, 'LECHYPRE': 2, 'pluriannuelle': 2, 'rassure': 2, 'larges': 2, 'job': 2, 'lassitude': 2, 'préjuge': 2, 'MARETTE': 2, 'piloter': 2, 'personnaliser': 2, 'posturaux': 2, 'Christelle': 2, 'hospitalier': 2, 'Grenoble': 2, 'CHU': 2, 'cœur': 2, 'débuter': 2, 'couvre': 2, 'hospitaliers': 2, 'exceptionnelles': 2, 'quotidiennes': 2, 'jugement': 2, 'prononce': 2, 'Solidarité': 2, 'prothèses': 2, 'paralyser': 2, 'réformistes': 2, '95': 2, '1975': 2, 'habilitation': 2, 'Lesquels': 2, 'agent': 2, 'douaniers': 2, 'suivront': 2, 'ergonomiques': 2, 'partira': 2, 'isoler': 2, 'Emilie': 2, 'clin': 2, 'gouvernementale': 2, 'accompagnait': 2, 'bizarre': 2, 'modestie': 2, 'luttent': 2, 'tombent': 2, 'mobilisations': 2, 'opposées': 2, 'Istres': 2, 'pandémie': 2, 'fermée': 2, 'proportion': 2, 'placement': 2, 'syndromes': 2, 'délaissement': 2, 'cellules': 2, 'préoccupantes': 2, 'émaneront': 2, 'assistantes': 2, 'cofinancer': 2, 'PMI': 2, 'Protection': 2, 'élabore': 2, 'psychiatrie': 2, 'perçues': 2, 'écrans': 2, 'paumés': 2, 'Asnières': 2, 'Colombes': 2, 'étiquette': 2, 'débattons': 2, 'Léonhardt': 2, 'quarts': 2, 'Kanner': 2, 'comportera': 2, 'Paroles': 2, 'Orly': 2, 'respectons': 2, 'troupeaux': 2, 'insensible': 2, 'suppriment': 2, 'dévoyer': 2, 'radicalité': 2, 'sporadiques': 2, 'verbe': 2, 'précède': 2, 'amender': 2, 'MARTINEZ': 2, 'BERGER': 2, 'empêchant': 2, 'Convention': 2, 'dévoyée': 2, '1901': 2, 'regardera': 2, 'communique': 2, 'Vanves': 2, 'consisté': 2, 'partition': 2, 'Limoges': 2, 'copie': 2, 'Laferrière': 2, 'CICID': 2, 'sectorielles': 2, 'Sall': 2, 'multilatéraux': 2, 'ODD': 2, 'maximiser': 2, 'redevabilité': 2, 'agira': 2, 'Mette': 2, 'Burkina': 2, 'Faso': 2, 'assistance': 2, 'COP21': 2, 'Marrakech': 2, 'dettes': 2, 'conditionnée': 2, 'cherchons': 2, 'inquiétant': 2, 'écolage': 2, 'Bienvenue': 2, 'Mbaye': 2, 'vaccins': 2, 'vaccination': 2, 'cancer': 2, 'utérus': 2, 'vacciner': 2, 'reproductive': 2, 'Mansour': 2, 'courbe': 2, 'suspendent': 2, 'portiques': 2, 'quatorzaine': 2, 'possiblement': 2, 'remboursés': 2, 'repassent': 2, 'gares': 2, 'hybride': 2, 'Toussus': 2, 'Noble': 2, 'Représentants': 1, 'Elus': 1, 'Coopération': 1, 'indopacifique': 1, 'Indopacifique': 1, 'Annick': 1, 'Brossot': 1, 'Escure': 1, 'accueille': 1, 'appelais': 1, 'matérialisation': 1, 'balance': 1, 'visiter': 1, 'représentée': 1, 'parfaite': 1, 'joindre': 1, 'êtres': 1, 'littéralement': 1, 'Carrefour': 1, 'Foire': 1, 'ADIM': 1, 'ménagera': 1, 'artisanat': 1, 'mahoraises': 1, 'Anli': 1, 'Bedja': 1, 'Sida': 1, 'apprécié': 1, 'Inaudible': 1, 'Souveraineté': 1, 'tarder': 1, 'Conseillers': 1, 'Port': 1, 'Maputo': 1, 'Tana': 1, 'ancrée': 1, 'tourmentée': 1, 'douloureuse': 1, 'traits': 1, 'Evidence': 1, 'réussie': 1, 'entretenu': 1, 'buts': 1, 'performances': 1, 'Barea': 1, 'CAN': 1, 'joueurs': 1, 'tourisme': 1, 'CIRAD': 1, 'IRD': 1, 'visiterai': 1, 'attaches': 1, 'allais': 1, 'conséquents': 1, 'Développement': 1, 'décollage': 1, 'destinataire': 1, 'coopérants': 1, 'ferez': 1, 'Trump': 1, '28': 1, 'israéliennes': 1, 'inscrivent': 1, 'rappelés': 1, 'résolutions': 1, 'unilatérales': 1, '1967': 1, 'abstiennent': 1, 'accumulation': 1, 'aboutisse': 1, 'Etant': 1, 'différer': 1, 'anormalement': 1, 'Pris': 1, 'restées': 1, 'suspens': 1, 'Constance': 1, 'Grip': 1, 'archéologie': 1, '162': 1, 'fouilles': 1, 'endommagé': 1, 'Raqqa': 1, 'Mosaïque': 1, 'Mossoul': 1, 'Tripoli': 1, 'Askia': 1, 'monastère': 1, 'Mar': 1, 'Behnam': 1, 'minaret': 1, 'vestiges': 1, 'Djam': 1, 'Afghanistan': 1, 'palais': 1, 'Badr': 1, 'Taïz': 1, 'Yémen': 1, 'Berta': 1, 'assument': 1, 'Quarante': 1, 'délocalisation': 1, 'Lancée': 1, 'assurée': 1, 'valorisante': 1, 'sise': 1, 'méditerranéen': 1, 'enseignées': 1, 'certifiante': 1, 'performante': 1, 'tunisien': 1, 'Saclay': 1, 'Panthéon': 1, 'sénégalaises': 1, 'sénégalaise': 1, 'diplômes': 1, 'qualifiants': 1, 'Yamoussoukro': 1, 'dispenser': 1, 'Ivoiriens': 1, '851': 1, '199': 1, 'techniciens': 1, 'intéressent': 1, 'agronomique': 1, 'Présent': 1, 'regroupe': 1, 'interrogeait': 1, 'renonceraient': 1, 'MOGPA': 1, 'laboratoires': 1, '154': 1, 'nationalités': 1, 'Gaultier': 1, 'questionné': 1, 'joyau': 1, '18ème': 1, 'cinquantenaire': 1, 'Maghreb': 1, 'arabophone': 1, '2002': 1, 'observateurs': 1, 'intra': 1, 'consacrant': 1, 'astreindre': 1, 'homologation': 1, 'championne': 1, 'karaté': 1, 'intègrent': 1, 'attester': 1, 'NBA': 1, 'Johannesburg': 1, 'autonomisation': 1, 'Kinshasa': 1, 'Cazarian': 1, 'pédagogique': 1, 'inatteignables': 1, 'concurrentes': 1, 'Maxime': 1, 'Minot': 1, 'conventionnés': 1, '155': 1, '522': 1, 'labellisés': 1, 'établis': 1, '091': 1, 'résidents': 1, '793': 1, 'officie': 1, 'Testé': 1, 'bacheliers': 1, 'scolarité': 1, 'provenant': 1, 'extracommunautaire': 1, 'baccalauréat': 1, 'visa': 1, 'Parcoursup': 1, 'Elsa': 1, 'Faucillon': 1, 'mentionné': 1, 'Cécile': 1, 'enseignante': 1, 'Ramy': 1, 'Shaath': 1, 'emprisonné': 1, 'époux': 1, 'égyptienne': 1, 'aboutissaient': 1, 'holding': 1, 'Nadot': 1, 'élargisse': 1, 'Bogota': 1, 'audience': 1, 'verse': 1, 'provenances': 1, 'audiovisuels': 1, 'transposition': 1, 'soutiendront': 1, 'aidera': 1, 'Salto': 1, 'réunira': 1, 'TF1': 1, 'contribuera': 1, 'cinématographique': 1, 'Sandrine': 1, 'Mörch': 1, 'suggéré': 1, 'raisonnée': 1, 'antennes': 1, 'Pompidou': 1, 'Malaga': 1, 'Shanghai': 1, 'marqueur': 1, 'architecturale': 1, 'muséographique': 1, 'attrayantes': 1, 'vecteurs': 1, 'Addis': 1, 'Abeba': 1, 'oasis': 1, 'saurais': 1, 'recommander': 1, 'saoudiennes': 1, 'impressionnant': 1, 'islamique': 1, 'enfoui': 1, 'idéologiques': 1, 'spectaculairement': 1, 'Arabie': 1, 'Saoudite': 1, 'Nabatéens': 1, 'Petra': 1, 'décuplée': 1, 'Afalula': 1, 'Mestrallet': 1, 'saoudien': 1, 'incohérent': 1, 'rédigés': 1, 'olympique': 1, 'olympisme': 1, 'multilinguisme': 1, 'adhésions': 1, 'attraction': 1, 'vigilante': 1, 'intransigeants': 1, 'marquait': 1, 'Anglo': 1, 'Saxons': 1, 'satisfecit': 1, 'tempéré': 1, 'Bureau': 1, 'publier': 1, 'encourageants': 1, '121': 1, 'certifications': 1, '92': 1, 'musiques': 1, 'électroniques': 1, 'pop': 1, 'chanson': 1, 'concerts': 1, 'chanteurs': 1, 'recensées': 1, 'albums': 1, 'chantés': 1, 'enthousiasmant': 1, 'classements': 1, 'Compléterez': 1, 'établissent': 1, 'Bogotá': 1, 'témoignent': 1, 'féconder': 1, 'grades': 1, 'Roué': 1, 'tonicité': 1, 'tourments': 1, 'Préfète': 1, 'Dinard': 1, 'diversification': 1, 'intuitions': 1, 'Tandis': 1, 'soleil': 1, 'chaleur': 1, 'Considérez': 1, 'Atalante': 1, 'positivement': 1, 'rennaise': 1, 'malouine': 1, 'apportera': 1, 'coloration': 1, '1973': 1, 'acheminement': 1, 'B': 1, 'Kerisnel': 1, 'Brex': 1, 'désenclavement': 1, 'Sauf': 1, 'oignons': 1, 'assimilés': 1, 'globalisés': 1, 'perturbait': 1, 'pesait': 1, 'offensive': 1, 'transporteur': 1, 'offensif': 1, 'tonique': 1, 'préservées': 1, 'Manche': 1, 'basées': 1, 'tendrait': 1, 'centrer': 1, 'contingentements': 1, 'nécessitera': 1, 'inconvénients': 1, 'Chesnay': 1, 'Girard': 1, 'transigerons': 1, 'fortuit': 1, 'Islande': 1, 'adhéré': 1, 'achoppé': 1, 'revirement': 1, 'lettres': 1, 'noblesse': 1, 'bretonne': 1, 'pêches': 1, 'pluriannuelles': 1, 'Nézet': 1, 'anchois': 1, 'hareng': 1, 'écoulent': 1, 'obligatoirement': 1, 'malouins': 1, 'Granville': 1, 'manquera': 1, '1998': 1, 'Tony': 1, 'Blair': 1, 'Appel': 1, 'divergence': 1, 'ouvrons': 1, 'contrecarrer': 1, 'mauvaises': 1, 'prenait': 1, 'serviraient': 1, 'priveraient': 1, 'amèneraient': 1, 'stimulant': 1, 'remerciant': 1, 'souhaitant': 1, 'Syndicat': 1, 'décarboner': 1, 'ups': 1, 'ETI': 1, 'éolien': 1, 'géothermie': 1, 'marines': 1, 'biomasse': 1, 'fulgurant': 1, 'consommée': 1, 'GW': 1, 'fédérateur': 1, 'CSF': 1, 'groupés': 1, 'internationaliser': 1, 'unifier': 1, 'guichet': 1, 'fédère': 1, 'Régions': 1, 'noter': 1, 'potentiellement': 1, '235': 1, 'couvrira': 1, 'Déjà': 1, 'attendant': 1, 'NEOEN': 1, 'CAP': 1, 'VERT': 1, 'ENERGIE': 1, 'Sénégal': 1, 'Mégawatts': 1, 'hésitez': 1, 'Océanie': 1, 'Cité': 1, 'relèvement': 1, 'comble': 1, 'fragilisé': 1, 'exportateurs': 1, 'compétitif': 1, 'Charente': 1, 'bénéficiera': 1, 'Empêcher': 1, 'protectionnistes': 1, 'exigeante': 1, 'défaire': 1, 'entreprenons': 1, 'Zélande': 1, 'électrification': 1, 'Mauritanie': 1, 'barrage': 1, 'hydroélectrique': 1, 'Nachtigal': 1, 'Cameroun': 1, 'magistral': 1, 'conçu': 1, 'satisfaction': 1, 'nuages': 1, 'sombres': 1, 'dramatisation': 1, 'hiérarchique': 1, 'balkanisation': 1, '2011': 1, 'interne': 1, 'aboutissement': 1, 'Pompeo': 1, 'Sissi': 1, 'tracé': 1, 'articule': 1, 'sentait': 1, 'optimisme': 1, 'parcimonie': 1, 'désarçonné': 1, 'affolé': 1, 'apparaissant': 1, 'tristesse': 1, 'résolution': 1, 'rappelez': 1, 'laissait': 1, 'distorsions': 1, 'affirmant': 1, 'séparément': 1, 'réaffirmation': 1, 'épanouir': 1, 'deviendrons': 1, 'débiteurs': 1, 'articulées': 1, 'parallèles': 1, 'articulés': 1, 'additions': 1, 'aboutit': 1, 'détricote': 1, 'Mondiale': 1, 'affiche': 1, 'basé': 1, 'Routes': 1, 'soie': 1, 'Empire': 1, 'préoccupant': 1, 'doive': 1, 'privilégie': 1, 'caduc': 1, 'revivifier': 1, 'articulé': 1, 'renforcions': 1, 'emmenées': 1, 'Judith': 1, 'Roze': 1, 'Mano': 1, 'houlette': 1, 'Buhler': 1, 'revêtir': 1, 'George': 1, 'Steiner': 1, 'Quitte': 1, 'Brésil': 1, 'Thaïlande': 1, 'Canada': 1, 'Colombie': 1, 'proportions': 1, 'simultanées': 1, 'Francisco': 1, 'enregistré': 1, 'inscriptions': 1, 'fâché': 1, 'Paimpol': 1, 'Belle': 1, 'favoritisme': 1, 'Thiers': 1, 'Diplomatique': 1, 'chancelleries': 1, 'résolument': 1, 'respiration': 1, 'mobilisateur': 1, 'militants': 1, 'Hilda': 1, 'Flavia': 1, 'Nakabuye': 1, 'Vendredi': 1, 'Kristin': 1, 'Rodrigo': 1, 'Canadienne': 1, 'reporters': 1, 'applaudissez': 1, 'Nathan': 1, 'Méténier': 1, 'étudiant': 1, 'Environnement': 1, 'indiquez': 1, 'Gardette': 1, 'grain': 1, 'moudre': 1, 'ondes': 1, 'Analyse': 1, 'Opinion': 1, 'Critique': 1, 'Sciences': 1, 'TV5': 1, 'Daniel': 1, 'Nina': 1, 'Carasso': 1, 'collégiens': 1, 'Poissy': 1, 'incarnent': 1, 'doutant': 1, 'Sénateur': 1, 'formellement': 1, 'Observons': 1, 'évité': 1, 'désordonnée': 1, 'craignions': 1, 'négocié': 1, 'promulgué': 1, 'entamera': 1, 'tentations': 1, 'surmontées': 1, 'maintiennent': 1, 'Secrétaires': 1, 'Delattre': 1, 'Directrices': 1, 'Directeurs': 1, 'Chères': 1, 'auditrices': 1, 'Collège': 1, 'Différents': 1, 'incarnez': 1, 'Mille': 1, 'ubiquité': 1, 'confiées': 1, 'palette': 1, 'Tisser': 1, 'vents': 1, 'marées': 1, 'Négocier': 1, 'Porter': 1, 'humaniste': 1, 'Soutenir': 1, 'destinations': 1, 'calmes': 1, 'autorise': 1, 'braver': 1, 'tempêtes': 1, 'Mortelette': 1, 'Canberra': 1, 'correspondance': 1, 'vertigineuse': 1, 'loges': 1, 'Afin': 1, 'vigie': 1, 'conservions': 1, 'proposent': 1, 'inventent': 1, 'menaçait': 1, 'embraser': 1, 'occasions': 1, 'accommodant': 1, 'régulée': 1, 'plaçant': 1, 'Egalité': 1, 'convié': 1, 'endurance': 1, 'purs': 1, 'pôles': 1, 'Département': 1, 'diplomates': 1, 'célébrera': 1, 'Diplomatie': 1, 'manqués': 1, 'Nature': 1, 'UICN': 1, 'Kunming': 1, 'plaiderons': 1, 'soutiendrons': 1, 'rêvent': 1, 'écrira': 1, 'intersection': 1, 'complicité': 1, 'poursuivra': 1, 'DFAE': 1, 'DSI': 1, 'Réformes': 1, 'fastidieuses': 1, 'rudes': 1, 'têtus': 1, 'amplement': 1, 'méritée': 1, 'essayerai': 1, 'ressenti': 1, 'PLF': 1, 'indemnités': 1, 'revalorisée': 1, 'mentionnant': 1, 'bonifications': 1, 'Thiriez': 1, 'vivier': 1, 'féminin': 1, 'féminisation': 1, 'reflète': 1, 'actées': 1, 'veillerai': 1, 'poursuive': 1, 'tolérance': 1, 'reconnaissant': 1, 'entamé': 1, 'euphémisme': 1, 'reprenant': 1, 'recense': 1, 'tués': 1, 'emprisonnés': 1, 'brouiller': 1, 'vigoureuse': 1, 'visées': 1, 'hostiles': 1, 'grossières': 1, 'parviennent': 1, 'respectives': 1, 'Aider': 1, 'manqueront': 1, 'accueillerons': 1, 'contesté': 1, 'révolue': 1, 'attentivement': 1, 'ponctuer': 1, 'dissuader': 1, 'désengager': 1, 'remobilisation': 1, 'destructrice': 1, 'métastases': 1, 'Lac': 1, 'Nouakchott': 1, 'Logistique': 1, 'allocution': 1, 'concomitantes': 1, 'enclenchée': 1, 'abonnés': 1, 'absents': 1, 'Takuba': 1, 'étroites': 1, 'Divisions': 1, 'internes': 1, 'enlevés': 1, 'rançon': 1, 'indications': 1, 'quelconques': 1, 'Longtemps': 1, 'Abdelmadjid': 1, 'déclenché': 1, 'Iraniens': 1, 'vider': 1, 'iranien': 1, 'répande': 1, 'disposaient': 1, 'conflictuelle': 1, 'agi': 1, 'militent': 1, 'suivons': 1, 'concernée': 1, 'discrétion': 1, 'algériennes': 1, 'entretiens': 1, 'algérien': 1, 'malienne': 1, 'dissensions': 1, 'séparé': 1, 'dissociait': 1, 'Mandat': 1, 'bâclé': 1, 'accompagnerai': 1, 'potentielle': 1, 'dénonçait': 1, 'ponctuelle': 1, 'réunirait': 1, 'milices': 1, 'institutionnelle': 1, 'Ghassan': 1, 'Salamé': 1, 'Envoyé': 1, 'mettait': 1, 'diligenter': 1, 'accentueraient': 1, 'ponctuelles': 1, 'antérieurement': 1, 'actualisés': 1, 'Ariane': 1, 'évolutif': 1, 'dédiée': 1, 'autobus': 1, 'direz': 1, 'éveil': 1, 'consciences': 1, 'conclut': 1, 'confirmée': 1, 'nommons': 1, 'tirées': 1, 'embarque': 1, 'Inspection': 1, 'spontanées': 1, 'réputés': 1, 'chercheur': 1, 'échantillon': 1, 'représentatif': 1, 'acceptés': 1, 'réception': 1, 'diversifier': 1, 'copains': 1, 'oncles': 1, 'tantes': 1, 'stagiaire': 1, 'Mozaïk': 1, 'Isabelle': 1, 'KOCHER': 1, 'CLAMADIEU': 1, 'management': 1, 'partez': 1, 'racine': 1, 'parités': 1, 'consistera': 1, 'modifiant': 1, 'encadrer': 1, 'utilisez': 1, 'listings': 1, 'adresses': 1, 'prénom': 1, 'démagogue': 1, 'habitez': 1, 'taper': 1, 'habitent': 1, 'louent': 1, 'mairies': 1, 'Lépine': 1, 'divulgue': 1, 'traditionnellement': 1, 'remboursiez': 1, 'gagnez': 1, 'mensuels': 1, 'garants': 1, 'siégeaient': 1, 'apportait': 1, 'cruciale': 1, 'nommer': 1, 'gardée': 1, 'déposaient': 1, 'débattus': 1, 'nuisez': 1, 'X': 1, 'millième': 1, 'crie': 1, 'oser': 1, 'contestations': 1, 'qualificatifs': 1, 'odieuses': 1, 'concerté': 1, 'balayée': 1, 'surpasser': 1, 'affronte': 1, 'sécessions': 1, 'miens': 1, 'appréhendé': 1, 'endoctrinement': 1, 'discriminés': 1, 'exprimeront': 1, 'hiver': 1, 'meurtrières': 1, 'agronome': 1, 'artificialisez': 1, 'infiltrer': 1, 'participez': 1, 'inondation': 1, 'once': 1, 'verdure': 1, 'fraîcheur': 1, 'pensés': 1, 'invivable': 1, 'pavillonnaire': 1, 'périphérique': 1, 'capitaliser': 1, 'labelliser': 1, 'végétalisation': 1, 'cantine': 1, 'expériences': 1, 'rejoignez': 1, 'artisan': 1, 'labellise': 1, 'revoit': 1, 'périphériques': 1, 'appropriez': 1, 'CAISSE': 1, 'DEPOTS': 1, 'ADEME': 1, 'devenions': 1, 'fermiers': 1, 'accompagnateur': 1, 'songez': 1, 'annoncerai': 1, 'habituelles': 1, 'prêtes': 1, '409': 1, 'variation': 1, 'doigté': 1, 'multipliés': 1, 'dominicaux': 1, 'observait': 1, 'prêtaient': 1, 'devenaient': 1, 'étranglées': 1, 'contractaient': 1, 'contractez': 1, 'présentations': 1, 'tapait': 1, 'venions': 1, 'fondation': 1, 'gère': 1, 'inversement': 1, 'chassez': 1, 'Uniquement': 1, 'Polichinelle': 1, 'Villeroy': 1, 'Galhau': 1, 'Corinne': 1, 'Dromer': 1, 'plafonner': 1, 'insoutenable': 1, 'plafonnés': 1, 'vérifiés': 1, 'impartiale': 1, 'Consommation': 1, 'Répression': 1, 'Fraudes': 1, 'Autorité': 1, 'prudentiel': 1, 'mensuel': 1, '381': 1, 'relâcher': 1, 'retiennent': 1, 'discrédité': 1, 'prélèvent': 1, 'dus': 1, 'allers': 1, 'trouvez': 1, 'ENGIE': 1, 'SFR': 1, 'Orange': 1, 'Free': 1, 'EDF': 1, 'marquage': 1, 'impayé': 1, 'souhaiteraient': 1, 'respectaient': 1, 'rachat': 1, 'Transport': 1, 'Siemens': 1, 'concurrentiels': 1, 'brutale': 1, 'automobiles': 1, 'connecté': 1, 'volumes': 1, 'Vigilants': 1, 'discuterons': 1, 'Nissan': 1, 'Eurogroupe': 1, 'Phil': 1, 'Hogan': 1, 'Frans': 1, 'Timmermans': 1, 'ferra': 1, 'martelée': 1, 'tournons': 1, 'accommandante': 1, 'Utiliser': 1, 'Autriche': 1, 'ajoutons': 1, 'commentaire': 1, 'exprimera': 1, 'Attendons': 1, 'souhaitera': 1, 'parte': 1, 'immédiates': 1, 'inscrites': 1, 'mesuré': 1, 'déposent': 1, 'pleines': 1, 'indéterminée': 1, 'ramasse': 1, 'conjugue': 1, 'employées': 1, 'rénovez': 1, 'photodétection': 1, 'Ardian': 1, 'lis': 1, 'Protéger': 1, 'adossé': 1, 'Dollar': 1, 'suffi': 1, 'Centrale': 1, 'Christine': 1, 'LAGARDE': 1, 'gagnerons': 1, 'Gaillarde': 1, 'menacé': 1, 'vin': 1, 'armistice': 1, 'intervalle': 1, 'Rassembler': 1, 'gangrène': 1, 'combattra': 1, 'emporte': 1, 'catholicisme': 1, 'blessent': 1, 'Certainement': 1, 'soulever': 1, 'torrents': 1, 'Puisse': 1, 'attaquée': 1, 'prendraient': 1, 'Baisser': 1, 'dévalorisé': 1, 'décolle': 1, 'structurant': 1, 'pain': 1, 'planche': 1, 'démarrions': 1, 'engageons': 1, 'expert': 1, 'admettons': 1, 'sortes': 1, 'câblage': 1, 'pédales': 1, 'adressez': 1, 'ralenti': 1, 'précautions': 1, 'protégions': 1, 'écartée': 1, 'NOKIA': 1, 'ERICSSON': 1, 'coûtera': 1, 'trouvons': 1, 'regrettable': 1, 'abîme': 1, 'enceinte': 1, 'dépose': 1, 'contente': 1, 'indexée': 1, 'indépendantes': 1, 'calculer': 1, 'perdra': 1, 'perdront': 1, 'singulariser': 1, 'copernicienne': 1, 'garantissez': 1, 'décidés': 1, 'bioéthanol': 1, 'punitive': 1, 'augmenterait': 1, 'débarrasse': 1, 'malus': 1, '172': 1, 'grammes': 1, 'kilomètre': 1, '6000': 1, 'puits': 1, 'rêverais': 1, 'bonus': 1, 'tabac': 1, 'Angela': 1, 'MERKEL': 1, 'obstacles': 1, 'livrée': 1, 'gagnée': 1, 'brise': 1, 'douane': 1, 'respectiez': 1, 'BARNIER': 1, 'lion': 1, 'Winston': 1, 'CHURCHILL': 1, 'lions': 1, 'Pécout': 1, 'prestigieux': 1, 'Société': 1, 'Meilleurs': 1, 'Ouvriers': 1, 'Artisanat': 1, 'moustache': 1, 'restaurateurs': 1, 'cordonniers': 1, 'coiffeurs': 1, 'maintenance': 1, 'tapissiers': 1, 'jardiniers': 1, 'restaurant': 1, 'réserviez': 1, 'triomphal': 1, 'Dieu': 1, 'exercez': 1, 'tuteur': 1, 'distingués': 1, 'applaudi': 1, 'amphithéâtre': 1, 'aiguë': 1, 'gigantesque': 1, 'licence': 1, 'master': 1, 'Grandes': 1, 'Ecoles': 1, 'croiser': 1, 'mêler': 1, 'scandales': 1, 'envies': 1, 'diplômantes': 1, 'espérées': 1, 'choisissez': 1, 'cuisine': 1, 'peinture': 1, 'Écoutez': 1, 'cuisinier': 1, 'restaurateur': 1, 'hôtelier': 1, 'mécanicien': 1, 'coiffeur': 1, 'foncez': 1, 'réussirez': 1, 'levant': 1, 'empêchaient': 1, 'royale': 1, 'offert': 1, 'aîné': 1, 'royales': 1, 'attribuée': 1, 'verrou': 1, 'rente': 1, 'servent': 1, 'articulons': 1, 'primordiales': 1, '20ème': 1, 'capitales': 1, 'entretenais': 1, 'Peter': 1, 'Altmaier': 1, 'entretenus': 1, 'surprendre': 1, 'semestres': 1, 'nombres': 1, 'applicatif': 1, 'contiennent': 1, 'deal': 1, 'approuvé': 1, 'soutienne': 1, 'transverse': 1, 'modifie': 1, 'plonger': 1, 'revisite': 1, 'monopoles': 1, 'maintes': 1, 'https': 1, 'economie': 1, 'exceptionnels': 1, 'courons': 1, 'martelé': 1, 'imaginatives': 1, 'recherches': 1, 'CNRS': 1, 'Antoine': 1, 'industrialisés': 1, 'Made': 1, 'China': 1, '4e': 1, 'High': 1, 'Tech': 1, 'Strategy': 1, 'nanotechnologies': 1, 'PIIEC': 1, 'nano': 1, 'électronique': 1, 'coréennes': 1, 'déterminera': 1, 'concentrons': 1, 'contrôlons': 1, 'reposent': 1, 'compétiteurs': 1, 'quantiques': 1, 'amorcent': 1, 'Vatican': 1, 'capitalisme': 1, '780': 1, 'décevant': 1, 'patronne': 1, 'Booking': 1, 'caps': 1, 'addiction': 1, 'vigoureusement': 1, 'analystes': 1, 'redistributrice': 1, 'redistribuer': 1, 'solde': 1, 'battent': 1, 'réticents': 1, 'testez': 1, 'sortez': 1, 'signez': 1, 'ennuie': 1, 'valorisés': 1, 'saisissez': 1, 'entrepreneuriale': 1, 'joli': 1, 'fauteuil': 1, 'correcte': 1, 'attractives': 1, 'aidiez': 1, 'réclamiez': 1, 'fassiez': 1, 'quotas': 1, 'paternel': 1, 'soulager': 1, 'retarde': 1, 'vivants': 1, 'cherchez': 1, 'ticket': 1, 'chimie': 1, 'divisiez': 1, 'étonnant': 1, 'protections': 1, 'récupérées': 1, 'malveillants': 1, 'piller': 1, 'inventées': 1, 'conquérant': 1, 'soucieux': 1, 'réimporte': 1, 'opposons': 1, 'Montrer': 1, 'développiez': 1, 'Chère': 1, 'résignons': 1, 'Comex': 1, 'égales': 1, 'pâtissent': 1, 'stéréotypes': 1, 'masculins': 1, 'risquez': 1, 'digitalisation': 1, 'ingénieures': 1, 'ancrés': 1, 'Roland': 1, 'Lescure': 1, 'comparables': 1, 'déposées': 1, 'réglions': 1, 'dirigeantes': 1, 'Copé': 1, 'Zimmermann': 1, 'Afep': 1, 'Medef': 1, 'excuses': 1, 'semblants': 1, 'satisferai': 1, 'suffiront': 1, 'salarial': 1, 'paternité': 1, 'City': 1, 'triomphante': 1, 'deviendrait': 1, 'abaissé': 1, 'Économie': 1, 'jugeons': 1, 'Chancelier': 1, 'Échiquier': 1, 'imposons': 1, 'respecteraient': 1, 'équivalence': 1, 'lient': 1, 'Françafrique': 1, 'Bénin': 1, 'organes': 1, 'Mettre': 1, 'centralisation': 1, 'cordon': 1, 'ombilical': 1, 'mentionne': 1, 'contourner': 1, 'chaise': 1, 'creuse': 1, 'préfigure': 1, 'annuels': 1, 'Huawei': 1, 'arrivions': 1, 'réorienter': 1, 'remettrons': 1, 'vains': 1, 'importer': 1, 'fermons': 1, 'délocaliser': 1, 'émettent': 1, 'augmentons': 1, 'décarbonation': 1, 'controverses': 1, 'taxés': 1, 'adossée': 1, 'accélérions': 1, 'affirmeront': 1, 'tickets': 1, 'emportent': 1, 'égoïsmes': 1, 'reprochait': 1, 'incohérence': 1, 'étages': 1, 'introduisons': 1, 'parvient': 1, 'enrhument': 1, 'toussent': 1, 'ralentissent': 1, 'tousser': 1, 'enrhumer': 1, 'Honnêtement': 1, 'extraterritorialité': 1, 'miroir': 1, 'Suède': 1, 'expérimental': 1, 'imparfait': 1, 'mentionner': 1, 'retrouvez': 1, 'échappent': 1, 'hôpitaux': 1, 'crèches': 1, 'croissants': 1, 'lorgnette': 1, 'récolter': 1, 'Mettez': 1, 'dépiautant': 1, 'aile': 1, 'carlingue': 1, 'hublot': 1, 'radar': 1, 'procédés': 1, 'fabrication': 1, 'caractérisation': 1, 'intangibles': 1, 'volent': 1, 'réservoir': 1, 'brevet': 1, 'pillage': 1, 'poétique': 1, 'centralisé': 1, 'pièces': 1, 'climatisées': 1, 'température': 1, 'climatisation': 1, 'stocke': 1, 'hébergeurs': 1, 'anodin': 1, 'chemises': 1, 'pantalons': 1, 'stockons': 1, 'consommons': 1, 'pantacourts': 1, 'protester': 1, 'jugent': 1, 'discriminatoire': 1, 'Pascal': 1, 'Amans': 1, 'banc': 1, 'aperçus': 1, 'pénalisante': 1, 'Mnuchin': 1, 'paieraient': 1, 'décalons': 1, 'percevrons': 1, 'ignoré': 1, 'Scholz': 1, 'autrichien': 1, 'symptôme': 1, 'compléments': 1, 'figuration': 1, 'engagerai': 1, 'saurez': 1, 'baisses': 1, 'choisies': 1, 'restions': 1, 'éloignés': 1, 'doutent': 1, 'conserverai': 1, 'repousser': 1, 'taxées': 1, 'reporté': 1, 'retraitée': 1, 'DELY': 1, 'MNUCHIN': 1, 'inclut': 1, 'minimale': 1, 'motivés': 1, 'Autrichiens': 1, 'Espagnols': 1, 'Italiens': 1, 'rétablie': 1, 'pénalisera': 1, 'soutenaient': 1, 'SCHOLZ': 1, 'Laissons': 1, 'dogmes': 1, 'Cotisations': 1, '81': 1, 'cotise': 1, 'étendards': 1, 'sauve': 1, 'attitude': 1, 'convaincants': 1, 'qualifiés': 1, 'étage': 1, 'conçois': 1, 'incertain': 1, 'défaites': 1, 'cinglantes': 1, 'conversation': 1, 'rassemblé': 1, 'cadeau': 1, 'Disons': 1, 'coupeurs': 1, 'têtes': 1, 'virer': 1, 'dissidence': 1, 'estimais': 1, 'correspondaient': 1, 'ossature': 1, 'préférerais': 1, 'paraîtrait': 1, 'affaiblisse': 1, 'Cinq': 1, 'souscrivent': 1, 'promoteur': 1, 'vitrine': 1, 'excessivement': 1, 'fournit': 1, 'nourriture': 1, 'tracés': 1, 'baissera': 1, 'ramène': 1, 'tolérable': 1, 'bataillé': 1, '380': 1, 'Agricole': 1, 'Commune': 1, 'obligatoires': 1, 'sains': 1, 'cofinancement': 1, 'assurantiel': 1, 'totem': 1, 'phytopharmaceutiques': 1, 'vigne': 1, 'couvertures': 1, 'labourés': 1, 'capter': 1, 'azote': 1, 'Jusqu': 1, 'ZNT': 1, 'b': 1, 'ba': 1, 'objectiver': 1, 'écolos': 1, 'appuyons': 1, 'soigne': 1, 'épandre': 1, 'Langouet': 1, 'distances': 1, 'riverain': 1, 'bios': 1, 'décalé': 1, 'semer': 1, 'attaqués': 1, 'nonobstant': 1, 'Elizabeth': 1, 'MARTICHOUX': 1, 'tweets': 1, 'impulsions': 1, 'récoltes': 1, 'rassurés': 1, 'calé': 1, 'croquignolesque': 1, 'indemniser': 1, 'achètera': 1, 'chlore': 1, 'confinement': 1, 'plants': 1, 'semences': 1, 'plantées': 1, 'transmet': 1, 'confinée': 1, 'supprimerons': 1, 'obliger': 1, 'intéressons': 1, 'fric': 1, 'frac': 1, 'récupérer': 1, 'digestion': 1, 'redevance': 1, 'mutagènes': 1, 'cancérigènes': 1, 'verre': 1, 'FNSEA': 1, '69': 1, 'conversions': 1, 'raconte': 1, 'balivernes': 1, 'tombereaux': 1, 'aubergines': 1, 'pourrir': 1, 'légume': 1, 'transmissible': 1, 'discutable': 1, 'gagnants': 1, 'souffle': 1, 'méritait': 1, 'ends': 1, 'motivé': 1, 'sollicité': 1, 'retiré': 1, 'savais': 1, 'inquiet': 1, 'converge': 1, 'fronder': 1, 'hystérisé': 1, 'individualisme': 1, 'jeté': 1, 'poubelle': 1, 'ego': 1, 'déconnectés': 1, 'marchand': 1, 'Hyest': 1, 'Edgard': 1, 'Pisani': 1, 'Capus': 1, 'Angevin': 1, 'incombe': 1, 'insistent': 1, 'critiquent': 1, 'commencerai': 1, 'examinent': 1, 'tchèque': 1, 'contractuelle': 1, 'Acquis': 1, 'viables': 1, 'adaptations': 1, 'touchons': 1, 'trembler': 1, 'habitations': 1, 'fédération': 1, 'établira': 1, 'souhaits': 1, 'exprimerez': 1, 'mettrai': 1, 'réglées': 1, 'raté': 1, 'sagesse': 1, 'débattions': 1, 'Laménie': 1, 'Débat': 1, 'convoitées': 1, 'générationnel': 1, 'constructible': 1, 'freiner': 1, 'CDOA': 1, 'agrandissement': 1, 'anarchique': 1, 'inflationnistes': 1, 'échapper': 1, 'conduisant': 1, 'éviction': 1, 'mesurée': 1, 'contournements': 1, 'appauvrissent': 1, 'agrandissent': 1, 'concentrent': 1, 'paître': 1, 'coteau': 1, 'inaccessible': 1, 'toits': 1, 'excellemment': 1, 'entravent': 1, 'entendiez': 1, 'cultivateur': 1, 'gêné': 1, 'user': 1, 'jouir': 1, 'labeur': 1, 'labourent': 1, 'revalorisés': 1, 'lancinante': 1, 'aborderont': 1, 'bordelais': 1, 'fournirai': 1, 'barrières': 1, 'cadenasser': 1, 'rassuré': 1, 'opposerons': 1, 'disette': 1, 'consécutive': 1, 'réaménagé': 1, 'pétrolière': 1, 'remembrements': 1, 'haies': 1, 'drainés': 1, 'irrigués': 1, 'supprimées': 1, 'rectifiés': 1, 'rendements': 1, 'engrais': 1, 'pollutions': 1, 'insecticide': 1, 'oiseau': 1, 'coccinelle': 1, 'grenouille': 1, 'loge': 1, 'fossés': 1, 'pétrole': 1, 'rasés': 1, 'comblés': 1, 'désespérer': 1, 'dame': 1, 'comportait': 1, 'questionnement': 1, 'pressantes': 1, 'réelles': 1, 'localisation': 1, 'conditionnalité': 1, 'paysagères': 1, 'suggérais': 1, 'faisiez': 1, 'rectifier': 1, 'objection': 1, 'Évoquant': 1, 'laisserions': 1, 'ébranlé': 1, 'achetés': 1, 'Remarquez': 1, 'toucheront': 1, 'remède': 1, 'SCI': 1, 'GFA': 1, 'préservent': 1, 'superficies': 1, 'fortunes': 1, 'détenant': 1, 'relativisée': 1, 'ignorés': 1, 'morales': 1, 'inaperçu': 1, 'résulte': 1, 'autorisation': 1, 'enterré': 1, 'Collectif': 1, 'coordonnés': 1, 'étendue': 1, 'cultivés': 1, 'Blé': 1, 'colza': 1, 'orge': 1, 'maïs': 1, 'maraîchère': 1, 'fruitière': 1, 'prédominait': 1, 'Carma': 1, 'convoité': 1, 'définiront': 1, 'sauvegarder': 1, 'intéresseront': 1, 'banlieue': 1, 'connaisse': 1, 'déception': 1, 'voyaient': 1, 'génératrices': 1, 'littorale': 1, 'agricultures': 1, 'facilitation': 1, 'reposeraient': 1, 'prévisionnel': 1, 'intrafamiliales': 1, 'déviation': 1, 'portage': 1, 'Pyrénées': 1, 'périodiquement': 1, 'déstocker': 1, 'détériorer': 1, 'emprunt': 1, 'avérer': 1, 'Pourrait': 1, 'transférer': 1, 'ponction': 1, 'pair': 1, 'empiler': 1, 'échelons': 1, 'réponds': 1, 'coconstruit': 1, 'soumets': 1, 'négoce': 1, 'ajoutée': 1, 'maillage': 1, 'successions': 1, 'donations': 1, 'incités': 1, 'morcellement': 1, 'recueillir': 1, 'exonérer': 1, 'efficient': 1, 'démembrés': 1, 'quatrièmement': 1, 'incitative': 1, 'groupements': 1, 'étaler': 1, 'imposition': 1, 'values': 1, 'inclue': 1, 'évoquons': 1, 'formulez': 1, 'abritez': 1, 'déçue': 1, 'adressions': 1, 'champagne': 1, 'morcelées': 1, 'exploitées': 1, 'désolée': 1, 'éloge': 1, 'pointait': 1, 'communément': 1, 'substitution': 1, 'initiales': 1, 'remembrement': 1, '45': 1, 'résidences': 1, 'fixation': 1, 'hésitent': 1, 'modérer': 1, 'compliments': 1, 'reproches': 1, 'varient': 1, 'encadrées': 1, 'améliorent': 1, 'angulaire': 1, 'adoptant': 1, 'SCOT': 1, 'PLUI': 1, 'PLU': 1, 'Gironde': 1, 'trame': 1, 'pourpre': 1, 'trames': 1, 'bleues': 1, 'combler': 1, 'rationaliser': 1, 'périmètres': 1, 'appellation': 1, 'compensée': 1, 'inexistants': 1, 'inopérants': 1, 'fonctionnelles': 1, 'acceptabilité': 1, 'pourriez': 1, 'proximités': 1, 'saisissons': 1, 'admets': 1, 'pourrez': 1, 'recoupe': 1, 'grignoté': 1, 'Attention': 1, 'cabinet': 1, 'écouterai': 1, 'approbation': 1, 'emblée': 1, 'consolidée': 1, 'Globalement': 1, 'mixtes': 1, 'perfectible': 1, 'amélioré': 1, 'exploitent': 1, 'ajouté': 1, 'vivions': 1, 'comprenons': 1, 'dévoilé': 1, 'Wargon': 1, 'Savoie': 1, 'nomment': 1, 'présenterait': 1, 'bonifiés': 1, 'fléchés': 1, 'respectueuses': 1, 'identifie': 1, 'tardant': 1, 'évaluée': 1, 'contour': 1, 'appelant': 1, 'sobriété': 1, 'tribunes': 1, 'prône': 1, 'antérieurs': 1, 'inexorablement': 1, 'stades': 1, 'divisée': 1, 'repartie': 1, 'Stratégie': 1, 'estimait': 1, 'nécessiterait': 1, 'brute': 1, 'ouvrages': 1, 'escomptés': 1, 'régulateurs': 1, 'inexorable': 1, 'Ain': 1, 'valdo': 1, 'genevois': 1, 'entraîné': 1, 'parvenons': 1, 'traitant': 1, 'maîtres': 1, 'étayer': 1, 'Orne': 1, 'polyculture': 1, 'prédominent': 1, 'ouest': 1, 'laitière': 1, 'céréales': 1, 'SCEA': 1, 'monoculture': 1, 'méthanisation': 1, 'laitières': 1, 'haras': 1, 'chevaux': 1, 'vendue': 1, 'décemment': 1, 'encouragée': 1, 'incompétentes': 1, 'partiels': 1, 'suffira': 1, 'assignée': 1, 'restitution': 1, 'livrerai': 1, 'valident': 1, 'engagions': 1, 'mèneraient': 1, 'recensés': 1, 'Mutualité': 1, '160': 1, 'varie': 1, 'reprennent': 1, 'bouter': 1, 'égalitaire': 1, 'Jugez': 1, 'estimez': 1, 'agrandissements': 1, 'contrôlant': 1, 'affirmative': 1, 'répertoire': 1, 'sillonnera': 1, 'rémunèrent': 1, 'réalisent': 1, 'sottises': 1, 'abordions': 1, 'ensembles': 1, 'effectuez': 1, 'préparée': 1, 'éventualité': 1, 'déciderait': 1, 'unilatéralement': 1, 'ratifié': 1, 'Ndiaye': 1, 'formulaire': 1, 'normandes': 1, 'montons': 1, 'Commence': 1, 'EGalim': 1, 'poulaillers': 1, 'élevages': 1, 'interdisions': 1, 'doutons': 1, 'continueraient': 1, 'poulets': 1, 'cage': 1, 'indiquera': 1, 'achèteront': 1, 'carné': 1, 'poulet': 1, 'abattu': 1, 'abattoir': 1, 'consommés': 1, 'pires': 1, 'Irréversible': 1, 'primeur': 1, 'castration': 1, 'porcelets': 1, 'dérogation': 1, 'choqués': 1, 'rituel': 1, 'rouvrir': 1, 'mômes': 1, 'indiquent': 1, 'animale': 1, 'exclusif': 1, 'ovins': 1, 'caprins': 1, 'bovins': 1, 'soignent': 1, 'antibiorésistance': 1, 'sacs': 1, 'paniers': 1, 'malle': 1, 'billet': 1, 'Pareil': 1, 'compétent': 1, 'Maritimes': 1, 'Interdiction': 1, 'F2': 1, 'jardin': 1, 'euthanasiés': 1, 'SPA': 1, 'Max': 1, 'GUAZZINI': 1, 'dernièrement': 1, 'disques': 1, 'Bardot': 1, '135': 1, 'saviez': 1, 'trucs': 1, 'dingue': 1, 'serpents': 1, 'crocodiles': 1, 'dromadaires': 1, 'faméliques': 1, 'truc': 1, 'bidule': 1, 'bientraitance': 1, 'cirques': 1, 'contrôlés': 1, 'papy': 1, 'mamie': 1, 'emmène': 1, 'corrida': 1, 'dépens': 1, 'traditionnelle': 1, 'taureaux': 1, 'surveillé': 1, 'choquant': 1, 'autorisé': 1, 'changerait': 1, 'bagarrer': 1, 'honte': 1, 'empêcheraient': 1, 'cohabitation': 1, 'pêchés': 1, 'transformés': 1, 'Capécure': 1, 'bagarrons': 1, 'pêcheries': 1, 'flotte': 1, 'régénération': 1, 'acceptons': 1, 'Kiss': 1, 'Cool': 1, 'piquer': 1, 'combattons': 1, 'évoquions': 1, 'vertueuses': 1, 'mangeront': 1, 'Edouard': 1, 'PHILIPPE': 1, 'RIESTER': 1, 'respecterai': 1, 'démissionner': 1, 'demanderont': 1, 'hop': 1, 'fixée': 1, 'LEMOYNE': 1, 'coquin': 1, 'successeur': 1, 'deviens': 1, 'ELCO': 1, 'Enseignements': 1, 'réalisés': 1, 'ostraciser': 1, 'musulmane': 1, 'vergogne': 1, 'Griveaux': 1, 'rigoler': 1, 'relaient': 1, 'législation': 1, 'livrent': 1, 'insuffisamment': 1, 'délits': 1, 'référé': 1, 'tirent': 1, 'déséquilibrée': 1, 'discutent': 1, 'répartit': 1, 'traduis': 1, 'demandée': 1, 'diffuseurs': 1, 'profitent': 1, 'télécommunications': 1, 'conservées': 1, 'Conservées': 1, 'ballet': 1, 'accompagnera': 1, 'reconvertissent': 1, 'danseur': 1, 'épanouissent': 1, 'basta': 1, 'actives': 1, 'variables': 1, 'accumulées': 1, 'épongées': 1, 'opéra': 1, 'rayonne': 1, 'Présidentes': 1, 'Amis': 1, 'demandait': 1, 'Valéry': 1, 'Petite': 1, 'mythes': 1, 'matériel': 1, 'fonctionnel': 1, 'harmonie': 1, 'couleurs': 1, 'commandent': 1, 'Créer': 1, 'attribue': 1, 'John': 1, 'Steinbeck': 1, 'jockey': 1, 'embrassé': 1, 'chèque': 1, 'nomination': 1, 'déplacé': 1, 'éclat': 1, 'ignorer': 1, 'Quelques': 1, 'Noël': 1, 'Corbin': 1, 'Céline': 1, 'Roux': 1, 'Etienne': 1, 'nourris': 1, 'suffisent': 1, 'compositrice': 1, 'sculpteur': 1, 'crèche': 1, 'peintre': 1, 'mépris': 1, 'poète': 1, 'sculpteurs': 1, 'photographes': 1, 'dessinateurs': 1, 'modifiées': 1, 'simplifiera': 1, 'collection': 1, 'volontaristes': 1, 'entrera': 1, 'suscitées': 1, 'variabilité': 1, 'lissage': 1, 'Sofia': 1, 'renvoyant': 1, 'IRCEC': 1, 'autonomes': 1, 'constituées': 1, 'salariaux': 1, 'AGESSA': 1, 'Artistes': 1, 'clore': 1, 'découvrent': 1, 'structurellement': 1, 'déplore': 1, 'carences': 1, 'manquements': 1, 'engendrent': 1, 'incitées': 1, 'affilier': 1, 'relances': 1, 'espéré': 1, 'régularisation': 1, 'remédié': 1, 'transférant': 1, 'recouvrement': 1, 'Urssaf': 1, 'affiliant': 1, 'ignore': 1, 'désarroi': 1, 'traitera': 1, 'suites': 1, 'apportées': 1, 'entretiendrai': 1, 'déséquilibré': 1, 'génèrent': 1, 'proportionnelle': 1, 'consécration': 1, 'transposées': 1, 'dépendant': 1, 'intégrera': 1, 'reddition': 1, 'compositeur': 1, 'interprète': 1, 'écoutée': 1, 'résiliation': 1, 'introduira': 1, 'réajustement': 1, 'convenue': 1, 'exagérément': 1, 'tirés': 1, 'montage': 1, 'cut': 1, 'épineuse': 1, 'chaines': 1, 'générer': 1, 'répartir': 1, 'matérielles': 1, 'diffuseur': 1, 'questionnées': 1, 'littéraire': 1, 'CSPLA': 1, 'prononcera': 1, 'Mieux': 1, 'Fémis': 1, 'enrichissement': 1, 'cursus': 1, 'modules': 1, 'professionnalisation': 1, 'appliqués': 1, 'festival': 1, '1M': 1, '5M': 1, 'disposera': 1, 'Plastiques': 1, 'dramatiques': 1, 'chorégraphes': 1, 'Danse': 1, 'Cinéma': 1, 'procédera': 1, 'subordonner': 1, 'minimal': 1, 'écriture': 1, 'recommandation': 1, 'Palais': 1, 'Emma': 1, 'Lavigne': 1, 'conditionné': 1, 'Directions': 1, 'conditionnées': 1, 'Professions': 1, 'Visuels': 1, 'CNPAV': 1, 'neuvième': 1, 'lectures': 1, 'enrichissent': 1, 'densifier': 1, 'engageront': 1, 'journalier': 1, 'éditeurs': 1, 'libraires': 1, 'invitent': 1, 'dédicace': 1, 'incontestable': 1, 'organe': 1, 'appuiera': 1, 'varier': 1, 'semblera': 1, 'écoutées': 1, 'pérennes': 1, 'Compte': 1, 'désignation': 1, 'Nombreux': 1, 'déconcentrés': 1, 'familier': 1, 'adéquates': 1, 'facilitateurs': 1, 'DGMIC': 1, 'conserveront': 1, 'assureront': 1, 'garantisse': 1, 'trouverait': 1, 'condamnée': 1, 'dilution': 1, 'inefficacité': 1, 'pilotera': 1, 'coordonnera': 1, 'expertises': 1, 'nommerai': 1, 'Cabinet': 1, 'fédérer': 1, 'construira': 1, 'sensibilisé': 1, 'coordonnateur': 1, 'rencontrées': 1, 'interface': 1, 'prorogation': 1, 'modulation': 1, 'restons': 1, 'perdureraient': 1, 'chiffrées': 1, 'éparses': 1, 'exhaustives': 1, 'fiables': 1, 'Disposer': 1, 'sociologique': 1, 'baromètre': 1, 'sexe': 1, 'prospective': 1, 'DEPS': 1, 'fondés': 1, 'MDA': 1, 'ACOSS': 1, '260': 1, 'bouleversé': 1, 'restés': 1, 'arriverai': 1, 'BOURNAZEL': 1, 'remplace': 1, 'Parisiennes': 1, 'réfléchi': 1, 'divulguer': 1, 'sexuel': 1, 'répréhensible': 1, 'urgente': 1, 'désinformations': 1, 'poursuites': 1, 'relayés': 1, 'relaie': 1, 'pareil': 1, 'libérée': 1, 'notoriété': 1, 'censure': 1, 'bloquaient': 1, 'abstraction': 1, 'accompagnements': 1, 'Adèle': 1, 'HAENEL': 1, 'MONNIER': 1, 'enverront': 1, 'Vanessa': 1, 'SPRINGORA': 1, 'Consentement': 1, 'agressée': 1, 'harcelée': 1, 'estimant': 1, 'arbitraires': 1, 'solliciter': 1, 'pédocriminalité': 1, 'précarisée': 1, 'RACINE': 1, 'éparse': 1, 'Début': 1, '47ème': 1, 'Festival': 1, '9ème': 1, 'indivisible': 1, 'posant': 1, 'parascolaires': 1, 'sportives': 1, 'replie': 1, 'Trappes': 1, 'phon': 1, 'entraves': 1, 'construisait': 1, 'salafistes': 1, 'surveillait': 1, 'surveillés': 1, 'répandu': 1, 'prêchent': 1, 'animent': 1, 'détournés': 1, 'couleur': 1, 'ramadan': 1, 'professent': 1, 'radicalisé': 1, 'followers': 1, 'Barack': 1, 'OBAMA': 1, 'TRUMP': 1, 'veillé': 1, 'rapprochent': 1, 'désintéresser': 1, 'discrète': 1, 'éclairages': 1, 'inspirer': 1, 'correspondait': 1, 'carence': 1, 'déterminisme': 1, 'excessif': 1, 'traductions': 1, 'préconisations': 1, 'séparatistes': 1, 'effondrés': 1, 'revendicatif': 1, 'enlèverais': 1, 'Sports': 1, 'souhaitaient': 1, 'chaleureux': 1, 'valorisée': 1, 'Sentiment': 1, 'mélangent': 1, 'déforme': 1, 'simplisme': 1, 'circulez': 1, 'soulagera': 1, 'simplistes': 1, 'Ni': 1, 'laïque': 1, 'républicains': 1, 'civilité': 1, 'égale': 1, 'respectées': 1, 'enfreindre': 1, 'quiétude': 1, 'justification': 1, 'montrées': 1, 'négociable': 1, 'appartenances': 1, 'croyances': 1, 'serrer': 1, 'soigné': 1, 'éduqué': 1, 'déscolarisation': 1, 'croyance': 1, 'virginité': 1, 'communautariste': 1, 'contreviennent': 1, 'règlements': 1, 'ambiguë': 1, 'démissionné': 1, 'sportif': 1, 'méritocratie': 1, 'stigmatisé': 1, 'stigmatisés': 1, 'stages': 1, 'détournant': 1, 'manipulant': 1, 'représentations': 1, 'hystérisant': 1, 'éminent': 1, 'Jordan': 1, 'déclinés': 1, 'dédoublant': 1, 'CP': 1, 'CE1': 1, 'représentante': 1, 'vertement': 1, 'fantasmes': 1, 'brigadier': 1, 'quantitative': 1, 'tambours': 1, 'trompettes': 1, 'coordinateur': 1, 'Rose': 1, 'mouvances': 1, 'diligentée': 1, 'instruits': 1, 'procureur': 1, 'serrée': 1, 'méthodique': 1, 'boisson': 1, 'différenciant': 1, 'systématiser': 1, 'inspectrice': 1, 'italien': 1, 'ignorent': 1, 'facultatifs': 1, 'CM1': 1, 'marginal': 1, 'hystérisent': 1, 'Rhin': 1, 'originaires': 1, 'Ankara': 1, 'assurions': 1, 'ouvrirons': 1, 'financerons': 1, 'enseignés': 1, 'trouvée': 1, 'maîtrisant': 1, 'binationaux': 1, 'déstabilisations': 1, 'An': 1, 'Nour': 1, 'coranique': 1, 'immiscer': 1, 'finalisée': 1, 'prédique': 1, 'hérité': 1, 'importons': 1, 'envoient': 1, 'officier': 1, 'rencontrons': 1, 'Ramadan': 1, 'imamat': 1, 'autoproclamés': 1, 'conformer': 1, 'CFCM': 1, 'cultuelle': 1, 'tirerons': 1, 'mosquées': 1, 'créerons': 1, 'affranchis': 1, 'amalgames': 1, 'confusions': 1, 'complétude': 1, 'rassurait': 1, 'humiliait': 1, 'sports': 1, 'clan': 1, 'fraternellement': 1, 'stigmatise': 1, 'cabre': 1, 'céderai': 1, 'vaste': 1, 'Occident': 1, 'émergent': 1, 'voisinages': 1, 'démographiquement': 1, 'reconsidération': 1, 'convainc': 1, 'conforte': 1, 'revivre': 1, 'cercles': 1, 'arrêterai': 1, 'méditerranéenne': 1, 'retrouvais': 1, 'man': 1, 'you': 1, 'know': 1, 'No': 1, 'this': 1, 'between': 1, 'countries': 1, 'remember': 1, 'several': 1, 'approaches': 1, 'by': 1, 'Germans': 1, 'Joschka': 1, 'great': 1, 'speech': 1, 'We': 1, 'mean': 1, 'first': 1, 'level': 1, 'worked': 1, 'very': 1, 'hard': 1, 'during': 1, 'last': 1, 'half': 1, 'FCAS': 1, 'projects': 1, 'do': 1, 'thank': 1, 'ministers': 1, 'present': 1, 'here': 1, 'Let': 1, 'say': 1, 'let': 1, 'make': 1, 'aircraft': 1, 'common': 1, 'Germany': 1, 'people': 1, 'would': 1, 'said': 1, 'it': 1, 'It': 1, 'happening': 1, 'progressing': 1, 'So': 1, 'approach': 1, 'series': 1, 'universities': 1, 'defense': 1, 'refer': 1, 'mark': 1, 'now': 1, 'magnitude': 1, 'answer': 1, 'speediness': 1, 'And': 1, 'challenge': 1, 'us': 1, 'ability': 1, 'address': 1, 'core': 1, 'grec': 1, 'Von': 1, 'inquiètent': 1, 'défendra': 1, '06': 1, '08': 1, 'rebates': 1, 'visibilités': 1, 'bougeant': 1, 'financent': 1, 'saxons': 1, 'contraction': 1, 'allouée': 1, 'ajustant': 1, 'ajusté': 1, 'privatisations': 1, 'forcées': 1, 'ajustons': 1, 'capacitaire': 1, 'MGCS': 1, 'formidables': 1, 'désinvesti': 1, 'shérif': 1, 'Obama': 1, 'repositionnement': 1, 'repositionner': 1, 'junior': 1, 'partner': 1, 'envahis': 1, 'schématise': 1, 'repensons': 1, 'détailler': 1, 'rouges': 1, 'corrigé': 1, 'sentis': 1, 'accumulé': 1, 'embrassons': 1, 'brutaux': 1, 'précipiter': 1, 'Choix': 1, 'cède': 1, 'multiplie': 1, 'libérations': 1, 'prisonniers': 1, 'chausse': 1, 'trappes': 1, 'extérieurs': 1, 'Idlib': 1, 'documentent': 1, 'armada': 1, 'stoppé': 1, 'maximisé': 1, 'stand': 1, 'alone': 1, 'Compliqué': 1, 'déclinante': 1, 'projetée': 1, 'culturellement': 1, 'bâtit': 1, 'corrects': 1, 'intergouvernementale': 1, 'structurée': 1, 'Sandhurst': 1, 'rentrerai': 1, 'irait': 1, 'divisés': 1, 'spontanés': 1, 'assignations': 1, 'agressif': 1, 'cherchera': 1, 'méfier': 1, 'intrusifs': 1, 'oecuménique': 1, 'médiatico': 1, 'deep': 1, 'manipulent': 1, 'pénètrent': 1, 'traçabilité': 1, 'hyper': 1, 'médiatisés': 1, 'datent': 1, 'vulnérabilités': 1, 'rapidités': 1, 'réciproquement': 1, 'structurés': 1, 'infrastructure': 1, 'comptoirs': 1, 'rattrapera': 1, 'dépassera': 1, 'cacher': 1, 'funeste': 1, 'découpler': 1, 'bureaucratiques': 1, 'réversible': 1, 'bureaucratique': 1, 'laïc': 1, 'préférais': 1, 'Téléologique': 1, 'écrite': 1, 'levée': 1, 'préconditions': 1, 'Vucic': 1, 'écris': 1, 'rejoigne': 1, 'impatiente': 1, 'realpolitik': 1, 'moque': 1, 'tartine': 1, 'quantité': 1, 'implicite': 1, 'homogénéité': 1, 'médiéval': 1, 'translatio': 1, 'imperii': 1, 'hégémoniques': 1, 'Ca': 1, 'préserve': 1, 'conflictuel': 1, 'suffisante': 1, 'fonctionnons': 1, 'mutuel': 1, 'Umberto': 1, 'sonorités': 1, 'espéranto': 1, 'pratiquons': 1, 'intraduisibles': 1, 'accomplissement': 1, 'convergé': 1, 'Grottu': 1, 'poursuivions': 1, 'glacier': 1, 'irréfutable': 1, 'nu': 1, 'degrés': 1, 'mesurons': 1, 'Gervais': 1, 'vallée': 1, 'chauffage': 1, 'documentation': 1, 'réchauffements': 1, 'sauvages': 1, 'extinction': 1, 'naturel': 1, 'inattendues': 1, 'survie': 1, 'habiller': 1, 'réchauffer': 1, 'habités': 1, 'habitable': 1, 'utilitaristes': 1, 'vécue': 1, 'émotionnelle': 1, 'relationnelle': 1, 'enfermés': 1, 'intrinsèque': 1, 'poussons': 1, 'plancher': 1, 'GREEN': 1, 'DEAL': 1, 'présidait': 1, 'éliminer': 1, 'refroidissement': 1, 'climatisations': 1, 'réchauffe': 1, 'climatiseurs': 1, 'indiens': 1, 'vestimentaire': 1, 'ignorée': 1, 'compléterais': 1, 'leaders': 1, 'Biodiversity': 1, 'foulée': 1, 'latine': 1, 'tropicales': 1, 'insuffisants': 1, 'inaboutis': 1, 'réunissant': 1, 'Gouvernements': 1, 'coraux': 1, 'autochtones': 1, 'phocéenne': 1, 'océans': 1, 'lister': 1, 'reflètent': 1, 'York': 1, 'abrite': 1, 'Hexagone': 1, 'Outremer': 1, 'nocives': 1, 'Montagne': 1, 'XXIè': 1, 'évidente': 1, 'alternatifs': 1, 'compensent': 1, 'urbanité': 1, 'étendant': 1, 'étend': 1, 'rurbanisation': 1, 'étale': 1, 'dormir': 1, 'maximise': 1, 'rentré': 1, 'occupées': 1, 'éteint': 1, 'dortoir': 1, 'artificialisé': 1, 'glissements': 1, 'érosions': 1, 'réaménager': 1, 'réapproprier': 1, 'bourg': 1, 'resserre': 1, 'réapprentissage': 1, 'dessiner': 1, 'regagner': 1, 'accessibles': 1, 'artificialiser': 1, 'contraires': 1, 'holistique': 1, 'sanctuaires': 1, 'coffres': 1, 'Laure': 1, 'CATTELOT': 1, 'protectrices': 1, 'bleus': 1, 'récifs': 1, 'recommencé': 1, 'Conservatoire': 1, 'cheval': 1, 'Bourgogne': 1, 'Glorieuses': 1, 'australes': 1, 'Crozet': 1, 'Amsterdam': 1, 'Kerguelen': 1, 'Ventoux': 1, 'Doux': 1, 'Horloger': 1, 'Baie': 1, 'Somme': 1, 'Picardie': 1, 'Corbières': 1, 'Fenouillèdes': 1, 'Tainui': 1, 'Atea': 1, 'parcourir': 1, 'instaurée': 1, 'inadaptés': 1, 'montagnarde': 1, 'excès': 1, 'complémentarité': 1, 'Aménager': 1, 'appauvrissement': 1, 'réconcilions': 1, 'vêlage': 1, 'états': 1, 'EGALIM': 1, 'reconquêtes': 1, 'Porc': 1, 'lait': 1, 'AOC': 1, 'AOP': 1, 'remontent': 1, 'viande': 1, 'bovine': 1, 'cour': 1, 'réduisant': 1, 'viendraient': 1, 'maintenue': 1, 'fraises': 1, 'serres': 1, 'importent': 1, 'saisonnalité': 1, 'néonicotinoïdes': 1, 'pollinisateurs': 1, 'abeilles': 1, 'expérimentales': 1, 'certifiées': 1, 'circuit': 1, 'protéines': 1, 'végétales': 1, 'cachés': 1, 'déforestation': 1, 'soja': 1, 'brésilien': 1, 'pourvoir': 1, 'estiment': 1, 'disparus': 1, 'règne': 1, 'gaspillage': 1, 'scandées': 1, 'vaisselle': 1, 'cotons': 1, 'tiges': 1, 'commercialisés': 1, 'pailles': 1, 'jetables': 1, 'polystyrènes': 1, 'expansés': 1, 'subiront': 1, 'scansion': 1, 'pratico': 1, 'recyclables': 1, 'polluer': 1, 'rejetées': 1, 'utilisera': 1, 'contribuaient': 1, 'collectées': 1, 'triées': 1, 'transformées': 1, 'polluants': 1, 'déchet': 1, 'bouteille': 1, 'carton': 1, 'réduisons': 1, 'recyclable': 1, 'Passer': 1, 'réutilisable': 1, 'réinvention': 1, 'quinquennales': 1, 'prévoyant': 1, 'réemploi': 1, 'documente': 1, 'évalue': 1, 'déclinaison': 1, 'assisté': 1, 'trouvées': 1, 'réplicables': 1, 'inventivité': 1, 'Restaurer': 1, 'concourent': 1, 'généralisation': 1, 'délégués': 1, 'forge': 1, 'testée': 1, 'Office': 1, 'rêvé': 1, 'totales': 1, 'actionnant': 1, 'forestiers': 1, 'filer': 1, 'métaphore': 1, 'accompagnateurs': 1, 'contextes': 1, 'discernement': 1, 'pédagogues': 1, 'missionnaire': 1, 'promus': 1, 'promotions': 1, 'forgée': 1, 'rimer': 1, 'lenteur': 1, 'PAPI': 1, 'célérité': 1, 'embarquer': 1, 'sillage': 1, 'approvisionnements': 1, 'convertir': 1, 'lignée': 1, 'marchions': 1, 'disparaisse': 1, 'inamovibles': 1, 'aventuriers': 1, 'ressors': 1, 'fichu': 1, 'habiter': 1, 'matinée': 1, 'Élysée': 1, 'triennal': 1, 'relief': 1, 'fondatrice': 1, 'Loi': 1, 'legs': 1, 'rendons': 1, 'souviennent': 1, 'obsession': 1, 'attarderai': 1, 'irréversibles': 1, 'Osons': 1, 'altérité': 1, 'extériorité': 1, 'vulnérables': 1, 'affirmons': 1, 'épargné': 1, 'faiblesses': 1, 'bêtise': 1, 'enthousiasmante': 1, 'rendais': 1, 'transformateurs': 1, 'tripartite': 1, 'traquant': 1, 'GAULLE': 1, 'Down': 1, 'morsure': 1, 'extraire': 1, 'pesanteurs': 1, 'Handicap': 1, 'redonne': 1, 'acronymes': 1, 'AESH': 1, 'Former': 1, 'sécurisés': 1, 'Payé': 1, 'abandonnent': 1, 'aperçu': 1, 'stabilisant': 1, 'nouent': 1, 'module': 1, 'initiale': 1, 'automatisme': 1, 'échelles': 1, 'lâcher': 1, 'diagnostiquée': 1, 'tardivement': 1, 'autistes': 1, 'présentant': 1, 'Claire': 1, 'diagnostics': 1, 'psychologues': 1, 'ergothérapeutes': 1, 'psychomotriciens': 1, 'arrivait': 1, 'diagnostique': 1, 'diagnostiqué': 1, 'indices': 1, 'primaire': 1, 'diagnostiquées': 1, 'dyslexie': 1, 'dyspraxie': 1, 'aggravent': 1, 'détection': 1, 'désemparées': 1, 'continuités': 1, 'ubuesque': 1, 'atroce': 1, 'consistait': 1, 'courriers': 1, 'Jérémie': 1, 'BOROY': 1, 'ouvrage': 1, 'maman': 1, 'photocopies': 1, 'maquis': 1, 'certificat': 1, 'gadget': 1, '360': 1, 'scolariser': 1, 'organisera': 1, 'dispatché': 1, 'BUSSEREAU': 1, 'DPH': 1, 'DASEN': 1, 'champion': 1, 'acronyme': 1, 'recordman': 1, 'cocher': 1, 'débrouillent': 1, 'définira': 1, 'Avancée': 1, 'aveugles': 1, 'accordés': 1, 'marie': 1, 'départementale': 1, 'instaurés': 1, 'balle': 1, 'cumule': 1, 'diluer': 1, 'fixais': 1, 'endiguée': 1, 'ralentit': 1, 'bah': 1, 'alourdi': 1, 'innovant': 1, 'mobilisions': 1, 'passerelles': 1, 'sas': 1, 'pacser': 1, 'divorcer': 1, 'dématérialisé': 1, 'accroissait': 1, 'inaccessibilité': 1, 'ESAT': 1, 'inclusifs': 1, 'GUILLUY': 1, 'solennel': 1, 'réalistes': 1, 'targuent': 1, 'lanceur': 1, 'inclusivité': 1, 'audit': 1, 'renoncent': 1, 'laver': 1, 'simplifie': 1, 'descendu': 1, 'viviez': 1, 'estrade': 1, 'valent': 1, 'revenue': 1, 'reprécisé': 1, 'concluant': 1, 'ouvriront': 1, 'gèrent': 1, 'ASE': 1, 'mouraient': 1, 'EHPAD': 1, 'structurante': 1, 'existaient': 1, 'détournent': 1, 'consisteraient': 1, 'accélère': 1, 'Jocelyn': 1, 'Eugénie': 1, 'Make': 1, 'org': 1, 'enfouie': 1, 'fraternelle': 1, 'Chef': 1, 'major': 1, 'Etudes': 1, 'Militaires': 1, 'prestigieuse': 1, 'paraître': 1, 'Vème': 1, '1959': 1, 'appelés': 1, 'hauts': 1, 'continuation': 1, 'fréquentation': 1, 'recommandée': 1, 'dialectique': 1, 'Amin': 1, 'Maalouf': 1, 'adepte': 1, 'vaciller': 1, 'faiblir': 1, 'éteindre': 1, 'regain': 1, 'accéléré': 1, 'organisent': 1, 'ébranlent': 1, 'rapprochés': 1, 'ennemis': 1, 'califat': 1, 'alimentés': 1, 'terreau': 1, 'faillis': 1, 'failles': 1, 'matérialisant': 1, 'naïf': 1, 'inconséquent': 1, 'prégnante': 1, 'focalisons': 1, 'antiterroriste': 1, 'immatériels': 1, 'interpénètrent': 1, 'complexifient': 1, 'redeviennent': 1, 'dispersion': 1, 'simultanéité': 1, 'étendent': 1, 'interétatiques': 1, 'désinhibée': 1, 'prévisibles': 1, 'avéré': 1, 'structurera': 1, 'grises': 1, 'asymétrie': 1, 'hybridité': 1, 'nuisance': 1, 'dégénérer': 1, 'ignorées': 1, 'réarmement': 1, 'multipolarité': 1, 'prévalait': 1, 'Contrairement': 1, 'optent': 1, 'opaques': 1, 'agressives': 1, 'dissuasifs': 1, 'instables': 1, 'brisé': 1, 'Malaisie': 1, 'décourager': 1, 'agresseurs': 1, 'durcissement': 1, 'creux': 1, 'introduction': 1, 'primeraient': 1, 'draper': 1, 'façade': 1, 'violer': 1, 'attitudes': 1, 'Pouvons': 1, 'coupable': 1, 'stabilisateur': 1, 'aspirent': 1, 'exposée': 1, 'difficilement': 1, 'fissuré': 1, 'déconstruit': 1, 'cantonner': 1, 'Redevenir': 1, 'perturbateur': 1, 'arbitre': 1, 'biologie': 1, 'synthèse': 1, 'Porteur': 1, 'innerve': 1, 'Devenu': 1, 'exacerbe': 1, 'supériorité': 1, 'autoritarisme': 1, 'mettront': 1, 'tiraillées': 1, 'exhaustivité': 1, 'véracité': 1, 'dérapage': 1, 'déconfliction': 1, 'transparents': 1, 'adieu': 1, 'Aron': 1, 'inter': 1, 'étatiques': 1, 'belligérants': 1, 'Hamilton': 1, 'prohibé': 1, 'syrien': 1, 'illustré': 1, 'imbrication': 1, 'friction': 1, 'préavis': 1, 'airs': 1, 'bombardiers': 1, 'testant': 1, 'déboucher': 1, 'hypothétique': 1, 'réveil': 1, 'expansionniste': 1, 'supposent': 1, 'régis': 1, 'Derrière': 1, 'exclusive': 1, 'repensé': 1, 'rééquilibrée': 1, 'oubliant': 1, 'appris': 1, 'courante': 1, 'conduis': 1, 'fossé': 1, 'accroît': 1, 'étalera': 1, 'entrevoir': 1, 'décris': 1, 'déstabilisateurs': 1, 'impacter': 1, 'protégeaient': 1, 'Trop': 1, 'désarmant': 1, 'suivraient': 1, 'cohérentes': 1, 'réclamer': 1, 'vérifiable': 1, 'VI': 1, 'primauté': 1, '50ème': 1, 'enclenchement': 1, 'Désarmement': 1, 'universalisation': 1, 'vérifié': 1, 'préoccupants': 1, 'trilatéralisation': 1, 'multilatéralisation': 1, 'russo': 1, 'détenus': 1, 'prolongé': 1, 'effondrement': 1, 'élargies': 1, 'enclenchées': 1, 'rassembleraient': 1, 'involontaire': 1, 'amitiés': 1, 'insérée': 1, 'résultant': 1, 'armature': 1, 'amies': 1, 'riveraine': 1, 'entretient': 1, 'navigation': 1, 'golfe': 1, 'méditerranéens': 1, 'asiatique': 1, 'nord': 1, 'dissiper': 1, 'riveraines': 1, 'idéaux': 1, 'convaincue': 1, 'redit': 1, 'inévitablement': 1, 'surprend': 1, 'dissociée': 1, 'diminué': 1, 'sacrifices': 1, 'accumulent': 1, 'montants': 1, 'chargeraient': 1, 'Imaginez': 1, 'Cologne': 1, 'réengagent': 1, 'Assumons': 1, 'Dépensez': 1, 'Prenons': 1, 'trompés': 1, 'confortable': 1, 'prédation': 1, 'savions': 1, 'poussions': 1, 'privatiser': 1, 'Funeste': 1, 'mondialisée': 1, 'interopérabilité': 1, 'numérisés': 1, 'Dépenser': 1, 'parfaits': 1, 'connexion': 1, 'étrange': 1, 'entendus': 1, 'convaincante': 1, 'arrêtée': 1, 'déploie': 1, 'consentirait': 1, 'contraignantes': 1, 'engagerait': 1, 'prérequis': 1, 'Fondement': 1, 'outremers': 1, 'idéaliste': 1, 'accrédité': 1, 'sembler': 1, 'accumulés': 1, 'maintenaient': 1, 'renforçaient': 1, 'sollicitées': 1, 'croissante': 1, 'éloignées': 1, 'dimensionner': 1, 'ciseau': 1, 'croissant': 1, 'lente': 1, 'désirs': 1, 'prononcés': 1, 'perde': 1, 'conflictualités': 1, 'choisissons': 1, 'réactives': 1, 'tournées': 1, 'agression': 1, 'Sentinelle': 1, 'patrouille': 1, 'surplomb': 1, 'silencieuse': 1, 'SNLE': 1, 'Responsable': 1, 'défensive': 1, 'prévisible': 1, 'envisageait': 1, 'configurées': 1, 'méprise': 1, 'avertissement': 1, 'agresseur': 1, 'signifier': 1, 'agitent': 1, 'subissons': 1, 'troublent': 1, 'lointaines': 1, 'océaniques': 1, 'stationnement': 1, 'chaos': 1, 'cyberdéfense': 1, 'spatiale': 1, 'réorganisée': 1, 'commandement': 1, 'rattaché': 1, 'Innovation': 1, 'Défense': 1, 'Terrain': 1, 'exclusives': 1, 'possédant': 1, 'entiers': 1, 'terrestres': 1, 'navales': 1, 'épaulent': 1, 'surprise': 1, 'tester': 1, 'forçant': 1, 'dévoiler': 1, 'voûte': 1, 'miser': 1, 'prémunir': 1, 'stabilisatrices': 1, 'désinhibition': 1, 'doctrinales': 1, 'dirigées': 1, 'réaffirme': 1, 'riposte': 1, 'graduée': 1, 'dissuasif': 1, 'authentiquement': 1, 'inébranlable': 1, 'participeront': 1, 'Seules': 1, '1995': 1, 'imaginaient': 1, 'dixième': 1, 'Pape': 1, 'Hiroshima': 1, 'prohibitionniste': 1, 'raisonnement': 1, 'suffirait': 1, 'raisonnements': 1, 'élimination': 1, 'progressives': 1, 'Faute': 1, 'abolition': 1, 'attaquent': 1, 'cynique': 1, 'tomberai': 1, 'piège': 1, 'déstabilisante': 1, 'renonce': 1, 'dilemmes': 1, 'paradoxes': 1, 'replacer': 1, 'pénétrer': 1, '1968': 1, 'détention': 1, 'confère': 1, 'imperfection': 1, 'réalisme': 1, 'dictatures': 1, 'conserveraient': 1, 'développeraient': 1, 'unilatéral': 1, 'équivaudrait': 1, 'naïfs': 1, 'décrochage': 1, 'adhérera': 1, 'créera': 1, 'paradoxale': 1, 'proférée': 1, 'rationalité': 1, 'dissuasive': 1, 'inhibition': 1, 'circonscrire': 1, 'coercition': 1, 'coercitives': 1, 'Lucidité': 1, 'bouleversaient': 1, 'soubresauts': 1, 'inscrivant': 1, 'Détermination': 1, 'farouchement': 1, 'refondée': 1, 'Alberto': 1, 'Fernández': 1, 'recevant': 1, 'régné': 1, 'Mémoire': 1, 'Buenos': 1, 'Aires': 1, '170ème': 1, 'Général': 1, 'Martín': 1, 'bonnet': 1, 'phrygien': 1, 'armoiries': 1, 'symboles': 1, 'revêtent': 1, 'agendas': 1, 'retrouvant': 1, 'écrivains': 1, 'cuisiniers': 1, 'célébrerons': 1, 'croisée': 1, '2023': 1, 'tenez': 1, 'parlerons': 1, 'Venezuela': 1, 'Bolivie': 1, 'pacifier': 1, 'occupera': 1, 'décliner': 1, 'Consuls': 1, 'Dzien': 1, 'Dobry': 1, 'Bardzo': 1, 'ciesz': 1, 'e': 1, 'jestem': 1, 'dzisiaj': 1, 'z': 1, 'Pa': 1, 'stwem': 1, 'w': 1, 'Krakowie': 1, 'applaudissements': 1, 'pressante': 1, 'risquerai': 1, 'Jagellonne': 1, 'rappeliez': 1, 'Nicolae': 1, 'Copernic': 1, 'Karol': 1, 'Wojtyla': 1, 'pape': 1, 'abrité': 1, 'insigne': 1, 'tresse': 1, 'nouée': 1, 'rois': 1, 'sacrés': 1, 'Stanislas': 1, 'saint': 1, 'chanoine': 1, 'évêque': 1, '1400': 1, 'Ladislas': 1, 'Jagellon': 1, 'inspira': 1, 'UNA': 1, 'Europa': 1, 'retisser': 1, 'indifférente': 1, 'rassemble': 1, 'banalité': 1, 'passionnelles': 1, 'latin': 1, 'slave': 1, 'Francs': 1, 'Sarmates': 1, 'trouvèrent': 1, 'Mickiewicz': 1, 'Juliusz': 1, 'Slowacki': 1, 'Maria': 1, 'Sklodowska': 1, 'Zagajewski': 1, 'fuyant': 1, 'Demandez': 1, 'Lorraine': 1, 'chères': 1, 'destins': 1, 'développèrent': 1, 'espoirs': 1, 'pûmes': 1, 'institué': 1, 'duché': 1, 'Georges': 1, 'honoris': 1, 'causa': 1, 'ardemment': 1, 'Versailles': 1, '1920': 1, 'capitaine': 1, 'répondirent': 1, 'maréchal': 1, 'Pilsudski': 1, 'célébrez': 1, 'détachement': 1, 'défendit': 1, 'Helmut': 1, 'Kohl': 1, 'intangibilité': 1, 'Oder': 1, 'Neisse': 1, 'anonymes': 1, 'versèrent': 1, 'sueur': 1, 'résonnent': 1, '1831': 1, '1863': 1, '1980': 1, 'tyrannies': 1, 'totalitarisme': 1, 'Fayette': 1, '1833': 1, 'Polonaise': 1, 'couvraient': 1, '1981': 1, 'épinglé': 1, 'vestes': 1, 'rappelée': 1, 'indemne': 1, 'essaient': 1, 'adressant': 1, 'nazie': 1, 'balafres': 1, 'camarades': 1, 'nazi': 1, 'XXè': 1, 'Lech': 1, 'Walesa': 1, 'Bronislaw': 1, 'Kuron': 1, 'Michnik': 1, 'aumônier': 1, 'Jerzy': 1, 'Popieluszko': 1, 'Wozniakowski': 1, 'Kornel': 1, 'fissura': 1, 'conquirent': 1, 'reconquérir': 1, 'Molotov': 1, 'Ribbentrop': 1, 'ghetto': 1, 'massacres': 1, 'extermination': 1, 'Majdanek': 1, 'Sobibor': 1, 'Treblinka': 1, 'conquérir': 1, 'déchirements': 1, 'fardeau': 1, '89': 1, 'commençait': 1, 'souffler': 1, 'enrayé': 1, 'plénitude': 1, 'brouillard': 1, 'connut': 1, 'inventif': 1, 'entreprenant': 1, 'épris': 1, 'traditions': 1, 'viscéralement': 1, 'écrasante': 1, 'irréductible': 1, 'Smolensk': 1, 'Patocka': 1, 'Bibo': 1, 'Havel': 1, 'Milan': 1, 'méditation': 1, 'éprouvent': 1, 'penseurs': 1, 'Lemkin': 1, 'falsification': 1, 'réécriture': 1, 'époques': 1, 'effacement': 1, 'repentance': 1, 'historiographiques': 1, 'resurgir': 1, 'fantasmées': 1, 'hongroise': 1, 'réinterpréter': 1, 'fragmentation': 1, 'revisitant': 1, 'révisant': 1, 'éminemment': 1, 'historiographique': 1, 'univoque': 1, 'réemprisonne': 1, 'digérés': 1, 'digérer': 1, 'surgisse': 1, 'renaissance': 1, 'rayonné': 1, 'XVIème': 1, 'XVIIème': 1, 'voyagions': 1, 'réunifier': 1, 'distend': 1, 'conceptualisé': 1, 'bégayer': 1, 'manqué': 1, 'retrouvailles': 1, 'plain': 1, 'balafrée': 1, 'déchirée': 1, 'bordures': 1, 'dilatant': 1, 'géographiquement': 1, 'Mitteleuropa': 1, 'réussissions': 1, 'nourrie': 1, 'imparfaite': 1, 'construite': 1, 'décidant': 1, 'évalué': 1, 'conforté': 1, 'civilisationnelle': 1, 'existentielles': 1, 'Existentielles': 1, 'inauguraux': 1, 'retrouverait': 1, 'structurels': 1, 'coproduite': 1, 'civilisationnel': 1, 'résurgence': 1, 'nationaliste': 1, 'franches': 1, 'aparté': 1, 'défendus': 1, 'répliquons': 1, 'amputer': 1, 'abandonner': 1, 'replongerons': 1, 'aimer': 1, 'patrie': 1, 'renaître': 1, 'exclusifs': 1, 'homogénéisation': 1, 'retomber': 1, 'affres': 1, 'réconciliée': 1, 'singularité': 1, 'Singularité': 1, 'frontispice': 1, 'sociologiques': 1, 'pluralisme': 1, 'oubliées': 1, 'statutaire': 1, 'vieillit': 1, 'verrait': 1, 'vieillissent': 1, 'insidieuse': 1, 'fuite': 1, 'cerveaux': 1, 'vidé': 1, 'imaginez': 1, 'comportés': 1, 'chocs': 1, 'populisme': 1, 'émigrer': 1, 'accabler': 1, 'désescalades': 1, 'fécondité': 1, 'déploiements': 1, 'couverte': 1, 'déchiré': 1, 'régisse': 1, 'hostilité': 1, 'redevenu': 1, 'redevenues': 1, 'interconnexions': 1, 'boutoir': 1, 'géographies': 1, 'occupaient': 1, 'pusillanime': 1, 'gagnerai': 1, 'obsédé': 1, 'battrai': 1, 'invitant': 1, 'réconcilie': 1, 'cathédrales': 1, 'séparatismes': 1, 'promets': 1, 'emmènerait': 1, 'Romain': 1, 'Gary': 1, 'vécut': 1, 'siens': 1, 'poème': 1, 'enseigné': 1, 'Kto': 1, 'ty': 1, 'jestes': 1, 'i': 1, 'europejczyk': 1, 'Jeszcze': 1, 'Polska': 1, 'zginela': 1, 'péri': 1, 'déplaise': 1, 'ralentir': 1, 'fous': 1, 'mentir': 1, 'inouïe': 1, 'Nie': 1, 'bojcie': 1, 'sie': 1, 'Heureux': 1, 'mercis': 1, 'Pieyre': 1, 'Alexandre': 1, 'Anglade': 1, 'Leleux': 1, 'infiltré': 1, 'vestales': 1, 'célébrés': 1, 'tirons': 1, 'amoureuses': 1, 'reconnaissances': 1, 'duchés': 1, 'glorifier': 1, '53': 1, 'fêterons': 1, 'anniversaires': 1, 'estudiantine': 1, 'célébrations': 1, 'Centenaire': 1, 'obscurité': 1, 'décorés': 1, 'sauvé': 1, 'immatriculés': 1, 'consuls': 1, 'honoraires': 1, 'sentant': 1, 'troublais': 1, 'auspices': 1, 'René': 1, 'Goscinny': 1, 'terminale': 1, 'centenaire': 1, 'section': 1, 'parachèvera': 1, 'Saluer': 1, 'impliquent': 1, 'remerciements': 1, 'tâché': 1, 'reculs': 1, 'contrariétés': 1, 'péripétie': 1, 'Caracal': 1, 'expliqués': 1, 'acceptables': 1, 'honorés': 1, 'ralentissaient': 1, 'bascule': 1, 'latence': 1, 'risqueraient': 1, 'épuise': 1, 'caricaturé': 1, 'sien': 1, 'redirai': 1, 'réinclure': 1, 'réfugions': 1, 'caricature': 1, 'pâtit': 1, 'impossibilité': 1, 'poussent': 1, 'naguère': 1, 'péripéties': 1, 'spatiales': 1, 'réengagé': 1, 'rouvert': 1, 'datant': 1, 'assuraient': 1, 'respectait': 1, 'anxiogène': 1, 'fi': 1, 'basculez': 1, 'renchérir': 1, 'soutenant': 1, 'coopérant': 1, 'intermittence': 1, 'Bienkowska': 1, 'concentrations': 1, 'peines': 1, 'fécond': 1, 'redisais': 1, 'dominée': 1, 'vexation': 1, 'imiter': 1, 'irrédentisme': 1, 'irénisme': 1, 'montrons': 1, 'vivrez': 1, 'vivrons': 1, 'jouez': 1, 'Corse': 1, 'Co': 1, 'convivialité': 1, 'paresse': 1, 'Ara': 1, 'Mourad': 1, 'Cachez': 1, 'désespoir': 1, 'amie': 1, 'Line': 1, 'inscrivait': 1, '1984': 1, 'reconnaisse': 1, 'tisse': 1, 'entendions': 1, 'étymologique': 1, 'annonciateurs': 1, 'témoins': 1, 'Jaurès': 1, 'Péguy': 1, 'Dreyfus': 1, 'allée': 1, '1915': 1, 'griffes': 1, 'bourreaux': 1, 'oppresseur': 1, 'inouï': 1, 'dysfonctionner': 1, 'négationnistes': 1, 'dénoncé': 1, 'célébrions': 1, 'justiciers': 1, 'Serge': 1, 'Beate': 1, 'Klarsfeld': 1, 'authentifié': 1, 'télégrammes': 1, 'Ordres': 1, 'publiée': 1, 'anglaise': 1, 'intentionnalité': 1, 'replonger': 1, 'relativisme': 1, 'intentionnalités': 1, 'établies': 1, 'Turc': 1, 'Sèvres': 1, 'expansionnisme': 1, 'écarter': 1, 'fantasmé': 1, 'Rwanda': 1, 'Duclert': 1, 'apercevais': 1, 'distingué': 1, 'contredisent': 1, 'nient': 1, 'insultent': 1, 'dégradant': 1, 'dessinent': 1, 'cartographie': 1, 'magazine': 1, 'scolaires': 1, 'Mémorial': 1, 'Shoah': 1, 'interfère': 1, 'jurisprudence': 1, 'travaillez': 1, 'ouvrables': 1, 'divisent': 1, 'distinguiez': 1, 'accueillons': 1, 'yézidies': 1, 'demandant': 1, 'Personnaz': 1, 'lancerait': 1, 'apprennent': 1, 'prodiguées': 1, 'épicentres': 1, 'irriguent': 1, 'incarnés': 1, 'carrefour': 1, 'découragement': 1, 'inaction': 1, 'primer': 1, 'chercherons': 1, 'désamorcer': 1, 'guident': 1, 'coprésident': 1, 'cristallise': 1, 'enlise': 1, 'utilisables': 1, 'azerbaïdjanais': 1, 'maintient': 1, 'adjacents': 1, 'plaidé': 1, 'permettrais': 1, 'condamneriez': 1, 'hypocrite': 1, 'Cours': 1, 'plaidoirie': 1, 'entités': 1, 'comprendrez': 1, 'plaire': 1, 'sourds': 1, 'déférer': 1, 'témoignage': 1, 'coupées': 1, 'veuille': 1, 'signent': 1, 'pétitions': 1, 'avancerions': 1, 'Croix': 1, 'Rouge': 1, 'cardio': 1, 'vasculaire': 1, 'illustrations': 1, 'séisme': 1, 'commémoré': 1, '31ème': 1, 'brio': 1, 'Jeune': 1, 'endurcie': 1, 'consciente': 1, 'modernité': 1, 'velours': 1, 'pacifique': 1, 'Erevan': 1, 'impressionnés': 1, 'globalisée': 1, 'relancée': 1, 'TUOMO': 1, 'diaspora': 1, 'bouscule': 1, 'affection': 1, 'tressée': 1, 'dîner': 1, 'corne': 1, 'professeur': 1, 'confession': 1, 'assoupis': 1, 'assis': 1, 'revendiqués': 1, 'exclusivité': 1, 'montreront': 1, 'croisements': 1, 'constantes': 1, 'rappelées': 1, 'Chypre': 1, 'condamnant': 1, 'provocations': 1, 'réévoqué': 1, 'navires': 1, 'mercenaires': 1, 'syriens': 1, 'gravissime': 1, 'Sahéliens': 1, 'Preuve': 1, 'avérées': 1, 'impliquera': 1, 'régulières': 1, 'navale': 1, 'réitère': 1, 'convergente': 1, 'Athènes': 1, 'déployant': 1, 'OFPRA': 1, 'reconduire': 1, 'migrants': 1, 'illégaux': 1, 'Schinas': 1, 'dote': 1, 'définissant': 1, 'rendront': 1, 'enrayés': 1, 'minimiser': 1, 'ancré': 1, 'rattache': 1, 'débutera': 1, 'manifestes': 1, 'rende': 1, 'Deal': 1, 'adversité': 1, 'Régional': 1, 'dos': 1, 'allemandes': 1, 'rouler': 1, 'Côté': 1, 'Volkswagen': 1, 'marginalement': 1, 'asiatiques': 1, 'entendez': 1, 'préciseront': 1, 'corrigeront': 1, 'fédéral': 1, 'Länder': 1, 'compétents': 1, 'industrialiser': 1, 'déployons': 1, 'redevenus': 1, 'attirait': 1, 'coûtait': 1, 'investissait': 1, 'réinvestis': 1, 'réinvestissent': 1, 'réembauchés': 1, 'redémarre': 1, 'recrée': 1, 'réembaucher': 1, 'finirai': 1, 'préoccupé': 1, 'catastrophistes': 1, 'consistent': 1, 'répondra': 1, 'félicitations': 1, 'exactes': 1, 'mouvant': 1, 'aisée': 1, 'obéissent': 1, 'employons': 1, 'rivales': 1, 'accomplissant': 1, 'maîtrisé': 1, 'autrefois': 1, 'subsiste': 1, 'illustrent': 1, 'organisateur': 1, 'pouvions': 1, 'coproduction': 1, 'indésirables': 1, 'allégé': 1, 'formalités': 1, 'surviennent': 1, 'Seattle': 1, 'immiscent': 1, 'détruisent': 1, 'tristement': 1, 'apanage': 1, 'jargon': 1, 'propagées': 1, 'systématisées': 1, 'El': 1, 'Khomri': 1, 'prémices': 1, 'casseurs': 1, 'résonance': 1, 'insurrectionnelle': 1, 'éclatés': 1, 'foules': 1, 'dispersent': 1, 'Loire': 1, 'incendier': 1, 'nocturnes': 1, 'escadron': 1, 'Narbonne': 1, 'Aude': 1, 'commando': 1, 'péages': 1, 'connaissions': 1, 'Nombre': 1, 'Requier': 1, 'évacuation': 1, 'surmontée': 1, 'drones': 1, 'judiciarisation': 1, 'désireux': 1, 'radicale': 1, 'Arc': 1, 'Triomphe': 1, 'dégradés': 1, 'systématiques': 1, 'abandonnée': 1, 'encadrent': 1, 'Champs': 1, 'Élysées': 1, 'incendie': 1, 'Fouquet': 1, 'masquent': 1, 'pertinemment': 1, 'disloquer': 1, 'Ligue': 1, 'Amnesty': 1, 'Défenseur': 1, 'abordées': 1, 'rendrons': 1, 'dévoilerons': 1, 'modifierons': 1, 'déroulées': 1, 'encadrons': 1, 'sommations': 1, 'alertes': 1, 'disperser': 1, 'attroupement': 1, 'déplorons': 1, 'provoquées': 1, 'GLI': 1, 'F4': 1, 'explosif': 1, 'GM2L': 1, 'mobiles': 1, 'utiliserons': 1, 'équipés': 1, 'interviendront': 1, 'brigade': 1, 'essuieront': 1, 'jets': 1, 'projectiles': 1, 'retrouveront': 1, 'prévision': 1, 'tronquée': 1, 'déconnectée': 1, 'circulé': 1, 'regardait': 1, 'tenants': 1, 'aboutissants': 1, 'filmer': 1, 'intervenues': 1, 'gendarme': 1, 'examinera': 1, 'exhaustif': 1, 'transmises': 1, 'soulignait': 1, 'brièvement': 1, 'investiguer': 1, 'émanent': 1, 'filmés': 1, 'jetée': 1, 'pâture': 1, 'floutage': 1, 'tireur': 1, 'binôme': 1, 'caméra': 1, 'piéton': 1, 'piétons': 1, 'résolus': 1, 'ajout': 1, 'brigades': 1, 'sapeurs': 1, 'condamnées': 1, 'préventifs': 1, 'parquets': 1, 'débordées': 1, 'excluent': 1, 'virulents': 1, 'dissimulé': 1, 'délit': 1, 'intervenons': 1, 'exclame': 1, 'retourné': 1, 'enquêtera': 1, 'légale': 1, 'Steve': 1, 'sortiez': 1, 'légende': 1, 'Hambourg': 1, 'foule': 1, 'soft': 1, 'invoquent': 1, 'Mmes': 1, 'Assumez': 1, 'disproportionné': 1, 'disciplinaires': 1, 'censé': 1, 'déontologique': 1, 'dépositaires': 1, 'animés': 1, 'malveillantes': 1, 'tournez': 1, 'boucle': 1, 'comporter': 1, 'Telles': 1, 'UC': 1, '2623': 1, 'rectifié': 1, '2683': 1, '2622': 1, '2687': 1, 'donneraient': 1, 'Présentation': 1, 'lèvent': 1, 'concluait': 1, 'préface': 1, 'Dire': 1, 'socialiste': 1, 'livrant': 1, 'barré': 1, 'Raté': 1, 'inactifs': 1, 'lointaine': 1, 'aînés': 1, 'sent': 1, 'manquons': 1, '39': 1, 'fleuve': 1, 'tranquille': 1, 'Damaisin': 1, 'bricolage': 1, 'commencez': 1, 'ébrouer': 1, 'Veuillez': 1, 'trajectoires': 1, 'Novlangue': 1, 'macronistes': 1, 'construisons': 1, 'Casseurs': 1, 'refuserait': 1, 'suspicion': 1, 'logé': 1, 'dessein': 1, 'énumérées': 1, 'jouissant': 1, 'déploré': 1, 'regrettait': 1, 'révolutionnaire': 1, 'buté': 1, 'révélées': 1, 'Laissez': 1, 'imaginait': 1, 'réalisable': 1, 'multiplicité': 1, 'universelle': 1, 'pipeau': 1, 'hachés': 1, 'linéaires': 1, 'lisibilité': 1, 'versons': 1, 'substituent': 1, 'élargissent': 1, 'franchissait': 1, 'chapeaux': 1, 'ressentent': 1, 'amertume': 1, 'vécues': 1, 'Identifier': 1, 'enfoncer': 1, 'aggravez': 1, 'inférieures': 1, 'arrêtent': 1, 'Chiche': 1, 'fatigués': 1, 'criez': 1, 'Doucement': 1, 'convenables': 1, 'dubitatifs': 1, 'Donnez': 1, 'paramétriques': 1, 'intervalles': 1, 'inachevable': 1, 'cassez': 1, 'gruyère': 1, 'préjudices': 1, 'équilibrage': 1, 'harangue': 1, 'interrompez': 1, 'poursuivez': 1, 'provocateur': 1, 'hurler': 1, 'Coquerel': 1, 'grandement': 1, 'quittant': 1, 'participative': 1, 'désarçonne': 1, 'succédé': 1, 'fondatrices': 1, 'porteur': 1, 'unification': 1, 'Mal': 1, 'saboter': 1, 'ébranlèrent': 1, 'envolée': 1, 'Erwan': 1, 'Balanant': 1, 'récréer': 1, 'réduisez': 1, 'réformé': 1, 'cassé': 1, 'Dehors': 1, 'Seuls': 1, 'sereins': 1, 'procure': 1, 'démontrerai': 1, 'craintif': 1, 'Germinal': 1, 'organisez': 1, 'casse': 1, 'traitez': 1, 'égoïstes': 1, 'soignante': 1, 'jouant': 1, 'repoussant': 1, 'annule': 1, 'Article': 1, 'anime': 1, 'Reine': 1, 'neiges': 1, 'Sujet': 1, 'desquels': 1, 'harmoniser': 1, 'inévitable': 1, 'Bourguignon': 1, 'liquidées': 1, 'mensuelle': 1, 'modernisés': 1, 'recentre': 1, 'remaniée': 1, 'deviendra': 1, 'coconstruites': 1, 'paritarisme': 1, 'Sylvie': 1, 'Tolmont': 1, 'plaisantez': 1, 'Parlons': 1, '2026': 1, 'Poursuivez': 1, 'V': 1, 'respectera': 1, 'Vallaud': 1, 'cirage': 1, 'appréhendée': 1, 'démagogiques': 1, 'intenables': 1, 'multipliez': 1, 'Ludovic': 1, 'Pajot': 1, 'troublées': 1, 'tenues': 1, 'fabrique': 1, 'caissières': 1, 'Auchan': 1, 'virées': 1, '64': 1, 'accentuent': 1, 'CICE': 1, 'atteindra': 1, 'réaliserons': 1, 'fidèles': 1, 'prééminence': 1, 'Salaires': 1, 'Absence': 1, 'élevées': 1, 'équivalentes': 1, 'modifiera': 1, 'grille': 1, 'compensera': 1, 'délaissée': 1, 'époumonent': 1, 'assujettis': 1, 'anticipant': 1, 'améliorant': 1, 'identifiant': 1, 'CHSCT': 1, 'négocieront': 1, 'précieuse': 1, 'verraient': 1, 'moduler': 1, 'liquider': 1, 'offrant': 1, 'intérimaires': 1, 'reprochaient': 1, 'reprochent': 1, 'consacrées': 1, 'contentant': 1, 'Respectez': 1, 'conduise': 1, 'robots': 1, 'godillots': 1, 'tayloriste': 1, 'animosité': 1, 'Lisant': 1, 'apprends': 1, 'contents': 1, 'invraisemblable': 1, 'douteux': 1, 'manœuvres': 1, 'aborde': 1, 'continues': 1, 'effondrent': 1, 'dangereusement': 1, 'immisce': 1, 'honteux': 1, 'rattachent': 1, 'vœu': 1, 'assemblee': 1, 'indéniable': 1, 'infra': 1, 'incitons': 1, 'partisane': 1, 'correct': 1, 'JDD': 1, 'choqué': 1, 'stats': 1, '274': 1, '166': 1, 'retraitait': 1, 'enregistrer': 1, 'minorés': 1, 'incrémente': 1, 'retraitement': 1, 'bidouillage': 1, 'Taper': 1, 'dénonçons': 1, 'supposées': 1, 'occulte': 1, 'ultragauche': 1, 'létale': 1, 'renouvelées': 1, 'insolence': 1, 'déjeuner': 1, 'déjeuné': 1, 'caricaturistes': 1, 'dessinées': 1, 'Charlie': 1, 'Hebdo': 1, 'attentives': 1, 'rondes': 1, 'patrouilles': 1, 'rapprochée': 1, 'investiguent': 1, 'investigue': 1, '106': 1, 'soupçonnés': 1, 'avérée': 1, 'anormaux': 1, 'minuit': 1, 'éligibilité': 1, 'radiés': 1, 'adressée': 1, 'avertir': 1, '757': 1, 'décrite': 1, 'aménageons': 1, 'détenir': 1, 'ficelé': 1, 'pointé': 1, 'Autour': 1, 'jacente': 1, 'proposeront': 1, 'additionner': 1, 'réinterroge': 1, 'Modifier': 1, 'rémunérations': 1, 'construites': 1, 'différé': 1, 'Reconstruire': 1, 'souhaitiez': 1, 'tracées': 1, 'induits': 1, 'appuyés': 1, 'dépêche': 1, 'AFP': 1, 'fournies': 1, 'détaillées': 1, 'baisserait': 1, 'correspondrait': 1, 'Armentières': 1, 'inégalitaire': 1, 'présentait': 1, 'ré': 1, 'DJEBBARI': 1, '68': 1, 'légales': 1, 'sérieuse': 1, 'reformuler': 1, 'Reprenons': 1, 'enveloppe': 1, 'embêter': 1, 'redisons': 1, 'équilibrer': 1, 'individualiser': 1, 'purement': 1, 'inactivité': 1, 'subie': 1, 'transférés': 1, 'AT': 1, 'MP': 1, 'Maladies': 1, 'Professionnelles': 1, 'représentative': 1, 'transformions': 1, 'sérail': 1, 'travaillais': 1, 'tranquillité': 1, 'expriment': 1, 'secrétaires': 1, 'prouvez': 1, 'entrant': 1, 'dévouement': 1, 'partagerai': 1, 'épidémiologiques': 1, 'soutenues': 1, 'providence': 1, 'écrivent': 1, 'prédire': 1, 'amorcé': 1, 'traversait': 1, 'Dubos': 1, 'audiologiques': 1, 'incarné': 1, 'bioéthique': 1, 'quittez': 1, 'loyautés': 1, 'extorquées': 1, 'résignés': 1, 'demeurer': 1, 'Inégalités': 1, 'Inacceptable': 1, 'renoncerai': 1, 'engageante': 1, 'velléités': 1, 'annoncent': 1, 'mètre': 1, 'sincères': 1, 'ressentez': 1, 'chevets': 1, 'dévoué': 1, 'soignant': 1, 'vitesses': 1, 'chevet': 1, 'ordres': 1, 'médecine': 1, 'parcellaire': 1, 'parlerais': 1, 'chargées': 1, 'dépendions': 1, 'distribuer': 1, 'médicaments': 1, 'Recréer': 1, 'productives': 1, 'accélèrent': 1, 'irriguée': 1, 'pandémiques': 1, 'Hôpital': 1, 'remédicalisation': 1, 'hospitalières': 1, 'Associer': 1, 'amorcées': 1, 'Réformer': 1, 'lancerai': 1, 'Claris': 1, 'médecins': 1, 'brancardiers': 1, 'viendrai': 1, 'inoubliables': 1, 'hospitalière': 1, 'Parisienne': 1, 'dirigé': 1, 'trait': 1, 'contrevient': 1, 'entorse': 1, 'moralité': 1, 'échangées': 1, 'contrevenant': 1, 'décrits': 1, 'divulgation': 1, 'Auvergne': 1, 'Rapporteur': 1, 'connaisseur': 1, 'praticien': 1, 'neurologue': 1, 'mathématique': 1, 'Marcheurs': 1, 'sympathisants': 1, 'auditives': 1, 'tranche': 1, 'âgées': 1, 'multi': 1, 'baissaient': 1, 'pardonnez': 1, 'récent': 1, 'intellectuel': 1, 'syndical': 1, 'contactent': 1, 'socialistes': 1, 'frontale': 1, 'pratiquée': 1, 'bienvenus': 1, 'FERRAND': 1, 'manoeuvres': 1, 'plaisent': 1, 'articulée': 1, 'blocages': 1, 'garantis': 1, 'convergent': 1, 'contractuels': 1, 'forcée': 1, 'basculera': 1, 'nées': 1, 'cotiser': 1, 'affinent': 1, 'simulateur': 1, 'affinées': 1, 'entrait': 1, 'préconisait': 1, 'garantissent': 1, 'préciserons': 1, 'salutaires': 1, 'bilans': 1, 'régule': 1, 'consigne': 1, 'enseignantes': 1, 'UNSA': 1, 'FO': 1, 'alternante': 1, 'surveillants': 1, 'pénitentiaires': 1, 'citais': 1, 'facteur': 1, 'Dussopt': 1, 'minima': 1, 'constructive': 1, 'honore': 1, 'contraste': 1, 'Nationale': 1, 'aboutira': 1, 'entreront': 1, 'intégralement': 1, 'comptabilisés': 1, 'calculée': 1, 'Conformément': 1, 'garantissons': 1, 'rigide': 1, 'nierait': 1, 'demandaient': 1, 'initier': 1, 'suivrait': 1, 'déplafonner': 1, 'dévotion': 1, 'infirmières': 1, 'TPE': 1, 'associatifs': 1, 'dessiné': 1, 'mécénat': 1, 'inéquitables': 1, 'ouvrent': 1, 'existences': 1, 'abîmés': 1, 'restant': 1, 'port': 1, 'manutention': 1, 'accordant': 1, '100M': 1, 'rémunérée': 1, 'basculer': 1, 'formalisées': 1, 'traduiront': 1, 'envisagées': 1, 'sensiblement': 1, 'Quiconque': 1, 'percevra': 1, '1147': 1, 'disposé': 1, 'escamoter': 1, 'retentissement': 1, 'hébétement': 1, 'sidération': 1, 'impressionné': 1, 'déjouer': 1, 'acceptais': 1, 'torturé': 1, 'tué': 1, 'crains': 1, 'rancune': 1, 'dépit': 1, 'perpétuer': 1, 'pleurer': 1, 'merveilleux': 1, 'Professeurs': 1, 'collège': 1, 'animateurs': 1, 'encadrants': 1, 'élévation': 1, 'œil': 1, 'vastes': 1, 'survivants': 1, '75e': 1, 'séries': 1, 'glacé': 1, 'survécu': 1, 'revivant': 1, 'tenaient': 1, 'Val': 1, 'Oise': 1, 'camps': 1, 'croirait': 1, 'avouer': 1, 'recueillement': 1, 'civilisés': 1, 'cultivé': 1, 'civilisé': 1, 'tomberaient': 1, 'livrez': 1, 'mûrie': 1, 'mûries': 1, 'adjoint': 1, 'achève': 1, 'réélu': 1, 'achevée': 1, 'Gaëlle': 1, 'électorale': 1, 'commentateurs': 1, 'regarderont': 1, 'commenteront': 1, 'nationaliser': 1, 'scrutin': 1, 'GASTINNE': 1, 'proposerai': 1, 'négligez': 1, 'soutiendra': 1, 'arrêtera': 1, 'présenteront': 1, 'parleront': 1, 'récupération': 1, 'écharpe': 1, 'acceptées': 1, 'entendaient': 1, 'siennes': 1, 'prévalu': 1, 'évoluant': 1, 'travaillés': 1, 'progressifs': 1, 'organisées': 1, 'éventuels': 1, 'rentrés': 1, 'Carry': 1, 'Rouet': 1, 'avère': 1, 'propagation': 1, 'apparente': 1, 'renvoyer': 1, 'conférences': 1, 'SALOMON': 1, 'préventive': 1, 'décroître': 1, 'contaminées': 1, 'viralité': 1, 'constatés': 1, 'provoqué': 1, 'émoi': 1, 'nuisible': 1, 'remettons': 1, 'conservateur': 1, 'classique': 1, 'entravé': 1, 'appréhendent': 1, 'attendais': 1, 'illisible': 1, 'célibataires': 1, '00': 1, 'expertiser': 1, 'accorde': 1, 'Fondamentalement': 1, 'envisageable': 1, 'CLUZEL': 1, 'SERRES': 1, 'phares': 1, 'outillait': 1, 'dégradent': 1, 'apparenter': 1, 'justifiés': 1, 'TND': 1, 'modernisant': 1, 'outillant': 1, 'trou': 1, 'inventions': 1, 'décloisonnée': 1, 'combine': 1, 'CNSA': 1, 'tuyaux': 1, 'grosses': 1, 'pyramide': 1, 'sic': 1, 'village': 1, 'fratries': 1, 'séparées': 1, 'Maternelle': 1, 'Infantile': 1, 'noir': 1, 'évaluent': 1, 'référentiels': 1, 'mien': 1, 'montrait': 1, 'psychiatriques': 1, 'identifiée': 1, 'grossesse': 1, 'CMP': 1, 'patient': 1, 'psychiatres': 1, 'fabricants': 1, 'téléphones': 1, 'OS': 1, 'moteurs': 1, 'session': 1, 'ARCEP': 1, 'complété': 1, 'Avia': 1, 'Couillard': 1, 'disclaimer': 1, 'porno': 1, 'ARCOM': 1, 'rencontrez': 1, 'rentrait': 1, 'répondait': 1, 'constatent': 1, 'multifactoriel': 1, 'cohortes': 1, 'bannir': 1, 'mimétisme': 1, 'écran': 1, 'itératif': 1, 'argumentaire': 1, 'excuser': 1, 'déterminante': 1, 'aborderai': 1, 'Revenons': 1, 'monopole': 1, 'Relisez': 1, 'concurrencé': 1, 'Heathrow': 1, 'Francfort': 1, 'Victoire': 1, 'Victorin': 1, 'Lurel': 1, 'Paccaud': 1, 'protestent': 1, 'prouvent': 1, 'proviennent': 1, 'boutiques': 1, 'régaliennes': 1, 'imposeront': 1, 'rationnel': 1, 'résume': 1, 'immobiliser': 1, 'matures': 1, 'Reversez': 1, 'rendement': 1, 'aéroportuaire': 1, 'Augustin': 1, 'Romanet': 1, 'Exupéry': 1, 'Rome': 1, 'trophée': 1, 'décerné': 1, 'Gatwick': 1, 'privatisés': 1, 'nuls': 1, 'Meurant': 1, 'Parlez': 1, 'autoroutes': 1, 'imposaient': 1, 'acheteurs': 1, 'cédera': 1, 'participations': 1, 'Rendez': 1, 'agréés': 1, 'déterminant': 1, 'fixeront': 1, 'redevances': 1, 'facturées': 1, 'écartez': 1, 'irrespect': 1, 'amendes': 1, 'Quatrième': 1, 'patrimoniales': 1, 'récupérera': 1, 'racheter': 1, 'avoisinantes': 1, 'avoisinant': 1, 'rotations': 1, 'créneaux': 1, 'administrés': 1, 'CNDP': 1, 'Robin': 1, 'Reda': 1, 'atteste': 1, 'prolonge': 1, 'pétition': 1, 'collecter': 1, 'évertue': 1, 'retenus': 1, 'rangs': 1, 'RIP': 1, 'aidé': 1, 'Complètement': 1, 'Nouveaux': 1, 'sourires': 1, 'Marques': 1, 'amusement': 1, 'erronés': 1, 'dérégulation': 1, 'bradez': 1, 'brader': 1, 'veuillez': 1, 'Vinci': 1, 'contours': 1, 'épuisé': 1, 'interrompre': 1, 'reprendrons': 1, 'Isère': 1, 'soucieuse': 1, 'perçois': 1, 'reculent': 1, 'jouons': 1, 'pourrissement': 1, 'couru': 1, 'sachent': 1, 'reproduits': 1, 'identique': 1, 'alinéas': 1, 'attache': 1, 'contradicteurs': 1, 'fonctionnent': 1, 'intersyndicales': 1, 'comprise': 1, 'poing': 1, 'accrédite': 1, 'thèse': 1, 'outrepasser': 1, 'expressions': 1, 'Loir': 1, 'entamons': 1, 'dessinera': 1, 'opposée': 1, 'mettraient': 1, 'déroule': 1, 'refusez': 1, 'Marchenoir': 1, 'qualifiée': 1, 'Répondons': 1, 'protagonistes': 1, 'donnions': 1, 'débattez': 1, 'soutenus': 1, 'passante': 1, 'caler': 1, 'perçoit': 1, 'prévisibilité': 1, 'cran': 1, 'inquiétants': 1, 'poussées': 1, 'unicité': 1, 'annoncée': 1, 'ciblait': 1, 'Maisons': 1, 'criminels': 1, 'délinquances': 1, 'rues': 1, 'confessionnelles': 1, 'musulmanes': 1, 'fermées': 1, 'ouvrait': 1, 'pouviez': 1, 'casier': 1, 'prévenez': 1, 'bouclier': 1, 'name': 1, 'shame': 1, 'Vénissieux': 1, 'ciblé': 1, 'merveilles': 1, 'mineur': 1, 'modification': 1, 'tranchées': 1, 'finalisé': 1, 'constitutionnellement': 1, 'posteriori': 1, 'délibérations': 1, 'reviendraient': 1, 'rescolarisée': 1, 'rescolarisation': 1, 'Evidement': 1, 'dénouement': 1, 'repartir': 1, 'côtoie': 1, 'lasse': 1, 'frustré': 1, 'maladroite': 1, 'incomprise': 1, 'répondront': 1, 'jouable': 1, 'citiez': 1, 'reconduction': 1, 'sortante': 1, 'trains': 1, 'roulé': 1, 'annulé': 1, 'passais': 1, 'retards': 1, 'disruptions': 1, 'Franciliens': 1, 'apercevez': 1, 'isolément': 1, 'pivot': 1, 'persuadés': 1, 'sidérant': 1, 'tentons': 1, 'coller': 1, 'contestée': 1, 'syndiqués': 1, 'réinjecter': 1, 'déposant': 1, 'suppressions': 1, 'virgules': 1, 'impossibilisent': 1, 'surpris': 1, 'forger': 1, 'satisfaite': 1, 'troupes': 1, 'déceptive': 1, 'décevante': 1, 'disaient': 1, 'savaient': 1, 'arriverait': 1, 'fronde': 1, '314': 1, 'commenté': 1, 'grandit': 1, 'chamboulant': 1, 'typiquement': 1, 'perceptions': 1, 'dommageables': 1, 'investiture': 1, 'aligné': 1, 'Monique': 1, 'BOULESTIN': 1, 'talentueux': 1, 'prometteur': 1, 'Limousin': 1, 'bêtement': 1, 'prenante': 1, 'passionnant': 1, 'LUFTHANSA': 1, 'rougir': 1, 'kabyle': 1, 'désagréable': 1, 'entendrons': 1, 'procéderons': 1, 'persistance': 1, 'creusement': 1, 'aggravées': 1, 'épuisement': 1, 'éclatante': 1, 'recueilli': 1, 'montrera': 1, 'transpartisan': 1, 'saluées': 1, 'tente': 1, 'philosophique': 1, 'rejoignons': 1, 'partenariales': 1, 'impensable': 1, 'affichées': 1, 'annexé': 1, 'éclairé': 1, 'Haïti': 1, 'thématiques': 1, 'parrainé': 1, 'Dakar': 1, 'transité': 1, 'sida': 1, 'tuberculose': 1, 'paludisme': 1, 'établit': 1, 'triennium': 1, 'franchir': 1, 'offerte': 1, 'méconnus': 1, 'assemblées': 1, 'transitant': 1, 'freinées': 1, 'encouragées': 1, 'Mukwege': 1, 'mobilisons': 1, 'leurrons': 1, 'emparent': 1, 'Élisabeth': 1, 'Brune': 1, 'Poirson': 1, 'fondations': 1, 'minutieux': 1, 'intitulé': 1, 'servira': 1, 'annexe': 1, 'foudres': 1, 'annexerons': 1, 'serviront': 1, 'annexes': 1, 'Joncour': 1, 'alignés': 1, 'nouveautés': 1, 'réunissons': 1, 'pairs': 1, 'rumeurs': 1, 'compétentes': 1, 'votez': 1, 'rattachée': 1, 'repense': 1, 'NDICI': 1, 'mélangés': 1, 'DG': 1, 'DEVCO': 1, 'insistance': 1, 'rejoints': 1, 'résulter': 1, 'dénomination': 1, 'compétente': 1, 'imaginées': 1, 'congrès': 1, 'déterminées': 1, 'amical': 1, 'revoyons': 1, 'coutures': 1, 'enrichie': 1, 'ménagé': 1, 'LT': 1, 'thématique': 1, 'confondue': 1, 'déployée': 1, 'diffère': 1, 'étalée': 1, 'ciblés': 1, 'instable': 1, 'aubaine': 1, 'récurrente': 1, 'promeut': 1, '337': 1, 'parlants': 1, 'informels': 1, 'délivrée': 1, 'informel': 1, 'étrier': 1, 'ex': 1, 'pédagogiques': 1, 'conjointe': 1, 'conjointement': 1, 'Fidji': 1, 'opportunément': 1, 'déplacées': 1, 'composée': 1, 'Commissariat': 1, '140': 1, 'coprésidence': 1, 'terminologie': 1, 'prêter': 1, 'Climate': 1, 'Risk': 1, 'Early': 1, 'Warning': 1, 'Systems': 1, 'financée': 1, 'signalé': 1, 'hébergée': 1, 'appropriation': 1, 'bisannuel': 1, 'penchait': 1, 'visitant': 1, 'démultiplication': 1, 'emmené': 1, 'Rivoal': 1, 'introduites': 1, 'vivront': 1, 'dupes': 1, 'dictateur': 1, 'osons': 1, 'africaines': 1, 'exposants': 1, 'remboursent': 1, 'annulée': 1, 'requalifiée': 1, 'fiduciaire': 1, 'exagérer': 1, 'augmentera': 1, 'constituée': 1, 'représentaient': 1, '77': 1, 'confondus': 1, 'épuiseront': 1, 'apporteront': 1, 'intéressants': 1, '177': 1, 'représentera': 1, 'doubler': 1, 'Clémentine': 1, 'engranger': 1, 'clauses': 1, 'rebours': 1, 'artificiellement': 1, 'gonflé': 1, 'chanteur': 1, 'Bono': 1, 'promettait': 1, 'Luxembourg': 1, 'colonial': 1, 'réviser': 1, 'actualiser': 1, 'déloyalement': 1, 'micro': 1, 'entreprenariat': 1, 'exil': 1, 'abîmer': 1, 'cimetière': 1, 'luxembourgeois': 1, 'Serville': 1, 'absent': 1, 'poserai': 1, 'associe': 1, 'émergents': 1, 'rentables': 1, 'endettés': 1, 'affecter': 1, 'cumulée': 1, 'promis': 1, 'intéressée': 1, '37': 1, 'consacrons': 1, 'persister': 1, 'décrivez': 1, 'seconds': 1, 'atteints': 1, 'Zagtouli': 1, '660': 1, 'Burkinabés': 1, 'économisées': 1, 'opérer': 1, 'employabilité': 1, 'gonflée': 1, 'retombées': 1, 'extracommunautaires': 1, 'redistributive': 1, 'sanctuarisera': 1, 'exonérations': 1, '265': 1, 'déscolarisés': 1, '440': 1, '640': 1, '282': 1, 'Précisons': 1, 'subsaharienne': 1, 'réalisons': 1, 'Alice': 1, 'Albright': 1, 'apprentissages': 1, 'PASEC': 1, 'Priorité': 1, 'Sierra': 1, 'Leone': 1, 'fortunés': 1, 'maladies': 1, 'évitées': 1, 'col': 1, 'asseoir': 1, 'immunisation': 1, 'Global': 1, 'Vaccines': 1, 'Immunization': 1, 'Cinquième': 1, 'ascendante': 1, 'figurer': 1, 'Organisé': 1, 'sexes': 1, 'Mexique': 1, '760': 1, 'vaccinés': 1, 'sixième': 1, '465': 1, 'honorera': 1, 'montrant': 1, '127': 1, 'adolescents': 1, 'Favoriser': 1, 'exprimait': 1, 'terreur': 1, 'Oudin': 1, 'Santini': 1, 'décentralisées': 1, 'assainissement': 1, 'Dont': 1, 'sénégalais': 1, 'Macky': 1, 'organisatrices': 1, 'entretenons': 1, 'Fixons': 1, 'suggère': 1, 'limitrophes': 1, 'Comores': 1, 'harmonieux': 1, 'amenuiser': 1, 'interrogés': 1, 'éventuel': 1, 'approuver': 1, 'Commençons': 1, 'gravée': 1, 'viendrons': 1, 'fréquemment': 1, 'faiblit': 1, 'exponentielle': 1, 'comptera': 1, 'peuplée': 1, 'vieillissants': 1, 'Stephen': 1, 'Smith': 1, 'déclarent': 1, 'Autant': 1, 'rimera': 1, 'ajoutait': 1, 'exigés': 1, 'distinctes': 1, 'amènent': 1, 'emprunter': 1, 'distincte': 1, 'délivrance': 1, 'délivrés': 1, 'régulier': 1, 'brocardé': 1, 'véhiculant': 1, 'irrationnelles': 1, 'efforcer': 1, 'transit': 1, 'Gérard': 1, 'LECLERC': 1, 'légèreté': 1, 'suspendu': 1, 'patients': 1, 'inefficaces': 1, 'recommandées': 1, 'détectés': 1, 'suspecter': 1, 'séquençage': 1, 'déconseillent': 1, 'annulent': 1, 'porterait': 1, 'restriction': 1, 'coordonnées': 1, 'annulons': 1, 'excessive': 1, 'Angleterre': 1, 'restrictives': 1, 'tri': 1, 'détresses': 1, 'respiratoires': 1, 'Consulat': 1, 'surveillées': 1, 'médicalisées': 1, 'transportées': 1, 'incubé': 1, 'surveille': 1, 'rapatrier': 1, 'coordinations': 1, 'relu': 1, 'repartent': 1, 'refondons': 1, 'reconstruisons': 1, 'échangés': 1, 'abonnements': 1, 'Passe': 1, 'Navigo': 1, 'inopérant': 1, 'navettes': 1, 'nourries': 1, 'mènerons': 1, 'verbalisé': 1, 'vaincre': 1, 'apaisent': 1, 'arrangent': 1, 'converger': 1, 'jugeront': 1, 'dimensionnées': 1, 'étudie': 1, 'préparés': 1, 'dimensionnement': 1, 'files': 1, 'camions': 1, 'finement': 1, 'Eurostar': 1, 'routiers': 1, 'biocarburant': 1, 'huiles': 1, 'recyclées': 1, 'sucrière': 1, 'carburant': 1, 'synthétique': 1, 'saut': 1, '2045': 1, '1919': 1, 'Lucien': 1, 'Boussotrot': 1, 'toulousain': 1, 'corrézien': 1, 'réalisait': 1, 'vole': 1, 'évènements': 1, 'révolutions': 1, 'supersoniques': 1, 'A320': 1, 'low': 1, 'cost': 1, 'Safran': 1, 'Air': 1, 'qualifié': 1, 'territorialisé': 1, 'ternir': 1, 'brutalement': 1, 'sociétaux': 1, 'indignés': 1, 'réclamé': 1, 'taquins': 1, 'frugalité': 1, 'fossile': 1, 'A320NEO': 1, 'volera': 1, 'taillée': 1, 'voleront': 1, 'synthétiques': 1, 'optimisées': 1, 'embarquée': 1, 'incorporation': 1, 'massification': 1, 'lancent': 1, 'suffisants': 1, 'émettions': 1, 'citées': 1, 'résignation': 1, 'advenir': 1, 'ATR': 1, 'Occitanie': 1, 'Coubertin': 1, 'rencontrée': 1, 'divorce': 1, 'conditionnel': 1, 'minutie': 1})\n"
     ]
    }
   ],
   "source": [
    "from collections import Counter\n",
    "import matplotlib.pyplot as plt\n",
    "from gensim.models import LdaModel\n",
    "from gensim import corpora\n",
    "import nltk\n",
    "from string import punctuation\n",
    "\n",
    "nltk.download('stopwords')\n",
    "en_stop = set(nltk.corpus.stopwords.words('french'))\n",
    "to_be_removed = list(en_stop) + list(punctuation) +['a','cette','ça','Mme','Mr'] + list(str(x))\n",
    "\n",
    "tok = tokenizer\n",
    "arr = DATA[DATA.sexe==1].discours.apply(lambda x: list(filter(lambda a: a.lower() not in to_be_removed,tok.tokenize(x)))).array\n",
    "arr = reduce(add, arr)\n",
    "c = Counter(arr)\n",
    "print(c)\n",
    "d = pd.DataFrame(c, index=['occurrences']).transpose().reset_index()\n",
    "d.columns=['word', 'occurences']\n",
    "nb_total = d.occurences.sum()\n",
    "d['freq'] = d.occurences.apply(lambda x: x/nb_total)\n",
    "d = d.sort_values('freq', ascending=False)\n"
   ]
  },
  {
   "cell_type": "code",
   "execution_count": 733,
   "metadata": {},
   "outputs": [
    {
     "data": {
      "image/png": "[encoded data removed]",
      "text/plain": [
       "<Figure size 432x288 with 1 Axes>"
      ]
     },
     "metadata": {
      "needs_background": "light"
     },
     "output_type": "display_data"
    }
   ],
   "source": [
    "plt.figure()\n",
    "plt.grid()\n",
    "plt.xscale('log')  # Using log scale\n",
    "plt.yscale('log')  # Using log scale\n",
    "plt.xlabel('log(rank)')\n",
    "plt.ylabel('log(frequency)')\n",
    "plt.title(\"Tokenizer : {0}\".format(word_tokenize))\n",
    "x = list(range(d.shape[0]))\n",
    "plt.plot(x, d.freq)\n",
    "plt.show()"
   ]
  },
  {
   "cell_type": "code",
   "execution_count": 700,
   "metadata": {},
   "outputs": [
    {
     "name": "stderr",
     "output_type": "stream",
     "text": [
      "[nltk_data] Downloading package stopwords to\n",
      "[nltk_data]     C:\\Users\\morga\\AppData\\Roaming\\nltk_data...\n",
      "[nltk_data]   Package stopwords is already up-to-date!\n"
     ]
    }
   ],
   "source": [
    "import nltk\n",
    "import nltk.data\n",
    "import re\n",
    "from nltk.corpus import stopwords\n",
    "from nltk.stem.snowball import SnowballStemmer\n",
    "from nltk import word_tokenize as wt\n",
    "from spacy.tokenizer import Tokenizer\n",
    "from spacy.lang.fr import French\n",
    "nltk.download('stopwords')\n",
    "french_stopwords = set(stopwords.words('french'))"
   ]
  },
  {
   "cell_type": "code",
   "execution_count": 701,
   "metadata": {},
   "outputs": [],
   "source": [
    "from spacy import displacy\n",
    "nlp = French()\n"
   ]
  },
  {
   "cell_type": "code",
   "execution_count": 736,
   "metadata": {},
   "outputs": [
    {
     "name": "stderr",
     "output_type": "stream",
     "text": [
      "[nltk_data] Downloading package stopwords to\n",
      "[nltk_data]     C:\\Users\\morga\\AppData\\Roaming\\nltk_data...\n",
      "[nltk_data]   Package stopwords is already up-to-date!\n"
     ]
    },
    {
     "name": "stdout",
     "output_type": "stream",
     "text": [
      "['Monsieur', 'vice', 'Président', 'Conseil', 'départemental', 'Mayotte']\n"
     ]
    }
   ],
   "source": [
    "from gensim.models import LdaModel\n",
    "from gensim import corpora\n",
    "import nltk\n",
    "from string import punctuation\n",
    "\n",
    "nltk.download('stopwords')\n",
    "en_stop = set(nltk.corpus.stopwords.words('french'))\n",
    "to_be_removed = list(en_stop) + list(punctuation)+ ['a','cette','ça','Mme','Mr']\n",
    "\n",
    "tok = tokenizer\n",
    "# Tokenizing + removing stopwords\n",
    "text_data = list(DATA.discours.apply(lambda x: list(filter(lambda a: a.lower() not in to_be_removed,tok.tokenize(x)))).array)\n",
    "def remove_url(tokens):\n",
    "  tokens = filter(lambda x: \"http\" not in x, tokens)\n",
    "  return list(tokens)\n",
    "remove_url(text_data)\n",
    "print(text_data[0])\n",
    "dictionary = corpora.Dictionary(text_data)\n",
    "corpus = [dictionary.doc2bow(text) for text in text_data]\n",
    "ldamodel = LdaModel(corpus, id2word=dictionary, num_topics=5)"
   ]
  },
  {
   "cell_type": "code",
   "execution_count": null,
   "metadata": {},
   "outputs": [],
   "source": [
    "!pip install pyLDAvis"
   ]
  },
  {
   "cell_type": "code",
   "execution_count": 737,
   "metadata": {
    "scrolled": true
   },
   "outputs": [
    {
     "data": {
      "text/html": [
       "\n",
       "<link rel=\"stylesheet\" type=\"text/css\" href=\"https://cdn.rawgit.com/bmabey/pyLDAvis/files/ldavis.v1.0.0.css\">\n",
       "\n",
       "\n",
       "<div id=\"ldavis_el890414784518048725917296881\"></div>\n",
       "<script type=\"text/javascript\">\n",
       "\n",
       "var ldavis_el890414784518048725917296881_data = {\"mdsDat\": {\"x\": [0.056453308602762035, 0.06779182921339091, 0.04746733910315957, 0.01978853823990352, -0.19150101515921616], \"y\": [-0.05665868845265051, -0.0801310624805051, 0.04513274122911355, 0.1137816830603232, -0.02212467335628122], \"topics\": [1, 2, 3, 4, 5], \"cluster\": [1, 1, 1, 1, 1], \"Freq\": [26.138639450073242, 25.49953842163086, 20.004901885986328, 19.11360740661621, 9.243314743041992]}, \"tinfo\": {\"Term\": [\"Mme\", \"ministre\", \"parole\", \"pr\\u00e9sident\", \"Buzyn\", \"Mesdames\", \"pr\\u00e9sidente\", \"messieurs\", \"texte\", \"parlementaires\", \"va\", \"Charles\", \"R\\u00e9publique\", \"question\", \"Monsieur\", \"tous\", \"Pr\\u00e9sident\", \"soins\", \"5\", \"outre\", \"Messieurs\", \"h\\u00f4pital\", \"arm\\u00e9es\", \"mesures\", \"Bonjour\", \"Agn\\u00e8s\", \"Merci\", \"000\", \"ann\\u00e9e\", \"\\u00c9tat\", \"texte\", \"m\\u00e9decins\", \"fera\", \"Anne\", \"Sant\\u00e9\", \"dignit\\u00e9\", \"l\\u00e9gislatif\", \"enracinement\", \"pr\\u00e9sentent\", \"r\\u00e9alisations\", \"visibilit\\u00e9\", \"\\u00e9norm\\u00e9ment\", \"\\u00e9cosyst\\u00e8me\", \"r\\u00e9alisation\", \"lecture\", \"\\u00e9chapp\\u00e9\", \"enfance\", \"obstruction\", \"finance\", \"injuste\", \"alin\\u00e9a\", \"p\\u00e9riodes\", \"responsable\", \"diff\\u00e9rente\", \"Daniel\", \"Pardon\", \"pleine\", \"second\", \"ennemi\", \"\\u00e9cologie\", \"pos\\u00e9\", \"17\", \"Quand\", \"conflit\", \"Marie\", \"examin\\u00e9\", \"tradition\", \"citoyens\", \"Assembl\\u00e9e\", \"cotisation\", \"conseiller\", \"ch\\u00f4mage\", \"S\\u00e9nat\", \"baisser\", \"Fran\\u00e7ois\", \"va\", \"petite\", \"petits\", \"choses\", \"telle\", \"0\", \"essayer\", \"l\\u00e0\", \"puis\", \"commission\", \"proposition\", \"amendements\", \"majorit\\u00e9\", \"fond\", \"quand\", \"r\\u00e9forme\", \"enfants\", \"Non\", \"donc\", \"faire\", \"transition\", \"dit\", \"travail\", \"tout\", \"financement\", \"fait\", \"retraite\", \"certain\", \"dire\", \"parce\", \"loi\", \"aussi\", \"plus\", \"faut\", \"peut\", \"tr\\u00e8s\", \"sujet\", \"\\u00eatre\", \"tous\", \"bien\", \"question\", \"projet\", \"syst\\u00e8me\", \"ans\", \"France\", \"aujourd\", \"hui\", \"PME\", \"d\\u00e9placements\", \"chef\", \"conform\\u00e9ment\", \"Paul\", \"poursuit\", \"cabinet\", \"levier\", \"naissance\", \"le\\u00e7ons\", \"Territoires\", \"compl\\u00e9mentaire\", \"65\", \"promesse\", \"b\\u00e9n\\u00e9ficie\", \"commerces\", \"Ensemble\", \"Yves\", \"redonner\", \"atteinte\", \"participent\", \"inadmissible\", \"\\u00e9couter\", \"heureuse\", \"pourrez\", \"dates\", \"pr\\u00e9sent\\u00e9e\", \"fermer\", \"alternance\", \"deuil\", \"MoDem\", \"concernent\", \"consiste\", \"famille\", \"auteurs\", \"v\\u00e9cu\", \"militaire\", \"b\\u00e9n\\u00e9fici\\u00e9\", \"\\u00c9tats\", \"Lecoq\", \"artistes\", \"futur\", \"honneur\", \"p\\u00e9nibilit\\u00e9\", \"Agn\\u00e8s\", \"Ecoutez\", \"pr\\u00e9vention\", \"offrir\", \"disent\", \"n\\u00e9gociations\", \"champ\", \"volont\\u00e9\", \"avoir\", \"contre\", \"non\", \"aussi\", \"plus\", \"pense\", \"hui\", \"fa\\u00e7on\", \"faut\", \"crois\", \"bien\", \"aujourd\", \"Paris\", \"dire\", \"parce\", \"France\", \"peut\", \"Europe\", \"beaucoup\", \"R\\u00e9publique\", \"politique\", \"monde\", \"comme\", \"fait\", \"tr\\u00e8s\", \"\\u00eatre\", \"faire\", \"savez\", \"si\", \"tout\", \"tous\", \"territoires\", \"donc\", \"ans\", \"indispensable\", \"t\\u00eate\", \"vols\", \"source\", \"tour\", \"fier\", \"garanties\", \"effective\", \"Minist\\u00e8re\", \"d\\u00e9mographique\", \"innovants\", \"gauche\", \"exclusion\", \"conduite\", \"baiss\\u00e9\", \"priv\\u00e9e\", \"utilisation\", \"sources\", \"seuil\", \"mobilis\\u00e9\", \"financ\\u00e9s\", \"S\\u00e9bastien\", \"cr\\u00e9\\u00e9s\", \"r\\u00e9sidence\", \"LR\", \"prenne\", \"monter\", \"Internet\", \"Trois\", \"Guyane\", \"plafond\", \"comptes\", \"acc\\u00e9l\\u00e9rer\", \"d\\u00e9di\\u00e9e\", \"dynamisme\", \"Parisiens\", \"12\", \"adh\\u00e9sion\", \"Car\", \"inqui\\u00e9tudes\", \"feuille\", \"besoins\", \"violence\", \"000\", \"5\", \"2020\", \"produits\", \"z\\u00e9ro\", \"familles\", \"2019\", \"ann\\u00e9e\", \"opposition\", \"Adrien\", \"2\", \"mesure\", \"1\", \"euros\", \"sociaux\", \"dynamique\", \"millions\", \"nombre\", \"mati\\u00e8re\", \"\\u00eatre\", \"quotidien\", \"sociale\", \"territoires\", \"si\", \"augmentation\", \"entre\", \"plus\", \"\\u00c9tat\", \"certains\", \"hui\", \"projet\", \"aujourd\", \"bien\", \"loi\", \"tr\\u00e8s\", \"fait\", \"aussi\", \"tout\", \"comme\", \"faire\", \"dire\", \"ministre\", \"question\", \"politique\", \"Charles\", \"enqu\\u00eate\", \"trajectoire\", \"assur\\u00e9s\", \"Chers\", \"conduire\", \"soin\", \"Patrick\", \"sp\\u00e9ciale\", \"nation\", \"Baptiste\", \"Emmanuelle\", \"55\", \"accueil\", \"frais\", \"construit\", \"pr\\u00e9fet\", \"Vive\", \"solidarit\\u00e9s\", \"arm\\u00e9es\", \"Lors\", \"d\\u00e9l\\u00e9gu\\u00e9\", \"technologiques\", \"op\\u00e9rateurs\", \"souffrance\", \"heureusement\", \"\\u00e9ch\\u00e9ant\", \"vive\", \"droite\", \"r\\u00e9publicain\", \"g\\u00e9ographique\", \"m\\u00e9dicaux\", \"Herv\\u00e9\", \"adapt\\u00e9s\", \"h\\u00f4pital\", \"comp\\u00e9tence\", \"contrat\", \"Lemoyne\", \"transitions\", \"progressive\", \"orientation\", \"professionnelle\", \"Afrique\", \"sommet\", \"mesures\", \"juin\", \"bonnes\", \"auquel\", \"pr\\u00e9sents\", \"outre\", \"secr\\u00e9taire\", \"\\u00c9tat\", \"d\\u00e9veloppement\", \"formation\", \"jeunes\", \"engagement\", \"o\\u00f9\", \"compte\", \"s\\u00e9curit\\u00e9\", \"syst\\u00e8me\", \"leurs\", \"r\\u00e9pondre\", \"entre\", \"autres\", \"France\", \"\\u00eatre\", \"doit\", \"ensemble\", \"tout\", \"comme\", \"plus\", \"fait\", \"notamment\", \"dont\", \"retraite\", \"donc\", \"deux\", \"faut\", \"aussi\", \"Mme\", \"faire\", \"Bonjour\", \"Fabien\", \"argent\", \"Roussel\", \"Mesdames\", \"partag\\u00e9\", \"vivent\", \"r\\u00e9affirm\\u00e9e\", \"entend\", \"messieurs\", \"nulle\", \"r\\u00e9plique\", \"mode\", \"suffisant\", \"2014\", \"s\\u00e9quence\", \"apais\\u00e9\", \"dira\", \"Buzyn\", \"directeurs\", \"lisible\", \"Messieurs\", \"Bruno\", \"civils\", \"Ch\\u00e8re\", \"exister\", \"citoyenne\", \"but\", \"Nouvelle\", \"productif\", \"globalit\\u00e9\", \"multiples\", \"pr\\u00e9sidente\", \"parole\", \"ravie\", \"rapatriement\", \"minutes\", \"Mme\", \"Merci\", \"soins\", \"Panot\", \"d\\u00e9put\\u00e9\", \"Mathilde\", \"pr\\u00e9sidents\", \"ministre\", \"financi\\u00e8res\", \"pr\\u00e9sident\", \"parti\", \"r\\u00e9formes\", \"financi\\u00e8re\", \"parlementaires\", \"Pr\\u00e9sident\", \"Monsieur\", \"madame\", \"question\", \"R\\u00e9publique\", \"tous\", \"souhaite\", \"monsieur\", \"plus\", \"loi\", \"comme\", \"autres\", \"tout\", \"d\\u00e9bat\", \"depuis\", \"Gouvernement\"], \"Freq\": [1017.0, 1136.0, 454.0, 656.0, 316.0, 282.0, 242.0, 215.0, 367.0, 373.0, 713.0, 187.0, 737.0, 906.0, 293.0, 1073.0, 206.0, 118.0, 300.0, 441.0, 102.0, 162.0, 147.0, 423.0, 94.0, 353.0, 107.0, 353.0, 465.0, 482.0, 365.24542236328125, 69.32049560546875, 74.6070556640625, 55.233604431152344, 32.1390266418457, 34.42587661743164, 33.12237548828125, 38.00651931762695, 29.6909236907959, 29.175174713134766, 166.7686309814453, 26.177898406982422, 28.357097625732422, 25.243911743164062, 27.088380813598633, 22.167922973632812, 47.193599700927734, 74.13533782958984, 22.461645126342773, 28.761951446533203, 20.420822143554688, 25.69169807434082, 19.369037628173828, 19.98076820373535, 22.07781219482422, 20.203269958496094, 46.03561782836914, 18.975997924804688, 27.99243927001953, 39.813560485839844, 41.95273208618164, 76.96932983398438, 109.95730590820312, 34.96090316772461, 35.944156646728516, 32.799659729003906, 30.8472900390625, 162.55831909179688, 176.42813110351562, 111.06982421875, 52.56941604614258, 84.54202270507812, 124.37641906738281, 48.48978042602539, 40.786903381347656, 519.4503173828125, 79.1353759765625, 61.01141357421875, 409.1959228515625, 136.75399780273438, 145.54132080078125, 88.5916519165039, 645.1803588867188, 261.74859619140625, 134.37066650390625, 109.97888946533203, 103.58087921142578, 214.51690673828125, 269.28668212890625, 386.1181945800781, 310.5474548339844, 183.0187530517578, 273.1912841796875, 538.962890625, 572.6610107421875, 172.37384033203125, 337.46014404296875, 322.2156677246094, 574.0505981445312, 188.8194580078125, 528.3369750976562, 275.7523498535156, 228.76675415039062, 456.45343017578125, 378.21014404296875, 332.6429748535156, 542.1524658203125, 673.369140625, 416.2522277832031, 349.1473693847656, 383.4212951660156, 247.2012176513672, 459.7643737792969, 364.91387939453125, 390.867431640625, 331.25897216796875, 261.02789306640625, 269.7832336425781, 277.2516784667969, 301.4116516113281, 286.2237854003906, 283.2279052734375, 142.78659057617188, 80.69786071777344, 73.76730346679688, 61.630340576171875, 102.43355560302734, 43.76492691040039, 40.845787048339844, 33.04270935058594, 32.65742874145508, 34.57838439941406, 33.25299835205078, 32.802345275878906, 43.95347213745117, 28.442312240600586, 31.94532585144043, 26.56700897216797, 65.33621215820312, 53.454750061035156, 39.12786102294922, 25.901416778564453, 24.099470138549805, 26.601808547973633, 27.058242797851562, 23.658639907836914, 23.527896881103516, 29.96013832092285, 31.49237060546875, 29.12843894958496, 26.388933181762695, 100.3121566772461, 50.36145782470703, 43.17271041870117, 35.390953063964844, 86.65837860107422, 101.86579132080078, 35.42283248901367, 95.50048828125, 40.33354568481445, 59.77814865112305, 67.14962768554688, 104.32833862304688, 75.7726058959961, 57.350704193115234, 99.7791976928711, 272.44720458984375, 98.26961517333984, 81.6318130493164, 50.35467529296875, 104.32917785644531, 52.292625427246094, 84.14653778076172, 193.83010864257812, 331.5263977050781, 283.60467529296875, 302.6425476074219, 828.9183349609375, 1121.2156982421875, 476.6666564941406, 527.8345947265625, 145.20556640625, 515.0350341796875, 248.9447784423828, 536.946044921875, 430.2350769042969, 168.05426025390625, 477.27593994140625, 386.83349609375, 458.5716857910156, 363.16455078125, 200.8108367919922, 282.8087158203125, 308.90576171875, 293.8565368652344, 181.4815216064453, 367.9025573730469, 433.03277587890625, 338.2418212890625, 412.5631408691406, 351.8115234375, 185.18841552734375, 268.26708984375, 321.6474609375, 277.6708068847656, 222.11981201171875, 274.45361328125, 238.0409393310547, 73.62763214111328, 91.18514251708984, 55.4007453918457, 55.013160705566406, 51.928855895996094, 55.49339294433594, 49.36317443847656, 39.833160400390625, 37.90125274658203, 48.07742691040039, 36.31544494628906, 36.196773529052734, 40.81209945678711, 39.18000411987305, 32.926578521728516, 28.792863845825195, 43.83314895629883, 27.93152618408203, 25.480730056762695, 46.14342498779297, 25.43799591064453, 24.20526885986328, 24.027868270874023, 34.75900650024414, 23.554302215576172, 47.23747634887695, 23.336990356445312, 23.538389205932617, 36.44541549682617, 63.428855895996094, 61.70240783691406, 42.984745025634766, 68.76835632324219, 34.91313171386719, 36.71385955810547, 78.57557678222656, 89.30086517333984, 35.764686584472656, 138.08018493652344, 79.50534057617188, 54.083839416503906, 119.6214370727539, 84.51722717285156, 243.79293823242188, 210.5353546142578, 224.86459350585938, 85.21022033691406, 73.53353118896484, 109.55142211914062, 153.1582794189453, 264.45220947265625, 68.45741271972656, 66.845458984375, 132.5889129638672, 165.76223754882812, 151.78211975097656, 203.0216522216797, 171.0668182373047, 74.81967163085938, 159.66830444335938, 224.30506896972656, 135.689208984375, 374.2525939941406, 135.36514282226562, 147.12115478515625, 199.75303649902344, 246.1338348388672, 96.68216705322266, 212.49388122558594, 394.82781982421875, 169.12698364257812, 124.893798828125, 226.3049774169922, 177.51071166992188, 208.05018615722656, 228.0847625732422, 187.6885986328125, 207.1348114013672, 215.80789184570312, 229.86753845214844, 206.46737670898438, 185.86940002441406, 193.69630432128906, 181.73895263671875, 174.20411682128906, 165.2630615234375, 162.06344604492188, 186.76272583007812, 80.07587432861328, 115.45840454101562, 77.72702026367188, 74.29402160644531, 55.355838775634766, 46.85738754272461, 47.476478576660156, 40.40486145019531, 59.877986907958984, 71.63042449951172, 57.70977783203125, 48.233890533447266, 35.38785934448242, 43.40068054199219, 37.254600524902344, 42.0905647277832, 28.838037490844727, 39.69964599609375, 143.67088317871094, 30.866043090820312, 40.6825065612793, 57.10781478881836, 40.8043098449707, 22.229969024658203, 25.574472427368164, 22.919130325317383, 19.99040985107422, 24.869121551513672, 23.611591339111328, 49.16265869140625, 30.09990119934082, 29.509187698364258, 32.52555847167969, 152.26104736328125, 66.29791259765625, 104.48819732666016, 58.3328857421875, 47.28391647338867, 54.586280822753906, 44.70392608642578, 85.205810546875, 66.44065856933594, 64.07627868652344, 257.61590576171875, 99.89987182617188, 57.97506332397461, 66.14268493652344, 64.37416076660156, 215.1429901123047, 148.7585906982422, 205.18414306640625, 208.314453125, 111.71947479248047, 108.5003433227539, 169.97633361816406, 206.29544067382812, 162.4888458251953, 169.54388427734375, 221.687255859375, 169.95660400390625, 124.4569091796875, 211.42112731933594, 187.18234252929688, 262.102294921875, 296.1163024902344, 159.04994201660156, 164.71902465820312, 254.90292358398438, 221.39996337890625, 310.30450439453125, 222.8500213623047, 154.108154296875, 150.21905517578125, 150.2287139892578, 178.84002685546875, 149.82005310058594, 170.61387634277344, 171.6934814453125, 155.62060546875, 155.1372528076172, 92.85247039794922, 74.50032806396484, 44.89422607421875, 75.20529174804688, 275.0246276855469, 28.91114044189453, 24.04242515563965, 24.182987213134766, 39.02758026123047, 204.8650665283203, 18.288192749023438, 22.63506317138672, 16.60771942138672, 22.832822799682617, 24.76947021484375, 22.799192428588867, 17.504261016845703, 24.202533721923828, 297.9201354980469, 31.73253059387207, 14.543462753295898, 96.53158569335938, 15.100703239440918, 19.75811195373535, 12.261292457580566, 12.664266586303711, 13.29704761505127, 11.757094383239746, 15.82001781463623, 11.455559730529785, 35.35331726074219, 40.46584701538086, 216.36322021484375, 398.8373107910156, 33.74988555908203, 24.246097564697266, 57.30050277709961, 810.0757446289062, 92.50978088378906, 100.14974975585938, 55.378700256347656, 66.5051498413086, 48.93502426147461, 78.29090118408203, 581.4942626953125, 41.08877182006836, 336.7274169921875, 44.773765563964844, 66.28277587890625, 58.86304473876953, 163.12661743164062, 100.23369598388672, 120.72613525390625, 84.51117706298828, 169.29306030273438, 148.58143615722656, 176.15731811523438, 77.68598937988281, 71.48820495605469, 176.67947387695312, 93.76164245605469, 96.58251953125, 85.88407135009766, 98.4305419921875, 80.95072174072266, 81.12747192382812, 75.38172912597656], \"Total\": [1017.0, 1136.0, 454.0, 656.0, 316.0, 282.0, 242.0, 215.0, 367.0, 373.0, 713.0, 187.0, 737.0, 906.0, 293.0, 1073.0, 206.0, 118.0, 300.0, 441.0, 102.0, 162.0, 147.0, 423.0, 94.0, 353.0, 107.0, 353.0, 465.0, 482.0, 367.8048400878906, 70.26463317871094, 75.84627532958984, 56.724708557128906, 33.026641845703125, 35.413719177246094, 34.07615661621094, 39.18095779418945, 30.62569808959961, 30.11428451538086, 172.24156188964844, 27.047109603881836, 29.3876953125, 26.211185455322266, 28.165809631347656, 23.075439453125, 49.14927673339844, 77.32059478759766, 23.435657501220703, 30.016185760498047, 21.32122802734375, 26.839078903198242, 20.25037956237793, 20.90047264099121, 23.094606399536133, 21.161701202392578, 48.23365020751953, 19.89328384399414, 29.34905242919922, 41.86005401611328, 44.224544525146484, 81.66394805908203, 118.07928466796875, 36.81560516357422, 37.89019012451172, 34.603553771972656, 32.55487060546875, 183.9893035888672, 202.032958984375, 124.20205688476562, 56.80377960205078, 94.73253631591797, 146.1292724609375, 52.76755142211914, 43.830223083496094, 713.4122924804688, 91.90983581542969, 68.9742660522461, 593.7337036132812, 173.24420166015625, 187.52601623535156, 107.23407745361328, 1089.1339111328125, 381.6415100097656, 176.4803009033203, 141.0654754638672, 131.69944763183594, 322.0333557128906, 428.7081604003906, 680.9202880859375, 544.8931274414062, 277.50054931640625, 470.50738525390625, 1176.8280029296875, 1319.29541015625, 262.6429138183594, 665.295166015625, 634.8797607421875, 1455.4989013671875, 302.8249206542969, 1453.1483154296875, 554.1409301757812, 418.98260498046875, 1243.2254638671875, 942.3764038085938, 773.86474609375, 1816.52392578125, 2676.396484375, 1201.6697998046875, 899.633056640625, 1079.0562744140625, 486.65802001953125, 1585.4404296875, 1073.7659912109375, 1308.0155029296875, 906.8984375, 614.34765625, 690.9498291015625, 764.8033447265625, 1225.0001220703125, 971.6517944335938, 1106.0166015625, 143.82147216796875, 81.61923217773438, 74.75772857666016, 62.560916900634766, 104.39209747314453, 44.66139602661133, 41.9273567199707, 33.92314147949219, 33.540077209472656, 35.518646240234375, 34.18791961669922, 33.754966735839844, 45.245723724365234, 29.30940055847168, 32.92168426513672, 27.4219913482666, 67.51705932617188, 55.25543212890625, 40.4964599609375, 26.821523666381836, 24.967578887939453, 27.582698822021484, 28.06643295288086, 24.61113166809082, 24.482789993286133, 31.207862854003906, 32.809059143066406, 30.40162467956543, 27.555492401123047, 104.84632873535156, 52.79728317260742, 45.2472038269043, 37.105228424072266, 92.89208221435547, 110.02731323242188, 37.15822219848633, 104.92133331298828, 42.627593994140625, 64.5356674194336, 72.94823455810547, 117.48696899414062, 83.50289154052734, 62.48877716064453, 114.37985229492188, 353.0874328613281, 113.9608154296875, 95.0404281616211, 55.067535400390625, 127.76284790039062, 57.53874588012695, 101.93253326416016, 282.9151611328125, 563.4932861328125, 472.5307922363281, 513.3145141601562, 1816.52392578125, 2676.396484375, 963.8829345703125, 1106.0166015625, 212.830322265625, 1201.6697998046875, 447.1885681152344, 1308.0155029296875, 971.6517944335938, 267.1522521972656, 1243.2254638671875, 942.3764038085938, 1225.0001220703125, 899.633056640625, 358.805908203125, 634.197021484375, 737.0313110351562, 716.990234375, 316.9587097167969, 1082.67138671875, 1453.1483154296875, 1079.0562744140625, 1585.4404296875, 1319.29541015625, 363.55657958984375, 871.065673828125, 1455.4989013671875, 1073.7659912109375, 583.8653564453125, 1176.8280029296875, 764.8033447265625, 74.47610473632812, 92.50120544433594, 56.26870346069336, 55.88920974731445, 52.8028564453125, 56.430458068847656, 50.220882415771484, 40.70302963256836, 38.79217529296875, 49.22841262817383, 37.19040298461914, 37.07125473022461, 41.894432067871094, 40.22793960571289, 33.81425094604492, 29.62895393371582, 45.22023391723633, 28.8161678314209, 26.329116821289062, 47.71415328979492, 26.3187198638916, 25.0610408782959, 24.8785457611084, 35.99797821044922, 24.40597152709961, 48.98154067993164, 24.206897735595703, 24.425405502319336, 37.82259750366211, 65.83535766601562, 64.26042938232422, 44.63508224487305, 72.27147674560547, 36.39643478393555, 38.33925247192383, 84.86424255371094, 97.094970703125, 37.43804931640625, 159.05943298339844, 88.36865234375, 58.465824127197266, 141.4576416015625, 100.69053649902344, 353.6666259765625, 300.1557922363281, 339.16650390625, 105.26366424560547, 89.05477142333984, 147.73944091796875, 228.20530700683594, 465.38153076171875, 82.3818588256836, 80.6742172241211, 209.01025390625, 294.2902526855469, 266.0028076171875, 423.96063232421875, 342.83038330078125, 96.08429718017578, 327.6648254394531, 573.94091796875, 264.8042297363281, 1585.4404296875, 270.735107421875, 316.434326171875, 583.8653564453125, 871.065673828125, 149.54080200195312, 715.3040161132812, 2676.396484375, 482.1716613769531, 253.9580841064453, 1106.0166015625, 614.34765625, 971.6517944335938, 1308.0155029296875, 773.86474609375, 1079.0562744140625, 1453.1483154296875, 1816.52392578125, 1455.4989013671875, 1082.67138671875, 1319.29541015625, 1243.2254638671875, 1136.40771484375, 906.8984375, 716.990234375, 187.64794921875, 81.04222106933594, 116.85308074951172, 78.86231994628906, 75.42742919921875, 56.22149658203125, 47.84285354614258, 48.48454666137695, 41.28510284423828, 61.28593826293945, 73.36595916748047, 59.16300964355469, 49.45469665527344, 36.286338806152344, 44.55929946899414, 38.27851104736328, 43.31148147583008, 29.68722915649414, 40.88513946533203, 147.9730224609375, 31.81191062927246, 42.18061065673828, 59.2722282409668, 42.35455322265625, 23.125478744506836, 26.628437042236328, 23.89599609375, 20.84654426574707, 25.94939422607422, 24.63797950744629, 51.3980712890625, 31.41815757751465, 30.797170639038086, 34.00434494018555, 162.62330627441406, 69.89593505859375, 112.25611114501953, 61.79191589355469, 50.44496154785156, 58.9891471862793, 47.65800476074219, 102.7853012084961, 76.75326538085938, 74.02840423583984, 423.8983459472656, 131.03302001953125, 66.57998657226562, 79.21116638183594, 77.37030029296875, 441.9079284667969, 273.7623596191406, 482.1716613769531, 500.2259826660156, 189.57476806640625, 182.12875366210938, 401.2750549316406, 559.8567504882812, 381.96697998046875, 423.7544860839844, 690.9498291015625, 437.0867614746094, 245.74481201171875, 715.3040161132812, 615.5776977539062, 1225.0001220703125, 1585.4404296875, 465.64306640625, 512.43994140625, 1455.4989013671875, 1082.67138671875, 2676.396484375, 1453.1483154296875, 513.0964965820312, 487.169921875, 554.1409301757812, 1176.8280029296875, 594.1575317382812, 1201.6697998046875, 1816.52392578125, 1017.1132202148438, 1319.29541015625, 94.14386749267578, 75.59024047851562, 45.78239822387695, 76.79631042480469, 282.73193359375, 29.792638778686523, 24.921052932739258, 25.233566284179688, 40.78422546386719, 215.11373901367188, 19.209346771240234, 23.79224967956543, 17.482263565063477, 24.11910629272461, 26.16777992248535, 24.142602920532227, 18.541887283325195, 25.69916343688965, 316.4386901855469, 33.70589065551758, 15.455971717834473, 102.65851593017578, 16.072126388549805, 21.04990005493164, 13.117426872253418, 13.553645133972168, 14.232247352600098, 12.611936569213867, 16.989070892333984, 12.318771362304688, 38.12877655029297, 43.71001052856445, 242.5843048095703, 454.8695068359375, 36.648414611816406, 26.20904541015625, 63.61622619628906, 1017.1132202148438, 107.27205657958984, 118.82657623291016, 63.49213790893555, 77.51651763916016, 55.75213623046875, 97.52789306640625, 1136.40771484375, 48.54083251953125, 656.2967529296875, 55.46123504638672, 94.8663330078125, 81.45046997070312, 373.2113037109375, 206.83486938476562, 293.6920166015625, 179.6236114501953, 906.8984375, 737.0313110351562, 1073.7659912109375, 197.92803955078125, 179.56167602539062, 2676.396484375, 773.86474609375, 1082.67138671875, 615.5776977539062, 1455.4989013671875, 506.6204528808594, 566.2283325195312, 433.65985107421875], \"Category\": [\"Default\", \"Default\", \"Default\", \"Default\", \"Default\", \"Default\", \"Default\", \"Default\", \"Default\", \"Default\", \"Default\", \"Default\", \"Default\", \"Default\", \"Default\", \"Default\", \"Default\", \"Default\", \"Default\", \"Default\", \"Default\", \"Default\", \"Default\", \"Default\", \"Default\", \"Default\", \"Default\", \"Default\", \"Default\", \"Default\", \"Topic1\", \"Topic1\", \"Topic1\", \"Topic1\", \"Topic1\", \"Topic1\", \"Topic1\", \"Topic1\", \"Topic1\", \"Topic1\", \"Topic1\", \"Topic1\", \"Topic1\", \"Topic1\", \"Topic1\", \"Topic1\", \"Topic1\", \"Topic1\", \"Topic1\", \"Topic1\", \"Topic1\", \"Topic1\", \"Topic1\", \"Topic1\", \"Topic1\", \"Topic1\", \"Topic1\", \"Topic1\", \"Topic1\", \"Topic1\", \"Topic1\", \"Topic1\", \"Topic1\", \"Topic1\", \"Topic1\", \"Topic1\", \"Topic1\", \"Topic1\", \"Topic1\", \"Topic1\", \"Topic1\", \"Topic1\", \"Topic1\", \"Topic1\", \"Topic1\", \"Topic1\", \"Topic1\", \"Topic1\", \"Topic1\", \"Topic1\", \"Topic1\", \"Topic1\", \"Topic1\", \"Topic1\", \"Topic1\", \"Topic1\", \"Topic1\", \"Topic1\", \"Topic1\", \"Topic1\", \"Topic1\", \"Topic1\", \"Topic1\", \"Topic1\", \"Topic1\", \"Topic1\", \"Topic1\", \"Topic1\", \"Topic1\", \"Topic1\", \"Topic1\", \"Topic1\", \"Topic1\", \"Topic1\", \"Topic1\", \"Topic1\", \"Topic1\", \"Topic1\", \"Topic1\", \"Topic1\", \"Topic1\", \"Topic1\", \"Topic1\", \"Topic1\", \"Topic1\", \"Topic1\", \"Topic1\", \"Topic1\", \"Topic1\", \"Topic1\", \"Topic1\", \"Topic1\", \"Topic2\", \"Topic2\", \"Topic2\", \"Topic2\", \"Topic2\", \"Topic2\", \"Topic2\", \"Topic2\", \"Topic2\", \"Topic2\", \"Topic2\", \"Topic2\", \"Topic2\", \"Topic2\", \"Topic2\", \"Topic2\", \"Topic2\", \"Topic2\", \"Topic2\", \"Topic2\", \"Topic2\", \"Topic2\", \"Topic2\", \"Topic2\", \"Topic2\", \"Topic2\", \"Topic2\", \"Topic2\", \"Topic2\", \"Topic2\", \"Topic2\", \"Topic2\", \"Topic2\", \"Topic2\", \"Topic2\", \"Topic2\", \"Topic2\", \"Topic2\", \"Topic2\", \"Topic2\", \"Topic2\", \"Topic2\", \"Topic2\", \"Topic2\", \"Topic2\", \"Topic2\", \"Topic2\", \"Topic2\", \"Topic2\", \"Topic2\", \"Topic2\", \"Topic2\", \"Topic2\", \"Topic2\", \"Topic2\", \"Topic2\", \"Topic2\", \"Topic2\", \"Topic2\", \"Topic2\", \"Topic2\", \"Topic2\", \"Topic2\", \"Topic2\", \"Topic2\", \"Topic2\", \"Topic2\", \"Topic2\", \"Topic2\", \"Topic2\", \"Topic2\", \"Topic2\", \"Topic2\", \"Topic2\", \"Topic2\", \"Topic2\", \"Topic2\", \"Topic2\", \"Topic2\", \"Topic2\", \"Topic2\", \"Topic2\", \"Topic2\", \"Topic2\", \"Topic2\", \"Topic2\", \"Topic3\", \"Topic3\", \"Topic3\", \"Topic3\", \"Topic3\", \"Topic3\", \"Topic3\", \"Topic3\", \"Topic3\", \"Topic3\", \"Topic3\", \"Topic3\", \"Topic3\", \"Topic3\", \"Topic3\", \"Topic3\", \"Topic3\", \"Topic3\", \"Topic3\", \"Topic3\", \"Topic3\", \"Topic3\", \"Topic3\", \"Topic3\", \"Topic3\", \"Topic3\", \"Topic3\", \"Topic3\", \"Topic3\", \"Topic3\", \"Topic3\", \"Topic3\", \"Topic3\", \"Topic3\", \"Topic3\", \"Topic3\", \"Topic3\", \"Topic3\", \"Topic3\", \"Topic3\", \"Topic3\", \"Topic3\", \"Topic3\", \"Topic3\", \"Topic3\", \"Topic3\", \"Topic3\", \"Topic3\", \"Topic3\", \"Topic3\", \"Topic3\", \"Topic3\", \"Topic3\", \"Topic3\", \"Topic3\", \"Topic3\", \"Topic3\", \"Topic3\", \"Topic3\", \"Topic3\", \"Topic3\", \"Topic3\", \"Topic3\", \"Topic3\", \"Topic3\", \"Topic3\", \"Topic3\", \"Topic3\", \"Topic3\", \"Topic3\", \"Topic3\", \"Topic3\", \"Topic3\", \"Topic3\", \"Topic3\", \"Topic3\", \"Topic3\", \"Topic3\", \"Topic3\", \"Topic3\", \"Topic3\", \"Topic3\", \"Topic3\", \"Topic3\", \"Topic3\", \"Topic3\", \"Topic3\", \"Topic4\", \"Topic4\", \"Topic4\", \"Topic4\", \"Topic4\", \"Topic4\", \"Topic4\", \"Topic4\", \"Topic4\", \"Topic4\", \"Topic4\", \"Topic4\", \"Topic4\", \"Topic4\", \"Topic4\", \"Topic4\", \"Topic4\", \"Topic4\", \"Topic4\", \"Topic4\", \"Topic4\", \"Topic4\", \"Topic4\", \"Topic4\", \"Topic4\", \"Topic4\", \"Topic4\", \"Topic4\", \"Topic4\", \"Topic4\", \"Topic4\", \"Topic4\", \"Topic4\", \"Topic4\", \"Topic4\", \"Topic4\", \"Topic4\", \"Topic4\", \"Topic4\", \"Topic4\", \"Topic4\", \"Topic4\", \"Topic4\", \"Topic4\", \"Topic4\", \"Topic4\", \"Topic4\", \"Topic4\", \"Topic4\", \"Topic4\", \"Topic4\", \"Topic4\", \"Topic4\", \"Topic4\", \"Topic4\", \"Topic4\", \"Topic4\", \"Topic4\", \"Topic4\", \"Topic4\", \"Topic4\", \"Topic4\", \"Topic4\", \"Topic4\", \"Topic4\", \"Topic4\", \"Topic4\", \"Topic4\", \"Topic4\", \"Topic4\", \"Topic4\", \"Topic4\", \"Topic4\", \"Topic4\", \"Topic4\", \"Topic4\", \"Topic4\", \"Topic4\", \"Topic4\", \"Topic4\", \"Topic4\", \"Topic5\", \"Topic5\", \"Topic5\", \"Topic5\", \"Topic5\", \"Topic5\", \"Topic5\", \"Topic5\", \"Topic5\", \"Topic5\", \"Topic5\", \"Topic5\", \"Topic5\", \"Topic5\", \"Topic5\", \"Topic5\", \"Topic5\", \"Topic5\", \"Topic5\", \"Topic5\", \"Topic5\", \"Topic5\", \"Topic5\", \"Topic5\", \"Topic5\", \"Topic5\", \"Topic5\", \"Topic5\", \"Topic5\", \"Topic5\", \"Topic5\", \"Topic5\", \"Topic5\", \"Topic5\", \"Topic5\", \"Topic5\", \"Topic5\", \"Topic5\", \"Topic5\", \"Topic5\", \"Topic5\", \"Topic5\", \"Topic5\", \"Topic5\", \"Topic5\", \"Topic5\", \"Topic5\", \"Topic5\", \"Topic5\", \"Topic5\", \"Topic5\", \"Topic5\", \"Topic5\", \"Topic5\", \"Topic5\", \"Topic5\", \"Topic5\", \"Topic5\", \"Topic5\", \"Topic5\", \"Topic5\", \"Topic5\", \"Topic5\", \"Topic5\", \"Topic5\", \"Topic5\", \"Topic5\"], \"logprob\": [30.0, 29.0, 28.0, 27.0, 26.0, 25.0, 24.0, 23.0, 22.0, 21.0, 20.0, 19.0, 18.0, 17.0, 16.0, 15.0, 14.0, 13.0, 12.0, 11.0, 10.0, 9.0, 8.0, 7.0, 6.0, 5.0, 4.0, 3.0, 2.0, 1.0, -5.389800071716309, -7.051599979400635, -6.978099822998047, -7.278800010681152, -7.820300102233887, -7.751500129699707, -7.79010009765625, -7.652599811553955, -7.899499893188477, -7.916999816894531, -6.173699855804443, -8.025400161743164, -7.945499897003174, -8.061699867248535, -7.991199970245361, -8.191699981689453, -7.436100006103516, -6.984399795532227, -8.178500175476074, -7.931300163269043, -8.273799896240234, -8.04419994354248, -8.326700210571289, -8.295599937438965, -8.195799827575684, -8.284500122070312, -7.460899829864502, -8.347200393676758, -7.958399772644043, -7.606100082397461, -7.553800106048584, -6.946899890899658, -6.590199947357178, -7.736100196838379, -7.708399772644043, -7.799900054931641, -7.861299991607666, -6.1992998123168945, -6.117400169372559, -6.5802001953125, -7.328199863433838, -6.853099822998047, -6.4670000076293945, -7.408999919891357, -7.581999778747559, -5.037600040435791, -6.9191999435424805, -7.179299831390381, -5.276100158691406, -6.372099876403809, -6.309899806976318, -6.806300163269043, -4.820799827575684, -5.722899913787842, -6.389699935913086, -6.590000152587891, -6.650000095367432, -5.921899795532227, -5.6946001052856445, -5.334199905395508, -5.552000045776367, -6.080699920654297, -5.680200099945068, -5.000699996948242, -4.940000057220459, -6.140699863433838, -5.468900203704834, -5.515100002288818, -4.937600135803223, -6.049499988555908, -5.020599842071533, -5.67080020904541, -5.857600212097168, -5.166800022125244, -5.354899883270264, -5.48330020904541, -4.994800090789795, -4.7779998779296875, -5.258999824523926, -5.434800148010254, -5.34119987487793, -5.780099868774414, -5.159599781036377, -5.390699863433838, -5.322000026702881, -5.487400054931641, -5.7256999015808105, -5.692699909210205, -5.66540002822876, -5.581900119781494, -5.633600234985352, -5.644100189208984, -6.304200172424316, -6.874899864196777, -6.964700222015381, -7.144400119781494, -6.63640022277832, -7.486700057983398, -7.555799961090088, -7.7677998542785645, -7.7795000076293945, -7.722300052642822, -7.76140022277832, -7.775100231170654, -7.482399940490723, -7.917699813842773, -7.801599979400635, -7.985899925231934, -7.085999965667725, -7.2866997718811035, -7.598700046539307, -8.011300086975098, -8.083399772644043, -7.984600067138672, -7.967599868774414, -8.101799964904785, -8.107399940490723, -7.865699768066406, -7.815800189971924, -7.893899917602539, -7.992599964141846, -6.657299995422363, -7.346399784088135, -7.500400066375732, -7.699100017547607, -6.803599834442139, -6.641900062561035, -7.698200225830078, -6.706399917602539, -7.568399906158447, -7.174900054931641, -7.058700084686279, -6.618000030517578, -6.93779993057251, -7.216400146484375, -6.662600040435791, -5.658100128173828, -6.6778998374938965, -6.863399982452393, -7.346499919891357, -6.618000030517578, -7.308700084686279, -6.833000183105469, -5.998600006103516, -5.461900234222412, -5.618000030517578, -5.552999973297119, -4.545499801635742, -4.2434000968933105, -5.098800182342529, -4.996799945831299, -6.287399768829346, -5.021299839019775, -5.748300075531006, -4.979700088500977, -5.201200008392334, -6.141300201416016, -5.097499847412109, -5.307600021362305, -5.137499809265137, -5.370699882507324, -5.963200092315674, -5.620800018310547, -5.53249979019165, -5.582499980926514, -6.0644001960754395, -5.357800006866455, -5.194799900054932, -5.441800117492676, -5.243199825286865, -5.402500152587891, -6.0441999435424805, -5.673600196838379, -5.492099761962891, -5.639100074768066, -5.862400054931641, -5.6508002281188965, -5.793099880218506, -6.723899841308594, -6.510000228881836, -7.008299827575684, -7.0152997970581055, -7.072999954223633, -7.0065999031066895, -7.123700141906738, -7.338200092315674, -7.387899875640869, -7.150100231170654, -7.430699825286865, -7.433899879455566, -7.313899993896484, -7.354700088500977, -7.528600215911865, -7.662799835205078, -7.242499828338623, -7.6930999755859375, -7.784999847412109, -7.191100120544434, -7.786600112915039, -7.836299896240234, -7.843699932098389, -7.4745001792907715, -7.86359977722168, -7.167699813842773, -7.872900009155273, -7.864299774169922, -7.42710018157959, -6.873000144958496, -6.900599956512451, -7.26200008392334, -6.792200088500977, -7.46999979019165, -7.4197001457214355, -6.65880012512207, -6.530900001525879, -7.445899963378906, -6.095099925994873, -6.64709997177124, -7.032400131225586, -6.23859977722168, -6.585899829864502, -5.526599884033203, -5.6732001304626465, -5.607399940490723, -6.5777997970581055, -6.725200176239014, -6.326499938964844, -5.991399765014648, -5.445199966430664, -6.7967000007629395, -6.820499897003174, -6.1356000900268555, -5.912300109863281, -6.000400066375732, -5.70959997177124, -5.880799770355225, -6.707799911499023, -5.94980001449585, -5.609899997711182, -6.112500190734863, -5.0980000495910645, -6.1149001121521, -6.031599998474121, -5.725800037384033, -5.517000198364258, -6.451499938964844, -5.664000034332275, -5.044400215148926, -5.892199993133545, -6.195400238037109, -5.60099983215332, -5.843900203704834, -5.685100078582764, -5.593200206756592, -5.788099765777588, -5.689499855041504, -5.648499965667725, -5.585400104522705, -5.692800045013428, -5.797800064086914, -5.7565999031066895, -5.820300102233887, -5.86269998550415, -5.91540002822876, -5.934899806976318, -5.747499942779541, -6.594299793243408, -6.228400230407715, -6.624100208282471, -6.669300079345703, -6.963500022888184, -7.130199909210205, -7.117099761962891, -7.27839994430542, -6.885000228881836, -6.7058000564575195, -6.921899795532227, -7.10129976272583, -7.410900115966797, -7.2067999839782715, -7.359499931335449, -7.237500190734863, -7.615600109100342, -7.296000003814697, -6.009799957275391, -7.547699928283691, -7.271500110626221, -6.932400226593018, -7.268499851226807, -7.875899791717529, -7.7357001304626465, -7.845300197601318, -7.982100009918213, -7.763700008392334, -7.8155999183654785, -7.082200050354004, -7.572800159454346, -7.592599868774414, -7.495299816131592, -5.951700210571289, -6.783199787139893, -6.328199863433838, -6.911200046539307, -7.121099948883057, -6.977499961853027, -7.177299976348877, -6.532199859619141, -6.781000137329102, -6.817200183868408, -5.42579984664917, -6.3730998039245605, -6.917300224304199, -6.7855000495910645, -6.812600135803223, -5.605999946594238, -5.974999904632568, -5.65339994430542, -5.638299942016602, -6.261300086975098, -6.290599822998047, -5.841700077056885, -5.6479997634887695, -5.88670015335083, -5.844200134277344, -5.576000213623047, -5.841800212860107, -6.15339994430542, -5.623499870300293, -5.745200157165527, -5.408599853515625, -5.286600112915039, -5.908100128173828, -5.8730998039245605, -5.436399936676025, -5.577300071716309, -5.239799976348877, -5.570799827575684, -5.939700126647949, -5.965199947357178, -5.965199947357178, -5.790800094604492, -5.967899799346924, -5.837900161743164, -5.831600189208984, -5.929900169372559, -5.933000087738037, -5.719799995422363, -5.940000057220459, -6.446499824523926, -5.930600166320801, -4.633999824523926, -6.886600017547607, -7.071000099182129, -7.065199851989746, -6.58650016784668, -4.928500175476074, -7.344600200653076, -7.13129997253418, -7.440899848937988, -7.122600078582764, -7.041200160980225, -7.124100208282471, -7.388400077819824, -7.0644001960754395, -4.553999900817871, -6.793499946594238, -7.573699951171875, -5.6809000968933105, -7.536099910736084, -7.267300128936768, -7.7444000244140625, -7.711999893188477, -7.663300037384033, -7.786399841308594, -7.489500045776367, -7.812300205230713, -6.685400009155273, -6.5503997802734375, -4.873899936676025, -4.26230001449585, -6.731800079345703, -7.062600135803223, -6.202499866485596, -3.5536999702453613, -5.723499774932861, -5.644199848175049, -6.236599922180176, -6.053500175476074, -6.360300064086914, -5.890399932861328, -3.885200023651123, -6.535099983215332, -4.43149995803833, -6.44920015335083, -6.0569000244140625, -6.175600051879883, -5.156300067901611, -5.6433000564575195, -5.457300186157227, -5.813899993896484, -5.119200229644775, -5.24970006942749, -5.079400062561035, -5.898099899291992, -5.981299877166748, -5.076499938964844, -5.710100173950195, -5.6803998947143555, -5.797800064086914, -5.661499977111816, -5.85699987411499, -5.854800224304199, -5.928299903869629], \"loglift\": [30.0, 29.0, 28.0, 27.0, 26.0, 25.0, 24.0, 23.0, 22.0, 21.0, 20.0, 19.0, 18.0, 17.0, 16.0, 15.0, 14.0, 13.0, 12.0, 11.0, 10.0, 9.0, 8.0, 7.0, 6.0, 5.0, 4.0, 3.0, 2.0, 1.0, 1.3348000049591064, 1.3281999826431274, 1.3252999782562256, 1.3150999546051025, 1.3144999742507935, 1.3135000467300415, 1.3134000301361084, 1.3113000392913818, 1.3107999563217163, 1.3100999593734741, 1.309499979019165, 1.3091000318527222, 1.3061000108718872, 1.3042000532150269, 1.3028000593185425, 1.3015999794006348, 1.301200032234192, 1.2997000217437744, 1.299299955368042, 1.2991000413894653, 1.2985999584197998, 1.2980999946594238, 1.2972999811172485, 1.2968000173568726, 1.2967000007629395, 1.2954000234603882, 1.2950999736785889, 1.2944999933242798, 1.2943999767303467, 1.291599988937378, 1.2890000343322754, 1.2825000286102295, 1.2704999446868896, 1.2900999784469604, 1.2890000343322754, 1.2882000207901, 1.2878999710083008, 1.217900037765503, 1.2062000036239624, 1.2300000190734863, 1.264299988746643, 1.2279000282287598, 1.1806000471115112, 1.257200002670288, 1.2697999477386475, 1.0245000123977661, 1.1921000480651855, 1.219099998474121, 0.9695000052452087, 1.1052000522613525, 1.0882999897003174, 1.1507999897003174, 0.8180999755859375, 0.9646999835968018, 1.069100022315979, 1.0928000211715698, 1.1016000509262085, 0.9355000257492065, 0.876800000667572, 0.7745000123977661, 0.7795000076293945, 0.9254999756813049, 0.7980999946594238, 0.5608000159263611, 0.5072000026702881, 0.9205999970436096, 0.6629999876022339, 0.6635000109672546, 0.4113999903202057, 0.8694000244140625, 0.33000001311302185, 0.6438000202178955, 0.7365999817848206, 0.33980000019073486, 0.42879998683929443, 0.4973999857902527, 0.13259999454021454, -0.03819999843835831, 0.2815999984741211, 0.3953000009059906, 0.3070000112056732, 0.6643999814987183, 0.1039000004529953, 0.26249998807907104, 0.1339000016450882, 0.3346000015735626, 0.48579999804496765, 0.40130001306533813, 0.32710000872612, -0.060499999672174454, 0.11949999630451202, -0.020500000566244125, 1.3593000173568726, 1.3552000522613525, 1.3531999588012695, 1.3515000343322754, 1.347599983215332, 1.3461999893188477, 1.340399980545044, 1.3401999473571777, 1.3398000001907349, 1.3396999835968018, 1.3387999534606934, 1.3379000425338745, 1.337499976158142, 1.3365000486373901, 1.336400032043457, 1.3348000049591064, 1.3336999416351318, 1.333400011062622, 1.3321000337600708, 1.3315999507904053, 1.3310999870300293, 1.330299973487854, 1.3299000263214111, 1.3270000219345093, 1.32669997215271, 1.325700044631958, 1.325600028038025, 1.323699951171875, 1.3233000040054321, 1.3222999572753906, 1.3193000555038452, 1.319599986076355, 1.319200038909912, 1.2970000505447388, 1.2893999814987183, 1.3186999559402466, 1.2724000215530396, 1.3112000226974487, 1.2898999452590942, 1.2836999893188477, 1.2476999759674072, 1.2694000005722046, 1.2806999683380127, 1.2299000024795532, 1.107200026512146, 1.218400001525879, 1.214400053024292, 1.2769999504089355, 1.1639000177383423, 1.270900011062622, 1.1748000383377075, 0.9883000254631042, 0.8360999822616577, 0.8560000061988831, 0.8381999731063843, 0.5820000171661377, 0.4964999854564667, 0.6624000072479248, 0.626800000667572, 0.9842000007629395, 0.5192999839782715, 0.7807999849319458, 0.47609999775886536, 0.551800012588501, 0.902999997138977, 0.4090999960899353, 0.47609999775886536, 0.383899986743927, 0.4593999981880188, 0.7860999703407288, 0.558899998664856, 0.4968999922275543, 0.47450000047683716, 0.808899998664856, 0.2870999872684479, 0.155799999833107, 0.20640000700950623, 0.0203000009059906, 0.04479999840259552, 0.6919000148773193, 0.18880000710487366, -0.14309999346733093, 0.014000000432133675, 0.4000999927520752, -0.0892999991774559, 0.19930000603199005, 1.5976999998092651, 1.5949000120162964, 1.5936000347137451, 1.593400001525879, 1.5924999713897705, 1.5923999547958374, 1.5920000076293945, 1.5875999927520752, 1.5859999656677246, 1.5855000019073486, 1.5853999853134155, 1.5852999687194824, 1.5829999446868896, 1.582800030708313, 1.5825999975204468, 1.5806000232696533, 1.5779999494552612, 1.5779999494552612, 1.5764000415802002, 1.575700044631958, 1.5751999616622925, 1.5743999481201172, 1.5743999481201172, 1.5742000341415405, 1.573699951171875, 1.5729000568389893, 1.57260000705719, 1.5721999406814575, 1.572100043296814, 1.5720000267028809, 1.568600058555603, 1.5714999437332153, 1.559499979019165, 1.5676000118255615, 1.5658999681472778, 1.5321999788284302, 1.5255000591278076, 1.5635000467300415, 1.4677000045776367, 1.503499984741211, 1.5312999486923218, 1.441499948501587, 1.4341000318527222, 1.2372000217437744, 1.2545000314712524, 1.198199987411499, 1.3977999687194824, 1.4177000522613525, 1.3100999593734741, 1.2103999853134155, 1.0440000295639038, 1.4240000247955322, 1.4212000370025635, 1.154099941253662, 1.0351999998092651, 1.0480999946594238, 0.8729000091552734, 0.9139999747276306, 1.3589999675750732, 0.8902999758720398, 0.669700026512146, 0.9405999779701233, 0.1655000001192093, 0.9160000085830688, 0.8432999849319458, 0.5365999937057495, 0.34540000557899475, 1.1730999946594238, 0.3953999876976013, -0.3046000003814697, 0.5615000128746033, 0.8995000123977661, 0.022600000724196434, 0.3677000105381012, 0.06800000369548798, -0.13740000128746033, 0.19259999692440033, -0.04129999876022339, -0.29789999127388, -0.4580000042915344, -0.34380000829696655, -0.15289999544620514, -0.3093999922275543, -0.31369999051094055, -0.2662000060081482, -0.093299999833107, 0.12210000306367874, 1.649999976158142, 1.642799973487854, 1.642799973487854, 1.6403000354766846, 1.6396000385284424, 1.639299988746643, 1.6339999437332153, 1.6338000297546387, 1.6332000494003296, 1.631500005722046, 1.6308000087738037, 1.6298999786376953, 1.6297999620437622, 1.629699945449829, 1.6283999681472778, 1.6276999711990356, 1.6261999607086182, 1.6256999969482422, 1.6253000497817993, 1.6253000497817993, 1.6246000528335571, 1.6186000108718872, 1.6175999641418457, 1.6174999475479126, 1.6153000593185425, 1.614400029182434, 1.6130000352859497, 1.6128000020980835, 1.6122000217437744, 1.6122000217437744, 1.6102999448776245, 1.611899971961975, 1.6119999885559082, 1.6102999448776245, 1.5888999700546265, 1.6018999814987183, 1.5830999612808228, 1.5972000360488892, 1.5901000499725342, 1.5772000551223755, 1.5908000469207764, 1.4672000408172607, 1.5104999542236328, 1.5104000568389893, 1.1567000150680542, 1.3834999799728394, 1.5163999795913696, 1.4744999408721924, 1.470900058746338, 0.9350000023841858, 1.044800043106079, 0.8004000186920166, 0.7788000106811523, 1.1260000467300415, 1.1368000507354736, 0.795799970626831, 0.6564000248908997, 0.800000011920929, 0.7386999726295471, 0.5180000066757202, 0.7102000117301941, 0.974399983882904, 0.4359000027179718, 0.4643000066280365, 0.1128000020980835, -0.023099999874830246, 0.5806000232696533, 0.5198000073432922, -0.08749999850988388, 0.06759999692440033, -0.4999000132083893, -0.22020000219345093, 0.4519999921321869, 0.478300005197525, 0.34950000047683716, -0.22930000722408295, 0.27709999680519104, -0.2973000109195709, -0.704200029373169, -0.2224999964237213, -0.48579999804496765, 2.367500066757202, 2.3666999340057373, 2.3617000579833984, 2.360300064086914, 2.353600025177002, 2.3512001037597656, 2.345400094985962, 2.33870005607605, 2.3371999263763428, 2.3324999809265137, 2.3320999145507812, 2.331399917602539, 2.3299999237060547, 2.3264999389648438, 2.3264000415802, 2.3239998817443848, 2.323699951171875, 2.3213000297546387, 2.321000099182129, 2.3208999633789062, 2.3203999996185303, 2.319700002670288, 2.3189001083374023, 2.3178999423980713, 2.313800096511841, 2.3134000301361084, 2.3132998943328857, 2.3111000061035156, 2.309999942779541, 2.3085999488830566, 2.3057000637054443, 2.3041999340057373, 2.266900062561035, 2.249799966812134, 2.2988998889923096, 2.3034000396728516, 2.276700019836426, 2.153700113296509, 2.2332000732421875, 2.2102999687194824, 2.244499921798706, 2.228100061416626, 2.2507998943328857, 2.161600112915039, 1.7111999988555908, 2.214600086212158, 1.7138999700546265, 2.1672000885009766, 2.022700071334839, 2.05649995803833, 1.5536999702453613, 1.6569000482559204, 1.492300033569336, 1.6273000240325928, 0.7028999924659729, 0.7797999978065491, 0.5737000107765198, 1.4459999799728394, 1.4602999687194824, -0.33660000562667847, 0.27059999108314514, -0.03550000116229057, 0.4117000102996826, -0.3125, 0.5472999811172485, 0.4383000135421753, 0.631600022315979]}, \"token.table\": {\"Topic\": [1, 2, 3, 4, 1, 2, 3, 4, 5, 1, 2, 3, 4, 5, 1, 2, 3, 4, 1, 2, 3, 1, 2, 3, 4, 5, 2, 5, 1, 2, 3, 4, 5, 1, 2, 3, 4, 5, 1, 2, 3, 4, 5, 4, 2, 3, 1, 2, 3, 4, 1, 2, 3, 4, 1, 2, 3, 4, 5, 1, 3, 1, 2, 3, 4, 5, 2, 3, 4, 5, 5, 1, 2, 4, 5, 1, 2, 3, 4, 5, 4, 4, 5, 1, 2, 5, 3, 4, 2, 3, 4, 1, 2, 3, 4, 5, 5, 1, 2, 3, 4, 5, 1, 2, 4, 1, 2, 3, 4, 5, 3, 4, 5, 3, 4, 3, 3, 1, 2, 3, 4, 5, 1, 2, 3, 4, 5, 4, 1, 3, 4, 5, 1, 2, 3, 4, 5, 1, 2, 3, 4, 5, 1, 2, 3, 4, 5, 3, 1, 2, 3, 4, 5, 1, 2, 5, 1, 2, 3, 4, 5, 1, 2, 3, 4, 5, 5, 2, 4, 5, 1, 1, 2, 3, 4, 5, 1, 3, 4, 4, 1, 2, 1, 2, 3, 4, 5, 1, 3, 5, 3, 5, 1, 2, 3, 4, 5, 1, 3, 1, 2, 3, 4, 5, 2, 2, 3, 4, 1, 2, 5, 4, 3, 4, 2, 4, 2, 3, 1, 2, 4, 1, 2, 3, 4, 1, 2, 3, 4, 5, 1, 2, 3, 4, 5, 5, 5, 1, 3, 4, 1, 2, 3, 4, 4, 2, 1, 2, 3, 4, 1, 2, 3, 4, 5, 1, 3, 4, 1, 2, 3, 4, 5, 1, 2, 3, 1, 2, 3, 4, 5, 1, 2, 3, 4, 5, 1, 3, 3, 1, 2, 3, 4, 5, 2, 3, 5, 1, 2, 3, 4, 5, 1, 3, 4, 5, 2, 2, 5, 2, 1, 2, 3, 4, 5, 1, 2, 3, 4, 5, 1, 2, 3, 4, 5, 2, 1, 2, 3, 4, 5, 1, 2, 3, 5, 1, 3, 4, 5, 5, 1, 2, 3, 4, 5, 2, 1, 2, 3, 4, 5, 2, 1, 2, 3, 4, 5, 1, 3, 2, 4, 5, 2, 4, 4, 3, 1, 3, 2, 1, 4, 2, 5, 4, 2, 3, 4, 1, 2, 3, 4, 5, 1, 3, 1, 2, 3, 4, 5, 3, 2, 3, 1, 2, 3, 4, 5, 1, 2, 5, 1, 2, 3, 4, 5, 1, 1, 1, 5, 1, 2, 3, 4, 5, 1, 3, 5, 1, 2, 3, 4, 1, 2, 3, 4, 5, 1, 2, 3, 4, 5, 1, 2, 3, 4, 5, 1, 2, 3, 4, 5, 4, 1, 2, 3, 4, 5, 1, 3, 1, 2, 3, 4, 5, 1, 3, 1, 4, 3, 2, 1, 3, 4, 5, 1, 2, 3, 4, 5, 3, 1, 3, 1, 2, 3, 4, 5, 1, 2, 3, 4, 5, 1, 4, 1, 1, 2, 3, 4, 5, 3, 5, 1, 2, 3, 4, 5, 1, 2, 3, 4, 5, 1, 2, 3, 4, 5, 1, 4, 3, 5, 1, 2, 3, 4, 5, 1, 2, 3, 4, 5, 1, 2, 3, 4, 1, 2, 3, 4, 5, 1, 2, 3, 4, 5, 1, 2, 3, 4, 5, 1, 5, 2, 1, 3, 4, 5, 3, 1, 1, 2, 3, 4, 5, 1, 2, 3, 5, 2, 4, 5, 3, 1, 2, 3, 4, 5, 1, 2, 3, 4, 5, 4, 1, 2, 3, 3, 1, 5, 1, 2, 4, 5, 2, 4, 2, 3, 1, 2, 3, 4, 5, 2, 3, 4, 5, 2, 3, 1, 3, 1, 3, 1, 2, 3, 4, 5, 1, 2, 3, 4, 1, 1, 2, 3, 4, 5, 2, 2, 5, 1, 2, 3, 4, 5, 1, 2, 3, 4, 5, 1, 1, 2, 3, 4, 5, 1, 2, 3, 4, 5, 1, 2, 3, 4, 5, 1, 3, 4, 5, 1, 2, 3, 4, 5, 1, 2, 3, 4, 5, 1, 2, 4, 1, 2, 3, 4, 5, 1, 2, 3, 4, 5, 3, 4, 5, 3, 4, 5, 1, 2, 3, 4, 5, 1, 2, 3, 4, 5, 3, 1, 3, 5, 1, 2, 4, 2, 2, 4, 1, 2, 3, 4, 5, 1, 2, 3, 4, 5, 1, 2, 3, 4, 5, 5, 1, 2, 4, 5, 1, 2, 3, 5, 1, 2, 4, 3, 5, 4, 5, 3, 4, 5, 1, 2, 3, 4, 1, 2, 3, 4, 5, 1, 2, 3, 4, 5, 1, 2, 3, 4, 5, 1, 2, 3, 4, 5, 5, 1, 2, 5, 2, 1, 2, 3, 4, 5, 1, 3, 4, 1, 3, 1, 2, 3, 4, 5, 1, 3, 4, 1, 4, 1, 2, 3, 4, 5, 1, 2, 3, 4, 5, 1, 3, 2, 2, 3, 5, 3, 5, 1, 2, 3, 4, 5, 1, 2, 3, 4, 2, 3, 4, 1, 2, 3, 4, 5, 2, 1, 2, 3, 4, 5, 2, 4, 1, 1, 2, 4, 5, 2, 3, 1, 2, 3, 4, 5, 1, 3, 4, 5, 1, 2, 3, 4, 5, 1, 2, 4, 1, 2, 3, 4, 5, 1, 2, 3, 4, 1, 1, 2, 3, 4, 5, 1, 2, 3, 4, 5, 1, 2, 3, 4, 5, 2, 5, 2, 4, 5, 2, 3, 1, 1, 2, 3, 4, 5, 5, 1, 1, 1, 2, 3, 4, 5, 1, 2, 3, 5, 4, 5, 1, 2, 3, 4, 5, 4, 3, 1, 2, 3, 4, 5, 1, 1, 2, 3, 4, 3, 1, 2, 3, 4, 5, 1, 2, 3, 4, 5, 1, 2, 3, 4, 5, 4, 1, 2, 5, 4, 1, 2, 3, 4, 4, 1, 2, 3, 4, 5, 3, 3, 4, 4, 5, 1, 2, 3, 4, 5, 1, 2, 3, 4, 5, 1, 2, 3, 4, 5, 2, 5, 1, 3, 4, 1, 2, 3, 4, 5, 1, 2, 3, 4, 5, 1, 3, 3, 1, 2, 3, 4, 5, 1, 2, 3, 4, 5, 1, 2, 4, 5, 1, 2, 3, 4, 5, 3, 4, 1, 2, 3, 4, 5, 1, 2, 3, 4, 5, 3, 4, 3, 5, 1, 2, 3, 4, 5, 2, 3, 4, 5, 1, 2, 3, 4, 5, 1, 2, 3, 4, 5, 3, 2, 4, 5, 1, 2, 3, 4, 5, 1, 2, 3, 4, 5, 1, 2, 3, 1, 4, 1, 3, 5, 1, 2, 1, 1, 2, 3, 4, 5], \"Freq\": [0.778558611869812, 0.021330373361706734, 0.10131927579641342, 0.09598667919635773, 0.10461829602718353, 0.05937795341014862, 0.6899152398109436, 0.09048069268465042, 0.05372291058301926, 0.19924601912498474, 0.14661499857902527, 0.5714225172996521, 0.06766846030950546, 0.015037435106933117, 0.030897583812475204, 0.030897583812475204, 0.9166283011436462, 0.020598389208316803, 0.9428885579109192, 0.03673591837286949, 0.012245305813848972, 0.10525799542665482, 0.17224034667015076, 0.6363323926925659, 0.05741345137357712, 0.02870672568678856, 0.03821493312716484, 0.9553733468055725, 0.04382019117474556, 0.04382019117474556, 0.670448899269104, 0.19719085097312927, 0.04382019117474556, 0.07371010631322861, 0.07076170295476913, 0.6633909940719604, 0.12972979247570038, 0.06191649287939072, 0.21988581120967865, 0.05996885895729065, 0.7029682993888855, 0.00999480951577425, 0.006663206499069929, 0.970585286617279, 0.9724676012992859, 0.02210153639316559, 0.09916426986455917, 0.06197766959667206, 0.8305007815361023, 0.012395533733069897, 0.026057522743940353, 0.03908628597855568, 0.06514380872249603, 0.8598982691764832, 0.17842605710029602, 0.7703474164009094, 0.025489436462521553, 0.01982511766254902, 0.0028321596328169107, 0.9695951342582703, 0.017629001289606094, 0.8711450099945068, 0.07919500023126602, 0.004949687514454126, 0.009899375028908253, 0.029698124155402184, 0.01363029982894659, 0.01363029982894659, 0.9813815951347351, 0.987849771976471, 0.933292806148529, 0.0031601698137819767, 0.05056271702051163, 0.0031601698137819767, 0.9417306184768677, 0.012573916465044022, 0.06915654242038727, 0.8676002025604248, 0.025147832930088043, 0.018860874697566032, 0.9965469837188721, 0.9810754656791687, 0.9148135781288147, 0.9526033997535706, 0.8599447011947632, 0.13162419199943542, 0.01690245233476162, 0.9803422689437866, 0.9627196788787842, 0.014811071567237377, 0.014811071567237377, 0.0836106613278389, 0.5601914525032043, 0.11984194815158844, 0.11426790803670883, 0.12262897193431854, 0.9921915531158447, 0.24571426212787628, 0.3746938407421112, 0.12244896590709686, 0.21387752890586853, 0.0424489751458168, 0.9354276061058044, 0.04563061520457268, 0.02281530760228634, 0.3897063434123993, 0.06687268614768982, 0.22828951478004456, 0.1406632363796234, 0.17294660210609436, 0.9569326043128967, 0.015189406462013721, 0.015189406462013721, 0.03247051686048508, 0.9741154313087463, 0.9825834631919861, 0.9833658933639526, 0.02741670235991478, 0.9184595346450806, 0.01370835117995739, 0.01370835117995739, 0.02741670235991478, 0.01618334650993347, 0.01618334650993347, 0.03236669301986694, 0.9386340975761414, 0.01618334650993347, 0.9744777679443359, 0.9501140117645264, 0.026392055675387383, 0.10761919617652893, 0.8788900971412659, 0.074576735496521, 0.01864418387413025, 0.01864418387413025, 0.009322091937065125, 0.8669545650482178, 0.007073838263750076, 0.003536919131875038, 0.007073838263750076, 0.010610757395625114, 0.972652792930603, 0.019482066854834557, 0.009741033427417278, 0.009741033427417278, 0.019482066854834557, 0.9448801875114441, 0.979578971862793, 0.01081492193043232, 0.01769714429974556, 0.02162984386086464, 0.15337525308132172, 0.7963715195655823, 0.01894036866724491, 0.9470184445381165, 0.01894036866724491, 0.07150347530841827, 0.22472521662712097, 0.10214782506227493, 0.19067592918872833, 0.4119962155818939, 0.5802246928215027, 0.2911750376224518, 0.09564143419265747, 0.023379016667604446, 0.008501460775732994, 0.9417819380760193, 0.9942882657051086, 0.11024986952543259, 0.8662489652633667, 0.9451035857200623, 0.09357959777116776, 0.6288548707962036, 0.20213192701339722, 0.05614775791764259, 0.022459102794528008, 0.02356705255806446, 0.9308985471725464, 0.04713410511612892, 0.9693810343742371, 0.009579269215464592, 0.9770854711532593, 0.014504324644804, 0.3577733337879181, 0.033843424171209335, 0.10636504739522934, 0.48347747325897217, 0.9315774440765381, 0.033875543624162674, 0.02540665864944458, 0.013021458871662617, 0.9766094088554382, 0.16959930956363678, 0.4192494750022888, 0.06512613594532013, 0.14382021129131317, 0.20216237008571625, 0.9689147472381592, 0.9576617479324341, 0.8485637307167053, 0.006843255832791328, 0.0958055853843689, 0.04790279269218445, 0.006843255832791328, 0.9652532339096069, 0.02643921971321106, 0.9518119692802429, 0.9768510460853577, 0.0180977676063776, 0.9591817259788513, 0.0180977676063776, 0.9645503163337708, 0.9547334909439087, 0.04151015356183052, 0.029408005997538567, 0.9704642295837402, 0.026710793375968933, 0.9615885615348816, 0.9380322694778442, 0.9435505270957947, 0.03629040718078613, 0.7896767854690552, 0.06074437126517296, 0.14426787197589874, 0.01518609281629324, 0.2363651990890503, 0.05371936410665512, 0.5672764778137207, 0.1332240253686905, 0.008595098741352558, 0.3621846139431, 0.3111911118030548, 0.1699783354997635, 0.11898483335971832, 0.036610718816518784, 0.9707749485969543, 0.9829105138778687, 0.006757988594472408, 0.0202739667147398, 0.973150372505188, 0.008511582389473915, 0.885204553604126, 0.08511582016944885, 0.01702316477894783, 0.9890655279159546, 0.9693707227706909, 0.32766976952552795, 0.020061414688825607, 0.6486523747444153, 0.006687138229608536, 0.29434412717819214, 0.4425453543663025, 0.2140684574842453, 0.04322536289691925, 0.005145876202732325, 0.06312241405248642, 0.10099586099386215, 0.8332158327102661, 0.2983720600605011, 0.4563661217689514, 0.12661544978618622, 0.09468633681535721, 0.024222087115049362, 0.009088652208447456, 0.927042543888092, 0.06362056732177734, 0.24529804289340973, 0.08609798550605774, 0.2258041501045227, 0.3037796914577484, 0.13970616459846497, 0.1508447378873825, 0.5891818404197693, 0.14729546010494232, 0.05501396581530571, 0.0567886084318161, 0.9096499681472778, 0.07580415904521942, 0.9759199023246765, 0.23967315256595612, 0.4462335705757141, 0.06937906891107559, 0.178178071975708, 0.06622547656297684, 0.12017732113599777, 0.8483104705810547, 0.035346269607543945, 0.29892611503601074, 0.41054558753967285, 0.1743098646402359, 0.10779688507318497, 0.008409686386585236, 0.07509764283895493, 0.045058585703372955, 0.8711326718330383, 0.9514795541763306, 0.9720037579536438, 0.9383593201637268, 0.02345898374915123, 0.9778818488121033, 0.5465620756149292, 0.07398875057697296, 0.21480605006217957, 0.13843056559562683, 0.028640806674957275, 0.17719459533691406, 0.12994270026683807, 0.49220719933509827, 0.18900756537914276, 0.011812972836196423, 0.009810410439968109, 0.8240745067596436, 0.058862462639808655, 0.09810410439968109, 0.009810410439968109, 0.9898642301559448, 0.6888610124588013, 0.12968777120113373, 0.06400175392627716, 0.06568600982427597, 0.052211958914995193, 0.8972629904747009, 0.0738922506570816, 0.021112071350216866, 0.9134186506271362, 0.885921061038971, 0.03261059150099754, 0.05435098707675934, 0.02717549353837967, 0.9501232504844666, 0.19488830864429474, 0.3398999869823456, 0.1717972755432129, 0.20412471890449524, 0.08959320187568665, 0.9846112132072449, 0.7592915296554565, 0.039664484560489655, 0.04533083736896515, 0.07366260886192322, 0.0849953219294548, 0.9776338934898376, 0.30630919337272644, 0.14137347042560577, 0.10995715111494064, 0.4241204261779785, 0.01832619123160839, 0.0224039014428854, 0.963367760181427, 0.014306983910501003, 0.9442608952522278, 0.028613967821002007, 0.9503349661827087, 0.022100813686847687, 0.9782735109329224, 0.9694754481315613, 0.9506838321685791, 0.027162395417690277, 0.9910340905189514, 0.9330365061759949, 0.05281338840723038, 0.9432632923126221, 0.026950379833579063, 0.9665997624397278, 0.06235740706324577, 0.00890820100903511, 0.9264528751373291, 0.055022869259119034, 0.601019024848938, 0.15237101912498474, 0.13967344164848328, 0.05290660634636879, 0.8937050104141235, 0.09661675989627838, 0.24598124623298645, 0.5568121075630188, 0.05814102292060852, 0.06708579510450363, 0.07155817747116089, 0.9646866321563721, 0.9612962007522583, 0.0320432074368, 0.25254830718040466, 0.20839649438858032, 0.19426791369915009, 0.2013322114944458, 0.14305183291435242, 0.02861330471932888, 0.9537768363952637, 0.009537768550217152, 0.18850219249725342, 0.28443634510040283, 0.16325636208057404, 0.2524583041667938, 0.10939859598875046, 0.9569161534309387, 0.9600799083709717, 0.03891177102923393, 0.9338825345039368, 0.366787850856781, 0.3836793899536133, 0.14639340341091156, 0.04987027868628502, 0.053087715059518814, 0.029668403789401054, 0.029668403789401054, 0.9493889212608337, 0.10175102204084396, 0.8140081763267517, 0.03130800649523735, 0.046962007880210876, 0.5065420866012573, 0.26905351877212524, 0.07665770500898361, 0.07665770500898361, 0.07214842736721039, 0.212609201669693, 0.270593523979187, 0.12455892562866211, 0.34146326780319214, 0.04939405620098114, 0.45801085233688354, 0.2328292727470398, 0.11811411380767822, 0.15210379660129547, 0.03908812627196312, 0.19705650210380554, 0.14984504878520966, 0.25247862935066223, 0.3079007863998413, 0.09442290663719177, 0.963413655757904, 0.10407527536153793, 0.07285269349813461, 0.7805646061897278, 0.03122258372604847, 0.010407527908682823, 0.026082929223775864, 0.9650683999061584, 0.4658319652080536, 0.24081143736839294, 0.10264094173908234, 0.02960796281695366, 0.15988300740718842, 0.02747521921992302, 0.9616326689720154, 0.023707576096057892, 0.972010612487793, 0.975046694278717, 0.9924131631851196, 0.025800952687859535, 0.07740285992622375, 0.03870142996311188, 0.8643319010734558, 0.26188164949417114, 0.14193585515022278, 0.16192682087421417, 0.41581207513809204, 0.015992771834135056, 0.9827278256416321, 0.9562704563140869, 0.020346179604530334, 0.6594581604003906, 0.1729726344347, 0.09369350969791412, 0.06486473977565765, 0.01081078965216875, 0.10715841501951218, 0.33891963958740234, 0.05731729418039322, 0.42364954948425293, 0.07226963341236115, 0.9540342092514038, 0.9871397614479065, 0.9698588848114014, 0.27125129103660583, 0.24978536367416382, 0.14245571196079254, 0.32198894023895264, 0.013660137541592121, 0.024519283324480057, 0.9562520980834961, 0.15517877042293549, 0.18733292818069458, 0.2963774800300598, 0.2949794828891754, 0.06430832296609879, 0.8299600481987, 0.018650786951184273, 0.13055551052093506, 0.009325393475592136, 0.009325393475592136, 0.32786062359809875, 0.09670709073543549, 0.47881802916526794, 0.08727225661277771, 0.009434837847948074, 0.9536592960357666, 0.02889876626431942, 0.9786503314971924, 0.959151566028595, 0.4343227446079254, 0.2668090760707855, 0.1470481902360916, 0.11748695373535156, 0.034867096692323685, 0.3633490204811096, 0.29797372221946716, 0.14864277839660645, 0.15345990657806396, 0.03647253289818764, 0.053825899958610535, 0.9365706443786621, 0.010765179991722107, 0.010765179991722107, 0.06091805920004845, 0.0473807118833065, 0.7445540428161621, 0.11506744474172592, 0.03384336456656456, 0.34618493914604187, 0.42857030034065247, 0.06241315230727196, 0.1423019915819168, 0.01997220888733864, 0.12216304242610931, 0.6812939047813416, 0.03289005160331726, 0.15505309402942657, 0.009397157467901707, 0.988842248916626, 0.013184563256800175, 0.9538964033126831, 0.0171040091663599, 0.9236165285110474, 0.051312029361724854, 0.0171040091663599, 0.9746509790420532, 0.9387404918670654, 0.6241229772567749, 0.1320895254611969, 0.10236938297748566, 0.11557833105325699, 0.029720142483711243, 0.012277400121092796, 0.1596062034368515, 0.09821920096874237, 0.7243666052818298, 0.10300606489181519, 0.041202425956726074, 0.8446497321128845, 0.9498942494392395, 0.6274664998054504, 0.3218972980976105, 0.013995534740388393, 0.027991069480776787, 0.004665178246796131, 0.19517365097999573, 0.1054992750287056, 0.04747467115521431, 0.5907959342002869, 0.06329956650733948, 0.9650061726570129, 0.08382943272590637, 0.9101481437683105, 0.9756897687911987, 0.9711028337478638, 0.052453819662332535, 0.9179418683052063, 0.019455982372164726, 0.019455982372164726, 0.9533431529998779, 0.019455982372164726, 0.9751684665679932, 0.9763997793197632, 0.9121637940406799, 0.06401149183511734, 0.2558732032775879, 0.477388858795166, 0.20433689653873444, 0.055152878165245056, 0.007233164273202419, 0.006149180233478546, 0.055342622101306915, 0.934675395488739, 0.006149180233478546, 0.9788745045661926, 0.9936072826385498, 0.966145396232605, 0.9679916501045227, 0.09052984416484833, 0.9052984118461609, 0.2855122983455658, 0.065887451171875, 0.02745310589671135, 0.5984777212142944, 0.02196248434484005, 0.1221066266298294, 0.07631663978099823, 0.03052665665745735, 0.7631664276123047, 0.9586090445518494, 0.19904515147209167, 0.1921815276145935, 0.20590877532958984, 0.3889387845993042, 0.016015127301216125, 0.9727872610092163, 0.9853979349136353, 0.9704986810684204, 0.4303077459335327, 0.10596166551113129, 0.24293650686740875, 0.10079281032085419, 0.12146825343370438, 0.5922136902809143, 0.13405147194862366, 0.11936089396476746, 0.11017929017543793, 0.04407171532511711, 0.968419075012207, 0.1837174892425537, 0.005567196756601334, 0.15588150918483734, 0.1837174892425537, 0.47321173548698425, 0.6676326990127563, 0.21736878156661987, 0.06521063297986984, 0.0031052683480083942, 0.04968429356813431, 0.1850423663854599, 0.15860773622989655, 0.5135869383811951, 0.0830802470445633, 0.06042199581861496, 0.018594814464449883, 0.02324351854622364, 0.004648703616112471, 0.9529842138290405, 0.2990245223045349, 0.04077607020735741, 0.5640689730644226, 0.06796011328697205, 0.03058205172419548, 0.12031186372041702, 0.05425829067826271, 0.14154337346553802, 0.6086364984512329, 0.07784885168075562, 0.019061900675296783, 0.9149712324142456, 0.06671664863824844, 0.21363294124603271, 0.17701014876365662, 0.48830386996269226, 0.10071267187595367, 0.02136329375207424, 0.17951303720474243, 0.07919692993164062, 0.15311406552791595, 0.07655703276395798, 0.5112601518630981, 0.07859630137681961, 0.015719259157776833, 0.8959978222846985, 0.9640745520591736, 0.02095814235508442, 0.9724141359329224, 0.16721421480178833, 0.5710523128509521, 0.08518459647893906, 0.13881933689117432, 0.03785981982946396, 0.2840249836444855, 0.10024410486221313, 0.13922792673110962, 0.08353675901889801, 0.3954073190689087, 0.9501423835754395, 0.022878054529428482, 0.045756109058856964, 0.9151221513748169, 0.9820018410682678, 0.03182872757315636, 0.9548618197441101, 0.9838975667953491, 0.016316955909132957, 0.9790173768997192, 0.32930219173431396, 0.08188996464014053, 0.39028406143188477, 0.17423395812511444, 0.02265041507780552, 0.08766555041074753, 0.5902813673019409, 0.22793042659759521, 0.04285871237516403, 0.05259932950139046, 0.21243567764759064, 0.2338741421699524, 0.18709930777549744, 0.3001384735107422, 0.06626433879137039, 0.9370438456535339, 0.01737959310412407, 0.9037388563156128, 0.03475918620824814, 0.01737959310412407, 0.9570541977882385, 0.012933164834976196, 0.012933164834976196, 0.012933164834976196, 0.018159519881010056, 0.907975971698761, 0.05447855964303017, 0.8254244327545166, 0.15780173242092133, 0.9680187106132507, 0.02361021190881729, 0.04196566715836525, 0.9442275166511536, 0.020982833579182625, 0.3960101008415222, 0.08372785151004791, 0.033943723887205124, 0.4865266978740692, 0.16968625783920288, 0.2572086453437805, 0.1875479817390442, 0.36795127391815186, 0.016075540333986282, 0.4011135995388031, 0.4106639325618744, 0.0647299736738205, 0.09338094294071198, 0.029712120071053505, 0.24382969737052917, 0.07770396769046783, 0.10449844598770142, 0.13665181398391724, 0.4367499053478241, 0.008793731220066547, 0.002198432805016637, 0.015389028936624527, 0.09453260898590088, 0.8771746754646301, 0.9733948111534119, 0.1622755080461502, 0.01803061179816723, 0.8113775253295898, 0.9612466096878052, 0.24173060059547424, 0.49487337470054626, 0.09025992453098297, 0.1462833285331726, 0.026974229142069817, 0.8595380187034607, 0.03264068439602852, 0.09792205691337585, 0.8843877911567688, 0.10148712247610092, 0.38793593645095825, 0.4034978449344635, 0.11671425402164459, 0.04890882968902588, 0.042239442467689514, 0.01556167658418417, 0.9648239016532898, 0.01556167658418417, 0.9536910653114319, 0.020732413977384567, 0.2514575123786926, 0.4188467562198639, 0.14758650958538055, 0.11582738161087036, 0.06613370031118393, 0.165971577167511, 0.41004741191864014, 0.22594450414180756, 0.1213405653834343, 0.0767095535993576, 0.9496988654136658, 0.02261187694966793, 0.9802804589271545, 0.9851908683776855, 0.9595451354980469, 0.020415853708982468, 0.9787723422050476, 0.892946183681488, 0.0854995921254158, 0.028499862179160118, 0.8074961304664612, 0.06649968028068542, 0.00949995405972004, 0.01945803500711918, 0.1459352672100067, 0.00972901750355959, 0.8269664645195007, 0.050856813788414, 0.01695227064192295, 0.932374894618988, 0.42484086751937866, 0.11231425404548645, 0.2897382378578186, 0.0797593966126442, 0.09440908581018448, 0.9553248882293701, 0.7797797322273254, 0.0779779776930809, 0.021266719326376915, 0.09215578436851501, 0.02835562638938427, 0.023088566958904266, 0.9697197675704956, 0.9795694947242737, 0.1421734243631363, 0.012924856506288052, 0.8271908164024353, 0.012924856506288052, 0.9448609948158264, 0.03047938644886017, 0.13103827834129333, 0.08837465941905975, 0.14322789013385773, 0.12494347989559174, 0.5134872198104858, 0.01236683502793312, 0.020611390471458435, 0.07420101016759872, 0.8904120922088623, 0.03076043166220188, 0.1332951933145523, 0.020506953820586205, 0.010253476910293102, 0.7997711896896362, 0.010521838441491127, 0.8627907037734985, 0.12626205384731293, 0.6865081191062927, 0.0943293645977974, 0.06812676042318344, 0.0943293645977974, 0.05764571949839592, 0.10491358488798141, 0.8742798566818237, 0.008742798119783401, 0.008742798119783401, 0.9687366485595703, 0.5668798685073853, 0.21882149577140808, 0.1351112574338913, 0.05433822423219681, 0.02349761128425598, 0.36498022079467773, 0.1323191225528717, 0.1819387823343277, 0.13342177867889404, 0.18634942173957825, 0.4321567416191101, 0.0036936472170054913, 0.4986423850059509, 0.05540470778942108, 0.0073872944340109825, 0.03815476596355438, 0.9157143831253052, 0.027286309748888016, 0.05457261949777603, 0.9277345538139343, 0.9630471467971802, 0.02469351701438427, 0.9382539987564087, 0.498068243265152, 0.10827570408582687, 0.11910327523946762, 0.2706892490386963, 0.0036091902293264866, 0.9511140584945679, 0.9537912607192993, 0.9629981517791748, 0.5707541108131409, 0.07891456037759781, 0.14865300059318542, 0.12112466990947723, 0.08074977993965149, 0.15811720490455627, 0.05270573869347572, 0.07378803193569183, 0.6957157254219055, 0.042030494660139084, 0.966701328754425, 0.1993938386440277, 0.016277046874165535, 0.2034630924463272, 0.5045884847640991, 0.07324671745300293, 0.9741058349609375, 0.9722768068313599, 0.26680853962898254, 0.5088616609573364, 0.09352052211761475, 0.11002413928508759, 0.019254224374890327, 0.9550961852073669, 0.40180835127830505, 0.03652803227305412, 0.01461121253669262, 0.5442676544189453, 0.9495190978050232, 0.24797211587429047, 0.30766910314559937, 0.28241267800331116, 0.11480190604925156, 0.04592076316475868, 0.04740320146083832, 0.1485300362110138, 0.4645513594150543, 0.22753536701202393, 0.11060746759176254, 0.2450191229581833, 0.06125478073954582, 0.4987889230251312, 0.18376433849334717, 0.008750682696700096, 0.9823828935623169, 0.058909378945827484, 0.09257188439369202, 0.8415625691413879, 0.9783505797386169, 0.09455829858779907, 0.027016656473279, 0.0135083282366395, 0.864533007144928, 0.9513316750526428, 0.16167491674423218, 0.10609916597604752, 0.23746003210544586, 0.10609916597604752, 0.39408260583877563, 0.9840897917747498, 0.971676766872406, 0.9688724875450134, 0.041460905224084854, 0.9536008238792419, 0.5075432658195496, 0.08835773169994354, 0.19109928607940674, 0.11712536960840225, 0.09657705575227737, 0.390766441822052, 0.12736091017723083, 0.09986253082752228, 0.3212968409061432, 0.060785889625549316, 0.18406884372234344, 0.210027277469635, 0.18406884372234344, 0.40117570757865906, 0.02123871259391308, 0.041420552879571915, 0.9526727795600891, 0.01687130704522133, 0.01687130704522133, 0.9616645574569702, 0.7907912731170654, 0.173165962100029, 0.01731659658253193, 0.011544398032128811, 0.011544398032128811, 0.13016699254512787, 0.38022464513778687, 0.3425447344779968, 0.10790158808231354, 0.03939264267683029, 0.9923741221427917, 0.005437666550278664, 0.9847952127456665, 0.339925080537796, 0.25890183448791504, 0.11082489043474197, 0.12665702402591705, 0.16390907764434814, 0.3943665027618408, 0.22122998535633087, 0.14153222739696503, 0.17519766092300415, 0.06733086705207825, 0.9522384405136108, 0.03071736916899681, 0.9841417670249939, 0.008557754568755627, 0.6548815369606018, 0.11041607707738876, 0.1446831375360489, 0.08376391977071762, 0.0038074508775025606, 0.039647169411182404, 0.9317085146903992, 0.5071826577186584, 0.19531257450580597, 0.14333422482013702, 0.09765628725290298, 0.05670364946126938, 0.3549397885799408, 0.31323668360710144, 0.19183430075645447, 0.10286766290664673, 0.03614269196987152, 0.9837709665298462, 0.010810669511556625, 0.9730157256126404, 0.022113993763923645, 0.7274895906448364, 0.18923139572143555, 0.019623996689915657, 0.05046170577406883, 0.012615426443517208, 0.049657098948955536, 0.8441706895828247, 0.03972567990422249, 0.05958851799368858, 0.9695685505867004, 0.01741739921271801, 0.01161159947514534, 0.9593916535377502, 0.9630411863327026, 0.13785050809383392, 0.6857179403305054, 0.07776182889938354, 0.03888091444969177, 0.060088686645030975, 0.9774527549743652, 0.9419180154800415, 0.026911944150924683, 0.026911944150924683, 0.011229044757783413, 0.14597758650779724, 0.8309493064880371, 0.011229044757783413, 0.011229044757783413, 0.18043366074562073, 0.012443700805306435, 0.3504975736141205, 0.4251597821712494, 0.03110925294458866, 0.015495307743549347, 0.9297184348106384, 0.04648592323064804, 0.9533946514129639, 0.9625043272972107, 0.9555649161338806, 0.023889124393463135, 0.023889124393463135, 0.9527797102928162, 0.962003231048584, 0.9612857103347778, 0.29014021158218384, 0.2604954242706299, 0.23589660227298737, 0.18669891357421875, 0.027121800929307938], \"Term\": [\"0\", \"0\", \"0\", \"0\", \"000\", \"000\", \"000\", \"000\", \"000\", \"1\", \"1\", \"1\", \"1\", \"1\", \"12\", \"12\", \"12\", \"12\", \"17\", \"17\", \"17\", \"2\", \"2\", \"2\", \"2\", \"2\", \"2014\", \"2014\", \"2019\", \"2019\", \"2019\", \"2019\", \"2019\", \"2020\", \"2020\", \"2020\", \"2020\", \"2020\", \"5\", \"5\", \"5\", \"5\", \"5\", \"55\", \"65\", \"65\", \"Adrien\", \"Adrien\", \"Adrien\", \"Adrien\", \"Afrique\", \"Afrique\", \"Afrique\", \"Afrique\", \"Agn\\u00e8s\", \"Agn\\u00e8s\", \"Agn\\u00e8s\", \"Agn\\u00e8s\", \"Agn\\u00e8s\", \"Anne\", \"Anne\", \"Assembl\\u00e9e\", \"Assembl\\u00e9e\", \"Assembl\\u00e9e\", \"Assembl\\u00e9e\", \"Assembl\\u00e9e\", \"Baptiste\", \"Baptiste\", \"Baptiste\", \"Bonjour\", \"Bruno\", \"Buzyn\", \"Buzyn\", \"Buzyn\", \"Buzyn\", \"Car\", \"Car\", \"Car\", \"Car\", \"Car\", \"Charles\", \"Chers\", \"Ch\\u00e8re\", \"Daniel\", \"Ecoutez\", \"Ecoutez\", \"Emmanuelle\", \"Emmanuelle\", \"Ensemble\", \"Ensemble\", \"Ensemble\", \"Europe\", \"Europe\", \"Europe\", \"Europe\", \"Europe\", \"Fabien\", \"France\", \"France\", \"France\", \"France\", \"France\", \"Fran\\u00e7ois\", \"Fran\\u00e7ois\", \"Fran\\u00e7ois\", \"Gouvernement\", \"Gouvernement\", \"Gouvernement\", \"Gouvernement\", \"Gouvernement\", \"Guyane\", \"Guyane\", \"Guyane\", \"Herv\\u00e9\", \"Herv\\u00e9\", \"Internet\", \"LR\", \"Lecoq\", \"Lecoq\", \"Lecoq\", \"Lecoq\", \"Lecoq\", \"Lemoyne\", \"Lemoyne\", \"Lemoyne\", \"Lemoyne\", \"Lemoyne\", \"Lors\", \"Marie\", \"Marie\", \"Mathilde\", \"Mathilde\", \"Merci\", \"Merci\", \"Merci\", \"Merci\", \"Merci\", \"Mesdames\", \"Mesdames\", \"Mesdames\", \"Mesdames\", \"Mesdames\", \"Messieurs\", \"Messieurs\", \"Messieurs\", \"Messieurs\", \"Messieurs\", \"Minist\\u00e8re\", \"Mme\", \"Mme\", \"Mme\", \"Mme\", \"Mme\", \"MoDem\", \"MoDem\", \"MoDem\", \"Monsieur\", \"Monsieur\", \"Monsieur\", \"Monsieur\", \"Monsieur\", \"Non\", \"Non\", \"Non\", \"Non\", \"Non\", \"Nouvelle\", \"PME\", \"Panot\", \"Panot\", \"Pardon\", \"Paris\", \"Paris\", \"Paris\", \"Paris\", \"Paris\", \"Parisiens\", \"Parisiens\", \"Parisiens\", \"Patrick\", \"Paul\", \"Paul\", \"Pr\\u00e9sident\", \"Pr\\u00e9sident\", \"Pr\\u00e9sident\", \"Pr\\u00e9sident\", \"Pr\\u00e9sident\", \"Quand\", \"Quand\", \"Quand\", \"Roussel\", \"Roussel\", \"R\\u00e9publique\", \"R\\u00e9publique\", \"R\\u00e9publique\", \"R\\u00e9publique\", \"R\\u00e9publique\", \"Sant\\u00e9\", \"S\\u00e9bastien\", \"S\\u00e9nat\", \"S\\u00e9nat\", \"S\\u00e9nat\", \"S\\u00e9nat\", \"S\\u00e9nat\", \"Territoires\", \"Trois\", \"Trois\", \"Vive\", \"Yves\", \"Yves\", \"Yves\", \"accueil\", \"acc\\u00e9l\\u00e9rer\", \"acc\\u00e9l\\u00e9rer\", \"adapt\\u00e9s\", \"adapt\\u00e9s\", \"adh\\u00e9sion\", \"adh\\u00e9sion\", \"alin\\u00e9a\", \"alternance\", \"alternance\", \"amendements\", \"amendements\", \"amendements\", \"amendements\", \"ann\\u00e9e\", \"ann\\u00e9e\", \"ann\\u00e9e\", \"ann\\u00e9e\", \"ann\\u00e9e\", \"ans\", \"ans\", \"ans\", \"ans\", \"ans\", \"apais\\u00e9\", \"argent\", \"arm\\u00e9es\", \"arm\\u00e9es\", \"arm\\u00e9es\", \"artistes\", \"artistes\", \"artistes\", \"artistes\", \"assur\\u00e9s\", \"atteinte\", \"augmentation\", \"augmentation\", \"augmentation\", \"augmentation\", \"aujourd\", \"aujourd\", \"aujourd\", \"aujourd\", \"aujourd\", \"auquel\", \"auquel\", \"auquel\", \"aussi\", \"aussi\", \"aussi\", \"aussi\", \"aussi\", \"auteurs\", \"auteurs\", \"auteurs\", \"autres\", \"autres\", \"autres\", \"autres\", \"autres\", \"avoir\", \"avoir\", \"avoir\", \"avoir\", \"avoir\", \"baisser\", \"baisser\", \"baiss\\u00e9\", \"beaucoup\", \"beaucoup\", \"beaucoup\", \"beaucoup\", \"beaucoup\", \"besoins\", \"besoins\", \"besoins\", \"bien\", \"bien\", \"bien\", \"bien\", \"bien\", \"bonnes\", \"bonnes\", \"bonnes\", \"but\", \"b\\u00e9n\\u00e9ficie\", \"b\\u00e9n\\u00e9fici\\u00e9\", \"b\\u00e9n\\u00e9fici\\u00e9\", \"cabinet\", \"certain\", \"certain\", \"certain\", \"certain\", \"certain\", \"certains\", \"certains\", \"certains\", \"certains\", \"certains\", \"champ\", \"champ\", \"champ\", \"champ\", \"champ\", \"chef\", \"choses\", \"choses\", \"choses\", \"choses\", \"choses\", \"ch\\u00f4mage\", \"ch\\u00f4mage\", \"ch\\u00f4mage\", \"citoyenne\", \"citoyens\", \"citoyens\", \"citoyens\", \"citoyens\", \"civils\", \"comme\", \"comme\", \"comme\", \"comme\", \"comme\", \"commerces\", \"commission\", \"commission\", \"commission\", \"commission\", \"commission\", \"compl\\u00e9mentaire\", \"compte\", \"compte\", \"compte\", \"compte\", \"compte\", \"comptes\", \"comptes\", \"comp\\u00e9tence\", \"comp\\u00e9tence\", \"comp\\u00e9tence\", \"concernent\", \"concernent\", \"conduire\", \"conduite\", \"conflit\", \"conflit\", \"conform\\u00e9ment\", \"conseiller\", \"conseiller\", \"consiste\", \"consiste\", \"construit\", \"contrat\", \"contrat\", \"contrat\", \"contre\", \"contre\", \"contre\", \"contre\", \"contre\", \"cotisation\", \"cotisation\", \"crois\", \"crois\", \"crois\", \"crois\", \"crois\", \"cr\\u00e9\\u00e9s\", \"dates\", \"dates\", \"depuis\", \"depuis\", \"depuis\", \"depuis\", \"depuis\", \"deuil\", \"deuil\", \"deuil\", \"deux\", \"deux\", \"deux\", \"deux\", \"deux\", \"diff\\u00e9rente\", \"dignit\\u00e9\", \"dira\", \"dira\", \"dire\", \"dire\", \"dire\", \"dire\", \"dire\", \"directeurs\", \"directeurs\", \"directeurs\", \"disent\", \"disent\", \"disent\", \"disent\", \"dit\", \"dit\", \"dit\", \"dit\", \"dit\", \"doit\", \"doit\", \"doit\", \"doit\", \"doit\", \"donc\", \"donc\", \"donc\", \"donc\", \"donc\", \"dont\", \"dont\", \"dont\", \"dont\", \"dont\", \"droite\", \"dynamique\", \"dynamique\", \"dynamique\", \"dynamique\", \"dynamique\", \"dynamisme\", \"dynamisme\", \"d\\u00e9bat\", \"d\\u00e9bat\", \"d\\u00e9bat\", \"d\\u00e9bat\", \"d\\u00e9bat\", \"d\\u00e9di\\u00e9e\", \"d\\u00e9di\\u00e9e\", \"d\\u00e9l\\u00e9gu\\u00e9\", \"d\\u00e9l\\u00e9gu\\u00e9\", \"d\\u00e9mographique\", \"d\\u00e9placements\", \"d\\u00e9put\\u00e9\", \"d\\u00e9put\\u00e9\", \"d\\u00e9put\\u00e9\", \"d\\u00e9put\\u00e9\", \"d\\u00e9veloppement\", \"d\\u00e9veloppement\", \"d\\u00e9veloppement\", \"d\\u00e9veloppement\", \"d\\u00e9veloppement\", \"effective\", \"enfance\", \"enfance\", \"enfants\", \"enfants\", \"enfants\", \"enfants\", \"enfants\", \"engagement\", \"engagement\", \"engagement\", \"engagement\", \"engagement\", \"ennemi\", \"enqu\\u00eate\", \"enracinement\", \"ensemble\", \"ensemble\", \"ensemble\", \"ensemble\", \"ensemble\", \"entend\", \"entend\", \"entre\", \"entre\", \"entre\", \"entre\", \"entre\", \"essayer\", \"essayer\", \"essayer\", \"essayer\", \"essayer\", \"euros\", \"euros\", \"euros\", \"euros\", \"euros\", \"examin\\u00e9\", \"examin\\u00e9\", \"exclusion\", \"exister\", \"faire\", \"faire\", \"faire\", \"faire\", \"faire\", \"fait\", \"fait\", \"fait\", \"fait\", \"fait\", \"famille\", \"famille\", \"famille\", \"famille\", \"familles\", \"familles\", \"familles\", \"familles\", \"familles\", \"faut\", \"faut\", \"faut\", \"faut\", \"faut\", \"fa\\u00e7on\", \"fa\\u00e7on\", \"fa\\u00e7on\", \"fa\\u00e7on\", \"fa\\u00e7on\", \"fera\", \"fera\", \"fermer\", \"feuille\", \"feuille\", \"feuille\", \"feuille\", \"fier\", \"finance\", \"financement\", \"financement\", \"financement\", \"financement\", \"financement\", \"financi\\u00e8re\", \"financi\\u00e8re\", \"financi\\u00e8re\", \"financi\\u00e8re\", \"financi\\u00e8res\", \"financi\\u00e8res\", \"financi\\u00e8res\", \"financ\\u00e9s\", \"fond\", \"fond\", \"fond\", \"fond\", \"fond\", \"formation\", \"formation\", \"formation\", \"formation\", \"formation\", \"frais\", \"futur\", \"futur\", \"garanties\", \"gauche\", \"globalit\\u00e9\", \"globalit\\u00e9\", \"g\\u00e9ographique\", \"g\\u00e9ographique\", \"g\\u00e9ographique\", \"g\\u00e9ographique\", \"heureuse\", \"heureusement\", \"honneur\", \"honneur\", \"hui\", \"hui\", \"hui\", \"hui\", \"hui\", \"h\\u00f4pital\", \"h\\u00f4pital\", \"h\\u00f4pital\", \"h\\u00f4pital\", \"inadmissible\", \"indispensable\", \"injuste\", \"innovants\", \"inqui\\u00e9tudes\", \"inqui\\u00e9tudes\", \"jeunes\", \"jeunes\", \"jeunes\", \"jeunes\", \"jeunes\", \"juin\", \"juin\", \"juin\", \"juin\", \"lecture\", \"leurs\", \"leurs\", \"leurs\", \"leurs\", \"leurs\", \"levier\", \"le\\u00e7ons\", \"lisible\", \"loi\", \"loi\", \"loi\", \"loi\", \"loi\", \"l\\u00e0\", \"l\\u00e0\", \"l\\u00e0\", \"l\\u00e0\", \"l\\u00e0\", \"l\\u00e9gislatif\", \"madame\", \"madame\", \"madame\", \"madame\", \"madame\", \"majorit\\u00e9\", \"majorit\\u00e9\", \"majorit\\u00e9\", \"majorit\\u00e9\", \"majorit\\u00e9\", \"mati\\u00e8re\", \"mati\\u00e8re\", \"mati\\u00e8re\", \"mati\\u00e8re\", \"mati\\u00e8re\", \"messieurs\", \"messieurs\", \"messieurs\", \"messieurs\", \"mesure\", \"mesure\", \"mesure\", \"mesure\", \"mesure\", \"mesures\", \"mesures\", \"mesures\", \"mesures\", \"mesures\", \"militaire\", \"militaire\", \"militaire\", \"millions\", \"millions\", \"millions\", \"millions\", \"millions\", \"ministre\", \"ministre\", \"ministre\", \"ministre\", \"ministre\", \"minutes\", \"minutes\", \"minutes\", \"mobilis\\u00e9\", \"mobilis\\u00e9\", \"mode\", \"monde\", \"monde\", \"monde\", \"monde\", \"monde\", \"monsieur\", \"monsieur\", \"monsieur\", \"monsieur\", \"monsieur\", \"monter\", \"multiples\", \"multiples\", \"multiples\", \"m\\u00e9decins\", \"m\\u00e9dicaux\", \"m\\u00e9dicaux\", \"naissance\", \"nation\", \"nation\", \"nombre\", \"nombre\", \"nombre\", \"nombre\", \"nombre\", \"non\", \"non\", \"non\", \"non\", \"non\", \"notamment\", \"notamment\", \"notamment\", \"notamment\", \"notamment\", \"nulle\", \"n\\u00e9gociations\", \"n\\u00e9gociations\", \"n\\u00e9gociations\", \"n\\u00e9gociations\", \"obstruction\", \"obstruction\", \"obstruction\", \"obstruction\", \"offrir\", \"offrir\", \"offrir\", \"opposition\", \"opposition\", \"op\\u00e9rateurs\", \"op\\u00e9rateurs\", \"orientation\", \"orientation\", \"orientation\", \"outre\", \"outre\", \"outre\", \"outre\", \"o\\u00f9\", \"o\\u00f9\", \"o\\u00f9\", \"o\\u00f9\", \"o\\u00f9\", \"parce\", \"parce\", \"parce\", \"parce\", \"parce\", \"parlementaires\", \"parlementaires\", \"parlementaires\", \"parlementaires\", \"parlementaires\", \"parole\", \"parole\", \"parole\", \"parole\", \"parole\", \"partag\\u00e9\", \"parti\", \"parti\", \"parti\", \"participent\", \"pense\", \"pense\", \"pense\", \"pense\", \"pense\", \"petite\", \"petite\", \"petite\", \"petits\", \"petits\", \"peut\", \"peut\", \"peut\", \"peut\", \"peut\", \"plafond\", \"plafond\", \"plafond\", \"pleine\", \"pleine\", \"plus\", \"plus\", \"plus\", \"plus\", \"plus\", \"politique\", \"politique\", \"politique\", \"politique\", \"politique\", \"pos\\u00e9\", \"pos\\u00e9\", \"pourrez\", \"poursuit\", \"prenne\", \"prenne\", \"priv\\u00e9e\", \"productif\", \"produits\", \"produits\", \"produits\", \"produits\", \"produits\", \"professionnelle\", \"professionnelle\", \"professionnelle\", \"professionnelle\", \"progressive\", \"progressive\", \"progressive\", \"projet\", \"projet\", \"projet\", \"projet\", \"projet\", \"promesse\", \"proposition\", \"proposition\", \"proposition\", \"proposition\", \"proposition\", \"pr\\u00e9fet\", \"pr\\u00e9fet\", \"pr\\u00e9sentent\", \"pr\\u00e9sents\", \"pr\\u00e9sents\", \"pr\\u00e9sents\", \"pr\\u00e9sents\", \"pr\\u00e9sent\\u00e9e\", \"pr\\u00e9sent\\u00e9e\", \"pr\\u00e9sident\", \"pr\\u00e9sident\", \"pr\\u00e9sident\", \"pr\\u00e9sident\", \"pr\\u00e9sident\", \"pr\\u00e9sidente\", \"pr\\u00e9sidente\", \"pr\\u00e9sidente\", \"pr\\u00e9sidente\", \"pr\\u00e9sidents\", \"pr\\u00e9sidents\", \"pr\\u00e9sidents\", \"pr\\u00e9sidents\", \"pr\\u00e9sidents\", \"pr\\u00e9vention\", \"pr\\u00e9vention\", \"pr\\u00e9vention\", \"puis\", \"puis\", \"puis\", \"puis\", \"puis\", \"p\\u00e9nibilit\\u00e9\", \"p\\u00e9nibilit\\u00e9\", \"p\\u00e9nibilit\\u00e9\", \"p\\u00e9nibilit\\u00e9\", \"p\\u00e9riodes\", \"quand\", \"quand\", \"quand\", \"quand\", \"quand\", \"question\", \"question\", \"question\", \"question\", \"question\", \"quotidien\", \"quotidien\", \"quotidien\", \"quotidien\", \"quotidien\", \"rapatriement\", \"rapatriement\", \"ravie\", \"ravie\", \"ravie\", \"redonner\", \"redonner\", \"responsable\", \"retraite\", \"retraite\", \"retraite\", \"retraite\", \"retraite\", \"r\\u00e9affirm\\u00e9e\", \"r\\u00e9alisation\", \"r\\u00e9alisations\", \"r\\u00e9forme\", \"r\\u00e9forme\", \"r\\u00e9forme\", \"r\\u00e9forme\", \"r\\u00e9forme\", \"r\\u00e9formes\", \"r\\u00e9formes\", \"r\\u00e9formes\", \"r\\u00e9formes\", \"r\\u00e9plique\", \"r\\u00e9plique\", \"r\\u00e9pondre\", \"r\\u00e9pondre\", \"r\\u00e9pondre\", \"r\\u00e9pondre\", \"r\\u00e9pondre\", \"r\\u00e9publicain\", \"r\\u00e9sidence\", \"savez\", \"savez\", \"savez\", \"savez\", \"savez\", \"second\", \"secr\\u00e9taire\", \"secr\\u00e9taire\", \"secr\\u00e9taire\", \"secr\\u00e9taire\", \"seuil\", \"si\", \"si\", \"si\", \"si\", \"si\", \"sociale\", \"sociale\", \"sociale\", \"sociale\", \"sociale\", \"sociaux\", \"sociaux\", \"sociaux\", \"sociaux\", \"sociaux\", \"soin\", \"soins\", \"soins\", \"soins\", \"solidarit\\u00e9s\", \"sommet\", \"sommet\", \"sommet\", \"sommet\", \"souffrance\", \"souhaite\", \"souhaite\", \"souhaite\", \"souhaite\", \"souhaite\", \"source\", \"sources\", \"sp\\u00e9ciale\", \"suffisant\", \"suffisant\", \"sujet\", \"sujet\", \"sujet\", \"sujet\", \"sujet\", \"syst\\u00e8me\", \"syst\\u00e8me\", \"syst\\u00e8me\", \"syst\\u00e8me\", \"syst\\u00e8me\", \"s\\u00e9curit\\u00e9\", \"s\\u00e9curit\\u00e9\", \"s\\u00e9curit\\u00e9\", \"s\\u00e9curit\\u00e9\", \"s\\u00e9curit\\u00e9\", \"s\\u00e9quence\", \"s\\u00e9quence\", \"technologiques\", \"technologiques\", \"technologiques\", \"telle\", \"telle\", \"telle\", \"telle\", \"telle\", \"territoires\", \"territoires\", \"territoires\", \"territoires\", \"territoires\", \"texte\", \"texte\", \"tour\", \"tous\", \"tous\", \"tous\", \"tous\", \"tous\", \"tout\", \"tout\", \"tout\", \"tout\", \"tout\", \"tradition\", \"tradition\", \"trajectoire\", \"trajectoire\", \"transition\", \"transition\", \"transition\", \"transition\", \"transition\", \"transitions\", \"transitions\", \"travail\", \"travail\", \"travail\", \"travail\", \"travail\", \"tr\\u00e8s\", \"tr\\u00e8s\", \"tr\\u00e8s\", \"tr\\u00e8s\", \"tr\\u00e8s\", \"t\\u00eate\", \"t\\u00eate\", \"utilisation\", \"utilisation\", \"va\", \"va\", \"va\", \"va\", \"va\", \"violence\", \"violence\", \"violence\", \"violence\", \"visibilit\\u00e9\", \"visibilit\\u00e9\", \"visibilit\\u00e9\", \"vive\", \"vivent\", \"volont\\u00e9\", \"volont\\u00e9\", \"volont\\u00e9\", \"volont\\u00e9\", \"volont\\u00e9\", \"vols\", \"v\\u00e9cu\", \"v\\u00e9cu\", \"v\\u00e9cu\", \"z\\u00e9ro\", \"z\\u00e9ro\", \"z\\u00e9ro\", \"z\\u00e9ro\", \"z\\u00e9ro\", \"\\u00c9tat\", \"\\u00c9tat\", \"\\u00c9tat\", \"\\u00c9tat\", \"\\u00c9tat\", \"\\u00c9tats\", \"\\u00c9tats\", \"\\u00c9tats\", \"\\u00e9chapp\\u00e9\", \"\\u00e9ch\\u00e9ant\", \"\\u00e9cologie\", \"\\u00e9cologie\", \"\\u00e9cologie\", \"\\u00e9cosyst\\u00e8me\", \"\\u00e9couter\", \"\\u00e9norm\\u00e9ment\", \"\\u00eatre\", \"\\u00eatre\", \"\\u00eatre\", \"\\u00eatre\", \"\\u00eatre\"]}, \"R\": 30, \"lambda.step\": 0.01, \"plot.opts\": {\"xlab\": \"PC1\", \"ylab\": \"PC2\"}, \"topic.order\": [2, 5, 1, 3, 4]};\n",
       "\n",
       "function LDAvis_load_lib(url, callback){\n",
       "  var s = document.createElement('script');\n",
       "  s.src = url;\n",
       "  s.async = true;\n",
       "  s.onreadystatechange = s.onload = callback;\n",
       "  s.onerror = function(){console.warn(\"failed to load library \" + url);};\n",
       "  document.getElementsByTagName(\"head\")[0].appendChild(s);\n",
       "}\n",
       "\n",
       "if(typeof(LDAvis) !== \"undefined\"){\n",
       "   // already loaded: just create the visualization\n",
       "   !function(LDAvis){\n",
       "       new LDAvis(\"#\" + \"ldavis_el890414784518048725917296881\", ldavis_el890414784518048725917296881_data);\n",
       "   }(LDAvis);\n",
       "}else if(typeof define === \"function\" && define.amd){\n",
       "   // require.js is available: use it to load d3/LDAvis\n",
       "   require.config({paths: {d3: \"https://cdnjs.cloudflare.com/ajax/libs/d3/3.5.5/d3.min\"}});\n",
       "   require([\"d3\"], function(d3){\n",
       "      window.d3 = d3;\n",
       "      LDAvis_load_lib(\"https://cdn.rawgit.com/bmabey/pyLDAvis/files/ldavis.v1.0.0.js\", function(){\n",
       "        new LDAvis(\"#\" + \"ldavis_el890414784518048725917296881\", ldavis_el890414784518048725917296881_data);\n",
       "      });\n",
       "    });\n",
       "}else{\n",
       "    // require.js not available: dynamically load d3 & LDAvis\n",
       "    LDAvis_load_lib(\"https://cdnjs.cloudflare.com/ajax/libs/d3/3.5.5/d3.min.js\", function(){\n",
       "         LDAvis_load_lib(\"https://cdn.rawgit.com/bmabey/pyLDAvis/files/ldavis.v1.0.0.js\", function(){\n",
       "                 new LDAvis(\"#\" + \"ldavis_el890414784518048725917296881\", ldavis_el890414784518048725917296881_data);\n",
       "            })\n",
       "         });\n",
       "}\n",
       "</script>"
      ],
      "text/plain": [
       "<IPython.core.display.HTML object>"
      ]
     },
     "execution_count": 737,
     "metadata": {},
     "output_type": "execute_result"
    }
   ],
   "source": [
    "import pyLDAvis.gensim\n",
    "lda_display = pyLDAvis.gensim.prepare(ldamodel, corpus, dictionary)\n",
    "pyLDAvis.display(lda_display)"
   ]
  },
  {
   "cell_type": "code",
   "execution_count": null,
   "metadata": {},
   "outputs": [],
   "source": []
  }
 ],
 "metadata": {
  "kernelspec": {
   "display_name": "Python 3",
   "language": "python",
   "name": "python3"
  },
  "language_info": {
   "codemirror_mode": {
    "name": "ipython",
    "version": 3
   },
   "file_extension": ".py",
   "mimetype": "text/x-python",
   "name": "python",
   "nbconvert_exporter": "python",
   "pygments_lexer": "ipython3",
   "version": "3.7.6"
  }
 },
 "nbformat": 4,
 "nbformat_minor": 4
}
