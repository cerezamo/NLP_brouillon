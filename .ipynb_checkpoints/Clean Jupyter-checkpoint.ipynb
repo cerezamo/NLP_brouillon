{
 "cells": [
  {
   "cell_type": "code",
   "execution_count": 72,
   "metadata": {},
   "outputs": [],
   "source": [
    "import pandas as pd\n",
    "import seaborn as sns \n",
    "import matplotlib.pyplot as plt\n",
    "import numpy as np\n",
    "from functools import reduce\n",
    "from operator import add\n",
    "from spacy.lang.fr.stop_words import STOP_WORDS as fr_stop\n",
    "from nltk.corpus import stopwords\n",
    "from collections import Counter\n",
    "import spacy\n",
    "from spacy.tokenizer import Tokenizer\n",
    "import nltk\n",
    "from nltk.tokenize import word_tokenize\n",
    "from nltk import RegexpTokenizer\n",
    "sent_detector = nltk.data.load('tokenizers/punkt/french.pickle')\n",
    "nlp = spacy.load('fr_core_news_sm') # sm moi j'ai  ? "
   ]
  },
  {
   "cell_type": "markdown",
   "metadata": {},
   "source": [
    "## Importations des données\n",
    "\n",
    "Nous importons un dataframe contenant uniquement 500 discours politiques ou déclaration. Les autres types d'élocutions n'ont pas été sélectionnées. Nous avons gardé du genre dans notre corpus de documents"
   ]
  },
  {
   "cell_type": "code",
   "execution_count": 73,
   "metadata": {},
   "outputs": [],
   "source": [
    "df = pd.read_csv('minimal_df.csv')"
   ]
  },
  {
   "cell_type": "code",
   "execution_count": 74,
   "metadata": {},
   "outputs": [
    {
     "data": {
      "text/plain": [
       "500"
      ]
     },
     "execution_count": 74,
     "metadata": {},
     "output_type": "execute_result"
    }
   ],
   "source": [
    "len(df)"
   ]
  },
  {
   "cell_type": "code",
   "execution_count": 75,
   "metadata": {},
   "outputs": [
    {
     "data": {
      "text/plain": [
       "Index(['Unnamed: 0', 'Id', 'Titre', 'Prenom', 'Nom', 'Fonction', 'Date',\n",
       "       'Tags', 'Texte', 'Lien', 'Type', 'sexe'],\n",
       "      dtype='object')"
      ]
     },
     "execution_count": 75,
     "metadata": {},
     "output_type": "execute_result"
    }
   ],
   "source": [
    "df.columns"
   ]
  },
  {
   "cell_type": "markdown",
   "metadata": {},
   "source": [
    "La variable que nous souhaitons classifier à l'aide des discours est le sexe. Dans un premier temps intéressons nous aux variables qui ne sont pas propres au texte."
   ]
  },
  {
   "cell_type": "code",
   "execution_count": 76,
   "metadata": {},
   "outputs": [
    {
     "data": {
      "text/plain": [
       "1.0    410\n",
       "0.0     87\n",
       "2.0      3\n",
       "Name: sexe, dtype: int64"
      ]
     },
     "execution_count": 76,
     "metadata": {},
     "output_type": "execute_result"
    }
   ],
   "source": [
    "df.sexe.map(str).value_counts()"
   ]
  },
  {
   "cell_type": "code",
   "execution_count": 77,
   "metadata": {},
   "outputs": [],
   "source": [
    "df= df.loc[df['sexe'] != 0] # Ne prenons pas le troisième sexe ^^ "
   ]
  },
  {
   "cell_type": "code",
   "execution_count": 78,
   "metadata": {},
   "outputs": [
    {
     "data": {
      "text/plain": [
       "413"
      ]
     },
     "execution_count": 78,
     "metadata": {},
     "output_type": "execute_result"
    }
   ],
   "source": [
    "len(df)"
   ]
  },
  {
   "cell_type": "code",
   "execution_count": 79,
   "metadata": {},
   "outputs": [
    {
     "data": {
      "image/png": "[encoded data removed]",
      "text/plain": [
       "<Figure size 432x288 with 1 Axes>"
      ]
     },
     "metadata": {},
     "output_type": "display_data"
    }
   ],
   "source": [
    "labels = ['Masculin','Féminin']\n",
    "colors = ['#ff9999','#66b3ff','#99ff99','#ffcc99']\n",
    "sizes = [ 361/500,139/500] #A modifier \n",
    "fig, ax1 = plt.subplots()\n",
    "plt.pie(sizes, colors = colors, labels=labels, autopct='%1.1f%%', startangle=90, pctdistance=0.85)\n",
    "centre_circle = plt.Circle((0,0),0.70,fc='white')\n",
    "fig = plt.gcf()\n",
    "fig.gca().add_artist(centre_circle)\n",
    "ax1.axis('equal')  \n",
    "plt.tight_layout()\n",
    "plt.title(\"Répartition du genre de l'auteur d'un discours ou d'une déclaration\")\n",
    "plt.show()"
   ]
  },
  {
   "cell_type": "code",
   "execution_count": 80,
   "metadata": {},
   "outputs": [],
   "source": [
    "df['Annee']= df.Date.map(str).apply(lambda x:x[:4])\n"
   ]
  },
  {
   "cell_type": "code",
   "execution_count": 81,
   "metadata": {},
   "outputs": [],
   "source": [
    "lst=[]\n",
    "for an in df.Annee.unique():\n",
    "    for s in df.sexe.unique():\n",
    "        if s == 1:\n",
    "            sexe= 'Masculin'\n",
    "        else:\n",
    "            sexe='Féminin'\n",
    "        lst+=[(an,len(df[(df.Annee == an) & (df.sexe == s)]),sexe)]\n",
    "data = pd.DataFrame(lst,columns=['Annee','Nb','Sexe'])\n",
    "# Ou alors faut changer la et mettre elif sexe=2 "
   ]
  },
  {
   "cell_type": "code",
   "execution_count": 82,
   "metadata": {},
   "outputs": [
    {
     "data": {
      "text/html": [
       "<div>\n",
       "<style scoped>\n",
       "    .dataframe tbody tr th:only-of-type {\n",
       "        vertical-align: middle;\n",
       "    }\n",
       "\n",
       "    .dataframe tbody tr th {\n",
       "        vertical-align: top;\n",
       "    }\n",
       "\n",
       "    .dataframe thead th {\n",
       "        text-align: right;\n",
       "    }\n",
       "</style>\n",
       "<table border=\"1\" class=\"dataframe\">\n",
       "  <thead>\n",
       "    <tr style=\"text-align: right;\">\n",
       "      <th></th>\n",
       "      <th>Annee</th>\n",
       "      <th>Nb</th>\n",
       "      <th>Sexe</th>\n",
       "    </tr>\n",
       "  </thead>\n",
       "  <tbody>\n",
       "    <tr>\n",
       "      <th>0</th>\n",
       "      <td>2008</td>\n",
       "      <td>15</td>\n",
       "      <td>Masculin</td>\n",
       "    </tr>\n",
       "    <tr>\n",
       "      <th>1</th>\n",
       "      <td>2008</td>\n",
       "      <td>0</td>\n",
       "      <td>Féminin</td>\n",
       "    </tr>\n",
       "    <tr>\n",
       "      <th>2</th>\n",
       "      <td>2005</td>\n",
       "      <td>41</td>\n",
       "      <td>Masculin</td>\n",
       "    </tr>\n",
       "    <tr>\n",
       "      <th>3</th>\n",
       "      <td>2005</td>\n",
       "      <td>1</td>\n",
       "      <td>Féminin</td>\n",
       "    </tr>\n",
       "    <tr>\n",
       "      <th>4</th>\n",
       "      <td>2017</td>\n",
       "      <td>30</td>\n",
       "      <td>Masculin</td>\n",
       "    </tr>\n",
       "    <tr>\n",
       "      <th>...</th>\n",
       "      <td>...</td>\n",
       "      <td>...</td>\n",
       "      <td>...</td>\n",
       "    </tr>\n",
       "    <tr>\n",
       "      <th>67</th>\n",
       "      <td>1983</td>\n",
       "      <td>0</td>\n",
       "      <td>Féminin</td>\n",
       "    </tr>\n",
       "    <tr>\n",
       "      <th>68</th>\n",
       "      <td>1981</td>\n",
       "      <td>1</td>\n",
       "      <td>Masculin</td>\n",
       "    </tr>\n",
       "    <tr>\n",
       "      <th>69</th>\n",
       "      <td>1981</td>\n",
       "      <td>0</td>\n",
       "      <td>Féminin</td>\n",
       "    </tr>\n",
       "    <tr>\n",
       "      <th>70</th>\n",
       "      <td>1977</td>\n",
       "      <td>1</td>\n",
       "      <td>Masculin</td>\n",
       "    </tr>\n",
       "    <tr>\n",
       "      <th>71</th>\n",
       "      <td>1977</td>\n",
       "      <td>0</td>\n",
       "      <td>Féminin</td>\n",
       "    </tr>\n",
       "  </tbody>\n",
       "</table>\n",
       "<p>72 rows × 3 columns</p>\n",
       "</div>"
      ],
      "text/plain": [
       "   Annee  Nb      Sexe\n",
       "0   2008  15  Masculin\n",
       "1   2008   0   Féminin\n",
       "2   2005  41  Masculin\n",
       "3   2005   1   Féminin\n",
       "4   2017  30  Masculin\n",
       "..   ...  ..       ...\n",
       "67  1983   0   Féminin\n",
       "68  1981   1  Masculin\n",
       "69  1981   0   Féminin\n",
       "70  1977   1  Masculin\n",
       "71  1977   0   Féminin\n",
       "\n",
       "[72 rows x 3 columns]"
      ]
     },
     "execution_count": 82,
     "metadata": {},
     "output_type": "execute_result"
    }
   ],
   "source": [
    "data"
   ]
  },
  {
   "cell_type": "code",
   "execution_count": 83,
   "metadata": {},
   "outputs": [
    {
     "data": {
      "text/plain": [
       "Text(0.5, 1.0, \"Evolution du nombre d'élocutions par sexe de 1980 à aujourd'hui\")"
      ]
     },
     "execution_count": 83,
     "metadata": {},
     "output_type": "execute_result"
    },
    {
     "data": {
      "image/png": "[encoded data removed]",
      "text/plain": [
       "<Figure size 720x432 with 1 Axes>"
      ]
     },
     "metadata": {
      "needs_background": "light"
     },
     "output_type": "display_data"
    }
   ],
   "source": [
    "plt.figure(figsize=(10,6))\n",
    "sns.barplot(data = data,\n",
    "            x='Annee',\n",
    "            y='Nb',\n",
    "           hue='Sexe')\n",
    "plt.xticks(rotation = 45)\n",
    "plt.title(\"Evolution du nombre d'élocutions par sexe de 1980 à aujourd'hui\")"
   ]
  },
  {
   "cell_type": "code",
   "execution_count": 84,
   "metadata": {},
   "outputs": [],
   "source": [
    "df.Tags.fillna('',inplace=True)\n",
    "arr =df[df.sexe == 2].Tags.apply(lambda x: str(x).split(',')).array\n",
    "arr = reduce(add,arr)\n",
    "c = Counter(arr)\n",
    "d_f = pd.DataFrame(c, index=['occurrences']).transpose().reset_index()\n",
    "d_f.columns=['Themes', 'occurences']\n",
    "d_f['sexe'] = 'Féminin'\n",
    "arr =df[df.sexe == 1].Tags.apply(lambda x: str(x).split(',')).array\n",
    "arr = reduce(add,arr)\n",
    "c = Counter(arr)\n",
    "d_m = pd.DataFrame(c, index=['occurrences']).transpose().reset_index()\n",
    "d_m.columns=['Themes', 'occurences']\n",
    "d_m['sexe'] = 'Masculin'\n",
    "d = pd.concat([d_f,d_m])"
   ]
  },
  {
   "cell_type": "code",
   "execution_count": 85,
   "metadata": {},
   "outputs": [
    {
     "name": "stdout",
     "output_type": "stream",
     "text": [
      "7 927\n"
     ]
    }
   ],
   "source": [
    "print(d_f.occurences.sum(),d_m.occurences.sum()) # Pas sure que ca donne le bon truc la faut vérifier"
   ]
  },
  {
   "cell_type": "code",
   "execution_count": 86,
   "metadata": {},
   "outputs": [
    {
     "data": {
      "image/png": "[encoded data removed]",
      "text/plain": [
       "<Figure size 936x936 with 3 Axes>"
      ]
     },
     "metadata": {
      "needs_background": "light"
     },
     "output_type": "display_data"
    }
   ],
   "source": [
    "plt.figure(figsize=(13,13))\n",
    "plt.subplot(221)\n",
    "sns.barplot(data = d[(d.occurences >= 20) & (d.Themes.apply(len) >0) & (d.sexe == 'Masculin')].sort_values('occurences',ascending=False),\n",
    "            y='Themes',\n",
    "            x='occurences',\n",
    "           hue='sexe')\n",
    "plt.title(\"Thématiques des élocutions des hommes\")\n",
    "plt.subplot(222)\n",
    "sns.barplot(data = d[(d.occurences >= 0) & (d.Themes.apply(len) >0) & (d.sexe == 'Féminin')].sort_values('occurences',ascending=False),\n",
    "            y='Themes',\n",
    "            x='occurences',\n",
    "           hue='sexe',\n",
    "           color = 'red')\n",
    "plt.title(\"Thématiques des élocutions des femmes\")\n",
    "plt.subplot(212)\n",
    "sns.barplot(data = d[(d.occurences >= 20) & (d.Themes.apply(len) >0)].sort_values('occurences',ascending=False),\n",
    "            y='Themes',\n",
    "            x='occurences',\n",
    "           hue='sexe')\n",
    "plt.title(\"Thématiques des élocutions des deux sexes\")\n",
    "plt.subplots_adjust(wspace = 1.5)"
   ]
  },
  {
   "cell_type": "code",
   "execution_count": 16,
   "metadata": {},
   "outputs": [],
   "source": [
    "# THEMES"
   ]
  },
  {
   "cell_type": "code",
   "execution_count": 17,
   "metadata": {},
   "outputs": [],
   "source": [
    "# FONCTIONS"
   ]
  },
  {
   "cell_type": "markdown",
   "metadata": {},
   "source": [
    "Désormais nous allons nous concentrer sur le texte uniquement. Pour le faire, nous créeons dans un premier temps un ensemble de fonctions permettant d'étudier le texte.\n"
   ]
  },
  {
   "cell_type": "markdown",
   "metadata": {},
   "source": [
    "Nous tokenizons notre text pour pouvoir le travailler et sortir d'autres variables par la suite. \n",
    "Nous allons tester plusieurs tokenizer pour voir lequel marche le mieux.\n",
    "\n",
    "Commençons par le tokenizer français de Spacy."
   ]
  },
  {
   "cell_type": "code",
   "execution_count": 19,
   "metadata": {},
   "outputs": [],
   "source": [
    "tokenizer = Tokenizer(nlp.vocab)"
   ]
  },
  {
   "cell_type": "code",
   "execution_count": 20,
   "metadata": {},
   "outputs": [
    {
     "name": "stdout",
     "output_type": "stream",
     "text": [
      "943\n"
     ]
    }
   ],
   "source": [
    "print(len([w for w in tokenizer(df.Texte[0])]))"
   ]
  },
  {
   "cell_type": "markdown",
   "metadata": {},
   "source": [
    "Puis par le tokenizer de nltk"
   ]
  },
  {
   "cell_type": "code",
   "execution_count": 21,
   "metadata": {},
   "outputs": [
    {
     "name": "stdout",
     "output_type": "stream",
     "text": [
      "1053\n"
     ]
    }
   ],
   "source": [
    "print(len(word_tokenize(df.Texte[0], language='french')))"
   ]
  },
  {
   "cell_type": "markdown",
   "metadata": {},
   "source": [
    "Tokenizer basé sur le regex, on remarqu'il ne fonctionne pas bien car tokenize \"c'est\" en deux \"c'\" et \"est\"."
   ]
  },
  {
   "cell_type": "code",
   "execution_count": 22,
   "metadata": {},
   "outputs": [
    {
     "data": {
      "text/plain": [
       "1184"
      ]
     },
     "execution_count": 22,
     "metadata": {},
     "output_type": "execute_result"
    }
   ],
   "source": [
    "toknizer = RegexpTokenizer(r'''\\w'|\\w+|[^\\w\\s]''')\n",
    "len(toknizer.tokenize(df.Texte[0]))"
   ]
  },
  {
   "cell_type": "markdown",
   "metadata": {},
   "source": [
    "On remarque une différence, le tokenizer de nltk tokenize la ponctuation tandis que celui de spacy ne le fait pas visiblement. On va donc utiliser plutôt le tokenizer de nltk.\n",
    "\n",
    "Pour les stopwords, il semblerait que la liste de spacy soit bien plus complète"
   ]
  },
  {
   "cell_type": "code",
   "execution_count": 23,
   "metadata": {},
   "outputs": [
    {
     "data": {
      "text/plain": [
       "(600, 157)"
      ]
     },
     "execution_count": 23,
     "metadata": {},
     "output_type": "execute_result"
    }
   ],
   "source": [
    "len(list(fr_stop)),len(stopwords.words('french'))"
   ]
  },
  {
   "cell_type": "code",
   "execution_count": 24,
   "metadata": {},
   "outputs": [],
   "source": [
    "df['NbToken'] = df.Texte.apply(lambda x : len(word_tokenize(x,language='french')))\n",
    "df['Token'] = df.Texte.apply(lambda x : word_tokenize(x,language='french'))"
   ]
  },
  {
   "cell_type": "code",
   "execution_count": 25,
   "metadata": {},
   "outputs": [],
   "source": [
    "def cleanToken(x):\n",
    "    \"\"\"\n",
    "        Fonction permettant de nettoyer et de tokenizer un texte\n",
    "    \"\"\"\n",
    "    import string\n",
    "    pct = string.punctuation+'...'+'\\x92'+'«'+'»'+'``'+\"''\"+'``'\n",
    "    x = x.replace('\\xa0','').replace('\\x85','').replace('\\x96','')\n",
    "    x = \"\".join(filter(lambda y: not y.isdigit(), x))\n",
    "    sw = list(fr_stop)\n",
    "    tokens = [str(w).lower() for w in word_tokenize(x, language='french')]\n",
    "    tokens = [w for w in tokens if w not in pct]\n",
    "    tokens = [w for w in tokens if w not in sw]\n",
    "    return tokens\n",
    "def count_punct(tokens):\n",
    "    \"\"\"\n",
    "        Permet de compter la ponctuation\n",
    "    \"\"\"\n",
    "    import string\n",
    "    pct = string.punctuation +'...'+'\\x92'+'«'+'»'+'``'\n",
    "    cpt = 0\n",
    "    for x in tokens:\n",
    "        if x in pct:\n",
    "            cpt+=1\n",
    "    return cpt\n",
    "def count_stopwords(tokens):\n",
    "    \"\"\"\n",
    "        compte le nombre de stopwords à l'aide de spacy à partir de tokens\n",
    "    \"\"\"\n",
    "    sw = list(fr_stop)\n",
    "    return len([word for word in tokens if word.lower() in sw])\n",
    "def Hapaxlegomena(tokens):\n",
    "    \"\"\"\n",
    "        Compte le nombre de mot unique\n",
    "    \"\"\"\n",
    "    s = pd.DataFrame(Counter(tokens).items(),columns=['Mot','nb'])\n",
    "    return len(s[s.nb ==1])\n",
    "def Hapaxdislegomena(tokens):\n",
    "    \"\"\"\n",
    "        Compte le nombre de mot présent deux fois seulement\n",
    "    \"\"\"\n",
    "    s = pd.DataFrame(Counter(tokens).items(),columns=['Mot','nb'])\n",
    "    return len(s[s.nb ==2])\n",
    "def extractPos(x):\n",
    "    \"\"\"\n",
    "        Extrait le POS de chaque texte. A voir s'il y a un moyen de pas avoir à taper toutes les variables à la main\n",
    "    \"\"\"\n",
    "    doc = nlp(x)\n",
    "    lst_pos = [token.pos_ for token in doc]\n",
    "    c = Counter(lst_pos)\n",
    "    return [c['NOUN'],c['DET'],c['PUNCT'],c['ADJ'],c['ADP'],c['PRON'],c['VERB'],c['CCONJ'],c['NUM'],c['PROPN'],c['ADV'],c['SCONJ'],c['AUX'],c['INTJ']]\n",
    "def nbArt(x):\n",
    "    \"\"\"\n",
    "        Nombre d'article dans un document\n",
    "    \"\"\"\n",
    "    doc = nlp(x)\n",
    "    lst_pos = [token.tag_ for token in doc if token.tag_.split('|')[-1] == 'PronType=Art']\n",
    "    return len(lst_pos)\n",
    "def f_mesure(NbToken,nbnom,nbadj,nbprep,nbart,nbpro,nbverb,nbadv,nbint):\n",
    "    \"\"\"\n",
    "        Inspiré par Heylighen and Dewaele, 2002\n",
    "        Définit ici : https://www.cs.uic.edu/~liub/publications/EMNLP-2010-blog-gender.pdf comme étant\n",
    "        F = 0.5 * [(freq.nom + freq.adjectif + freq.preposition + freq.article) - (freq.pronom + freq.verbe + freq.adverbe +\n",
    "        freq.interjection) +100]\n",
    "    \"\"\"\n",
    "    nbnom,nbadj,nbprep,nbart,nbpro,nbverb,nbadv,nbint = nbnom/NbToken,nbadj/NbToken,nbprep/NbToken,nbart/NbToken,nbpro/NbToken,nbverb/NbToken,nbadv/NbToken,nbint/NbToken\n",
    "    nbnom,nbadj,nbprep,nbart,nbpro,nbverb,nbadv,nbint = nbnom*100,nbadj*100,nbprep*100,nbart*100,nbpro*100,nbverb*100,nbadv*100,nbint*100\n",
    "    return 0.5*((nbnom + nbadj + nbprep + nbart)-(nbpro + nbverb + nbadv + nbint)+100)\n",
    "def print_nine_dist(lst,df):\n",
    "    \"\"\"\n",
    "        Input : \n",
    "            lst : liste de variables à print\n",
    "            df : dataframe contenant ces valeurs\n",
    "        Output : \n",
    "            Jusqu'à 9 displot des variables (3*3)\n",
    "    \"\"\"\n",
    "    plt.figure(figsize=(10,14))\n",
    "    for j in range(1,10):\n",
    "        if len(lst)>j-1:\n",
    "            var = lst[j-1]\n",
    "        else:\n",
    "            break\n",
    "        q99= df[var].quantile(0.99)\n",
    "        plt.subplot(330+j)\n",
    "        sns.distplot(df[df.sexe == 2][var],color = 'red')\n",
    "        sns.distplot(df[df.sexe == 1][var])\n",
    "        plt.xlim(left=-0.1,right=q99)\n",
    "    plt.subplots_adjust(wspace = 1)\n",
    "    plt.show()\n",
    "def NbSyllables(x):\n",
    "    \"\"\"\n",
    "        Input : document\n",
    "        Output : nbVoyelles\n",
    "    \"\"\"\n",
    "    voyelles= 'aeiouy'\n",
    "    return len([word for word in x if word.lower() in voyelles])\n",
    "def flesh_reading_ease(ASL,ASW):\n",
    "    \"\"\"\n",
    "        Score de lisibilité du texte : Plus il est élévé plus il est facile à comprendre\n",
    "        FRE  = 206.835 - (1.015 × ASL) - (84.6 × ASW)\n",
    "        ASL = NbToken/NbPhrases\n",
    "        ASW = NbSyllables/NbToken\n",
    "    \"\"\"\n",
    "    return 206.835 - (1.015 * ASL) - (84.6 * ASW)"
   ]
  },
  {
   "cell_type": "code",
   "execution_count": 28,
   "metadata": {},
   "outputs": [],
   "source": [
    "df['NbCleanToken'] = df.Texte.apply(lambda x : len(cleanToken(x)))\n",
    "df['NbSyllables'] = df.Texte.apply(NbSyllables)\n",
    "#Pb avec le FRE qui donne des négatifs, marche peut être pas en francais... \n",
    "df['NbPhrases'] = df.Texte.apply(lambda x:len(sent_detector.tokenize(x)))\n",
    "df['FRE'] = df.apply(lambda row : flesh_reading_ease(row.NbToken/row.NbPhrases,row.NbSyllables/row.NbToken),axis=1)\n",
    "df['CleanToken'] = df.Texte.apply(cleanToken)\n",
    "df['NbCleanToken']=df.CleanToken.apply(len)\n",
    "df['NbPonct'] = df.Texte.apply(count_punct)\n",
    "df['NbSw'] = df.Token.apply(count_stopwords)\n",
    "df['Hapaxlegomena']=df.CleanToken.apply(Hapaxlegomena)\n",
    "df['Hapaxdislegomena']= df.CleanToken.apply(Hapaxdislegomena)\n",
    "df['UniqueWordTx']= df.CleanToken.apply(lambda x:len(set(x))/len(x))\n",
    "df['RateCleanRaw'] = df.NbCleanToken/df.NbToken\n",
    "df['NbNom'],df['NbDet'],df['NbPunct'],df['NbAdj'],df['NbAdp'],df['NbPron'],df['NbVerb'],df['NbCconj'],df['NbNum'],df['NbPropn'],df['NbAdv'],df['NbSCONJ'],df['NbAUX'],df['NbIntj']=zip(*df.Texte.apply(extractPos))\n",
    "df['NbArt']= df.Texte.apply(nbArt)\n",
    "df['F_mesure'] = df.apply(lambda row: f_mesure(row.NbToken,row.NbNom,row.NbAdj,row.NbAdp,row.NbArt,row.NbPron,row.NbVerb,row.NbAdv,row.NbIntj),axis=1)"
   ]
  },
  {
   "cell_type": "code",
   "execution_count": 29,
   "metadata": {},
   "outputs": [
    {
     "name": "stdout",
     "output_type": "stream",
     "text": [
      "28\n"
     ]
    }
   ],
   "source": [
    "lst = ['NbCarac', 'NbSyllables','NbPhrases','FRE','NbToken','NbCleanToken', 'NbPonct', 'NbSw','Hapaxlegomena', 'Hapaxdislegomena', \n",
    "       'UniqueWordTx', 'RateCleanRaw','NbNom', 'NbDet', 'NbPunct', 'NbAdj', 'NbAdp', 'NbPron', 'NbVerb',\n",
    "        'NbCconj', 'NbNum', 'NbPropn', 'NbAdv', 'NbSCONJ', 'NbAUX', 'NbIntj','NbArt', 'F_mesure'\n",
    "        ]\n",
    "print(len(lst))"
   ]
  },
  {
   "cell_type": "markdown",
   "metadata": {},
   "source": [
    "Ci dessous, il est possible d'observer des différences entre les hommes et les femmes."
   ]
  },
  {
   "cell_type": "code",
   "execution_count": null,
   "metadata": {},
   "outputs": [],
   "source": [
    "for i in range(0,18,9):\n",
    "    print_nine_dist(lst[i:i+9],df)"
   ]
  },
  {
   "cell_type": "code",
   "execution_count": null,
   "metadata": {},
   "outputs": [],
   "source": [
    "print_nine_dist(lst[18:26],df)"
   ]
  },
  {
   "cell_type": "code",
   "execution_count": null,
   "metadata": {},
   "outputs": [],
   "source": [
    "df.columns"
   ]
  },
  {
   "cell_type": "markdown",
   "metadata": {},
   "source": [
    "TEST : Extracting positive negative sentiment"
   ]
  },
  {
   "cell_type": "code",
   "execution_count": 30,
   "metadata": {},
   "outputs": [],
   "source": [
    "df['Phrases'] = df.Texte.apply(lambda x: sent_detector.tokenize(x))\n",
    "#Marche pas cette histoire ? "
   ]
  },
  {
   "cell_type": "code",
   "execution_count": null,
   "metadata": {},
   "outputs": [],
   "source": [
    "df['Phrases'] = df.Texte.apply(lambda x: x.split('.'))"
   ]
  },
  {
   "cell_type": "code",
   "execution_count": null,
   "metadata": {},
   "outputs": [],
   "source": [
    "#Oups le http, dans mon srapper j'avais pris paragraphe par paragraphe \n",
    "#et j'ai scrap seulement si ca commence pas par source essaye de regarder si tu peux le faire avec le tien"
   ]
  },
  {
   "cell_type": "code",
   "execution_count": null,
   "metadata": {},
   "outputs": [],
   "source": [
    "# Je tente juste les deux packages je veux voir ce que ca donne"
   ]
  },
  {
   "cell_type": "code",
   "execution_count": 100,
   "metadata": {},
   "outputs": [
    {
     "name": "stdout",
     "output_type": "stream",
     "text": [
      "Monsieur le Préfet,Monsieur le directeur de l'Agence régionale de l'hospitalisation,Mesdames et messieurs les élus,Monsieur le Directeur,Mesdames et Messieurs,Je suis très heureux d'être parmi vous aujourd'hui pour visiter l'hôpital local de Dieulefit.\n",
      "0.0\n",
      "Je suis convaincu - Monsieur le Directeur - que les hôpitaux locaux comme celui-ci, et plus généralement les hôpitaux de proximité, doivent retrouver leur place au sein du système de soins français pour plusieurs raisons :La première raison est majeure dans le contexte actuel de la démographie médicale.\n",
      "0.0\n",
      "Nous avons constaté, que d'une façon générale, là où étaient implantés des hôpitaux locaux, les médecins généralistes restaient et le taux de nouvelles installations étaient supérieur à celui des zones géographiques ne disposant pas d'hôpital local.C'est un constat général, même si vous me citerez probablement des endroits où cela n'est pas vérifié.\n",
      "0.0\n",
      "Le maintien d'un tissu rural de généralistes est essentiel pour assurer l'équité dans notre système de soins, l'égal accès de tous à des soins de qualité.\n",
      "0.0\n",
      "La deuxième raison, qui soutient mon action en faveur des hôpitaux locaux, est qu'ils rendent un vrai service de proximité à la population, rurale ou semi-rurale, souvent composée d'une part importante de personnes âgées.\n",
      "0.1\n",
      "Les médecins généralistes peuvent continuer à y suivre les patients.\n",
      "0.0\n",
      "Cela permet ainsi d'éviter des hospitalisations dans des centres hospitaliers plus importants, source d'anxiété et désarrois chez les personnes âgées.L'hôpital local est un acteur incontournable face à la demande de soins de proximité.\n",
      "0.0\n",
      "C'est le premier maillon du dispositif de soins gradués qui trouvera toute sa place dans les prochains schémas régionaux d'organisation sanitaire.\n",
      "0.0\n",
      "Il doit pouvoir s'appuyer, comme à Dieulefit, sur des lits de court séjour de médecine et des lits de soins de suite, à côté des soins de longue durée.Il doit également développer des consultations locales spécialisées, constituant un réel apport aux patients, qui trouvent au plus près de leur domicile, aux côtés de leurs médecins traitants, des médecins spécialistes hospitaliers ou libéraux.\n",
      "0.0\n",
      "Ces consultations constituent le support d'un travail en réseau, dans lequel le généraliste occupe une position centrale.Compte tenu des activités qui se développent dans un hôpital local, au carrefour du sanitaire, du médico-social et du social, un tel hôpital pratique au quotidien la coordination entre un grand nombre d'acteurs.\n",
      "0.17777777777777778\n",
      "Il doit développer ce rôle au maximum et devenir le lieu privilégié d'implantation des réseaux, notamment pour les personnes âgées ou handicapées, mais aussi pour le diabète ou les soins palliatifs.L'hôpital local doit être également un établissement favorisant le maintien ou le retour précoce à domicile des malades.\n",
      "0.0\n",
      "Les soins dispensés dans les lits de médecine évitent les recours indus aux plateaux techniques.\n",
      "0.0\n",
      "Ceux dispensés dans les lits de soins de suite servent de tremplin au retour à domicile.\n",
      "0.0\n",
      "Afin de favoriser le maintien des personnes à domicile, il convient de développer l'hospitalisation à domicile et les services de soins infirmiers à domicile, les SSIAD.\n",
      "0.0\n",
      "Mais - comme je l'ai annoncé avec mon collègue Jean-Louis Borloo - il est possible de développer encore d'autres formes de services à la personne.\n",
      "0.0\n",
      "Nous sommes tous deux convaincus que ces nouveaux services constituent un important gisement d'emplois.Comme vous pouvez le constater, j'ai une vision dynamique de l'hôpital local.\n",
      "0.2\n",
      "Je le conçois comme un animateur local de santé, qui répond à une demande objective de prise en charge de proximité, dont le projet se construit en concertation avec les élus, les usagers et l'ensemble des acteurs d'un territoire donné.L'hôpital local de Dieulefit s'est résolument engagé sur cette voie et je vous en félicite.\n",
      "0.0\n",
      "Je ne doute pas de votre réussite dans délais très rapides.Je vous remercie.\n",
      "0.0\n",
      "(Source http://www.sante.gouv.fr, le 12 mai 2005)\n",
      "0.0\n"
     ]
    }
   ],
   "source": [
    "from textblob import TextBlob\n",
    "for sentence in df['Phrases'][1]:\n",
    "    print(sentence)\n",
    "    print(TextBlob(sentence).sentiment.polarity)"
   ]
  },
  {
   "cell_type": "code",
   "execution_count": 102,
   "metadata": {},
   "outputs": [
    {
     "name": "stderr",
     "output_type": "stream",
     "text": [
      "[nltk_data] Downloading package vader_lexicon to\n",
      "[nltk_data]     C:\\Users\\morga\\AppData\\Roaming\\nltk_data...\n",
      "[nltk_data]   Package vader_lexicon is already up-to-date!\n"
     ]
    }
   ],
   "source": [
    "# Je veux voir la différence avec le nltk (je sais pas si ca marche en français)\n",
    "import nltk\n",
    "nltk.download('vader_lexicon')\n",
    "from nltk.sentiment.vader import SentimentIntensityAnalyzer"
   ]
  },
  {
   "cell_type": "code",
   "execution_count": 109,
   "metadata": {},
   "outputs": [
    {
     "name": "stdout",
     "output_type": "stream",
     "text": [
      "Monsieur le Préfet,Monsieur le directeur de l'Agence régionale de l'hospitalisation,Mesdames et messieurs les élus,Monsieur le Directeur,Mesdames et Messieurs,Je suis très heureux d'être parmi vous aujourd'hui pour visiter l'hôpital local de Dieulefit.\n",
      "{'neg': 0.0, 'neu': 1.0, 'pos': 0.0, 'compound': 0.0}\n",
      "Je suis convaincu - Monsieur le Directeur - que les hôpitaux locaux comme celui-ci, et plus généralement les hôpitaux de proximité, doivent retrouver leur place au sein du système de soins français pour plusieurs raisons :La première raison est majeure dans le contexte actuel de la démographie médicale.\n",
      "{'neg': 0.0, 'neu': 1.0, 'pos': 0.0, 'compound': 0.0}\n",
      "Nous avons constaté, que d'une façon générale, là où étaient implantés des hôpitaux locaux, les médecins généralistes restaient et le taux de nouvelles installations étaient supérieur à celui des zones géographiques ne disposant pas d'hôpital local.C'est un constat général, même si vous me citerez probablement des endroits où cela n'est pas vérifié.\n",
      "{'neg': 0.0, 'neu': 1.0, 'pos': 0.0, 'compound': 0.0}\n",
      "Le maintien d'un tissu rural de généralistes est essentiel pour assurer l'équité dans notre système de soins, l'égal accès de tous à des soins de qualité.\n",
      "{'neg': 0.0, 'neu': 0.927, 'pos': 0.073, 'compound': 0.2263}\n",
      "La deuxième raison, qui soutient mon action en faveur des hôpitaux locaux, est qu'ils rendent un vrai service de proximité à la population, rurale ou semi-rurale, souvent composée d'une part importante de personnes âgées.\n",
      "{'neg': 0.0, 'neu': 1.0, 'pos': 0.0, 'compound': 0.0}\n",
      "Les médecins généralistes peuvent continuer à y suivre les patients.\n",
      "{'neg': 0.0, 'neu': 1.0, 'pos': 0.0, 'compound': 0.0}\n",
      "Cela permet ainsi d'éviter des hospitalisations dans des centres hospitaliers plus importants, source d'anxiété et désarrois chez les personnes âgées.L'hôpital local est un acteur incontournable face à la demande de soins de proximité.\n",
      "{'neg': 0.0, 'neu': 1.0, 'pos': 0.0, 'compound': 0.0}\n",
      "C'est le premier maillon du dispositif de soins gradués qui trouvera toute sa place dans les prochains schémas régionaux d'organisation sanitaire.\n",
      "{'neg': 0.0, 'neu': 1.0, 'pos': 0.0, 'compound': 0.0}\n",
      "Il doit pouvoir s'appuyer, comme à Dieulefit, sur des lits de court séjour de médecine et des lits de soins de suite, à côté des soins de longue durée.Il doit également développer des consultations locales spécialisées, constituant un réel apport aux patients, qui trouvent au plus près de leur domicile, aux côtés de leurs médecins traitants, des médecins spécialistes hospitaliers ou libéraux.\n",
      "{'neg': 0.0, 'neu': 1.0, 'pos': 0.0, 'compound': 0.0}\n",
      "Ces consultations constituent le support d'un travail en réseau, dans lequel le généraliste occupe une position centrale.Compte tenu des activités qui se développent dans un hôpital local, au carrefour du sanitaire, du médico-social et du social, un tel hôpital pratique au quotidien la coordination entre un grand nombre d'acteurs.\n",
      "{'neg': 0.0, 'neu': 0.892, 'pos': 0.108, 'compound': 0.6908}\n",
      "Il doit développer ce rôle au maximum et devenir le lieu privilégié d'implantation des réseaux, notamment pour les personnes âgées ou handicapées, mais aussi pour le diabète ou les soins palliatifs.L'hôpital local doit être également un établissement favorisant le maintien ou le retour précoce à domicile des malades.\n",
      "{'neg': 0.0, 'neu': 1.0, 'pos': 0.0, 'compound': 0.0}\n",
      "Les soins dispensés dans les lits de médecine évitent les recours indus aux plateaux techniques.\n",
      "{'neg': 0.0, 'neu': 1.0, 'pos': 0.0, 'compound': 0.0}\n",
      "Ceux dispensés dans les lits de soins de suite servent de tremplin au retour à domicile.\n",
      "{'neg': 0.0, 'neu': 1.0, 'pos': 0.0, 'compound': 0.0}\n",
      "Afin de favoriser le maintien des personnes à domicile, il convient de développer l'hospitalisation à domicile et les services de soins infirmiers à domicile, les SSIAD.\n",
      "{'neg': 0.0, 'neu': 1.0, 'pos': 0.0, 'compound': 0.0}\n",
      "Mais - comme je l'ai annoncé avec mon collègue Jean-Louis Borloo - il est possible de développer encore d'autres formes de services à la personne.\n",
      "{'neg': 0.0, 'neu': 1.0, 'pos': 0.0, 'compound': 0.0}\n",
      "Nous sommes tous deux convaincus que ces nouveaux services constituent un important gisement d'emplois.Comme vous pouvez le constater, j'ai une vision dynamique de l'hôpital local.\n",
      "{'neg': 0.0, 'neu': 0.858, 'pos': 0.142, 'compound': 0.4215}\n",
      "Je le conçois comme un animateur local de santé, qui répond à une demande objective de prise en charge de proximité, dont le projet se construit en concertation avec les élus, les usagers et l'ensemble des acteurs d'un territoire donné.L'hôpital local de Dieulefit s'est résolument engagé sur cette voie et je vous en félicite.\n",
      "{'neg': 0.0, 'neu': 1.0, 'pos': 0.0, 'compound': 0.0}\n",
      "Je ne doute pas de votre réussite dans délais très rapides.Je vous remercie.\n",
      "{'neg': 0.0, 'neu': 1.0, 'pos': 0.0, 'compound': 0.0}\n",
      "(Source http://www.sante.gouv.fr, le 12 mai 2005)\n",
      "{'neg': 0.0, 'neu': 1.0, 'pos': 0.0, 'compound': 0.0}\n"
     ]
    }
   ],
   "source": [
    "for sentence in df['Phrases'][1]:\n",
    "    ss = SentimentIntensityAnalyzer().polarity_scores(sentence)\n",
    "    print(sentence)\n",
    "    print(ss)"
   ]
  },
  {
   "cell_type": "code",
   "execution_count": null,
   "metadata": {},
   "outputs": [],
   "source": [
    "# Ca donne pas la même chose. Faudrait voir lequel est le mieux... "
   ]
  }
 ],
 "metadata": {
  "kernelspec": {
   "display_name": "Python 3",
   "language": "python",
   "name": "python3"
  },
  "language_info": {
   "codemirror_mode": {
    "name": "ipython",
    "version": 3
   },
   "file_extension": ".py",
   "mimetype": "text/x-python",
   "name": "python",
   "nbconvert_exporter": "python",
   "pygments_lexer": "ipython3",
   "version": "3.7.6"
  }
 },
 "nbformat": 4,
 "nbformat_minor": 2
}
