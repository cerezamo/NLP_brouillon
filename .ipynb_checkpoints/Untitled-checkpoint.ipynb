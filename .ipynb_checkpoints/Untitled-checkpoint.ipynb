{
 "cells": [
  {
   "cell_type": "code",
   "execution_count": 332,
   "metadata": {},
   "outputs": [],
   "source": [
    "import pandas as pd\n",
    "import seaborn as sns \n",
    "import matplotlib.pyplot as plt\n",
    "import numpy as np\n",
    "from functools import reduce\n",
    "from operator import add\n",
    "from spacy.lang.fr.stop_words import STOP_WORDS as fr_stop\n",
    "from nltk.corpus import stopwords\n",
    "from collections import Counter\n",
    "import spacy\n",
    "from spacy.tokenizer import Tokenizer\n",
    "import nltk\n",
    "from nltk.tokenize import word_tokenize\n",
    "from nltk import RegexpTokenizer\n",
    "from os import path\n",
    "#from PIL import Image\n",
    "sent_detector = nltk.data.load('tokenizers/punkt/french.pickle')\n",
    "nlp = spacy.load('fr_core_news_md') \n",
    "from wordcloud import WordCloud, STOPWORDS, ImageColorGenerator"
   ]
  },
  {
   "cell_type": "code",
   "execution_count": 333,
   "metadata": {},
   "outputs": [],
   "source": [
    "df = pd.read_csv('interviews.csv')"
   ]
  },
  {
   "cell_type": "code",
   "execution_count": 334,
   "metadata": {},
   "outputs": [],
   "source": [
    "df.Texte = df.Texte.apply(lambda x : x.replace('\\xa0','').replace('\\x85','').replace('\\x96','').replace('\\x92',\"'\").replace('\\x80',''))"
   ]
  },
  {
   "cell_type": "code",
   "execution_count": 335,
   "metadata": {},
   "outputs": [],
   "source": [
    "df= df[['Id','sexe','Prenom','Nom','Texte']]"
   ]
  },
  {
   "cell_type": "code",
   "execution_count": 336,
   "metadata": {},
   "outputs": [],
   "source": [
    "df=df[8210:9789]"
   ]
  },
  {
   "cell_type": "code",
   "execution_count": 338,
   "metadata": {},
   "outputs": [],
   "source": [
    "df=df.reset_index()"
   ]
  },
  {
   "cell_type": "code",
   "execution_count": 339,
   "metadata": {},
   "outputs": [],
   "source": [
    "text=[]\n",
    "list_test=[]\n",
    "for i in range(len(df)):\n",
    "    text.append(df.Texte[i].replace('Q-','|Q-').replace('R-','|R-').split('|'))\n",
    "    text=[x for x in text if x != '']"
   ]
  },
  {
   "cell_type": "code",
   "execution_count": 340,
   "metadata": {},
   "outputs": [],
   "source": [
    "df=pd.concat([df, pd.DataFrame(zip(text),columns=['Texteclean'])], axis=1,ignore_index=False)"
   ]
  },
  {
   "cell_type": "code",
   "execution_count": 358,
   "metadata": {},
   "outputs": [],
   "source": [
    "question=[]\n",
    "reponse=[]\n",
    "id_list=[]\n",
    "id_text=[]\n",
    "t=0\n",
    "for text in df.Texteclean:\n",
    "    t=t+1\n",
    "    for i in range(len(text)-1):\n",
    "        if text[i].startswith('Q-'):\n",
    "            j=j+1\n",
    "            question.append(text[i].replace('Q-',''))\n",
    "            if text[i+1].startswith('R-'):\n",
    "                reponse.append(text[i+1].replace('R-',''))\n",
    "            else:\n",
    "                reponse.append('')\n",
    "            id_list.append(j)\n",
    "            id_text.append(t)"
   ]
  },
  {
   "cell_type": "code",
   "execution_count": 359,
   "metadata": {},
   "outputs": [],
   "source": [
    "data_clean=pd.concat([pd.DataFrame(question),pd.DataFrame(reponse),pd.DataFrame(id_list),pd.DataFrame(id_text)],axis=1)"
   ]
  },
  {
   "cell_type": "code",
   "execution_count": null,
   "metadata": {},
   "outputs": [],
   "source": []
  },
  {
   "cell_type": "code",
   "execution_count": null,
   "metadata": {},
   "outputs": [],
   "source": []
  },
  {
   "cell_type": "code",
   "execution_count": null,
   "metadata": {},
   "outputs": [],
   "source": []
  },
  {
   "cell_type": "code",
   "execution_count": null,
   "metadata": {},
   "outputs": [],
   "source": []
  },
  {
   "cell_type": "code",
   "execution_count": null,
   "metadata": {},
   "outputs": [],
   "source": []
  }
 ],
 "metadata": {
  "kernelspec": {
   "display_name": "Python 3",
   "language": "python",
   "name": "python3"
  },
  "language_info": {
   "codemirror_mode": {
    "name": "ipython",
    "version": 3
   },
   "file_extension": ".py",
   "mimetype": "text/x-python",
   "name": "python",
   "nbconvert_exporter": "python",
   "pygments_lexer": "ipython3",
   "version": "3.7.6"
  }
 },
 "nbformat": 4,
 "nbformat_minor": 4
}
