{
  "nbformat": 4,
  "nbformat_minor": 0,
  "metadata": {
    "colab": {
      "name": "Untitled3.ipynb",
      "provenance": []
    },
    "kernelspec": {
      "name": "python3",
      "display_name": "Python 3"
    },
    "accelerator": "GPU",
    "widgets": {
      "application/vnd.jupyter.widget-state+json": {
        "60cb739dff4a4c908645cc936e0e9f38": {
          "model_module": "@jupyter-widgets/controls",
          "model_name": "HBoxModel",
          "state": {
            "_view_name": "HBoxView",
            "_dom_classes": [],
            "_model_name": "HBoxModel",
            "_view_module": "@jupyter-widgets/controls",
            "_model_module_version": "1.5.0",
            "_view_count": null,
            "_view_module_version": "1.5.0",
            "box_style": "",
            "layout": "IPY_MODEL_9a3a625f5547484db469de4cb6c65447",
            "_model_module": "@jupyter-widgets/controls",
            "children": [
              "IPY_MODEL_80aeaec02e424a0285d0c8569b56003d",
              "IPY_MODEL_e713e24cf81f4de0a30633c4f208ef9e"
            ]
          }
        },
        "9a3a625f5547484db469de4cb6c65447": {
          "model_module": "@jupyter-widgets/base",
          "model_name": "LayoutModel",
          "state": {
            "_view_name": "LayoutView",
            "grid_template_rows": null,
            "right": null,
            "justify_content": null,
            "_view_module": "@jupyter-widgets/base",
            "overflow": null,
            "_model_module_version": "1.2.0",
            "_view_count": null,
            "flex_flow": null,
            "width": null,
            "min_width": null,
            "border": null,
            "align_items": null,
            "bottom": null,
            "_model_module": "@jupyter-widgets/base",
            "top": null,
            "grid_column": null,
            "overflow_y": null,
            "overflow_x": null,
            "grid_auto_flow": null,
            "grid_area": null,
            "grid_template_columns": null,
            "flex": null,
            "_model_name": "LayoutModel",
            "justify_items": null,
            "grid_row": null,
            "max_height": null,
            "align_content": null,
            "visibility": null,
            "align_self": null,
            "height": null,
            "min_height": null,
            "padding": null,
            "grid_auto_rows": null,
            "grid_gap": null,
            "max_width": null,
            "order": null,
            "_view_module_version": "1.2.0",
            "grid_template_areas": null,
            "object_position": null,
            "object_fit": null,
            "grid_auto_columns": null,
            "margin": null,
            "display": null,
            "left": null
          }
        },
        "80aeaec02e424a0285d0c8569b56003d": {
          "model_module": "@jupyter-widgets/controls",
          "model_name": "IntProgressModel",
          "state": {
            "_view_name": "ProgressView",
            "style": "IPY_MODEL_2f815ca7c89044dab319414933e3d287",
            "_dom_classes": [],
            "description": "Downloading",
            "_model_name": "IntProgressModel",
            "bar_style": "success",
            "max": 810912,
            "_view_module": "@jupyter-widgets/controls",
            "_model_module_version": "1.5.0",
            "value": 810912,
            "_view_count": null,
            "_view_module_version": "1.5.0",
            "orientation": "horizontal",
            "min": 0,
            "description_tooltip": null,
            "_model_module": "@jupyter-widgets/controls",
            "layout": "IPY_MODEL_3217fd378c2d44fc981286351dd93d78"
          }
        },
        "e713e24cf81f4de0a30633c4f208ef9e": {
          "model_module": "@jupyter-widgets/controls",
          "model_name": "HTMLModel",
          "state": {
            "_view_name": "HTMLView",
            "style": "IPY_MODEL_7b33b360c8074b1a84d01a7a66ffae9e",
            "_dom_classes": [],
            "description": "",
            "_model_name": "HTMLModel",
            "placeholder": "​",
            "_view_module": "@jupyter-widgets/controls",
            "_model_module_version": "1.5.0",
            "value": "100% 811k/811k [00:00&lt;00:00, 1.57MB/s]",
            "_view_count": null,
            "_view_module_version": "1.5.0",
            "description_tooltip": null,
            "_model_module": "@jupyter-widgets/controls",
            "layout": "IPY_MODEL_ddf7279c9c2f44f4b3d6300d673e7410"
          }
        },
        "2f815ca7c89044dab319414933e3d287": {
          "model_module": "@jupyter-widgets/controls",
          "model_name": "ProgressStyleModel",
          "state": {
            "_view_name": "StyleView",
            "_model_name": "ProgressStyleModel",
            "description_width": "initial",
            "_view_module": "@jupyter-widgets/base",
            "_model_module_version": "1.5.0",
            "_view_count": null,
            "_view_module_version": "1.2.0",
            "bar_color": null,
            "_model_module": "@jupyter-widgets/controls"
          }
        },
        "3217fd378c2d44fc981286351dd93d78": {
          "model_module": "@jupyter-widgets/base",
          "model_name": "LayoutModel",
          "state": {
            "_view_name": "LayoutView",
            "grid_template_rows": null,
            "right": null,
            "justify_content": null,
            "_view_module": "@jupyter-widgets/base",
            "overflow": null,
            "_model_module_version": "1.2.0",
            "_view_count": null,
            "flex_flow": null,
            "width": null,
            "min_width": null,
            "border": null,
            "align_items": null,
            "bottom": null,
            "_model_module": "@jupyter-widgets/base",
            "top": null,
            "grid_column": null,
            "overflow_y": null,
            "overflow_x": null,
            "grid_auto_flow": null,
            "grid_area": null,
            "grid_template_columns": null,
            "flex": null,
            "_model_name": "LayoutModel",
            "justify_items": null,
            "grid_row": null,
            "max_height": null,
            "align_content": null,
            "visibility": null,
            "align_self": null,
            "height": null,
            "min_height": null,
            "padding": null,
            "grid_auto_rows": null,
            "grid_gap": null,
            "max_width": null,
            "order": null,
            "_view_module_version": "1.2.0",
            "grid_template_areas": null,
            "object_position": null,
            "object_fit": null,
            "grid_auto_columns": null,
            "margin": null,
            "display": null,
            "left": null
          }
        },
        "7b33b360c8074b1a84d01a7a66ffae9e": {
          "model_module": "@jupyter-widgets/controls",
          "model_name": "DescriptionStyleModel",
          "state": {
            "_view_name": "StyleView",
            "_model_name": "DescriptionStyleModel",
            "description_width": "",
            "_view_module": "@jupyter-widgets/base",
            "_model_module_version": "1.5.0",
            "_view_count": null,
            "_view_module_version": "1.2.0",
            "_model_module": "@jupyter-widgets/controls"
          }
        },
        "ddf7279c9c2f44f4b3d6300d673e7410": {
          "model_module": "@jupyter-widgets/base",
          "model_name": "LayoutModel",
          "state": {
            "_view_name": "LayoutView",
            "grid_template_rows": null,
            "right": null,
            "justify_content": null,
            "_view_module": "@jupyter-widgets/base",
            "overflow": null,
            "_model_module_version": "1.2.0",
            "_view_count": null,
            "flex_flow": null,
            "width": null,
            "min_width": null,
            "border": null,
            "align_items": null,
            "bottom": null,
            "_model_module": "@jupyter-widgets/base",
            "top": null,
            "grid_column": null,
            "overflow_y": null,
            "overflow_x": null,
            "grid_auto_flow": null,
            "grid_area": null,
            "grid_template_columns": null,
            "flex": null,
            "_model_name": "LayoutModel",
            "justify_items": null,
            "grid_row": null,
            "max_height": null,
            "align_content": null,
            "visibility": null,
            "align_self": null,
            "height": null,
            "min_height": null,
            "padding": null,
            "grid_auto_rows": null,
            "grid_gap": null,
            "max_width": null,
            "order": null,
            "_view_module_version": "1.2.0",
            "grid_template_areas": null,
            "object_position": null,
            "object_fit": null,
            "grid_auto_columns": null,
            "margin": null,
            "display": null,
            "left": null
          }
        },
        "8402ccc049b94526b2668db590343ac3": {
          "model_module": "@jupyter-widgets/controls",
          "model_name": "HBoxModel",
          "state": {
            "_view_name": "HBoxView",
            "_dom_classes": [],
            "_model_name": "HBoxModel",
            "_view_module": "@jupyter-widgets/controls",
            "_model_module_version": "1.5.0",
            "_view_count": null,
            "_view_module_version": "1.5.0",
            "box_style": "",
            "layout": "IPY_MODEL_4c8a601ee123468499279d39f288c9c9",
            "_model_module": "@jupyter-widgets/controls",
            "children": [
              "IPY_MODEL_5d7860c80397454ebc7cc145df2c01e4",
              "IPY_MODEL_4954bd2ed9d54dd684bc986ce8c4a0b6"
            ]
          }
        },
        "4c8a601ee123468499279d39f288c9c9": {
          "model_module": "@jupyter-widgets/base",
          "model_name": "LayoutModel",
          "state": {
            "_view_name": "LayoutView",
            "grid_template_rows": null,
            "right": null,
            "justify_content": null,
            "_view_module": "@jupyter-widgets/base",
            "overflow": null,
            "_model_module_version": "1.2.0",
            "_view_count": null,
            "flex_flow": null,
            "width": null,
            "min_width": null,
            "border": null,
            "align_items": null,
            "bottom": null,
            "_model_module": "@jupyter-widgets/base",
            "top": null,
            "grid_column": null,
            "overflow_y": null,
            "overflow_x": null,
            "grid_auto_flow": null,
            "grid_area": null,
            "grid_template_columns": null,
            "flex": null,
            "_model_name": "LayoutModel",
            "justify_items": null,
            "grid_row": null,
            "max_height": null,
            "align_content": null,
            "visibility": null,
            "align_self": null,
            "height": null,
            "min_height": null,
            "padding": null,
            "grid_auto_rows": null,
            "grid_gap": null,
            "max_width": null,
            "order": null,
            "_view_module_version": "1.2.0",
            "grid_template_areas": null,
            "object_position": null,
            "object_fit": null,
            "grid_auto_columns": null,
            "margin": null,
            "display": null,
            "left": null
          }
        },
        "5d7860c80397454ebc7cc145df2c01e4": {
          "model_module": "@jupyter-widgets/controls",
          "model_name": "IntProgressModel",
          "state": {
            "_view_name": "ProgressView",
            "style": "IPY_MODEL_6bce00bb991146d3b8d264afefb3651d",
            "_dom_classes": [],
            "description": "Downloading",
            "_model_name": "IntProgressModel",
            "bar_style": "success",
            "max": 596,
            "_view_module": "@jupyter-widgets/controls",
            "_model_module_version": "1.5.0",
            "value": 596,
            "_view_count": null,
            "_view_module_version": "1.5.0",
            "orientation": "horizontal",
            "min": 0,
            "description_tooltip": null,
            "_model_module": "@jupyter-widgets/controls",
            "layout": "IPY_MODEL_19f67b15ccdc413c80d0cc3d3fc5ef0e"
          }
        },
        "4954bd2ed9d54dd684bc986ce8c4a0b6": {
          "model_module": "@jupyter-widgets/controls",
          "model_name": "HTMLModel",
          "state": {
            "_view_name": "HTMLView",
            "style": "IPY_MODEL_266a5afdd61e4690adea073ddf2a9d0f",
            "_dom_classes": [],
            "description": "",
            "_model_name": "HTMLModel",
            "placeholder": "​",
            "_view_module": "@jupyter-widgets/controls",
            "_model_module_version": "1.5.0",
            "value": "100% 596/596 [00:00&lt;00:00, 17.4kB/s]",
            "_view_count": null,
            "_view_module_version": "1.5.0",
            "description_tooltip": null,
            "_model_module": "@jupyter-widgets/controls",
            "layout": "IPY_MODEL_f2ef38cb776e41d4b2663e8d517e3025"
          }
        },
        "6bce00bb991146d3b8d264afefb3651d": {
          "model_module": "@jupyter-widgets/controls",
          "model_name": "ProgressStyleModel",
          "state": {
            "_view_name": "StyleView",
            "_model_name": "ProgressStyleModel",
            "description_width": "initial",
            "_view_module": "@jupyter-widgets/base",
            "_model_module_version": "1.5.0",
            "_view_count": null,
            "_view_module_version": "1.2.0",
            "bar_color": null,
            "_model_module": "@jupyter-widgets/controls"
          }
        },
        "19f67b15ccdc413c80d0cc3d3fc5ef0e": {
          "model_module": "@jupyter-widgets/base",
          "model_name": "LayoutModel",
          "state": {
            "_view_name": "LayoutView",
            "grid_template_rows": null,
            "right": null,
            "justify_content": null,
            "_view_module": "@jupyter-widgets/base",
            "overflow": null,
            "_model_module_version": "1.2.0",
            "_view_count": null,
            "flex_flow": null,
            "width": null,
            "min_width": null,
            "border": null,
            "align_items": null,
            "bottom": null,
            "_model_module": "@jupyter-widgets/base",
            "top": null,
            "grid_column": null,
            "overflow_y": null,
            "overflow_x": null,
            "grid_auto_flow": null,
            "grid_area": null,
            "grid_template_columns": null,
            "flex": null,
            "_model_name": "LayoutModel",
            "justify_items": null,
            "grid_row": null,
            "max_height": null,
            "align_content": null,
            "visibility": null,
            "align_self": null,
            "height": null,
            "min_height": null,
            "padding": null,
            "grid_auto_rows": null,
            "grid_gap": null,
            "max_width": null,
            "order": null,
            "_view_module_version": "1.2.0",
            "grid_template_areas": null,
            "object_position": null,
            "object_fit": null,
            "grid_auto_columns": null,
            "margin": null,
            "display": null,
            "left": null
          }
        },
        "266a5afdd61e4690adea073ddf2a9d0f": {
          "model_module": "@jupyter-widgets/controls",
          "model_name": "DescriptionStyleModel",
          "state": {
            "_view_name": "StyleView",
            "_model_name": "DescriptionStyleModel",
            "description_width": "",
            "_view_module": "@jupyter-widgets/base",
            "_model_module_version": "1.5.0",
            "_view_count": null,
            "_view_module_version": "1.2.0",
            "_model_module": "@jupyter-widgets/controls"
          }
        },
        "f2ef38cb776e41d4b2663e8d517e3025": {
          "model_module": "@jupyter-widgets/base",
          "model_name": "LayoutModel",
          "state": {
            "_view_name": "LayoutView",
            "grid_template_rows": null,
            "right": null,
            "justify_content": null,
            "_view_module": "@jupyter-widgets/base",
            "overflow": null,
            "_model_module_version": "1.2.0",
            "_view_count": null,
            "flex_flow": null,
            "width": null,
            "min_width": null,
            "border": null,
            "align_items": null,
            "bottom": null,
            "_model_module": "@jupyter-widgets/base",
            "top": null,
            "grid_column": null,
            "overflow_y": null,
            "overflow_x": null,
            "grid_auto_flow": null,
            "grid_area": null,
            "grid_template_columns": null,
            "flex": null,
            "_model_name": "LayoutModel",
            "justify_items": null,
            "grid_row": null,
            "max_height": null,
            "align_content": null,
            "visibility": null,
            "align_self": null,
            "height": null,
            "min_height": null,
            "padding": null,
            "grid_auto_rows": null,
            "grid_gap": null,
            "max_width": null,
            "order": null,
            "_view_module_version": "1.2.0",
            "grid_template_areas": null,
            "object_position": null,
            "object_fit": null,
            "grid_auto_columns": null,
            "margin": null,
            "display": null,
            "left": null
          }
        },
        "61c696ee6ccb40a0ba4a7a123cb5aca9": {
          "model_module": "@jupyter-widgets/controls",
          "model_name": "HBoxModel",
          "state": {
            "_view_name": "HBoxView",
            "_dom_classes": [],
            "_model_name": "HBoxModel",
            "_view_module": "@jupyter-widgets/controls",
            "_model_module_version": "1.5.0",
            "_view_count": null,
            "_view_module_version": "1.5.0",
            "box_style": "",
            "layout": "IPY_MODEL_239175ba34174f6382d832f9733a617c",
            "_model_module": "@jupyter-widgets/controls",
            "children": [
              "IPY_MODEL_32b9fa8406ca46eead10be8dd820fdb5",
              "IPY_MODEL_02786965ed604f57bcc0abc2a56c1d99"
            ]
          }
        },
        "239175ba34174f6382d832f9733a617c": {
          "model_module": "@jupyter-widgets/base",
          "model_name": "LayoutModel",
          "state": {
            "_view_name": "LayoutView",
            "grid_template_rows": null,
            "right": null,
            "justify_content": null,
            "_view_module": "@jupyter-widgets/base",
            "overflow": null,
            "_model_module_version": "1.2.0",
            "_view_count": null,
            "flex_flow": null,
            "width": null,
            "min_width": null,
            "border": null,
            "align_items": null,
            "bottom": null,
            "_model_module": "@jupyter-widgets/base",
            "top": null,
            "grid_column": null,
            "overflow_y": null,
            "overflow_x": null,
            "grid_auto_flow": null,
            "grid_area": null,
            "grid_template_columns": null,
            "flex": null,
            "_model_name": "LayoutModel",
            "justify_items": null,
            "grid_row": null,
            "max_height": null,
            "align_content": null,
            "visibility": null,
            "align_self": null,
            "height": null,
            "min_height": null,
            "padding": null,
            "grid_auto_rows": null,
            "grid_gap": null,
            "max_width": null,
            "order": null,
            "_view_module_version": "1.2.0",
            "grid_template_areas": null,
            "object_position": null,
            "object_fit": null,
            "grid_auto_columns": null,
            "margin": null,
            "display": null,
            "left": null
          }
        },
        "32b9fa8406ca46eead10be8dd820fdb5": {
          "model_module": "@jupyter-widgets/controls",
          "model_name": "IntProgressModel",
          "state": {
            "_view_name": "ProgressView",
            "style": "IPY_MODEL_5c61863deaa34a178ed17de7d6e15165",
            "_dom_classes": [],
            "description": "Downloading",
            "_model_name": "IntProgressModel",
            "bar_style": "success",
            "max": 445032417,
            "_view_module": "@jupyter-widgets/controls",
            "_model_module_version": "1.5.0",
            "value": 445032417,
            "_view_count": null,
            "_view_module_version": "1.5.0",
            "orientation": "horizontal",
            "min": 0,
            "description_tooltip": null,
            "_model_module": "@jupyter-widgets/controls",
            "layout": "IPY_MODEL_1473a8dba7194d35900d74ead1e3931a"
          }
        },
        "02786965ed604f57bcc0abc2a56c1d99": {
          "model_module": "@jupyter-widgets/controls",
          "model_name": "HTMLModel",
          "state": {
            "_view_name": "HTMLView",
            "style": "IPY_MODEL_725c53f4f53f4cb3a074e0b359a4b333",
            "_dom_classes": [],
            "description": "",
            "_model_name": "HTMLModel",
            "placeholder": "​",
            "_view_module": "@jupyter-widgets/controls",
            "_model_module_version": "1.5.0",
            "value": "100% 445M/445M [00:15&lt;00:00, 27.9MB/s]",
            "_view_count": null,
            "_view_module_version": "1.5.0",
            "description_tooltip": null,
            "_model_module": "@jupyter-widgets/controls",
            "layout": "IPY_MODEL_425515e6019546548b0421867d8816d4"
          }
        },
        "5c61863deaa34a178ed17de7d6e15165": {
          "model_module": "@jupyter-widgets/controls",
          "model_name": "ProgressStyleModel",
          "state": {
            "_view_name": "StyleView",
            "_model_name": "ProgressStyleModel",
            "description_width": "initial",
            "_view_module": "@jupyter-widgets/base",
            "_model_module_version": "1.5.0",
            "_view_count": null,
            "_view_module_version": "1.2.0",
            "bar_color": null,
            "_model_module": "@jupyter-widgets/controls"
          }
        },
        "1473a8dba7194d35900d74ead1e3931a": {
          "model_module": "@jupyter-widgets/base",
          "model_name": "LayoutModel",
          "state": {
            "_view_name": "LayoutView",
            "grid_template_rows": null,
            "right": null,
            "justify_content": null,
            "_view_module": "@jupyter-widgets/base",
            "overflow": null,
            "_model_module_version": "1.2.0",
            "_view_count": null,
            "flex_flow": null,
            "width": null,
            "min_width": null,
            "border": null,
            "align_items": null,
            "bottom": null,
            "_model_module": "@jupyter-widgets/base",
            "top": null,
            "grid_column": null,
            "overflow_y": null,
            "overflow_x": null,
            "grid_auto_flow": null,
            "grid_area": null,
            "grid_template_columns": null,
            "flex": null,
            "_model_name": "LayoutModel",
            "justify_items": null,
            "grid_row": null,
            "max_height": null,
            "align_content": null,
            "visibility": null,
            "align_self": null,
            "height": null,
            "min_height": null,
            "padding": null,
            "grid_auto_rows": null,
            "grid_gap": null,
            "max_width": null,
            "order": null,
            "_view_module_version": "1.2.0",
            "grid_template_areas": null,
            "object_position": null,
            "object_fit": null,
            "grid_auto_columns": null,
            "margin": null,
            "display": null,
            "left": null
          }
        },
        "725c53f4f53f4cb3a074e0b359a4b333": {
          "model_module": "@jupyter-widgets/controls",
          "model_name": "DescriptionStyleModel",
          "state": {
            "_view_name": "StyleView",
            "_model_name": "DescriptionStyleModel",
            "description_width": "",
            "_view_module": "@jupyter-widgets/base",
            "_model_module_version": "1.5.0",
            "_view_count": null,
            "_view_module_version": "1.2.0",
            "_model_module": "@jupyter-widgets/controls"
          }
        },
        "425515e6019546548b0421867d8816d4": {
          "model_module": "@jupyter-widgets/base",
          "model_name": "LayoutModel",
          "state": {
            "_view_name": "LayoutView",
            "grid_template_rows": null,
            "right": null,
            "justify_content": null,
            "_view_module": "@jupyter-widgets/base",
            "overflow": null,
            "_model_module_version": "1.2.0",
            "_view_count": null,
            "flex_flow": null,
            "width": null,
            "min_width": null,
            "border": null,
            "align_items": null,
            "bottom": null,
            "_model_module": "@jupyter-widgets/base",
            "top": null,
            "grid_column": null,
            "overflow_y": null,
            "overflow_x": null,
            "grid_auto_flow": null,
            "grid_area": null,
            "grid_template_columns": null,
            "flex": null,
            "_model_name": "LayoutModel",
            "justify_items": null,
            "grid_row": null,
            "max_height": null,
            "align_content": null,
            "visibility": null,
            "align_self": null,
            "height": null,
            "min_height": null,
            "padding": null,
            "grid_auto_rows": null,
            "grid_gap": null,
            "max_width": null,
            "order": null,
            "_view_module_version": "1.2.0",
            "grid_template_areas": null,
            "object_position": null,
            "object_fit": null,
            "grid_auto_columns": null,
            "margin": null,
            "display": null,
            "left": null
          }
        }
      }
    }
  },
  "cells": [
    {
      "cell_type": "code",
      "metadata": {
        "id": "TOXlR_4xtld5",
        "colab_type": "code",
        "outputId": "3036ff87-e761-4d20-c58b-f80405c74eaa",
        "colab": {
          "base_uri": "https://localhost:8080/",
          "height": 122
        }
      },
      "source": [
        "import spacy \n",
        "import numpy as np \n",
        "import pandas as pd \n",
        "import os \n",
        "os.getcwd()\n",
        "from google.colab import drive \n",
        "drive.mount('/content/gdrive')"
      ],
      "execution_count": 1,
      "outputs": [
        {
          "output_type": "stream",
          "text": [
            "Go to this URL in a browser: https://accounts.google.com/o/oauth2/auth?client_id=947318989803-6bn6qk8qdgf4n4g3pfee6491hc0brc4i.apps.googleusercontent.com&redirect_uri=urn%3aietf%3awg%3aoauth%3a2.0%3aoob&response_type=code&scope=email%20https%3a%2f%2fwww.googleapis.com%2fauth%2fdocs.test%20https%3a%2f%2fwww.googleapis.com%2fauth%2fdrive%20https%3a%2f%2fwww.googleapis.com%2fauth%2fdrive.photos.readonly%20https%3a%2f%2fwww.googleapis.com%2fauth%2fpeopleapi.readonly\n",
            "\n",
            "Enter your authorization code:\n",
            "··········\n",
            "Mounted at /content/gdrive\n"
          ],
          "name": "stdout"
        }
      ]
    },
    {
      "cell_type": "code",
      "metadata": {
        "id": "BtVGGfM1tlht",
        "colab_type": "code",
        "outputId": "1c2c5b49-da68-44b4-8884-1b5c48eb8af5",
        "colab": {
          "base_uri": "https://localhost:8080/",
          "height": 80
        }
      },
      "source": [
        "import tensorflow as tf\n",
        "# GPU a activer \n",
        "device_name = tf.test.gpu_device_name()\n",
        "if device_name != '/device:GPU:0':\n",
        "  raise SystemError('GPU device not found')\n",
        "print('Found GPU at: {}'.format(device_name))"
      ],
      "execution_count": 2,
      "outputs": [
        {
          "output_type": "display_data",
          "data": {
            "text/html": [
              "<p style=\"color: red;\">\n",
              "The default version of TensorFlow in Colab will soon switch to TensorFlow 2.x.<br>\n",
              "We recommend you <a href=\"https://www.tensorflow.org/guide/migrate\" target=\"_blank\">upgrade</a> now \n",
              "or ensure your notebook will continue to use TensorFlow 1.x via the <code>%tensorflow_version 1.x</code> magic:\n",
              "<a href=\"https://colab.research.google.com/notebooks/tensorflow_version.ipynb\" target=\"_blank\">more info</a>.</p>\n"
            ],
            "text/plain": [
              "<IPython.core.display.HTML object>"
            ]
          },
          "metadata": {
            "tags": []
          }
        },
        {
          "output_type": "stream",
          "text": [
            "Found GPU at: /device:GPU:0\n"
          ],
          "name": "stdout"
        }
      ]
    },
    {
      "cell_type": "code",
      "metadata": {
        "id": "c43KBkp2tllK",
        "colab_type": "code",
        "colab": {}
      },
      "source": [
        "#En fait je fais à la main\n",
        "from fastai.text import *\n",
        "from fastai.metrics import *"
      ],
      "execution_count": 0,
      "outputs": []
    },
    {
      "cell_type": "code",
      "metadata": {
        "id": "DIS9pOGHtlog",
        "colab_type": "code",
        "outputId": "37e9e503-2f6e-4c68-b83d-dd85e91e7d50",
        "colab": {
          "base_uri": "https://localhost:8080/",
          "height": 34
        }
      },
      "source": [
        "import torch\n",
        "from torch.utils.data import TensorDataset, DataLoader, RandomSampler, SequentialSampler\n",
        "from keras.preprocessing.sequence import pad_sequences\n",
        "from sklearn.model_selection import train_test_split\n",
        "from tqdm import tqdm, trange\n",
        "import pandas as pd\n",
        "import io\n",
        "import numpy as np\n",
        "import matplotlib.pyplot as plt\n",
        "% matplotlib inline"
      ],
      "execution_count": 4,
      "outputs": [
        {
          "output_type": "stream",
          "text": [
            "Using TensorFlow backend.\n"
          ],
          "name": "stderr"
        }
      ]
    },
    {
      "cell_type": "code",
      "metadata": {
        "id": "7G8cKQIwtlri",
        "colab_type": "code",
        "outputId": "013538ec-bc6c-46bf-995e-9f4ad68a870c",
        "colab": {
          "base_uri": "https://localhost:8080/",
          "height": 34
        }
      },
      "source": [
        "device = torch.device(\"cuda\")\n",
        "n_gpu = torch.cuda.device_count()\n",
        "torch.cuda.get_device_name(0)"
      ],
      "execution_count": 5,
      "outputs": [
        {
          "output_type": "execute_result",
          "data": {
            "text/plain": [
              "'Tesla P4'"
            ]
          },
          "metadata": {
            "tags": []
          },
          "execution_count": 5
        }
      ]
    },
    {
      "cell_type": "code",
      "metadata": {
        "id": "XsIwCFqBu804",
        "colab_type": "code",
        "outputId": "d0999c13-e498-42fd-d3fb-503e4c4eb371",
        "colab": {
          "base_uri": "https://localhost:8080/",
          "height": 646
        }
      },
      "source": [
        "! pip install transformers"
      ],
      "execution_count": 6,
      "outputs": [
        {
          "output_type": "stream",
          "text": [
            "Collecting transformers\n",
            "\u001b[?25l  Downloading https://files.pythonhosted.org/packages/13/33/ffb67897a6985a7b7d8e5e7878c3628678f553634bd3836404fef06ef19b/transformers-2.5.1-py3-none-any.whl (499kB)\n",
            "\u001b[K     |████████████████████████████████| 501kB 8.5MB/s \n",
            "\u001b[?25hCollecting tokenizers==0.5.2\n",
            "\u001b[?25l  Downloading https://files.pythonhosted.org/packages/d1/3f/73c881ea4723e43c1e9acf317cf407fab3a278daab3a69c98dcac511c04f/tokenizers-0.5.2-cp36-cp36m-manylinux1_x86_64.whl (3.7MB)\n",
            "\u001b[K     |████████████████████████████████| 3.7MB 21.6MB/s \n",
            "\u001b[?25hRequirement already satisfied: regex!=2019.12.17 in /usr/local/lib/python3.6/dist-packages (from transformers) (2019.12.20)\n",
            "Requirement already satisfied: tqdm>=4.27 in /usr/local/lib/python3.6/dist-packages (from transformers) (4.28.1)\n",
            "Requirement already satisfied: boto3 in /usr/local/lib/python3.6/dist-packages (from transformers) (1.11.15)\n",
            "Collecting sacremoses\n",
            "\u001b[?25l  Downloading https://files.pythonhosted.org/packages/a6/b4/7a41d630547a4afd58143597d5a49e07bfd4c42914d8335b2a5657efc14b/sacremoses-0.0.38.tar.gz (860kB)\n",
            "\u001b[K     |████████████████████████████████| 870kB 53.5MB/s \n",
            "\u001b[?25hCollecting sentencepiece\n",
            "\u001b[?25l  Downloading https://files.pythonhosted.org/packages/74/f4/2d5214cbf13d06e7cb2c20d84115ca25b53ea76fa1f0ade0e3c9749de214/sentencepiece-0.1.85-cp36-cp36m-manylinux1_x86_64.whl (1.0MB)\n",
            "\u001b[K     |████████████████████████████████| 1.0MB 50.8MB/s \n",
            "\u001b[?25hRequirement already satisfied: filelock in /usr/local/lib/python3.6/dist-packages (from transformers) (3.0.12)\n",
            "Requirement already satisfied: numpy in /usr/local/lib/python3.6/dist-packages (from transformers) (1.17.5)\n",
            "Requirement already satisfied: requests in /usr/local/lib/python3.6/dist-packages (from transformers) (2.21.0)\n",
            "Requirement already satisfied: jmespath<1.0.0,>=0.7.1 in /usr/local/lib/python3.6/dist-packages (from boto3->transformers) (0.9.4)\n",
            "Requirement already satisfied: botocore<1.15.0,>=1.14.15 in /usr/local/lib/python3.6/dist-packages (from boto3->transformers) (1.14.15)\n",
            "Requirement already satisfied: s3transfer<0.4.0,>=0.3.0 in /usr/local/lib/python3.6/dist-packages (from boto3->transformers) (0.3.3)\n",
            "Requirement already satisfied: six in /usr/local/lib/python3.6/dist-packages (from sacremoses->transformers) (1.12.0)\n",
            "Requirement already satisfied: click in /usr/local/lib/python3.6/dist-packages (from sacremoses->transformers) (7.0)\n",
            "Requirement already satisfied: joblib in /usr/local/lib/python3.6/dist-packages (from sacremoses->transformers) (0.14.1)\n",
            "Requirement already satisfied: urllib3<1.25,>=1.21.1 in /usr/local/lib/python3.6/dist-packages (from requests->transformers) (1.24.3)\n",
            "Requirement already satisfied: certifi>=2017.4.17 in /usr/local/lib/python3.6/dist-packages (from requests->transformers) (2019.11.28)\n",
            "Requirement already satisfied: chardet<3.1.0,>=3.0.2 in /usr/local/lib/python3.6/dist-packages (from requests->transformers) (3.0.4)\n",
            "Requirement already satisfied: idna<2.9,>=2.5 in /usr/local/lib/python3.6/dist-packages (from requests->transformers) (2.8)\n",
            "Requirement already satisfied: python-dateutil<3.0.0,>=2.1 in /usr/local/lib/python3.6/dist-packages (from botocore<1.15.0,>=1.14.15->boto3->transformers) (2.6.1)\n",
            "Requirement already satisfied: docutils<0.16,>=0.10 in /usr/local/lib/python3.6/dist-packages (from botocore<1.15.0,>=1.14.15->boto3->transformers) (0.15.2)\n",
            "Building wheels for collected packages: sacremoses\n",
            "  Building wheel for sacremoses (setup.py) ... \u001b[?25l\u001b[?25hdone\n",
            "  Created wheel for sacremoses: filename=sacremoses-0.0.38-cp36-none-any.whl size=884628 sha256=52162468f28ccd12bb9316a4623fc33f1c53b271a885c3670f518d3c08bb8c81\n",
            "  Stored in directory: /root/.cache/pip/wheels/6d/ec/1a/21b8912e35e02741306f35f66c785f3afe94de754a0eaf1422\n",
            "Successfully built sacremoses\n",
            "Installing collected packages: tokenizers, sacremoses, sentencepiece, transformers\n",
            "Successfully installed sacremoses-0.0.38 sentencepiece-0.1.85 tokenizers-0.5.2 transformers-2.5.1\n"
          ],
          "name": "stdout"
        }
      ]
    },
    {
      "cell_type": "code",
      "metadata": {
        "id": "2Xm4V1mItlvT",
        "colab_type": "code",
        "colab": {}
      },
      "source": [
        "import transformers"
      ],
      "execution_count": 0,
      "outputs": []
    },
    {
      "cell_type": "code",
      "metadata": {
        "id": "RLtOA6x6RBPa",
        "colab_type": "code",
        "colab": {}
      },
      "source": [
        "df=pd.read_csv('/content/gdrive/My Drive/NLP_M&Ms/minimal_df.csv')"
      ],
      "execution_count": 0,
      "outputs": []
    },
    {
      "cell_type": "code",
      "metadata": {
        "id": "hcUczh1ThZZe",
        "colab_type": "code",
        "outputId": "7acebe24-35a8-4b41-d0db-f920a9babc61",
        "colab": {
          "base_uri": "https://localhost:8080/",
          "height": 306
        }
      },
      "source": [
        "df.head()"
      ],
      "execution_count": 20,
      "outputs": [
        {
          "output_type": "execute_result",
          "data": {
            "text/html": [
              "<div>\n",
              "<style scoped>\n",
              "    .dataframe tbody tr th:only-of-type {\n",
              "        vertical-align: middle;\n",
              "    }\n",
              "\n",
              "    .dataframe tbody tr th {\n",
              "        vertical-align: top;\n",
              "    }\n",
              "\n",
              "    .dataframe thead th {\n",
              "        text-align: right;\n",
              "    }\n",
              "</style>\n",
              "<table border=\"1\" class=\"dataframe\">\n",
              "  <thead>\n",
              "    <tr style=\"text-align: right;\">\n",
              "      <th></th>\n",
              "      <th>Unnamed: 0</th>\n",
              "      <th>Id</th>\n",
              "      <th>Titre</th>\n",
              "      <th>Type</th>\n",
              "      <th>Theme</th>\n",
              "      <th>Prenom</th>\n",
              "      <th>Nom</th>\n",
              "      <th>Fonction</th>\n",
              "      <th>Date</th>\n",
              "      <th>Tags</th>\n",
              "      <th>Texte</th>\n",
              "      <th>Lien</th>\n",
              "      <th>sexe</th>\n",
              "    </tr>\n",
              "  </thead>\n",
              "  <tbody>\n",
              "    <tr>\n",
              "      <th>0</th>\n",
              "      <td>0</td>\n",
              "      <td>181873</td>\n",
              "      <td>Déclaration de M. Luc Chatel, ministre de l'éd...</td>\n",
              "      <td>déclaration</td>\n",
              "      <td>Institutions</td>\n",
              "      <td>Luc</td>\n",
              "      <td>Chatel</td>\n",
              "      <td>NaN</td>\n",
              "      <td>2011-04-04T12:00:00Z</td>\n",
              "      <td>Justice - Droits fondamentaux,Laïcité</td>\n",
              "      <td>GUILLAUME DURAND Michaël DARMON de vous recevo...</td>\n",
              "      <td>https://www.vie-publique.fr/discours/181873-de...</td>\n",
              "      <td>1</td>\n",
              "    </tr>\n",
              "    <tr>\n",
              "      <th>1</th>\n",
              "      <td>1</td>\n",
              "      <td>182980</td>\n",
              "      <td>Déclaration de M. Frédéric Mitterrand, ministr...</td>\n",
              "      <td>déclaration</td>\n",
              "      <td>Société</td>\n",
              "      <td>Frédéric</td>\n",
              "      <td>Mitterrand</td>\n",
              "      <td>NaN</td>\n",
              "      <td>2011-09-10T12:00:00Z</td>\n",
              "      <td>Culture - Médias,Télévision</td>\n",
              "      <td>Je suis très heureux de vous retrouver pour ce...</td>\n",
              "      <td>https://www.vie-publique.fr/discours/182980-de...</td>\n",
              "      <td>1</td>\n",
              "    </tr>\n",
              "    <tr>\n",
              "      <th>2</th>\n",
              "      <td>2</td>\n",
              "      <td>146465</td>\n",
              "      <td>Discours de M. Jacques Chirac, Président de la...</td>\n",
              "      <td>discours</td>\n",
              "      <td>NaN</td>\n",
              "      <td>Jacques</td>\n",
              "      <td>Chirac</td>\n",
              "      <td>NaN</td>\n",
              "      <td>1998-11-16T12:00:00Z</td>\n",
              "      <td>NaN</td>\n",
              "      <td>Monsieur le Président du Congrès national, Mes...</td>\n",
              "      <td>https://www.vie-publique.fr/discours/146465-di...</td>\n",
              "      <td>1</td>\n",
              "    </tr>\n",
              "    <tr>\n",
              "      <th>3</th>\n",
              "      <td>3</td>\n",
              "      <td>205751</td>\n",
              "      <td>Déclaration de M. Emmanuel Macron, Président d...</td>\n",
              "      <td>déclaration</td>\n",
              "      <td>International</td>\n",
              "      <td>Emmanuel</td>\n",
              "      <td>Macron</td>\n",
              "      <td>NaN</td>\n",
              "      <td>2018-05-10T12:00:00Z</td>\n",
              "      <td>Union européenne,Construction européenne</td>\n",
              "      <td>Madame la Chancelière,chère Angela,merci beauc...</td>\n",
              "      <td>https://www.vie-publique.fr/discours/205751-de...</td>\n",
              "      <td>1</td>\n",
              "    </tr>\n",
              "    <tr>\n",
              "      <th>4</th>\n",
              "      <td>4</td>\n",
              "      <td>138765</td>\n",
              "      <td>Déclaration de M. Patrick Devedjian, ministre ...</td>\n",
              "      <td>déclaration</td>\n",
              "      <td>Société</td>\n",
              "      <td>Patrick</td>\n",
              "      <td>Devedjian</td>\n",
              "      <td>NaN</td>\n",
              "      <td>2003-06-10T12:00:00Z</td>\n",
              "      <td>Education - Recherche,Histoire</td>\n",
              "      <td>Le souvenir des grandes persécutions ne se pe...</td>\n",
              "      <td>https://www.vie-publique.fr/discours/138765-de...</td>\n",
              "      <td>1</td>\n",
              "    </tr>\n",
              "  </tbody>\n",
              "</table>\n",
              "</div>"
            ],
            "text/plain": [
              "   Unnamed: 0      Id  ...                                               Lien sexe\n",
              "0           0  181873  ...  https://www.vie-publique.fr/discours/181873-de...    1\n",
              "1           1  182980  ...  https://www.vie-publique.fr/discours/182980-de...    1\n",
              "2           2  146465  ...  https://www.vie-publique.fr/discours/146465-di...    1\n",
              "3           3  205751  ...  https://www.vie-publique.fr/discours/205751-de...    1\n",
              "4           4  138765  ...  https://www.vie-publique.fr/discours/138765-de...    1\n",
              "\n",
              "[5 rows x 13 columns]"
            ]
          },
          "metadata": {
            "tags": []
          },
          "execution_count": 20
        }
      ]
    },
    {
      "cell_type": "code",
      "metadata": {
        "id": "IIA1YR1oXkAd",
        "colab_type": "code",
        "colab": {
          "base_uri": "https://localhost:8080/",
          "height": 66,
          "referenced_widgets": [
            "60cb739dff4a4c908645cc936e0e9f38",
            "9a3a625f5547484db469de4cb6c65447",
            "80aeaec02e424a0285d0c8569b56003d",
            "e713e24cf81f4de0a30633c4f208ef9e",
            "2f815ca7c89044dab319414933e3d287",
            "3217fd378c2d44fc981286351dd93d78",
            "7b33b360c8074b1a84d01a7a66ffae9e",
            "ddf7279c9c2f44f4b3d6300d673e7410"
          ]
        },
        "outputId": "72679bf8-fb75-440d-8097-e087e6a06e03"
      },
      "source": [
        ""
      ],
      "execution_count": 10,
      "outputs": [
        {
          "output_type": "display_data",
          "data": {
            "application/vnd.jupyter.widget-view+json": {
              "model_id": "60cb739dff4a4c908645cc936e0e9f38",
              "version_minor": 0,
              "version_major": 2
            },
            "text/plain": [
              "HBox(children=(IntProgress(value=0, description='Downloading', max=810912, style=ProgressStyle(description_wid…"
            ]
          },
          "metadata": {
            "tags": []
          }
        },
        {
          "output_type": "stream",
          "text": [
            "\n"
          ],
          "name": "stdout"
        }
      ]
    },
    {
      "cell_type": "code",
      "metadata": {
        "id": "XBUhxhhDXnL3",
        "colab_type": "code",
        "colab": {}
      },
      "source": [
        "\n",
        "df=df[1:]\n",
        "df=df.sample(frac=1)\n",
        "df.sexe=df.sexe.replace(1,0)\n",
        "df.sexe=df.sexe.replace(2,1)\n",
        "df.Texte = df.Texte.apply(lambda x : x.replace('\\xa0','').replace('\\x85','').replace('\\x96','').replace('\\x92',\"'\").replace('\\x80','').replace(\"\\'\",\"'\"))"
      ],
      "execution_count": 0,
      "outputs": []
    },
    {
      "cell_type": "code",
      "metadata": {
        "id": "YYTvJXleXRnB",
        "colab_type": "code",
        "colab": {}
      },
      "source": [
        "\n",
        "def cleanText(x):\n",
        "\n",
        "    \"\"\"\n",
        "\n",
        "        Fonction permettant de nettoyer et de tokenizer un texte\n",
        "    \"\"\"\n",
        "    import string\n",
        "    x = x.replace('  ','')\n",
        "    return x\n",
        "df.Texte = df.Texte.apply(cleanText)"
      ],
      "execution_count": 0,
      "outputs": []
    },
    {
      "cell_type": "code",
      "metadata": {
        "id": "uxs1uwKj1iEC",
        "colab_type": "code",
        "colab": {}
      },
      "source": [
        "from transformers import CamembertModel"
      ],
      "execution_count": 0,
      "outputs": []
    },
    {
      "cell_type": "code",
      "metadata": {
        "id": "4YJiITKjXV_5",
        "colab_type": "code",
        "colab": {
          "base_uri": "https://localhost:8080/",
          "height": 115,
          "referenced_widgets": [
            "8402ccc049b94526b2668db590343ac3",
            "4c8a601ee123468499279d39f288c9c9",
            "5d7860c80397454ebc7cc145df2c01e4",
            "4954bd2ed9d54dd684bc986ce8c4a0b6",
            "6bce00bb991146d3b8d264afefb3651d",
            "19f67b15ccdc413c80d0cc3d3fc5ef0e",
            "266a5afdd61e4690adea073ddf2a9d0f",
            "f2ef38cb776e41d4b2663e8d517e3025",
            "61c696ee6ccb40a0ba4a7a123cb5aca9",
            "239175ba34174f6382d832f9733a617c",
            "32b9fa8406ca46eead10be8dd820fdb5",
            "02786965ed604f57bcc0abc2a56c1d99",
            "5c61863deaa34a178ed17de7d6e15165",
            "1473a8dba7194d35900d74ead1e3931a",
            "725c53f4f53f4cb3a074e0b359a4b333",
            "425515e6019546548b0421867d8816d4"
          ]
        },
        "outputId": "814f49c2-f214-4fc2-e07d-ca85e9b203b3"
      },
      "source": [
        "camembert = CamembertModel.from_pretrained('camembert-base')"
      ],
      "execution_count": 30,
      "outputs": [
        {
          "output_type": "display_data",
          "data": {
            "application/vnd.jupyter.widget-view+json": {
              "model_id": "8402ccc049b94526b2668db590343ac3",
              "version_minor": 0,
              "version_major": 2
            },
            "text/plain": [
              "HBox(children=(IntProgress(value=0, description='Downloading', max=596, style=ProgressStyle(description_width=…"
            ]
          },
          "metadata": {
            "tags": []
          }
        },
        {
          "output_type": "stream",
          "text": [
            "\n"
          ],
          "name": "stdout"
        },
        {
          "output_type": "display_data",
          "data": {
            "application/vnd.jupyter.widget-view+json": {
              "model_id": "61c696ee6ccb40a0ba4a7a123cb5aca9",
              "version_minor": 0,
              "version_major": 2
            },
            "text/plain": [
              "HBox(children=(IntProgress(value=0, description='Downloading', max=445032417, style=ProgressStyle(description_…"
            ]
          },
          "metadata": {
            "tags": []
          }
        },
        {
          "output_type": "stream",
          "text": [
            "\n"
          ],
          "name": "stdout"
        }
      ]
    },
    {
      "cell_type": "code",
      "metadata": {
        "id": "7DKkXonnRBT8",
        "colab_type": "code",
        "colab": {}
      },
      "source": [
        "sentences = df.Texte.values\n",
        "\n",
        "# We need to add special tokens at the beginning and end of each sentence for BERT to work properly\n",
        "sentences = [\"[CLS] \" + ' ' + sentence + \" [SEP]\" for sentence in sentences]\n",
        "labels = df.sexe.values"
      ],
      "execution_count": 0,
      "outputs": []
    },
    {
      "cell_type": "code",
      "metadata": {
        "id": "TiWQgMvIVqag",
        "colab_type": "code",
        "outputId": "a0e4c505-bd00-4b13-ad15-0cfc69dde285",
        "colab": {
          "base_uri": "https://localhost:8080/",
          "height": 54
        }
      },
      "source": [
        "sentences[0]"
      ],
      "execution_count": 27,
      "outputs": [
        {
          "output_type": "execute_result",
          "data": {
            "text/plain": [
              "'[CLS]  Chers amis,Chers compagnons, Dans quelques instants, vous allez, nous allons choisir notre destin. Il ne s\\'agit pas d\\'un choix anodin.C\\'est pourquoi, après cette matinée de travail et d\\'échange je souhaite vous dire quels sont les enjeux, tous les enjeux du vote auquel nous allons procéder ensemble pendant le déjeuner.Vous le sentez bien, en cet instant, mon émotion est profonde. Je sais qu\\'elle vous étreint aussi.Nous avons tant partagé : - les larmes de l\\'échec autant que les rires de la victoire,- les sourires des temps faciles et plus encore, les efforts des jours de tempête, où se forge, chez nous Gaullistes, l\\'essentiel de nos valeurs et la force de nos tempéraments.Et puis, s\\'imposent à nous, joyeuses et fraternelles, les images de ces soirées de liesse, celle de 1995 où, après deux décennies l\\'un des nôtres est revenu à l\\'Élysée, celle du mois de mai dernier où l\\'on a vu se marier la grandeur de nos idées et l\\'universalité des valeurs de notre pays.Oui, chers amis, chers compagnons, en cet instant, je pense, nous pensons, d\\'abord à Jacques Chirac, lui qui a fondé notre mouvement et l\\'a conduit au succès. Je songe à tout ce qu\\'il a fait pour nous. Et à tout ce que nous avons fait pour lui et avec lui.A l\\'heure où je vous parle, je pense aussi, et vous comprendrez que je dise surtout, aux militants du mouvement.Depuis longtemps, et plus encore depuis que j\\'assume, à leur demande, la direction de notre organisation politique, j\\'ai pu constater leur dévouement constant,leur abnégation au service d\\'un idéal,leur désintéressement personnel sans autre attente de récompense que celle d\\'avoir défendu ses idées et servi son pays .Oui, au moment de ce choix décisif, je pense à ces centaines, à ces milliers de militants anonymes, aux colleurs d\\'affiche ou d\\'enveloppe qui font notre force collective, qui ont fait du RPR le fer de lance de la pensée gaulliste et la première force politique du pays.Avec vous, je veux leur rendre hommage pour le passé et leur dire ma confiance pour l\\'avenir. De cet avenir ils seront, hier comme aujourd\\'hui, les acteurs principaux !Voici trois ans, les adhérents, vous, m\\'avez confié une triple mission.Redresser le Mouvement, en recréant son unité et son dynamisme ; renouer avec les victoires électorales pour aider Jacques Chirac à conserver la direction du pays ; préparer l\\'union souhaitée par nos électeurs avec nos partenaires dans des conditions claires et transparentes, sans arrière-pensée.Cette feuille de route que vous m\\'aviez fixée, je peux aujourd\\'hui dire qu\\'elle est remplie.J\\'ai mené ce combat avec constance, me jugeant responsable des engagements pris envers vous, garante de notre destin commun.Si j\\'ai souvent fait preuve d\\'exigence, si j\\'ai défendu pied à pied ce qui me semblait essentiel, c\\'est pour respecter ce mandat des militants.*Pour remettre sur pied notre parti, ma première préoccupation a été de pacifier le mouvement. Un parti est d\\'autant plus fort et uni qu\\'il respecte tous les talents, qu\\'il promeut toutes les compétences et qu\\'il sait gérer sans sectarisme les ambitions légitimes des uns et des autres. La voie était ardue mais nous avons fait le chemin.Dès les Assises ordinaires où vous étiez vous-mêmes mandataires, le 17 juin 2000, nous avons ensemble sur ces bases reconstruit le mouvement, retrouvé les adhérents, les anciens, les nouveaux, et les jeunes, recherché de nouveaux talents, relancé la réflexion, fait vivre la démocratie au quotidien et sur le terrain.Je veux saluer ici toute l\\'équipe politique qui m\\'a aidée dans cette entreprise de redressement.Dans des conditions politiques et matérielles difficiles, avec détermination et abnégation ils ont repris le flambeau de ceux qui, sous les présidences de Jacques CHIRAC, Alain JUPPÉ, Philippe SEGUIN, Nicolas SARKOZY avaient apporté leur pierre. Je veux rendre l\\'hommage qu\\'il mérite aux personnels de la rue de Lille, puis de la Tour Maubourg, avec constance, ils ont tenu, ils ont fait face, ils ont assuré.Je voudrais aussi remercier tous nos cadres qui, sur le terrain, ont fédéré les efforts, organisé les réunions, relayé les messages.Ce fut un extraordinaire travail de terrain. Il fut accompagné d\\'un formidable effort de réflexion, de remise en cause de nos idées, d\\'imagination.Ainsi, en tant que parti, nous avons pu prendre toute notre part à la victoire, au référendum, aux municipales, aux sénatoriales, et bien sûr aux deux élections présidentielle et législatives de 2002.Le Rassemblement Pour la République a apporté un programme fruit du travail que nous avons lancé ensemble en juin 2000, et qui a constitué un apport essentiel, n\\'ayons pas peur de le dire, pour le programme de notre candidat à l\\'élection présidentielle et celui des candidats de l\\'union aux législatives.*La troisième mission : c\\'était de faire l\\'union avec nos partenaires.Souvenez-vous : il y a trois ans je vous avais dit lors de ma campagne pour la présidence : \"pour faire l\\'union, il faut être forts\". Nous sommes redevenus forts. Nous sommes prêts pour l\\'union. Je me suis opposée, vous le savez, à une union prématurée, aux règles incertaines, pour qu\\'elle se fasse au bon moment, dans les meilleures conditions. Et chacun a bien voulu reconnaître que c\\'était une manière plus pertinente de rentrer dans l\\'union. Tous ensemble, mes chers compagnons, nous avons rebâti le Rassemblement Pour la République depuis juin 2000, nous avons résisté aux sirènes de la facilité et aux prédictions de simple disparition.C\\'est pour cela qu\\'aujourd\\'hui nous sommes les plus qualifiés et les plus crédibles pour dire, au nom de ceux que nous représentons, oui à l\\'union !Sans nous, l\\'union ne peut se faire. Avec nous, elle est crédible, durable, équitable.Sûrs de nous, nous pouvons aller à la rencontre des autres.Fiers de notre passé nous pouvons aborder sereinement l\\'avenir.*Militants de l\\'union, bâtisseurs de l\\'union, nous pouvons donc y entrer parce que nous sommes forts, parce que nous sommes nous-mêmes. Garante du destin de notre mouvement, j\\'ai voulu qu\\'en entrant dans cette union plus forte, nous puissions justement rester nous-mêmes. Ces garanties, je les ai obtenues. Je les ai voulues parce que cela me semble être la condition d\\'une construction durable. Nous allons en effet enfin construire le grand parti de la droite et du centre dont notre pays a besoin et nous allons le construire non pour une éphémère raison électorale, mais pour la durée. J\\'ai la conviction que pour y parvenir ce parti doit reposer sur quelques principes simples et sains :La conscience de ce qui nous unit,La reconnaissance des sensibilités,La démocratie.Sachons d\\'abord proclamer nos valeurs communes. Nous venons certes d\\'horizons différents, mais au cours des années, nous avons tous fait des pas qui nous ont rapprochés les uns des autres.Prenons l\\'exemple de L\\'Europe. Qui aujourd\\'hui en conteste la nécessité ? Qui la veut encore supranationale ? Chacun s\\'accorde à reconnaître que la formule de Jacques Chirac de \" fédération d\\'Etats nations \" nous rassemble tous. De la même manière il n\\'y a plus de Gaullistes centralisateurs jacobins d\\'un côté et, de l\\'autre, des centristes décentralisateurs et girondins.Nous nous sommes donc rapprochés. Mais nous tenons aussi à notre sensibilité, à notre façon gaulliste ou gaullienne d\\'approcher les problèmes de société et du monde ; comme d\\'autres tiennent à leur façon libérale, centriste, écologiste ou radicale, d\\'établir les priorités politiques.Les statuts du nouveau parti prévoient le respect des uns et des autres. La nouvelle union reconnaît les familles de pensée en organisant des mouvements. Ces mouvements sont importants. Ils formeront un creuset de démocratie et d\\'idées. Chacun pourra ainsi retrouver sa famille et s\\'unir aux autres. Cette vision est essentielle.Sachons ainsi faire vivre la démocratie dans notre nouveau parti. Sans démocratie vraie, il n\\'y a ni respect, ni légitimité.Il est acquis que la démocratie sera le principe d\\'organisation de l\\'union à tous les niveaux. Le suffrage universel, et notamment pour l\\'élection du président du parti - et vous savez combien j\\'y suis attachée - est assuré.Dans le même esprit, il a été garanti à tous les membres du Rassemblement Pour la République qui le souhaitent de devenir immédiatement et naturellement, membres de l\\'union. *Cette union, mes chers compagnons, n\\'est pas seulement le fruit de notre passé, elle a aussi l\\'ambition de construire l\\'avenir et de le construire durablement. Nous voulons apporter au gouvernement de Jean-Pierre RAFFARIN un soutien solide, qui ne soit pas une coalition et donc le lieu de négociations permanentes pour obtenir des majorités d\\'occasion, comme le fut le triste spectacle de feu la gauche plurielle.Au-delà, il s\\'agit aussi de convaincre les Français de mettre fin au zapping politique permanent qui, depuis 1981, marque du sceau des aller-retour idéologiques, non seulement notre paysage politique, mais aussi notre économie, notre compétitivité, notre image européenne et mondiale. Cette alternance systématique est devenue une faiblesse pour la France. L\\'union que nous bâtissons a donc aussi pour but de doter durablement la France d\\'une politique qui conduise les Français en évitant les écueils des chemins incertains qui sont devant nous. Permettez ici au ministre de la Défense de vous dire que dans ce monde de dangers que seuls les naïfs ignorent, la France a besoin d\\'une majorité soudée et cohérente. La chute du Mur de Berlin nous avait fait rêver des dividendes de la paix. Nous constatons hélas, des divisions nombreuses et menaçantes, la multiplication de crises régionales aux menaces mondiales, l\\'apparition du terrorisme de masse qui menace tous pays, n\\'importe quel citoyen. Est-ce le temps des querelles de personnes ou celui de l\\'union pour réagir?C\\'est vrai dans le domaine de sa défense, c\\'est vrai dans le domaine économique, dans le domaine social, dans celui de l\\'environnement.Aidons notre pays à être le moteur de la construction de l\\'Europe et d\\'un monde plus pacifique, plus juste, plus accueillant pour les générations futures.*Forts de tout cela, et pour tout cela, que nous pouvons, sans peur, sans ambiguïté, sans renoncement, entrer dans l\\'union.Cela a été le choix de notre Bureau Politique. Cela après examen des statuts, cela a été le choix de notre comité politique.Les garanties que nous avons obtenues, notre savoir-faire, notre expérience du militantisme nous aideront à bâtir une union plus large dans laquelle nous allons nous accomplir. Voilà pourquoi, mes chers compagnons, en tant que Présidente du Mouvement, je vous propose, je vous demande, de choisir la voie du mouvement, la voie de l\\'union, la voie de l\\'avenir, la voie de la victoire et pour nous, la voie du rassemblement. Le Gaullisme n\\'est ni immobilisme, ni nostalgie.Les Gaullistes ne savent pas vivre repliés sur eux-mêmes. Il leur faut des défis, un idéal, une ouverture aux autres.Parce que nous nous inscrivons dans la lignée gaulliste, nous savons qu\\'à travers des noms différents, nos idées ont toujours résisté. Elles sont les mieux adaptées aux défis du monde moderne, parce qu\\'elles placent l\\'Homme au cur de toute préoccupation, parce qu\\'elles expriment la fierté de notre histoire et de la France.Nous savons bien que pour faire triompher cette certaine idée de la France qui nous habite, nous avons vocation à attirer toujours plus de partisans, à rassembler encore et encore, en un mot, à construire un grand parti populaire. Mes chers compagnons, à l\\'heure du choix décisif permettez moi une confidence : Comme vous, je veux entrer dans la nouvelle union et je veux rester gaulliste. Comme vous je crois en notre nouveau parti et je reste la même. Fière de notre passé, sûre de notre force, portée par nos convictions, je vous lance un appel : celui de l\\'audace et de l\\'ardeur.Entrons avec confiance, avec raison et avec cur, dans l\\'union pour servir mieux encore notre idéal, le Gaullisme,notre pays, conduit par Jacques CHIRAC,notre passion, la France.(Source http://www.rpr.org, le 23 septembre 2002)  [SEP]'"
            ]
          },
          "metadata": {
            "tags": []
          },
          "execution_count": 27
        }
      ]
    },
    {
      "cell_type": "code",
      "metadata": {
        "id": "RodiqMu6guGM",
        "colab_type": "code",
        "colab": {}
      },
      "source": [
        ""
      ],
      "execution_count": 0,
      "outputs": []
    },
    {
      "cell_type": "markdown",
      "metadata": {
        "id": "Fc0Bhc1oU9UM",
        "colab_type": "text"
      },
      "source": [
        "Tokenization "
      ]
    },
    {
      "cell_type": "code",
      "metadata": {
        "id": "QzYonS1Aw9zW",
        "colab_type": "code",
        "colab": {}
      },
      "source": [
        "from transformers import CamembertTokenizer"
      ],
      "execution_count": 0,
      "outputs": []
    },
    {
      "cell_type": "code",
      "metadata": {
        "id": "QWRE0iU0RBYS",
        "colab_type": "code",
        "outputId": "90383e31-b3f0-48c0-8046-9e08e03aca64",
        "colab": {
          "base_uri": "https://localhost:8080/",
          "height": 71
        }
      },
      "source": [
        "tokenizer = CamembertTokenizer.from_pretrained('camembert-base', do_lower_case=True)\n",
        "tokenized_texts = [tokenizer.tokenize(sent) for sent in sentences]\n",
        "print (\"Tokenize the first sentence:\")\n",
        "print (tokenized_texts[0])"
      ],
      "execution_count": 38,
      "outputs": [
        {
          "output_type": "stream",
          "text": [
            "Tokenize the first sentence:\n",
            "['▁[', 'cl', 's', ']', '▁chers', '▁amis', ',', 'cher', 's', '▁compagnons', ',', '▁dans', '▁quelques', '▁instants', ',', '▁vous', '▁allez', ',', '▁nous', '▁allons', '▁choisir', '▁notre', '▁destin', '.', '▁il', '▁ne', '▁s', \"'\", 'agit', '▁pas', '▁d', \"'\", 'un', '▁choix', '▁anodin', '.', 'c', \"'\", 'est', '▁pourquoi', ',', '▁après', '▁cette', '▁matinée', '▁de', '▁travail', '▁et', '▁d', \"'\", 'échange', '▁je', '▁souhaite', '▁vous', '▁dire', '▁quels', '▁sont', '▁les', '▁enjeux', ',', '▁tous', '▁les', '▁enjeux', '▁du', '▁vote', '▁auquel', '▁nous', '▁allons', '▁procéder', '▁ensemble', '▁pendant', '▁le', '▁déjeuner', '.', 'vous', '▁le', '▁sentez', '▁bien', ',', '▁en', '▁cet', '▁instant', ',', '▁mon', '▁émotion', '▁est', '▁profonde', '.', '▁je', '▁sais', '▁qu', \"'\", 'elle', '▁vous', '▁é', 'tre', 'int', '▁aussi', '.', 'nous', '▁avons', '▁tant', '▁partagé', '▁:', '▁-', '▁les', '▁larmes', '▁de', '▁l', \"'\", 'échec', '▁autant', '▁que', '▁les', '▁rire', 's', '▁de', '▁la', '▁victoire', ',', '-', '▁les', '▁sourire', 's', '▁des', '▁temps', '▁faciles', '▁et', '▁plus', '▁encore', ',', '▁les', '▁efforts', '▁des', '▁jours', '▁de', '▁tempête', ',', '▁où', '▁se', '▁forge', ',', '▁chez', '▁nous', '▁gau', 'll', 'istes', ',', '▁l', \"'\", 'essentiel', '▁de', '▁nos', '▁valeurs', '▁et', '▁la', '▁force', '▁de', '▁nos', '▁tempérament', 's', '.', 'et', '▁puis', ',', '▁s', \"'\", 'imposent', '▁à', '▁nous', ',', '▁joyeuse', 's', '▁et', '▁fraternel', 'les', ',', '▁les', '▁images', '▁de', '▁ces', '▁soirées', '▁de', '▁lie', 'sse', ',', '▁celle', '▁de', '▁1995', '▁où', ',', '▁après', '▁deux', '▁décennies', '▁l', \"'\", 'un', '▁des', '▁nôtre', 's', '▁est', '▁revenu', '▁à', '▁l', \"'\", 'é', 'ly', 'sée', ',', '▁celle', '▁du', '▁mois', '▁de', '▁mai', '▁dernier', '▁où', '▁l', \"'\", 'on', '▁a', '▁vu', '▁se', '▁marier', '▁la', '▁grandeur', '▁de', '▁nos', '▁idées', '▁et', '▁l', \"'\", 'univers', 'alité', '▁des', '▁valeurs', '▁de', '▁notre', '▁pays', '.', 'oui', ',', '▁chers', '▁amis', ',', '▁chers', '▁compagnons', ',', '▁en', '▁cet', '▁instant', ',', '▁je', '▁pense', ',', '▁nous', '▁pensons', ',', '▁d', \"'\", 'abord', '▁à', '▁j', 'ac', 'ques', '▁chi', 'rac', ',', '▁lui', '▁qui', '▁a', '▁fondé', '▁notre', '▁mouvement', '▁et', '▁l', \"'\", 'a', '▁conduit', '▁au', '▁succès', '.', '▁je', '▁songe', '▁à', '▁tout', '▁ce', '▁qu', \"'\", 'il', '▁a', '▁fait', '▁pour', '▁nous', '.', '▁et', '▁à', '▁tout', '▁ce', '▁que', '▁nous', '▁avons', '▁fait', '▁pour', '▁lui', '▁et', '▁avec', '▁lui', '.', 'a', '▁l', \"'\", 'heure', '▁où', '▁je', '▁vous', '▁parle', ',', '▁je', '▁pense', '▁aussi', ',', '▁et', '▁vous', '▁comprendre', 'z', '▁que', '▁je', '▁dise', '▁surtout', ',', '▁aux', '▁militants', '▁du', '▁mouvement', '.', 'depuis', '▁longtemps', ',', '▁et', '▁plus', '▁encore', '▁depuis', '▁que', '▁j', \"'\", 'assume', ',', '▁à', '▁leur', '▁demande', ',', '▁la', '▁direction', '▁de', '▁notre', '▁organisation', '▁politique', ',', '▁j', \"'\", 'ai', '▁pu', '▁constater', '▁leur', '▁dévouement', '▁constant', ',', 'leur', '▁ab', 'né', 'gation', '▁au', '▁service', '▁d', \"'\", 'un', '▁idéal', ',', 'leur', '▁dés', 'intéresse', 'ment', '▁personnel', '▁sans', '▁autre', '▁attente', '▁de', '▁récompense', '▁que', '▁celle', '▁d', \"'\", 'avoir', '▁défendu', '▁ses', '▁idées', '▁et', '▁servi', '▁son', '▁pays', '▁', '.', 'oui', ',', '▁au', '▁moment', '▁de', '▁ce', '▁choix', '▁décisif', ',', '▁je', '▁pense', '▁à', '▁ces', '▁centaines', ',', '▁à', '▁ces', '▁milliers', '▁de', '▁militants', '▁anonyme', 's', ',', '▁aux', '▁colle', 'urs', '▁d', \"'\", 'affiche', '▁ou', '▁d', \"'\", 'enveloppe', '▁qui', '▁font', '▁notre', '▁force', '▁collective', ',', '▁qui', '▁ont', '▁fait', '▁du', '▁rp', 'r', '▁le', '▁fer', '▁de', '▁lance', '▁de', '▁la', '▁pensée', '▁gau', 'll', 'iste', '▁et', '▁la', '▁première', '▁force', '▁politique', '▁du', '▁pays', '.', 'avec', '▁vous', ',', '▁je', '▁veux', '▁leur', '▁rendre', '▁hommage', '▁pour', '▁le', '▁passé', '▁et', '▁leur', '▁dire', '▁ma', '▁confiance', '▁pour', '▁l', \"'\", 'avenir', '.', '▁de', '▁cet', '▁avenir', '▁ils', '▁seront', ',', '▁hier', '▁comme', '▁aujourd', \"'\", 'hui', ',', '▁les', '▁acteurs', '▁principaux', '▁!', 'voi', 'ci', '▁trois', '▁ans', ',', '▁les', '▁adhérents', ',', '▁vous', ',', '▁m', \"'\", 'avez', '▁confié', '▁une', '▁triple', '▁mission', '.', 're', 'dress', 'er', '▁le', '▁mouvement', ',', '▁en', '▁re', 'cré', 'ant', '▁son', '▁unité', '▁et', '▁son', '▁dynamisme', '▁;', '▁renouer', '▁avec', '▁les', '▁victoires', '▁électorales', '▁pour', '▁aider', '▁j', 'ac', 'ques', '▁chi', 'rac', '▁à', '▁conserver', '▁la', '▁direction', '▁du', '▁pays', '▁;', '▁préparer', '▁l', \"'\", 'union', '▁souhaitée', '▁par', '▁nos', '▁électeurs', '▁avec', '▁nos', '▁partenaires', '▁dans', '▁des', '▁conditions', '▁claires', '▁et', '▁transparente', 's', ',', '▁sans', '▁arrière', '-', 'pens', 'ée', '.', 'cette', '▁feuille', '▁de', '▁route', '▁que', '▁vous', '▁m', \"'\", 'aviez', '▁fixée', ',', '▁je', '▁peux', '▁aujourd', \"'\", 'hui', '▁dire', '▁qu', \"'\", 'elle', '▁est', '▁remplie', '.', 'j', \"'\", 'ai', '▁mené', '▁ce', '▁combat', '▁avec', '▁constance', ',', '▁me', '▁juge', 'ant', '▁responsable', '▁des', '▁engagements', '▁pris', '▁envers', '▁vous', ',', '▁garant', 'e', '▁de', '▁notre', '▁destin', '▁commun', '.', 'si', '▁j', \"'\", 'ai', '▁souvent', '▁fait', '▁preuve', '▁d', \"'\", 'exigence', ',', '▁si', '▁j', \"'\", 'ai', '▁défendu', '▁pied', '▁à', '▁pied', '▁ce', '▁qui', '▁me', '▁semblait', '▁essentiel', ',', '▁c', \"'\", 'est', '▁pour', '▁respecter', '▁ce', '▁mandat', '▁des', '▁militants', '.', '*', 'pour', '▁remettre', '▁sur', '▁pied', '▁notre', '▁parti', ',', '▁ma', '▁première', '▁préoccupation', '▁a', '▁été', '▁de', '▁pac', 'ifier', '▁le', '▁mouvement', '.', '▁un', '▁parti', '▁est', '▁d', \"'\", 'autant', '▁plus', '▁fort', '▁et', '▁uni', '▁qu', \"'\", 'il', '▁respecte', '▁tous', '▁les', '▁talents', ',', '▁qu', \"'\", 'il', '▁promeut', '▁toutes', '▁les', '▁compétences', '▁et', '▁qu', \"'\", 'il', '▁sait', '▁gérer', '▁sans', '▁s', 'ect', 'arisme', '▁les', '▁ambitions', '▁légitimes', '▁des', '▁un', 's', '▁et', '▁des', '▁autres', '.', '▁la', '▁voie', '▁était', '▁', 'ard', 'ue', '▁mais', '▁nous', '▁avons', '▁fait', '▁le', '▁chemin', '.', 'dès', '▁les', '▁assises', '▁ordinaires', '▁où', '▁vous', '▁étiez', '▁vous', '-', 'mêmes', '▁mandataire', 's', ',', '▁le', '▁17', '▁juin', '▁2000,', '▁nous', '▁avons', '▁ensemble', '▁sur', '▁ces', '▁bases', '▁reconstruit', '▁le', '▁mouvement', ',', '▁retrouvé', '▁les', '▁adhérents', ',', '▁les', '▁anciens', ',', '▁les', '▁nouveaux', ',', '▁et', '▁les', '▁jeunes', ',', '▁recherché', '▁de', '▁nouveaux', '▁talents', ',', '▁relancé', '▁la', '▁réflexion', ',', '▁fait', '▁vivre', '▁la', '▁démocratie', '▁au', '▁quotidien', '▁et', '▁sur', '▁le', '▁terrain', '.', 'je', '▁veux', '▁saluer', '▁ici', '▁toute', '▁l', \"'\", 'équipe', '▁politique', '▁qui', '▁m', \"'\", 'a', '▁a', 'idée', '▁dans', '▁cette', '▁entreprise', '▁de', '▁redressement', '.', 'dans', '▁des', '▁conditions', '▁politiques', '▁et', '▁matérielles', '▁difficiles', ',', '▁avec', '▁détermination', '▁et', '▁ab', 'né', 'gation', '▁ils', '▁ont', '▁repris', '▁le', '▁flambeau', '▁de', '▁ceux', '▁qui', ',', '▁sous', '▁les', '▁présidence', 's', '▁de', '▁j', 'ac', 'ques', '▁chi', 'rac', ',', '▁a', 'lain', '▁j', 'up', 'pé', ',', '▁', 'phili', 'ppe', '▁se', 'guin', ',', '▁n', 'ico', 'las', '▁sa', 'r', 'ko', 'zy', '▁avaient', '▁apporté', '▁leur', '▁pierre', '.', '▁je', '▁veux', '▁rendre', '▁l', \"'\", 'hommage', '▁qu', \"'\", 'il', '▁mérite', '▁aux', '▁personnels', '▁de', '▁la', '▁rue', '▁de', '▁l', 'ille', ',', '▁puis', '▁de', '▁la', '▁tour', '▁m', 'au', 'bourg', ',', '▁avec', '▁constance', ',', '▁ils', '▁ont', '▁tenu', ',', '▁ils', '▁ont', '▁fait', '▁face', ',', '▁ils', '▁ont', '▁assuré', '.', 'je', '▁voudrais', '▁aussi', '▁remercier', '▁tous', '▁nos', '▁cadres', '▁qui', ',', '▁sur', '▁le', '▁terrain', ',', '▁ont', '▁', 'fédéré', '▁les', '▁efforts', ',', '▁organisé', '▁les', '▁réunions', ',', '▁relayé', '▁les', '▁messages', '.', 'ce', '▁fut', '▁un', '▁extraordinaire', '▁travail', '▁de', '▁terrain', '.', '▁il', '▁fut', '▁accompagné', '▁d', \"'\", 'un', '▁formidable', '▁effort', '▁de', '▁réflexion', ',', '▁de', '▁remise', '▁en', '▁cause', '▁de', '▁nos', '▁idées', ',', '▁d', \"'\", 'imagination', '.', 'ainsi', ',', '▁en', '▁tant', '▁que', '▁parti', ',', '▁nous', '▁avons', '▁pu', '▁prendre', '▁toute', '▁notre', '▁part', '▁à', '▁la', '▁victoire', ',', '▁au', '▁référendum', ',', '▁aux', '▁municipales', ',', '▁aux', '▁sénat', 'orial', 'es', ',', '▁et', '▁bien', '▁sûr', '▁aux', '▁deux', '▁élections', '▁présidentielle', '▁et', '▁législatives', '▁de', '▁2002', '.', 'le', '▁rassemblement', '▁pour', '▁la', '▁république', '▁a', '▁apporté', '▁un', '▁programme', '▁fruit', '▁du', '▁travail', '▁que', '▁nous', '▁avons', '▁lancé', '▁ensemble', '▁en', '▁juin', '▁2000,', '▁et', '▁qui', '▁a', '▁constitué', '▁un', '▁apport', '▁essentiel', ',', '▁n', \"'\", 'ay', 'ons', '▁pas', '▁peur', '▁de', '▁le', '▁dire', ',', '▁pour', '▁le', '▁programme', '▁de', '▁notre', '▁candidat', '▁à', '▁l', \"'\", 'élection', '▁présidentielle', '▁et', '▁celui', '▁des', '▁candidats', '▁de', '▁l', \"'\", 'union', '▁aux', '▁législatives', '.', '*', 'la', '▁troisième', '▁mission', '▁:', '▁c', \"'\", 'était', '▁de', '▁faire', '▁l', \"'\", 'union', '▁avec', '▁nos', '▁partenaires', '.', 's', 'ou', 'venez', '-', 'vous', '▁:', '▁il', '▁y', '▁a', '▁trois', '▁ans', '▁je', '▁vous', '▁avais', '▁dit', '▁lors', '▁de', '▁ma', '▁campagne', '▁pour', '▁la', '▁présidence', '▁:', '▁\"', 'pour', '▁faire', '▁l', \"'\", 'union', ',', '▁il', '▁faut', '▁être', '▁forts', '\".', '▁nous', '▁sommes', '▁redevenu', 's', '▁forts', '.', '▁nous', '▁sommes', '▁prêts', '▁pour', '▁l', \"'\", 'union', '.', '▁je', '▁me', '▁suis', '▁opposée', ',', '▁vous', '▁le', '▁savez', ',', '▁à', '▁une', '▁union', '▁prématuré', 'e', ',', '▁aux', '▁règles', '▁incertain', 'es', ',', '▁pour', '▁qu', \"'\", 'elle', '▁se', '▁fasse', '▁au', '▁bon', '▁moment', ',', '▁dans', '▁les', '▁meilleures', '▁conditions', '.', '▁et', '▁chacun', '▁a', '▁bien', '▁voulu', '▁reconnaître', '▁que', '▁c', \"'\", 'était', '▁une', '▁manière', '▁plus', '▁pertinente', '▁de', '▁rentrer', '▁dans', '▁l', \"'\", 'union', '.', '▁tous', '▁ensemble', ',', '▁mes', '▁chers', '▁compagnons', ',', '▁nous', '▁avons', '▁re', 'bâti', '▁le', '▁rassemblement', '▁pour', '▁la', '▁république', '▁depuis', '▁juin', '▁2000,', '▁nous', '▁avons', '▁résisté', '▁aux', '▁sirène', 's', '▁de', '▁la', '▁facilité', '▁et', '▁aux', '▁prédiction', 's', '▁de', '▁simple', '▁disparition', '.', 'c', \"'\", 'est', '▁pour', '▁cela', '▁qu', \"'\", 'aujourd', \"'\", 'hui', '▁nous', '▁sommes', '▁les', '▁plus', '▁qualifiés', '▁et', '▁les', '▁plus', '▁crédible', 's', '▁pour', '▁dire', ',', '▁au', '▁nom', '▁de', '▁ceux', '▁que', '▁nous', '▁re', 'présent', 'ons', ',', '▁oui', '▁à', '▁l', \"'\", 'union', '▁!', 'sans', '▁nous', ',', '▁l', \"'\", 'union', '▁ne', '▁peut', '▁se', '▁faire', '.', '▁avec', '▁nous', ',', '▁elle', '▁est', '▁crédible', ',', '▁durable', ',', '▁équitable', '.', 'sûr', 's', '▁de', '▁nous', ',', '▁nous', '▁pouvons', '▁aller', '▁à', '▁la', '▁rencontre', '▁des', '▁autres', '.', 'f', 'iers', '▁de', '▁notre', '▁passé', '▁nous', '▁pouvons', '▁aborder', '▁sereinement', '▁l', \"'\", 'avenir', '.', '*', 'mili', 'tant', 's', '▁de', '▁l', \"'\", 'union', ',', '▁bâtisse', 'urs', '▁de', '▁l', \"'\", 'union', ',', '▁nous', '▁pouvons', '▁donc', '▁y', '▁entrer', '▁parce', '▁que', '▁nous', '▁sommes', '▁forts', ',', '▁parce', '▁que', '▁nous', '▁sommes', '▁nous', '-', 'mêmes', '.', '▁garant', 'e', '▁du', '▁destin', '▁de', '▁notre', '▁mouvement', ',', '▁j', \"'\", 'ai', '▁voulu', '▁qu', \"'\", 'en', '▁entrant', '▁dans', '▁cette', '▁union', '▁plus', '▁forte', ',', '▁nous', '▁puissions', '▁justement', '▁rester', '▁nous', '-', 'mêmes', '.', '▁ces', '▁garanties', ',', '▁je', '▁les', '▁ai', '▁obtenues', '.', '▁je', '▁les', '▁ai', '▁voulu', 'es', '▁parce', '▁que', '▁cela', '▁me', '▁semble', '▁être', '▁la', '▁condition', '▁d', \"'\", 'une', '▁construction', '▁durable', '.', '▁nous', '▁allons', '▁en', '▁effet', '▁enfin', '▁construire', '▁le', '▁grand', '▁parti', '▁de', '▁la', '▁droite', '▁et', '▁du', '▁centre', '▁dont', '▁notre', '▁pays', '▁a', '▁besoin', '▁et', '▁nous', '▁allons', '▁le', '▁construire', '▁non', '▁pour', '▁une', '▁éphémère', '▁raison', '▁électorale', ',', '▁mais', '▁pour', '▁la', '▁durée', '.', '▁j', \"'\", 'ai', '▁la', '▁conviction', '▁que', '▁pour', '▁y', '▁parvenir', '▁ce', '▁parti', '▁doit', '▁reposer', '▁sur', '▁quelques', '▁principes', '▁simples', '▁et', '▁sain', 's', '▁:', 'la', '▁conscience', '▁de', '▁ce', '▁qui', '▁nous', '▁un', 'it', ',', 'la', '▁reconnaissance', '▁des', '▁sensibilité', 's', ',', 'la', '▁démocratie', '.', 's', 'a', 'chons', '▁d', \"'\", 'abord', '▁proclame', 'r', '▁nos', '▁valeurs', '▁communes', '.', '▁nous', '▁venons', '▁certes', '▁d', \"'\", 'horizon', 's', '▁différents', ',', '▁mais', '▁au', '▁cours', '▁des', '▁années', ',', '▁nous', '▁avons', '▁tous', '▁fait', '▁des', '▁pas', '▁qui', '▁nous', '▁ont', '▁rapproché', 's', '▁les', '▁un', 's', '▁des', '▁autres', '.', 'pren', 'ons', '▁l', \"'\", 'exemple', '▁de', '▁l', \"'\", 'europe', '.', '▁qui', '▁aujourd', \"'\", 'hui', '▁en', '▁conteste', '▁la', '▁nécessité', '▁?', '▁qui', '▁la', '▁veut', '▁encore', '▁supra', 'national', 'e', '▁?', '▁chacun', '▁s', \"'\", 'accorde', '▁à', '▁reconnaître', '▁que', '▁la', '▁formule', '▁de', '▁j', 'ac', 'ques', '▁chi', 'rac', '▁de', '▁\"', '▁fédération', '▁d', \"'\", 'et', 'ats', '▁nations', '▁\"', '▁nous', '▁rassemble', '▁tous', '.', '▁de', '▁la', '▁même', '▁manière', '▁il', '▁n', \"'\", 'y', '▁a', '▁plus', '▁de', '▁gau', 'll', 'istes', '▁central', 'isateur', 's', '▁j', 'aco', 'bin', 's', '▁d', \"'\", 'un', '▁côté', '▁et', ',', '▁de', '▁l', \"'\", 'autre', ',', '▁des', '▁cent', 'riste', 's', '▁dé', 'central', 'isateur', 's', '▁et', '▁giron', 'din', 's', '.', 'nous', '▁nous', '▁sommes', '▁donc', '▁rapproché', 's', '.', '▁mais', '▁nous', '▁tenons', '▁aussi', '▁à', '▁notre', '▁sensibilité', ',', '▁à', '▁notre', '▁façon', '▁gau', 'll', 'iste', '▁ou', '▁gau', 'll', 'ienne', '▁d', \"'\", 'approcher', '▁les', '▁problèmes', '▁de', '▁société', '▁et', '▁du', '▁monde', '▁;', '▁comme', '▁d', \"'\", 'autres', '▁tiennent', '▁à', '▁leur', '▁façon', '▁libérale', ',', '▁cent', 'riste', ',', '▁écologiste', '▁ou', '▁radicale', ',', '▁d', \"'\", 'établir', '▁les', '▁priorités', '▁politiques', '.', 'les', '▁statuts', '▁du', '▁nouveau', '▁parti', '▁prévoient', '▁le', '▁respect', '▁des', '▁un', 's', '▁et', '▁des', '▁autres', '.', '▁la', '▁nouvelle', '▁union', '▁reconnaît', '▁les', '▁familles', '▁de', '▁pensée', '▁en', '▁organisant', '▁des', '▁mouvements', '.', '▁ces', '▁mouvements', '▁sont', '▁importants', '.', '▁ils', '▁forme', 'ront', '▁un', '▁creuse', 't', '▁de', '▁démocratie', '▁et', '▁d', \"'\", 'idées', '.', '▁chacun', '▁pourra', '▁ainsi', '▁retrouver', '▁sa', '▁famille', '▁et', '▁s', \"'\", 'un', 'ir', '▁aux', '▁autres', '.', '▁cette', '▁vision', '▁est', '▁essentielle', '.', 's', 'a', 'chons', '▁ainsi', '▁faire', '▁vivre', '▁la', '▁démocratie', '▁dans', '▁notre', '▁nouveau', '▁parti', '.', '▁sans', '▁démocratie', '▁vraie', ',', '▁il', '▁n', \"'\", 'y', '▁a', '▁ni', '▁respect', ',', '▁ni', '▁légitimité', '.', 'il', '▁est', '▁acquis', '▁que', '▁la', '▁démocratie', '▁sera', '▁le', '▁principe', '▁d', \"'\", 'organisation', '▁de', '▁l', \"'\", 'union', '▁à', '▁tous', '▁les', '▁niveaux', '.', '▁le', '▁suffrage', '▁universel', ',', '▁et', '▁notamment', '▁pour', '▁l', \"'\", 'élection', '▁du', '▁président', '▁du', '▁parti', '▁-', '▁et', '▁vous', '▁savez', '▁combien', '▁j', \"'\", 'y', '▁suis', '▁attachée', '▁-', '▁est', '▁assuré', '.', 'dans', '▁le', '▁même', '▁esprit', ',', '▁il', '▁a', '▁été', '▁garanti', '▁à', '▁tous', '▁les', '▁membres', '▁du', '▁rassemblement', '▁pour', '▁la', '▁république', '▁qui', '▁le', '▁souhaitent', '▁de', '▁devenir', '▁immédiatement', '▁et', '▁naturellement', ',', '▁membres', '▁de', '▁l', \"'\", 'union', '.', '▁*', 'cette', '▁union', ',', '▁mes', '▁chers', '▁compagnons', ',', '▁n', \"'\", 'est', '▁pas', '▁seulement', '▁le', '▁fruit', '▁de', '▁notre', '▁passé', ',', '▁elle', '▁a', '▁aussi', '▁l', \"'\", 'ambition', '▁de', '▁construire', '▁l', \"'\", 'avenir', '▁et', '▁de', '▁le', '▁construire', '▁durablement', '.', '▁nous', '▁voulons', '▁apporter', '▁au', '▁gouvernement', '▁de', '▁jean', '-', 'pierre', '▁raf', 'far', 'in', '▁un', '▁soutien', '▁solide', ',', '▁qui', '▁ne', '▁soit', '▁pas', '▁une', '▁coalition', '▁et', '▁donc', '▁le', '▁lieu', '▁de', '▁négociations', '▁permanente', 's', '▁pour', '▁obtenir', '▁des', '▁majorité', 's', '▁d', \"'\", 'occasion', ',', '▁comme', '▁le', '▁fut', '▁le', '▁triste', '▁spectacle', '▁de', '▁feu', '▁la', '▁gauche', '▁pluri', 'elle', '.', 'au', '-', 'delà', ',', '▁il', '▁s', \"'\", 'agit', '▁aussi', '▁de', '▁convaincre', '▁les', '▁français', '▁de', '▁mettre', '▁fin', '▁au', '▁zap', 'ping', '▁politique', '▁permanent', '▁qui', ',', '▁depuis', '▁1981', ',', '▁marque', '▁du', '▁sceau', '▁des', '▁aller', '-', 'retour', '▁idéologique', 's', ',', '▁non', '▁seulement', '▁notre', '▁paysage', '▁politique', ',', '▁mais', '▁aussi', '▁notre', '▁économie', ',', '▁notre', '▁compétitivité', ',', '▁notre', '▁image', '▁européenne', '▁et', '▁mondiale', '.', '▁cette', '▁alternance', '▁systématique', '▁est', '▁devenue', '▁une', '▁faiblesse', '▁pour', '▁la', '▁france', '.', '▁l', \"'\", 'union', '▁que', '▁nous', '▁bâti', 'ssons', '▁a', '▁donc', '▁aussi', '▁pour', '▁but', '▁de', '▁doter', '▁durablement', '▁la', '▁france', '▁d', \"'\", 'une', '▁politique', '▁qui', '▁conduis', 'e', '▁les', '▁français', '▁en', '▁évitant', '▁les', '▁éc', 'ue', 'ils', '▁des', '▁chemins', '▁incertain', 's', '▁qui', '▁sont', '▁devant', '▁nous', '.', '▁permettez', '▁ici', '▁au', '▁ministre', '▁de', '▁la', '▁défense', '▁de', '▁vous', '▁dire', '▁que', '▁dans', '▁ce', '▁monde', '▁de', '▁dangers', '▁que', '▁seuls', '▁les', '▁naïf', 's', '▁ignore', 'nt', ',', '▁la', '▁france', '▁a', '▁besoin', '▁d', \"'\", 'une', '▁majorité', '▁sou', 'dée', '▁et', '▁cohérente', '.', '▁la', '▁chute', '▁du', '▁mur', '▁de', '▁ber', 'lin', '▁nous', '▁avait', '▁fait', '▁rêver', '▁des', '▁dividende', 's', '▁de', '▁la', '▁paix', '.', '▁nous', '▁constatons', '▁hélas', ',', '▁des', '▁divisions', '▁nombreuses', '▁et', '▁menaçant', 'es', ',', '▁la', '▁multiplication', '▁de', '▁crises', '▁régionales', '▁aux', '▁menaces', '▁mondiales', ',', '▁l', \"'\", 'apparition', '▁du', '▁terrorisme', '▁de', '▁masse', '▁qui', '▁menace', '▁tous', '▁pays', ',', '▁n', \"'\", 'importe', '▁quel', '▁citoyen', '.', '▁est', '-', 'ce', '▁le', '▁temps', '▁des', '▁querelle', 's', '▁de', '▁personnes', '▁ou', '▁celui', '▁de', '▁l', \"'\", 'union', '▁pour', '▁réagir', '?', 'c', \"'\", 'est', '▁vrai', '▁dans', '▁le', '▁domaine', '▁de', '▁sa', '▁défense', ',', '▁c', \"'\", 'est', '▁vrai', '▁dans', '▁le', '▁domaine', '▁économique', ',', '▁dans', '▁le', '▁domaine', '▁social', ',', '▁dans', '▁celui', '▁de', '▁l', \"'\", 'environnement', '.', 'ai', 'don', 's', '▁notre', '▁pays', '▁à', '▁être', '▁le', '▁moteur', '▁de', '▁la', '▁construction', '▁de', '▁l', \"'\", 'europe', '▁et', '▁d', \"'\", 'un', '▁monde', '▁plus', '▁pacifique', ',', '▁plus', '▁juste', ',', '▁plus', '▁accueillant', '▁pour', '▁les', '▁générations', '▁futures', '.', '*', 'fort', 's', '▁de', '▁tout', '▁cela', ',', '▁et', '▁pour', '▁tout', '▁cela', ',', '▁que', '▁nous', '▁pouvons', ',', '▁sans', '▁peur', ',', '▁sans', '▁', 'ambiguïté', ',', '▁sans', '▁renonce', 'ment', ',', '▁entrer', '▁dans', '▁l', \"'\", 'union', '.', 'cela', '▁a', '▁été', '▁le', '▁choix', '▁de', '▁notre', '▁bureau', '▁politique', '.', '▁cela', '▁après', '▁examen', '▁des', '▁statuts', ',', '▁cela', '▁a', '▁été', '▁le', '▁choix', '▁de', '▁notre', '▁comité', '▁politique', '.', 'les', '▁garanties', '▁que', '▁nous', '▁avons', '▁obtenues', ',', '▁notre', '▁savoir', '-', 'faire', ',', '▁notre', '▁expérience', '▁du', '▁militant', 'isme', '▁nous', '▁aideront', '▁à', '▁bâtir', '▁une', '▁union', '▁plus', '▁large', '▁dans', '▁laquelle', '▁nous', '▁allons', '▁nous', '▁accomplir', '.', '▁voilà', '▁pourquoi', ',', '▁mes', '▁chers', '▁compagnons', ',', '▁en', '▁tant', '▁que', '▁présidente', '▁du', '▁mouvement', ',', '▁je', '▁vous', '▁propose', ',', '▁je', '▁vous', '▁demande', ',', '▁de', '▁choisir', '▁la', '▁voie', '▁du', '▁mouvement', ',', '▁la', '▁voie', '▁de', '▁l', \"'\", 'union', ',', '▁la', '▁voie', '▁de', '▁l', \"'\", 'avenir', ',', '▁la', '▁voie', '▁de', '▁la', '▁victoire', '▁et', '▁pour', '▁nous', ',', '▁la', '▁voie', '▁du', '▁rassemblement', '.', '▁le', '▁gau', 'll', 'isme', '▁n', \"'\", 'est', '▁ni', '▁immobil', 'isme', ',', '▁ni', '▁nostalgie', '.', 'les', '▁gau', 'll', 'istes', '▁ne', '▁savent', '▁pas', '▁vivre', '▁repli', 'és', '▁sur', '▁eux', '-', 'mêmes', '.', '▁il', '▁leur', '▁faut', '▁des', '▁défis', ',', '▁un', '▁idéal', ',', '▁une', '▁ouverture', '▁aux', '▁autres', '.', 'parce', '▁que', '▁nous', '▁nous', '▁ins', 'cri', 'von', 's', '▁dans', '▁la', '▁lignée', '▁gau', 'll', 'iste', ',', '▁nous', '▁savons', '▁qu', \"'\", 'à', '▁travers', '▁des', '▁noms', '▁différents', ',', '▁nos', '▁idées', '▁ont', '▁toujours', '▁résisté', '.', '▁elles', '▁sont', '▁les', '▁mieux', '▁adaptées', '▁aux', '▁défis', '▁du', '▁monde', '▁moderne', ',', '▁parce', '▁qu', \"'\", 'elles', '▁place', 'nt', '▁l', \"'\", 'homme', '▁au', '▁cur', '▁de', '▁toute', '▁préoccupation', ',', '▁parce', '▁qu', \"'\", 'elles', '▁exprime', 'nt', '▁la', '▁fierté', '▁de', '▁notre', '▁histoire', '▁et', '▁de', '▁la', '▁france', '.', 'nous', '▁savons', '▁bien', '▁que', '▁pour', '▁faire', '▁triomphe', 'r', '▁cette', '▁certaine', '▁idée', '▁de', '▁la', '▁france', '▁qui', '▁nous', '▁habite', ',', '▁nous', '▁avons', '▁vocation', '▁à', '▁attirer', '▁toujours', '▁plus', '▁de', '▁partisans', ',', '▁à', '▁rassembler', '▁encore', '▁et', '▁encore', ',', '▁en', '▁un', '▁mot', ',', '▁à', '▁construire', '▁un', '▁grand', '▁parti', '▁populaire', '.', '▁mes', '▁chers', '▁compagnons', ',', '▁à', '▁l', \"'\", 'heure', '▁du', '▁choix', '▁décisif', '▁permettez', '▁moi', '▁une', '▁confidence', '▁:', '▁comme', '▁vous', ',', '▁je', '▁veux', '▁entrer', '▁dans', '▁la', '▁nouvelle', '▁union', '▁et', '▁je', '▁veux', '▁rester', '▁gau', 'll', 'iste', '.', '▁comme', '▁vous', '▁je', '▁crois', '▁en', '▁notre', '▁nouveau', '▁parti', '▁et', '▁je', '▁reste', '▁la', '▁même', '.', '▁fière', '▁de', '▁notre', '▁passé', ',', '▁sûre', '▁de', '▁notre', '▁force', ',', '▁portée', '▁par', '▁nos', '▁convictions', ',', '▁je', '▁vous', '▁lance', '▁un', '▁appel', '▁:', '▁celui', '▁de', '▁l', \"'\", 'audace', '▁et', '▁de', '▁l', \"'\", 'ard', 'eur', '.', 'ent', 'rons', '▁avec', '▁confiance', ',', '▁avec', '▁raison', '▁et', '▁avec', '▁cur', ',', '▁dans', '▁l', \"'\", 'union', '▁pour', '▁servir', '▁mieux', '▁encore', '▁notre', '▁idéal', ',', '▁le', '▁gau', 'll', 'isme', ',', 'notre', '▁pays', ',', '▁conduit', '▁par', '▁j', 'ac', 'ques', '▁chi', 'rac', ',', 'notre', '▁passion', ',', '▁la', '▁france', '.', '(', 'source', '▁http', '://', 'www', '.', 'r', 'pr', '.', 'org', ',', '▁le', '▁23', '▁septembre', '▁2002', ')', '▁[', 's', 'ep', ']']\n"
          ],
          "name": "stdout"
        }
      ]
    },
    {
      "cell_type": "markdown",
      "metadata": {
        "id": "ROHDXPfgWNr_",
        "colab_type": "text"
      },
      "source": [
        "Tokenization spéciale ? : Dans la doc on trouve : ' This uses a greedy longest-match-first algorithm to perform tokenization using the  given vocabulary '"
      ]
    },
    {
      "cell_type": "markdown",
      "metadata": {
        "id": "57vd7fvsaXZq",
        "colab_type": "text"
      },
      "source": [
        "COmme BERT n'est pas fait pour avoir plusieurs phrases, on met tout le texte comme une phrase. En renvanche il y a une longueur maximale à fixer. \n"
      ]
    },
    {
      "cell_type": "code",
      "metadata": {
        "id": "PCcHvGMNWMGt",
        "colab_type": "code",
        "outputId": "14b09698-22ff-43be-ad73-0f68cd7a7a3d",
        "colab": {
          "base_uri": "https://localhost:8080/",
          "height": 34
        }
      },
      "source": [
        "#21 000 tokens pour le max.... Comment on fait ? \n",
        "len(max(tokenized_texts, key=len)),len(min(tokenized_texts, key=len))"
      ],
      "execution_count": 39,
      "outputs": [
        {
          "output_type": "execute_result",
          "data": {
            "text/plain": [
              "(19126, 79)"
            ]
          },
          "metadata": {
            "tags": []
          },
          "execution_count": 39
        }
      ]
    },
    {
      "cell_type": "code",
      "metadata": {
        "id": "Cp9BPRd1tMIo",
        "colab_type": "code",
        "colab": {}
      },
      "source": [
        "# VOila donc on est limité à 512 tokens... Embêtant je sais pas comment faire \n",
        "# Mon idée c'est que pour l'instant on le laisse tronquer et padder tant pis. Si on arrive pas à de bons résultats on split les discours en plusieurs on les labellise et on fera la moyenne des prédictions sur chaque bout de texte\n",
        "MAX_LEN = 512"
      ],
      "execution_count": 0,
      "outputs": []
    },
    {
      "cell_type": "code",
      "metadata": {
        "id": "TxJksSj9RBb3",
        "colab_type": "code",
        "colab": {}
      },
      "source": [
        "# Use the BERT tokenizer to convert the tokens to their index numbers in the BERT vocabulary\n",
        "input_ids = [tokenizer.convert_tokens_to_ids(x) for x in tokenized_texts]"
      ],
      "execution_count": 0,
      "outputs": []
    },
    {
      "cell_type": "code",
      "metadata": {
        "id": "hC7M3uLocYiv",
        "colab_type": "code",
        "colab": {}
      },
      "source": [
        "# Pad our input tokens\n",
        "input_ids = pad_sequences(input_ids, maxlen=MAX_LEN, dtype=\"long\", truncating=\"post\", padding=\"post\")"
      ],
      "execution_count": 0,
      "outputs": []
    },
    {
      "cell_type": "code",
      "metadata": {
        "id": "S_fUab9RRBWb",
        "colab_type": "code",
        "colab": {}
      },
      "source": [
        "# Create attention masks\n",
        "attention_masks = []\n",
        "\n",
        "# Create a mask of 1s for each token followed by 0s for padding\n",
        "for seq in input_ids:\n",
        "  seq_mask = [float(i>0) for i in seq]\n",
        "  attention_masks.append(seq_mask)"
      ],
      "execution_count": 0,
      "outputs": []
    },
    {
      "cell_type": "code",
      "metadata": {
        "id": "htJhs771RBSH",
        "colab_type": "code",
        "colab": {}
      },
      "source": [
        "train_inputs, validation_inputs, train_labels, validation_labels = train_test_split(input_ids, labels, \n",
        "                                                            random_state=2018, test_size=0.1)\n",
        "train_masks, validation_masks, _, _ = train_test_split(attention_masks, input_ids,\n",
        "                                             random_state=2018, test_size=0.1)"
      ],
      "execution_count": 0,
      "outputs": []
    },
    {
      "cell_type": "code",
      "metadata": {
        "id": "QkIpvQEEcrXC",
        "colab_type": "code",
        "colab": {}
      },
      "source": [
        "\n",
        "train_inputs = torch.tensor(train_inputs)\n",
        "validation_inputs = torch.tensor(validation_inputs)\n",
        "train_labels = torch.tensor(train_labels)\n",
        "validation_labels = torch.tensor(validation_labels)\n",
        "train_masks = torch.tensor(train_masks)\n",
        "validation_masks = torch.tensor(validation_masks)"
      ],
      "execution_count": 0,
      "outputs": []
    },
    {
      "cell_type": "code",
      "metadata": {
        "id": "BkslsGcscrZS",
        "colab_type": "code",
        "colab": {}
      },
      "source": [
        "batch_size = 2\n",
        "\n",
        "# Create an iterator of our data with torch DataLoader. This helps save on memory during training because, unlike a for loop, \n",
        "# with an iterator the entire dataset does not need to be loaded into memory\n",
        "\n",
        "train_data = TensorDataset(train_inputs, train_masks, train_labels)\n",
        "train_sampler = RandomSampler(train_data)\n",
        "train_dataloader = DataLoader(train_data, sampler=train_sampler, batch_size=batch_size)\n",
        "\n",
        "validation_data = TensorDataset(validation_inputs, validation_masks, validation_labels)\n",
        "validation_sampler = SequentialSampler(validation_data)\n",
        "validation_dataloader = DataLoader(validation_data, sampler=validation_sampler, batch_size=batch_size)\n"
      ],
      "execution_count": 0,
      "outputs": []
    },
    {
      "cell_type": "code",
      "metadata": {
        "id": "MBIhCEK3crd0",
        "colab_type": "code",
        "colab": {}
      },
      "source": [
        "from transformers import CamembertForSequenceClassification"
      ],
      "execution_count": 0,
      "outputs": []
    },
    {
      "cell_type": "code",
      "metadata": {
        "id": "xWhRMdr2crij",
        "colab_type": "code",
        "outputId": "02aec395-9eb1-4779-ae70-ce69b2449008",
        "colab": {
          "base_uri": "https://localhost:8080/",
          "height": 1000
        }
      },
      "source": [
        "model = CamembertForSequenceClassification.from_pretrained(\"camembert-base\", num_labels=2)\n",
        "model.cuda()"
      ],
      "execution_count": 50,
      "outputs": [
        {
          "output_type": "execute_result",
          "data": {
            "text/plain": [
              "CamembertForSequenceClassification(\n",
              "  (roberta): RobertaModel(\n",
              "    (embeddings): RobertaEmbeddings(\n",
              "      (word_embeddings): Embedding(32005, 768, padding_idx=1)\n",
              "      (position_embeddings): Embedding(514, 768, padding_idx=1)\n",
              "      (token_type_embeddings): Embedding(1, 768)\n",
              "      (LayerNorm): LayerNorm((768,), eps=1e-05, elementwise_affine=True)\n",
              "      (dropout): Dropout(p=0.1, inplace=False)\n",
              "    )\n",
              "    (encoder): BertEncoder(\n",
              "      (layer): ModuleList(\n",
              "        (0): BertLayer(\n",
              "          (attention): BertAttention(\n",
              "            (self): BertSelfAttention(\n",
              "              (query): Linear(in_features=768, out_features=768, bias=True)\n",
              "              (key): Linear(in_features=768, out_features=768, bias=True)\n",
              "              (value): Linear(in_features=768, out_features=768, bias=True)\n",
              "              (dropout): Dropout(p=0.1, inplace=False)\n",
              "            )\n",
              "            (output): BertSelfOutput(\n",
              "              (dense): Linear(in_features=768, out_features=768, bias=True)\n",
              "              (LayerNorm): LayerNorm((768,), eps=1e-05, elementwise_affine=True)\n",
              "              (dropout): Dropout(p=0.1, inplace=False)\n",
              "            )\n",
              "          )\n",
              "          (intermediate): BertIntermediate(\n",
              "            (dense): Linear(in_features=768, out_features=3072, bias=True)\n",
              "          )\n",
              "          (output): BertOutput(\n",
              "            (dense): Linear(in_features=3072, out_features=768, bias=True)\n",
              "            (LayerNorm): LayerNorm((768,), eps=1e-05, elementwise_affine=True)\n",
              "            (dropout): Dropout(p=0.1, inplace=False)\n",
              "          )\n",
              "        )\n",
              "        (1): BertLayer(\n",
              "          (attention): BertAttention(\n",
              "            (self): BertSelfAttention(\n",
              "              (query): Linear(in_features=768, out_features=768, bias=True)\n",
              "              (key): Linear(in_features=768, out_features=768, bias=True)\n",
              "              (value): Linear(in_features=768, out_features=768, bias=True)\n",
              "              (dropout): Dropout(p=0.1, inplace=False)\n",
              "            )\n",
              "            (output): BertSelfOutput(\n",
              "              (dense): Linear(in_features=768, out_features=768, bias=True)\n",
              "              (LayerNorm): LayerNorm((768,), eps=1e-05, elementwise_affine=True)\n",
              "              (dropout): Dropout(p=0.1, inplace=False)\n",
              "            )\n",
              "          )\n",
              "          (intermediate): BertIntermediate(\n",
              "            (dense): Linear(in_features=768, out_features=3072, bias=True)\n",
              "          )\n",
              "          (output): BertOutput(\n",
              "            (dense): Linear(in_features=3072, out_features=768, bias=True)\n",
              "            (LayerNorm): LayerNorm((768,), eps=1e-05, elementwise_affine=True)\n",
              "            (dropout): Dropout(p=0.1, inplace=False)\n",
              "          )\n",
              "        )\n",
              "        (2): BertLayer(\n",
              "          (attention): BertAttention(\n",
              "            (self): BertSelfAttention(\n",
              "              (query): Linear(in_features=768, out_features=768, bias=True)\n",
              "              (key): Linear(in_features=768, out_features=768, bias=True)\n",
              "              (value): Linear(in_features=768, out_features=768, bias=True)\n",
              "              (dropout): Dropout(p=0.1, inplace=False)\n",
              "            )\n",
              "            (output): BertSelfOutput(\n",
              "              (dense): Linear(in_features=768, out_features=768, bias=True)\n",
              "              (LayerNorm): LayerNorm((768,), eps=1e-05, elementwise_affine=True)\n",
              "              (dropout): Dropout(p=0.1, inplace=False)\n",
              "            )\n",
              "          )\n",
              "          (intermediate): BertIntermediate(\n",
              "            (dense): Linear(in_features=768, out_features=3072, bias=True)\n",
              "          )\n",
              "          (output): BertOutput(\n",
              "            (dense): Linear(in_features=3072, out_features=768, bias=True)\n",
              "            (LayerNorm): LayerNorm((768,), eps=1e-05, elementwise_affine=True)\n",
              "            (dropout): Dropout(p=0.1, inplace=False)\n",
              "          )\n",
              "        )\n",
              "        (3): BertLayer(\n",
              "          (attention): BertAttention(\n",
              "            (self): BertSelfAttention(\n",
              "              (query): Linear(in_features=768, out_features=768, bias=True)\n",
              "              (key): Linear(in_features=768, out_features=768, bias=True)\n",
              "              (value): Linear(in_features=768, out_features=768, bias=True)\n",
              "              (dropout): Dropout(p=0.1, inplace=False)\n",
              "            )\n",
              "            (output): BertSelfOutput(\n",
              "              (dense): Linear(in_features=768, out_features=768, bias=True)\n",
              "              (LayerNorm): LayerNorm((768,), eps=1e-05, elementwise_affine=True)\n",
              "              (dropout): Dropout(p=0.1, inplace=False)\n",
              "            )\n",
              "          )\n",
              "          (intermediate): BertIntermediate(\n",
              "            (dense): Linear(in_features=768, out_features=3072, bias=True)\n",
              "          )\n",
              "          (output): BertOutput(\n",
              "            (dense): Linear(in_features=3072, out_features=768, bias=True)\n",
              "            (LayerNorm): LayerNorm((768,), eps=1e-05, elementwise_affine=True)\n",
              "            (dropout): Dropout(p=0.1, inplace=False)\n",
              "          )\n",
              "        )\n",
              "        (4): BertLayer(\n",
              "          (attention): BertAttention(\n",
              "            (self): BertSelfAttention(\n",
              "              (query): Linear(in_features=768, out_features=768, bias=True)\n",
              "              (key): Linear(in_features=768, out_features=768, bias=True)\n",
              "              (value): Linear(in_features=768, out_features=768, bias=True)\n",
              "              (dropout): Dropout(p=0.1, inplace=False)\n",
              "            )\n",
              "            (output): BertSelfOutput(\n",
              "              (dense): Linear(in_features=768, out_features=768, bias=True)\n",
              "              (LayerNorm): LayerNorm((768,), eps=1e-05, elementwise_affine=True)\n",
              "              (dropout): Dropout(p=0.1, inplace=False)\n",
              "            )\n",
              "          )\n",
              "          (intermediate): BertIntermediate(\n",
              "            (dense): Linear(in_features=768, out_features=3072, bias=True)\n",
              "          )\n",
              "          (output): BertOutput(\n",
              "            (dense): Linear(in_features=3072, out_features=768, bias=True)\n",
              "            (LayerNorm): LayerNorm((768,), eps=1e-05, elementwise_affine=True)\n",
              "            (dropout): Dropout(p=0.1, inplace=False)\n",
              "          )\n",
              "        )\n",
              "        (5): BertLayer(\n",
              "          (attention): BertAttention(\n",
              "            (self): BertSelfAttention(\n",
              "              (query): Linear(in_features=768, out_features=768, bias=True)\n",
              "              (key): Linear(in_features=768, out_features=768, bias=True)\n",
              "              (value): Linear(in_features=768, out_features=768, bias=True)\n",
              "              (dropout): Dropout(p=0.1, inplace=False)\n",
              "            )\n",
              "            (output): BertSelfOutput(\n",
              "              (dense): Linear(in_features=768, out_features=768, bias=True)\n",
              "              (LayerNorm): LayerNorm((768,), eps=1e-05, elementwise_affine=True)\n",
              "              (dropout): Dropout(p=0.1, inplace=False)\n",
              "            )\n",
              "          )\n",
              "          (intermediate): BertIntermediate(\n",
              "            (dense): Linear(in_features=768, out_features=3072, bias=True)\n",
              "          )\n",
              "          (output): BertOutput(\n",
              "            (dense): Linear(in_features=3072, out_features=768, bias=True)\n",
              "            (LayerNorm): LayerNorm((768,), eps=1e-05, elementwise_affine=True)\n",
              "            (dropout): Dropout(p=0.1, inplace=False)\n",
              "          )\n",
              "        )\n",
              "        (6): BertLayer(\n",
              "          (attention): BertAttention(\n",
              "            (self): BertSelfAttention(\n",
              "              (query): Linear(in_features=768, out_features=768, bias=True)\n",
              "              (key): Linear(in_features=768, out_features=768, bias=True)\n",
              "              (value): Linear(in_features=768, out_features=768, bias=True)\n",
              "              (dropout): Dropout(p=0.1, inplace=False)\n",
              "            )\n",
              "            (output): BertSelfOutput(\n",
              "              (dense): Linear(in_features=768, out_features=768, bias=True)\n",
              "              (LayerNorm): LayerNorm((768,), eps=1e-05, elementwise_affine=True)\n",
              "              (dropout): Dropout(p=0.1, inplace=False)\n",
              "            )\n",
              "          )\n",
              "          (intermediate): BertIntermediate(\n",
              "            (dense): Linear(in_features=768, out_features=3072, bias=True)\n",
              "          )\n",
              "          (output): BertOutput(\n",
              "            (dense): Linear(in_features=3072, out_features=768, bias=True)\n",
              "            (LayerNorm): LayerNorm((768,), eps=1e-05, elementwise_affine=True)\n",
              "            (dropout): Dropout(p=0.1, inplace=False)\n",
              "          )\n",
              "        )\n",
              "        (7): BertLayer(\n",
              "          (attention): BertAttention(\n",
              "            (self): BertSelfAttention(\n",
              "              (query): Linear(in_features=768, out_features=768, bias=True)\n",
              "              (key): Linear(in_features=768, out_features=768, bias=True)\n",
              "              (value): Linear(in_features=768, out_features=768, bias=True)\n",
              "              (dropout): Dropout(p=0.1, inplace=False)\n",
              "            )\n",
              "            (output): BertSelfOutput(\n",
              "              (dense): Linear(in_features=768, out_features=768, bias=True)\n",
              "              (LayerNorm): LayerNorm((768,), eps=1e-05, elementwise_affine=True)\n",
              "              (dropout): Dropout(p=0.1, inplace=False)\n",
              "            )\n",
              "          )\n",
              "          (intermediate): BertIntermediate(\n",
              "            (dense): Linear(in_features=768, out_features=3072, bias=True)\n",
              "          )\n",
              "          (output): BertOutput(\n",
              "            (dense): Linear(in_features=3072, out_features=768, bias=True)\n",
              "            (LayerNorm): LayerNorm((768,), eps=1e-05, elementwise_affine=True)\n",
              "            (dropout): Dropout(p=0.1, inplace=False)\n",
              "          )\n",
              "        )\n",
              "        (8): BertLayer(\n",
              "          (attention): BertAttention(\n",
              "            (self): BertSelfAttention(\n",
              "              (query): Linear(in_features=768, out_features=768, bias=True)\n",
              "              (key): Linear(in_features=768, out_features=768, bias=True)\n",
              "              (value): Linear(in_features=768, out_features=768, bias=True)\n",
              "              (dropout): Dropout(p=0.1, inplace=False)\n",
              "            )\n",
              "            (output): BertSelfOutput(\n",
              "              (dense): Linear(in_features=768, out_features=768, bias=True)\n",
              "              (LayerNorm): LayerNorm((768,), eps=1e-05, elementwise_affine=True)\n",
              "              (dropout): Dropout(p=0.1, inplace=False)\n",
              "            )\n",
              "          )\n",
              "          (intermediate): BertIntermediate(\n",
              "            (dense): Linear(in_features=768, out_features=3072, bias=True)\n",
              "          )\n",
              "          (output): BertOutput(\n",
              "            (dense): Linear(in_features=3072, out_features=768, bias=True)\n",
              "            (LayerNorm): LayerNorm((768,), eps=1e-05, elementwise_affine=True)\n",
              "            (dropout): Dropout(p=0.1, inplace=False)\n",
              "          )\n",
              "        )\n",
              "        (9): BertLayer(\n",
              "          (attention): BertAttention(\n",
              "            (self): BertSelfAttention(\n",
              "              (query): Linear(in_features=768, out_features=768, bias=True)\n",
              "              (key): Linear(in_features=768, out_features=768, bias=True)\n",
              "              (value): Linear(in_features=768, out_features=768, bias=True)\n",
              "              (dropout): Dropout(p=0.1, inplace=False)\n",
              "            )\n",
              "            (output): BertSelfOutput(\n",
              "              (dense): Linear(in_features=768, out_features=768, bias=True)\n",
              "              (LayerNorm): LayerNorm((768,), eps=1e-05, elementwise_affine=True)\n",
              "              (dropout): Dropout(p=0.1, inplace=False)\n",
              "            )\n",
              "          )\n",
              "          (intermediate): BertIntermediate(\n",
              "            (dense): Linear(in_features=768, out_features=3072, bias=True)\n",
              "          )\n",
              "          (output): BertOutput(\n",
              "            (dense): Linear(in_features=3072, out_features=768, bias=True)\n",
              "            (LayerNorm): LayerNorm((768,), eps=1e-05, elementwise_affine=True)\n",
              "            (dropout): Dropout(p=0.1, inplace=False)\n",
              "          )\n",
              "        )\n",
              "        (10): BertLayer(\n",
              "          (attention): BertAttention(\n",
              "            (self): BertSelfAttention(\n",
              "              (query): Linear(in_features=768, out_features=768, bias=True)\n",
              "              (key): Linear(in_features=768, out_features=768, bias=True)\n",
              "              (value): Linear(in_features=768, out_features=768, bias=True)\n",
              "              (dropout): Dropout(p=0.1, inplace=False)\n",
              "            )\n",
              "            (output): BertSelfOutput(\n",
              "              (dense): Linear(in_features=768, out_features=768, bias=True)\n",
              "              (LayerNorm): LayerNorm((768,), eps=1e-05, elementwise_affine=True)\n",
              "              (dropout): Dropout(p=0.1, inplace=False)\n",
              "            )\n",
              "          )\n",
              "          (intermediate): BertIntermediate(\n",
              "            (dense): Linear(in_features=768, out_features=3072, bias=True)\n",
              "          )\n",
              "          (output): BertOutput(\n",
              "            (dense): Linear(in_features=3072, out_features=768, bias=True)\n",
              "            (LayerNorm): LayerNorm((768,), eps=1e-05, elementwise_affine=True)\n",
              "            (dropout): Dropout(p=0.1, inplace=False)\n",
              "          )\n",
              "        )\n",
              "        (11): BertLayer(\n",
              "          (attention): BertAttention(\n",
              "            (self): BertSelfAttention(\n",
              "              (query): Linear(in_features=768, out_features=768, bias=True)\n",
              "              (key): Linear(in_features=768, out_features=768, bias=True)\n",
              "              (value): Linear(in_features=768, out_features=768, bias=True)\n",
              "              (dropout): Dropout(p=0.1, inplace=False)\n",
              "            )\n",
              "            (output): BertSelfOutput(\n",
              "              (dense): Linear(in_features=768, out_features=768, bias=True)\n",
              "              (LayerNorm): LayerNorm((768,), eps=1e-05, elementwise_affine=True)\n",
              "              (dropout): Dropout(p=0.1, inplace=False)\n",
              "            )\n",
              "          )\n",
              "          (intermediate): BertIntermediate(\n",
              "            (dense): Linear(in_features=768, out_features=3072, bias=True)\n",
              "          )\n",
              "          (output): BertOutput(\n",
              "            (dense): Linear(in_features=3072, out_features=768, bias=True)\n",
              "            (LayerNorm): LayerNorm((768,), eps=1e-05, elementwise_affine=True)\n",
              "            (dropout): Dropout(p=0.1, inplace=False)\n",
              "          )\n",
              "        )\n",
              "      )\n",
              "    )\n",
              "    (pooler): BertPooler(\n",
              "      (dense): Linear(in_features=768, out_features=768, bias=True)\n",
              "      (activation): Tanh()\n",
              "    )\n",
              "  )\n",
              "  (classifier): RobertaClassificationHead(\n",
              "    (dense): Linear(in_features=768, out_features=768, bias=True)\n",
              "    (dropout): Dropout(p=0.1, inplace=False)\n",
              "    (out_proj): Linear(in_features=768, out_features=2, bias=True)\n",
              "  )\n",
              ")"
            ]
          },
          "metadata": {
            "tags": []
          },
          "execution_count": 50
        }
      ]
    },
    {
      "cell_type": "code",
      "metadata": {
        "id": "CInvLzKGu57q",
        "colab_type": "code",
        "colab": {}
      },
      "source": [
        "param_optimizer = list(model.named_parameters())\n",
        "no_decay = ['bias', 'gamma', 'beta']\n",
        "optimizer_grouped_parameters = [\n",
        "    {'params': [p for n, p in param_optimizer if not any(nd in n for nd in no_decay)],\n",
        "     'weight_decay_rate': 0.01},\n",
        "    {'params': [p for n, p in param_optimizer if any(nd in n for nd in no_decay)],\n",
        "     'weight_decay_rate': 0.0}\n",
        "]"
      ],
      "execution_count": 0,
      "outputs": []
    },
    {
      "cell_type": "code",
      "metadata": {
        "id": "6QrAwkHR3_Ut",
        "colab_type": "code",
        "colab": {}
      },
      "source": [
        "from transformers import AdamW"
      ],
      "execution_count": 0,
      "outputs": []
    },
    {
      "cell_type": "code",
      "metadata": {
        "id": "gAupGRJ-u5-O",
        "colab_type": "code",
        "colab": {}
      },
      "source": [
        "# This variable contains all of the hyperparemeter information our training loop needs\n",
        "optimizer = AdamW(optimizer_grouped_parameters,\n",
        "                     lr=2e-5, correct_bias=False\n",
        "                     )\n",
        "# ICI correct bias = False pour garder la même chose "
      ],
      "execution_count": 0,
      "outputs": []
    },
    {
      "cell_type": "code",
      "metadata": {
        "id": "QuLM-3c9u6B-",
        "colab_type": "code",
        "colab": {}
      },
      "source": [
        "def flat_accuracy(preds, labels):\n",
        "    pred_flat = np.argmax(preds, axis=1).flatten()\n",
        "    labels_flat = labels.flatten()\n",
        "    return np.sum(pred_flat == labels_flat) / len(labels_flat)"
      ],
      "execution_count": 0,
      "outputs": []
    },
    {
      "cell_type": "code",
      "metadata": {
        "id": "IFMBFxV4u6ES",
        "colab_type": "code",
        "colab": {
          "base_uri": "https://localhost:8080/",
          "height": 561
        },
        "outputId": "7c67d2cd-bf93-4356-f369-5a1bc0b7a46c"
      },
      "source": [
        "import os\n",
        "os.environ['CUDA_LAUNCH_BLOCKING'] = '1'\n",
        "t = [] \n",
        "\n",
        "# Store our loss and accuracy for plotting\n",
        "train_loss_set = []\n",
        "\n",
        "# Number of training epochs (authors recommend between 2 and 4)\n",
        "epochs = 10\n",
        "\n",
        "# trange is a tqdm wrapper around the normal python range\n",
        "for _ in trange(epochs, desc=\"Epoch\"):\n",
        "  \n",
        "  \n",
        "  # Training\n",
        "  \n",
        "  # Set our model to training mode (as opposed to evaluation mode)\n",
        "  model.train()\n",
        "  \n",
        "  # Tracking variables\n",
        "  tr_loss = 0\n",
        "  nb_tr_examples, nb_tr_steps = 0, 0\n",
        "  \n",
        "  # Train the data for one epoch\n",
        "  for step, batch in enumerate(train_dataloader):\n",
        "    # Add batch to GPU\n",
        "    batch = tuple(t.to(device) for t in batch)\n",
        "    # Unpack the inputs from our dataloader\n",
        "    b_input_ids, b_input_mask, b_labels = batch\n",
        "    # Clear out the gradients (by default they accumulate)\n",
        "    optimizer.zero_grad()\n",
        "    # Forward pass\n",
        "    outputs = model(b_input_ids, token_type_ids=None, attention_mask=b_input_mask, labels=b_labels)\n",
        "    loss = outputs[0]\n",
        "    #TRANSFORMERS CHANGE encore \n",
        "    train_loss_set.append(loss.item())    \n",
        "    # Backward pass\n",
        "    loss.backward()\n",
        "    # Update parameters and take a step using the computed gradient\n",
        "    optimizer.step()\n",
        "    \n",
        "    \n",
        "    # Update tracking variables\n",
        "    tr_loss += loss.item()\n",
        "    nb_tr_examples += b_input_ids.size(0)\n",
        "    nb_tr_steps += 1\n",
        "\n",
        "  print(\"Train loss: {}\".format(tr_loss/nb_tr_steps))\n",
        "    \n",
        "    \n",
        "  # Validation\n",
        "\n",
        "  # Put model in evaluation mode to evaluate loss on the validation set\n",
        "  model.eval()\n",
        "\n",
        "  # Tracking variables \n",
        "  eval_loss, eval_accuracy = 0, 0\n",
        "  nb_eval_steps, nb_eval_examples = 0, 0\n",
        "\n",
        "  # Evaluate data for one epoch\n",
        "  for batch in validation_dataloader:\n",
        "    # Add batch to GPU\n",
        "    batch = tuple(t.to(device) for t in batch)\n",
        "    # Unpack the inputs from our dataloader\n",
        "    b_input_ids, b_input_mask, b_labels = batch\n",
        "    # Telling the model not to compute or store gradients, saving memory and speeding up validation\n",
        "    with torch.no_grad():\n",
        "      # Forward pass, calculate logit predictions\n",
        "      loss_a, logits = outputs[:2]\n",
        "      #logits = model(b_input_ids, token_type_ids=None, attention_mask=b_input_mask)\n",
        "      # TRANSFORMERS CHANGE\n",
        "    \n",
        "    # Move logits and labels to CPU\n",
        "    logits = logits.detach().cpu().numpy()\n",
        "    label_ids = b_labels.to('cpu').numpy()\n",
        "\n",
        "    tmp_eval_accuracy = flat_accuracy(logits, label_ids)\n",
        "    \n",
        "    eval_accuracy += tmp_eval_accuracy\n",
        "    nb_eval_steps += 1\n",
        "\n",
        "  print(\"Validation Accuracy: {}\".format(eval_accuracy/nb_eval_steps))"
      ],
      "execution_count": 60,
      "outputs": [
        {
          "output_type": "stream",
          "text": [
            "\n",
            "Epoch:   0%|          | 0/10 [00:00<?, ?it/s]\u001b[A\n",
            "Epoch:  10%|█         | 1/10 [01:10<10:32, 70.28s/it]\u001b[A"
          ],
          "name": "stderr"
        },
        {
          "output_type": "stream",
          "text": [
            "Train loss: 0.4226915034320619\n",
            "Validation Accuracy: 0.68\n"
          ],
          "name": "stdout"
        },
        {
          "output_type": "stream",
          "text": [
            "\n",
            "Epoch:  20%|██        | 2/10 [02:20<09:22, 70.29s/it]\u001b[A"
          ],
          "name": "stderr"
        },
        {
          "output_type": "stream",
          "text": [
            "Train loss: 0.2780563286940257\n",
            "Validation Accuracy: 0.32\n"
          ],
          "name": "stdout"
        },
        {
          "output_type": "stream",
          "text": [
            "\n",
            "Epoch:  30%|███       | 3/10 [03:30<08:12, 70.29s/it]\u001b[A"
          ],
          "name": "stderr"
        },
        {
          "output_type": "stream",
          "text": [
            "Train loss: 0.19794550637404124\n",
            "Validation Accuracy: 0.68\n"
          ],
          "name": "stdout"
        },
        {
          "output_type": "stream",
          "text": [
            "\n",
            "Epoch:  40%|████      | 4/10 [04:41<07:01, 70.32s/it]\u001b[A"
          ],
          "name": "stderr"
        },
        {
          "output_type": "stream",
          "text": [
            "Train loss: 0.13832648992538452\n",
            "Validation Accuracy: 0.32\n"
          ],
          "name": "stdout"
        },
        {
          "output_type": "stream",
          "text": [
            "\n",
            "Epoch:  50%|█████     | 5/10 [05:51<05:51, 70.34s/it]\u001b[A"
          ],
          "name": "stderr"
        },
        {
          "output_type": "stream",
          "text": [
            "Train loss: 0.05928610914283328\n",
            "Validation Accuracy: 0.68\n"
          ],
          "name": "stdout"
        },
        {
          "output_type": "stream",
          "text": [
            "\n",
            "Epoch:  60%|██████    | 6/10 [07:01<04:41, 70.32s/it]\u001b[A"
          ],
          "name": "stderr"
        },
        {
          "output_type": "stream",
          "text": [
            "Train loss: 0.0454540941450331\n",
            "Validation Accuracy: 0.68\n"
          ],
          "name": "stdout"
        },
        {
          "output_type": "stream",
          "text": [
            "\n",
            "Epoch:  70%|███████   | 7/10 [08:12<03:31, 70.34s/it]\u001b[A"
          ],
          "name": "stderr"
        },
        {
          "output_type": "stream",
          "text": [
            "Train loss: 0.06574820326434241\n",
            "Validation Accuracy: 0.68\n"
          ],
          "name": "stdout"
        },
        {
          "output_type": "stream",
          "text": [
            "\n",
            "Epoch:  80%|████████  | 8/10 [09:22<02:20, 70.37s/it]\u001b[A"
          ],
          "name": "stderr"
        },
        {
          "output_type": "stream",
          "text": [
            "Train loss: 0.14772401253382364\n",
            "Validation Accuracy: 0.68\n"
          ],
          "name": "stdout"
        },
        {
          "output_type": "stream",
          "text": [
            "\n",
            "Epoch:  90%|█████████ | 9/10 [10:33<01:10, 70.39s/it]\u001b[A"
          ],
          "name": "stderr"
        },
        {
          "output_type": "stream",
          "text": [
            "Train loss: 0.053435826235347324\n",
            "Validation Accuracy: 0.68\n"
          ],
          "name": "stdout"
        },
        {
          "output_type": "stream",
          "text": [
            "\n",
            "Epoch: 100%|██████████| 10/10 [11:43<00:00, 70.40s/it]\u001b[A\n",
            "\u001b[A"
          ],
          "name": "stderr"
        },
        {
          "output_type": "stream",
          "text": [
            "Train loss: 0.02168108794424269\n",
            "Validation Accuracy: 0.32\n"
          ],
          "name": "stdout"
        }
      ]
    },
    {
      "cell_type": "code",
      "metadata": {
        "id": "YKItuGFku6Hm",
        "colab_type": "code",
        "colab": {
          "base_uri": "https://localhost:8080/",
          "height": 513
        },
        "outputId": "24c4e382-afee-4836-b9ff-f5aae6ef5afb"
      },
      "source": [
        "plt.figure(figsize=(15,8))\n",
        "plt.title(\"Training loss\")\n",
        "plt.xlabel(\"Batch\")\n",
        "plt.ylabel(\"Loss\")\n",
        "plt.plot(train_loss_set)\n",
        "plt.show()"
      ],
      "execution_count": 61,
      "outputs": [
        {
          "output_type": "display_data",
          "data": {
            "image/png": "[encoded data removed]",
            "text/plain": [
              "<Figure size 1080x576 with 1 Axes>"
            ]
          },
          "metadata": {
            "tags": []
          }
        }
      ]
    },
    {
      "cell_type": "code",
      "metadata": {
        "id": "gJR_XWEhu6Ap",
        "colab_type": "code",
        "colab": {}
      },
      "source": [
        ""
      ],
      "execution_count": 0,
      "outputs": []
    }
  ]
}